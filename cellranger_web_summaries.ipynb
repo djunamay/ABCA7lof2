{
 "cells": [
  {
   "cell_type": "code",
   "execution_count": 290,
   "id": "a91ed98d-94dc-4e97-96f1-778b721100ce",
   "metadata": {},
   "outputs": [],
   "source": [
    "import glob\n",
    "paths = []\n",
    "#root_dir = r\"/home/gridsan/djuna/homer/github/ABCA7lof2/raw_data/cellranger_counts_out\"\n",
    "for path in glob.glob('./raw_data/cellranger_counts_out/**/outs/web_summary.html', recursive=True):\n",
    "    #paths.append(path)\n",
    "    #IFrame(path, width=600, height=500)\n",
    "    paths.append(path)"
   ]
  },
  {
   "cell_type": "code",
   "execution_count": 303,
   "id": "94c62853-7ded-4149-86ed-b8acdaa5f681",
   "metadata": {},
   "outputs": [
    {
     "data": {
      "text/html": [
       "\n",
       "        <iframe\n",
       "            width=\"600\"\n",
       "            height=\"500\"\n",
       "            src=\"./raw_data/cellranger_counts_out/D20-7457/outs/web_summary.html\"\n",
       "            frameborder=\"0\"\n",
       "            allowfullscreen\n",
       "            \n",
       "        ></iframe>\n",
       "        "
      ],
      "text/plain": [
       "<IPython.lib.display.IFrame at 0x7f402001ec70>"
      ]
     },
     "execution_count": 303,
     "metadata": {},
     "output_type": "execute_result"
    }
   ],
   "source": [
    "from IPython.display import IFrame\n",
    "\n",
    "IFrame(paths[39], width=600, height=500)\n"
   ]
  },
  {
   "cell_type": "code",
   "execution_count": 301,
   "id": "9355a3a0-9154-4e9e-98b9-6fcca3d1fe70",
   "metadata": {},
   "outputs": [
    {
     "data": {
      "text/plain": [
       "['./raw_data/cellranger_counts_out/D20-7452/outs/web_summary.html',\n",
       " './raw_data/cellranger_counts_out/D20-7437/outs/web_summary.html',\n",
       " './raw_data/cellranger_counts_out/D20-7448/outs/web_summary.html',\n",
       " './raw_data/cellranger_counts_out/D17-8758/outs/web_summary.html',\n",
       " './raw_data/cellranger_counts_out/D17-8772/outs/web_summary.html',\n",
       " './raw_data/cellranger_counts_out/D20-7436/outs/web_summary.html',\n",
       " './raw_data/cellranger_counts_out/D17-8768/outs/web_summary.html',\n",
       " './raw_data/cellranger_counts_out/D20-7453/outs/web_summary.html',\n",
       " './raw_data/cellranger_counts_out/D20-7442/outs/web_summary.html',\n",
       " './raw_data/cellranger_counts_out/D17-8790/outs/web_summary.html',\n",
       " './raw_data/cellranger_counts_out/D20-7440/outs/web_summary.html',\n",
       " './raw_data/cellranger_counts_out/D20-7444/outs/web_summary.html',\n",
       " './raw_data/cellranger_counts_out/D20-7450/outs/web_summary.html',\n",
       " './raw_data/cellranger_counts_out/D20-7435/outs/web_summary.html',\n",
       " './raw_data/cellranger_counts_out/D17-8796/outs/web_summary.html',\n",
       " './raw_data/cellranger_counts_out/D17-8778/outs/web_summary.html',\n",
       " './raw_data/cellranger_counts_out/D20-7434/outs/web_summary.html',\n",
       " './raw_data/cellranger_counts_out/D17-8782/outs/web_summary.html',\n",
       " './raw_data/cellranger_counts_out/D20-7432/outs/web_summary.html',\n",
       " './raw_data/cellranger_counts_out/D17-8800/outs/web_summary.html',\n",
       " './raw_data/cellranger_counts_out/D20-7455/outs/web_summary.html',\n",
       " './raw_data/cellranger_counts_out/D20-7458/outs/web_summary.html',\n",
       " './raw_data/cellranger_counts_out/D20-7439/outs/web_summary.html',\n",
       " './raw_data/cellranger_counts_out/D17-8766/outs/web_summary.html',\n",
       " './raw_data/cellranger_counts_out/D17-8792/outs/web_summary.html',\n",
       " './raw_data/cellranger_counts_out/D17-8776/outs/web_summary.html',\n",
       " './raw_data/cellranger_counts_out/D17-8754/outs/web_summary.html',\n",
       " './raw_data/cellranger_counts_out/D20-7451/outs/web_summary.html',\n",
       " './raw_data/cellranger_counts_out/D20-7446/outs/web_summary.html',\n",
       " './raw_data/cellranger_counts_out/D17-8760/outs/web_summary.html',\n",
       " './raw_data/cellranger_counts_out/D17-8764/outs/web_summary.html',\n",
       " './raw_data/cellranger_counts_out/D20-7456/outs/web_summary.html',\n",
       " './raw_data/cellranger_counts_out/D20-7445/outs/web_summary.html',\n",
       " './raw_data/cellranger_counts_out/D17-8756/outs/web_summary.html',\n",
       " './raw_data/cellranger_counts_out/D20-7433/outs/web_summary.html',\n",
       " './raw_data/cellranger_counts_out/D20-7441/outs/web_summary.html',\n",
       " './raw_data/cellranger_counts_out/D20-7447/outs/web_summary.html',\n",
       " './raw_data/cellranger_counts_out/D20-7443/outs/web_summary.html',\n",
       " './raw_data/cellranger_counts_out/D17-8786/outs/web_summary.html',\n",
       " './raw_data/cellranger_counts_out/D20-7457/outs/web_summary.html',\n",
       " './raw_data/cellranger_counts_out/D20-7438/outs/web_summary.html',\n",
       " './raw_data/cellranger_counts_out/D20-7454/outs/web_summary.html']"
      ]
     },
     "execution_count": 301,
     "metadata": {},
     "output_type": "execute_result"
    }
   ],
   "source": [
    "paths"
   ]
  }
 ],
 "metadata": {
  "kernelspec": {
   "display_name": "Python 3 (ipykernel)",
   "language": "python",
   "name": "python3"
  },
  "language_info": {
   "codemirror_mode": {
    "name": "ipython",
    "version": 3
   },
   "file_extension": ".py",
   "mimetype": "text/x-python",
   "name": "python",
   "nbconvert_exporter": "python",
   "pygments_lexer": "ipython3",
   "version": "3.8.13"
  }
 },
 "nbformat": 4,
 "nbformat_minor": 5
}

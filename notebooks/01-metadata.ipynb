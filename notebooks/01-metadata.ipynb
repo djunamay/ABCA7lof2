{
 "cells": [
  {
   "cell_type": "markdown",
   "id": "9201f895-469e-4002-9485-0188d48f2e39",
   "metadata": {},
   "source": [
    "# Compile all post-mortem metadata of interest\n",
    "#### This notebook extracts metadata (including genomic variant info) for post-mortem samples and matches it to the snRNAseq library IDs and saves a per-sample metadata file"
   ]
  },
  {
   "cell_type": "code",
   "execution_count": 39,
   "id": "c9a47bba-b9a7-4466-8faf-1c3dede22bb0",
   "metadata": {},
   "outputs": [],
   "source": [
    "# load the libraries\n",
    "import pandas as pd\n",
    "import numpy as np"
   ]
  },
  {
   "cell_type": "markdown",
   "id": "fba8be84-5b1e-4ef4-a734-b6d4f41741c6",
   "metadata": {},
   "source": [
    "#### Load the data"
   ]
  },
  {
   "cell_type": "code",
   "execution_count": 40,
   "id": "3afe9a3e-97af-4be9-b519-4fa37e79efc9",
   "metadata": {},
   "outputs": [
    {
     "name": "stderr",
     "output_type": "stream",
     "text": [
      "/state/partition1/llgrid/pkg/anaconda/anaconda3-2022a/lib/python3.8/site-packages/openpyxl/styles/stylesheet.py:226: UserWarning: Workbook contains no default style, apply openpyxl's default\n",
      "  warn(\"Workbook contains no default style, apply openpyxl's default\")\n"
     ]
    }
   ],
   "source": [
    "# load data\n",
    "full_metadata = pd.read_excel('./raw_data/metadata/dataset_1282_basic_06-16-2023.xlsx')\n",
    "full_metadata = full_metadata[['projid', 'study', 'pmi', 'age_death', 'msex', 'amyloid',  'ceradsc',  'nft', 'braaksc', 'cogdx', 'niareagansc', 'ad_reagan', 'apoe_genotype']]\n",
    "bmc_ids = pd.read_csv('./raw_data/metadata/BMC_sample_id_conversion.csv')\n",
    "our_sample_ids = pd.read_csv('./raw_data/metadata/sample_IDs_ABCA7-LOF_PFC.csv')\n",
    "lof_annotation = pd.read_csv('./raw_data/metadata/ABCA7_samples.nLOF.tsv', sep = '\\t')\n",
    "batch2_ids = pd.read_csv('./raw_data/metadata/Fastq_paths_432_PFC_HM_updated.csv')\n",
    "\n",
    "colnames = full_metadata.columns[1:]\n",
    "dictionary2 = dict(zip(full_metadata['projid'], np.array(full_metadata[colnames])))\n",
    "\n",
    "prefix = '/home/gridsan/djuna/homer/github/ABCA7lof2/raw_data/cellranger_counts_out/'\n",
    "suffix = '/outs/molecule_info.h5'"
   ]
  },
  {
   "cell_type": "markdown",
   "id": "84ada563-aeeb-44fe-aba0-b376815bbade",
   "metadata": {},
   "source": [
    "#### get metadata for batch 1 and 2"
   ]
  },
  {
   "cell_type": "code",
   "execution_count": 41,
   "id": "2a966153-48b5-4e54-aac8-2b1f1d3e60c3",
   "metadata": {},
   "outputs": [],
   "source": [
    "# batch 1 metadata\n",
    "bmc_ids = bmc_ids[bmc_ids['flowcell']=='4819F']\n",
    "library_id = [y.split(' ')[-1] for y in [x.split(' : ')[0] for x in bmc_ids['sample_ID']]]\n",
    "sample_number = [y.split(' (')[0] for y in [x.split(' : ')[1] for x in bmc_ids['sample_ID']]]\n",
    "dictionary = dict(zip(our_sample_ids['JMB ID'], our_sample_ids['PROJID']))\n",
    "projids = [dictionary[int(x)] for x in sample_number]\n",
    "\n",
    "path = [prefix+x+suffix for x in library_id]\n",
    "\n",
    "meta = np.concatenate((np.array(projids).reshape(-1,1), np.array(library_id).reshape(-1,1), np.array(path).reshape(-1,1), np.stack([dictionary2[x] for x in projids])), axis = 1)\n",
    "df = pd.DataFrame(meta)\n",
    "df.columns = np.concatenate((np.array(['projid', 'sample_id', 'molecule_h5']), np.array(colnames)))\n",
    "df['seq_batch'] = 'JBM'"
   ]
  },
  {
   "cell_type": "code",
   "execution_count": 42,
   "id": "fd62cdd5-9414-432d-8230-f2ae755c5e0d",
   "metadata": {},
   "outputs": [],
   "source": [
    "# batch 2 metadata\n",
    "all_proj = lof_annotation['projid']\n",
    "batch1_proj = set(df['projid'])\n",
    "batch2_proj = all_proj[[x not in batch1_proj for x in all_proj]]\n",
    "\n",
    "temp = batch2_ids[[x in set(batch2_proj) for x in batch2_ids['projid']]]\n",
    "dictionary3 = dict(zip(temp['projid'], temp['Library_ID']))\n",
    "library_id = [dictionary3[x] for x in batch2_proj]\n",
    "path = [prefix+x+suffix for x in library_id]\n",
    "meta2 = np.concatenate((np.array(batch2_proj).reshape(-1,1), np.array(library_id).reshape(-1,1), np.array(path).reshape(-1,1), np.stack([dictionary2[x] for x in batch2_proj])), axis = 1)\n",
    "df2 = pd.DataFrame(meta2)\n",
    "df2.columns = np.concatenate((np.array(['projid', 'sample_id', 'molecule_h5']), np.array(colnames)))\n",
    "df2['seq_batch'] = '171013Tsa'"
   ]
  },
  {
   "cell_type": "markdown",
   "id": "a55b8060-f33c-4ee7-b86a-ab4775cc6caa",
   "metadata": {},
   "source": [
    "#### combine all the metadata across batches"
   ]
  },
  {
   "cell_type": "code",
   "execution_count": 43,
   "id": "5ad26a6d-1073-46da-a5ca-0d38030ad1c3",
   "metadata": {},
   "outputs": [],
   "source": [
    "all_metadata = pd.concat((df, df2), axis=0)\n",
    "rosmap_clinical = pd.read_csv('./raw_data/metadata/ROSMAP_clinical.csv')\n",
    "dictionary4 = dict(zip(rosmap_clinical['projid'], rosmap_clinical['individualID']))\n",
    "all_metadata['individualID'] = [dictionary4[x] for x in all_metadata['projid']]"
   ]
  },
  {
   "cell_type": "markdown",
   "id": "822457ff-ca32-44a0-851e-b05699ee9864",
   "metadata": {},
   "source": [
    "#### extract the variant information"
   ]
  },
  {
   "cell_type": "code",
   "execution_count": 44,
   "id": "247a7d81-9c08-47f0-9b2b-060f8d5f8687",
   "metadata": {},
   "outputs": [],
   "source": [
    "# get high quality WGSids corresponding to selected samples\n",
    "wgs_qc = pd.read_csv('./raw_data/metadata/WGS_sample_QC_info.csv')\n",
    "wgs_qc_pass = wgs_qc[wgs_qc['QC']=='Pass']\n",
    "wgs_qc_pass = wgs_qc_pass.sort_values('GQN', ascending = False)\n",
    "wgs_qc_pass = wgs_qc_pass[np.invert(wgs_qc_pass.duplicated('projid', keep='first'))]\n",
    "dictionary5 = dict(zip(wgs_qc_pass['projid'], wgs_qc_pass['WGS_id']))\n",
    "all_metadata['WGSid'] = [dictionary5[x] for x in all_metadata['projid']]"
   ]
  },
  {
   "cell_type": "code",
   "execution_count": 45,
   "id": "7c8374b0-7d13-4201-9332-f5ada684047e",
   "metadata": {},
   "outputs": [
    {
     "name": "stderr",
     "output_type": "stream",
     "text": [
      "/state/partition1/slurm_tmp/23875800.0.0/ipykernel_1280076/779517469.py:2: DtypeWarning: Columns (6,20,21,22) have mixed types. Specify dtype option on import or set low_memory=False.\n",
      "  variant_info = pd.read_csv('./raw_data/ROSMAP_WGS/HIGHandMED_coding_annotations_syn11724057_subset.csv', index_col=0)\n"
     ]
    }
   ],
   "source": [
    "# get variant info\n",
    "variant_info = pd.read_csv('./raw_data/ROSMAP_WGS/HIGHandMED_coding_annotations_syn11724057_subset.csv', index_col=0)\n",
    "\n",
    "keep = set(['splice_region_variant&intron_variant',\n",
    "       'missense_variant&splice_region_variant',\n",
    "       'splice_region_variant',\n",
    "       'frameshift_variant', \n",
    "       'splice_acceptor_variant&intron_variant',\n",
    "       'stop_gained',\n",
    "       '5_prime_UTR_premature_start_codon_gain_variant',\n",
    "       'splice_donor_variant&intron_variant',\n",
    "       'frameshift_variant&splice_region_variant']) # keep potentially high-impact variants\n",
    "\n",
    "variant_subset = variant_info[[x in keep for x in variant_info['EFFECT']]]\n",
    "\n",
    "genes = set(['SORL1', 'TREM2', 'ABCA7', 'ATP8B4', 'ABCA1', 'ADAM10'])\n",
    "variant_subset = variant_subset[[x in genes for x in variant_subset['GENE']]]\n",
    "variant_subset = variant_subset[variant_subset['FILTER_PASS']]"
   ]
  },
  {
   "cell_type": "code",
   "execution_count": 87,
   "id": "6a60252f-8ce5-47ad-9426-b552d7c6e091",
   "metadata": {},
   "outputs": [],
   "source": [
    "# split info and genotypes\n",
    "colnames = ['CHROM',\n",
    " 'POS',\n",
    " 'REF_x',\n",
    " 'ALT_0',\n",
    " 'ALT_1',\n",
    " 'ALT_2',\n",
    " 'ID',\n",
    " 'REF_y',\n",
    " 'ALT',\n",
    " 'EFFECT',\n",
    " 'IMPACT',\n",
    " 'GENE',\n",
    " 'GENEID',\n",
    " 'HGVS_C',\n",
    " 'HGVC_P',\n",
    " 'LOF',\n",
    " 'NMD',\n",
    " 'MAF']\n",
    "\n",
    "colnames2 = ['CHROM',\n",
    " 'POS',\n",
    " 'REF_x',\n",
    " 'ALT_0',\n",
    " 'ALT_1',\n",
    " 'ALT_2',\n",
    " 'FILTER_PASS',\n",
    " 'numalt',\n",
    " 'AF_0',\n",
    " 'AF_1',\n",
    " 'AF_2',\n",
    " 'ID',\n",
    " 'REF_y',\n",
    " 'ALT',\n",
    " 'EFFECT',\n",
    " 'IMPACT',\n",
    " 'GENE',\n",
    " 'GENEID',\n",
    " 'HGVS_C',\n",
    " 'HGVC_P',\n",
    " 'LOF',\n",
    " 'NMD',\n",
    " '1000Gp3_AF',\n",
    " 'N -1/-1',\n",
    " 'N 0/0',\n",
    " 'N 0/1',\n",
    " 'N 0/2',\n",
    " 'N 0/3',\n",
    " 'N 0/4',\n",
    " 'N 0/5',\n",
    " 'N 0/6',\n",
    " 'N 1/1',\n",
    " 'N 1/2',\n",
    " 'N 1/3',\n",
    " 'N 1/4',\n",
    " 'N 1/5',\n",
    " 'N 1/6',\n",
    " 'N 2/2',\n",
    " 'N 2/3',\n",
    " 'N 2/4',\n",
    " 'N 2/5',\n",
    " 'N 2/6',\n",
    " 'N 3/3',\n",
    " 'N 3/4',\n",
    " 'N 3/5',\n",
    " 'N 3/6',\n",
    " 'N 4/4',\n",
    " 'N 4/5',\n",
    " 'N 4/6',\n",
    " 'N 5/5',\n",
    " 'N 5/6',\n",
    " 'N 6/6',\n",
    " 'MAF']\n",
    "\n",
    "variant_subset_info = variant_subset[colnames]\n",
    "variant_subset_geno = variant_subset[variant_subset.columns[[x not in set(colnames2) for x in variant_subset.columns]]]\n",
    "\n"
   ]
  },
  {
   "cell_type": "code",
   "execution_count": 103,
   "id": "acac2afe-e67d-449d-b875-cf091ccd45b5",
   "metadata": {},
   "outputs": [],
   "source": [
    "# select potential LOF variants\n",
    "index = np.invert(variant_subset_info['LOF'].isnull())\n",
    "# add Steinberg variant\n",
    "index2 = variant_subset_info['HGVS_C']=='c.5570+5G>C'\n",
    "index_all = index | index2\n",
    "\n",
    "variant_subset_info_LOF = variant_subset_info[index_all]\n",
    "variant_subset_geno_LOF = variant_subset_geno[index_all]\n",
    "variant_subset_geno_LOF_our_samples = variant_subset_geno_LOF[all_metadata['WGSid']]\n",
    "\n",
    "# add frequency of LOF variant-carriers to metadata\n",
    "all_metadata['ABCA7LoF'] = np.array((variant_subset_geno_LOF_our_samples[variant_subset_info_LOF['GENE']=='ABCA7']!='0/0').sum(axis=0))\n",
    "all_metadata['TREM2High'] = np.array((variant_subset_geno_LOF_our_samples[variant_subset_info_LOF['GENE']=='TREM2']!='0/0').sum(axis=0))\n",
    "all_metadata['ABCA1High'] = np.array((variant_subset_geno_LOF_our_samples[variant_subset_info_LOF['GENE']=='ABCA1']!='0/0').sum(axis=0))\n",
    "all_metadata['ADAM10High'] = np.array((variant_subset_geno_LOF_our_samples[variant_subset_info_LOF['GENE']=='ADAM10']!='0/0').sum(axis=0))\n",
    "all_metadata['ATP8B4High'] = np.array((variant_subset_geno_LOF_our_samples[variant_subset_info_LOF['GENE']=='ATP8B4']!='0/0').sum(axis=0))\n",
    "all_metadata['SORL1High'] = np.array((variant_subset_geno_LOF_our_samples[variant_subset_info_LOF['GENE']=='SORL1']!='0/0').sum(axis=0))"
   ]
  },
  {
   "cell_type": "markdown",
   "id": "4a826371-c6d6-42e9-9e70-7527d5c97302",
   "metadata": {},
   "source": [
    "#### save the data"
   ]
  },
  {
   "cell_type": "code",
   "execution_count": 96,
   "id": "d892167f-2af3-43dc-9638-b7c5647234cf",
   "metadata": {},
   "outputs": [],
   "source": [
    "# save supplementary table\n",
    "variant_subset_info.to_csv('./supplementary_tables/datax.csv')"
   ]
  },
  {
   "cell_type": "code",
   "execution_count": 10,
   "id": "dc8b867f-2f0a-4901-8bf7-0e94fc1baaea",
   "metadata": {},
   "outputs": [],
   "source": [
    "# save data\n",
    "var_info = pd.concat((variant_subset_info, variant_subset_geno), axis = 1)\n",
    "\n",
    "var_info.to_csv('./raw_data/metadata/single_cell_individual_LOF_info.csv')\n",
    "var_info.to_csv('./supplementary_tables/data_s1.csv')"
   ]
  },
  {
   "cell_type": "code",
   "execution_count": 38,
   "id": "e29d2f91-769d-40dc-800d-9646e669f5b1",
   "metadata": {
    "collapsed": true,
    "jupyter": {
     "outputs_hidden": true
    },
    "tags": []
   },
   "outputs": [
    {
     "name": "stderr",
     "output_type": "stream",
     "text": [
      "/state/partition1/slurm_tmp/23875800.0.0/ipykernel_1280076/2770337321.py:12: SettingWithCopyWarning: \n",
      "A value is trying to be set on a copy of a slice from a DataFrame.\n",
      "Try using .loc[row_indexer,col_indexer] = value instead\n",
      "\n",
      "See the caveats in the documentation: https://pandas.pydata.org/pandas-docs/stable/user_guide/indexing.html#returning-a-view-versus-a-copy\n",
      "  temp['seq_batch'] = ['batch_1' if x=='JBM' else 'batch_2' for x in temp['seq_batch']]\n",
      "/state/partition1/slurm_tmp/23875800.0.0/ipykernel_1280076/2770337321.py:13: SettingWithCopyWarning: \n",
      "A value is trying to be set on a copy of a slice from a DataFrame.\n",
      "Try using .loc[row_indexer,col_indexer] = value instead\n",
      "\n",
      "See the caveats in the documentation: https://pandas.pydata.org/pandas-docs/stable/user_guide/indexing.html#returning-a-view-versus-a-copy\n",
      "  temp['age_death'] = [int(x) for x in temp['age_death']]\n",
      "/state/partition1/slurm_tmp/23875800.0.0/ipykernel_1280076/2770337321.py:14: SettingWithCopyWarning: \n",
      "A value is trying to be set on a copy of a slice from a DataFrame.\n",
      "Try using .loc[row_indexer,col_indexer] = value instead\n",
      "\n",
      "See the caveats in the documentation: https://pandas.pydata.org/pandas-docs/stable/user_guide/indexing.html#returning-a-view-versus-a-copy\n",
      "  temp['pmi'] = [int(x) for x in temp['pmi']]\n",
      "/state/partition1/slurm_tmp/23875800.0.0/ipykernel_1280076/2770337321.py:15: SettingWithCopyWarning: \n",
      "A value is trying to be set on a copy of a slice from a DataFrame.\n",
      "Try using .loc[row_indexer,col_indexer] = value instead\n",
      "\n",
      "See the caveats in the documentation: https://pandas.pydata.org/pandas-docs/stable/user_guide/indexing.html#returning-a-view-versus-a-copy\n",
      "  temp['age_death'] = ['>90' if x>90 else x for x in temp['age_death']]\n"
     ]
    }
   ],
   "source": [
    "# save metadata\n",
    "\n",
    "all_metadata.to_csv('./raw_data/metadata/single_cell_individual_metadata.csv')\n",
    "\n",
    "# deidentifying the metadata \n",
    "n = ['sample_id','WGSid','study', 'pmi', 'age_death',\n",
    "       'msex', 'amyloid', 'ceradsc', 'nft', 'braaksc', 'cogdx', 'niareagansc',\n",
    "       'ad_reagan', 'apoe_genotype', 'seq_batch',\n",
    "       'ABCA7LoF', 'TREM2High', 'ABCA1High', 'ADAM10High', 'ATP8B4High',\n",
    "       'SORL1High']\n",
    "temp = all_metadata[n]\n",
    "temp['seq_batch'] = ['batch_1' if x=='JBM' else 'batch_2' for x in temp['seq_batch']]\n",
    "temp['age_death'] = [int(x) for x in temp['age_death']]\n",
    "temp['pmi'] = [int(x) for x in temp['pmi']]\n",
    "temp['age_death'] = ['>90' if x>90 else x for x in temp['age_death']]\n",
    "\n",
    "temp.to_csv('./supplementary_tables/data_s2.csv')\n"
   ]
  },
  {
   "cell_type": "code",
   "execution_count": 54,
   "id": "c8e617ad-947e-4a0f-a302-171339f82d01",
   "metadata": {},
   "outputs": [],
   "source": [
    "# also save variant info for all individuals\n",
    "variant_subset_geno\n",
    "dictionary6 = dict(zip(dictionary5.values(), dictionary5.keys()))\n",
    "\n",
    "variant_subset_geno_LOF2 = variant_subset_geno_LOF[np.array(list(dictionary6.keys()))]\n",
    "variant_subset_geno_LOF2.columns = [dictionary6[x] for x in variant_subset_geno_LOF2.columns if x ]\n",
    "vars_temp = np.array((variant_subset_geno_LOF2[variant_subset_info_LOF['GENE']=='ABCA7']!='0/0').sum(axis=0))\n",
    "\n",
    "df = pd.DataFrame(np.concatenate((np.array(variant_subset_geno_LOF2.columns).reshape(-1,1), vars_temp.reshape(-1,1)), axis = 1))\n",
    "df.columns = ['projid', 'ABCA7LoF']\n",
    "\n",
    "len(np.unique(np.array(variant_subset_geno_LOF2.columns)))==variant_subset_geno_LOF2.shape[1]\n",
    "\n",
    "df2 = pd.concat((variant_subset_info_LOF, variant_subset_geno_LOF2), axis = 1)\n",
    "\n",
    "df2.to_csv('./processed_data/rosmap_proteomics/all_samples_lof_genotypes.csv')\n",
    "df.to_csv('./processed_data/rosmap_proteomics/all_samples_lof_summary.csv')"
   ]
  }
 ],
 "metadata": {
  "kernelspec": {
   "display_name": "Python 3 (ipykernel)",
   "language": "python",
   "name": "python3"
  },
  "language_info": {
   "codemirror_mode": {
    "name": "ipython",
    "version": 3
   },
   "file_extension": ".py",
   "mimetype": "text/x-python",
   "name": "python",
   "nbconvert_exporter": "python",
   "pygments_lexer": "ipython3",
   "version": "3.8.13"
  }
 },
 "nbformat": 4,
 "nbformat_minor": 5
}

{
 "cells": [
  {
   "cell_type": "code",
   "execution_count": 4,
   "id": "7c622181-afbd-4ee4-8fb3-73c3054a202e",
   "metadata": {},
   "outputs": [],
   "source": [
    "# load packages\n",
    "library(edgeR)\n",
    "library(sva)\n",
    "library(fgsea)\n",
    "library(tidyr)\n",
    "source('../ABCA7lof2//degs.r')\n",
    "set.seed(5)"
   ]
  },
  {
   "cell_type": "code",
   "execution_count": 5,
   "id": "6fb0b836-3853-4822-910b-aa5c9ba62541",
   "metadata": {},
   "outputs": [],
   "source": [
    "# functions\n",
    "compute_degs = function (counts.df, mod1, mod0,var, n.sv = NULL)\n",
    "{\n",
    "    dge <- DGEList(counts = counts.df)\n",
    "    dge <- calcNormFactors(dge)\n",
    "\n",
    "    v <- voom(dge, design = mod1)\n",
    "    if (is.null(n.sv)) {\n",
    "        n.sv <- num.sv(v$E, mod1, method = \"be\")\n",
    "    }\n",
    "    svobj <- sva(v$E, mod1, mod0, n.sv = n.sv)\n",
    "    mod1 <- cbind(mod1, svobj$sv)\n",
    "    v <- voom(dge, design = mod1)\n",
    "    fit <- lmFit(v, design = mod1)\n",
    "    fit <- eBayes(fit)\n",
    "    #res1 <- topTable(fit, coef = \"rs3752246\", n = Inf, sort.by = \"p\")\n",
    "    res1 <- topTable(fit, coef =var, n = Inf, sort.by = \"p\")\n",
    "    return(list(res1 = res1, C = svobj$sv, mod=mod1))\n",
    "}"
   ]
  },
  {
   "cell_type": "code",
   "execution_count": 7,
   "id": "c25af316-ca7d-4d78-9451-7ae282fd8022",
   "metadata": {
    "tags": []
   },
   "outputs": [
    {
     "name": "stderr",
     "output_type": "stream",
     "text": [
      "Warning message in FUN(newX[, i], ...):\n",
      "“NAs introduced by coercion”\n",
      "Warning message in FUN(newX[, i], ...):\n",
      "“NAs introduced by coercion”\n",
      "Warning message in FUN(newX[, i], ...):\n",
      "“NAs introduced by coercion”\n",
      "Warning message in FUN(newX[, i], ...):\n",
      "“NAs introduced by coercion”\n",
      "Warning message in FUN(newX[, i], ...):\n",
      "“NAs introduced by coercion”\n",
      "Warning message in FUN(newX[, i], ...):\n",
      "“NAs introduced by coercion”\n"
     ]
    }
   ],
   "source": [
    "# load Henne Holstege et al data\n",
    "df = read.csv('../processed_data/holstege_et_al//41588_2022_1208_MOESM4_ESM.csv', skip = 2, header = TRUE)\n",
    "\n",
    "# merge with ABCA7 variant info\n",
    "variant_info = read.csv('../raw_data/ROSMAP_WGS/HIGHandMED_coding_annotations_syn11724057_subset.csv', check.names=FALSE)\n",
    "variant_info$Variant = paste0(variant_info$CHROM,':',variant_info$POS,':',variant_info$REF_x, '>', variant_info$ALT_0)\n",
    "df = df[,c('Variant', 'REVEL', 'LOF')]\n",
    "var_info = merge(variant_info, df, by = 'Variant')\n",
    "var_info = var_info[var_info$GENE=='ABCA7',]\n",
    "\n",
    "\n",
    "# # add variant categorization info\n",
    "# var_info$REVEL[is.na(var_info$REVEL)] = 0\n",
    "# var_info$stage1 = ifelse(var_info$LOF.y==1, 1, 0)\n",
    "# var_info$stage2 = ifelse(((var_info$LOF.y==1) | (var_info$REVEL>=.75)), 1, 0)\n",
    "# var_info$stage3 = ifelse(((var_info$LOF.y==1) | (var_info$REVEL>=.50)), 1, 0)\n",
    "# var_info$stage4 = ifelse(((var_info$LOF.y==1) | (var_info$REVEL>=.25)), 1, 0)\n",
    "# var_info$stage5 = ifelse(((var_info$LOF.y==1) | (var_info$REVEL>=.40)), 1, 0)\n",
    "# var_info$stage6 = ifelse(((var_info$LOF.y==1) | (var_info$REVEL>=.30)), 1, 0)\n",
    "# var_info$stage7 = ifelse(((var_info$LOF.y==1) | (var_info$REVEL>=.20)), 1, 0)\n",
    "\n",
    "# # # # subset var_info\n",
    "#var_info = var_info[(var_info$EFFECT=='missense_variant') & var_info$MAF<0.05,]\n",
    "\n",
    "# # compute / add burden scores\n",
    "#stages = var_info[,c('LOF.y', 'stage1', 'stage2', 'stage3', 'stage4', 'stage5', 'stage6', 'stage7')]\n",
    "\n",
    "genotypes = var_info[,unlist(lapply(names(var_info), function(x) sum(startsWith(x, c('ROS', 'MAP', 'SM')))))>0]\n",
    "genotypes[genotypes=='0/0']=0\n",
    "genotypes[genotypes=='0/1']=1\n",
    "genotypes[genotypes=='1/0']=1\n",
    "genotypes[genotypes=='1/1']=2\n",
    "df = apply(genotypes,2, function(x){as.numeric(x)})\n",
    "\n",
    "variant_categories = as.data.frame(colSums(df[var_info$LOF.y==1,]))\n",
    "# variant_categories$stage1 = colSums(df[stages$stage1==1,])\n",
    "# variant_categories$stage2 = colSums(df[stages$stage2==1,])\n",
    "# variant_categories$stage3 = colSums(df[stages$stage3==1,])\n",
    "# variant_categories$stage4 = colSums(df[stages$stage4==1,])\n",
    "# variant_categories$stage5 = colSums(df[stages$stage5==1,])\n",
    "# variant_categories$stage6 = colSums(df[stages$stage6==1,])\n",
    "# variant_categories$stage7 = colSums(df[stages$stage7==1,])\n",
    "# variant_categories$high = colSums(df[var_info$IMPACT=='HIGH',])                   \n",
    "# # add common variant\n",
    "temp = as.numeric(unlist(genotypes[var_info$ID=='rs3752246',]))                                  \n",
    "temp = -1*(temp-2)\n",
    "variant_categories$rs3752246 = temp\n",
    "# variant_categories$rare_sums = colSums(df)\n",
    "#variant_categories$weighted_sum = as.numeric(unlist(var_info$REVEL%*%df))"
   ]
  },
  {
   "cell_type": "code",
   "execution_count": 8,
   "id": "c9663ab0-0087-4530-87cd-88f63a8d7bf3",
   "metadata": {},
   "outputs": [],
   "source": [
    "# load our large snRNAseq dataset\n",
    "data = readRDS('../processed_data/mathys_et_al/all_summed_cts.rds')\n",
    "\n",
    "# add variant data to metadata\n",
    "meta = data$meta\n",
    "meta = cbind(meta, variant_categories[meta$WGSid,])"
   ]
  },
  {
   "cell_type": "code",
   "execution_count": 9,
   "id": "73997d03-b7ab-449d-a6da-ecc1a72298bc",
   "metadata": {},
   "outputs": [],
   "source": [
    "# remove individuals from our snRNAseq cohort\n",
    "all_data = readRDS('../processed_data/single_cell//stats_input_data_0825.rds')\n",
    "\n",
    "keep = !meta$projid%in%rownames(all_data$summary)\n",
    "meta = meta[keep,]\n",
    "ncells = data$ncells[keep]\n",
    "counts = data$counts[,keep]"
   ]
  },
  {
   "cell_type": "code",
   "execution_count": 16,
   "id": "29b44db4-f53b-41ae-b82d-343bd364506c",
   "metadata": {},
   "outputs": [],
   "source": [
    "expressed = all_data$expressed10"
   ]
  },
  {
   "cell_type": "code",
   "execution_count": 10,
   "id": "92e8203e-3c37-4914-83b7-8ba279135e20",
   "metadata": {},
   "outputs": [],
   "source": [
    "# add batch info\n",
    "batch_ids = read.csv('../../ADSubtypes/metadata/Fastq_paths_432_PFC_HM_updated_edited.csv')\n",
    "batch_ids = batch_ids[!duplicated(batch_ids$projid),]\n",
    "rownames(batch_ids) = batch_ids$projid\n",
    "meta$seq_batch = batch_ids[rownames(meta),'Batch']"
   ]
  },
  {
   "cell_type": "code",
   "execution_count": 17,
   "id": "fc94c9e9-a919-4cfe-9b64-9f3fa28e5ac3",
   "metadata": {},
   "outputs": [],
   "source": [
    "# filter out individuals with too few cells per celltype\n",
    "keep = ncells>=10\n",
    "counts_indexed = counts[,keep]\n",
    "meta_keep = meta[keep,]\n",
    "meta_keep$niareagansc = as.numeric(meta_keep$niareagansc)\n",
    "\n",
    "# filter\n",
    "keep = (rowSums(is.na(meta_keep))==0) & !(is.na(meta_keep[,'colSums(df[var_info$LOF.y == 1, ])']) | (meta_keep[,'colSums(df[var_info$LOF.y == 1, ])']>0)) #& meta_keep$niareagansc%in%(unlist(list('3','4')))\n",
    "meta_keep2 = meta_keep[keep,]\n",
    "meta_keep2$apoe = ifelse(meta_keep2$apoe_genotype%in%c(34,44,24), 1, 0)\n",
    "counts_keep2 = counts_indexed[,keep]\n",
    "counts_keep2 = counts_keep2[rownames(counts_keep2)%in%expressed$Ex & rowSums(counts_keep2>0)>15,]"
   ]
  },
  {
   "cell_type": "code",
   "execution_count": 22,
   "id": "4f038e59-07d6-48eb-a84e-d95aa7cf8bb0",
   "metadata": {},
   "outputs": [
    {
     "data": {
      "text/plain": [
       "\n",
       "  0   1 \n",
       "227 133 "
      ]
     },
     "metadata": {},
     "output_type": "display_data"
    }
   ],
   "source": [
    "meta_keep2$rs3752246_binary = ifelse(meta_keep2$rs3752246>0, 1, 0)\n",
    "\n",
    "table(meta_keep2$rs3752246_binary)"
   ]
  },
  {
   "cell_type": "code",
   "execution_count": 26,
   "id": "2e533877-8eac-4adf-bbbe-62c2212f9ca2",
   "metadata": {},
   "outputs": [
    {
     "data": {
      "text/html": [
       "<table class=\"dataframe\">\n",
       "<caption>A data.frame: 1 × 30</caption>\n",
       "<thead>\n",
       "\t<tr><th></th><th scope=col>Variant</th><th scope=col>Var.2</th><th scope=col>CHROM</th><th scope=col>POS</th><th scope=col>REF_x</th><th scope=col>ALT_0</th><th scope=col>ALT_1</th><th scope=col>ALT_2</th><th scope=col>FILTER_PASS</th><th scope=col>numalt</th><th scope=col>⋯</th><th scope=col>HGVS_C</th><th scope=col>HGVC_P</th><th scope=col>LOF.x</th><th scope=col>NMD</th><th scope=col>1000Gp3_AF</th><th scope=col>N -1/-1</th><th scope=col>N 0/0</th><th scope=col>N 0/1</th><th scope=col>N 0/2</th><th scope=col>N 0/3</th></tr>\n",
       "\t<tr><th></th><th scope=col>&lt;chr&gt;</th><th scope=col>&lt;int&gt;</th><th scope=col>&lt;int&gt;</th><th scope=col>&lt;int&gt;</th><th scope=col>&lt;chr&gt;</th><th scope=col>&lt;chr&gt;</th><th scope=col>&lt;chr&gt;</th><th scope=col>&lt;chr&gt;</th><th scope=col>&lt;chr&gt;</th><th scope=col>&lt;int&gt;</th><th scope=col>⋯</th><th scope=col>&lt;chr&gt;</th><th scope=col>&lt;chr&gt;</th><th scope=col>&lt;chr&gt;</th><th scope=col>&lt;chr&gt;</th><th scope=col>&lt;dbl&gt;</th><th scope=col>&lt;dbl&gt;</th><th scope=col>&lt;int&gt;</th><th scope=col>&lt;int&gt;</th><th scope=col>&lt;int&gt;</th><th scope=col>&lt;dbl&gt;</th></tr>\n",
       "</thead>\n",
       "<tbody>\n",
       "\t<tr><th scope=row>60</th><td>19:1056492:G&gt;C</td><td>11413</td><td>19</td><td>1056492</td><td>G</td><td>C</td><td></td><td></td><td>True</td><td>1</td><td>⋯</td><td>c.4580G&gt;C</td><td>p.Gly1527Ala</td><td></td><td></td><td>0.825479</td><td>0</td><td>39</td><td>364</td><td>0</td><td>0</td></tr>\n",
       "</tbody>\n",
       "</table>\n"
      ],
      "text/latex": [
       "A data.frame: 1 × 30\n",
       "\\begin{tabular}{r|lllllllllllllllllllll}\n",
       "  & Variant & Var.2 & CHROM & POS & REF\\_x & ALT\\_0 & ALT\\_1 & ALT\\_2 & FILTER\\_PASS & numalt & ⋯ & HGVS\\_C & HGVC\\_P & LOF.x & NMD & 1000Gp3\\_AF & N -1/-1 & N 0/0 & N 0/1 & N 0/2 & N 0/3\\\\\n",
       "  & <chr> & <int> & <int> & <int> & <chr> & <chr> & <chr> & <chr> & <chr> & <int> & ⋯ & <chr> & <chr> & <chr> & <chr> & <dbl> & <dbl> & <int> & <int> & <int> & <dbl>\\\\\n",
       "\\hline\n",
       "\t60 & 19:1056492:G>C & 11413 & 19 & 1056492 & G & C &  &  & True & 1 & ⋯ & c.4580G>C & p.Gly1527Ala &  &  & 0.825479 & 0 & 39 & 364 & 0 & 0\\\\\n",
       "\\end{tabular}\n"
      ],
      "text/markdown": [
       "\n",
       "A data.frame: 1 × 30\n",
       "\n",
       "| <!--/--> | Variant &lt;chr&gt; | Var.2 &lt;int&gt; | CHROM &lt;int&gt; | POS &lt;int&gt; | REF_x &lt;chr&gt; | ALT_0 &lt;chr&gt; | ALT_1 &lt;chr&gt; | ALT_2 &lt;chr&gt; | FILTER_PASS &lt;chr&gt; | numalt &lt;int&gt; | ⋯ ⋯ | HGVS_C &lt;chr&gt; | HGVC_P &lt;chr&gt; | LOF.x &lt;chr&gt; | NMD &lt;chr&gt; | 1000Gp3_AF &lt;dbl&gt; | N -1/-1 &lt;dbl&gt; | N 0/0 &lt;int&gt; | N 0/1 &lt;int&gt; | N 0/2 &lt;int&gt; | N 0/3 &lt;dbl&gt; |\n",
       "|---|---|---|---|---|---|---|---|---|---|---|---|---|---|---|---|---|---|---|---|---|---|\n",
       "| 60 | 19:1056492:G&gt;C | 11413 | 19 | 1056492 | G | C | <!----> | <!----> | True | 1 | ⋯ | c.4580G&gt;C | p.Gly1527Ala | <!----> | <!----> | 0.825479 | 0 | 39 | 364 | 0 | 0 |\n",
       "\n"
      ],
      "text/plain": [
       "   Variant        Var.2 CHROM POS     REF_x ALT_0 ALT_1 ALT_2 FILTER_PASS\n",
       "60 19:1056492:G>C 11413 19    1056492 G     C                 True       \n",
       "   numalt ⋯ HGVS_C    HGVC_P       LOF.x NMD 1000Gp3_AF N -1/-1 N 0/0 N 0/1\n",
       "60 1      ⋯ c.4580G>C p.Gly1527Ala           0.825479   0       39    364  \n",
       "   N 0/2 N 0/3\n",
       "60 0     0    "
      ]
     },
     "metadata": {},
     "output_type": "display_data"
    }
   ],
   "source": [
    "var_info[var_info$ID=='rs3752246',1:30]"
   ]
  },
  {
   "cell_type": "code",
   "execution_count": 622,
   "id": "e7331729-fc26-4f87-9faa-40433904acbf",
   "metadata": {},
   "outputs": [
    {
     "name": "stdout",
     "output_type": "stream",
     "text": [
      "Number of significant surrogate variables is:  21 \n",
      "Iteration (out of 5 ):1  2  3  4  5  "
     ]
    }
   ],
   "source": [
    "# compute DEGs rs3752246\n",
    "# remove any LOF individuals\n",
    "\n",
    "meta_keep2$rs3752246_binary = ifelse(meta_keep2$rs3752246>0, 1, 0)\n",
    "\n",
    "mod1 <- model.matrix(~rs3752246_binary + amyloid + nft + msex + age_death + apoe + pmi + seq_batch + niareagansc, data = meta_keep2)\n",
    "mod0 <- model.matrix(~ amyloid + nft + msex + age_death + apoe + pmi + seq_batch + niareagansc, data = meta_keep2)\n",
    "\n",
    "out = compute_degs(counts_keep2, mod1, mod0, 'rs3752246_binary')\n",
    "curr = out$res1\n",
    "scores = sign(curr$logFC) * -log10(curr$P.Value)\n",
    "names(scores) = rownames(curr)"
   ]
  },
  {
   "cell_type": "code",
   "execution_count": 623,
   "id": "9a0281b3-39e1-4381-a2b2-4859b775b333",
   "metadata": {},
   "outputs": [],
   "source": [
    "# compute fgsea results rs3752246\n",
    "paths = read.csv('../supplementary_tables/data_s8.csv')\n",
    "paths = paths[paths$is_gene=='True',]\n",
    "P = list()\n",
    "for(i in unique(paths$cluster)){\n",
    "    P[[as.character(i)]] = paths[paths$cluster==i,'description']\n",
    "}      \n",
    "\n",
    "o = fgsea(pathways = P, stats = scores, minSize = 5, maxSize = 1000, nproc=1, nPermSimple=10000)\n",
    "o = o[order(o$pval,decreasing=T),]\n",
    "o$score = sign(o$NES) * -log10(o$pval)\n",
    "o$pathway = factor(o$pathway, levels = o$pathway)"
   ]
  },
  {
   "cell_type": "code",
   "execution_count": 651,
   "id": "194a6f32-6f6e-479e-8226-7f5104b9ddd2",
   "metadata": {},
   "outputs": [],
   "source": [
    "x = o[order(o$pval,decreasing=FALSE),]\n",
    "x$leadingEdge = NULL\n",
    "\n",
    "write.csv(x, '../processed_data/common_var/rs3755246_cluster_effects.csv')"
   ]
  },
  {
   "cell_type": "code",
   "execution_count": 634,
   "id": "615001ec-7875-41ec-afec-97b59283298f",
   "metadata": {},
   "outputs": [],
   "source": [
    "write.csv(meta_keep2[, c('projid', 'WGSid', 'rs3752246_binary', 'amyloid', 'nft', 'msex', 'age_death', 'apoe', 'pmi', 'seq_batch', 'niareagansc')], '../processed_data/mathys_et_al/data_for_carles.csv', row.names=FALSE)"
   ]
  },
  {
   "cell_type": "code",
   "execution_count": 636,
   "id": "ba16b72d-c7eb-4baf-b04d-16d9f76596d3",
   "metadata": {},
   "outputs": [],
   "source": [
    "write.csv(as.data.frame(scores), '../processed_data/common_var/rs3752246_binary_scores.csv')"
   ]
  },
  {
   "cell_type": "code",
   "execution_count": 655,
   "id": "6fb07706-11a8-42b9-9599-fa73d5f3b9ef",
   "metadata": {},
   "outputs": [
    {
     "data": {
      "text/html": [
       "<table class=\"dataframe\">\n",
       "<caption>A data.frame: 1 × 30</caption>\n",
       "<thead>\n",
       "\t<tr><th></th><th scope=col>Variant</th><th scope=col>Var.2</th><th scope=col>CHROM</th><th scope=col>POS</th><th scope=col>REF_x</th><th scope=col>ALT_0</th><th scope=col>ALT_1</th><th scope=col>ALT_2</th><th scope=col>FILTER_PASS</th><th scope=col>numalt</th><th scope=col>⋯</th><th scope=col>HGVS_C</th><th scope=col>HGVC_P</th><th scope=col>LOF.x</th><th scope=col>NMD</th><th scope=col>1000Gp3_AF</th><th scope=col>N -1/-1</th><th scope=col>N 0/0</th><th scope=col>N 0/1</th><th scope=col>N 0/2</th><th scope=col>N 0/3</th></tr>\n",
       "\t<tr><th></th><th scope=col>&lt;chr&gt;</th><th scope=col>&lt;int&gt;</th><th scope=col>&lt;int&gt;</th><th scope=col>&lt;int&gt;</th><th scope=col>&lt;chr&gt;</th><th scope=col>&lt;chr&gt;</th><th scope=col>&lt;chr&gt;</th><th scope=col>&lt;chr&gt;</th><th scope=col>&lt;chr&gt;</th><th scope=col>&lt;int&gt;</th><th scope=col>⋯</th><th scope=col>&lt;chr&gt;</th><th scope=col>&lt;chr&gt;</th><th scope=col>&lt;chr&gt;</th><th scope=col>&lt;chr&gt;</th><th scope=col>&lt;dbl&gt;</th><th scope=col>&lt;dbl&gt;</th><th scope=col>&lt;int&gt;</th><th scope=col>&lt;int&gt;</th><th scope=col>&lt;int&gt;</th><th scope=col>&lt;dbl&gt;</th></tr>\n",
       "</thead>\n",
       "<tbody>\n",
       "\t<tr><th scope=row>60</th><td>19:1056492:G&gt;C</td><td>11413</td><td>19</td><td>1056492</td><td>G</td><td>C</td><td></td><td></td><td>True</td><td>1</td><td>⋯</td><td>c.4580G&gt;C</td><td>p.Gly1527Ala</td><td></td><td></td><td>0.825479</td><td>0</td><td>39</td><td>364</td><td>0</td><td>0</td></tr>\n",
       "</tbody>\n",
       "</table>\n"
      ],
      "text/latex": [
       "A data.frame: 1 × 30\n",
       "\\begin{tabular}{r|lllllllllllllllllllll}\n",
       "  & Variant & Var.2 & CHROM & POS & REF\\_x & ALT\\_0 & ALT\\_1 & ALT\\_2 & FILTER\\_PASS & numalt & ⋯ & HGVS\\_C & HGVC\\_P & LOF.x & NMD & 1000Gp3\\_AF & N -1/-1 & N 0/0 & N 0/1 & N 0/2 & N 0/3\\\\\n",
       "  & <chr> & <int> & <int> & <int> & <chr> & <chr> & <chr> & <chr> & <chr> & <int> & ⋯ & <chr> & <chr> & <chr> & <chr> & <dbl> & <dbl> & <int> & <int> & <int> & <dbl>\\\\\n",
       "\\hline\n",
       "\t60 & 19:1056492:G>C & 11413 & 19 & 1056492 & G & C &  &  & True & 1 & ⋯ & c.4580G>C & p.Gly1527Ala &  &  & 0.825479 & 0 & 39 & 364 & 0 & 0\\\\\n",
       "\\end{tabular}\n"
      ],
      "text/markdown": [
       "\n",
       "A data.frame: 1 × 30\n",
       "\n",
       "| <!--/--> | Variant &lt;chr&gt; | Var.2 &lt;int&gt; | CHROM &lt;int&gt; | POS &lt;int&gt; | REF_x &lt;chr&gt; | ALT_0 &lt;chr&gt; | ALT_1 &lt;chr&gt; | ALT_2 &lt;chr&gt; | FILTER_PASS &lt;chr&gt; | numalt &lt;int&gt; | ⋯ ⋯ | HGVS_C &lt;chr&gt; | HGVC_P &lt;chr&gt; | LOF.x &lt;chr&gt; | NMD &lt;chr&gt; | 1000Gp3_AF &lt;dbl&gt; | N -1/-1 &lt;dbl&gt; | N 0/0 &lt;int&gt; | N 0/1 &lt;int&gt; | N 0/2 &lt;int&gt; | N 0/3 &lt;dbl&gt; |\n",
       "|---|---|---|---|---|---|---|---|---|---|---|---|---|---|---|---|---|---|---|---|---|---|\n",
       "| 60 | 19:1056492:G&gt;C | 11413 | 19 | 1056492 | G | C | <!----> | <!----> | True | 1 | ⋯ | c.4580G&gt;C | p.Gly1527Ala | <!----> | <!----> | 0.825479 | 0 | 39 | 364 | 0 | 0 |\n",
       "\n"
      ],
      "text/plain": [
       "   Variant        Var.2 CHROM POS     REF_x ALT_0 ALT_1 ALT_2 FILTER_PASS\n",
       "60 19:1056492:G>C 11413 19    1056492 G     C                 True       \n",
       "   numalt ⋯ HGVS_C    HGVC_P       LOF.x NMD 1000Gp3_AF N -1/-1 N 0/0 N 0/1\n",
       "60 1      ⋯ c.4580G>C p.Gly1527Ala           0.825479   0       39    364  \n",
       "   N 0/2 N 0/3\n",
       "60 0     0    "
      ]
     },
     "metadata": {},
     "output_type": "display_data"
    }
   ],
   "source": [
    "var_info[var_info$ID=='rs3752246',1:2]"
   ]
  },
  {
   "cell_type": "markdown",
   "id": "3eff79d4-2a85-4358-8cc1-2b8aa85d16d1",
   "metadata": {},
   "source": [
    "### below is scrap"
   ]
  },
  {
   "cell_type": "code",
   "execution_count": 614,
   "id": "df34ae22-fc13-4e21-b54d-9f5f968a0c15",
   "metadata": {},
   "outputs": [
    {
     "name": "stdout",
     "output_type": "stream",
     "text": [
      "Number of significant surrogate variables is:  21 \n",
      "Iteration (out of 5 ):1  2  3  4  5  "
     ]
    }
   ],
   "source": [
    "# compute DEGs rs3752246\n",
    "# remove any LOF individuals\n",
    "\n",
    "meta_keep2$rare_sums = ifelse(meta_keep2$rare_sums>0, 1, 0)\n",
    "\n",
    "mod1 <- model.matrix(~rare_sums + amyloid + nft + msex + age_death + apoe + pmi + seq_batch + niareagansc, data = meta_keep2)\n",
    "mod0 <- model.matrix(~ amyloid + nft + msex + age_death + apoe + pmi + seq_batch + niareagansc, data = meta_keep2)\n",
    "\n",
    "out = compute_degs(counts_keep2, mod1, mod0, 'rare_sums')\n",
    "curr = out$res1\n",
    "scores = sign(curr$logFC) * -log10(curr$P.Value)\n",
    "names(scores) = rownames(curr)"
   ]
  },
  {
   "cell_type": "code",
   "execution_count": 615,
   "id": "d8d9915a-0c51-42d8-a935-34d44183a705",
   "metadata": {},
   "outputs": [],
   "source": [
    "# compute fgsea results rs3752246\n",
    "paths = read.csv('../supplementary_tables/data_s8.csv')\n",
    "paths = paths[paths$is_gene=='True',]\n",
    "P = list()\n",
    "for(i in unique(paths$cluster)){\n",
    "    P[[as.character(i)]] = paths[paths$cluster==i,'description']\n",
    "}      \n",
    "\n",
    "o = fgsea(pathways = P, stats = scores, minSize = 5, maxSize = 1000, nproc=1, nPermSimple=10000)\n",
    "o = o[order(o$pval,decreasing=T),]\n",
    "o$score = sign(o$NES) * -log10(o$pval)\n",
    "o$pathway = factor(o$pathway, levels = o$pathway)"
   ]
  },
  {
   "cell_type": "code",
   "execution_count": 526,
   "id": "de3c53b0-58ec-42fe-a43d-ae3951418d57",
   "metadata": {},
   "outputs": [
    {
     "name": "stdout",
     "output_type": "stream",
     "text": [
      "Number of significant surrogate variables is:  21 \n",
      "Iteration (out of 5 ):1  2  3  4  5  "
     ]
    }
   ],
   "source": [
    "# compute DEGs weighted sum\n",
    "meta_keep2$stage = ifelse(meta_keep2$stage3>0, 1, 0)\n",
    "\n",
    "\n",
    "mod1 <- model.matrix(~weighted_sum + amyloid + nft + msex + age_death + apoe + pmi + seq_batch + niareagansc, data = meta_keep2)\n",
    "mod0 <- model.matrix(~ amyloid + nft + msex + age_death + apoe + pmi + seq_batch + niareagansc, data = meta_keep2)\n",
    "\n",
    "out = compute_degs(counts_keep2, mod1, mod0, 'weighted_sum')\n",
    "curr = out$res1\n",
    "scores = sign(curr$logFC) * -log10(curr$P.Value)\n",
    "names(scores) = rownames(curr)"
   ]
  },
  {
   "cell_type": "code",
   "execution_count": 527,
   "id": "e696c531-7ca6-4fe2-9e87-d43203316365",
   "metadata": {},
   "outputs": [],
   "source": [
    "# compute fgsea results rs3752246\n",
    "paths = read.csv('../supplementary_tables/data_s8.csv')\n",
    "paths = paths[paths$is_gene=='True',]\n",
    "P = list()\n",
    "for(i in unique(paths$cluster)){\n",
    "    P[[as.character(i)]] = paths[paths$cluster==i,'description']\n",
    "}      \n",
    "\n",
    "o = fgsea(pathways = P, stats = scores, minSize = 5, maxSize = 1000, nproc=1, nPermSimple=10000)\n",
    "o = o[order(o$pval,decreasing=T),]\n",
    "o$score = sign(o$NES) * -log10(o$pval)\n",
    "o$pathway = factor(o$pathway, levels = o$pathway)"
   ]
  },
  {
   "cell_type": "code",
   "execution_count": 616,
   "id": "cc79faa2-ccfb-4599-9719-776a134f5eec",
   "metadata": {},
   "outputs": [
    {
     "data": {
      "text/html": [
       "<table class=\"dataframe\">\n",
       "<caption>A data.table: 8 × 9</caption>\n",
       "<thead>\n",
       "\t<tr><th scope=col>pathway</th><th scope=col>pval</th><th scope=col>padj</th><th scope=col>log2err</th><th scope=col>ES</th><th scope=col>NES</th><th scope=col>size</th><th scope=col>leadingEdge</th><th scope=col>score</th></tr>\n",
       "\t<tr><th scope=col>&lt;fct&gt;</th><th scope=col>&lt;dbl&gt;</th><th scope=col>&lt;dbl&gt;</th><th scope=col>&lt;dbl&gt;</th><th scope=col>&lt;dbl&gt;</th><th scope=col>&lt;dbl&gt;</th><th scope=col>&lt;int&gt;</th><th scope=col>&lt;list&gt;</th><th scope=col>&lt;dbl&gt;</th></tr>\n",
       "</thead>\n",
       "<tbody>\n",
       "\t<tr><td>7</td><td>0.004695886</td><td>0.03756708</td><td>0.31827968</td><td> 0.5206892</td><td> 1.7085514</td><td>40</td><td>NDUFC1, ....</td><td> 2.32828250</td></tr>\n",
       "\t<tr><td>2</td><td>0.070724765</td><td>0.28289906</td><td>0.07902990</td><td> 0.4483919</td><td> 1.3966391</td><td>31</td><td>HMGCS1, ....</td><td> 1.15042849</td></tr>\n",
       "\t<tr><td>4</td><td>0.354770017</td><td>0.69074890</td><td>0.03227336</td><td> 0.3808170</td><td> 1.0714465</td><td>20</td><td>DDB2, LD....</td><td> 0.45005309</td></tr>\n",
       "\t<tr><td>5</td><td>0.414757709</td><td>0.69074890</td><td>0.02995854</td><td> 0.3130458</td><td> 1.0176332</td><td>38</td><td>RBX1, MT....</td><td> 0.38220553</td></tr>\n",
       "\t<tr><td>1</td><td>0.440131820</td><td>0.69074890</td><td>0.02564854</td><td>-0.3165691</td><td>-1.0050959</td><td>38</td><td>USP1, FA....</td><td>-0.35641723</td></tr>\n",
       "\t<tr><td>6</td><td>0.558663413</td><td>0.69074890</td><td>0.02216700</td><td>-0.3482817</td><td>-0.9307757</td><td>18</td><td>C2, MAX,....</td><td>-0.25284977</td></tr>\n",
       "\t<tr><td>0</td><td>0.604405286</td><td>0.69074890</td><td>0.02346334</td><td> 0.2804562</td><td> 0.9116927</td><td>38</td><td>IDH1, FH....</td><td> 0.21867175</td></tr>\n",
       "\t<tr><td>3</td><td>0.901162791</td><td>0.90116279</td><td>0.01454464</td><td>-0.2268536</td><td>-0.7395774</td><td>43</td><td>IFT88, C....</td><td>-0.04519675</td></tr>\n",
       "</tbody>\n",
       "</table>\n"
      ],
      "text/latex": [
       "A data.table: 8 × 9\n",
       "\\begin{tabular}{lllllllll}\n",
       " pathway & pval & padj & log2err & ES & NES & size & leadingEdge & score\\\\\n",
       " <fct> & <dbl> & <dbl> & <dbl> & <dbl> & <dbl> & <int> & <list> & <dbl>\\\\\n",
       "\\hline\n",
       "\t 7 & 0.004695886 & 0.03756708 & 0.31827968 &  0.5206892 &  1.7085514 & 40 & NDUFC1, .... &  2.32828250\\\\\n",
       "\t 2 & 0.070724765 & 0.28289906 & 0.07902990 &  0.4483919 &  1.3966391 & 31 & HMGCS1, .... &  1.15042849\\\\\n",
       "\t 4 & 0.354770017 & 0.69074890 & 0.03227336 &  0.3808170 &  1.0714465 & 20 & DDB2, LD.... &  0.45005309\\\\\n",
       "\t 5 & 0.414757709 & 0.69074890 & 0.02995854 &  0.3130458 &  1.0176332 & 38 & RBX1, MT.... &  0.38220553\\\\\n",
       "\t 1 & 0.440131820 & 0.69074890 & 0.02564854 & -0.3165691 & -1.0050959 & 38 & USP1, FA.... & -0.35641723\\\\\n",
       "\t 6 & 0.558663413 & 0.69074890 & 0.02216700 & -0.3482817 & -0.9307757 & 18 & C2, MAX,.... & -0.25284977\\\\\n",
       "\t 0 & 0.604405286 & 0.69074890 & 0.02346334 &  0.2804562 &  0.9116927 & 38 & IDH1, FH.... &  0.21867175\\\\\n",
       "\t 3 & 0.901162791 & 0.90116279 & 0.01454464 & -0.2268536 & -0.7395774 & 43 & IFT88, C.... & -0.04519675\\\\\n",
       "\\end{tabular}\n"
      ],
      "text/markdown": [
       "\n",
       "A data.table: 8 × 9\n",
       "\n",
       "| pathway &lt;fct&gt; | pval &lt;dbl&gt; | padj &lt;dbl&gt; | log2err &lt;dbl&gt; | ES &lt;dbl&gt; | NES &lt;dbl&gt; | size &lt;int&gt; | leadingEdge &lt;list&gt; | score &lt;dbl&gt; |\n",
       "|---|---|---|---|---|---|---|---|---|\n",
       "| 7 | 0.004695886 | 0.03756708 | 0.31827968 |  0.5206892 |  1.7085514 | 40 | NDUFC1, .... |  2.32828250 |\n",
       "| 2 | 0.070724765 | 0.28289906 | 0.07902990 |  0.4483919 |  1.3966391 | 31 | HMGCS1, .... |  1.15042849 |\n",
       "| 4 | 0.354770017 | 0.69074890 | 0.03227336 |  0.3808170 |  1.0714465 | 20 | DDB2, LD.... |  0.45005309 |\n",
       "| 5 | 0.414757709 | 0.69074890 | 0.02995854 |  0.3130458 |  1.0176332 | 38 | RBX1, MT.... |  0.38220553 |\n",
       "| 1 | 0.440131820 | 0.69074890 | 0.02564854 | -0.3165691 | -1.0050959 | 38 | USP1, FA.... | -0.35641723 |\n",
       "| 6 | 0.558663413 | 0.69074890 | 0.02216700 | -0.3482817 | -0.9307757 | 18 | C2, MAX,.... | -0.25284977 |\n",
       "| 0 | 0.604405286 | 0.69074890 | 0.02346334 |  0.2804562 |  0.9116927 | 38 | IDH1, FH.... |  0.21867175 |\n",
       "| 3 | 0.901162791 | 0.90116279 | 0.01454464 | -0.2268536 | -0.7395774 | 43 | IFT88, C.... | -0.04519675 |\n",
       "\n"
      ],
      "text/plain": [
       "  pathway pval        padj       log2err    ES         NES        size\n",
       "1 7       0.004695886 0.03756708 0.31827968  0.5206892  1.7085514 40  \n",
       "2 2       0.070724765 0.28289906 0.07902990  0.4483919  1.3966391 31  \n",
       "3 4       0.354770017 0.69074890 0.03227336  0.3808170  1.0714465 20  \n",
       "4 5       0.414757709 0.69074890 0.02995854  0.3130458  1.0176332 38  \n",
       "5 1       0.440131820 0.69074890 0.02564854 -0.3165691 -1.0050959 38  \n",
       "6 6       0.558663413 0.69074890 0.02216700 -0.3482817 -0.9307757 18  \n",
       "7 0       0.604405286 0.69074890 0.02346334  0.2804562  0.9116927 38  \n",
       "8 3       0.901162791 0.90116279 0.01454464 -0.2268536 -0.7395774 43  \n",
       "  leadingEdge  score      \n",
       "1 NDUFC1, ....  2.32828250\n",
       "2 HMGCS1, ....  1.15042849\n",
       "3 DDB2, LD....  0.45005309\n",
       "4 RBX1, MT....  0.38220553\n",
       "5 USP1, FA.... -0.35641723\n",
       "6 C2, MAX,.... -0.25284977\n",
       "7 IDH1, FH....  0.21867175\n",
       "8 IFT88, C.... -0.04519675"
      ]
     },
     "metadata": {},
     "output_type": "display_data"
    }
   ],
   "source": [
    "o[order(o$pval,decreasing=FALSE),]"
   ]
  },
  {
   "cell_type": "code",
   "execution_count": 320,
   "id": "3270b2bc-6e28-488c-bfc9-dc2080b2fb85",
   "metadata": {},
   "outputs": [
    {
     "data": {
      "text/html": [
       "<table class=\"dataframe\">\n",
       "<caption>A data.table: 8 × 9</caption>\n",
       "<thead>\n",
       "\t<tr><th scope=col>pathway</th><th scope=col>pval</th><th scope=col>padj</th><th scope=col>log2err</th><th scope=col>ES</th><th scope=col>NES</th><th scope=col>size</th><th scope=col>leadingEdge</th><th scope=col>score</th></tr>\n",
       "\t<tr><th scope=col>&lt;fct&gt;</th><th scope=col>&lt;dbl&gt;</th><th scope=col>&lt;dbl&gt;</th><th scope=col>&lt;dbl&gt;</th><th scope=col>&lt;dbl&gt;</th><th scope=col>&lt;dbl&gt;</th><th scope=col>&lt;int&gt;</th><th scope=col>&lt;list&gt;</th><th scope=col>&lt;dbl&gt;</th></tr>\n",
       "</thead>\n",
       "<tbody>\n",
       "\t<tr><td>7</td><td>0.1544625</td><td>0.9688118</td><td>0.05285003</td><td> 0.3681119</td><td> 1.2329730</td><td>40</td><td>NDUFS3, ....</td><td> 0.81117695</td></tr>\n",
       "\t<tr><td>5</td><td>0.2480564</td><td>0.9688118</td><td>0.03618645</td><td>-0.3627033</td><td>-1.1502393</td><td>38</td><td>POLE2, A....</td><td>-0.60544955</td></tr>\n",
       "\t<tr><td>0</td><td>0.5640933</td><td>0.9688118</td><td>0.02142629</td><td>-0.2952470</td><td>-0.9363156</td><td>38</td><td>KLKB1, G....</td><td>-0.24864906</td></tr>\n",
       "\t<tr><td>3</td><td>0.5664034</td><td>0.9688118</td><td>0.02124791</td><td>-0.2876081</td><td>-0.9346628</td><td>43</td><td>PSMD13, ....</td><td>-0.24687411</td></tr>\n",
       "\t<tr><td>6</td><td>0.8723913</td><td>0.9688118</td><td>0.01762370</td><td> 0.2559457</td><td> 0.7067181</td><td>18</td><td>PTRH2, B....</td><td> 0.05928867</td></tr>\n",
       "\t<tr><td>4</td><td>0.9600370</td><td>0.9688118</td><td>0.01389331</td><td>-0.2190239</td><td>-0.5998697</td><td>20</td><td>LDLR, AP....</td><td>-0.01771203</td></tr>\n",
       "\t<tr><td>1</td><td>0.9631170</td><td>0.9688118</td><td>0.01351410</td><td>-0.2031065</td><td>-0.6441109</td><td>38</td><td>RNF168, ....</td><td>-0.01632096</td></tr>\n",
       "\t<tr><td>2</td><td>0.9688118</td><td>0.9688118</td><td>0.01624148</td><td> 0.1987398</td><td> 0.6273882</td><td>31</td><td>SIRT7, S....</td><td> 0.01376059</td></tr>\n",
       "</tbody>\n",
       "</table>\n"
      ],
      "text/latex": [
       "A data.table: 8 × 9\n",
       "\\begin{tabular}{lllllllll}\n",
       " pathway & pval & padj & log2err & ES & NES & size & leadingEdge & score\\\\\n",
       " <fct> & <dbl> & <dbl> & <dbl> & <dbl> & <dbl> & <int> & <list> & <dbl>\\\\\n",
       "\\hline\n",
       "\t 7 & 0.1544625 & 0.9688118 & 0.05285003 &  0.3681119 &  1.2329730 & 40 & NDUFS3, .... &  0.81117695\\\\\n",
       "\t 5 & 0.2480564 & 0.9688118 & 0.03618645 & -0.3627033 & -1.1502393 & 38 & POLE2, A.... & -0.60544955\\\\\n",
       "\t 0 & 0.5640933 & 0.9688118 & 0.02142629 & -0.2952470 & -0.9363156 & 38 & KLKB1, G.... & -0.24864906\\\\\n",
       "\t 3 & 0.5664034 & 0.9688118 & 0.02124791 & -0.2876081 & -0.9346628 & 43 & PSMD13, .... & -0.24687411\\\\\n",
       "\t 6 & 0.8723913 & 0.9688118 & 0.01762370 &  0.2559457 &  0.7067181 & 18 & PTRH2, B.... &  0.05928867\\\\\n",
       "\t 4 & 0.9600370 & 0.9688118 & 0.01389331 & -0.2190239 & -0.5998697 & 20 & LDLR, AP.... & -0.01771203\\\\\n",
       "\t 1 & 0.9631170 & 0.9688118 & 0.01351410 & -0.2031065 & -0.6441109 & 38 & RNF168, .... & -0.01632096\\\\\n",
       "\t 2 & 0.9688118 & 0.9688118 & 0.01624148 &  0.1987398 &  0.6273882 & 31 & SIRT7, S.... &  0.01376059\\\\\n",
       "\\end{tabular}\n"
      ],
      "text/markdown": [
       "\n",
       "A data.table: 8 × 9\n",
       "\n",
       "| pathway &lt;fct&gt; | pval &lt;dbl&gt; | padj &lt;dbl&gt; | log2err &lt;dbl&gt; | ES &lt;dbl&gt; | NES &lt;dbl&gt; | size &lt;int&gt; | leadingEdge &lt;list&gt; | score &lt;dbl&gt; |\n",
       "|---|---|---|---|---|---|---|---|---|\n",
       "| 7 | 0.1544625 | 0.9688118 | 0.05285003 |  0.3681119 |  1.2329730 | 40 | NDUFS3, .... |  0.81117695 |\n",
       "| 5 | 0.2480564 | 0.9688118 | 0.03618645 | -0.3627033 | -1.1502393 | 38 | POLE2, A.... | -0.60544955 |\n",
       "| 0 | 0.5640933 | 0.9688118 | 0.02142629 | -0.2952470 | -0.9363156 | 38 | KLKB1, G.... | -0.24864906 |\n",
       "| 3 | 0.5664034 | 0.9688118 | 0.02124791 | -0.2876081 | -0.9346628 | 43 | PSMD13, .... | -0.24687411 |\n",
       "| 6 | 0.8723913 | 0.9688118 | 0.01762370 |  0.2559457 |  0.7067181 | 18 | PTRH2, B.... |  0.05928867 |\n",
       "| 4 | 0.9600370 | 0.9688118 | 0.01389331 | -0.2190239 | -0.5998697 | 20 | LDLR, AP.... | -0.01771203 |\n",
       "| 1 | 0.9631170 | 0.9688118 | 0.01351410 | -0.2031065 | -0.6441109 | 38 | RNF168, .... | -0.01632096 |\n",
       "| 2 | 0.9688118 | 0.9688118 | 0.01624148 |  0.1987398 |  0.6273882 | 31 | SIRT7, S.... |  0.01376059 |\n",
       "\n"
      ],
      "text/plain": [
       "  pathway pval      padj      log2err    ES         NES        size\n",
       "1 7       0.1544625 0.9688118 0.05285003  0.3681119  1.2329730 40  \n",
       "2 5       0.2480564 0.9688118 0.03618645 -0.3627033 -1.1502393 38  \n",
       "3 0       0.5640933 0.9688118 0.02142629 -0.2952470 -0.9363156 38  \n",
       "4 3       0.5664034 0.9688118 0.02124791 -0.2876081 -0.9346628 43  \n",
       "5 6       0.8723913 0.9688118 0.01762370  0.2559457  0.7067181 18  \n",
       "6 4       0.9600370 0.9688118 0.01389331 -0.2190239 -0.5998697 20  \n",
       "7 1       0.9631170 0.9688118 0.01351410 -0.2031065 -0.6441109 38  \n",
       "8 2       0.9688118 0.9688118 0.01624148  0.1987398  0.6273882 31  \n",
       "  leadingEdge  score      \n",
       "1 NDUFS3, ....  0.81117695\n",
       "2 POLE2, A.... -0.60544955\n",
       "3 KLKB1, G.... -0.24864906\n",
       "4 PSMD13, .... -0.24687411\n",
       "5 PTRH2, B....  0.05928867\n",
       "6 LDLR, AP.... -0.01771203\n",
       "7 RNF168, .... -0.01632096\n",
       "8 SIRT7, S....  0.01376059"
      ]
     },
     "metadata": {},
     "output_type": "display_data"
    }
   ],
   "source": [
    "o[order(o$pval,decreasing=FALSE),]"
   ]
  },
  {
   "cell_type": "code",
   "execution_count": 39,
   "id": "62b4bdf3-ab03-4080-b240-e65870221f11",
   "metadata": {},
   "outputs": [
    {
     "name": "stdout",
     "output_type": "stream",
     "text": [
      "\n",
      "  0   1 \n",
      "241 136 \n",
      "Number of significant surrogate variables is:  21 \n",
      "Iteration (out of 5 ):1  2  3  4  5  "
     ]
    }
   ],
   "source": [
    "\n",
    "# add variant info \n",
    "temp = data$var_info\n",
    "\n",
    "rs729 = temp[temp['ID']=='rs72973581','POS']\n",
    "rs375 = temp[temp['ID']=='rs3752246','POS']\n",
    "\n",
    "#meta_keep$rs3752246_1 = ifelse(meta_keep[,'1056492']=='0/1', 1, 0)\n",
    "meta_keep$rs3752246_2 = ifelse(meta_keep[,'1056492']!='1/1', 1, 0)\n",
    "#meta_keep$rs72973581 = ifelse(meta_keep[,'1043103']=='0/0', 0, ifelse(meta_keep[,'1043103']=='0/1', 1, 2))\n",
    "print(table(meta_keep$rs3752246_2))\n",
    "meta_keep = meta_keep[,c('amyloid', 'nft', 'msex', 'age_death', 'pmi', 'seq_batch', 'apoe_genotype', 'rs3752246_2', 'niareagansc')]\n",
    "\n",
    "# filter\n",
    "keep = rowSums(is.na(meta_keep))==0 #& meta_keep$niareagansc%in%(unlist(list('3','4')))\n",
    "meta_keep2 = meta_keep[keep,]\n",
    "meta_keep2$apoe = ifelse(meta_keep2$apoe_genotype%in%c(34,44,24), 1, 0)\n",
    "counts_keep2 = counts_indexed[,keep]\n",
    "\n",
    "counts_keep2 = counts_keep2[rownames(counts_keep2)%in%expressed$Ex & rowSums(counts_keep2>0)>15,]\n",
    "\n",
    "# compute DEGs\n",
    "out = compute_degs(counts_keep2, meta_keep2)\n",
    "curr = out$res1\n",
    "scores = sign(curr$logFC) * -log10(curr$P.Value)\n",
    "names(scores) = rownames(curr)\n",
    "scores = scores[order(scores, decreasing = TRUE)]\n",
    "\n",
    "# compute fgsea results\n",
    "paths = read.csv('../supplementary_tables/data_s8.csv')\n",
    "paths = paths[paths$is_gene=='True',]\n",
    "P = list()\n",
    "for(i in unique(paths$cluster)){\n",
    "    P[[as.character(i)]] = paths[paths$cluster==i,'description']\n",
    "}      \n",
    "\n",
    "o = fgsea(pathways = P, stats = scores, minSize = 5, maxSize = 1000, nproc=1, nPermSimple=10000)\n",
    "o = o[order(o$pval,decreasing=T),]\n",
    "o$score = sign(o$NES) * -log10(o$pval)\n",
    "o$pathway = factor(o$pathway, levels = o$pathway)"
   ]
  },
  {
   "cell_type": "code",
   "execution_count": 41,
   "id": "53a1bf3a-f75b-4c3d-abf0-e84078c9666a",
   "metadata": {},
   "outputs": [],
   "source": [
    "write.csv(as.data.frame(scores), '../processed_data/common_var/ex_scoresE4.csv')"
   ]
  },
  {
   "cell_type": "code",
   "execution_count": 40,
   "id": "3f710a4c-5692-48d9-9a3b-0d3a0b09263f",
   "metadata": {},
   "outputs": [
    {
     "data": {
      "text/html": [
       "<table class=\"dataframe\">\n",
       "<caption>A data.table: 8 × 9</caption>\n",
       "<thead>\n",
       "\t<tr><th scope=col>pathway</th><th scope=col>pval</th><th scope=col>padj</th><th scope=col>log2err</th><th scope=col>ES</th><th scope=col>NES</th><th scope=col>size</th><th scope=col>leadingEdge</th><th scope=col>score</th></tr>\n",
       "\t<tr><th scope=col>&lt;fct&gt;</th><th scope=col>&lt;dbl&gt;</th><th scope=col>&lt;dbl&gt;</th><th scope=col>&lt;dbl&gt;</th><th scope=col>&lt;dbl&gt;</th><th scope=col>&lt;dbl&gt;</th><th scope=col>&lt;int&gt;</th><th scope=col>&lt;list&gt;</th><th scope=col>&lt;dbl&gt;</th></tr>\n",
       "</thead>\n",
       "<tbody>\n",
       "\t<tr><td>4</td><td>0.92600798</td><td>0.9260080</td><td>0.01702552</td><td>-0.2343931</td><td>-0.6639091</td><td>20</td><td>MDM2, RP....</td><td>-0.03338527</td></tr>\n",
       "\t<tr><td>6</td><td>0.59560842</td><td>0.6806953</td><td>0.02077039</td><td> 0.3407706</td><td> 0.9079523</td><td>18</td><td>CASP3, T....</td><td> 0.22503917</td></tr>\n",
       "\t<tr><td>0</td><td>0.50579965</td><td>0.6743995</td><td>0.02269799</td><td> 0.3050356</td><td> 0.9682053</td><td>38</td><td>CLU, C1S....</td><td> 0.29602148</td></tr>\n",
       "\t<tr><td>1</td><td>0.42442882</td><td>0.6743995</td><td>0.02557152</td><td> 0.3212969</td><td> 1.0198197</td><td>38</td><td>MRE11, T....</td><td> 0.37219513</td></tr>\n",
       "\t<tr><td>2</td><td>0.35261708</td><td>0.6743995</td><td>0.03387289</td><td>-0.3369552</td><td>-1.0653238</td><td>31</td><td>NCOA1, E....</td><td>-0.45269666</td></tr>\n",
       "\t<tr><td>5</td><td>0.17532468</td><td>0.4675325</td><td>0.05046611</td><td>-0.3631470</td><td>-1.2005879</td><td>38</td><td>RPA2, DN....</td><td>-0.75615696</td></tr>\n",
       "\t<tr><td>3</td><td>0.13079275</td><td>0.4675325</td><td>0.05948707</td><td>-0.3691121</td><td>-1.2493702</td><td>43</td><td>PSMA7, P....</td><td>-0.88341631</td></tr>\n",
       "\t<tr><td>7</td><td>0.08743043</td><td>0.4675325</td><td>0.07293884</td><td>-0.3908773</td><td>-1.3069889</td><td>40</td><td>NDUFB8, ....</td><td>-1.05833740</td></tr>\n",
       "</tbody>\n",
       "</table>\n"
      ],
      "text/latex": [
       "A data.table: 8 × 9\n",
       "\\begin{tabular}{lllllllll}\n",
       " pathway & pval & padj & log2err & ES & NES & size & leadingEdge & score\\\\\n",
       " <fct> & <dbl> & <dbl> & <dbl> & <dbl> & <dbl> & <int> & <list> & <dbl>\\\\\n",
       "\\hline\n",
       "\t 4 & 0.92600798 & 0.9260080 & 0.01702552 & -0.2343931 & -0.6639091 & 20 & MDM2, RP.... & -0.03338527\\\\\n",
       "\t 6 & 0.59560842 & 0.6806953 & 0.02077039 &  0.3407706 &  0.9079523 & 18 & CASP3, T.... &  0.22503917\\\\\n",
       "\t 0 & 0.50579965 & 0.6743995 & 0.02269799 &  0.3050356 &  0.9682053 & 38 & CLU, C1S.... &  0.29602148\\\\\n",
       "\t 1 & 0.42442882 & 0.6743995 & 0.02557152 &  0.3212969 &  1.0198197 & 38 & MRE11, T.... &  0.37219513\\\\\n",
       "\t 2 & 0.35261708 & 0.6743995 & 0.03387289 & -0.3369552 & -1.0653238 & 31 & NCOA1, E.... & -0.45269666\\\\\n",
       "\t 5 & 0.17532468 & 0.4675325 & 0.05046611 & -0.3631470 & -1.2005879 & 38 & RPA2, DN.... & -0.75615696\\\\\n",
       "\t 3 & 0.13079275 & 0.4675325 & 0.05948707 & -0.3691121 & -1.2493702 & 43 & PSMA7, P.... & -0.88341631\\\\\n",
       "\t 7 & 0.08743043 & 0.4675325 & 0.07293884 & -0.3908773 & -1.3069889 & 40 & NDUFB8, .... & -1.05833740\\\\\n",
       "\\end{tabular}\n"
      ],
      "text/markdown": [
       "\n",
       "A data.table: 8 × 9\n",
       "\n",
       "| pathway &lt;fct&gt; | pval &lt;dbl&gt; | padj &lt;dbl&gt; | log2err &lt;dbl&gt; | ES &lt;dbl&gt; | NES &lt;dbl&gt; | size &lt;int&gt; | leadingEdge &lt;list&gt; | score &lt;dbl&gt; |\n",
       "|---|---|---|---|---|---|---|---|---|\n",
       "| 4 | 0.92600798 | 0.9260080 | 0.01702552 | -0.2343931 | -0.6639091 | 20 | MDM2, RP.... | -0.03338527 |\n",
       "| 6 | 0.59560842 | 0.6806953 | 0.02077039 |  0.3407706 |  0.9079523 | 18 | CASP3, T.... |  0.22503917 |\n",
       "| 0 | 0.50579965 | 0.6743995 | 0.02269799 |  0.3050356 |  0.9682053 | 38 | CLU, C1S.... |  0.29602148 |\n",
       "| 1 | 0.42442882 | 0.6743995 | 0.02557152 |  0.3212969 |  1.0198197 | 38 | MRE11, T.... |  0.37219513 |\n",
       "| 2 | 0.35261708 | 0.6743995 | 0.03387289 | -0.3369552 | -1.0653238 | 31 | NCOA1, E.... | -0.45269666 |\n",
       "| 5 | 0.17532468 | 0.4675325 | 0.05046611 | -0.3631470 | -1.2005879 | 38 | RPA2, DN.... | -0.75615696 |\n",
       "| 3 | 0.13079275 | 0.4675325 | 0.05948707 | -0.3691121 | -1.2493702 | 43 | PSMA7, P.... | -0.88341631 |\n",
       "| 7 | 0.08743043 | 0.4675325 | 0.07293884 | -0.3908773 | -1.3069889 | 40 | NDUFB8, .... | -1.05833740 |\n",
       "\n"
      ],
      "text/plain": [
       "  pathway pval       padj      log2err    ES         NES        size\n",
       "1 4       0.92600798 0.9260080 0.01702552 -0.2343931 -0.6639091 20  \n",
       "2 6       0.59560842 0.6806953 0.02077039  0.3407706  0.9079523 18  \n",
       "3 0       0.50579965 0.6743995 0.02269799  0.3050356  0.9682053 38  \n",
       "4 1       0.42442882 0.6743995 0.02557152  0.3212969  1.0198197 38  \n",
       "5 2       0.35261708 0.6743995 0.03387289 -0.3369552 -1.0653238 31  \n",
       "6 5       0.17532468 0.4675325 0.05046611 -0.3631470 -1.2005879 38  \n",
       "7 3       0.13079275 0.4675325 0.05948707 -0.3691121 -1.2493702 43  \n",
       "8 7       0.08743043 0.4675325 0.07293884 -0.3908773 -1.3069889 40  \n",
       "  leadingEdge  score      \n",
       "1 MDM2, RP.... -0.03338527\n",
       "2 CASP3, T....  0.22503917\n",
       "3 CLU, C1S....  0.29602148\n",
       "4 MRE11, T....  0.37219513\n",
       "5 NCOA1, E.... -0.45269666\n",
       "6 RPA2, DN.... -0.75615696\n",
       "7 PSMA7, P.... -0.88341631\n",
       "8 NDUFB8, .... -1.05833740"
      ]
     },
     "metadata": {},
     "output_type": "display_data"
    }
   ],
   "source": [
    "o"
   ]
  },
  {
   "cell_type": "code",
   "execution_count": 348,
   "id": "d016cb16-07c9-4c88-bca4-f2db17b26a8c",
   "metadata": {},
   "outputs": [
    {
     "data": {
      "text/html": [
       "1043103"
      ],
      "text/latex": [
       "1043103"
      ],
      "text/markdown": [
       "1043103"
      ],
      "text/plain": [
       "[1] 1043103"
      ]
     },
     "metadata": {},
     "output_type": "display_data"
    }
   ],
   "source": [
    "rs729"
   ]
  },
  {
   "cell_type": "code",
   "execution_count": 349,
   "id": "dca4c20a-9d26-4918-966f-2ddd50c0fe9c",
   "metadata": {},
   "outputs": [],
   "source": []
  },
  {
   "cell_type": "code",
   "execution_count": 350,
   "id": "e917f5eb-ea5b-446d-9ee3-f64e8d3b1c93",
   "metadata": {},
   "outputs": [],
   "source": []
  },
  {
   "cell_type": "code",
   "execution_count": 351,
   "id": "79fcea1f-1fe9-4f65-8e21-893619a8eb55",
   "metadata": {},
   "outputs": [],
   "source": []
  },
  {
   "cell_type": "code",
   "execution_count": 352,
   "id": "5905c45f-de10-4712-b290-6bf1b0e4435a",
   "metadata": {},
   "outputs": [
    {
     "data": {
      "text/plain": [
       "   \n",
       "      0   1\n",
       "  0 202  38\n",
       "  1 111   7\n",
       "  2  17   0"
      ]
     },
     "metadata": {},
     "output_type": "display_data"
    }
   ],
   "source": [
    "table(meta_keep2$rs3752246, meta_keep2$rs72973581)"
   ]
  },
  {
   "cell_type": "code",
   "execution_count": 353,
   "id": "f0b5b708-92bf-49df-ab5a-107de8622543",
   "metadata": {},
   "outputs": [],
   "source": []
  },
  {
   "cell_type": "code",
   "execution_count": 213,
   "id": "2eff03c6-7dc1-46c3-8ce9-0c30fcd99534",
   "metadata": {},
   "outputs": [
    {
     "data": {
      "text/html": [
       "18.75"
      ],
      "text/latex": [
       "18.75"
      ],
      "text/markdown": [
       "18.75"
      ],
      "text/plain": [
       "[1] 18.75"
      ]
     },
     "metadata": {},
     "output_type": "display_data"
    }
   ],
   "source": [
    "375/20"
   ]
  },
  {
   "cell_type": "code",
   "execution_count": 333,
   "id": "b3a520dc-6320-4185-bd2e-5c2f9740a424",
   "metadata": {},
   "outputs": [
    {
     "data": {
      "text/html": [
       "<style>\n",
       ".list-inline {list-style: none; margin:0; padding: 0}\n",
       ".list-inline>li {display: inline-block}\n",
       ".list-inline>li:not(:last-child)::after {content: \"\\00b7\"; padding: 0 .5ex}\n",
       "</style>\n",
       "<ol class=list-inline><li>10226</li><li>375</li></ol>\n"
      ],
      "text/latex": [
       "\\begin{enumerate*}\n",
       "\\item 10226\n",
       "\\item 375\n",
       "\\end{enumerate*}\n"
      ],
      "text/markdown": [
       "1. 10226\n",
       "2. 375\n",
       "\n",
       "\n"
      ],
      "text/plain": [
       "[1] 10226   375"
      ]
     },
     "metadata": {},
     "output_type": "display_data"
    }
   ],
   "source": [
    "dim(counts_keep2)"
   ]
  },
  {
   "cell_type": "code",
   "execution_count": 201,
   "id": "4884824a-101f-45b2-988e-931acfd0fe83",
   "metadata": {},
   "outputs": [
    {
     "data": {
      "text/html": [
       "<style>\n",
       ".list-inline {list-style: none; margin:0; padding: 0}\n",
       ".list-inline>li {display: inline-block}\n",
       ".list-inline>li:not(:last-child)::after {content: \"\\00b7\"; padding: 0 .5ex}\n",
       "</style>\n",
       "<ol class=list-inline><li>10214</li><li>375</li></ol>\n"
      ],
      "text/latex": [
       "\\begin{enumerate*}\n",
       "\\item 10214\n",
       "\\item 375\n",
       "\\end{enumerate*}\n"
      ],
      "text/markdown": [
       "1. 10214\n",
       "2. 375\n",
       "\n",
       "\n"
      ],
      "text/plain": [
       "[1] 10214   375"
      ]
     },
     "metadata": {},
     "output_type": "display_data"
    }
   ],
   "source": [
    "dim(counts_keep2)"
   ]
  },
  {
   "cell_type": "code",
   "execution_count": 355,
   "id": "47c9f8b8-d4cd-4f4e-a1df-446a843181f6",
   "metadata": {},
   "outputs": [
    {
     "name": "stdout",
     "output_type": "stream",
     "text": [
      "Number of significant surrogate variables is:  21 \n",
      "Iteration (out of 5 ):1  2  3  4  5  "
     ]
    }
   ],
   "source": []
  },
  {
   "cell_type": "code",
   "execution_count": 356,
   "id": "ab8626b9-6a14-4f22-ab81-f2def351a12d",
   "metadata": {},
   "outputs": [],
   "source": []
  },
  {
   "cell_type": "code",
   "execution_count": 357,
   "id": "e3a7d254-88e7-4452-93aa-d674457b8b79",
   "metadata": {},
   "outputs": [],
   "source": []
  },
  {
   "cell_type": "code",
   "execution_count": 358,
   "id": "605b073f-af48-4d85-b72a-dbb33be03a29",
   "metadata": {},
   "outputs": [],
   "source": []
  },
  {
   "cell_type": "code",
   "execution_count": 359,
   "id": "203cb0ae-c9b4-495d-af93-215b68745405",
   "metadata": {},
   "outputs": [],
   "source": []
  },
  {
   "cell_type": "code",
   "execution_count": 360,
   "id": "0141f609-8f35-4ff1-bb2f-564231ff4b2d",
   "metadata": {},
   "outputs": [],
   "source": []
  },
  {
   "cell_type": "code",
   "execution_count": 361,
   "id": "d00a656a-3025-437e-a9ca-58ef8fad0633",
   "metadata": {},
   "outputs": [
    {
     "data": {
      "image/png": "[encoded data removed]",
      "text/plain": [
       "plot without title"
      ]
     },
     "metadata": {
      "image/png": {
       "height": 300,
       "width": 250
      }
     },
     "output_type": "display_data"
    }
   ],
   "source": [
    "library(ggplot2)\n",
    "options(repr.plot.width = 5, repr.plot.height =6, repr.plot.res = 100)\n",
    "\n",
    "ggplot(o, aes(x=pathway, y=score)) + \n",
    "  geom_bar(stat = \"identity\") +\n",
    "  coord_flip() + ylim(c(-2,2))+ geom_hline(yintercept=c(-1.3,1.3), linetype=\"dashed\", \n",
    "                color = \"red\", size=1)"
   ]
  },
  {
   "cell_type": "code",
   "execution_count": null,
   "id": "a2716c93-5f50-46eb-9952-b10a8a970bf4",
   "metadata": {},
   "outputs": [],
   "source": [
    "# analysis of dose dependency\n",
    "# show effect size as in figure 2\n",
    "# missense burden variant analysis as in Holstege et al "
   ]
  },
  {
   "cell_type": "code",
   "execution_count": 340,
   "id": "5fed982e-4037-41bc-9662-79af5df2edec",
   "metadata": {},
   "outputs": [
    {
     "data": {
      "image/png": "[encoded data removed]",
      "text/plain": [
       "plot without title"
      ]
     },
     "metadata": {
      "image/png": {
       "height": 300,
       "width": 250
      }
     },
     "output_type": "display_data"
    }
   ],
   "source": [
    "library(ggplot2)\n",
    "options(repr.plot.width = 5, repr.plot.height =6, repr.plot.res = 100)\n",
    "\n",
    "ggplot(o, aes(x=pathway, y=score)) + \n",
    "  geom_bar(stat = \"identity\") +\n",
    "  coord_flip() + ylim(c(-2,2))+ geom_hline(yintercept=c(-1.3,1.3), linetype=\"dashed\", \n",
    "                color = \"red\", size=1)"
   ]
  },
  {
   "cell_type": "code",
   "execution_count": 259,
   "id": "011f5203-d4a4-4009-b8b6-381b63cab113",
   "metadata": {},
   "outputs": [
    {
     "data": {
      "image/png": "[encoded data removed]",
      "text/plain": [
       "plot without title"
      ]
     },
     "metadata": {
      "image/png": {
       "height": 300,
       "width": 250
      }
     },
     "output_type": "display_data"
    }
   ],
   "source": [
    "library(ggplot2)\n",
    "options(repr.plot.width = 5, repr.plot.height =6, repr.plot.res = 100)\n",
    "\n",
    "ggplot(o, aes(x=pathway, y=score)) + \n",
    "  geom_bar(stat = \"identity\") +\n",
    "  coord_flip() + ylim(c(-2,2))+ geom_hline(yintercept=c(-1.3,1.3), linetype=\"dashed\", \n",
    "                color = \"red\", size=1)"
   ]
  },
  {
   "cell_type": "code",
   "execution_count": 242,
   "id": "3729a859-29f8-4ed5-abfd-8d2cc292c135",
   "metadata": {},
   "outputs": [
    {
     "data": {
      "image/png": "[encoded data removed]",
      "text/plain": [
       "plot without title"
      ]
     },
     "metadata": {
      "image/png": {
       "height": 300,
       "width": 250
      }
     },
     "output_type": "display_data"
    }
   ],
   "source": [
    "library(ggplot2)\n",
    "options(repr.plot.width = 5, repr.plot.height =6, repr.plot.res = 100)\n",
    "\n",
    "ggplot(o, aes(x=pathway, y=score)) + \n",
    "  geom_bar(stat = \"identity\") +\n",
    "  coord_flip() + ylim(c(-2,2))+ geom_hline(yintercept=c(-1,1), linetype=\"dashed\", \n",
    "                color = \"red\", size=1)"
   ]
  },
  {
   "cell_type": "code",
   "execution_count": 208,
   "id": "229e5922-e863-44fe-b01a-0c52764262fd",
   "metadata": {},
   "outputs": [
    {
     "name": "stderr",
     "output_type": "stream",
     "text": [
      "Warning message:\n",
      "“\u001b[1m\u001b[22mRemoved 1 rows containing missing values (`position_stack()`).”\n"
     ]
    },
    {
     "data": {
      "image/png": "[encoded data removed]",
      "text/plain": [
       "plot without title"
      ]
     },
     "metadata": {
      "image/png": {
       "height": 300,
       "width": 250
      }
     },
     "output_type": "display_data"
    }
   ],
   "source": [
    "library(ggplot2)\n",
    "options(repr.plot.width = 5, repr.plot.height =6, repr.plot.res = 100)\n",
    "\n",
    "ggplot(o, aes(x=pathway, y=score)) + \n",
    "  geom_bar(stat = \"identity\") +\n",
    "  coord_flip() + ylim(c(-2,2))+ geom_hline(yintercept=c(-1,1), linetype=\"dashed\", \n",
    "                color = \"red\", size=1)"
   ]
  },
  {
   "cell_type": "code",
   "execution_count": 190,
   "id": "792dae21-29d5-4954-a7a9-5ae525ba63f5",
   "metadata": {},
   "outputs": [
    {
     "data": {
      "image/png": "[encoded data removed]",
      "text/plain": [
       "plot without title"
      ]
     },
     "metadata": {
      "image/png": {
       "height": 300,
       "width": 250
      }
     },
     "output_type": "display_data"
    }
   ],
   "source": [
    "library(ggplot2)\n",
    "options(repr.plot.width = 5, repr.plot.height =6, repr.plot.res = 100)\n",
    "\n",
    "ggplot(o, aes(x=pathway, y=score)) + \n",
    "  geom_bar(stat = \"identity\") +\n",
    "  coord_flip() + ylim(c(-2,2))+ geom_hline(yintercept=c(-1,1), linetype=\"dashed\", \n",
    "                color = \"red\", size=1)"
   ]
  },
  {
   "cell_type": "code",
   "execution_count": 141,
   "id": "b558550c-34d5-42bb-9809-ab8e81a0c97a",
   "metadata": {},
   "outputs": [
    {
     "data": {
      "image/png": "[encoded data removed]",
      "text/plain": [
       "plot without title"
      ]
     },
     "metadata": {
      "image/png": {
       "height": 300,
       "width": 250
      }
     },
     "output_type": "display_data"
    }
   ],
   "source": [
    "library(ggplot2)\n",
    "options(repr.plot.width = 5, repr.plot.height =6, repr.plot.res = 100)\n",
    "\n",
    "ggplot(o, aes(x=pathway, y=score)) + \n",
    "  geom_bar(stat = \"identity\") +\n",
    "  coord_flip() + ylim(c(-2,2))+ geom_hline(yintercept=c(-1,1), linetype=\"dashed\", \n",
    "                color = \"red\", size=1)"
   ]
  },
  {
   "cell_type": "code",
   "execution_count": 117,
   "id": "40e101b5-e154-4491-af86-1918f787bf8d",
   "metadata": {},
   "outputs": [
    {
     "data": {
      "image/png": "[encoded data removed]",
      "text/plain": [
       "plot without title"
      ]
     },
     "metadata": {
      "image/png": {
       "height": 300,
       "width": 250
      }
     },
     "output_type": "display_data"
    }
   ],
   "source": [
    "library(ggplot2)\n",
    "options(repr.plot.width = 5, repr.plot.height =6, repr.plot.res = 100)\n",
    "\n",
    "ggplot(o, aes(x=pathway, y=score)) + \n",
    "  geom_bar(stat = \"identity\") +\n",
    "  coord_flip() + ylim(c(-2,2))+ geom_hline(yintercept=c(-1,1), linetype=\"dashed\", \n",
    "                color = \"red\", size=1)"
   ]
  },
  {
   "cell_type": "code",
   "execution_count": 101,
   "id": "8b0fe8b7-61cf-41b2-8407-a1fb8c7d9397",
   "metadata": {},
   "outputs": [
    {
     "data": {
      "image/png": "[encoded data removed]",
      "text/plain": [
       "plot without title"
      ]
     },
     "metadata": {
      "image/png": {
       "height": 300,
       "width": 250
      }
     },
     "output_type": "display_data"
    }
   ],
   "source": [
    "library(ggplot2)\n",
    "options(repr.plot.width = 5, repr.plot.height =6, repr.plot.res = 100)\n",
    "\n",
    "ggplot(o, aes(x=pathway, y=score)) + \n",
    "  geom_bar(stat = \"identity\") +\n",
    "  coord_flip() + ylim(c(-2,2))+ geom_hline(yintercept=c(-1,1), linetype=\"dashed\", \n",
    "                color = \"red\", size=1)"
   ]
  },
  {
   "cell_type": "code",
   "execution_count": 66,
   "id": "60452ed8-efe8-425f-b82c-8c2c28e55295",
   "metadata": {},
   "outputs": [
    {
     "data": {
      "image/png": "[encoded data removed]",
      "text/plain": [
       "plot without title"
      ]
     },
     "metadata": {
      "image/png": {
       "height": 300,
       "width": 250
      }
     },
     "output_type": "display_data"
    }
   ],
   "source": [
    "library(ggplot2)\n",
    "options(repr.plot.width = 5, repr.plot.height =6, repr.plot.res = 100)\n",
    "\n",
    "ggplot(o, aes(x=pathway, y=score)) + \n",
    "  geom_bar(stat = \"identity\") +\n",
    "  coord_flip() + ylim(c(-2,2))+ geom_hline(yintercept=c(-1,1), linetype=\"dashed\", \n",
    "                color = \"red\", size=1)"
   ]
  }
 ],
 "metadata": {
  "kernelspec": {
   "display_name": "R [conda env:.conda-r_env]",
   "language": "R",
   "name": "conda-env-.conda-r_env-r"
  },
  "language_info": {
   "codemirror_mode": "r",
   "file_extension": ".r",
   "mimetype": "text/x-r-source",
   "name": "R",
   "pygments_lexer": "r",
   "version": "4.2.3"
  }
 },
 "nbformat": 4,
 "nbformat_minor": 5
}

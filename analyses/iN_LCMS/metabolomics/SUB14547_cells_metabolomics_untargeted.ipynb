{
 "cells": [
  {
   "cell_type": "code",
   "execution_count": 1,
   "metadata": {},
   "outputs": [],
   "source": [
    "# import packages\n",
    "import numpy as np\n",
    "import pandas as pd\n",
    "from sklearn.decomposition import PCA\n",
    "from sklearn.preprocessing import StandardScaler\n",
    "import seaborn as sns\n",
    "import matplotlib.pyplot as plt\n",
    "import matplotlib.patches as patches\n",
    "from matplotlib.lines import Line2D\n",
    "from scipy.stats import ttest_ind\n",
    "import statsmodels.stats.multitest as smm\n",
    "from adjustText import adjust_text\n",
    "import os\n",
    "\n",
    "from statannotations.Annotator import Annotator"
   ]
  },
  {
   "cell_type": "code",
   "execution_count": 2,
   "metadata": {},
   "outputs": [
    {
     "name": "stderr",
     "output_type": "stream",
     "text": [
      "/Users/djuna/Library/Python/3.9/lib/python/site-packages/openpyxl/worksheet/_reader.py:329: UserWarning: Conditional Formatting extension is not supported and will be removed\n",
      "  warn(msg)\n"
     ]
    }
   ],
   "source": [
    "# Load data \n",
    "output_dir = '../../LCMS/'\n",
    "\n",
    "# Load the Excel file\n",
    "excel_file = os.path.join(output_dir, '9705.SUB14547_MetabolomicsData.xlsx')\n",
    "\n",
    "# Load the sheet into a DataFrame\n",
    "sheet_name = 'Untargeted'  # Replace with the actual sheet name if different\n",
    "data = pd.read_excel(excel_file, sheet_name=sheet_name)\n",
    "metadata = pd.read_excel(excel_file, sheet_name='SamplesNames')"
   ]
  },
  {
   "cell_type": "code",
   "execution_count": 67,
   "metadata": {},
   "outputs": [
    {
     "name": "stderr",
     "output_type": "stream",
     "text": [
      "/var/folders/y7/zpj5hbtd2bl78b1t9h2723hw0000gn/T/ipykernel_71290/3882753133.py:2: SettingWithCopyWarning: \n",
      "A value is trying to be set on a copy of a slice from a DataFrame.\n",
      "Try using .loc[row_indexer,col_indexer] = value instead\n",
      "\n",
      "See the caveats in the documentation: https://pandas.pydata.org/pandas-docs/stable/user_guide/indexing.html#returning-a-view-versus-a-copy\n",
      "  meta['grp'] = [x.split('_')[-1] for x in meta['Unnamed: 1']]\n"
     ]
    }
   ],
   "source": [
    "meta = metadata.iloc[3:22]\n",
    "meta['grp'] = [x.split('_')[-1] for x in meta['Unnamed: 1']]"
   ]
  },
  {
   "cell_type": "code",
   "execution_count": 68,
   "metadata": {},
   "outputs": [],
   "source": [
    "dictionary_grp = dict(zip(meta['grp'], meta['Unnamed: 3']))\n",
    "dictionary_date = dict(zip(meta['grp'], meta['Unnamed: 4']))"
   ]
  },
  {
   "cell_type": "code",
   "execution_count": 69,
   "metadata": {},
   "outputs": [
    {
     "data": {
      "text/plain": [
       "{'SPL01': 'Y622_H2O',\n",
       " 'SPL02': 'Y622_CDPCholine',\n",
       " 'SPL03': 'Y622_CDPCholine',\n",
       " 'SPL04': 'Y622_H2O',\n",
       " 'SPL05': 'Y622_CDPCholine',\n",
       " 'SPL06': 'Y622_CDPCholine',\n",
       " 'SPL07': 'E3_H2O',\n",
       " 'SPL08': 'E3_H2O',\n",
       " 'SPL09': 'E3_H2O',\n",
       " 'SPL10': 'E3_H2O',\n",
       " 'SPL11': 'Y622_H2O',\n",
       " 'SPL12': 'Y622_H2O',\n",
       " 'SPL13': 'Y622_CDPCholine',\n",
       " 'SPL14': 'Y622_CDPCholine',\n",
       " 'SPL15': 'Y622_CDPCholine',\n",
       " 'SPL16': 'Y622_CDPCholine',\n",
       " 'SPL17': 'G2_H2O',\n",
       " 'SPL18': 'G2_H2O',\n",
       " 'SPL19': 'G2_H2O'}"
      ]
     },
     "execution_count": 69,
     "metadata": {},
     "output_type": "execute_result"
    }
   ],
   "source": [
    "dictionary_grp"
   ]
  },
  {
   "cell_type": "code",
   "execution_count": 73,
   "metadata": {},
   "outputs": [],
   "source": [
    "areas = data.iloc[7:,49:68]\n",
    "areas.columns = data.iloc[4,49:68]"
   ]
  },
  {
   "cell_type": "code",
   "execution_count": 74,
   "metadata": {},
   "outputs": [],
   "source": [
    "dates = areas.columns.map(dictionary_date)\n",
    "names = areas.columns.map(dictionary_grp)"
   ]
  },
  {
   "cell_type": "code",
   "execution_count": 75,
   "metadata": {},
   "outputs": [
    {
     "data": {
      "text/plain": [
       "(1240, 19)"
      ]
     },
     "execution_count": 75,
     "metadata": {},
     "output_type": "execute_result"
    }
   ],
   "source": [
    "areas.shape"
   ]
  },
  {
   "cell_type": "code",
   "execution_count": 76,
   "metadata": {},
   "outputs": [],
   "source": [
    "\n",
    "areas_selected = areas.loc[:,dates == '4_24']\n",
    "names_selected = names[dates == '4_24']"
   ]
  },
  {
   "cell_type": "code",
   "execution_count": 77,
   "metadata": {},
   "outputs": [
    {
     "data": {
      "text/plain": [
       "<matplotlib.lines.Line2D at 0x177503ee0>"
      ]
     },
     "execution_count": 77,
     "metadata": {},
     "output_type": "execute_result"
    },
    {
     "data": {
      "image/png": "[encoded data removed]",
      "text/plain": [
       "<Figure size 250x250 with 1 Axes>"
      ]
     },
     "metadata": {},
     "output_type": "display_data"
    }
   ],
   "source": [
    "# only look at E3 vs G2\n",
    "\n",
    "\n",
    "# perform PCA\n",
    "scaler = StandardScaler()\n",
    "norm_areas_subset_no_background_scaled = scaler.fit_transform(areas_selected.T)\n",
    "\n",
    "pca = PCA(n_components=4)\n",
    "principal_components = pca.fit_transform(norm_areas_subset_no_background_scaled)\n",
    "principal_components = pd.DataFrame(data=principal_components, columns=['PC1', 'PC2', 'PC3', 'PC4'])\n",
    "principal_components['condition'] = names_selected\n",
    "\n",
    "# plot PCA\n",
    "plt.figure(figsize=(2.5, 2.5))\n",
    "palette = {'E3_H2O': 'grey', 'Y622_H2O' : 'orange', 'G2_H2O': 'blue', 'Y622_CDPCholine' : 'purple'}\n",
    "sns.scatterplot(x='PC1', y='PC2', hue='condition', data=principal_components, palette=palette, edgecolor='w')\n",
    "explained_variance = pca.explained_variance_ratio_\n",
    "plt.xlabel(f'PC 1 ({explained_variance[0]*100:.2f}%)')\n",
    "plt.ylabel(f'PC 2 ({explained_variance[1]*100:.2f}%)')\n",
    "plt.legend(title='Line', bbox_to_anchor=(1.05, 1), loc='upper left')\n",
    "# Remove the existing legend\n",
    "plt.legend([],[], frameon=False)\n",
    "\n",
    "# Add a custom legend based on marker type\n",
    "legend_elements = [\n",
    "    Line2D([0], [0], marker='o', color='w',\n",
    "           markerfacecolor='orange', markersize=10,linestyle='None', label='Y622_H2O'),\n",
    "    Line2D([0], [0], marker='o', markerfacecolor='purple',color='w',\n",
    "           markersize=10, linestyle='None', label='Y622_CDPCholine'),\n",
    "               Line2D([0], [0], marker='o', markerfacecolor='grey',color='w',\n",
    "           markersize=10, linestyle='None', label='E3_H2O'),\n",
    "               Line2D([0], [0], marker='o', markerfacecolor='blue',color='w',\n",
    "           markersize=10, linestyle='None', label='G2_H2O')\n",
    "]\n",
    "plt.legend(handles=legend_elements, title='', bbox_to_anchor=(.5, 1.5), loc='upper center', frameon=False)\n",
    "# Add vertical line along the mean of PC1\n",
    "mean_pc1 = principal_components['PC1'].median()\n",
    "plt.axvline(x=mean_pc1, color='black', linestyle='--',  linewidth=0.5)\n",
    "\n"
   ]
  },
  {
   "cell_type": "code",
   "execution_count": 78,
   "metadata": {},
   "outputs": [
    {
     "data": {
      "text/plain": [
       "False"
      ]
     },
     "execution_count": 78,
     "metadata": {},
     "output_type": "execute_result"
    }
   ],
   "source": [
    "# Are there any annotations based on the blank used for background subtraction?\n",
    "\n",
    "# I don't see any extraction blank columns so we don't have to check for higher signal in the non-blanks vs the blanks\n",
    "'Background' in set(data.iloc[:,2].unique())\n"
   ]
  },
  {
   "cell_type": "code",
   "execution_count": 79,
   "metadata": {},
   "outputs": [
    {
     "data": {
      "text/plain": [
       "{'Bad integration;FISHhit',\n",
       " 'FISHhit',\n",
       " 'Level 1 ID',\n",
       " 'Level 2 ID',\n",
       " 'MasslistRT ID',\n",
       " 'Other ID',\n",
       " 'Tags',\n",
       " 'Tags\\nImportant, please read report',\n",
       " 'Weak/poor match',\n",
       " nan}"
      ]
     },
     "execution_count": 79,
     "metadata": {},
     "output_type": "execute_result"
    }
   ],
   "source": [
    "set(data.iloc[:,2].unique())"
   ]
  },
  {
   "cell_type": "code",
   "execution_count": 80,
   "metadata": {},
   "outputs": [],
   "source": [
    "# get stats data\n",
    "compoundnames = np.array(data.iloc[7:,1])\n",
    "tags = np.array(data.iloc[7:,2])"
   ]
  },
  {
   "cell_type": "code",
   "execution_count": 81,
   "metadata": {},
   "outputs": [
    {
     "data": {
      "text/plain": [
       "Index(['E3_H2O', 'E3_H2O', 'E3_H2O', 'E3_H2O', 'G2_H2O', 'G2_H2O', 'G2_H2O',\n",
       "       'Y622_CDPCholine', 'Y622_CDPCholine', 'Y622_CDPCholine',\n",
       "       'Y622_CDPCholine', 'Y622_H2O', 'Y622_H2O'],\n",
       "      dtype='object', name=4)"
      ]
     },
     "execution_count": 81,
     "metadata": {},
     "output_type": "execute_result"
    }
   ],
   "source": [
    "names_selected"
   ]
  },
  {
   "cell_type": "code",
   "execution_count": 85,
   "metadata": {},
   "outputs": [
    {
     "data": {
      "text/plain": [
       "(10, 6)"
      ]
     },
     "execution_count": 85,
     "metadata": {},
     "output_type": "execute_result"
    }
   ],
   "source": [
    "from scipy.stats import ttest_ind\n",
    "\n",
    "# Assuming 'data' is a DataFrame with the relevant data\n",
    "# and 'names_no_blank' is a list or array of group labels corresponding to the rows in 'data'\n",
    "\n",
    "# Create a dictionary to store t-test results for each row\n",
    "t_test_results = {}\n",
    "\n",
    "# Iterate over each row in the data\n",
    "for index, row in areas_selected.iterrows():\n",
    "    # Get the values for the current row\n",
    "    values = row.values.astype(float)\n",
    "    # Separate the values into two groups based on 'names_no_blank'\n",
    "    group1 = values[names_selected == 'E3_H2O']\n",
    "    group2 = values[names_selected == 'G2_H2O']\n",
    "    \n",
    "    # Perform t-test between the two groups\n",
    "    t_stat, p_value = ttest_ind(group1, group2, nan_policy='omit')\n",
    "    \n",
    "    # Calculate log2 fold change\n",
    "    mean_group1 = np.mean(group1)\n",
    "    mean_group2 = np.mean(group2)\n",
    "    log2_fold_change = np.log2(mean_group2 / mean_group1) if mean_group1 != 0 else np.nan\n",
    "    \n",
    "    # Store the t-test results and log2 fold change\n",
    "    t_test_results[index] = {'t_stat': t_stat, 'p_value': p_value, 'log2_fold_change': log2_fold_change}\n",
    "\n",
    "# Convert the results to a DataFrame for easier viewing\n",
    "t_test_results_df = pd.DataFrame.from_dict(t_test_results, orient='index')\n",
    "\n",
    "t_test_results_df['names'] = compoundnames\n",
    "t_test_results_df['tags'] = tags\n",
    "from statsmodels.stats.multitest import multipletests\n",
    "\n",
    "# Perform FDR correction on p-values\n",
    "_, fdr_corrected_pvals, _, _ = multipletests(t_test_results_df['p_value'], alpha=0.05, method='fdr_bh')\n",
    "\n",
    "# Add the FDR corrected p-values to the DataFrame\n",
    "t_test_results_df['fdr_corrected_p_value'] = fdr_corrected_pvals\n",
    "t_test_results_df[(t_test_results_df['fdr_corrected_p_value']<0.05) & np.abs(t_test_results_df['log2_fold_change']>1)].shape"
   ]
  },
  {
   "cell_type": "code",
   "execution_count": 83,
   "metadata": {},
   "outputs": [
    {
     "data": {
      "text/html": [
       "<div>\n",
       "<style scoped>\n",
       "    .dataframe tbody tr th:only-of-type {\n",
       "        vertical-align: middle;\n",
       "    }\n",
       "\n",
       "    .dataframe tbody tr th {\n",
       "        vertical-align: top;\n",
       "    }\n",
       "\n",
       "    .dataframe thead th {\n",
       "        text-align: right;\n",
       "    }\n",
       "</style>\n",
       "<table border=\"1\" class=\"dataframe\">\n",
       "  <thead>\n",
       "    <tr style=\"text-align: right;\">\n",
       "      <th></th>\n",
       "      <th>t_stat</th>\n",
       "      <th>p_value</th>\n",
       "      <th>log2_fold_change</th>\n",
       "      <th>names</th>\n",
       "      <th>tags</th>\n",
       "      <th>fdr_corrected_p_value</th>\n",
       "    </tr>\n",
       "  </thead>\n",
       "  <tbody>\n",
       "  </tbody>\n",
       "</table>\n",
       "</div>"
      ],
      "text/plain": [
       "Empty DataFrame\n",
       "Columns: [t_stat, p_value, log2_fold_change, names, tags, fdr_corrected_p_value]\n",
       "Index: []"
      ]
     },
     "execution_count": 83,
     "metadata": {},
     "output_type": "execute_result"
    }
   ],
   "source": [
    "from scipy.stats import ttest_ind\n",
    "\n",
    "# Assuming 'data' is a DataFrame with the relevant data\n",
    "# and 'names_no_blank' is a list or array of group labels corresponding to the rows in 'data'\n",
    "\n",
    "# Create a dictionary to store t-test results for each row\n",
    "t_test_results = {}\n",
    "\n",
    "# Iterate over each row in the data\n",
    "for index, row in areas_selected.iterrows():\n",
    "    # Get the values for the current row\n",
    "    values = row.values.astype(float)\n",
    "    # Separate the values into two groups based on 'names_no_blank'\n",
    "    group1 = values[names_selected == 'E3_H2O']\n",
    "    group2 = values[names_selected == 'Y622_H2O']\n",
    "    \n",
    "    # Perform t-test between the two groups\n",
    "    t_stat, p_value = ttest_ind(group1, group2, nan_policy='omit')\n",
    "    \n",
    "    # Calculate log2 fold change\n",
    "    mean_group1 = np.mean(group1)\n",
    "    mean_group2 = np.mean(group2)\n",
    "    log2_fold_change = np.log2(mean_group2 / mean_group1) if mean_group1 != 0 else np.nan\n",
    "    \n",
    "    # Store the t-test results and log2 fold change\n",
    "    t_test_results[index] = {'t_stat': t_stat, 'p_value': p_value, 'log2_fold_change': log2_fold_change}\n",
    "\n",
    "# Convert the results to a DataFrame for easier viewing\n",
    "t_test_results_df = pd.DataFrame.from_dict(t_test_results, orient='index')\n",
    "\n",
    "t_test_results_df['names'] = compoundnames\n",
    "t_test_results_df['tags'] = tags\n",
    "from statsmodels.stats.multitest import multipletests\n",
    "\n",
    "# Perform FDR correction on p-values\n",
    "_, fdr_corrected_pvals, _, _ = multipletests(t_test_results_df['p_value'], alpha=0.05, method='fdr_bh')\n",
    "\n",
    "# Add the FDR corrected p-values to the DataFrame\n",
    "t_test_results_df['fdr_corrected_p_value'] = fdr_corrected_pvals\n",
    "t_test_results_df[(t_test_results_df['fdr_corrected_p_value']<0.05) & np.abs(t_test_results_df['log2_fold_change']>1)]"
   ]
  },
  {
   "cell_type": "code",
   "execution_count": 84,
   "metadata": {},
   "outputs": [
    {
     "data": {
      "text/html": [
       "<div>\n",
       "<style scoped>\n",
       "    .dataframe tbody tr th:only-of-type {\n",
       "        vertical-align: middle;\n",
       "    }\n",
       "\n",
       "    .dataframe tbody tr th {\n",
       "        vertical-align: top;\n",
       "    }\n",
       "\n",
       "    .dataframe thead th {\n",
       "        text-align: right;\n",
       "    }\n",
       "</style>\n",
       "<table border=\"1\" class=\"dataframe\">\n",
       "  <thead>\n",
       "    <tr style=\"text-align: right;\">\n",
       "      <th></th>\n",
       "      <th>t_stat</th>\n",
       "      <th>p_value</th>\n",
       "      <th>log2_fold_change</th>\n",
       "      <th>names</th>\n",
       "      <th>tags</th>\n",
       "      <th>fdr_corrected_p_value</th>\n",
       "    </tr>\n",
       "  </thead>\n",
       "  <tbody>\n",
       "    <tr>\n",
       "      <th>397</th>\n",
       "      <td>-30.429078</td>\n",
       "      <td>0.000007</td>\n",
       "      <td>2.410050</td>\n",
       "      <td>NaN</td>\n",
       "      <td>NaN</td>\n",
       "      <td>0.00457</td>\n",
       "    </tr>\n",
       "    <tr>\n",
       "      <th>1099</th>\n",
       "      <td>-29.982041</td>\n",
       "      <td>0.000007</td>\n",
       "      <td>1.103801</td>\n",
       "      <td>NaN</td>\n",
       "      <td>NaN</td>\n",
       "      <td>0.00457</td>\n",
       "    </tr>\n",
       "  </tbody>\n",
       "</table>\n",
       "</div>"
      ],
      "text/plain": [
       "         t_stat   p_value  log2_fold_change names tags  fdr_corrected_p_value\n",
       "397  -30.429078  0.000007          2.410050   NaN  NaN                0.00457\n",
       "1099 -29.982041  0.000007          1.103801   NaN  NaN                0.00457"
      ]
     },
     "execution_count": 84,
     "metadata": {},
     "output_type": "execute_result"
    }
   ],
   "source": [
    "from scipy.stats import ttest_ind\n",
    "\n",
    "# Assuming 'data' is a DataFrame with the relevant data\n",
    "# and 'names_no_blank' is a list or array of group labels corresponding to the rows in 'data'\n",
    "\n",
    "# Create a dictionary to store t-test results for each row\n",
    "t_test_results = {}\n",
    "\n",
    "# Iterate over each row in the data\n",
    "for index, row in areas_selected.iterrows():\n",
    "    # Get the values for the current row\n",
    "    values = row.values.astype(float)\n",
    "    # Separate the values into two groups based on 'names_no_blank'\n",
    "    group1 = values[names_selected == 'Y622_CDPCholine']\n",
    "    group2 = values[names_selected == 'Y622_H2O']\n",
    "    \n",
    "    # Perform t-test between the two groups\n",
    "    t_stat, p_value = ttest_ind(group1, group2, nan_policy='omit')\n",
    "    \n",
    "    # Calculate log2 fold change\n",
    "    mean_group1 = np.mean(group1)\n",
    "    mean_group2 = np.mean(group2)\n",
    "    log2_fold_change = np.log2(mean_group2 / mean_group1) if mean_group1 != 0 else np.nan\n",
    "    \n",
    "    # Store the t-test results and log2 fold change\n",
    "    t_test_results[index] = {'t_stat': t_stat, 'p_value': p_value, 'log2_fold_change': log2_fold_change}\n",
    "\n",
    "# Convert the results to a DataFrame for easier viewing\n",
    "t_test_results_df = pd.DataFrame.from_dict(t_test_results, orient='index')\n",
    "\n",
    "t_test_results_df['names'] = compoundnames\n",
    "t_test_results_df['tags'] = tags\n",
    "from statsmodels.stats.multitest import multipletests\n",
    "\n",
    "# Perform FDR correction on p-values\n",
    "_, fdr_corrected_pvals, _, _ = multipletests(t_test_results_df['p_value'], alpha=0.05, method='fdr_bh')\n",
    "\n",
    "# Add the FDR corrected p-values to the DataFrame\n",
    "t_test_results_df['fdr_corrected_p_value'] = fdr_corrected_pvals\n",
    "t_test_results_df[(t_test_results_df['fdr_corrected_p_value']<0.05) & np.abs(t_test_results_df['log2_fold_change']>1)]"
   ]
  },
  {
   "cell_type": "code",
   "execution_count": 90,
   "metadata": {},
   "outputs": [
    {
     "data": {
      "text/plain": [
       "0"
      ]
     },
     "execution_count": 90,
     "metadata": {},
     "output_type": "execute_result"
    }
   ],
   "source": [
    "np.sum(compoundnames=='choline')"
   ]
  }
 ],
 "metadata": {
  "kernelspec": {
   "display_name": "Python 3",
   "language": "python",
   "name": "python3"
  },
  "language_info": {
   "codemirror_mode": {
    "name": "ipython",
    "version": 3
   },
   "file_extension": ".py",
   "mimetype": "text/x-python",
   "name": "python",
   "nbconvert_exporter": "python",
   "pygments_lexer": "ipython3",
   "version": "3.9.6"
  }
 },
 "nbformat": 4,
 "nbformat_minor": 2
}

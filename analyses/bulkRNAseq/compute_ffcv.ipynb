{
 "cells": [
  {
   "cell_type": "code",
   "execution_count": 1,
   "metadata": {
    "vscode": {
     "languageId": "r"
    }
   },
   "outputs": [],
   "source": [
    "library(fgsea)\n",
    "library(jsonlite)\n"
   ]
  },
  {
   "cell_type": "code",
   "execution_count": 2,
   "metadata": {
    "vscode": {
     "languageId": "r"
    }
   },
   "outputs": [],
   "source": [
    "get_scores = function(x) {\n",
    "  scores = sign(x$logFC) * -log10(x$P.Value)\n",
    "  names(scores) = x$genes\n",
    "  sorted_scores = sort(scores, decreasing = TRUE)\n",
    "  print(length(sorted_scores))\n",
    "  print(length(unique(names(sorted_scores))))\n",
    "  return(sorted_scores)\n",
    "}\n",
    "\n",
    "get_geneset = function(x) {\n",
    "  return(unique(unlist(x[x$padj<0.05]$leadingEdge)))\n",
    "}\n"
   ]
  },
  {
   "cell_type": "code",
   "execution_count": 3,
   "metadata": {
    "vscode": {
     "languageId": "r"
    }
   },
   "outputs": [
    {
     "name": "stdout",
     "output_type": "stream",
     "text": [
      "[1] 13170\n",
      "[1] 13169\n",
      "[1] 13170\n",
      "[1] 13169\n",
      "[1] 13170\n",
      "[1] 13169\n",
      "[1] 13170\n",
      "[1] 13169\n"
     ]
    }
   ],
   "source": [
    "# load data \n",
    "data1 <- read.csv('../../bulkRNAseq/y622_degs.csv', row.names=1)\n",
    "data1_scores = get_scores(data1)\n",
    "data2 <- read.csv('../../bulkRNAseq/choline_degs.csv', row.names=1)\n",
    "data2_scores = get_scores(data2)\n",
    "data3 <- read.csv('../../bulkRNAseq/g2_degs.csv', row.names=1)\n",
    "data3_scores = get_scores(data3)\n",
    "data4 <- read.csv('../../bulkRNAseq/choline_batch2_degs.csv', row.names=1)\n",
    "data4_scores = get_scores(data4)\n",
    "\n",
    "# compute fgsea results\n",
    "all_paths = read.csv('../../processed_data/all_paths.csv', row.names = 'X')\n",
    "pathways = as.list(as.data.frame(t(all_paths)))\n",
    "temp = lapply(names(pathways), function(x) pathways[[x]][!(pathways[[x]]=='')])\n",
    "names(temp) = names(pathways)"
   ]
  },
  {
   "cell_type": "code",
   "execution_count": 38,
   "metadata": {
    "vscode": {
     "languageId": "r"
    }
   },
   "outputs": [
    {
     "name": "stdout",
     "output_type": "stream",
     "text": [
      "  |======================================================================| 100%\n",
      "\n",
      "  |======================================================================| 100%\n",
      "\n",
      "  |======================================================================| 100%\n",
      "\n",
      "  |======================================================================| 100%\n",
      "\n"
     ]
    }
   ],
   "source": [
    "set.seed(5)\n",
    "# load degs\n",
    "data1_out = fgsea(pathways = temp, stats = data1_scores[!duplicated(names(data1_scores))], minSize = 5, maxSize = 1000, nproc=1, nPermSimple=10000)\n",
    "data2_out = fgsea(pathways = temp, stats = data2_scores[!duplicated(names(data2_scores))], minSize = 5, maxSize = 1000, nproc=1, nPermSimple=10000)\n",
    "data3_out = fgsea(pathways = temp, stats = data3_scores[!duplicated(names(data3_scores))], minSize = 5, maxSize = 1000, nproc=1, nPermSimple=10000)\n",
    "data4_out = fgsea(pathways = temp, stats = data4_scores[!duplicated(names(data4_scores))], minSize = 5, maxSize = 1000, nproc=1, nPermSimple=10000)\n",
    "\n"
   ]
  },
  {
   "cell_type": "code",
   "execution_count": 39,
   "metadata": {
    "vscode": {
     "languageId": "r"
    }
   },
   "outputs": [
    {
     "name": "stdout",
     "output_type": "stream",
     "text": [
      "[1] 15\n",
      "[1] 15\n"
     ]
    }
   ],
   "source": [
    "print(sum(data1_out$padj<0.05))\n",
    "\n",
    "print(sum(data3_out$padj<0.05))"
   ]
  },
  {
   "cell_type": "code",
   "execution_count": 51,
   "metadata": {
    "vscode": {
     "languageId": "r"
    }
   },
   "outputs": [
    {
     "data": {
      "text/html": [
       "<table class=\"dataframe\">\n",
       "<caption>A data.table: 15 x 8</caption>\n",
       "<thead>\n",
       "\t<tr><th scope=col>pathway</th><th scope=col>pval</th><th scope=col>padj</th><th scope=col>log2err</th><th scope=col>ES</th><th scope=col>NES</th><th scope=col>size</th><th scope=col>leadingEdge</th></tr>\n",
       "\t<tr><th scope=col>&lt;chr&gt;</th><th scope=col>&lt;dbl&gt;</th><th scope=col>&lt;dbl&gt;</th><th scope=col>&lt;dbl&gt;</th><th scope=col>&lt;dbl&gt;</th><th scope=col>&lt;dbl&gt;</th><th scope=col>&lt;int&gt;</th><th scope=col>&lt;list&gt;</th></tr>\n",
       "</thead>\n",
       "<tbody>\n",
       "\t<tr><td>Cholesterol Biosynthesis Pathway WP197                        </td><td>1.512156e-03</td><td>4.425577e-02</td><td>0.4550599</td><td> 0.7368725</td><td> 1.732358</td><td> 15</td><td>SQLE   , HMGCR  , LSS    , IDI1   , DHCR7  , MVD    , SC5D   , CYP51A1</td></tr>\n",
       "\t<tr><td>Cytoplasmic Ribosomal Proteins WP477                          </td><td>5.319857e-06</td><td>3.892362e-04</td><td>0.6105269</td><td>-0.5027162</td><td>-1.973062</td><td> 86</td><td>RPS4X  , RPL7   , RPL18A , RPS5   , RPS8   , RPL41  , RPL4   , RPL29  , RPL26  , RPL38  , RPL34  , RPL17  , RPS6   , MRPL19 , RPS6KB2, RPS19  , RPS17  , RPS18  , RPL6   , RPL5   , RPL19  , RPS6KA3, RPL36A , RPL9   , RPS14  , RPL21  , RPL35  , RPL27  , RPL11  , RPL10A , RPS24  , RPL23A , RPS15  , RPL3   , FAU    , RPS9   , RPS3   , RPS16  , RPL31  , RPS25  </td></tr>\n",
       "\t<tr><td>DNA Replication WP466                                         </td><td>2.726657e-04</td><td>1.355195e-02</td><td>0.4984931</td><td>-0.5736753</td><td>-1.922234</td><td> 39</td><td>GMNN , RPA2 , ORC3 , RFC4 , ORC4 , RFC2 , MCM7 , POLD3, ORC5 , PRIM1, POLD2, CDK2 , RFC3 , CDT1 , PCNA , ORC6 </td></tr>\n",
       "\t<tr><td>Electron Transport Chain (OXPHOS system in mitochondria) WP111</td><td>1.035193e-14</td><td>4.544495e-12</td><td>0.9865463</td><td>-0.6879996</td><td>-2.700263</td><td> 86</td><td>UQCRFS1 , COX7A2  , NDUFB8  , UQCRC1  , UQCR10  , NDUFA12 , COX6A1  , NDUFA6  , NDUFA1  , ATP5F1C , SDHB    , ATP5IF1 , COX7A2L , NDUFS4  , NDUFA10 , UQCRH   , NDUFB3  , SDHD    , ATP5MG  , COX5B   , ATP5PB  , NDUFV1  , ATP5F1A , NDUFA4  , SDHC    , SURF1   , NDUFB6  , NDUFS2  , ATP5PF  , SLC25A14, SLC25A4 , NDUFB7  , UQCR11  , NDUFS3  , NDUFB9  , COX4I1  , NDUFB2  , COX7B   , ATP5PO  , NDUFC2  , COX5A   , SDHA    , NDUFAB1 </td></tr>\n",
       "\t<tr><td>Eukaryotic Transcription Initiation WP405                     </td><td>5.591711e-04</td><td>2.454761e-02</td><td>0.4772708</td><td>-0.5472788</td><td>-1.859332</td><td> 41</td><td>TAF9  , POLR1E, POLR3K, CDK7  , TAF12 , POLR2K, CCNH  , POLR3H, POLR3D, POLR2C, TBP   , POLR2G, GTF2E2, POLR2I, POLR2J, POLR2H, GTF2H1, GTF2A2, GTF2H2, ERCC3 , POLR2E</td></tr>\n",
       "\t<tr><td>GABA receptor Signaling WP4159                                </td><td>1.853151e-06</td><td>1.627067e-04</td><td>0.6435518</td><td> 0.7601539</td><td> 2.017639</td><td> 26</td><td>GABRE  , GABRA3 , GABRB1 , GABRG3 , GABRA2 , GABRG2 , GABRG1 , ABAT   , GABRQ  , GABRA5 , GAD1   , SLC6A11, GPHN   , GABRB3 , ALDH9A1, AP2A2  , AP2A1  , GABBR1 , SLC6A1 , GABRB2 </td></tr>\n",
       "\t<tr><td>GPCRs, Class A Rhodopsin-like WP455                           </td><td>1.243314e-03</td><td>4.425577e-02</td><td>0.4550599</td><td> 0.5087786</td><td> 1.642741</td><td> 77</td><td>PRLHR , SSTR2 , NPY1R , OPRK1 , OPN3  , CXCR4 , GPR83 , GPR27 , NPY5R , HTR7  , GPR45 , PTGER3, ADORA1, HTR2C , DRD5  , F2R   , HCRTR1, GPR68 , HCRTR2, HTR6  , DRD2  , ADRA1D, GPR3  </td></tr>\n",
       "\t<tr><td>Integrin-mediated Cell Adhesion WP185                         </td><td>2.778304e-04</td><td>1.355195e-02</td><td>0.4984931</td><td> 0.5340789</td><td> 1.718618</td><td> 75</td><td>ITGA6  , MAP2K5 , VCL    , ITGAV  , CAPN1  , PAK4   , PAK1   , CAV2   , GIT2   , ITGA9  , SRC    , SOS1   , MAPK6  , CRK    , VAV2   , CAPN10 , CAPN2  , MAPK1  , ITGB1  , RAP1A  , RAPGEF1, MAP2K6 , ITGB8  , AKT3   , ARHGEF7, MAP2K1 , BRAF   , SHC3   , MAPK4  , ZYX    , CAPNS1 , ITGA1  , GRB2   , MAP2K3 , MAPK12 , AKT1   , ITGA2B , MAPK10 , PTK2   , TNS1   , RAF1   , HRAS   , PAK3   </td></tr>\n",
       "\t<tr><td>Mitochondrial complex I assembly model OXPHOS system WP4324   </td><td>3.934015e-07</td><td>5.756775e-05</td><td>0.6749629</td><td>-0.6519385</td><td>-2.308023</td><td> 50</td><td>NDUFB8  , NDUFA12 , FOXRED1 , NDUFA6  , NDUFA1  , NDUFAF6 , NDUFS4  , NDUFA10 , TIMMDC1 , NDUFB3  , NDUFV1  , NDUFAF1 , TMEM70  , NDUFB6  , NDUFS2  , NDUFAF3 , NDUFB7  , NDUFS3  , NDUFB9  , TMEM186 , NDUFB2  , ECSIT   , NDUFA13 , NDUFC2  , NDUFAB1 , NDUFA8  , DMAC2   , TMEM126B, COA1    , NDUFB10 , NDUFB11 , NDUFA5  , NDUFS5  , NDUFC1  , NDUFAF4 , NDUFA2  , NDUFB5  , NDUFS6  , NDUFAF2 </td></tr>\n",
       "\t<tr><td>Nanoparticle-mediated activation of receptor signaling WP2643 </td><td>1.472291e-03</td><td>4.425577e-02</td><td>0.4550599</td><td> 0.6440455</td><td> 1.709458</td><td> 26</td><td>MAPK8 , FN1   , MAPK9 , SRC   , SOS1  , MAPK1 , ITGB1 , KRAS  , MAPK14, AKT3  , MAP2K1, NRAS  , MAPK13, ITGA1 , GRB2  , MAPK12, MAPK10, PTK2  , RAF1  , HRAS  , MAPK11</td></tr>\n",
       "\t<tr><td>Nonalcoholic fatty liver disease WP4396                       </td><td>7.538797e-07</td><td>8.273829e-05</td><td>0.6594444</td><td>-0.4610508</td><td>-1.910106</td><td>126</td><td>UQCRFS1, CASP3  , COX7A2 , JUN    , BID    , PIK3R1 , NDUFB8 , UQCRC1 , UQCR10 , NDUFA12, COX6A1 , CYC1   , INSR   , NDUFA6 , NDUFA1 , SDHB   , COX7A2L, NDUFS4 , NDUFA10, NR1H3  , UQCRH  , DDIT3  , NDUFB3 , SDHD   , COX5B  , XBP1   , NDUFV1 , PRKAB1 , NDUFA4 , SDHC   , NDUFB6 , NDUFS2 , NDUFB7 , UQCR11 , NDUFS3 , NDUFB9 , COX4I1 , NDUFB2 , COX7B  , UQCRHL , NDUFA13, PIK3CA , NDUFC2 , COX5A  , SDHA   </td></tr>\n",
       "\t<tr><td>Oxidative phosphorylation WP623                               </td><td>1.275029e-08</td><td>2.798688e-06</td><td>0.7477397</td><td>-0.6830303</td><td>-2.423384</td><td> 51</td><td>NDUFB8 , NDUFA6 , NDUFS4 , NDUFA10, ATP5MG , ATP6AP2, ATP5PB , NDUFV1 , ATP5F1A, NDUFA4 , NDUFB6 , NDUFS2 , ATP5PF , NDUFB7 , NDUFS3 , NDUFB9 , NDUFB2 , ATP5PO , NDUFC2 , NDUFAB1, NDUFA8 , NDUFB10, NDUFA5 , ATP5MC1, NDUFS5 , NDUFC1 , ATP5MF , NDUFA2 , NDUFA11, ATP5PD , NDUFB5 , NDUFS6 , ATP5ME , NDUFB4 </td></tr>\n",
       "\t<tr><td>Proteasome Degradation WP183                                  </td><td>1.739354e-05</td><td>1.090824e-03</td><td>0.5756103</td><td>-0.5709146</td><td>-2.034667</td><td> 52</td><td>PSMB5 , PSMC2 , PSMB6 , PSMB1 , PSMB3 , PSMD7 , PSMB7 , PSMA5 , PSMC1 , PSMB4 , PSMA4 , UBE2B , PSMA6 , PSMD4 , PSMD6 , PSMC3 , PSMD11, PSMC4 , PSMB2 , PSMC5 , PSMD10, PSMA1 , PSMA3 , PSMD9 , PSMD13, PSMB10, PSMD8 </td></tr>\n",
       "\t<tr><td>Vitamin A and Carotenoid Metabolism WP716                     </td><td>1.498593e-03</td><td>4.425577e-02</td><td>0.4550599</td><td> 0.6875734</td><td> 1.762490</td><td> 22</td><td>RBP1   , CYP26A1, RXRG   , CRABP1 , CRABP2 , DHRS3  , LPL    , RBP4   , SCARB1 , MAPK1  , RXRA   </td></tr>\n",
       "\t<tr><td>Wnt Signaling in Kidney Disease WP4150                        </td><td>9.730747e-04</td><td>3.883453e-02</td><td>0.4772708</td><td> 0.6619248</td><td> 1.772477</td><td> 27</td><td>DVL3  , MAPK8 , MAPK9 , WNT4  , FZD6  , WNT10B, FZD7  , FZD9  , FZD3  , RHOA  , FZD5  , WNT5A , CTNNB1, LRP6  </td></tr>\n",
       "</tbody>\n",
       "</table>\n"
      ],
      "text/latex": [
       "A data.table: 15 x 8\n",
       "\\begin{tabular}{llllllll}\n",
       " pathway & pval & padj & log2err & ES & NES & size & leadingEdge\\\\\n",
       " <chr> & <dbl> & <dbl> & <dbl> & <dbl> & <dbl> & <int> & <list>\\\\\n",
       "\\hline\n",
       "\t Cholesterol Biosynthesis Pathway WP197                         & 1.512156e-03 & 4.425577e-02 & 0.4550599 &  0.7368725 &  1.732358 &  15 & SQLE   , HMGCR  , LSS    , IDI1   , DHCR7  , MVD    , SC5D   , CYP51A1\\\\\n",
       "\t Cytoplasmic Ribosomal Proteins WP477                           & 5.319857e-06 & 3.892362e-04 & 0.6105269 & -0.5027162 & -1.973062 &  86 & RPS4X  , RPL7   , RPL18A , RPS5   , RPS8   , RPL41  , RPL4   , RPL29  , RPL26  , RPL38  , RPL34  , RPL17  , RPS6   , MRPL19 , RPS6KB2, RPS19  , RPS17  , RPS18  , RPL6   , RPL5   , RPL19  , RPS6KA3, RPL36A , RPL9   , RPS14  , RPL21  , RPL35  , RPL27  , RPL11  , RPL10A , RPS24  , RPL23A , RPS15  , RPL3   , FAU    , RPS9   , RPS3   , RPS16  , RPL31  , RPS25  \\\\\n",
       "\t DNA Replication WP466                                          & 2.726657e-04 & 1.355195e-02 & 0.4984931 & -0.5736753 & -1.922234 &  39 & GMNN , RPA2 , ORC3 , RFC4 , ORC4 , RFC2 , MCM7 , POLD3, ORC5 , PRIM1, POLD2, CDK2 , RFC3 , CDT1 , PCNA , ORC6 \\\\\n",
       "\t Electron Transport Chain (OXPHOS system in mitochondria) WP111 & 1.035193e-14 & 4.544495e-12 & 0.9865463 & -0.6879996 & -2.700263 &  86 & UQCRFS1 , COX7A2  , NDUFB8  , UQCRC1  , UQCR10  , NDUFA12 , COX6A1  , NDUFA6  , NDUFA1  , ATP5F1C , SDHB    , ATP5IF1 , COX7A2L , NDUFS4  , NDUFA10 , UQCRH   , NDUFB3  , SDHD    , ATP5MG  , COX5B   , ATP5PB  , NDUFV1  , ATP5F1A , NDUFA4  , SDHC    , SURF1   , NDUFB6  , NDUFS2  , ATP5PF  , SLC25A14, SLC25A4 , NDUFB7  , UQCR11  , NDUFS3  , NDUFB9  , COX4I1  , NDUFB2  , COX7B   , ATP5PO  , NDUFC2  , COX5A   , SDHA    , NDUFAB1 \\\\\n",
       "\t Eukaryotic Transcription Initiation WP405                      & 5.591711e-04 & 2.454761e-02 & 0.4772708 & -0.5472788 & -1.859332 &  41 & TAF9  , POLR1E, POLR3K, CDK7  , TAF12 , POLR2K, CCNH  , POLR3H, POLR3D, POLR2C, TBP   , POLR2G, GTF2E2, POLR2I, POLR2J, POLR2H, GTF2H1, GTF2A2, GTF2H2, ERCC3 , POLR2E\\\\\n",
       "\t GABA receptor Signaling WP4159                                 & 1.853151e-06 & 1.627067e-04 & 0.6435518 &  0.7601539 &  2.017639 &  26 & GABRE  , GABRA3 , GABRB1 , GABRG3 , GABRA2 , GABRG2 , GABRG1 , ABAT   , GABRQ  , GABRA5 , GAD1   , SLC6A11, GPHN   , GABRB3 , ALDH9A1, AP2A2  , AP2A1  , GABBR1 , SLC6A1 , GABRB2 \\\\\n",
       "\t GPCRs, Class A Rhodopsin-like WP455                            & 1.243314e-03 & 4.425577e-02 & 0.4550599 &  0.5087786 &  1.642741 &  77 & PRLHR , SSTR2 , NPY1R , OPRK1 , OPN3  , CXCR4 , GPR83 , GPR27 , NPY5R , HTR7  , GPR45 , PTGER3, ADORA1, HTR2C , DRD5  , F2R   , HCRTR1, GPR68 , HCRTR2, HTR6  , DRD2  , ADRA1D, GPR3  \\\\\n",
       "\t Integrin-mediated Cell Adhesion WP185                          & 2.778304e-04 & 1.355195e-02 & 0.4984931 &  0.5340789 &  1.718618 &  75 & ITGA6  , MAP2K5 , VCL    , ITGAV  , CAPN1  , PAK4   , PAK1   , CAV2   , GIT2   , ITGA9  , SRC    , SOS1   , MAPK6  , CRK    , VAV2   , CAPN10 , CAPN2  , MAPK1  , ITGB1  , RAP1A  , RAPGEF1, MAP2K6 , ITGB8  , AKT3   , ARHGEF7, MAP2K1 , BRAF   , SHC3   , MAPK4  , ZYX    , CAPNS1 , ITGA1  , GRB2   , MAP2K3 , MAPK12 , AKT1   , ITGA2B , MAPK10 , PTK2   , TNS1   , RAF1   , HRAS   , PAK3   \\\\\n",
       "\t Mitochondrial complex I assembly model OXPHOS system WP4324    & 3.934015e-07 & 5.756775e-05 & 0.6749629 & -0.6519385 & -2.308023 &  50 & NDUFB8  , NDUFA12 , FOXRED1 , NDUFA6  , NDUFA1  , NDUFAF6 , NDUFS4  , NDUFA10 , TIMMDC1 , NDUFB3  , NDUFV1  , NDUFAF1 , TMEM70  , NDUFB6  , NDUFS2  , NDUFAF3 , NDUFB7  , NDUFS3  , NDUFB9  , TMEM186 , NDUFB2  , ECSIT   , NDUFA13 , NDUFC2  , NDUFAB1 , NDUFA8  , DMAC2   , TMEM126B, COA1    , NDUFB10 , NDUFB11 , NDUFA5  , NDUFS5  , NDUFC1  , NDUFAF4 , NDUFA2  , NDUFB5  , NDUFS6  , NDUFAF2 \\\\\n",
       "\t Nanoparticle-mediated activation of receptor signaling WP2643  & 1.472291e-03 & 4.425577e-02 & 0.4550599 &  0.6440455 &  1.709458 &  26 & MAPK8 , FN1   , MAPK9 , SRC   , SOS1  , MAPK1 , ITGB1 , KRAS  , MAPK14, AKT3  , MAP2K1, NRAS  , MAPK13, ITGA1 , GRB2  , MAPK12, MAPK10, PTK2  , RAF1  , HRAS  , MAPK11\\\\\n",
       "\t Nonalcoholic fatty liver disease WP4396                        & 7.538797e-07 & 8.273829e-05 & 0.6594444 & -0.4610508 & -1.910106 & 126 & UQCRFS1, CASP3  , COX7A2 , JUN    , BID    , PIK3R1 , NDUFB8 , UQCRC1 , UQCR10 , NDUFA12, COX6A1 , CYC1   , INSR   , NDUFA6 , NDUFA1 , SDHB   , COX7A2L, NDUFS4 , NDUFA10, NR1H3  , UQCRH  , DDIT3  , NDUFB3 , SDHD   , COX5B  , XBP1   , NDUFV1 , PRKAB1 , NDUFA4 , SDHC   , NDUFB6 , NDUFS2 , NDUFB7 , UQCR11 , NDUFS3 , NDUFB9 , COX4I1 , NDUFB2 , COX7B  , UQCRHL , NDUFA13, PIK3CA , NDUFC2 , COX5A  , SDHA   \\\\\n",
       "\t Oxidative phosphorylation WP623                                & 1.275029e-08 & 2.798688e-06 & 0.7477397 & -0.6830303 & -2.423384 &  51 & NDUFB8 , NDUFA6 , NDUFS4 , NDUFA10, ATP5MG , ATP6AP2, ATP5PB , NDUFV1 , ATP5F1A, NDUFA4 , NDUFB6 , NDUFS2 , ATP5PF , NDUFB7 , NDUFS3 , NDUFB9 , NDUFB2 , ATP5PO , NDUFC2 , NDUFAB1, NDUFA8 , NDUFB10, NDUFA5 , ATP5MC1, NDUFS5 , NDUFC1 , ATP5MF , NDUFA2 , NDUFA11, ATP5PD , NDUFB5 , NDUFS6 , ATP5ME , NDUFB4 \\\\\n",
       "\t Proteasome Degradation WP183                                   & 1.739354e-05 & 1.090824e-03 & 0.5756103 & -0.5709146 & -2.034667 &  52 & PSMB5 , PSMC2 , PSMB6 , PSMB1 , PSMB3 , PSMD7 , PSMB7 , PSMA5 , PSMC1 , PSMB4 , PSMA4 , UBE2B , PSMA6 , PSMD4 , PSMD6 , PSMC3 , PSMD11, PSMC4 , PSMB2 , PSMC5 , PSMD10, PSMA1 , PSMA3 , PSMD9 , PSMD13, PSMB10, PSMD8 \\\\\n",
       "\t Vitamin A and Carotenoid Metabolism WP716                      & 1.498593e-03 & 4.425577e-02 & 0.4550599 &  0.6875734 &  1.762490 &  22 & RBP1   , CYP26A1, RXRG   , CRABP1 , CRABP2 , DHRS3  , LPL    , RBP4   , SCARB1 , MAPK1  , RXRA   \\\\\n",
       "\t Wnt Signaling in Kidney Disease WP4150                         & 9.730747e-04 & 3.883453e-02 & 0.4772708 &  0.6619248 &  1.772477 &  27 & DVL3  , MAPK8 , MAPK9 , WNT4  , FZD6  , WNT10B, FZD7  , FZD9  , FZD3  , RHOA  , FZD5  , WNT5A , CTNNB1, LRP6  \\\\\n",
       "\\end{tabular}\n"
      ],
      "text/markdown": [
       "\n",
       "A data.table: 15 x 8\n",
       "\n",
       "| pathway &lt;chr&gt; | pval &lt;dbl&gt; | padj &lt;dbl&gt; | log2err &lt;dbl&gt; | ES &lt;dbl&gt; | NES &lt;dbl&gt; | size &lt;int&gt; | leadingEdge &lt;list&gt; |\n",
       "|---|---|---|---|---|---|---|---|\n",
       "| Cholesterol Biosynthesis Pathway WP197                         | 1.512156e-03 | 4.425577e-02 | 0.4550599 |  0.7368725 |  1.732358 |  15 | SQLE   , HMGCR  , LSS    , IDI1   , DHCR7  , MVD    , SC5D   , CYP51A1 |\n",
       "| Cytoplasmic Ribosomal Proteins WP477                           | 5.319857e-06 | 3.892362e-04 | 0.6105269 | -0.5027162 | -1.973062 |  86 | RPS4X  , RPL7   , RPL18A , RPS5   , RPS8   , RPL41  , RPL4   , RPL29  , RPL26  , RPL38  , RPL34  , RPL17  , RPS6   , MRPL19 , RPS6KB2, RPS19  , RPS17  , RPS18  , RPL6   , RPL5   , RPL19  , RPS6KA3, RPL36A , RPL9   , RPS14  , RPL21  , RPL35  , RPL27  , RPL11  , RPL10A , RPS24  , RPL23A , RPS15  , RPL3   , FAU    , RPS9   , RPS3   , RPS16  , RPL31  , RPS25   |\n",
       "| DNA Replication WP466                                          | 2.726657e-04 | 1.355195e-02 | 0.4984931 | -0.5736753 | -1.922234 |  39 | GMNN , RPA2 , ORC3 , RFC4 , ORC4 , RFC2 , MCM7 , POLD3, ORC5 , PRIM1, POLD2, CDK2 , RFC3 , CDT1 , PCNA , ORC6  |\n",
       "| Electron Transport Chain (OXPHOS system in mitochondria) WP111 | 1.035193e-14 | 4.544495e-12 | 0.9865463 | -0.6879996 | -2.700263 |  86 | UQCRFS1 , COX7A2  , NDUFB8  , UQCRC1  , UQCR10  , NDUFA12 , COX6A1  , NDUFA6  , NDUFA1  , ATP5F1C , SDHB    , ATP5IF1 , COX7A2L , NDUFS4  , NDUFA10 , UQCRH   , NDUFB3  , SDHD    , ATP5MG  , COX5B   , ATP5PB  , NDUFV1  , ATP5F1A , NDUFA4  , SDHC    , SURF1   , NDUFB6  , NDUFS2  , ATP5PF  , SLC25A14, SLC25A4 , NDUFB7  , UQCR11  , NDUFS3  , NDUFB9  , COX4I1  , NDUFB2  , COX7B   , ATP5PO  , NDUFC2  , COX5A   , SDHA    , NDUFAB1  |\n",
       "| Eukaryotic Transcription Initiation WP405                      | 5.591711e-04 | 2.454761e-02 | 0.4772708 | -0.5472788 | -1.859332 |  41 | TAF9  , POLR1E, POLR3K, CDK7  , TAF12 , POLR2K, CCNH  , POLR3H, POLR3D, POLR2C, TBP   , POLR2G, GTF2E2, POLR2I, POLR2J, POLR2H, GTF2H1, GTF2A2, GTF2H2, ERCC3 , POLR2E |\n",
       "| GABA receptor Signaling WP4159                                 | 1.853151e-06 | 1.627067e-04 | 0.6435518 |  0.7601539 |  2.017639 |  26 | GABRE  , GABRA3 , GABRB1 , GABRG3 , GABRA2 , GABRG2 , GABRG1 , ABAT   , GABRQ  , GABRA5 , GAD1   , SLC6A11, GPHN   , GABRB3 , ALDH9A1, AP2A2  , AP2A1  , GABBR1 , SLC6A1 , GABRB2  |\n",
       "| GPCRs, Class A Rhodopsin-like WP455                            | 1.243314e-03 | 4.425577e-02 | 0.4550599 |  0.5087786 |  1.642741 |  77 | PRLHR , SSTR2 , NPY1R , OPRK1 , OPN3  , CXCR4 , GPR83 , GPR27 , NPY5R , HTR7  , GPR45 , PTGER3, ADORA1, HTR2C , DRD5  , F2R   , HCRTR1, GPR68 , HCRTR2, HTR6  , DRD2  , ADRA1D, GPR3   |\n",
       "| Integrin-mediated Cell Adhesion WP185                          | 2.778304e-04 | 1.355195e-02 | 0.4984931 |  0.5340789 |  1.718618 |  75 | ITGA6  , MAP2K5 , VCL    , ITGAV  , CAPN1  , PAK4   , PAK1   , CAV2   , GIT2   , ITGA9  , SRC    , SOS1   , MAPK6  , CRK    , VAV2   , CAPN10 , CAPN2  , MAPK1  , ITGB1  , RAP1A  , RAPGEF1, MAP2K6 , ITGB8  , AKT3   , ARHGEF7, MAP2K1 , BRAF   , SHC3   , MAPK4  , ZYX    , CAPNS1 , ITGA1  , GRB2   , MAP2K3 , MAPK12 , AKT1   , ITGA2B , MAPK10 , PTK2   , TNS1   , RAF1   , HRAS   , PAK3    |\n",
       "| Mitochondrial complex I assembly model OXPHOS system WP4324    | 3.934015e-07 | 5.756775e-05 | 0.6749629 | -0.6519385 | -2.308023 |  50 | NDUFB8  , NDUFA12 , FOXRED1 , NDUFA6  , NDUFA1  , NDUFAF6 , NDUFS4  , NDUFA10 , TIMMDC1 , NDUFB3  , NDUFV1  , NDUFAF1 , TMEM70  , NDUFB6  , NDUFS2  , NDUFAF3 , NDUFB7  , NDUFS3  , NDUFB9  , TMEM186 , NDUFB2  , ECSIT   , NDUFA13 , NDUFC2  , NDUFAB1 , NDUFA8  , DMAC2   , TMEM126B, COA1    , NDUFB10 , NDUFB11 , NDUFA5  , NDUFS5  , NDUFC1  , NDUFAF4 , NDUFA2  , NDUFB5  , NDUFS6  , NDUFAF2  |\n",
       "| Nanoparticle-mediated activation of receptor signaling WP2643  | 1.472291e-03 | 4.425577e-02 | 0.4550599 |  0.6440455 |  1.709458 |  26 | MAPK8 , FN1   , MAPK9 , SRC   , SOS1  , MAPK1 , ITGB1 , KRAS  , MAPK14, AKT3  , MAP2K1, NRAS  , MAPK13, ITGA1 , GRB2  , MAPK12, MAPK10, PTK2  , RAF1  , HRAS  , MAPK11 |\n",
       "| Nonalcoholic fatty liver disease WP4396                        | 7.538797e-07 | 8.273829e-05 | 0.6594444 | -0.4610508 | -1.910106 | 126 | UQCRFS1, CASP3  , COX7A2 , JUN    , BID    , PIK3R1 , NDUFB8 , UQCRC1 , UQCR10 , NDUFA12, COX6A1 , CYC1   , INSR   , NDUFA6 , NDUFA1 , SDHB   , COX7A2L, NDUFS4 , NDUFA10, NR1H3  , UQCRH  , DDIT3  , NDUFB3 , SDHD   , COX5B  , XBP1   , NDUFV1 , PRKAB1 , NDUFA4 , SDHC   , NDUFB6 , NDUFS2 , NDUFB7 , UQCR11 , NDUFS3 , NDUFB9 , COX4I1 , NDUFB2 , COX7B  , UQCRHL , NDUFA13, PIK3CA , NDUFC2 , COX5A  , SDHA    |\n",
       "| Oxidative phosphorylation WP623                                | 1.275029e-08 | 2.798688e-06 | 0.7477397 | -0.6830303 | -2.423384 |  51 | NDUFB8 , NDUFA6 , NDUFS4 , NDUFA10, ATP5MG , ATP6AP2, ATP5PB , NDUFV1 , ATP5F1A, NDUFA4 , NDUFB6 , NDUFS2 , ATP5PF , NDUFB7 , NDUFS3 , NDUFB9 , NDUFB2 , ATP5PO , NDUFC2 , NDUFAB1, NDUFA8 , NDUFB10, NDUFA5 , ATP5MC1, NDUFS5 , NDUFC1 , ATP5MF , NDUFA2 , NDUFA11, ATP5PD , NDUFB5 , NDUFS6 , ATP5ME , NDUFB4  |\n",
       "| Proteasome Degradation WP183                                   | 1.739354e-05 | 1.090824e-03 | 0.5756103 | -0.5709146 | -2.034667 |  52 | PSMB5 , PSMC2 , PSMB6 , PSMB1 , PSMB3 , PSMD7 , PSMB7 , PSMA5 , PSMC1 , PSMB4 , PSMA4 , UBE2B , PSMA6 , PSMD4 , PSMD6 , PSMC3 , PSMD11, PSMC4 , PSMB2 , PSMC5 , PSMD10, PSMA1 , PSMA3 , PSMD9 , PSMD13, PSMB10, PSMD8  |\n",
       "| Vitamin A and Carotenoid Metabolism WP716                      | 1.498593e-03 | 4.425577e-02 | 0.4550599 |  0.6875734 |  1.762490 |  22 | RBP1   , CYP26A1, RXRG   , CRABP1 , CRABP2 , DHRS3  , LPL    , RBP4   , SCARB1 , MAPK1  , RXRA    |\n",
       "| Wnt Signaling in Kidney Disease WP4150                         | 9.730747e-04 | 3.883453e-02 | 0.4772708 |  0.6619248 |  1.772477 |  27 | DVL3  , MAPK8 , MAPK9 , WNT4  , FZD6  , WNT10B, FZD7  , FZD9  , FZD3  , RHOA  , FZD5  , WNT5A , CTNNB1, LRP6   |\n",
       "\n"
      ],
      "text/plain": [
       "   pathway                                                        pval        \n",
       "1  Cholesterol Biosynthesis Pathway WP197                         1.512156e-03\n",
       "2  Cytoplasmic Ribosomal Proteins WP477                           5.319857e-06\n",
       "3  DNA Replication WP466                                          2.726657e-04\n",
       "4  Electron Transport Chain (OXPHOS system in mitochondria) WP111 1.035193e-14\n",
       "5  Eukaryotic Transcription Initiation WP405                      5.591711e-04\n",
       "6  GABA receptor Signaling WP4159                                 1.853151e-06\n",
       "7  GPCRs, Class A Rhodopsin-like WP455                            1.243314e-03\n",
       "8  Integrin-mediated Cell Adhesion WP185                          2.778304e-04\n",
       "9  Mitochondrial complex I assembly model OXPHOS system WP4324    3.934015e-07\n",
       "10 Nanoparticle-mediated activation of receptor signaling WP2643  1.472291e-03\n",
       "11 Nonalcoholic fatty liver disease WP4396                        7.538797e-07\n",
       "12 Oxidative phosphorylation WP623                                1.275029e-08\n",
       "13 Proteasome Degradation WP183                                   1.739354e-05\n",
       "14 Vitamin A and Carotenoid Metabolism WP716                      1.498593e-03\n",
       "15 Wnt Signaling in Kidney Disease WP4150                         9.730747e-04\n",
       "   padj         log2err   ES         NES       size\n",
       "1  4.425577e-02 0.4550599  0.7368725  1.732358  15 \n",
       "2  3.892362e-04 0.6105269 -0.5027162 -1.973062  86 \n",
       "3  1.355195e-02 0.4984931 -0.5736753 -1.922234  39 \n",
       "4  4.544495e-12 0.9865463 -0.6879996 -2.700263  86 \n",
       "5  2.454761e-02 0.4772708 -0.5472788 -1.859332  41 \n",
       "6  1.627067e-04 0.6435518  0.7601539  2.017639  26 \n",
       "7  4.425577e-02 0.4550599  0.5087786  1.642741  77 \n",
       "8  1.355195e-02 0.4984931  0.5340789  1.718618  75 \n",
       "9  5.756775e-05 0.6749629 -0.6519385 -2.308023  50 \n",
       "10 4.425577e-02 0.4550599  0.6440455  1.709458  26 \n",
       "11 8.273829e-05 0.6594444 -0.4610508 -1.910106 126 \n",
       "12 2.798688e-06 0.7477397 -0.6830303 -2.423384  51 \n",
       "13 1.090824e-03 0.5756103 -0.5709146 -2.034667  52 \n",
       "14 4.425577e-02 0.4550599  0.6875734  1.762490  22 \n",
       "15 3.883453e-02 0.4772708  0.6619248  1.772477  27 \n",
       "   leadingEdge                                                                                                                                                                                                                                                                                                                                                                                                                                 \n",
       "1  SQLE   , HMGCR  , LSS    , IDI1   , DHCR7  , MVD    , SC5D   , CYP51A1                                                                                                                                                                                                                                                                                                                                                                      \n",
       "2  RPS4X  , RPL7   , RPL18A , RPS5   , RPS8   , RPL41  , RPL4   , RPL29  , RPL26  , RPL38  , RPL34  , RPL17  , RPS6   , MRPL19 , RPS6KB2, RPS19  , RPS17  , RPS18  , RPL6   , RPL5   , RPL19  , RPS6KA3, RPL36A , RPL9   , RPS14  , RPL21  , RPL35  , RPL27  , RPL11  , RPL10A , RPS24  , RPL23A , RPS15  , RPL3   , FAU    , RPS9   , RPS3   , RPS16  , RPL31  , RPS25                                                                        \n",
       "3  GMNN , RPA2 , ORC3 , RFC4 , ORC4 , RFC2 , MCM7 , POLD3, ORC5 , PRIM1, POLD2, CDK2 , RFC3 , CDT1 , PCNA , ORC6                                                                                                                                                                                                                                                                                                                               \n",
       "4  UQCRFS1 , COX7A2  , NDUFB8  , UQCRC1  , UQCR10  , NDUFA12 , COX6A1  , NDUFA6  , NDUFA1  , ATP5F1C , SDHB    , ATP5IF1 , COX7A2L , NDUFS4  , NDUFA10 , UQCRH   , NDUFB3  , SDHD    , ATP5MG  , COX5B   , ATP5PB  , NDUFV1  , ATP5F1A , NDUFA4  , SDHC    , SURF1   , NDUFB6  , NDUFS2  , ATP5PF  , SLC25A14, SLC25A4 , NDUFB7  , UQCR11  , NDUFS3  , NDUFB9  , COX4I1  , NDUFB2  , COX7B   , ATP5PO  , NDUFC2  , COX5A   , SDHA    , NDUFAB1 \n",
       "5  TAF9  , POLR1E, POLR3K, CDK7  , TAF12 , POLR2K, CCNH  , POLR3H, POLR3D, POLR2C, TBP   , POLR2G, GTF2E2, POLR2I, POLR2J, POLR2H, GTF2H1, GTF2A2, GTF2H2, ERCC3 , POLR2E                                                                                                                                                                                                                                                                      \n",
       "6  GABRE  , GABRA3 , GABRB1 , GABRG3 , GABRA2 , GABRG2 , GABRG1 , ABAT   , GABRQ  , GABRA5 , GAD1   , SLC6A11, GPHN   , GABRB3 , ALDH9A1, AP2A2  , AP2A1  , GABBR1 , SLC6A1 , GABRB2                                                                                                                                                                                                                                                           \n",
       "7  PRLHR , SSTR2 , NPY1R , OPRK1 , OPN3  , CXCR4 , GPR83 , GPR27 , NPY5R , HTR7  , GPR45 , PTGER3, ADORA1, HTR2C , DRD5  , F2R   , HCRTR1, GPR68 , HCRTR2, HTR6  , DRD2  , ADRA1D, GPR3                                                                                                                                                                                                                                                        \n",
       "8  ITGA6  , MAP2K5 , VCL    , ITGAV  , CAPN1  , PAK4   , PAK1   , CAV2   , GIT2   , ITGA9  , SRC    , SOS1   , MAPK6  , CRK    , VAV2   , CAPN10 , CAPN2  , MAPK1  , ITGB1  , RAP1A  , RAPGEF1, MAP2K6 , ITGB8  , AKT3   , ARHGEF7, MAP2K1 , BRAF   , SHC3   , MAPK4  , ZYX    , CAPNS1 , ITGA1  , GRB2   , MAP2K3 , MAPK12 , AKT1   , ITGA2B , MAPK10 , PTK2   , TNS1   , RAF1   , HRAS   , PAK3                                              \n",
       "9  NDUFB8  , NDUFA12 , FOXRED1 , NDUFA6  , NDUFA1  , NDUFAF6 , NDUFS4  , NDUFA10 , TIMMDC1 , NDUFB3  , NDUFV1  , NDUFAF1 , TMEM70  , NDUFB6  , NDUFS2  , NDUFAF3 , NDUFB7  , NDUFS3  , NDUFB9  , TMEM186 , NDUFB2  , ECSIT   , NDUFA13 , NDUFC2  , NDUFAB1 , NDUFA8  , DMAC2   , TMEM126B, COA1    , NDUFB10 , NDUFB11 , NDUFA5  , NDUFS5  , NDUFC1  , NDUFAF4 , NDUFA2  , NDUFB5  , NDUFS6  , NDUFAF2                                         \n",
       "10 MAPK8 , FN1   , MAPK9 , SRC   , SOS1  , MAPK1 , ITGB1 , KRAS  , MAPK14, AKT3  , MAP2K1, NRAS  , MAPK13, ITGA1 , GRB2  , MAPK12, MAPK10, PTK2  , RAF1  , HRAS  , MAPK11                                                                                                                                                                                                                                                                      \n",
       "11 UQCRFS1, CASP3  , COX7A2 , JUN    , BID    , PIK3R1 , NDUFB8 , UQCRC1 , UQCR10 , NDUFA12, COX6A1 , CYC1   , INSR   , NDUFA6 , NDUFA1 , SDHB   , COX7A2L, NDUFS4 , NDUFA10, NR1H3  , UQCRH  , DDIT3  , NDUFB3 , SDHD   , COX5B  , XBP1   , NDUFV1 , PRKAB1 , NDUFA4 , SDHC   , NDUFB6 , NDUFS2 , NDUFB7 , UQCR11 , NDUFS3 , NDUFB9 , COX4I1 , NDUFB2 , COX7B  , UQCRHL , NDUFA13, PIK3CA , NDUFC2 , COX5A  , SDHA                            \n",
       "12 NDUFB8 , NDUFA6 , NDUFS4 , NDUFA10, ATP5MG , ATP6AP2, ATP5PB , NDUFV1 , ATP5F1A, NDUFA4 , NDUFB6 , NDUFS2 , ATP5PF , NDUFB7 , NDUFS3 , NDUFB9 , NDUFB2 , ATP5PO , NDUFC2 , NDUFAB1, NDUFA8 , NDUFB10, NDUFA5 , ATP5MC1, NDUFS5 , NDUFC1 , ATP5MF , NDUFA2 , NDUFA11, ATP5PD , NDUFB5 , NDUFS6 , ATP5ME , NDUFB4                                                                                                                             \n",
       "13 PSMB5 , PSMC2 , PSMB6 , PSMB1 , PSMB3 , PSMD7 , PSMB7 , PSMA5 , PSMC1 , PSMB4 , PSMA4 , UBE2B , PSMA6 , PSMD4 , PSMD6 , PSMC3 , PSMD11, PSMC4 , PSMB2 , PSMC5 , PSMD10, PSMA1 , PSMA3 , PSMD9 , PSMD13, PSMB10, PSMD8                                                                                                                                                                                                                       \n",
       "14 RBP1   , CYP26A1, RXRG   , CRABP1 , CRABP2 , DHRS3  , LPL    , RBP4   , SCARB1 , MAPK1  , RXRA                                                                                                                                                                                                                                                                                                                                              \n",
       "15 DVL3  , MAPK8 , MAPK9 , WNT4  , FZD6  , WNT10B, FZD7  , FZD9  , FZD3  , RHOA  , FZD5  , WNT5A , CTNNB1, LRP6                                                                                                                                                                                                                                                                                                                                "
      ]
     },
     "metadata": {},
     "output_type": "display_data"
    }
   ],
   "source": [
    "data2_out[data2_out$padj<0.05,]"
   ]
  },
  {
   "cell_type": "code",
   "execution_count": 46,
   "metadata": {
    "vscode": {
     "languageId": "r"
    }
   },
   "outputs": [],
   "source": [
    "out_dict <- list(\n",
    "  wt_y622 = get_geneset(data1_out),\n",
    "  y622_choline = get_geneset(data2_out),\n",
    "  wt_g2 = get_geneset(data3_out)\n",
    ")"
   ]
  },
  {
   "cell_type": "code",
   "execution_count": 49,
   "metadata": {
    "vscode": {
     "languageId": "r"
    }
   },
   "outputs": [
    {
     "name": "stdout",
     "output_type": "stream",
     "text": [
      "[1] 356\n"
     ]
    },
    {
     "name": "stdout",
     "output_type": "stream",
     "text": [
      "[1] 334\n",
      "[1] 313\n"
     ]
    }
   ],
   "source": [
    "print(length(out_dict$wt_g2))\n",
    "\n",
    "print(length(out_dict$wt_y622))\n",
    "\n",
    "\n",
    "print(length(out_dict$y622_choline))\n"
   ]
  },
  {
   "cell_type": "code",
   "execution_count": 48,
   "metadata": {
    "vscode": {
     "languageId": "r"
    }
   },
   "outputs": [],
   "source": [
    "out_dict <- list(\n",
    "  wt_y622 = get_geneset(data1_out),\n",
    "  y622_choline = get_geneset(data2_out),\n",
    "  wt_g2 = get_geneset(data3_out)\n",
    ")\n",
    "\n",
    "write_json(out_dict, path = \"../../processed_data/bulkRNAseq_fgsea_leading_edge2.json\", pretty = TRUE)\n"
   ]
  }
 ],
 "metadata": {
  "kernelspec": {
   "display_name": "R (fgsea_env)",
   "language": "R",
   "name": "fgsea_env"
  },
  "language_info": {
   "codemirror_mode": "r",
   "file_extension": ".r",
   "mimetype": "text/x-r-source",
   "name": "R",
   "pygments_lexer": "r",
   "version": "4.4.3"
  }
 },
 "nbformat": 4,
 "nbformat_minor": 2
}

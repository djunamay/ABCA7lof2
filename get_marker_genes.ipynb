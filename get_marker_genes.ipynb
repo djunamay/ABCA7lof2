{
 "cells": [
  {
   "cell_type": "code",
   "execution_count": 4,
   "id": "88098053-c0b4-45bb-885c-acfda934c3e2",
   "metadata": {},
   "outputs": [],
   "source": [
    "df = readRDS('../ABCA7lof/processed_data/single_cell_data/RefCellTypeMarkers.adultBrain.rds')"
   ]
  },
  {
   "cell_type": "code",
   "execution_count": 11,
   "id": "d9ce2184-a8b0-482f-8653-f77397676cd0",
   "metadata": {},
   "outputs": [],
   "source": [
    "out = list()\n",
    "for(i in names(df)){\n",
    "    d = as.data.frame(df[[i]])\n",
    "    colnames(d) = 'marker'\n",
    "    d$major_celltype = i\n",
    "    out[[i]] = d\n",
    "}"
   ]
  },
  {
   "cell_type": "code",
   "execution_count": 12,
   "id": "fdda90c6-3cc0-4152-9622-8006ad70cb8c",
   "metadata": {},
   "outputs": [],
   "source": [
    "all_data = do.call('rbind', out)"
   ]
  },
  {
   "cell_type": "code",
   "execution_count": 14,
   "id": "b1db1b59-0e9a-4baf-9f7c-6405a8f3bb0e",
   "metadata": {},
   "outputs": [],
   "source": [
    "write.csv(all_data, './processed_data/single_cell/brain_marker_genes.csv')"
   ]
  }
 ],
 "metadata": {
  "kernelspec": {
   "display_name": "R",
   "language": "R",
   "name": "ir"
  },
  "language_info": {
   "codemirror_mode": "r",
   "file_extension": ".r",
   "mimetype": "text/x-r-source",
   "name": "R",
   "pygments_lexer": "r",
   "version": "4.1.2"
  }
 },
 "nbformat": 4,
 "nbformat_minor": 5
}

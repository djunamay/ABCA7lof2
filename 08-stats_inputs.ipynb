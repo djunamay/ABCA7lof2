{
 "cells": [
  {
   "cell_type": "code",
   "execution_count": 70,
   "id": "57d5b06b-0532-4ff5-a0fc-ebbdc7fec122",
   "metadata": {
    "tags": []
   },
   "outputs": [],
   "source": [
    "source('./ABCA7lof2/prep_data.r')\n",
    "library(tidyr)"
   ]
  },
  {
   "cell_type": "code",
   "execution_count": 71,
   "id": "da5c74e6-3d9c-4d7c-a5c1-cbdf3f6f5008",
   "metadata": {},
   "outputs": [],
   "source": [
    "# define vars\n",
    "order = c('Ex', 'In', 'Ast', 'Mic', 'Oli', 'Opc', 'Vascular')\n",
    "sce = readRDS('./processed_data/single_cell/sce.rds')\n",
    "output_path = './processed_data/single_cell/stats_input_data.rds'"
   ]
  },
  {
   "cell_type": "code",
   "execution_count": 72,
   "id": "fddcf6dd-d7f3-4a49-b314-474950a53ac9",
   "metadata": {},
   "outputs": [
    {
     "name": "stdout",
     "output_type": "stream",
     "text": [
      "[1] \"summing...\"\n"
     ]
    }
   ],
   "source": [
    "# use matrix multiplication to summarize (sum) across counts per cell type per individual\n",
    "print('summing...')\n",
    "meta = sce@colData\n",
    "labels = as.data.frame(as.character(interaction(meta$annotations2, meta$projid)))\n",
    "cell_labels = rownames(meta)\n",
    "summed_counts_cellxind = sum_counts(assays(sce)$counts, labels, cell_labels)\n",
    "summed_logcounts_cellxind = sum_counts(assays(sce)$logcounts, labels, cell_labels)"
   ]
  },
  {
   "cell_type": "code",
   "execution_count": 73,
   "id": "44bd6584-4b96-4e33-93a9-71b59229ea4c",
   "metadata": {},
   "outputs": [],
   "source": [
    "# use matrix multiplication to summarize (sum) across counts per cell (including all individuals)\n",
    "summed_logcounts_cell = sum_counts(assays(sce)$logcounts, label = as.data.frame(meta$annotations2), cell_labels)"
   ]
  },
  {
   "cell_type": "code",
   "execution_count": 74,
   "id": "69800148-fd50-46ee-8962-825b860473c1",
   "metadata": {},
   "outputs": [],
   "source": [
    "# get averages corresponding to both count matrices\n",
    "avs_logcounts_cellxind = t(apply(summed_logcounts_cellxind$summed_counts, 1, function(x){x/summed_logcounts_cellxind$ncells}))\n",
    "avs_logcounts_cell = t(apply(summed_logcounts_cell$summed_counts, 1, function(x){x/summed_logcounts_cell$ncells}))"
   ]
  },
  {
   "cell_type": "code",
   "execution_count": 75,
   "id": "75bf1a2b-de9b-45d0-87fb-e2a967e24695",
   "metadata": {},
   "outputs": [],
   "source": [
    "# in how many cells per celltype is each gene detected?\n",
    "counts_nonzero = assays(sce)$counts>0\n",
    "detected_genes_cell = sum_counts(counts_nonzero, label = as.data.frame(meta$annotations2), cell_labels)\n",
    "fraction_detected_genes_cell = t(apply(detected_genes_cell$summed_counts, 1, function(x){x/detected_genes_cell$ncells}))"
   ]
  },
  {
   "cell_type": "code",
   "execution_count": 76,
   "id": "e8992d8f-ce93-42f2-b5dd-4083c9275243",
   "metadata": {},
   "outputs": [],
   "source": [
    "# get expression list 10%\n",
    "expressed25 = get_expressed_genes(fraction_detected_genes_cell, .25)\n",
    "expressed10 = get_expressed_genes(fraction_detected_genes_cell, .10)"
   ]
  },
  {
   "cell_type": "code",
   "execution_count": 77,
   "id": "9d08b85b-dcc9-4e49-8443-468fb6dd0c5d",
   "metadata": {},
   "outputs": [
    {
     "name": "stdout",
     "output_type": "stream",
     "text": [
      "[1] \"summarizing experiment by individual...\"\n"
     ]
    }
   ],
   "source": [
    "# summarize the experiment by celltype x individual\n",
    "print('summarizing experiment by individual...')\n",
    "x = (strsplit(colnames(avs_logcounts_cellxind), '[.]'))\n",
    "celltype = unlist(lapply(1:length(x), function(i) x[[i]][[1]]))\n",
    "individual = unlist(lapply(1:length(x), function(i) x[[i]][[2]]))\n",
    "celltype_unique = unique(celltype)\n",
    "avs_by_ind_out = list()\n",
    "for(i in celltype_unique){\n",
    "    index = celltype==i\n",
    "    df = avs_logcounts_cellxind[, index]\n",
    "    colnames(df) = individual[index]\n",
    "    avs_by_ind_out[[i]] = df\n",
    "}\n"
   ]
  },
  {
   "cell_type": "code",
   "execution_count": 78,
   "id": "b0e82e12-7d9e-41ed-a833-4fd5f28776d6",
   "metadata": {},
   "outputs": [],
   "source": [
    "# get metadata summary\n",
    "summary = read.csv('./raw_data/metadata/single_cell_individual_metadata.csv', row.names='projid')\n",
    "summary$APOE4 = ifelse(summary$apoe_genotype%in%c(24, 44, 34), 1, 0)\n",
    "summary$LOF = summary$ABCA7LoF"
   ]
  },
  {
   "cell_type": "code",
   "execution_count": 79,
   "id": "ab587382-3013-43a9-af43-cdd101028b6b",
   "metadata": {},
   "outputs": [],
   "source": [
    "# save all the data\n",
    "all_data = list()\n",
    "\n",
    "all_data[['summed_counts_by_ind']] = summed_counts_cellxind\n",
    "all_data[['av_logcounts_by_celltype']] = avs_logcounts_cell\n",
    "all_data[['av_logcounts_by_ind']] = avs_by_ind_out\n",
    "all_data[['av_logcounts_by_ind_full_matrix']] = avs_logcounts_cellxind\n",
    "all_data[['det.rate.celltype']] = fraction_detected_genes_cell\n",
    "all_data[['expressed10']] = expressed10\n",
    "all_data[['expressed25']] = expressed25\n",
    "all_data[['summary']] = summary"
   ]
  },
  {
   "cell_type": "code",
   "execution_count": 80,
   "id": "d2d5dfe9-a009-4bde-a019-3eca525d7f46",
   "metadata": {},
   "outputs": [],
   "source": [
    "# save the data\n",
    "saveRDS(all_data, output_path)"
   ]
  }
 ],
 "metadata": {
  "kernelspec": {
   "display_name": "R [conda env:.conda-scmod_r]",
   "language": "R",
   "name": "conda-env-.conda-scmod_r-r"
  },
  "language_info": {
   "codemirror_mode": "r",
   "file_extension": ".r",
   "mimetype": "text/x-r-source",
   "name": "R",
   "pygments_lexer": "r",
   "version": "3.6.1"
  }
 },
 "nbformat": 4,
 "nbformat_minor": 5
}

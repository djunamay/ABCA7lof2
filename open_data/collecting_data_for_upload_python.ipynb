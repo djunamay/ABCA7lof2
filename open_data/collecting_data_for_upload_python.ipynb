{
 "cells": [
  {
   "cell_type": "code",
   "execution_count": 27,
   "id": "4e79c79a-8c1a-42d1-be67-149ed1ffe290",
   "metadata": {},
   "outputs": [],
   "source": [
    "import numpy as np\n",
    "import pandas as pd\n",
    "from scipy.sparse import csr_matrix\n",
    "import scipy.io as sio\n"
   ]
  },
  {
   "cell_type": "code",
   "execution_count": 54,
   "id": "f6541047-dc6e-4e60-9633-3cda8c356c7b",
   "metadata": {},
   "outputs": [
    {
     "name": "stdout",
     "output_type": "stream",
     "text": [
      "Feature names were aggregated correctly across samples.\n",
      "Feature IDs were aggregated correctly across samples.\n"
     ]
    }
   ],
   "source": [
    "# define paths\n",
    "meta_path = '../raw_data/cellranger_counts_out/aggr_out/metadata.npy'\n",
    "features_name_path = '../raw_data/cellranger_counts_out/aggr_out/features_name.npy'\n",
    "matrix_path = '../raw_data/cellranger_counts_out/aggr_out/counts.npy'\n",
    "features_id_path = '../raw_data/cellranger_counts_out/aggr_out/features_id.npy'\n",
    "barcodes_path = '../raw_data/cellranger_counts_out/aggr_out/barcodes.npy'\n",
    "\n",
    "# load data\n",
    "counts = np.lib.format.open_memmap(matrix_path, mode='r')\n",
    "features_name = np.lib.format.open_memmap(features_name_path, mode='r')\n",
    "features_id = np.lib.format.open_memmap(features_id_path, mode='r')\n",
    "barcodes = np.lib.format.open_memmap(barcodes_path, mode='r')\n",
    "meta = np.load(meta_path, allow_pickle=True)\n",
    "\n",
    "# get column names\n",
    "meta_col_names = np.array(pd.read_csv('../raw_data/metadata/single_cell_individual_metadata.csv', index_col=0).columns)\n",
    "\n",
    "# run checks\n",
    "temp = features_name.reshape((len(np.unique(meta[:,1])), counts.shape[1]))\n",
    "if np.unique([np.array_equal(temp[0], x) for x in temp])[0]:\n",
    "    print('Feature names were aggregated correctly across samples.')\n",
    "    \n",
    "temp = features_id.reshape((len(np.unique(meta[:,1])), counts.shape[1]))\n",
    "if np.unique([np.array_equal(temp[0], x) for x in temp])[0]:\n",
    "    print('Feature IDs were aggregated correctly across samples.')\n",
    "    \n",
    "# concatenate features and metadata\n",
    "features = np.concatenate((features_name[:counts.shape[1]].reshape(-1,1), features_id[:counts.shape[1]].reshape(-1,1)), axis=1)\n",
    "meta = np.concatenate((barcodes.reshape(-1,1), meta), axis=1)\n",
    "\n",
    "# save coldata and rowdata\n",
    "colData = pd.DataFrame(features)\n",
    "colData.columns = ['gene_name', 'Ensembl_id']\n",
    "colData.to_csv('../open_data/synapse/expression_matrices/raw_colData.csv', index=False)\n",
    "\n",
    "rowData = pd.DataFrame(np.concatenate((meta[:,2].reshape(-1,1), meta[:,3].reshape(-1,1)), axis=1))\n",
    "rowData.columns = ['projID', 'libraryID']\n",
    "rowData.to_csv('../open_data/synapse/expression_matrices/raw_rowData.csv', index=False)"
   ]
  },
  {
   "cell_type": "code",
   "execution_count": 28,
   "id": "d40a02a6-7b2f-4a23-9cf5-e3d87d11aecd",
   "metadata": {},
   "outputs": [],
   "source": [
    "# save to sparse matrix \n",
    "counts_sparse = csr_matrix(counts)\n",
    "sio.mmwrite(\"../open_data/synapse/expression_matrices/raw_counts.mtx\",counts_sparse)\n"
   ]
  }
 ],
 "metadata": {
  "kernelspec": {
   "display_name": "Python 3 (ipykernel)",
   "language": "python",
   "name": "python3"
  },
  "language_info": {
   "codemirror_mode": {
    "name": "ipython",
    "version": 3
   },
   "file_extension": ".py",
   "mimetype": "text/x-python",
   "name": "python",
   "nbconvert_exporter": "python",
   "pygments_lexer": "ipython3",
   "version": "3.8.13"
  }
 },
 "nbformat": 4,
 "nbformat_minor": 5
}

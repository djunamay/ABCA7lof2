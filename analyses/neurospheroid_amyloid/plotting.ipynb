{
 "cells": [
  {
   "cell_type": "code",
   "execution_count": 1,
   "metadata": {},
   "outputs": [],
   "source": [
    "import pandas as pd\n",
    "import seaborn as sns\n",
    "import matplotlib.pyplot as plt\n",
    "from statannotations.Annotator import Annotator\n",
    "import numpy as np\n",
    "\n",
    "def detect_outliers_iqr(data):\n",
    "    # Compute the first and third quartiles\n",
    "    Q1, Q3 = np.percentile(data, [25, 75])\n",
    "    IQR = Q3 - Q1\n",
    "    \n",
    "    # Define lower and upper bounds\n",
    "    lower_bound = Q1 - 2 * IQR\n",
    "    upper_bound = Q3 + 2 * IQR\n",
    "    \n",
    "    # Identify outliers\n",
    "    outliers = (data < lower_bound) | (data > upper_bound)\n",
    "    return outliers, lower_bound, upper_bound\n",
    "\n",
    "def plot_boxplot_by_treatment(d, x_val, y_val, order, pairs, palette, pvalues):\n",
    "    # Draw the boxplot with a semi-transparent fill (alpha=0.5) applied via boxprops.\n",
    "    ax = sns.barplot(\n",
    "        data=d, \n",
    "        x=x_val, \n",
    "        y=y_val, \n",
    "        palette=palette, \n",
    "        order=order, \n",
    "        width=0.6, \n",
    "        capsize=0.1, \n",
    "        linewidth=1\n",
    "    )\n",
    "    # Overlay the stripplot\n",
    "    sp = sns.stripplot(\n",
    "        data=d, \n",
    "        x=x_val, \n",
    "        y=y_val, \n",
    "        dodge=True, \n",
    "        jitter=0.5, \n",
    "        alpha=1,  \n",
    "        order=order, \n",
    "        palette=palette,\n",
    "        size=3.5\n",
    "    )\n",
    "\n",
    "\n",
    "    # Shift the stripplot points slightly to the left.\n",
    "    shift = 0.1  # Adjust this value as needed\n",
    "    for i, coll in enumerate(sp.collections):\n",
    "        if i == 0:\n",
    "            shift = 0.7\n",
    "        elif i == 1:\n",
    "            shift = 0.05\n",
    "        elif i == 2:\n",
    "            shift = 0.4\n",
    "            \n",
    "        offsets = coll.get_offsets()\n",
    "        # Subtract from the x-coordinate to move left\n",
    "        offsets[:, 0] = offsets[:, 0] + shift\n",
    "        coll.set_offsets(offsets)\n",
    "    # Add statistical annotations\n",
    "    annotator = Annotator(ax, pairs, data=d, x=x_val, y=y_val, order=order)\n",
    "    annotator.configure(text_format='full', loc='outside',line_offset_to_group=10,  # Increases space between the brackets and the plot\n",
    "    text_offset=5)\n",
    "    annotator.set_custom_annotations(pvalues)\n",
    "    annotator.annotate()\n",
    "    plt.xticks(rotation=0)\n",
    "    plt.xlabel('')\n",
    "\n",
    "    # Adjust the boxes so that the face remains semi-transparent while the edge is opaque.\n",
    "    # Try iterating over both ax.artists and ax.patches.\n",
    "    for patch in ax.patches:\n",
    "        # Get the current facecolor (an RGBA tuple)\n",
    "        fc = patch.get_facecolor()\n",
    "        # Set the facecolor to have your desired alpha (e.g., 0.5)\n",
    "        patch.set_facecolor((fc[0], fc[1], fc[2], 0.5))\n",
    "        # Set the edgecolor to the same RGB but fully opaque (alpha=1)\n",
    "        patch.set_edgecolor((fc[0], fc[1], fc[2], 1.0))\n",
    "        patch.set_linewidth(1.5)\n",
    "\n",
    "    return ax"
   ]
  },
  {
   "cell_type": "code",
   "execution_count": 2,
   "metadata": {},
   "outputs": [],
   "source": [
    "# load data\n",
    "data = pd.read_csv('../../elisa_data/ABCA7_spheroid_Abeta ELISA_011125_4Week.csv', index_col=0)\n",
    "data_subset = data[(data['Line'] != 'G2') & (data['Line'] != 'Y+500uM')]\n",
    "data_subset.columns = ['line', 'x', 'y', 'Abeta42', 'Abeta40', 'Abeta42/40']\n",
    "data_subset.index = np.arange(len(data_subset))"
   ]
  },
  {
   "cell_type": "code",
   "execution_count": 3,
   "metadata": {},
   "outputs": [],
   "source": [
    "# Remove outliers (significant also when not doing so, but makes it very difficult to plot otherwise)\n",
    "outliers, lb, ub = detect_outliers_iqr(data_subset['Abeta40'].values)\n",
    "data_40 = data_subset[np.invert(outliers)]\n",
    "\n",
    "outliers, lb, ub = detect_outliers_iqr(data_subset['Abeta42'].values)\n",
    "data_42 = data_subset[np.invert(outliers)]\n"
   ]
  },
  {
   "cell_type": "code",
   "execution_count": 4,
   "metadata": {},
   "outputs": [],
   "source": [
    "\n",
    "def plot_boxplot_by_treatment(d, x_val, y_val, order, pairs, palette, ylim, pvalues):\n",
    "    # Draw the boxplot with a semi-transparent fill (alpha=0.5) applied via boxprops.\n",
    "    ax = sns.boxplot(\n",
    "        data=d, \n",
    "        x=x_val, \n",
    "        y=y_val, \n",
    "        palette=palette, \n",
    "        order=order, \n",
    "        width=0.4, \n",
    "       # capsize=0.1, \n",
    "        linewidth=1,\n",
    "\n",
    "        showfliers=False\n",
    "    )\n",
    "\n",
    "    ax.set_ylim(0,ylim)\n",
    "    ax.set_xlim(-0.5, len(order)+5)\n",
    "    # Overlay the stripplot\n",
    "    sp = sns.stripplot(\n",
    "        data=d, \n",
    "        x=x_val, \n",
    "        y=y_val, \n",
    "        dodge=False, \n",
    "        jitter=0.05, \n",
    "        alpha=1,  \n",
    "        order=order, \n",
    "        color='black',\n",
    "        #palette=palette,\n",
    "        size=3\n",
    "    )\n",
    "\n",
    "    #plt.ylim(0, plt.ylim()[1])\n",
    "    # Shift the stripplot points slightly to the left.\n",
    "    shift = 0.4  # Adjust this value as needed\n",
    "    for i, coll in enumerate(sp.collections):\n",
    "        # if i == 0:\n",
    "        #     shift = 0.4\n",
    "        # elif i == 1:\n",
    "        #     shift = 0.4\n",
    "        # elif i == 2:\n",
    "        #     shift = 0.4\n",
    "            \n",
    "        offsets = coll.get_offsets()\n",
    "        # Subtract from the x-coordinate to move left\n",
    "        offsets[:, 0] = offsets[:, 0] + shift\n",
    "        coll.set_offsets(offsets)\n",
    "    # Add statistical annotations\n",
    "    annotator = Annotator(ax, pairs, data=d, x=x_val, y=y_val, order=order)\n",
    "    annotator.configure(text_format='full', loc='outside',line_offset_to_group=10,  # Increases space between the brackets and the plot\n",
    "    text_offset=5)\n",
    "    annotator.set_custom_annotations(pvalues)\n",
    "    annotator.annotate()\n",
    "\n",
    "    plt.xticks(rotation=0)\n",
    "    plt.xlabel('')\n",
    "\n",
    "    # Adjust the boxes so that the face remains semi-transparent while the edge is opaque.\n",
    "    # Try iterating over both ax.artists and ax.patches.\n",
    "    for patch in ax.patches:\n",
    "        # Get the current facecolor (an RGBA tuple)\n",
    "        fc = patch.get_facecolor()\n",
    "        # Set the facecolor to have your desired alpha (e.g., 0.5)\n",
    "        patch.set_facecolor((fc[0], fc[1], fc[2], 0.5))\n",
    "        # Set the edgecolor to the same RGB but fully opaque (alpha=1)\n",
    "        #patch.set_edgecolor((fc[0], fc[1], fc[2], 1.0))\n",
    "        patch.set_linewidth(1)\n",
    "\n",
    "    return ax\n",
    "\n",
    "\n",
    "#plt.savefig('../../paper/main_plots/tmrm_choline_boxplot.png', dpi=300, bbox_inches='tight')\n"
   ]
  },
  {
   "cell_type": "code",
   "execution_count": 8,
   "metadata": {},
   "outputs": [
    {
     "name": "stdout",
     "output_type": "stream",
     "text": [
      "comparison 1\n",
      "0.8190778968694478 0.38262778610886194 0.9991934991054935\n",
      "0.03802120111132281\n",
      "0.4138898180733708\n"
     ]
    }
   ],
   "source": [
    "from scipy.stats import shapiro, levene, ttest_ind\n",
    "\n",
    "group1 = data_40[data_40['line'] == 'E3']['Abeta40']\n",
    "group2 = data_40[data_40['line'] == 'y622']['Abeta40']\n",
    "group3 = data_40[data_40['line'] == 'Y+1mM']['Abeta40']\n",
    "\n",
    "stat1, p_norm1 = shapiro(group1)\n",
    "stat2, p_norm2 = shapiro(group2)\n",
    "stat3, p_norm3 = shapiro(group3)\n",
    "print('comparison 1')\n",
    "print(p_norm1, p_norm2, p_norm3)\n",
    "\n",
    "stat, p_levene = levene(group1, group2)\n",
    "# Decide whether to assume equal variances\n",
    "equal_var = p_levene > 0.05 \n",
    "print(p_levene)\n",
    "\n",
    "stat, p_levene = levene(group2, group3)\n",
    "# Decide whether to assume equal variances\n",
    "equal_var = p_levene > 0.05 \n",
    "print(p_levene)\n",
    "\n"
   ]
  },
  {
   "cell_type": "code",
   "execution_count": 12,
   "metadata": {},
   "outputs": [],
   "source": [
    "# Ab40 pvalues\n",
    "group1 = data_40[data_40['line'] == 'E3']['Abeta40']\n",
    "group2 = data_40[data_40['line'] == 'y622']['Abeta40']\n",
    "t_stat, p_value_A = ttest_ind(group1, group2, equal_var=False)\n",
    "\n",
    "group1 = data_40[data_40['line'] == 'y622']['Abeta40']\n",
    "group2 = data_40[data_40['line'] == 'Y+1mM']['Abeta40']\n",
    "t_stat, p_value_B= ttest_ind(group1, group2, equal_var=True)\n",
    "\n",
    "formatted_pvalues_40 = [f\"p={p:.3f}\" if p>0.001 else f\"p={p:.3e}\" for p in [p_value_A, p_value_B]]\n"
   ]
  },
  {
   "cell_type": "code",
   "execution_count": 11,
   "metadata": {},
   "outputs": [
    {
     "name": "stdout",
     "output_type": "stream",
     "text": [
      "comparison 1\n",
      "0.6575234494009531 0.32736185124127476 0.7670599472088769\n",
      "0.2025311121489404\n",
      "0.8239648454817042\n"
     ]
    }
   ],
   "source": [
    "\n",
    "group1 = data_42[data_42['line'] == 'E3']['Abeta42']\n",
    "group2 = data_42[data_42['line'] == 'y622']['Abeta42']\n",
    "group3 = data_42[data_42['line'] == 'Y+1mM']['Abeta42']\n",
    "\n",
    "stat1, p_norm1 = shapiro(group1)\n",
    "stat2, p_norm2 = shapiro(group2)\n",
    "stat3, p_norm3 = shapiro(group3)\n",
    "print('comparison 1')\n",
    "print(p_norm1, p_norm2, p_norm3)\n",
    "\n",
    "stat, p_levene = levene(group1, group2)\n",
    "# Decide whether to assume equal variances\n",
    "equal_var = p_levene > 0.05 \n",
    "print(p_levene)\n",
    "\n",
    "stat, p_levene = levene(group2, group3)\n",
    "# Decide whether to assume equal variances\n",
    "equal_var = p_levene > 0.05 \n",
    "print(p_levene)"
   ]
  },
  {
   "cell_type": "code",
   "execution_count": 13,
   "metadata": {},
   "outputs": [],
   "source": [
    "# Ab42 pvalues\n",
    "group1 = data_42[data_42['line'] == 'E3']['Abeta42']\n",
    "group2 = data_42[data_42['line'] == 'y622']['Abeta42']\n",
    "t_stat, p_value_A = ttest_ind(group1, group2, equal_var=True)\n",
    "\n",
    "group1 = data_42[data_42['line'] == 'y622']['Abeta42']\n",
    "group2 = data_42[data_42['line'] == 'Y+1mM']['Abeta42']\n",
    "t_stat, p_value_B= ttest_ind(group1, group2, equal_var=True)\n",
    "\n",
    "formatted_pvalues_42 = [f\"p={p:.3f}\" if p>0.001 else f\"p={p:.3e}\" for p in [p_value_A, p_value_B]]\n"
   ]
  },
  {
   "cell_type": "code",
   "execution_count": 14,
   "metadata": {},
   "outputs": [
    {
     "name": "stderr",
     "output_type": "stream",
     "text": [
      "/var/folders/y7/zpj5hbtd2bl78b1t9h2723hw0000gn/T/ipykernel_60651/2536835371.py:3: FutureWarning: \n",
      "\n",
      "Passing `palette` without assigning `hue` is deprecated and will be removed in v0.14.0. Assign the `x` variable to `hue` and set `legend=False` for the same effect.\n",
      "\n",
      "  ax = sns.boxplot(\n",
      "/var/folders/y7/zpj5hbtd2bl78b1t9h2723hw0000gn/T/ipykernel_60651/2536835371.py:3: FutureWarning: \n",
      "\n",
      "Passing `palette` without assigning `hue` is deprecated and will be removed in v0.14.0. Assign the `x` variable to `hue` and set `legend=False` for the same effect.\n",
      "\n",
      "  ax = sns.boxplot(\n"
     ]
    },
    {
     "name": "stdout",
     "output_type": "stream",
     "text": [
      "E3 vs. y622: p=7.537e-04\n",
      "y622 vs. Y+1mM: p=0.044\n",
      "E3 vs. y622: p=1.851e-04\n",
      "y622 vs. Y+1mM: p=0.002\n"
     ]
    },
    {
     "data": {
      "image/png": "[encoded data removed]",
      "text/plain": [
       "<Figure size 550x200 with 2 Axes>"
      ]
     },
     "metadata": {},
     "output_type": "display_data"
    }
   ],
   "source": [
    "fig, (ax1, ax2) = plt.subplots(1, 2, figsize=(5.5, 2))\n",
    "\n",
    "plt.sca(ax1)\n",
    "\n",
    "ax1 = plot_boxplot_by_treatment(data_40, 'line', 'Abeta40', order = ['E3', 'y622', 'Y+1mM'], pairs = [('E3', 'y622'), ('y622', 'Y+1mM')],palette={'E3': 'grey', 'y622': 'orange', 'Y+1mM': 'purple'}, \n",
    "                                ylim = np.max(data_40['Abeta40']+50), pvalues=formatted_pvalues_40)\n",
    "\n",
    "ax1.set_xticks([])\n",
    "ax1.spines['top'].set_visible(False)\n",
    "ax1.spines['right'].set_visible(False)\n",
    "ax1.set_ylabel('Aβ40 levels (pg/mL)')\n",
    "\n",
    "ax1.text(-0.15, -0.05, \"WT\\n+ H2O\", ha='center', va='top', transform=ax1.get_xaxis_transform(),\n",
    "         bbox=dict(boxstyle=\"round,pad=0.2\", fc=\"grey\", ec=\"grey\", alpha=0.5), fontsize=8)\n",
    "ax1.text(0.7, -0.05, \"p.Tyr622*\\n+ H2O\", ha='center', va='top', transform=ax1.get_xaxis_transform(),\n",
    "         bbox=dict(boxstyle=\"round,pad=0.2\", fc=\"orange\", ec=\"orange\", alpha=0.5), fontsize=8)\n",
    "ax1.text(1.9, -0.05, \"p.Tyr622*\\n+ CDP-choline\", ha='center', va='top', transform=ax1.get_xaxis_transform(),\n",
    "         bbox=dict(boxstyle=\"round,pad=0.2\", fc=\"purple\", ec=\"purple\", alpha=0.5), fontsize=8)\n",
    "\n",
    "plt.sca(ax2)\n",
    "\n",
    "ax2 = plot_boxplot_by_treatment(data_42, 'line', 'Abeta42', order = ['E3', 'y622', 'Y+1mM'], pairs = [('E3', 'y622'), ('y622', 'Y+1mM')],palette={'E3': 'grey', 'y622': 'orange', 'Y+1mM': 'purple'}, \n",
    "                                ylim = np.max(data_42['Abeta42']+50), pvalues=formatted_pvalues_42)\n",
    "ax2.set_xticks([])\n",
    "ax2.spines['top'].set_visible(False)\n",
    "ax2.spines['right'].set_visible(False)\n",
    "ax2.set_ylabel('Aβ42 levels (pg/mL)')\n",
    "\n",
    "ax2.text(-0.15, -0.05, \"WT\\n+ H2O\", ha='center', va='top', transform=ax2.get_xaxis_transform(),\n",
    "         bbox=dict(boxstyle=\"round,pad=0.2\", fc=\"grey\", ec=\"grey\", alpha=0.5), fontsize=8)\n",
    "ax2.text(0.7, -0.05, \"p.Tyr622*\\n+ H2O\", ha='center', va='top', transform=ax2.get_xaxis_transform(),\n",
    "         bbox=dict(boxstyle=\"round,pad=0.2\", fc=\"orange\", ec=\"orange\", alpha=0.5), fontsize=8)\n",
    "ax2.text(1.9, -0.05, \"p.Tyr622*\\n+ CDP-choline\", ha='center', va='top', transform=ax2.get_xaxis_transform(),\n",
    "         bbox=dict(boxstyle=\"round,pad=0.2\", fc=\"purple\", ec=\"purple\", alpha=0.5), fontsize=8)\n",
    "\n",
    "plt.subplots_adjust(left=0.07, right=0.9, top=0.8, bottom=0.08, wspace=0.4)\n",
    "\n",
    "plt.savefig('../../paper/main_plots/abeta_elisa.png', dpi=300, bbox_inches='tight')"
   ]
  },
  {
   "cell_type": "code",
   "execution_count": 15,
   "metadata": {},
   "outputs": [],
   "source": [
    "# load data\n",
    "data = pd.read_csv('../../elisa_data/ABCA7_spheroid_Abeta ELISA_122124.csv', index_col=None)\n",
    "data_subset = data[(data['Unnamed: 0'] != 'G2')]\n",
    "data_subset.columns = ['line', 'x', 'y', 'z', 'Abeta42', 'Abeta40', 'Abeta42/40']\n",
    "data_subset.index = np.arange(len(data_subset))"
   ]
  },
  {
   "cell_type": "code",
   "execution_count": 16,
   "metadata": {},
   "outputs": [],
   "source": [
    "# Remove outliers (significant also when not doing so, but makes it very difficult to plot otherwise)\n",
    "outliers, lb, ub = detect_outliers_iqr(data_subset['Abeta40'].values)\n",
    "data_40 = data_subset[np.invert(outliers)]\n",
    "\n",
    "outliers, lb, ub = detect_outliers_iqr(data_subset['Abeta42'].values)\n",
    "data_42 = data_subset[np.invert(outliers)]\n"
   ]
  },
  {
   "cell_type": "code",
   "execution_count": 19,
   "metadata": {},
   "outputs": [
    {
     "name": "stdout",
     "output_type": "stream",
     "text": [
      "comparison 1\n",
      "0.9761577500432812 0.7858873439005157 0.12188525274628983 0.209388808469558\n",
      "0.02771267797624425 0.04265863644131657 0.14388305189092862\n"
     ]
    }
   ],
   "source": [
    "\n",
    "group1 = data_40[data_40['line'] == 'E3']['Abeta40']\n",
    "group2 = data_40[data_40['line'] == 'y622']['Abeta40']\n",
    "group3 = data_40[data_40['line'] == 'Y+500uM']['Abeta40']\n",
    "group4 = data_40[data_40['line'] == 'Y+1mM']['Abeta40']\n",
    "\n",
    "stat1, p_norm1 = shapiro(group1)\n",
    "stat2, p_norm2 = shapiro(group2)\n",
    "stat3, p_norm3 = shapiro(group3)\n",
    "stat4, p_norm4 = shapiro(group4)\n",
    "\n",
    "print('comparison 1')\n",
    "print(p_norm1, p_norm2, p_norm3, p_norm4)\n",
    "\n",
    "stat, p_levene1 = levene(group1, group2)\n",
    "stat, p_levene2 = levene(group2, group3)\n",
    "stat, p_levene3 = levene(group2, group4)\n",
    "print(p_levene1, p_levene2, p_levene3)\n"
   ]
  },
  {
   "cell_type": "code",
   "execution_count": 21,
   "metadata": {},
   "outputs": [
    {
     "data": {
      "text/plain": [
       "['p=2.709e-04', 'p=0.715', 'p=0.049']"
      ]
     },
     "execution_count": 21,
     "metadata": {},
     "output_type": "execute_result"
    }
   ],
   "source": [
    "# Ab40\n",
    "t_stat, p_value_A = ttest_ind(group1, group2, equal_var=False)\n",
    "t_stat, p_value_B= ttest_ind(group2, group3, equal_var=False)\n",
    "t_stat, p_value_C= ttest_ind(group2, group4, equal_var=True)\n",
    "\n",
    "formatted_pvalues_40 = [f\"p={p:.3f}\" if p>0.001 else f\"p={p:.3e}\" for p in [p_value_A, p_value_B, p_value_C]]\n",
    "formatted_pvalues_40"
   ]
  },
  {
   "cell_type": "code",
   "execution_count": 22,
   "metadata": {},
   "outputs": [
    {
     "name": "stdout",
     "output_type": "stream",
     "text": [
      "comparison 1\n",
      "0.09746710925499026 0.7435813493640189 0.934528943807727 0.5306010724109042\n",
      "0.5234011306249455 0.058169012391182225 0.6898530396945679\n"
     ]
    }
   ],
   "source": [
    "\n",
    "group1 = data_42[data_42['line'] == 'E3']['Abeta42']\n",
    "group2 = data_42[data_42['line'] == 'y622']['Abeta42']\n",
    "group3 = data_42[data_42['line'] == 'Y+500uM']['Abeta42']\n",
    "group4 = data_42[data_42['line'] == 'Y+1mM']['Abeta42']\n",
    "\n",
    "stat1, p_norm1 = shapiro(group1)\n",
    "stat2, p_norm2 = shapiro(group2)\n",
    "stat3, p_norm3 = shapiro(group3)\n",
    "stat4, p_norm4 = shapiro(group4)\n",
    "\n",
    "print('comparison 1')\n",
    "print(p_norm1, p_norm2, p_norm3, p_norm4)\n",
    "\n",
    "stat, p_levene1 = levene(group1, group2)\n",
    "stat, p_levene2 = levene(group2, group3)\n",
    "stat, p_levene3 = levene(group2, group4)\n",
    "print(p_levene1, p_levene2, p_levene3)\n"
   ]
  },
  {
   "cell_type": "code",
   "execution_count": 23,
   "metadata": {},
   "outputs": [
    {
     "data": {
      "text/plain": [
       "['p=0.041', 'p=0.480', 'p=0.413']"
      ]
     },
     "execution_count": 23,
     "metadata": {},
     "output_type": "execute_result"
    }
   ],
   "source": [
    "# Ab42\n",
    "t_stat, p_value_A = ttest_ind(group1, group2, equal_var=True)\n",
    "t_stat, p_value_B= ttest_ind(group2, group3, equal_var=True)\n",
    "t_stat, p_value_C= ttest_ind(group2, group4, equal_var=True)\n",
    "\n",
    "formatted_pvalues_42 = [f\"p={p:.3f}\" if p>0.001 else f\"p={p:.3e}\" for p in [p_value_A, p_value_B, p_value_C]]\n",
    "formatted_pvalues_42"
   ]
  },
  {
   "cell_type": "code",
   "execution_count": 24,
   "metadata": {},
   "outputs": [
    {
     "name": "stderr",
     "output_type": "stream",
     "text": [
      "/var/folders/y7/zpj5hbtd2bl78b1t9h2723hw0000gn/T/ipykernel_60651/2536835371.py:3: FutureWarning: \n",
      "\n",
      "Passing `palette` without assigning `hue` is deprecated and will be removed in v0.14.0. Assign the `x` variable to `hue` and set `legend=False` for the same effect.\n",
      "\n",
      "  ax = sns.boxplot(\n",
      "/var/folders/y7/zpj5hbtd2bl78b1t9h2723hw0000gn/T/ipykernel_60651/2536835371.py:3: FutureWarning: \n",
      "\n",
      "Passing `palette` without assigning `hue` is deprecated and will be removed in v0.14.0. Assign the `x` variable to `hue` and set `legend=False` for the same effect.\n",
      "\n",
      "  ax = sns.boxplot(\n"
     ]
    },
    {
     "name": "stdout",
     "output_type": "stream",
     "text": [
      "E3 vs. y622: p=2.709e-04\n",
      "y622 vs. Y+500uM: p=0.715\n",
      "y622 vs. Y+1mM: p=0.049\n",
      "E3 vs. y622: p=0.041\n",
      "y622 vs. Y+500uM: p=0.480\n",
      "y622 vs. Y+1mM: p=0.413\n"
     ]
    },
    {
     "data": {
      "image/png": "[encoded data removed]",
      "text/plain": [
       "<Figure size 650x200 with 2 Axes>"
      ]
     },
     "metadata": {},
     "output_type": "display_data"
    }
   ],
   "source": [
    "fig, (ax1, ax2) = plt.subplots(1, 2, figsize=(6.5, 2))\n",
    "\n",
    "plt.sca(ax1)\n",
    "\n",
    "ax1 = plot_boxplot_by_treatment(data_40, 'line', 'Abeta40', order = ['E3', 'y622', 'Y+500uM', 'Y+1mM'], pairs = [('E3', 'y622'), ('y622', 'Y+500uM'), ('y622', 'Y+1mM')],palette={'E3': 'grey', 'y622': 'orange', 'Y+500uM': 'pink', 'Y+1mM': 'purple'}, \n",
    "                                ylim = np.max(data_40['Abeta40']+50), pvalues=formatted_pvalues_40)\n",
    "\n",
    "ax1.set_xticks([])\n",
    "ax1.spines['top'].set_visible(False)\n",
    "ax1.spines['right'].set_visible(False)\n",
    "ax1.set_ylabel('Aβ40 levels (pg/mL)')\n",
    "\n",
    "ax1.text(-0.15, -0.05, \"WT\\n+ H2O\", ha='center', va='top', transform=ax1.get_xaxis_transform(),\n",
    "         bbox=dict(boxstyle=\"round,pad=0.2\", fc=\"grey\", ec=\"grey\", alpha=0.5), fontsize=8)\n",
    "ax1.text(1, -0.05, \"p.Tyr622*\\n+ H2O\", ha='center', va='top', transform=ax1.get_xaxis_transform(),\n",
    "         bbox=dict(boxstyle=\"round,pad=0.2\", fc=\"orange\", ec=\"orange\", alpha=0.5), fontsize=8)\n",
    "ax1.text(3.6, -0.05, \"p.Tyr622*\\n+ 1mM\", ha='center', va='top', transform=ax1.get_xaxis_transform(),\n",
    "         bbox=dict(boxstyle=\"round,pad=0.2\", fc=\"purple\", ec=\"purple\", alpha=0.5), fontsize=8)\n",
    "ax1.text(2.3, -0.05, \"p.Tyr622*\\n+ 500uM\", ha='center', va='top', transform=ax1.get_xaxis_transform(),\n",
    "         bbox=dict(boxstyle=\"round,pad=0.2\", fc=\"pink\", ec=\"pink\", alpha=0.5), fontsize=8)\n",
    "\n",
    "plt.sca(ax2)\n",
    "\n",
    "ax2 = plot_boxplot_by_treatment(data_42, 'line', 'Abeta42', order = ['E3', 'y622', 'Y+500uM', 'Y+1mM'], pairs = [('E3', 'y622'), ('y622', 'Y+500uM'), ('y622', 'Y+1mM')],palette={'E3': 'grey', 'y622': 'orange', 'Y+500uM': 'pink', 'Y+1mM': 'purple'}, \n",
    "                                ylim = np.max(data_42['Abeta42']+50), pvalues=formatted_pvalues_42)\n",
    "ax2.set_xticks([])\n",
    "ax2.spines['top'].set_visible(False)\n",
    "ax2.spines['right'].set_visible(False)\n",
    "ax2.set_ylabel('Aβ42 levels (pg/mL)')\n",
    "\n",
    "ax2.text(-0.15, -0.05, \"WT\\n+ H2O\", ha='center', va='top', transform=ax2.get_xaxis_transform(),\n",
    "         bbox=dict(boxstyle=\"round,pad=0.2\", fc=\"grey\", ec=\"grey\", alpha=0.5), fontsize=8)\n",
    "ax2.text(1, -0.05, \"p.Tyr622*\\n+ H2O\", ha='center', va='top', transform=ax2.get_xaxis_transform(),\n",
    "         bbox=dict(boxstyle=\"round,pad=0.2\", fc=\"orange\", ec=\"orange\", alpha=0.5), fontsize=8)\n",
    "ax2.text(3.6, -0.05, \"p.Tyr622*\\n+ 1mM\", ha='center', va='top', transform=ax2.get_xaxis_transform(),\n",
    "         bbox=dict(boxstyle=\"round,pad=0.2\", fc=\"purple\", ec=\"purple\", alpha=0.5), fontsize=8)\n",
    "ax2.text(2.3, -0.05, \"p.Tyr622*\\n+ 500uM\", ha='center', va='top', transform=ax2.get_xaxis_transform(),\n",
    "         bbox=dict(boxstyle=\"round,pad=0.2\", fc=\"pink\", ec=\"pink\", alpha=0.5), fontsize=8)\n",
    "\n",
    "\n",
    "ax1.hlines(y=490, xmin=1.7, xmax=8, linestyles='solid', color='black', linewidth=1)\n",
    "ax1.text(3.2, 550, '+ CDP-choline\\n(3 weeks)', ha='right', fontsize=7)\n",
    "\n",
    "# Add horizontal line and CDP-choline text for the second plot\n",
    "ax2.hlines(y=90, xmin=1.7, xmax=4, linestyles='solid', color='black', linewidth=1)\n",
    "ax2.text(3.2, 105, '+ CDP-choline\\n(3 weeks)', ha='right', fontsize=7)\n",
    "\n",
    "plt.subplots_adjust(left=0.07, right=0.9, top=0.8, bottom=0.08, wspace=0.8)\n",
    "\n",
    "plt.savefig('../../paper/main_plots/abeta_elisa_3weeks.png', dpi=300, bbox_inches='tight')"
   ]
  },
  {
   "cell_type": "code",
   "execution_count": 19,
   "metadata": {},
   "outputs": [
    {
     "name": "stdout",
     "output_type": "stream",
     "text": [
      "E3 vs. y622: t-test independent samples, P_val:4.635e-04 t=-3.842e+00\n",
      "y622 vs. Y+1mM: t-test independent samples, P_val:4.381e-02 t=2.102e+00\n"
     ]
    },
    {
     "name": "stderr",
     "output_type": "stream",
     "text": [
      "/Users/djuna/Library/Python/3.9/lib/python/site-packages/seaborn/_oldcore.py:1119: FutureWarning: use_inf_as_na option is deprecated and will be removed in a future version. Convert inf values to NaN before operating instead.\n",
      "  with pd.option_context('mode.use_inf_as_na', True):\n",
      "/Users/djuna/Library/Python/3.9/lib/python/site-packages/seaborn/_oldcore.py:1119: FutureWarning: use_inf_as_na option is deprecated and will be removed in a future version. Convert inf values to NaN before operating instead.\n",
      "  with pd.option_context('mode.use_inf_as_na', True):\n",
      "/Users/djuna/Library/Python/3.9/lib/python/site-packages/seaborn/_oldcore.py:1075: FutureWarning: When grouping with a length-1 list-like, you will need to pass a length-1 tuple to get_group in a future version of pandas. Pass `(name,)` instead of `name` to silence this warning.\n",
      "  data_subset = grouped_data.get_group(pd_key)\n"
     ]
    },
    {
     "data": {
      "text/plain": [
       "Text(-25.40277777777778, 0.5, 'Aβ40 levels (pg/mL)')"
      ]
     },
     "execution_count": 19,
     "metadata": {},
     "output_type": "execute_result"
    },
    {
     "data": {
      "image/png": "[encoded data removed]",
      "text/plain": [
       "<Figure size 200x200 with 1 Axes>"
      ]
     },
     "metadata": {},
     "output_type": "display_data"
    }
   ],
   "source": [
    "\n",
    "plt.figure(figsize=(2, 2))\n",
    "df_temp = data_40\n",
    "\n",
    "ax1 = plot_boxplot_by_treatment(data_40, 'line', 'Abeta40', order = ['E3', 'y622', 'Y+1mM'], pairs = [('E3', 'y622'), ('y622', 'Y+1mM')],palette={'E3': 'grey', 'y622': 'orange', 'Y+1mM': 'purple'}, \n",
    "                                ylim = np.max(data_40['Abeta40']+50) )\n",
    "\n",
    "ax1.set_ylabel(r'TMRM intensity ($\\Delta \\Psi_m$)', fontsize=12)\n",
    "\n",
    "ax1.set_xticks([])\n",
    "ax1.spines['top'].set_visible(False)\n",
    "ax1.spines['right'].set_visible(False)\n",
    "ax1.set_ylabel('Aβ40 levels (pg/mL)')"
   ]
  },
  {
   "cell_type": "code",
   "execution_count": 417,
   "metadata": {},
   "outputs": [
    {
     "name": "stderr",
     "output_type": "stream",
     "text": [
      "/var/folders/y7/zpj5hbtd2bl78b1t9h2723hw0000gn/T/ipykernel_85730/846485318.py:33: FutureWarning: Passing `palette` without assigning `hue` is deprecated.\n",
      "  sp = sns.stripplot(\n",
      "/Users/djuna/Library/Python/3.9/lib/python/site-packages/seaborn/_oldcore.py:1119: FutureWarning: use_inf_as_na option is deprecated and will be removed in a future version. Convert inf values to NaN before operating instead.\n",
      "  with pd.option_context('mode.use_inf_as_na', True):\n",
      "/Users/djuna/Library/Python/3.9/lib/python/site-packages/seaborn/_oldcore.py:1119: FutureWarning: use_inf_as_na option is deprecated and will be removed in a future version. Convert inf values to NaN before operating instead.\n",
      "  with pd.option_context('mode.use_inf_as_na', True):\n",
      "/var/folders/y7/zpj5hbtd2bl78b1t9h2723hw0000gn/T/ipykernel_85730/846485318.py:33: FutureWarning: Passing `palette` without assigning `hue` is deprecated.\n",
      "  sp = sns.stripplot(\n",
      "/Users/djuna/Library/Python/3.9/lib/python/site-packages/seaborn/_oldcore.py:1119: FutureWarning: use_inf_as_na option is deprecated and will be removed in a future version. Convert inf values to NaN before operating instead.\n",
      "  with pd.option_context('mode.use_inf_as_na', True):\n",
      "/Users/djuna/Library/Python/3.9/lib/python/site-packages/seaborn/_oldcore.py:1119: FutureWarning: use_inf_as_na option is deprecated and will be removed in a future version. Convert inf values to NaN before operating instead.\n",
      "  with pd.option_context('mode.use_inf_as_na', True):\n"
     ]
    },
    {
     "name": "stdout",
     "output_type": "stream",
     "text": [
      "E3 vs. y622: t-test independent samples, P_val:4.635e-04 t=-3.842e+00\n",
      "y622 vs. Y+1mM: t-test independent samples, P_val:4.381e-02 t=2.102e+00\n",
      "E3 vs. y622: t-test independent samples, P_val:1.851e-04 t=-4.154e+00\n",
      "y622 vs. Y+1mM: t-test independent samples, P_val:1.737e-03 t=3.428e+00\n"
     ]
    },
    {
     "data": {
      "image/png": "[encoded data removed]",
      "text/plain": [
       "<Figure size 440x300 with 2 Axes>"
      ]
     },
     "metadata": {},
     "output_type": "display_data"
    }
   ],
   "source": [
    "# plot \n",
    "\n",
    "fig, (ax1, ax2) = plt.subplots(1, 2, figsize=(4.4, 3))\n",
    "\n",
    "# Set current axis to ax1 before calling your function for the first plot.\n",
    "plt.sca(ax1)\n",
    "ax1 = plot_boxplot_by_treatment(\n",
    "    data_40, \n",
    "    x_val='line', \n",
    "    y_val='Abeta40',   # adjust if necessary\n",
    "    order=['E3', 'y622', 'Y+1mM'], \n",
    "    pairs=[('E3', 'y622'), ('y622', 'Y+1mM')], \n",
    "    palette={'E3': 'grey', 'y622': 'orange', 'Y+1mM': 'orange'}\n",
    ")\n",
    "ax1.set_ylabel('Aβ40 levels (pg/mL)')\n",
    "\n",
    "# Add horizontal line and CDP-choline text for the first plot\n",
    "ax1.hlines(y=1050, xmin=1.5, xmax=4, linestyles='solid', color='black', linewidth=1)\n",
    "ax1.text(4, 1070, '+ CDP-choline', ha='right', fontsize=7)\n",
    "\n",
    "ax1.set_xticks([])\n",
    "\n",
    "# Add custom x-axis labels for the first plot:\n",
    "ax1.text(0, -0.05, \"WT\", ha='center', va='top', transform=ax1.get_xaxis_transform(),\n",
    "         bbox=dict(boxstyle=\"round,pad=0.2\", fc=\"grey\", ec=\"grey\", alpha=0.5))\n",
    "ax1.text(2.2, -0.05, \"p.Tyr622*\", ha='center', va='top', transform=ax1.get_xaxis_transform(),\n",
    "         bbox=dict(boxstyle=\"round,pad=0.2\", fc=\"orange\", ec=\"orange\", alpha=0.5))\n",
    "\n",
    "# Add hatch to the last bar of the first plot\n",
    "if ax1.patches:\n",
    "    last_patch = ax1.patches[-1]\n",
    "    last_patch.set_hatch('//////')\n",
    "\n",
    "# Set current axis to ax2 before calling your function for the second plot.\n",
    "plt.sca(ax2)\n",
    "ax2 = plot_boxplot_by_treatment(\n",
    "    data_42, \n",
    "    x_val='line', \n",
    "    y_val='Abeta42', \n",
    "    order=['E3', 'y622', 'Y+1mM'], \n",
    "    pairs=[('E3', 'y622'), ('y622', 'Y+1mM')], \n",
    "    palette={'E3': 'grey', 'y622': 'orange', 'Y+1mM': 'orange'}\n",
    ")\n",
    "ax2.set_ylabel('Aβ42 levels (pg/mL)')\n",
    "\n",
    "# Add horizontal line and CDP-choline text for the second plot\n",
    "ax2.hlines(y=500, xmin=1.5, xmax=4, linestyles='solid', color='black', linewidth=1)\n",
    "ax2.text(4, 510, '+ CDP-choline', ha='right', fontsize=7)\n",
    "\n",
    "ax2.set_xticks([])\n",
    "\n",
    "# Add custom x-axis labels for the second plot:\n",
    "ax2.text(0, -0.05, \"WT\", ha='center', va='top', transform=ax2.get_xaxis_transform(),\n",
    "         bbox=dict(boxstyle=\"round,pad=0.2\", fc=\"grey\", ec=\"grey\", alpha=0.5))\n",
    "ax2.text(2.2, -0.05, \"p.Tyr622*\", ha='center', va='top', transform=ax2.get_xaxis_transform(),\n",
    "         bbox=dict(boxstyle=\"round,pad=0.2\", fc=\"orange\", ec=\"orange\", alpha=0.5))\n",
    "\n",
    "# Add hatch to the last bar of the second plot\n",
    "if ax2.patches:\n",
    "    last_patch = ax2.patches[-1]\n",
    "    last_patch.set_hatch('//////')\n",
    "\n",
    "plt.tight_layout()\n",
    "\n",
    "plt.savefig('../../paper/main_plots/abeta_elisa.png')\n",
    "plt.show()\n"
   ]
  },
  {
   "cell_type": "code",
   "execution_count": 406,
   "metadata": {},
   "outputs": [],
   "source": []
  }
 ],
 "metadata": {
  "kernelspec": {
   "display_name": "Python 3",
   "language": "python",
   "name": "python3"
  },
  "language_info": {
   "codemirror_mode": {
    "name": "ipython",
    "version": 3
   },
   "file_extension": ".py",
   "mimetype": "text/x-python",
   "name": "python",
   "nbconvert_exporter": "python",
   "pygments_lexer": "ipython3",
   "version": "3.9.6"
  }
 },
 "nbformat": 4,
 "nbformat_minor": 2
}

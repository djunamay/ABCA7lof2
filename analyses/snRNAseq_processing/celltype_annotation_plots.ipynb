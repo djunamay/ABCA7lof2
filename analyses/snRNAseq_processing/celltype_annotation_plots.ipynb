{
 "cells": [
  {
   "cell_type": "markdown",
   "id": "c4a0c683-5207-4af5-9bc7-dc94bdec4b86",
   "metadata": {},
   "source": [
    "<div style=\"border: 2px solid red; padding: 10px; border-radius: 5px;\">\n",
    "<strong>Notebook description:</strong>\n",
    "    \n",
    "This notebook plots metadata by LoF group.\n",
    "\n",
    "<strong>Input Data:</strong>\n",
    "\n",
    "`stats_input_data_0825.rds`\n",
    "\n",
    "<strong>Figures:</strong>\n",
    "\n",
    "`FS1`\n",
    "\n",
    "<strong>Last Run All:</strong>\n",
    "June 18, 2025\n",
    "\n",
    "\n"
   ]
  },
  {
   "cell_type": "code",
   "execution_count": 1,
   "id": "5a3893bd-e8ff-4798-8a75-b623c0f4fd9d",
   "metadata": {
    "collapsed": true,
    "jupyter": {
     "outputs_hidden": true
    },
    "tags": [],
    "vscode": {
     "languageId": "r"
    }
   },
   "outputs": [
    {
     "name": "stderr",
     "output_type": "stream",
     "text": [
      "Loading required package: SummarizedExperiment\n",
      "\n",
      "Loading required package: MatrixGenerics\n",
      "\n",
      "Loading required package: matrixStats\n",
      "\n",
      "\n",
      "Attaching package: ‘MatrixGenerics’\n",
      "\n",
      "\n",
      "The following objects are masked from ‘package:matrixStats’:\n",
      "\n",
      "    colAlls, colAnyNAs, colAnys, colAvgsPerRowSet, colCollapse,\n",
      "    colCounts, colCummaxs, colCummins, colCumprods, colCumsums,\n",
      "    colDiffs, colIQRDiffs, colIQRs, colLogSumExps, colMadDiffs,\n",
      "    colMads, colMaxs, colMeans2, colMedians, colMins, colOrderStats,\n",
      "    colProds, colQuantiles, colRanges, colRanks, colSdDiffs, colSds,\n",
      "    colSums2, colTabulates, colVarDiffs, colVars, colWeightedMads,\n",
      "    colWeightedMeans, colWeightedMedians, colWeightedSds,\n",
      "    colWeightedVars, rowAlls, rowAnyNAs, rowAnys, rowAvgsPerColSet,\n",
      "    rowCollapse, rowCounts, rowCummaxs, rowCummins, rowCumprods,\n",
      "    rowCumsums, rowDiffs, rowIQRDiffs, rowIQRs, rowLogSumExps,\n",
      "    rowMadDiffs, rowMads, rowMaxs, rowMeans2, rowMedians, rowMins,\n",
      "    rowOrderStats, rowProds, rowQuantiles, rowRanges, rowRanks,\n",
      "    rowSdDiffs, rowSds, rowSums2, rowTabulates, rowVarDiffs, rowVars,\n",
      "    rowWeightedMads, rowWeightedMeans, rowWeightedMedians,\n",
      "    rowWeightedSds, rowWeightedVars\n",
      "\n",
      "\n",
      "Loading required package: GenomicRanges\n",
      "\n",
      "Loading required package: stats4\n",
      "\n",
      "Loading required package: BiocGenerics\n",
      "\n",
      "\n",
      "Attaching package: ‘BiocGenerics’\n",
      "\n",
      "\n",
      "The following objects are masked from ‘package:stats’:\n",
      "\n",
      "    IQR, mad, sd, var, xtabs\n",
      "\n",
      "\n",
      "The following objects are masked from ‘package:base’:\n",
      "\n",
      "    Filter, Find, Map, Position, Reduce, anyDuplicated, aperm, append,\n",
      "    as.data.frame, basename, cbind, colnames, dirname, do.call,\n",
      "    duplicated, eval, evalq, get, grep, grepl, intersect, is.unsorted,\n",
      "    lapply, mapply, match, mget, order, paste, pmax, pmax.int, pmin,\n",
      "    pmin.int, rank, rbind, rownames, sapply, saveRDS, setdiff, table,\n",
      "    tapply, union, unique, unsplit, which.max, which.min\n",
      "\n",
      "\n",
      "Loading required package: S4Vectors\n",
      "\n",
      "\n",
      "Attaching package: ‘S4Vectors’\n",
      "\n",
      "\n",
      "The following object is masked from ‘package:utils’:\n",
      "\n",
      "    findMatches\n",
      "\n",
      "\n",
      "The following objects are masked from ‘package:base’:\n",
      "\n",
      "    I, expand.grid, unname\n",
      "\n",
      "\n",
      "Loading required package: IRanges\n",
      "\n",
      "Loading required package: GenomeInfoDb\n",
      "\n",
      "Loading required package: Biobase\n",
      "\n",
      "Welcome to Bioconductor\n",
      "\n",
      "    Vignettes contain introductory material; view with\n",
      "    'browseVignettes()'. To cite Bioconductor, see\n",
      "    'citation(\"Biobase\")', and for packages 'citation(\"pkgname\")'.\n",
      "\n",
      "\n",
      "\n",
      "Attaching package: ‘Biobase’\n",
      "\n",
      "\n",
      "The following object is masked from ‘package:MatrixGenerics’:\n",
      "\n",
      "    rowMedians\n",
      "\n",
      "\n",
      "The following objects are masked from ‘package:matrixStats’:\n",
      "\n",
      "    anyMissing, rowMedians\n",
      "\n",
      "\n",
      "\n",
      "Attaching package: ‘tidyr’\n",
      "\n",
      "\n",
      "The following object is masked from ‘package:S4Vectors’:\n",
      "\n",
      "    expand\n",
      "\n",
      "\n",
      "\n",
      "Attaching package: ‘reshape2’\n",
      "\n",
      "\n",
      "The following object is masked from ‘package:tidyr’:\n",
      "\n",
      "    smiths\n",
      "\n",
      "\n",
      "========================================\n",
      "tidyHeatmap version 1.11.6\n",
      "If you use tidyHeatmap in published research, please cite:\n",
      "1) Mangiola et al. tidyHeatmap: an R package for modular heatmap production \n",
      "  based on tidy principles. JOSS 2020.\n",
      "2) Gu, Z. Complex heatmaps reveal patterns and correlations in multidimensional \n",
      "  genomic data. Bioinformatics 2016.\n",
      "This message can be suppressed by:\n",
      "  suppressPackageStartupMessages(library(tidyHeatmap))\n",
      "========================================\n",
      "\n",
      "\n",
      "\n",
      "Attaching package: ‘tidyHeatmap’\n",
      "\n",
      "\n",
      "The following object is masked from ‘package:stats’:\n",
      "\n",
      "    heatmap\n",
      "\n",
      "\n",
      "Loading required package: grid\n",
      "\n",
      "========================================\n",
      "ComplexHeatmap version 2.22.0\n",
      "Bioconductor page: http://bioconductor.org/packages/ComplexHeatmap/\n",
      "Github page: https://github.com/jokergoo/ComplexHeatmap\n",
      "Documentation: http://jokergoo.github.io/ComplexHeatmap-reference\n",
      "\n",
      "If you use it in published research, please cite either one:\n",
      "- Gu, Z. Complex Heatmap Visualization. iMeta 2022.\n",
      "- Gu, Z. Complex heatmaps reveal patterns and correlations in multidimensional \n",
      "    genomic data. Bioinformatics 2016.\n",
      "\n",
      "\n",
      "The new InteractiveComplexHeatmap package can directly export static \n",
      "complex heatmaps into an interactive Shiny app with zero effort. Have a try!\n",
      "\n",
      "This message can be suppressed by:\n",
      "  suppressPackageStartupMessages(library(ComplexHeatmap))\n",
      "========================================\n",
      "\n",
      "\n"
     ]
    }
   ],
   "source": [
    "\n",
    "source('../../ABCA7lof2/plotting.r')\n",
    "library(SingleCellExperiment)\n",
    "library(ggplot2)\n",
    "library(ggpubr)\n",
    "library(tidyr)\n",
    "library(patchwork)\n",
    "\n",
    "library(reshape2)\n",
    "\n",
    "library(RColorBrewer)\n",
    "library(tidyHeatmap)\n",
    "library(ComplexHeatmap)\n",
    "\n",
    "\n",
    "plot_coords_by_grp = function (df, x_name, y_name, annotation_name, alpha_name, colors) \n",
    "{\n",
    "    df = (df[, c(x_name, y_name, annotation_name, alpha_name)])\n",
    "    colnames(df) = c(\"x_name\", \"y_name\", \"annotation_name\", \"alpha_name\")\n",
    "    plot = ggplot(df, aes(x = x_name, y = y_name, color = annotation_name, \n",
    "        alpha = alpha_name)) + geom_point(size = 0.001) + theme_void() + \n",
    "        theme(panel.background = element_rect(colour = \"black\", \n",
    "            size = 0), legend.position = \"none\") + scale_color_manual(values = (colors[as.character(unique(df$annotation_name))])) + \n",
    "        ggtitle(\"\") + theme(text = element_text(size = (11))) + \n",
    "        theme(legend.position = \"bottom\") + guides(colour = guide_legend(override.aes = list(size = 5))) #+ \n",
    "        #theme(legend.title = element_blank(), legend.position = \"none\")\n",
    "    return(plot + theme(panel.background = element_rect(fill = \"transparent\"), \n",
    "        plot.background = element_rect(fill = \"transparent\", \n",
    "            color = NA), panel.grid.major = element_blank(), \n",
    "        panel.grid.minor = element_blank(), legend.background = element_rect(fill = \"transparent\"), \n",
    "        legend.box.background = element_rect(fill = \"transparent\")))\n",
    "    return(plot)\n",
    "}"
   ]
  },
  {
   "cell_type": "markdown",
   "id": "bc14be3d",
   "metadata": {},
   "source": [
    "load the data"
   ]
  },
  {
   "cell_type": "code",
   "execution_count": 2,
   "id": "c7363af3-bf3d-423d-9e1c-067834ed40c0",
   "metadata": {
    "vscode": {
     "languageId": "r"
    }
   },
   "outputs": [],
   "source": [
    "colors = readRDS('../../processed_data/Cell_group_colors.rds')\n",
    "all_data = readRDS('../../processed_data/stats_input_data_0825.rds')\n",
    "# per-cell marker expression\n",
    "marker_logcounts_melted = read.csv('../../processed_data/marker_logcounts_melted.csv')\n",
    "colData = read.csv('../../processed_data/colData.csv')\n",
    "# various QC/stats metrics\n",
    "df = read.csv('../../processed_data/celltype_annos_qc.csv')\n",
    "data = readRDS('../../processed_data/celltype_anno_counts.rds')"
   ]
  },
  {
   "cell_type": "code",
   "execution_count": 3,
   "id": "3c811cc4-03d0-49fb-bfe2-e2eb24d5f55e",
   "metadata": {
    "vscode": {
     "languageId": "r"
    }
   },
   "outputs": [],
   "source": [
    "# get coords data\n",
    "coords = colData[,c('x', 'y', 'ABCA7LoF', 'projid', 'leiden_clusters', 'annotations2', 'gaussian_liklihood')]\n",
    "coords$ABCA7LoF = ifelse(coords$ABCA7LoF==1, 'LoF', 'Con')\n",
    "coords$leiden_clusters = as.character(coords$leiden_clusters)"
   ]
  },
  {
   "cell_type": "code",
   "execution_count": 4,
   "id": "dd0cbb9e",
   "metadata": {
    "vscode": {
     "languageId": "r"
    }
   },
   "outputs": [],
   "source": [
    "# plot marker genes\n",
    "marker_genes = c('SYT1', 'NRGN', 'GAD1', 'AQP4', 'CSF1R', 'MBP', 'PLP1', 'VCAN',  'PDGFRB', 'FLT1')\n",
    "marker_logcounts_melted$Var1 = factor(marker_logcounts_melted$Var1, levels = marker_genes)\n",
    "plt0 = ggplot(marker_logcounts_melted, aes(x = celltype, y = value, fill = celltype)) + geom_boxplot(outlier.shape = NA)  + facet_wrap(Var1 ~ ., ncol = 5, scales = 'free')+ theme_classic() + theme( strip.background = element_blank() )  + scale_fill_manual(values = colors[marker_logcounts_melted$celltype])\n",
    "\n",
    "ggsave(\"/Users/djuna/Documents/ABCA7lof2/editorial_paper/main_panels_svgs/fs1/marker_boxplot.pdf\", plot = plt0, width = 10, height = 3, units = \"in\")\n"
   ]
  },
  {
   "cell_type": "code",
   "execution_count": 5,
   "id": "eb0f2b7c",
   "metadata": {
    "vscode": {
     "languageId": "r"
    }
   },
   "outputs": [],
   "source": [
    "\n",
    "# plot fractions\n",
    "cells = unique(df$celltype)\n",
    "df$celltype = factor(df$celltype, levels = cells[order(cells)])\n",
    "colourCount = length(unique(df$projid))\n",
    "getPalette = colorRampPalette(brewer.pal(9, \"Set1\"))\n",
    "\n",
    "plt1 = ggplot(df) + aes(x = factor(projid), fill = factor(celltype)) + geom_bar(color = \"black\", position = \"fill\") + ggtitle('individual-level cell fractions') + xlab(\"LoF variants\") + ylab(\"fraction\") + theme_classic() + labs(x = \"\", fill = 'fraction') + scale_fill_manual(values = colors[as.character(df$celltype)]) + facet_grid(. ~ LOF, scales = \"free\", space = \"free\") + theme(axis.text.x = element_text(angle = 90, vjust = 0.5, hjust=1))\n",
    "\n",
    "ggsave(\"/Users/djuna/Documents/ABCA7lof2/editorial_paper/main_panels_svgs/fs1/individual_fractions.pdf\", plot = plt1, width = 10, height = 3, units = \"in\")\n"
   ]
  },
  {
   "cell_type": "code",
   "execution_count": 20,
   "id": "21e6a629-5d2c-40ea-9666-cdb85ae27e9c",
   "metadata": {
    "tags": [],
    "vscode": {
     "languageId": "r"
    }
   },
   "outputs": [],
   "source": [
    "# plot correlation heatmap\n",
    "C = unname(colors[c('Ex', 'In', 'Ast', 'Mic', 'Oli', 'Opc')])\n",
    "\n",
    "d = data$ind_cor%>%melt(.)%>%mutate(X=Var1)%>%mutate(Y=Var2)%>%\n",
    "separate(., 'Var1', c('From_celltype', 'From_projid'), '[.]')%>%\n",
    "separate(., 'Var2', c('To_celltype', 'To_projid'), '[.]')\n",
    "\n",
    "plt3 = d%>%as_tibble(.)%>%\n",
    "tidyHeatmap::heatmap(column_title='',row_title='',.row = X,.column = Y,.value = value,show_heatmap_legend =TRUE,show_column_names=F, show_row_names=F, palette_value = circlize::colorRamp2(seq(0, 1, length.out = 11), rev(RColorBrewer::brewer.pal(11, \"RdBu\"))), clustering_distance_rows='pearson', clustering_distance_columns='pearson')%>%\n",
    "add_tile(From_celltype, palette=C, show_annotation_name=FALSE)%>%\n",
    "add_tile(To_celltype, palette=C, show_annotation_name=FALSE, show_legend=FALSE)%>%wrap_heatmap()\n",
    "\n",
    "ggsave(\"/Users/djuna/Documents/ABCA7lof2/editorial_paper/main_panels_svgs/fs1/celltype_heatmap.pdf\", plot = plt3, width = 6, height = 5, units = \"in\")\n",
    "\n",
    "\n",
    "# plot correlation as boxplot\n",
    "df_subset = data$cross_cors\n",
    "df_subset$celltype1 = as.character(df_subset$celltype1)\n",
    "df_subset$celltype2 = as.character(df_subset$celltype2)\n",
    "plt4 = ggplot(df_subset) + aes(fill = factor(celltype1), x = factor(celltype1), y = value) + geom_boxplot() + ylab(\"individual correlations\") + theme_classic() + scale_fill_manual(values = colors[as.character(df_subset$celltype1)]) + theme(legend.position = \"none\")\n",
    "\n",
    "ggsave(\"/Users/djuna/Documents/ABCA7lof2/editorial_paper/main_panels_svgs/fs1/individual_correlations.pdf\", plot = plt4, width = 3, height = 3, units = \"in\")\n"
   ]
  },
  {
   "cell_type": "code",
   "execution_count": 17,
   "id": "f1518fdc",
   "metadata": {
    "vscode": {
     "languageId": "r"
    }
   },
   "outputs": [],
   "source": [
    "# plot barplots\n",
    "df = data$median_cells\n",
    "df$celltype = as.character(df$celltype)\n",
    "plt5 = ggplot(df) + aes(fill = factor(celltype), x = factor(celltype), y = median) + geom_bar(color = \"black\", stat=\"identity\") + ylab(\"Median cells/ind.\") + theme_classic() + scale_fill_manual(values = colors[as.character(df$celltype)]) + theme(legend.position = \"none\")\n",
    "df = data$N_cells\n",
    "df$celltype = as.character(df$celltype)\n",
    "plt6 = ggplot(df) + aes(fill = factor(celltype), x = factor(celltype), y = N) + geom_bar(color = \"black\", stat=\"identity\") + ylab(\"N cells/ind.\") + theme_classic() + scale_fill_manual(values = colors[as.character(df$celltype)]) + theme(legend.position = \"none\") + \n",
    "  geom_text(label = df$N, vjust = 1.5, colour = \"white\")\n",
    "\n",
    "ggsave(\"/Users/djuna/Documents/ABCA7lof2/editorial_paper/main_panels_svgs/fs1/median_cells.pdf\", plot = plt5, width = 3, height = 3, units = \"in\")\n"
   ]
  },
  {
   "cell_type": "code",
   "execution_count": 8,
   "id": "9f367dbc",
   "metadata": {
    "vscode": {
     "languageId": "r"
    }
   },
   "outputs": [
    {
     "name": "stderr",
     "output_type": "stream",
     "text": [
      "Warning message:\n",
      "“\u001b[1m\u001b[22mThe `size` argument of `element_rect()` is deprecated as of ggplot2 3.4.0.\n",
      "\u001b[36mℹ\u001b[39m Please use the `linewidth` argument instead.”\n"
     ]
    }
   ],
   "source": [
    "# show additional coord info \n",
    "n <- length(unique(coords$leiden_clusters))\n",
    "qual_col_pals = brewer.pal.info[brewer.pal.info$category == 'qual',]\n",
    "col_vector = unlist(mapply(brewer.pal, qual_col_pals$maxcolors, rownames(qual_col_pals)))\n",
    "names(col_vector) = as.character(unique(coords$leiden_clusters))\n",
    "C2 = plot_coords_by_grp(coords, 'x', 'y', 'leiden_clusters', 'gaussian_liklihood', col_vector)\n",
    "\n",
    "C2_mod <- C2 +\n",
    "  theme(legend.position = \"none\") +              # drop the legend\n",
    "   labs(\n",
    "    x     = \"X coordinate\",\n",
    "    y     = \"Y coordinate\",\n",
    "    title = \"2D UMAP projection of cells colored by leiden clusters\"\n",
    "  ) +\n",
    "  coord_equal() \n",
    "\n",
    "ggsave(\"/Users/djuna/Documents/ABCA7lof2/editorial_paper/main_panels_svgs/fs1/cell_proj_with_leiden.pdf\", plot = C2_mod, width = 5, height = 5, units = \"in\")\n"
   ]
  },
  {
   "cell_type": "code",
   "execution_count": 9,
   "id": "2dd59431",
   "metadata": {
    "vscode": {
     "languageId": "r"
    }
   },
   "outputs": [],
   "source": [
    "# also show cluster enrichments below\n",
    "df = read.csv('../../processed_data/celltype_scores.csv') %>% melt(., id.vars = 'X')\n",
    "colData = read.csv('../../processed_data/colData.csv')\n",
    "temp = coords[!duplicated(coords$leiden_clusters),]\n",
    "rownames(temp) = temp$leiden_clusters\n",
    "df$celltype = temp[as.character(df$X),'annotations2']\n",
    "\n",
    "df$X = as.character(df$X)\n",
    "\n",
    "plt8 = df%>%as_tibble(.)%>%\n",
    "tidyHeatmap::heatmap(column_title='Celltype Marker',row_title='Leiden Clusters',.row = X,.column = variable,.value = value,show_heatmap_legend =TRUE,palette_value = circlize::colorRamp2(seq(-3, 3, length.out = 11), rev(RColorBrewer::brewer.pal(11, \"RdBu\"))), clustering_distance_rows='pearson', clustering_distance_columns='pearson', scale='row')%>%\n",
    "add_tile(celltype, palette=C, show_annotation_name=FALSE)%>%wrap_heatmap()\n",
    "\n",
    "ggsave(\"/Users/djuna/Documents/ABCA7lof2/editorial_paper/main_panels_svgs/fs1/leiden_heatmap.pdf\", plot = plt8, width = 3, height = 5, units = \"in\")\n"
   ]
  },
  {
   "cell_type": "code",
   "execution_count": 10,
   "id": "1becf530",
   "metadata": {
    "vscode": {
     "languageId": "r"
    }
   },
   "outputs": [
    {
     "data": {
      "text/html": [
       "<strong>pdf:</strong> 2"
      ],
      "text/latex": [
       "\\textbf{pdf:} 2"
      ],
      "text/markdown": [
       "**pdf:** 2"
      ],
      "text/plain": [
       "pdf \n",
       "  2 "
      ]
     },
     "metadata": {},
     "output_type": "display_data"
    }
   ],
   "source": [
    "# cladogram\n",
    "temp = all_data$av_logcounts_by_cluster_full_matrix\n",
    "names = unlist(lapply(colnames(temp), function(x) strsplit(x, '[.]')[[1]][1]))\n",
    "out = apply(temp, 1, function(x){aggregate(x, by=list(names=names), 'mean')})\n",
    "                      \n",
    "out = do.call('cbind', out)\n",
    "\n",
    "N = unlist(lapply(colnames(out), function(x) endsWith(x, '.x')))\n",
    "out2 = out[,N]\n",
    "rownames(out2) = out$SAMD11.names\n",
    "out2 = t(out2)\n",
    "cor_clusters = cor(out2[rowVars(out2)>0,])\n",
    "\n",
    "df = colData[!duplicated(colData$leiden_clusters),c('leiden_clusters', 'annotations2')]\n",
    "rownames(df) = as.character(df$leiden_clusters)\n",
    "cellnames = df[colnames(cor_clusters),'annotations2']\n",
    "Col = colors[cellnames]\n",
    "rownames(cor_clusters) = unlist(lapply(1:length(colnames(cor_clusters)), function(x) paste0(cellnames[x], '.C', colnames(cor_clusters)[x])))\n",
    "                  \n",
    "options(repr.plot.width=5, repr.plot.height=8)\n",
    "\n",
    "D <- dist(cor_clusters)\n",
    "HC <- hclust(D)\n",
    "pdf('/Users/djuna/Documents/ABCA7lof2/editorial_paper/main_panels_svgs/fs1/hierarchical_tree.pdf', width = 5, height=8)\n",
    "P = plot(ape::as.phylo(HC), type=\"cladogram\", tip.color=Col)\n",
    "dev.off()"
   ]
  },
  {
   "cell_type": "code",
   "execution_count": 31,
   "id": "6c486600",
   "metadata": {
    "vscode": {
     "languageId": "r"
    }
   },
   "outputs": [],
   "source": []
  },
  {
   "cell_type": "code",
   "execution_count": null,
   "id": "87b12b5d",
   "metadata": {
    "vscode": {
     "languageId": "r"
    }
   },
   "outputs": [],
   "source": []
  },
  {
   "cell_type": "code",
   "execution_count": 12,
   "id": "80c12a61",
   "metadata": {
    "vscode": {
     "languageId": "r"
    }
   },
   "outputs": [
    {
     "data": {
      "text/html": [
       "<strong>pdf:</strong> 2"
      ],
      "text/latex": [
       "\\textbf{pdf:} 2"
      ],
      "text/markdown": [
       "**pdf:** 2"
      ],
      "text/plain": [
       "pdf \n",
       "  2 "
      ]
     },
     "metadata": {},
     "output_type": "display_data"
    }
   ],
   "source": [
    "df = readRDS('../../processed_data/RefCellTypeMarkers.adultBrain.rds')\n",
    "df = lapply(df, function(x) x[x%in%rownames(out2)])\n",
    "            \n",
    "out2 = all_data$av_logcounts_by_celltype\n",
    "o = lapply(names(df), function(x) colMeans((out2[df[[x]],])))\n",
    "\n",
    "temp = as.data.frame(do.call('rbind', o))\n",
    "rownames(temp) = names(df)\n",
    "temp = temp[!rownames(temp)%in%c('Per', 'Endo'),]           \n",
    "temp = temp[c('Ex', 'In', 'Ast', 'Mic', 'Oli', 'Opc'),c('Ex', 'In', 'Ast', 'Mic', 'Oli', 'Opc')]\n",
    "h1 = Heatmap((scale(t(temp))), name='z-score', cluster_columns = F,clustering_distance_columns='pearson', cluster_rows=F,column_title = 'reference 1\\n(PsychEncode)',, rect_gp = gpar(col = \"black\", lwd = 1))\n",
    "\n",
    "df = readRDS('../../processed_data/PanglaoDB.by.organ.by.celltype.rds')\n",
    "df = df$Brain\n",
    "df = lapply(df, function(x) x[x%in%rownames(out2)])\n",
    "            \n",
    "out2 = all_data$av_logcounts_by_celltype\n",
    "o = lapply(names(df), function(x) colMeans((out2[df[[x]],])))\n",
    "           \n",
    "temp2 = as.data.frame(do.call('rbind', o))\n",
    "rownames(temp2) = names(df)\n",
    "temp2 = temp2[rownames(temp2)%in%c('Pyramidal cells', 'Neurons','Glutaminergic neurons', 'GABAergic neurons', 'Astrocytes', 'Oligodendrocytes', 'Microglia',  'Oligodendrocyte progenitor cells'),]\n",
    "N = c('Neurons', 'Pyramidal cells', 'Glutaminergic neurons','GABAergic neurons', 'Astrocytes', 'Microglia', 'Oligodendrocytes', 'Oligodendrocyte progenitor cells')\n",
    "temp2 = temp2[(N),c('Ex', 'In', 'Ast', 'Mic', 'Oli', 'Opc')]\n",
    "h2 = Heatmap((scale(t(temp2))), clustering_distance_columns='pearson', cluster_columns = F,cluster_rows=F, column_title = 'reference 2\\n(PanglaoDB)', show_heatmap_legend = F, rect_gp = gpar(col = \"black\", lwd = 1))\n",
    "\n",
    "pdf('/Users/djuna/Documents/ABCA7lof2/editorial_paper/main_panels_svgs/fs1/marker_hmap.pdf', width = 4.5, height=4.5)\n",
    "h1+h2\n",
    "dev.off()"
   ]
  }
 ],
 "metadata": {
  "kernelspec": {
   "display_name": "R",
   "language": "R",
   "name": "ir"
  },
  "language_info": {
   "codemirror_mode": "r",
   "file_extension": ".r",
   "mimetype": "text/x-r-source",
   "name": "R",
   "pygments_lexer": "r",
   "version": "4.4.2"
  }
 },
 "nbformat": 4,
 "nbformat_minor": 5
}

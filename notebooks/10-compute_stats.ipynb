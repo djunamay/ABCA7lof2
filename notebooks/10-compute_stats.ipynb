{
 "cells": [
  {
   "cell_type": "markdown",
   "id": "1db49321-114d-4d5f-8ef6-52c1a2f21a92",
   "metadata": {},
   "source": [
    "**Compute DEGs and pathway enrichments**\n"
   ]
  },
  {
   "cell_type": "code",
   "execution_count": 1,
   "id": "9278ec8a-aa99-4547-b7f4-33f8e9f6042b",
   "metadata": {
    "tags": []
   },
   "outputs": [
    {
     "name": "stderr",
     "output_type": "stream",
     "text": [
      "Loading required package: limma\n",
      "\n",
      "Loading required package: mgcv\n",
      "\n",
      "Loading required package: nlme\n",
      "\n",
      "This is mgcv 1.8-40. For overview type 'help(\"mgcv-package\")'.\n",
      "\n",
      "Loading required package: genefilter\n",
      "\n",
      "Loading required package: BiocParallel\n",
      "\n"
     ]
    }
   ],
   "source": [
    "library(edgeR)\n",
    "library(sva)\n",
    "library(fgsea)\n",
    "library(tidyr)\n",
    "source('../ABCA7lof2//degs.r')\n",
    "set.seed(5)"
   ]
  },
  {
   "cell_type": "markdown",
   "id": "d87ddf1a-004b-4765-b586-6cb960fb2290",
   "metadata": {},
   "source": [
    "#### Compute gene scores (DEGs)"
   ]
  },
  {
   "cell_type": "code",
   "execution_count": 1,
   "id": "20b7f287-4a15-4660-aff9-9378eff2523f",
   "metadata": {},
   "outputs": [],
   "source": [
    "all_data = readRDS('./processed_data/single_cell/stats_input_data_0825.rds')"
   ]
  },
  {
   "cell_type": "code",
   "execution_count": 3,
   "id": "16f02950-bee9-46f9-ba6f-a5353b4f6998",
   "metadata": {},
   "outputs": [],
   "source": [
    "summed_counts = all_data$summed_counts_by_ind # does it make sense to be summing on the counts vs taking the mean of the counts? --> compare to nebula? --> ok because we are normalizing?\n",
    "meta = all_data$summary\n",
    "meta$seq_batch = ifelse(meta$seq_batch=='JBM',1,0)\n",
    "expressed = all_data$expressed10"
   ]
  },
  {
   "cell_type": "code",
   "execution_count": 4,
   "id": "85c0bbcf-5eac-4ee3-820d-82c267fe1247",
   "metadata": {},
   "outputs": [],
   "source": [
    "# filter out individuals with too few cells per celltype\n",
    "keep = summed_counts$ncells>=10\n",
    "summed_counts_indexed = summed_counts$summed_counts[,keep]"
   ]
  },
  {
   "cell_type": "code",
   "execution_count": 5,
   "id": "48f38d7b-3b10-4976-902f-c9e2b9533164",
   "metadata": {},
   "outputs": [
    {
     "name": "stdout",
     "output_type": "stream",
     "text": [
      "Number of significant surrogate variables is:  10 \n",
      "Iteration (out of 5 ):1  2  3  4  5  Number of significant surrogate variables is:  9 \n",
      "Iteration (out of 5 ):1  2  3  4  5  Number of significant surrogate variables is:  5 \n",
      "Iteration (out of 5 ):1  2  3  4  5  Number of significant surrogate variables is:  7 \n",
      "Iteration (out of 5 ):1  2  3  4  5  Number of significant surrogate variables is:  9 \n",
      "Iteration (out of 5 ):1  2  3  4  5  Number of significant surrogate variables is:  7 \n",
      "Iteration (out of 5 ):1  2  3  4  5  "
     ]
    }
   ],
   "source": [
    "# compute degs (all samples)\n",
    "vars = c('LOF', 'amyloid', 'nft',  'msex', 'age_death', 'pmi', 'seq_batch', 'APOE4')\n",
    "limma_inputs = get_limma_inputs(summed_counts_indexed, expressed, meta, vars)\n",
    "aggs = limma_inputs$aggs\n",
    "metadata = limma_inputs$metadata\n",
    "\n",
    "\n",
    "degs_all = lapply(names(aggs)[!names(aggs)%in%c('Vascular')], function(x) RunDiffExprAnalysisLimma(aggs[[x]], metadata[[x]], n.sv=NULL))\n",
    "names(degs_all) = names(aggs)[!names(aggs)%in%c('Vascular')]"
   ]
  },
  {
   "cell_type": "code",
   "execution_count": 6,
   "id": "3dfb9905-66b4-4922-a81a-700aa421fa81",
   "metadata": {},
   "outputs": [],
   "source": [
    "# get the ids\n",
    "ids = strsplit(colnames(summed_counts_indexed), '[.]')\n",
    "ids = unlist(lapply(1:length(ids), function(x) ids[[x]][2]))"
   ]
  },
  {
   "cell_type": "code",
   "execution_count": 7,
   "id": "262fbf0a-02c3-417d-85b9-b6e0f5ef554a",
   "metadata": {},
   "outputs": [
    {
     "name": "stdout",
     "output_type": "stream",
     "text": [
      "Number of significant surrogate variables is:  6 \n",
      "Iteration (out of 5 ):1  2  3  4  5  Number of significant surrogate variables is:  6 \n",
      "Iteration (out of 5 ):1  2  3  4  5  Number of significant surrogate variables is:  4 \n",
      "Iteration (out of 5 ):1  2  3  4  5  Number of significant surrogate variables is:  5 \n",
      "Iteration (out of 5 ):1  2  3  4  5  Number of significant surrogate variables is:  5 \n",
      "Iteration (out of 5 ):1  2  3  4  5  Number of significant surrogate variables is:  5 \n",
      "Iteration (out of 5 ):1  2  3  4  5  "
     ]
    }
   ],
   "source": [
    "# compute degs (no APOE4 samples)\n",
    "vars = c('LOF', 'amyloid', 'nft',  'msex', 'age_death', 'pmi', 'seq_batch')\n",
    "sele = rownames(meta)[meta$APOE4==0]\n",
    "sc_noAPOE4 = summed_counts_indexed[,ids%in%sele]\n",
    "limma_inputs = get_limma_inputs(sc_noAPOE4, expressed, meta[sele,], vars)\n",
    "aggs = limma_inputs$aggs\n",
    "metadata = limma_inputs$metadata\n",
    "degs_noAPOE4 = lapply(names(aggs)[!names(aggs)%in%c('Vascular')], function(x) RunDiffExprAnalysisLimma(aggs[[x]], metadata[[x]], n.sv=NULL, exclude_apoe=TRUE))\n",
    "names(degs_noAPOE4) = names(aggs)[!names(aggs)%in%c('Vascular')]\n"
   ]
  },
  {
   "cell_type": "code",
   "execution_count": 8,
   "id": "9fb2f2a5-2706-4811-b79d-2f3927497fd2",
   "metadata": {},
   "outputs": [
    {
     "name": "stdout",
     "output_type": "stream",
     "text": [
      "Number of significant surrogate variables is:  5 \n",
      "Iteration (out of 5 ):1  2  3  4  5  Number of significant surrogate variables is:  4 \n",
      "Iteration (out of 5 ):1  2  3  4  5  Number of significant surrogate variables is:  3 \n",
      "Iteration (out of 5 ):1  2  3  4  5  Number of significant surrogate variables is:  5 \n",
      "Iteration (out of 5 ):1  2  3  4  5  Number of significant surrogate variables is:  3 \n",
      "Iteration (out of 5 ):1  2  3  4  5  Number of significant surrogate variables is:  3 \n",
      "Iteration (out of 5 ):1  2  3  4  5  "
     ]
    }
   ],
   "source": [
    "# compute degs (no APOE4 samples)\n",
    "vars = c('LOF', 'amyloid', 'nft',  'msex', 'age_death', 'pmi', 'APOE4')\n",
    "sele = rownames(meta)[meta$seq_batch==1]\n",
    "sc_JBM = summed_counts_indexed[,ids%in%sele]\n",
    "limma_inputs = get_limma_inputs(sc_JBM, expressed, meta[sele,], vars)\n",
    "aggs = limma_inputs$aggs\n",
    "metadata = limma_inputs$metadata\n",
    "degs_JBM = lapply(names(aggs)[!names(aggs)%in%c('Vascular')], function(x) RunDiffExprAnalysisLimma(aggs[[x]], metadata[[x]], n.sv=NULL, exclude_batch=TRUE))\n",
    "names(degs_JBM) = names(aggs)[!names(aggs)%in%c('Vascular')]"
   ]
  },
  {
   "cell_type": "code",
   "execution_count": 9,
   "id": "5a562439-f63a-425a-b830-d3ccab407148",
   "metadata": {},
   "outputs": [
    {
     "name": "stdout",
     "output_type": "stream",
     "text": [
      "Number of significant surrogate variables is:  4 \n",
      "Iteration (out of 5 ):1  2  3  4  5  Number of significant surrogate variables is:  4 \n",
      "Iteration (out of 5 ):1  2  3  4  5  Number of significant surrogate variables is:  2 \n",
      "Iteration (out of 5 ):1  2  3  4  5  Number of significant surrogate variables is:  4 \n",
      "Iteration (out of 5 ):1  2  3  4  5  Number of significant surrogate variables is:  3 \n",
      "Iteration (out of 5 ):1  2  3  4  5  Number of significant surrogate variables is:  2 \n",
      "Iteration (out of 5 ):1  2  3  4  5  "
     ]
    }
   ],
   "source": [
    "# exclude both\n",
    "vars = c('LOF', 'amyloid', 'nft',  'msex', 'age_death', 'pmi')\n",
    "sele = rownames(meta)[(meta$seq_batch==1) & (meta$APOE4==0)]\n",
    "sc_exclude_both = summed_counts_indexed[,ids%in%sele]\n",
    "limma_inputs = get_limma_inputs(sc_exclude_both, expressed, meta[sele,], vars)\n",
    "aggs = limma_inputs$aggs\n",
    "metadata = limma_inputs$metadata\n",
    "degs_exclude_both = lapply(names(aggs)[!names(aggs)%in%c('Vascular')], function(x) RunDiffExprAnalysisLimma(aggs[[x]], metadata[[x]], n.sv=NULL, exclude_both=TRUE))\n",
    "names(degs_exclude_both) = names(aggs)[!names(aggs)%in%c('Vascular')]"
   ]
  },
  {
   "cell_type": "code",
   "execution_count": 11,
   "id": "239c315f-3f48-4b88-98eb-8626c798b002",
   "metadata": {},
   "outputs": [],
   "source": [
    "# save the results\n",
    "degs = list()\n",
    "degs[['degs_all']] = degs_all\n",
    "degs[['degs_exclude_both']] = degs_exclude_both\n",
    "degs[['degs_JBM']] = degs_JBM\n",
    "degs[['degs_noAPOE4']] = degs_noAPOE4\n",
    "\n",
    "saveRDS(degs, './processed_data/single_cell/pseudobulk_degs_0825.rds')"
   ]
  },
  {
   "cell_type": "code",
   "execution_count": 12,
   "id": "a9a5f6d4-41e8-43d4-a5c1-106c8e8e9a13",
   "metadata": {},
   "outputs": [],
   "source": [
    "# save deg scores as matrix\n",
    "out = list()\n",
    "scores = get_deg_scores(degs$degs_all)\n",
    "for(i in names(scores)){\n",
    "    df = as.data.frame(scores[[i]]$scores)\n",
    "    colnames(df) = c('score')\n",
    "    df$gene = rownames(df)\n",
    "    df$celltype = i\n",
    "    out[[i]] = df\n",
    "}\n",
    "all_scores = as.data.frame(do.call('rbind', out)%>%pivot_wider(., values_from='score', names_from='celltype'))\n",
    "rownames(all_scores) = all_scores$gene\n",
    "all_scores$gene = NULL\n",
    "all_scores[is.na(all_scores)] = 0\n",
    "write.csv(all_scores, './processed_data/single_cell/all_scores_0825.csv')"
   ]
  },
  {
   "cell_type": "markdown",
   "id": "d5fa0532-7f12-4d3a-868b-5b73c5dfa8b5",
   "metadata": {},
   "source": [
    "#### Run pathway enrichments (FGSEA)"
   ]
  },
  {
   "cell_type": "code",
   "execution_count": 2,
   "id": "9b4d7dbc-23bd-47ae-88cb-13845559fed1",
   "metadata": {},
   "outputs": [
    {
     "name": "stdout",
     "output_type": "stream",
     "text": [
      "  |======================================================================| 100%\n",
      "\n",
      "  |======================================================================| 100%\n",
      "\n",
      "  |======================================================================| 100%\n",
      "\n",
      "  |======================================================================| 100%\n",
      "\n",
      "  |======================================================================| 100%\n",
      "\n",
      "  |======================================================================| 100%\n",
      "\n"
     ]
    }
   ],
   "source": [
    "# load degs\n",
    "degs = readRDS('./processed_data/single_cell/pseudobulk_degs_0825.rds')$degs_all\n",
    "scores = get_deg_scores(degs)\n",
    "\n",
    "# compute fgsea results\n",
    "all_paths = read.csv('./processed_data/genesets/all_paths.csv', row.names = 'X')\n",
    "pathways = as.list(as.data.frame(t(all_paths)))\n",
    "temp = lapply(names(pathways), function(x) pathways[[x]][!(pathways[[x]]=='')])\n",
    "names(temp) = names(pathways)\n",
    "              \n",
    "out = lapply(names(scores), function(x) cbind(x, fgsea(pathways = temp, stats = scores[[x]]$scores, minSize = 5, maxSize = 1000, nproc=1, nPermSimple=10000)))\n",
    "names(out) = names(scores)"
   ]
  },
  {
   "cell_type": "code",
   "execution_count": 41,
   "id": "946c9c96-7747-4a79-939c-5492e5e81a36",
   "metadata": {},
   "outputs": [],
   "source": [
    "# save the fgsea results\n",
    "saveRDS(out, './processed_data/for_plotting/fgsea_out_0825.rds')\n",
    "\n",
    "# save all fgsea results\n",
    "df = as.data.frame(do.call('rbind', out))\n",
    "df = df[,!colnames(df)=='leadingEdge']\n",
    "write.csv(df, './processed_data/for_plotting/fgsea_out_0825.csv')\n",
    "\n",
    "# save LE genes per celltype\n",
    "for(i in names(out)){\n",
    "    res = out[[i]]\n",
    "    res = res[res$pval<0.05,]\n",
    "\n",
    "    df = as.data.frame(unique(unname(unlist(res$leadingEdge))))\n",
    "    colnames(df) = 'gene'\n",
    "    write.csv(df, paste0(paste0('./processed_data/for_plotting/leading_edge_0825', i), '.csv'))\n",
    "}"
   ]
  },
  {
   "cell_type": "code",
   "execution_count": 42,
   "id": "7b5fa2c4-1520-46b1-b35c-f7c799e6231f",
   "metadata": {},
   "outputs": [],
   "source": [
    "# save all LEs\n",
    "out = readRDS('./processed_data/for_plotting/fgsea_out_0825.rds')\n",
    "res = do.call('rbind', out)\n",
    "res$score = sign(res$NES) * -log10(res$pval)\n",
    "res = res[order(res$pval,decreasing=FALSE),]\n",
    "res = res[res$pval<0.05,]\n",
    "# save all leading edge genes\n",
    "df = as.data.frame(unique(unname(unlist(res$leadingEdge))))\n",
    "colnames(df) = 'gene'\n",
    "write.csv(df, './processed_data/for_plotting/leading_edge_0825.csv')"
   ]
  },
  {
   "cell_type": "code",
   "execution_count": 16,
   "id": "9e25d640-6338-46e2-9a50-3509d7e9d714",
   "metadata": {
    "tags": []
   },
   "outputs": [],
   "source": [
    "# save supp table\n",
    "res = list()\n",
    "for(i in names(out)){\n",
    "    T = out[[i]]\n",
    "    T = T[T$pval<0.05,]\n",
    "    T = T[order(T$pval,decreasing=FALSE),]\n",
    "    res[[i]] = T\n",
    "}\n",
    "temp = do.call('rbind', res)\n",
    "temp2 = temp\n",
    "x = unlist(lapply(temp$leadingEdge, function(x) paste(x, collapse=', ')))\n",
    "temp$leadingEdge = x\n",
    "write.csv(temp, './supplementary_tables/data_s3.csv')"
   ]
  },
  {
   "cell_type": "markdown",
   "id": "82903dde-a95c-47e4-9588-4542d104c59d",
   "metadata": {},
   "source": [
    "#### Run FGSEA for specific genesets of interest"
   ]
  },
  {
   "cell_type": "markdown",
   "id": "d7ac66d9-b3b2-46fe-bd0f-f18620dc3ccd",
   "metadata": {},
   "source": [
    "###### NFKB"
   ]
  },
  {
   "cell_type": "code",
   "execution_count": 47,
   "id": "dac68217-52d0-491a-80f2-b7ed87992b12",
   "metadata": {},
   "outputs": [
    {
     "name": "stdout",
     "output_type": "stream",
     "text": [
      "  |======================================================================| 100%\n",
      "\n"
     ]
    }
   ],
   "source": [
    "# enrichment for nfkb genesets\n",
    "pathways = readRDS('../ABCA7lof/processed_data/pathway_databases/pathways.rds')$all_paths\n",
    "                       \n",
    "o = get_gset_names_by_category(c('kappa'), names(pathways))\n",
    "temp2 = pathways[o]\n",
    "out = lapply(names(scores), function(x) cbind(x, fgsea(pathways = temp2, stats = scores[[x]]$scores, minSize = 5, maxSize = 1000, nproc=1, nPermSimple=10000)))\n",
    "names(out) = names(scores)\n",
    "          \n",
    "# save kappa paths\n",
    "\n",
    "saveRDS(out, './processed_data/for_plotting/fgsea_out_all_kappa.rds')"
   ]
  },
  {
   "cell_type": "code",
   "execution_count": 48,
   "id": "47313394-a89e-4b32-8b46-371c7739426e",
   "metadata": {},
   "outputs": [],
   "source": [
    "# save supp table\n",
    "temp = do.call('rbind', out)\n",
    "x = unlist(lapply(temp$leadingEdge, function(x) paste(x, collapse=', ')))\n",
    "temp$leadingEdge = x\n",
    "write.csv(temp, './supplementary_tables/data_s5.csv')"
   ]
  },
  {
   "cell_type": "markdown",
   "id": "89f93601-b125-49f7-9d6d-c0b376b8fde2",
   "metadata": {},
   "source": [
    "###### Lipid - general"
   ]
  },
  {
   "cell_type": "code",
   "execution_count": 49,
   "id": "4336db22-b44d-4876-8e02-5b0b05382502",
   "metadata": {},
   "outputs": [
    {
     "name": "stdout",
     "output_type": "stream",
     "text": [
      "  |======================================================================| 100%\n",
      "\n",
      "  |======================================================================| 100%\n",
      "\n",
      "  |======================================================================| 100%\n",
      "\n",
      "  |======================================================================| 100%\n",
      "\n"
     ]
    }
   ],
   "source": [
    "# enrichment for lipid genesets\n",
    "pathways = readRDS('../ABCA7lof/processed_data/pathway_databases/pathways.rds')$all_paths\n",
    "\n",
    "o = get_gset_names_by_category(c('sterol', 'lipid', 'glycer', 'fatt', 'ceramide', 'phosphatidyl'), names(pathways))\n",
    "temp2 = pathways[o]\n",
    "out = lapply(names(scores), function(x) cbind(x, fgsea(pathways = temp2, stats = scores[[x]]$scores, minSize = 5, maxSize = 1000, nproc=1, nPermSimple=10000)))\n",
    "names(out) = names(scores)\n",
    "   \n",
    "# save lipid paths\n",
    "res = out$Ex\n",
    "res = res[order(res$pval,decreasing=FALSE),]\n",
    "res = res[res$pval<0.05,]\n",
    "saveRDS(res, './processed_data/for_plotting/fgsea_out_ex_lipid.rds')\n",
    "             \n",
    "# save lipid paths\n",
    "saveRDS(out, './processed_data/for_plotting/fgsea_out_all_lipid.rds')"
   ]
  },
  {
   "cell_type": "code",
   "execution_count": 50,
   "id": "a40bd4d9-a21c-4cb0-88f5-bacdab723348",
   "metadata": {},
   "outputs": [],
   "source": [
    "# save supp table\n",
    "temp = do.call('rbind', out)\n",
    "x = unlist(lapply(temp$leadingEdge, function(x) paste(x, collapse=', ')))\n",
    "temp$leadingEdge = x\n",
    "write.csv(temp, './supplementary_tables/data_s4.csv')"
   ]
  },
  {
   "cell_type": "markdown",
   "id": "24878b22-e376-4965-b712-919193b64fef",
   "metadata": {},
   "source": [
    "###### Lipid synthesis"
   ]
  },
  {
   "cell_type": "code",
   "execution_count": 4,
   "id": "cfa028c4-1da9-40ca-b4c6-b44a3a2d8283",
   "metadata": {},
   "outputs": [],
   "source": [
    "# enrichment for lipid genesets\n",
    "degs = readRDS('../processed_data/single_cell/pseudobulk_degs_0825.rds')$degs_all\n",
    "scores = get_deg_scores(degs)\n",
    "\n",
    "pathways = readRDS('../../ABCA7lof/processed_data/pathway_databases/pathways.rds')$all_paths\n",
    "\n",
    "o = get_gset_names_by_category(c('lipid biosynthesis', 'lipid storage', 'lipid synthesis', 'Fatty Acyl-CoA Biosynthesis', 'Triglyceride Biosynthesis'), names(pathways))\n",
    "temp2 = pathways[o]\n",
    "out = lapply(names(scores), function(x) cbind(x, fgsea(pathways = temp2, stats = scores[[x]]$scores, minSize = 5, maxSize = 1000, nproc=1, nPermSimple=10000)))\n",
    "names(out) = names(scores)\n",
    "   \n",
    "# save lipid paths\n",
    "res = out$Ex\n",
    "res = res[order(res$pval,decreasing=FALSE),]\n",
    "res = res[res$pval<0.05,]\n",
    "\n",
    "x = temp2[res$pathway]\n",
    "\n",
    "out = c()\n",
    "for(i in names(x)){\n",
    "    t = as.data.frame(x[[i]])\n",
    "    names(t) = 'value'\n",
    "    t$grp = i\n",
    "    out = rbind(out, t)\n",
    "}\n",
    "\n",
    "#write.csv(out, '../processed_data/common_var/lipid_synthesis_gsets.csv')"
   ]
  },
  {
   "cell_type": "code",
   "execution_count": 6,
   "id": "b1178698-9bf5-4bb7-a065-aec665c51d37",
   "metadata": {},
   "outputs": [
    {
     "data": {
      "text/html": [
       "<table class=\"dataframe\">\n",
       "<caption>A data.table: 4 × 9</caption>\n",
       "<thead>\n",
       "\t<tr><th scope=col>x</th><th scope=col>pathway</th><th scope=col>pval</th><th scope=col>padj</th><th scope=col>log2err</th><th scope=col>ES</th><th scope=col>NES</th><th scope=col>size</th><th scope=col>leadingEdge</th></tr>\n",
       "\t<tr><th scope=col>&lt;chr&gt;</th><th scope=col>&lt;chr&gt;</th><th scope=col>&lt;dbl&gt;</th><th scope=col>&lt;dbl&gt;</th><th scope=col>&lt;dbl&gt;</th><th scope=col>&lt;dbl&gt;</th><th scope=col>&lt;dbl&gt;</th><th scope=col>&lt;int&gt;</th><th scope=col>&lt;list&gt;</th></tr>\n",
       "</thead>\n",
       "<tbody>\n",
       "\t<tr><td>Ex</td><td>Fatty Acyl-CoA Biosynthesis Homo sapiens R-HSA-75105      </td><td>0.01920904</td><td>0.05146695</td><td>0.15627915</td><td>-0.5188635</td><td>-1.587481</td><td>26</td><td>ACLY, EL....</td></tr>\n",
       "\t<tr><td>Ex</td><td>negative regulation of lipid storage (GO:0010888)         </td><td>0.02198835</td><td>0.05146695</td><td>0.13288187</td><td> 0.7074500</td><td> 1.625526</td><td>10</td><td>ITGAV, N....</td></tr>\n",
       "\t<tr><td>Ex</td><td>SREBP control of lipid synthesis Homo sapiens h s1pPathway</td><td>0.02205726</td><td>0.05146695</td><td>0.14107290</td><td>-0.7562360</td><td>-1.615867</td><td> 7</td><td>LDLR, SC....</td></tr>\n",
       "\t<tr><td>Ex</td><td>Triglyceride Biosynthesis Homo sapiens R-HSA-75109        </td><td>0.04827425</td><td>0.08447994</td><td>0.09935352</td><td>-0.4249140</td><td>-1.424228</td><td>39</td><td>AGPAT1, ....</td></tr>\n",
       "</tbody>\n",
       "</table>\n"
      ],
      "text/latex": [
       "A data.table: 4 × 9\n",
       "\\begin{tabular}{lllllllll}\n",
       " x & pathway & pval & padj & log2err & ES & NES & size & leadingEdge\\\\\n",
       " <chr> & <chr> & <dbl> & <dbl> & <dbl> & <dbl> & <dbl> & <int> & <list>\\\\\n",
       "\\hline\n",
       "\t Ex & Fatty Acyl-CoA Biosynthesis Homo sapiens R-HSA-75105       & 0.01920904 & 0.05146695 & 0.15627915 & -0.5188635 & -1.587481 & 26 & ACLY, EL....\\\\\n",
       "\t Ex & negative regulation of lipid storage (GO:0010888)          & 0.02198835 & 0.05146695 & 0.13288187 &  0.7074500 &  1.625526 & 10 & ITGAV, N....\\\\\n",
       "\t Ex & SREBP control of lipid synthesis Homo sapiens h s1pPathway & 0.02205726 & 0.05146695 & 0.14107290 & -0.7562360 & -1.615867 &  7 & LDLR, SC....\\\\\n",
       "\t Ex & Triglyceride Biosynthesis Homo sapiens R-HSA-75109         & 0.04827425 & 0.08447994 & 0.09935352 & -0.4249140 & -1.424228 & 39 & AGPAT1, ....\\\\\n",
       "\\end{tabular}\n"
      ],
      "text/markdown": [
       "\n",
       "A data.table: 4 × 9\n",
       "\n",
       "| x &lt;chr&gt; | pathway &lt;chr&gt; | pval &lt;dbl&gt; | padj &lt;dbl&gt; | log2err &lt;dbl&gt; | ES &lt;dbl&gt; | NES &lt;dbl&gt; | size &lt;int&gt; | leadingEdge &lt;list&gt; |\n",
       "|---|---|---|---|---|---|---|---|---|\n",
       "| Ex | Fatty Acyl-CoA Biosynthesis Homo sapiens R-HSA-75105       | 0.01920904 | 0.05146695 | 0.15627915 | -0.5188635 | -1.587481 | 26 | ACLY, EL.... |\n",
       "| Ex | negative regulation of lipid storage (GO:0010888)          | 0.02198835 | 0.05146695 | 0.13288187 |  0.7074500 |  1.625526 | 10 | ITGAV, N.... |\n",
       "| Ex | SREBP control of lipid synthesis Homo sapiens h s1pPathway | 0.02205726 | 0.05146695 | 0.14107290 | -0.7562360 | -1.615867 |  7 | LDLR, SC.... |\n",
       "| Ex | Triglyceride Biosynthesis Homo sapiens R-HSA-75109         | 0.04827425 | 0.08447994 | 0.09935352 | -0.4249140 | -1.424228 | 39 | AGPAT1, .... |\n",
       "\n"
      ],
      "text/plain": [
       "  x  pathway                                                    pval      \n",
       "1 Ex Fatty Acyl-CoA Biosynthesis Homo sapiens R-HSA-75105       0.01920904\n",
       "2 Ex negative regulation of lipid storage (GO:0010888)          0.02198835\n",
       "3 Ex SREBP control of lipid synthesis Homo sapiens h s1pPathway 0.02205726\n",
       "4 Ex Triglyceride Biosynthesis Homo sapiens R-HSA-75109         0.04827425\n",
       "  padj       log2err    ES         NES       size leadingEdge \n",
       "1 0.05146695 0.15627915 -0.5188635 -1.587481 26   ACLY, EL....\n",
       "2 0.05146695 0.13288187  0.7074500  1.625526 10   ITGAV, N....\n",
       "3 0.05146695 0.14107290 -0.7562360 -1.615867  7   LDLR, SC....\n",
       "4 0.08447994 0.09935352 -0.4249140 -1.424228 39   AGPAT1, ...."
      ]
     },
     "metadata": {},
     "output_type": "display_data"
    }
   ],
   "source": [
    "head(res)"
   ]
  },
  {
   "cell_type": "markdown",
   "id": "c40081a0-ad13-40b5-84af-8a057ae6f3cc",
   "metadata": {},
   "source": [
    "###### Lipid oxidation"
   ]
  },
  {
   "cell_type": "code",
   "execution_count": 23,
   "id": "9367c983-0878-49c4-a21b-cbc57db1a971",
   "metadata": {},
   "outputs": [
    {
     "name": "stdout",
     "output_type": "stream",
     "text": [
      "  |======================================================================| 100%\n",
      "\n"
     ]
    }
   ],
   "source": [
    "# enrichment for lipid genesets\n",
    "degs = readRDS('../processed_data/single_cell/pseudobulk_degs_0825.rds')$degs_all\n",
    "scores = get_deg_scores(degs)\n",
    "\n",
    "pathways = readRDS('../../ABCA7lof/processed_data/pathway_databases/pathways.rds')$all_paths\n",
    "\n",
    "o = get_gset_names_by_category(c('oxidation', 'TCA', 'lipolysis'), names(pathways))\n",
    "temp2 = pathways[o]\n",
    "out = lapply(names(scores), function(x) cbind(x, fgsea(pathways = temp2, stats = scores[[x]]$scores, minSize = 5, maxSize = 1000, nproc=1, nPermSimple=10000)))\n",
    "names(out) = names(scores)\n",
    "   \n",
    "# save lipid paths\n",
    "res = out$Ex\n",
    "res = res[order(res$pval,decreasing=FALSE),]\n",
    "res = res[res$pval<0.05,]\n",
    "\n",
    "x = temp2[res$pathway]\n",
    "\n",
    "out = c()\n",
    "for(i in names(x)){\n",
    "    t = as.data.frame(x[[i]])\n",
    "    names(t) = 'value'\n",
    "    t$grp = i\n",
    "    out = rbind(out, t)\n",
    "}\n",
    "\n",
    "write.csv(out, '../processed_data/common_var/lipid_ox_gset.csv')"
   ]
  },
  {
   "cell_type": "code",
   "execution_count": 25,
   "id": "f3106e49-b6f6-4a84-82cd-9bac2e359f2d",
   "metadata": {},
   "outputs": [
    {
     "data": {
      "text/html": [
       "<table class=\"dataframe\">\n",
       "<caption>A data.table: 3 × 9</caption>\n",
       "<thead>\n",
       "\t<tr><th scope=col>x</th><th scope=col>pathway</th><th scope=col>pval</th><th scope=col>padj</th><th scope=col>log2err</th><th scope=col>ES</th><th scope=col>NES</th><th scope=col>size</th><th scope=col>leadingEdge</th></tr>\n",
       "\t<tr><th scope=col>&lt;chr&gt;</th><th scope=col>&lt;chr&gt;</th><th scope=col>&lt;dbl&gt;</th><th scope=col>&lt;dbl&gt;</th><th scope=col>&lt;dbl&gt;</th><th scope=col>&lt;dbl&gt;</th><th scope=col>&lt;dbl&gt;</th><th scope=col>&lt;int&gt;</th><th scope=col>&lt;list&gt;</th></tr>\n",
       "</thead>\n",
       "<tbody>\n",
       "\t<tr><td>Ex</td><td>The citric acid (TCA) cycle and respiratory electron transport Homo sapiens R-HSA-1428517</td><td>7.676197e-05</td><td>0.002149335</td><td>0.5384341</td><td>0.4487719</td><td>1.771416</td><td>125</td><td>PDHX, ND....</td></tr>\n",
       "\t<tr><td>Ex</td><td>fatty acid beta-oxidation using acyl-CoA oxidase (GO:0033540)                            </td><td>5.095301e-03</td><td>0.071334214</td><td>0.2798657</td><td>0.7540411</td><td>1.746784</td><td> 10</td><td>SCP2, AM....</td></tr>\n",
       "\t<tr><td>Ex</td><td>Beta-oxidation of pristanoyl-CoA Homo sapiens R-HSA-389887                               </td><td>3.762636e-02</td><td>0.350315194</td><td>0.1008600</td><td>0.7002942</td><td>1.527255</td><td>  8</td><td>SCP2, AM....</td></tr>\n",
       "</tbody>\n",
       "</table>\n"
      ],
      "text/latex": [
       "A data.table: 3 × 9\n",
       "\\begin{tabular}{lllllllll}\n",
       " x & pathway & pval & padj & log2err & ES & NES & size & leadingEdge\\\\\n",
       " <chr> & <chr> & <dbl> & <dbl> & <dbl> & <dbl> & <dbl> & <int> & <list>\\\\\n",
       "\\hline\n",
       "\t Ex & The citric acid (TCA) cycle and respiratory electron transport Homo sapiens R-HSA-1428517 & 7.676197e-05 & 0.002149335 & 0.5384341 & 0.4487719 & 1.771416 & 125 & PDHX, ND....\\\\\n",
       "\t Ex & fatty acid beta-oxidation using acyl-CoA oxidase (GO:0033540)                             & 5.095301e-03 & 0.071334214 & 0.2798657 & 0.7540411 & 1.746784 &  10 & SCP2, AM....\\\\\n",
       "\t Ex & Beta-oxidation of pristanoyl-CoA Homo sapiens R-HSA-389887                                & 3.762636e-02 & 0.350315194 & 0.1008600 & 0.7002942 & 1.527255 &   8 & SCP2, AM....\\\\\n",
       "\\end{tabular}\n"
      ],
      "text/markdown": [
       "\n",
       "A data.table: 3 × 9\n",
       "\n",
       "| x &lt;chr&gt; | pathway &lt;chr&gt; | pval &lt;dbl&gt; | padj &lt;dbl&gt; | log2err &lt;dbl&gt; | ES &lt;dbl&gt; | NES &lt;dbl&gt; | size &lt;int&gt; | leadingEdge &lt;list&gt; |\n",
       "|---|---|---|---|---|---|---|---|---|\n",
       "| Ex | The citric acid (TCA) cycle and respiratory electron transport Homo sapiens R-HSA-1428517 | 7.676197e-05 | 0.002149335 | 0.5384341 | 0.4487719 | 1.771416 | 125 | PDHX, ND.... |\n",
       "| Ex | fatty acid beta-oxidation using acyl-CoA oxidase (GO:0033540)                             | 5.095301e-03 | 0.071334214 | 0.2798657 | 0.7540411 | 1.746784 |  10 | SCP2, AM.... |\n",
       "| Ex | Beta-oxidation of pristanoyl-CoA Homo sapiens R-HSA-389887                                | 3.762636e-02 | 0.350315194 | 0.1008600 | 0.7002942 | 1.527255 |   8 | SCP2, AM.... |\n",
       "\n"
      ],
      "text/plain": [
       "  x \n",
       "1 Ex\n",
       "2 Ex\n",
       "3 Ex\n",
       "  pathway                                                                                  \n",
       "1 The citric acid (TCA) cycle and respiratory electron transport Homo sapiens R-HSA-1428517\n",
       "2 fatty acid beta-oxidation using acyl-CoA oxidase (GO:0033540)                            \n",
       "3 Beta-oxidation of pristanoyl-CoA Homo sapiens R-HSA-389887                               \n",
       "  pval         padj        log2err   ES        NES      size leadingEdge \n",
       "1 7.676197e-05 0.002149335 0.5384341 0.4487719 1.771416 125  PDHX, ND....\n",
       "2 5.095301e-03 0.071334214 0.2798657 0.7540411 1.746784  10  SCP2, AM....\n",
       "3 3.762636e-02 0.350315194 0.1008600 0.7002942 1.527255   8  SCP2, AM...."
      ]
     },
     "metadata": {},
     "output_type": "display_data"
    }
   ],
   "source": [
    "head(res)"
   ]
  },
  {
   "cell_type": "markdown",
   "id": "97bbfecc-face-4494-9697-54ac79dc3a77",
   "metadata": {},
   "source": [
    "###### ROS"
   ]
  },
  {
   "cell_type": "code",
   "execution_count": 26,
   "id": "e4ffd062-36a6-4647-86bd-93e5b3805363",
   "metadata": {},
   "outputs": [
    {
     "name": "stdout",
     "output_type": "stream",
     "text": [
      "  |======================================================================| 100%\n",
      "\n"
     ]
    }
   ],
   "source": [
    "# enrichment for lipid genesets\n",
    "degs = readRDS('../processed_data/single_cell/pseudobulk_degs_0825.rds')$degs_all\n",
    "scores = get_deg_scores(degs)\n",
    "\n",
    "pathways = readRDS('../../ABCA7lof/processed_data/pathway_databases/pathways.rds')$all_paths\n",
    "\n",
    "o = get_gset_names_by_category(c('oxidative', 'reactive'), names(pathways))\n",
    "temp2 = pathways[o]\n",
    "out = lapply(names(scores), function(x) cbind(x, fgsea(pathways = temp2, stats = scores[[x]]$scores, minSize = 5, maxSize = 1000, nproc=1, nPermSimple=10000)))\n",
    "names(out) = names(scores)\n",
    "   \n",
    "# save lipid paths\n",
    "res = out$Ex\n",
    "res = res[order(res$pval,decreasing=FALSE),]\n",
    "res = res[res$pval<0.05,]\n",
    "\n",
    "\n",
    "x = temp2[res$pathway]\n",
    "\n",
    "out = c()\n",
    "for(i in names(x)){\n",
    "    t = as.data.frame(x[[i]])\n",
    "    names(t) = 'value'\n",
    "    t$grp = i\n",
    "    out = rbind(out, t)\n",
    "}\n",
    "\n",
    "write.csv(out, '../processed_data/common_var/ros_gset.csv')"
   ]
  },
  {
   "cell_type": "code",
   "execution_count": 27,
   "id": "94cc5b47-50fa-4452-9a22-086a53ff54a7",
   "metadata": {},
   "outputs": [
    {
     "data": {
      "text/html": [
       "<table class=\"dataframe\">\n",
       "<caption>A data.table: 5 × 9</caption>\n",
       "<thead>\n",
       "\t<tr><th scope=col>x</th><th scope=col>pathway</th><th scope=col>pval</th><th scope=col>padj</th><th scope=col>log2err</th><th scope=col>ES</th><th scope=col>NES</th><th scope=col>size</th><th scope=col>leadingEdge</th></tr>\n",
       "\t<tr><th scope=col>&lt;chr&gt;</th><th scope=col>&lt;chr&gt;</th><th scope=col>&lt;dbl&gt;</th><th scope=col>&lt;dbl&gt;</th><th scope=col>&lt;dbl&gt;</th><th scope=col>&lt;dbl&gt;</th><th scope=col>&lt;dbl&gt;</th><th scope=col>&lt;int&gt;</th><th scope=col>&lt;list&gt;</th></tr>\n",
       "</thead>\n",
       "<tbody>\n",
       "\t<tr><td>Ex</td><td>negative regulation of response to reactive oxygen species (GO:1901032)                         </td><td>0.005287009</td><td>0.1063444</td><td>0.2747175</td><td>0.8493056</td><td>1.699412</td><td> 6</td><td>PDE8A, L....</td></tr>\n",
       "\t<tr><td>Ex</td><td>response to reactive oxygen species (GO:0000302)                                                </td><td>0.018268048</td><td>0.1063444</td><td>0.1410729</td><td>0.4810188</td><td>1.543864</td><td>38</td><td>PDCD10, ....</td></tr>\n",
       "\t<tr><td>Ex</td><td>positive regulation of reactive oxygen species metabolic process (GO:2000379)                   </td><td>0.018936635</td><td>0.1063444</td><td>0.1410729</td><td>0.6744051</td><td>1.637089</td><td>12</td><td>GSTP1, M....</td></tr>\n",
       "\t<tr><td>Ex</td><td>negative regulation of oxidative stress-induced neuron death (GO:1903204)                       </td><td>0.022765441</td><td>0.1063444</td><td>0.1300861</td><td>0.7353675</td><td>1.592112</td><td> 8</td><td>NONO, PA....</td></tr>\n",
       "\t<tr><td>Ex</td><td>regulation of oxidative stress-induced neuron intrinsic apoptotic signaling pathway (GO:1903376)</td><td>0.024169184</td><td>0.1063444</td><td>0.1269498</td><td>0.7805687</td><td>1.561873</td><td> 6</td><td>NONO, PA....</td></tr>\n",
       "</tbody>\n",
       "</table>\n"
      ],
      "text/latex": [
       "A data.table: 5 × 9\n",
       "\\begin{tabular}{lllllllll}\n",
       " x & pathway & pval & padj & log2err & ES & NES & size & leadingEdge\\\\\n",
       " <chr> & <chr> & <dbl> & <dbl> & <dbl> & <dbl> & <dbl> & <int> & <list>\\\\\n",
       "\\hline\n",
       "\t Ex & negative regulation of response to reactive oxygen species (GO:1901032)                          & 0.005287009 & 0.1063444 & 0.2747175 & 0.8493056 & 1.699412 &  6 & PDE8A, L....\\\\\n",
       "\t Ex & response to reactive oxygen species (GO:0000302)                                                 & 0.018268048 & 0.1063444 & 0.1410729 & 0.4810188 & 1.543864 & 38 & PDCD10, ....\\\\\n",
       "\t Ex & positive regulation of reactive oxygen species metabolic process (GO:2000379)                    & 0.018936635 & 0.1063444 & 0.1410729 & 0.6744051 & 1.637089 & 12 & GSTP1, M....\\\\\n",
       "\t Ex & negative regulation of oxidative stress-induced neuron death (GO:1903204)                        & 0.022765441 & 0.1063444 & 0.1300861 & 0.7353675 & 1.592112 &  8 & NONO, PA....\\\\\n",
       "\t Ex & regulation of oxidative stress-induced neuron intrinsic apoptotic signaling pathway (GO:1903376) & 0.024169184 & 0.1063444 & 0.1269498 & 0.7805687 & 1.561873 &  6 & NONO, PA....\\\\\n",
       "\\end{tabular}\n"
      ],
      "text/markdown": [
       "\n",
       "A data.table: 5 × 9\n",
       "\n",
       "| x &lt;chr&gt; | pathway &lt;chr&gt; | pval &lt;dbl&gt; | padj &lt;dbl&gt; | log2err &lt;dbl&gt; | ES &lt;dbl&gt; | NES &lt;dbl&gt; | size &lt;int&gt; | leadingEdge &lt;list&gt; |\n",
       "|---|---|---|---|---|---|---|---|---|\n",
       "| Ex | negative regulation of response to reactive oxygen species (GO:1901032)                          | 0.005287009 | 0.1063444 | 0.2747175 | 0.8493056 | 1.699412 |  6 | PDE8A, L.... |\n",
       "| Ex | response to reactive oxygen species (GO:0000302)                                                 | 0.018268048 | 0.1063444 | 0.1410729 | 0.4810188 | 1.543864 | 38 | PDCD10, .... |\n",
       "| Ex | positive regulation of reactive oxygen species metabolic process (GO:2000379)                    | 0.018936635 | 0.1063444 | 0.1410729 | 0.6744051 | 1.637089 | 12 | GSTP1, M.... |\n",
       "| Ex | negative regulation of oxidative stress-induced neuron death (GO:1903204)                        | 0.022765441 | 0.1063444 | 0.1300861 | 0.7353675 | 1.592112 |  8 | NONO, PA.... |\n",
       "| Ex | regulation of oxidative stress-induced neuron intrinsic apoptotic signaling pathway (GO:1903376) | 0.024169184 | 0.1063444 | 0.1269498 | 0.7805687 | 1.561873 |  6 | NONO, PA.... |\n",
       "\n"
      ],
      "text/plain": [
       "  x \n",
       "1 Ex\n",
       "2 Ex\n",
       "3 Ex\n",
       "4 Ex\n",
       "5 Ex\n",
       "  pathway                                                                                         \n",
       "1 negative regulation of response to reactive oxygen species (GO:1901032)                         \n",
       "2 response to reactive oxygen species (GO:0000302)                                                \n",
       "3 positive regulation of reactive oxygen species metabolic process (GO:2000379)                   \n",
       "4 negative regulation of oxidative stress-induced neuron death (GO:1903204)                       \n",
       "5 regulation of oxidative stress-induced neuron intrinsic apoptotic signaling pathway (GO:1903376)\n",
       "  pval        padj      log2err   ES        NES      size leadingEdge \n",
       "1 0.005287009 0.1063444 0.2747175 0.8493056 1.699412  6   PDE8A, L....\n",
       "2 0.018268048 0.1063444 0.1410729 0.4810188 1.543864 38   PDCD10, ....\n",
       "3 0.018936635 0.1063444 0.1410729 0.6744051 1.637089 12   GSTP1, M....\n",
       "4 0.022765441 0.1063444 0.1300861 0.7353675 1.592112  8   NONO, PA....\n",
       "5 0.024169184 0.1063444 0.1269498 0.7805687 1.561873  6   NONO, PA...."
      ]
     },
     "metadata": {},
     "output_type": "display_data"
    }
   ],
   "source": [
    "head(res)"
   ]
  },
  {
   "cell_type": "markdown",
   "id": "2dfc586d-9a67-4b05-b06c-9dfb59258ba8",
   "metadata": {},
   "source": [
    "#### Save some additional data"
   ]
  },
  {
   "cell_type": "code",
   "execution_count": 15,
   "id": "edc3345d-a941-47f4-abf3-5c27a7f98f52",
   "metadata": {},
   "outputs": [],
   "source": [
    "# save deg supp table\n",
    "degs = readRDS('./processed_data/single_cell/pseudobulk_degs_0825.rds')$degs_all\n",
    "temp = lapply(names(degs), function(x) cbind(rownames(degs[[x]]$res), x, degs[[x]]$res))\n",
    "temp = do.call('rbind', temp)\n",
    "colnames(temp) = c('gene', 'cell_type', 'logFC', 'AveExpr', 't', 'P.Value', 'adj.P.Val', 'B')\n",
    "rownames(temp) = NULL\n",
    "write.csv(temp, './supplementary_tables/data_s9.csv')"
   ]
  },
  {
   "cell_type": "code",
   "execution_count": 1,
   "id": "8988a876-82e4-4abd-95e4-459ce67b503a",
   "metadata": {},
   "outputs": [],
   "source": [
    "out = readRDS('./processed_data/for_plotting/fgsea_out_0825.rds')\n",
    "res = do.call('rbind', out)\n",
    "res$score = sign(res$NES) * -log10(res$pval)\n",
    "res = res[order(res$pval,decreasing=FALSE),]\n",
    "res = res[res$pval<0.05,]"
   ]
  },
  {
   "cell_type": "code",
   "execution_count": 4,
   "id": "b64e650d-5c58-43ff-8d2a-20af8b938412",
   "metadata": {},
   "outputs": [],
   "source": [
    "temp = read.csv('./processed_data/for_plotting/leading_edge_0825Ex.csv')"
   ]
  }
 ],
 "metadata": {
  "kernelspec": {
   "display_name": "R [conda env:.conda-r_env]",
   "language": "R",
   "name": "conda-env-.conda-r_env-r"
  },
  "language_info": {
   "codemirror_mode": "r",
   "file_extension": ".r",
   "mimetype": "text/x-r-source",
   "name": "R",
   "pygments_lexer": "r",
   "version": "4.2.3"
  }
 },
 "nbformat": 4,
 "nbformat_minor": 5
}

{
 "cells": [
  {
   "cell_type": "code",
   "execution_count": 1,
   "id": "7c622181-afbd-4ee4-8fb3-73c3054a202e",
   "metadata": {
    "collapsed": true,
    "jupyter": {
     "outputs_hidden": true
    },
    "tags": [],
    "vscode": {
     "languageId": "r"
    }
   },
   "outputs": [
    {
     "name": "stderr",
     "output_type": "stream",
     "text": [
      "Loading required package: limma\n",
      "\n",
      "Loading required package: mgcv\n",
      "\n",
      "Loading required package: nlme\n",
      "\n",
      "This is mgcv 1.8-40. For overview type 'help(\"mgcv-package\")'.\n",
      "\n",
      "Loading required package: genefilter\n",
      "\n",
      "Loading required package: BiocParallel\n",
      "\n"
     ]
    }
   ],
   "source": [
    "# load packages\n",
    "library(edgeR)\n",
    "library(sva)\n",
    "library(fgsea)\n",
    "library(tidyr)\n",
    "source('../ABCA7lof2//degs.r')\n",
    "set.seed(5)"
   ]
  },
  {
   "cell_type": "code",
   "execution_count": 106,
   "id": "6fb0b836-3853-4822-910b-aa5c9ba62541",
   "metadata": {
    "vscode": {
     "languageId": "r"
    }
   },
   "outputs": [],
   "source": [
    "# functions\n",
    "compute_degs = function (counts.df, mod1, mod0,var, n.sv = NULL)\n",
    "{\n",
    "    dge <- DGEList(counts = counts.df)\n",
    "    dge <- calcNormFactors(dge)\n",
    "\n",
    "    v <- voom(dge, design = mod1)\n",
    "    if (is.null(n.sv)) {\n",
    "        n.sv <- num.sv(v$E, mod1, method = \"be\")\n",
    "    }\n",
    "    svobj <- sva(v$E, mod1, mod0, n.sv = n.sv)\n",
    "    mod1 <- cbind(mod1, svobj$sv)\n",
    "    v <- voom(dge, design = mod1)\n",
    "    fit <- lmFit(v, design = mod1)\n",
    "    fit <- eBayes(fit)\n",
    "    #res1 <- topTable(fit, coef = \"rs3752246\", n = Inf, sort.by = \"p\")\n",
    "    res1 <- topTable(fit, coef =var, n = Inf, sort.by = \"p\")\n",
    "    return(list(res1 = res1, C = svobj$sv, mod=mod1))\n",
    "}"
   ]
  },
  {
   "cell_type": "code",
   "execution_count": 75,
   "id": "c25af316-ca7d-4d78-9451-7ae282fd8022",
   "metadata": {
    "tags": [],
    "vscode": {
     "languageId": "r"
    }
   },
   "outputs": [
    {
     "name": "stderr",
     "output_type": "stream",
     "text": [
      "Warning message in FUN(newX[, i], ...):\n",
      "“NAs introduced by coercion”\n",
      "Warning message in FUN(newX[, i], ...):\n",
      "“NAs introduced by coercion”\n",
      "Warning message in FUN(newX[, i], ...):\n",
      "“NAs introduced by coercion”\n",
      "Warning message in FUN(newX[, i], ...):\n",
      "“NAs introduced by coercion”\n",
      "Warning message in FUN(newX[, i], ...):\n",
      "“NAs introduced by coercion”\n",
      "Warning message in FUN(newX[, i], ...):\n",
      "“NAs introduced by coercion”\n"
     ]
    }
   ],
   "source": [
    "# load Henne Holstege et al data\n",
    "df = read.csv('../processed_data/holstege_et_al//41588_2022_1208_MOESM4_ESM.csv', skip = 2, header = TRUE)\n",
    "\n",
    "# merge with ABCA7 variant info\n",
    "variant_info = read.csv('../raw_data/ROSMAP_WGS/HIGHandMED_coding_annotations_syn11724057_subset.csv', check.names=FALSE)\n",
    "variant_info$Variant = paste0(variant_info$CHROM,':',variant_info$POS,':',variant_info$REF_x, '>', variant_info$ALT_0)\n",
    "df = df[,c('Variant', 'REVEL', 'LOF')]\n",
    "var_info = merge(variant_info, df, by = 'Variant')\n",
    "var_info = var_info[var_info$GENE=='ABCA7',]\n",
    "\n",
    "genotypes = var_info[,unlist(lapply(names(var_info), function(x) sum(startsWith(x, c('ROS', 'MAP', 'SM')))))>0]\n",
    "genotypes[genotypes=='0/0']=0\n",
    "genotypes[genotypes=='0/1']=1\n",
    "genotypes[genotypes=='1/0']=1\n",
    "genotypes[genotypes=='1/1']=2\n",
    "df = apply(genotypes,2, function(x){as.numeric(x)})\n",
    "\n",
    "variant_categories = as.data.frame(colSums(df[var_info$LOF.y==1,]))\n",
    "\n",
    "temp = as.numeric(unlist(genotypes[var_info$ID=='rs3752246',]))                                  \n",
    "temp = -1*(temp-2)\n",
    "variant_categories$rs3752246 = temp"
   ]
  },
  {
   "cell_type": "code",
   "execution_count": 76,
   "id": "c9663ab0-0087-4530-87cd-88f63a8d7bf3",
   "metadata": {
    "vscode": {
     "languageId": "r"
    }
   },
   "outputs": [],
   "source": [
    "# load our large snRNAseq dataset\n",
    "data = readRDS('../processed_data/mathys_et_al/all_summed_cts.rds')\n",
    "\n",
    "# add variant data to metadata\n",
    "meta = data$meta\n",
    "meta = cbind(meta, variant_categories[meta$WGSid,])"
   ]
  },
  {
   "cell_type": "code",
   "execution_count": 77,
   "id": "73997d03-b7ab-449d-a6da-ecc1a72298bc",
   "metadata": {
    "vscode": {
     "languageId": "r"
    }
   },
   "outputs": [],
   "source": [
    "# remove individuals from our snRNAseq cohort\n",
    "all_data = readRDS('../processed_data/single_cell//stats_input_data_0825.rds')\n",
    "\n",
    "keep = !meta$projid%in%rownames(all_data$summary)\n",
    "meta = meta[keep,]\n",
    "ncells = data$ncells[keep]\n",
    "counts = data$counts[,keep]"
   ]
  },
  {
   "cell_type": "code",
   "execution_count": 78,
   "id": "29b44db4-f53b-41ae-b82d-343bd364506c",
   "metadata": {
    "vscode": {
     "languageId": "r"
    }
   },
   "outputs": [],
   "source": [
    "expressed = all_data$expressed10"
   ]
  },
  {
   "cell_type": "code",
   "execution_count": 79,
   "id": "92e8203e-3c37-4914-83b7-8ba279135e20",
   "metadata": {
    "vscode": {
     "languageId": "r"
    }
   },
   "outputs": [],
   "source": [
    "# add batch info\n",
    "batch_ids = read.csv('../../ADSubtypes/metadata/Fastq_paths_432_PFC_HM_updated_edited.csv')\n",
    "batch_ids = batch_ids[!duplicated(batch_ids$projid),]\n",
    "rownames(batch_ids) = batch_ids$projid\n",
    "meta$seq_batch = batch_ids[rownames(meta),'Batch']"
   ]
  },
  {
   "cell_type": "code",
   "execution_count": 81,
   "id": "fc94c9e9-a919-4cfe-9b64-9f3fa28e5ac3",
   "metadata": {
    "vscode": {
     "languageId": "r"
    }
   },
   "outputs": [],
   "source": [
    "# filter out individuals with too few cells per celltype\n",
    "keep = ncells>=10\n",
    "counts_indexed = counts[,keep]\n",
    "meta_keep = meta[keep,]\n",
    "meta_keep$niareagansc = as.numeric(meta_keep$niareagansc)\n",
    "\n",
    "# filter\n",
    "keep = (rowSums(is.na(meta_keep))==0) & !(is.na(meta_keep[,'colSums(df[var_info$LOF.y == 1, ])']) | (meta_keep[,'colSums(df[var_info$LOF.y == 1, ])']>0)) #& meta_keep$niareagansc%in%(unlist(list('3','4')))\n",
    "meta_keep2 = meta_keep[keep,]\n",
    "meta_keep2$apoe = ifelse(meta_keep2$apoe_genotype%in%c(34,44,24), 1, 0)\n",
    "counts_keep2 = counts_indexed[,keep]\n",
    "counts_keep2 = counts_keep2[rownames(counts_keep2)%in%expressed$Ex & rowSums(counts_keep2>0)>15,]"
   ]
  },
  {
   "cell_type": "code",
   "execution_count": 82,
   "id": "4f038e59-07d6-48eb-a84e-d95aa7cf8bb0",
   "metadata": {
    "vscode": {
     "languageId": "r"
    }
   },
   "outputs": [
    {
     "data": {
      "text/plain": [
       "\n",
       "  0   1 \n",
       "227 133 "
      ]
     },
     "metadata": {},
     "output_type": "display_data"
    }
   ],
   "source": [
    "meta_keep2$rs3752246_binary = ifelse(meta_keep2$rs3752246>0, 1, 0)\n",
    "\n",
    "table(meta_keep2$rs3752246_binary)"
   ]
  },
  {
   "cell_type": "code",
   "execution_count": 16,
   "id": "e7331729-fc26-4f87-9faa-40433904acbf",
   "metadata": {
    "vscode": {
     "languageId": "r"
    }
   },
   "outputs": [
    {
     "name": "stdout",
     "output_type": "stream",
     "text": [
      "Number of significant surrogate variables is:  21 \n",
      "Iteration (out of 5 ):1  2  3  4  5  "
     ]
    }
   ],
   "source": [
    "# compute DEGs rs3752246\n",
    "# remove any LOF individuals\n",
    "\n",
    "meta_keep2$rs3752246_binary = ifelse(meta_keep2$rs3752246>0, 1, 0)\n",
    "\n",
    "mod1 <- model.matrix(~rs3752246_binary + amyloid + nft + msex + age_death + apoe + pmi + seq_batch + niareagansc, data = meta_keep2)\n",
    "mod0 <- model.matrix(~ amyloid + nft + msex + age_death + apoe + pmi + seq_batch + niareagansc, data = meta_keep2)\n",
    "\n",
    "out = compute_degs(counts_keep2, mod1, mod0, 'rs3752246_binary')\n",
    "curr = out$res1\n",
    "scores = sign(curr$logFC) * -log10(curr$P.Value)\n",
    "names(scores) = rownames(curr)"
   ]
  },
  {
   "cell_type": "code",
   "execution_count": 623,
   "id": "9a0281b3-39e1-4381-a2b2-4859b775b333",
   "metadata": {
    "vscode": {
     "languageId": "r"
    }
   },
   "outputs": [],
   "source": [
    "# compute fgsea results rs3752246\n",
    "paths = read.csv('../supplementary_tables/data_s8.csv')\n",
    "paths = paths[paths$is_gene=='True',]\n",
    "P = list()\n",
    "for(i in unique(paths$cluster)){\n",
    "    P[[as.character(i)]] = paths[paths$cluster==i,'description']\n",
    "}      \n",
    "\n",
    "o = fgsea(pathways = P, stats = scores, minSize = 5, maxSize = 1000, nproc=1, nPermSimple=10000)\n",
    "o = o[order(o$pval,decreasing=T),]\n",
    "o$score = sign(o$NES) * -log10(o$pval)\n",
    "o$pathway = factor(o$pathway, levels = o$pathway)"
   ]
  },
  {
   "cell_type": "code",
   "execution_count": 634,
   "id": "615001ec-7875-41ec-afec-97b59283298f",
   "metadata": {
    "vscode": {
     "languageId": "r"
    }
   },
   "outputs": [],
   "source": [
    "write.csv(meta_keep2[, c('projid', 'WGSid', 'rs3752246_binary', 'amyloid', 'nft', 'msex', 'age_death', 'apoe', 'pmi', 'seq_batch', 'niareagansc')], '../processed_data/mathys_et_al/data_for_carles.csv', row.names=FALSE)"
   ]
  },
  {
   "cell_type": "code",
   "execution_count": 636,
   "id": "ba16b72d-c7eb-4baf-b04d-16d9f76596d3",
   "metadata": {
    "vscode": {
     "languageId": "r"
    }
   },
   "outputs": [],
   "source": [
    "x = o[order(o$pval,decreasing=FALSE),]\n",
    "x$leadingEdge = NULL\n",
    "\n",
    "write.csv(x, '../processed_data/common_var/rs3755246_cluster_effects.csv')\n",
    "write.csv(as.data.frame(scores), '../processed_data/common_var/rs3752246_binary_scores.csv')"
   ]
  }
 ],
 "metadata": {
  "kernelspec": {
   "display_name": "R [conda env:.conda-r_env]",
   "language": "R",
   "name": "conda-env-.conda-r_env-r"
  },
  "language_info": {
   "codemirror_mode": "r",
   "file_extension": ".r",
   "mimetype": "text/x-r-source",
   "name": "R",
   "pygments_lexer": "r",
   "version": "4.2.3"
  }
 },
 "nbformat": 4,
 "nbformat_minor": 5
}

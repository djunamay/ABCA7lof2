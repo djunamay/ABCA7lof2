{
 "cells": [
  {
   "cell_type": "code",
   "execution_count": 1,
   "id": "344d9391-7fcf-42bf-9163-f4c7401bd654",
   "metadata": {
    "tags": []
   },
   "outputs": [],
   "source": [
    "import os\n",
    "from os import path\n",
    "import pandas as pd\n",
    "import numpy as np\n",
    "from tqdm import tqdm\n",
    "from scipy import io\n",
    "import scipy as scipy\n",
    "import collections\n",
    "import scipy.sparse as sp_sparse\n",
    "import tables\n",
    "import time\n",
    "import numba as nb\n",
    "from numba import config\n",
    "from numba_progress import ProgressBar\n",
    "import ipdb\n",
    "import matplotlib as plt\n",
    "from tqdm.notebook import tqdm\n",
    "from numba.typed import Dict\n",
    "from scipy import sparse\n",
    "\n",
    "\n",
    "from ABCA7lof2.setup import get_data, save_all, save_annotations, subset_mat\n",
    "from ABCA7lof2.qc import filter_cells, filter_cells_by_major_annotation, filter_on_gaussian_logliklihood, get_total_counts, log_normalize_counts, get_fraction_mito, filter_cells_by_mito\n",
    "\n",
    "from ABCA7lof2.annotation import get_major_annotations\n",
    "from ABCA7lof2.singlecell import bulk_data, expressed_fraction\n",
    "\n",
    "config.THREADING_LAYER = 'workqueue'"
   ]
  },
  {
   "cell_type": "code",
   "execution_count": 2,
   "id": "49d9da12-7fcc-4928-a730-679a7464097b",
   "metadata": {},
   "outputs": [
    {
     "name": "stdout",
     "output_type": "stream",
     "text": [
      "Feature names were aggregated correctly across samples.\n",
      "Feature IDs were aggregated correctly across samples.\n"
     ]
    }
   ],
   "source": [
    "# define paths\n",
    "meta_path = './raw_data/cellranger_counts_out/aggr_out/metadata.npy'\n",
    "features_name_path = './raw_data/cellranger_counts_out/aggr_out/features_name.npy'\n",
    "matrix_path = './raw_data/cellranger_counts_out/aggr_out/counts.npy'\n",
    "features_id_path = './raw_data/cellranger_counts_out/aggr_out/features_id.npy'\n",
    "barcodes_path = './raw_data/cellranger_counts_out/aggr_out/barcodes.npy'\n",
    "\n",
    "# load data\n",
    "counts = np.lib.format.open_memmap(matrix_path, mode='r')\n",
    "features_name = np.lib.format.open_memmap(features_name_path, mode='r')\n",
    "features_id = np.lib.format.open_memmap(features_id_path, mode='r')\n",
    "barcodes = np.lib.format.open_memmap(barcodes_path, mode='r')\n",
    "meta = np.load(meta_path, allow_pickle=True)\n",
    "\n",
    "# get column names\n",
    "meta_col_names = np.array(pd.read_csv('./raw_data/metadata/single_cell_individual_metadata.csv', index_col=0).columns)\n",
    "\n",
    "# run checks\n",
    "temp = features_name.reshape((len(np.unique(meta[:,1])), counts.shape[1]))\n",
    "if np.unique([np.array_equal(temp[0], x) for x in temp])[0]:\n",
    "    print('Feature names were aggregated correctly across samples.')\n",
    "    \n",
    "temp = features_id.reshape((len(np.unique(meta[:,1])), counts.shape[1]))\n",
    "if np.unique([np.array_equal(temp[0], x) for x in temp])[0]:\n",
    "    print('Feature IDs were aggregated correctly across samples.')\n",
    "    \n",
    "# concatenate features and metadata\n",
    "features = np.concatenate((features_name[:counts.shape[1]].reshape(-1,1), features_id[:counts.shape[1]].reshape(-1,1)), axis=1)\n",
    "meta = np.concatenate((barcodes.reshape(-1,1), meta), axis=1)\n"
   ]
  },
  {
   "cell_type": "code",
   "execution_count": 3,
   "id": "e7e402a8-0353-4b8c-8d23-64254bb31bc2",
   "metadata": {
    "tags": []
   },
   "outputs": [
    {
     "name": "stdout",
     "output_type": "stream",
     "text": [
      "getting mito fractions\n",
      "searching for best params\n",
      "gaussian gridsearch\n",
      "Number of components               5\n",
      "Type of covariance         spherical\n",
      "BIC score               64231.347606\n",
      "Name: 4, dtype: object\n",
      "All cells\n",
      "150456\n",
      "Mito keep\n",
      "0.8863787419577817\n"
     ]
    },
    {
     "data": {
      "application/vnd.jupyter.widget-view+json": {
       "model_id": "0b350730a22b469685233e41b4cbd042",
       "version_major": 2,
       "version_minor": 0
      },
      "text/plain": [
       "  0%|          | 0/150456 [00:00<?, ?it/s]"
      ]
     },
     "metadata": {},
     "output_type": "display_data"
    },
    {
     "name": "stdout",
     "output_type": "stream",
     "text": [
      "All keep:\n",
      "0.8683535385760621\n",
      "Mito fraction mean discard:\n",
      "0.19086041818417085\n",
      "Mito fraction mean keep:\n",
      "0.014229984155650754\n"
     ]
    },
    {
     "data": {
      "application/vnd.jupyter.widget-view+json": {
       "model_id": "00f976f98cf144c186b6a20d726c5237",
       "version_major": 2,
       "version_minor": 0
      },
      "text/plain": [
       "  0%|          | 0/130649 [00:00<?, ?it/s]"
      ]
     },
     "metadata": {},
     "output_type": "display_data"
    }
   ],
   "source": [
    "# run initial cell filtering\n",
    "mito_index, total_counts, mito_fractions, filtered_meta, filtered_counts  = filter_cells(features[:,0], counts, meta, 1, 500, 10000, plt.backends.backend_pdf.PdfPages('./pdf_figures/single_cell_qc.pdf'), 'MT-', './processed_data/single_cell')"
   ]
  },
  {
   "cell_type": "code",
   "execution_count": 237,
   "id": "85d20fa5-a2b0-4498-a871-ec4132fceeab",
   "metadata": {
    "tags": []
   },
   "outputs": [
    {
     "name": "stdout",
     "output_type": "stream",
     "text": [
      "using prior markers for reduction & annotation...\n",
      "getting marker indices...\n",
      "getting normalized marker matrix...\n"
     ]
    },
    {
     "data": {
      "application/vnd.jupyter.widget-view+json": {
       "model_id": "03181c1518b54be5bd67890383be2db5",
       "version_major": 2,
       "version_minor": 0
      },
      "text/plain": [
       "  0%|          | 0/130649 [00:00<?, ?it/s]"
      ]
     },
     "metadata": {},
     "output_type": "display_data"
    },
    {
     "name": "stdout",
     "output_type": "stream",
     "text": [
      "running pca...\n",
      "estimating gaussian mixture model...\n",
      "gaussian gridsearch\n",
      "Fitting 5 folds for each of 1 candidates, totalling 5 fits\n",
      "[CV 1/5; 1/1] START covariance_type=full, n_components=11.......................\n",
      "[CV 1/5; 1/1] END covariance_type=full, n_components=11;, score=-2662296.196 total time=  25.3s\n",
      "[CV 2/5; 1/1] START covariance_type=full, n_components=11.......................\n",
      "[CV 2/5; 1/1] END covariance_type=full, n_components=11;, score=-2657745.495 total time=  40.0s\n",
      "[CV 3/5; 1/1] START covariance_type=full, n_components=11.......................\n",
      "[CV 3/5; 1/1] END covariance_type=full, n_components=11;, score=-2648449.413 total time=  39.4s\n",
      "[CV 4/5; 1/1] START covariance_type=full, n_components=11.......................\n",
      "[CV 4/5; 1/1] END covariance_type=full, n_components=11;, score=-2635684.851 total time=  29.5s\n",
      "[CV 5/5; 1/1] START covariance_type=full, n_components=11.......................\n",
      "[CV 5/5; 1/1] END covariance_type=full, n_components=11;, score=-2645237.840 total time=  56.3s\n",
      "Number of components                11\n",
      "Type of covariance                full\n",
      "BIC score               2649882.759128\n",
      "Name: 0, dtype: object\n",
      "computing celltype summary scores...\n",
      "annotating cell types...\n"
     ]
    }
   ],
   "source": [
    "# run PCA\n",
    "annotations, marker_out, projected_matrix, predict, scores, marker_genes, marker_indices = get_major_annotations('./processed_data/single_cell/brain_marker_genes.csv', features[:,0], filtered_counts, total_counts, 1, 50, 10, './processed_data/single_cell', None)"
   ]
  },
  {
   "cell_type": "code",
   "execution_count": 242,
   "id": "74172508-73ad-4ec7-87b1-0a50f9a51e2b",
   "metadata": {},
   "outputs": [
    {
     "data": {
      "text/plain": [
       "<matplotlib.collections.PathCollection at 0x7f56acf92f10>"
      ]
     },
     "execution_count": 242,
     "metadata": {},
     "output_type": "execute_result"
    },
    {
     "data": {
      "image/png": "[encoded data removed]",
      "text/plain": [
       "<Figure size 432x288 with 1 Axes>"
      ]
     },
     "metadata": {
      "needs_background": "light"
     },
     "output_type": "display_data"
    }
   ],
   "source": [
    "index = scores>-60\n",
    "plt.pyplot.scatter(projected_matrix[index,0], projected_matrix[index,1], s=.5, alpha=0.5, c=predict[index],cmap='tab20')"
   ]
  },
  {
   "cell_type": "code",
   "execution_count": 253,
   "id": "869d08f6-0704-4336-9060-3c3da10be171",
   "metadata": {},
   "outputs": [
    {
     "data": {
      "text/plain": [
       "<matplotlib.legend.Legend at 0x7f56acaeae20>"
      ]
     },
     "execution_count": 253,
     "metadata": {},
     "output_type": "execute_result"
    },
    {
     "data": {
      "image/png": "[encoded data removed]",
      "text/plain": [
       "<Figure size 432x288 with 1 Axes>"
      ]
     },
     "metadata": {
      "needs_background": "light"
     },
     "output_type": "display_data"
    }
   ],
   "source": [
    "for i in np.unique(annotations):\n",
    "    plt.pyplot.scatter(projected_matrix[index&(annotations==i),0], projected_matrix[index&(annotations==i),1], s=1, alpha=.5, label=i)\n",
    "plt.pyplot.legend( markerscale=5)"
   ]
  },
  {
   "cell_type": "code",
   "execution_count": 256,
   "id": "66c98dc0-21e8-4aba-b225-0d0ece534d0e",
   "metadata": {},
   "outputs": [
    {
     "data": {
      "text/plain": [
       "(array(['Ast', 'Ex', 'In', 'Mic', 'Oli', 'Opc'], dtype='<U8'),\n",
       " array([ 6351, 44963, 13787,  2349, 29347,  5120]))"
      ]
     },
     "execution_count": 256,
     "metadata": {},
     "output_type": "execute_result"
    }
   ],
   "source": [
    "np.unique(annotations[index], return_counts=True)"
   ]
  },
  {
   "cell_type": "code",
   "execution_count": 258,
   "id": "ec7983c7-b48a-447c-8b68-31f1182c4db7",
   "metadata": {},
   "outputs": [
    {
     "data": {
      "text/plain": [
       "(array(['Ast', 'Ex', 'In', 'Lymphoid', 'Mic', 'Oli', 'Opc'], dtype='<U8'),\n",
       " array([ 8667, 54794, 17352,  2086,  6170, 35361,  6219]))"
      ]
     },
     "execution_count": 258,
     "metadata": {},
     "output_type": "execute_result"
    }
   ],
   "source": [
    "np.unique(annotations, return_counts=True)"
   ]
  },
  {
   "cell_type": "code",
   "execution_count": 259,
   "id": "526c3b2a-80d2-4749-b139-b9932af9c5de",
   "metadata": {},
   "outputs": [
    {
     "data": {
      "text/plain": [
       "101917"
      ]
     },
     "execution_count": 259,
     "metadata": {},
     "output_type": "execute_result"
    }
   ],
   "source": [
    "np.sum(index)"
   ]
  },
  {
   "cell_type": "code",
   "execution_count": 268,
   "id": "347f9e13-fcae-487f-9566-d5dc22b1f10f",
   "metadata": {},
   "outputs": [
    {
     "data": {
      "image/png": "[encoded data removed]",
      "text/plain": [
       "<Figure size 432x288 with 1 Axes>"
      ]
     },
     "metadata": {
      "needs_background": "light"
     },
     "output_type": "display_data"
    }
   ],
   "source": [
    "plt.pyplot.hist(np.log10(mito_fractions[index]+2e-5), 500)\n",
    "plt.pyplot.hist(np.log10(mito_fractions[np.invert(index)]+2e-5), 500)\n",
    "None"
   ]
  },
  {
   "cell_type": "code",
   "execution_count": 278,
   "id": "0cd1b0cd-a906-4b51-be4e-b4e7836af239",
   "metadata": {},
   "outputs": [
    {
     "data": {
      "image/png": "[encoded data removed]",
      "text/plain": [
       "<Figure size 432x288 with 1 Axes>"
      ]
     },
     "metadata": {
      "needs_background": "light"
     },
     "output_type": "display_data"
    }
   ],
   "source": [
    "plt.pyplot.hist(np.log10(total_counts[index]+2e-5), 500, label='keep')\n",
    "plt.pyplot.hist(np.log10(total_counts[np.invert(index)]+2e-5), 500, label='discard')\n",
    "plt.pyplot.legend()\n",
    "None"
   ]
  },
  {
   "cell_type": "code",
   "execution_count": 280,
   "id": "5de93099-ff32-4c64-ba5f-e7d704725443",
   "metadata": {},
   "outputs": [
    {
     "data": {
      "text/plain": [
       "<Axes: >"
      ]
     },
     "execution_count": 280,
     "metadata": {},
     "output_type": "execute_result"
    },
    {
     "data": {
      "image/png": "[encoded data removed]",
      "text/plain": [
       "<Figure size 432x288 with 1 Axes>"
      ]
     },
     "metadata": {
      "needs_background": "light"
     },
     "output_type": "display_data"
    }
   ],
   "source": [
    "import seaborn as sns\n",
    "sns.boxplot(x=index, y=total_counts)\n"
   ]
  },
  {
   "cell_type": "code",
   "execution_count": 281,
   "id": "73573a28-0828-4968-b6b4-438a50999662",
   "metadata": {},
   "outputs": [
    {
     "data": {
      "text/plain": [
       "<Axes: >"
      ]
     },
     "execution_count": 281,
     "metadata": {},
     "output_type": "execute_result"
    },
    {
     "data": {
      "image/png": "[encoded data removed]",
      "text/plain": [
       "<Figure size 432x288 with 1 Axes>"
      ]
     },
     "metadata": {
      "needs_background": "light"
     },
     "output_type": "display_data"
    }
   ],
   "source": [
    "import seaborn as sns\n",
    "sns.boxplot(x=index, y=mito_fractions)\n"
   ]
  },
  {
   "cell_type": "code",
   "execution_count": null,
   "id": "21d0ea63-38a3-4f40-8128-07169482a664",
   "metadata": {},
   "outputs": [],
   "source": [
    "import seaborn as sns\n",
    "sns.boxplot(x=index, y=total_counts)"
   ]
  },
  {
   "cell_type": "code",
   "execution_count": null,
   "id": "948bb32f-1482-4cf0-bf40-18ae0be762c1",
   "metadata": {},
   "outputs": [],
   "source": [
    "# plot log scores by cluster"
   ]
  },
  {
   "cell_type": "code",
   "execution_count": null,
   "id": "97f7efa8-0c4e-4a78-8549-ee45b10b553d",
   "metadata": {},
   "outputs": [],
   "source": [
    "# filter log scores as above, update functions below"
   ]
  },
  {
   "cell_type": "code",
   "execution_count": null,
   "id": "95d392e1-60da-47ae-9519-f04f0ae90e80",
   "metadata": {},
   "outputs": [],
   "source": [
    "# then do celltype annotations, --> regressing out batch before (or individual, decide) --> maybe do additional filtering based on node centrality --> and perhaps visualize with actionet"
   ]
  },
  {
   "cell_type": "code",
   "execution_count": 236,
   "id": "e56284db-bceb-4317-8ad1-7222d9d7ed23",
   "metadata": {},
   "outputs": [],
   "source": [
    "import numba as nb\n",
    "import numpy as np\n",
    "import pandas as pd\n",
    "from sklearn.decomposition import IncrementalPCA\n",
    "from sklearn.mixture import GaussianMixture\n",
    "from ABCA7lof2.qc import filter_cells_by_major_annotation\n",
    "from ABCA7lof2.setup import process_metadata\n",
    "from numba_progress import ProgressBar\n",
    "import localreg\n",
    "from ABCA7lof2.qc import gmm_bic_score\n",
    "from sklearn.mixture import GaussianMixture\n",
    "from sklearn.model_selection import GridSearchCV\n",
    "from sklearn.preprocessing import StandardScaler\n",
    "\n",
    "def get_marker_indices(marker_path, gene_names):\n",
    "    '''\n",
    "    provides indices for celltype-marker genes in vector of gene names, as well as celltype-marker gene dictionary\n",
    "    Args:\n",
    "        marker_path string\n",
    "            path to csv file containing marker gene annotations with the following columns: | marker | major_celltype |\n",
    "            marker = gene names (must intersect with input to gene_names argument)\n",
    "            major_celltype = indicating corresponding cell type\n",
    "        gene_names: ndarray\n",
    "            1D array containing gene names with '<U17' data type; array length = N-features\n",
    "    '''\n",
    "    print('getting marker indices...')\n",
    "    markers = pd.read_csv(marker_path)\n",
    "    dic = dict(zip(gene_names, range(0, len(gene_names))))\n",
    "    targets = np.unique(np.array(markers['marker']))\n",
    "    targets = targets[[targets[x] in set(gene_names) for x in range(len(targets))]]\n",
    "    marker_indices = [dic[targets[x]] for x in range(len(targets))]\n",
    "    celltype_dic = dict(zip(markers['marker'], markers['major_celltype']))\n",
    "    return marker_indices, celltype_dic\n",
    "\n",
    "@nb.njit(parallel=True)\n",
    "def get_marker_matrix_norm(filtered_counts, marker_indices, marker_out, total_counts, progress_hook):\n",
    "    '''\n",
    "    returns normalized matrix of marker genes\n",
    "    Args:\n",
    "        filtered_counts ndarray\n",
    "            2D array of counts post-cell-filtering\n",
    "            N-cells x N-features\n",
    "        marker_indices list\n",
    "            column indices indicating marker genes in filtered_counts matrix\n",
    "        marker_out numpy memmap\n",
    "            N-cells x len(marker_indices)\n",
    "        total_counts ndarray\n",
    "            1D array of per-cell total counts, length = N-cells\n",
    "    '''\n",
    "    for i in nb.prange(filtered_counts.shape[0]):\n",
    "        marker_out[i] = (filtered_counts[i][(marker_indices)])/total_counts[i]\n",
    "        progress_hook.update(1)\n",
    "\n",
    "def run_ipca(marker_mat, n_components_pca, sample_size):\n",
    "    '''\n",
    "    projects from marker-gene space onto principal components\n",
    "    Args:\n",
    "        marker_mat numpy memmap\n",
    "            N-cells x len(marker_indices)\n",
    "        n_components_pca integer\n",
    "            number of PCA components to project cells onto\n",
    "        sample_size: float\n",
    "            0< float <=1 indicating the fraction of N-cells to sample and on which to run PCA\n",
    "    '''\n",
    "    print('running pca...')\n",
    "    scaler = StandardScaler()\n",
    "    marker_mat = scaler.fit_transform(marker_mat)\n",
    "    ipca = IncrementalPCA(n_components_pca, batch_size=int(sample_size*marker_mat.shape[0]))\n",
    "    ipca.fit(marker_mat)\n",
    "    projected_matrix = ipca.transform(marker_mat) \n",
    "    return projected_matrix\n",
    "\n",
    "def run_gaussian_mixture(projected_matrix, sample_size, n_components_gaussian):\n",
    "    '''\n",
    "    estimates gaussian mixture model based on data in PCA-space\n",
    "    Args:\n",
    "        projected_matrix ndarray\n",
    "            2d-array N-cells x N-principal components\n",
    "        n_components_gaussian integer\n",
    "            number of gaussians to model\n",
    "        sample_size: float\n",
    "            0< float <=1 indicating the fraction of N-cells to sample and on which to estimate gaussian mixture model parameters\n",
    "    '''\n",
    "    print('estimating gaussian mixture model...')\n",
    "    rand_index = np.random.choice(range(len(projected_matrix)), replace=False, size=int(sample_size*len(projected_matrix)))\n",
    "    \n",
    "    # first estimate N components and cov matrix\n",
    "    X = projected_matrix[rand_index]\n",
    "    \n",
    "    ###############this code is from: https://scikit-learn.org/stable/auto_examples/mixture/plot_gmm_selection.html#sphx-glr-auto-examples-mixture-plot-gmm-selection-py\n",
    "    param_grid = {\n",
    "        \"n_components\": range(11,12),\n",
    "        \"covariance_type\": [ \"full\"],#\"spherical\", \"tied\", \"diag\",\n",
    "    }\n",
    "    print('gaussian gridsearch')\n",
    "    \n",
    "    grid_search = GridSearchCV(\n",
    "        GaussianMixture(), param_grid=param_grid, scoring=gmm_bic_score, verbose=10\n",
    "    )\n",
    "    grid_search.fit(X)\n",
    "\n",
    "\n",
    "    df = pd.DataFrame(grid_search.cv_results_)[\n",
    "        [\"param_n_components\", \"param_covariance_type\", \"mean_test_score\"]\n",
    "    ]\n",
    "    df[\"mean_test_score\"] = -df[\"mean_test_score\"]\n",
    "    df = df.rename(\n",
    "        columns={\n",
    "            \"param_n_components\": \"Number of components\",\n",
    "            \"param_covariance_type\": \"Type of covariance\",\n",
    "            \"mean_test_score\": \"BIC score\",\n",
    "        }\n",
    "    )\n",
    "    ###############\n",
    "\n",
    "    x = df.loc[np.argmin(df['BIC score'])]\n",
    "    print(x)\n",
    "\n",
    "    gm = GaussianMixture(n_components=x[0], covariance_type=x[1], random_state=0).fit(X)\n",
    "    predict = gm.predict(projected_matrix)\n",
    "    scores = gm.score_samples(projected_matrix)\n",
    "    return predict, scores\n",
    "\n",
    "def get_celltype_summary_score_per_cell(unique_celltype_name, marker_out, celltype_name):\n",
    "    '''\n",
    "    get per-cell marker gene expression averages for each specified cell type label\n",
    "    Args:\n",
    "        unique_celltype_name ndarray\n",
    "            enumeration of each cell type label being considered\n",
    "        marker_out  numpy memmap\n",
    "            N-cells x len(marker_indices)\n",
    "        celltype_name ndarray\n",
    "            celltype label corresponding to each marker gene in marker_gene names (i.e. marker_out column names); length = len(marker_indices)\n",
    "    '''\n",
    "    print('computing celltype summary scores...')\n",
    "    celltype_summary_score = np.empty((len(unique_celltype_name), len(marker_out)))\n",
    "    for i in range(len(unique_celltype_name)):\n",
    "        index = celltype_name==unique_celltype_name[i]\n",
    "        celltype_summary_score[i] = np.mean(marker_out[:, index], axis=1)\n",
    "    return celltype_summary_score\n",
    "      \n",
    "def get_celltype_annotations_per_group(unique_celltype_name, celltype_summary_score, predictions):\n",
    "    '''\n",
    "    assigns cell type to each group based on marker genes\n",
    "    Args:\n",
    "        unique_celltype_name ndarray\n",
    "            enumeration of each cell type label being considered\n",
    "        celltype_summary_score  ndarray\n",
    "            per-cell marker gene expression averages for each specified cell type label\n",
    "            N-labels x N-cells\n",
    "        predictions ndarray\n",
    "            assigned gaussian based on gaussian mixture model\n",
    "            length = N-cells\n",
    "    '''\n",
    "    print('annotating cell types...')\n",
    "    cellgroup = np.unique(predictions)\n",
    "    group_annotation_matrix = np.empty((len(cellgroup), len(celltype_summary_score)))\n",
    "    for i in range(len(cellgroup)):\n",
    "        index = np.array(predictions)==cellgroup[i]\n",
    "        group_annotation_matrix[i] = np.mean(celltype_summary_score[:,index], axis = 1)\n",
    "    group_annotation_matrix = group_annotation_matrix/(np.sum(group_annotation_matrix, axis = 0)) # normalization\n",
    "    index = np.argmax(group_annotation_matrix, axis = 1)\n",
    "    annotations_dic = dict(zip(cellgroup, unique_celltype_name[index]))\n",
    "    return annotations_dic, group_annotation_matrix\n",
    "    \n",
    "def assign_major_celltypes(marker_genes, celltype_dic, marker_out, predictions):\n",
    "    '''\n",
    "    return per-cell cell type labels\n",
    "    Args:\n",
    "        marker_genes ndarray\n",
    "            marker_out column names\n",
    "\n",
    "        celltype_dic dictionary\n",
    "            assigning each predicted gaussian label to a cell type annotation\n",
    "\n",
    "        marker_out  numpy memmap\n",
    "            N-cells x len(marker_indices)\n",
    "\n",
    "        predictions ndarray\n",
    "            assigned gaussian based on gaussian mixture model\n",
    "            length = N-cells\n",
    "    '''\n",
    "    celltype_name = np.array([celltype_dic[marker_genes[x]] for x in range(len(marker_genes))])\n",
    "    unique_celltype_name = np.unique(celltype_name)\n",
    "    celltype_summary_score = get_celltype_summary_score_per_cell(unique_celltype_name, marker_out, celltype_name)\n",
    "    annotations_dic, summary_score = get_celltype_annotations_per_group(unique_celltype_name, celltype_summary_score, predictions)\n",
    "    annotations = np.array([annotations_dic[predictions[i]] for i in range(len(predictions))])\n",
    "    return annotations\n",
    "\n",
    "def get_predictions(filtered_counts, marker_indices, marker_out, total_counts, n_components_pca, sample_size, n_components_gaussian):\n",
    "    '''\n",
    "    returns cell labels that maximize probability of the data based on a pre-defined number of gaussian components\n",
    "    Args:\n",
    "       filtered_counts ndarray\n",
    "            2D array of counts post-cell-filtering\n",
    "            N-cells x N-features\n",
    "        marker_indices list\n",
    "            column indices indicating marker genes in filtered_counts matrix\n",
    "        marker_out numpy memmap\n",
    "            N-cells x len(marker_indices)\n",
    "        total_counts ndarray\n",
    "            1D array of per-cell total counts, length = N-cells\n",
    "       n_components_pca integer\n",
    "            number of PCA components to project cells onto\n",
    "       sample_size: float\n",
    "            0< float <=1 indicating the fraction of N-cells to sample for labeling\n",
    "       n_components_gaussian integer\n",
    "            number of gaussians to model\n",
    "    '''\n",
    "    print('getting normalized marker matrix...')\n",
    "    with ProgressBar(total=filtered_counts.shape[0]) as numba_progress:\n",
    "        get_marker_matrix_norm(filtered_counts, np.array(marker_indices), marker_out, total_counts, numba_progress)\n",
    "    projected_matrix = run_ipca(marker_out, n_components_pca, sample_size)\n",
    "    predict, scores = run_gaussian_mixture(projected_matrix, sample_size, n_components_gaussian)\n",
    "    return projected_matrix, predict, scores\n",
    "    \n",
    "def get_major_annotations(marker_path, gene_names, filtered_counts, total_counts, sample_size, n_components_pca, n_components_gaussian, out_dir, infer_N_markers):\n",
    "    '''\n",
    "    return per-cell predicted cell type annotations\n",
    "    Args:\n",
    "        marker_path\n",
    "\n",
    "        gene_names\n",
    "\n",
    "        filtered_counts\n",
    "\n",
    "        total_counts\n",
    "\n",
    "        sample_size\n",
    "\n",
    "        n_components_pca\n",
    "\n",
    "        n_components_gaussian\n",
    "    '''\n",
    "    if infer_N_markers is not None:\n",
    "        print('inferring markers for reduction & annotation...')\n",
    "        marker_indices = infer_markers_for_reduction(infer_N_markers, filtered_counts)\n",
    "        marker_out = np.memmap(out_dir + '/marker_matrix_norm.npy', mode='w+', shape=(filtered_counts.shape[0], len(marker_indices)), dtype='float')\n",
    "        projected_matrix, predict, scores = get_predictions(filtered_counts, marker_indices, marker_out, total_counts, n_components_pca, sample_size, n_components_gaussian)\n",
    "        marker_genes = gene_names[marker_indices]\n",
    "        out_markers, out_fc = infer_marker_genes_per_cluster(marker_out, predict, marker_genes)\n",
    "        annotations = np.concatenate((out_markers, out_fc))\n",
    "    else:\n",
    "        print('using prior markers for reduction & annotation...')\n",
    "        marker_indices, celltype_dic = get_marker_indices(marker_path, gene_names)\n",
    "        marker_out = np.memmap(out_dir + '/marker_matrix_norm.npy', mode='w+', shape=(filtered_counts.shape[0], len(marker_indices)), dtype='float')\n",
    "        projected_matrix, predict, scores = get_predictions(filtered_counts, marker_indices, marker_out, total_counts, n_components_pca, sample_size, n_components_gaussian)\n",
    "        marker_genes = gene_names[marker_indices]\n",
    "        annotations = assign_major_celltypes(marker_genes, celltype_dic, marker_out, predict)\n",
    "    return annotations, marker_out, projected_matrix, predict, scores, marker_genes, marker_indices\n",
    "\n",
    "def infer_markers_for_reduction(infer_N_markers, filtered_counts):\n",
    "    mean = get_log2(np.mean(filtered_counts, axis = 0))\n",
    "    var = get_log2(np.var(filtered_counts, axis = 0))\n",
    "    var_predictions = localreg.localreg(mean, var)\n",
    "    mean_var_trend_removed = var-var_predictions\n",
    "    marker_indices = np.argsort(-1*(mean_var_trend_removed + mean))[0:infer_N_markers]\n",
    "    return marker_indices\n",
    "\n",
    "def infer_marker_genes_per_cluster(marker_out, predict, marker_genes):\n",
    "    n_markers = 20\n",
    "    unique_predictions = np.unique(predict)\n",
    "    out_fc = np.empty(shape=(len(unique_predictions), n_markers), dtype='float')\n",
    "    out_markers = np.empty(shape=(len(unique_predictions), n_markers), dtype='<U17')\n",
    "    for i in range(len(unique_predictions)):\n",
    "        current_prediction = unique_predictions[i]\n",
    "        FC = np.log2(np.mean(marker_out[np.where(predict==current_prediction)[0]], axis = 0)/np.mean(marker_out[np.where(predict!=current_prediction)[0]], axis = 0))\n",
    "        indices = np.argsort(-1*FC)[0:n_markers]\n",
    "        out_markers[i] = marker_genes[indices]\n",
    "        out_fc[i] = FC[indices]\n",
    "    return out_markers, out_fc\n",
    "\n",
    "def get_log2(vals):\n",
    "    vals+=np.min(vals[vals!=0])\n",
    "    vals = np.log2(vals)\n",
    "    return vals\n",
    "\n",
    "# continue here --> save_all_data, save_data_by_celltype, qc_plots --> also think there is something wrong with the annotation function because it annotates all cells as Ast or Ex\n",
    "# before make QC plots, make sure that everything is very clear in the code and write tests\n",
    "# then use the QC plots to assess whether the metrics I am using make sense\n",
    "# then add annotate_subtypes\n",
    "\n",
    "#def annotate_subtypes(keep_cells, annotation, meta, marker_indices, n_components_pca, n_components_gaussian, sample_size, path_to_outputs):\n",
    "#    cellnames = np.unique(annotation)\n",
    "#    N = len(keep_cells)\n",
    "#    predictions = np.empty(N).astype('str')\n",
    "#    scores = np.empty(N)\n",
    "#    for i in range(len(cellnames)):\n",
    "#        name = cellnames[i]\n",
    "#        index = np.where((keep_cells.astype('bool')) & (annotation==name))[0]\n",
    "#        marker_out = np.memmap(path_to_outputs + '/marker_matrix_norm.npy', mode='w+', shape=(len(index), len(marker_indices)), dtype='float')\n",
    "#        get_marker_matrix_norm(counts, np.array(marker_indices), marker_out, total_counts, keep_cells)\n",
    "#        projected_matrix = run_ipca(marker_out, n_components_pca, sample_size)\n",
    "#        predict, scr = run_gaussian_mixture(projected_matrix, sample_size, n_components_gaussian) # make N components adjustable after score report? Or use non-parametric strategy?\n",
    "#        predictions[index] = [name + '.' + predict[x].astype('str') for x in range(len(predict))]\n",
    "#        scores[index] = scr\n",
    "#    print('concatenating metadata')\n",
    "#    meta = np.concatenate((meta, predictions[:, None], scores[:, None]), axis=1)\n",
    "#    return meta"
   ]
  },
  {
   "cell_type": "code",
   "execution_count": null,
   "id": "c513d2e6-ee65-4fba-b571-3064e4fa8a1f",
   "metadata": {},
   "outputs": [],
   "source": []
  },
  {
   "cell_type": "code",
   "execution_count": null,
   "id": "3f7d8322-6a88-4fd7-812d-66b07a43d6f7",
   "metadata": {},
   "outputs": [],
   "source": [
    "# logliklihood filtering\n",
    "keep_cells_1 = filter_on_gaussian_logliklihood(scores)\n",
    "individual_annotation = filtered_meta[:,2]\n",
    "keep_cells_2, keep_cells_mito, keep_cells_individual, keep_genes, keep_individuals = filter_cells_by_major_annotation(mito_fractions, total_counts, 1, predict, individual_annotation, filtered_counts)"
   ]
  },
  {
   "cell_type": "code",
   "execution_count": 7,
   "id": "a88b4e11-e81f-4ff2-81c5-f17024e9c2fb",
   "metadata": {},
   "outputs": [],
   "source": [
    "# compile metadata\n",
    "filtered_meta_final = np.concatenate((filtered_meta,(keep_cells_1&keep_cells_2).reshape(-1,1), keep_cells_mito.reshape(-1,1), keep_cells_individual.reshape(-1,1), (scores>90).reshape(-1,1), predict.reshape(-1,1), scores.reshape(-1,1), annotations.reshape(-1,1), total_counts.reshape(-1,1), mito_fractions.reshape(-1,1)), axis = 1)\n",
    "meta_names = np.concatenate((np.concatenate((np.array(['barcodes','index']), meta_col_names), axis=0), np.array(('keep_cells_all_per_celltype', 'keep_cells_mito_per_celltype', 'keep_cells_individual', 'keep_cells_gaussian', 'predictions', 'gaussian_liklihood', 'annotations', 'total_counts', 'mito_fractions'))), axis = 0)"
   ]
  },
  {
   "cell_type": "code",
   "execution_count": 8,
   "id": "cc425da4-09c7-4aa4-8937-6cd186100fcb",
   "metadata": {},
   "outputs": [],
   "source": [
    "# save data\n",
    "np.save('./processed_data/single_cell/filtered_meta.npy', filtered_meta_final)\n",
    "np.save('./processed_data/single_cell/meta_names.npy', meta_names)\n",
    "np.save('./processed_data/single_cell/features.npy', features)\n",
    "np.save('./processed_data/single_cell/projected_matrix.npy', projected_matrix)\n",
    "np.save('./processed_data/single_cell/marker_indices.npy', marker_indices)\n",
    "np.save('./processed_data/single_cell/keep_genes.npy', keep_genes)"
   ]
  },
  {
   "cell_type": "code",
   "execution_count": 9,
   "id": "22c5f8f0-bb0d-4d8e-a583-a69dbe806b7a",
   "metadata": {},
   "outputs": [
    {
     "name": "stderr",
     "output_type": "stream",
     "text": [
      "100%|██████████| 124282/124282 [01:39<00:00, 1243.94it/s]\n"
     ]
    }
   ],
   "source": [
    "# normalize counts\n",
    "logcounts = np.memmap('./processed_data/single_cell/filtered_logcounts.npy', mode='w+', shape=filtered_counts.shape, dtype='float')\n",
    "log_normalize_counts(filtered_counts, total_counts, logcounts)"
   ]
  },
  {
   "cell_type": "code",
   "execution_count": null,
   "id": "d3b5b189-150d-47cc-9658-e96afa76d985",
   "metadata": {},
   "outputs": [],
   "source": []
  }
 ],
 "metadata": {
  "kernelspec": {
   "display_name": "py_env",
   "language": "python",
   "name": "py_env"
  },
  "language_info": {
   "codemirror_mode": {
    "name": "ipython",
    "version": 3
   },
   "file_extension": ".py",
   "mimetype": "text/x-python",
   "name": "python",
   "nbconvert_exporter": "python",
   "pygments_lexer": "ipython3",
   "version": "3.8.13"
  }
 },
 "nbformat": 4,
 "nbformat_minor": 5
}

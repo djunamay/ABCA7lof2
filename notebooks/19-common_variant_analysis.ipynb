{
 "cells": [
  {
   "cell_type": "code",
   "execution_count": 1,
   "id": "7c622181-afbd-4ee4-8fb3-73c3054a202e",
   "metadata": {},
   "outputs": [
    {
     "name": "stderr",
     "output_type": "stream",
     "text": [
      "Loading required package: limma\n",
      "\n",
      "Loading required package: mgcv\n",
      "\n",
      "Loading required package: nlme\n",
      "\n",
      "This is mgcv 1.8-40. For overview type 'help(\"mgcv-package\")'.\n",
      "\n",
      "Loading required package: genefilter\n",
      "\n",
      "Loading required package: BiocParallel\n",
      "\n"
     ]
    }
   ],
   "source": [
    "# load packages\n",
    "library(edgeR)\n",
    "library(sva)\n",
    "library(fgsea)\n",
    "library(tidyr)\n",
    "source('../ABCA7lof2//degs.r')\n",
    "set.seed(5)"
   ]
  },
  {
   "cell_type": "code",
   "execution_count": 106,
   "id": "6fb0b836-3853-4822-910b-aa5c9ba62541",
   "metadata": {},
   "outputs": [],
   "source": [
    "# functions\n",
    "compute_degs = function (counts.df, mod1, mod0,var, n.sv = NULL)\n",
    "{\n",
    "    dge <- DGEList(counts = counts.df)\n",
    "    dge <- calcNormFactors(dge)\n",
    "\n",
    "    v <- voom(dge, design = mod1)\n",
    "    if (is.null(n.sv)) {\n",
    "        n.sv <- num.sv(v$E, mod1, method = \"be\")\n",
    "    }\n",
    "    svobj <- sva(v$E, mod1, mod0, n.sv = n.sv)\n",
    "    mod1 <- cbind(mod1, svobj$sv)\n",
    "    v <- voom(dge, design = mod1)\n",
    "    fit <- lmFit(v, design = mod1)\n",
    "    fit <- eBayes(fit)\n",
    "    #res1 <- topTable(fit, coef = \"rs3752246\", n = Inf, sort.by = \"p\")\n",
    "    res1 <- topTable(fit, coef =var, n = Inf, sort.by = \"p\")\n",
    "    return(list(res1 = res1, C = svobj$sv, mod=mod1))\n",
    "}"
   ]
  },
  {
   "cell_type": "code",
   "execution_count": 75,
   "id": "c25af316-ca7d-4d78-9451-7ae282fd8022",
   "metadata": {
    "tags": []
   },
   "outputs": [
    {
     "name": "stderr",
     "output_type": "stream",
     "text": [
      "Warning message in FUN(newX[, i], ...):\n",
      "“NAs introduced by coercion”\n",
      "Warning message in FUN(newX[, i], ...):\n",
      "“NAs introduced by coercion”\n",
      "Warning message in FUN(newX[, i], ...):\n",
      "“NAs introduced by coercion”\n",
      "Warning message in FUN(newX[, i], ...):\n",
      "“NAs introduced by coercion”\n",
      "Warning message in FUN(newX[, i], ...):\n",
      "“NAs introduced by coercion”\n",
      "Warning message in FUN(newX[, i], ...):\n",
      "“NAs introduced by coercion”\n"
     ]
    }
   ],
   "source": [
    "# load Henne Holstege et al data\n",
    "df = read.csv('../processed_data/holstege_et_al//41588_2022_1208_MOESM4_ESM.csv', skip = 2, header = TRUE)\n",
    "\n",
    "# merge with ABCA7 variant info\n",
    "variant_info = read.csv('../raw_data/ROSMAP_WGS/HIGHandMED_coding_annotations_syn11724057_subset.csv', check.names=FALSE)\n",
    "variant_info$Variant = paste0(variant_info$CHROM,':',variant_info$POS,':',variant_info$REF_x, '>', variant_info$ALT_0)\n",
    "df = df[,c('Variant', 'REVEL', 'LOF')]\n",
    "var_info = merge(variant_info, df, by = 'Variant')\n",
    "var_info = var_info[var_info$GENE=='ABCA7',]\n",
    "\n",
    "\n",
    "# # add variant categorization info\n",
    "# var_info$REVEL[is.na(var_info$REVEL)] = 0\n",
    "# var_info$stage1 = ifelse(var_info$LOF.y==1, 1, 0)\n",
    "# var_info$stage2 = ifelse(((var_info$LOF.y==1) | (var_info$REVEL>=.75)), 1, 0)\n",
    "# var_info$stage3 = ifelse(((var_info$LOF.y==1) | (var_info$REVEL>=.50)), 1, 0)\n",
    "# var_info$stage4 = ifelse(((var_info$LOF.y==1) | (var_info$REVEL>=.25)), 1, 0)\n",
    "# var_info$stage5 = ifelse(((var_info$LOF.y==1) | (var_info$REVEL>=.40)), 1, 0)\n",
    "# var_info$stage6 = ifelse(((var_info$LOF.y==1) | (var_info$REVEL>=.30)), 1, 0)\n",
    "# var_info$stage7 = ifelse(((var_info$LOF.y==1) | (var_info$REVEL>=.20)), 1, 0)\n",
    "\n",
    "# # # # subset var_info\n",
    "#var_info = var_info[(var_info$EFFECT=='missense_variant') & var_info$MAF<0.05,]\n",
    "\n",
    "# # compute / add burden scores\n",
    "#stages = var_info[,c('LOF.y', 'stage1', 'stage2', 'stage3', 'stage4', 'stage5', 'stage6', 'stage7')]\n",
    "\n",
    "genotypes = var_info[,unlist(lapply(names(var_info), function(x) sum(startsWith(x, c('ROS', 'MAP', 'SM')))))>0]\n",
    "genotypes[genotypes=='0/0']=0\n",
    "genotypes[genotypes=='0/1']=1\n",
    "genotypes[genotypes=='1/0']=1\n",
    "genotypes[genotypes=='1/1']=2\n",
    "df = apply(genotypes,2, function(x){as.numeric(x)})\n",
    "\n",
    "variant_categories = as.data.frame(colSums(df[var_info$LOF.y==1,]))\n",
    "# variant_categories$stage1 = colSums(df[stages$stage1==1,])\n",
    "# variant_categories$stage2 = colSums(df[stages$stage2==1,])\n",
    "# variant_categories$stage3 = colSums(df[stages$stage3==1,])\n",
    "# variant_categories$stage4 = colSums(df[stages$stage4==1,])\n",
    "# variant_categories$stage5 = colSums(df[stages$stage5==1,])\n",
    "# variant_categories$stage6 = colSums(df[stages$stage6==1,])\n",
    "# variant_categories$stage7 = colSums(df[stages$stage7==1,])\n",
    "# variant_categories$high = colSums(df[var_info$IMPACT=='HIGH',])                   \n",
    "# # add common variant\n",
    "temp = as.numeric(unlist(genotypes[var_info$ID=='rs3752246',]))                                  \n",
    "temp = -1*(temp-2)\n",
    "variant_categories$rs3752246 = temp\n",
    "# variant_categories$rare_sums = colSums(df)\n",
    "#variant_categories$weighted_sum = as.numeric(unlist(var_info$REVEL%*%df))"
   ]
  },
  {
   "cell_type": "code",
   "execution_count": 76,
   "id": "c9663ab0-0087-4530-87cd-88f63a8d7bf3",
   "metadata": {},
   "outputs": [],
   "source": [
    "# load our large snRNAseq dataset\n",
    "data = readRDS('../processed_data/mathys_et_al/all_summed_cts.rds')\n",
    "\n",
    "# add variant data to metadata\n",
    "meta = data$meta\n",
    "meta = cbind(meta, variant_categories[meta$WGSid,])"
   ]
  },
  {
   "cell_type": "code",
   "execution_count": 77,
   "id": "73997d03-b7ab-449d-a6da-ecc1a72298bc",
   "metadata": {},
   "outputs": [],
   "source": [
    "# remove individuals from our snRNAseq cohort\n",
    "all_data = readRDS('../processed_data/single_cell//stats_input_data_0825.rds')\n",
    "\n",
    "keep = !meta$projid%in%rownames(all_data$summary)\n",
    "meta = meta[keep,]\n",
    "ncells = data$ncells[keep]\n",
    "counts = data$counts[,keep]"
   ]
  },
  {
   "cell_type": "code",
   "execution_count": 78,
   "id": "29b44db4-f53b-41ae-b82d-343bd364506c",
   "metadata": {},
   "outputs": [],
   "source": [
    "expressed = all_data$expressed10"
   ]
  },
  {
   "cell_type": "code",
   "execution_count": 79,
   "id": "92e8203e-3c37-4914-83b7-8ba279135e20",
   "metadata": {},
   "outputs": [],
   "source": [
    "# add batch info\n",
    "batch_ids = read.csv('../../ADSubtypes/metadata/Fastq_paths_432_PFC_HM_updated_edited.csv')\n",
    "batch_ids = batch_ids[!duplicated(batch_ids$projid),]\n",
    "rownames(batch_ids) = batch_ids$projid\n",
    "meta$seq_batch = batch_ids[rownames(meta),'Batch']"
   ]
  },
  {
   "cell_type": "code",
   "execution_count": 81,
   "id": "fc94c9e9-a919-4cfe-9b64-9f3fa28e5ac3",
   "metadata": {},
   "outputs": [],
   "source": [
    "# filter out individuals with too few cells per celltype\n",
    "keep = ncells>=10\n",
    "counts_indexed = counts[,keep]\n",
    "meta_keep = meta[keep,]\n",
    "meta_keep$niareagansc = as.numeric(meta_keep$niareagansc)\n",
    "\n",
    "# filter\n",
    "keep = (rowSums(is.na(meta_keep))==0) & !(is.na(meta_keep[,'colSums(df[var_info$LOF.y == 1, ])']) | (meta_keep[,'colSums(df[var_info$LOF.y == 1, ])']>0)) #& meta_keep$niareagansc%in%(unlist(list('3','4')))\n",
    "meta_keep2 = meta_keep[keep,]\n",
    "meta_keep2$apoe = ifelse(meta_keep2$apoe_genotype%in%c(34,44,24), 1, 0)\n",
    "counts_keep2 = counts_indexed[,keep]\n",
    "counts_keep2 = counts_keep2[rownames(counts_keep2)%in%expressed$Ex & rowSums(counts_keep2>0)>15,]"
   ]
  },
  {
   "cell_type": "code",
   "execution_count": 82,
   "id": "4f038e59-07d6-48eb-a84e-d95aa7cf8bb0",
   "metadata": {},
   "outputs": [
    {
     "data": {
      "text/plain": [
       "\n",
       "  0   1 \n",
       "227 133 "
      ]
     },
     "metadata": {},
     "output_type": "display_data"
    }
   ],
   "source": [
    "meta_keep2$rs3752246_binary = ifelse(meta_keep2$rs3752246>0, 1, 0)\n",
    "\n",
    "table(meta_keep2$rs3752246_binary)"
   ]
  },
  {
   "cell_type": "code",
   "execution_count": 16,
   "id": "e7331729-fc26-4f87-9faa-40433904acbf",
   "metadata": {},
   "outputs": [
    {
     "name": "stdout",
     "output_type": "stream",
     "text": [
      "Number of significant surrogate variables is:  21 \n",
      "Iteration (out of 5 ):1  2  3  4  5  "
     ]
    }
   ],
   "source": [
    "# compute DEGs rs3752246\n",
    "# remove any LOF individuals\n",
    "\n",
    "meta_keep2$rs3752246_binary = ifelse(meta_keep2$rs3752246>0, 1, 0)\n",
    "\n",
    "mod1 <- model.matrix(~rs3752246_binary + amyloid + nft + msex + age_death + apoe + pmi + seq_batch + niareagansc, data = meta_keep2)\n",
    "mod0 <- model.matrix(~ amyloid + nft + msex + age_death + apoe + pmi + seq_batch + niareagansc, data = meta_keep2)\n",
    "\n",
    "out = compute_degs(counts_keep2, mod1, mod0, 'rs3752246_binary')\n",
    "curr = out$res1\n",
    "scores = sign(curr$logFC) * -log10(curr$P.Value)\n",
    "names(scores) = rownames(curr)"
   ]
  },
  {
   "cell_type": "code",
   "execution_count": 623,
   "id": "9a0281b3-39e1-4381-a2b2-4859b775b333",
   "metadata": {},
   "outputs": [],
   "source": [
    "# compute fgsea results rs3752246\n",
    "paths = read.csv('../supplementary_tables/data_s8.csv')\n",
    "paths = paths[paths$is_gene=='True',]\n",
    "P = list()\n",
    "for(i in unique(paths$cluster)){\n",
    "    P[[as.character(i)]] = paths[paths$cluster==i,'description']\n",
    "}      \n",
    "\n",
    "o = fgsea(pathways = P, stats = scores, minSize = 5, maxSize = 1000, nproc=1, nPermSimple=10000)\n",
    "o = o[order(o$pval,decreasing=T),]\n",
    "o$score = sign(o$NES) * -log10(o$pval)\n",
    "o$pathway = factor(o$pathway, levels = o$pathway)"
   ]
  },
  {
   "cell_type": "code",
   "execution_count": 651,
   "id": "194a6f32-6f6e-479e-8226-7f5104b9ddd2",
   "metadata": {},
   "outputs": [],
   "source": [
    "x = o[order(o$pval,decreasing=FALSE),]\n",
    "x$leadingEdge = NULL\n",
    "\n",
    "write.csv(x, '../processed_data/common_var/rs3755246_cluster_effects.csv')"
   ]
  },
  {
   "cell_type": "code",
   "execution_count": 634,
   "id": "615001ec-7875-41ec-afec-97b59283298f",
   "metadata": {},
   "outputs": [],
   "source": [
    "write.csv(meta_keep2[, c('projid', 'WGSid', 'rs3752246_binary', 'amyloid', 'nft', 'msex', 'age_death', 'apoe', 'pmi', 'seq_batch', 'niareagansc')], '../processed_data/mathys_et_al/data_for_carles.csv', row.names=FALSE)"
   ]
  },
  {
   "cell_type": "code",
   "execution_count": 636,
   "id": "ba16b72d-c7eb-4baf-b04d-16d9f76596d3",
   "metadata": {},
   "outputs": [],
   "source": [
    "x = o[order(o$pval,decreasing=FALSE),]\n",
    "x$leadingEdge = NULL\n",
    "\n",
    "write.csv(x, '../processed_data/common_var/rs3755246_cluster_effects.csv')\n",
    "write.csv(as.data.frame(scores), '../processed_data/common_var/rs3752246_binary_scores.csv')"
   ]
  },
  {
   "cell_type": "code",
   "execution_count": 655,
   "id": "6fb07706-11a8-42b9-9599-fa73d5f3b9ef",
   "metadata": {},
   "outputs": [
    {
     "data": {
      "text/html": [
       "<table class=\"dataframe\">\n",
       "<caption>A data.frame: 1 × 30</caption>\n",
       "<thead>\n",
       "\t<tr><th></th><th scope=col>Variant</th><th scope=col>Var.2</th><th scope=col>CHROM</th><th scope=col>POS</th><th scope=col>REF_x</th><th scope=col>ALT_0</th><th scope=col>ALT_1</th><th scope=col>ALT_2</th><th scope=col>FILTER_PASS</th><th scope=col>numalt</th><th scope=col>⋯</th><th scope=col>HGVS_C</th><th scope=col>HGVC_P</th><th scope=col>LOF.x</th><th scope=col>NMD</th><th scope=col>1000Gp3_AF</th><th scope=col>N -1/-1</th><th scope=col>N 0/0</th><th scope=col>N 0/1</th><th scope=col>N 0/2</th><th scope=col>N 0/3</th></tr>\n",
       "\t<tr><th></th><th scope=col>&lt;chr&gt;</th><th scope=col>&lt;int&gt;</th><th scope=col>&lt;int&gt;</th><th scope=col>&lt;int&gt;</th><th scope=col>&lt;chr&gt;</th><th scope=col>&lt;chr&gt;</th><th scope=col>&lt;chr&gt;</th><th scope=col>&lt;chr&gt;</th><th scope=col>&lt;chr&gt;</th><th scope=col>&lt;int&gt;</th><th scope=col>⋯</th><th scope=col>&lt;chr&gt;</th><th scope=col>&lt;chr&gt;</th><th scope=col>&lt;chr&gt;</th><th scope=col>&lt;chr&gt;</th><th scope=col>&lt;dbl&gt;</th><th scope=col>&lt;dbl&gt;</th><th scope=col>&lt;int&gt;</th><th scope=col>&lt;int&gt;</th><th scope=col>&lt;int&gt;</th><th scope=col>&lt;dbl&gt;</th></tr>\n",
       "</thead>\n",
       "<tbody>\n",
       "\t<tr><th scope=row>60</th><td>19:1056492:G&gt;C</td><td>11413</td><td>19</td><td>1056492</td><td>G</td><td>C</td><td></td><td></td><td>True</td><td>1</td><td>⋯</td><td>c.4580G&gt;C</td><td>p.Gly1527Ala</td><td></td><td></td><td>0.825479</td><td>0</td><td>39</td><td>364</td><td>0</td><td>0</td></tr>\n",
       "</tbody>\n",
       "</table>\n"
      ],
      "text/latex": [
       "A data.frame: 1 × 30\n",
       "\\begin{tabular}{r|lllllllllllllllllllll}\n",
       "  & Variant & Var.2 & CHROM & POS & REF\\_x & ALT\\_0 & ALT\\_1 & ALT\\_2 & FILTER\\_PASS & numalt & ⋯ & HGVS\\_C & HGVC\\_P & LOF.x & NMD & 1000Gp3\\_AF & N -1/-1 & N 0/0 & N 0/1 & N 0/2 & N 0/3\\\\\n",
       "  & <chr> & <int> & <int> & <int> & <chr> & <chr> & <chr> & <chr> & <chr> & <int> & ⋯ & <chr> & <chr> & <chr> & <chr> & <dbl> & <dbl> & <int> & <int> & <int> & <dbl>\\\\\n",
       "\\hline\n",
       "\t60 & 19:1056492:G>C & 11413 & 19 & 1056492 & G & C &  &  & True & 1 & ⋯ & c.4580G>C & p.Gly1527Ala &  &  & 0.825479 & 0 & 39 & 364 & 0 & 0\\\\\n",
       "\\end{tabular}\n"
      ],
      "text/markdown": [
       "\n",
       "A data.frame: 1 × 30\n",
       "\n",
       "| <!--/--> | Variant &lt;chr&gt; | Var.2 &lt;int&gt; | CHROM &lt;int&gt; | POS &lt;int&gt; | REF_x &lt;chr&gt; | ALT_0 &lt;chr&gt; | ALT_1 &lt;chr&gt; | ALT_2 &lt;chr&gt; | FILTER_PASS &lt;chr&gt; | numalt &lt;int&gt; | ⋯ ⋯ | HGVS_C &lt;chr&gt; | HGVC_P &lt;chr&gt; | LOF.x &lt;chr&gt; | NMD &lt;chr&gt; | 1000Gp3_AF &lt;dbl&gt; | N -1/-1 &lt;dbl&gt; | N 0/0 &lt;int&gt; | N 0/1 &lt;int&gt; | N 0/2 &lt;int&gt; | N 0/3 &lt;dbl&gt; |\n",
       "|---|---|---|---|---|---|---|---|---|---|---|---|---|---|---|---|---|---|---|---|---|---|\n",
       "| 60 | 19:1056492:G&gt;C | 11413 | 19 | 1056492 | G | C | <!----> | <!----> | True | 1 | ⋯ | c.4580G&gt;C | p.Gly1527Ala | <!----> | <!----> | 0.825479 | 0 | 39 | 364 | 0 | 0 |\n",
       "\n"
      ],
      "text/plain": [
       "   Variant        Var.2 CHROM POS     REF_x ALT_0 ALT_1 ALT_2 FILTER_PASS\n",
       "60 19:1056492:G>C 11413 19    1056492 G     C                 True       \n",
       "   numalt ⋯ HGVS_C    HGVC_P       LOF.x NMD 1000Gp3_AF N -1/-1 N 0/0 N 0/1\n",
       "60 1      ⋯ c.4580G>C p.Gly1527Ala           0.825479   0       39    364  \n",
       "   N 0/2 N 0/3\n",
       "60 0     0    "
      ]
     },
     "metadata": {},
     "output_type": "display_data"
    }
   ],
   "source": [
    "var_info[var_info$ID=='rs3752246',1:2]"
   ]
  },
  {
   "cell_type": "code",
   "execution_count": 17,
   "id": "1ddc847e-5c12-4af0-9619-ec3064bc2bc7",
   "metadata": {},
   "outputs": [],
   "source": [
    "# specific paths\n",
    "pathways = readRDS('../../ABCA7lof/processed_data/pathway_databases/pathways.rds')$all_paths\n",
    "\n",
    "o = get_gset_names_by_category(c('lipid biosynthesis', 'lipid storage', 'lipid synthesis', 'response to lipid', 'Fatty Acyl-CoA Biosynthesis', 'Triglyceride Biosynthesis'), names(pathways))\n",
    "temp2 = pathways[o]"
   ]
  },
  {
   "cell_type": "code",
   "execution_count": 136,
   "id": "666168d1-82f3-4fc4-9857-422a4d676175",
   "metadata": {},
   "outputs": [],
   "source": [
    "o = fgsea(pathways = temp2, stats = scores, minSize = 5, maxSize = 1000, nproc=1, nPermSimple=10000)\n",
    "o = o[order(o$pval,decreasing=T),]\n",
    "o$score = sign(o$NES) * -log10(o$pval)\n",
    "o$pathway = factor(o$pathway, levels = o$pathway)"
   ]
  },
  {
   "cell_type": "code",
   "execution_count": 137,
   "id": "652564cf-75fc-431d-9b17-3358ee44d0b2",
   "metadata": {},
   "outputs": [
    {
     "data": {
      "text/html": [
       "<table class=\"dataframe\">\n",
       "<caption>A data.table: 0 × 9</caption>\n",
       "<thead>\n",
       "\t<tr><th scope=col>pathway</th><th scope=col>pval</th><th scope=col>padj</th><th scope=col>log2err</th><th scope=col>ES</th><th scope=col>NES</th><th scope=col>size</th><th scope=col>leadingEdge</th><th scope=col>score</th></tr>\n",
       "\t<tr><th scope=col>&lt;fct&gt;</th><th scope=col>&lt;dbl&gt;</th><th scope=col>&lt;dbl&gt;</th><th scope=col>&lt;dbl&gt;</th><th scope=col>&lt;dbl&gt;</th><th scope=col>&lt;dbl&gt;</th><th scope=col>&lt;int&gt;</th><th scope=col>&lt;list&gt;</th><th scope=col>&lt;dbl&gt;</th></tr>\n",
       "</thead>\n",
       "<tbody>\n",
       "</tbody>\n",
       "</table>\n"
      ],
      "text/latex": [
       "A data.table: 0 × 9\n",
       "\\begin{tabular}{lllllllll}\n",
       " pathway & pval & padj & log2err & ES & NES & size & leadingEdge & score\\\\\n",
       " <fct> & <dbl> & <dbl> & <dbl> & <dbl> & <dbl> & <int> & <list> & <dbl>\\\\\n",
       "\\hline\n",
       "\\end{tabular}\n"
      ],
      "text/markdown": [
       "\n",
       "A data.table: 0 × 9\n",
       "\n",
       "| pathway &lt;fct&gt; | pval &lt;dbl&gt; | padj &lt;dbl&gt; | log2err &lt;dbl&gt; | ES &lt;dbl&gt; | NES &lt;dbl&gt; | size &lt;int&gt; | leadingEdge &lt;list&gt; | score &lt;dbl&gt; |\n",
       "|---|---|---|---|---|---|---|---|---|\n",
       "\n"
      ],
      "text/plain": [
       "     pathway pval padj log2err ES NES size leadingEdge score"
      ]
     },
     "metadata": {},
     "output_type": "display_data"
    }
   ],
   "source": [
    "o[o$pval<0.05,]"
   ]
  },
  {
   "cell_type": "code",
   "execution_count": 21,
   "id": "7096dfd5-f12b-4ef2-9acc-a8fcd60ad862",
   "metadata": {},
   "outputs": [],
   "source": [
    "# specific paths\n",
    "pathways = readRDS('../../ABCA7lof/processed_data/pathway_databases/pathways.rds')$all_paths\n",
    "\n",
    "o = get_gset_names_by_category(c('oxidation', 'TCA', 'lipolysis'), names(pathways))\n",
    "temp2 = pathways[o]"
   ]
  },
  {
   "cell_type": "code",
   "execution_count": 22,
   "id": "b85b8490-9498-4432-ab5c-291772da9fc9",
   "metadata": {},
   "outputs": [],
   "source": [
    "o = fgsea(pathways = temp2, stats = scores, minSize = 5, maxSize = 1000, nproc=1, nPermSimple=10000)\n",
    "o = o[order(o$pval,decreasing=T),]\n",
    "o$score = sign(o$NES) * -log10(o$pval)\n",
    "o$pathway = factor(o$pathway, levels = o$pathway)"
   ]
  },
  {
   "cell_type": "code",
   "execution_count": 26,
   "id": "2b8649c3-e138-414f-b42e-1fca956b7dbc",
   "metadata": {},
   "outputs": [
    {
     "data": {
      "text/html": [
       "<table class=\"dataframe\">\n",
       "<caption>A data.table: 2 × 9</caption>\n",
       "<thead>\n",
       "\t<tr><th scope=col>pathway</th><th scope=col>pval</th><th scope=col>padj</th><th scope=col>log2err</th><th scope=col>ES</th><th scope=col>NES</th><th scope=col>size</th><th scope=col>leadingEdge</th><th scope=col>score</th></tr>\n",
       "\t<tr><th scope=col>&lt;fct&gt;</th><th scope=col>&lt;dbl&gt;</th><th scope=col>&lt;dbl&gt;</th><th scope=col>&lt;dbl&gt;</th><th scope=col>&lt;dbl&gt;</th><th scope=col>&lt;dbl&gt;</th><th scope=col>&lt;int&gt;</th><th scope=col>&lt;list&gt;</th><th scope=col>&lt;dbl&gt;</th></tr>\n",
       "</thead>\n",
       "<tbody>\n",
       "\t<tr><td>fatty acid beta-oxidation (GO:0006635)</td><td>0.04769874</td><td>0.5196507</td><td>0.1095412</td><td>-0.4209796</td><td>-1.407266</td><td>38</td><td>ECI2, PP....</td><td>-1.321493</td></tr>\n",
       "\t<tr><td>fatty acid oxidation (GO:0019395)     </td><td>0.01440044</td><td>0.4032124</td><td>0.2005132</td><td>-0.4713915</td><td>-1.556346</td><td>36</td><td>PPARD, A....</td><td>-1.841624</td></tr>\n",
       "</tbody>\n",
       "</table>\n"
      ],
      "text/latex": [
       "A data.table: 2 × 9\n",
       "\\begin{tabular}{lllllllll}\n",
       " pathway & pval & padj & log2err & ES & NES & size & leadingEdge & score\\\\\n",
       " <fct> & <dbl> & <dbl> & <dbl> & <dbl> & <dbl> & <int> & <list> & <dbl>\\\\\n",
       "\\hline\n",
       "\t fatty acid beta-oxidation (GO:0006635) & 0.04769874 & 0.5196507 & 0.1095412 & -0.4209796 & -1.407266 & 38 & ECI2, PP.... & -1.321493\\\\\n",
       "\t fatty acid oxidation (GO:0019395)      & 0.01440044 & 0.4032124 & 0.2005132 & -0.4713915 & -1.556346 & 36 & PPARD, A.... & -1.841624\\\\\n",
       "\\end{tabular}\n"
      ],
      "text/markdown": [
       "\n",
       "A data.table: 2 × 9\n",
       "\n",
       "| pathway &lt;fct&gt; | pval &lt;dbl&gt; | padj &lt;dbl&gt; | log2err &lt;dbl&gt; | ES &lt;dbl&gt; | NES &lt;dbl&gt; | size &lt;int&gt; | leadingEdge &lt;list&gt; | score &lt;dbl&gt; |\n",
       "|---|---|---|---|---|---|---|---|---|\n",
       "| fatty acid beta-oxidation (GO:0006635) | 0.04769874 | 0.5196507 | 0.1095412 | -0.4209796 | -1.407266 | 38 | ECI2, PP.... | -1.321493 |\n",
       "| fatty acid oxidation (GO:0019395)      | 0.01440044 | 0.4032124 | 0.2005132 | -0.4713915 | -1.556346 | 36 | PPARD, A.... | -1.841624 |\n",
       "\n"
      ],
      "text/plain": [
       "  pathway                                pval       padj      log2err  \n",
       "1 fatty acid beta-oxidation (GO:0006635) 0.04769874 0.5196507 0.1095412\n",
       "2 fatty acid oxidation (GO:0019395)      0.01440044 0.4032124 0.2005132\n",
       "  ES         NES       size leadingEdge  score    \n",
       "1 -0.4209796 -1.407266 38   ECI2, PP.... -1.321493\n",
       "2 -0.4713915 -1.556346 36   PPARD, A.... -1.841624"
      ]
     },
     "metadata": {},
     "output_type": "display_data"
    }
   ],
   "source": [
    "o[o$pval<0.05,]"
   ]
  },
  {
   "cell_type": "code",
   "execution_count": 30,
   "id": "423e8df8-a547-4d8d-b517-d9ba558f69e9",
   "metadata": {},
   "outputs": [],
   "source": [
    "##### divide into low vs high ABCA7 expressors"
   ]
  },
  {
   "cell_type": "code",
   "execution_count": 116,
   "id": "5e381ba2-7139-46b7-b786-67cdd9135d64",
   "metadata": {},
   "outputs": [],
   "source": [
    "x = cpm(counts_keep2)\n",
    "index = meta_keep2$rs3752246_binary==0\n",
    "m_2 = meta_keep2[index,]"
   ]
  },
  {
   "cell_type": "code",
   "execution_count": 124,
   "id": "12fbcd19-6314-43b0-8dda-f717f23d1438",
   "metadata": {},
   "outputs": [],
   "source": [
    "lower = mean(x['ABCA7',index])-(.5*sd(x['ABCA7',index]))\n",
    "higher = mean(x['ABCA7',index])+(.5*sd(x['ABCA7',index]))"
   ]
  },
  {
   "cell_type": "code",
   "execution_count": 125,
   "id": "a06a8c0a-d8de-4ca9-a58e-90723cf3f91c",
   "metadata": {},
   "outputs": [
    {
     "data": {
      "text/html": [
       "67"
      ],
      "text/latex": [
       "67"
      ],
      "text/markdown": [
       "67"
      ],
      "text/plain": [
       "[1] 67"
      ]
     },
     "metadata": {},
     "output_type": "display_data"
    }
   ],
   "source": [
    "sum(x['ABCA7',index]<lower)"
   ]
  },
  {
   "cell_type": "code",
   "execution_count": 126,
   "id": "6d2970d5-b71a-4dd9-b77f-e718e7c105a7",
   "metadata": {},
   "outputs": [
    {
     "data": {
      "text/html": [
       "57"
      ],
      "text/latex": [
       "57"
      ],
      "text/markdown": [
       "57"
      ],
      "text/plain": [
       "[1] 57"
      ]
     },
     "metadata": {},
     "output_type": "display_data"
    }
   ],
   "source": [
    "sum(x['ABCA7',index]>higher)"
   ]
  },
  {
   "cell_type": "code",
   "execution_count": 127,
   "id": "bd052abb-7f95-44da-a193-b1302c33d4dc",
   "metadata": {},
   "outputs": [],
   "source": [
    "m_2$grp = ifelse(x['ABCA7',index]<lower, 1, ifelse(x['ABCA7',index]>higher, 0, 2))"
   ]
  },
  {
   "cell_type": "code",
   "execution_count": 128,
   "id": "1a59992c-2859-4071-b685-edc91eef44a4",
   "metadata": {},
   "outputs": [],
   "source": [
    "m_22 = m_2[m_2$grp!=2,]"
   ]
  },
  {
   "cell_type": "code",
   "execution_count": 132,
   "id": "499f5b91-4eee-4a56-af53-a88d5bef1640",
   "metadata": {},
   "outputs": [],
   "source": [
    "c = counts_keep2[,index][,(m_2$grp!=2)]"
   ]
  },
  {
   "cell_type": "code",
   "execution_count": 133,
   "id": "5e106042-597e-4ba1-8c8d-ed08c259cba3",
   "metadata": {},
   "outputs": [
    {
     "name": "stdout",
     "output_type": "stream",
     "text": [
      "Number of significant surrogate variables is:  10 \n",
      "Iteration (out of 5 ):1  2  3  4  5  "
     ]
    }
   ],
   "source": [
    "mod1 <- model.matrix(~grp + amyloid +nft + msex + age_death + apoe + pmi + seq_batch + niareagansc, data = m_22)\n",
    "mod0 <- model.matrix(~ amyloid +nft + msex + age_death + apoe + pmi + seq_batch + niareagansc, data = m_22)\n",
    "\n",
    "out = compute_degs(c, mod1, mod0, 'grp')\n",
    "curr = out$res1\n",
    "scores = sign(curr$logFC) * -log10(curr$P.Value)\n",
    "names(scores) = rownames(curr)"
   ]
  },
  {
   "cell_type": "code",
   "execution_count": 134,
   "id": "39f45685-26f2-4234-a19e-b830cf06e165",
   "metadata": {},
   "outputs": [
    {
     "name": "stdout",
     "output_type": "stream",
     "text": [
      "  |======================================================================| 100%\n",
      "\n"
     ]
    }
   ],
   "source": [
    "# compute fgsea results rs3752246\n",
    "paths = read.csv('../supplementary_tables/data_s8.csv')\n",
    "paths = paths[paths$is_gene=='True',]\n",
    "P = list()\n",
    "for(i in unique(paths$cluster)){\n",
    "    P[[as.character(i)]] = paths[paths$cluster==i,'description']\n",
    "}      \n",
    "\n",
    "o = fgsea(pathways = P, stats = scores, minSize = 5, maxSize = 1000, nproc=1, nPermSimple=10000)\n",
    "o = o[order(o$pval,decreasing=T),]\n",
    "o$score = sign(o$NES) * -log10(o$pval)\n",
    "o$pathway = factor(o$pathway, levels = o$pathway)"
   ]
  },
  {
   "cell_type": "code",
   "execution_count": 135,
   "id": "3aae7e47-d641-4391-937b-d13e48f3b5b3",
   "metadata": {},
   "outputs": [
    {
     "data": {
      "text/html": [
       "<table class=\"dataframe\">\n",
       "<caption>A data.table: 8 × 9</caption>\n",
       "<thead>\n",
       "\t<tr><th scope=col>pathway</th><th scope=col>pval</th><th scope=col>padj</th><th scope=col>log2err</th><th scope=col>ES</th><th scope=col>NES</th><th scope=col>size</th><th scope=col>leadingEdge</th><th scope=col>score</th></tr>\n",
       "\t<tr><th scope=col>&lt;fct&gt;</th><th scope=col>&lt;dbl&gt;</th><th scope=col>&lt;dbl&gt;</th><th scope=col>&lt;dbl&gt;</th><th scope=col>&lt;dbl&gt;</th><th scope=col>&lt;dbl&gt;</th><th scope=col>&lt;int&gt;</th><th scope=col>&lt;list&gt;</th><th scope=col>&lt;dbl&gt;</th></tr>\n",
       "</thead>\n",
       "<tbody>\n",
       "\t<tr><td>1</td><td>8.913374e-01</td><td>8.913374e-01</td><td>0.01534667</td><td>-0.2487520</td><td>-0.7442796</td><td>38</td><td>PALB2, M....</td><td>-0.04995788</td></tr>\n",
       "\t<tr><td>5</td><td>7.678571e-01</td><td>8.775510e-01</td><td>0.01751778</td><td>-0.2758804</td><td>-0.8254492</td><td>38</td><td>POLA2, C....</td><td>-0.11471957</td></tr>\n",
       "\t<tr><td>0</td><td>7.632979e-01</td><td>8.775510e-01</td><td>0.01760537</td><td>-0.2771649</td><td>-0.8292926</td><td>38</td><td>OPRD1, D....</td><td>-0.11730595</td></tr>\n",
       "\t<tr><td>2</td><td>4.955058e-01</td><td>7.928093e-01</td><td>0.02439950</td><td>-0.3409914</td><td>-0.9738983</td><td>31</td><td>NADK, AC....</td><td>-0.30495123</td></tr>\n",
       "\t<tr><td>3</td><td>2.916405e-01</td><td>5.832810e-01</td><td>0.03588380</td><td> 0.3523708</td><td> 1.0995666</td><td>43</td><td>UBB, PSM....</td><td> 0.53515220</td></tr>\n",
       "\t<tr><td>6</td><td>1.158727e-01</td><td>3.089938e-01</td><td>0.05943045</td><td> 0.5207493</td><td> 1.3360347</td><td>18</td><td>PTRH2, J....</td><td> 0.93601893</td></tr>\n",
       "\t<tr><td>4</td><td>2.388851e-03</td><td>9.555405e-03</td><td>0.43170770</td><td>-0.6941308</td><td>-1.7996712</td><td>20</td><td>DDB2, PI....</td><td>-2.62181090</td></tr>\n",
       "\t<tr><td>7</td><td>5.086930e-08</td><td>4.069544e-07</td><td>0.71951283</td><td> 0.7428782</td><td> 2.2819251</td><td>40</td><td>NDUFA4, ....</td><td> 7.29354426</td></tr>\n",
       "</tbody>\n",
       "</table>\n"
      ],
      "text/latex": [
       "A data.table: 8 × 9\n",
       "\\begin{tabular}{lllllllll}\n",
       " pathway & pval & padj & log2err & ES & NES & size & leadingEdge & score\\\\\n",
       " <fct> & <dbl> & <dbl> & <dbl> & <dbl> & <dbl> & <int> & <list> & <dbl>\\\\\n",
       "\\hline\n",
       "\t 1 & 8.913374e-01 & 8.913374e-01 & 0.01534667 & -0.2487520 & -0.7442796 & 38 & PALB2, M.... & -0.04995788\\\\\n",
       "\t 5 & 7.678571e-01 & 8.775510e-01 & 0.01751778 & -0.2758804 & -0.8254492 & 38 & POLA2, C.... & -0.11471957\\\\\n",
       "\t 0 & 7.632979e-01 & 8.775510e-01 & 0.01760537 & -0.2771649 & -0.8292926 & 38 & OPRD1, D.... & -0.11730595\\\\\n",
       "\t 2 & 4.955058e-01 & 7.928093e-01 & 0.02439950 & -0.3409914 & -0.9738983 & 31 & NADK, AC.... & -0.30495123\\\\\n",
       "\t 3 & 2.916405e-01 & 5.832810e-01 & 0.03588380 &  0.3523708 &  1.0995666 & 43 & UBB, PSM.... &  0.53515220\\\\\n",
       "\t 6 & 1.158727e-01 & 3.089938e-01 & 0.05943045 &  0.5207493 &  1.3360347 & 18 & PTRH2, J.... &  0.93601893\\\\\n",
       "\t 4 & 2.388851e-03 & 9.555405e-03 & 0.43170770 & -0.6941308 & -1.7996712 & 20 & DDB2, PI.... & -2.62181090\\\\\n",
       "\t 7 & 5.086930e-08 & 4.069544e-07 & 0.71951283 &  0.7428782 &  2.2819251 & 40 & NDUFA4, .... &  7.29354426\\\\\n",
       "\\end{tabular}\n"
      ],
      "text/markdown": [
       "\n",
       "A data.table: 8 × 9\n",
       "\n",
       "| pathway &lt;fct&gt; | pval &lt;dbl&gt; | padj &lt;dbl&gt; | log2err &lt;dbl&gt; | ES &lt;dbl&gt; | NES &lt;dbl&gt; | size &lt;int&gt; | leadingEdge &lt;list&gt; | score &lt;dbl&gt; |\n",
       "|---|---|---|---|---|---|---|---|---|\n",
       "| 1 | 8.913374e-01 | 8.913374e-01 | 0.01534667 | -0.2487520 | -0.7442796 | 38 | PALB2, M.... | -0.04995788 |\n",
       "| 5 | 7.678571e-01 | 8.775510e-01 | 0.01751778 | -0.2758804 | -0.8254492 | 38 | POLA2, C.... | -0.11471957 |\n",
       "| 0 | 7.632979e-01 | 8.775510e-01 | 0.01760537 | -0.2771649 | -0.8292926 | 38 | OPRD1, D.... | -0.11730595 |\n",
       "| 2 | 4.955058e-01 | 7.928093e-01 | 0.02439950 | -0.3409914 | -0.9738983 | 31 | NADK, AC.... | -0.30495123 |\n",
       "| 3 | 2.916405e-01 | 5.832810e-01 | 0.03588380 |  0.3523708 |  1.0995666 | 43 | UBB, PSM.... |  0.53515220 |\n",
       "| 6 | 1.158727e-01 | 3.089938e-01 | 0.05943045 |  0.5207493 |  1.3360347 | 18 | PTRH2, J.... |  0.93601893 |\n",
       "| 4 | 2.388851e-03 | 9.555405e-03 | 0.43170770 | -0.6941308 | -1.7996712 | 20 | DDB2, PI.... | -2.62181090 |\n",
       "| 7 | 5.086930e-08 | 4.069544e-07 | 0.71951283 |  0.7428782 |  2.2819251 | 40 | NDUFA4, .... |  7.29354426 |\n",
       "\n"
      ],
      "text/plain": [
       "  pathway pval         padj         log2err    ES         NES        size\n",
       "1 1       8.913374e-01 8.913374e-01 0.01534667 -0.2487520 -0.7442796 38  \n",
       "2 5       7.678571e-01 8.775510e-01 0.01751778 -0.2758804 -0.8254492 38  \n",
       "3 0       7.632979e-01 8.775510e-01 0.01760537 -0.2771649 -0.8292926 38  \n",
       "4 2       4.955058e-01 7.928093e-01 0.02439950 -0.3409914 -0.9738983 31  \n",
       "5 3       2.916405e-01 5.832810e-01 0.03588380  0.3523708  1.0995666 43  \n",
       "6 6       1.158727e-01 3.089938e-01 0.05943045  0.5207493  1.3360347 18  \n",
       "7 4       2.388851e-03 9.555405e-03 0.43170770 -0.6941308 -1.7996712 20  \n",
       "8 7       5.086930e-08 4.069544e-07 0.71951283  0.7428782  2.2819251 40  \n",
       "  leadingEdge  score      \n",
       "1 PALB2, M.... -0.04995788\n",
       "2 POLA2, C.... -0.11471957\n",
       "3 OPRD1, D.... -0.11730595\n",
       "4 NADK, AC.... -0.30495123\n",
       "5 UBB, PSM....  0.53515220\n",
       "6 PTRH2, J....  0.93601893\n",
       "7 DDB2, PI.... -2.62181090\n",
       "8 NDUFA4, ....  7.29354426"
      ]
     },
     "metadata": {},
     "output_type": "display_data"
    }
   ],
   "source": [
    "o"
   ]
  },
  {
   "cell_type": "code",
   "execution_count": 110,
   "id": "923cf825-6711-4ce4-b5ee-66aa08750538",
   "metadata": {},
   "outputs": [],
   "source": [
    "x = o[order(o$pval,decreasing=FALSE),]\n",
    "x$leadingEdge = NULL\n",
    "\n",
    "write.csv(x, '../processed_data/common_var/exp_cluster_effects.csv')\n",
    "write.csv(as.data.frame(scores), '../processed_data/common_var/exp_binary_scores.csv')"
   ]
  },
  {
   "cell_type": "code",
   "execution_count": 37,
   "id": "fd10dded-b379-45f8-9c5b-8c8c74f17a3b",
   "metadata": {},
   "outputs": [],
   "source": [
    "# specific paths\n",
    "pathways = readRDS('../../ABCA7lof/processed_data/pathway_databases/pathways.rds')$all_paths\n",
    "\n",
    "o = get_gset_names_by_category(c('oxidation', 'TCA', 'lipolysis'), names(pathways))\n",
    "temp2 = pathways[o]"
   ]
  },
  {
   "cell_type": "code",
   "execution_count": 38,
   "id": "1da3ddd9-f032-4f55-bd1e-5337e88e5db7",
   "metadata": {},
   "outputs": [
    {
     "name": "stdout",
     "output_type": "stream",
     "text": [
      "  |======================================================================| 100%\n",
      "\n"
     ]
    }
   ],
   "source": [
    "o = fgsea(pathways = temp2, stats = scores, minSize = 5, maxSize = 1000, nproc=1, nPermSimple=10000)\n",
    "o = o[order(o$pval,decreasing=T),]\n",
    "o$score = sign(o$NES) * -log10(o$pval)\n",
    "o$pathway = factor(o$pathway, levels = o$pathway)"
   ]
  },
  {
   "cell_type": "code",
   "execution_count": 39,
   "id": "75b5672b-37cb-4c55-aee9-9b7c87cb0126",
   "metadata": {},
   "outputs": [
    {
     "data": {
      "text/html": [
       "<table class=\"dataframe\">\n",
       "<caption>A data.table: 1 × 9</caption>\n",
       "<thead>\n",
       "\t<tr><th scope=col>pathway</th><th scope=col>pval</th><th scope=col>padj</th><th scope=col>log2err</th><th scope=col>ES</th><th scope=col>NES</th><th scope=col>size</th><th scope=col>leadingEdge</th><th scope=col>score</th></tr>\n",
       "\t<tr><th scope=col>&lt;fct&gt;</th><th scope=col>&lt;dbl&gt;</th><th scope=col>&lt;dbl&gt;</th><th scope=col>&lt;dbl&gt;</th><th scope=col>&lt;dbl&gt;</th><th scope=col>&lt;dbl&gt;</th><th scope=col>&lt;int&gt;</th><th scope=col>&lt;list&gt;</th><th scope=col>&lt;dbl&gt;</th></tr>\n",
       "</thead>\n",
       "<tbody>\n",
       "\t<tr><td>The citric acid (TCA) cycle and respiratory electron transport Homo sapiens R-HSA-1428517</td><td>0.000679014</td><td>0.01901239</td><td>0.4772708</td><td>-0.4245535</td><td>-1.591999</td><td>124</td><td>PDHB, ND....</td><td>-3.168121</td></tr>\n",
       "</tbody>\n",
       "</table>\n"
      ],
      "text/latex": [
       "A data.table: 1 × 9\n",
       "\\begin{tabular}{lllllllll}\n",
       " pathway & pval & padj & log2err & ES & NES & size & leadingEdge & score\\\\\n",
       " <fct> & <dbl> & <dbl> & <dbl> & <dbl> & <dbl> & <int> & <list> & <dbl>\\\\\n",
       "\\hline\n",
       "\t The citric acid (TCA) cycle and respiratory electron transport Homo sapiens R-HSA-1428517 & 0.000679014 & 0.01901239 & 0.4772708 & -0.4245535 & -1.591999 & 124 & PDHB, ND.... & -3.168121\\\\\n",
       "\\end{tabular}\n"
      ],
      "text/markdown": [
       "\n",
       "A data.table: 1 × 9\n",
       "\n",
       "| pathway &lt;fct&gt; | pval &lt;dbl&gt; | padj &lt;dbl&gt; | log2err &lt;dbl&gt; | ES &lt;dbl&gt; | NES &lt;dbl&gt; | size &lt;int&gt; | leadingEdge &lt;list&gt; | score &lt;dbl&gt; |\n",
       "|---|---|---|---|---|---|---|---|---|\n",
       "| The citric acid (TCA) cycle and respiratory electron transport Homo sapiens R-HSA-1428517 | 0.000679014 | 0.01901239 | 0.4772708 | -0.4245535 | -1.591999 | 124 | PDHB, ND.... | -3.168121 |\n",
       "\n"
      ],
      "text/plain": [
       "  pathway                                                                                  \n",
       "1 The citric acid (TCA) cycle and respiratory electron transport Homo sapiens R-HSA-1428517\n",
       "  pval        padj       log2err   ES         NES       size leadingEdge \n",
       "1 0.000679014 0.01901239 0.4772708 -0.4245535 -1.591999 124  PDHB, ND....\n",
       "  score    \n",
       "1 -3.168121"
      ]
     },
     "metadata": {},
     "output_type": "display_data"
    }
   ],
   "source": [
    "o[o$pval<0.05,]"
   ]
  },
  {
   "cell_type": "code",
   "execution_count": 40,
   "id": "da2ac83b-d991-4fd7-a22d-b18503cec606",
   "metadata": {},
   "outputs": [],
   "source": [
    "# specific paths\n",
    "pathways = readRDS('../../ABCA7lof/processed_data/pathway_databases/pathways.rds')$all_paths\n",
    "\n",
    "o = get_gset_names_by_category(c('lipid biosynthesis', 'lipid storage', 'lipid synthesis', 'response to lipid', 'Fatty Acyl-CoA Biosynthesis', 'Triglyceride Biosynthesis'), names(pathways))\n",
    "temp2 = pathways[o]"
   ]
  },
  {
   "cell_type": "code",
   "execution_count": 41,
   "id": "3220e8a1-072f-448a-bea0-772f5d37946b",
   "metadata": {},
   "outputs": [],
   "source": [
    "o = fgsea(pathways = temp2, stats = scores, minSize = 5, maxSize = 1000, nproc=1, nPermSimple=10000)\n",
    "o = o[order(o$pval,decreasing=T),]\n",
    "o$score = sign(o$NES) * -log10(o$pval)\n",
    "o$pathway = factor(o$pathway, levels = o$pathway)"
   ]
  },
  {
   "cell_type": "code",
   "execution_count": 42,
   "id": "a271bdf0-c7c4-49e3-933d-4079ff821bc7",
   "metadata": {},
   "outputs": [
    {
     "data": {
      "text/html": [
       "<table class=\"dataframe\">\n",
       "<caption>A data.table: 9 × 9</caption>\n",
       "<thead>\n",
       "\t<tr><th scope=col>pathway</th><th scope=col>pval</th><th scope=col>padj</th><th scope=col>log2err</th><th scope=col>ES</th><th scope=col>NES</th><th scope=col>size</th><th scope=col>leadingEdge</th><th scope=col>score</th></tr>\n",
       "\t<tr><th scope=col>&lt;fct&gt;</th><th scope=col>&lt;dbl&gt;</th><th scope=col>&lt;dbl&gt;</th><th scope=col>&lt;dbl&gt;</th><th scope=col>&lt;dbl&gt;</th><th scope=col>&lt;dbl&gt;</th><th scope=col>&lt;int&gt;</th><th scope=col>&lt;list&gt;</th><th scope=col>&lt;dbl&gt;</th></tr>\n",
       "</thead>\n",
       "<tbody>\n",
       "\t<tr><td>Fatty Acyl-CoA Biosynthesis Homo sapiens R-HSA-75105       </td><td>0.99204508</td><td>0.9920451</td><td>0.01181561</td><td> 0.2059278</td><td> 0.5312110</td><td>26</td><td>ACSL4, S....</td><td> 0.003468593</td></tr>\n",
       "\t<tr><td>response to lipid (GO:0033993)                             </td><td>0.97725490</td><td>0.9920451</td><td>0.01122446</td><td> 0.2216076</td><td> 0.6356426</td><td>44</td><td>TNFRSF14....</td><td> 0.009992142</td></tr>\n",
       "\t<tr><td>negative regulation of lipid storage (GO:0010888)          </td><td>0.96496081</td><td>0.9920451</td><td>0.01700454</td><td>-0.2541838</td><td>-0.5545680</td><td>10</td><td>       ABHD5</td><td>-0.015490324</td></tr>\n",
       "\t<tr><td>SREBP control of lipid synthesis Homo sapiens h s1pPathway </td><td>0.94242369</td><td>0.9920451</td><td>0.01398541</td><td> 0.3042188</td><td> 0.5745047</td><td> 7</td><td>SREBF1, ....</td><td> 0.025753806</td></tr>\n",
       "\t<tr><td>positive regulation of lipid storage (GO:0010884)          </td><td>0.92098446</td><td>0.9920451</td><td>0.01449528</td><td> 0.3238498</td><td> 0.5906494</td><td> 6</td><td>VSTM2A, ....</td><td> 0.035747700</td></tr>\n",
       "\t<tr><td>Triglyceride Biosynthesis Homo sapiens R-HSA-75109         </td><td>0.89631629</td><td>0.9920451</td><td>0.01267345</td><td> 0.2609708</td><td> 0.7322656</td><td>39</td><td>DGAT1, L....</td><td> 0.047538710</td></tr>\n",
       "\t<tr><td>cellular response to lipid (GO:0071396)                    </td><td>0.54691176</td><td>0.9920451</td><td>0.01875119</td><td> 0.3032550</td><td> 0.9500656</td><td>75</td><td>MEF2C, B....</td><td> 0.262082734</td></tr>\n",
       "\t<tr><td>Glycerophospholipid biosynthesis Homo sapiens R-HSA-1483206</td><td>0.25840304</td><td>0.9920451</td><td>0.03189497</td><td> 0.3688361</td><td> 1.1227457</td><td>63</td><td>SLC44A2,....</td><td> 0.587702378</td></tr>\n",
       "\t<tr><td>Glycosphingolipid biosynthesis                             </td><td>0.07859393</td><td>0.7073454</td><td>0.06471153</td><td> 0.5532750</td><td> 1.3943182</td><td>23</td><td>ST6GALNA....</td><td> 1.104610987</td></tr>\n",
       "</tbody>\n",
       "</table>\n"
      ],
      "text/latex": [
       "A data.table: 9 × 9\n",
       "\\begin{tabular}{lllllllll}\n",
       " pathway & pval & padj & log2err & ES & NES & size & leadingEdge & score\\\\\n",
       " <fct> & <dbl> & <dbl> & <dbl> & <dbl> & <dbl> & <int> & <list> & <dbl>\\\\\n",
       "\\hline\n",
       "\t Fatty Acyl-CoA Biosynthesis Homo sapiens R-HSA-75105        & 0.99204508 & 0.9920451 & 0.01181561 &  0.2059278 &  0.5312110 & 26 & ACSL4, S.... &  0.003468593\\\\\n",
       "\t response to lipid (GO:0033993)                              & 0.97725490 & 0.9920451 & 0.01122446 &  0.2216076 &  0.6356426 & 44 & TNFRSF14.... &  0.009992142\\\\\n",
       "\t negative regulation of lipid storage (GO:0010888)           & 0.96496081 & 0.9920451 & 0.01700454 & -0.2541838 & -0.5545680 & 10 &        ABHD5 & -0.015490324\\\\\n",
       "\t SREBP control of lipid synthesis Homo sapiens h s1pPathway  & 0.94242369 & 0.9920451 & 0.01398541 &  0.3042188 &  0.5745047 &  7 & SREBF1, .... &  0.025753806\\\\\n",
       "\t positive regulation of lipid storage (GO:0010884)           & 0.92098446 & 0.9920451 & 0.01449528 &  0.3238498 &  0.5906494 &  6 & VSTM2A, .... &  0.035747700\\\\\n",
       "\t Triglyceride Biosynthesis Homo sapiens R-HSA-75109          & 0.89631629 & 0.9920451 & 0.01267345 &  0.2609708 &  0.7322656 & 39 & DGAT1, L.... &  0.047538710\\\\\n",
       "\t cellular response to lipid (GO:0071396)                     & 0.54691176 & 0.9920451 & 0.01875119 &  0.3032550 &  0.9500656 & 75 & MEF2C, B.... &  0.262082734\\\\\n",
       "\t Glycerophospholipid biosynthesis Homo sapiens R-HSA-1483206 & 0.25840304 & 0.9920451 & 0.03189497 &  0.3688361 &  1.1227457 & 63 & SLC44A2,.... &  0.587702378\\\\\n",
       "\t Glycosphingolipid biosynthesis                              & 0.07859393 & 0.7073454 & 0.06471153 &  0.5532750 &  1.3943182 & 23 & ST6GALNA.... &  1.104610987\\\\\n",
       "\\end{tabular}\n"
      ],
      "text/markdown": [
       "\n",
       "A data.table: 9 × 9\n",
       "\n",
       "| pathway &lt;fct&gt; | pval &lt;dbl&gt; | padj &lt;dbl&gt; | log2err &lt;dbl&gt; | ES &lt;dbl&gt; | NES &lt;dbl&gt; | size &lt;int&gt; | leadingEdge &lt;list&gt; | score &lt;dbl&gt; |\n",
       "|---|---|---|---|---|---|---|---|---|\n",
       "| Fatty Acyl-CoA Biosynthesis Homo sapiens R-HSA-75105        | 0.99204508 | 0.9920451 | 0.01181561 |  0.2059278 |  0.5312110 | 26 | ACSL4, S.... |  0.003468593 |\n",
       "| response to lipid (GO:0033993)                              | 0.97725490 | 0.9920451 | 0.01122446 |  0.2216076 |  0.6356426 | 44 | TNFRSF14.... |  0.009992142 |\n",
       "| negative regulation of lipid storage (GO:0010888)           | 0.96496081 | 0.9920451 | 0.01700454 | -0.2541838 | -0.5545680 | 10 |        ABHD5 | -0.015490324 |\n",
       "| SREBP control of lipid synthesis Homo sapiens h s1pPathway  | 0.94242369 | 0.9920451 | 0.01398541 |  0.3042188 |  0.5745047 |  7 | SREBF1, .... |  0.025753806 |\n",
       "| positive regulation of lipid storage (GO:0010884)           | 0.92098446 | 0.9920451 | 0.01449528 |  0.3238498 |  0.5906494 |  6 | VSTM2A, .... |  0.035747700 |\n",
       "| Triglyceride Biosynthesis Homo sapiens R-HSA-75109          | 0.89631629 | 0.9920451 | 0.01267345 |  0.2609708 |  0.7322656 | 39 | DGAT1, L.... |  0.047538710 |\n",
       "| cellular response to lipid (GO:0071396)                     | 0.54691176 | 0.9920451 | 0.01875119 |  0.3032550 |  0.9500656 | 75 | MEF2C, B.... |  0.262082734 |\n",
       "| Glycerophospholipid biosynthesis Homo sapiens R-HSA-1483206 | 0.25840304 | 0.9920451 | 0.03189497 |  0.3688361 |  1.1227457 | 63 | SLC44A2,.... |  0.587702378 |\n",
       "| Glycosphingolipid biosynthesis                              | 0.07859393 | 0.7073454 | 0.06471153 |  0.5532750 |  1.3943182 | 23 | ST6GALNA.... |  1.104610987 |\n",
       "\n"
      ],
      "text/plain": [
       "  pathway                                                     pval      \n",
       "1 Fatty Acyl-CoA Biosynthesis Homo sapiens R-HSA-75105        0.99204508\n",
       "2 response to lipid (GO:0033993)                              0.97725490\n",
       "3 negative regulation of lipid storage (GO:0010888)           0.96496081\n",
       "4 SREBP control of lipid synthesis Homo sapiens h s1pPathway  0.94242369\n",
       "5 positive regulation of lipid storage (GO:0010884)           0.92098446\n",
       "6 Triglyceride Biosynthesis Homo sapiens R-HSA-75109          0.89631629\n",
       "7 cellular response to lipid (GO:0071396)                     0.54691176\n",
       "8 Glycerophospholipid biosynthesis Homo sapiens R-HSA-1483206 0.25840304\n",
       "9 Glycosphingolipid biosynthesis                              0.07859393\n",
       "  padj      log2err    ES         NES        size leadingEdge  score       \n",
       "1 0.9920451 0.01181561  0.2059278  0.5312110 26   ACSL4, S....  0.003468593\n",
       "2 0.9920451 0.01122446  0.2216076  0.6356426 44   TNFRSF14....  0.009992142\n",
       "3 0.9920451 0.01700454 -0.2541838 -0.5545680 10          ABHD5 -0.015490324\n",
       "4 0.9920451 0.01398541  0.3042188  0.5745047  7   SREBF1, ....  0.025753806\n",
       "5 0.9920451 0.01449528  0.3238498  0.5906494  6   VSTM2A, ....  0.035747700\n",
       "6 0.9920451 0.01267345  0.2609708  0.7322656 39   DGAT1, L....  0.047538710\n",
       "7 0.9920451 0.01875119  0.3032550  0.9500656 75   MEF2C, B....  0.262082734\n",
       "8 0.9920451 0.03189497  0.3688361  1.1227457 63   SLC44A2,....  0.587702378\n",
       "9 0.7073454 0.06471153  0.5532750  1.3943182 23   ST6GALNA....  1.104610987"
      ]
     },
     "metadata": {},
     "output_type": "display_data"
    }
   ],
   "source": [
    "o"
   ]
  },
  {
   "cell_type": "code",
   "execution_count": 46,
   "id": "f738d25a-01b8-4588-a80f-c369d7f87d91",
   "metadata": {},
   "outputs": [
    {
     "data": {
      "image/png": "[encoded data removed]",
      "text/plain": [
       "Plot with title “Histogram of x_2[\"ABCA7\", ]”"
      ]
     },
     "metadata": {
      "image/png": {
       "height": 420,
       "width": 420
      }
     },
     "output_type": "display_data"
    }
   ],
   "source": [
    "hist(x_2['ABCA7',], 100)"
   ]
  },
  {
   "cell_type": "code",
   "execution_count": 58,
   "id": "2251bf12-3d12-4d9d-9916-254ce987f91f",
   "metadata": {},
   "outputs": [
    {
     "data": {
      "text/html": [
       "<style>\n",
       ".list-inline {list-style: none; margin:0; padding: 0}\n",
       ".list-inline>li {display: inline-block}\n",
       ".list-inline>li:not(:last-child)::after {content: \"\\00b7\"; padding: 0 .5ex}\n",
       "</style>\n",
       "<ol class=list-inline><li>10226</li><li>360</li></ol>\n"
      ],
      "text/latex": [
       "\\begin{enumerate*}\n",
       "\\item 10226\n",
       "\\item 360\n",
       "\\end{enumerate*}\n"
      ],
      "text/markdown": [
       "1. 10226\n",
       "2. 360\n",
       "\n",
       "\n"
      ],
      "text/plain": [
       "[1] 10226   360"
      ]
     },
     "metadata": {},
     "output_type": "display_data"
    }
   ],
   "source": [
    "dim(counts_keep2)"
   ]
  },
  {
   "cell_type": "code",
   "execution_count": 63,
   "id": "d4e85617-2ffa-488e-bdf9-2009bcdd70a1",
   "metadata": {},
   "outputs": [],
   "source": [
    "##### module activities / correlations\n",
    "x = cpm(counts_keep2)#[,index])\n"
   ]
  },
  {
   "cell_type": "code",
   "execution_count": 64,
   "id": "03199516-8f6b-4686-8493-0198239101d2",
   "metadata": {},
   "outputs": [],
   "source": [
    "write.csv(x, '../processed_data/common_var/cpm.csv')"
   ]
  },
  {
   "cell_type": "code",
   "execution_count": 83,
   "id": "20b40bcf-f219-4b97-8349-051204fede29",
   "metadata": {},
   "outputs": [],
   "source": [
    "gsva_out = read.csv( '../processed_data/common_var/gsva_out.csv', check.names=F, row.names=1)"
   ]
  },
  {
   "cell_type": "code",
   "execution_count": 86,
   "id": "999e671f-636b-474a-af01-715cb410a172",
   "metadata": {},
   "outputs": [],
   "source": [
    "gsva_out = t(gsva_out)"
   ]
  },
  {
   "cell_type": "code",
   "execution_count": 88,
   "id": "b1ada1ce-b210-44b6-b337-d15164db7176",
   "metadata": {},
   "outputs": [],
   "source": [
    "colnames(gsva_out) = paste0('cluster_', colnames(gsva_out))"
   ]
  },
  {
   "cell_type": "code",
   "execution_count": 91,
   "id": "e8f8c227-110c-408d-8520-0ecb75a5a775",
   "metadata": {},
   "outputs": [],
   "source": [
    "meta_keep2_all = cbind(meta_keep2,gsva_out)"
   ]
  },
  {
   "cell_type": "code",
   "execution_count": 94,
   "id": "9f74776f-0bfc-4d06-9bad-9b70972fbe4a",
   "metadata": {},
   "outputs": [],
   "source": [
    "# functions\n",
    "compute_degs = function (counts.df, mod1, mod0,var, n.sv = NULL)\n",
    "{\n",
    "    dge <- DGEList(cpm = counts.df)\n",
    "\n",
    "    v <- voom(dge, design = mod1)\n",
    "    if (is.null(n.sv)) {\n",
    "        n.sv <- num.sv(v$E, mod1, method = \"be\")\n",
    "    }\n",
    "    svobj <- sva(v$E, mod1, mod0, n.sv = n.sv)\n",
    "    mod1 <- cbind(mod1, svobj$sv)\n",
    "    v <- voom(dge, design = mod1)\n",
    "    fit <- lmFit(v, design = mod1)\n",
    "    fit <- eBayes(fit)\n",
    "    #res1 <- topTable(fit, coef = \"rs3752246\", n = Inf, sort.by = \"p\")\n",
    "    res1 <- topTable(fit, coef =var, n = Inf, sort.by = \"p\")\n",
    "    return(list(res1 = res1, C = svobj$sv, mod=mod1))\n",
    "}"
   ]
  },
  {
   "cell_type": "code",
   "execution_count": 100,
   "id": "4cb28d4e-2df0-4115-9f13-1aab52bac8a8",
   "metadata": {},
   "outputs": [],
   "source": [
    "# compute DEGs rs3752246\n",
    "# remove any LOF individuals\n",
    "\n",
    "\n",
    "mod1 <- model.matrix(~cluster_7 + amyloid + nft + msex + age_death + apoe + pmi + seq_batch + niareagansc, data = meta_keep2_all)\n",
    "fit <- lmFit(t(gsva_out), design = mod1)\n",
    "fit <- eBayes(fit)\n",
    "res1 <- topTable(fit, coef ='cluster_7', n = Inf, sort.by = \"p\")"
   ]
  },
  {
   "cell_type": "code",
   "execution_count": 101,
   "id": "d4893c09-9169-45f8-9f24-9e510df7df4e",
   "metadata": {},
   "outputs": [
    {
     "data": {
      "text/html": [
       "<table class=\"dataframe\">\n",
       "<caption>A data.frame: 8 × 6</caption>\n",
       "<thead>\n",
       "\t<tr><th></th><th scope=col>logFC</th><th scope=col>AveExpr</th><th scope=col>t</th><th scope=col>P.Value</th><th scope=col>adj.P.Val</th><th scope=col>B</th></tr>\n",
       "\t<tr><th></th><th scope=col>&lt;dbl&gt;</th><th scope=col>&lt;dbl&gt;</th><th scope=col>&lt;dbl&gt;</th><th scope=col>&lt;dbl&gt;</th><th scope=col>&lt;dbl&gt;</th><th scope=col>&lt;dbl&gt;</th></tr>\n",
       "</thead>\n",
       "<tbody>\n",
       "\t<tr><th scope=row>cluster_7</th><td> 1.00000000</td><td>-0.0410817028</td><td>6628.315929</td><td>0.000000e+00</td><td>0.000000e+00</td><td>1967.069634</td></tr>\n",
       "\t<tr><th scope=row>cluster_3</th><td> 0.45247716</td><td>-0.0262787036</td><td>  18.888053</td><td>7.500030e-55</td><td>3.000012e-54</td><td> 110.657345</td></tr>\n",
       "\t<tr><th scope=row>cluster_4</th><td>-0.33500262</td><td>-0.0007279664</td><td>  -7.830699</td><td>6.301710e-14</td><td>1.680456e-13</td><td>  16.739955</td></tr>\n",
       "\t<tr><th scope=row>cluster_0</th><td> 0.11123921</td><td>-0.0035035512</td><td>   4.611926</td><td>5.665383e-06</td><td>1.133077e-05</td><td>  -1.177057</td></tr>\n",
       "\t<tr><th scope=row>cluster_2</th><td>-0.15196944</td><td>-0.0151646820</td><td>  -4.529103</td><td>8.219948e-06</td><td>1.315192e-05</td><td>  -1.534649</td></tr>\n",
       "\t<tr><th scope=row>cluster_5</th><td> 0.15373868</td><td>-0.0134876483</td><td>   3.843544</td><td>1.448277e-04</td><td>1.931036e-04</td><td>  -4.270560</td></tr>\n",
       "\t<tr><th scope=row>cluster_1</th><td>-0.14994698</td><td> 0.0033988799</td><td>  -3.047408</td><td>2.489771e-03</td><td>2.845453e-03</td><td>  -6.927366</td></tr>\n",
       "\t<tr><th scope=row>cluster_6</th><td>-0.08135637</td><td>-0.0138354532</td><td>  -2.772155</td><td>5.876743e-03</td><td>5.876743e-03</td><td>  -7.711013</td></tr>\n",
       "</tbody>\n",
       "</table>\n"
      ],
      "text/latex": [
       "A data.frame: 8 × 6\n",
       "\\begin{tabular}{r|llllll}\n",
       "  & logFC & AveExpr & t & P.Value & adj.P.Val & B\\\\\n",
       "  & <dbl> & <dbl> & <dbl> & <dbl> & <dbl> & <dbl>\\\\\n",
       "\\hline\n",
       "\tcluster\\_7 &  1.00000000 & -0.0410817028 & 6628.315929 & 0.000000e+00 & 0.000000e+00 & 1967.069634\\\\\n",
       "\tcluster\\_3 &  0.45247716 & -0.0262787036 &   18.888053 & 7.500030e-55 & 3.000012e-54 &  110.657345\\\\\n",
       "\tcluster\\_4 & -0.33500262 & -0.0007279664 &   -7.830699 & 6.301710e-14 & 1.680456e-13 &   16.739955\\\\\n",
       "\tcluster\\_0 &  0.11123921 & -0.0035035512 &    4.611926 & 5.665383e-06 & 1.133077e-05 &   -1.177057\\\\\n",
       "\tcluster\\_2 & -0.15196944 & -0.0151646820 &   -4.529103 & 8.219948e-06 & 1.315192e-05 &   -1.534649\\\\\n",
       "\tcluster\\_5 &  0.15373868 & -0.0134876483 &    3.843544 & 1.448277e-04 & 1.931036e-04 &   -4.270560\\\\\n",
       "\tcluster\\_1 & -0.14994698 &  0.0033988799 &   -3.047408 & 2.489771e-03 & 2.845453e-03 &   -6.927366\\\\\n",
       "\tcluster\\_6 & -0.08135637 & -0.0138354532 &   -2.772155 & 5.876743e-03 & 5.876743e-03 &   -7.711013\\\\\n",
       "\\end{tabular}\n"
      ],
      "text/markdown": [
       "\n",
       "A data.frame: 8 × 6\n",
       "\n",
       "| <!--/--> | logFC &lt;dbl&gt; | AveExpr &lt;dbl&gt; | t &lt;dbl&gt; | P.Value &lt;dbl&gt; | adj.P.Val &lt;dbl&gt; | B &lt;dbl&gt; |\n",
       "|---|---|---|---|---|---|---|\n",
       "| cluster_7 |  1.00000000 | -0.0410817028 | 6628.315929 | 0.000000e+00 | 0.000000e+00 | 1967.069634 |\n",
       "| cluster_3 |  0.45247716 | -0.0262787036 |   18.888053 | 7.500030e-55 | 3.000012e-54 |  110.657345 |\n",
       "| cluster_4 | -0.33500262 | -0.0007279664 |   -7.830699 | 6.301710e-14 | 1.680456e-13 |   16.739955 |\n",
       "| cluster_0 |  0.11123921 | -0.0035035512 |    4.611926 | 5.665383e-06 | 1.133077e-05 |   -1.177057 |\n",
       "| cluster_2 | -0.15196944 | -0.0151646820 |   -4.529103 | 8.219948e-06 | 1.315192e-05 |   -1.534649 |\n",
       "| cluster_5 |  0.15373868 | -0.0134876483 |    3.843544 | 1.448277e-04 | 1.931036e-04 |   -4.270560 |\n",
       "| cluster_1 | -0.14994698 |  0.0033988799 |   -3.047408 | 2.489771e-03 | 2.845453e-03 |   -6.927366 |\n",
       "| cluster_6 | -0.08135637 | -0.0138354532 |   -2.772155 | 5.876743e-03 | 5.876743e-03 |   -7.711013 |\n",
       "\n"
      ],
      "text/plain": [
       "          logFC       AveExpr       t           P.Value      adj.P.Val   \n",
       "cluster_7  1.00000000 -0.0410817028 6628.315929 0.000000e+00 0.000000e+00\n",
       "cluster_3  0.45247716 -0.0262787036   18.888053 7.500030e-55 3.000012e-54\n",
       "cluster_4 -0.33500262 -0.0007279664   -7.830699 6.301710e-14 1.680456e-13\n",
       "cluster_0  0.11123921 -0.0035035512    4.611926 5.665383e-06 1.133077e-05\n",
       "cluster_2 -0.15196944 -0.0151646820   -4.529103 8.219948e-06 1.315192e-05\n",
       "cluster_5  0.15373868 -0.0134876483    3.843544 1.448277e-04 1.931036e-04\n",
       "cluster_1 -0.14994698  0.0033988799   -3.047408 2.489771e-03 2.845453e-03\n",
       "cluster_6 -0.08135637 -0.0138354532   -2.772155 5.876743e-03 5.876743e-03\n",
       "          B          \n",
       "cluster_7 1967.069634\n",
       "cluster_3  110.657345\n",
       "cluster_4   16.739955\n",
       "cluster_0   -1.177057\n",
       "cluster_2   -1.534649\n",
       "cluster_5   -4.270560\n",
       "cluster_1   -6.927366\n",
       "cluster_6   -7.711013"
      ]
     },
     "metadata": {},
     "output_type": "display_data"
    }
   ],
   "source": [
    "res1"
   ]
  },
  {
   "cell_type": "code",
   "execution_count": 98,
   "id": "b2da357c-f505-4cf3-b59c-310b72b3b202",
   "metadata": {},
   "outputs": [
    {
     "data": {
      "text/html": [
       "<style>\n",
       ".list-inline {list-style: none; margin:0; padding: 0}\n",
       ".list-inline>li {display: inline-block}\n",
       ".list-inline>li:not(:last-child)::after {content: \"\\00b7\"; padding: 0 .5ex}\n",
       "</style>\n",
       "<ol class=list-inline><li>360</li><li>8</li></ol>\n"
      ],
      "text/latex": [
       "\\begin{enumerate*}\n",
       "\\item 360\n",
       "\\item 8\n",
       "\\end{enumerate*}\n"
      ],
      "text/markdown": [
       "1. 360\n",
       "2. 8\n",
       "\n",
       "\n"
      ],
      "text/plain": [
       "[1] 360   8"
      ]
     },
     "metadata": {},
     "output_type": "display_data"
    }
   ],
   "source": [
    "dim(gsva_out)"
   ]
  },
  {
   "cell_type": "code",
   "execution_count": null,
   "id": "7fb5723d-78b9-4292-94c6-b263a1dc03d0",
   "metadata": {},
   "outputs": [],
   "source": [
    "out = compute_degs(gsva_out, mod1, mod0, 'cluster_7')\n",
    "curr = out$res1\n",
    "scores = sign(curr$logFC) * -log10(curr$P.Value)\n",
    "names(scores) = rownames(curr)"
   ]
  },
  {
   "cell_type": "code",
   "execution_count": 96,
   "id": "e268e6b6-1838-4e64-902a-f140cf860b8e",
   "metadata": {},
   "outputs": [
    {
     "data": {
      "text/html": [
       "<pre class=language-r><code>function (counts = matrix(0, 0, 0), lib.size = colSums(counts), \n",
       "<span style=white-space:pre-wrap>    norm.factors = rep(1, ncol(counts)), samples = NULL, group = NULL, </span>\n",
       "<span style=white-space:pre-wrap>    genes = NULL, remove.zeros = FALSE) </span>\n",
       "{\n",
       "<span style=white-space:pre-wrap>    if (is.data.frame(counts)) {</span>\n",
       "<span style=white-space:pre-wrap>        cl &lt;- vapply(counts, class, FUN.VALUE = \"\")</span>\n",
       "<span style=white-space:pre-wrap>        IsNumeric &lt;- (cl %in% c(\"integer\", \"numeric\"))</span>\n",
       "<span style=white-space:pre-wrap>        a &lt;- which(!IsNumeric)</span>\n",
       "<span style=white-space:pre-wrap>        if (length(a)) {</span>\n",
       "<span style=white-space:pre-wrap>            if (length(a) == 1L &amp;&amp; a[1] == 1L) {</span>\n",
       "<span style=white-space:pre-wrap>                stop(\"The count matrix is a data.frame instead of a matrix and the first column is of class \", </span>\n",
       "<span style=white-space:pre-wrap>                  cl[1], \"\\n\", \"  instead of being numeric. Was the first column intended to contain geneids?\")</span>\n",
       "<span style=white-space:pre-wrap>            }</span>\n",
       "<span style=white-space:pre-wrap>            else {</span>\n",
       "<span style=white-space:pre-wrap>                stop(\"The count matrix is a data.frame instead of a matrix and \", </span>\n",
       "<span style=white-space:pre-wrap>                  length(a), \" columns are non-numeric.\\n\", \"  Should these columns be gene annotation instead of counts?\")</span>\n",
       "<span style=white-space:pre-wrap>            }</span>\n",
       "<span style=white-space:pre-wrap>        }</span>\n",
       "<span style=white-space:pre-wrap>    }</span>\n",
       "<span style=white-space:pre-wrap>    counts &lt;- as.matrix(counts)</span>\n",
       "<span style=white-space:pre-wrap>    if (!any(typeof(counts) == c(\"integer\", \"double\"))) </span>\n",
       "<span style=white-space:pre-wrap>        stop(\"non-numeric values found in counts\")</span>\n",
       "<span style=white-space:pre-wrap>    nlib &lt;- ncol(counts)</span>\n",
       "<span style=white-space:pre-wrap>    ntags &lt;- nrow(counts)</span>\n",
       "<span style=white-space:pre-wrap>    if (nlib &gt; 0L &amp;&amp; is.null(colnames(counts))) </span>\n",
       "<span style=white-space:pre-wrap>        colnames(counts) &lt;- paste0(\"Sample\", 1L:nlib)</span>\n",
       "<span style=white-space:pre-wrap>    if (ntags &gt; 0L &amp;&amp; is.null(rownames(counts))) </span>\n",
       "<span style=white-space:pre-wrap>        rownames(counts) &lt;- 1L:ntags</span>\n",
       "<span style=white-space:pre-wrap>    .isAllZero(counts)</span>\n",
       "<span style=white-space:pre-wrap>    if (is.null(lib.size)) {</span>\n",
       "<span style=white-space:pre-wrap>        lib.size &lt;- colSums(counts)</span>\n",
       "<span style=white-space:pre-wrap>        if (min(lib.size) &lt;= 0) </span>\n",
       "<span style=white-space:pre-wrap>            warning(\"library size of zero detected\")</span>\n",
       "<span style=white-space:pre-wrap>    }</span>\n",
       "<span style=white-space:pre-wrap>    else {</span>\n",
       "<span style=white-space:pre-wrap>        if (!is.numeric(lib.size)) </span>\n",
       "<span style=white-space:pre-wrap>            stop(\"'lib.size' must be numeric\")</span>\n",
       "<span style=white-space:pre-wrap>        if (nlib != length(lib.size)) </span>\n",
       "<span style=white-space:pre-wrap>            stop(\"length of 'lib.size' must equal number of columns in 'counts'\")</span>\n",
       "<span style=white-space:pre-wrap>        minlibsize &lt;- min(lib.size)</span>\n",
       "<span style=white-space:pre-wrap>        if (is.na(minlibsize)) </span>\n",
       "<span style=white-space:pre-wrap>            stop(\"NA library sizes not allowed\")</span>\n",
       "<span style=white-space:pre-wrap>        if (minlibsize &lt; 0) </span>\n",
       "<span style=white-space:pre-wrap>            stop(\"negative library sizes not permitted\")</span>\n",
       "<span style=white-space:pre-wrap>        if (minlibsize == 0) {</span>\n",
       "<span style=white-space:pre-wrap>            if (any(lib.size == 0 &amp; colSums(counts) &gt; 0)) </span>\n",
       "<span style=white-space:pre-wrap>                stop(\"library size set to zero but counts are nonzero\")</span>\n",
       "<span style=white-space:pre-wrap>            warning(\"library size of zero detected\")</span>\n",
       "<span style=white-space:pre-wrap>        }</span>\n",
       "<span style=white-space:pre-wrap>    }</span>\n",
       "<span style=white-space:pre-wrap>    if (is.null(norm.factors)) {</span>\n",
       "<span style=white-space:pre-wrap>        norm.factors &lt;- rep_len(1, ncol(counts))</span>\n",
       "<span style=white-space:pre-wrap>    }</span>\n",
       "<span style=white-space:pre-wrap>    else {</span>\n",
       "<span style=white-space:pre-wrap>        if (!is.numeric(norm.factors)) </span>\n",
       "<span style=white-space:pre-wrap>            stop(\"'lib.size' must be numeric\")</span>\n",
       "<span style=white-space:pre-wrap>        if (!identical(nlib, length(norm.factors))) </span>\n",
       "<span style=white-space:pre-wrap>            stop(\"Length of 'norm.factors' must equal number of columns in 'counts'\")</span>\n",
       "<span style=white-space:pre-wrap>        minnf &lt;- min(norm.factors)</span>\n",
       "<span style=white-space:pre-wrap>        if (is.na(minnf)) </span>\n",
       "<span style=white-space:pre-wrap>            stop(\"NA norm factors not allowed\")</span>\n",
       "<span style=white-space:pre-wrap>        if (minnf &lt;= 0) </span>\n",
       "<span style=white-space:pre-wrap>            stop(\"norm factors should be positive\")</span>\n",
       "<span style=white-space:pre-wrap>        if (abs(prod(norm.factors) - 1) &gt; 1e-06) </span>\n",
       "<span style=white-space:pre-wrap>            warning(\"norm factors don't multiply to 1\")</span>\n",
       "<span style=white-space:pre-wrap>    }</span>\n",
       "<span style=white-space:pre-wrap>    if (!is.null(samples)) {</span>\n",
       "<span style=white-space:pre-wrap>        samples &lt;- as.data.frame(samples)</span>\n",
       "<span style=white-space:pre-wrap>        if (nlib != nrow(samples)) </span>\n",
       "<span style=white-space:pre-wrap>            stop(\"Number of rows in 'samples' must equal number of columns in 'counts'\")</span>\n",
       "<span style=white-space:pre-wrap>    }</span>\n",
       "<span style=white-space:pre-wrap>    if (is.null(group) &amp;&amp; !is.null(samples$group)) {</span>\n",
       "<span style=white-space:pre-wrap>        group &lt;- samples$group</span>\n",
       "<span style=white-space:pre-wrap>        samples$group &lt;- NULL</span>\n",
       "<span style=white-space:pre-wrap>    }</span>\n",
       "<span style=white-space:pre-wrap>    if (is.null(group)) {</span>\n",
       "<span style=white-space:pre-wrap>        group &lt;- rep_len(1L, nlib)</span>\n",
       "<span style=white-space:pre-wrap>        levels(group) &lt;- \"1\"</span>\n",
       "<span style=white-space:pre-wrap>        class(group) &lt;- \"factor\"</span>\n",
       "<span style=white-space:pre-wrap>    }</span>\n",
       "<span style=white-space:pre-wrap>    else {</span>\n",
       "<span style=white-space:pre-wrap>        if (length(group) != nlib) </span>\n",
       "<span style=white-space:pre-wrap>            stop(\"Length of 'group' must equal number of columns in 'counts'\")</span>\n",
       "<span style=white-space:pre-wrap>        group &lt;- dropEmptyLevels(group)</span>\n",
       "<span style=white-space:pre-wrap>    }</span>\n",
       "<span style=white-space:pre-wrap>    sam &lt;- data.frame(group = group, lib.size = lib.size, norm.factors = norm.factors)</span>\n",
       "<span style=white-space:pre-wrap>    if (!is.null(samples)) </span>\n",
       "<span style=white-space:pre-wrap>        sam &lt;- data.frame(sam, samples)</span>\n",
       "<span style=white-space:pre-wrap>    samples &lt;- sam</span>\n",
       "<span style=white-space:pre-wrap>    if (anyDuplicated(colnames(counts))) {</span>\n",
       "<span style=white-space:pre-wrap>        message(\"Repeated column names found in count matrix\")</span>\n",
       "<span style=white-space:pre-wrap>        row.names(samples) &lt;- 1L:nlib</span>\n",
       "<span style=white-space:pre-wrap>    }</span>\n",
       "<span style=white-space:pre-wrap>    else row.names(samples) &lt;- colnames(counts)</span>\n",
       "<span style=white-space:pre-wrap>    x &lt;- new(\"DGEList\", list(counts = counts, samples = samples))</span>\n",
       "<span style=white-space:pre-wrap>    if (!is.null(genes)) {</span>\n",
       "<span style=white-space:pre-wrap>        genes &lt;- as.data.frame(genes, stringsAsFactors = FALSE)</span>\n",
       "<span style=white-space:pre-wrap>        if (nrow(genes) != ntags) </span>\n",
       "<span style=white-space:pre-wrap>            stop(\"Counts and genes have different numbers of rows\")</span>\n",
       "<span style=white-space:pre-wrap>        if (anyDuplicated(row.names(counts))) </span>\n",
       "<span style=white-space:pre-wrap>            warning(\"Count matrix has duplicated rownames\", call. = FALSE)</span>\n",
       "<span style=white-space:pre-wrap>        else row.names(genes) &lt;- row.names(counts)</span>\n",
       "<span style=white-space:pre-wrap>        x$genes &lt;- genes</span>\n",
       "<span style=white-space:pre-wrap>    }</span>\n",
       "<span style=white-space:pre-wrap>    if (remove.zeros) {</span>\n",
       "<span style=white-space:pre-wrap>        all.zeros &lt;- rowSums(counts &gt; 0, na.rm = TRUE) == 0</span>\n",
       "<span style=white-space:pre-wrap>        if (any(all.zeros)) {</span>\n",
       "<span style=white-space:pre-wrap>            x &lt;- x[!all.zeros, ]</span>\n",
       "<span style=white-space:pre-wrap>            message(\"Removing \", sum(all.zeros), \" rows with all zero counts\")</span>\n",
       "<span style=white-space:pre-wrap>        }</span>\n",
       "<span style=white-space:pre-wrap>    }</span>\n",
       "<span style=white-space:pre-wrap>    x</span>\n",
       "}</code></pre>"
      ],
      "text/latex": [
       "\\begin{minted}{r}\n",
       "function (counts = matrix(0, 0, 0), lib.size = colSums(counts), \n",
       "    norm.factors = rep(1, ncol(counts)), samples = NULL, group = NULL, \n",
       "    genes = NULL, remove.zeros = FALSE) \n",
       "\\{\n",
       "    if (is.data.frame(counts)) \\{\n",
       "        cl <- vapply(counts, class, FUN.VALUE = \"\")\n",
       "        IsNumeric <- (cl \\%in\\% c(\"integer\", \"numeric\"))\n",
       "        a <- which(!IsNumeric)\n",
       "        if (length(a)) \\{\n",
       "            if (length(a) == 1L \\&\\& a{[}1{]} == 1L) \\{\n",
       "                stop(\"The count matrix is a data.frame instead of a matrix and the first column is of class \", \n",
       "                  cl{[}1{]}, \"\\textbackslash{}n\", \"  instead of being numeric. Was the first column intended to contain geneids?\")\n",
       "            \\}\n",
       "            else \\{\n",
       "                stop(\"The count matrix is a data.frame instead of a matrix and \", \n",
       "                  length(a), \" columns are non-numeric.\\textbackslash{}n\", \"  Should these columns be gene annotation instead of counts?\")\n",
       "            \\}\n",
       "        \\}\n",
       "    \\}\n",
       "    counts <- as.matrix(counts)\n",
       "    if (!any(typeof(counts) == c(\"integer\", \"double\"))) \n",
       "        stop(\"non-numeric values found in counts\")\n",
       "    nlib <- ncol(counts)\n",
       "    ntags <- nrow(counts)\n",
       "    if (nlib > 0L \\&\\& is.null(colnames(counts))) \n",
       "        colnames(counts) <- paste0(\"Sample\", 1L:nlib)\n",
       "    if (ntags > 0L \\&\\& is.null(rownames(counts))) \n",
       "        rownames(counts) <- 1L:ntags\n",
       "    .isAllZero(counts)\n",
       "    if (is.null(lib.size)) \\{\n",
       "        lib.size <- colSums(counts)\n",
       "        if (min(lib.size) <= 0) \n",
       "            warning(\"library size of zero detected\")\n",
       "    \\}\n",
       "    else \\{\n",
       "        if (!is.numeric(lib.size)) \n",
       "            stop(\"'lib.size' must be numeric\")\n",
       "        if (nlib != length(lib.size)) \n",
       "            stop(\"length of 'lib.size' must equal number of columns in 'counts'\")\n",
       "        minlibsize <- min(lib.size)\n",
       "        if (is.na(minlibsize)) \n",
       "            stop(\"NA library sizes not allowed\")\n",
       "        if (minlibsize < 0) \n",
       "            stop(\"negative library sizes not permitted\")\n",
       "        if (minlibsize == 0) \\{\n",
       "            if (any(lib.size == 0 \\& colSums(counts) > 0)) \n",
       "                stop(\"library size set to zero but counts are nonzero\")\n",
       "            warning(\"library size of zero detected\")\n",
       "        \\}\n",
       "    \\}\n",
       "    if (is.null(norm.factors)) \\{\n",
       "        norm.factors <- rep\\_len(1, ncol(counts))\n",
       "    \\}\n",
       "    else \\{\n",
       "        if (!is.numeric(norm.factors)) \n",
       "            stop(\"'lib.size' must be numeric\")\n",
       "        if (!identical(nlib, length(norm.factors))) \n",
       "            stop(\"Length of 'norm.factors' must equal number of columns in 'counts'\")\n",
       "        minnf <- min(norm.factors)\n",
       "        if (is.na(minnf)) \n",
       "            stop(\"NA norm factors not allowed\")\n",
       "        if (minnf <= 0) \n",
       "            stop(\"norm factors should be positive\")\n",
       "        if (abs(prod(norm.factors) - 1) > 1e-06) \n",
       "            warning(\"norm factors don't multiply to 1\")\n",
       "    \\}\n",
       "    if (!is.null(samples)) \\{\n",
       "        samples <- as.data.frame(samples)\n",
       "        if (nlib != nrow(samples)) \n",
       "            stop(\"Number of rows in 'samples' must equal number of columns in 'counts'\")\n",
       "    \\}\n",
       "    if (is.null(group) \\&\\& !is.null(samples\\$group)) \\{\n",
       "        group <- samples\\$group\n",
       "        samples\\$group <- NULL\n",
       "    \\}\n",
       "    if (is.null(group)) \\{\n",
       "        group <- rep\\_len(1L, nlib)\n",
       "        levels(group) <- \"1\"\n",
       "        class(group) <- \"factor\"\n",
       "    \\}\n",
       "    else \\{\n",
       "        if (length(group) != nlib) \n",
       "            stop(\"Length of 'group' must equal number of columns in 'counts'\")\n",
       "        group <- dropEmptyLevels(group)\n",
       "    \\}\n",
       "    sam <- data.frame(group = group, lib.size = lib.size, norm.factors = norm.factors)\n",
       "    if (!is.null(samples)) \n",
       "        sam <- data.frame(sam, samples)\n",
       "    samples <- sam\n",
       "    if (anyDuplicated(colnames(counts))) \\{\n",
       "        message(\"Repeated column names found in count matrix\")\n",
       "        row.names(samples) <- 1L:nlib\n",
       "    \\}\n",
       "    else row.names(samples) <- colnames(counts)\n",
       "    x <- new(\"DGEList\", list(counts = counts, samples = samples))\n",
       "    if (!is.null(genes)) \\{\n",
       "        genes <- as.data.frame(genes, stringsAsFactors = FALSE)\n",
       "        if (nrow(genes) != ntags) \n",
       "            stop(\"Counts and genes have different numbers of rows\")\n",
       "        if (anyDuplicated(row.names(counts))) \n",
       "            warning(\"Count matrix has duplicated rownames\", call. = FALSE)\n",
       "        else row.names(genes) <- row.names(counts)\n",
       "        x\\$genes <- genes\n",
       "    \\}\n",
       "    if (remove.zeros) \\{\n",
       "        all.zeros <- rowSums(counts > 0, na.rm = TRUE) == 0\n",
       "        if (any(all.zeros)) \\{\n",
       "            x <- x{[}!all.zeros, {]}\n",
       "            message(\"Removing \", sum(all.zeros), \" rows with all zero counts\")\n",
       "        \\}\n",
       "    \\}\n",
       "    x\n",
       "\\}\n",
       "\\end{minted}"
      ],
      "text/markdown": [
       "```r\n",
       "function (counts = matrix(0, 0, 0), lib.size = colSums(counts), \n",
       "    norm.factors = rep(1, ncol(counts)), samples = NULL, group = NULL, \n",
       "    genes = NULL, remove.zeros = FALSE) \n",
       "{\n",
       "    if (is.data.frame(counts)) {\n",
       "        cl <- vapply(counts, class, FUN.VALUE = \"\")\n",
       "        IsNumeric <- (cl %in% c(\"integer\", \"numeric\"))\n",
       "        a <- which(!IsNumeric)\n",
       "        if (length(a)) {\n",
       "            if (length(a) == 1L && a[1] == 1L) {\n",
       "                stop(\"The count matrix is a data.frame instead of a matrix and the first column is of class \", \n",
       "                  cl[1], \"\\n\", \"  instead of being numeric. Was the first column intended to contain geneids?\")\n",
       "            }\n",
       "            else {\n",
       "                stop(\"The count matrix is a data.frame instead of a matrix and \", \n",
       "                  length(a), \" columns are non-numeric.\\n\", \"  Should these columns be gene annotation instead of counts?\")\n",
       "            }\n",
       "        }\n",
       "    }\n",
       "    counts <- as.matrix(counts)\n",
       "    if (!any(typeof(counts) == c(\"integer\", \"double\"))) \n",
       "        stop(\"non-numeric values found in counts\")\n",
       "    nlib <- ncol(counts)\n",
       "    ntags <- nrow(counts)\n",
       "    if (nlib > 0L && is.null(colnames(counts))) \n",
       "        colnames(counts) <- paste0(\"Sample\", 1L:nlib)\n",
       "    if (ntags > 0L && is.null(rownames(counts))) \n",
       "        rownames(counts) <- 1L:ntags\n",
       "    .isAllZero(counts)\n",
       "    if (is.null(lib.size)) {\n",
       "        lib.size <- colSums(counts)\n",
       "        if (min(lib.size) <= 0) \n",
       "            warning(\"library size of zero detected\")\n",
       "    }\n",
       "    else {\n",
       "        if (!is.numeric(lib.size)) \n",
       "            stop(\"'lib.size' must be numeric\")\n",
       "        if (nlib != length(lib.size)) \n",
       "            stop(\"length of 'lib.size' must equal number of columns in 'counts'\")\n",
       "        minlibsize <- min(lib.size)\n",
       "        if (is.na(minlibsize)) \n",
       "            stop(\"NA library sizes not allowed\")\n",
       "        if (minlibsize < 0) \n",
       "            stop(\"negative library sizes not permitted\")\n",
       "        if (minlibsize == 0) {\n",
       "            if (any(lib.size == 0 & colSums(counts) > 0)) \n",
       "                stop(\"library size set to zero but counts are nonzero\")\n",
       "            warning(\"library size of zero detected\")\n",
       "        }\n",
       "    }\n",
       "    if (is.null(norm.factors)) {\n",
       "        norm.factors <- rep_len(1, ncol(counts))\n",
       "    }\n",
       "    else {\n",
       "        if (!is.numeric(norm.factors)) \n",
       "            stop(\"'lib.size' must be numeric\")\n",
       "        if (!identical(nlib, length(norm.factors))) \n",
       "            stop(\"Length of 'norm.factors' must equal number of columns in 'counts'\")\n",
       "        minnf <- min(norm.factors)\n",
       "        if (is.na(minnf)) \n",
       "            stop(\"NA norm factors not allowed\")\n",
       "        if (minnf <= 0) \n",
       "            stop(\"norm factors should be positive\")\n",
       "        if (abs(prod(norm.factors) - 1) > 1e-06) \n",
       "            warning(\"norm factors don't multiply to 1\")\n",
       "    }\n",
       "    if (!is.null(samples)) {\n",
       "        samples <- as.data.frame(samples)\n",
       "        if (nlib != nrow(samples)) \n",
       "            stop(\"Number of rows in 'samples' must equal number of columns in 'counts'\")\n",
       "    }\n",
       "    if (is.null(group) && !is.null(samples$group)) {\n",
       "        group <- samples$group\n",
       "        samples$group <- NULL\n",
       "    }\n",
       "    if (is.null(group)) {\n",
       "        group <- rep_len(1L, nlib)\n",
       "        levels(group) <- \"1\"\n",
       "        class(group) <- \"factor\"\n",
       "    }\n",
       "    else {\n",
       "        if (length(group) != nlib) \n",
       "            stop(\"Length of 'group' must equal number of columns in 'counts'\")\n",
       "        group <- dropEmptyLevels(group)\n",
       "    }\n",
       "    sam <- data.frame(group = group, lib.size = lib.size, norm.factors = norm.factors)\n",
       "    if (!is.null(samples)) \n",
       "        sam <- data.frame(sam, samples)\n",
       "    samples <- sam\n",
       "    if (anyDuplicated(colnames(counts))) {\n",
       "        message(\"Repeated column names found in count matrix\")\n",
       "        row.names(samples) <- 1L:nlib\n",
       "    }\n",
       "    else row.names(samples) <- colnames(counts)\n",
       "    x <- new(\"DGEList\", list(counts = counts, samples = samples))\n",
       "    if (!is.null(genes)) {\n",
       "        genes <- as.data.frame(genes, stringsAsFactors = FALSE)\n",
       "        if (nrow(genes) != ntags) \n",
       "            stop(\"Counts and genes have different numbers of rows\")\n",
       "        if (anyDuplicated(row.names(counts))) \n",
       "            warning(\"Count matrix has duplicated rownames\", call. = FALSE)\n",
       "        else row.names(genes) <- row.names(counts)\n",
       "        x$genes <- genes\n",
       "    }\n",
       "    if (remove.zeros) {\n",
       "        all.zeros <- rowSums(counts > 0, na.rm = TRUE) == 0\n",
       "        if (any(all.zeros)) {\n",
       "            x <- x[!all.zeros, ]\n",
       "            message(\"Removing \", sum(all.zeros), \" rows with all zero counts\")\n",
       "        }\n",
       "    }\n",
       "    x\n",
       "}\n",
       "```"
      ],
      "text/plain": [
       "function (counts = matrix(0, 0, 0), lib.size = colSums(counts), \n",
       "    norm.factors = rep(1, ncol(counts)), samples = NULL, group = NULL, \n",
       "    genes = NULL, remove.zeros = FALSE) \n",
       "{\n",
       "    if (is.data.frame(counts)) {\n",
       "        cl <- vapply(counts, class, FUN.VALUE = \"\")\n",
       "        IsNumeric <- (cl %in% c(\"integer\", \"numeric\"))\n",
       "        a <- which(!IsNumeric)\n",
       "        if (length(a)) {\n",
       "            if (length(a) == 1L && a[1] == 1L) {\n",
       "                stop(\"The count matrix is a data.frame instead of a matrix and the first column is of class \", \n",
       "                  cl[1], \"\\n\", \"  instead of being numeric. Was the first column intended to contain geneids?\")\n",
       "            }\n",
       "            else {\n",
       "                stop(\"The count matrix is a data.frame instead of a matrix and \", \n",
       "                  length(a), \" columns are non-numeric.\\n\", \"  Should these columns be gene annotation instead of counts?\")\n",
       "            }\n",
       "        }\n",
       "    }\n",
       "    counts <- as.matrix(counts)\n",
       "    if (!any(typeof(counts) == c(\"integer\", \"double\"))) \n",
       "        stop(\"non-numeric values found in counts\")\n",
       "    nlib <- ncol(counts)\n",
       "    ntags <- nrow(counts)\n",
       "    if (nlib > 0L && is.null(colnames(counts))) \n",
       "        colnames(counts) <- paste0(\"Sample\", 1L:nlib)\n",
       "    if (ntags > 0L && is.null(rownames(counts))) \n",
       "        rownames(counts) <- 1L:ntags\n",
       "    .isAllZero(counts)\n",
       "    if (is.null(lib.size)) {\n",
       "        lib.size <- colSums(counts)\n",
       "        if (min(lib.size) <= 0) \n",
       "            warning(\"library size of zero detected\")\n",
       "    }\n",
       "    else {\n",
       "        if (!is.numeric(lib.size)) \n",
       "            stop(\"'lib.size' must be numeric\")\n",
       "        if (nlib != length(lib.size)) \n",
       "            stop(\"length of 'lib.size' must equal number of columns in 'counts'\")\n",
       "        minlibsize <- min(lib.size)\n",
       "        if (is.na(minlibsize)) \n",
       "            stop(\"NA library sizes not allowed\")\n",
       "        if (minlibsize < 0) \n",
       "            stop(\"negative library sizes not permitted\")\n",
       "        if (minlibsize == 0) {\n",
       "            if (any(lib.size == 0 & colSums(counts) > 0)) \n",
       "                stop(\"library size set to zero but counts are nonzero\")\n",
       "            warning(\"library size of zero detected\")\n",
       "        }\n",
       "    }\n",
       "    if (is.null(norm.factors)) {\n",
       "        norm.factors <- rep_len(1, ncol(counts))\n",
       "    }\n",
       "    else {\n",
       "        if (!is.numeric(norm.factors)) \n",
       "            stop(\"'lib.size' must be numeric\")\n",
       "        if (!identical(nlib, length(norm.factors))) \n",
       "            stop(\"Length of 'norm.factors' must equal number of columns in 'counts'\")\n",
       "        minnf <- min(norm.factors)\n",
       "        if (is.na(minnf)) \n",
       "            stop(\"NA norm factors not allowed\")\n",
       "        if (minnf <= 0) \n",
       "            stop(\"norm factors should be positive\")\n",
       "        if (abs(prod(norm.factors) - 1) > 1e-06) \n",
       "            warning(\"norm factors don't multiply to 1\")\n",
       "    }\n",
       "    if (!is.null(samples)) {\n",
       "        samples <- as.data.frame(samples)\n",
       "        if (nlib != nrow(samples)) \n",
       "            stop(\"Number of rows in 'samples' must equal number of columns in 'counts'\")\n",
       "    }\n",
       "    if (is.null(group) && !is.null(samples$group)) {\n",
       "        group <- samples$group\n",
       "        samples$group <- NULL\n",
       "    }\n",
       "    if (is.null(group)) {\n",
       "        group <- rep_len(1L, nlib)\n",
       "        levels(group) <- \"1\"\n",
       "        class(group) <- \"factor\"\n",
       "    }\n",
       "    else {\n",
       "        if (length(group) != nlib) \n",
       "            stop(\"Length of 'group' must equal number of columns in 'counts'\")\n",
       "        group <- dropEmptyLevels(group)\n",
       "    }\n",
       "    sam <- data.frame(group = group, lib.size = lib.size, norm.factors = norm.factors)\n",
       "    if (!is.null(samples)) \n",
       "        sam <- data.frame(sam, samples)\n",
       "    samples <- sam\n",
       "    if (anyDuplicated(colnames(counts))) {\n",
       "        message(\"Repeated column names found in count matrix\")\n",
       "        row.names(samples) <- 1L:nlib\n",
       "    }\n",
       "    else row.names(samples) <- colnames(counts)\n",
       "    x <- new(\"DGEList\", list(counts = counts, samples = samples))\n",
       "    if (!is.null(genes)) {\n",
       "        genes <- as.data.frame(genes, stringsAsFactors = FALSE)\n",
       "        if (nrow(genes) != ntags) \n",
       "            stop(\"Counts and genes have different numbers of rows\")\n",
       "        if (anyDuplicated(row.names(counts))) \n",
       "            warning(\"Count matrix has duplicated rownames\", call. = FALSE)\n",
       "        else row.names(genes) <- row.names(counts)\n",
       "        x$genes <- genes\n",
       "    }\n",
       "    if (remove.zeros) {\n",
       "        all.zeros <- rowSums(counts > 0, na.rm = TRUE) == 0\n",
       "        if (any(all.zeros)) {\n",
       "            x <- x[!all.zeros, ]\n",
       "            message(\"Removing \", sum(all.zeros), \" rows with all zero counts\")\n",
       "        }\n",
       "    }\n",
       "    x\n",
       "}\n",
       "<bytecode: 0x559820d85308>\n",
       "<environment: namespace:edgeR>"
      ]
     },
     "metadata": {},
     "output_type": "display_data"
    }
   ],
   "source": [
    "DGEList"
   ]
  },
  {
   "cell_type": "code",
   "execution_count": 93,
   "id": "7001d3ed-d367-4601-8ab0-380ccec1bb03",
   "metadata": {},
   "outputs": [
    {
     "data": {
      "text/html": [
       "<table class=\"dataframe\">\n",
       "<caption>A matrix: 360 × 8 of type dbl</caption>\n",
       "<thead>\n",
       "\t<tr><th></th><th scope=col>cluster_2</th><th scope=col>cluster_5</th><th scope=col>cluster_4</th><th scope=col>cluster_0</th><th scope=col>cluster_1</th><th scope=col>cluster_6</th><th scope=col>cluster_7</th><th scope=col>cluster_3</th></tr>\n",
       "</thead>\n",
       "<tbody>\n",
       "\t<tr><th scope=row>11409232</th><td> 0.23372218</td><td> 0.2719115674</td><td>-0.29324721</td><td> 0.054390925</td><td>-0.10552162</td><td>-0.245586309</td><td> 0.67626148</td><td> 0.446925655</td></tr>\n",
       "\t<tr><th scope=row>11336574</th><td>-0.06007439</td><td> 0.0428563090</td><td>-0.51139310</td><td> 0.235229383</td><td>-0.21757672</td><td> 0.033914502</td><td> 0.72003611</td><td> 0.581878503</td></tr>\n",
       "\t<tr><th scope=row>20207013</th><td> 0.18162946</td><td> 0.4504847056</td><td>-0.24740398</td><td>-0.138706409</td><td> 0.21325909</td><td>-0.204243542</td><td> 0.63004570</td><td> 0.585370549</td></tr>\n",
       "\t<tr><th scope=row>10514454</th><td> 0.19030084</td><td> 0.0917205352</td><td>-0.00989614</td><td>-0.141785514</td><td>-0.29266654</td><td>-0.004327049</td><td> 0.72724627</td><td> 0.383659721</td></tr>\n",
       "\t<tr><th scope=row>10290265</th><td> 0.34948256</td><td>-0.2598405901</td><td>-0.03614310</td><td>-0.201197990</td><td>-0.25077468</td><td>-0.223494468</td><td>-0.25456933</td><td>-0.020213796</td></tr>\n",
       "\t<tr><th scope=row>21412626</th><td> 0.05850780</td><td>-0.1565084873</td><td>-0.47366921</td><td>-0.101946184</td><td>-0.38741523</td><td>-0.092353688</td><td> 0.63626525</td><td> 0.354262931</td></tr>\n",
       "\t<tr><th scope=row>20170043</th><td>-0.12092703</td><td>-0.0552923620</td><td> 0.08280909</td><td>-0.195736471</td><td>-0.16478794</td><td>-0.271408537</td><td> 0.14891685</td><td> 0.244042604</td></tr>\n",
       "\t<tr><th scope=row>20956867</th><td> 0.33159258</td><td>-0.2616555892</td><td>-0.20673902</td><td> 0.007105114</td><td>-0.45326125</td><td> 0.061481789</td><td> 0.32544545</td><td> 0.004163754</td></tr>\n",
       "\t<tr><th scope=row>21172121</th><td> 0.19273235</td><td>-0.0504222080</td><td>-0.20686294</td><td>-0.186265019</td><td>-0.11392434</td><td>-0.261425299</td><td> 0.08732828</td><td> 0.206001288</td></tr>\n",
       "\t<tr><th scope=row>20104101</th><td>-0.03360207</td><td> 0.2481844941</td><td>-0.45509051</td><td> 0.000299052</td><td>-0.18754247</td><td>-0.138199435</td><td> 0.77778705</td><td> 0.551964441</td></tr>\n",
       "\t<tr><th scope=row>20261901</th><td> 0.16544188</td><td>-0.0861923373</td><td>-0.32267009</td><td> 0.098312070</td><td>-0.36183628</td><td>-0.070512039</td><td> 0.21508011</td><td> 0.321462510</td></tr>\n",
       "\t<tr><th scope=row>21142003</th><td>-0.10540320</td><td>-0.2094945271</td><td>-0.46507860</td><td>-0.040146752</td><td>-0.52682218</td><td>-0.085225156</td><td> 0.70813507</td><td> 0.487284391</td></tr>\n",
       "\t<tr><th scope=row>20179164</th><td>-0.08647501</td><td> 0.3540355745</td><td>-0.41618422</td><td> 0.158632538</td><td>-0.20980327</td><td>-0.085702783</td><td> 0.77313954</td><td> 0.527675413</td></tr>\n",
       "\t<tr><th scope=row>21159840</th><td> 0.21955958</td><td>-0.2512667074</td><td>-0.24121689</td><td>-0.053472286</td><td> 0.30986318</td><td>-0.098095793</td><td> 0.24813481</td><td> 0.173282576</td></tr>\n",
       "\t<tr><th scope=row>20977678</th><td> 0.08226759</td><td>-0.0438830486</td><td>-0.04049868</td><td> 0.132250759</td><td>-0.37727651</td><td>-0.065347617</td><td> 0.69102899</td><td> 0.355278016</td></tr>\n",
       "\t<tr><th scope=row>20254740</th><td> 0.33747380</td><td> 0.0397607843</td><td>-0.10323025</td><td>-0.059691875</td><td>-0.10092103</td><td>-0.121062048</td><td> 0.34438400</td><td> 0.203839038</td></tr>\n",
       "\t<tr><th scope=row>10261026</th><td> 0.22738324</td><td> 0.2365001864</td><td> 0.06783078</td><td>-0.185945656</td><td> 0.25932441</td><td>-0.123338505</td><td> 0.50134022</td><td> 0.290206085</td></tr>\n",
       "\t<tr><th scope=row>11310718</th><td>-0.03747585</td><td> 0.3126143473</td><td>-0.15505126</td><td> 0.010678316</td><td> 0.30632133</td><td>-0.138233610</td><td> 0.63128178</td><td> 0.454149465</td></tr>\n",
       "\t<tr><th scope=row>21135554</th><td> 0.41533952</td><td>-0.0005641511</td><td>-0.21505876</td><td>-0.124392377</td><td>-0.32097710</td><td> 0.104469801</td><td> 0.54866383</td><td> 0.184984127</td></tr>\n",
       "\t<tr><th scope=row>20275399</th><td> 0.20817075</td><td> 0.0596871524</td><td>-0.10262334</td><td> 0.006158014</td><td>-0.30326917</td><td>-0.164854757</td><td> 0.64514818</td><td> 0.371998661</td></tr>\n",
       "\t<tr><th scope=row>20249897</th><td> 0.28617112</td><td> 0.1131210540</td><td>-0.10460389</td><td> 0.106009578</td><td>-0.28342248</td><td>-0.251881532</td><td> 0.70816110</td><td> 0.450804313</td></tr>\n",
       "\t<tr><th scope=row>11399871</th><td> 0.24652457</td><td> 0.0154394234</td><td>-0.25331668</td><td> 0.019998083</td><td>-0.23615452</td><td> 0.007030170</td><td> 0.44634518</td><td> 0.314015010</td></tr>\n",
       "\t<tr><th scope=row>10101291</th><td>-0.04297766</td><td> 0.0955012419</td><td>-0.15516189</td><td>-0.005744559</td><td>-0.08314553</td><td>-0.184944555</td><td> 0.19217895</td><td> 0.275908095</td></tr>\n",
       "\t<tr><th scope=row>11072071</th><td> 0.34544498</td><td> 0.0925253180</td><td>-0.16259101</td><td>-0.176617944</td><td>-0.26980159</td><td>-0.129545058</td><td> 0.28208048</td><td> 0.208827272</td></tr>\n",
       "\t<tr><th scope=row>11399321</th><td> 0.32767681</td><td>-0.2673598698</td><td>-0.11899187</td><td>-0.043098707</td><td>-0.43426046</td><td> 0.204374475</td><td> 0.41873396</td><td> 0.230152692</td></tr>\n",
       "\t<tr><th scope=row>11302830</th><td> 0.08040594</td><td> 0.0881286498</td><td>-0.38395631</td><td>-0.051001378</td><td>-0.25360412</td><td>-0.121854582</td><td> 0.69493737</td><td> 0.462417278</td></tr>\n",
       "\t<tr><th scope=row>21272396</th><td> 0.04181636</td><td>-0.1597684725</td><td>-0.31594704</td><td>-0.001312529</td><td>-0.31046796</td><td> 0.319179116</td><td> 0.09088565</td><td>-0.364949084</td></tr>\n",
       "\t<tr><th scope=row>67429065</th><td>-0.26632705</td><td>-0.0280761951</td><td>-0.05804787</td><td> 0.063291513</td><td> 0.05872863</td><td> 0.149970298</td><td> 0.12226115</td><td>-0.019049010</td></tr>\n",
       "\t<tr><th scope=row>50106280</th><td>-0.27514845</td><td>-0.2269841117</td><td>-0.29326527</td><td>-0.062680063</td><td>-0.11858116</td><td> 0.194107781</td><td> 0.03327547</td><td> 0.020505422</td></tr>\n",
       "\t<tr><th scope=row>94430339</th><td>-0.19007240</td><td> 0.3065789093</td><td> 0.23532684</td><td> 0.057726510</td><td> 0.37633575</td><td>-0.228585225</td><td>-0.43367862</td><td>-0.058759468</td></tr>\n",
       "\t<tr><th scope=row>⋮</th><td>⋮</td><td>⋮</td><td>⋮</td><td>⋮</td><td>⋮</td><td>⋮</td><td>⋮</td><td>⋮</td></tr>\n",
       "\t<tr><th scope=row>20254588</th><td> 0.033698082</td><td> 0.19612717</td><td> 0.25345163</td><td>-0.03982812</td><td> 0.260548016</td><td> 0.134035742</td><td>-0.151186166</td><td>-0.22663115</td></tr>\n",
       "\t<tr><th scope=row>50500550</th><td>-0.110884805</td><td>-0.07895540</td><td>-0.15864253</td><td>-0.02222557</td><td> 0.126547582</td><td>-0.062751886</td><td>-0.146607636</td><td>-0.22821126</td></tr>\n",
       "\t<tr><th scope=row>24747976</th><td>-0.186640155</td><td> 0.41746419</td><td> 0.18766743</td><td>-0.27250344</td><td> 0.427374356</td><td>-0.395404110</td><td> 0.044180945</td><td> 0.28224635</td></tr>\n",
       "\t<tr><th scope=row>81086436</th><td>-0.162467310</td><td>-0.07390732</td><td>-0.30422495</td><td> 0.02587968</td><td>-0.296274690</td><td>-0.109008509</td><td> 0.549012394</td><td> 0.24791868</td></tr>\n",
       "\t<tr><th scope=row>20223617</th><td> 0.229317380</td><td>-0.31763831</td><td>-0.21543921</td><td>-0.16428336</td><td>-0.203107511</td><td> 0.013066576</td><td>-0.199694555</td><td>-0.15951864</td></tr>\n",
       "\t<tr><th scope=row>33501827</th><td>-0.038534514</td><td> 0.10800295</td><td>-0.17863947</td><td>-0.36916933</td><td>-0.009913861</td><td>-0.176510278</td><td>-0.217512111</td><td>-0.22305543</td></tr>\n",
       "\t<tr><th scope=row>10438999</th><td> 0.223379531</td><td>-0.42521713</td><td> 0.19105033</td><td> 0.09606100</td><td>-0.406790863</td><td> 0.282162284</td><td>-0.234238324</td><td>-0.33507370</td></tr>\n",
       "\t<tr><th scope=row>20907534</th><td>-0.282044368</td><td>-0.34217640</td><td>-0.25937914</td><td>-0.04894118</td><td>-0.343855802</td><td>-0.005537055</td><td> 0.307344738</td><td> 0.04295862</td></tr>\n",
       "\t<tr><th scope=row>54324848</th><td>-0.147702042</td><td> 0.09082521</td><td> 0.13821865</td><td>-0.02696874</td><td> 0.144076030</td><td>-0.019281922</td><td>-0.268383307</td><td>-0.29415709</td></tr>\n",
       "\t<tr><th scope=row>11392518</th><td>-0.361014339</td><td> 0.02908332</td><td>-0.10413785</td><td> 0.05271004</td><td> 0.164933491</td><td> 0.240694710</td><td>-0.273940987</td><td>-0.20248193</td></tr>\n",
       "\t<tr><th scope=row>80790863</th><td>-0.098002818</td><td>-0.14620844</td><td> 0.29122352</td><td> 0.16356434</td><td> 0.250213286</td><td> 0.217668007</td><td>-0.536709919</td><td>-0.35782550</td></tr>\n",
       "\t<tr><th scope=row>50400259</th><td>-0.220127423</td><td> 0.32820054</td><td> 0.28084383</td><td> 0.15733502</td><td> 0.458913182</td><td> 0.184917466</td><td>-0.196245913</td><td> 0.06510717</td></tr>\n",
       "\t<tr><th scope=row>18920002</th><td>-0.007723010</td><td>-0.04265120</td><td> 0.33427647</td><td> 0.15646374</td><td> 0.439339421</td><td> 0.051483578</td><td>-0.450450644</td><td>-0.26052626</td></tr>\n",
       "\t<tr><th scope=row>20892128</th><td> 0.077590716</td><td>-0.09703115</td><td> 0.28659834</td><td> 0.28917021</td><td> 0.265504398</td><td> 0.387303350</td><td>-0.109358312</td><td>-0.25785750</td></tr>\n",
       "\t<tr><th scope=row>10298957</th><td>-0.147909742</td><td>-0.06616693</td><td> 0.41758403</td><td> 0.14413223</td><td> 0.224901673</td><td> 0.272482733</td><td>-0.462651105</td><td>-0.28309752</td></tr>\n",
       "\t<tr><th scope=row>68525196</th><td> 0.130530587</td><td> 0.31891401</td><td> 0.39593793</td><td>-0.05285762</td><td> 0.503838669</td><td>-0.082516977</td><td>-0.511224081</td><td> 0.15972629</td></tr>\n",
       "\t<tr><th scope=row>31726180</th><td>-0.265428550</td><td> 0.32277938</td><td> 0.51889601</td><td> 0.34277040</td><td> 0.519617126</td><td>-0.058839032</td><td> 0.095116586</td><td> 0.07835786</td></tr>\n",
       "\t<tr><th scope=row>21191200</th><td>-0.445908061</td><td> 0.23975465</td><td> 0.17218771</td><td> 0.18453386</td><td> 0.457675193</td><td>-0.289980858</td><td> 0.193255075</td><td> 0.08880168</td></tr>\n",
       "\t<tr><th scope=row>50300822</th><td>-0.276598364</td><td> 0.33694765</td><td> 0.33945385</td><td> 0.24770140</td><td> 0.445604907</td><td>-0.042905519</td><td>-0.046304985</td><td>-0.16431711</td></tr>\n",
       "\t<tr><th scope=row>50301963</th><td>-0.348776992</td><td> 0.12821120</td><td>-0.02972893</td><td> 0.21863212</td><td> 0.411355495</td><td> 0.206673372</td><td> 0.005253617</td><td>-0.06575703</td></tr>\n",
       "\t<tr><th scope=row>20730959</th><td>-0.011821599</td><td> 0.41704723</td><td> 0.49844502</td><td>-0.14551801</td><td> 0.369160374</td><td> 0.226363892</td><td> 0.288903904</td><td> 0.09133529</td></tr>\n",
       "\t<tr><th scope=row>20500815</th><td> 0.005838516</td><td> 0.04062332</td><td> 0.02807178</td><td> 0.24603597</td><td>-0.263497110</td><td> 0.207808971</td><td> 0.410124781</td><td> 0.12745313</td></tr>\n",
       "\t<tr><th scope=row>21402016</th><td>-0.354176078</td><td> 0.01156302</td><td> 0.06104953</td><td> 0.10846931</td><td> 0.265756506</td><td>-0.155059814</td><td>-0.118226454</td><td> 0.16413562</td></tr>\n",
       "\t<tr><th scope=row>51624179</th><td>-0.178932256</td><td> 0.43532845</td><td> 0.32600789</td><td> 0.20093679</td><td> 0.583478523</td><td>-0.093191161</td><td> 0.177631106</td><td> 0.29380763</td></tr>\n",
       "\t<tr><th scope=row>10100574</th><td>-0.241556844</td><td>-0.23119042</td><td>-0.15306356</td><td>-0.08924585</td><td>-0.306626776</td><td>-0.153393055</td><td>-0.239486938</td><td>-0.28481449</td></tr>\n",
       "\t<tr><th scope=row>22789958</th><td> 0.066360401</td><td> 0.11262415</td><td> 0.28882397</td><td>-0.03569874</td><td> 0.158896718</td><td> 0.279416724</td><td>-0.644561875</td><td>-0.30657136</td></tr>\n",
       "\t<tr><th scope=row>51520126</th><td> 0.236711533</td><td>-0.23091643</td><td> 0.16604887</td><td>-0.01093348</td><td>-0.201392734</td><td> 0.363447180</td><td>-0.496828012</td><td>-0.32623776</td></tr>\n",
       "\t<tr><th scope=row>94144536</th><td>-0.305342103</td><td> 0.36096875</td><td> 0.10987869</td><td>-0.12300495</td><td> 0.348437696</td><td>-0.031257525</td><td>-0.391396549</td><td>-0.05971377</td></tr>\n",
       "\t<tr><th scope=row>18659212</th><td> 0.130562221</td><td> 0.04014758</td><td> 0.36034407</td><td> 0.02936234</td><td> 0.135290654</td><td> 0.233459082</td><td>-0.585242346</td><td>-0.34037432</td></tr>\n",
       "\t<tr><th scope=row>41285665</th><td> 0.060204182</td><td>-0.16379320</td><td> 0.22709752</td><td>-0.27840953</td><td>-0.132796843</td><td> 0.302654782</td><td>-0.584024564</td><td>-0.33791211</td></tr>\n",
       "</tbody>\n",
       "</table>\n"
      ],
      "text/latex": [
       "A matrix: 360 × 8 of type dbl\n",
       "\\begin{tabular}{r|llllllll}\n",
       "  & cluster\\_2 & cluster\\_5 & cluster\\_4 & cluster\\_0 & cluster\\_1 & cluster\\_6 & cluster\\_7 & cluster\\_3\\\\\n",
       "\\hline\n",
       "\t11409232 &  0.23372218 &  0.2719115674 & -0.29324721 &  0.054390925 & -0.10552162 & -0.245586309 &  0.67626148 &  0.446925655\\\\\n",
       "\t11336574 & -0.06007439 &  0.0428563090 & -0.51139310 &  0.235229383 & -0.21757672 &  0.033914502 &  0.72003611 &  0.581878503\\\\\n",
       "\t20207013 &  0.18162946 &  0.4504847056 & -0.24740398 & -0.138706409 &  0.21325909 & -0.204243542 &  0.63004570 &  0.585370549\\\\\n",
       "\t10514454 &  0.19030084 &  0.0917205352 & -0.00989614 & -0.141785514 & -0.29266654 & -0.004327049 &  0.72724627 &  0.383659721\\\\\n",
       "\t10290265 &  0.34948256 & -0.2598405901 & -0.03614310 & -0.201197990 & -0.25077468 & -0.223494468 & -0.25456933 & -0.020213796\\\\\n",
       "\t21412626 &  0.05850780 & -0.1565084873 & -0.47366921 & -0.101946184 & -0.38741523 & -0.092353688 &  0.63626525 &  0.354262931\\\\\n",
       "\t20170043 & -0.12092703 & -0.0552923620 &  0.08280909 & -0.195736471 & -0.16478794 & -0.271408537 &  0.14891685 &  0.244042604\\\\\n",
       "\t20956867 &  0.33159258 & -0.2616555892 & -0.20673902 &  0.007105114 & -0.45326125 &  0.061481789 &  0.32544545 &  0.004163754\\\\\n",
       "\t21172121 &  0.19273235 & -0.0504222080 & -0.20686294 & -0.186265019 & -0.11392434 & -0.261425299 &  0.08732828 &  0.206001288\\\\\n",
       "\t20104101 & -0.03360207 &  0.2481844941 & -0.45509051 &  0.000299052 & -0.18754247 & -0.138199435 &  0.77778705 &  0.551964441\\\\\n",
       "\t20261901 &  0.16544188 & -0.0861923373 & -0.32267009 &  0.098312070 & -0.36183628 & -0.070512039 &  0.21508011 &  0.321462510\\\\\n",
       "\t21142003 & -0.10540320 & -0.2094945271 & -0.46507860 & -0.040146752 & -0.52682218 & -0.085225156 &  0.70813507 &  0.487284391\\\\\n",
       "\t20179164 & -0.08647501 &  0.3540355745 & -0.41618422 &  0.158632538 & -0.20980327 & -0.085702783 &  0.77313954 &  0.527675413\\\\\n",
       "\t21159840 &  0.21955958 & -0.2512667074 & -0.24121689 & -0.053472286 &  0.30986318 & -0.098095793 &  0.24813481 &  0.173282576\\\\\n",
       "\t20977678 &  0.08226759 & -0.0438830486 & -0.04049868 &  0.132250759 & -0.37727651 & -0.065347617 &  0.69102899 &  0.355278016\\\\\n",
       "\t20254740 &  0.33747380 &  0.0397607843 & -0.10323025 & -0.059691875 & -0.10092103 & -0.121062048 &  0.34438400 &  0.203839038\\\\\n",
       "\t10261026 &  0.22738324 &  0.2365001864 &  0.06783078 & -0.185945656 &  0.25932441 & -0.123338505 &  0.50134022 &  0.290206085\\\\\n",
       "\t11310718 & -0.03747585 &  0.3126143473 & -0.15505126 &  0.010678316 &  0.30632133 & -0.138233610 &  0.63128178 &  0.454149465\\\\\n",
       "\t21135554 &  0.41533952 & -0.0005641511 & -0.21505876 & -0.124392377 & -0.32097710 &  0.104469801 &  0.54866383 &  0.184984127\\\\\n",
       "\t20275399 &  0.20817075 &  0.0596871524 & -0.10262334 &  0.006158014 & -0.30326917 & -0.164854757 &  0.64514818 &  0.371998661\\\\\n",
       "\t20249897 &  0.28617112 &  0.1131210540 & -0.10460389 &  0.106009578 & -0.28342248 & -0.251881532 &  0.70816110 &  0.450804313\\\\\n",
       "\t11399871 &  0.24652457 &  0.0154394234 & -0.25331668 &  0.019998083 & -0.23615452 &  0.007030170 &  0.44634518 &  0.314015010\\\\\n",
       "\t10101291 & -0.04297766 &  0.0955012419 & -0.15516189 & -0.005744559 & -0.08314553 & -0.184944555 &  0.19217895 &  0.275908095\\\\\n",
       "\t11072071 &  0.34544498 &  0.0925253180 & -0.16259101 & -0.176617944 & -0.26980159 & -0.129545058 &  0.28208048 &  0.208827272\\\\\n",
       "\t11399321 &  0.32767681 & -0.2673598698 & -0.11899187 & -0.043098707 & -0.43426046 &  0.204374475 &  0.41873396 &  0.230152692\\\\\n",
       "\t11302830 &  0.08040594 &  0.0881286498 & -0.38395631 & -0.051001378 & -0.25360412 & -0.121854582 &  0.69493737 &  0.462417278\\\\\n",
       "\t21272396 &  0.04181636 & -0.1597684725 & -0.31594704 & -0.001312529 & -0.31046796 &  0.319179116 &  0.09088565 & -0.364949084\\\\\n",
       "\t67429065 & -0.26632705 & -0.0280761951 & -0.05804787 &  0.063291513 &  0.05872863 &  0.149970298 &  0.12226115 & -0.019049010\\\\\n",
       "\t50106280 & -0.27514845 & -0.2269841117 & -0.29326527 & -0.062680063 & -0.11858116 &  0.194107781 &  0.03327547 &  0.020505422\\\\\n",
       "\t94430339 & -0.19007240 &  0.3065789093 &  0.23532684 &  0.057726510 &  0.37633575 & -0.228585225 & -0.43367862 & -0.058759468\\\\\n",
       "\t⋮ & ⋮ & ⋮ & ⋮ & ⋮ & ⋮ & ⋮ & ⋮ & ⋮\\\\\n",
       "\t20254588 &  0.033698082 &  0.19612717 &  0.25345163 & -0.03982812 &  0.260548016 &  0.134035742 & -0.151186166 & -0.22663115\\\\\n",
       "\t50500550 & -0.110884805 & -0.07895540 & -0.15864253 & -0.02222557 &  0.126547582 & -0.062751886 & -0.146607636 & -0.22821126\\\\\n",
       "\t24747976 & -0.186640155 &  0.41746419 &  0.18766743 & -0.27250344 &  0.427374356 & -0.395404110 &  0.044180945 &  0.28224635\\\\\n",
       "\t81086436 & -0.162467310 & -0.07390732 & -0.30422495 &  0.02587968 & -0.296274690 & -0.109008509 &  0.549012394 &  0.24791868\\\\\n",
       "\t20223617 &  0.229317380 & -0.31763831 & -0.21543921 & -0.16428336 & -0.203107511 &  0.013066576 & -0.199694555 & -0.15951864\\\\\n",
       "\t33501827 & -0.038534514 &  0.10800295 & -0.17863947 & -0.36916933 & -0.009913861 & -0.176510278 & -0.217512111 & -0.22305543\\\\\n",
       "\t10438999 &  0.223379531 & -0.42521713 &  0.19105033 &  0.09606100 & -0.406790863 &  0.282162284 & -0.234238324 & -0.33507370\\\\\n",
       "\t20907534 & -0.282044368 & -0.34217640 & -0.25937914 & -0.04894118 & -0.343855802 & -0.005537055 &  0.307344738 &  0.04295862\\\\\n",
       "\t54324848 & -0.147702042 &  0.09082521 &  0.13821865 & -0.02696874 &  0.144076030 & -0.019281922 & -0.268383307 & -0.29415709\\\\\n",
       "\t11392518 & -0.361014339 &  0.02908332 & -0.10413785 &  0.05271004 &  0.164933491 &  0.240694710 & -0.273940987 & -0.20248193\\\\\n",
       "\t80790863 & -0.098002818 & -0.14620844 &  0.29122352 &  0.16356434 &  0.250213286 &  0.217668007 & -0.536709919 & -0.35782550\\\\\n",
       "\t50400259 & -0.220127423 &  0.32820054 &  0.28084383 &  0.15733502 &  0.458913182 &  0.184917466 & -0.196245913 &  0.06510717\\\\\n",
       "\t18920002 & -0.007723010 & -0.04265120 &  0.33427647 &  0.15646374 &  0.439339421 &  0.051483578 & -0.450450644 & -0.26052626\\\\\n",
       "\t20892128 &  0.077590716 & -0.09703115 &  0.28659834 &  0.28917021 &  0.265504398 &  0.387303350 & -0.109358312 & -0.25785750\\\\\n",
       "\t10298957 & -0.147909742 & -0.06616693 &  0.41758403 &  0.14413223 &  0.224901673 &  0.272482733 & -0.462651105 & -0.28309752\\\\\n",
       "\t68525196 &  0.130530587 &  0.31891401 &  0.39593793 & -0.05285762 &  0.503838669 & -0.082516977 & -0.511224081 &  0.15972629\\\\\n",
       "\t31726180 & -0.265428550 &  0.32277938 &  0.51889601 &  0.34277040 &  0.519617126 & -0.058839032 &  0.095116586 &  0.07835786\\\\\n",
       "\t21191200 & -0.445908061 &  0.23975465 &  0.17218771 &  0.18453386 &  0.457675193 & -0.289980858 &  0.193255075 &  0.08880168\\\\\n",
       "\t50300822 & -0.276598364 &  0.33694765 &  0.33945385 &  0.24770140 &  0.445604907 & -0.042905519 & -0.046304985 & -0.16431711\\\\\n",
       "\t50301963 & -0.348776992 &  0.12821120 & -0.02972893 &  0.21863212 &  0.411355495 &  0.206673372 &  0.005253617 & -0.06575703\\\\\n",
       "\t20730959 & -0.011821599 &  0.41704723 &  0.49844502 & -0.14551801 &  0.369160374 &  0.226363892 &  0.288903904 &  0.09133529\\\\\n",
       "\t20500815 &  0.005838516 &  0.04062332 &  0.02807178 &  0.24603597 & -0.263497110 &  0.207808971 &  0.410124781 &  0.12745313\\\\\n",
       "\t21402016 & -0.354176078 &  0.01156302 &  0.06104953 &  0.10846931 &  0.265756506 & -0.155059814 & -0.118226454 &  0.16413562\\\\\n",
       "\t51624179 & -0.178932256 &  0.43532845 &  0.32600789 &  0.20093679 &  0.583478523 & -0.093191161 &  0.177631106 &  0.29380763\\\\\n",
       "\t10100574 & -0.241556844 & -0.23119042 & -0.15306356 & -0.08924585 & -0.306626776 & -0.153393055 & -0.239486938 & -0.28481449\\\\\n",
       "\t22789958 &  0.066360401 &  0.11262415 &  0.28882397 & -0.03569874 &  0.158896718 &  0.279416724 & -0.644561875 & -0.30657136\\\\\n",
       "\t51520126 &  0.236711533 & -0.23091643 &  0.16604887 & -0.01093348 & -0.201392734 &  0.363447180 & -0.496828012 & -0.32623776\\\\\n",
       "\t94144536 & -0.305342103 &  0.36096875 &  0.10987869 & -0.12300495 &  0.348437696 & -0.031257525 & -0.391396549 & -0.05971377\\\\\n",
       "\t18659212 &  0.130562221 &  0.04014758 &  0.36034407 &  0.02936234 &  0.135290654 &  0.233459082 & -0.585242346 & -0.34037432\\\\\n",
       "\t41285665 &  0.060204182 & -0.16379320 &  0.22709752 & -0.27840953 & -0.132796843 &  0.302654782 & -0.584024564 & -0.33791211\\\\\n",
       "\\end{tabular}\n"
      ],
      "text/markdown": [
       "\n",
       "A matrix: 360 × 8 of type dbl\n",
       "\n",
       "| <!--/--> | cluster_2 | cluster_5 | cluster_4 | cluster_0 | cluster_1 | cluster_6 | cluster_7 | cluster_3 |\n",
       "|---|---|---|---|---|---|---|---|---|\n",
       "| 11409232 |  0.23372218 |  0.2719115674 | -0.29324721 |  0.054390925 | -0.10552162 | -0.245586309 |  0.67626148 |  0.446925655 |\n",
       "| 11336574 | -0.06007439 |  0.0428563090 | -0.51139310 |  0.235229383 | -0.21757672 |  0.033914502 |  0.72003611 |  0.581878503 |\n",
       "| 20207013 |  0.18162946 |  0.4504847056 | -0.24740398 | -0.138706409 |  0.21325909 | -0.204243542 |  0.63004570 |  0.585370549 |\n",
       "| 10514454 |  0.19030084 |  0.0917205352 | -0.00989614 | -0.141785514 | -0.29266654 | -0.004327049 |  0.72724627 |  0.383659721 |\n",
       "| 10290265 |  0.34948256 | -0.2598405901 | -0.03614310 | -0.201197990 | -0.25077468 | -0.223494468 | -0.25456933 | -0.020213796 |\n",
       "| 21412626 |  0.05850780 | -0.1565084873 | -0.47366921 | -0.101946184 | -0.38741523 | -0.092353688 |  0.63626525 |  0.354262931 |\n",
       "| 20170043 | -0.12092703 | -0.0552923620 |  0.08280909 | -0.195736471 | -0.16478794 | -0.271408537 |  0.14891685 |  0.244042604 |\n",
       "| 20956867 |  0.33159258 | -0.2616555892 | -0.20673902 |  0.007105114 | -0.45326125 |  0.061481789 |  0.32544545 |  0.004163754 |\n",
       "| 21172121 |  0.19273235 | -0.0504222080 | -0.20686294 | -0.186265019 | -0.11392434 | -0.261425299 |  0.08732828 |  0.206001288 |\n",
       "| 20104101 | -0.03360207 |  0.2481844941 | -0.45509051 |  0.000299052 | -0.18754247 | -0.138199435 |  0.77778705 |  0.551964441 |\n",
       "| 20261901 |  0.16544188 | -0.0861923373 | -0.32267009 |  0.098312070 | -0.36183628 | -0.070512039 |  0.21508011 |  0.321462510 |\n",
       "| 21142003 | -0.10540320 | -0.2094945271 | -0.46507860 | -0.040146752 | -0.52682218 | -0.085225156 |  0.70813507 |  0.487284391 |\n",
       "| 20179164 | -0.08647501 |  0.3540355745 | -0.41618422 |  0.158632538 | -0.20980327 | -0.085702783 |  0.77313954 |  0.527675413 |\n",
       "| 21159840 |  0.21955958 | -0.2512667074 | -0.24121689 | -0.053472286 |  0.30986318 | -0.098095793 |  0.24813481 |  0.173282576 |\n",
       "| 20977678 |  0.08226759 | -0.0438830486 | -0.04049868 |  0.132250759 | -0.37727651 | -0.065347617 |  0.69102899 |  0.355278016 |\n",
       "| 20254740 |  0.33747380 |  0.0397607843 | -0.10323025 | -0.059691875 | -0.10092103 | -0.121062048 |  0.34438400 |  0.203839038 |\n",
       "| 10261026 |  0.22738324 |  0.2365001864 |  0.06783078 | -0.185945656 |  0.25932441 | -0.123338505 |  0.50134022 |  0.290206085 |\n",
       "| 11310718 | -0.03747585 |  0.3126143473 | -0.15505126 |  0.010678316 |  0.30632133 | -0.138233610 |  0.63128178 |  0.454149465 |\n",
       "| 21135554 |  0.41533952 | -0.0005641511 | -0.21505876 | -0.124392377 | -0.32097710 |  0.104469801 |  0.54866383 |  0.184984127 |\n",
       "| 20275399 |  0.20817075 |  0.0596871524 | -0.10262334 |  0.006158014 | -0.30326917 | -0.164854757 |  0.64514818 |  0.371998661 |\n",
       "| 20249897 |  0.28617112 |  0.1131210540 | -0.10460389 |  0.106009578 | -0.28342248 | -0.251881532 |  0.70816110 |  0.450804313 |\n",
       "| 11399871 |  0.24652457 |  0.0154394234 | -0.25331668 |  0.019998083 | -0.23615452 |  0.007030170 |  0.44634518 |  0.314015010 |\n",
       "| 10101291 | -0.04297766 |  0.0955012419 | -0.15516189 | -0.005744559 | -0.08314553 | -0.184944555 |  0.19217895 |  0.275908095 |\n",
       "| 11072071 |  0.34544498 |  0.0925253180 | -0.16259101 | -0.176617944 | -0.26980159 | -0.129545058 |  0.28208048 |  0.208827272 |\n",
       "| 11399321 |  0.32767681 | -0.2673598698 | -0.11899187 | -0.043098707 | -0.43426046 |  0.204374475 |  0.41873396 |  0.230152692 |\n",
       "| 11302830 |  0.08040594 |  0.0881286498 | -0.38395631 | -0.051001378 | -0.25360412 | -0.121854582 |  0.69493737 |  0.462417278 |\n",
       "| 21272396 |  0.04181636 | -0.1597684725 | -0.31594704 | -0.001312529 | -0.31046796 |  0.319179116 |  0.09088565 | -0.364949084 |\n",
       "| 67429065 | -0.26632705 | -0.0280761951 | -0.05804787 |  0.063291513 |  0.05872863 |  0.149970298 |  0.12226115 | -0.019049010 |\n",
       "| 50106280 | -0.27514845 | -0.2269841117 | -0.29326527 | -0.062680063 | -0.11858116 |  0.194107781 |  0.03327547 |  0.020505422 |\n",
       "| 94430339 | -0.19007240 |  0.3065789093 |  0.23532684 |  0.057726510 |  0.37633575 | -0.228585225 | -0.43367862 | -0.058759468 |\n",
       "| ⋮ | ⋮ | ⋮ | ⋮ | ⋮ | ⋮ | ⋮ | ⋮ | ⋮ |\n",
       "| 20254588 |  0.033698082 |  0.19612717 |  0.25345163 | -0.03982812 |  0.260548016 |  0.134035742 | -0.151186166 | -0.22663115 |\n",
       "| 50500550 | -0.110884805 | -0.07895540 | -0.15864253 | -0.02222557 |  0.126547582 | -0.062751886 | -0.146607636 | -0.22821126 |\n",
       "| 24747976 | -0.186640155 |  0.41746419 |  0.18766743 | -0.27250344 |  0.427374356 | -0.395404110 |  0.044180945 |  0.28224635 |\n",
       "| 81086436 | -0.162467310 | -0.07390732 | -0.30422495 |  0.02587968 | -0.296274690 | -0.109008509 |  0.549012394 |  0.24791868 |\n",
       "| 20223617 |  0.229317380 | -0.31763831 | -0.21543921 | -0.16428336 | -0.203107511 |  0.013066576 | -0.199694555 | -0.15951864 |\n",
       "| 33501827 | -0.038534514 |  0.10800295 | -0.17863947 | -0.36916933 | -0.009913861 | -0.176510278 | -0.217512111 | -0.22305543 |\n",
       "| 10438999 |  0.223379531 | -0.42521713 |  0.19105033 |  0.09606100 | -0.406790863 |  0.282162284 | -0.234238324 | -0.33507370 |\n",
       "| 20907534 | -0.282044368 | -0.34217640 | -0.25937914 | -0.04894118 | -0.343855802 | -0.005537055 |  0.307344738 |  0.04295862 |\n",
       "| 54324848 | -0.147702042 |  0.09082521 |  0.13821865 | -0.02696874 |  0.144076030 | -0.019281922 | -0.268383307 | -0.29415709 |\n",
       "| 11392518 | -0.361014339 |  0.02908332 | -0.10413785 |  0.05271004 |  0.164933491 |  0.240694710 | -0.273940987 | -0.20248193 |\n",
       "| 80790863 | -0.098002818 | -0.14620844 |  0.29122352 |  0.16356434 |  0.250213286 |  0.217668007 | -0.536709919 | -0.35782550 |\n",
       "| 50400259 | -0.220127423 |  0.32820054 |  0.28084383 |  0.15733502 |  0.458913182 |  0.184917466 | -0.196245913 |  0.06510717 |\n",
       "| 18920002 | -0.007723010 | -0.04265120 |  0.33427647 |  0.15646374 |  0.439339421 |  0.051483578 | -0.450450644 | -0.26052626 |\n",
       "| 20892128 |  0.077590716 | -0.09703115 |  0.28659834 |  0.28917021 |  0.265504398 |  0.387303350 | -0.109358312 | -0.25785750 |\n",
       "| 10298957 | -0.147909742 | -0.06616693 |  0.41758403 |  0.14413223 |  0.224901673 |  0.272482733 | -0.462651105 | -0.28309752 |\n",
       "| 68525196 |  0.130530587 |  0.31891401 |  0.39593793 | -0.05285762 |  0.503838669 | -0.082516977 | -0.511224081 |  0.15972629 |\n",
       "| 31726180 | -0.265428550 |  0.32277938 |  0.51889601 |  0.34277040 |  0.519617126 | -0.058839032 |  0.095116586 |  0.07835786 |\n",
       "| 21191200 | -0.445908061 |  0.23975465 |  0.17218771 |  0.18453386 |  0.457675193 | -0.289980858 |  0.193255075 |  0.08880168 |\n",
       "| 50300822 | -0.276598364 |  0.33694765 |  0.33945385 |  0.24770140 |  0.445604907 | -0.042905519 | -0.046304985 | -0.16431711 |\n",
       "| 50301963 | -0.348776992 |  0.12821120 | -0.02972893 |  0.21863212 |  0.411355495 |  0.206673372 |  0.005253617 | -0.06575703 |\n",
       "| 20730959 | -0.011821599 |  0.41704723 |  0.49844502 | -0.14551801 |  0.369160374 |  0.226363892 |  0.288903904 |  0.09133529 |\n",
       "| 20500815 |  0.005838516 |  0.04062332 |  0.02807178 |  0.24603597 | -0.263497110 |  0.207808971 |  0.410124781 |  0.12745313 |\n",
       "| 21402016 | -0.354176078 |  0.01156302 |  0.06104953 |  0.10846931 |  0.265756506 | -0.155059814 | -0.118226454 |  0.16413562 |\n",
       "| 51624179 | -0.178932256 |  0.43532845 |  0.32600789 |  0.20093679 |  0.583478523 | -0.093191161 |  0.177631106 |  0.29380763 |\n",
       "| 10100574 | -0.241556844 | -0.23119042 | -0.15306356 | -0.08924585 | -0.306626776 | -0.153393055 | -0.239486938 | -0.28481449 |\n",
       "| 22789958 |  0.066360401 |  0.11262415 |  0.28882397 | -0.03569874 |  0.158896718 |  0.279416724 | -0.644561875 | -0.30657136 |\n",
       "| 51520126 |  0.236711533 | -0.23091643 |  0.16604887 | -0.01093348 | -0.201392734 |  0.363447180 | -0.496828012 | -0.32623776 |\n",
       "| 94144536 | -0.305342103 |  0.36096875 |  0.10987869 | -0.12300495 |  0.348437696 | -0.031257525 | -0.391396549 | -0.05971377 |\n",
       "| 18659212 |  0.130562221 |  0.04014758 |  0.36034407 |  0.02936234 |  0.135290654 |  0.233459082 | -0.585242346 | -0.34037432 |\n",
       "| 41285665 |  0.060204182 | -0.16379320 |  0.22709752 | -0.27840953 | -0.132796843 |  0.302654782 | -0.584024564 | -0.33791211 |\n",
       "\n"
      ],
      "text/plain": [
       "         cluster_2    cluster_5     cluster_4   cluster_0    cluster_1   \n",
       "11409232  0.23372218   0.2719115674 -0.29324721  0.054390925 -0.10552162 \n",
       "11336574 -0.06007439   0.0428563090 -0.51139310  0.235229383 -0.21757672 \n",
       "20207013  0.18162946   0.4504847056 -0.24740398 -0.138706409  0.21325909 \n",
       "10514454  0.19030084   0.0917205352 -0.00989614 -0.141785514 -0.29266654 \n",
       "10290265  0.34948256  -0.2598405901 -0.03614310 -0.201197990 -0.25077468 \n",
       "21412626  0.05850780  -0.1565084873 -0.47366921 -0.101946184 -0.38741523 \n",
       "20170043 -0.12092703  -0.0552923620  0.08280909 -0.195736471 -0.16478794 \n",
       "20956867  0.33159258  -0.2616555892 -0.20673902  0.007105114 -0.45326125 \n",
       "21172121  0.19273235  -0.0504222080 -0.20686294 -0.186265019 -0.11392434 \n",
       "20104101 -0.03360207   0.2481844941 -0.45509051  0.000299052 -0.18754247 \n",
       "20261901  0.16544188  -0.0861923373 -0.32267009  0.098312070 -0.36183628 \n",
       "21142003 -0.10540320  -0.2094945271 -0.46507860 -0.040146752 -0.52682218 \n",
       "20179164 -0.08647501   0.3540355745 -0.41618422  0.158632538 -0.20980327 \n",
       "21159840  0.21955958  -0.2512667074 -0.24121689 -0.053472286  0.30986318 \n",
       "20977678  0.08226759  -0.0438830486 -0.04049868  0.132250759 -0.37727651 \n",
       "20254740  0.33747380   0.0397607843 -0.10323025 -0.059691875 -0.10092103 \n",
       "10261026  0.22738324   0.2365001864  0.06783078 -0.185945656  0.25932441 \n",
       "11310718 -0.03747585   0.3126143473 -0.15505126  0.010678316  0.30632133 \n",
       "21135554  0.41533952  -0.0005641511 -0.21505876 -0.124392377 -0.32097710 \n",
       "20275399  0.20817075   0.0596871524 -0.10262334  0.006158014 -0.30326917 \n",
       "20249897  0.28617112   0.1131210540 -0.10460389  0.106009578 -0.28342248 \n",
       "11399871  0.24652457   0.0154394234 -0.25331668  0.019998083 -0.23615452 \n",
       "10101291 -0.04297766   0.0955012419 -0.15516189 -0.005744559 -0.08314553 \n",
       "11072071  0.34544498   0.0925253180 -0.16259101 -0.176617944 -0.26980159 \n",
       "11399321  0.32767681  -0.2673598698 -0.11899187 -0.043098707 -0.43426046 \n",
       "11302830  0.08040594   0.0881286498 -0.38395631 -0.051001378 -0.25360412 \n",
       "21272396  0.04181636  -0.1597684725 -0.31594704 -0.001312529 -0.31046796 \n",
       "67429065 -0.26632705  -0.0280761951 -0.05804787  0.063291513  0.05872863 \n",
       "50106280 -0.27514845  -0.2269841117 -0.29326527 -0.062680063 -0.11858116 \n",
       "94430339 -0.19007240   0.3065789093  0.23532684  0.057726510  0.37633575 \n",
       "⋮        ⋮            ⋮             ⋮           ⋮            ⋮           \n",
       "20254588  0.033698082  0.19612717    0.25345163 -0.03982812   0.260548016\n",
       "50500550 -0.110884805 -0.07895540   -0.15864253 -0.02222557   0.126547582\n",
       "24747976 -0.186640155  0.41746419    0.18766743 -0.27250344   0.427374356\n",
       "81086436 -0.162467310 -0.07390732   -0.30422495  0.02587968  -0.296274690\n",
       "20223617  0.229317380 -0.31763831   -0.21543921 -0.16428336  -0.203107511\n",
       "33501827 -0.038534514  0.10800295   -0.17863947 -0.36916933  -0.009913861\n",
       "10438999  0.223379531 -0.42521713    0.19105033  0.09606100  -0.406790863\n",
       "20907534 -0.282044368 -0.34217640   -0.25937914 -0.04894118  -0.343855802\n",
       "54324848 -0.147702042  0.09082521    0.13821865 -0.02696874   0.144076030\n",
       "11392518 -0.361014339  0.02908332   -0.10413785  0.05271004   0.164933491\n",
       "80790863 -0.098002818 -0.14620844    0.29122352  0.16356434   0.250213286\n",
       "50400259 -0.220127423  0.32820054    0.28084383  0.15733502   0.458913182\n",
       "18920002 -0.007723010 -0.04265120    0.33427647  0.15646374   0.439339421\n",
       "20892128  0.077590716 -0.09703115    0.28659834  0.28917021   0.265504398\n",
       "10298957 -0.147909742 -0.06616693    0.41758403  0.14413223   0.224901673\n",
       "68525196  0.130530587  0.31891401    0.39593793 -0.05285762   0.503838669\n",
       "31726180 -0.265428550  0.32277938    0.51889601  0.34277040   0.519617126\n",
       "21191200 -0.445908061  0.23975465    0.17218771  0.18453386   0.457675193\n",
       "50300822 -0.276598364  0.33694765    0.33945385  0.24770140   0.445604907\n",
       "50301963 -0.348776992  0.12821120   -0.02972893  0.21863212   0.411355495\n",
       "20730959 -0.011821599  0.41704723    0.49844502 -0.14551801   0.369160374\n",
       "20500815  0.005838516  0.04062332    0.02807178  0.24603597  -0.263497110\n",
       "21402016 -0.354176078  0.01156302    0.06104953  0.10846931   0.265756506\n",
       "51624179 -0.178932256  0.43532845    0.32600789  0.20093679   0.583478523\n",
       "10100574 -0.241556844 -0.23119042   -0.15306356 -0.08924585  -0.306626776\n",
       "22789958  0.066360401  0.11262415    0.28882397 -0.03569874   0.158896718\n",
       "51520126  0.236711533 -0.23091643    0.16604887 -0.01093348  -0.201392734\n",
       "94144536 -0.305342103  0.36096875    0.10987869 -0.12300495   0.348437696\n",
       "18659212  0.130562221  0.04014758    0.36034407  0.02936234   0.135290654\n",
       "41285665  0.060204182 -0.16379320    0.22709752 -0.27840953  -0.132796843\n",
       "         cluster_6    cluster_7    cluster_3   \n",
       "11409232 -0.245586309  0.67626148   0.446925655\n",
       "11336574  0.033914502  0.72003611   0.581878503\n",
       "20207013 -0.204243542  0.63004570   0.585370549\n",
       "10514454 -0.004327049  0.72724627   0.383659721\n",
       "10290265 -0.223494468 -0.25456933  -0.020213796\n",
       "21412626 -0.092353688  0.63626525   0.354262931\n",
       "20170043 -0.271408537  0.14891685   0.244042604\n",
       "20956867  0.061481789  0.32544545   0.004163754\n",
       "21172121 -0.261425299  0.08732828   0.206001288\n",
       "20104101 -0.138199435  0.77778705   0.551964441\n",
       "20261901 -0.070512039  0.21508011   0.321462510\n",
       "21142003 -0.085225156  0.70813507   0.487284391\n",
       "20179164 -0.085702783  0.77313954   0.527675413\n",
       "21159840 -0.098095793  0.24813481   0.173282576\n",
       "20977678 -0.065347617  0.69102899   0.355278016\n",
       "20254740 -0.121062048  0.34438400   0.203839038\n",
       "10261026 -0.123338505  0.50134022   0.290206085\n",
       "11310718 -0.138233610  0.63128178   0.454149465\n",
       "21135554  0.104469801  0.54866383   0.184984127\n",
       "20275399 -0.164854757  0.64514818   0.371998661\n",
       "20249897 -0.251881532  0.70816110   0.450804313\n",
       "11399871  0.007030170  0.44634518   0.314015010\n",
       "10101291 -0.184944555  0.19217895   0.275908095\n",
       "11072071 -0.129545058  0.28208048   0.208827272\n",
       "11399321  0.204374475  0.41873396   0.230152692\n",
       "11302830 -0.121854582  0.69493737   0.462417278\n",
       "21272396  0.319179116  0.09088565  -0.364949084\n",
       "67429065  0.149970298  0.12226115  -0.019049010\n",
       "50106280  0.194107781  0.03327547   0.020505422\n",
       "94430339 -0.228585225 -0.43367862  -0.058759468\n",
       "⋮        ⋮            ⋮            ⋮           \n",
       "20254588  0.134035742 -0.151186166 -0.22663115 \n",
       "50500550 -0.062751886 -0.146607636 -0.22821126 \n",
       "24747976 -0.395404110  0.044180945  0.28224635 \n",
       "81086436 -0.109008509  0.549012394  0.24791868 \n",
       "20223617  0.013066576 -0.199694555 -0.15951864 \n",
       "33501827 -0.176510278 -0.217512111 -0.22305543 \n",
       "10438999  0.282162284 -0.234238324 -0.33507370 \n",
       "20907534 -0.005537055  0.307344738  0.04295862 \n",
       "54324848 -0.019281922 -0.268383307 -0.29415709 \n",
       "11392518  0.240694710 -0.273940987 -0.20248193 \n",
       "80790863  0.217668007 -0.536709919 -0.35782550 \n",
       "50400259  0.184917466 -0.196245913  0.06510717 \n",
       "18920002  0.051483578 -0.450450644 -0.26052626 \n",
       "20892128  0.387303350 -0.109358312 -0.25785750 \n",
       "10298957  0.272482733 -0.462651105 -0.28309752 \n",
       "68525196 -0.082516977 -0.511224081  0.15972629 \n",
       "31726180 -0.058839032  0.095116586  0.07835786 \n",
       "21191200 -0.289980858  0.193255075  0.08880168 \n",
       "50300822 -0.042905519 -0.046304985 -0.16431711 \n",
       "50301963  0.206673372  0.005253617 -0.06575703 \n",
       "20730959  0.226363892  0.288903904  0.09133529 \n",
       "20500815  0.207808971  0.410124781  0.12745313 \n",
       "21402016 -0.155059814 -0.118226454  0.16413562 \n",
       "51624179 -0.093191161  0.177631106  0.29380763 \n",
       "10100574 -0.153393055 -0.239486938 -0.28481449 \n",
       "22789958  0.279416724 -0.644561875 -0.30657136 \n",
       "51520126  0.363447180 -0.496828012 -0.32623776 \n",
       "94144536 -0.031257525 -0.391396549 -0.05971377 \n",
       "18659212  0.233459082 -0.585242346 -0.34037432 \n",
       "41285665  0.302654782 -0.584024564 -0.33791211 "
      ]
     },
     "metadata": {},
     "output_type": "display_data"
    }
   ],
   "source": [
    "gsva_out"
   ]
  },
  {
   "cell_type": "code",
   "execution_count": 61,
   "id": "b3922cae-f273-4fcb-8d77-6d9984e83004",
   "metadata": {},
   "outputs": [],
   "source": [
    "#meta_keep2 = meta_keep2[index,]\n",
    "meta_keep2$exp = x['ABCA7',]"
   ]
  },
  {
   "cell_type": "code",
   "execution_count": 60,
   "id": "5d42ed05-b757-4497-bdbe-c1f13dac8927",
   "metadata": {},
   "outputs": [
    {
     "data": {
      "text/html": [
       "<style>\n",
       ".dl-inline {width: auto; margin:0; padding: 0}\n",
       ".dl-inline>dt, .dl-inline>dd {float: none; width: auto; display: inline-block}\n",
       ".dl-inline>dt::after {content: \":\\0020\"; padding-right: .5ex}\n",
       ".dl-inline>dt:not(:first-of-type) {padding-left: .5ex}\n",
       "</style><dl class=dl-inline><dt>11409232</dt><dd>22.047389997768</dd><dt>11336574</dt><dd>17.7176049997769</dd><dt>20207013</dt><dd>35.2755671200666</dd><dt>10514454</dt><dd>33.2052211082472</dd><dt>10290265</dt><dd>90.2127552444031</dd><dt>20956867</dt><dd>25.7526275377885</dd><dt>21142003</dt><dd>22.4344708520856</dd><dt>20179164</dt><dd>19.3869959023518</dd><dt>21159840</dt><dd>0</dd><dt>20977678</dt><dd>31.7305232429388</dd><dt>11310718</dt><dd>28.9579455451403</dd><dt>21135554</dt><dd>32.0355793772615</dd><dt>10101291</dt><dd>37.7182121567438</dd><dt>11399321</dt><dd>35.5514666216554</dd><dt>21272396</dt><dd>19.0916473730304</dd><dt>67429065</dt><dd>20.8125303788022</dd><dt>50106280</dt><dd>9.08875106582343</dd><dt>94430339</dt><dd>26.1257128475654</dd><dt>20646778</dt><dd>21.1222820412855</dd><dt>91444029</dt><dd>19.3091164586485</dd><dt>96095092</dt><dd>44.1778161623862</dd><dt>61827429</dt><dd>35.7672814413673</dd><dt>21001771</dt><dd>26.233633612168</dd><dt>90780976</dt><dd>23.4652813895867</dd><dt>10684501</dt><dd>22.2375463873541</dd><dt>20993308</dt><dd>24.8376928147238</dd><dt>15218541</dt><dd>26.0451483965738</dd><dt>92629514</dt><dd>41.7236697959419</dd><dt>29933130</dt><dd>34.7857562914956</dd><dt>11681508</dt><dd>25.4448173962337</dd><dt>65652206</dt><dd>17.222645486668</dd><dt>50403446</dt><dd>23.9627381381729</dd><dt>83034844</dt><dd>26.9425099028856</dd><dt>98953007</dt><dd>22.9036819213355</dd><dt>95919181</dt><dd>36.796847326301</dd><dt>50400835</dt><dd>35.1684168139119</dd><dt>20584923</dt><dd>25.3960564498354</dd><dt>21171080</dt><dd>22.6372974108687</dd><dt>34779151</dt><dd>42.378311183939</dd><dt>70816595</dt><dd>30.6788522018763</dd><dt>11619606</dt><dd>18.2223509314504</dd><dt>11632851</dt><dd>23.3214651979223</dd><dt>20780035</dt><dd>26.4620180246263</dd><dt>31509843</dt><dd>27.9197650437023</dd><dt>50109639</dt><dd>25.7692107136782</dd><dt>77891596</dt><dd>38.8995403887058</dd><dt>41773404</dt><dd>28.9429847692076</dd><dt>11259716</dt><dd>28.0637734987979</dd><dt>10383017</dt><dd>27.6035580201952</dd><dt>43485807</dt><dd>27.9104057244429</dd><dt>62483327</dt><dd>22.9009534965531</dd><dt>66924745</dt><dd>32.9719584465547</dd><dt>36830117</dt><dd>37.3381377776269</dd><dt>10300914</dt><dd>36.5775134547476</dd><dt>43074402</dt><dd>23.7440163389719</dd><dt>21002524</dt><dd>36.9375186387172</dd><dt>24039289</dt><dd>33.974836389216</dd><dt>20143248</dt><dd>30.9705769280976</dd><dt>50101523</dt><dd>3.5084927052855</dd><dt>50107907</dt><dd>22.1044708438061</dd><dt>84642424</dt><dd>24.7911429956478</dd><dt>11165535</dt><dd>24.9511908743777</dd><dt>20344143</dt><dd>35.0495280475708</dd><dt>22776575</dt><dd>20.648239444346</dd><dt>82684406</dt><dd>37.3769111183585</dd><dt>50406057</dt><dd>25.4616943839048</dd><dt>50302554</dt><dd>34.3301055444562</dd><dt>20254876</dt><dd>30.2311140146501</dd><dt>50197261</dt><dd>23.8101176141602</dd><dt>10929637</dt><dd>19.1087157117098</dd><dt>15420223</dt><dd>25.4536853721496</dd><dt>15121461</dt><dd>32.6682688507086</dd><dt>21112011</dt><dd>25.712568558496</dd><dt>20970441</dt><dd>28.309270847942</dd><dt>10253148</dt><dd>38.6495962861653</dd><dt>60848460</dt><dd>26.6752894896564</dd><dt>50402567</dt><dd>23.0579710397385</dd><dt>20611993</dt><dd>32.7152079062683</dd><dt>20974481</dt><dd>24.5058547550242</dd><dt>10249336</dt><dd>32.7729321035529</dd><dt>50105699</dt><dd>37.5372881981685</dd><dt>50301387</dt><dd>28.2871638433472</dd><dt>21001933</dt><dd>27.1720446736495</dd><dt>10669174</dt><dd>36.0798028457619</dd><dt>11331231</dt><dd>22.56194506274</dd><dt>10205244</dt><dd>20.8187413454417</dd><dt>11413170</dt><dd>31.9697852047108</dd><dt>11606935</dt><dd>29.3369644225809</dd><dt>10202345</dt><dd>36.5683251959872</dd><dt>10271474</dt><dd>20.3808925192515</dd><dt>20156469</dt><dd>28.2230424068053</dd><dt>11652071</dt><dd>25.8236191475893</dd><dt>20124321</dt><dd>18.4955481989063</dd><dt>11326252</dt><dd>26.5394440783354</dd><dt>11616707</dt><dd>25.5179461581937</dd><dt>50105725</dt><dd>15.1762745918064</dd><dt>50107583</dt><dd>13.0338922908016</dd><dt>33411712</dt><dd>24.5647825630075</dd><dt>50302004</dt><dd>28.5025535696857</dd><dt>50100806</dt><dd>33.4087018417846</dd><dt>10557081</dt><dd>34.961849206366</dd><dt>20798913</dt><dd>25.0239133014189</dd><dt>11697592</dt><dd>18.0799511692345</dd><dt>11310844</dt><dd>22.0086914587317</dd><dt>11157783</dt><dd>31.3450030051522</dd><dt>63188799</dt><dd>37.89177559275</dd><dt>20583594</dt><dd>22.7460215786633</dd><dt>74753465</dt><dd>24.8456707973083</dd><dt>60725338</dt><dd>27.2741626910044</dd><dt>39989287</dt><dd>22.4186510658534</dd><dt>50402729</dt><dd>21.1532993563384</dd><dt>21001519</dt><dd>22.5035005269675</dd><dt>10551157</dt><dd>24.0549107343656</dd><dt>20898476</dt><dd>32.2157193525799</dd><dt>50402693</dt><dd>30.2840623814308</dd><dt>65736039</dt><dd>26.5787205761834</dd><dt>52311825</dt><dd>28.4498781471558</dd><dt>21406920</dt><dd>19.5076896536817</dd><dt>23004922</dt><dd>22.9227550289591</dd><dt>83984043</dt><dd>28.5605483625286</dd><dt>20263921</dt><dd>23.6808872803011</dd><dt>50405330</dt><dd>21.3187057936522</dd><dt>50107619</dt><dd>23.8072709847359</dd><dt>67185070</dt><dd>21.9380774941238</dd><dt>89903942</dt><dd>22.5308318868574</dd><dt>10510090</dt><dd>28.2070987190369</dd><dt>53772202</dt><dd>21.2099827514265</dd><dt>61029627</dt><dd>21.8350795299902</dd><dt>18414513</dt><dd>27.8042547217142</dd><dt>69982533</dt><dd>24.852120864585</dd><dt>66406040</dt><dd>40.5637117239098</dd><dt>91707643</dt><dd>23.2998079274719</dd><dt>20205705</dt><dd>25.2768794782763</dd><dt>31908032</dt><dd>23.7182244779453</dd><dt>10315029</dt><dd>28.1035562986948</dd><dt>87410220</dt><dd>36.1240278619466</dd><dt>44299049</dt><dd>36.8173394442628</dd><dt>14184286</dt><dd>34.8329684942727</dd><dt>50405042</dt><dd>27.9586408766017</dd><dt>50301099</dt><dd>38.5317252092797</dd><dt>93815598</dt><dd>25.9114300657345</dd><dt>10292311</dt><dd>22.3523457990453</dd><dt>86408244</dt><dd>27.7261910665146</dd><dt>21193068</dt><dd>29.6611119093978</dd><dt>20630946</dt><dd>28.3817516954549</dd><dt>50300408</dt><dd>31.2307426853016</dd><dt>50400385</dt><dd>40.1068379278964</dd><dt>20767628</dt><dd>29.6616170861232</dd><dt>50109927</dt><dd>23.5911294013114</dd><dt>64493027</dt><dd>20.1277295121298</dd><dt>90267190</dt><dd>33.2484456911849</dd><dt>20376029</dt><dd>24.8852181870954</dd><dt>46000440</dt><dd>22.4681009847285</dd><dt>10516762</dt><dd>26.0384201171463</dd><dt>77143621</dt><dd>29.8870095234077</dd><dt>85065193</dt><dd>22.3023506445263</dd><dt>50102376</dt><dd>25.5018486406882</dd><dt>65292866</dt><dd>31.1332129689597</dd><dt>10901987</dt><dd>27.3787634691173</dd><dt>20195344</dt><dd>27.7851699152848</dd><dt>20311676</dt><dd>24.8714023999029</dd><dt>11615242</dt><dd>19.3494383957963</dd><dt>10277308</dt><dd>30.5412390020816</dd><dt>20288196</dt><dd>31.2544231524947</dd><dt>20929774</dt><dd>34.0817251647004</dd><dt>11349119</dt><dd>23.8128917570651</dd><dt>20998065</dt><dd>22.5551788516152</dd><dt>50104008</dt><dd>15.5919920662711</dd><dt>15738428</dt><dd>17.8163224208842</dd><dt>20904509</dt><dd>16.1549428147101</dd><dt>20225925</dt><dd>14.441807871539</dd><dt>11430815</dt><dd>26.68018402003</dd><dt>23690880</dt><dd>21.9252321845766</dd><dt>11327005</dt><dd>21.3282685305166</dd><dt>61142759</dt><dd>21.0439879405364</dd><dt>20569910</dt><dd>18.6266538326538</dd><dt>21411323</dt><dd>20.8454945171626</dd><dt>45566083</dt><dd>23.5801906650004</dd><dt>20532115</dt><dd>29.3561455541075</dd><dt>57978756</dt><dd>25.6236356910132</dd><dt>10866165</dt><dd>26.7691493325631</dd><dt>75990666</dt><dd>29.5159066845073</dd><dt>32705437</dt><dd>25.0259674783908</dd><dt>84417209</dt><dd>27.5157008045365</dd><dt>50401002</dt><dd>24.0604239241093</dd><dt>85171938</dt><dd>21.6424075346303</dd><dt>20682204</dt><dd>22.3475235452111</dd><dt>50106442</dt><dd>28.1228904248004</dd><dt>26631069</dt><dd>23.646221270964</dd><dt>20139850</dt><dd>19.7632582214077</dd><dt>21401399</dt><dd>22.354514406787</dd><dt>15844425</dt><dd>22.531442208262</dd><dt>50500136</dt><dd>22.6918749304536</dd><dt>46251007</dt><dd>26.0847562305767</dd><dt>34962204</dt><dd>29.0065581143708</dd><dt>50300084</dt><dd>27.4658405612321</dd><dt>20947550</dt><dd>38.3431517460731</dd><dt>16068769</dt><dd>27.0966637826943</dd><dt>37436329</dt><dd>21.5650430771194</dd><dt>52764842</dt><dd>24.0665942025511</dd><dt>20976799</dt><dd>27.7575468529373</dd><dt>20504017</dt><dd>26.771380832253</dd><dt>39484737</dt><dd>35.2579812076655</dd><dt>20779834</dt><dd>26.4338598863816</dd><dt>92393245</dt><dd>24.3839459908137</dd><dt>83173570</dt><dd>26.8781318801741</dd><dt>11612505</dt><dd>19.1015217457336</dd><dt>32383679</dt><dd>19.3887139046377</dd><dt>87645445</dt><dd>21.1075340876677</dd><dt>50500550</dt><dd>33.6938584126404</dd><dt>24747976</dt><dd>36.7106206488797</dd><dt>81086436</dt><dd>22.2169105571528</dd><dt>20223617</dt><dd>33.4633675558688</dd><dt>33501827</dt><dd>30.9485182983114</dd><dt>10438999</dt><dd>26.9103978674677</dd><dt>54324848</dt><dd>31.5465777614834</dd><dt>80790863</dt><dd>24.7621628223975</dd><dt>50400259</dt><dd>21.0398385517552</dd><dt>18920002</dt><dd>22.9286233729063</dd><dt>20892128</dt><dd>18.2370823845304</dd><dt>68525196</dt><dd>26.4343987262154</dd><dt>50300822</dt><dd>14.4344260482985</dd><dt>20500815</dt><dd>8.0284550749119</dd><dt>51624179</dt><dd>18.3918974157274</dd><dt>22789958</dt><dd>26.1712418665186</dd><dt>18659212</dt><dd>33.3067379729568</dd><dt>41285665</dt><dd>28.0559656723762</dd></dl>\n"
      ],
      "text/latex": [
       "\\begin{description*}\n",
       "\\item[11409232] 22.047389997768\n",
       "\\item[11336574] 17.7176049997769\n",
       "\\item[20207013] 35.2755671200666\n",
       "\\item[10514454] 33.2052211082472\n",
       "\\item[10290265] 90.2127552444031\n",
       "\\item[20956867] 25.7526275377885\n",
       "\\item[21142003] 22.4344708520856\n",
       "\\item[20179164] 19.3869959023518\n",
       "\\item[21159840] 0\n",
       "\\item[20977678] 31.7305232429388\n",
       "\\item[11310718] 28.9579455451403\n",
       "\\item[21135554] 32.0355793772615\n",
       "\\item[10101291] 37.7182121567438\n",
       "\\item[11399321] 35.5514666216554\n",
       "\\item[21272396] 19.0916473730304\n",
       "\\item[67429065] 20.8125303788022\n",
       "\\item[50106280] 9.08875106582343\n",
       "\\item[94430339] 26.1257128475654\n",
       "\\item[20646778] 21.1222820412855\n",
       "\\item[91444029] 19.3091164586485\n",
       "\\item[96095092] 44.1778161623862\n",
       "\\item[61827429] 35.7672814413673\n",
       "\\item[21001771] 26.233633612168\n",
       "\\item[90780976] 23.4652813895867\n",
       "\\item[10684501] 22.2375463873541\n",
       "\\item[20993308] 24.8376928147238\n",
       "\\item[15218541] 26.0451483965738\n",
       "\\item[92629514] 41.7236697959419\n",
       "\\item[29933130] 34.7857562914956\n",
       "\\item[11681508] 25.4448173962337\n",
       "\\item[65652206] 17.222645486668\n",
       "\\item[50403446] 23.9627381381729\n",
       "\\item[83034844] 26.9425099028856\n",
       "\\item[98953007] 22.9036819213355\n",
       "\\item[95919181] 36.796847326301\n",
       "\\item[50400835] 35.1684168139119\n",
       "\\item[20584923] 25.3960564498354\n",
       "\\item[21171080] 22.6372974108687\n",
       "\\item[34779151] 42.378311183939\n",
       "\\item[70816595] 30.6788522018763\n",
       "\\item[11619606] 18.2223509314504\n",
       "\\item[11632851] 23.3214651979223\n",
       "\\item[20780035] 26.4620180246263\n",
       "\\item[31509843] 27.9197650437023\n",
       "\\item[50109639] 25.7692107136782\n",
       "\\item[77891596] 38.8995403887058\n",
       "\\item[41773404] 28.9429847692076\n",
       "\\item[11259716] 28.0637734987979\n",
       "\\item[10383017] 27.6035580201952\n",
       "\\item[43485807] 27.9104057244429\n",
       "\\item[62483327] 22.9009534965531\n",
       "\\item[66924745] 32.9719584465547\n",
       "\\item[36830117] 37.3381377776269\n",
       "\\item[10300914] 36.5775134547476\n",
       "\\item[43074402] 23.7440163389719\n",
       "\\item[21002524] 36.9375186387172\n",
       "\\item[24039289] 33.974836389216\n",
       "\\item[20143248] 30.9705769280976\n",
       "\\item[50101523] 3.5084927052855\n",
       "\\item[50107907] 22.1044708438061\n",
       "\\item[84642424] 24.7911429956478\n",
       "\\item[11165535] 24.9511908743777\n",
       "\\item[20344143] 35.0495280475708\n",
       "\\item[22776575] 20.648239444346\n",
       "\\item[82684406] 37.3769111183585\n",
       "\\item[50406057] 25.4616943839048\n",
       "\\item[50302554] 34.3301055444562\n",
       "\\item[20254876] 30.2311140146501\n",
       "\\item[50197261] 23.8101176141602\n",
       "\\item[10929637] 19.1087157117098\n",
       "\\item[15420223] 25.4536853721496\n",
       "\\item[15121461] 32.6682688507086\n",
       "\\item[21112011] 25.712568558496\n",
       "\\item[20970441] 28.309270847942\n",
       "\\item[10253148] 38.6495962861653\n",
       "\\item[60848460] 26.6752894896564\n",
       "\\item[50402567] 23.0579710397385\n",
       "\\item[20611993] 32.7152079062683\n",
       "\\item[20974481] 24.5058547550242\n",
       "\\item[10249336] 32.7729321035529\n",
       "\\item[50105699] 37.5372881981685\n",
       "\\item[50301387] 28.2871638433472\n",
       "\\item[21001933] 27.1720446736495\n",
       "\\item[10669174] 36.0798028457619\n",
       "\\item[11331231] 22.56194506274\n",
       "\\item[10205244] 20.8187413454417\n",
       "\\item[11413170] 31.9697852047108\n",
       "\\item[11606935] 29.3369644225809\n",
       "\\item[10202345] 36.5683251959872\n",
       "\\item[10271474] 20.3808925192515\n",
       "\\item[20156469] 28.2230424068053\n",
       "\\item[11652071] 25.8236191475893\n",
       "\\item[20124321] 18.4955481989063\n",
       "\\item[11326252] 26.5394440783354\n",
       "\\item[11616707] 25.5179461581937\n",
       "\\item[50105725] 15.1762745918064\n",
       "\\item[50107583] 13.0338922908016\n",
       "\\item[33411712] 24.5647825630075\n",
       "\\item[50302004] 28.5025535696857\n",
       "\\item[50100806] 33.4087018417846\n",
       "\\item[10557081] 34.961849206366\n",
       "\\item[20798913] 25.0239133014189\n",
       "\\item[11697592] 18.0799511692345\n",
       "\\item[11310844] 22.0086914587317\n",
       "\\item[11157783] 31.3450030051522\n",
       "\\item[63188799] 37.89177559275\n",
       "\\item[20583594] 22.7460215786633\n",
       "\\item[74753465] 24.8456707973083\n",
       "\\item[60725338] 27.2741626910044\n",
       "\\item[39989287] 22.4186510658534\n",
       "\\item[50402729] 21.1532993563384\n",
       "\\item[21001519] 22.5035005269675\n",
       "\\item[10551157] 24.0549107343656\n",
       "\\item[20898476] 32.2157193525799\n",
       "\\item[50402693] 30.2840623814308\n",
       "\\item[65736039] 26.5787205761834\n",
       "\\item[52311825] 28.4498781471558\n",
       "\\item[21406920] 19.5076896536817\n",
       "\\item[23004922] 22.9227550289591\n",
       "\\item[83984043] 28.5605483625286\n",
       "\\item[20263921] 23.6808872803011\n",
       "\\item[50405330] 21.3187057936522\n",
       "\\item[50107619] 23.8072709847359\n",
       "\\item[67185070] 21.9380774941238\n",
       "\\item[89903942] 22.5308318868574\n",
       "\\item[10510090] 28.2070987190369\n",
       "\\item[53772202] 21.2099827514265\n",
       "\\item[61029627] 21.8350795299902\n",
       "\\item[18414513] 27.8042547217142\n",
       "\\item[69982533] 24.852120864585\n",
       "\\item[66406040] 40.5637117239098\n",
       "\\item[91707643] 23.2998079274719\n",
       "\\item[20205705] 25.2768794782763\n",
       "\\item[31908032] 23.7182244779453\n",
       "\\item[10315029] 28.1035562986948\n",
       "\\item[87410220] 36.1240278619466\n",
       "\\item[44299049] 36.8173394442628\n",
       "\\item[14184286] 34.8329684942727\n",
       "\\item[50405042] 27.9586408766017\n",
       "\\item[50301099] 38.5317252092797\n",
       "\\item[93815598] 25.9114300657345\n",
       "\\item[10292311] 22.3523457990453\n",
       "\\item[86408244] 27.7261910665146\n",
       "\\item[21193068] 29.6611119093978\n",
       "\\item[20630946] 28.3817516954549\n",
       "\\item[50300408] 31.2307426853016\n",
       "\\item[50400385] 40.1068379278964\n",
       "\\item[20767628] 29.6616170861232\n",
       "\\item[50109927] 23.5911294013114\n",
       "\\item[64493027] 20.1277295121298\n",
       "\\item[90267190] 33.2484456911849\n",
       "\\item[20376029] 24.8852181870954\n",
       "\\item[46000440] 22.4681009847285\n",
       "\\item[10516762] 26.0384201171463\n",
       "\\item[77143621] 29.8870095234077\n",
       "\\item[85065193] 22.3023506445263\n",
       "\\item[50102376] 25.5018486406882\n",
       "\\item[65292866] 31.1332129689597\n",
       "\\item[10901987] 27.3787634691173\n",
       "\\item[20195344] 27.7851699152848\n",
       "\\item[20311676] 24.8714023999029\n",
       "\\item[11615242] 19.3494383957963\n",
       "\\item[10277308] 30.5412390020816\n",
       "\\item[20288196] 31.2544231524947\n",
       "\\item[20929774] 34.0817251647004\n",
       "\\item[11349119] 23.8128917570651\n",
       "\\item[20998065] 22.5551788516152\n",
       "\\item[50104008] 15.5919920662711\n",
       "\\item[15738428] 17.8163224208842\n",
       "\\item[20904509] 16.1549428147101\n",
       "\\item[20225925] 14.441807871539\n",
       "\\item[11430815] 26.68018402003\n",
       "\\item[23690880] 21.9252321845766\n",
       "\\item[11327005] 21.3282685305166\n",
       "\\item[61142759] 21.0439879405364\n",
       "\\item[20569910] 18.6266538326538\n",
       "\\item[21411323] 20.8454945171626\n",
       "\\item[45566083] 23.5801906650004\n",
       "\\item[20532115] 29.3561455541075\n",
       "\\item[57978756] 25.6236356910132\n",
       "\\item[10866165] 26.7691493325631\n",
       "\\item[75990666] 29.5159066845073\n",
       "\\item[32705437] 25.0259674783908\n",
       "\\item[84417209] 27.5157008045365\n",
       "\\item[50401002] 24.0604239241093\n",
       "\\item[85171938] 21.6424075346303\n",
       "\\item[20682204] 22.3475235452111\n",
       "\\item[50106442] 28.1228904248004\n",
       "\\item[26631069] 23.646221270964\n",
       "\\item[20139850] 19.7632582214077\n",
       "\\item[21401399] 22.354514406787\n",
       "\\item[15844425] 22.531442208262\n",
       "\\item[50500136] 22.6918749304536\n",
       "\\item[46251007] 26.0847562305767\n",
       "\\item[34962204] 29.0065581143708\n",
       "\\item[50300084] 27.4658405612321\n",
       "\\item[20947550] 38.3431517460731\n",
       "\\item[16068769] 27.0966637826943\n",
       "\\item[37436329] 21.5650430771194\n",
       "\\item[52764842] 24.0665942025511\n",
       "\\item[20976799] 27.7575468529373\n",
       "\\item[20504017] 26.771380832253\n",
       "\\item[39484737] 35.2579812076655\n",
       "\\item[20779834] 26.4338598863816\n",
       "\\item[92393245] 24.3839459908137\n",
       "\\item[83173570] 26.8781318801741\n",
       "\\item[11612505] 19.1015217457336\n",
       "\\item[32383679] 19.3887139046377\n",
       "\\item[87645445] 21.1075340876677\n",
       "\\item[50500550] 33.6938584126404\n",
       "\\item[24747976] 36.7106206488797\n",
       "\\item[81086436] 22.2169105571528\n",
       "\\item[20223617] 33.4633675558688\n",
       "\\item[33501827] 30.9485182983114\n",
       "\\item[10438999] 26.9103978674677\n",
       "\\item[54324848] 31.5465777614834\n",
       "\\item[80790863] 24.7621628223975\n",
       "\\item[50400259] 21.0398385517552\n",
       "\\item[18920002] 22.9286233729063\n",
       "\\item[20892128] 18.2370823845304\n",
       "\\item[68525196] 26.4343987262154\n",
       "\\item[50300822] 14.4344260482985\n",
       "\\item[20500815] 8.0284550749119\n",
       "\\item[51624179] 18.3918974157274\n",
       "\\item[22789958] 26.1712418665186\n",
       "\\item[18659212] 33.3067379729568\n",
       "\\item[41285665] 28.0559656723762\n",
       "\\end{description*}\n"
      ],
      "text/markdown": [
       "11409232\n",
       ":   22.04738999776811336574\n",
       ":   17.717604999776920207013\n",
       ":   35.275567120066610514454\n",
       ":   33.205221108247210290265\n",
       ":   90.212755244403120956867\n",
       ":   25.752627537788521142003\n",
       ":   22.434470852085620179164\n",
       ":   19.386995902351821159840\n",
       ":   020977678\n",
       ":   31.730523242938811310718\n",
       ":   28.957945545140321135554\n",
       ":   32.035579377261510101291\n",
       ":   37.718212156743811399321\n",
       ":   35.551466621655421272396\n",
       ":   19.091647373030467429065\n",
       ":   20.812530378802250106280\n",
       ":   9.0887510658234394430339\n",
       ":   26.125712847565420646778\n",
       ":   21.122282041285591444029\n",
       ":   19.309116458648596095092\n",
       ":   44.177816162386261827429\n",
       ":   35.767281441367321001771\n",
       ":   26.23363361216890780976\n",
       ":   23.465281389586710684501\n",
       ":   22.237546387354120993308\n",
       ":   24.837692814723815218541\n",
       ":   26.045148396573892629514\n",
       ":   41.723669795941929933130\n",
       ":   34.785756291495611681508\n",
       ":   25.444817396233765652206\n",
       ":   17.22264548666850403446\n",
       ":   23.962738138172983034844\n",
       ":   26.942509902885698953007\n",
       ":   22.903681921335595919181\n",
       ":   36.79684732630150400835\n",
       ":   35.168416813911920584923\n",
       ":   25.396056449835421171080\n",
       ":   22.637297410868734779151\n",
       ":   42.37831118393970816595\n",
       ":   30.678852201876311619606\n",
       ":   18.222350931450411632851\n",
       ":   23.321465197922320780035\n",
       ":   26.462018024626331509843\n",
       ":   27.919765043702350109639\n",
       ":   25.769210713678277891596\n",
       ":   38.899540388705841773404\n",
       ":   28.942984769207611259716\n",
       ":   28.063773498797910383017\n",
       ":   27.603558020195243485807\n",
       ":   27.910405724442962483327\n",
       ":   22.900953496553166924745\n",
       ":   32.971958446554736830117\n",
       ":   37.338137777626910300914\n",
       ":   36.577513454747643074402\n",
       ":   23.744016338971921002524\n",
       ":   36.937518638717224039289\n",
       ":   33.97483638921620143248\n",
       ":   30.970576928097650101523\n",
       ":   3.508492705285550107907\n",
       ":   22.104470843806184642424\n",
       ":   24.791142995647811165535\n",
       ":   24.951190874377720344143\n",
       ":   35.049528047570822776575\n",
       ":   20.64823944434682684406\n",
       ":   37.376911118358550406057\n",
       ":   25.461694383904850302554\n",
       ":   34.330105544456220254876\n",
       ":   30.231114014650150197261\n",
       ":   23.810117614160210929637\n",
       ":   19.108715711709815420223\n",
       ":   25.453685372149615121461\n",
       ":   32.668268850708621112011\n",
       ":   25.71256855849620970441\n",
       ":   28.30927084794210253148\n",
       ":   38.649596286165360848460\n",
       ":   26.675289489656450402567\n",
       ":   23.057971039738520611993\n",
       ":   32.715207906268320974481\n",
       ":   24.505854755024210249336\n",
       ":   32.772932103552950105699\n",
       ":   37.537288198168550301387\n",
       ":   28.287163843347221001933\n",
       ":   27.172044673649510669174\n",
       ":   36.079802845761911331231\n",
       ":   22.5619450627410205244\n",
       ":   20.818741345441711413170\n",
       ":   31.969785204710811606935\n",
       ":   29.336964422580910202345\n",
       ":   36.568325195987210271474\n",
       ":   20.380892519251520156469\n",
       ":   28.223042406805311652071\n",
       ":   25.823619147589320124321\n",
       ":   18.495548198906311326252\n",
       ":   26.539444078335411616707\n",
       ":   25.517946158193750105725\n",
       ":   15.176274591806450107583\n",
       ":   13.033892290801633411712\n",
       ":   24.564782563007550302004\n",
       ":   28.502553569685750100806\n",
       ":   33.408701841784610557081\n",
       ":   34.96184920636620798913\n",
       ":   25.023913301418911697592\n",
       ":   18.079951169234511310844\n",
       ":   22.008691458731711157783\n",
       ":   31.345003005152263188799\n",
       ":   37.8917755927520583594\n",
       ":   22.746021578663374753465\n",
       ":   24.845670797308360725338\n",
       ":   27.274162691004439989287\n",
       ":   22.418651065853450402729\n",
       ":   21.153299356338421001519\n",
       ":   22.503500526967510551157\n",
       ":   24.054910734365620898476\n",
       ":   32.215719352579950402693\n",
       ":   30.284062381430865736039\n",
       ":   26.578720576183452311825\n",
       ":   28.449878147155821406920\n",
       ":   19.507689653681723004922\n",
       ":   22.922755028959183984043\n",
       ":   28.560548362528620263921\n",
       ":   23.680887280301150405330\n",
       ":   21.318705793652250107619\n",
       ":   23.807270984735967185070\n",
       ":   21.938077494123889903942\n",
       ":   22.530831886857410510090\n",
       ":   28.207098719036953772202\n",
       ":   21.209982751426561029627\n",
       ":   21.835079529990218414513\n",
       ":   27.804254721714269982533\n",
       ":   24.85212086458566406040\n",
       ":   40.563711723909891707643\n",
       ":   23.299807927471920205705\n",
       ":   25.276879478276331908032\n",
       ":   23.718224477945310315029\n",
       ":   28.103556298694887410220\n",
       ":   36.124027861946644299049\n",
       ":   36.817339444262814184286\n",
       ":   34.832968494272750405042\n",
       ":   27.958640876601750301099\n",
       ":   38.531725209279793815598\n",
       ":   25.911430065734510292311\n",
       ":   22.352345799045386408244\n",
       ":   27.726191066514621193068\n",
       ":   29.661111909397820630946\n",
       ":   28.381751695454950300408\n",
       ":   31.230742685301650400385\n",
       ":   40.106837927896420767628\n",
       ":   29.661617086123250109927\n",
       ":   23.591129401311464493027\n",
       ":   20.127729512129890267190\n",
       ":   33.248445691184920376029\n",
       ":   24.885218187095446000440\n",
       ":   22.468100984728510516762\n",
       ":   26.038420117146377143621\n",
       ":   29.887009523407785065193\n",
       ":   22.302350644526350102376\n",
       ":   25.501848640688265292866\n",
       ":   31.133212968959710901987\n",
       ":   27.378763469117320195344\n",
       ":   27.785169915284820311676\n",
       ":   24.871402399902911615242\n",
       ":   19.349438395796310277308\n",
       ":   30.541239002081620288196\n",
       ":   31.254423152494720929774\n",
       ":   34.081725164700411349119\n",
       ":   23.812891757065120998065\n",
       ":   22.555178851615250104008\n",
       ":   15.591992066271115738428\n",
       ":   17.816322420884220904509\n",
       ":   16.154942814710120225925\n",
       ":   14.44180787153911430815\n",
       ":   26.6801840200323690880\n",
       ":   21.925232184576611327005\n",
       ":   21.328268530516661142759\n",
       ":   21.043987940536420569910\n",
       ":   18.626653832653821411323\n",
       ":   20.845494517162645566083\n",
       ":   23.580190665000420532115\n",
       ":   29.356145554107557978756\n",
       ":   25.623635691013210866165\n",
       ":   26.769149332563175990666\n",
       ":   29.515906684507332705437\n",
       ":   25.025967478390884417209\n",
       ":   27.515700804536550401002\n",
       ":   24.060423924109385171938\n",
       ":   21.642407534630320682204\n",
       ":   22.347523545211150106442\n",
       ":   28.122890424800426631069\n",
       ":   23.64622127096420139850\n",
       ":   19.763258221407721401399\n",
       ":   22.35451440678715844425\n",
       ":   22.53144220826250500136\n",
       ":   22.691874930453646251007\n",
       ":   26.084756230576734962204\n",
       ":   29.006558114370850300084\n",
       ":   27.465840561232120947550\n",
       ":   38.343151746073116068769\n",
       ":   27.096663782694337436329\n",
       ":   21.565043077119452764842\n",
       ":   24.066594202551120976799\n",
       ":   27.757546852937320504017\n",
       ":   26.77138083225339484737\n",
       ":   35.257981207665520779834\n",
       ":   26.433859886381692393245\n",
       ":   24.383945990813783173570\n",
       ":   26.878131880174111612505\n",
       ":   19.101521745733632383679\n",
       ":   19.388713904637787645445\n",
       ":   21.107534087667750500550\n",
       ":   33.693858412640424747976\n",
       ":   36.710620648879781086436\n",
       ":   22.216910557152820223617\n",
       ":   33.463367555868833501827\n",
       ":   30.948518298311410438999\n",
       ":   26.910397867467754324848\n",
       ":   31.546577761483480790863\n",
       ":   24.762162822397550400259\n",
       ":   21.039838551755218920002\n",
       ":   22.928623372906320892128\n",
       ":   18.237082384530468525196\n",
       ":   26.434398726215450300822\n",
       ":   14.434426048298520500815\n",
       ":   8.028455074911951624179\n",
       ":   18.391897415727422789958\n",
       ":   26.171241866518618659212\n",
       ":   33.306737972956841285665\n",
       ":   28.0559656723762\n",
       "\n"
      ],
      "text/plain": [
       " 11409232  11336574  20207013  10514454  10290265  20956867  21142003  20179164 \n",
       "22.047390 17.717605 35.275567 33.205221 90.212755 25.752628 22.434471 19.386996 \n",
       " 21159840  20977678  11310718  21135554  10101291  11399321  21272396  67429065 \n",
       " 0.000000 31.730523 28.957946 32.035579 37.718212 35.551467 19.091647 20.812530 \n",
       " 50106280  94430339  20646778  91444029  96095092  61827429  21001771  90780976 \n",
       " 9.088751 26.125713 21.122282 19.309116 44.177816 35.767281 26.233634 23.465281 \n",
       " 10684501  20993308  15218541  92629514  29933130  11681508  65652206  50403446 \n",
       "22.237546 24.837693 26.045148 41.723670 34.785756 25.444817 17.222645 23.962738 \n",
       " 83034844  98953007  95919181  50400835  20584923  21171080  34779151  70816595 \n",
       "26.942510 22.903682 36.796847 35.168417 25.396056 22.637297 42.378311 30.678852 \n",
       " 11619606  11632851  20780035  31509843  50109639  77891596  41773404  11259716 \n",
       "18.222351 23.321465 26.462018 27.919765 25.769211 38.899540 28.942985 28.063773 \n",
       " 10383017  43485807  62483327  66924745  36830117  10300914  43074402  21002524 \n",
       "27.603558 27.910406 22.900953 32.971958 37.338138 36.577513 23.744016 36.937519 \n",
       " 24039289  20143248  50101523  50107907  84642424  11165535  20344143  22776575 \n",
       "33.974836 30.970577  3.508493 22.104471 24.791143 24.951191 35.049528 20.648239 \n",
       " 82684406  50406057  50302554  20254876  50197261  10929637  15420223  15121461 \n",
       "37.376911 25.461694 34.330106 30.231114 23.810118 19.108716 25.453685 32.668269 \n",
       " 21112011  20970441  10253148  60848460  50402567  20611993  20974481  10249336 \n",
       "25.712569 28.309271 38.649596 26.675289 23.057971 32.715208 24.505855 32.772932 \n",
       " 50105699  50301387  21001933  10669174  11331231  10205244  11413170  11606935 \n",
       "37.537288 28.287164 27.172045 36.079803 22.561945 20.818741 31.969785 29.336964 \n",
       " 10202345  10271474  20156469  11652071  20124321  11326252  11616707  50105725 \n",
       "36.568325 20.380893 28.223042 25.823619 18.495548 26.539444 25.517946 15.176275 \n",
       " 50107583  33411712  50302004  50100806  10557081  20798913  11697592  11310844 \n",
       "13.033892 24.564783 28.502554 33.408702 34.961849 25.023913 18.079951 22.008691 \n",
       " 11157783  63188799  20583594  74753465  60725338  39989287  50402729  21001519 \n",
       "31.345003 37.891776 22.746022 24.845671 27.274163 22.418651 21.153299 22.503501 \n",
       " 10551157  20898476  50402693  65736039  52311825  21406920  23004922  83984043 \n",
       "24.054911 32.215719 30.284062 26.578721 28.449878 19.507690 22.922755 28.560548 \n",
       " 20263921  50405330  50107619  67185070  89903942  10510090  53772202  61029627 \n",
       "23.680887 21.318706 23.807271 21.938077 22.530832 28.207099 21.209983 21.835080 \n",
       " 18414513  69982533  66406040  91707643  20205705  31908032  10315029  87410220 \n",
       "27.804255 24.852121 40.563712 23.299808 25.276879 23.718224 28.103556 36.124028 \n",
       " 44299049  14184286  50405042  50301099  93815598  10292311  86408244  21193068 \n",
       "36.817339 34.832968 27.958641 38.531725 25.911430 22.352346 27.726191 29.661112 \n",
       " 20630946  50300408  50400385  20767628  50109927  64493027  90267190  20376029 \n",
       "28.381752 31.230743 40.106838 29.661617 23.591129 20.127730 33.248446 24.885218 \n",
       " 46000440  10516762  77143621  85065193  50102376  65292866  10901987  20195344 \n",
       "22.468101 26.038420 29.887010 22.302351 25.501849 31.133213 27.378763 27.785170 \n",
       " 20311676  11615242  10277308  20288196  20929774  11349119  20998065  50104008 \n",
       "24.871402 19.349438 30.541239 31.254423 34.081725 23.812892 22.555179 15.591992 \n",
       " 15738428  20904509  20225925  11430815  23690880  11327005  61142759  20569910 \n",
       "17.816322 16.154943 14.441808 26.680184 21.925232 21.328269 21.043988 18.626654 \n",
       " 21411323  45566083  20532115  57978756  10866165  75990666  32705437  84417209 \n",
       "20.845495 23.580191 29.356146 25.623636 26.769149 29.515907 25.025967 27.515701 \n",
       " 50401002  85171938  20682204  50106442  26631069  20139850  21401399  15844425 \n",
       "24.060424 21.642408 22.347524 28.122890 23.646221 19.763258 22.354514 22.531442 \n",
       " 50500136  46251007  34962204  50300084  20947550  16068769  37436329  52764842 \n",
       "22.691875 26.084756 29.006558 27.465841 38.343152 27.096664 21.565043 24.066594 \n",
       " 20976799  20504017  39484737  20779834  92393245  83173570  11612505  32383679 \n",
       "27.757547 26.771381 35.257981 26.433860 24.383946 26.878132 19.101522 19.388714 \n",
       " 87645445  50500550  24747976  81086436  20223617  33501827  10438999  54324848 \n",
       "21.107534 33.693858 36.710621 22.216911 33.463368 30.948518 26.910398 31.546578 \n",
       " 80790863  50400259  18920002  20892128  68525196  50300822  20500815  51624179 \n",
       "24.762163 21.039839 22.928623 18.237082 26.434399 14.434426  8.028455 18.391897 \n",
       " 22789958  18659212  41285665 \n",
       "26.171242 33.306738 28.055966 "
      ]
     },
     "metadata": {},
     "output_type": "display_data"
    }
   ],
   "source": [
    "x['ABCA7',]"
   ]
  },
  {
   "cell_type": "code",
   "execution_count": 62,
   "id": "5f84e2a2-beb9-4f95-bc80-441fe31c0cfb",
   "metadata": {},
   "outputs": [],
   "source": [
    "write.csv(meta_keep2, '../processed_data/common_var/meta.csv')"
   ]
  },
  {
   "cell_type": "code",
   "execution_count": 56,
   "id": "9a17601d-eefc-4dc3-9dfb-3a6dc25dd46c",
   "metadata": {},
   "outputs": [
    {
     "ename": "ERROR",
     "evalue": "Error in library(\"GSVA\"): there is no package called ‘GSVA’\n",
     "output_type": "error",
     "traceback": [
      "Error in library(\"GSVA\"): there is no package called ‘GSVA’\nTraceback:\n",
      "1. library(\"GSVA\")"
     ]
    }
   ],
   "source": [
    "library('GSVA')\n"
   ]
  },
  {
   "cell_type": "code",
   "execution_count": null,
   "id": "5e3a4217-e927-4881-981e-c32cd59c8b4b",
   "metadata": {},
   "outputs": [],
   "source": [
    "paths = read.csv('../supplementary_tables/data_s8.csv')\n",
    "paths = paths[paths$is_gene=='True',]\n",
    "P = list()\n",
    "for(i in unique(paths$cluster)){\n",
    "    P[[as.character(i)]] = paths[paths$cluster==i,'description']\n",
    "}      \n"
   ]
  },
  {
   "cell_type": "code",
   "execution_count": 11,
   "id": "2edae9c6-0ac6-4384-a528-213b6cc3e300",
   "metadata": {},
   "outputs": [
    {
     "data": {
      "text/html": [
       "<table class=\"dataframe\">\n",
       "<caption>A matrix: 10226 × 360 of type dbl</caption>\n",
       "<thead>\n",
       "\t<tr><th></th><th scope=col>11409232</th><th scope=col>11336574</th><th scope=col>20207013</th><th scope=col>10514454</th><th scope=col>10290265</th><th scope=col>21412626</th><th scope=col>20170043</th><th scope=col>20956867</th><th scope=col>21172121</th><th scope=col>20104101</th><th scope=col>⋯</th><th scope=col>20730959</th><th scope=col>20500815</th><th scope=col>21402016</th><th scope=col>51624179</th><th scope=col>10100574</th><th scope=col>22789958</th><th scope=col>51520126</th><th scope=col>94144536</th><th scope=col>18659212</th><th scope=col>41285665</th></tr>\n",
       "</thead>\n",
       "<tbody>\n",
       "\t<tr><th scope=row>NOC2L</th><td> 181</td><td> 85</td><td> 563</td><td> 240</td><td> 28</td><td> 372</td><td> 36</td><td>129</td><td> 47</td><td> 488</td><td>⋯</td><td>1277</td><td> 1190</td><td> 1152</td><td> 991</td><td> 1410</td><td> 505</td><td>  950</td><td>1260</td><td> 846</td><td> 653</td></tr>\n",
       "\t<tr><th scope=row>KLHL17</th><td>  19</td><td>  6</td><td>  55</td><td>  42</td><td>  4</td><td>  45</td><td>  6</td><td> 37</td><td>  3</td><td>  44</td><td>⋯</td><td> 171</td><td>  157</td><td>  277</td><td> 188</td><td>  467</td><td> 131</td><td>  236</td><td> 335</td><td> 283</td><td> 128</td></tr>\n",
       "\t<tr><th scope=row>HES4</th><td>  58</td><td> 11</td><td> 121</td><td>  94</td><td>  6</td><td>  96</td><td>  6</td><td> 60</td><td>  6</td><td> 172</td><td>⋯</td><td>   6</td><td> 1414</td><td>  825</td><td> 238</td><td> 1746</td><td> 163</td><td>  736</td><td> 794</td><td> 450</td><td> 350</td></tr>\n",
       "\t<tr><th scope=row>AGRN</th><td> 187</td><td> 33</td><td> 390</td><td> 257</td><td> 48</td><td> 243</td><td> 22</td><td>158</td><td> 28</td><td> 196</td><td>⋯</td><td>   3</td><td> 1060</td><td> 1563</td><td> 711</td><td> 2575</td><td> 756</td><td> 1878</td><td>1724</td><td>1008</td><td> 888</td></tr>\n",
       "\t<tr><th scope=row>C1orf159</th><td> 191</td><td> 48</td><td> 497</td><td> 271</td><td> 25</td><td> 195</td><td> 12</td><td>209</td><td> 19</td><td> 322</td><td>⋯</td><td> 899</td><td> 2392</td><td> 2293</td><td>1462</td><td> 3131</td><td>1303</td><td> 2918</td><td>2558</td><td>2407</td><td>1781</td></tr>\n",
       "\t<tr><th scope=row>SDF4</th><td> 175</td><td> 56</td><td> 453</td><td> 221</td><td> 42</td><td> 289</td><td> 31</td><td>166</td><td> 26</td><td> 346</td><td>⋯</td><td>2083</td><td> 1339</td><td> 1318</td><td>1271</td><td> 1788</td><td> 704</td><td> 1294</td><td>1706</td><td>1349</td><td> 984</td></tr>\n",
       "\t<tr><th scope=row>UBE2J2</th><td> 136</td><td> 47</td><td> 434</td><td> 218</td><td> 23</td><td> 230</td><td> 22</td><td>155</td><td> 41</td><td> 380</td><td>⋯</td><td>1316</td><td> 1134</td><td> 1099</td><td> 932</td><td> 1780</td><td> 730</td><td> 1466</td><td>1700</td><td>1446</td><td> 853</td></tr>\n",
       "\t<tr><th scope=row>SCNN1D</th><td>  23</td><td>  7</td><td> 116</td><td>  53</td><td> 11</td><td>  42</td><td>  6</td><td> 39</td><td> 10</td><td>  40</td><td>⋯</td><td> 144</td><td>   98</td><td>  324</td><td> 172</td><td>  450</td><td> 282</td><td>  460</td><td> 405</td><td> 500</td><td> 291</td></tr>\n",
       "\t<tr><th scope=row>ACAP3</th><td> 391</td><td> 99</td><td>1095</td><td> 607</td><td>115</td><td> 615</td><td> 66</td><td>486</td><td> 95</td><td> 607</td><td>⋯</td><td>3525</td><td> 2848</td><td> 3915</td><td>2148</td><td> 6214</td><td>2822</td><td> 5478</td><td>4241</td><td>4492</td><td>2509</td></tr>\n",
       "\t<tr><th scope=row>INTS11</th><td> 232</td><td> 84</td><td> 662</td><td> 358</td><td> 61</td><td> 318</td><td> 40</td><td>154</td><td> 75</td><td> 487</td><td>⋯</td><td>2171</td><td> 1709</td><td> 1459</td><td>1382</td><td> 2599</td><td> 795</td><td> 1421</td><td>2276</td><td>1616</td><td> 943</td></tr>\n",
       "\t<tr><th scope=row>DVL1</th><td> 135</td><td> 33</td><td> 386</td><td> 174</td><td> 29</td><td> 224</td><td> 12</td><td>124</td><td> 28</td><td> 234</td><td>⋯</td><td> 399</td><td> 1009</td><td>  779</td><td> 680</td><td> 1276</td><td> 414</td><td>  702</td><td>1036</td><td> 624</td><td> 477</td></tr>\n",
       "\t<tr><th scope=row>AURKAIP1</th><td> 188</td><td>113</td><td> 518</td><td> 288</td><td>  8</td><td> 267</td><td> 21</td><td> 92</td><td> 20</td><td> 880</td><td>⋯</td><td>1056</td><td> 1485</td><td>  685</td><td> 616</td><td>  889</td><td> 178</td><td>  367</td><td> 539</td><td> 218</td><td> 280</td></tr>\n",
       "\t<tr><th scope=row>CCNL2</th><td> 293</td><td> 96</td><td> 898</td><td> 415</td><td> 33</td><td> 358</td><td> 33</td><td>236</td><td> 61</td><td> 640</td><td>⋯</td><td>4910</td><td> 1845</td><td> 2594</td><td>2531</td><td> 4857</td><td>1618</td><td> 3179</td><td>3976</td><td>2677</td><td>1904</td></tr>\n",
       "\t<tr><th scope=row>MRPL20</th><td> 230</td><td>112</td><td> 609</td><td> 344</td><td> 12</td><td> 344</td><td> 20</td><td>100</td><td> 12</td><td> 956</td><td>⋯</td><td>1156</td><td> 1212</td><td>  904</td><td> 810</td><td> 1341</td><td> 464</td><td>  910</td><td> 952</td><td> 821</td><td> 523</td></tr>\n",
       "\t<tr><th scope=row>ATAD3B</th><td> 120</td><td> 29</td><td> 316</td><td> 110</td><td> 23</td><td> 136</td><td> 10</td><td>115</td><td> 20</td><td> 191</td><td>⋯</td><td> 437</td><td>  611</td><td>  962</td><td> 940</td><td> 1756</td><td> 675</td><td> 1525</td><td>1625</td><td>1439</td><td> 718</td></tr>\n",
       "\t<tr><th scope=row>ATAD3A</th><td>  78</td><td> 43</td><td> 246</td><td>  93</td><td> 25</td><td> 116</td><td>  6</td><td> 74</td><td> 16</td><td> 154</td><td>⋯</td><td> 350</td><td>  519</td><td>  793</td><td> 494</td><td> 1111</td><td> 430</td><td>  918</td><td> 966</td><td> 803</td><td> 519</td></tr>\n",
       "\t<tr><th scope=row>TMEM240</th><td>  13</td><td>  2</td><td>  41</td><td>  14</td><td>  3</td><td>  19</td><td>  0</td><td>  8</td><td>  1</td><td>  26</td><td>⋯</td><td> 316</td><td>  150</td><td>  105</td><td> 147</td><td>  306</td><td>  87</td><td>  127</td><td> 372</td><td>  90</td><td>  74</td></tr>\n",
       "\t<tr><th scope=row>SSU72</th><td> 403</td><td>245</td><td> 988</td><td> 429</td><td> 44</td><td> 544</td><td> 49</td><td>162</td><td> 58</td><td>1284</td><td>⋯</td><td>2492</td><td> 3125</td><td> 1947</td><td>1896</td><td> 2356</td><td> 777</td><td> 1285</td><td>1896</td><td>1125</td><td> 981</td></tr>\n",
       "\t<tr><th scope=row>FNDC10</th><td> 103</td><td>  7</td><td> 245</td><td>  87</td><td> 12</td><td> 238</td><td> 16</td><td> 58</td><td> 18</td><td> 152</td><td>⋯</td><td> 111</td><td>   94</td><td>  603</td><td> 314</td><td>  464</td><td> 339</td><td>  407</td><td> 454</td><td> 250</td><td> 390</td></tr>\n",
       "\t<tr><th scope=row>MIB2</th><td> 165</td><td> 41</td><td> 471</td><td> 221</td><td> 38</td><td> 255</td><td> 27</td><td>158</td><td> 49</td><td> 351</td><td>⋯</td><td> 870</td><td> 1444</td><td> 1559</td><td>1266</td><td> 2498</td><td>1040</td><td> 2095</td><td>2483</td><td>1923</td><td>1173</td></tr>\n",
       "\t<tr><th scope=row>CDK11B</th><td> 215</td><td> 61</td><td> 645</td><td> 249</td><td>  9</td><td> 177</td><td> 13</td><td>168</td><td> 16</td><td> 496</td><td>⋯</td><td>1694</td><td> 1396</td><td> 1325</td><td>1147</td><td> 1712</td><td> 738</td><td> 1382</td><td>1662</td><td>1133</td><td> 740</td></tr>\n",
       "\t<tr><th scope=row>SLC35E2B</th><td> 152</td><td> 36</td><td> 354</td><td>  95</td><td>  8</td><td> 188</td><td> 20</td><td>130</td><td> 25</td><td> 302</td><td>⋯</td><td>2190</td><td> 2001</td><td> 1431</td><td>1306</td><td> 2102</td><td> 794</td><td> 1472</td><td>1870</td><td>1422</td><td> 947</td></tr>\n",
       "\t<tr><th scope=row>CDK11A</th><td> 122</td><td> 29</td><td> 380</td><td> 129</td><td>  5</td><td>  76</td><td>  6</td><td> 78</td><td> 11</td><td> 352</td><td>⋯</td><td>1452</td><td>  639</td><td>  642</td><td> 544</td><td>  968</td><td> 478</td><td>  797</td><td> 959</td><td> 949</td><td> 538</td></tr>\n",
       "\t<tr><th scope=row>SLC35E2A</th><td> 171</td><td> 38</td><td> 401</td><td> 258</td><td> 21</td><td> 125</td><td> 14</td><td>171</td><td> 21</td><td> 251</td><td>⋯</td><td>1201</td><td>  716</td><td> 1318</td><td>1072</td><td> 1665</td><td>1345</td><td> 1735</td><td>1584</td><td>1417</td><td>1278</td></tr>\n",
       "\t<tr><th scope=row>NADK</th><td> 103</td><td> 23</td><td> 241</td><td> 135</td><td> 11</td><td> 148</td><td> 11</td><td> 80</td><td> 17</td><td> 170</td><td>⋯</td><td> 556</td><td>  481</td><td>  838</td><td> 603</td><td> 1041</td><td> 511</td><td>  808</td><td> 887</td><td> 686</td><td> 477</td></tr>\n",
       "\t<tr><th scope=row>GNB1</th><td>1120</td><td>392</td><td>3482</td><td>1752</td><td> 89</td><td>1750</td><td>117</td><td>860</td><td>147</td><td>2586</td><td>⋯</td><td>9032</td><td>10103</td><td>10647</td><td>8519</td><td>11703</td><td>5566</td><td>10706</td><td>9844</td><td>8344</td><td>6644</td></tr>\n",
       "\t<tr><th scope=row>CFAP74</th><td> 102</td><td> 47</td><td> 382</td><td> 151</td><td> 19</td><td> 150</td><td>  4</td><td> 97</td><td> 12</td><td> 249</td><td>⋯</td><td> 736</td><td> 1854</td><td> 1124</td><td> 878</td><td> 1909</td><td> 871</td><td> 1472</td><td>1438</td><td>1178</td><td> 897</td></tr>\n",
       "\t<tr><th scope=row>GABRD</th><td> 405</td><td>111</td><td> 741</td><td> 452</td><td> 39</td><td> 434</td><td> 49</td><td>210</td><td> 40</td><td> 675</td><td>⋯</td><td>6369</td><td> 3750</td><td> 3092</td><td>1793</td><td> 3167</td><td> 846</td><td> 2214</td><td>2430</td><td>1455</td><td>1413</td></tr>\n",
       "\t<tr><th scope=row>PRKCZ</th><td> 530</td><td>176</td><td>1512</td><td> 670</td><td> 74</td><td> 643</td><td> 74</td><td>395</td><td> 69</td><td>1265</td><td>⋯</td><td>9779</td><td> 9448</td><td> 5349</td><td>4426</td><td> 7841</td><td>3187</td><td> 6798</td><td>8054</td><td>6540</td><td>4186</td></tr>\n",
       "\t<tr><th scope=row>FAAP20</th><td>  71</td><td> 29</td><td> 157</td><td>  80</td><td>  5</td><td>  71</td><td>  6</td><td> 45</td><td>  4</td><td> 213</td><td>⋯</td><td> 944</td><td>  274</td><td>  426</td><td> 273</td><td>  792</td><td> 223</td><td>  354</td><td> 549</td><td> 305</td><td> 277</td></tr>\n",
       "\t<tr><th scope=row>⋮</th><td>⋮</td><td>⋮</td><td>⋮</td><td>⋮</td><td>⋮</td><td>⋮</td><td>⋮</td><td>⋮</td><td>⋮</td><td>⋮</td><td>⋱</td><td>⋮</td><td>⋮</td><td>⋮</td><td>⋮</td><td>⋮</td><td>⋮</td><td>⋮</td><td>⋮</td><td>⋮</td><td>⋮</td></tr>\n",
       "\t<tr><th scope=row>SLC37A1</th><td>124</td><td> 42</td><td> 548</td><td>163</td><td>13</td><td>130</td><td> 4</td><td> 94</td><td>18</td><td> 239</td><td>⋯</td><td>  724</td><td>  884</td><td>1865</td><td>1520</td><td>2987</td><td>1059</td><td>2280</td><td>3818</td><td>2089</td><td>1220</td></tr>\n",
       "\t<tr><th scope=row>WDR4</th><td> 31</td><td> 12</td><td>  94</td><td> 53</td><td> 5</td><td> 46</td><td> 3</td><td> 56</td><td> 2</td><td>  63</td><td>⋯</td><td>  315</td><td>  263</td><td> 536</td><td> 293</td><td> 663</td><td> 237</td><td> 634</td><td> 488</td><td> 463</td><td> 345</td></tr>\n",
       "\t<tr><th scope=row>NDUFV3</th><td>278</td><td>118</td><td> 724</td><td>365</td><td>24</td><td>235</td><td>15</td><td>220</td><td>26</td><td> 693</td><td>⋯</td><td> 2819</td><td>  999</td><td>2311</td><td>1903</td><td>3104</td><td>1247</td><td>2360</td><td>2495</td><td>2785</td><td>1403</td></tr>\n",
       "\t<tr><th scope=row>PKNOX1</th><td>158</td><td> 78</td><td> 621</td><td>330</td><td>26</td><td>149</td><td>12</td><td>236</td><td>19</td><td> 368</td><td>⋯</td><td> 4367</td><td> 2980</td><td>2996</td><td>2108</td><td>4554</td><td>1760</td><td>3975</td><td>3286</td><td>4312</td><td>2230</td></tr>\n",
       "\t<tr><th scope=row>RRP1B</th><td>129</td><td> 52</td><td> 462</td><td>162</td><td>12</td><td>134</td><td> 9</td><td>140</td><td> 6</td><td> 290</td><td>⋯</td><td> 1708</td><td> 1286</td><td>1416</td><td>1059</td><td>2240</td><td> 790</td><td>1513</td><td>1911</td><td>1508</td><td> 852</td></tr>\n",
       "\t<tr><th scope=row>PDXK</th><td>499</td><td>144</td><td>1832</td><td>788</td><td>58</td><td>758</td><td>66</td><td>436</td><td>98</td><td>1369</td><td>⋯</td><td> 2471</td><td> 5843</td><td>5175</td><td>4099</td><td>6922</td><td>2658</td><td>5809</td><td>6256</td><td>6643</td><td>4052</td></tr>\n",
       "\t<tr><th scope=row>CSTB</th><td>329</td><td>164</td><td> 969</td><td>539</td><td>14</td><td>576</td><td>21</td><td>145</td><td>24</td><td>1290</td><td>⋯</td><td> 1181</td><td> 1763</td><td> 980</td><td>1005</td><td>1494</td><td> 403</td><td> 563</td><td>1097</td><td> 459</td><td> 570</td></tr>\n",
       "\t<tr><th scope=row>RRP1</th><td> 90</td><td> 48</td><td> 218</td><td>125</td><td>20</td><td>141</td><td>15</td><td> 65</td><td>17</td><td> 240</td><td>⋯</td><td>  472</td><td>  926</td><td> 565</td><td> 457</td><td> 806</td><td> 326</td><td> 603</td><td> 661</td><td> 550</td><td> 395</td></tr>\n",
       "\t<tr><th scope=row>AGPAT3</th><td>245</td><td> 68</td><td> 867</td><td>339</td><td>21</td><td>235</td><td>23</td><td>189</td><td>21</td><td> 482</td><td>⋯</td><td> 2297</td><td> 2602</td><td>3259</td><td>2558</td><td>4604</td><td>1862</td><td>3601</td><td>4107</td><td>3238</td><td>2295</td></tr>\n",
       "\t<tr><th scope=row>TRAPPC10</th><td>148</td><td> 55</td><td> 557</td><td>198</td><td>17</td><td>153</td><td>15</td><td>158</td><td>16</td><td> 360</td><td>⋯</td><td> 2822</td><td> 3253</td><td>3282</td><td>2216</td><td>4273</td><td>1515</td><td>3151</td><td>3494</td><td>2645</td><td>1923</td></tr>\n",
       "\t<tr><th scope=row>PFKL</th><td>267</td><td> 70</td><td> 533</td><td>281</td><td>59</td><td>435</td><td>48</td><td>213</td><td>80</td><td> 511</td><td>⋯</td><td>  794</td><td> 1185</td><td>1891</td><td>1169</td><td>2245</td><td> 999</td><td>1708</td><td>2046</td><td>1645</td><td>1213</td></tr>\n",
       "\t<tr><th scope=row>TRPM2</th><td>175</td><td> 61</td><td> 980</td><td>336</td><td>36</td><td>297</td><td>24</td><td>225</td><td>35</td><td> 458</td><td>⋯</td><td> 1367</td><td> 1524</td><td>5319</td><td>3159</td><td>5651</td><td>2363</td><td>5569</td><td>5244</td><td>4648</td><td>3236</td></tr>\n",
       "\t<tr><th scope=row>UBE2G2</th><td>268</td><td> 76</td><td> 919</td><td>363</td><td>53</td><td>300</td><td>36</td><td>292</td><td>45</td><td> 659</td><td>⋯</td><td> 4218</td><td> 3590</td><td>3837</td><td>3578</td><td>5715</td><td>1914</td><td>4271</td><td>4607</td><td>4437</td><td>2206</td></tr>\n",
       "\t<tr><th scope=row>SUMO3</th><td>244</td><td>135</td><td> 812</td><td>404</td><td>33</td><td>667</td><td>78</td><td>188</td><td>80</td><td> 761</td><td>⋯</td><td> 1116</td><td> 2260</td><td>1533</td><td>1154</td><td>1241</td><td>1120</td><td>1390</td><td>1118</td><td>1483</td><td>1227</td></tr>\n",
       "\t<tr><th scope=row>PTTG1IP</th><td>102</td><td> 15</td><td> 256</td><td> 86</td><td> 7</td><td>104</td><td>10</td><td> 61</td><td>11</td><td> 168</td><td>⋯</td><td>  916</td><td> 2233</td><td> 800</td><td> 696</td><td>1176</td><td> 442</td><td> 780</td><td>1744</td><td> 885</td><td> 674</td></tr>\n",
       "\t<tr><th scope=row>ADARB1</th><td>257</td><td> 70</td><td> 780</td><td>353</td><td>21</td><td>271</td><td>21</td><td>232</td><td>37</td><td> 506</td><td>⋯</td><td>12775</td><td> 3057</td><td>4676</td><td>3546</td><td>5420</td><td>2188</td><td>4158</td><td>5024</td><td>3981</td><td>2545</td></tr>\n",
       "\t<tr><th scope=row>POFUT2</th><td> 36</td><td>  9</td><td> 165</td><td> 39</td><td> 4</td><td> 62</td><td> 7</td><td> 47</td><td> 6</td><td>  87</td><td>⋯</td><td>  314</td><td>  244</td><td> 407</td><td> 307</td><td> 632</td><td> 193</td><td> 455</td><td> 650</td><td> 315</td><td> 270</td></tr>\n",
       "\t<tr><th scope=row>SLC19A1</th><td> 26</td><td>  6</td><td>  53</td><td> 31</td><td> 9</td><td> 31</td><td> 7</td><td> 20</td><td> 2</td><td>  33</td><td>⋯</td><td>  369</td><td>  202</td><td> 300</td><td> 177</td><td> 414</td><td> 174</td><td> 366</td><td> 434</td><td> 428</td><td> 259</td></tr>\n",
       "\t<tr><th scope=row>PCBP3</th><td>107</td><td> 36</td><td> 396</td><td>159</td><td>23</td><td> 95</td><td>44</td><td> 68</td><td>17</td><td> 341</td><td>⋯</td><td>20155</td><td> 1503</td><td>1707</td><td>1232</td><td>1950</td><td>1384</td><td>1702</td><td>2686</td><td>1923</td><td>1509</td></tr>\n",
       "\t<tr><th scope=row>COL6A1</th><td>247</td><td> 46</td><td> 618</td><td>326</td><td>52</td><td>303</td><td>55</td><td>188</td><td>38</td><td> 349</td><td>⋯</td><td> 3132</td><td> 1478</td><td>1970</td><td>1393</td><td>1825</td><td>1249</td><td>1961</td><td>3095</td><td>1784</td><td>1782</td></tr>\n",
       "\t<tr><th scope=row>FTCD</th><td> 75</td><td> 16</td><td> 319</td><td> 94</td><td>16</td><td>163</td><td>16</td><td> 59</td><td>31</td><td> 146</td><td>⋯</td><td>  131</td><td>  534</td><td> 681</td><td> 910</td><td>1884</td><td> 275</td><td>1197</td><td>1086</td><td>1388</td><td> 685</td></tr>\n",
       "\t<tr><th scope=row>SPATC1L</th><td> 53</td><td> 28</td><td> 205</td><td> 36</td><td> 8</td><td>125</td><td>15</td><td> 25</td><td>16</td><td> 136</td><td>⋯</td><td>  234</td><td>  444</td><td> 412</td><td> 346</td><td> 643</td><td> 202</td><td> 434</td><td> 330</td><td> 326</td><td> 269</td></tr>\n",
       "\t<tr><th scope=row>LSS</th><td>163</td><td> 35</td><td> 383</td><td>152</td><td>16</td><td>172</td><td>26</td><td> 76</td><td>28</td><td> 213</td><td>⋯</td><td> 1404</td><td> 1285</td><td>2403</td><td> 807</td><td>2633</td><td> 987</td><td>1699</td><td>2347</td><td>1904</td><td>1501</td></tr>\n",
       "\t<tr><th scope=row>MCM3AP</th><td>185</td><td> 43</td><td> 588</td><td>228</td><td>19</td><td>218</td><td>15</td><td>198</td><td>15</td><td> 361</td><td>⋯</td><td> 2726</td><td> 1118</td><td>2371</td><td>1613</td><td>2546</td><td> 974</td><td>2091</td><td>2597</td><td>1716</td><td>1223</td></tr>\n",
       "\t<tr><th scope=row>YBEY</th><td> 73</td><td> 28</td><td> 186</td><td> 66</td><td> 8</td><td> 67</td><td>10</td><td> 87</td><td> 7</td><td> 172</td><td>⋯</td><td>  365</td><td>  165</td><td> 371</td><td> 366</td><td> 637</td><td> 224</td><td> 452</td><td> 492</td><td> 311</td><td> 199</td></tr>\n",
       "\t<tr><th scope=row>PCNT</th><td>290</td><td>105</td><td>1120</td><td>313</td><td>37</td><td>332</td><td>34</td><td>276</td><td>46</td><td> 632</td><td>⋯</td><td> 2133</td><td>12671</td><td>4575</td><td>3152</td><td>5072</td><td>2770</td><td>5575</td><td>6267</td><td>6110</td><td>3061</td></tr>\n",
       "\t<tr><th scope=row>DIP2A</th><td>251</td><td> 71</td><td>1101</td><td>364</td><td>26</td><td>270</td><td>22</td><td>292</td><td>22</td><td> 643</td><td>⋯</td><td> 5712</td><td> 2927</td><td>3859</td><td>3188</td><td>4672</td><td>2022</td><td>4324</td><td>4820</td><td>3831</td><td>2472</td></tr>\n",
       "\t<tr><th scope=row>PRMT2</th><td>397</td><td>144</td><td>1142</td><td>472</td><td>35</td><td>487</td><td>34</td><td>277</td><td>52</td><td> 970</td><td>⋯</td><td> 2399</td><td> 2346</td><td>2659</td><td>2227</td><td>3935</td><td>1470</td><td>2250</td><td>3313</td><td>2467</td><td>1697</td></tr>\n",
       "\t<tr><th scope=row>AL592183.1</th><td>226</td><td>114</td><td>1067</td><td>236</td><td>44</td><td>407</td><td>30</td><td>201</td><td>58</td><td>1021</td><td>⋯</td><td> 5787</td><td> 1526</td><td>3816</td><td>2996</td><td>3446</td><td>1889</td><td>4050</td><td>2001</td><td>2575</td><td>1655</td></tr>\n",
       "\t<tr><th scope=row>AL354822.1</th><td>  1</td><td>  4</td><td>  49</td><td> 23</td><td> 3</td><td>  1</td><td> 1</td><td>  5</td><td> 2</td><td>  37</td><td>⋯</td><td>  274</td><td>  100</td><td> 103</td><td> 319</td><td> 442</td><td>  56</td><td> 217</td><td> 209</td><td> 277</td><td>  77</td></tr>\n",
       "</tbody>\n",
       "</table>\n"
      ],
      "text/latex": [
       "A matrix: 10226 × 360 of type dbl\n",
       "\\begin{tabular}{r|lllllllllllllllllllll}\n",
       "  & 11409232 & 11336574 & 20207013 & 10514454 & 10290265 & 21412626 & 20170043 & 20956867 & 21172121 & 20104101 & ⋯ & 20730959 & 20500815 & 21402016 & 51624179 & 10100574 & 22789958 & 51520126 & 94144536 & 18659212 & 41285665\\\\\n",
       "\\hline\n",
       "\tNOC2L &  181 &  85 &  563 &  240 &  28 &  372 &  36 & 129 &  47 &  488 & ⋯ & 1277 &  1190 &  1152 &  991 &  1410 &  505 &   950 & 1260 &  846 &  653\\\\\n",
       "\tKLHL17 &   19 &   6 &   55 &   42 &   4 &   45 &   6 &  37 &   3 &   44 & ⋯ &  171 &   157 &   277 &  188 &   467 &  131 &   236 &  335 &  283 &  128\\\\\n",
       "\tHES4 &   58 &  11 &  121 &   94 &   6 &   96 &   6 &  60 &   6 &  172 & ⋯ &    6 &  1414 &   825 &  238 &  1746 &  163 &   736 &  794 &  450 &  350\\\\\n",
       "\tAGRN &  187 &  33 &  390 &  257 &  48 &  243 &  22 & 158 &  28 &  196 & ⋯ &    3 &  1060 &  1563 &  711 &  2575 &  756 &  1878 & 1724 & 1008 &  888\\\\\n",
       "\tC1orf159 &  191 &  48 &  497 &  271 &  25 &  195 &  12 & 209 &  19 &  322 & ⋯ &  899 &  2392 &  2293 & 1462 &  3131 & 1303 &  2918 & 2558 & 2407 & 1781\\\\\n",
       "\tSDF4 &  175 &  56 &  453 &  221 &  42 &  289 &  31 & 166 &  26 &  346 & ⋯ & 2083 &  1339 &  1318 & 1271 &  1788 &  704 &  1294 & 1706 & 1349 &  984\\\\\n",
       "\tUBE2J2 &  136 &  47 &  434 &  218 &  23 &  230 &  22 & 155 &  41 &  380 & ⋯ & 1316 &  1134 &  1099 &  932 &  1780 &  730 &  1466 & 1700 & 1446 &  853\\\\\n",
       "\tSCNN1D &   23 &   7 &  116 &   53 &  11 &   42 &   6 &  39 &  10 &   40 & ⋯ &  144 &    98 &   324 &  172 &   450 &  282 &   460 &  405 &  500 &  291\\\\\n",
       "\tACAP3 &  391 &  99 & 1095 &  607 & 115 &  615 &  66 & 486 &  95 &  607 & ⋯ & 3525 &  2848 &  3915 & 2148 &  6214 & 2822 &  5478 & 4241 & 4492 & 2509\\\\\n",
       "\tINTS11 &  232 &  84 &  662 &  358 &  61 &  318 &  40 & 154 &  75 &  487 & ⋯ & 2171 &  1709 &  1459 & 1382 &  2599 &  795 &  1421 & 2276 & 1616 &  943\\\\\n",
       "\tDVL1 &  135 &  33 &  386 &  174 &  29 &  224 &  12 & 124 &  28 &  234 & ⋯ &  399 &  1009 &   779 &  680 &  1276 &  414 &   702 & 1036 &  624 &  477\\\\\n",
       "\tAURKAIP1 &  188 & 113 &  518 &  288 &   8 &  267 &  21 &  92 &  20 &  880 & ⋯ & 1056 &  1485 &   685 &  616 &   889 &  178 &   367 &  539 &  218 &  280\\\\\n",
       "\tCCNL2 &  293 &  96 &  898 &  415 &  33 &  358 &  33 & 236 &  61 &  640 & ⋯ & 4910 &  1845 &  2594 & 2531 &  4857 & 1618 &  3179 & 3976 & 2677 & 1904\\\\\n",
       "\tMRPL20 &  230 & 112 &  609 &  344 &  12 &  344 &  20 & 100 &  12 &  956 & ⋯ & 1156 &  1212 &   904 &  810 &  1341 &  464 &   910 &  952 &  821 &  523\\\\\n",
       "\tATAD3B &  120 &  29 &  316 &  110 &  23 &  136 &  10 & 115 &  20 &  191 & ⋯ &  437 &   611 &   962 &  940 &  1756 &  675 &  1525 & 1625 & 1439 &  718\\\\\n",
       "\tATAD3A &   78 &  43 &  246 &   93 &  25 &  116 &   6 &  74 &  16 &  154 & ⋯ &  350 &   519 &   793 &  494 &  1111 &  430 &   918 &  966 &  803 &  519\\\\\n",
       "\tTMEM240 &   13 &   2 &   41 &   14 &   3 &   19 &   0 &   8 &   1 &   26 & ⋯ &  316 &   150 &   105 &  147 &   306 &   87 &   127 &  372 &   90 &   74\\\\\n",
       "\tSSU72 &  403 & 245 &  988 &  429 &  44 &  544 &  49 & 162 &  58 & 1284 & ⋯ & 2492 &  3125 &  1947 & 1896 &  2356 &  777 &  1285 & 1896 & 1125 &  981\\\\\n",
       "\tFNDC10 &  103 &   7 &  245 &   87 &  12 &  238 &  16 &  58 &  18 &  152 & ⋯ &  111 &    94 &   603 &  314 &   464 &  339 &   407 &  454 &  250 &  390\\\\\n",
       "\tMIB2 &  165 &  41 &  471 &  221 &  38 &  255 &  27 & 158 &  49 &  351 & ⋯ &  870 &  1444 &  1559 & 1266 &  2498 & 1040 &  2095 & 2483 & 1923 & 1173\\\\\n",
       "\tCDK11B &  215 &  61 &  645 &  249 &   9 &  177 &  13 & 168 &  16 &  496 & ⋯ & 1694 &  1396 &  1325 & 1147 &  1712 &  738 &  1382 & 1662 & 1133 &  740\\\\\n",
       "\tSLC35E2B &  152 &  36 &  354 &   95 &   8 &  188 &  20 & 130 &  25 &  302 & ⋯ & 2190 &  2001 &  1431 & 1306 &  2102 &  794 &  1472 & 1870 & 1422 &  947\\\\\n",
       "\tCDK11A &  122 &  29 &  380 &  129 &   5 &   76 &   6 &  78 &  11 &  352 & ⋯ & 1452 &   639 &   642 &  544 &   968 &  478 &   797 &  959 &  949 &  538\\\\\n",
       "\tSLC35E2A &  171 &  38 &  401 &  258 &  21 &  125 &  14 & 171 &  21 &  251 & ⋯ & 1201 &   716 &  1318 & 1072 &  1665 & 1345 &  1735 & 1584 & 1417 & 1278\\\\\n",
       "\tNADK &  103 &  23 &  241 &  135 &  11 &  148 &  11 &  80 &  17 &  170 & ⋯ &  556 &   481 &   838 &  603 &  1041 &  511 &   808 &  887 &  686 &  477\\\\\n",
       "\tGNB1 & 1120 & 392 & 3482 & 1752 &  89 & 1750 & 117 & 860 & 147 & 2586 & ⋯ & 9032 & 10103 & 10647 & 8519 & 11703 & 5566 & 10706 & 9844 & 8344 & 6644\\\\\n",
       "\tCFAP74 &  102 &  47 &  382 &  151 &  19 &  150 &   4 &  97 &  12 &  249 & ⋯ &  736 &  1854 &  1124 &  878 &  1909 &  871 &  1472 & 1438 & 1178 &  897\\\\\n",
       "\tGABRD &  405 & 111 &  741 &  452 &  39 &  434 &  49 & 210 &  40 &  675 & ⋯ & 6369 &  3750 &  3092 & 1793 &  3167 &  846 &  2214 & 2430 & 1455 & 1413\\\\\n",
       "\tPRKCZ &  530 & 176 & 1512 &  670 &  74 &  643 &  74 & 395 &  69 & 1265 & ⋯ & 9779 &  9448 &  5349 & 4426 &  7841 & 3187 &  6798 & 8054 & 6540 & 4186\\\\\n",
       "\tFAAP20 &   71 &  29 &  157 &   80 &   5 &   71 &   6 &  45 &   4 &  213 & ⋯ &  944 &   274 &   426 &  273 &   792 &  223 &   354 &  549 &  305 &  277\\\\\n",
       "\t⋮ & ⋮ & ⋮ & ⋮ & ⋮ & ⋮ & ⋮ & ⋮ & ⋮ & ⋮ & ⋮ & ⋱ & ⋮ & ⋮ & ⋮ & ⋮ & ⋮ & ⋮ & ⋮ & ⋮ & ⋮ & ⋮\\\\\n",
       "\tSLC37A1 & 124 &  42 &  548 & 163 & 13 & 130 &  4 &  94 & 18 &  239 & ⋯ &   724 &   884 & 1865 & 1520 & 2987 & 1059 & 2280 & 3818 & 2089 & 1220\\\\\n",
       "\tWDR4 &  31 &  12 &   94 &  53 &  5 &  46 &  3 &  56 &  2 &   63 & ⋯ &   315 &   263 &  536 &  293 &  663 &  237 &  634 &  488 &  463 &  345\\\\\n",
       "\tNDUFV3 & 278 & 118 &  724 & 365 & 24 & 235 & 15 & 220 & 26 &  693 & ⋯ &  2819 &   999 & 2311 & 1903 & 3104 & 1247 & 2360 & 2495 & 2785 & 1403\\\\\n",
       "\tPKNOX1 & 158 &  78 &  621 & 330 & 26 & 149 & 12 & 236 & 19 &  368 & ⋯ &  4367 &  2980 & 2996 & 2108 & 4554 & 1760 & 3975 & 3286 & 4312 & 2230\\\\\n",
       "\tRRP1B & 129 &  52 &  462 & 162 & 12 & 134 &  9 & 140 &  6 &  290 & ⋯ &  1708 &  1286 & 1416 & 1059 & 2240 &  790 & 1513 & 1911 & 1508 &  852\\\\\n",
       "\tPDXK & 499 & 144 & 1832 & 788 & 58 & 758 & 66 & 436 & 98 & 1369 & ⋯ &  2471 &  5843 & 5175 & 4099 & 6922 & 2658 & 5809 & 6256 & 6643 & 4052\\\\\n",
       "\tCSTB & 329 & 164 &  969 & 539 & 14 & 576 & 21 & 145 & 24 & 1290 & ⋯ &  1181 &  1763 &  980 & 1005 & 1494 &  403 &  563 & 1097 &  459 &  570\\\\\n",
       "\tRRP1 &  90 &  48 &  218 & 125 & 20 & 141 & 15 &  65 & 17 &  240 & ⋯ &   472 &   926 &  565 &  457 &  806 &  326 &  603 &  661 &  550 &  395\\\\\n",
       "\tAGPAT3 & 245 &  68 &  867 & 339 & 21 & 235 & 23 & 189 & 21 &  482 & ⋯ &  2297 &  2602 & 3259 & 2558 & 4604 & 1862 & 3601 & 4107 & 3238 & 2295\\\\\n",
       "\tTRAPPC10 & 148 &  55 &  557 & 198 & 17 & 153 & 15 & 158 & 16 &  360 & ⋯ &  2822 &  3253 & 3282 & 2216 & 4273 & 1515 & 3151 & 3494 & 2645 & 1923\\\\\n",
       "\tPFKL & 267 &  70 &  533 & 281 & 59 & 435 & 48 & 213 & 80 &  511 & ⋯ &   794 &  1185 & 1891 & 1169 & 2245 &  999 & 1708 & 2046 & 1645 & 1213\\\\\n",
       "\tTRPM2 & 175 &  61 &  980 & 336 & 36 & 297 & 24 & 225 & 35 &  458 & ⋯ &  1367 &  1524 & 5319 & 3159 & 5651 & 2363 & 5569 & 5244 & 4648 & 3236\\\\\n",
       "\tUBE2G2 & 268 &  76 &  919 & 363 & 53 & 300 & 36 & 292 & 45 &  659 & ⋯ &  4218 &  3590 & 3837 & 3578 & 5715 & 1914 & 4271 & 4607 & 4437 & 2206\\\\\n",
       "\tSUMO3 & 244 & 135 &  812 & 404 & 33 & 667 & 78 & 188 & 80 &  761 & ⋯ &  1116 &  2260 & 1533 & 1154 & 1241 & 1120 & 1390 & 1118 & 1483 & 1227\\\\\n",
       "\tPTTG1IP & 102 &  15 &  256 &  86 &  7 & 104 & 10 &  61 & 11 &  168 & ⋯ &   916 &  2233 &  800 &  696 & 1176 &  442 &  780 & 1744 &  885 &  674\\\\\n",
       "\tADARB1 & 257 &  70 &  780 & 353 & 21 & 271 & 21 & 232 & 37 &  506 & ⋯ & 12775 &  3057 & 4676 & 3546 & 5420 & 2188 & 4158 & 5024 & 3981 & 2545\\\\\n",
       "\tPOFUT2 &  36 &   9 &  165 &  39 &  4 &  62 &  7 &  47 &  6 &   87 & ⋯ &   314 &   244 &  407 &  307 &  632 &  193 &  455 &  650 &  315 &  270\\\\\n",
       "\tSLC19A1 &  26 &   6 &   53 &  31 &  9 &  31 &  7 &  20 &  2 &   33 & ⋯ &   369 &   202 &  300 &  177 &  414 &  174 &  366 &  434 &  428 &  259\\\\\n",
       "\tPCBP3 & 107 &  36 &  396 & 159 & 23 &  95 & 44 &  68 & 17 &  341 & ⋯ & 20155 &  1503 & 1707 & 1232 & 1950 & 1384 & 1702 & 2686 & 1923 & 1509\\\\\n",
       "\tCOL6A1 & 247 &  46 &  618 & 326 & 52 & 303 & 55 & 188 & 38 &  349 & ⋯ &  3132 &  1478 & 1970 & 1393 & 1825 & 1249 & 1961 & 3095 & 1784 & 1782\\\\\n",
       "\tFTCD &  75 &  16 &  319 &  94 & 16 & 163 & 16 &  59 & 31 &  146 & ⋯ &   131 &   534 &  681 &  910 & 1884 &  275 & 1197 & 1086 & 1388 &  685\\\\\n",
       "\tSPATC1L &  53 &  28 &  205 &  36 &  8 & 125 & 15 &  25 & 16 &  136 & ⋯ &   234 &   444 &  412 &  346 &  643 &  202 &  434 &  330 &  326 &  269\\\\\n",
       "\tLSS & 163 &  35 &  383 & 152 & 16 & 172 & 26 &  76 & 28 &  213 & ⋯ &  1404 &  1285 & 2403 &  807 & 2633 &  987 & 1699 & 2347 & 1904 & 1501\\\\\n",
       "\tMCM3AP & 185 &  43 &  588 & 228 & 19 & 218 & 15 & 198 & 15 &  361 & ⋯ &  2726 &  1118 & 2371 & 1613 & 2546 &  974 & 2091 & 2597 & 1716 & 1223\\\\\n",
       "\tYBEY &  73 &  28 &  186 &  66 &  8 &  67 & 10 &  87 &  7 &  172 & ⋯ &   365 &   165 &  371 &  366 &  637 &  224 &  452 &  492 &  311 &  199\\\\\n",
       "\tPCNT & 290 & 105 & 1120 & 313 & 37 & 332 & 34 & 276 & 46 &  632 & ⋯ &  2133 & 12671 & 4575 & 3152 & 5072 & 2770 & 5575 & 6267 & 6110 & 3061\\\\\n",
       "\tDIP2A & 251 &  71 & 1101 & 364 & 26 & 270 & 22 & 292 & 22 &  643 & ⋯ &  5712 &  2927 & 3859 & 3188 & 4672 & 2022 & 4324 & 4820 & 3831 & 2472\\\\\n",
       "\tPRMT2 & 397 & 144 & 1142 & 472 & 35 & 487 & 34 & 277 & 52 &  970 & ⋯ &  2399 &  2346 & 2659 & 2227 & 3935 & 1470 & 2250 & 3313 & 2467 & 1697\\\\\n",
       "\tAL592183.1 & 226 & 114 & 1067 & 236 & 44 & 407 & 30 & 201 & 58 & 1021 & ⋯ &  5787 &  1526 & 3816 & 2996 & 3446 & 1889 & 4050 & 2001 & 2575 & 1655\\\\\n",
       "\tAL354822.1 &   1 &   4 &   49 &  23 &  3 &   1 &  1 &   5 &  2 &   37 & ⋯ &   274 &   100 &  103 &  319 &  442 &   56 &  217 &  209 &  277 &   77\\\\\n",
       "\\end{tabular}\n"
      ],
      "text/markdown": [
       "\n",
       "A matrix: 10226 × 360 of type dbl\n",
       "\n",
       "| <!--/--> | 11409232 | 11336574 | 20207013 | 10514454 | 10290265 | 21412626 | 20170043 | 20956867 | 21172121 | 20104101 | ⋯ | 20730959 | 20500815 | 21402016 | 51624179 | 10100574 | 22789958 | 51520126 | 94144536 | 18659212 | 41285665 |\n",
       "|---|---|---|---|---|---|---|---|---|---|---|---|---|---|---|---|---|---|---|---|---|---|\n",
       "| NOC2L |  181 |  85 |  563 |  240 |  28 |  372 |  36 | 129 |  47 |  488 | ⋯ | 1277 |  1190 |  1152 |  991 |  1410 |  505 |   950 | 1260 |  846 |  653 |\n",
       "| KLHL17 |   19 |   6 |   55 |   42 |   4 |   45 |   6 |  37 |   3 |   44 | ⋯ |  171 |   157 |   277 |  188 |   467 |  131 |   236 |  335 |  283 |  128 |\n",
       "| HES4 |   58 |  11 |  121 |   94 |   6 |   96 |   6 |  60 |   6 |  172 | ⋯ |    6 |  1414 |   825 |  238 |  1746 |  163 |   736 |  794 |  450 |  350 |\n",
       "| AGRN |  187 |  33 |  390 |  257 |  48 |  243 |  22 | 158 |  28 |  196 | ⋯ |    3 |  1060 |  1563 |  711 |  2575 |  756 |  1878 | 1724 | 1008 |  888 |\n",
       "| C1orf159 |  191 |  48 |  497 |  271 |  25 |  195 |  12 | 209 |  19 |  322 | ⋯ |  899 |  2392 |  2293 | 1462 |  3131 | 1303 |  2918 | 2558 | 2407 | 1781 |\n",
       "| SDF4 |  175 |  56 |  453 |  221 |  42 |  289 |  31 | 166 |  26 |  346 | ⋯ | 2083 |  1339 |  1318 | 1271 |  1788 |  704 |  1294 | 1706 | 1349 |  984 |\n",
       "| UBE2J2 |  136 |  47 |  434 |  218 |  23 |  230 |  22 | 155 |  41 |  380 | ⋯ | 1316 |  1134 |  1099 |  932 |  1780 |  730 |  1466 | 1700 | 1446 |  853 |\n",
       "| SCNN1D |   23 |   7 |  116 |   53 |  11 |   42 |   6 |  39 |  10 |   40 | ⋯ |  144 |    98 |   324 |  172 |   450 |  282 |   460 |  405 |  500 |  291 |\n",
       "| ACAP3 |  391 |  99 | 1095 |  607 | 115 |  615 |  66 | 486 |  95 |  607 | ⋯ | 3525 |  2848 |  3915 | 2148 |  6214 | 2822 |  5478 | 4241 | 4492 | 2509 |\n",
       "| INTS11 |  232 |  84 |  662 |  358 |  61 |  318 |  40 | 154 |  75 |  487 | ⋯ | 2171 |  1709 |  1459 | 1382 |  2599 |  795 |  1421 | 2276 | 1616 |  943 |\n",
       "| DVL1 |  135 |  33 |  386 |  174 |  29 |  224 |  12 | 124 |  28 |  234 | ⋯ |  399 |  1009 |   779 |  680 |  1276 |  414 |   702 | 1036 |  624 |  477 |\n",
       "| AURKAIP1 |  188 | 113 |  518 |  288 |   8 |  267 |  21 |  92 |  20 |  880 | ⋯ | 1056 |  1485 |   685 |  616 |   889 |  178 |   367 |  539 |  218 |  280 |\n",
       "| CCNL2 |  293 |  96 |  898 |  415 |  33 |  358 |  33 | 236 |  61 |  640 | ⋯ | 4910 |  1845 |  2594 | 2531 |  4857 | 1618 |  3179 | 3976 | 2677 | 1904 |\n",
       "| MRPL20 |  230 | 112 |  609 |  344 |  12 |  344 |  20 | 100 |  12 |  956 | ⋯ | 1156 |  1212 |   904 |  810 |  1341 |  464 |   910 |  952 |  821 |  523 |\n",
       "| ATAD3B |  120 |  29 |  316 |  110 |  23 |  136 |  10 | 115 |  20 |  191 | ⋯ |  437 |   611 |   962 |  940 |  1756 |  675 |  1525 | 1625 | 1439 |  718 |\n",
       "| ATAD3A |   78 |  43 |  246 |   93 |  25 |  116 |   6 |  74 |  16 |  154 | ⋯ |  350 |   519 |   793 |  494 |  1111 |  430 |   918 |  966 |  803 |  519 |\n",
       "| TMEM240 |   13 |   2 |   41 |   14 |   3 |   19 |   0 |   8 |   1 |   26 | ⋯ |  316 |   150 |   105 |  147 |   306 |   87 |   127 |  372 |   90 |   74 |\n",
       "| SSU72 |  403 | 245 |  988 |  429 |  44 |  544 |  49 | 162 |  58 | 1284 | ⋯ | 2492 |  3125 |  1947 | 1896 |  2356 |  777 |  1285 | 1896 | 1125 |  981 |\n",
       "| FNDC10 |  103 |   7 |  245 |   87 |  12 |  238 |  16 |  58 |  18 |  152 | ⋯ |  111 |    94 |   603 |  314 |   464 |  339 |   407 |  454 |  250 |  390 |\n",
       "| MIB2 |  165 |  41 |  471 |  221 |  38 |  255 |  27 | 158 |  49 |  351 | ⋯ |  870 |  1444 |  1559 | 1266 |  2498 | 1040 |  2095 | 2483 | 1923 | 1173 |\n",
       "| CDK11B |  215 |  61 |  645 |  249 |   9 |  177 |  13 | 168 |  16 |  496 | ⋯ | 1694 |  1396 |  1325 | 1147 |  1712 |  738 |  1382 | 1662 | 1133 |  740 |\n",
       "| SLC35E2B |  152 |  36 |  354 |   95 |   8 |  188 |  20 | 130 |  25 |  302 | ⋯ | 2190 |  2001 |  1431 | 1306 |  2102 |  794 |  1472 | 1870 | 1422 |  947 |\n",
       "| CDK11A |  122 |  29 |  380 |  129 |   5 |   76 |   6 |  78 |  11 |  352 | ⋯ | 1452 |   639 |   642 |  544 |   968 |  478 |   797 |  959 |  949 |  538 |\n",
       "| SLC35E2A |  171 |  38 |  401 |  258 |  21 |  125 |  14 | 171 |  21 |  251 | ⋯ | 1201 |   716 |  1318 | 1072 |  1665 | 1345 |  1735 | 1584 | 1417 | 1278 |\n",
       "| NADK |  103 |  23 |  241 |  135 |  11 |  148 |  11 |  80 |  17 |  170 | ⋯ |  556 |   481 |   838 |  603 |  1041 |  511 |   808 |  887 |  686 |  477 |\n",
       "| GNB1 | 1120 | 392 | 3482 | 1752 |  89 | 1750 | 117 | 860 | 147 | 2586 | ⋯ | 9032 | 10103 | 10647 | 8519 | 11703 | 5566 | 10706 | 9844 | 8344 | 6644 |\n",
       "| CFAP74 |  102 |  47 |  382 |  151 |  19 |  150 |   4 |  97 |  12 |  249 | ⋯ |  736 |  1854 |  1124 |  878 |  1909 |  871 |  1472 | 1438 | 1178 |  897 |\n",
       "| GABRD |  405 | 111 |  741 |  452 |  39 |  434 |  49 | 210 |  40 |  675 | ⋯ | 6369 |  3750 |  3092 | 1793 |  3167 |  846 |  2214 | 2430 | 1455 | 1413 |\n",
       "| PRKCZ |  530 | 176 | 1512 |  670 |  74 |  643 |  74 | 395 |  69 | 1265 | ⋯ | 9779 |  9448 |  5349 | 4426 |  7841 | 3187 |  6798 | 8054 | 6540 | 4186 |\n",
       "| FAAP20 |   71 |  29 |  157 |   80 |   5 |   71 |   6 |  45 |   4 |  213 | ⋯ |  944 |   274 |   426 |  273 |   792 |  223 |   354 |  549 |  305 |  277 |\n",
       "| ⋮ | ⋮ | ⋮ | ⋮ | ⋮ | ⋮ | ⋮ | ⋮ | ⋮ | ⋮ | ⋮ | ⋱ | ⋮ | ⋮ | ⋮ | ⋮ | ⋮ | ⋮ | ⋮ | ⋮ | ⋮ | ⋮ |\n",
       "| SLC37A1 | 124 |  42 |  548 | 163 | 13 | 130 |  4 |  94 | 18 |  239 | ⋯ |   724 |   884 | 1865 | 1520 | 2987 | 1059 | 2280 | 3818 | 2089 | 1220 |\n",
       "| WDR4 |  31 |  12 |   94 |  53 |  5 |  46 |  3 |  56 |  2 |   63 | ⋯ |   315 |   263 |  536 |  293 |  663 |  237 |  634 |  488 |  463 |  345 |\n",
       "| NDUFV3 | 278 | 118 |  724 | 365 | 24 | 235 | 15 | 220 | 26 |  693 | ⋯ |  2819 |   999 | 2311 | 1903 | 3104 | 1247 | 2360 | 2495 | 2785 | 1403 |\n",
       "| PKNOX1 | 158 |  78 |  621 | 330 | 26 | 149 | 12 | 236 | 19 |  368 | ⋯ |  4367 |  2980 | 2996 | 2108 | 4554 | 1760 | 3975 | 3286 | 4312 | 2230 |\n",
       "| RRP1B | 129 |  52 |  462 | 162 | 12 | 134 |  9 | 140 |  6 |  290 | ⋯ |  1708 |  1286 | 1416 | 1059 | 2240 |  790 | 1513 | 1911 | 1508 |  852 |\n",
       "| PDXK | 499 | 144 | 1832 | 788 | 58 | 758 | 66 | 436 | 98 | 1369 | ⋯ |  2471 |  5843 | 5175 | 4099 | 6922 | 2658 | 5809 | 6256 | 6643 | 4052 |\n",
       "| CSTB | 329 | 164 |  969 | 539 | 14 | 576 | 21 | 145 | 24 | 1290 | ⋯ |  1181 |  1763 |  980 | 1005 | 1494 |  403 |  563 | 1097 |  459 |  570 |\n",
       "| RRP1 |  90 |  48 |  218 | 125 | 20 | 141 | 15 |  65 | 17 |  240 | ⋯ |   472 |   926 |  565 |  457 |  806 |  326 |  603 |  661 |  550 |  395 |\n",
       "| AGPAT3 | 245 |  68 |  867 | 339 | 21 | 235 | 23 | 189 | 21 |  482 | ⋯ |  2297 |  2602 | 3259 | 2558 | 4604 | 1862 | 3601 | 4107 | 3238 | 2295 |\n",
       "| TRAPPC10 | 148 |  55 |  557 | 198 | 17 | 153 | 15 | 158 | 16 |  360 | ⋯ |  2822 |  3253 | 3282 | 2216 | 4273 | 1515 | 3151 | 3494 | 2645 | 1923 |\n",
       "| PFKL | 267 |  70 |  533 | 281 | 59 | 435 | 48 | 213 | 80 |  511 | ⋯ |   794 |  1185 | 1891 | 1169 | 2245 |  999 | 1708 | 2046 | 1645 | 1213 |\n",
       "| TRPM2 | 175 |  61 |  980 | 336 | 36 | 297 | 24 | 225 | 35 |  458 | ⋯ |  1367 |  1524 | 5319 | 3159 | 5651 | 2363 | 5569 | 5244 | 4648 | 3236 |\n",
       "| UBE2G2 | 268 |  76 |  919 | 363 | 53 | 300 | 36 | 292 | 45 |  659 | ⋯ |  4218 |  3590 | 3837 | 3578 | 5715 | 1914 | 4271 | 4607 | 4437 | 2206 |\n",
       "| SUMO3 | 244 | 135 |  812 | 404 | 33 | 667 | 78 | 188 | 80 |  761 | ⋯ |  1116 |  2260 | 1533 | 1154 | 1241 | 1120 | 1390 | 1118 | 1483 | 1227 |\n",
       "| PTTG1IP | 102 |  15 |  256 |  86 |  7 | 104 | 10 |  61 | 11 |  168 | ⋯ |   916 |  2233 |  800 |  696 | 1176 |  442 |  780 | 1744 |  885 |  674 |\n",
       "| ADARB1 | 257 |  70 |  780 | 353 | 21 | 271 | 21 | 232 | 37 |  506 | ⋯ | 12775 |  3057 | 4676 | 3546 | 5420 | 2188 | 4158 | 5024 | 3981 | 2545 |\n",
       "| POFUT2 |  36 |   9 |  165 |  39 |  4 |  62 |  7 |  47 |  6 |   87 | ⋯ |   314 |   244 |  407 |  307 |  632 |  193 |  455 |  650 |  315 |  270 |\n",
       "| SLC19A1 |  26 |   6 |   53 |  31 |  9 |  31 |  7 |  20 |  2 |   33 | ⋯ |   369 |   202 |  300 |  177 |  414 |  174 |  366 |  434 |  428 |  259 |\n",
       "| PCBP3 | 107 |  36 |  396 | 159 | 23 |  95 | 44 |  68 | 17 |  341 | ⋯ | 20155 |  1503 | 1707 | 1232 | 1950 | 1384 | 1702 | 2686 | 1923 | 1509 |\n",
       "| COL6A1 | 247 |  46 |  618 | 326 | 52 | 303 | 55 | 188 | 38 |  349 | ⋯ |  3132 |  1478 | 1970 | 1393 | 1825 | 1249 | 1961 | 3095 | 1784 | 1782 |\n",
       "| FTCD |  75 |  16 |  319 |  94 | 16 | 163 | 16 |  59 | 31 |  146 | ⋯ |   131 |   534 |  681 |  910 | 1884 |  275 | 1197 | 1086 | 1388 |  685 |\n",
       "| SPATC1L |  53 |  28 |  205 |  36 |  8 | 125 | 15 |  25 | 16 |  136 | ⋯ |   234 |   444 |  412 |  346 |  643 |  202 |  434 |  330 |  326 |  269 |\n",
       "| LSS | 163 |  35 |  383 | 152 | 16 | 172 | 26 |  76 | 28 |  213 | ⋯ |  1404 |  1285 | 2403 |  807 | 2633 |  987 | 1699 | 2347 | 1904 | 1501 |\n",
       "| MCM3AP | 185 |  43 |  588 | 228 | 19 | 218 | 15 | 198 | 15 |  361 | ⋯ |  2726 |  1118 | 2371 | 1613 | 2546 |  974 | 2091 | 2597 | 1716 | 1223 |\n",
       "| YBEY |  73 |  28 |  186 |  66 |  8 |  67 | 10 |  87 |  7 |  172 | ⋯ |   365 |   165 |  371 |  366 |  637 |  224 |  452 |  492 |  311 |  199 |\n",
       "| PCNT | 290 | 105 | 1120 | 313 | 37 | 332 | 34 | 276 | 46 |  632 | ⋯ |  2133 | 12671 | 4575 | 3152 | 5072 | 2770 | 5575 | 6267 | 6110 | 3061 |\n",
       "| DIP2A | 251 |  71 | 1101 | 364 | 26 | 270 | 22 | 292 | 22 |  643 | ⋯ |  5712 |  2927 | 3859 | 3188 | 4672 | 2022 | 4324 | 4820 | 3831 | 2472 |\n",
       "| PRMT2 | 397 | 144 | 1142 | 472 | 35 | 487 | 34 | 277 | 52 |  970 | ⋯ |  2399 |  2346 | 2659 | 2227 | 3935 | 1470 | 2250 | 3313 | 2467 | 1697 |\n",
       "| AL592183.1 | 226 | 114 | 1067 | 236 | 44 | 407 | 30 | 201 | 58 | 1021 | ⋯ |  5787 |  1526 | 3816 | 2996 | 3446 | 1889 | 4050 | 2001 | 2575 | 1655 |\n",
       "| AL354822.1 |   1 |   4 |   49 |  23 |  3 |   1 |  1 |   5 |  2 |   37 | ⋯ |   274 |   100 |  103 |  319 |  442 |   56 |  217 |  209 |  277 |   77 |\n",
       "\n"
      ],
      "text/plain": [
       "           11409232 11336574 20207013 10514454 10290265 21412626 20170043\n",
       "NOC2L       181      85       563      240      28       372      36     \n",
       "KLHL17       19       6        55       42       4        45       6     \n",
       "HES4         58      11       121       94       6        96       6     \n",
       "AGRN        187      33       390      257      48       243      22     \n",
       "C1orf159    191      48       497      271      25       195      12     \n",
       "SDF4        175      56       453      221      42       289      31     \n",
       "UBE2J2      136      47       434      218      23       230      22     \n",
       "SCNN1D       23       7       116       53      11        42       6     \n",
       "ACAP3       391      99      1095      607     115       615      66     \n",
       "INTS11      232      84       662      358      61       318      40     \n",
       "DVL1        135      33       386      174      29       224      12     \n",
       "AURKAIP1    188     113       518      288       8       267      21     \n",
       "CCNL2       293      96       898      415      33       358      33     \n",
       "MRPL20      230     112       609      344      12       344      20     \n",
       "ATAD3B      120      29       316      110      23       136      10     \n",
       "ATAD3A       78      43       246       93      25       116       6     \n",
       "TMEM240      13       2        41       14       3        19       0     \n",
       "SSU72       403     245       988      429      44       544      49     \n",
       "FNDC10      103       7       245       87      12       238      16     \n",
       "MIB2        165      41       471      221      38       255      27     \n",
       "CDK11B      215      61       645      249       9       177      13     \n",
       "SLC35E2B    152      36       354       95       8       188      20     \n",
       "CDK11A      122      29       380      129       5        76       6     \n",
       "SLC35E2A    171      38       401      258      21       125      14     \n",
       "NADK        103      23       241      135      11       148      11     \n",
       "GNB1       1120     392      3482     1752      89      1750     117     \n",
       "CFAP74      102      47       382      151      19       150       4     \n",
       "GABRD       405     111       741      452      39       434      49     \n",
       "PRKCZ       530     176      1512      670      74       643      74     \n",
       "FAAP20       71      29       157       80       5        71       6     \n",
       "⋮          ⋮        ⋮        ⋮        ⋮        ⋮        ⋮        ⋮       \n",
       "SLC37A1    124       42       548     163      13       130       4      \n",
       "WDR4        31       12        94      53       5        46       3      \n",
       "NDUFV3     278      118       724     365      24       235      15      \n",
       "PKNOX1     158       78       621     330      26       149      12      \n",
       "RRP1B      129       52       462     162      12       134       9      \n",
       "PDXK       499      144      1832     788      58       758      66      \n",
       "CSTB       329      164       969     539      14       576      21      \n",
       "RRP1        90       48       218     125      20       141      15      \n",
       "AGPAT3     245       68       867     339      21       235      23      \n",
       "TRAPPC10   148       55       557     198      17       153      15      \n",
       "PFKL       267       70       533     281      59       435      48      \n",
       "TRPM2      175       61       980     336      36       297      24      \n",
       "UBE2G2     268       76       919     363      53       300      36      \n",
       "SUMO3      244      135       812     404      33       667      78      \n",
       "PTTG1IP    102       15       256      86       7       104      10      \n",
       "ADARB1     257       70       780     353      21       271      21      \n",
       "POFUT2      36        9       165      39       4        62       7      \n",
       "SLC19A1     26        6        53      31       9        31       7      \n",
       "PCBP3      107       36       396     159      23        95      44      \n",
       "COL6A1     247       46       618     326      52       303      55      \n",
       "FTCD        75       16       319      94      16       163      16      \n",
       "SPATC1L     53       28       205      36       8       125      15      \n",
       "LSS        163       35       383     152      16       172      26      \n",
       "MCM3AP     185       43       588     228      19       218      15      \n",
       "YBEY        73       28       186      66       8        67      10      \n",
       "PCNT       290      105      1120     313      37       332      34      \n",
       "DIP2A      251       71      1101     364      26       270      22      \n",
       "PRMT2      397      144      1142     472      35       487      34      \n",
       "AL592183.1 226      114      1067     236      44       407      30      \n",
       "AL354822.1   1        4        49      23       3         1       1      \n",
       "           20956867 21172121 20104101 ⋯ 20730959 20500815 21402016 51624179\n",
       "NOC2L      129       47       488     ⋯ 1277      1190     1152     991    \n",
       "KLHL17      37        3        44     ⋯  171       157      277     188    \n",
       "HES4        60        6       172     ⋯    6      1414      825     238    \n",
       "AGRN       158       28       196     ⋯    3      1060     1563     711    \n",
       "C1orf159   209       19       322     ⋯  899      2392     2293    1462    \n",
       "SDF4       166       26       346     ⋯ 2083      1339     1318    1271    \n",
       "UBE2J2     155       41       380     ⋯ 1316      1134     1099     932    \n",
       "SCNN1D      39       10        40     ⋯  144        98      324     172    \n",
       "ACAP3      486       95       607     ⋯ 3525      2848     3915    2148    \n",
       "INTS11     154       75       487     ⋯ 2171      1709     1459    1382    \n",
       "DVL1       124       28       234     ⋯  399      1009      779     680    \n",
       "AURKAIP1    92       20       880     ⋯ 1056      1485      685     616    \n",
       "CCNL2      236       61       640     ⋯ 4910      1845     2594    2531    \n",
       "MRPL20     100       12       956     ⋯ 1156      1212      904     810    \n",
       "ATAD3B     115       20       191     ⋯  437       611      962     940    \n",
       "ATAD3A      74       16       154     ⋯  350       519      793     494    \n",
       "TMEM240      8        1        26     ⋯  316       150      105     147    \n",
       "SSU72      162       58      1284     ⋯ 2492      3125     1947    1896    \n",
       "FNDC10      58       18       152     ⋯  111        94      603     314    \n",
       "MIB2       158       49       351     ⋯  870      1444     1559    1266    \n",
       "CDK11B     168       16       496     ⋯ 1694      1396     1325    1147    \n",
       "SLC35E2B   130       25       302     ⋯ 2190      2001     1431    1306    \n",
       "CDK11A      78       11       352     ⋯ 1452       639      642     544    \n",
       "SLC35E2A   171       21       251     ⋯ 1201       716     1318    1072    \n",
       "NADK        80       17       170     ⋯  556       481      838     603    \n",
       "GNB1       860      147      2586     ⋯ 9032     10103    10647    8519    \n",
       "CFAP74      97       12       249     ⋯  736      1854     1124     878    \n",
       "GABRD      210       40       675     ⋯ 6369      3750     3092    1793    \n",
       "PRKCZ      395       69      1265     ⋯ 9779      9448     5349    4426    \n",
       "FAAP20      45        4       213     ⋯  944       274      426     273    \n",
       "⋮          ⋮        ⋮        ⋮        ⋱ ⋮        ⋮        ⋮        ⋮       \n",
       "SLC37A1     94      18        239     ⋯   724      884    1865     1520    \n",
       "WDR4        56       2         63     ⋯   315      263     536      293    \n",
       "NDUFV3     220      26        693     ⋯  2819      999    2311     1903    \n",
       "PKNOX1     236      19        368     ⋯  4367     2980    2996     2108    \n",
       "RRP1B      140       6        290     ⋯  1708     1286    1416     1059    \n",
       "PDXK       436      98       1369     ⋯  2471     5843    5175     4099    \n",
       "CSTB       145      24       1290     ⋯  1181     1763     980     1005    \n",
       "RRP1        65      17        240     ⋯   472      926     565      457    \n",
       "AGPAT3     189      21        482     ⋯  2297     2602    3259     2558    \n",
       "TRAPPC10   158      16        360     ⋯  2822     3253    3282     2216    \n",
       "PFKL       213      80        511     ⋯   794     1185    1891     1169    \n",
       "TRPM2      225      35        458     ⋯  1367     1524    5319     3159    \n",
       "UBE2G2     292      45        659     ⋯  4218     3590    3837     3578    \n",
       "SUMO3      188      80        761     ⋯  1116     2260    1533     1154    \n",
       "PTTG1IP     61      11        168     ⋯   916     2233     800      696    \n",
       "ADARB1     232      37        506     ⋯ 12775     3057    4676     3546    \n",
       "POFUT2      47       6         87     ⋯   314      244     407      307    \n",
       "SLC19A1     20       2         33     ⋯   369      202     300      177    \n",
       "PCBP3       68      17        341     ⋯ 20155     1503    1707     1232    \n",
       "COL6A1     188      38        349     ⋯  3132     1478    1970     1393    \n",
       "FTCD        59      31        146     ⋯   131      534     681      910    \n",
       "SPATC1L     25      16        136     ⋯   234      444     412      346    \n",
       "LSS         76      28        213     ⋯  1404     1285    2403      807    \n",
       "MCM3AP     198      15        361     ⋯  2726     1118    2371     1613    \n",
       "YBEY        87       7        172     ⋯   365      165     371      366    \n",
       "PCNT       276      46        632     ⋯  2133    12671    4575     3152    \n",
       "DIP2A      292      22        643     ⋯  5712     2927    3859     3188    \n",
       "PRMT2      277      52        970     ⋯  2399     2346    2659     2227    \n",
       "AL592183.1 201      58       1021     ⋯  5787     1526    3816     2996    \n",
       "AL354822.1   5       2         37     ⋯   274      100     103      319    \n",
       "           10100574 22789958 51520126 94144536 18659212 41285665\n",
       "NOC2L       1410     505       950    1260      846      653    \n",
       "KLHL17       467     131       236     335      283      128    \n",
       "HES4        1746     163       736     794      450      350    \n",
       "AGRN        2575     756      1878    1724     1008      888    \n",
       "C1orf159    3131    1303      2918    2558     2407     1781    \n",
       "SDF4        1788     704      1294    1706     1349      984    \n",
       "UBE2J2      1780     730      1466    1700     1446      853    \n",
       "SCNN1D       450     282       460     405      500      291    \n",
       "ACAP3       6214    2822      5478    4241     4492     2509    \n",
       "INTS11      2599     795      1421    2276     1616      943    \n",
       "DVL1        1276     414       702    1036      624      477    \n",
       "AURKAIP1     889     178       367     539      218      280    \n",
       "CCNL2       4857    1618      3179    3976     2677     1904    \n",
       "MRPL20      1341     464       910     952      821      523    \n",
       "ATAD3B      1756     675      1525    1625     1439      718    \n",
       "ATAD3A      1111     430       918     966      803      519    \n",
       "TMEM240      306      87       127     372       90       74    \n",
       "SSU72       2356     777      1285    1896     1125      981    \n",
       "FNDC10       464     339       407     454      250      390    \n",
       "MIB2        2498    1040      2095    2483     1923     1173    \n",
       "CDK11B      1712     738      1382    1662     1133      740    \n",
       "SLC35E2B    2102     794      1472    1870     1422      947    \n",
       "CDK11A       968     478       797     959      949      538    \n",
       "SLC35E2A    1665    1345      1735    1584     1417     1278    \n",
       "NADK        1041     511       808     887      686      477    \n",
       "GNB1       11703    5566     10706    9844     8344     6644    \n",
       "CFAP74      1909     871      1472    1438     1178      897    \n",
       "GABRD       3167     846      2214    2430     1455     1413    \n",
       "PRKCZ       7841    3187      6798    8054     6540     4186    \n",
       "FAAP20       792     223       354     549      305      277    \n",
       "⋮          ⋮        ⋮        ⋮        ⋮        ⋮        ⋮       \n",
       "SLC37A1    2987     1059     2280     3818     2089     1220    \n",
       "WDR4        663      237      634      488      463      345    \n",
       "NDUFV3     3104     1247     2360     2495     2785     1403    \n",
       "PKNOX1     4554     1760     3975     3286     4312     2230    \n",
       "RRP1B      2240      790     1513     1911     1508      852    \n",
       "PDXK       6922     2658     5809     6256     6643     4052    \n",
       "CSTB       1494      403      563     1097      459      570    \n",
       "RRP1        806      326      603      661      550      395    \n",
       "AGPAT3     4604     1862     3601     4107     3238     2295    \n",
       "TRAPPC10   4273     1515     3151     3494     2645     1923    \n",
       "PFKL       2245      999     1708     2046     1645     1213    \n",
       "TRPM2      5651     2363     5569     5244     4648     3236    \n",
       "UBE2G2     5715     1914     4271     4607     4437     2206    \n",
       "SUMO3      1241     1120     1390     1118     1483     1227    \n",
       "PTTG1IP    1176      442      780     1744      885      674    \n",
       "ADARB1     5420     2188     4158     5024     3981     2545    \n",
       "POFUT2      632      193      455      650      315      270    \n",
       "SLC19A1     414      174      366      434      428      259    \n",
       "PCBP3      1950     1384     1702     2686     1923     1509    \n",
       "COL6A1     1825     1249     1961     3095     1784     1782    \n",
       "FTCD       1884      275     1197     1086     1388      685    \n",
       "SPATC1L     643      202      434      330      326      269    \n",
       "LSS        2633      987     1699     2347     1904     1501    \n",
       "MCM3AP     2546      974     2091     2597     1716     1223    \n",
       "YBEY        637      224      452      492      311      199    \n",
       "PCNT       5072     2770     5575     6267     6110     3061    \n",
       "DIP2A      4672     2022     4324     4820     3831     2472    \n",
       "PRMT2      3935     1470     2250     3313     2467     1697    \n",
       "AL592183.1 3446     1889     4050     2001     2575     1655    \n",
       "AL354822.1  442       56      217      209      277       77    "
      ]
     },
     "metadata": {},
     "output_type": "display_data"
    }
   ],
   "source": [
    "### GSVA\n",
    "\n",
    "x = cpm(counts_keep2)\n",
    "\n",
    "out_bp_terms =gsva(as.matrix(x), P, mx.diff=TRUE, verbose=F, kcdf=c(\"Gaussian\"), min.sz=5, max.sz = 150, parallel.sz=16)\n",
    "\n",
    "   "
   ]
  },
  {
   "cell_type": "markdown",
   "id": "3eff79d4-2a85-4358-8cc1-2b8aa85d16d1",
   "metadata": {},
   "source": [
    "### below is scrap"
   ]
  },
  {
   "cell_type": "code",
   "execution_count": 614,
   "id": "df34ae22-fc13-4e21-b54d-9f5f968a0c15",
   "metadata": {},
   "outputs": [
    {
     "name": "stdout",
     "output_type": "stream",
     "text": [
      "Number of significant surrogate variables is:  21 \n",
      "Iteration (out of 5 ):1  2  3  4  5  "
     ]
    }
   ],
   "source": [
    "# compute DEGs rs3752246\n",
    "# remove any LOF individuals\n",
    "\n",
    "meta_keep2$rare_sums = ifelse(meta_keep2$rare_sums>0, 1, 0)\n",
    "\n",
    "mod1 <- model.matrix(~rare_sums + amyloid + nft + msex + age_death + apoe + pmi + seq_batch + niareagansc, data = meta_keep2)\n",
    "mod0 <- model.matrix(~ amyloid + nft + msex + age_death + apoe + pmi + seq_batch + niareagansc, data = meta_keep2)\n",
    "\n",
    "out = compute_degs(counts_keep2, mod1, mod0, 'rare_sums')\n",
    "curr = out$res1\n",
    "scores = sign(curr$logFC) * -log10(curr$P.Value)\n",
    "names(scores) = rownames(curr)"
   ]
  },
  {
   "cell_type": "code",
   "execution_count": 615,
   "id": "d8d9915a-0c51-42d8-a935-34d44183a705",
   "metadata": {},
   "outputs": [],
   "source": [
    "# compute fgsea results rs3752246\n",
    "paths = read.csv('../supplementary_tables/data_s8.csv')\n",
    "paths = paths[paths$is_gene=='True',]\n",
    "P = list()\n",
    "for(i in unique(paths$cluster)){\n",
    "    P[[as.character(i)]] = paths[paths$cluster==i,'description']\n",
    "}      \n",
    "\n",
    "o = fgsea(pathways = P, stats = scores, minSize = 5, maxSize = 1000, nproc=1, nPermSimple=10000)\n",
    "o = o[order(o$pval,decreasing=T),]\n",
    "o$score = sign(o$NES) * -log10(o$pval)\n",
    "o$pathway = factor(o$pathway, levels = o$pathway)"
   ]
  },
  {
   "cell_type": "code",
   "execution_count": 526,
   "id": "de3c53b0-58ec-42fe-a43d-ae3951418d57",
   "metadata": {},
   "outputs": [
    {
     "name": "stdout",
     "output_type": "stream",
     "text": [
      "Number of significant surrogate variables is:  21 \n",
      "Iteration (out of 5 ):1  2  3  4  5  "
     ]
    }
   ],
   "source": [
    "# compute DEGs weighted sum\n",
    "meta_keep2$stage = ifelse(meta_keep2$stage3>0, 1, 0)\n",
    "\n",
    "\n",
    "mod1 <- model.matrix(~weighted_sum + amyloid + nft + msex + age_death + apoe + pmi + seq_batch + niareagansc, data = meta_keep2)\n",
    "mod0 <- model.matrix(~ amyloid + nft + msex + age_death + apoe + pmi + seq_batch + niareagansc, data = meta_keep2)\n",
    "\n",
    "out = compute_degs(counts_keep2, mod1, mod0, 'weighted_sum')\n",
    "curr = out$res1\n",
    "scores = sign(curr$logFC) * -log10(curr$P.Value)\n",
    "names(scores) = rownames(curr)"
   ]
  },
  {
   "cell_type": "code",
   "execution_count": 527,
   "id": "e696c531-7ca6-4fe2-9e87-d43203316365",
   "metadata": {},
   "outputs": [],
   "source": [
    "# compute fgsea results rs3752246\n",
    "paths = read.csv('../supplementary_tables/data_s8.csv')\n",
    "paths = paths[paths$is_gene=='True',]\n",
    "P = list()\n",
    "for(i in unique(paths$cluster)){\n",
    "    P[[as.character(i)]] = paths[paths$cluster==i,'description']\n",
    "}      \n",
    "\n",
    "o = fgsea(pathways = P, stats = scores, minSize = 5, maxSize = 1000, nproc=1, nPermSimple=10000)\n",
    "o = o[order(o$pval,decreasing=T),]\n",
    "o$score = sign(o$NES) * -log10(o$pval)\n",
    "o$pathway = factor(o$pathway, levels = o$pathway)"
   ]
  },
  {
   "cell_type": "code",
   "execution_count": 616,
   "id": "cc79faa2-ccfb-4599-9719-776a134f5eec",
   "metadata": {},
   "outputs": [
    {
     "data": {
      "text/html": [
       "<table class=\"dataframe\">\n",
       "<caption>A data.table: 8 × 9</caption>\n",
       "<thead>\n",
       "\t<tr><th scope=col>pathway</th><th scope=col>pval</th><th scope=col>padj</th><th scope=col>log2err</th><th scope=col>ES</th><th scope=col>NES</th><th scope=col>size</th><th scope=col>leadingEdge</th><th scope=col>score</th></tr>\n",
       "\t<tr><th scope=col>&lt;fct&gt;</th><th scope=col>&lt;dbl&gt;</th><th scope=col>&lt;dbl&gt;</th><th scope=col>&lt;dbl&gt;</th><th scope=col>&lt;dbl&gt;</th><th scope=col>&lt;dbl&gt;</th><th scope=col>&lt;int&gt;</th><th scope=col>&lt;list&gt;</th><th scope=col>&lt;dbl&gt;</th></tr>\n",
       "</thead>\n",
       "<tbody>\n",
       "\t<tr><td>7</td><td>0.004695886</td><td>0.03756708</td><td>0.31827968</td><td> 0.5206892</td><td> 1.7085514</td><td>40</td><td>NDUFC1, ....</td><td> 2.32828250</td></tr>\n",
       "\t<tr><td>2</td><td>0.070724765</td><td>0.28289906</td><td>0.07902990</td><td> 0.4483919</td><td> 1.3966391</td><td>31</td><td>HMGCS1, ....</td><td> 1.15042849</td></tr>\n",
       "\t<tr><td>4</td><td>0.354770017</td><td>0.69074890</td><td>0.03227336</td><td> 0.3808170</td><td> 1.0714465</td><td>20</td><td>DDB2, LD....</td><td> 0.45005309</td></tr>\n",
       "\t<tr><td>5</td><td>0.414757709</td><td>0.69074890</td><td>0.02995854</td><td> 0.3130458</td><td> 1.0176332</td><td>38</td><td>RBX1, MT....</td><td> 0.38220553</td></tr>\n",
       "\t<tr><td>1</td><td>0.440131820</td><td>0.69074890</td><td>0.02564854</td><td>-0.3165691</td><td>-1.0050959</td><td>38</td><td>USP1, FA....</td><td>-0.35641723</td></tr>\n",
       "\t<tr><td>6</td><td>0.558663413</td><td>0.69074890</td><td>0.02216700</td><td>-0.3482817</td><td>-0.9307757</td><td>18</td><td>C2, MAX,....</td><td>-0.25284977</td></tr>\n",
       "\t<tr><td>0</td><td>0.604405286</td><td>0.69074890</td><td>0.02346334</td><td> 0.2804562</td><td> 0.9116927</td><td>38</td><td>IDH1, FH....</td><td> 0.21867175</td></tr>\n",
       "\t<tr><td>3</td><td>0.901162791</td><td>0.90116279</td><td>0.01454464</td><td>-0.2268536</td><td>-0.7395774</td><td>43</td><td>IFT88, C....</td><td>-0.04519675</td></tr>\n",
       "</tbody>\n",
       "</table>\n"
      ],
      "text/latex": [
       "A data.table: 8 × 9\n",
       "\\begin{tabular}{lllllllll}\n",
       " pathway & pval & padj & log2err & ES & NES & size & leadingEdge & score\\\\\n",
       " <fct> & <dbl> & <dbl> & <dbl> & <dbl> & <dbl> & <int> & <list> & <dbl>\\\\\n",
       "\\hline\n",
       "\t 7 & 0.004695886 & 0.03756708 & 0.31827968 &  0.5206892 &  1.7085514 & 40 & NDUFC1, .... &  2.32828250\\\\\n",
       "\t 2 & 0.070724765 & 0.28289906 & 0.07902990 &  0.4483919 &  1.3966391 & 31 & HMGCS1, .... &  1.15042849\\\\\n",
       "\t 4 & 0.354770017 & 0.69074890 & 0.03227336 &  0.3808170 &  1.0714465 & 20 & DDB2, LD.... &  0.45005309\\\\\n",
       "\t 5 & 0.414757709 & 0.69074890 & 0.02995854 &  0.3130458 &  1.0176332 & 38 & RBX1, MT.... &  0.38220553\\\\\n",
       "\t 1 & 0.440131820 & 0.69074890 & 0.02564854 & -0.3165691 & -1.0050959 & 38 & USP1, FA.... & -0.35641723\\\\\n",
       "\t 6 & 0.558663413 & 0.69074890 & 0.02216700 & -0.3482817 & -0.9307757 & 18 & C2, MAX,.... & -0.25284977\\\\\n",
       "\t 0 & 0.604405286 & 0.69074890 & 0.02346334 &  0.2804562 &  0.9116927 & 38 & IDH1, FH.... &  0.21867175\\\\\n",
       "\t 3 & 0.901162791 & 0.90116279 & 0.01454464 & -0.2268536 & -0.7395774 & 43 & IFT88, C.... & -0.04519675\\\\\n",
       "\\end{tabular}\n"
      ],
      "text/markdown": [
       "\n",
       "A data.table: 8 × 9\n",
       "\n",
       "| pathway &lt;fct&gt; | pval &lt;dbl&gt; | padj &lt;dbl&gt; | log2err &lt;dbl&gt; | ES &lt;dbl&gt; | NES &lt;dbl&gt; | size &lt;int&gt; | leadingEdge &lt;list&gt; | score &lt;dbl&gt; |\n",
       "|---|---|---|---|---|---|---|---|---|\n",
       "| 7 | 0.004695886 | 0.03756708 | 0.31827968 |  0.5206892 |  1.7085514 | 40 | NDUFC1, .... |  2.32828250 |\n",
       "| 2 | 0.070724765 | 0.28289906 | 0.07902990 |  0.4483919 |  1.3966391 | 31 | HMGCS1, .... |  1.15042849 |\n",
       "| 4 | 0.354770017 | 0.69074890 | 0.03227336 |  0.3808170 |  1.0714465 | 20 | DDB2, LD.... |  0.45005309 |\n",
       "| 5 | 0.414757709 | 0.69074890 | 0.02995854 |  0.3130458 |  1.0176332 | 38 | RBX1, MT.... |  0.38220553 |\n",
       "| 1 | 0.440131820 | 0.69074890 | 0.02564854 | -0.3165691 | -1.0050959 | 38 | USP1, FA.... | -0.35641723 |\n",
       "| 6 | 0.558663413 | 0.69074890 | 0.02216700 | -0.3482817 | -0.9307757 | 18 | C2, MAX,.... | -0.25284977 |\n",
       "| 0 | 0.604405286 | 0.69074890 | 0.02346334 |  0.2804562 |  0.9116927 | 38 | IDH1, FH.... |  0.21867175 |\n",
       "| 3 | 0.901162791 | 0.90116279 | 0.01454464 | -0.2268536 | -0.7395774 | 43 | IFT88, C.... | -0.04519675 |\n",
       "\n"
      ],
      "text/plain": [
       "  pathway pval        padj       log2err    ES         NES        size\n",
       "1 7       0.004695886 0.03756708 0.31827968  0.5206892  1.7085514 40  \n",
       "2 2       0.070724765 0.28289906 0.07902990  0.4483919  1.3966391 31  \n",
       "3 4       0.354770017 0.69074890 0.03227336  0.3808170  1.0714465 20  \n",
       "4 5       0.414757709 0.69074890 0.02995854  0.3130458  1.0176332 38  \n",
       "5 1       0.440131820 0.69074890 0.02564854 -0.3165691 -1.0050959 38  \n",
       "6 6       0.558663413 0.69074890 0.02216700 -0.3482817 -0.9307757 18  \n",
       "7 0       0.604405286 0.69074890 0.02346334  0.2804562  0.9116927 38  \n",
       "8 3       0.901162791 0.90116279 0.01454464 -0.2268536 -0.7395774 43  \n",
       "  leadingEdge  score      \n",
       "1 NDUFC1, ....  2.32828250\n",
       "2 HMGCS1, ....  1.15042849\n",
       "3 DDB2, LD....  0.45005309\n",
       "4 RBX1, MT....  0.38220553\n",
       "5 USP1, FA.... -0.35641723\n",
       "6 C2, MAX,.... -0.25284977\n",
       "7 IDH1, FH....  0.21867175\n",
       "8 IFT88, C.... -0.04519675"
      ]
     },
     "metadata": {},
     "output_type": "display_data"
    }
   ],
   "source": [
    "o[order(o$pval,decreasing=FALSE),]"
   ]
  },
  {
   "cell_type": "code",
   "execution_count": 320,
   "id": "3270b2bc-6e28-488c-bfc9-dc2080b2fb85",
   "metadata": {},
   "outputs": [
    {
     "data": {
      "text/html": [
       "<table class=\"dataframe\">\n",
       "<caption>A data.table: 8 × 9</caption>\n",
       "<thead>\n",
       "\t<tr><th scope=col>pathway</th><th scope=col>pval</th><th scope=col>padj</th><th scope=col>log2err</th><th scope=col>ES</th><th scope=col>NES</th><th scope=col>size</th><th scope=col>leadingEdge</th><th scope=col>score</th></tr>\n",
       "\t<tr><th scope=col>&lt;fct&gt;</th><th scope=col>&lt;dbl&gt;</th><th scope=col>&lt;dbl&gt;</th><th scope=col>&lt;dbl&gt;</th><th scope=col>&lt;dbl&gt;</th><th scope=col>&lt;dbl&gt;</th><th scope=col>&lt;int&gt;</th><th scope=col>&lt;list&gt;</th><th scope=col>&lt;dbl&gt;</th></tr>\n",
       "</thead>\n",
       "<tbody>\n",
       "\t<tr><td>7</td><td>0.1544625</td><td>0.9688118</td><td>0.05285003</td><td> 0.3681119</td><td> 1.2329730</td><td>40</td><td>NDUFS3, ....</td><td> 0.81117695</td></tr>\n",
       "\t<tr><td>5</td><td>0.2480564</td><td>0.9688118</td><td>0.03618645</td><td>-0.3627033</td><td>-1.1502393</td><td>38</td><td>POLE2, A....</td><td>-0.60544955</td></tr>\n",
       "\t<tr><td>0</td><td>0.5640933</td><td>0.9688118</td><td>0.02142629</td><td>-0.2952470</td><td>-0.9363156</td><td>38</td><td>KLKB1, G....</td><td>-0.24864906</td></tr>\n",
       "\t<tr><td>3</td><td>0.5664034</td><td>0.9688118</td><td>0.02124791</td><td>-0.2876081</td><td>-0.9346628</td><td>43</td><td>PSMD13, ....</td><td>-0.24687411</td></tr>\n",
       "\t<tr><td>6</td><td>0.8723913</td><td>0.9688118</td><td>0.01762370</td><td> 0.2559457</td><td> 0.7067181</td><td>18</td><td>PTRH2, B....</td><td> 0.05928867</td></tr>\n",
       "\t<tr><td>4</td><td>0.9600370</td><td>0.9688118</td><td>0.01389331</td><td>-0.2190239</td><td>-0.5998697</td><td>20</td><td>LDLR, AP....</td><td>-0.01771203</td></tr>\n",
       "\t<tr><td>1</td><td>0.9631170</td><td>0.9688118</td><td>0.01351410</td><td>-0.2031065</td><td>-0.6441109</td><td>38</td><td>RNF168, ....</td><td>-0.01632096</td></tr>\n",
       "\t<tr><td>2</td><td>0.9688118</td><td>0.9688118</td><td>0.01624148</td><td> 0.1987398</td><td> 0.6273882</td><td>31</td><td>SIRT7, S....</td><td> 0.01376059</td></tr>\n",
       "</tbody>\n",
       "</table>\n"
      ],
      "text/latex": [
       "A data.table: 8 × 9\n",
       "\\begin{tabular}{lllllllll}\n",
       " pathway & pval & padj & log2err & ES & NES & size & leadingEdge & score\\\\\n",
       " <fct> & <dbl> & <dbl> & <dbl> & <dbl> & <dbl> & <int> & <list> & <dbl>\\\\\n",
       "\\hline\n",
       "\t 7 & 0.1544625 & 0.9688118 & 0.05285003 &  0.3681119 &  1.2329730 & 40 & NDUFS3, .... &  0.81117695\\\\\n",
       "\t 5 & 0.2480564 & 0.9688118 & 0.03618645 & -0.3627033 & -1.1502393 & 38 & POLE2, A.... & -0.60544955\\\\\n",
       "\t 0 & 0.5640933 & 0.9688118 & 0.02142629 & -0.2952470 & -0.9363156 & 38 & KLKB1, G.... & -0.24864906\\\\\n",
       "\t 3 & 0.5664034 & 0.9688118 & 0.02124791 & -0.2876081 & -0.9346628 & 43 & PSMD13, .... & -0.24687411\\\\\n",
       "\t 6 & 0.8723913 & 0.9688118 & 0.01762370 &  0.2559457 &  0.7067181 & 18 & PTRH2, B.... &  0.05928867\\\\\n",
       "\t 4 & 0.9600370 & 0.9688118 & 0.01389331 & -0.2190239 & -0.5998697 & 20 & LDLR, AP.... & -0.01771203\\\\\n",
       "\t 1 & 0.9631170 & 0.9688118 & 0.01351410 & -0.2031065 & -0.6441109 & 38 & RNF168, .... & -0.01632096\\\\\n",
       "\t 2 & 0.9688118 & 0.9688118 & 0.01624148 &  0.1987398 &  0.6273882 & 31 & SIRT7, S.... &  0.01376059\\\\\n",
       "\\end{tabular}\n"
      ],
      "text/markdown": [
       "\n",
       "A data.table: 8 × 9\n",
       "\n",
       "| pathway &lt;fct&gt; | pval &lt;dbl&gt; | padj &lt;dbl&gt; | log2err &lt;dbl&gt; | ES &lt;dbl&gt; | NES &lt;dbl&gt; | size &lt;int&gt; | leadingEdge &lt;list&gt; | score &lt;dbl&gt; |\n",
       "|---|---|---|---|---|---|---|---|---|\n",
       "| 7 | 0.1544625 | 0.9688118 | 0.05285003 |  0.3681119 |  1.2329730 | 40 | NDUFS3, .... |  0.81117695 |\n",
       "| 5 | 0.2480564 | 0.9688118 | 0.03618645 | -0.3627033 | -1.1502393 | 38 | POLE2, A.... | -0.60544955 |\n",
       "| 0 | 0.5640933 | 0.9688118 | 0.02142629 | -0.2952470 | -0.9363156 | 38 | KLKB1, G.... | -0.24864906 |\n",
       "| 3 | 0.5664034 | 0.9688118 | 0.02124791 | -0.2876081 | -0.9346628 | 43 | PSMD13, .... | -0.24687411 |\n",
       "| 6 | 0.8723913 | 0.9688118 | 0.01762370 |  0.2559457 |  0.7067181 | 18 | PTRH2, B.... |  0.05928867 |\n",
       "| 4 | 0.9600370 | 0.9688118 | 0.01389331 | -0.2190239 | -0.5998697 | 20 | LDLR, AP.... | -0.01771203 |\n",
       "| 1 | 0.9631170 | 0.9688118 | 0.01351410 | -0.2031065 | -0.6441109 | 38 | RNF168, .... | -0.01632096 |\n",
       "| 2 | 0.9688118 | 0.9688118 | 0.01624148 |  0.1987398 |  0.6273882 | 31 | SIRT7, S.... |  0.01376059 |\n",
       "\n"
      ],
      "text/plain": [
       "  pathway pval      padj      log2err    ES         NES        size\n",
       "1 7       0.1544625 0.9688118 0.05285003  0.3681119  1.2329730 40  \n",
       "2 5       0.2480564 0.9688118 0.03618645 -0.3627033 -1.1502393 38  \n",
       "3 0       0.5640933 0.9688118 0.02142629 -0.2952470 -0.9363156 38  \n",
       "4 3       0.5664034 0.9688118 0.02124791 -0.2876081 -0.9346628 43  \n",
       "5 6       0.8723913 0.9688118 0.01762370  0.2559457  0.7067181 18  \n",
       "6 4       0.9600370 0.9688118 0.01389331 -0.2190239 -0.5998697 20  \n",
       "7 1       0.9631170 0.9688118 0.01351410 -0.2031065 -0.6441109 38  \n",
       "8 2       0.9688118 0.9688118 0.01624148  0.1987398  0.6273882 31  \n",
       "  leadingEdge  score      \n",
       "1 NDUFS3, ....  0.81117695\n",
       "2 POLE2, A.... -0.60544955\n",
       "3 KLKB1, G.... -0.24864906\n",
       "4 PSMD13, .... -0.24687411\n",
       "5 PTRH2, B....  0.05928867\n",
       "6 LDLR, AP.... -0.01771203\n",
       "7 RNF168, .... -0.01632096\n",
       "8 SIRT7, S....  0.01376059"
      ]
     },
     "metadata": {},
     "output_type": "display_data"
    }
   ],
   "source": [
    "o[order(o$pval,decreasing=FALSE),]"
   ]
  },
  {
   "cell_type": "code",
   "execution_count": 39,
   "id": "62b4bdf3-ab03-4080-b240-e65870221f11",
   "metadata": {},
   "outputs": [
    {
     "name": "stdout",
     "output_type": "stream",
     "text": [
      "\n",
      "  0   1 \n",
      "241 136 \n",
      "Number of significant surrogate variables is:  21 \n",
      "Iteration (out of 5 ):1  2  3  4  5  "
     ]
    }
   ],
   "source": [
    "\n",
    "# add variant info \n",
    "temp = data$var_info\n",
    "\n",
    "rs729 = temp[temp['ID']=='rs72973581','POS']\n",
    "rs375 = temp[temp['ID']=='rs3752246','POS']\n",
    "\n",
    "#meta_keep$rs3752246_1 = ifelse(meta_keep[,'1056492']=='0/1', 1, 0)\n",
    "meta_keep$rs3752246_2 = ifelse(meta_keep[,'1056492']!='1/1', 1, 0)\n",
    "#meta_keep$rs72973581 = ifelse(meta_keep[,'1043103']=='0/0', 0, ifelse(meta_keep[,'1043103']=='0/1', 1, 2))\n",
    "print(table(meta_keep$rs3752246_2))\n",
    "meta_keep = meta_keep[,c('amyloid', 'nft', 'msex', 'age_death', 'pmi', 'seq_batch', 'apoe_genotype', 'rs3752246_2', 'niareagansc')]\n",
    "\n",
    "# filter\n",
    "keep = rowSums(is.na(meta_keep))==0 #& meta_keep$niareagansc%in%(unlist(list('3','4')))\n",
    "meta_keep2 = meta_keep[keep,]\n",
    "meta_keep2$apoe = ifelse(meta_keep2$apoe_genotype%in%c(34,44,24), 1, 0)\n",
    "counts_keep2 = counts_indexed[,keep]\n",
    "\n",
    "counts_keep2 = counts_keep2[rownames(counts_keep2)%in%expressed$Ex & rowSums(counts_keep2>0)>15,]\n",
    "\n",
    "# compute DEGs\n",
    "out = compute_degs(counts_keep2, meta_keep2)\n",
    "curr = out$res1\n",
    "scores = sign(curr$logFC) * -log10(curr$P.Value)\n",
    "names(scores) = rownames(curr)\n",
    "scores = scores[order(scores, decreasing = TRUE)]\n",
    "\n",
    "# compute fgsea results\n",
    "paths = read.csv('../supplementary_tables/data_s8.csv')\n",
    "paths = paths[paths$is_gene=='True',]\n",
    "P = list()\n",
    "for(i in unique(paths$cluster)){\n",
    "    P[[as.character(i)]] = paths[paths$cluster==i,'description']\n",
    "}      \n",
    "\n",
    "o = fgsea(pathways = P, stats = scores, minSize = 5, maxSize = 1000, nproc=1, nPermSimple=10000)\n",
    "o = o[order(o$pval,decreasing=T),]\n",
    "o$score = sign(o$NES) * -log10(o$pval)\n",
    "o$pathway = factor(o$pathway, levels = o$pathway)"
   ]
  },
  {
   "cell_type": "code",
   "execution_count": 41,
   "id": "53a1bf3a-f75b-4c3d-abf0-e84078c9666a",
   "metadata": {},
   "outputs": [],
   "source": [
    "write.csv(as.data.frame(scores), '../processed_data/common_var/ex_scoresE4.csv')"
   ]
  },
  {
   "cell_type": "code",
   "execution_count": 40,
   "id": "3f710a4c-5692-48d9-9a3b-0d3a0b09263f",
   "metadata": {},
   "outputs": [
    {
     "data": {
      "text/html": [
       "<table class=\"dataframe\">\n",
       "<caption>A data.table: 8 × 9</caption>\n",
       "<thead>\n",
       "\t<tr><th scope=col>pathway</th><th scope=col>pval</th><th scope=col>padj</th><th scope=col>log2err</th><th scope=col>ES</th><th scope=col>NES</th><th scope=col>size</th><th scope=col>leadingEdge</th><th scope=col>score</th></tr>\n",
       "\t<tr><th scope=col>&lt;fct&gt;</th><th scope=col>&lt;dbl&gt;</th><th scope=col>&lt;dbl&gt;</th><th scope=col>&lt;dbl&gt;</th><th scope=col>&lt;dbl&gt;</th><th scope=col>&lt;dbl&gt;</th><th scope=col>&lt;int&gt;</th><th scope=col>&lt;list&gt;</th><th scope=col>&lt;dbl&gt;</th></tr>\n",
       "</thead>\n",
       "<tbody>\n",
       "\t<tr><td>4</td><td>0.92600798</td><td>0.9260080</td><td>0.01702552</td><td>-0.2343931</td><td>-0.6639091</td><td>20</td><td>MDM2, RP....</td><td>-0.03338527</td></tr>\n",
       "\t<tr><td>6</td><td>0.59560842</td><td>0.6806953</td><td>0.02077039</td><td> 0.3407706</td><td> 0.9079523</td><td>18</td><td>CASP3, T....</td><td> 0.22503917</td></tr>\n",
       "\t<tr><td>0</td><td>0.50579965</td><td>0.6743995</td><td>0.02269799</td><td> 0.3050356</td><td> 0.9682053</td><td>38</td><td>CLU, C1S....</td><td> 0.29602148</td></tr>\n",
       "\t<tr><td>1</td><td>0.42442882</td><td>0.6743995</td><td>0.02557152</td><td> 0.3212969</td><td> 1.0198197</td><td>38</td><td>MRE11, T....</td><td> 0.37219513</td></tr>\n",
       "\t<tr><td>2</td><td>0.35261708</td><td>0.6743995</td><td>0.03387289</td><td>-0.3369552</td><td>-1.0653238</td><td>31</td><td>NCOA1, E....</td><td>-0.45269666</td></tr>\n",
       "\t<tr><td>5</td><td>0.17532468</td><td>0.4675325</td><td>0.05046611</td><td>-0.3631470</td><td>-1.2005879</td><td>38</td><td>RPA2, DN....</td><td>-0.75615696</td></tr>\n",
       "\t<tr><td>3</td><td>0.13079275</td><td>0.4675325</td><td>0.05948707</td><td>-0.3691121</td><td>-1.2493702</td><td>43</td><td>PSMA7, P....</td><td>-0.88341631</td></tr>\n",
       "\t<tr><td>7</td><td>0.08743043</td><td>0.4675325</td><td>0.07293884</td><td>-0.3908773</td><td>-1.3069889</td><td>40</td><td>NDUFB8, ....</td><td>-1.05833740</td></tr>\n",
       "</tbody>\n",
       "</table>\n"
      ],
      "text/latex": [
       "A data.table: 8 × 9\n",
       "\\begin{tabular}{lllllllll}\n",
       " pathway & pval & padj & log2err & ES & NES & size & leadingEdge & score\\\\\n",
       " <fct> & <dbl> & <dbl> & <dbl> & <dbl> & <dbl> & <int> & <list> & <dbl>\\\\\n",
       "\\hline\n",
       "\t 4 & 0.92600798 & 0.9260080 & 0.01702552 & -0.2343931 & -0.6639091 & 20 & MDM2, RP.... & -0.03338527\\\\\n",
       "\t 6 & 0.59560842 & 0.6806953 & 0.02077039 &  0.3407706 &  0.9079523 & 18 & CASP3, T.... &  0.22503917\\\\\n",
       "\t 0 & 0.50579965 & 0.6743995 & 0.02269799 &  0.3050356 &  0.9682053 & 38 & CLU, C1S.... &  0.29602148\\\\\n",
       "\t 1 & 0.42442882 & 0.6743995 & 0.02557152 &  0.3212969 &  1.0198197 & 38 & MRE11, T.... &  0.37219513\\\\\n",
       "\t 2 & 0.35261708 & 0.6743995 & 0.03387289 & -0.3369552 & -1.0653238 & 31 & NCOA1, E.... & -0.45269666\\\\\n",
       "\t 5 & 0.17532468 & 0.4675325 & 0.05046611 & -0.3631470 & -1.2005879 & 38 & RPA2, DN.... & -0.75615696\\\\\n",
       "\t 3 & 0.13079275 & 0.4675325 & 0.05948707 & -0.3691121 & -1.2493702 & 43 & PSMA7, P.... & -0.88341631\\\\\n",
       "\t 7 & 0.08743043 & 0.4675325 & 0.07293884 & -0.3908773 & -1.3069889 & 40 & NDUFB8, .... & -1.05833740\\\\\n",
       "\\end{tabular}\n"
      ],
      "text/markdown": [
       "\n",
       "A data.table: 8 × 9\n",
       "\n",
       "| pathway &lt;fct&gt; | pval &lt;dbl&gt; | padj &lt;dbl&gt; | log2err &lt;dbl&gt; | ES &lt;dbl&gt; | NES &lt;dbl&gt; | size &lt;int&gt; | leadingEdge &lt;list&gt; | score &lt;dbl&gt; |\n",
       "|---|---|---|---|---|---|---|---|---|\n",
       "| 4 | 0.92600798 | 0.9260080 | 0.01702552 | -0.2343931 | -0.6639091 | 20 | MDM2, RP.... | -0.03338527 |\n",
       "| 6 | 0.59560842 | 0.6806953 | 0.02077039 |  0.3407706 |  0.9079523 | 18 | CASP3, T.... |  0.22503917 |\n",
       "| 0 | 0.50579965 | 0.6743995 | 0.02269799 |  0.3050356 |  0.9682053 | 38 | CLU, C1S.... |  0.29602148 |\n",
       "| 1 | 0.42442882 | 0.6743995 | 0.02557152 |  0.3212969 |  1.0198197 | 38 | MRE11, T.... |  0.37219513 |\n",
       "| 2 | 0.35261708 | 0.6743995 | 0.03387289 | -0.3369552 | -1.0653238 | 31 | NCOA1, E.... | -0.45269666 |\n",
       "| 5 | 0.17532468 | 0.4675325 | 0.05046611 | -0.3631470 | -1.2005879 | 38 | RPA2, DN.... | -0.75615696 |\n",
       "| 3 | 0.13079275 | 0.4675325 | 0.05948707 | -0.3691121 | -1.2493702 | 43 | PSMA7, P.... | -0.88341631 |\n",
       "| 7 | 0.08743043 | 0.4675325 | 0.07293884 | -0.3908773 | -1.3069889 | 40 | NDUFB8, .... | -1.05833740 |\n",
       "\n"
      ],
      "text/plain": [
       "  pathway pval       padj      log2err    ES         NES        size\n",
       "1 4       0.92600798 0.9260080 0.01702552 -0.2343931 -0.6639091 20  \n",
       "2 6       0.59560842 0.6806953 0.02077039  0.3407706  0.9079523 18  \n",
       "3 0       0.50579965 0.6743995 0.02269799  0.3050356  0.9682053 38  \n",
       "4 1       0.42442882 0.6743995 0.02557152  0.3212969  1.0198197 38  \n",
       "5 2       0.35261708 0.6743995 0.03387289 -0.3369552 -1.0653238 31  \n",
       "6 5       0.17532468 0.4675325 0.05046611 -0.3631470 -1.2005879 38  \n",
       "7 3       0.13079275 0.4675325 0.05948707 -0.3691121 -1.2493702 43  \n",
       "8 7       0.08743043 0.4675325 0.07293884 -0.3908773 -1.3069889 40  \n",
       "  leadingEdge  score      \n",
       "1 MDM2, RP.... -0.03338527\n",
       "2 CASP3, T....  0.22503917\n",
       "3 CLU, C1S....  0.29602148\n",
       "4 MRE11, T....  0.37219513\n",
       "5 NCOA1, E.... -0.45269666\n",
       "6 RPA2, DN.... -0.75615696\n",
       "7 PSMA7, P.... -0.88341631\n",
       "8 NDUFB8, .... -1.05833740"
      ]
     },
     "metadata": {},
     "output_type": "display_data"
    }
   ],
   "source": [
    "o"
   ]
  },
  {
   "cell_type": "code",
   "execution_count": 348,
   "id": "d016cb16-07c9-4c88-bca4-f2db17b26a8c",
   "metadata": {},
   "outputs": [
    {
     "data": {
      "text/html": [
       "1043103"
      ],
      "text/latex": [
       "1043103"
      ],
      "text/markdown": [
       "1043103"
      ],
      "text/plain": [
       "[1] 1043103"
      ]
     },
     "metadata": {},
     "output_type": "display_data"
    }
   ],
   "source": [
    "rs729"
   ]
  },
  {
   "cell_type": "code",
   "execution_count": 349,
   "id": "dca4c20a-9d26-4918-966f-2ddd50c0fe9c",
   "metadata": {},
   "outputs": [],
   "source": []
  },
  {
   "cell_type": "code",
   "execution_count": 350,
   "id": "e917f5eb-ea5b-446d-9ee3-f64e8d3b1c93",
   "metadata": {},
   "outputs": [],
   "source": []
  },
  {
   "cell_type": "code",
   "execution_count": 351,
   "id": "79fcea1f-1fe9-4f65-8e21-893619a8eb55",
   "metadata": {},
   "outputs": [],
   "source": []
  },
  {
   "cell_type": "code",
   "execution_count": 352,
   "id": "5905c45f-de10-4712-b290-6bf1b0e4435a",
   "metadata": {},
   "outputs": [
    {
     "data": {
      "text/plain": [
       "   \n",
       "      0   1\n",
       "  0 202  38\n",
       "  1 111   7\n",
       "  2  17   0"
      ]
     },
     "metadata": {},
     "output_type": "display_data"
    }
   ],
   "source": [
    "table(meta_keep2$rs3752246, meta_keep2$rs72973581)"
   ]
  },
  {
   "cell_type": "code",
   "execution_count": 353,
   "id": "f0b5b708-92bf-49df-ab5a-107de8622543",
   "metadata": {},
   "outputs": [],
   "source": []
  },
  {
   "cell_type": "code",
   "execution_count": 213,
   "id": "2eff03c6-7dc1-46c3-8ce9-0c30fcd99534",
   "metadata": {},
   "outputs": [
    {
     "data": {
      "text/html": [
       "18.75"
      ],
      "text/latex": [
       "18.75"
      ],
      "text/markdown": [
       "18.75"
      ],
      "text/plain": [
       "[1] 18.75"
      ]
     },
     "metadata": {},
     "output_type": "display_data"
    }
   ],
   "source": [
    "375/20"
   ]
  },
  {
   "cell_type": "code",
   "execution_count": 333,
   "id": "b3a520dc-6320-4185-bd2e-5c2f9740a424",
   "metadata": {},
   "outputs": [
    {
     "data": {
      "text/html": [
       "<style>\n",
       ".list-inline {list-style: none; margin:0; padding: 0}\n",
       ".list-inline>li {display: inline-block}\n",
       ".list-inline>li:not(:last-child)::after {content: \"\\00b7\"; padding: 0 .5ex}\n",
       "</style>\n",
       "<ol class=list-inline><li>10226</li><li>375</li></ol>\n"
      ],
      "text/latex": [
       "\\begin{enumerate*}\n",
       "\\item 10226\n",
       "\\item 375\n",
       "\\end{enumerate*}\n"
      ],
      "text/markdown": [
       "1. 10226\n",
       "2. 375\n",
       "\n",
       "\n"
      ],
      "text/plain": [
       "[1] 10226   375"
      ]
     },
     "metadata": {},
     "output_type": "display_data"
    }
   ],
   "source": [
    "dim(counts_keep2)"
   ]
  },
  {
   "cell_type": "code",
   "execution_count": 201,
   "id": "4884824a-101f-45b2-988e-931acfd0fe83",
   "metadata": {},
   "outputs": [
    {
     "data": {
      "text/html": [
       "<style>\n",
       ".list-inline {list-style: none; margin:0; padding: 0}\n",
       ".list-inline>li {display: inline-block}\n",
       ".list-inline>li:not(:last-child)::after {content: \"\\00b7\"; padding: 0 .5ex}\n",
       "</style>\n",
       "<ol class=list-inline><li>10214</li><li>375</li></ol>\n"
      ],
      "text/latex": [
       "\\begin{enumerate*}\n",
       "\\item 10214\n",
       "\\item 375\n",
       "\\end{enumerate*}\n"
      ],
      "text/markdown": [
       "1. 10214\n",
       "2. 375\n",
       "\n",
       "\n"
      ],
      "text/plain": [
       "[1] 10214   375"
      ]
     },
     "metadata": {},
     "output_type": "display_data"
    }
   ],
   "source": [
    "dim(counts_keep2)"
   ]
  },
  {
   "cell_type": "code",
   "execution_count": 355,
   "id": "47c9f8b8-d4cd-4f4e-a1df-446a843181f6",
   "metadata": {},
   "outputs": [
    {
     "name": "stdout",
     "output_type": "stream",
     "text": [
      "Number of significant surrogate variables is:  21 \n",
      "Iteration (out of 5 ):1  2  3  4  5  "
     ]
    }
   ],
   "source": []
  },
  {
   "cell_type": "code",
   "execution_count": 356,
   "id": "ab8626b9-6a14-4f22-ab81-f2def351a12d",
   "metadata": {},
   "outputs": [],
   "source": []
  },
  {
   "cell_type": "code",
   "execution_count": 357,
   "id": "e3a7d254-88e7-4452-93aa-d674457b8b79",
   "metadata": {},
   "outputs": [],
   "source": []
  },
  {
   "cell_type": "code",
   "execution_count": 358,
   "id": "605b073f-af48-4d85-b72a-dbb33be03a29",
   "metadata": {},
   "outputs": [],
   "source": []
  },
  {
   "cell_type": "code",
   "execution_count": 359,
   "id": "203cb0ae-c9b4-495d-af93-215b68745405",
   "metadata": {},
   "outputs": [],
   "source": []
  },
  {
   "cell_type": "code",
   "execution_count": 360,
   "id": "0141f609-8f35-4ff1-bb2f-564231ff4b2d",
   "metadata": {},
   "outputs": [],
   "source": []
  },
  {
   "cell_type": "code",
   "execution_count": 361,
   "id": "d00a656a-3025-437e-a9ca-58ef8fad0633",
   "metadata": {},
   "outputs": [
    {
     "data": {
      "image/png": "[encoded data removed]",
      "text/plain": [
       "plot without title"
      ]
     },
     "metadata": {
      "image/png": {
       "height": 300,
       "width": 250
      }
     },
     "output_type": "display_data"
    }
   ],
   "source": [
    "library(ggplot2)\n",
    "options(repr.plot.width = 5, repr.plot.height =6, repr.plot.res = 100)\n",
    "\n",
    "ggplot(o, aes(x=pathway, y=score)) + \n",
    "  geom_bar(stat = \"identity\") +\n",
    "  coord_flip() + ylim(c(-2,2))+ geom_hline(yintercept=c(-1.3,1.3), linetype=\"dashed\", \n",
    "                color = \"red\", size=1)"
   ]
  },
  {
   "cell_type": "code",
   "execution_count": null,
   "id": "a2716c93-5f50-46eb-9952-b10a8a970bf4",
   "metadata": {},
   "outputs": [],
   "source": [
    "# analysis of dose dependency\n",
    "# show effect size as in figure 2\n",
    "# missense burden variant analysis as in Holstege et al "
   ]
  },
  {
   "cell_type": "code",
   "execution_count": 340,
   "id": "5fed982e-4037-41bc-9662-79af5df2edec",
   "metadata": {},
   "outputs": [
    {
     "data": {
      "image/png": "[encoded data removed]",
      "text/plain": [
       "plot without title"
      ]
     },
     "metadata": {
      "image/png": {
       "height": 300,
       "width": 250
      }
     },
     "output_type": "display_data"
    }
   ],
   "source": [
    "library(ggplot2)\n",
    "options(repr.plot.width = 5, repr.plot.height =6, repr.plot.res = 100)\n",
    "\n",
    "ggplot(o, aes(x=pathway, y=score)) + \n",
    "  geom_bar(stat = \"identity\") +\n",
    "  coord_flip() + ylim(c(-2,2))+ geom_hline(yintercept=c(-1.3,1.3), linetype=\"dashed\", \n",
    "                color = \"red\", size=1)"
   ]
  },
  {
   "cell_type": "code",
   "execution_count": 259,
   "id": "011f5203-d4a4-4009-b8b6-381b63cab113",
   "metadata": {},
   "outputs": [
    {
     "data": {
      "image/png": "[encoded data removed]",
      "text/plain": [
       "plot without title"
      ]
     },
     "metadata": {
      "image/png": {
       "height": 300,
       "width": 250
      }
     },
     "output_type": "display_data"
    }
   ],
   "source": [
    "library(ggplot2)\n",
    "options(repr.plot.width = 5, repr.plot.height =6, repr.plot.res = 100)\n",
    "\n",
    "ggplot(o, aes(x=pathway, y=score)) + \n",
    "  geom_bar(stat = \"identity\") +\n",
    "  coord_flip() + ylim(c(-2,2))+ geom_hline(yintercept=c(-1.3,1.3), linetype=\"dashed\", \n",
    "                color = \"red\", size=1)"
   ]
  },
  {
   "cell_type": "code",
   "execution_count": 242,
   "id": "3729a859-29f8-4ed5-abfd-8d2cc292c135",
   "metadata": {},
   "outputs": [
    {
     "data": {
      "image/png": "[encoded data removed]",
      "text/plain": [
       "plot without title"
      ]
     },
     "metadata": {
      "image/png": {
       "height": 300,
       "width": 250
      }
     },
     "output_type": "display_data"
    }
   ],
   "source": [
    "library(ggplot2)\n",
    "options(repr.plot.width = 5, repr.plot.height =6, repr.plot.res = 100)\n",
    "\n",
    "ggplot(o, aes(x=pathway, y=score)) + \n",
    "  geom_bar(stat = \"identity\") +\n",
    "  coord_flip() + ylim(c(-2,2))+ geom_hline(yintercept=c(-1,1), linetype=\"dashed\", \n",
    "                color = \"red\", size=1)"
   ]
  },
  {
   "cell_type": "code",
   "execution_count": 208,
   "id": "229e5922-e863-44fe-b01a-0c52764262fd",
   "metadata": {},
   "outputs": [
    {
     "name": "stderr",
     "output_type": "stream",
     "text": [
      "Warning message:\n",
      "“\u001b[1m\u001b[22mRemoved 1 rows containing missing values (`position_stack()`).”\n"
     ]
    },
    {
     "data": {
      "image/png": "[encoded data removed]",
      "text/plain": [
       "plot without title"
      ]
     },
     "metadata": {
      "image/png": {
       "height": 300,
       "width": 250
      }
     },
     "output_type": "display_data"
    }
   ],
   "source": [
    "library(ggplot2)\n",
    "options(repr.plot.width = 5, repr.plot.height =6, repr.plot.res = 100)\n",
    "\n",
    "ggplot(o, aes(x=pathway, y=score)) + \n",
    "  geom_bar(stat = \"identity\") +\n",
    "  coord_flip() + ylim(c(-2,2))+ geom_hline(yintercept=c(-1,1), linetype=\"dashed\", \n",
    "                color = \"red\", size=1)"
   ]
  },
  {
   "cell_type": "code",
   "execution_count": 190,
   "id": "792dae21-29d5-4954-a7a9-5ae525ba63f5",
   "metadata": {},
   "outputs": [
    {
     "data": {
      "image/png": "[encoded data removed]",
      "text/plain": [
       "plot without title"
      ]
     },
     "metadata": {
      "image/png": {
       "height": 300,
       "width": 250
      }
     },
     "output_type": "display_data"
    }
   ],
   "source": [
    "library(ggplot2)\n",
    "options(repr.plot.width = 5, repr.plot.height =6, repr.plot.res = 100)\n",
    "\n",
    "ggplot(o, aes(x=pathway, y=score)) + \n",
    "  geom_bar(stat = \"identity\") +\n",
    "  coord_flip() + ylim(c(-2,2))+ geom_hline(yintercept=c(-1,1), linetype=\"dashed\", \n",
    "                color = \"red\", size=1)"
   ]
  },
  {
   "cell_type": "code",
   "execution_count": 141,
   "id": "b558550c-34d5-42bb-9809-ab8e81a0c97a",
   "metadata": {},
   "outputs": [
    {
     "data": {
      "image/png": "[encoded data removed]",
      "text/plain": [
       "plot without title"
      ]
     },
     "metadata": {
      "image/png": {
       "height": 300,
       "width": 250
      }
     },
     "output_type": "display_data"
    }
   ],
   "source": [
    "library(ggplot2)\n",
    "options(repr.plot.width = 5, repr.plot.height =6, repr.plot.res = 100)\n",
    "\n",
    "ggplot(o, aes(x=pathway, y=score)) + \n",
    "  geom_bar(stat = \"identity\") +\n",
    "  coord_flip() + ylim(c(-2,2))+ geom_hline(yintercept=c(-1,1), linetype=\"dashed\", \n",
    "                color = \"red\", size=1)"
   ]
  },
  {
   "cell_type": "code",
   "execution_count": 117,
   "id": "40e101b5-e154-4491-af86-1918f787bf8d",
   "metadata": {},
   "outputs": [
    {
     "data": {
      "image/png": "[encoded data removed]",
      "text/plain": [
       "plot without title"
      ]
     },
     "metadata": {
      "image/png": {
       "height": 300,
       "width": 250
      }
     },
     "output_type": "display_data"
    }
   ],
   "source": [
    "library(ggplot2)\n",
    "options(repr.plot.width = 5, repr.plot.height =6, repr.plot.res = 100)\n",
    "\n",
    "ggplot(o, aes(x=pathway, y=score)) + \n",
    "  geom_bar(stat = \"identity\") +\n",
    "  coord_flip() + ylim(c(-2,2))+ geom_hline(yintercept=c(-1,1), linetype=\"dashed\", \n",
    "                color = \"red\", size=1)"
   ]
  },
  {
   "cell_type": "code",
   "execution_count": 101,
   "id": "8b0fe8b7-61cf-41b2-8407-a1fb8c7d9397",
   "metadata": {},
   "outputs": [
    {
     "data": {
      "image/png": "[encoded data removed]",
      "text/plain": [
       "plot without title"
      ]
     },
     "metadata": {
      "image/png": {
       "height": 300,
       "width": 250
      }
     },
     "output_type": "display_data"
    }
   ],
   "source": [
    "library(ggplot2)\n",
    "options(repr.plot.width = 5, repr.plot.height =6, repr.plot.res = 100)\n",
    "\n",
    "ggplot(o, aes(x=pathway, y=score)) + \n",
    "  geom_bar(stat = \"identity\") +\n",
    "  coord_flip() + ylim(c(-2,2))+ geom_hline(yintercept=c(-1,1), linetype=\"dashed\", \n",
    "                color = \"red\", size=1)"
   ]
  },
  {
   "cell_type": "code",
   "execution_count": 66,
   "id": "60452ed8-efe8-425f-b82c-8c2c28e55295",
   "metadata": {},
   "outputs": [
    {
     "data": {
      "image/png": "[encoded data removed]",
      "text/plain": [
       "plot without title"
      ]
     },
     "metadata": {
      "image/png": {
       "height": 300,
       "width": 250
      }
     },
     "output_type": "display_data"
    }
   ],
   "source": [
    "library(ggplot2)\n",
    "options(repr.plot.width = 5, repr.plot.height =6, repr.plot.res = 100)\n",
    "\n",
    "ggplot(o, aes(x=pathway, y=score)) + \n",
    "  geom_bar(stat = \"identity\") +\n",
    "  coord_flip() + ylim(c(-2,2))+ geom_hline(yintercept=c(-1,1), linetype=\"dashed\", \n",
    "                color = \"red\", size=1)"
   ]
  }
 ],
 "metadata": {
  "kernelspec": {
   "display_name": "R [conda env:.conda-r_env]",
   "language": "R",
   "name": "conda-env-.conda-r_env-r"
  },
  "language_info": {
   "codemirror_mode": "r",
   "file_extension": ".r",
   "mimetype": "text/x-r-source",
   "name": "R",
   "pygments_lexer": "r",
   "version": "4.2.3"
  }
 },
 "nbformat": 4,
 "nbformat_minor": 5
}

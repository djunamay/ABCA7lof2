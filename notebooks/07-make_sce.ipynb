{
 "cells": [
  {
   "cell_type": "markdown",
   "id": "883591ca-5428-429d-ad27-0f78d148ee0b",
   "metadata": {},
   "source": [
    "**Save single cell data as singlecellexperiment object**\n"
   ]
  },
  {
   "cell_type": "code",
   "execution_count": 1,
   "id": "fc578a56-19e8-4e46-bdcd-8b4942610dfe",
   "metadata": {
    "collapsed": true,
    "jupyter": {
     "outputs_hidden": true
    },
    "tags": []
   },
   "outputs": [
    {
     "name": "stderr",
     "output_type": "stream",
     "text": [
      "Loading required package: SummarizedExperiment\n",
      "\n",
      "Loading required package: MatrixGenerics\n",
      "\n",
      "Loading required package: matrixStats\n",
      "\n",
      "\n",
      "Attaching package: ‘MatrixGenerics’\n",
      "\n",
      "\n",
      "The following objects are masked from ‘package:matrixStats’:\n",
      "\n",
      "    colAlls, colAnyNAs, colAnys, colAvgsPerRowSet, colCollapse,\n",
      "    colCounts, colCummaxs, colCummins, colCumprods, colCumsums,\n",
      "    colDiffs, colIQRDiffs, colIQRs, colLogSumExps, colMadDiffs,\n",
      "    colMads, colMaxs, colMeans2, colMedians, colMins, colOrderStats,\n",
      "    colProds, colQuantiles, colRanges, colRanks, colSdDiffs, colSds,\n",
      "    colSums2, colTabulates, colVarDiffs, colVars, colWeightedMads,\n",
      "    colWeightedMeans, colWeightedMedians, colWeightedSds,\n",
      "    colWeightedVars, rowAlls, rowAnyNAs, rowAnys, rowAvgsPerColSet,\n",
      "    rowCollapse, rowCounts, rowCummaxs, rowCummins, rowCumprods,\n",
      "    rowCumsums, rowDiffs, rowIQRDiffs, rowIQRs, rowLogSumExps,\n",
      "    rowMadDiffs, rowMads, rowMaxs, rowMeans2, rowMedians, rowMins,\n",
      "    rowOrderStats, rowProds, rowQuantiles, rowRanges, rowRanks,\n",
      "    rowSdDiffs, rowSds, rowSums2, rowTabulates, rowVarDiffs, rowVars,\n",
      "    rowWeightedMads, rowWeightedMeans, rowWeightedMedians,\n",
      "    rowWeightedSds, rowWeightedVars\n",
      "\n",
      "\n",
      "Loading required package: GenomicRanges\n",
      "\n",
      "Loading required package: stats4\n",
      "\n",
      "Loading required package: BiocGenerics\n",
      "\n",
      "\n",
      "Attaching package: ‘BiocGenerics’\n",
      "\n",
      "\n",
      "The following objects are masked from ‘package:stats’:\n",
      "\n",
      "    IQR, mad, sd, var, xtabs\n",
      "\n",
      "\n",
      "The following objects are masked from ‘package:base’:\n",
      "\n",
      "    Filter, Find, Map, Position, Reduce, anyDuplicated, aperm, append,\n",
      "    as.data.frame, basename, cbind, colnames, dirname, do.call,\n",
      "    duplicated, eval, evalq, get, grep, grepl, intersect, is.unsorted,\n",
      "    lapply, mapply, match, mget, order, paste, pmax, pmax.int, pmin,\n",
      "    pmin.int, rank, rbind, rownames, sapply, setdiff, sort, table,\n",
      "    tapply, union, unique, unsplit, which.max, which.min\n",
      "\n",
      "\n",
      "Loading required package: S4Vectors\n",
      "\n",
      "\n",
      "Attaching package: ‘S4Vectors’\n",
      "\n",
      "\n",
      "The following objects are masked from ‘package:base’:\n",
      "\n",
      "    I, expand.grid, unname\n",
      "\n",
      "\n",
      "Loading required package: IRanges\n",
      "\n",
      "Loading required package: GenomeInfoDb\n",
      "\n",
      "Loading required package: Biobase\n",
      "\n",
      "Welcome to Bioconductor\n",
      "\n",
      "    Vignettes contain introductory material; view with\n",
      "    'browseVignettes()'. To cite Bioconductor, see\n",
      "    'citation(\"Biobase\")', and for packages 'citation(\"pkgname\")'.\n",
      "\n",
      "\n",
      "\n",
      "Attaching package: ‘Biobase’\n",
      "\n",
      "\n",
      "The following object is masked from ‘package:MatrixGenerics’:\n",
      "\n",
      "    rowMedians\n",
      "\n",
      "\n",
      "The following objects are masked from ‘package:matrixStats’:\n",
      "\n",
      "    anyMissing, rowMedians\n",
      "\n",
      "\n"
     ]
    }
   ],
   "source": [
    "library(SingleCellExperiment)"
   ]
  },
  {
   "cell_type": "code",
   "execution_count": 2,
   "id": "1bdad145-153e-4cdb-b8f5-976e486c3e2d",
   "metadata": {},
   "outputs": [],
   "source": [
    "# load counts data\n",
    "counts = Matrix::readMM(\"./processed_data/single_cell/counts.mtx\")\n",
    "logcounts = Matrix::readMM(\"./processed_data/single_cell/logcounts.mtx\")"
   ]
  },
  {
   "cell_type": "code",
   "execution_count": 3,
   "id": "36bcb267-8f9d-44a0-9ad0-71117032789a",
   "metadata": {},
   "outputs": [],
   "source": [
    "# load metadata\n",
    "rowData = read.csv(\"./processed_data/single_cell/rowData.csv\", row.names='X')\n",
    "colData = read.csv(\"./processed_data/single_cell/colData.csv\", row.names='X')\n",
    "rownames(rowData) = make.unique(rowData$X0)\n",
    "rownames(colData) = make.unique(colData$barcodes)"
   ]
  },
  {
   "cell_type": "code",
   "execution_count": 4,
   "id": "8d0c3c57-b2f0-4baa-b2f8-a245c97a92aa",
   "metadata": {},
   "outputs": [],
   "source": [
    "# make sce\n",
    "sce = SingleCellExperiment(assays = list(counts = t(counts), logcounts=t(logcounts)), colData = colData, rowData = rowData)\n",
    "rownames(sce) = rownames(rowData)\n",
    "colnames(sce) = rownames(colData)"
   ]
  },
  {
   "cell_type": "code",
   "execution_count": 5,
   "id": "f701bc28-8ff0-4198-b711-9f48c6ba97dd",
   "metadata": {},
   "outputs": [],
   "source": [
    "# save\n",
    "saveRDS(sce, './processed_data/single_cell/sce.rds')"
   ]
  },
  {
   "cell_type": "code",
   "execution_count": 10,
   "id": "b41ff05e-9d32-4020-8b53-49aea41eed88",
   "metadata": {},
   "outputs": [
    {
     "data": {
      "text/html": [
       "0"
      ],
      "text/latex": [
       "0"
      ],
      "text/markdown": [
       "0"
      ],
      "text/plain": [
       "[1] 0"
      ]
     },
     "metadata": {},
     "output_type": "display_data"
    }
   ],
   "source": [
    "max(logcounts[colData$seq_batch=='171013Tsa',])"
   ]
  }
 ],
 "metadata": {
  "kernelspec": {
   "display_name": "R [conda env:.conda-r_env]",
   "language": "R",
   "name": "conda-env-.conda-r_env-r"
  },
  "language_info": {
   "codemirror_mode": "r",
   "file_extension": ".r",
   "mimetype": "text/x-r-source",
   "name": "R",
   "pygments_lexer": "r",
   "version": "4.2.3"
  }
 },
 "nbformat": 4,
 "nbformat_minor": 5
}

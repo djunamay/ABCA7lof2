{
 "cells": [
  {
   "cell_type": "code",
   "execution_count": 19,
   "id": "88098053-c0b4-45bb-885c-acfda934c3e2",
   "metadata": {},
   "outputs": [],
   "source": [
    "df = readRDS('../ABCA7lof/processed_data/single_cell_data/RefCellTypeMarkers.adultBrain.rds')"
   ]
  },
  {
   "cell_type": "code",
   "execution_count": 20,
   "id": "5dd38343-0dbd-4340-bda2-e767bd6d8a20",
   "metadata": {},
   "outputs": [],
   "source": [
    "df2 = read.csv('./raw_data/genesets/PanglaoDB_markers_27_Mar_2020.tsv', sep = '\\t')"
   ]
  },
  {
   "cell_type": "code",
   "execution_count": 21,
   "id": "b46f1653-656c-4308-b2dc-e73df450e73d",
   "metadata": {},
   "outputs": [],
   "source": [
    "df[['Lymphoid']] = union(df2[df2$cell.type=='T cells' & df2$sensitivity_human>0.15 & df2$species%in%c('Hs', 'Mm Hs'),'official.gene.symbol'], df2[df2$cell.type=='B cells' & df2$sensitivity_human>0.15 & df2$species%in%c('Hs', 'Mm Hs'),'official.gene.symbol'])"
   ]
  },
  {
   "cell_type": "code",
   "execution_count": 22,
   "id": "160d5742-d1e4-4700-99c7-ae304d9bd35c",
   "metadata": {},
   "outputs": [],
   "source": [
    "df[['Vascular']] = union(df$Per, df$Endo)"
   ]
  },
  {
   "cell_type": "code",
   "execution_count": 23,
   "id": "7a9676b4-817b-4f99-a6a4-c9c8c9fd214c",
   "metadata": {},
   "outputs": [],
   "source": [
    "df$Per = NULL\n",
    "df$Endo = NULL"
   ]
  },
  {
   "cell_type": "code",
   "execution_count": 24,
   "id": "d9ce2184-a8b0-482f-8653-f77397676cd0",
   "metadata": {},
   "outputs": [],
   "source": [
    "out = list()\n",
    "for(i in names(df)){\n",
    "    d = as.data.frame(df[[i]])\n",
    "    colnames(d) = 'marker'\n",
    "    d$major_celltype = i\n",
    "    out[[i]] = d\n",
    "}"
   ]
  },
  {
   "cell_type": "code",
   "execution_count": 25,
   "id": "fdda90c6-3cc0-4152-9622-8006ad70cb8c",
   "metadata": {},
   "outputs": [],
   "source": [
    "all_data = do.call('rbind', out)"
   ]
  },
  {
   "cell_type": "code",
   "execution_count": 26,
   "id": "b1db1b59-0e9a-4baf-9f7c-6405a8f3bb0e",
   "metadata": {},
   "outputs": [],
   "source": [
    "write.csv(all_data, './processed_data/single_cell/brain_marker_genes.csv')"
   ]
  },
  {
   "cell_type": "code",
   "execution_count": 27,
   "id": "3f337379-e3cb-43a8-ac5d-b653d01f7371",
   "metadata": {},
   "outputs": [
    {
     "data": {
      "text/plain": [
       "\n",
       "     Ast       Ex       In Lymphoid      Mic      Oli      Opc Vascular \n",
       "     159      113       83       61       97      179      143      124 "
      ]
     },
     "metadata": {},
     "output_type": "display_data"
    }
   ],
   "source": [
    "table(all_data$major_celltype)"
   ]
  },
  {
   "cell_type": "code",
   "execution_count": null,
   "id": "43bf82b1-e9e1-41ee-9ee3-2299ff33a930",
   "metadata": {},
   "outputs": [],
   "source": []
  }
 ],
 "metadata": {
  "kernelspec": {
   "display_name": "R",
   "language": "R",
   "name": "ir"
  },
  "language_info": {
   "codemirror_mode": "r",
   "file_extension": ".r",
   "mimetype": "text/x-r-source",
   "name": "R",
   "pygments_lexer": "r",
   "version": "4.1.2"
  }
 },
 "nbformat": 4,
 "nbformat_minor": 5
}

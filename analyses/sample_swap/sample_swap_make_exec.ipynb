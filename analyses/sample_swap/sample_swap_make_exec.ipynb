{
 "cells": [
  {
   "cell_type": "code",
   "execution_count": 32,
   "id": "91ffc72e-c5d3-48d9-b6ad-517832ae0368",
   "metadata": {},
   "outputs": [],
   "source": [
    "from os import listdir\n",
    "import numpy as np"
   ]
  },
  {
   "cell_type": "code",
   "execution_count": 33,
   "id": "eccfd977-c639-4a99-9e6d-db86678bbd8f",
   "metadata": {},
   "outputs": [],
   "source": [
    "prefix = '/home/gridsan/djuna/Tools/QTLtools_1.1_Ubuntu16.04_x86_64 mbv --bam '\n",
    "prefix2 = '../../raw_data/cellranger_counts_out/'\n",
    "postfix = '/outs/possorted_genome_bam.bam '\n",
    "postfix2 = '--out ./mbv_out_'\n",
    "postfix3 = ' --vcf ./out.hg38.sorted.ChrNamed.vcf.gz'\n",
    "\n",
    "temp = np.array(os.listdir('../raw_data/cellranger_counts_out/'))\n",
    "files = temp[np.array([x.startswith('D') for x in temp])]\n",
    "\n",
    "items = [prefix + prefix2 + str(sample) + postfix + postfix2 + str(sample) + '.txt' + postfix3 for sample in files]"
   ]
  },
  {
   "cell_type": "code",
   "execution_count": 34,
   "id": "c828f47e-83d1-477c-8296-50d5df2cc505",
   "metadata": {},
   "outputs": [],
   "source": [
    "file = open('../processed_data/VCF_BAM_comparison/sample_swap_exec.txt','w')\n",
    "for item in items:\n",
    "    file.write(item+\"\\n\")\n",
    "file.close()"
   ]
  }
 ],
 "metadata": {
  "kernelspec": {
   "display_name": "Python 3 (ipykernel)",
   "language": "python",
   "name": "python3"
  },
  "language_info": {
   "codemirror_mode": {
    "name": "ipython",
    "version": 3
   },
   "file_extension": ".py",
   "mimetype": "text/x-python",
   "name": "python",
   "nbconvert_exporter": "python",
   "pygments_lexer": "ipython3",
   "version": "3.8.13"
  }
 },
 "nbformat": 4,
 "nbformat_minor": 5
}

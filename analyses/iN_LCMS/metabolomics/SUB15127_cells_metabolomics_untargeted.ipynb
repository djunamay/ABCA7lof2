{
 "cells": [
  {
   "cell_type": "markdown",
   "metadata": {},
   "source": [
    "<div style=\"border: 2px solid red; padding: 10px; border-radius: 5px;\">\n",
    "<strong>Notebook description:</strong>\n",
    "    \n",
    "Plotting untargeted LCMS metabolomics on cells\n",
    "\n",
    "<strong>Input Data:</strong>\n",
    "\n",
    "`7689.SUB15127_MetabolomicsData_Targeted.xlsx` \n",
    "\n",
    "\n",
    "<strong>Figures:</strong>\n",
    "\n",
    "`ED12`\n",
    "\n",
    "<strong>Last Run All:</strong>\n",
    "June 17, 2025\n"
   ]
  },
  {
   "cell_type": "code",
   "execution_count": 1,
   "metadata": {},
   "outputs": [],
   "source": [
    "# import packages\n",
    "import numpy as np\n",
    "import pandas as pd\n",
    "from sklearn.decomposition import PCA\n",
    "from sklearn.preprocessing import StandardScaler\n",
    "import seaborn as sns\n",
    "import matplotlib.pyplot as plt\n",
    "import matplotlib.patches as patches\n",
    "from matplotlib.lines import Line2D\n",
    "from scipy.stats import ttest_ind\n",
    "import statsmodels.stats.multitest as smm\n",
    "from adjustText import adjust_text\n",
    "import os\n",
    "\n",
    "from statannotations.Annotator import Annotator"
   ]
  },
  {
   "cell_type": "markdown",
   "metadata": {},
   "source": [
    "load the data"
   ]
  },
  {
   "cell_type": "code",
   "execution_count": 2,
   "metadata": {},
   "outputs": [
    {
     "name": "stderr",
     "output_type": "stream",
     "text": [
      "/Users/djuna/Library/Python/3.9/lib/python/site-packages/openpyxl/worksheet/_reader.py:329: UserWarning: Conditional Formatting extension is not supported and will be removed\n",
      "  warn(msg)\n"
     ]
    }
   ],
   "source": [
    "# Load data \n",
    "output_dir = '../../../LCMS/'\n",
    "\n",
    "# Load the Excel file\n",
    "excel_file = os.path.join(output_dir, '7689.SUB15127_MetabolomicsData_Targeted.xlsx')\n",
    "\n",
    "# Load the sheet into a DataFrame\n",
    "sheet_name = 'Untargeted'  # Replace with the actual sheet name if different\n",
    "data = pd.read_excel(excel_file, sheet_name=sheet_name)\n",
    "metadata = pd.read_excel(excel_file, sheet_name='SamplesNames')"
   ]
  },
  {
   "cell_type": "code",
   "execution_count": 3,
   "metadata": {},
   "outputs": [
    {
     "data": {
      "text/plain": [
       "False"
      ]
     },
     "execution_count": 3,
     "metadata": {},
     "output_type": "execute_result"
    }
   ],
   "source": [
    "# Blanks already removed by core\n",
    "'Background' in set(data.iloc[:,2].unique())\n"
   ]
  },
  {
   "cell_type": "code",
   "execution_count": 4,
   "metadata": {},
   "outputs": [
    {
     "name": "stderr",
     "output_type": "stream",
     "text": [
      "/var/folders/y7/zpj5hbtd2bl78b1t9h2723hw0000gn/T/ipykernel_83081/2743206479.py:4: SettingWithCopyWarning: \n",
      "A value is trying to be set on a copy of a slice from a DataFrame.\n",
      "Try using .loc[row_indexer,col_indexer] = value instead\n",
      "\n",
      "See the caveats in the documentation: https://pandas.pydata.org/pandas-docs/stable/user_guide/indexing.html#returning-a-view-versus-a-copy\n",
      "  meta['grp'] = meta['Line'] + '_' + meta['Treatment']\n"
     ]
    }
   ],
   "source": [
    "# get metadata\n",
    "meta = metadata.iloc[2:]\n",
    "meta.columns = metadata.iloc[1]\n",
    "meta['grp'] = meta['Line'] + '_' + meta['Treatment']\n",
    "dictionary = dict(zip(meta['CD file'], meta['grp']))\n",
    "dictionary_outliers = dict(zip(meta['CD file'], meta['Exp']))"
   ]
  },
  {
   "cell_type": "code",
   "execution_count": 5,
   "metadata": {},
   "outputs": [],
   "source": [
    "# get the normalized areas\n",
    "norm_areas = data.iloc[6:,64:95]\n",
    "norm_areas.columns = [x.split('(')[1].split(')')[0] for x in norm_areas.iloc[0].values]\n",
    "norm_areas = norm_areas[1:]\n",
    "norm_areas.index = np.arange(len(norm_areas))\n",
    "names = np.array([dictionary[x] for x in norm_areas.columns])\n",
    "outliers = np.array([dictionary_outliers[x] for x in norm_areas.columns])"
   ]
  },
  {
   "cell_type": "code",
   "execution_count": 6,
   "metadata": {},
   "outputs": [],
   "source": [
    "# remove the outliers\n",
    "norm_areas_no_outliers = norm_areas.iloc[:,outliers!='outlier']\n",
    "names_no_outliers = names[outliers!='outlier']\n",
    "outliers_no_outliers = outliers[outliers!='outlier']"
   ]
  },
  {
   "cell_type": "markdown",
   "metadata": {},
   "source": [
    "plot PCA projection"
   ]
  },
  {
   "cell_type": "code",
   "execution_count": 7,
   "metadata": {},
   "outputs": [
    {
     "data": {
      "image/png": "[encoded data removed]",
      "text/plain": [
       "<Figure size 250x250 with 1 Axes>"
      ]
     },
     "metadata": {},
     "output_type": "display_data"
    }
   ],
   "source": [
    "# only look at E3, Y, YC\n",
    "names_subset = np.where((names_no_outliers!='G2_H2O'))[0]\n",
    "norm_areas_subset = norm_areas_no_outliers.iloc[:,names_subset]\n",
    "names_subset = names_no_outliers[names_subset]\n",
    "\n",
    "# perform PCA\n",
    "scaler = StandardScaler()\n",
    "norm_areas_subset_no_background_scaled = scaler.fit_transform(norm_areas_subset.T)\n",
    "\n",
    "pca = PCA(n_components=4)\n",
    "principal_components = pca.fit_transform(norm_areas_subset_no_background_scaled)\n",
    "principal_components = pd.DataFrame(data=principal_components, columns=['PC1', 'PC2', 'PC3', 'PC4'])\n",
    "principal_components['condition'] = names_subset\n",
    "\n",
    "# plot PCA\n",
    "plt.figure(figsize=(2.5, 2.5))\n",
    "palette = {'E3_H2O': 'grey', 'Y_H2O': 'orange', 'Y_C': 'purple', 'G2_H2O': 'blue'}\n",
    "sns.scatterplot(x='PC1', y='PC2', hue='condition', data=principal_components, palette=palette, edgecolor='w')\n",
    "explained_variance = pca.explained_variance_ratio_\n",
    "plt.xlabel(f'PC 1 ({explained_variance[0]*100:.2f}%)')\n",
    "plt.ylabel(f'PC 2 ({explained_variance[1]*100:.2f}%)')\n",
    "plt.legend(title='Line', bbox_to_anchor=(1.05, 1), loc='upper left')\n",
    "# Remove the existing legend\n",
    "plt.legend([],[], frameon=False)\n",
    "\n",
    "import matplotlib.patches as patches\n",
    "for treatment in principal_components['condition'].unique():\n",
    "    line_data = principal_components[principal_components['condition'] == treatment]\n",
    "    confidence_ellipse = np.cov(line_data['PC1'], line_data['PC2'])\n",
    "    eigenvals, eigenvecs = np.linalg.eig(confidence_ellipse)\n",
    "    angle = np.degrees(np.arctan2(eigenvecs[1,0], eigenvecs[0,0]))\n",
    "    \n",
    "    ellipse = patches.Ellipse(xy=(line_data['PC1'].mean(), line_data['PC2'].mean()),\n",
    "                            width=2*np.sqrt(eigenvals[0])*2,\n",
    "                            height=2*np.sqrt(eigenvals[1])*2,\n",
    "                            angle=angle,\n",
    "                            fill=True,\n",
    "                            alpha=0.2,\n",
    "                            color=palette[treatment])\n",
    "    plt.gca().add_patch(ellipse)\n",
    "\n",
    "explained_variance = pca.explained_variance_ratio_\n",
    "plt.xlabel(f'PC 1 ({explained_variance[0]*100:.2f}%)')\n",
    "plt.ylabel(f'PC 2 ({explained_variance[1]*100:.2f}%)')\n",
    "plt.legend(title='Line', bbox_to_anchor=(1.05, 1), loc='upper left')\n",
    "# Remove the existing legend\n",
    "plt.legend([],[], frameon=False)\n",
    "\n",
    "# Add a custom legend based on marker type\n",
    "legend_elements = [\n",
    "    Line2D([0], [0], marker='o', color='w',\n",
    "           markerfacecolor='grey', markersize=10,linestyle='None', label='ABCA7 WT'),\n",
    "           \n",
    "           Line2D([0], [0], marker='o', markerfacecolor='orange',color='w',\n",
    "           markersize=10, linestyle='None', label='ABCA7 p.Tyr622* + H$_2$O'),\n",
    "           Line2D([0], [0], marker='o', markerfacecolor='purple',color='w',\n",
    "           markersize=10, linestyle='None', label='ABCA7 p.Tyr622* + CDP-choline')\n",
    "]\n",
    "plt.legend(handles=legend_elements, title='', bbox_to_anchor=(.4, 1.4), loc='upper center', frameon=False)\n",
    "# Add vertical line along the mean of PC1\n",
    "mean_pc1 = principal_components['PC1'].median()\n",
    "plt.axvline(x=mean_pc1, color='black', linestyle='--',  linewidth=0.5)\n",
    "\n",
    "plt.xlim(-30,47)\n",
    "plt.ylim(-30,35)\n",
    "plt.savefig('/Users/djuna/Documents/ABCA7lof2/editorial_paper/main_panels_svgs/ed12/pca_plot_y622_choline_metab.pdf', bbox_inches='tight')\n",
    "\n"
   ]
  }
 ],
 "metadata": {
  "kernelspec": {
   "display_name": "Python 3",
   "language": "python",
   "name": "python3"
  },
  "language_info": {
   "codemirror_mode": {
    "name": "ipython",
    "version": 3
   },
   "file_extension": ".py",
   "mimetype": "text/x-python",
   "name": "python",
   "nbconvert_exporter": "python",
   "pygments_lexer": "ipython3",
   "version": "3.9.6"
  }
 },
 "nbformat": 4,
 "nbformat_minor": 2
}

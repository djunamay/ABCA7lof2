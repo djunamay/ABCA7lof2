{
 "cells": [
  {
   "cell_type": "code",
   "execution_count": 1,
   "id": "9278ec8a-aa99-4547-b7f4-33f8e9f6042b",
   "metadata": {
    "tags": []
   },
   "outputs": [
    {
     "name": "stderr",
     "output_type": "stream",
     "text": [
      "Loading required package: limma\n",
      "\n",
      "Loading required package: mgcv\n",
      "\n",
      "Loading required package: nlme\n",
      "\n",
      "This is mgcv 1.8-40. For overview type 'help(\"mgcv-package\")'.\n",
      "\n",
      "Loading required package: genefilter\n",
      "\n",
      "Loading required package: BiocParallel\n",
      "\n"
     ]
    }
   ],
   "source": [
    "library(edgeR)\n",
    "library(sva)\n",
    "library(fgsea)\n",
    "library(tidyr)\n",
    "source('./ABCA7lof2//degs.r')"
   ]
  },
  {
   "cell_type": "code",
   "execution_count": 2,
   "id": "20b7f287-4a15-4660-aff9-9378eff2523f",
   "metadata": {},
   "outputs": [],
   "source": [
    "all_data = readRDS('./processed_data/single_cell/stats_input_data.rds')"
   ]
  },
  {
   "cell_type": "code",
   "execution_count": 21,
   "id": "16f02950-bee9-46f9-ba6f-a5353b4f6998",
   "metadata": {},
   "outputs": [],
   "source": [
    "summed_counts = all_data$summed_counts_by_ind # does it make sense to be summing on the counts vs taking the mean of the counts? --> compare to nebula? --> ok because we are normalizing?\n",
    "meta = all_data$summary\n",
    "meta$seq_batch = ifelse(meta$seq_batch=='JBM',1,0)\n",
    "expressed = all_data$expressed10"
   ]
  },
  {
   "cell_type": "code",
   "execution_count": 22,
   "id": "85c0bbcf-5eac-4ee3-820d-82c267fe1247",
   "metadata": {},
   "outputs": [],
   "source": [
    "# filter out individuals with too few cells per celltype\n",
    "keep = summed_counts$ncells>20\n",
    "summed_counts_indexed = summed_counts$summed_counts[,keep]"
   ]
  },
  {
   "cell_type": "code",
   "execution_count": 23,
   "id": "48f38d7b-3b10-4976-902f-c9e2b9533164",
   "metadata": {},
   "outputs": [
    {
     "name": "stdout",
     "output_type": "stream",
     "text": [
      "Number of significant surrogate variables is:  9 \n",
      "Iteration (out of 5 ):1  2  3  4  5  Number of significant surrogate variables is:  8 \n",
      "Iteration (out of 5 ):1  2  3  4  5  Number of significant surrogate variables is:  8 \n",
      "Iteration (out of 5 ):1  2  3  4  5  Number of significant surrogate variables is:  8 \n",
      "Iteration (out of 5 ):1  2  3  4  5  Number of significant surrogate variables is:  9 \n",
      "Iteration (out of 5 ):1  2  3  4  5  Number of significant surrogate variables is:  7 \n",
      "Iteration (out of 5 ):1  2  3  4  5  "
     ]
    }
   ],
   "source": [
    "# compute degs (all samples)\n",
    "vars = c('LOF', 'amyloid', 'nft',  'msex', 'age_death', 'pmi', 'seq_batch', 'APOE4')\n",
    "limma_inputs = get_limma_inputs(summed_counts_indexed, expressed, meta, vars)\n",
    "aggs = limma_inputs$aggs\n",
    "metadata = limma_inputs$metadata\n",
    "\n",
    "\n",
    "degs_all = lapply(names(aggs)[!names(aggs)%in%c('Vascular')], function(x) RunDiffExprAnalysisLimma(aggs[[x]], metadata[[x]], n.sv=NULL))\n",
    "names(degs_all) = names(aggs)[!names(aggs)%in%c('Vascular')]"
   ]
  },
  {
   "cell_type": "code",
   "execution_count": 24,
   "id": "3dfb9905-66b4-4922-a81a-700aa421fa81",
   "metadata": {},
   "outputs": [],
   "source": [
    "# get the ids\n",
    "ids = strsplit(colnames(summed_counts_indexed), '[.]')\n",
    "ids = unlist(lapply(1:length(ids), function(x) ids[[x]][2]))"
   ]
  },
  {
   "cell_type": "code",
   "execution_count": 25,
   "id": "262fbf0a-02c3-417d-85b9-b6e0f5ef554a",
   "metadata": {},
   "outputs": [
    {
     "name": "stdout",
     "output_type": "stream",
     "text": [
      "Number of significant surrogate variables is:  6 \n",
      "Iteration (out of 5 ):1  2  3  4  5  Number of significant surrogate variables is:  5 \n",
      "Iteration (out of 5 ):1  2  3  4  5  Number of significant surrogate variables is:  6 \n",
      "Iteration (out of 5 ):1  2  3  4  5  Number of significant surrogate variables is:  5 \n",
      "Iteration (out of 5 ):1  2  3  4  5  Number of significant surrogate variables is:  4 \n",
      "Iteration (out of 5 ):1  2  3  4  5  Number of significant surrogate variables is:  3 \n",
      "Iteration (out of 5 ):1  2  3  4  5  "
     ]
    }
   ],
   "source": [
    "# compute degs (no APOE4 samples)\n",
    "vars = c('LOF', 'amyloid', 'nft',  'msex', 'age_death', 'pmi', 'seq_batch')\n",
    "sele = rownames(meta)[meta$APOE4==0]\n",
    "sc_noAPOE4 = summed_counts_indexed[,ids%in%sele]\n",
    "limma_inputs = get_limma_inputs(sc_noAPOE4, expressed, meta[sele,], vars)\n",
    "aggs = limma_inputs$aggs\n",
    "metadata = limma_inputs$metadata\n",
    "degs_noAPOE4 = lapply(names(aggs)[!names(aggs)%in%c('Vascular')], function(x) RunDiffExprAnalysisLimma(aggs[[x]], metadata[[x]], n.sv=NULL, exclude_apoe=TRUE))\n",
    "names(degs_noAPOE4) = names(aggs)[!names(aggs)%in%c('Vascular')]\n"
   ]
  },
  {
   "cell_type": "code",
   "execution_count": 26,
   "id": "9fb2f2a5-2706-4811-b79d-2f3927497fd2",
   "metadata": {},
   "outputs": [
    {
     "name": "stdout",
     "output_type": "stream",
     "text": [
      "Number of significant surrogate variables is:  4 \n",
      "Iteration (out of 5 ):1  2  3  4  5  Number of significant surrogate variables is:  4 \n",
      "Iteration (out of 5 ):1  2  3  4  5  Number of significant surrogate variables is:  4 \n",
      "Iteration (out of 5 ):1  2  3  4  5  Number of significant surrogate variables is:  4 \n",
      "Iteration (out of 5 ):1  2  3  4  5  Number of significant surrogate variables is:  4 \n",
      "Iteration (out of 5 ):1  2  3  4  5  Number of significant surrogate variables is:  4 \n",
      "Iteration (out of 5 ):1  2  3  4  5  "
     ]
    }
   ],
   "source": [
    "# compute degs (no APOE4 samples)\n",
    "vars = c('LOF', 'amyloid', 'nft',  'msex', 'age_death', 'pmi', 'APOE4')\n",
    "sele = rownames(meta)[meta$seq_batch==1]\n",
    "sc_JBM = summed_counts_indexed[,ids%in%sele]\n",
    "limma_inputs = get_limma_inputs(sc_JBM, expressed, meta[sele,], vars)\n",
    "aggs = limma_inputs$aggs\n",
    "metadata = limma_inputs$metadata\n",
    "degs_JBM = lapply(names(aggs)[!names(aggs)%in%c('Vascular')], function(x) RunDiffExprAnalysisLimma(aggs[[x]], metadata[[x]], n.sv=NULL, exclude_batch=TRUE))\n",
    "names(degs_JBM) = names(aggs)[!names(aggs)%in%c('Vascular')]"
   ]
  },
  {
   "cell_type": "code",
   "execution_count": 27,
   "id": "5a562439-f63a-425a-b830-d3ccab407148",
   "metadata": {},
   "outputs": [
    {
     "name": "stdout",
     "output_type": "stream",
     "text": [
      "Number of significant surrogate variables is:  4 \n",
      "Iteration (out of 5 ):1  2  3  4  5  Number of significant surrogate variables is:  3 \n",
      "Iteration (out of 5 ):1  2  3  4  5  Number of significant surrogate variables is:  3 \n",
      "Iteration (out of 5 ):1  2  3  4  5  Number of significant surrogate variables is:  3 \n",
      "Iteration (out of 5 ):1  2  3  4  5  Number of significant surrogate variables is:  4 \n",
      "Iteration (out of 5 ):1  2  3  4  5  Number of significant surrogate variables is:  2 \n",
      "Iteration (out of 5 ):1  2  3  4  5  "
     ]
    }
   ],
   "source": [
    "# exclude both\n",
    "vars = c('LOF', 'amyloid', 'nft',  'msex', 'age_death', 'pmi')\n",
    "sele = rownames(meta)[(meta$seq_batch==1) & (meta$APOE4==0)]\n",
    "sc_exclude_both = summed_counts_indexed[,ids%in%sele]\n",
    "limma_inputs = get_limma_inputs(sc_exclude_both, expressed, meta[sele,], vars)\n",
    "aggs = limma_inputs$aggs\n",
    "metadata = limma_inputs$metadata\n",
    "degs_exclude_both = lapply(names(aggs)[!names(aggs)%in%c('Vascular')], function(x) RunDiffExprAnalysisLimma(aggs[[x]], metadata[[x]], n.sv=NULL, exclude_both=TRUE))\n",
    "names(degs_exclude_both) = names(aggs)[!names(aggs)%in%c('Vascular')]"
   ]
  },
  {
   "cell_type": "code",
   "execution_count": 28,
   "id": "239c315f-3f48-4b88-98eb-8626c798b002",
   "metadata": {},
   "outputs": [],
   "source": [
    "# save the results\n",
    "degs = list()\n",
    "degs[['degs_all']] = degs_all\n",
    "degs[['degs_exclude_both']] = degs_exclude_both\n",
    "degs[['degs_JBM']] = degs_JBM\n",
    "degs[['degs_noAPOE4']] = degs_noAPOE4\n",
    "\n",
    "saveRDS(degs, './processed_data/single_cell/pseudobulk_degs.rds')"
   ]
  },
  {
   "cell_type": "code",
   "execution_count": 85,
   "id": "a9a5f6d4-41e8-43d4-a5c1-106c8e8e9a13",
   "metadata": {},
   "outputs": [],
   "source": [
    "# save deg scores as matrix\n",
    "out = list()\n",
    "scores = get_deg_scores(degs)\n",
    "for(i in names(scores)){\n",
    "    df = as.data.frame(scores[[i]]$scores)\n",
    "    colnames(df) = c('score')\n",
    "    df$gene = rownames(df)\n",
    "    df$celltype = i\n",
    "    out[[i]] = df\n",
    "}\n",
    "all_scores = as.data.frame(do.call('rbind', out)%>%pivot_wider(., values_from='score', names_from='celltype'))\n",
    "rownames(all_scores) = all_scores$gene\n",
    "all_scores$gene = NULL\n",
    "all_scores[is.na(all_scores)] = 0\n",
    "write.csv(all_scores, './processed_data/single_cell/all_scores.csv')"
   ]
  },
  {
   "cell_type": "code",
   "execution_count": 2,
   "id": "f65d1366-d18b-4e59-9d23-03d16c9c909e",
   "metadata": {},
   "outputs": [],
   "source": [
    "# load degs\n",
    "degs = readRDS('./processed_data/single_cell/pseudobulk_degs.rds')$degs_all\n",
    "#degs = readRDS('../ABCA7lof/processed_data/differentially_expressed_genes_data/abca7lof_pseudobulk_degs_nov10.rds')$degs_all\n",
    "scores = get_deg_scores(degs)"
   ]
  },
  {
   "cell_type": "code",
   "execution_count": 3,
   "id": "9b4d7dbc-23bd-47ae-88cb-13845559fed1",
   "metadata": {},
   "outputs": [],
   "source": [
    "all_paths = read.csv('./processed_data/genesets/all_paths.csv', row.names = 'X')\n",
    "pathways = as.list(as.data.frame(t(all_paths)))\n",
    "temp = lapply(names(pathways), function(x) pathways[[x]][!(pathways[[x]]=='')])\n",
    "names(temp) = names(pathways)"
   ]
  },
  {
   "cell_type": "code",
   "execution_count": 4,
   "id": "3967bc7d-c7df-4a31-8d34-189a5039eb87",
   "metadata": {},
   "outputs": [
    {
     "data": {
      "text/html": [
       "472"
      ],
      "text/latex": [
       "472"
      ],
      "text/markdown": [
       "472"
      ],
      "text/plain": [
       "[1] 472"
      ]
     },
     "metadata": {},
     "output_type": "display_data"
    }
   ],
   "source": [
    "length(temp)"
   ]
  },
  {
   "cell_type": "code",
   "execution_count": 30,
   "id": "4336db22-b44d-4876-8e02-5b0b05382502",
   "metadata": {},
   "outputs": [],
   "source": [
    "# get_gset_names_by_category = function(cat, gsets){\n",
    "#   gset = unlist(lapply(gsets, function(x) unlist(sum(sapply(cat, grepl, x))>0)))\n",
    "#   gset = (gsets[gset])\n",
    "#   return(gset)\n",
    "# }"
   ]
  },
  {
   "cell_type": "code",
   "execution_count": 39,
   "id": "ecaea937-b04b-46d2-90bc-d163170f24c2",
   "metadata": {},
   "outputs": [],
   "source": [
    "# o = get_gset_names_by_category(c('sterol', 'lipid', 'glycer', 'fat', 'ceramide', 'phosphatidyl'), names(temp))"
   ]
  },
  {
   "cell_type": "code",
   "execution_count": 40,
   "id": "d84b7b88-c0a5-4606-bbcf-63f1b9441e27",
   "metadata": {},
   "outputs": [],
   "source": [
    "# temp2 = temp[o]"
   ]
  },
  {
   "cell_type": "code",
   "execution_count": 89,
   "id": "6ab9b803-2634-45af-86bc-b7886b9e5f68",
   "metadata": {},
   "outputs": [],
   "source": [
    "# pathways = readRDS('../ABCA7lof/processed_data/pathway_databases/pathways.rds')\n",
    "# temp2 = pathways$kegg"
   ]
  },
  {
   "cell_type": "code",
   "execution_count": 5,
   "id": "5b025d68-efa5-4ab7-ab80-859e5ec92bc8",
   "metadata": {},
   "outputs": [],
   "source": [
    "out = lapply(names(scores), function(x) cbind(x, fgsea(pathways = temp, stats = scores[[x]]$scores, minSize = 5, maxSize = 1000)))\n",
    "names(out) = names(scores)"
   ]
  },
  {
   "cell_type": "code",
   "execution_count": 6,
   "id": "62978586-fcfb-421b-be70-1255a79b9d45",
   "metadata": {},
   "outputs": [],
   "source": [
    "res = do.call('rbind', out)\n",
    "res$score = sign(res$NES) * -log10(res$pval)\n",
    "res = res[res$x=='Ex',]\n",
    "res = res[order(res$pval,decreasing=FALSE),]\n",
    "res = res[res$pval<0.05,]\n"
   ]
  },
  {
   "cell_type": "code",
   "execution_count": 7,
   "id": "548da68c-73ef-408a-80b1-11913384eccb",
   "metadata": {},
   "outputs": [],
   "source": [
    "# save all fgsea results\n",
    "df = as.data.frame(do.call('rbind', out))\n",
    "df = df[,!colnames(df)=='leadingEdge']\n",
    "write.csv(df, './processed_data/for_plotting/fgsea_out.csv')"
   ]
  },
  {
   "cell_type": "code",
   "execution_count": 141,
   "id": "926062b3-f7b3-43b2-b789-4c02fd7a1cd6",
   "metadata": {},
   "outputs": [],
   "source": [
    "# save all leading edge genes\n",
    "df = as.data.frame(unique(unname(unlist(res$leadingEdge))))\n",
    "colnames(df) = 'gene'\n",
    "write.csv(df, './processed_data/for_plotting/leading_edge.csv')"
   ]
  },
  {
   "cell_type": "code",
   "execution_count": 142,
   "id": "b06e50ed-ade6-4426-8a2f-f4f846700737",
   "metadata": {},
   "outputs": [],
   "source": [
    "# save Ex leading edge genes\n",
    "res = out$Ex\n",
    "res = res[res$pval<0.05,]\n",
    "\n",
    "df = as.data.frame(unique(unname(unlist(res$leadingEdge))))\n",
    "colnames(df) = 'gene'\n",
    "write.csv(df, './processed_data/for_plotting/leading_edge_EX.csv')"
   ]
  }
 ],
 "metadata": {
  "kernelspec": {
   "display_name": "R [conda env:.conda-r_env]",
   "language": "R",
   "name": "conda-env-.conda-r_env-r"
  },
  "language_info": {
   "codemirror_mode": "r",
   "file_extension": ".r",
   "mimetype": "text/x-r-source",
   "name": "R",
   "pygments_lexer": "r",
   "version": "4.2.3"
  }
 },
 "nbformat": 4,
 "nbformat_minor": 5
}

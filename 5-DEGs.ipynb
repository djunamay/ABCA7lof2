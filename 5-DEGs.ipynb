{
 "cells": [
  {
   "cell_type": "code",
   "execution_count": 1,
   "id": "344d9391-7fcf-42bf-9163-f4c7401bd654",
   "metadata": {
    "tags": []
   },
   "outputs": [],
   "source": [
    "# get pseudobulk\n",
    "# compute DEGs\n",
    "# get expressed genes\n",
    "# then save --> go to analysis script, plot\n",
    "# then compare to original QC\n",
    "# possibly redo annotations\n",
    "\n",
    "import numpy as np\n",
    "import pandas as pd"
   ]
  },
  {
   "cell_type": "code",
   "execution_count": 2,
   "id": "d35f4549-2ada-4c23-9605-1eff8bc74a94",
   "metadata": {},
   "outputs": [],
   "source": [
    "# load data\n",
    "meta = np.load('./processed_data/single_cell/filtered_meta.npy', allow_pickle=True)\n",
    "meta_names = np.load('./processed_data/single_cell/meta_names.npy', allow_pickle=True)\n",
    "features = np.load('./processed_data/single_cell/features.npy')\n",
    "logcounts = np.memmap('./processed_data/single_cell/filtered_logcounts.npy', mode='r+', shape=(meta.shape[0], features.shape[0]), dtype='int16')\n",
    "marker_indices = np.load('./processed_data/single_cell/marker_indices.npy')"
   ]
  },
  {
   "cell_type": "code",
   "execution_count": 3,
   "id": "6e485aab-8d72-42d5-9fd2-dde8b1bce701",
   "metadata": {},
   "outputs": [],
   "source": [
    "# get keep cells indices\n",
    "index = meta[:,np.where(meta_names=='keep_cells_all_per_celltype')[0][0]].astype(bool)\n",
    "index2 = meta[:,np.where(meta_names=='keep_cells_gaussian')[0][0]].astype(bool)\n",
    "index_all = index&index2\n",
    "\n",
    "projids = meta[:,2]\n",
    "celltype = meta[:,-3]\n"
   ]
  },
  {
   "cell_type": "code",
   "execution_count": null,
   "id": "2316889c-28ef-45d4-be90-b820839356fc",
   "metadata": {},
   "outputs": [],
   "source": [
    "bulked = np.empty(shape=(len(np.unique(projids))*len(np.unique(celltype)), features.shape[0]))"
   ]
  },
  {
   "cell_type": "code",
   "execution_count": null,
   "id": "c7211627-cfb4-40af-9988-337ae833babe",
   "metadata": {},
   "outputs": [],
   "source": [
    "o"
   ]
  }
 ],
 "metadata": {
  "kernelspec": {
   "display_name": "py_env",
   "language": "python",
   "name": "py_env"
  },
  "language_info": {
   "codemirror_mode": {
    "name": "ipython",
    "version": 3
   },
   "file_extension": ".py",
   "mimetype": "text/x-python",
   "name": "python",
   "nbconvert_exporter": "python",
   "pygments_lexer": "ipython3",
   "version": "3.8.13"
  }
 },
 "nbformat": 4,
 "nbformat_minor": 5
}

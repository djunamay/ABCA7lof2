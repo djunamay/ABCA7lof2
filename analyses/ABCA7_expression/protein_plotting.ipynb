{
 "cells": [
  {
   "cell_type": "markdown",
   "id": "c4a0c683-5207-4af5-9bc7-dc94bdec4b86",
   "metadata": {},
   "source": [
    "<div style=\"border: 2px solid red; padding: 10px; border-radius: 5px;\">\n",
    "<strong>Notebook description:</strong>\n",
    "    \n",
    "This notebook plots ABCA7 protein data.\n",
    "\n",
    "<strong>Input Data:</strong>\n",
    "\n",
    "`ABCA7_proteomics`\n",
    "\n",
    "<strong>Figures:</strong>\n",
    "\n",
    "`ED1`\n",
    "\n",
    "<strong>Last Run All:</strong>\n",
    "June 18, 2025\n",
    "\n",
    "\n"
   ]
  },
  {
   "cell_type": "code",
   "execution_count": 1,
   "id": "5a3893bd-e8ff-4798-8a75-b623c0f4fd9d",
   "metadata": {
    "collapsed": true,
    "jupyter": {
     "outputs_hidden": true
    },
    "tags": [],
    "vscode": {
     "languageId": "r"
    }
   },
   "outputs": [
    {
     "name": "stderr",
     "output_type": "stream",
     "text": [
      "Loading required package: SummarizedExperiment\n",
      "\n",
      "Loading required package: MatrixGenerics\n",
      "\n",
      "Loading required package: matrixStats\n",
      "\n",
      "\n",
      "Attaching package: ‘MatrixGenerics’\n",
      "\n",
      "\n",
      "The following objects are masked from ‘package:matrixStats’:\n",
      "\n",
      "    colAlls, colAnyNAs, colAnys, colAvgsPerRowSet, colCollapse,\n",
      "    colCounts, colCummaxs, colCummins, colCumprods, colCumsums,\n",
      "    colDiffs, colIQRDiffs, colIQRs, colLogSumExps, colMadDiffs,\n",
      "    colMads, colMaxs, colMeans2, colMedians, colMins, colOrderStats,\n",
      "    colProds, colQuantiles, colRanges, colRanks, colSdDiffs, colSds,\n",
      "    colSums2, colTabulates, colVarDiffs, colVars, colWeightedMads,\n",
      "    colWeightedMeans, colWeightedMedians, colWeightedSds,\n",
      "    colWeightedVars, rowAlls, rowAnyNAs, rowAnys, rowAvgsPerColSet,\n",
      "    rowCollapse, rowCounts, rowCummaxs, rowCummins, rowCumprods,\n",
      "    rowCumsums, rowDiffs, rowIQRDiffs, rowIQRs, rowLogSumExps,\n",
      "    rowMadDiffs, rowMads, rowMaxs, rowMeans2, rowMedians, rowMins,\n",
      "    rowOrderStats, rowProds, rowQuantiles, rowRanges, rowRanks,\n",
      "    rowSdDiffs, rowSds, rowSums2, rowTabulates, rowVarDiffs, rowVars,\n",
      "    rowWeightedMads, rowWeightedMeans, rowWeightedMedians,\n",
      "    rowWeightedSds, rowWeightedVars\n",
      "\n",
      "\n",
      "Loading required package: GenomicRanges\n",
      "\n",
      "Loading required package: stats4\n",
      "\n",
      "Loading required package: BiocGenerics\n",
      "\n",
      "\n",
      "Attaching package: ‘BiocGenerics’\n",
      "\n",
      "\n",
      "The following objects are masked from ‘package:stats’:\n",
      "\n",
      "    IQR, mad, sd, var, xtabs\n",
      "\n",
      "\n",
      "The following objects are masked from ‘package:base’:\n",
      "\n",
      "    Filter, Find, Map, Position, Reduce, anyDuplicated, aperm, append,\n",
      "    as.data.frame, basename, cbind, colnames, dirname, do.call,\n",
      "    duplicated, eval, evalq, get, grep, grepl, intersect, is.unsorted,\n",
      "    lapply, mapply, match, mget, order, paste, pmax, pmax.int, pmin,\n",
      "    pmin.int, rank, rbind, rownames, sapply, saveRDS, setdiff, table,\n",
      "    tapply, union, unique, unsplit, which.max, which.min\n",
      "\n",
      "\n",
      "Loading required package: S4Vectors\n",
      "\n",
      "\n",
      "Attaching package: ‘S4Vectors’\n",
      "\n",
      "\n",
      "The following object is masked from ‘package:utils’:\n",
      "\n",
      "    findMatches\n",
      "\n",
      "\n",
      "The following objects are masked from ‘package:base’:\n",
      "\n",
      "    I, expand.grid, unname\n",
      "\n",
      "\n",
      "Loading required package: IRanges\n",
      "\n",
      "Loading required package: GenomeInfoDb\n",
      "\n",
      "Loading required package: Biobase\n",
      "\n",
      "Welcome to Bioconductor\n",
      "\n",
      "    Vignettes contain introductory material; view with\n",
      "    'browseVignettes()'. To cite Bioconductor, see\n",
      "    'citation(\"Biobase\")', and for packages 'citation(\"pkgname\")'.\n",
      "\n",
      "\n",
      "\n",
      "Attaching package: ‘Biobase’\n",
      "\n",
      "\n",
      "The following object is masked from ‘package:MatrixGenerics’:\n",
      "\n",
      "    rowMedians\n",
      "\n",
      "\n",
      "The following objects are masked from ‘package:matrixStats’:\n",
      "\n",
      "    anyMissing, rowMedians\n",
      "\n",
      "\n",
      "\n",
      "Attaching package: ‘tidyr’\n",
      "\n",
      "\n",
      "The following object is masked from ‘package:S4Vectors’:\n",
      "\n",
      "    expand\n",
      "\n",
      "\n",
      "\n",
      "Attaching package: ‘reshape2’\n",
      "\n",
      "\n",
      "The following object is masked from ‘package:tidyr’:\n",
      "\n",
      "    smiths\n",
      "\n",
      "\n"
     ]
    }
   ],
   "source": [
    "\n",
    "source('../../ABCA7lof2/plotting.r')\n",
    "library(SingleCellExperiment)\n",
    "library(ggplot2)\n",
    "library(ggpubr)\n",
    "library(tidyr)\n",
    "library(patchwork)\n",
    "\n",
    "library(reshape2)"
   ]
  },
  {
   "cell_type": "code",
   "execution_count": 2,
   "id": "fbefa7ec",
   "metadata": {
    "vscode": {
     "languageId": "r"
    }
   },
   "outputs": [],
   "source": [
    "colors = readRDS('../../processed_data/Cell_group_colors.rds')\n",
    "cols = c('grey', 'red')\n",
    "names(cols) = c('Con', 'LoF')"
   ]
  },
  {
   "cell_type": "code",
   "execution_count": 3,
   "id": "934a0575",
   "metadata": {
    "vscode": {
     "languageId": "r"
    }
   },
   "outputs": [],
   "source": [
    "proteomics = read.csv('../../processed_data/ABCA7_proteomics.csv')\n",
    "proteomics$LOF = ifelse(proteomics$LOF==1, 'LoF', 'Con')"
   ]
  },
  {
   "cell_type": "code",
   "execution_count": 4,
   "id": "cc21d2d2",
   "metadata": {
    "vscode": {
     "languageId": "r"
    }
   },
   "outputs": [],
   "source": [
    "p000 = boxplot_w_stats(df = proteomics, x = 'LOF', y = 'ABCA7', palette = cols, stats_method='t.test', comparisons = list(c('Con', 'LoF')), xlab = '', ylab = 'ABCA7', width = .5, alpha = .5)+ theme(legend.position=\"none\")+ggtitle('All')\n",
    "p001 = boxplot_w_stats(df = proteomics, x = 'LOF', y = 'RBFOX3', palette = cols, comparisons = list(c('Con', 'LoF')), xlab = '', ylab = 'RBFOX3', width = .5, alpha = .5)+ theme(legend.position=\"none\")+ggtitle('All')\n",
    "p002 = boxplot_w_stats(df = proteomics[proteomics$grp==TRUE,], x = 'LOF', y = 'ABCA7', palette = cols, comparisons = list(c('Con', 'LoF')), xlab = '', ylab = 'ABCA7', width = .5, alpha = .5)+ theme(legend.position=\"none\")+ggtitle('Subset')\n",
    "p003 = boxplot_w_stats(df = proteomics[proteomics$grp==TRUE,], x = 'LOF', y = 'RBFOX3', palette = cols, comparisons = list(c('Con', 'LoF')), xlab = '', ylab = 'RBFOX3', width = .5, alpha = .5)+ theme(legend.position=\"none\")+ggtitle('Subset')\n"
   ]
  },
  {
   "cell_type": "code",
   "execution_count": 5,
   "id": "43f6dae7",
   "metadata": {
    "vscode": {
     "languageId": "r"
    }
   },
   "outputs": [],
   "source": [
    "p = p000 | p001 | p002 | p003"
   ]
  },
  {
   "cell_type": "code",
   "execution_count": 6,
   "id": "1335118b",
   "metadata": {
    "vscode": {
     "languageId": "r"
    }
   },
   "outputs": [],
   "source": [
    "ggsave(\"/Users/djuna/Documents/ABCA7lof2/editorial_paper/main_panels_svgs/ed1/protein_levels_extended.pdf\", plot = p, width = 10, height = 3, units = \"in\")\n"
   ]
  }
 ],
 "metadata": {
  "kernelspec": {
   "display_name": "R",
   "language": "R",
   "name": "ir"
  },
  "language_info": {
   "codemirror_mode": "r",
   "file_extension": ".r",
   "mimetype": "text/x-r-source",
   "name": "R",
   "pygments_lexer": "r",
   "version": "4.4.2"
  }
 },
 "nbformat": 4,
 "nbformat_minor": 5
}

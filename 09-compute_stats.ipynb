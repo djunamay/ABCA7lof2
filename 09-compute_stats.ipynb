{
 "cells": [
  {
   "cell_type": "code",
   "execution_count": 1,
   "id": "9278ec8a-aa99-4547-b7f4-33f8e9f6042b",
   "metadata": {
    "tags": []
   },
   "outputs": [
    {
     "name": "stderr",
     "output_type": "stream",
     "text": [
      "Loading required package: limma\n",
      "\n",
      "Loading required package: mgcv\n",
      "\n",
      "Loading required package: nlme\n",
      "\n",
      "This is mgcv 1.8-40. For overview type 'help(\"mgcv-package\")'.\n",
      "\n",
      "Loading required package: genefilter\n",
      "\n",
      "Loading required package: BiocParallel\n",
      "\n"
     ]
    }
   ],
   "source": [
    "library(edgeR)\n",
    "library(sva)\n",
    "library(fgsea)\n",
    "library(tidyr)\n",
    "source('./ABCA7lof2//degs.r')"
   ]
  },
  {
   "cell_type": "code",
   "execution_count": 2,
   "id": "20b7f287-4a15-4660-aff9-9378eff2523f",
   "metadata": {},
   "outputs": [],
   "source": [
    "all_data = readRDS('./processed_data/single_cell/stats_input_data.rds')"
   ]
  },
  {
   "cell_type": "code",
   "execution_count": 21,
   "id": "16f02950-bee9-46f9-ba6f-a5353b4f6998",
   "metadata": {},
   "outputs": [],
   "source": [
    "summed_counts = all_data$summed_counts_by_ind # does it make sense to be summing on the counts vs taking the mean of the counts? --> compare to nebula? --> ok because we are normalizing?\n",
    "meta = all_data$summary\n",
    "meta$seq_batch = ifelse(meta$seq_batch=='JBM',1,0)\n",
    "expressed = all_data$expressed10"
   ]
  },
  {
   "cell_type": "code",
   "execution_count": 22,
   "id": "85c0bbcf-5eac-4ee3-820d-82c267fe1247",
   "metadata": {},
   "outputs": [],
   "source": [
    "# filter out individuals with too few cells per celltype\n",
    "keep = summed_counts$ncells>20\n",
    "summed_counts_indexed = summed_counts$summed_counts[,keep]"
   ]
  },
  {
   "cell_type": "code",
   "execution_count": 23,
   "id": "48f38d7b-3b10-4976-902f-c9e2b9533164",
   "metadata": {},
   "outputs": [
    {
     "name": "stdout",
     "output_type": "stream",
     "text": [
      "Number of significant surrogate variables is:  9 \n",
      "Iteration (out of 5 ):1  2  3  4  5  Number of significant surrogate variables is:  8 \n",
      "Iteration (out of 5 ):1  2  3  4  5  Number of significant surrogate variables is:  8 \n",
      "Iteration (out of 5 ):1  2  3  4  5  Number of significant surrogate variables is:  8 \n",
      "Iteration (out of 5 ):1  2  3  4  5  Number of significant surrogate variables is:  9 \n",
      "Iteration (out of 5 ):1  2  3  4  5  Number of significant surrogate variables is:  7 \n",
      "Iteration (out of 5 ):1  2  3  4  5  "
     ]
    }
   ],
   "source": [
    "# compute degs (all samples)\n",
    "vars = c('LOF', 'amyloid', 'nft',  'msex', 'age_death', 'pmi', 'seq_batch', 'APOE4')\n",
    "limma_inputs = get_limma_inputs(summed_counts_indexed, expressed, meta, vars)\n",
    "aggs = limma_inputs$aggs\n",
    "metadata = limma_inputs$metadata\n",
    "\n",
    "\n",
    "degs_all = lapply(names(aggs)[!names(aggs)%in%c('Vascular')], function(x) RunDiffExprAnalysisLimma(aggs[[x]], metadata[[x]], n.sv=NULL))\n",
    "names(degs_all) = names(aggs)[!names(aggs)%in%c('Vascular')]"
   ]
  },
  {
   "cell_type": "code",
   "execution_count": 24,
   "id": "3dfb9905-66b4-4922-a81a-700aa421fa81",
   "metadata": {},
   "outputs": [],
   "source": [
    "# get the ids\n",
    "ids = strsplit(colnames(summed_counts_indexed), '[.]')\n",
    "ids = unlist(lapply(1:length(ids), function(x) ids[[x]][2]))"
   ]
  },
  {
   "cell_type": "code",
   "execution_count": 25,
   "id": "262fbf0a-02c3-417d-85b9-b6e0f5ef554a",
   "metadata": {},
   "outputs": [
    {
     "name": "stdout",
     "output_type": "stream",
     "text": [
      "Number of significant surrogate variables is:  6 \n",
      "Iteration (out of 5 ):1  2  3  4  5  Number of significant surrogate variables is:  5 \n",
      "Iteration (out of 5 ):1  2  3  4  5  Number of significant surrogate variables is:  6 \n",
      "Iteration (out of 5 ):1  2  3  4  5  Number of significant surrogate variables is:  5 \n",
      "Iteration (out of 5 ):1  2  3  4  5  Number of significant surrogate variables is:  4 \n",
      "Iteration (out of 5 ):1  2  3  4  5  Number of significant surrogate variables is:  3 \n",
      "Iteration (out of 5 ):1  2  3  4  5  "
     ]
    }
   ],
   "source": [
    "# compute degs (no APOE4 samples)\n",
    "vars = c('LOF', 'amyloid', 'nft',  'msex', 'age_death', 'pmi', 'seq_batch')\n",
    "sele = rownames(meta)[meta$APOE4==0]\n",
    "sc_noAPOE4 = summed_counts_indexed[,ids%in%sele]\n",
    "limma_inputs = get_limma_inputs(sc_noAPOE4, expressed, meta[sele,], vars)\n",
    "aggs = limma_inputs$aggs\n",
    "metadata = limma_inputs$metadata\n",
    "degs_noAPOE4 = lapply(names(aggs)[!names(aggs)%in%c('Vascular')], function(x) RunDiffExprAnalysisLimma(aggs[[x]], metadata[[x]], n.sv=NULL, exclude_apoe=TRUE))\n",
    "names(degs_noAPOE4) = names(aggs)[!names(aggs)%in%c('Vascular')]\n"
   ]
  },
  {
   "cell_type": "code",
   "execution_count": 26,
   "id": "9fb2f2a5-2706-4811-b79d-2f3927497fd2",
   "metadata": {},
   "outputs": [
    {
     "name": "stdout",
     "output_type": "stream",
     "text": [
      "Number of significant surrogate variables is:  4 \n",
      "Iteration (out of 5 ):1  2  3  4  5  Number of significant surrogate variables is:  4 \n",
      "Iteration (out of 5 ):1  2  3  4  5  Number of significant surrogate variables is:  4 \n",
      "Iteration (out of 5 ):1  2  3  4  5  Number of significant surrogate variables is:  4 \n",
      "Iteration (out of 5 ):1  2  3  4  5  Number of significant surrogate variables is:  4 \n",
      "Iteration (out of 5 ):1  2  3  4  5  Number of significant surrogate variables is:  4 \n",
      "Iteration (out of 5 ):1  2  3  4  5  "
     ]
    }
   ],
   "source": [
    "# compute degs (no APOE4 samples)\n",
    "vars = c('LOF', 'amyloid', 'nft',  'msex', 'age_death', 'pmi', 'APOE4')\n",
    "sele = rownames(meta)[meta$seq_batch==1]\n",
    "sc_JBM = summed_counts_indexed[,ids%in%sele]\n",
    "limma_inputs = get_limma_inputs(sc_JBM, expressed, meta[sele,], vars)\n",
    "aggs = limma_inputs$aggs\n",
    "metadata = limma_inputs$metadata\n",
    "degs_JBM = lapply(names(aggs)[!names(aggs)%in%c('Vascular')], function(x) RunDiffExprAnalysisLimma(aggs[[x]], metadata[[x]], n.sv=NULL, exclude_batch=TRUE))\n",
    "names(degs_JBM) = names(aggs)[!names(aggs)%in%c('Vascular')]"
   ]
  },
  {
   "cell_type": "code",
   "execution_count": 27,
   "id": "5a562439-f63a-425a-b830-d3ccab407148",
   "metadata": {},
   "outputs": [
    {
     "name": "stdout",
     "output_type": "stream",
     "text": [
      "Number of significant surrogate variables is:  4 \n",
      "Iteration (out of 5 ):1  2  3  4  5  Number of significant surrogate variables is:  3 \n",
      "Iteration (out of 5 ):1  2  3  4  5  Number of significant surrogate variables is:  3 \n",
      "Iteration (out of 5 ):1  2  3  4  5  Number of significant surrogate variables is:  3 \n",
      "Iteration (out of 5 ):1  2  3  4  5  Number of significant surrogate variables is:  4 \n",
      "Iteration (out of 5 ):1  2  3  4  5  Number of significant surrogate variables is:  2 \n",
      "Iteration (out of 5 ):1  2  3  4  5  "
     ]
    }
   ],
   "source": [
    "# exclude both\n",
    "vars = c('LOF', 'amyloid', 'nft',  'msex', 'age_death', 'pmi')\n",
    "sele = rownames(meta)[(meta$seq_batch==1) & (meta$APOE4==0)]\n",
    "sc_exclude_both = summed_counts_indexed[,ids%in%sele]\n",
    "limma_inputs = get_limma_inputs(sc_exclude_both, expressed, meta[sele,], vars)\n",
    "aggs = limma_inputs$aggs\n",
    "metadata = limma_inputs$metadata\n",
    "degs_exclude_both = lapply(names(aggs)[!names(aggs)%in%c('Vascular')], function(x) RunDiffExprAnalysisLimma(aggs[[x]], metadata[[x]], n.sv=NULL, exclude_both=TRUE))\n",
    "names(degs_exclude_both) = names(aggs)[!names(aggs)%in%c('Vascular')]"
   ]
  },
  {
   "cell_type": "code",
   "execution_count": 28,
   "id": "239c315f-3f48-4b88-98eb-8626c798b002",
   "metadata": {},
   "outputs": [],
   "source": [
    "# save the results\n",
    "degs = list()\n",
    "degs[['degs_all']] = degs_all\n",
    "degs[['degs_exclude_both']] = degs_exclude_both\n",
    "degs[['degs_JBM']] = degs_JBM\n",
    "degs[['degs_noAPOE4']] = degs_noAPOE4\n",
    "\n",
    "saveRDS(degs, './processed_data/single_cell/pseudobulk_degs.rds')"
   ]
  },
  {
   "cell_type": "code",
   "execution_count": 85,
   "id": "a9a5f6d4-41e8-43d4-a5c1-106c8e8e9a13",
   "metadata": {},
   "outputs": [],
   "source": [
    "# save deg scores as matrix\n",
    "out = list()\n",
    "scores = get_deg_scores(degs)\n",
    "for(i in names(scores)){\n",
    "    df = as.data.frame(scores[[i]]$scores)\n",
    "    colnames(df) = c('score')\n",
    "    df$gene = rownames(df)\n",
    "    df$celltype = i\n",
    "    out[[i]] = df\n",
    "}\n",
    "all_scores = as.data.frame(do.call('rbind', out)%>%pivot_wider(., values_from='score', names_from='celltype'))\n",
    "rownames(all_scores) = all_scores$gene\n",
    "all_scores$gene = NULL\n",
    "all_scores[is.na(all_scores)] = 0\n",
    "write.csv(all_scores, './processed_data/single_cell/all_scores.csv')"
   ]
  },
  {
   "cell_type": "code",
   "execution_count": 126,
   "id": "f65d1366-d18b-4e59-9d23-03d16c9c909e",
   "metadata": {},
   "outputs": [],
   "source": [
    "# load degs\n",
    "degs = readRDS('./processed_data/single_cell/pseudobulk_degs.rds')$degs_all\n",
    "#degs = readRDS('../ABCA7lof/processed_data/differentially_expressed_genes_data/abca7lof_pseudobulk_degs_nov10.rds')$degs_all\n",
    "scores = get_deg_scores(degs)"
   ]
  },
  {
   "cell_type": "code",
   "execution_count": 135,
   "id": "9b4d7dbc-23bd-47ae-88cb-13845559fed1",
   "metadata": {},
   "outputs": [],
   "source": [
    "all_paths = read.csv('./processed_data/genesets/all_paths.csv', row.names = 'X')\n",
    "pathways = as.list(as.data.frame(t(all_paths)))\n",
    "temp = lapply(names(pathways), function(x) pathways[[x]][!(pathways[[x]]=='')])\n",
    "names(temp) = names(pathways)"
   ]
  },
  {
   "cell_type": "code",
   "execution_count": 136,
   "id": "3967bc7d-c7df-4a31-8d34-189a5039eb87",
   "metadata": {},
   "outputs": [
    {
     "data": {
      "text/html": [
       "472"
      ],
      "text/latex": [
       "472"
      ],
      "text/markdown": [
       "472"
      ],
      "text/plain": [
       "[1] 472"
      ]
     },
     "metadata": {},
     "output_type": "display_data"
    }
   ],
   "source": [
    "length(temp)"
   ]
  },
  {
   "cell_type": "code",
   "execution_count": 30,
   "id": "4336db22-b44d-4876-8e02-5b0b05382502",
   "metadata": {},
   "outputs": [],
   "source": [
    "# get_gset_names_by_category = function(cat, gsets){\n",
    "#   gset = unlist(lapply(gsets, function(x) unlist(sum(sapply(cat, grepl, x))>0)))\n",
    "#   gset = (gsets[gset])\n",
    "#   return(gset)\n",
    "# }"
   ]
  },
  {
   "cell_type": "code",
   "execution_count": 39,
   "id": "ecaea937-b04b-46d2-90bc-d163170f24c2",
   "metadata": {},
   "outputs": [],
   "source": [
    "# o = get_gset_names_by_category(c('sterol', 'lipid', 'glycer', 'fat', 'ceramide', 'phosphatidyl'), names(temp))"
   ]
  },
  {
   "cell_type": "code",
   "execution_count": 40,
   "id": "d84b7b88-c0a5-4606-bbcf-63f1b9441e27",
   "metadata": {},
   "outputs": [],
   "source": [
    "# temp2 = temp[o]"
   ]
  },
  {
   "cell_type": "code",
   "execution_count": 89,
   "id": "6ab9b803-2634-45af-86bc-b7886b9e5f68",
   "metadata": {},
   "outputs": [],
   "source": [
    "# pathways = readRDS('../ABCA7lof/processed_data/pathway_databases/pathways.rds')\n",
    "# temp2 = pathways$kegg"
   ]
  },
  {
   "cell_type": "code",
   "execution_count": 137,
   "id": "5b025d68-efa5-4ab7-ab80-859e5ec92bc8",
   "metadata": {},
   "outputs": [],
   "source": [
    "out = lapply(names(scores), function(x) cbind(x, fgsea(pathways = temp, stats = scores[[x]]$scores, minSize = 5, maxSize = 1000)))\n",
    "names(out) = names(scores)"
   ]
  },
  {
   "cell_type": "code",
   "execution_count": 138,
   "id": "62978586-fcfb-421b-be70-1255a79b9d45",
   "metadata": {},
   "outputs": [],
   "source": [
    "res = do.call('rbind', out)\n",
    "res$score = sign(res$NES) * -log10(res$pval)\n",
    "res = res[res$x=='Ex',]\n",
    "res = res[order(res$pval,decreasing=FALSE),]\n",
    "res = res[res$pval<0.05,]\n"
   ]
  },
  {
   "cell_type": "code",
   "execution_count": 139,
   "id": "aadc5fcf-ede1-44d8-9e1a-3ea3ab4eb567",
   "metadata": {},
   "outputs": [
    {
     "data": {
      "text/html": [
       "<table class=\"dataframe\">\n",
       "<caption>A data.table: 31 × 10</caption>\n",
       "<thead>\n",
       "\t<tr><th scope=col>x</th><th scope=col>pathway</th><th scope=col>pval</th><th scope=col>padj</th><th scope=col>log2err</th><th scope=col>ES</th><th scope=col>NES</th><th scope=col>size</th><th scope=col>leadingEdge</th><th scope=col>score</th></tr>\n",
       "\t<tr><th scope=col>&lt;chr&gt;</th><th scope=col>&lt;chr&gt;</th><th scope=col>&lt;dbl&gt;</th><th scope=col>&lt;dbl&gt;</th><th scope=col>&lt;dbl&gt;</th><th scope=col>&lt;dbl&gt;</th><th scope=col>&lt;dbl&gt;</th><th scope=col>&lt;int&gt;</th><th scope=col>&lt;list&gt;</th><th scope=col>&lt;dbl&gt;</th></tr>\n",
       "</thead>\n",
       "<tbody>\n",
       "\t<tr><td>Ex</td><td>Electron Transport Chain (OXPHOS system in mitochondria) WP111                       </td><td>3.162222e-13</td><td>1.264889e-10</td><td>0.9325952</td><td> 0.6721279</td><td> 2.483130</td><td> 86</td><td>COX7A2, ....</td><td>12.500008</td></tr>\n",
       "\t<tr><td>Ex</td><td>Oxidative phosphorylation WP623                                                      </td><td>1.926210e-07</td><td>3.833805e-05</td><td>0.6901325</td><td> 0.6648928</td><td> 2.244224</td><td> 50</td><td>NDUFS8, ....</td><td> 6.715296</td></tr>\n",
       "\t<tr><td>Ex</td><td>Proteasome Degradation WP183                                                         </td><td>2.875353e-07</td><td>3.833805e-05</td><td>0.6749629</td><td> 0.6655312</td><td> 2.221523</td><td> 48</td><td>PSMA7, P....</td><td> 6.541309</td></tr>\n",
       "\t<tr><td>Ex</td><td>Nonalcoholic fatty liver disease WP4396                                              </td><td>4.458981e-06</td><td>4.458981e-04</td><td>0.6105269</td><td> 0.4950600</td><td> 1.915915</td><td>117</td><td>COX7A2, ....</td><td> 5.350764</td></tr>\n",
       "\t<tr><td>Ex</td><td>Retinoblastoma Gene in Cancer WP2446                                                 </td><td>6.471513e-05</td><td>5.177211e-03</td><td>0.5384341</td><td> 0.5845668</td><td> 1.973098</td><td> 50</td><td>SMC1A, C....</td><td> 4.188994</td></tr>\n",
       "\t<tr><td>Ex</td><td>Mitochondrial complex I assembly model OXPHOS system WP4324                          </td><td>1.127272e-04</td><td>7.515144e-03</td><td>0.5384341</td><td> 0.5718491</td><td> 1.922400</td><td> 49</td><td>NDUFV2, ....</td><td> 3.947971</td></tr>\n",
       "\t<tr><td>Ex</td><td>Peptide GPCRs WP24                                                                   </td><td>5.351789e-04</td><td>3.058165e-02</td><td>0.4772708</td><td>-0.8342118</td><td>-1.933020</td><td>  9</td><td>NPY1R, O....</td><td>-3.271501</td></tr>\n",
       "\t<tr><td>Ex</td><td>Parkin-Ubiquitin Proteasomal System pathway WP2359                                   </td><td>4.224437e-03</td><td>2.112219e-01</td><td>0.4070179</td><td> 0.4779280</td><td> 1.625123</td><td> 53</td><td>PSMD14, ....</td><td> 2.374231</td></tr>\n",
       "\t<tr><td>Ex</td><td>Cell Cycle WP179                                                                     </td><td>6.997786e-03</td><td>2.792318e-01</td><td>0.4070179</td><td> 0.4440157</td><td> 1.581564</td><td> 68</td><td>SMC1A, C....</td><td> 2.155039</td></tr>\n",
       "\t<tr><td>Ex</td><td>TCA Cycle (aka Krebs or citric acid cycle) WP78                                      </td><td>7.079930e-03</td><td>2.792318e-01</td><td>0.4070179</td><td> 0.6318732</td><td> 1.663647</td><td> 17</td><td>SUCLA2, ....</td><td> 2.149971</td></tr>\n",
       "\t<tr><td>Ex</td><td>Dual hijack model of Vif in HIV infection WP3300                                     </td><td>7.678875e-03</td><td>2.792318e-01</td><td>0.4070179</td><td> 0.7909029</td><td> 1.670049</td><td>  7</td><td>ELOC, CB....</td><td> 2.114702</td></tr>\n",
       "\t<tr><td>Ex</td><td>Lipid Metabolism Pathway WP3965                                                      </td><td>8.634001e-03</td><td>2.822325e-01</td><td>0.3807304</td><td>-0.5368216</td><td>-1.639841</td><td> 24</td><td>LIPE, AC....</td><td>-2.063788</td></tr>\n",
       "\t<tr><td>Ex</td><td>Prostaglandin Synthesis and Regulation WP98                                          </td><td>9.172558e-03</td><td>2.822325e-01</td><td>0.3807304</td><td> 0.6764142</td><td> 1.692974</td><td> 14</td><td>AKR1B1, ....</td><td> 2.037510</td></tr>\n",
       "\t<tr><td>Ex</td><td>DNA IR-damage and cellular response via ATR WP4016                                   </td><td>1.610188e-02</td><td>4.600537e-01</td><td>0.3524879</td><td> 0.4356262</td><td> 1.507696</td><td> 58</td><td>SMC1A, B....</td><td> 1.793123</td></tr>\n",
       "\t<tr><td>Ex</td><td>MET in type 1 papillary renal cell carcinoma WP4205                                  </td><td>1.879685e-02</td><td>5.012494e-01</td><td>0.3524879</td><td> 0.4233929</td><td> 1.434949</td><td> 52</td><td>PTPN11, ....</td><td> 1.725915</td></tr>\n",
       "\t<tr><td>Ex</td><td>Monoamine Transport WP727                                                            </td><td>2.462061e-02</td><td>5.197201e-01</td><td>0.3524879</td><td> 0.6466599</td><td> 1.570117</td><td> 13</td><td>AMPH, MA....</td><td> 1.608701</td></tr>\n",
       "\t<tr><td>Ex</td><td>Methionine metabolism leading to Sulphur Amino Acids and related disorders WP4292    </td><td>2.488107e-02</td><td>5.197201e-01</td><td>0.3524879</td><td>-0.7617559</td><td>-1.575236</td><td>  6</td><td>MAT2B, C....</td><td>-1.604131</td></tr>\n",
       "\t<tr><td>Ex</td><td>DNA Damage Response WP707                                                            </td><td>2.543571e-02</td><td>5.197201e-01</td><td>0.3524879</td><td> 0.4703205</td><td> 1.505427</td><td> 38</td><td>TLK2, SM....</td><td> 1.594556</td></tr>\n",
       "\t<tr><td>Ex</td><td>Resistin as a regulator of inflammation WP4481                                       </td><td>2.822311e-02</td><td>5.197201e-01</td><td>0.3524879</td><td> 0.5543908</td><td> 1.503753</td><td> 19</td><td>MAPK14, ....</td><td> 1.549395</td></tr>\n",
       "\t<tr><td>Ex</td><td>Cytosine methylation WP3585                                                          </td><td>2.837945e-02</td><td>5.197201e-01</td><td>0.3524879</td><td>-0.7201311</td><td>-1.668675</td><td>  9</td><td>TET1, TE....</td><td>-1.546996</td></tr>\n",
       "\t<tr><td>Ex</td><td>ATM Signaling Network in Development and Disease  WP3878                             </td><td>2.845768e-02</td><td>5.197201e-01</td><td>0.3524879</td><td> 0.4661167</td><td> 1.491971</td><td> 38</td><td>SMC1A, R....</td><td> 1.545801</td></tr>\n",
       "\t<tr><td>Ex</td><td>Trans-sulfuration pathway WP2333                                                     </td><td>3.040403e-02</td><td>5.197201e-01</td><td>0.3524879</td><td>-0.7331603</td><td>-1.581554</td><td>  7</td><td>MAT2B, C....</td><td>-1.517069</td></tr>\n",
       "\t<tr><td>Ex</td><td>Type III interferon signaling WP2113                                                 </td><td>3.098087e-02</td><td>5.197201e-01</td><td>0.3524879</td><td>-0.7536767</td><td>-1.558529</td><td>  6</td><td> STAT2, TYK2</td><td>-1.508906</td></tr>\n",
       "\t<tr><td>Ex</td><td>Trans-sulfuration and one carbon metabolism WP2525                                   </td><td>3.118321e-02</td><td>5.197201e-01</td><td>0.3524879</td><td>-0.5297412</td><td>-1.487365</td><td> 20</td><td>MAT2A, A....</td><td>-1.506079</td></tr>\n",
       "\t<tr><td>Ex</td><td>EPO Receptor Signaling WP581                                                         </td><td>3.297080e-02</td><td>5.220231e-01</td><td>0.3217759</td><td> 0.5452042</td><td> 1.478835</td><td> 19</td><td>RASA1, J....</td><td> 1.481871</td></tr>\n",
       "\t<tr><td>Ex</td><td>Gastric Cancer Network 1 WP2361                                                      </td><td>3.393150e-02</td><td>5.220231e-01</td><td>0.3217759</td><td> 0.6203447</td><td> 1.482813</td><td> 12</td><td>RUVBL1, ....</td><td> 1.469397</td></tr>\n",
       "\t<tr><td>Ex</td><td>miRNA Regulation of DNA Damage Response WP1530                                       </td><td>3.706818e-02</td><td>5.389483e-01</td><td>0.3217759</td><td> 0.4510785</td><td> 1.443372</td><td> 39</td><td>TLK2, SM....</td><td> 1.430999</td></tr>\n",
       "\t<tr><td>Ex</td><td>Regulation of sister chromatid separation at the metaphase-anaphase transition WP4240</td><td>3.772638e-02</td><td>5.389483e-01</td><td>0.3217759</td><td> 0.6945991</td><td> 1.513302</td><td>  8</td><td>SMC1A, A....</td><td> 1.423355</td></tr>\n",
       "\t<tr><td>Ex</td><td>Ebola Virus Pathway on Host WP4217                                                   </td><td>4.397394e-02</td><td>5.944088e-01</td><td>0.2765006</td><td> 0.3879516</td><td> 1.396796</td><td> 72</td><td>TSG101, ....</td><td> 1.356805</td></tr>\n",
       "\t<tr><td>Ex</td><td>ATM Signaling Pathway WP2516                                                         </td><td>4.609929e-02</td><td>5.944088e-01</td><td>0.2820134</td><td> 0.5113852</td><td> 1.477371</td><td> 25</td><td>SMC1A, N....</td><td> 1.336306</td></tr>\n",
       "\t<tr><td>Ex</td><td>DDX1 as a regulatory component of the Drosha microprocessor WP2942                   </td><td>4.646840e-02</td><td>5.944088e-01</td><td>0.2878571</td><td> 0.6991359</td><td> 1.476276</td><td>  7</td><td>RAD50, A....</td><td> 1.332842</td></tr>\n",
       "</tbody>\n",
       "</table>\n"
      ],
      "text/latex": [
       "A data.table: 31 × 10\n",
       "\\begin{tabular}{llllllllll}\n",
       " x & pathway & pval & padj & log2err & ES & NES & size & leadingEdge & score\\\\\n",
       " <chr> & <chr> & <dbl> & <dbl> & <dbl> & <dbl> & <dbl> & <int> & <list> & <dbl>\\\\\n",
       "\\hline\n",
       "\t Ex & Electron Transport Chain (OXPHOS system in mitochondria) WP111                        & 3.162222e-13 & 1.264889e-10 & 0.9325952 &  0.6721279 &  2.483130 &  86 & COX7A2, .... & 12.500008\\\\\n",
       "\t Ex & Oxidative phosphorylation WP623                                                       & 1.926210e-07 & 3.833805e-05 & 0.6901325 &  0.6648928 &  2.244224 &  50 & NDUFS8, .... &  6.715296\\\\\n",
       "\t Ex & Proteasome Degradation WP183                                                          & 2.875353e-07 & 3.833805e-05 & 0.6749629 &  0.6655312 &  2.221523 &  48 & PSMA7, P.... &  6.541309\\\\\n",
       "\t Ex & Nonalcoholic fatty liver disease WP4396                                               & 4.458981e-06 & 4.458981e-04 & 0.6105269 &  0.4950600 &  1.915915 & 117 & COX7A2, .... &  5.350764\\\\\n",
       "\t Ex & Retinoblastoma Gene in Cancer WP2446                                                  & 6.471513e-05 & 5.177211e-03 & 0.5384341 &  0.5845668 &  1.973098 &  50 & SMC1A, C.... &  4.188994\\\\\n",
       "\t Ex & Mitochondrial complex I assembly model OXPHOS system WP4324                           & 1.127272e-04 & 7.515144e-03 & 0.5384341 &  0.5718491 &  1.922400 &  49 & NDUFV2, .... &  3.947971\\\\\n",
       "\t Ex & Peptide GPCRs WP24                                                                    & 5.351789e-04 & 3.058165e-02 & 0.4772708 & -0.8342118 & -1.933020 &   9 & NPY1R, O.... & -3.271501\\\\\n",
       "\t Ex & Parkin-Ubiquitin Proteasomal System pathway WP2359                                    & 4.224437e-03 & 2.112219e-01 & 0.4070179 &  0.4779280 &  1.625123 &  53 & PSMD14, .... &  2.374231\\\\\n",
       "\t Ex & Cell Cycle WP179                                                                      & 6.997786e-03 & 2.792318e-01 & 0.4070179 &  0.4440157 &  1.581564 &  68 & SMC1A, C.... &  2.155039\\\\\n",
       "\t Ex & TCA Cycle (aka Krebs or citric acid cycle) WP78                                       & 7.079930e-03 & 2.792318e-01 & 0.4070179 &  0.6318732 &  1.663647 &  17 & SUCLA2, .... &  2.149971\\\\\n",
       "\t Ex & Dual hijack model of Vif in HIV infection WP3300                                      & 7.678875e-03 & 2.792318e-01 & 0.4070179 &  0.7909029 &  1.670049 &   7 & ELOC, CB.... &  2.114702\\\\\n",
       "\t Ex & Lipid Metabolism Pathway WP3965                                                       & 8.634001e-03 & 2.822325e-01 & 0.3807304 & -0.5368216 & -1.639841 &  24 & LIPE, AC.... & -2.063788\\\\\n",
       "\t Ex & Prostaglandin Synthesis and Regulation WP98                                           & 9.172558e-03 & 2.822325e-01 & 0.3807304 &  0.6764142 &  1.692974 &  14 & AKR1B1, .... &  2.037510\\\\\n",
       "\t Ex & DNA IR-damage and cellular response via ATR WP4016                                    & 1.610188e-02 & 4.600537e-01 & 0.3524879 &  0.4356262 &  1.507696 &  58 & SMC1A, B.... &  1.793123\\\\\n",
       "\t Ex & MET in type 1 papillary renal cell carcinoma WP4205                                   & 1.879685e-02 & 5.012494e-01 & 0.3524879 &  0.4233929 &  1.434949 &  52 & PTPN11, .... &  1.725915\\\\\n",
       "\t Ex & Monoamine Transport WP727                                                             & 2.462061e-02 & 5.197201e-01 & 0.3524879 &  0.6466599 &  1.570117 &  13 & AMPH, MA.... &  1.608701\\\\\n",
       "\t Ex & Methionine metabolism leading to Sulphur Amino Acids and related disorders WP4292     & 2.488107e-02 & 5.197201e-01 & 0.3524879 & -0.7617559 & -1.575236 &   6 & MAT2B, C.... & -1.604131\\\\\n",
       "\t Ex & DNA Damage Response WP707                                                             & 2.543571e-02 & 5.197201e-01 & 0.3524879 &  0.4703205 &  1.505427 &  38 & TLK2, SM.... &  1.594556\\\\\n",
       "\t Ex & Resistin as a regulator of inflammation WP4481                                        & 2.822311e-02 & 5.197201e-01 & 0.3524879 &  0.5543908 &  1.503753 &  19 & MAPK14, .... &  1.549395\\\\\n",
       "\t Ex & Cytosine methylation WP3585                                                           & 2.837945e-02 & 5.197201e-01 & 0.3524879 & -0.7201311 & -1.668675 &   9 & TET1, TE.... & -1.546996\\\\\n",
       "\t Ex & ATM Signaling Network in Development and Disease  WP3878                              & 2.845768e-02 & 5.197201e-01 & 0.3524879 &  0.4661167 &  1.491971 &  38 & SMC1A, R.... &  1.545801\\\\\n",
       "\t Ex & Trans-sulfuration pathway WP2333                                                      & 3.040403e-02 & 5.197201e-01 & 0.3524879 & -0.7331603 & -1.581554 &   7 & MAT2B, C.... & -1.517069\\\\\n",
       "\t Ex & Type III interferon signaling WP2113                                                  & 3.098087e-02 & 5.197201e-01 & 0.3524879 & -0.7536767 & -1.558529 &   6 &  STAT2, TYK2 & -1.508906\\\\\n",
       "\t Ex & Trans-sulfuration and one carbon metabolism WP2525                                    & 3.118321e-02 & 5.197201e-01 & 0.3524879 & -0.5297412 & -1.487365 &  20 & MAT2A, A.... & -1.506079\\\\\n",
       "\t Ex & EPO Receptor Signaling WP581                                                          & 3.297080e-02 & 5.220231e-01 & 0.3217759 &  0.5452042 &  1.478835 &  19 & RASA1, J.... &  1.481871\\\\\n",
       "\t Ex & Gastric Cancer Network 1 WP2361                                                       & 3.393150e-02 & 5.220231e-01 & 0.3217759 &  0.6203447 &  1.482813 &  12 & RUVBL1, .... &  1.469397\\\\\n",
       "\t Ex & miRNA Regulation of DNA Damage Response WP1530                                        & 3.706818e-02 & 5.389483e-01 & 0.3217759 &  0.4510785 &  1.443372 &  39 & TLK2, SM.... &  1.430999\\\\\n",
       "\t Ex & Regulation of sister chromatid separation at the metaphase-anaphase transition WP4240 & 3.772638e-02 & 5.389483e-01 & 0.3217759 &  0.6945991 &  1.513302 &   8 & SMC1A, A.... &  1.423355\\\\\n",
       "\t Ex & Ebola Virus Pathway on Host WP4217                                                    & 4.397394e-02 & 5.944088e-01 & 0.2765006 &  0.3879516 &  1.396796 &  72 & TSG101, .... &  1.356805\\\\\n",
       "\t Ex & ATM Signaling Pathway WP2516                                                          & 4.609929e-02 & 5.944088e-01 & 0.2820134 &  0.5113852 &  1.477371 &  25 & SMC1A, N.... &  1.336306\\\\\n",
       "\t Ex & DDX1 as a regulatory component of the Drosha microprocessor WP2942                    & 4.646840e-02 & 5.944088e-01 & 0.2878571 &  0.6991359 &  1.476276 &   7 & RAD50, A.... &  1.332842\\\\\n",
       "\\end{tabular}\n"
      ],
      "text/markdown": [
       "\n",
       "A data.table: 31 × 10\n",
       "\n",
       "| x &lt;chr&gt; | pathway &lt;chr&gt; | pval &lt;dbl&gt; | padj &lt;dbl&gt; | log2err &lt;dbl&gt; | ES &lt;dbl&gt; | NES &lt;dbl&gt; | size &lt;int&gt; | leadingEdge &lt;list&gt; | score &lt;dbl&gt; |\n",
       "|---|---|---|---|---|---|---|---|---|---|\n",
       "| Ex | Electron Transport Chain (OXPHOS system in mitochondria) WP111                        | 3.162222e-13 | 1.264889e-10 | 0.9325952 |  0.6721279 |  2.483130 |  86 | COX7A2, .... | 12.500008 |\n",
       "| Ex | Oxidative phosphorylation WP623                                                       | 1.926210e-07 | 3.833805e-05 | 0.6901325 |  0.6648928 |  2.244224 |  50 | NDUFS8, .... |  6.715296 |\n",
       "| Ex | Proteasome Degradation WP183                                                          | 2.875353e-07 | 3.833805e-05 | 0.6749629 |  0.6655312 |  2.221523 |  48 | PSMA7, P.... |  6.541309 |\n",
       "| Ex | Nonalcoholic fatty liver disease WP4396                                               | 4.458981e-06 | 4.458981e-04 | 0.6105269 |  0.4950600 |  1.915915 | 117 | COX7A2, .... |  5.350764 |\n",
       "| Ex | Retinoblastoma Gene in Cancer WP2446                                                  | 6.471513e-05 | 5.177211e-03 | 0.5384341 |  0.5845668 |  1.973098 |  50 | SMC1A, C.... |  4.188994 |\n",
       "| Ex | Mitochondrial complex I assembly model OXPHOS system WP4324                           | 1.127272e-04 | 7.515144e-03 | 0.5384341 |  0.5718491 |  1.922400 |  49 | NDUFV2, .... |  3.947971 |\n",
       "| Ex | Peptide GPCRs WP24                                                                    | 5.351789e-04 | 3.058165e-02 | 0.4772708 | -0.8342118 | -1.933020 |   9 | NPY1R, O.... | -3.271501 |\n",
       "| Ex | Parkin-Ubiquitin Proteasomal System pathway WP2359                                    | 4.224437e-03 | 2.112219e-01 | 0.4070179 |  0.4779280 |  1.625123 |  53 | PSMD14, .... |  2.374231 |\n",
       "| Ex | Cell Cycle WP179                                                                      | 6.997786e-03 | 2.792318e-01 | 0.4070179 |  0.4440157 |  1.581564 |  68 | SMC1A, C.... |  2.155039 |\n",
       "| Ex | TCA Cycle (aka Krebs or citric acid cycle) WP78                                       | 7.079930e-03 | 2.792318e-01 | 0.4070179 |  0.6318732 |  1.663647 |  17 | SUCLA2, .... |  2.149971 |\n",
       "| Ex | Dual hijack model of Vif in HIV infection WP3300                                      | 7.678875e-03 | 2.792318e-01 | 0.4070179 |  0.7909029 |  1.670049 |   7 | ELOC, CB.... |  2.114702 |\n",
       "| Ex | Lipid Metabolism Pathway WP3965                                                       | 8.634001e-03 | 2.822325e-01 | 0.3807304 | -0.5368216 | -1.639841 |  24 | LIPE, AC.... | -2.063788 |\n",
       "| Ex | Prostaglandin Synthesis and Regulation WP98                                           | 9.172558e-03 | 2.822325e-01 | 0.3807304 |  0.6764142 |  1.692974 |  14 | AKR1B1, .... |  2.037510 |\n",
       "| Ex | DNA IR-damage and cellular response via ATR WP4016                                    | 1.610188e-02 | 4.600537e-01 | 0.3524879 |  0.4356262 |  1.507696 |  58 | SMC1A, B.... |  1.793123 |\n",
       "| Ex | MET in type 1 papillary renal cell carcinoma WP4205                                   | 1.879685e-02 | 5.012494e-01 | 0.3524879 |  0.4233929 |  1.434949 |  52 | PTPN11, .... |  1.725915 |\n",
       "| Ex | Monoamine Transport WP727                                                             | 2.462061e-02 | 5.197201e-01 | 0.3524879 |  0.6466599 |  1.570117 |  13 | AMPH, MA.... |  1.608701 |\n",
       "| Ex | Methionine metabolism leading to Sulphur Amino Acids and related disorders WP4292     | 2.488107e-02 | 5.197201e-01 | 0.3524879 | -0.7617559 | -1.575236 |   6 | MAT2B, C.... | -1.604131 |\n",
       "| Ex | DNA Damage Response WP707                                                             | 2.543571e-02 | 5.197201e-01 | 0.3524879 |  0.4703205 |  1.505427 |  38 | TLK2, SM.... |  1.594556 |\n",
       "| Ex | Resistin as a regulator of inflammation WP4481                                        | 2.822311e-02 | 5.197201e-01 | 0.3524879 |  0.5543908 |  1.503753 |  19 | MAPK14, .... |  1.549395 |\n",
       "| Ex | Cytosine methylation WP3585                                                           | 2.837945e-02 | 5.197201e-01 | 0.3524879 | -0.7201311 | -1.668675 |   9 | TET1, TE.... | -1.546996 |\n",
       "| Ex | ATM Signaling Network in Development and Disease  WP3878                              | 2.845768e-02 | 5.197201e-01 | 0.3524879 |  0.4661167 |  1.491971 |  38 | SMC1A, R.... |  1.545801 |\n",
       "| Ex | Trans-sulfuration pathway WP2333                                                      | 3.040403e-02 | 5.197201e-01 | 0.3524879 | -0.7331603 | -1.581554 |   7 | MAT2B, C.... | -1.517069 |\n",
       "| Ex | Type III interferon signaling WP2113                                                  | 3.098087e-02 | 5.197201e-01 | 0.3524879 | -0.7536767 | -1.558529 |   6 |  STAT2, TYK2 | -1.508906 |\n",
       "| Ex | Trans-sulfuration and one carbon metabolism WP2525                                    | 3.118321e-02 | 5.197201e-01 | 0.3524879 | -0.5297412 | -1.487365 |  20 | MAT2A, A.... | -1.506079 |\n",
       "| Ex | EPO Receptor Signaling WP581                                                          | 3.297080e-02 | 5.220231e-01 | 0.3217759 |  0.5452042 |  1.478835 |  19 | RASA1, J.... |  1.481871 |\n",
       "| Ex | Gastric Cancer Network 1 WP2361                                                       | 3.393150e-02 | 5.220231e-01 | 0.3217759 |  0.6203447 |  1.482813 |  12 | RUVBL1, .... |  1.469397 |\n",
       "| Ex | miRNA Regulation of DNA Damage Response WP1530                                        | 3.706818e-02 | 5.389483e-01 | 0.3217759 |  0.4510785 |  1.443372 |  39 | TLK2, SM.... |  1.430999 |\n",
       "| Ex | Regulation of sister chromatid separation at the metaphase-anaphase transition WP4240 | 3.772638e-02 | 5.389483e-01 | 0.3217759 |  0.6945991 |  1.513302 |   8 | SMC1A, A.... |  1.423355 |\n",
       "| Ex | Ebola Virus Pathway on Host WP4217                                                    | 4.397394e-02 | 5.944088e-01 | 0.2765006 |  0.3879516 |  1.396796 |  72 | TSG101, .... |  1.356805 |\n",
       "| Ex | ATM Signaling Pathway WP2516                                                          | 4.609929e-02 | 5.944088e-01 | 0.2820134 |  0.5113852 |  1.477371 |  25 | SMC1A, N.... |  1.336306 |\n",
       "| Ex | DDX1 as a regulatory component of the Drosha microprocessor WP2942                    | 4.646840e-02 | 5.944088e-01 | 0.2878571 |  0.6991359 |  1.476276 |   7 | RAD50, A.... |  1.332842 |\n",
       "\n"
      ],
      "text/plain": [
       "   x \n",
       "1  Ex\n",
       "2  Ex\n",
       "3  Ex\n",
       "4  Ex\n",
       "5  Ex\n",
       "6  Ex\n",
       "7  Ex\n",
       "8  Ex\n",
       "9  Ex\n",
       "10 Ex\n",
       "11 Ex\n",
       "12 Ex\n",
       "13 Ex\n",
       "14 Ex\n",
       "15 Ex\n",
       "16 Ex\n",
       "17 Ex\n",
       "18 Ex\n",
       "19 Ex\n",
       "20 Ex\n",
       "21 Ex\n",
       "22 Ex\n",
       "23 Ex\n",
       "24 Ex\n",
       "25 Ex\n",
       "26 Ex\n",
       "27 Ex\n",
       "28 Ex\n",
       "29 Ex\n",
       "30 Ex\n",
       "31 Ex\n",
       "   pathway                                                                              \n",
       "1  Electron Transport Chain (OXPHOS system in mitochondria) WP111                       \n",
       "2  Oxidative phosphorylation WP623                                                      \n",
       "3  Proteasome Degradation WP183                                                         \n",
       "4  Nonalcoholic fatty liver disease WP4396                                              \n",
       "5  Retinoblastoma Gene in Cancer WP2446                                                 \n",
       "6  Mitochondrial complex I assembly model OXPHOS system WP4324                          \n",
       "7  Peptide GPCRs WP24                                                                   \n",
       "8  Parkin-Ubiquitin Proteasomal System pathway WP2359                                   \n",
       "9  Cell Cycle WP179                                                                     \n",
       "10 TCA Cycle (aka Krebs or citric acid cycle) WP78                                      \n",
       "11 Dual hijack model of Vif in HIV infection WP3300                                     \n",
       "12 Lipid Metabolism Pathway WP3965                                                      \n",
       "13 Prostaglandin Synthesis and Regulation WP98                                          \n",
       "14 DNA IR-damage and cellular response via ATR WP4016                                   \n",
       "15 MET in type 1 papillary renal cell carcinoma WP4205                                  \n",
       "16 Monoamine Transport WP727                                                            \n",
       "17 Methionine metabolism leading to Sulphur Amino Acids and related disorders WP4292    \n",
       "18 DNA Damage Response WP707                                                            \n",
       "19 Resistin as a regulator of inflammation WP4481                                       \n",
       "20 Cytosine methylation WP3585                                                          \n",
       "21 ATM Signaling Network in Development and Disease  WP3878                             \n",
       "22 Trans-sulfuration pathway WP2333                                                     \n",
       "23 Type III interferon signaling WP2113                                                 \n",
       "24 Trans-sulfuration and one carbon metabolism WP2525                                   \n",
       "25 EPO Receptor Signaling WP581                                                         \n",
       "26 Gastric Cancer Network 1 WP2361                                                      \n",
       "27 miRNA Regulation of DNA Damage Response WP1530                                       \n",
       "28 Regulation of sister chromatid separation at the metaphase-anaphase transition WP4240\n",
       "29 Ebola Virus Pathway on Host WP4217                                                   \n",
       "30 ATM Signaling Pathway WP2516                                                         \n",
       "31 DDX1 as a regulatory component of the Drosha microprocessor WP2942                   \n",
       "   pval         padj         log2err   ES         NES       size leadingEdge \n",
       "1  3.162222e-13 1.264889e-10 0.9325952  0.6721279  2.483130  86  COX7A2, ....\n",
       "2  1.926210e-07 3.833805e-05 0.6901325  0.6648928  2.244224  50  NDUFS8, ....\n",
       "3  2.875353e-07 3.833805e-05 0.6749629  0.6655312  2.221523  48  PSMA7, P....\n",
       "4  4.458981e-06 4.458981e-04 0.6105269  0.4950600  1.915915 117  COX7A2, ....\n",
       "5  6.471513e-05 5.177211e-03 0.5384341  0.5845668  1.973098  50  SMC1A, C....\n",
       "6  1.127272e-04 7.515144e-03 0.5384341  0.5718491  1.922400  49  NDUFV2, ....\n",
       "7  5.351789e-04 3.058165e-02 0.4772708 -0.8342118 -1.933020   9  NPY1R, O....\n",
       "8  4.224437e-03 2.112219e-01 0.4070179  0.4779280  1.625123  53  PSMD14, ....\n",
       "9  6.997786e-03 2.792318e-01 0.4070179  0.4440157  1.581564  68  SMC1A, C....\n",
       "10 7.079930e-03 2.792318e-01 0.4070179  0.6318732  1.663647  17  SUCLA2, ....\n",
       "11 7.678875e-03 2.792318e-01 0.4070179  0.7909029  1.670049   7  ELOC, CB....\n",
       "12 8.634001e-03 2.822325e-01 0.3807304 -0.5368216 -1.639841  24  LIPE, AC....\n",
       "13 9.172558e-03 2.822325e-01 0.3807304  0.6764142  1.692974  14  AKR1B1, ....\n",
       "14 1.610188e-02 4.600537e-01 0.3524879  0.4356262  1.507696  58  SMC1A, B....\n",
       "15 1.879685e-02 5.012494e-01 0.3524879  0.4233929  1.434949  52  PTPN11, ....\n",
       "16 2.462061e-02 5.197201e-01 0.3524879  0.6466599  1.570117  13  AMPH, MA....\n",
       "17 2.488107e-02 5.197201e-01 0.3524879 -0.7617559 -1.575236   6  MAT2B, C....\n",
       "18 2.543571e-02 5.197201e-01 0.3524879  0.4703205  1.505427  38  TLK2, SM....\n",
       "19 2.822311e-02 5.197201e-01 0.3524879  0.5543908  1.503753  19  MAPK14, ....\n",
       "20 2.837945e-02 5.197201e-01 0.3524879 -0.7201311 -1.668675   9  TET1, TE....\n",
       "21 2.845768e-02 5.197201e-01 0.3524879  0.4661167  1.491971  38  SMC1A, R....\n",
       "22 3.040403e-02 5.197201e-01 0.3524879 -0.7331603 -1.581554   7  MAT2B, C....\n",
       "23 3.098087e-02 5.197201e-01 0.3524879 -0.7536767 -1.558529   6   STAT2, TYK2\n",
       "24 3.118321e-02 5.197201e-01 0.3524879 -0.5297412 -1.487365  20  MAT2A, A....\n",
       "25 3.297080e-02 5.220231e-01 0.3217759  0.5452042  1.478835  19  RASA1, J....\n",
       "26 3.393150e-02 5.220231e-01 0.3217759  0.6203447  1.482813  12  RUVBL1, ....\n",
       "27 3.706818e-02 5.389483e-01 0.3217759  0.4510785  1.443372  39  TLK2, SM....\n",
       "28 3.772638e-02 5.389483e-01 0.3217759  0.6945991  1.513302   8  SMC1A, A....\n",
       "29 4.397394e-02 5.944088e-01 0.2765006  0.3879516  1.396796  72  TSG101, ....\n",
       "30 4.609929e-02 5.944088e-01 0.2820134  0.5113852  1.477371  25  SMC1A, N....\n",
       "31 4.646840e-02 5.944088e-01 0.2878571  0.6991359  1.476276   7  RAD50, A....\n",
       "   score    \n",
       "1  12.500008\n",
       "2   6.715296\n",
       "3   6.541309\n",
       "4   5.350764\n",
       "5   4.188994\n",
       "6   3.947971\n",
       "7  -3.271501\n",
       "8   2.374231\n",
       "9   2.155039\n",
       "10  2.149971\n",
       "11  2.114702\n",
       "12 -2.063788\n",
       "13  2.037510\n",
       "14  1.793123\n",
       "15  1.725915\n",
       "16  1.608701\n",
       "17 -1.604131\n",
       "18  1.594556\n",
       "19  1.549395\n",
       "20 -1.546996\n",
       "21  1.545801\n",
       "22 -1.517069\n",
       "23 -1.508906\n",
       "24 -1.506079\n",
       "25  1.481871\n",
       "26  1.469397\n",
       "27  1.430999\n",
       "28  1.423355\n",
       "29  1.356805\n",
       "30  1.336306\n",
       "31  1.332842"
      ]
     },
     "metadata": {},
     "output_type": "display_data"
    }
   ],
   "source": [
    "res"
   ]
  },
  {
   "cell_type": "code",
   "execution_count": 140,
   "id": "548da68c-73ef-408a-80b1-11913384eccb",
   "metadata": {},
   "outputs": [],
   "source": [
    "# save all fgsea results\n",
    "df = as.data.frame(res)\n",
    "df = df[,!colnames(df)=='leadingEdge']\n",
    "write.csv(df, './processed_data/for_plotting/fgsea_out.csv')"
   ]
  },
  {
   "cell_type": "code",
   "execution_count": 141,
   "id": "926062b3-f7b3-43b2-b789-4c02fd7a1cd6",
   "metadata": {},
   "outputs": [],
   "source": [
    "# save all leading edge genes\n",
    "df = as.data.frame(unique(unname(unlist(res$leadingEdge))))\n",
    "colnames(df) = 'gene'\n",
    "write.csv(df, './processed_data/for_plotting/leading_edge.csv')"
   ]
  },
  {
   "cell_type": "code",
   "execution_count": 142,
   "id": "b06e50ed-ade6-4426-8a2f-f4f846700737",
   "metadata": {},
   "outputs": [],
   "source": [
    "# save Ex leading edge genes\n",
    "res = out$Ex\n",
    "res = res[res$pval<0.05,]\n",
    "\n",
    "df = as.data.frame(unique(unname(unlist(res$leadingEdge))))\n",
    "colnames(df) = 'gene'\n",
    "write.csv(df, './processed_data/for_plotting/leading_edge_EX.csv')"
   ]
  }
 ],
 "metadata": {
  "kernelspec": {
   "display_name": "R [conda env:.conda-r_env]",
   "language": "R",
   "name": "conda-env-.conda-r_env-r"
  },
  "language_info": {
   "codemirror_mode": "r",
   "file_extension": ".r",
   "mimetype": "text/x-r-source",
   "name": "R",
   "pygments_lexer": "r",
   "version": "4.2.3"
  }
 },
 "nbformat": 4,
 "nbformat_minor": 5
}

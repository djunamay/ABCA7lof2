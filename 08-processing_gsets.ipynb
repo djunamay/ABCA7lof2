{
 "cells": [
  {
   "cell_type": "markdown",
   "id": "7af1c77b-d578-48b5-8c19-b4bcc24540b3",
   "metadata": {},
   "source": [
    "**Processing gsets and evaluating KL**"
   ]
  },
  {
   "cell_type": "code",
   "execution_count": null,
   "id": "842c542c-937b-4537-bb0e-20b1c1febe49",
   "metadata": {},
   "outputs": [],
   "source": [
    "import numpy as np\n",
    "import gseapy\n",
    "from scipy.sparse import csr_matrix\n",
    "from tqdm.contrib.concurrent import process_map\n",
    "from functools import partial\n",
    "from scipy.sparse.csgraph import shortest_path\n",
    "import matplotlib.pyplot as plt\n",
    "import seaborn as sns\n",
    "import pandas as pd\n",
    "import networkx\n",
    "\n",
    "from ABCA7lof2.geneclusters import get_scores, get_kernighan_lin_clusters, get_gene_pathway_matrix, get_full_matrix_from_bipartite, plot_component, plot_edges, plot_nodes, group, compute_groupped_matrix, get_scores, find_similar_clusters, get_representative_name_per_cluster, get_kernighan_lin_clusters, get_gene_pathway_matrix, compute_groupped_matrix, get_full_matrix_from_bipartite"
   ]
  },
  {
   "cell_type": "code",
   "execution_count": null,
   "id": "314ffc09-1353-4b32-ad16-725f1c4eb8cf",
   "metadata": {},
   "outputs": [],
   "source": [
    "# save the gsets\n",
    "p1 = np.load('./raw_data/genesets/WikiPathways_2019_Human.npy', allow_pickle=True).item()\n",
    "res = {**p6}\n",
    "np.save('./processed_data/genesets/all_paths.npy', res)\n",
    "pd.DataFrame.from_dict(res, orient='index').to_csv('./processed_data/genesets/all_paths.csv')"
   ]
  },
  {
   "cell_type": "markdown",
   "id": "1db9889a-f79e-4799-8899-353f2286c8c8",
   "metadata": {},
   "source": [
    "#### Plot Jaccard indices"
   ]
  },
  {
   "cell_type": "code",
   "execution_count": null,
   "id": "bc4baccc-2a2f-4393-ab3e-a8c6c085a3c5",
   "metadata": {},
   "outputs": [],
   "source": [
    "# get pathway gene matrix\n",
    "mat = get_gene_pathway_matrix('./processed_data/genesets/all_paths.npy')\n",
    "\n",
    "import numba as nb\n",
    "@nb.njit()\n",
    "def compute_jaccard(arr1, arr2):\n",
    "    outer = arr1-arr2\n",
    "    i_outer = np.sum(outer>0)\n",
    "    outer_sum = np.sum(np.abs(outer))\n",
    "    shared = np.sum(arr1)-i_outer\n",
    "    jaccard = shared/(outer_sum+shared)\n",
    "    return jaccard\n",
    "\n",
    "@nb.njit(parallel=True)\n",
    "def compute_all_jaccard(mat_array):\n",
    "    N = mat_array.shape[0]\n",
    "    out = np.empty(shape=(N,N))\n",
    "    for i in nb.prange(N):\n",
    "        for j in nb.prange(N):\n",
    "            out[i,j] = compute_jaccard(mat_array[i], mat_array[j])\n",
    "    return out\n",
    "\n",
    "mat_array = np.array(mat)\n",
    "out = compute_all_jaccard(mat_array)\n",
    "\n",
    "from sklearn.manifold import SpectralEmbedding\n",
    "\n",
    "embedding = SpectralEmbedding(n_components=1, affinity='precomputed')\n",
    "embedding = embedding.fit_transform(out)\n",
    "\n",
    "o = np.argsort(embedding.ravel())\n",
    "plt.imshow((np.log(out+1e-100)[o][:,o]), cmap='viridis', vmax=0, vmin=-230)\n",
    "plt.colorbar()\n",
    "plt.savefig('./pdf_figures/jaccard_all_paths.png')\n",
    "\n",
    "x = np.zeros_like(out)\n",
    "np.fill_diagonal(x, 1)\n",
    "plt.imshow((np.log(x+1e-100)), cmap='viridis', vmax=0, vmin=-230)\n",
    "plt.colorbar()"
   ]
  },
  {
   "cell_type": "markdown",
   "id": "ac2ab443-c31f-47e9-90ff-3a1d381e182d",
   "metadata": {},
   "source": [
    "#### Assess consistency across runs"
   ]
  },
  {
   "cell_type": "code",
   "execution_count": null,
   "id": "0b3b0222-7980-46ca-8fe2-ce581ddc98ba",
   "metadata": {},
   "outputs": [],
   "source": [
    "# visualize \n",
    "\n",
    "# assign the clusters\n",
    "from tqdm import tqdm\n",
    "\n",
    "C = 0\n",
    "KL_modified = True\n",
    "random_labels = True\n",
    "unweighted = True\n",
    "\n",
    "N=1000\n",
    "loss = np.empty(N)\n",
    "clusters = np.empty((N,np.sum(mat_sub.shape)))\n",
    "\n",
    "for i in tqdm(range(N)):\n",
    "    frame, loss_temp = get_kernighan_lin_clusters(None, 50, C, KL_modified, random_labels, unweighted, seed=i, no_progress=True, mat=mat_sub)\n",
    "    frame.columns = ['cluster', 'description', 'is_gene']\n",
    "    clusters[i] = np.array(frame['cluster'])\n",
    "    loss[i] = loss_temp\n",
    "    \n",
    "@nb.njit(parallel=True)\n",
    "def compute_jaccard_all_clust(arr1, arr2):\n",
    "    N = len(np.unique(arr1))\n",
    "    out = np.empty(shape=(N,N))\n",
    "    for i in nb.prange(N):\n",
    "        for j in nb.prange(N):\n",
    "            i_0 = (arr1==i)#.astype(int)\n",
    "            j_0 = (arr2==j)#.astype(int)\n",
    "            out[i,j] = compute_jaccard(i_0, j_0)\n",
    "    return out\n",
    "\n",
    "temp = compute_jaccard_all_clust(clusters[5], clusters[1])\n",
    "T = temp\n",
    "embedding = SpectralEmbedding(n_components=1, affinity='precomputed')\n",
    "embedding = embedding.fit_transform(1-T)\n",
    "\n",
    "o = np.argsort(embedding.ravel())\n",
    "plt.imshow(T[o][:,o], cmap='viridis')#, vmax=0, vmin=-230)\n",
    "plt.colorbar()\n",
    "plt.savefig('./pdf_figures/example1.pdf')\n",
    "\n",
    "temp = compute_jaccard_all_clust(clusters[10], clusters[11])\n",
    "T = temp\n",
    "embedding = SpectralEmbedding(n_components=1, affinity='precomputed')\n",
    "embedding = embedding.fit_transform(1-T)\n",
    "\n",
    "o = np.argsort(embedding.ravel())\n",
    "plt.imshow(T[o][:,o], cmap='viridis')#, vmax=0, vmin=-230)\n",
    "plt.colorbar()\n",
    "plt.savefig('./pdf_figures/example2.pdf')\n",
    "\n",
    "temp = compute_jaccard_all_clust(np.random.permutation(clusters[5]), clusters[1])\n",
    "\n",
    "T = temp\n",
    "embedding = SpectralEmbedding(n_components=1, affinity='precomputed')\n",
    "embedding = embedding.fit_transform(1-T)\n",
    "\n",
    "o = np.argsort(embedding.ravel())\n",
    "plt.imshow(T[o][:,o], cmap='viridis', vmax=1, vmin=0)\n",
    "plt.colorbar()\n",
    "plt.savefig('./pdf_figures/example1_baseline.pdf')\n",
    "\n",
    "temp = compute_jaccard_all_clust(np.random.permutation(clusters[10]), clusters[11])\n",
    "\n",
    "T = temp\n",
    "embedding = SpectralEmbedding(n_components=1, affinity='precomputed')\n",
    "embedding = embedding.fit_transform(1-T)\n",
    "\n",
    "o = np.argsort(embedding.ravel())\n",
    "plt.imshow(T[o][:,o], cmap='viridis', vmax=1, vmin=0)\n",
    "plt.colorbar()\n",
    "plt.savefig('./pdf_figures/example2_baseline.pdf')"
   ]
  },
  {
   "cell_type": "code",
   "execution_count": null,
   "id": "c818c983-e789-4263-95b8-423eb2d6f7ba",
   "metadata": {},
   "outputs": [],
   "source": [
    "# quantify using existing cluster robustness method"
   ]
  },
  {
   "cell_type": "markdown",
   "id": "a1cb5ce0-5943-40b2-9374-ca00f0682c23",
   "metadata": {},
   "source": [
    "#### show loss by method"
   ]
  },
  {
   "cell_type": "code",
   "execution_count": null,
   "id": "e9e5d0e3-77e4-4f61-9f11-52a06728c378",
   "metadata": {},
   "outputs": [],
   "source": [
    "plt.hist(loss, label='kernighan-lin')\n",
    "plt.ylabel('frequency')\n",
    "plt.xlabel('loss')\n",
    "plt.legend()\n",
    "plt.savefig('./pdf_figures/loss.pdf')"
   ]
  }
 ],
 "metadata": {
  "kernelspec": {
   "display_name": "Python 3 (ipykernel)",
   "language": "python",
   "name": "python3"
  },
  "language_info": {
   "codemirror_mode": {
    "name": "ipython",
    "version": 3
   },
   "file_extension": ".py",
   "mimetype": "text/x-python",
   "name": "python",
   "nbconvert_exporter": "python",
   "pygments_lexer": "ipython3",
   "version": "3.8.13"
  }
 },
 "nbformat": 4,
 "nbformat_minor": 5
}

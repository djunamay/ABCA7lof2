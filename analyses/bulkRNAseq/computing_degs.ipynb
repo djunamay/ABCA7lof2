{
 "cells": [
  {
   "cell_type": "code",
   "execution_count": 6,
   "metadata": {
    "vscode": {
     "languageId": "r"
    }
   },
   "outputs": [],
   "source": [
    "library(limma) \n",
    "library(edgeR)\n"
   ]
  },
  {
   "cell_type": "code",
   "execution_count": 2,
   "metadata": {
    "vscode": {
     "languageId": "r"
    }
   },
   "outputs": [
    {
     "data": {
      "text/html": [
       "<style>\n",
       ".list-inline {list-style: none; margin:0; padding: 0}\n",
       ".list-inline>li {display: inline-block}\n",
       ".list-inline>li:not(:last-child)::after {content: \"\\00b7\"; padding: 0 .5ex}\n",
       "</style>\n",
       "<ol class=list-inline><li>TRUE</li><li>TRUE</li><li>TRUE</li><li>TRUE</li><li>TRUE</li><li>TRUE</li><li>TRUE</li><li>TRUE</li><li>TRUE</li><li>TRUE</li><li>TRUE</li><li>TRUE</li><li>TRUE</li><li>TRUE</li><li>TRUE</li><li>TRUE</li><li>TRUE</li><li>TRUE</li><li>TRUE</li><li>TRUE</li><li>TRUE</li><li>TRUE</li><li>TRUE</li><li>TRUE</li><li>TRUE</li><li>TRUE</li></ol>\n"
      ],
      "text/latex": [
       "\\begin{enumerate*}\n",
       "\\item TRUE\n",
       "\\item TRUE\n",
       "\\item TRUE\n",
       "\\item TRUE\n",
       "\\item TRUE\n",
       "\\item TRUE\n",
       "\\item TRUE\n",
       "\\item TRUE\n",
       "\\item TRUE\n",
       "\\item TRUE\n",
       "\\item TRUE\n",
       "\\item TRUE\n",
       "\\item TRUE\n",
       "\\item TRUE\n",
       "\\item TRUE\n",
       "\\item TRUE\n",
       "\\item TRUE\n",
       "\\item TRUE\n",
       "\\item TRUE\n",
       "\\item TRUE\n",
       "\\item TRUE\n",
       "\\item TRUE\n",
       "\\item TRUE\n",
       "\\item TRUE\n",
       "\\item TRUE\n",
       "\\item TRUE\n",
       "\\end{enumerate*}\n"
      ],
      "text/markdown": [
       "1. TRUE\n",
       "2. TRUE\n",
       "3. TRUE\n",
       "4. TRUE\n",
       "5. TRUE\n",
       "6. TRUE\n",
       "7. TRUE\n",
       "8. TRUE\n",
       "9. TRUE\n",
       "10. TRUE\n",
       "11. TRUE\n",
       "12. TRUE\n",
       "13. TRUE\n",
       "14. TRUE\n",
       "15. TRUE\n",
       "16. TRUE\n",
       "17. TRUE\n",
       "18. TRUE\n",
       "19. TRUE\n",
       "20. TRUE\n",
       "21. TRUE\n",
       "22. TRUE\n",
       "23. TRUE\n",
       "24. TRUE\n",
       "25. TRUE\n",
       "26. TRUE\n",
       "\n",
       "\n"
      ],
      "text/plain": [
       " [1] TRUE TRUE TRUE TRUE TRUE TRUE TRUE TRUE TRUE TRUE TRUE TRUE TRUE TRUE TRUE\n",
       "[16] TRUE TRUE TRUE TRUE TRUE TRUE TRUE TRUE TRUE TRUE TRUE"
      ]
     },
     "metadata": {},
     "output_type": "display_data"
    }
   ],
   "source": [
    "# load data\n",
    "counts = read.csv('../../bulkRNAseq/counts.txt', comment=\"#\", sep=\"\\t\", check.names=FALSE)\n",
    "metadata = read.csv('../../bulkRNAseq/abca7_rna_seq_metadata_with_seqIDs.csv', check.names=FALSE)\n",
    "metadata$SeqID = gsub(\" \", \"\", metadata$SeqID)\n",
    "\n",
    "sam_columns = grep(\"\\\\.sam$\", names(counts), value = TRUE)\n",
    "counts_subset = counts[,sam_columns[2:length(sam_columns)]]\n",
    "colnames(counts_subset) <- sapply(strsplit(colnames(counts_subset), \"_\"), function(x) x[2])\n",
    "names(counts_subset) == metadata$SeqID\n",
    "\n",
    "counts_pc = counts_subset[counts$gene_type=='protein_coding',]\n",
    "names = counts$Geneid[counts$gene_type=='protein_coding']\n",
    "gene_names = counts$gene_name[counts$gene_type=='protein_coding']\n",
    "row.names(counts_pc) = names\n",
    "\n",
    "lib.size = colSums(counts_subset)\n"
   ]
  },
  {
   "cell_type": "code",
   "execution_count": 3,
   "metadata": {
    "vscode": {
     "languageId": "r"
    }
   },
   "outputs": [],
   "source": [
    "# create DGEList\n",
    "dge_obj = DGEList(counts=counts_pc,genes=gene_names, samples=metadata, lib.size=lib.size)\n",
    "isexpr = rowSums(cpm(dge_obj) >= 1) >= 1\n",
    "dge_obj = dge_obj[isexpr,]\n",
    "\n",
    "# compute choline-assoc genes\n",
    "subset_x = dge_obj[,grepl(\"batch 1\", dge_obj$samples$Notes)]\n",
    "subset_x = subset_x[,subset_x$samples$Line=='Y622']\n",
    "mod1 = model.matrix(~subset_x$samples$Treatment=='Choline2Weeks')\n",
    "colnames(mod1) = c('intercept', 'condition')\n",
    "v = voom(subset_x, design=mod1, plot = FALSE)\n",
    "fit = lmFit(v, design=mod1)\n",
    "fit = eBayes(fit)\n",
    "res_choline = topTable(fit, coef='condition', n=Inf, sort.by=\"P\")\n",
    "\n",
    "# compute choline-assoc genes\n",
    "subset_x = dge_obj[,grepl(\"batch 2\", dge_obj$samples$Notes)]\n",
    "subset_x = subset_x[,subset_x$samples$Line=='Y622']\n",
    "mod1 = model.matrix(~subset_x$samples$Treatment=='Choline2Weeks')\n",
    "colnames(mod1) = c('intercept', 'condition')\n",
    "v = voom(subset_x, design=mod1, plot = FALSE)\n",
    "fit = lmFit(v, design=mod1)\n",
    "fit = eBayes(fit)\n",
    "res_choline_batch2 = topTable(fit, coef='condition', n=Inf, sort.by=\"P\")\n",
    "\n",
    "# compute y622-assoc genes\n",
    "subset_x = dge_obj[,grepl(\"batch 1\", dge_obj$samples$Notes)]\n",
    "subset_x = subset_x[,subset_x$samples$Treatment=='H20' & subset_x$samples$Line!='G2']\n",
    "mod1 = model.matrix(~subset_x$samples$Line=='Y622')\n",
    "colnames(mod1) = c('intercept', 'condition')\n",
    "v = voom(subset_x, design=mod1, plot = FALSE)\n",
    "fit = lmFit(v, design=mod1)\n",
    "fit = eBayes(fit)\n",
    "res_y622 = topTable(fit, coef='condition', n=Inf, sort.by=\"P\")\n",
    "\n",
    "\n",
    "# compute y622-assoc genes\n",
    "subset_x = dge_obj[,grepl(\"batch 1\", dge_obj$samples$Notes)]\n",
    "subset_x = subset_x[,subset_x$samples$Treatment=='H20' & subset_x$samples$Line!='Y622']\n",
    "mod1 = model.matrix(~subset_x$samples$Line=='G2')\n",
    "colnames(mod1) = c('intercept', 'condition')\n",
    "v = voom(subset_x, design=mod1, plot = FALSE)\n",
    "fit = lmFit(v, design=mod1)\n",
    "fit = eBayes(fit)\n",
    "res_g2 = topTable(fit, coef='condition', n=Inf, sort.by=\"P\")\n"
   ]
  },
  {
   "cell_type": "code",
   "execution_count": 14,
   "metadata": {
    "vscode": {
     "languageId": "r"
    }
   },
   "outputs": [
    {
     "data": {
      "text/plain": [
       ", ,  = Control\n",
       "\n",
       "                                                                        \n",
       "                                                                         Choline2Weeks\n",
       "  diff & extraction batch 1 (1 well, DOI:101624, JennyExtraction 111324)             0\n",
       "  diff & extraction batch 2 (2 wells pooled)                                         0\n",
       "                                                                        \n",
       "                                                                         H20\n",
       "  diff & extraction batch 1 (1 well, DOI:101624, JennyExtraction 111324)   2\n",
       "  diff & extraction batch 2 (2 wells pooled)                               0\n",
       "\n",
       ", ,  = G2\n",
       "\n",
       "                                                                        \n",
       "                                                                         Choline2Weeks\n",
       "  diff & extraction batch 1 (1 well, DOI:101624, JennyExtraction 111324)             0\n",
       "  diff & extraction batch 2 (2 wells pooled)                                         0\n",
       "                                                                        \n",
       "                                                                         H20\n",
       "  diff & extraction batch 1 (1 well, DOI:101624, JennyExtraction 111324)   5\n",
       "  diff & extraction batch 2 (2 wells pooled)                               3\n",
       "\n",
       ", ,  = Y622\n",
       "\n",
       "                                                                        \n",
       "                                                                         Choline2Weeks\n",
       "  diff & extraction batch 1 (1 well, DOI:101624, JennyExtraction 111324)             5\n",
       "  diff & extraction batch 2 (2 wells pooled)                                         3\n",
       "                                                                        \n",
       "                                                                         H20\n",
       "  diff & extraction batch 1 (1 well, DOI:101624, JennyExtraction 111324)   5\n",
       "  diff & extraction batch 2 (2 wells pooled)                               3\n"
      ]
     },
     "metadata": {},
     "output_type": "display_data"
    }
   ],
   "source": [
    "table(metadata$Notes, metadata$Treatment, metadata$Line)"
   ]
  },
  {
   "cell_type": "code",
   "execution_count": 4,
   "metadata": {
    "vscode": {
     "languageId": "r"
    }
   },
   "outputs": [],
   "source": [
    "write.csv(res_y622, \"../../bulkRNAseq/y622_degs.csv\")\n",
    "write.csv(res_choline, \"../../bulkRNAseq/choline_degs.csv\")\n",
    "write.csv(res_g2, \"../../bulkRNAseq/g2_degs.csv\")\n",
    "write.csv(res_choline_batch2, \"../../bulkRNAseq/choline_batch2_degs.csv\")"
   ]
  }
 ],
 "metadata": {
  "kernelspec": {
   "display_name": "R",
   "language": "R",
   "name": "ir"
  },
  "language_info": {
   "codemirror_mode": "r",
   "file_extension": ".r",
   "mimetype": "text/x-r-source",
   "name": "R",
   "pygments_lexer": "r",
   "version": "4.4.2"
  }
 },
 "nbformat": 4,
 "nbformat_minor": 2
}

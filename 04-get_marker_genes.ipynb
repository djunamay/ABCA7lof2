{
 "cells": [
  {
   "cell_type": "markdown",
   "id": "29420167-187f-4ba1-a32c-8c08c74a3cb6",
   "metadata": {},
   "source": [
    "**Get marker genes for celltype annotation**"
   ]
  },
  {
   "cell_type": "code",
   "execution_count": 41,
   "id": "88098053-c0b4-45bb-885c-acfda934c3e2",
   "metadata": {},
   "outputs": [
    {
     "data": {
      "text/plain": [
       "\n",
       "     Ast       Ex       In      Mic      Oli      Opc Vascular \n",
       "     105       95       63       71      124       77       92 "
      ]
     },
     "metadata": {},
     "output_type": "display_data"
    }
   ],
   "source": [
    "df = readRDS('../ABCA7lof/processed_data/single_cell_data/RefCellTypeMarkers.adultBrain.rds')\n",
    "df[['Vascular']] = union(df$Per, df$Endo)\n",
    "df$Per = NULL\n",
    "df$Endo = NULL\n",
    "\n",
    "out = list()\n",
    "for(i in names(df)){\n",
    "    d = as.data.frame(df[[i]])\n",
    "    colnames(d) = 'marker'\n",
    "    d$major_celltype = i\n",
    "    out[[i]] = d\n",
    "}\n",
    "\n",
    "all_data = do.call('rbind', out)\n",
    "\n",
    "# delete duplicate genes\n",
    "temp = table(all_data['marker'])\n",
    "temp = names(temp)[temp==1]\n",
    "temp = temp[2:length(temp)]\n",
    "all_data = all_data[all_data$marker%in%temp,]\n",
    "\n",
    "write.csv(all_data, './processed_data/single_cell/brain_marker_genes.csv')\n",
    "\n",
    "table(all_data$major_celltype)"
   ]
  }
 ],
 "metadata": {
  "kernelspec": {
   "display_name": "R",
   "language": "R",
   "name": "ir"
  },
  "language_info": {
   "codemirror_mode": "r",
   "file_extension": ".r",
   "mimetype": "text/x-r-source",
   "name": "R",
   "pygments_lexer": "r",
   "version": "4.1.2"
  }
 },
 "nbformat": 4,
 "nbformat_minor": 5
}

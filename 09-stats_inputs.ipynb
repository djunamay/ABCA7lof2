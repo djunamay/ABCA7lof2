{
 "cells": [
  {
   "cell_type": "markdown",
   "id": "a3480944-91fc-445f-8512-586f17ebf0f0",
   "metadata": {},
   "source": [
    "**Format data for input to stats analysis**\n"
   ]
  },
  {
   "cell_type": "code",
   "execution_count": 1,
   "id": "57d5b06b-0532-4ff5-a0fc-ebbdc7fec122",
   "metadata": {
    "collapsed": true,
    "jupyter": {
     "outputs_hidden": true
    },
    "tags": []
   },
   "outputs": [
    {
     "name": "stderr",
     "output_type": "stream",
     "text": [
      "Warning message:\n",
      "“package ‘tidyr’ was built under R version 3.6.3”Loading required package: SummarizedExperiment\n",
      "Loading required package: GenomicRanges\n",
      "Loading required package: stats4\n",
      "Loading required package: BiocGenerics\n",
      "Loading required package: parallel\n",
      "\n",
      "Attaching package: ‘BiocGenerics’\n",
      "\n",
      "The following objects are masked from ‘package:parallel’:\n",
      "\n",
      "    clusterApply, clusterApplyLB, clusterCall, clusterEvalQ,\n",
      "    clusterExport, clusterMap, parApply, parCapply, parLapply,\n",
      "    parLapplyLB, parRapply, parSapply, parSapplyLB\n",
      "\n",
      "The following objects are masked from ‘package:stats’:\n",
      "\n",
      "    IQR, mad, sd, var, xtabs\n",
      "\n",
      "The following objects are masked from ‘package:base’:\n",
      "\n",
      "    Filter, Find, Map, Position, Reduce, anyDuplicated, append,\n",
      "    as.data.frame, basename, cbind, colnames, dirname, do.call,\n",
      "    duplicated, eval, evalq, get, grep, grepl, intersect, is.unsorted,\n",
      "    lapply, mapply, match, mget, order, paste, pmax, pmax.int, pmin,\n",
      "    pmin.int, rank, rbind, rownames, sapply, setdiff, sort, table,\n",
      "    tapply, union, unique, unsplit, which, which.max, which.min\n",
      "\n",
      "Loading required package: S4Vectors\n",
      "\n",
      "Attaching package: ‘S4Vectors’\n",
      "\n",
      "The following object is masked from ‘package:tidyr’:\n",
      "\n",
      "    expand\n",
      "\n",
      "The following object is masked from ‘package:base’:\n",
      "\n",
      "    expand.grid\n",
      "\n",
      "Loading required package: IRanges\n",
      "Loading required package: GenomeInfoDb\n",
      "Loading required package: Biobase\n",
      "Welcome to Bioconductor\n",
      "\n",
      "    Vignettes contain introductory material; view with\n",
      "    'browseVignettes()'. To cite Bioconductor, see\n",
      "    'citation(\"Biobase\")', and for packages 'citation(\"pkgname\")'.\n",
      "\n",
      "Loading required package: DelayedArray\n",
      "Loading required package: matrixStats\n",
      "Warning message:\n",
      "“package ‘matrixStats’ was built under R version 3.6.3”\n",
      "Attaching package: ‘matrixStats’\n",
      "\n",
      "The following objects are masked from ‘package:Biobase’:\n",
      "\n",
      "    anyMissing, rowMedians\n",
      "\n",
      "Loading required package: BiocParallel\n",
      "\n",
      "Attaching package: ‘DelayedArray’\n",
      "\n",
      "The following objects are masked from ‘package:matrixStats’:\n",
      "\n",
      "    colMaxs, colMins, colRanges, rowMaxs, rowMins, rowRanges\n",
      "\n",
      "The following objects are masked from ‘package:base’:\n",
      "\n",
      "    aperm, apply, rowsum\n",
      "\n"
     ]
    }
   ],
   "source": [
    "source('./ABCA7lof2/prep_data.r')\n",
    "library(tidyr)\n",
    "library('SingleCellExperiment')"
   ]
  },
  {
   "cell_type": "code",
   "execution_count": 2,
   "id": "da5c74e6-3d9c-4d7c-a5c1-cbdf3f6f5008",
   "metadata": {},
   "outputs": [],
   "source": [
    "# define vars\n",
    "order = c('Ex', 'In', 'Ast', 'Mic', 'Oli', 'Opc', 'Vascular')\n",
    "sce = readRDS('./processed_data/single_cell/sce.rds')\n",
    "output_path = './processed_data/single_cell/stats_input_data_0825.rds'"
   ]
  },
  {
   "cell_type": "code",
   "execution_count": 9,
   "id": "fddcf6dd-d7f3-4a49-b314-474950a53ac9",
   "metadata": {
    "tags": []
   },
   "outputs": [
    {
     "name": "stdout",
     "output_type": "stream",
     "text": [
      "[1] \"summing...\"\n"
     ]
    }
   ],
   "source": [
    "# use matrix multiplication to summarize (sum) across counts per cell type per individual\n",
    "print('summing...')\n",
    "meta = sce@colData\n",
    "labels = as.data.frame(as.character(interaction(meta$annotations2, meta$projid)))\n",
    "cell_labels = rownames(meta)\n",
    "summed_counts_cellxind = sum_counts(assays(sce)$counts, labels, cell_labels)\n",
    "summed_logcounts_cellxind = sum_counts(assays(sce)$logcounts, labels, cell_labels)"
   ]
  },
  {
   "cell_type": "code",
   "execution_count": 10,
   "id": "7fb3200c-0988-40df-940e-4127246b9b1c",
   "metadata": {},
   "outputs": [],
   "source": [
    "# sum across counts per cell type x cluster\n",
    "labels = as.data.frame(as.character(interaction(meta$leiden_clusters, meta$projid)))\n",
    "summed_counts_cellxcluster = sum_counts(assays(sce)$counts, labels, cell_labels)\n",
    "summed_logcounts_cellxcluster = sum_counts(assays(sce)$logcounts, labels, cell_labels)"
   ]
  },
  {
   "cell_type": "code",
   "execution_count": 11,
   "id": "44bd6584-4b96-4e33-93a9-71b59229ea4c",
   "metadata": {},
   "outputs": [],
   "source": [
    "# use matrix multiplication to summarize (sum) across counts per cell (including all individuals)\n",
    "summed_logcounts_cell = sum_counts(assays(sce)$logcounts, label = as.data.frame(meta$annotations2), cell_labels)"
   ]
  },
  {
   "cell_type": "code",
   "execution_count": 12,
   "id": "69800148-fd50-46ee-8962-825b860473c1",
   "metadata": {},
   "outputs": [],
   "source": [
    "# get averages corresponding to both count matrices\n",
    "avs_logcounts_cellxcluster = t(apply(summed_logcounts_cellxcluster$summed_counts, 1, function(x){x/summed_logcounts_cellxcluster$ncells}))\n",
    "avs_logcounts_cellxind = t(apply(summed_logcounts_cellxind$summed_counts, 1, function(x){x/summed_logcounts_cellxind$ncells}))\n",
    "avs_logcounts_cell = t(apply(summed_logcounts_cell$summed_counts, 1, function(x){x/summed_logcounts_cell$ncells}))"
   ]
  },
  {
   "cell_type": "code",
   "execution_count": 13,
   "id": "75bf1a2b-de9b-45d0-87fb-e2a967e24695",
   "metadata": {},
   "outputs": [],
   "source": [
    "# in how many cells per celltype is each gene detected?\n",
    "counts_nonzero = assays(sce)$counts>0\n",
    "detected_genes_cell = sum_counts(counts_nonzero, label = as.data.frame(meta$annotations2), cell_labels)\n",
    "fraction_detected_genes_cell = t(apply(detected_genes_cell$summed_counts, 1, function(x){x/detected_genes_cell$ncells}))"
   ]
  },
  {
   "cell_type": "code",
   "execution_count": 14,
   "id": "e8992d8f-ce93-42f2-b5dd-4083c9275243",
   "metadata": {},
   "outputs": [],
   "source": [
    "# get expression list 10%\n",
    "expressed25 = get_expressed_genes(fraction_detected_genes_cell, .25)\n",
    "expressed10 = get_expressed_genes(fraction_detected_genes_cell, .10)"
   ]
  },
  {
   "cell_type": "code",
   "execution_count": 15,
   "id": "9d08b85b-dcc9-4e49-8443-468fb6dd0c5d",
   "metadata": {},
   "outputs": [
    {
     "name": "stdout",
     "output_type": "stream",
     "text": [
      "[1] \"summarizing experiment by individual...\"\n"
     ]
    }
   ],
   "source": [
    "# summarize the experiment by celltype x individual\n",
    "print('summarizing experiment by individual...')\n",
    "x = (strsplit(colnames(avs_logcounts_cellxind), '[.]'))\n",
    "celltype = unlist(lapply(1:length(x), function(i) x[[i]][[1]]))\n",
    "individual = unlist(lapply(1:length(x), function(i) x[[i]][[2]]))\n",
    "celltype_unique = unique(celltype)\n",
    "avs_by_ind_out = list()\n",
    "for(i in celltype_unique){\n",
    "    index = celltype==i\n",
    "    df = avs_logcounts_cellxind[, index]\n",
    "    colnames(df) = individual[index]\n",
    "    avs_by_ind_out[[i]] = df\n",
    "}\n"
   ]
  },
  {
   "cell_type": "code",
   "execution_count": 21,
   "id": "b0e82e12-7d9e-41ed-a833-4fd5f28776d6",
   "metadata": {},
   "outputs": [],
   "source": [
    "# get metadata summary\n",
    "summary = read.csv('./raw_data/metadata/single_cell_individual_metadata.csv', row.names='projid')\n",
    "summary$APOE4 = ifelse(summary$apoe_genotype%in%c(24, 44, 34), 1, 0)\n",
    "summary$LOF = summary$ABCA7LoF"
   ]
  },
  {
   "cell_type": "code",
   "execution_count": 32,
   "id": "665ea9cd-f700-4c3f-9566-f01ac5e1e4e0",
   "metadata": {},
   "outputs": [],
   "source": [
    "# subset because some individuals were removed\n",
    "summary = summary[as.character(summary$sample_id)%in%unique(meta$sample_id),]"
   ]
  },
  {
   "cell_type": "code",
   "execution_count": 35,
   "id": "ab587382-3013-43a9-af43-cdd101028b6b",
   "metadata": {},
   "outputs": [],
   "source": [
    "# save all the data\n",
    "all_data = list()\n",
    "\n",
    "all_data[['summed_counts_by_ind']] = summed_counts_cellxind\n",
    "all_data[['av_logcounts_by_celltype']] = avs_logcounts_cell\n",
    "all_data[['av_logcounts_by_ind']] = avs_by_ind_out\n",
    "all_data[['av_logcounts_by_ind_full_matrix']] = avs_logcounts_cellxind\n",
    "all_data[['av_logcounts_by_cluster_full_matrix']] = avs_logcounts_cellxcluster\n",
    "all_data[['det.rate.celltype']] = fraction_detected_genes_cell\n",
    "all_data[['expressed10']] = expressed10\n",
    "all_data[['expressed25']] = expressed25\n",
    "all_data[['summary']] = summary"
   ]
  },
  {
   "cell_type": "code",
   "execution_count": 36,
   "id": "d2d5dfe9-a009-4bde-a019-3eca525d7f46",
   "metadata": {},
   "outputs": [],
   "source": [
    "# save the data\n",
    "saveRDS(all_data, output_path)"
   ]
  }
 ],
 "metadata": {
  "kernelspec": {
   "display_name": "R [conda env:.conda-scmod_r]",
   "language": "R",
   "name": "conda-env-.conda-scmod_r-r"
  },
  "language_info": {
   "codemirror_mode": "r",
   "file_extension": ".r",
   "mimetype": "text/x-r-source",
   "name": "R",
   "pygments_lexer": "r",
   "version": "3.6.1"
  }
 },
 "nbformat": 4,
 "nbformat_minor": 5
}

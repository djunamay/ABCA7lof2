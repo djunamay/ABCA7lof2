{
 "cells": [
  {
   "cell_type": "code",
   "execution_count": 180,
   "id": "8442b282-7d9a-41d1-b1ca-81c7b105cc07",
   "metadata": {},
   "outputs": [],
   "source": [
    "### metadata redactions\n",
    "data = read.csv('./synapse/expression_matrices//qc_sample_metadata.csv')\n",
    "\n",
    "data$molecule_h5 <- NULL\n",
    "\n",
    "data$age_death_redacted = ifelse(data$age_death>90, '90+', round(data$age_death))\n",
    "\n",
    "data$age_death <- NULL\n",
    "data$X <- NULL\n",
    "\n",
    "data$pmi_redacted = round(data$pmi)\n",
    "data$pmi <- NULL\n",
    "\n",
    "data$annotations <- NULL\n",
    "data$keep_cells_gaussian <- NULL\n",
    "data$predictions <- NULL\n",
    "data$gaussian_liklihood <- NULL\n",
    "data$leiden_clusters <- NULL\n",
    "\n",
    "data$index <- NULL\n",
    "\n",
    "data$annotations <- data$annotations2\n",
    "data$annotations2 <- NULL\n",
    "\n",
    "write.csv(data, './synapse/expression_matrices/qc_rowData.csv', row.names=FALSE)"
   ]
  },
  {
   "cell_type": "code",
   "execution_count": 181,
   "id": "c0ea1ca5-2dae-4279-8fca-7e7266d2caba",
   "metadata": {},
   "outputs": [],
   "source": [
    "### format the gene names\n",
    "data = read.csv('./synapse/expression_matrices/qc_gene_names.csv')\n",
    "data$X = NULL\n",
    "colnames(data) = c('gene_name', 'Ensembl_ID')\n",
    "write.csv(data, './synapse/expression_matrices/qc_colData.csv', row.names=FALSE)"
   ]
  },
  {
   "cell_type": "code",
   "execution_count": 69,
   "id": "cad938eb-7e13-42aa-9f50-b9a40ee15685",
   "metadata": {},
   "outputs": [],
   "source": [
    "### check md5sums for batch 4819F\n",
    "d1 = read.csv('../logs/md5sum_ABCA7-lof_BMC_10x-4819F.txt', sep = '', header = FALSE)\n",
    "d1$name = unlist(lapply(strsplit(as.character(d1$V2), '/'), function(x) x[length(x)]))\n",
    "d1$name = paste0(unlist(strsplit(d1$name, '.fastq.gz')), '_batch_4819F.fastq.gz')\n",
    "\n",
    "d2 = read.csv('./synapse/fastq_files/md5sums.txt', sep = '', header = FALSE)\n",
    "colnames(d2) = c('V1', 'name')\n",
    "combined = merge(d1, d2, by = 'name')\n",
    "unique(as.character(combined$V1.x)==as.character(combined$V1.y))"
   ]
  },
  {
   "cell_type": "code",
   "execution_count": 79,
   "id": "efdd5c86-a861-4dda-bb91-bff307b13cf7",
   "metadata": {},
   "outputs": [
    {
     "data": {
      "text/html": [
       "TRUE"
      ],
      "text/latex": [
       "TRUE"
      ],
      "text/markdown": [
       "TRUE"
      ],
      "text/plain": [
       "[1] TRUE"
      ]
     },
     "metadata": {},
     "output_type": "display_data"
    }
   ],
   "source": [
    "### check md5sums for batch 4826F\n",
    "d1 = read.csv('../logs/md5sum_ABCA7-lof_BMC_10x-4826F.txt', sep = '', header = FALSE)\n",
    "d1$name = unlist(lapply(strsplit(as.character(d1$V2), '/'), function(x) x[length(x)]))\n",
    "d1$name = paste0(unlist(strsplit(d1$name, '.fastq.gz')), '_batch_4826F.fastq.gz')\n",
    "\n",
    "d2 = read.csv('./synapse/fastq_files/md5sums.txt', sep = '', header = FALSE)\n",
    "colnames(d2) = c('V1', 'name')\n",
    "combined = merge(d1, d2, by = 'name')\n",
    "unique(as.character(combined$V1.x)==as.character(combined$V1.y))"
   ]
  },
  {
   "cell_type": "code",
   "execution_count": 89,
   "id": "f469c867-925e-4a68-837e-6bf98525ff94",
   "metadata": {},
   "outputs": [],
   "source": [
    "# save individual metadata\n",
    "data = read.csv('../raw_data/metadata/single_cell_individual_metadata.csv')\n",
    "\n",
    "data$molecule_h5 <- NULL\n",
    "\n",
    "data$age_death_redacted = ifelse(data$age_death>90, '90+', round(data$age_death))\n",
    "\n",
    "data$age_death <- NULL\n",
    "data$X <- NULL\n",
    "\n",
    "data$pmi_redacted = round(data$pmi)\n",
    "data$pmi <- NULL\n",
    "\n",
    "write.csv(data, './synapse/fastq_files/individual_metadata_redacted.csv', row.names=FALSE)"
   ]
  },
  {
   "cell_type": "code",
   "execution_count": 15,
   "id": "864be237-d10e-4ff2-befc-9da6470bb076",
   "metadata": {},
   "outputs": [],
   "source": [
    "# save LoF variant info \n",
    "\n",
    "metadata = read.csv('../raw_data/metadata/single_cell_individual_metadata.csv')\n",
    "\n",
    "variant_subset_info = read.csv('../processed_data/variants/variant_subset_info.csv', check.names=FALSE)\n",
    "variant_subset_geno = read.csv('../processed_data/variants/variant_subset_geno.csv', check.names=FALSE)\n",
    "\n",
    "variant_subset_geno$X <- NULL\n",
    "variant_subset_info$X <- NULL\n",
    "\n",
    "index = variant_subset_info$LOF!=''\n",
    "index2 = variant_subset_info$HGVS_C=='c.5570+5G>C'\n",
    "index_all = index2 | index\n",
    "variant_subset_info_LOF = variant_subset_info[index_all,]\n",
    "variant_subset_geno_LOF = variant_subset_geno[index_all, ]\n",
    "variant_subset_geno_LOF_our_samples = variant_subset_geno_LOF[,as.character(metadata$WGSid)]\n",
    "\n",
    "index = variant_subset_info_LOF$GENE=='ABCA7'\n",
    "variant_subset_info_LOF = variant_subset_info_LOF[index,]\n",
    "variant_subset_geno_LOF_our_samples = variant_subset_geno_LOF_our_samples[index,]\n",
    "\n",
    "write.csv(cbind(variant_subset_info_LOF, variant_subset_geno_LOF_our_samples), '../open_data/synapse/fastq_files/ABCA7lof_variant_info.csv', row.names=FALSE)"
   ]
  },
  {
   "cell_type": "code",
   "execution_count": 179,
   "id": "46088ed1-1bd1-4d1d-a4ad-10b3a21d9d47",
   "metadata": {},
   "outputs": [
    {
     "data": {
      "text/html": [
       "12"
      ],
      "text/latex": [
       "12"
      ],
      "text/markdown": [
       "12"
      ],
      "text/plain": [
       "[1] 12"
      ]
     },
     "metadata": {},
     "output_type": "display_data"
    }
   ],
   "source": [
    "sum(rowSums(variant_subset_geno_LOF_our_samples=='0/1'))"
   ]
  },
  {
   "cell_type": "code",
   "execution_count": 189,
   "id": "adc16ac5-3a30-449a-8c9f-bb5ef9215a03",
   "metadata": {},
   "outputs": [],
   "source": [
    "# format lipidomic sample code\n",
    "data = read.csv('./synapse/lipidomics/lipidomic_sample_code.csv')\n",
    "\n",
    "data$Position <- NULL\n",
    "data$Tube <- NULL\n",
    "data$Tube_plus_brain <- NULL\n",
    "data$Tube_minus_brain <- NULL\n",
    "data$vial_plus_brain <- NULL\n",
    "data$vial_minus_brain <- NULL\n",
    "\n",
    "colnames(data) = c('projid', 'ABCA7LoF', 'SampleID')\n",
    "\n",
    "write.csv(data, '../open_data/synapse/lipidomics/lipidomic_sample_code.csv', row.names=FALSE)"
   ]
  },
  {
   "cell_type": "code",
   "execution_count": 36,
   "id": "c47014dc-f8c1-4750-ab15-ccea0942344f",
   "metadata": {},
   "outputs": [],
   "source": [
    "# collecting data for manifest\n",
    "data = read.csv('./all_files.txt', header = FALSE)\n",
    "colnames(data) = c('path')\n",
    "\n",
    "folders = unlist(lapply(strsplit(as.character(data$path), './synapse/'), function(x) strsplit(x[[2]], '/')[[1]][1]))\n",
    "data$parent = ifelse(folders=='fastq_files', 'syn53468871', ifelse(folders=='lipidomics', 'syn53468872','syn53468873'))\n",
    "                        \n",
    "data$fileFormat = unlist(lapply(strsplit(as.character(data$path), '[.]'), function(x) x[length(x)]))\n",
    "\n",
    "# get sampleIDs\n",
    "IDs = unlist(lapply(strsplit(as.character(data$path), '/'), function(x) ifelse(startsWith(x[4], 'D'), strsplit(x[4], '_')[[1]][1], strsplit(x[4], '_')[[1]][3])))\n",
    "IDs = unlist(lapply(strsplit(IDs, '.raw'), function(x) x[[1]][1]))\n",
    "                    \n",
    "metadata = read.csv('./synapse/fastq_files/individual_metadata_redacted.csv')\n",
    "rownames(metadata) = metadata$projid\n",
    "metadata2 = read.csv('./synapse/lipidomics/lipidomic_sample_code.csv')\n",
    "df2 = as.data.frame(cbind(as.character(metadata2$SampleID), as.character(metadata[as.character(metadata2$projid),'individualID'])))\n",
    "colnames(df2) = c('ID', 'Name')\n",
    "df1 = metadata[,c('sample_id', 'individualID')]\n",
    "colnames(df1) = c('ID', 'Name')\n",
    "rownames(df1) <- NULL\n",
    "\n",
    "code = rbind(df2, df1)\n",
    "rownames(code) = code$ID\n",
    "\n",
    "temp = ifelse(!startsWith(as.character(code$ID), 'D'), strsplit(as.character(code$ID), '[.]'), as.character(code$ID))\n",
    "rownames(code) = unlist(lapply(temp, function(x) paste(x, collapse='')))\n",
    "data$individualID = code[IDs, 'Name']\n",
    "                               \n",
    " \n",
    "# other                            \n",
    "data$specimenID = NA                               \n",
    "data$isMultiSpecimen = ifelse(data$fileFormat=='csv' | data$fileFormat=='txt' | data$fileFormat=='xlsx' | data$fileFormat=='mtx', TRUE, FALSE)\n",
    "data$isModelSystem = FALSE\n",
    "data$consortium = 'CDCP'                                \n",
    "data$study = 'ROSMAP-ABCA7lof'\n",
    "data$grant = NA\n",
    "                                \n",
    "data$assay = ifelse((data$fileFormat=='gz' | data$fileFormat=='mtx'), 'rnaSeq', ifelse((data$fileFormat=='raw' |data$fileFormat=='xlsx'), 'lipidomics', NA))\n",
    "data$resourceType = ifelse(data$fileFormat=='csv' | data$fileFormat=='txt', 'metadata', 'experimentalData')\n",
    "data$dataSubtype = ifelse((data$fileFormat=='gz' | data$fileFormat=='raw'), 'raw', ifelse((data$fileFormat=='xlsx' | data$fileFormat=='mtx' | data$fileFormat=='txt'), 'processed', 'metadata'))\n",
    "                                \n",
    "data$metadataType = NA\n",
    "data$analysisType = NA\n",
    "data$chromosome = NA\n",
    "#data$path = sprintf(\"'%s'\",data$path)\n",
    "                               \n",
    "#write.csv(data, './manifest.csv', row.names=FALSE)\n",
    "                               \n",
    "write.table(data, \"./manifest.txt\", sep=\"\\t\", row.names=FALSE, col.names=TRUE, quote=FALSE)\n"
   ]
  },
  {
   "cell_type": "code",
   "execution_count": 17,
   "id": "d50fc8a3-3b45-4f93-ae95-ebf08fd91323",
   "metadata": {},
   "outputs": [],
   "source": [
    "# format the var info data\n",
    "data = read.csv('./synapse/fastq_files/ABCA7lof_variant_info.csv', check.names=FALSE)\n",
    "data = data[,!colnames(data)%in%c('Var.1', 'ALT_1', 'ALT_2', 'REF_y', 'ALT')]\n",
    "colnames(data)[colnames(data)=='REF_x'] = 'REF'\n",
    "colnames(data)[colnames(data)=='ALT_0'] = 'ALT'\n",
    "write.csv(data, './synapse/fastq_files/ABCA7lof_variant_info.csv', row.names=FALSE)"
   ]
  }
 ],
 "metadata": {
  "kernelspec": {
   "display_name": "R [conda env:.conda-r-env]",
   "language": "R",
   "name": "conda-env-.conda-r-env-r"
  },
  "language_info": {
   "codemirror_mode": "r",
   "file_extension": ".r",
   "mimetype": "text/x-r-source",
   "name": "R",
   "pygments_lexer": "r",
   "version": "3.6.1"
  }
 },
 "nbformat": 4,
 "nbformat_minor": 5
}

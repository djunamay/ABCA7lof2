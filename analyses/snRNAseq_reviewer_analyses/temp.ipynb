{
 "cells": [
  {
   "cell_type": "code",
   "execution_count": 1,
   "metadata": {
    "vscode": {
     "languageId": "r"
    }
   },
   "outputs": [],
   "source": [
    "all_data = readRDS('../../processed_data/stats_input_data_0825.rds')"
   ]
  },
  {
   "cell_type": "code",
   "execution_count": 7,
   "metadata": {
    "vscode": {
     "languageId": "r"
    }
   },
   "outputs": [
    {
     "data": {
      "text/html": [
       "<table class=\"dataframe\">\n",
       "<caption>A matrix: 3 × 6 of type dbl</caption>\n",
       "<thead>\n",
       "\t<tr><th></th><th scope=col>Opc</th><th scope=col>Ast</th><th scope=col>Ex</th><th scope=col>Oli</th><th scope=col>Mic</th><th scope=col>In</th></tr>\n",
       "</thead>\n",
       "<tbody>\n",
       "\t<tr><th scope=row>UCP1</th><td>0.0007874872</td><td>0.0001925763</td><td>0.0006762148</td><td>0.0001815836</td><td>0.0003440436</td><td>0.0006462920</td></tr>\n",
       "\t<tr><th scope=row>UCP2</th><td>0.0039457050</td><td>0.0025105625</td><td>0.0005138112</td><td>0.0032919156</td><td>0.0895561820</td><td>0.0009012416</td></tr>\n",
       "\t<tr><th scope=row>UCP3</th><td>0.0060717446</td><td>0.0062371048</td><td>0.0155395667</td><td>0.0084428446</td><td>0.0079639530</td><td>0.0165231708</td></tr>\n",
       "</tbody>\n",
       "</table>\n"
      ],
      "text/latex": [
       "A matrix: 3 × 6 of type dbl\n",
       "\\begin{tabular}{r|llllll}\n",
       "  & Opc & Ast & Ex & Oli & Mic & In\\\\\n",
       "\\hline\n",
       "\tUCP1 & 0.0007874872 & 0.0001925763 & 0.0006762148 & 0.0001815836 & 0.0003440436 & 0.0006462920\\\\\n",
       "\tUCP2 & 0.0039457050 & 0.0025105625 & 0.0005138112 & 0.0032919156 & 0.0895561820 & 0.0009012416\\\\\n",
       "\tUCP3 & 0.0060717446 & 0.0062371048 & 0.0155395667 & 0.0084428446 & 0.0079639530 & 0.0165231708\\\\\n",
       "\\end{tabular}\n"
      ],
      "text/markdown": [
       "\n",
       "A matrix: 3 × 6 of type dbl\n",
       "\n",
       "| <!--/--> | Opc | Ast | Ex | Oli | Mic | In |\n",
       "|---|---|---|---|---|---|---|\n",
       "| UCP1 | 0.0007874872 | 0.0001925763 | 0.0006762148 | 0.0001815836 | 0.0003440436 | 0.0006462920 |\n",
       "| UCP2 | 0.0039457050 | 0.0025105625 | 0.0005138112 | 0.0032919156 | 0.0895561820 | 0.0009012416 |\n",
       "| UCP3 | 0.0060717446 | 0.0062371048 | 0.0155395667 | 0.0084428446 | 0.0079639530 | 0.0165231708 |\n",
       "\n"
      ],
      "text/plain": [
       "     Opc          Ast          Ex           Oli          Mic         \n",
       "UCP1 0.0007874872 0.0001925763 0.0006762148 0.0001815836 0.0003440436\n",
       "UCP2 0.0039457050 0.0025105625 0.0005138112 0.0032919156 0.0895561820\n",
       "UCP3 0.0060717446 0.0062371048 0.0155395667 0.0084428446 0.0079639530\n",
       "     In          \n",
       "UCP1 0.0006462920\n",
       "UCP2 0.0009012416\n",
       "UCP3 0.0165231708"
      ]
     },
     "metadata": {},
     "output_type": "display_data"
    }
   ],
   "source": [
    "all_data$av_logcounts_by_celltype[grep(\"^UCP\", rownames(all_data$av_logcounts_by_celltype)),]"
   ]
  },
  {
   "cell_type": "code",
   "execution_count": 3,
   "metadata": {
    "vscode": {
     "languageId": "r"
    }
   },
   "outputs": [],
   "source": [
    "write.csv(all_data$av_logcounts_by_ind_full_matrix, '../../processed_data/av_logcounts_by_ind_full_matrix.csv')"
   ]
  },
  {
   "cell_type": "code",
   "execution_count": 3,
   "metadata": {
    "vscode": {
     "languageId": "r"
    }
   },
   "outputs": [],
   "source": [
    "write.csv(all_data$summary, '../../processed_data/summary.csv')"
   ]
  },
  {
   "cell_type": "markdown",
   "metadata": {},
   "source": [
    "## Save all scores to json"
   ]
  },
  {
   "cell_type": "code",
   "execution_count": 8,
   "metadata": {
    "vscode": {
     "languageId": "r"
    }
   },
   "outputs": [],
   "source": [
    "# Load the package\n",
    "library(jsonlite)\n",
    "\n",
    "# Write the list to a JSON file with pretty formatting\n"
   ]
  },
  {
   "cell_type": "code",
   "execution_count": 1,
   "metadata": {
    "vscode": {
     "languageId": "r"
    }
   },
   "outputs": [],
   "source": [
    "all_data = readRDS('../../processed_data/pseudobulk_degs_0825.rds')"
   ]
  },
  {
   "cell_type": "code",
   "execution_count": 11,
   "metadata": {
    "vscode": {
     "languageId": "r"
    }
   },
   "outputs": [],
   "source": [
    "\n",
    "get_deg_scores = function(degs){\n",
    "  # Computes -log10(p-value) * sign(logFC) for each gene per cell type\n",
    "  \n",
    "  # Args:\n",
    "  #   degs: output from RunDiffExprAnalysisLimma()\n",
    "  #\n",
    "  # Returns:\n",
    "  #   A list of gene score vectors per celltype\n",
    "\n",
    "    pseudo_scores = list()\n",
    "    for(i in names(degs)){\n",
    "        curr = degs[[i]]$res\n",
    "        scores = sign(curr$logFC) * -log10(curr$P.Value)\n",
    "        names(scores) = rownames(curr)\n",
    "        scores = scores[order(scores, decreasing = TRUE)]\n",
    "        pseudo_scores[[i]]$scores = scores\n",
    "        pseudo_scores[[i]]$names = names(scores)\n",
    "    }\n",
    "    return(pseudo_scores)\n",
    "}"
   ]
  },
  {
   "cell_type": "code",
   "execution_count": 12,
   "metadata": {
    "vscode": {
     "languageId": "r"
    }
   },
   "outputs": [],
   "source": [
    "write_json(get_deg_scores(all_data$degs_all), path = \"../../processed_data/degs_all.json\", pretty = TRUE)"
   ]
  },
  {
   "cell_type": "code",
   "execution_count": 13,
   "metadata": {
    "vscode": {
     "languageId": "r"
    }
   },
   "outputs": [],
   "source": [
    "write_json(get_deg_scores(all_data$degs_JBM), path = \"../../processed_data/degs_JBM.json\", pretty = TRUE)"
   ]
  },
  {
   "cell_type": "code",
   "execution_count": 15,
   "metadata": {
    "vscode": {
     "languageId": "r"
    }
   },
   "outputs": [],
   "source": [
    "df = readRDS('../../processed_data/PanglaoDB.by.organ.by.celltype.rds')\n",
    "df = df$Brain"
   ]
  },
  {
   "cell_type": "code",
   "execution_count": 17,
   "metadata": {
    "vscode": {
     "languageId": "r"
    }
   },
   "outputs": [
    {
     "data": {
      "text/html": [
       "<ol>\n",
       "</ol>\n"
      ],
      "text/latex": [
       "\\begin{enumerate}\n",
       "\\end{enumerate}\n"
      ],
      "text/markdown": [
       "\n",
       "\n"
      ],
      "text/plain": [
       "list()"
      ]
     },
     "metadata": {},
     "output_type": "display_data"
    }
   ],
   "source": [
    "intersect(df$Astrocytes, df['Glutaminergic neurons'])"
   ]
  },
  {
   "cell_type": "code",
   "execution_count": 34,
   "metadata": {
    "vscode": {
     "languageId": "r"
    }
   },
   "outputs": [
    {
     "data": {
      "text/html": [
       "<style>\n",
       ".list-inline {list-style: none; margin:0; padding: 0}\n",
       ".list-inline>li {display: inline-block}\n",
       ".list-inline>li:not(:last-child)::after {content: \"\\00b7\"; padding: 0 .5ex}\n",
       "</style>\n",
       "<ol class=list-inline><li>'SLC1A2'</li><li>'SLC1A6'</li></ol>\n"
      ],
      "text/latex": [
       "\\begin{enumerate*}\n",
       "\\item 'SLC1A2'\n",
       "\\item 'SLC1A6'\n",
       "\\end{enumerate*}\n"
      ],
      "text/markdown": [
       "1. 'SLC1A2'\n",
       "2. 'SLC1A6'\n",
       "\n",
       "\n"
      ],
      "text/plain": [
       "[1] \"SLC1A2\" \"SLC1A6\""
      ]
     },
     "metadata": {},
     "output_type": "display_data"
    }
   ],
   "source": [
    "intersect(df[['Glutaminergic neurons']], df$Astrocytes)"
   ]
  },
  {
   "cell_type": "code",
   "execution_count": 36,
   "metadata": {
    "vscode": {
     "languageId": "r"
    }
   },
   "outputs": [
    {
     "data": {
      "text/html": [
       "63"
      ],
      "text/latex": [
       "63"
      ],
      "text/markdown": [
       "63"
      ],
      "text/plain": [
       "[1] 63"
      ]
     },
     "metadata": {},
     "output_type": "display_data"
    }
   ],
   "source": [
    "length(df$Astrocytes)"
   ]
  },
  {
   "cell_type": "code",
   "execution_count": 35,
   "metadata": {
    "vscode": {
     "languageId": "r"
    }
   },
   "outputs": [
    {
     "data": {
      "text/html": [
       "10"
      ],
      "text/latex": [
       "10"
      ],
      "text/markdown": [
       "10"
      ],
      "text/plain": [
       "[1] 10"
      ]
     },
     "metadata": {},
     "output_type": "display_data"
    }
   ],
   "source": [
    "length(df[['Glutaminergic neurons']])"
   ]
  },
  {
   "cell_type": "code",
   "execution_count": 20,
   "metadata": {
    "vscode": {
     "languageId": "r"
    }
   },
   "outputs": [],
   "source": [
    "all_data = readRDS('../../processed_data/stats_input_data_0825.rds')"
   ]
  },
  {
   "cell_type": "code",
   "execution_count": 26,
   "metadata": {
    "vscode": {
     "languageId": "r"
    }
   },
   "outputs": [],
   "source": [
    "data = all_data$av_logcounts_by_celltype[df[['Glutaminergic neurons']],]\n"
   ]
  },
  {
   "cell_type": "code",
   "execution_count": 32,
   "metadata": {
    "vscode": {
     "languageId": "r"
    }
   },
   "outputs": [
    {
     "data": {
      "text/html": [
       "<table class=\"dataframe\">\n",
       "<caption>A data.frame: 10 × 1</caption>\n",
       "<thead>\n",
       "\t<tr><th></th><th scope=col>sort(data[, \"Ast\"])</th></tr>\n",
       "\t<tr><th></th><th scope=col>&lt;dbl&gt;</th></tr>\n",
       "</thead>\n",
       "<tbody>\n",
       "\t<tr><th scope=row>SLC17A8</th><td>0.0004693756</td></tr>\n",
       "\t<tr><th scope=row>SLC17A6</th><td>0.0021647037</td></tr>\n",
       "\t<tr><th scope=row>SLC1A6</th><td>0.0029908622</td></tr>\n",
       "\t<tr><th scope=row>SLC1A1</th><td>0.0149194016</td></tr>\n",
       "\t<tr><th scope=row>SLC17A7</th><td>0.0367293820</td></tr>\n",
       "\t<tr><th scope=row>GRIN2B</th><td>0.0445126493</td></tr>\n",
       "\t<tr><th scope=row>GRIN1</th><td>0.0918175627</td></tr>\n",
       "\t<tr><th scope=row>GLS</th><td>0.2580211127</td></tr>\n",
       "\t<tr><th scope=row>MEIS2</th><td>1.4904788901</td></tr>\n",
       "\t<tr><th scope=row>SLC1A2</th><td>3.3225087251</td></tr>\n",
       "</tbody>\n",
       "</table>\n"
      ],
      "text/latex": [
       "A data.frame: 10 × 1\n",
       "\\begin{tabular}{r|l}\n",
       "  & sort(data{[}, \"Ast\"{]})\\\\\n",
       "  & <dbl>\\\\\n",
       "\\hline\n",
       "\tSLC17A8 & 0.0004693756\\\\\n",
       "\tSLC17A6 & 0.0021647037\\\\\n",
       "\tSLC1A6 & 0.0029908622\\\\\n",
       "\tSLC1A1 & 0.0149194016\\\\\n",
       "\tSLC17A7 & 0.0367293820\\\\\n",
       "\tGRIN2B & 0.0445126493\\\\\n",
       "\tGRIN1 & 0.0918175627\\\\\n",
       "\tGLS & 0.2580211127\\\\\n",
       "\tMEIS2 & 1.4904788901\\\\\n",
       "\tSLC1A2 & 3.3225087251\\\\\n",
       "\\end{tabular}\n"
      ],
      "text/markdown": [
       "\n",
       "A data.frame: 10 × 1\n",
       "\n",
       "| <!--/--> | sort(data[, \"Ast\"]) &lt;dbl&gt; |\n",
       "|---|---|\n",
       "| SLC17A8 | 0.0004693756 |\n",
       "| SLC17A6 | 0.0021647037 |\n",
       "| SLC1A6 | 0.0029908622 |\n",
       "| SLC1A1 | 0.0149194016 |\n",
       "| SLC17A7 | 0.0367293820 |\n",
       "| GRIN2B | 0.0445126493 |\n",
       "| GRIN1 | 0.0918175627 |\n",
       "| GLS | 0.2580211127 |\n",
       "| MEIS2 | 1.4904788901 |\n",
       "| SLC1A2 | 3.3225087251 |\n",
       "\n"
      ],
      "text/plain": [
       "        sort(data[, \"Ast\"])\n",
       "SLC17A8 0.0004693756       \n",
       "SLC17A6 0.0021647037       \n",
       "SLC1A6  0.0029908622       \n",
       "SLC1A1  0.0149194016       \n",
       "SLC17A7 0.0367293820       \n",
       "GRIN2B  0.0445126493       \n",
       "GRIN1   0.0918175627       \n",
       "GLS     0.2580211127       \n",
       "MEIS2   1.4904788901       \n",
       "SLC1A2  3.3225087251       "
      ]
     },
     "metadata": {},
     "output_type": "display_data"
    }
   ],
   "source": [
    "as.data.frame(sort(data[,'Ast']))"
   ]
  },
  {
   "cell_type": "code",
   "execution_count": 18,
   "metadata": {
    "vscode": {
     "languageId": "r"
    }
   },
   "outputs": [
    {
     "data": {
      "text/html": [
       "<style>\n",
       ".list-inline {list-style: none; margin:0; padding: 0}\n",
       ".list-inline>li {display: inline-block}\n",
       ".list-inline>li:not(:last-child)::after {content: \"\\00b7\"; padding: 0 .5ex}\n",
       "</style>\n",
       "<ol class=list-inline><li>'S100B'</li><li>'SLC1A2'</li><li>'GFAP'</li><li>'BYSL'</li><li>'ALDH1L1'</li><li>'CD40'</li><li>'SLC1A3'</li><li>'FGFR3'</li><li>'GJB6'</li><li>'AQP4'</li><li>'HTRA1'</li><li>'S100A8'</li><li>'CLDN10'</li><li>'ITIH3'</li><li>'NKAIN4'</li><li>'ACSL6'</li><li>'ACSBG1'</li><li>'TRIL'</li><li>'AGT'</li><li>'GPR37L1'</li><li>'SLC4A4'</li><li>'NTSR2'</li><li>'SLC6A11'</li><li>'HSPA2'</li><li>'SLC16A2'</li><li>'SYNE1'</li><li>'DIO2'</li><li>'SLC7A10'</li><li>'ENTPD2'</li><li>'HSPB6'</li><li>'PLXNB1'</li><li>'LCAT'</li><li>'PLA2G7'</li><li>'CMTM5'</li><li>'S1PR1'</li><li>'SLC39A12'</li><li>'LUZP2'</li><li>'GSTA4'</li><li>'SLC25A28'</li><li>'SLC25A46'</li><li>'WNT3'</li><li>'FZD2'</li><li>'TEAD1'</li><li>'RLBP1'</li><li>'ALDOC'</li><li>'GJA1'</li><li>'APOE'</li><li>'LCN2'</li><li>'SOX9'</li><li>'VIM'</li><li>'CCR7'</li><li>'AANAT'</li><li>'FABP7'</li><li>'SOCS3'</li><li>'SYNM'</li><li>'HMG20A'</li><li>'NFATC3'</li><li>'SRR'</li><li>'SLC1A6'</li><li>'ETS1'</li><li>'SLIT1'</li><li>'SNPH'</li><li>'IL23A'</li></ol>\n"
      ],
      "text/latex": [
       "\\begin{enumerate*}\n",
       "\\item 'S100B'\n",
       "\\item 'SLC1A2'\n",
       "\\item 'GFAP'\n",
       "\\item 'BYSL'\n",
       "\\item 'ALDH1L1'\n",
       "\\item 'CD40'\n",
       "\\item 'SLC1A3'\n",
       "\\item 'FGFR3'\n",
       "\\item 'GJB6'\n",
       "\\item 'AQP4'\n",
       "\\item 'HTRA1'\n",
       "\\item 'S100A8'\n",
       "\\item 'CLDN10'\n",
       "\\item 'ITIH3'\n",
       "\\item 'NKAIN4'\n",
       "\\item 'ACSL6'\n",
       "\\item 'ACSBG1'\n",
       "\\item 'TRIL'\n",
       "\\item 'AGT'\n",
       "\\item 'GPR37L1'\n",
       "\\item 'SLC4A4'\n",
       "\\item 'NTSR2'\n",
       "\\item 'SLC6A11'\n",
       "\\item 'HSPA2'\n",
       "\\item 'SLC16A2'\n",
       "\\item 'SYNE1'\n",
       "\\item 'DIO2'\n",
       "\\item 'SLC7A10'\n",
       "\\item 'ENTPD2'\n",
       "\\item 'HSPB6'\n",
       "\\item 'PLXNB1'\n",
       "\\item 'LCAT'\n",
       "\\item 'PLA2G7'\n",
       "\\item 'CMTM5'\n",
       "\\item 'S1PR1'\n",
       "\\item 'SLC39A12'\n",
       "\\item 'LUZP2'\n",
       "\\item 'GSTA4'\n",
       "\\item 'SLC25A28'\n",
       "\\item 'SLC25A46'\n",
       "\\item 'WNT3'\n",
       "\\item 'FZD2'\n",
       "\\item 'TEAD1'\n",
       "\\item 'RLBP1'\n",
       "\\item 'ALDOC'\n",
       "\\item 'GJA1'\n",
       "\\item 'APOE'\n",
       "\\item 'LCN2'\n",
       "\\item 'SOX9'\n",
       "\\item 'VIM'\n",
       "\\item 'CCR7'\n",
       "\\item 'AANAT'\n",
       "\\item 'FABP7'\n",
       "\\item 'SOCS3'\n",
       "\\item 'SYNM'\n",
       "\\item 'HMG20A'\n",
       "\\item 'NFATC3'\n",
       "\\item 'SRR'\n",
       "\\item 'SLC1A6'\n",
       "\\item 'ETS1'\n",
       "\\item 'SLIT1'\n",
       "\\item 'SNPH'\n",
       "\\item 'IL23A'\n",
       "\\end{enumerate*}\n"
      ],
      "text/markdown": [
       "1. 'S100B'\n",
       "2. 'SLC1A2'\n",
       "3. 'GFAP'\n",
       "4. 'BYSL'\n",
       "5. 'ALDH1L1'\n",
       "6. 'CD40'\n",
       "7. 'SLC1A3'\n",
       "8. 'FGFR3'\n",
       "9. 'GJB6'\n",
       "10. 'AQP4'\n",
       "11. 'HTRA1'\n",
       "12. 'S100A8'\n",
       "13. 'CLDN10'\n",
       "14. 'ITIH3'\n",
       "15. 'NKAIN4'\n",
       "16. 'ACSL6'\n",
       "17. 'ACSBG1'\n",
       "18. 'TRIL'\n",
       "19. 'AGT'\n",
       "20. 'GPR37L1'\n",
       "21. 'SLC4A4'\n",
       "22. 'NTSR2'\n",
       "23. 'SLC6A11'\n",
       "24. 'HSPA2'\n",
       "25. 'SLC16A2'\n",
       "26. 'SYNE1'\n",
       "27. 'DIO2'\n",
       "28. 'SLC7A10'\n",
       "29. 'ENTPD2'\n",
       "30. 'HSPB6'\n",
       "31. 'PLXNB1'\n",
       "32. 'LCAT'\n",
       "33. 'PLA2G7'\n",
       "34. 'CMTM5'\n",
       "35. 'S1PR1'\n",
       "36. 'SLC39A12'\n",
       "37. 'LUZP2'\n",
       "38. 'GSTA4'\n",
       "39. 'SLC25A28'\n",
       "40. 'SLC25A46'\n",
       "41. 'WNT3'\n",
       "42. 'FZD2'\n",
       "43. 'TEAD1'\n",
       "44. 'RLBP1'\n",
       "45. 'ALDOC'\n",
       "46. 'GJA1'\n",
       "47. 'APOE'\n",
       "48. 'LCN2'\n",
       "49. 'SOX9'\n",
       "50. 'VIM'\n",
       "51. 'CCR7'\n",
       "52. 'AANAT'\n",
       "53. 'FABP7'\n",
       "54. 'SOCS3'\n",
       "55. 'SYNM'\n",
       "56. 'HMG20A'\n",
       "57. 'NFATC3'\n",
       "58. 'SRR'\n",
       "59. 'SLC1A6'\n",
       "60. 'ETS1'\n",
       "61. 'SLIT1'\n",
       "62. 'SNPH'\n",
       "63. 'IL23A'\n",
       "\n",
       "\n"
      ],
      "text/plain": [
       " [1] \"S100B\"    \"SLC1A2\"   \"GFAP\"     \"BYSL\"     \"ALDH1L1\"  \"CD40\"    \n",
       " [7] \"SLC1A3\"   \"FGFR3\"    \"GJB6\"     \"AQP4\"     \"HTRA1\"    \"S100A8\"  \n",
       "[13] \"CLDN10\"   \"ITIH3\"    \"NKAIN4\"   \"ACSL6\"    \"ACSBG1\"   \"TRIL\"    \n",
       "[19] \"AGT\"      \"GPR37L1\"  \"SLC4A4\"   \"NTSR2\"    \"SLC6A11\"  \"HSPA2\"   \n",
       "[25] \"SLC16A2\"  \"SYNE1\"    \"DIO2\"     \"SLC7A10\"  \"ENTPD2\"   \"HSPB6\"   \n",
       "[31] \"PLXNB1\"   \"LCAT\"     \"PLA2G7\"   \"CMTM5\"    \"S1PR1\"    \"SLC39A12\"\n",
       "[37] \"LUZP2\"    \"GSTA4\"    \"SLC25A28\" \"SLC25A46\" \"WNT3\"     \"FZD2\"    \n",
       "[43] \"TEAD1\"    \"RLBP1\"    \"ALDOC\"    \"GJA1\"     \"APOE\"     \"LCN2\"    \n",
       "[49] \"SOX9\"     \"VIM\"      \"CCR7\"     \"AANAT\"    \"FABP7\"    \"SOCS3\"   \n",
       "[55] \"SYNM\"     \"HMG20A\"   \"NFATC3\"   \"SRR\"      \"SLC1A6\"   \"ETS1\"    \n",
       "[61] \"SLIT1\"    \"SNPH\"     \"IL23A\"   "
      ]
     },
     "metadata": {},
     "output_type": "display_data"
    }
   ],
   "source": [
    "df$Astrocytes"
   ]
  },
  {
   "cell_type": "markdown",
   "metadata": {},
   "source": [
    "df = readRDS('./raw_data/genesets/PanglaoDB.by.organ.by.celltype.rds')\n",
    "df = df$Brain\n",
    "df = lapply(df, function(x) x[x%in%rownames(out2)])\n",
    "            \n",
    "out2 = all_data$av_logcounts_by_celltype\n",
    "o = lapply(names(df), function(x) colMeans((out2[df[[x]],])))\n",
    "           \n",
    "temp2 = as.data.frame(do.call('rbind', o))\n",
    "rownames(temp2) = names(df)\n",
    "temp2 = temp2[rownames(temp2)%in%c('Pyramidal cells', 'Neurons','Glutaminergic neurons', 'GABAergic neurons', 'Astrocytes', 'Oligodendrocytes', 'Microglia',  'Oligodendrocyte progenitor cells'),]\n",
    "N = c('Neurons', 'Pyramidal cells', 'Glutaminergic neurons','GABAergic neurons', 'Astrocytes', 'Microglia', 'Oligodendrocytes', 'Oligodendrocyte progenitor cells')\n",
    "temp2 = temp2[(N),c('Ex', 'In', 'Ast', 'Mic', 'Oli', 'Opc')]"
   ]
  }
 ],
 "metadata": {
  "kernelspec": {
   "display_name": "R",
   "language": "R",
   "name": "ir"
  },
  "language_info": {
   "codemirror_mode": "r",
   "file_extension": ".r",
   "mimetype": "text/x-r-source",
   "name": "R",
   "pygments_lexer": "r",
   "version": "4.4.2"
  }
 },
 "nbformat": 4,
 "nbformat_minor": 2
}

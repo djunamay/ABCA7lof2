{
 "cells": [
  {
   "cell_type": "code",
   "execution_count": 17,
   "id": "9278ec8a-aa99-4547-b7f4-33f8e9f6042b",
   "metadata": {
    "tags": []
   },
   "outputs": [],
   "source": [
    "library(edgeR)\n",
    "library(sva)\n",
    "library(fgsea)\n",
    "library(tidyr)\n",
    "source('./ABCA7lof2//degs.r')"
   ]
  },
  {
   "cell_type": "code",
   "execution_count": 2,
   "id": "20b7f287-4a15-4660-aff9-9378eff2523f",
   "metadata": {},
   "outputs": [],
   "source": [
    "all_data = readRDS('./processed_data/single_cell/stats_input_data.rds')"
   ]
  },
  {
   "cell_type": "code",
   "execution_count": 21,
   "id": "16f02950-bee9-46f9-ba6f-a5353b4f6998",
   "metadata": {},
   "outputs": [],
   "source": [
    "summed_counts = all_data$summed_counts_by_ind # does it make sense to be summing on the counts vs taking the mean of the counts? --> compare to nebula? --> ok because we are normalizing?\n",
    "meta = all_data$summary\n",
    "meta$seq_batch = ifelse(meta$seq_batch=='JBM',1,0)\n",
    "expressed = all_data$expressed10"
   ]
  },
  {
   "cell_type": "code",
   "execution_count": 22,
   "id": "85c0bbcf-5eac-4ee3-820d-82c267fe1247",
   "metadata": {},
   "outputs": [],
   "source": [
    "# filter out individuals with too few cells per celltype\n",
    "keep = summed_counts$ncells>20\n",
    "summed_counts_indexed = summed_counts$summed_counts[,keep]"
   ]
  },
  {
   "cell_type": "code",
   "execution_count": 23,
   "id": "48f38d7b-3b10-4976-902f-c9e2b9533164",
   "metadata": {},
   "outputs": [
    {
     "name": "stdout",
     "output_type": "stream",
     "text": [
      "Number of significant surrogate variables is:  9 \n",
      "Iteration (out of 5 ):1  2  3  4  5  Number of significant surrogate variables is:  8 \n",
      "Iteration (out of 5 ):1  2  3  4  5  Number of significant surrogate variables is:  8 \n",
      "Iteration (out of 5 ):1  2  3  4  5  Number of significant surrogate variables is:  8 \n",
      "Iteration (out of 5 ):1  2  3  4  5  Number of significant surrogate variables is:  9 \n",
      "Iteration (out of 5 ):1  2  3  4  5  Number of significant surrogate variables is:  7 \n",
      "Iteration (out of 5 ):1  2  3  4  5  "
     ]
    }
   ],
   "source": [
    "# compute degs (all samples)\n",
    "vars = c('LOF', 'amyloid', 'nft',  'msex', 'age_death', 'pmi', 'seq_batch', 'APOE4')\n",
    "limma_inputs = get_limma_inputs(summed_counts_indexed, expressed, meta, vars)\n",
    "aggs = limma_inputs$aggs\n",
    "metadata = limma_inputs$metadata\n",
    "\n",
    "\n",
    "degs_all = lapply(names(aggs)[!names(aggs)%in%c('Vascular')], function(x) RunDiffExprAnalysisLimma(aggs[[x]], metadata[[x]], n.sv=NULL))\n",
    "names(degs_all) = names(aggs)[!names(aggs)%in%c('Vascular')]"
   ]
  },
  {
   "cell_type": "code",
   "execution_count": 24,
   "id": "3dfb9905-66b4-4922-a81a-700aa421fa81",
   "metadata": {},
   "outputs": [],
   "source": [
    "# get the ids\n",
    "ids = strsplit(colnames(summed_counts_indexed), '[.]')\n",
    "ids = unlist(lapply(1:length(ids), function(x) ids[[x]][2]))"
   ]
  },
  {
   "cell_type": "code",
   "execution_count": 25,
   "id": "262fbf0a-02c3-417d-85b9-b6e0f5ef554a",
   "metadata": {},
   "outputs": [
    {
     "name": "stdout",
     "output_type": "stream",
     "text": [
      "Number of significant surrogate variables is:  6 \n",
      "Iteration (out of 5 ):1  2  3  4  5  Number of significant surrogate variables is:  5 \n",
      "Iteration (out of 5 ):1  2  3  4  5  Number of significant surrogate variables is:  6 \n",
      "Iteration (out of 5 ):1  2  3  4  5  Number of significant surrogate variables is:  5 \n",
      "Iteration (out of 5 ):1  2  3  4  5  Number of significant surrogate variables is:  4 \n",
      "Iteration (out of 5 ):1  2  3  4  5  Number of significant surrogate variables is:  3 \n",
      "Iteration (out of 5 ):1  2  3  4  5  "
     ]
    }
   ],
   "source": [
    "# compute degs (no APOE4 samples)\n",
    "vars = c('LOF', 'amyloid', 'nft',  'msex', 'age_death', 'pmi', 'seq_batch')\n",
    "sele = rownames(meta)[meta$APOE4==0]\n",
    "sc_noAPOE4 = summed_counts_indexed[,ids%in%sele]\n",
    "limma_inputs = get_limma_inputs(sc_noAPOE4, expressed, meta[sele,], vars)\n",
    "aggs = limma_inputs$aggs\n",
    "metadata = limma_inputs$metadata\n",
    "degs_noAPOE4 = lapply(names(aggs)[!names(aggs)%in%c('Vascular')], function(x) RunDiffExprAnalysisLimma(aggs[[x]], metadata[[x]], n.sv=NULL, exclude_apoe=TRUE))\n",
    "names(degs_noAPOE4) = names(aggs)[!names(aggs)%in%c('Vascular')]\n"
   ]
  },
  {
   "cell_type": "code",
   "execution_count": 26,
   "id": "9fb2f2a5-2706-4811-b79d-2f3927497fd2",
   "metadata": {},
   "outputs": [
    {
     "name": "stdout",
     "output_type": "stream",
     "text": [
      "Number of significant surrogate variables is:  4 \n",
      "Iteration (out of 5 ):1  2  3  4  5  Number of significant surrogate variables is:  4 \n",
      "Iteration (out of 5 ):1  2  3  4  5  Number of significant surrogate variables is:  4 \n",
      "Iteration (out of 5 ):1  2  3  4  5  Number of significant surrogate variables is:  4 \n",
      "Iteration (out of 5 ):1  2  3  4  5  Number of significant surrogate variables is:  4 \n",
      "Iteration (out of 5 ):1  2  3  4  5  Number of significant surrogate variables is:  4 \n",
      "Iteration (out of 5 ):1  2  3  4  5  "
     ]
    }
   ],
   "source": [
    "# compute degs (no APOE4 samples)\n",
    "vars = c('LOF', 'amyloid', 'nft',  'msex', 'age_death', 'pmi', 'APOE4')\n",
    "sele = rownames(meta)[meta$seq_batch==1]\n",
    "sc_JBM = summed_counts_indexed[,ids%in%sele]\n",
    "limma_inputs = get_limma_inputs(sc_JBM, expressed, meta[sele,], vars)\n",
    "aggs = limma_inputs$aggs\n",
    "metadata = limma_inputs$metadata\n",
    "degs_JBM = lapply(names(aggs)[!names(aggs)%in%c('Vascular')], function(x) RunDiffExprAnalysisLimma(aggs[[x]], metadata[[x]], n.sv=NULL, exclude_batch=TRUE))\n",
    "names(degs_JBM) = names(aggs)[!names(aggs)%in%c('Vascular')]"
   ]
  },
  {
   "cell_type": "code",
   "execution_count": 27,
   "id": "5a562439-f63a-425a-b830-d3ccab407148",
   "metadata": {},
   "outputs": [
    {
     "name": "stdout",
     "output_type": "stream",
     "text": [
      "Number of significant surrogate variables is:  4 \n",
      "Iteration (out of 5 ):1  2  3  4  5  Number of significant surrogate variables is:  3 \n",
      "Iteration (out of 5 ):1  2  3  4  5  Number of significant surrogate variables is:  3 \n",
      "Iteration (out of 5 ):1  2  3  4  5  Number of significant surrogate variables is:  3 \n",
      "Iteration (out of 5 ):1  2  3  4  5  Number of significant surrogate variables is:  4 \n",
      "Iteration (out of 5 ):1  2  3  4  5  Number of significant surrogate variables is:  2 \n",
      "Iteration (out of 5 ):1  2  3  4  5  "
     ]
    }
   ],
   "source": [
    "# exclude both\n",
    "vars = c('LOF', 'amyloid', 'nft',  'msex', 'age_death', 'pmi')\n",
    "sele = rownames(meta)[(meta$seq_batch==1) & (meta$APOE4==0)]\n",
    "sc_exclude_both = summed_counts_indexed[,ids%in%sele]\n",
    "limma_inputs = get_limma_inputs(sc_exclude_both, expressed, meta[sele,], vars)\n",
    "aggs = limma_inputs$aggs\n",
    "metadata = limma_inputs$metadata\n",
    "degs_exclude_both = lapply(names(aggs)[!names(aggs)%in%c('Vascular')], function(x) RunDiffExprAnalysisLimma(aggs[[x]], metadata[[x]], n.sv=NULL, exclude_both=TRUE))\n",
    "names(degs_exclude_both) = names(aggs)[!names(aggs)%in%c('Vascular')]"
   ]
  },
  {
   "cell_type": "code",
   "execution_count": 28,
   "id": "239c315f-3f48-4b88-98eb-8626c798b002",
   "metadata": {},
   "outputs": [],
   "source": [
    "# save the results\n",
    "degs = list()\n",
    "degs[['degs_all']] = degs_all\n",
    "degs[['degs_exclude_both']] = degs_exclude_both\n",
    "degs[['degs_JBM']] = degs_JBM\n",
    "degs[['degs_noAPOE4']] = degs_noAPOE4\n",
    "\n",
    "saveRDS(degs, './processed_data/single_cell/pseudobulk_degs.rds')"
   ]
  },
  {
   "cell_type": "code",
   "execution_count": 85,
   "id": "a9a5f6d4-41e8-43d4-a5c1-106c8e8e9a13",
   "metadata": {},
   "outputs": [],
   "source": [
    "# save deg scores as matrix\n",
    "out = list()\n",
    "scores = get_deg_scores(degs)\n",
    "for(i in names(scores)){\n",
    "    df = as.data.frame(scores[[i]]$scores)\n",
    "    colnames(df) = c('score')\n",
    "    df$gene = rownames(df)\n",
    "    df$celltype = i\n",
    "    out[[i]] = df\n",
    "}\n",
    "all_scores = as.data.frame(do.call('rbind', out)%>%pivot_wider(., values_from='score', names_from='celltype'))\n",
    "rownames(all_scores) = all_scores$gene\n",
    "all_scores$gene = NULL\n",
    "all_scores[is.na(all_scores)] = 0\n",
    "write.csv(all_scores, './processed_data/single_cell/all_scores.csv')"
   ]
  },
  {
   "cell_type": "code",
   "execution_count": 37,
   "id": "f65d1366-d18b-4e59-9d23-03d16c9c909e",
   "metadata": {},
   "outputs": [],
   "source": [
    "# load degs\n",
    "degs = readRDS('./processed_data/single_cell/pseudobulk_degs.rds')$degs_all\n",
    "scores = get_deg_scores(degs)"
   ]
  },
  {
   "cell_type": "code",
   "execution_count": 38,
   "id": "9b4d7dbc-23bd-47ae-88cb-13845559fed1",
   "metadata": {},
   "outputs": [],
   "source": [
    "all_paths = read.csv('./processed_data/genesets/all_paths.csv', row.names = 'X')\n",
    "pathways = as.list(as.data.frame(t(all_paths)))\n",
    "temp = lapply(names(pathways), function(x) pathways[[x]][!(pathways[[x]]=='')])\n",
    "names(temp) = names(pathways)"
   ]
  },
  {
   "cell_type": "code",
   "execution_count": 39,
   "id": "4336db22-b44d-4876-8e02-5b0b05382502",
   "metadata": {},
   "outputs": [],
   "source": [
    "get_gset_names_by_category = function(cat, gsets){\n",
    "  gset = unlist(lapply(gsets, function(x) unlist(sum(sapply(cat, grepl, x))>0)))\n",
    "  gset = (gsets[gset])\n",
    "  return(gset)\n",
    "}"
   ]
  },
  {
   "cell_type": "code",
   "execution_count": 47,
   "id": "ecaea937-b04b-46d2-90bc-d163170f24c2",
   "metadata": {},
   "outputs": [],
   "source": [
    "pathways = readRDS('../ABCA7lof/processed_data/pathway_databases/pathways.rds')$all_paths\n",
    "o = get_gset_names_by_category(c('sterol', 'lipid', 'glycer', 'fatt', 'ceramide', 'phosphatidyl'), names(pathways))\n",
    "temp2 = pathways[o]\n",
    "out = lapply(names(scores), function(x) cbind(x, fgsea(pathways = temp2, stats = scores[[x]]$scores, minSize = 5, maxSize = 1000)))\n",
    "names(out) = names(scores)"
   ]
  },
  {
   "cell_type": "code",
   "execution_count": 55,
   "id": "d84b7b88-c0a5-4606-bbcf-63f1b9441e27",
   "metadata": {},
   "outputs": [],
   "source": [
    "res = out$Ex\n",
    "res = res[order(res$pval,decreasing=FALSE),]\n",
    "res = res[res$pval<0.05,]\n",
    "saveRDS(res, './processed_data/for_plotting/fgsea_out_ex_lipid.rds')"
   ]
  },
  {
   "cell_type": "code",
   "execution_count": 89,
   "id": "6ab9b803-2634-45af-86bc-b7886b9e5f68",
   "metadata": {},
   "outputs": [],
   "source": [
    "# pathways = readRDS('../ABCA7lof/processed_data/pathway_databases/pathways.rds')\n",
    "# temp2 = pathways$kegg"
   ]
  },
  {
   "cell_type": "code",
   "execution_count": 4,
   "id": "5b025d68-efa5-4ab7-ab80-859e5ec92bc8",
   "metadata": {},
   "outputs": [],
   "source": [
    "out = lapply(names(scores), function(x) cbind(x, fgsea(pathways = temp, stats = scores[[x]]$scores, minSize = 5, maxSize = 1000)))\n",
    "names(out) = names(scores)"
   ]
  },
  {
   "cell_type": "code",
   "execution_count": 6,
   "id": "62978586-fcfb-421b-be70-1255a79b9d45",
   "metadata": {},
   "outputs": [],
   "source": [
    "# res = do.call('rbind', out)\n",
    "# res$score = sign(res$NES) * -log10(res$pval)\n",
    "# res = res[res$x=='Ex',]\n",
    "# res = res[order(res$pval,decreasing=FALSE),]\n",
    "# res = res[res$pval<0.05,]\n"
   ]
  },
  {
   "cell_type": "code",
   "execution_count": 5,
   "id": "548da68c-73ef-408a-80b1-11913384eccb",
   "metadata": {},
   "outputs": [],
   "source": [
    "# save all fgsea results\n",
    "df = as.data.frame(do.call('rbind', out))\n",
    "df = df[,!colnames(df)=='leadingEdge']\n",
    "write.csv(df, './processed_data/for_plotting/fgsea_out.csv')"
   ]
  },
  {
   "cell_type": "code",
   "execution_count": 7,
   "id": "926062b3-f7b3-43b2-b789-4c02fd7a1cd6",
   "metadata": {},
   "outputs": [],
   "source": [
    "res = do.call('rbind', out)\n",
    "res$score = sign(res$NES) * -log10(res$pval)\n",
    "res = res[order(res$pval,decreasing=FALSE),]\n",
    "res = res[res$pval<0.05,]\n",
    "# save all leading edge genes\n",
    "df = as.data.frame(unique(unname(unlist(res$leadingEdge))))\n",
    "colnames(df) = 'gene'\n",
    "write.csv(df, './processed_data/for_plotting/leading_edge.csv')"
   ]
  },
  {
   "cell_type": "code",
   "execution_count": 10,
   "id": "b06e50ed-ade6-4426-8a2f-f4f846700737",
   "metadata": {},
   "outputs": [],
   "source": [
    "# save Ex leading edge genes\n",
    "for(i in names(out)){\n",
    "    res = out[[i]]\n",
    "    res = res[res$pval<0.05,]\n",
    "\n",
    "    df = as.data.frame(unique(unname(unlist(res$leadingEdge))))\n",
    "    colnames(df) = 'gene'\n",
    "    write.csv(df, paste0(paste0('./processed_data/for_plotting/leading_edge_', i), '.csv'))\n",
    "}"
   ]
  },
  {
   "cell_type": "code",
   "execution_count": 16,
   "id": "cfbdca7e-063c-4991-8507-43dfb2c0bfd0",
   "metadata": {},
   "outputs": [
    {
     "data": {
      "text/html": [
       "<table class=\"dataframe\">\n",
       "<caption>A data.table: 17 × 9</caption>\n",
       "<thead>\n",
       "\t<tr><th scope=col>x</th><th scope=col>pathway</th><th scope=col>pval</th><th scope=col>padj</th><th scope=col>log2err</th><th scope=col>ES</th><th scope=col>NES</th><th scope=col>size</th><th scope=col>leadingEdge</th></tr>\n",
       "\t<tr><th scope=col>&lt;chr&gt;</th><th scope=col>&lt;chr&gt;</th><th scope=col>&lt;dbl&gt;</th><th scope=col>&lt;dbl&gt;</th><th scope=col>&lt;dbl&gt;</th><th scope=col>&lt;dbl&gt;</th><th scope=col>&lt;dbl&gt;</th><th scope=col>&lt;int&gt;</th><th scope=col>&lt;list&gt;</th></tr>\n",
       "</thead>\n",
       "<tbody>\n",
       "\t<tr><td>Opc</td><td>Aryl Hydrocarbon Receptor Pathway WP2873                             </td><td>0.002572431</td><td>0.6554441</td><td>0.4317077</td><td>-0.7207746</td><td>-1.837274</td><td>14</td><td>PTGES3, ....</td></tr>\n",
       "\t<tr><td>Opc</td><td>ncRNAs involved in STAT3 signaling in hepatocellular carcinoma WP4337</td><td>0.005053618</td><td>0.6554441</td><td>0.4070179</td><td> 0.8148782</td><td> 1.682967</td><td> 7</td><td>IL6ST, J....</td></tr>\n",
       "\t<tr><td>Opc</td><td>Genes related to primary cilium development (based on CRISPR) WP4536 </td><td>0.005215735</td><td>0.6554441</td><td>0.4070179</td><td>-0.4228744</td><td>-1.574863</td><td>72</td><td>CEP162, ....</td></tr>\n",
       "\t<tr><td>Opc</td><td>Calcium Regulation in the Cardiac Cell WP536                         </td><td>0.010014804</td><td>0.8365105</td><td>0.3807304</td><td>-0.4167157</td><td>-1.562717</td><td>77</td><td>SLC8A3, ....</td></tr>\n",
       "\t<tr><td>Opc</td><td>NLR Proteins WP288                                                   </td><td>0.011906788</td><td>0.8365105</td><td>0.3807304</td><td> 0.8512859</td><td> 1.605635</td><td> 5</td><td>MAP3K7, ....</td></tr>\n",
       "\t<tr><td>Opc</td><td>The human immune response to tuberculosis WP4197                     </td><td>0.013313164</td><td>0.8365105</td><td>0.3807304</td><td> 0.6736173</td><td> 1.713088</td><td>13</td><td>IFNAR1, ....</td></tr>\n",
       "\t<tr><td>Opc</td><td>Iron metabolism in placenta WP2007                                   </td><td>0.017136413</td><td>0.9006333</td><td>0.3524879</td><td> 0.7922463</td><td> 1.579650</td><td> 6</td><td>    FTH1, TF</td></tr>\n",
       "\t<tr><td>Opc</td><td>Cholesterol Biosynthesis Pathway WP197                               </td><td>0.028558719</td><td>0.9006333</td><td>0.3524879</td><td> 0.6690772</td><td> 1.620472</td><td>11</td><td>IDI1, MS....</td></tr>\n",
       "\t<tr><td>Opc</td><td>Type III interferon signaling WP2113                                 </td><td>0.028759138</td><td>0.9006333</td><td>0.3524879</td><td> 0.7700633</td><td> 1.535420</td><td> 6</td><td>IL10RB, JAK1</td></tr>\n",
       "\t<tr><td>Opc</td><td>Thymic Stromal LymphoPoietin (TSLP) Signaling Pathway WP2203         </td><td>0.029701420</td><td>0.9006333</td><td>0.3524879</td><td> 0.5435175</td><td> 1.589700</td><td>22</td><td>NFKBIA, ....</td></tr>\n",
       "\t<tr><td>Opc</td><td>Cytosine methylation WP3585                                          </td><td>0.030497993</td><td>0.9006333</td><td>0.3524879</td><td>-0.7210000</td><td>-1.603557</td><td> 9</td><td>IDH1, TE....</td></tr>\n",
       "\t<tr><td>Opc</td><td>Disorders of the Krebs cycle WP4236                                  </td><td>0.031572976</td><td>0.9006333</td><td>0.3217759</td><td>-0.7642704</td><td>-1.505662</td><td> 6</td><td>SUCLG1, ....</td></tr>\n",
       "\t<tr><td>Opc</td><td>Integrated Cancer Pathway WP1971                                     </td><td>0.033164890</td><td>0.9006333</td><td>0.3217759</td><td> 0.5312923</td><td> 1.553944</td><td>22</td><td>BARD1, J....</td></tr>\n",
       "\t<tr><td>Opc</td><td>Notch Signaling Pathway WP61                                         </td><td>0.033445268</td><td>0.9006333</td><td>0.3217759</td><td> 0.4424579</td><td> 1.493911</td><td>42</td><td>NUMBL, C....</td></tr>\n",
       "\t<tr><td>Opc</td><td>Fluoropyrimidine Activity WP1601                                     </td><td>0.038846975</td><td>0.9301887</td><td>0.3217759</td><td>-0.7054697</td><td>-1.539483</td><td> 8</td><td>ABCC5, M....</td></tr>\n",
       "\t<tr><td>Opc</td><td>Pyrimidine metabolism WP4022                                         </td><td>0.039772712</td><td>0.9301887</td><td>0.3217759</td><td>-0.4916573</td><td>-1.473225</td><td>25</td><td>UCKL1, N....</td></tr>\n",
       "\t<tr><td>Opc</td><td>Selenium Micronutrient Network WP15                                  </td><td>0.049019608</td><td>0.9301887</td><td>0.2878571</td><td>-0.4764195</td><td>-1.448909</td><td>28</td><td>SELENOP,....</td></tr>\n",
       "</tbody>\n",
       "</table>\n"
      ],
      "text/latex": [
       "A data.table: 17 × 9\n",
       "\\begin{tabular}{lllllllll}\n",
       " x & pathway & pval & padj & log2err & ES & NES & size & leadingEdge\\\\\n",
       " <chr> & <chr> & <dbl> & <dbl> & <dbl> & <dbl> & <dbl> & <int> & <list>\\\\\n",
       "\\hline\n",
       "\t Opc & Aryl Hydrocarbon Receptor Pathway WP2873                              & 0.002572431 & 0.6554441 & 0.4317077 & -0.7207746 & -1.837274 & 14 & PTGES3, ....\\\\\n",
       "\t Opc & ncRNAs involved in STAT3 signaling in hepatocellular carcinoma WP4337 & 0.005053618 & 0.6554441 & 0.4070179 &  0.8148782 &  1.682967 &  7 & IL6ST, J....\\\\\n",
       "\t Opc & Genes related to primary cilium development (based on CRISPR) WP4536  & 0.005215735 & 0.6554441 & 0.4070179 & -0.4228744 & -1.574863 & 72 & CEP162, ....\\\\\n",
       "\t Opc & Calcium Regulation in the Cardiac Cell WP536                          & 0.010014804 & 0.8365105 & 0.3807304 & -0.4167157 & -1.562717 & 77 & SLC8A3, ....\\\\\n",
       "\t Opc & NLR Proteins WP288                                                    & 0.011906788 & 0.8365105 & 0.3807304 &  0.8512859 &  1.605635 &  5 & MAP3K7, ....\\\\\n",
       "\t Opc & The human immune response to tuberculosis WP4197                      & 0.013313164 & 0.8365105 & 0.3807304 &  0.6736173 &  1.713088 & 13 & IFNAR1, ....\\\\\n",
       "\t Opc & Iron metabolism in placenta WP2007                                    & 0.017136413 & 0.9006333 & 0.3524879 &  0.7922463 &  1.579650 &  6 &     FTH1, TF\\\\\n",
       "\t Opc & Cholesterol Biosynthesis Pathway WP197                                & 0.028558719 & 0.9006333 & 0.3524879 &  0.6690772 &  1.620472 & 11 & IDI1, MS....\\\\\n",
       "\t Opc & Type III interferon signaling WP2113                                  & 0.028759138 & 0.9006333 & 0.3524879 &  0.7700633 &  1.535420 &  6 & IL10RB, JAK1\\\\\n",
       "\t Opc & Thymic Stromal LymphoPoietin (TSLP) Signaling Pathway WP2203          & 0.029701420 & 0.9006333 & 0.3524879 &  0.5435175 &  1.589700 & 22 & NFKBIA, ....\\\\\n",
       "\t Opc & Cytosine methylation WP3585                                           & 0.030497993 & 0.9006333 & 0.3524879 & -0.7210000 & -1.603557 &  9 & IDH1, TE....\\\\\n",
       "\t Opc & Disorders of the Krebs cycle WP4236                                   & 0.031572976 & 0.9006333 & 0.3217759 & -0.7642704 & -1.505662 &  6 & SUCLG1, ....\\\\\n",
       "\t Opc & Integrated Cancer Pathway WP1971                                      & 0.033164890 & 0.9006333 & 0.3217759 &  0.5312923 &  1.553944 & 22 & BARD1, J....\\\\\n",
       "\t Opc & Notch Signaling Pathway WP61                                          & 0.033445268 & 0.9006333 & 0.3217759 &  0.4424579 &  1.493911 & 42 & NUMBL, C....\\\\\n",
       "\t Opc & Fluoropyrimidine Activity WP1601                                      & 0.038846975 & 0.9301887 & 0.3217759 & -0.7054697 & -1.539483 &  8 & ABCC5, M....\\\\\n",
       "\t Opc & Pyrimidine metabolism WP4022                                          & 0.039772712 & 0.9301887 & 0.3217759 & -0.4916573 & -1.473225 & 25 & UCKL1, N....\\\\\n",
       "\t Opc & Selenium Micronutrient Network WP15                                   & 0.049019608 & 0.9301887 & 0.2878571 & -0.4764195 & -1.448909 & 28 & SELENOP,....\\\\\n",
       "\\end{tabular}\n"
      ],
      "text/markdown": [
       "\n",
       "A data.table: 17 × 9\n",
       "\n",
       "| x &lt;chr&gt; | pathway &lt;chr&gt; | pval &lt;dbl&gt; | padj &lt;dbl&gt; | log2err &lt;dbl&gt; | ES &lt;dbl&gt; | NES &lt;dbl&gt; | size &lt;int&gt; | leadingEdge &lt;list&gt; |\n",
       "|---|---|---|---|---|---|---|---|---|\n",
       "| Opc | Aryl Hydrocarbon Receptor Pathway WP2873                              | 0.002572431 | 0.6554441 | 0.4317077 | -0.7207746 | -1.837274 | 14 | PTGES3, .... |\n",
       "| Opc | ncRNAs involved in STAT3 signaling in hepatocellular carcinoma WP4337 | 0.005053618 | 0.6554441 | 0.4070179 |  0.8148782 |  1.682967 |  7 | IL6ST, J.... |\n",
       "| Opc | Genes related to primary cilium development (based on CRISPR) WP4536  | 0.005215735 | 0.6554441 | 0.4070179 | -0.4228744 | -1.574863 | 72 | CEP162, .... |\n",
       "| Opc | Calcium Regulation in the Cardiac Cell WP536                          | 0.010014804 | 0.8365105 | 0.3807304 | -0.4167157 | -1.562717 | 77 | SLC8A3, .... |\n",
       "| Opc | NLR Proteins WP288                                                    | 0.011906788 | 0.8365105 | 0.3807304 |  0.8512859 |  1.605635 |  5 | MAP3K7, .... |\n",
       "| Opc | The human immune response to tuberculosis WP4197                      | 0.013313164 | 0.8365105 | 0.3807304 |  0.6736173 |  1.713088 | 13 | IFNAR1, .... |\n",
       "| Opc | Iron metabolism in placenta WP2007                                    | 0.017136413 | 0.9006333 | 0.3524879 |  0.7922463 |  1.579650 |  6 |     FTH1, TF |\n",
       "| Opc | Cholesterol Biosynthesis Pathway WP197                                | 0.028558719 | 0.9006333 | 0.3524879 |  0.6690772 |  1.620472 | 11 | IDI1, MS.... |\n",
       "| Opc | Type III interferon signaling WP2113                                  | 0.028759138 | 0.9006333 | 0.3524879 |  0.7700633 |  1.535420 |  6 | IL10RB, JAK1 |\n",
       "| Opc | Thymic Stromal LymphoPoietin (TSLP) Signaling Pathway WP2203          | 0.029701420 | 0.9006333 | 0.3524879 |  0.5435175 |  1.589700 | 22 | NFKBIA, .... |\n",
       "| Opc | Cytosine methylation WP3585                                           | 0.030497993 | 0.9006333 | 0.3524879 | -0.7210000 | -1.603557 |  9 | IDH1, TE.... |\n",
       "| Opc | Disorders of the Krebs cycle WP4236                                   | 0.031572976 | 0.9006333 | 0.3217759 | -0.7642704 | -1.505662 |  6 | SUCLG1, .... |\n",
       "| Opc | Integrated Cancer Pathway WP1971                                      | 0.033164890 | 0.9006333 | 0.3217759 |  0.5312923 |  1.553944 | 22 | BARD1, J.... |\n",
       "| Opc | Notch Signaling Pathway WP61                                          | 0.033445268 | 0.9006333 | 0.3217759 |  0.4424579 |  1.493911 | 42 | NUMBL, C.... |\n",
       "| Opc | Fluoropyrimidine Activity WP1601                                      | 0.038846975 | 0.9301887 | 0.3217759 | -0.7054697 | -1.539483 |  8 | ABCC5, M.... |\n",
       "| Opc | Pyrimidine metabolism WP4022                                          | 0.039772712 | 0.9301887 | 0.3217759 | -0.4916573 | -1.473225 | 25 | UCKL1, N.... |\n",
       "| Opc | Selenium Micronutrient Network WP15                                   | 0.049019608 | 0.9301887 | 0.2878571 | -0.4764195 | -1.448909 | 28 | SELENOP,.... |\n",
       "\n"
      ],
      "text/plain": [
       "   x   pathway                                                              \n",
       "1  Opc Aryl Hydrocarbon Receptor Pathway WP2873                             \n",
       "2  Opc ncRNAs involved in STAT3 signaling in hepatocellular carcinoma WP4337\n",
       "3  Opc Genes related to primary cilium development (based on CRISPR) WP4536 \n",
       "4  Opc Calcium Regulation in the Cardiac Cell WP536                         \n",
       "5  Opc NLR Proteins WP288                                                   \n",
       "6  Opc The human immune response to tuberculosis WP4197                     \n",
       "7  Opc Iron metabolism in placenta WP2007                                   \n",
       "8  Opc Cholesterol Biosynthesis Pathway WP197                               \n",
       "9  Opc Type III interferon signaling WP2113                                 \n",
       "10 Opc Thymic Stromal LymphoPoietin (TSLP) Signaling Pathway WP2203         \n",
       "11 Opc Cytosine methylation WP3585                                          \n",
       "12 Opc Disorders of the Krebs cycle WP4236                                  \n",
       "13 Opc Integrated Cancer Pathway WP1971                                     \n",
       "14 Opc Notch Signaling Pathway WP61                                         \n",
       "15 Opc Fluoropyrimidine Activity WP1601                                     \n",
       "16 Opc Pyrimidine metabolism WP4022                                         \n",
       "17 Opc Selenium Micronutrient Network WP15                                  \n",
       "   pval        padj      log2err   ES         NES       size leadingEdge \n",
       "1  0.002572431 0.6554441 0.4317077 -0.7207746 -1.837274 14   PTGES3, ....\n",
       "2  0.005053618 0.6554441 0.4070179  0.8148782  1.682967  7   IL6ST, J....\n",
       "3  0.005215735 0.6554441 0.4070179 -0.4228744 -1.574863 72   CEP162, ....\n",
       "4  0.010014804 0.8365105 0.3807304 -0.4167157 -1.562717 77   SLC8A3, ....\n",
       "5  0.011906788 0.8365105 0.3807304  0.8512859  1.605635  5   MAP3K7, ....\n",
       "6  0.013313164 0.8365105 0.3807304  0.6736173  1.713088 13   IFNAR1, ....\n",
       "7  0.017136413 0.9006333 0.3524879  0.7922463  1.579650  6       FTH1, TF\n",
       "8  0.028558719 0.9006333 0.3524879  0.6690772  1.620472 11   IDI1, MS....\n",
       "9  0.028759138 0.9006333 0.3524879  0.7700633  1.535420  6   IL10RB, JAK1\n",
       "10 0.029701420 0.9006333 0.3524879  0.5435175  1.589700 22   NFKBIA, ....\n",
       "11 0.030497993 0.9006333 0.3524879 -0.7210000 -1.603557  9   IDH1, TE....\n",
       "12 0.031572976 0.9006333 0.3217759 -0.7642704 -1.505662  6   SUCLG1, ....\n",
       "13 0.033164890 0.9006333 0.3217759  0.5312923  1.553944 22   BARD1, J....\n",
       "14 0.033445268 0.9006333 0.3217759  0.4424579  1.493911 42   NUMBL, C....\n",
       "15 0.038846975 0.9301887 0.3217759 -0.7054697 -1.539483  8   ABCC5, M....\n",
       "16 0.039772712 0.9301887 0.3217759 -0.4916573 -1.473225 25   UCKL1, N....\n",
       "17 0.049019608 0.9301887 0.2878571 -0.4764195 -1.448909 28   SELENOP,...."
      ]
     },
     "metadata": {},
     "output_type": "display_data"
    }
   ],
   "source": [
    "temp = out[['Opc']]\n",
    "temp = temp[order(temp$pval,decreasing=FALSE),]\n",
    "temp[temp$pval<0.05,]"
   ]
  }
 ],
 "metadata": {
  "kernelspec": {
   "display_name": "R [conda env:.conda-r_env]",
   "language": "R",
   "name": "conda-env-.conda-r_env-r"
  },
  "language_info": {
   "codemirror_mode": "r",
   "file_extension": ".r",
   "mimetype": "text/x-r-source",
   "name": "R",
   "pygments_lexer": "r",
   "version": "4.2.3"
  }
 },
 "nbformat": 4,
 "nbformat_minor": 5
}

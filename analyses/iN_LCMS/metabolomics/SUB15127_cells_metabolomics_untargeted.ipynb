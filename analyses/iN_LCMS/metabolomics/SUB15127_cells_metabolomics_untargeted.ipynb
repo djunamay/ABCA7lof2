{
 "cells": [
  {
   "cell_type": "code",
   "execution_count": 1,
   "metadata": {},
   "outputs": [],
   "source": [
    "# import packages\n",
    "import numpy as np\n",
    "import pandas as pd\n",
    "from sklearn.decomposition import PCA\n",
    "from sklearn.preprocessing import StandardScaler\n",
    "import seaborn as sns\n",
    "import matplotlib.pyplot as plt\n",
    "import matplotlib.patches as patches\n",
    "from matplotlib.lines import Line2D\n",
    "from scipy.stats import ttest_ind\n",
    "import statsmodels.stats.multitest as smm\n",
    "from adjustText import adjust_text\n",
    "import os\n",
    "\n",
    "from statannotations.Annotator import Annotator"
   ]
  },
  {
   "cell_type": "code",
   "execution_count": 3,
   "metadata": {},
   "outputs": [
    {
     "name": "stderr",
     "output_type": "stream",
     "text": [
      "/Users/djuna/Library/Python/3.9/lib/python/site-packages/openpyxl/worksheet/_reader.py:329: UserWarning: Conditional Formatting extension is not supported and will be removed\n",
      "  warn(msg)\n"
     ]
    }
   ],
   "source": [
    "# Load data \n",
    "output_dir = '../../../LCMS/'\n",
    "\n",
    "# Load the Excel file\n",
    "excel_file = os.path.join(output_dir, '7689.SUB15127_MetabolomicsData_Targeted.xlsx')\n",
    "\n",
    "# Load the sheet into a DataFrame\n",
    "sheet_name = 'Untargeted'  # Replace with the actual sheet name if different\n",
    "data = pd.read_excel(excel_file, sheet_name=sheet_name)\n",
    "metadata = pd.read_excel(excel_file, sheet_name='SamplesNames')"
   ]
  },
  {
   "cell_type": "code",
   "execution_count": 4,
   "metadata": {},
   "outputs": [
    {
     "data": {
      "text/plain": [
       "False"
      ]
     },
     "execution_count": 4,
     "metadata": {},
     "output_type": "execute_result"
    }
   ],
   "source": [
    "# Are there any annotations based on the blank used for background subtraction?\n",
    "\n",
    "# I don't see any extraction blank columns so we don't have to check for higher signal in the non-blanks vs the blanks\n",
    "'Background' in set(data.iloc[:,2].unique())\n"
   ]
  },
  {
   "cell_type": "code",
   "execution_count": 5,
   "metadata": {},
   "outputs": [
    {
     "data": {
      "text/plain": [
       "{'Bad integration;Level 1 ID',\n",
       " 'Bad integration;Level 2 ID',\n",
       " 'FISHhit',\n",
       " 'FISHhit;Top PLS compound',\n",
       " 'Level 1 ID',\n",
       " 'Level 2 ID',\n",
       " 'MasslistRT ID',\n",
       " 'Other ID',\n",
       " 'Other ID;Top PLS compound',\n",
       " 'Tags',\n",
       " 'Tags\\nImportant, please read report',\n",
       " 'Top PLS compound',\n",
       " 'Weak/poor match',\n",
       " 'Weak/poor match;Bad integration',\n",
       " nan}"
      ]
     },
     "execution_count": 5,
     "metadata": {},
     "output_type": "execute_result"
    }
   ],
   "source": [
    "set(data.iloc[:,2].unique())"
   ]
  },
  {
   "cell_type": "code",
   "execution_count": 6,
   "metadata": {},
   "outputs": [
    {
     "name": "stderr",
     "output_type": "stream",
     "text": [
      "/var/folders/y7/zpj5hbtd2bl78b1t9h2723hw0000gn/T/ipykernel_46047/2743206479.py:4: SettingWithCopyWarning: \n",
      "A value is trying to be set on a copy of a slice from a DataFrame.\n",
      "Try using .loc[row_indexer,col_indexer] = value instead\n",
      "\n",
      "See the caveats in the documentation: https://pandas.pydata.org/pandas-docs/stable/user_guide/indexing.html#returning-a-view-versus-a-copy\n",
      "  meta['grp'] = meta['Line'] + '_' + meta['Treatment']\n"
     ]
    }
   ],
   "source": [
    "# get metadata\n",
    "meta = metadata.iloc[2:]\n",
    "meta.columns = metadata.iloc[1]\n",
    "meta['grp'] = meta['Line'] + '_' + meta['Treatment']\n",
    "dictionary = dict(zip(meta['CD file'], meta['grp']))\n",
    "dictionary_outliers = dict(zip(meta['CD file'], meta['Exp']))"
   ]
  },
  {
   "cell_type": "code",
   "execution_count": 7,
   "metadata": {},
   "outputs": [],
   "source": [
    "# get the normalized areas\n",
    "norm_areas = data.iloc[6:,64:95]\n",
    "norm_areas.columns = [x.split('(')[1].split(')')[0] for x in norm_areas.iloc[0].values]\n",
    "norm_areas = norm_areas[1:]\n",
    "norm_areas.index = np.arange(len(norm_areas))\n",
    "names = np.array([dictionary[x] for x in norm_areas.columns])\n",
    "outliers = np.array([dictionary_outliers[x] for x in norm_areas.columns])"
   ]
  },
  {
   "cell_type": "code",
   "execution_count": 8,
   "metadata": {},
   "outputs": [],
   "source": [
    "# remove the outliers\n",
    "norm_areas_no_outliers = norm_areas.iloc[:,outliers!='outlier']\n",
    "names_no_outliers = names[outliers!='outlier']\n",
    "outliers_no_outliers = outliers[outliers!='outlier']"
   ]
  },
  {
   "cell_type": "code",
   "execution_count": 162,
   "metadata": {},
   "outputs": [
    {
     "data": {
      "text/plain": [
       "array(['E3_H2O', 'E3_H2O', 'E3_H2O', 'E3_H2O', 'E3_H2O', 'E3_H2O',\n",
       "       'E3_H2O', 'E3_H2O', 'E3_H2O', 'G2_H2O', 'G2_H2O', 'G2_H2O',\n",
       "       'G2_H2O', 'G2_H2O', 'Y_C', 'Y_C', 'Y_C', 'Y_C', 'Y_C', 'Y_C',\n",
       "       'Y_C', 'Y_H2O', 'Y_H2O', 'Y_H2O', 'Y_H2O', 'Y_H2O', 'Y_H2O',\n",
       "       'Y_H2O'], dtype='<U6')"
      ]
     },
     "execution_count": 162,
     "metadata": {},
     "output_type": "execute_result"
    }
   ],
   "source": [
    "names_no_outliers"
   ]
  },
  {
   "cell_type": "code",
   "execution_count": 163,
   "metadata": {},
   "outputs": [
    {
     "data": {
      "text/plain": [
       "<matplotlib.lines.Line2D at 0x308bd1c40>"
      ]
     },
     "execution_count": 163,
     "metadata": {},
     "output_type": "execute_result"
    },
    {
     "data": {
      "image/png": "[encoded data removed]",
      "text/plain": [
       "<Figure size 250x250 with 1 Axes>"
      ]
     },
     "metadata": {},
     "output_type": "display_data"
    }
   ],
   "source": [
    "# only look at E3 vs G2\n",
    "names_subset = np.where((names_no_outliers!='Y_H2O') & (names_no_outliers!='Y_C'))[0]\n",
    "norm_areas_subset = norm_areas_no_outliers.iloc[:,names_subset]\n",
    "names_subset = names_no_outliers[names_subset]\n",
    "\n",
    "# perform PCA\n",
    "scaler = StandardScaler()\n",
    "norm_areas_subset_no_background_scaled = scaler.fit_transform(norm_areas_subset.T)\n",
    "\n",
    "pca = PCA(n_components=4)\n",
    "principal_components = pca.fit_transform(norm_areas_subset_no_background_scaled)\n",
    "principal_components = pd.DataFrame(data=principal_components, columns=['PC1', 'PC2', 'PC3', 'PC4'])\n",
    "principal_components['condition'] = names_subset\n",
    "\n",
    "# plot PCA\n",
    "plt.figure(figsize=(2.5, 2.5))\n",
    "palette = {'E3_H2O': 'grey', 'Y_H2O': 'orange', 'Y_C': 'purple', 'G2_H2O': 'blue'}\n",
    "sns.scatterplot(x='PC1', y='PC2', hue='condition', data=principal_components, palette=palette, edgecolor='w')\n",
    "explained_variance = pca.explained_variance_ratio_\n",
    "plt.xlabel(f'PC 1 ({explained_variance[0]*100:.2f}%)')\n",
    "plt.ylabel(f'PC 2 ({explained_variance[1]*100:.2f}%)')\n",
    "plt.legend(title='Line', bbox_to_anchor=(1.05, 1), loc='upper left')\n",
    "# Remove the existing legend\n",
    "plt.legend([],[], frameon=False)\n",
    "\n",
    "# Add a custom legend based on marker type\n",
    "legend_elements = [\n",
    "    Line2D([0], [0], marker='o', color='w',\n",
    "           markerfacecolor='grey', markersize=10,linestyle='None', label='ABCA7 WT'),\n",
    "    Line2D([0], [0], marker='o', markerfacecolor='blue',color='w',\n",
    "           markersize=10, linestyle='None', label='ABCA7 p.Glu50fs*')\n",
    "]\n",
    "plt.legend(handles=legend_elements, title='', bbox_to_anchor=(.4, 1.28), loc='upper center', frameon=False)\n",
    "# Add vertical line along the mean of PC1\n",
    "mean_pc1 = principal_components['PC1'].median()\n",
    "plt.axvline(x=mean_pc1, color='black', linestyle='--',  linewidth=0.5)\n",
    "\n"
   ]
  },
  {
   "cell_type": "code",
   "execution_count": 18,
   "metadata": {},
   "outputs": [
    {
     "data": {
      "image/png": "[encoded data removed]",
      "text/plain": [
       "<Figure size 250x250 with 1 Axes>"
      ]
     },
     "metadata": {},
     "output_type": "display_data"
    }
   ],
   "source": [
    "# only look at E3, Y, YC\n",
    "names_subset = np.where((names_no_outliers!='G2_H2O'))[0]\n",
    "norm_areas_subset = norm_areas_no_outliers.iloc[:,names_subset]\n",
    "names_subset = names_no_outliers[names_subset]\n",
    "\n",
    "# perform PCA\n",
    "scaler = StandardScaler()\n",
    "norm_areas_subset_no_background_scaled = scaler.fit_transform(norm_areas_subset.T)\n",
    "\n",
    "pca = PCA(n_components=4)\n",
    "principal_components = pca.fit_transform(norm_areas_subset_no_background_scaled)\n",
    "principal_components = pd.DataFrame(data=principal_components, columns=['PC1', 'PC2', 'PC3', 'PC4'])\n",
    "principal_components['condition'] = names_subset\n",
    "\n",
    "# plot PCA\n",
    "plt.figure(figsize=(2.5, 2.5))\n",
    "palette = {'E3_H2O': 'grey', 'Y_H2O': 'orange', 'Y_C': 'purple', 'G2_H2O': 'blue'}\n",
    "sns.scatterplot(x='PC1', y='PC2', hue='condition', data=principal_components, palette=palette, edgecolor='w')\n",
    "explained_variance = pca.explained_variance_ratio_\n",
    "plt.xlabel(f'PC 1 ({explained_variance[0]*100:.2f}%)')\n",
    "plt.ylabel(f'PC 2 ({explained_variance[1]*100:.2f}%)')\n",
    "plt.legend(title='Line', bbox_to_anchor=(1.05, 1), loc='upper left')\n",
    "# Remove the existing legend\n",
    "plt.legend([],[], frameon=False)\n",
    "\n",
    "import matplotlib.patches as patches\n",
    "for treatment in principal_components['condition'].unique():\n",
    "    line_data = principal_components[principal_components['condition'] == treatment]\n",
    "    confidence_ellipse = np.cov(line_data['PC1'], line_data['PC2'])\n",
    "    eigenvals, eigenvecs = np.linalg.eig(confidence_ellipse)\n",
    "    angle = np.degrees(np.arctan2(eigenvecs[1,0], eigenvecs[0,0]))\n",
    "    \n",
    "    ellipse = patches.Ellipse(xy=(line_data['PC1'].mean(), line_data['PC2'].mean()),\n",
    "                            width=2*np.sqrt(eigenvals[0])*2,\n",
    "                            height=2*np.sqrt(eigenvals[1])*2,\n",
    "                            angle=angle,\n",
    "                            fill=True,\n",
    "                            alpha=0.2,\n",
    "                            color=palette[treatment])\n",
    "    plt.gca().add_patch(ellipse)\n",
    "\n",
    "explained_variance = pca.explained_variance_ratio_\n",
    "plt.xlabel(f'PC 1 ({explained_variance[0]*100:.2f}%)')\n",
    "plt.ylabel(f'PC 2 ({explained_variance[1]*100:.2f}%)')\n",
    "plt.legend(title='Line', bbox_to_anchor=(1.05, 1), loc='upper left')\n",
    "# Remove the existing legend\n",
    "plt.legend([],[], frameon=False)\n",
    "\n",
    "# Add a custom legend based on marker type\n",
    "legend_elements = [\n",
    "    Line2D([0], [0], marker='o', color='w',\n",
    "           markerfacecolor='grey', markersize=10,linestyle='None', label='ABCA7 WT'),\n",
    "           \n",
    "           Line2D([0], [0], marker='o', markerfacecolor='orange',color='w',\n",
    "           markersize=10, linestyle='None', label='ABCA7 p.Tyr622* + H$_2$O'),\n",
    "           Line2D([0], [0], marker='o', markerfacecolor='purple',color='w',\n",
    "           markersize=10, linestyle='None', label='ABCA7 p.Tyr622* + CDP-choline')\n",
    "]\n",
    "plt.legend(handles=legend_elements, title='', bbox_to_anchor=(.4, 1.4), loc='upper center', frameon=False)\n",
    "# Add vertical line along the mean of PC1\n",
    "mean_pc1 = principal_components['PC1'].median()\n",
    "plt.axvline(x=mean_pc1, color='black', linestyle='--',  linewidth=0.5)\n",
    "\n",
    "plt.savefig('../../../paper/main_plots/pca_plot_y622_choline_metab.png', bbox_inches='tight')\n",
    "\n"
   ]
  },
  {
   "cell_type": "code",
   "execution_count": 165,
   "metadata": {},
   "outputs": [
    {
     "data": {
      "text/plain": [
       "<matplotlib.lines.Line2D at 0x308eea700>"
      ]
     },
     "execution_count": 165,
     "metadata": {},
     "output_type": "execute_result"
    },
    {
     "data": {
      "image/png": "[encoded data removed]",
      "text/plain": [
       "<Figure size 250x250 with 1 Axes>"
      ]
     },
     "metadata": {},
     "output_type": "display_data"
    }
   ],
   "source": [
    "# show all\n",
    "norm_areas_subset = norm_areas_no_outliers#.iloc[:,names_subset]\n",
    "names_subset = names_no_outliers#[names_subset]\n",
    "\n",
    "# perform PCA\n",
    "scaler = StandardScaler()\n",
    "norm_areas_subset_no_background_scaled = scaler.fit_transform(norm_areas_subset.T)\n",
    "\n",
    "pca = PCA(n_components=4)\n",
    "principal_components = pca.fit_transform(norm_areas_subset_no_background_scaled)\n",
    "principal_components = pd.DataFrame(data=principal_components, columns=['PC1', 'PC2', 'PC3', 'PC4'])\n",
    "principal_components['condition'] = names_subset\n",
    "\n",
    "# plot PCA\n",
    "plt.figure(figsize=(2.5, 2.5))\n",
    "palette = {'E3_H2O': 'grey', 'Y_H2O': 'orange', 'Y_C': 'purple', 'G2_H2O': 'blue'}\n",
    "sns.scatterplot(x='PC1', y='PC2', hue='condition', data=principal_components, palette=palette, edgecolor='w')\n",
    "explained_variance = pca.explained_variance_ratio_\n",
    "plt.xlabel(f'PC 1 ({explained_variance[0]*100:.2f}%)')\n",
    "plt.ylabel(f'PC 2 ({explained_variance[1]*100:.2f}%)')\n",
    "plt.legend(title='Line', bbox_to_anchor=(1.05, 1), loc='upper left')\n",
    "# Remove the existing legend\n",
    "plt.legend([],[], frameon=False)\n",
    "\n",
    "# Add a custom legend based on marker type\n",
    "legend_elements = [\n",
    "    Line2D([0], [0], marker='o', color='w',\n",
    "           markerfacecolor='grey', markersize=10,linestyle='None', label='ABCA7 WT'),\n",
    "    Line2D([0], [0], marker='o', markerfacecolor='blue',color='w',\n",
    "           markersize=10, linestyle='None', label='ABCA7 p.Glu50fs*'),\n",
    "           Line2D([0], [0], marker='o', markerfacecolor='purple',color='w',\n",
    "           markersize=10, linestyle='None', label='ABCA7 p.Tyr622* + CDP-choline'),\n",
    "           Line2D([0], [0], marker='o', markerfacecolor='orange',color='w',\n",
    "           markersize=10, linestyle='None', label='ABCA7 p.Tyr622* + H$_2$O'),\n",
    "]\n",
    "plt.legend(handles=legend_elements, title='', bbox_to_anchor=(.4, 1.5), loc='upper center', frameon=False)\n",
    "# Add vertical line along the mean of PC1\n",
    "mean_pc1 = principal_components['PC1'].median()\n",
    "plt.axvline(x=mean_pc1, color='black', linestyle='--',  linewidth=0.5)\n",
    "\n"
   ]
  },
  {
   "cell_type": "code",
   "execution_count": 166,
   "metadata": {},
   "outputs": [],
   "source": [
    "# get stats data\n",
    "names = np.array(data.iloc[7:,1])\n",
    "tags = np.array(data.iloc[7:,2])\n",
    "\n",
    "N = data.iloc[6,21:33]\n",
    "metab_stats = data.iloc[7:,21:33]\n",
    "metab_stats.columns = N"
   ]
  },
  {
   "cell_type": "code",
   "execution_count": 101,
   "metadata": {},
   "outputs": [],
   "source": [
    "metab_stats['names'] = names\n",
    "metab_stats['tags'] = tags\n",
    "\n",
    "# get choline stats\n",
    "def return_stats(metab_stats, p_col, lfc_col, group):\n",
    "    _, fdr_corrected_pvals, _, _ = smm.multipletests(metab_stats[p_col], alpha=0.05, method='fdr_bh')\n",
    "    return {group: {'FDR': fdr_corrected_pvals.astype(float), 'LFC': metab_stats[lfc_col].values.astype(float)}}\n",
    "\n",
    "def get_significant_metabolites(combined_stats, group):\n",
    "    sig_indices = ((combined_stats[group]['FDR']<0.05) & (np.abs(combined_stats[group]['LFC'])>1))\n",
    "    names_selected = names[sig_indices]\n",
    "    tags_selected = tags[sig_indices]\n",
    "    return names_selected[np.array([x in set(['Level 2 ID', 'Level 1 ID']) for x in tags_selected])]\n"
   ]
  },
  {
   "cell_type": "code",
   "execution_count": 167,
   "metadata": {},
   "outputs": [],
   "source": [
    "y622_choline_stats = return_stats(metab_stats, 'P-value: (Exp1, Y, C) / (Exp1, Y, H2O)', 'Log2 Fold Change: (Exp1, Y, C) / (Exp1, Y, H2O)', 'Y_C')\n",
    "y622_h2o_stats = return_stats(metab_stats, 'P-value: (Exp1, E3, H2O) / (Exp1, Y, H2O)', 'Log2 Fold Change: (Exp1, E3, H2O) / (Exp1, Y, H2O)', 'Y_H2O')\n",
    "g2_stats = return_stats(metab_stats, 'P-value: (Exp1, G2, H2O) / (Exp1, E3, H2O)', 'Log2 Fold Change: (Exp1, G2, H2O) / (Exp1, E3, H2O)', 'G2')"
   ]
  },
  {
   "cell_type": "code",
   "execution_count": 168,
   "metadata": {},
   "outputs": [
    {
     "data": {
      "text/plain": [
       "{'Y_C': {'FDR': array([0.03762612, 0.99999943, 0.79425868, ..., 0.99999943, 0.99999943,\n",
       "         0.41091655]),\n",
       "  'LFC': array([-2.87,  1.44,  1.73, ...,  0.7 , -0.51, -1.51])},\n",
       " 'Y_H2O': {'FDR': array([0.2272139 , 0.99999998, 0.99999998, ..., 0.99999998, 0.99999998,\n",
       "         0.77017917]),\n",
       "  'LFC': array([-2.18, -3.87, -0.03, ...,  1.24,  0.23, -0.82])},\n",
       " 'G2': {'FDR': array([1.        , 1.        , 0.87943445, ..., 1.        , 0.24334299,\n",
       "         1.        ]),\n",
       "  'LFC': array([-0.85,  1.12,  1.32, ..., -0.59, -1.69, -0.87])}}"
      ]
     },
     "execution_count": 168,
     "metadata": {},
     "output_type": "execute_result"
    }
   ],
   "source": [
    "combined_stats = {**y622_choline_stats, **y622_h2o_stats, **g2_stats}\n",
    "combined_stats"
   ]
  },
  {
   "cell_type": "code",
   "execution_count": 169,
   "metadata": {},
   "outputs": [
    {
     "name": "stdout",
     "output_type": "stream",
     "text": [
      "Y_C has 164 significant metabolites\n",
      "Y_H2O has 132 significant metabolites\n",
      "G2 has 11 significant metabolites\n"
     ]
    }
   ],
   "source": [
    "for group in ['Y_C', 'Y_H2O', 'G2']:\n",
    "    print(group + ' has ' + str(np.sum((combined_stats[group]['FDR']<0.05) & (np.abs(combined_stats[group]['LFC'])>1))) + ' significant metabolites')"
   ]
  },
  {
   "cell_type": "code",
   "execution_count": 171,
   "metadata": {},
   "outputs": [
    {
     "data": {
      "text/plain": [
       "array(['Triisopropanolamine', 'Iditol or other sugar alchohol', 'choline'],\n",
       "      dtype=object)"
      ]
     },
     "execution_count": 171,
     "metadata": {},
     "output_type": "execute_result"
    }
   ],
   "source": [
    "get_significant_metabolites(combined_stats, 'Y_C')"
   ]
  },
  {
   "cell_type": "code",
   "execution_count": 172,
   "metadata": {},
   "outputs": [
    {
     "data": {
      "text/plain": [
       "array(['N-Acetyl-1-aspartylglutamic acid', 'Melamine', 'Inositol',\n",
       "       'choline'], dtype=object)"
      ]
     },
     "execution_count": 172,
     "metadata": {},
     "output_type": "execute_result"
    }
   ],
   "source": [
    "get_significant_metabolites(combined_stats, 'Y_H2O')\n"
   ]
  },
  {
   "cell_type": "code",
   "execution_count": 227,
   "metadata": {},
   "outputs": [
    {
     "data": {
      "text/plain": [
       "array([-1.9])"
      ]
     },
     "execution_count": 227,
     "metadata": {},
     "output_type": "execute_result"
    }
   ],
   "source": [
    "combined_stats['Y_H2O']['LFC'][names=='Inositol']"
   ]
  },
  {
   "cell_type": "code",
   "execution_count": 173,
   "metadata": {},
   "outputs": [
    {
     "data": {
      "text/plain": [
       "array([], dtype=object)"
      ]
     },
     "execution_count": 173,
     "metadata": {},
     "output_type": "execute_result"
    }
   ],
   "source": [
    "get_significant_metabolites(combined_stats, 'G2')"
   ]
  },
  {
   "cell_type": "code",
   "execution_count": 194,
   "metadata": {},
   "outputs": [],
   "source": [
    "D = dict(zip(metadata['Unnamed: 0'], metadata['Unnamed: 1']))"
   ]
  },
  {
   "cell_type": "code",
   "execution_count": 197,
   "metadata": {},
   "outputs": [],
   "source": [
    "temp = norm_areas_no_outliers[names=='choline'].iloc[:,names_no_outliers!='G2_H20']\n",
    "temp.columns = [D[x] for x in temp.columns]"
   ]
  },
  {
   "cell_type": "code",
   "execution_count": 200,
   "metadata": {},
   "outputs": [
    {
     "data": {
      "text/html": [
       "<div>\n",
       "<style scoped>\n",
       "    .dataframe tbody tr th:only-of-type {\n",
       "        vertical-align: middle;\n",
       "    }\n",
       "\n",
       "    .dataframe tbody tr th {\n",
       "        vertical-align: top;\n",
       "    }\n",
       "\n",
       "    .dataframe thead th {\n",
       "        text-align: right;\n",
       "    }\n",
       "</style>\n",
       "<table border=\"1\" class=\"dataframe\">\n",
       "  <thead>\n",
       "    <tr style=\"text-align: right;\">\n",
       "      <th></th>\n",
       "      <th>58</th>\n",
       "    </tr>\n",
       "  </thead>\n",
       "  <tbody>\n",
       "    <tr>\n",
       "      <th>SUB15127p7_SPL02</th>\n",
       "      <td>159593.593288</td>\n",
       "    </tr>\n",
       "    <tr>\n",
       "      <th>SUB15127p7_SPL03</th>\n",
       "      <td>207733.802934</td>\n",
       "    </tr>\n",
       "    <tr>\n",
       "      <th>SUB15127p7_SPL04</th>\n",
       "      <td>8049155.896197</td>\n",
       "    </tr>\n",
       "    <tr>\n",
       "      <th>SUB15127p7_SPL05</th>\n",
       "      <td>11102856.215294</td>\n",
       "    </tr>\n",
       "    <tr>\n",
       "      <th>SUB15127p7_SPL06</th>\n",
       "      <td>11759336.976469</td>\n",
       "    </tr>\n",
       "    <tr>\n",
       "      <th>SUB15127p7_SPL07</th>\n",
       "      <td>287480.753349</td>\n",
       "    </tr>\n",
       "    <tr>\n",
       "      <th>SUB15127p7_SPL08</th>\n",
       "      <td>54146396.825699</td>\n",
       "    </tr>\n",
       "    <tr>\n",
       "      <th>SUB15127p7_SPL09</th>\n",
       "      <td>44299502.933666</td>\n",
       "    </tr>\n",
       "    <tr>\n",
       "      <th>SUB15127p7_SPL11</th>\n",
       "      <td>74296337.698628</td>\n",
       "    </tr>\n",
       "    <tr>\n",
       "      <th>SUB15127p7_SPL12</th>\n",
       "      <td>11173843.216661</td>\n",
       "    </tr>\n",
       "    <tr>\n",
       "      <th>SUB15127p7_SPL13</th>\n",
       "      <td>60097702.490094</td>\n",
       "    </tr>\n",
       "    <tr>\n",
       "      <th>SUB15127p7_SPL14</th>\n",
       "      <td>48880159.728203</td>\n",
       "    </tr>\n",
       "    <tr>\n",
       "      <th>SUB15127p7_SPL15</th>\n",
       "      <td>59872021.383777</td>\n",
       "    </tr>\n",
       "    <tr>\n",
       "      <th>SUB15127p7_SPL16</th>\n",
       "      <td>56421982.721274</td>\n",
       "    </tr>\n",
       "    <tr>\n",
       "      <th>SUB15127p7_SPL17</th>\n",
       "      <td>41131898.604335</td>\n",
       "    </tr>\n",
       "    <tr>\n",
       "      <th>SUB15127p7_SPL18</th>\n",
       "      <td>43632135.264313</td>\n",
       "    </tr>\n",
       "    <tr>\n",
       "      <th>SUB15127p7_SPL19</th>\n",
       "      <td>113340401.585794</td>\n",
       "    </tr>\n",
       "    <tr>\n",
       "      <th>SUB15127p7_SPL20</th>\n",
       "      <td>98141287.850543</td>\n",
       "    </tr>\n",
       "    <tr>\n",
       "      <th>SUB15127p7_SPL21</th>\n",
       "      <td>76374735.376564</td>\n",
       "    </tr>\n",
       "    <tr>\n",
       "      <th>SUB15127p7_SPL22</th>\n",
       "      <td>204095069.776475</td>\n",
       "    </tr>\n",
       "    <tr>\n",
       "      <th>SUB15127p7_SPL23</th>\n",
       "      <td>43119072.537474</td>\n",
       "    </tr>\n",
       "    <tr>\n",
       "      <th>SUB15127p7_SPL25</th>\n",
       "      <td>21576096.126935</td>\n",
       "    </tr>\n",
       "    <tr>\n",
       "      <th>SUB15127p7_SPL26</th>\n",
       "      <td>67253714.815765</td>\n",
       "    </tr>\n",
       "    <tr>\n",
       "      <th>SUB15127p7_SPL27</th>\n",
       "      <td>106746900.007968</td>\n",
       "    </tr>\n",
       "    <tr>\n",
       "      <th>SUB15127p7_SPL28</th>\n",
       "      <td>83456164.555453</td>\n",
       "    </tr>\n",
       "    <tr>\n",
       "      <th>SUB15127p7_SPL29</th>\n",
       "      <td>105251879.53097</td>\n",
       "    </tr>\n",
       "    <tr>\n",
       "      <th>SUB15127p7_SPL30</th>\n",
       "      <td>116274179.780083</td>\n",
       "    </tr>\n",
       "    <tr>\n",
       "      <th>SUB15127p7_SPL31</th>\n",
       "      <td>109160091.723949</td>\n",
       "    </tr>\n",
       "  </tbody>\n",
       "</table>\n",
       "</div>"
      ],
      "text/plain": [
       "                                58\n",
       "SUB15127p7_SPL02     159593.593288\n",
       "SUB15127p7_SPL03     207733.802934\n",
       "SUB15127p7_SPL04    8049155.896197\n",
       "SUB15127p7_SPL05   11102856.215294\n",
       "SUB15127p7_SPL06   11759336.976469\n",
       "SUB15127p7_SPL07     287480.753349\n",
       "SUB15127p7_SPL08   54146396.825699\n",
       "SUB15127p7_SPL09   44299502.933666\n",
       "SUB15127p7_SPL11   74296337.698628\n",
       "SUB15127p7_SPL12   11173843.216661\n",
       "SUB15127p7_SPL13   60097702.490094\n",
       "SUB15127p7_SPL14   48880159.728203\n",
       "SUB15127p7_SPL15   59872021.383777\n",
       "SUB15127p7_SPL16   56421982.721274\n",
       "SUB15127p7_SPL17   41131898.604335\n",
       "SUB15127p7_SPL18   43632135.264313\n",
       "SUB15127p7_SPL19  113340401.585794\n",
       "SUB15127p7_SPL20   98141287.850543\n",
       "SUB15127p7_SPL21   76374735.376564\n",
       "SUB15127p7_SPL22  204095069.776475\n",
       "SUB15127p7_SPL23   43119072.537474\n",
       "SUB15127p7_SPL25   21576096.126935\n",
       "SUB15127p7_SPL26   67253714.815765\n",
       "SUB15127p7_SPL27  106746900.007968\n",
       "SUB15127p7_SPL28   83456164.555453\n",
       "SUB15127p7_SPL29   105251879.53097\n",
       "SUB15127p7_SPL30  116274179.780083\n",
       "SUB15127p7_SPL31  109160091.723949"
      ]
     },
     "execution_count": 200,
     "metadata": {},
     "output_type": "execute_result"
    }
   ],
   "source": [
    "temp.T.sort_index()"
   ]
  },
  {
   "cell_type": "code",
   "execution_count": 223,
   "metadata": {},
   "outputs": [
    {
     "data": {
      "text/html": [
       "<div>\n",
       "<style scoped>\n",
       "    .dataframe tbody tr th:only-of-type {\n",
       "        vertical-align: middle;\n",
       "    }\n",
       "\n",
       "    .dataframe tbody tr th {\n",
       "        vertical-align: top;\n",
       "    }\n",
       "\n",
       "    .dataframe thead th {\n",
       "        text-align: right;\n",
       "    }\n",
       "</style>\n",
       "<table border=\"1\" class=\"dataframe\">\n",
       "  <thead>\n",
       "    <tr style=\"text-align: right;\">\n",
       "      <th></th>\n",
       "      <th>Y_C</th>\n",
       "      <th>Y_H2O</th>\n",
       "      <th>G2</th>\n",
       "    </tr>\n",
       "  </thead>\n",
       "  <tbody>\n",
       "    <tr>\n",
       "      <th>0</th>\n",
       "      <td>-2.87</td>\n",
       "      <td>2.18</td>\n",
       "      <td>-0.85</td>\n",
       "    </tr>\n",
       "    <tr>\n",
       "      <th>1</th>\n",
       "      <td>1.44</td>\n",
       "      <td>3.87</td>\n",
       "      <td>1.12</td>\n",
       "    </tr>\n",
       "    <tr>\n",
       "      <th>2</th>\n",
       "      <td>1.73</td>\n",
       "      <td>0.03</td>\n",
       "      <td>1.32</td>\n",
       "    </tr>\n",
       "    <tr>\n",
       "      <th>3</th>\n",
       "      <td>0.04</td>\n",
       "      <td>-0.32</td>\n",
       "      <td>-0.28</td>\n",
       "    </tr>\n",
       "    <tr>\n",
       "      <th>4</th>\n",
       "      <td>-0.86</td>\n",
       "      <td>1.64</td>\n",
       "      <td>0.94</td>\n",
       "    </tr>\n",
       "    <tr>\n",
       "      <th>...</th>\n",
       "      <td>...</td>\n",
       "      <td>...</td>\n",
       "      <td>...</td>\n",
       "    </tr>\n",
       "    <tr>\n",
       "      <th>1129</th>\n",
       "      <td>0.64</td>\n",
       "      <td>-0.97</td>\n",
       "      <td>-0.38</td>\n",
       "    </tr>\n",
       "    <tr>\n",
       "      <th>1130</th>\n",
       "      <td>-1.07</td>\n",
       "      <td>0.02</td>\n",
       "      <td>-1.18</td>\n",
       "    </tr>\n",
       "    <tr>\n",
       "      <th>1131</th>\n",
       "      <td>0.70</td>\n",
       "      <td>-1.24</td>\n",
       "      <td>-0.59</td>\n",
       "    </tr>\n",
       "    <tr>\n",
       "      <th>1132</th>\n",
       "      <td>-0.51</td>\n",
       "      <td>-0.23</td>\n",
       "      <td>-1.69</td>\n",
       "    </tr>\n",
       "    <tr>\n",
       "      <th>1133</th>\n",
       "      <td>-1.51</td>\n",
       "      <td>0.82</td>\n",
       "      <td>-0.87</td>\n",
       "    </tr>\n",
       "  </tbody>\n",
       "</table>\n",
       "<p>1134 rows × 3 columns</p>\n",
       "</div>"
      ],
      "text/plain": [
       "       Y_C  Y_H2O    G2\n",
       "0    -2.87   2.18 -0.85\n",
       "1     1.44   3.87  1.12\n",
       "2     1.73   0.03  1.32\n",
       "3     0.04  -0.32 -0.28\n",
       "4    -0.86   1.64  0.94\n",
       "...    ...    ...   ...\n",
       "1129  0.64  -0.97 -0.38\n",
       "1130 -1.07   0.02 -1.18\n",
       "1131  0.70  -1.24 -0.59\n",
       "1132 -0.51  -0.23 -1.69\n",
       "1133 -1.51   0.82 -0.87\n",
       "\n",
       "[1134 rows x 3 columns]"
      ]
     },
     "execution_count": 223,
     "metadata": {},
     "output_type": "execute_result"
    }
   ],
   "source": [
    "scores_Y_C = (combined_stats['Y_C']['LFC'])# * -np.log10(combined_stats['Y_C']['FDR'])\n",
    "scores_Y_H2O = -1*(combined_stats['Y_H2O']['LFC']) #* -np.log10(combined_stats['Y_H2O']['FDR'])\n",
    "scores_G2 = (combined_stats['G2']['LFC'])# * -np.log10(combined_stats['G2']['FDR'])\n",
    "df = pd.DataFrame(np.vstack((scores_Y_C, scores_Y_H2O, scores_G2)).T)\n",
    "df.columns = ['Y_C', 'Y_H2O', 'G2']\n",
    "df\n",
    "# show correlation of scores between CDP-choline and LoF metabolite fold changes"
   ]
  },
  {
   "cell_type": "code",
   "execution_count": 221,
   "metadata": {},
   "outputs": [
    {
     "data": {
      "text/plain": [
       "(array([58]),)"
      ]
     },
     "execution_count": 221,
     "metadata": {},
     "output_type": "execute_result"
    }
   ],
   "source": [
    "np.where(names=='choline')"
   ]
  },
  {
   "cell_type": "code",
   "execution_count": 228,
   "metadata": {},
   "outputs": [
    {
     "data": {
      "text/plain": [
       "(1134, 3)"
      ]
     },
     "execution_count": 228,
     "metadata": {},
     "output_type": "execute_result"
    }
   ],
   "source": [
    "df.shape"
   ]
  },
  {
   "cell_type": "code",
   "execution_count": 218,
   "metadata": {},
   "outputs": [
    {
     "data": {
      "image/png": "[encoded data removed]",
      "text/plain": [
       "<Figure size 400x400 with 1 Axes>"
      ]
     },
     "metadata": {},
     "output_type": "display_data"
    }
   ],
   "source": [
    "# show correlation of scores between CDP-choline and LoF metabolite fold changes\n",
    "\n",
    "from scipy import stats\n",
    "\n",
    "plt.figure(figsize=(4, 4))\n",
    "# Plot the regression line using the full dataset without scatter points\n",
    "sns.regplot(x='Y_C', y='Y_H2O', data=df, scatter=False, ci=95, color='black', line_kws={'linewidth': 1})\n",
    "# Overlay scatter points from the subsample\n",
    "sns.scatterplot(x='Y_C', y='Y_H2O', data=df, color='black', alpha=0.3, s=20)\n",
    "# Calculate Pearson correlation coefficient and p-value\n",
    "r, p = stats.pearsonr(df['Y_C'], df['Y_H2O'])\n",
    "\n",
    "# Add text annotation with the correlation coefficient\n",
    "plt.text(0.01, 1.05, f'Pearson r = {r:.3f}',\n",
    "         transform=plt.gca().transAxes, verticalalignment='top')\n",
    "\n",
    "# Add horizontal and vertical dotted lines at zero\n",
    "plt.axhline(y=0, color='grey', linestyle='dotted')\n",
    "plt.axvline(x=0, color='grey', linestyle='dotted')\n",
    "\n",
    "plt.xlabel('WT vs p.Tyr622*')\n",
    "plt.ylabel('p.Tyr622* + H$_2$O vs p.Tyr622* + CDP-choline')\n",
    "# Add arrow in lower right quadrant\n",
    "plt.annotate('', xy=(14, -14), xytext=(10, -14),\n",
    "             arrowprops=dict(facecolor='black', shrink=0.05, width=1, headwidth=5))\n",
    "plt.text(7, -14.5, 'Up in LoF', ha='center', fontsize=9)\n",
    "\n",
    "plt.annotate('', xy=(-14, -14), xytext=(-10, -14),\n",
    "             arrowprops=dict(facecolor='black', shrink=0.05, width=1, headwidth=5))\n",
    "plt.text(-6, -14.5, 'Down in LoF', ha='center', fontsize=9)\n",
    "\n",
    "plt.annotate('', xy=(14, 14), xytext=(14, 10),\n",
    "             arrowprops=dict(facecolor='black', shrink=0.05, width=1, headwidth=5))\n",
    "plt.text(13.5, 2.5, 'Up with \\n CDP-choline', ha='center', fontsize=9, rotation=90)\n",
    "\n",
    "plt.annotate('', xy=(14, -14), xytext=(14, -10),\n",
    "             arrowprops=dict(facecolor='black', shrink=0.05, width=1, headwidth=5))\n",
    "plt.text(13.5, -10, 'Down with \\n CDP-choline', ha='center', fontsize=9, rotation=90)\n",
    "\n",
    "\n",
    "#plt.xlim(-15, 15)\n",
    "#plt.ylim(-15, 15)\n",
    "#plt.savefig('../../paper/main_plots/rna_correlation_plot.png', bbox_inches='tight')\n",
    "\n",
    "plt.show()\n"
   ]
  }
 ],
 "metadata": {
  "kernelspec": {
   "display_name": "Python 3",
   "language": "python",
   "name": "python3"
  },
  "language_info": {
   "codemirror_mode": {
    "name": "ipython",
    "version": 3
   },
   "file_extension": ".py",
   "mimetype": "text/x-python",
   "name": "python",
   "nbconvert_exporter": "python",
   "pygments_lexer": "ipython3",
   "version": "3.9.6"
  }
 },
 "nbformat": 4,
 "nbformat_minor": 2
}

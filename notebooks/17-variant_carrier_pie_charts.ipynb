{
 "cells": [
  {
   "cell_type": "code",
   "execution_count": 2,
   "id": "c1ca78aa-d1bc-4d33-b9e7-713f55044410",
   "metadata": {},
   "outputs": [],
   "source": [
    "# load data\n",
    "data = readRDS('../../ABCA7lof//processed_data/for_plotting/lipidomics.rds')\n",
    "key = read.csv('../../ABCA7lof//raw_data/ngn2_data/lipidkey.csv', sep = '\\t')\n",
    "key = key[!duplicated(key$Key),]\n",
    "rownames(key) = key$Key\n",
    "proteomics = read.csv('../processed_data/for_plotting/ABCA7_proteomics.csv')\n",
    "wgs = read.csv('../raw_data/metadata/WGS_sample_QC_info.csv')"
   ]
  },
  {
   "cell_type": "code",
   "execution_count": 31,
   "id": "a2887285-3577-4485-8abf-767bc47acfed",
   "metadata": {},
   "outputs": [
    {
     "data": {
      "text/html": [
       "<table class=\"dataframe\">\n",
       "<caption>A data.frame: 6 × 9</caption>\n",
       "<thead>\n",
       "\t<tr><th></th><th scope=col>projid</th><th scope=col>WGS_id</th><th scope=col>Source.Tissue.Type</th><th scope=col>Gender_match</th><th scope=col>Concordant_with_array</th><th scope=col>Concordant_with_RNAseq</th><th scope=col>Duplicate</th><th scope=col>QC</th><th scope=col>GQN</th></tr>\n",
       "\t<tr><th></th><th scope=col>&lt;int&gt;</th><th scope=col>&lt;chr&gt;</th><th scope=col>&lt;chr&gt;</th><th scope=col>&lt;lgl&gt;</th><th scope=col>&lt;lgl&gt;</th><th scope=col>&lt;lgl&gt;</th><th scope=col>&lt;chr&gt;</th><th scope=col>&lt;chr&gt;</th><th scope=col>&lt;dbl&gt;</th></tr>\n",
       "</thead>\n",
       "<tbody>\n",
       "\t<tr><th scope=row>1</th><td>68539908</td><td>SM-CTEGU</td><td>Brain-Cerebellum</td><td>FALSE</td><td>   NA</td><td>FALSE</td><td>identical to SM-CTELW</td><td>Fail (discordant with RNA-seq;gender mismatch)  </td><td>8.8</td></tr>\n",
       "\t<tr><th scope=row>2</th><td>20882194</td><td>SM-CJEI2</td><td>Whole Blood     </td><td> TRUE</td><td>   NA</td><td>FALSE</td><td>identical to SM-CTEFA</td><td>Fail (discordant with RNA-seq)                  </td><td>8.2</td></tr>\n",
       "\t<tr><th scope=row>3</th><td>50101523</td><td>SM-CTEDY</td><td>Whole Blood     </td><td>FALSE</td><td>FALSE</td><td>   NA</td><td>NA                   </td><td>Fail (discordant with SNP array;gender mismatch)</td><td>7.3</td></tr>\n",
       "\t<tr><th scope=row>4</th><td>50410283</td><td>SM-CTEGE</td><td>Brain-Cerebellum</td><td>FALSE</td><td>FALSE</td><td>   NA</td><td>identical to SM-CTEN4</td><td>Fail (discordant with SNP array;gender mismatch)</td><td>9.3</td></tr>\n",
       "\t<tr><th scope=row>5</th><td>75175129</td><td>SM-CJFKP</td><td>Brain-DLPFC     </td><td>FALSE</td><td>FALSE</td><td>   NA</td><td>identical to SM-CTDVH</td><td>Fail (discordant with SNP array;gender mismatch)</td><td>4.4</td></tr>\n",
       "\t<tr><th scope=row>6</th><td>10100736</td><td>SM-CTDVR</td><td>Brain-Cerebellum</td><td> TRUE</td><td>FALSE</td><td>   NA</td><td>identical to SM-CJFO9</td><td>Fail (discordant with SNP array)                </td><td>8.9</td></tr>\n",
       "</tbody>\n",
       "</table>\n"
      ],
      "text/latex": [
       "A data.frame: 6 × 9\n",
       "\\begin{tabular}{r|lllllllll}\n",
       "  & projid & WGS\\_id & Source.Tissue.Type & Gender\\_match & Concordant\\_with\\_array & Concordant\\_with\\_RNAseq & Duplicate & QC & GQN\\\\\n",
       "  & <int> & <chr> & <chr> & <lgl> & <lgl> & <lgl> & <chr> & <chr> & <dbl>\\\\\n",
       "\\hline\n",
       "\t1 & 68539908 & SM-CTEGU & Brain-Cerebellum & FALSE &    NA & FALSE & identical to SM-CTELW & Fail (discordant with RNA-seq;gender mismatch)   & 8.8\\\\\n",
       "\t2 & 20882194 & SM-CJEI2 & Whole Blood      &  TRUE &    NA & FALSE & identical to SM-CTEFA & Fail (discordant with RNA-seq)                   & 8.2\\\\\n",
       "\t3 & 50101523 & SM-CTEDY & Whole Blood      & FALSE & FALSE &    NA & NA                    & Fail (discordant with SNP array;gender mismatch) & 7.3\\\\\n",
       "\t4 & 50410283 & SM-CTEGE & Brain-Cerebellum & FALSE & FALSE &    NA & identical to SM-CTEN4 & Fail (discordant with SNP array;gender mismatch) & 9.3\\\\\n",
       "\t5 & 75175129 & SM-CJFKP & Brain-DLPFC      & FALSE & FALSE &    NA & identical to SM-CTDVH & Fail (discordant with SNP array;gender mismatch) & 4.4\\\\\n",
       "\t6 & 10100736 & SM-CTDVR & Brain-Cerebellum &  TRUE & FALSE &    NA & identical to SM-CJFO9 & Fail (discordant with SNP array)                 & 8.9\\\\\n",
       "\\end{tabular}\n"
      ],
      "text/markdown": [
       "\n",
       "A data.frame: 6 × 9\n",
       "\n",
       "| <!--/--> | projid &lt;int&gt; | WGS_id &lt;chr&gt; | Source.Tissue.Type &lt;chr&gt; | Gender_match &lt;lgl&gt; | Concordant_with_array &lt;lgl&gt; | Concordant_with_RNAseq &lt;lgl&gt; | Duplicate &lt;chr&gt; | QC &lt;chr&gt; | GQN &lt;dbl&gt; |\n",
       "|---|---|---|---|---|---|---|---|---|---|\n",
       "| 1 | 68539908 | SM-CTEGU | Brain-Cerebellum | FALSE |    NA | FALSE | identical to SM-CTELW | Fail (discordant with RNA-seq;gender mismatch)   | 8.8 |\n",
       "| 2 | 20882194 | SM-CJEI2 | Whole Blood      |  TRUE |    NA | FALSE | identical to SM-CTEFA | Fail (discordant with RNA-seq)                   | 8.2 |\n",
       "| 3 | 50101523 | SM-CTEDY | Whole Blood      | FALSE | FALSE |    NA | NA                    | Fail (discordant with SNP array;gender mismatch) | 7.3 |\n",
       "| 4 | 50410283 | SM-CTEGE | Brain-Cerebellum | FALSE | FALSE |    NA | identical to SM-CTEN4 | Fail (discordant with SNP array;gender mismatch) | 9.3 |\n",
       "| 5 | 75175129 | SM-CJFKP | Brain-DLPFC      | FALSE | FALSE |    NA | identical to SM-CTDVH | Fail (discordant with SNP array;gender mismatch) | 4.4 |\n",
       "| 6 | 10100736 | SM-CTDVR | Brain-Cerebellum |  TRUE | FALSE |    NA | identical to SM-CJFO9 | Fail (discordant with SNP array)                 | 8.9 |\n",
       "\n"
      ],
      "text/plain": [
       "  projid   WGS_id   Source.Tissue.Type Gender_match Concordant_with_array\n",
       "1 68539908 SM-CTEGU Brain-Cerebellum   FALSE           NA                \n",
       "2 20882194 SM-CJEI2 Whole Blood         TRUE           NA                \n",
       "3 50101523 SM-CTEDY Whole Blood        FALSE        FALSE                \n",
       "4 50410283 SM-CTEGE Brain-Cerebellum   FALSE        FALSE                \n",
       "5 75175129 SM-CJFKP Brain-DLPFC        FALSE        FALSE                \n",
       "6 10100736 SM-CTDVR Brain-Cerebellum    TRUE        FALSE                \n",
       "  Concordant_with_RNAseq Duplicate            \n",
       "1 FALSE                  identical to SM-CTELW\n",
       "2 FALSE                  identical to SM-CTEFA\n",
       "3    NA                  NA                   \n",
       "4    NA                  identical to SM-CTEN4\n",
       "5    NA                  identical to SM-CTDVH\n",
       "6    NA                  identical to SM-CJFO9\n",
       "  QC                                               GQN\n",
       "1 Fail (discordant with RNA-seq;gender mismatch)   8.8\n",
       "2 Fail (discordant with RNA-seq)                   8.2\n",
       "3 Fail (discordant with SNP array;gender mismatch) 7.3\n",
       "4 Fail (discordant with SNP array;gender mismatch) 9.3\n",
       "5 Fail (discordant with SNP array;gender mismatch) 4.4\n",
       "6 Fail (discordant with SNP array)                 8.9"
      ]
     },
     "metadata": {},
     "output_type": "display_data"
    }
   ],
   "source": [
    "head(wgs)"
   ]
  },
  {
   "cell_type": "code",
   "execution_count": 56,
   "id": "1cfd0590-99e5-4afa-936b-ab490ea7ba62",
   "metadata": {},
   "outputs": [],
   "source": [
    "data = merge(proteomics[proteomics$LOF==0,], wgs[,c('projid', 'WGS_id')], by='projid')"
   ]
  },
  {
   "cell_type": "code",
   "execution_count": 35,
   "id": "7c97c28e-5a60-47ee-b105-8a5079c571c7",
   "metadata": {},
   "outputs": [
    {
     "name": "stderr",
     "output_type": "stream",
     "text": [
      "Warning message in FUN(newX[, i], ...):\n",
      "“NAs introduced by coercion”\n",
      "Warning message in FUN(newX[, i], ...):\n",
      "“NAs introduced by coercion”\n",
      "Warning message in FUN(newX[, i], ...):\n",
      "“NAs introduced by coercion”\n",
      "Warning message in FUN(newX[, i], ...):\n",
      "“NAs introduced by coercion”\n",
      "Warning message in FUN(newX[, i], ...):\n",
      "“NAs introduced by coercion”\n",
      "Warning message in FUN(newX[, i], ...):\n",
      "“NAs introduced by coercion”\n"
     ]
    }
   ],
   "source": [
    "# load Henne Holstege et al data\n",
    "df = read.csv('../processed_data/holstege_et_al//41588_2022_1208_MOESM4_ESM.csv', skip = 2, header = TRUE)\n",
    "\n",
    "# merge with ABCA7 variant info\n",
    "variant_info = read.csv('../raw_data/ROSMAP_WGS/HIGHandMED_coding_annotations_syn11724057_subset.csv', check.names=FALSE)\n",
    "variant_info$Variant = paste0(variant_info$CHROM,':',variant_info$POS,':',variant_info$REF_x, '>', variant_info$ALT_0)\n",
    "df = df[,c('Variant', 'REVEL', 'LOF')]\n",
    "var_info = merge(variant_info, df, by = 'Variant')\n",
    "var_info = var_info[var_info$GENE=='ABCA7',]\n",
    "\n",
    "genotypes = var_info[,unlist(lapply(names(var_info), function(x) sum(startsWith(x, c('ROS', 'MAP', 'SM')))))>0]\n",
    "genotypes[genotypes=='0/0']=0\n",
    "genotypes[genotypes=='0/1']=1\n",
    "genotypes[genotypes=='1/0']=1\n",
    "genotypes[genotypes=='1/1']=2\n",
    "df = apply(genotypes,2, function(x){as.numeric(x)})\n",
    "\n",
    "variant_categories = as.data.frame(colSums(df[var_info$LOF.y==1,]))\n",
    "temp = as.numeric(unlist(genotypes[var_info$ID=='rs3752246',]))                                  \n",
    "temp = -1*(temp-2)\n",
    "variant_categories$rs3752246 = temp\n",
    "\n",
    "# Create a pie chart\n",
    "percentage_col1_1 <- mean(variant_categories$Lof == 1) * 100\n",
    "\n",
    "pdf('../pdf_figures/percentage_lof.pdf')\n",
    "ggplot(variant_categories, aes(x = \"\",fill = factor(variant_categories[,'Lof']), color=factor(variant_categories[,'Lof']))) +\n",
    "  geom_bar(width = 1, stat = \"count\") +\n",
    "  coord_polar(theta = \"y\") +   scale_color_manual(values = c(\"white\", \"white\")) +  # Set black outline\n",
    "\n",
    "  scale_fill_manual(values = c(\"grey\", \"red\"), name='Lof') +   geom_text(x = 1, y = 0, label = paste0(round(percentage_col1_1, 1), \"%\"), color = \"white\", size = 8) + theme_classic() +   theme_void() +   theme(legend.text=element_text(size=15)) \n",
    "\n",
    "dev.off()\n",
    "\n",
    "# Create a pie chart\n",
    "\n",
    "pdf('../pdf_figures/percentage_common.pdf')\n",
    "percentage_col1_1 <- mean(variant_categories$common == 1) * 100\n",
    "\n",
    "ggplot(variant_categories, aes(x = \"\",fill = factor(variant_categories[,'ABCA7 p.1527']), color=factor(variant_categories[,'ABCA7 p.1527']))) +\n",
    "  geom_bar(width = 1, stat = \"count\") +\n",
    "  coord_polar(theta = \"y\") +   scale_color_manual(values = c(\"white\", \"white\")) +  # Set black outline\n",
    "\n",
    "  scale_fill_manual(values = c(\"grey\", \"salmon\"), name='ABCA7 p.1527') +   geom_text(x = 1, y = 0, label = paste0(round(percentage_col1_1, 1), \"%\"), color = \"white\", size = 8) + theme_classic() +   theme_void() +   theme(legend.text=element_text(size=15)) \n",
    "\n",
    "dev.off()"
   ]
  }
 ],
 "metadata": {
  "kernelspec": {
   "display_name": "R [conda env:.conda-r_env]",
   "language": "R",
   "name": "conda-env-.conda-r_env-r"
  },
  "language_info": {
   "codemirror_mode": "r",
   "file_extension": ".r",
   "mimetype": "text/x-r-source",
   "name": "R",
   "pygments_lexer": "r",
   "version": "4.2.3"
  }
 },
 "nbformat": 4,
 "nbformat_minor": 5
}

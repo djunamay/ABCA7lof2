{
 "cells": [
  {
   "cell_type": "code",
   "execution_count": 3,
   "metadata": {
    "vscode": {
     "languageId": "r"
    }
   },
   "outputs": [],
   "source": [
    "library(fgsea)\n",
    "library(jsonlite)\n",
    "\n",
    "get_scores = function(x) {\n",
    "  scores = sign(x$logFC) * -log10(x$P.Value)\n",
    "  names(scores) = x$genes\n",
    "  sorted_scores = sort(scores, decreasing = TRUE)\n",
    "  print(length(sorted_scores))\n",
    "  print(length(unique(names(sorted_scores))))\n",
    "  return(sorted_scores)\n",
    "}\n",
    "\n",
    "get_geneset = function(x) {\n",
    "  return(unique(unlist(x[x$padj<0.05]$leadingEdge)))\n",
    "}\n"
   ]
  },
  {
   "cell_type": "code",
   "execution_count": 68,
   "metadata": {
    "vscode": {
     "languageId": "r"
    }
   },
   "outputs": [],
   "source": [
    "# load pathways\n",
    "paths = read.csv('../../processed_data/pm_kl_frame.csv', row.names=1)\n",
    "\n",
    "paths = paths[paths$is_gene=='True',]\n",
    "P = list()\n",
    "for(i in unique(paths$cluster)){\n",
    "    P[[paste0('PM.',as.character(i))]] = paths[paths$cluster==i,'description']\n",
    "}      \n"
   ]
  },
  {
   "cell_type": "code",
   "execution_count": 23,
   "metadata": {
    "vscode": {
     "languageId": "r"
    }
   },
   "outputs": [],
   "source": [
    "# # compute fgsea results\n",
    "# all_paths = read.csv('../../processed_data/all_paths.csv', row.names = 'X')\n",
    "# pathways = as.list(as.data.frame(t(all_paths)))\n",
    "# temp = lapply(names(pathways), function(x) pathways[[x]][!(pathways[[x]]=='')])\n",
    "# names(temp) = names(pathways)\n",
    "\n",
    "# P = temp"
   ]
  },
  {
   "cell_type": "code",
   "execution_count": 69,
   "metadata": {
    "vscode": {
     "languageId": "r"
    }
   },
   "outputs": [
    {
     "name": "stdout",
     "output_type": "stream",
     "text": [
      "[1] 10226\n",
      "[1] 10226\n"
     ]
    }
   ],
   "source": [
    "# load DEGS - all Ex\n",
    "data1 <- read.csv('../../common_variant_data/degs_rs3752246.csv', row.names=1)\n",
    "data1$genes = rownames(data1)\n",
    "data1_scores = get_scores(data1)\n",
    "\n",
    "o = fgsea(pathways = P, stats = data1_scores, minSize = 5, maxSize = 1000, nproc=1, nPermSimple=10000)\n",
    "o = o[order(o$pval,decreasing=T),]\n",
    "o$score = sign(o$NES) * -log10(o$pval)\n",
    "o$pathway = factor(o$pathway, levels = o$pathway)\n",
    "o$leadingEdge = NULL\n",
    "write.csv(as.data.frame(o[order(o$pval),]), '../../processed_data/fgsea_rs3752246.csv')\n"
   ]
  },
  {
   "cell_type": "code",
   "execution_count": 76,
   "metadata": {
    "vscode": {
     "languageId": "r"
    }
   },
   "outputs": [
    {
     "name": "stdout",
     "output_type": "stream",
     "text": [
      "[1] 10214\n",
      "[1] 10214\n"
     ]
    }
   ],
   "source": [
    "# load DEGS - set1\n",
    "data1 <- read.csv('../../common_variant_data/degs_rs3752246_set1.csv', row.names=1)\n",
    "data1$genes = rownames(data1)\n",
    "data1_scores = get_scores(data1)\n",
    "\n",
    "o = fgsea(pathways = P, stats = data1_scores, minSize = 5, maxSize = 1000, nproc=1, nPermSimple=10000)\n",
    "o = o[order(o$pval,decreasing=T),]\n",
    "o$score = sign(o$NES) * -log10(o$pval)\n",
    "o$pathway = factor(o$pathway, levels = o$pathway)\n",
    "o$leadingEdge = NULL\n",
    "write.csv(as.data.frame(o[order(o$pval),]), '../../processed_data/fgsea_rs3752246_set1.csv')\n"
   ]
  },
  {
   "cell_type": "code",
   "execution_count": 75,
   "metadata": {
    "vscode": {
     "languageId": "r"
    }
   },
   "outputs": [
    {
     "name": "stdout",
     "output_type": "stream",
     "text": [
      "[1] 10221\n",
      "[1] 10221\n",
      "  |======================================================================| 100%\n",
      "\n"
     ]
    }
   ],
   "source": [
    "# load DEGS - set2\n",
    "data1 <- read.csv('../../common_variant_data/degs_rs3752246_set2.csv', row.names=1)\n",
    "data1$genes = rownames(data1)\n",
    "data1_scores = get_scores(data1)\n",
    "\n",
    "o = fgsea(pathways = P, stats = data1_scores, minSize = 5, maxSize = 1000, nproc=1, nPermSimple=10000)\n",
    "o = o[order(o$pval,decreasing=T),]\n",
    "o$score = sign(o$NES) * -log10(o$pval)\n",
    "o$pathway = factor(o$pathway, levels = o$pathway)\n",
    "o$leadingEdge = NULL\n",
    "write.csv(as.data.frame(o[order(o$pval),]), '../../processed_data/fgsea_rs3752246_set2.csv')\n"
   ]
  },
  {
   "cell_type": "code",
   "execution_count": 74,
   "metadata": {
    "vscode": {
     "languageId": "r"
    }
   },
   "outputs": [
    {
     "name": "stdout",
     "output_type": "stream",
     "text": [
      "[1] 10217\n",
      "[1] 10217\n"
     ]
    }
   ],
   "source": [
    "# load DEGS - set3\n",
    "data1 <- read.csv('../../common_variant_data/degs_rs3752246_set3.csv', row.names=1)\n",
    "data1$genes = rownames(data1)\n",
    "data1_scores = get_scores(data1)\n",
    "\n",
    "o = fgsea(pathways = P, stats = data1_scores, minSize = 5, maxSize = 1000, nproc=1, nPermSimple=10000)\n",
    "o = o[order(o$pval,decreasing=T),]\n",
    "o$score = sign(o$NES) * -log10(o$pval)\n",
    "o$pathway = factor(o$pathway, levels = o$pathway)\n",
    "\n",
    "o$leadingEdge = NULL\n",
    "\n",
    "write.csv(as.data.frame(o[order(o$pval),]), '../../processed_data/fgsea_rs3752246_set3.csv')\n"
   ]
  },
  {
   "cell_type": "code",
   "execution_count": 65,
   "metadata": {
    "vscode": {
     "languageId": "r"
    }
   },
   "outputs": [
    {
     "data": {
      "text/html": [
       "<table class=\"dataframe\">\n",
       "<caption>A data.table: 8 x 8</caption>\n",
       "<thead>\n",
       "\t<tr><th scope=col>pathway</th><th scope=col>pval</th><th scope=col>padj</th><th scope=col>log2err</th><th scope=col>ES</th><th scope=col>NES</th><th scope=col>size</th><th scope=col>score</th></tr>\n",
       "\t<tr><th scope=col>&lt;fct&gt;</th><th scope=col>&lt;dbl&gt;</th><th scope=col>&lt;dbl&gt;</th><th scope=col>&lt;dbl&gt;</th><th scope=col>&lt;dbl&gt;</th><th scope=col>&lt;dbl&gt;</th><th scope=col>&lt;int&gt;</th><th scope=col>&lt;dbl&gt;</th></tr>\n",
       "</thead>\n",
       "<tbody>\n",
       "\t<tr><td>PM.5</td><td>0.90185558</td><td>0.9018556</td><td>0.01754691</td><td>-0.2527692</td><td>-0.6898488</td><td>18</td><td>-0.0448630</td></tr>\n",
       "\t<tr><td>PM.7</td><td>0.50251955</td><td>0.5743081</td><td>0.02262072</td><td> 0.3133622</td><td> 0.9694944</td><td>38</td><td> 0.2988470</td></tr>\n",
       "\t<tr><td>PM.6</td><td>0.46498697</td><td>0.5743081</td><td>0.02387069</td><td> 0.3207149</td><td> 0.9922426</td><td>38</td><td> 0.3325592</td></tr>\n",
       "\t<tr><td>PM.2</td><td>0.29421280</td><td>0.4707405</td><td>0.03261465</td><td> 0.4199168</td><td> 1.1287203</td><td>20</td><td> 0.5313384</td></tr>\n",
       "\t<tr><td>PM.3</td><td>0.21007819</td><td>0.4201564</td><td>0.03891206</td><td> 0.3821275</td><td> 1.1822435</td><td>38</td><td> 0.6776190</td></tr>\n",
       "\t<tr><td>PM.1</td><td>0.14011084</td><td>0.3736289</td><td>0.04864393</td><td> 0.3978890</td><td> 1.2558040</td><td>42</td><td> 0.8535283</td></tr>\n",
       "\t<tr><td>PM.4</td><td>0.05300414</td><td>0.2120166</td><td>0.08113341</td><td> 0.4397525</td><td> 1.3958068</td><td>43</td><td> 1.2756902</td></tr>\n",
       "\t<tr><td>PM.0</td><td>0.03055947</td><td>0.2120166</td><td>0.12595293</td><td>-0.4915937</td><td>-1.5191910</td><td>31</td><td>-1.5148541</td></tr>\n",
       "</tbody>\n",
       "</table>\n"
      ],
      "text/latex": [
       "A data.table: 8 x 8\n",
       "\\begin{tabular}{llllllll}\n",
       " pathway & pval & padj & log2err & ES & NES & size & score\\\\\n",
       " <fct> & <dbl> & <dbl> & <dbl> & <dbl> & <dbl> & <int> & <dbl>\\\\\n",
       "\\hline\n",
       "\t PM.5 & 0.90185558 & 0.9018556 & 0.01754691 & -0.2527692 & -0.6898488 & 18 & -0.0448630\\\\\n",
       "\t PM.7 & 0.50251955 & 0.5743081 & 0.02262072 &  0.3133622 &  0.9694944 & 38 &  0.2988470\\\\\n",
       "\t PM.6 & 0.46498697 & 0.5743081 & 0.02387069 &  0.3207149 &  0.9922426 & 38 &  0.3325592\\\\\n",
       "\t PM.2 & 0.29421280 & 0.4707405 & 0.03261465 &  0.4199168 &  1.1287203 & 20 &  0.5313384\\\\\n",
       "\t PM.3 & 0.21007819 & 0.4201564 & 0.03891206 &  0.3821275 &  1.1822435 & 38 &  0.6776190\\\\\n",
       "\t PM.1 & 0.14011084 & 0.3736289 & 0.04864393 &  0.3978890 &  1.2558040 & 42 &  0.8535283\\\\\n",
       "\t PM.4 & 0.05300414 & 0.2120166 & 0.08113341 &  0.4397525 &  1.3958068 & 43 &  1.2756902\\\\\n",
       "\t PM.0 & 0.03055947 & 0.2120166 & 0.12595293 & -0.4915937 & -1.5191910 & 31 & -1.5148541\\\\\n",
       "\\end{tabular}\n"
      ],
      "text/markdown": [
       "\n",
       "A data.table: 8 x 8\n",
       "\n",
       "| pathway &lt;fct&gt; | pval &lt;dbl&gt; | padj &lt;dbl&gt; | log2err &lt;dbl&gt; | ES &lt;dbl&gt; | NES &lt;dbl&gt; | size &lt;int&gt; | score &lt;dbl&gt; |\n",
       "|---|---|---|---|---|---|---|---|\n",
       "| PM.5 | 0.90185558 | 0.9018556 | 0.01754691 | -0.2527692 | -0.6898488 | 18 | -0.0448630 |\n",
       "| PM.7 | 0.50251955 | 0.5743081 | 0.02262072 |  0.3133622 |  0.9694944 | 38 |  0.2988470 |\n",
       "| PM.6 | 0.46498697 | 0.5743081 | 0.02387069 |  0.3207149 |  0.9922426 | 38 |  0.3325592 |\n",
       "| PM.2 | 0.29421280 | 0.4707405 | 0.03261465 |  0.4199168 |  1.1287203 | 20 |  0.5313384 |\n",
       "| PM.3 | 0.21007819 | 0.4201564 | 0.03891206 |  0.3821275 |  1.1822435 | 38 |  0.6776190 |\n",
       "| PM.1 | 0.14011084 | 0.3736289 | 0.04864393 |  0.3978890 |  1.2558040 | 42 |  0.8535283 |\n",
       "| PM.4 | 0.05300414 | 0.2120166 | 0.08113341 |  0.4397525 |  1.3958068 | 43 |  1.2756902 |\n",
       "| PM.0 | 0.03055947 | 0.2120166 | 0.12595293 | -0.4915937 | -1.5191910 | 31 | -1.5148541 |\n",
       "\n"
      ],
      "text/plain": [
       "  pathway pval       padj      log2err    ES         NES        size score     \n",
       "1 PM.5    0.90185558 0.9018556 0.01754691 -0.2527692 -0.6898488 18   -0.0448630\n",
       "2 PM.7    0.50251955 0.5743081 0.02262072  0.3133622  0.9694944 38    0.2988470\n",
       "3 PM.6    0.46498697 0.5743081 0.02387069  0.3207149  0.9922426 38    0.3325592\n",
       "4 PM.2    0.29421280 0.4707405 0.03261465  0.4199168  1.1287203 20    0.5313384\n",
       "5 PM.3    0.21007819 0.4201564 0.03891206  0.3821275  1.1822435 38    0.6776190\n",
       "6 PM.1    0.14011084 0.3736289 0.04864393  0.3978890  1.2558040 42    0.8535283\n",
       "7 PM.4    0.05300414 0.2120166 0.08113341  0.4397525  1.3958068 43    1.2756902\n",
       "8 PM.0    0.03055947 0.2120166 0.12595293 -0.4915937 -1.5191910 31   -1.5148541"
      ]
     },
     "metadata": {},
     "output_type": "display_data"
    }
   ],
   "source": [
    "o"
   ]
  }
 ],
 "metadata": {
  "kernelspec": {
   "display_name": "R (fgsea_env)",
   "language": "R",
   "name": "fgsea_env"
  },
  "language_info": {
   "codemirror_mode": "r",
   "file_extension": ".r",
   "mimetype": "text/x-r-source",
   "name": "R",
   "pygments_lexer": "r",
   "version": "4.4.3"
  }
 },
 "nbformat": 4,
 "nbformat_minor": 2
}

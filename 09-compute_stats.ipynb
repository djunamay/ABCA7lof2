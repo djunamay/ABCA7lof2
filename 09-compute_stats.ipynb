{
 "cells": [
  {
   "cell_type": "code",
   "execution_count": 19,
   "id": "9278ec8a-aa99-4547-b7f4-33f8e9f6042b",
   "metadata": {
    "tags": []
   },
   "outputs": [],
   "source": [
    "library(edgeR)\n",
    "library(sva)\n",
    "source('./ABCA7lof2//degs.r')"
   ]
  },
  {
   "cell_type": "code",
   "execution_count": 20,
   "id": "20b7f287-4a15-4660-aff9-9378eff2523f",
   "metadata": {},
   "outputs": [],
   "source": [
    "all_data = readRDS('./processed_data/single_cell/stats_input_data.rds')"
   ]
  },
  {
   "cell_type": "code",
   "execution_count": 21,
   "id": "16f02950-bee9-46f9-ba6f-a5353b4f6998",
   "metadata": {},
   "outputs": [],
   "source": [
    "summed_counts = all_data$summed_counts_by_ind # does it make sense to be summing on the counts vs taking the mean of the counts? --> compare to nebula? --> ok because we are normalizing?\n",
    "meta = all_data$summary\n",
    "meta$seq_batch = ifelse(meta$seq_batch=='JBM',1,0)\n",
    "expressed = all_data$expressed10"
   ]
  },
  {
   "cell_type": "code",
   "execution_count": 22,
   "id": "85c0bbcf-5eac-4ee3-820d-82c267fe1247",
   "metadata": {},
   "outputs": [],
   "source": [
    "# filter out individuals with too few cells per celltype\n",
    "keep = summed_counts$ncells>20\n",
    "summed_counts_indexed = summed_counts$summed_counts[,keep]"
   ]
  },
  {
   "cell_type": "code",
   "execution_count": 23,
   "id": "48f38d7b-3b10-4976-902f-c9e2b9533164",
   "metadata": {},
   "outputs": [
    {
     "name": "stdout",
     "output_type": "stream",
     "text": [
      "Number of significant surrogate variables is:  9 \n",
      "Iteration (out of 5 ):1  2  3  4  5  Number of significant surrogate variables is:  8 \n",
      "Iteration (out of 5 ):1  2  3  4  5  Number of significant surrogate variables is:  8 \n",
      "Iteration (out of 5 ):1  2  3  4  5  Number of significant surrogate variables is:  8 \n",
      "Iteration (out of 5 ):1  2  3  4  5  Number of significant surrogate variables is:  9 \n",
      "Iteration (out of 5 ):1  2  3  4  5  Number of significant surrogate variables is:  7 \n",
      "Iteration (out of 5 ):1  2  3  4  5  "
     ]
    }
   ],
   "source": [
    "# compute degs (all samples)\n",
    "vars = c('LOF', 'amyloid', 'nft',  'msex', 'age_death', 'pmi', 'seq_batch', 'APOE4')\n",
    "limma_inputs = get_limma_inputs(summed_counts_indexed, expressed, meta, vars)\n",
    "aggs = limma_inputs$aggs\n",
    "metadata = limma_inputs$metadata\n",
    "\n",
    "\n",
    "degs_all = lapply(names(aggs)[!names(aggs)%in%c('Vascular')], function(x) RunDiffExprAnalysisLimma(aggs[[x]], metadata[[x]], n.sv=NULL))\n",
    "names(degs_all) = names(aggs)[!names(aggs)%in%c('Vascular')]"
   ]
  },
  {
   "cell_type": "code",
   "execution_count": 24,
   "id": "3dfb9905-66b4-4922-a81a-700aa421fa81",
   "metadata": {},
   "outputs": [],
   "source": [
    "# get the ids\n",
    "ids = strsplit(colnames(summed_counts_indexed), '[.]')\n",
    "ids = unlist(lapply(1:length(ids), function(x) ids[[x]][2]))"
   ]
  },
  {
   "cell_type": "code",
   "execution_count": 25,
   "id": "262fbf0a-02c3-417d-85b9-b6e0f5ef554a",
   "metadata": {},
   "outputs": [
    {
     "name": "stdout",
     "output_type": "stream",
     "text": [
      "Number of significant surrogate variables is:  6 \n",
      "Iteration (out of 5 ):1  2  3  4  5  Number of significant surrogate variables is:  5 \n",
      "Iteration (out of 5 ):1  2  3  4  5  Number of significant surrogate variables is:  6 \n",
      "Iteration (out of 5 ):1  2  3  4  5  Number of significant surrogate variables is:  5 \n",
      "Iteration (out of 5 ):1  2  3  4  5  Number of significant surrogate variables is:  4 \n",
      "Iteration (out of 5 ):1  2  3  4  5  Number of significant surrogate variables is:  3 \n",
      "Iteration (out of 5 ):1  2  3  4  5  "
     ]
    }
   ],
   "source": [
    "# compute degs (no APOE4 samples)\n",
    "vars = c('LOF', 'amyloid', 'nft',  'msex', 'age_death', 'pmi', 'seq_batch')\n",
    "sele = rownames(meta)[meta$APOE4==0]\n",
    "sc_noAPOE4 = summed_counts_indexed[,ids%in%sele]\n",
    "limma_inputs = get_limma_inputs(sc_noAPOE4, expressed, meta[sele,], vars)\n",
    "aggs = limma_inputs$aggs\n",
    "metadata = limma_inputs$metadata\n",
    "degs_noAPOE4 = lapply(names(aggs)[!names(aggs)%in%c('Vascular')], function(x) RunDiffExprAnalysisLimma(aggs[[x]], metadata[[x]], n.sv=NULL, exclude_apoe=TRUE))\n",
    "names(degs_noAPOE4) = names(aggs)[!names(aggs)%in%c('Vascular')]\n"
   ]
  },
  {
   "cell_type": "code",
   "execution_count": 26,
   "id": "9fb2f2a5-2706-4811-b79d-2f3927497fd2",
   "metadata": {},
   "outputs": [
    {
     "name": "stdout",
     "output_type": "stream",
     "text": [
      "Number of significant surrogate variables is:  4 \n",
      "Iteration (out of 5 ):1  2  3  4  5  Number of significant surrogate variables is:  4 \n",
      "Iteration (out of 5 ):1  2  3  4  5  Number of significant surrogate variables is:  4 \n",
      "Iteration (out of 5 ):1  2  3  4  5  Number of significant surrogate variables is:  4 \n",
      "Iteration (out of 5 ):1  2  3  4  5  Number of significant surrogate variables is:  4 \n",
      "Iteration (out of 5 ):1  2  3  4  5  Number of significant surrogate variables is:  4 \n",
      "Iteration (out of 5 ):1  2  3  4  5  "
     ]
    }
   ],
   "source": [
    "# compute degs (no APOE4 samples)\n",
    "vars = c('LOF', 'amyloid', 'nft',  'msex', 'age_death', 'pmi', 'APOE4')\n",
    "sele = rownames(meta)[meta$seq_batch==1]\n",
    "sc_JBM = summed_counts_indexed[,ids%in%sele]\n",
    "limma_inputs = get_limma_inputs(sc_JBM, expressed, meta[sele,], vars)\n",
    "aggs = limma_inputs$aggs\n",
    "metadata = limma_inputs$metadata\n",
    "degs_JBM = lapply(names(aggs)[!names(aggs)%in%c('Vascular')], function(x) RunDiffExprAnalysisLimma(aggs[[x]], metadata[[x]], n.sv=NULL, exclude_batch=TRUE))\n",
    "names(degs_JBM) = names(aggs)[!names(aggs)%in%c('Vascular')]"
   ]
  },
  {
   "cell_type": "code",
   "execution_count": 27,
   "id": "5a562439-f63a-425a-b830-d3ccab407148",
   "metadata": {},
   "outputs": [
    {
     "name": "stdout",
     "output_type": "stream",
     "text": [
      "Number of significant surrogate variables is:  4 \n",
      "Iteration (out of 5 ):1  2  3  4  5  Number of significant surrogate variables is:  3 \n",
      "Iteration (out of 5 ):1  2  3  4  5  Number of significant surrogate variables is:  3 \n",
      "Iteration (out of 5 ):1  2  3  4  5  Number of significant surrogate variables is:  3 \n",
      "Iteration (out of 5 ):1  2  3  4  5  Number of significant surrogate variables is:  4 \n",
      "Iteration (out of 5 ):1  2  3  4  5  Number of significant surrogate variables is:  2 \n",
      "Iteration (out of 5 ):1  2  3  4  5  "
     ]
    }
   ],
   "source": [
    "# exclude both\n",
    "vars = c('LOF', 'amyloid', 'nft',  'msex', 'age_death', 'pmi')\n",
    "sele = rownames(meta)[(meta$seq_batch==1) & (meta$APOE4==0)]\n",
    "sc_exclude_both = summed_counts_indexed[,ids%in%sele]\n",
    "limma_inputs = get_limma_inputs(sc_exclude_both, expressed, meta[sele,], vars)\n",
    "aggs = limma_inputs$aggs\n",
    "metadata = limma_inputs$metadata\n",
    "degs_exclude_both = lapply(names(aggs)[!names(aggs)%in%c('Vascular')], function(x) RunDiffExprAnalysisLimma(aggs[[x]], metadata[[x]], n.sv=NULL, exclude_both=TRUE))\n",
    "names(degs_exclude_both) = names(aggs)[!names(aggs)%in%c('Vascular')]"
   ]
  },
  {
   "cell_type": "code",
   "execution_count": 28,
   "id": "239c315f-3f48-4b88-98eb-8626c798b002",
   "metadata": {},
   "outputs": [],
   "source": [
    "# save the results\n",
    "degs = list()\n",
    "degs[['degs_all']] = degs_all\n",
    "degs[['degs_exclude_both']] = degs_exclude_both\n",
    "degs[['degs_JBM']] = degs_JBM\n",
    "degs[['degs_noAPOE4']] = degs_noAPOE4\n",
    "\n",
    "saveRDS(degs, './processed_data/single_cell/pseudobulk_degs.rds')"
   ]
  }
 ],
 "metadata": {
  "kernelspec": {
   "display_name": "R [conda env:.conda-r_env]",
   "language": "R",
   "name": "conda-env-.conda-r_env-r"
  },
  "language_info": {
   "codemirror_mode": "r",
   "file_extension": ".r",
   "mimetype": "text/x-r-source",
   "name": "R",
   "pygments_lexer": "r",
   "version": "4.2.3"
  }
 },
 "nbformat": 4,
 "nbformat_minor": 5
}

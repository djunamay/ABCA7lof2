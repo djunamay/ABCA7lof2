{
 "cells": [
  {
   "cell_type": "code",
   "execution_count": 52,
   "metadata": {
    "vscode": {
     "languageId": "r"
    }
   },
   "outputs": [],
   "source": [
    "library(fgsea)\n",
    "library(jsonlite)\n"
   ]
  },
  {
   "cell_type": "code",
   "execution_count": 53,
   "metadata": {
    "vscode": {
     "languageId": "r"
    }
   },
   "outputs": [],
   "source": [
    "get_scores = function(x) {\n",
    "  scores = sign(x$logFC) * -log10(x$P.Value)\n",
    "  names(scores) = x$genes\n",
    "  sorted_scores = sort(scores, decreasing = TRUE)\n",
    "  print(length(sorted_scores))\n",
    "  print(length(unique(names(sorted_scores))))\n",
    "  return(sorted_scores)\n",
    "}\n",
    "\n",
    "get_geneset = function(x) {\n",
    "  return(unique(unlist(x[x$padj<0.05]$leadingEdge)))\n",
    "}\n"
   ]
  },
  {
   "cell_type": "code",
   "execution_count": 38,
   "metadata": {
    "vscode": {
     "languageId": "r"
    }
   },
   "outputs": [
    {
     "name": "stdout",
     "output_type": "stream",
     "text": [
      "[1] 13170\n",
      "[1] 13169\n",
      "[1] 13170\n",
      "[1] 13169\n",
      "[1] 13170\n",
      "[1] 13169\n",
      "[1] 13170\n",
      "[1] 13169\n"
     ]
    }
   ],
   "source": [
    "# load data \n",
    "data1 <- read.csv('../../bulkRNAseq/y622_degs.csv', row.names=1)\n",
    "data1_scores = get_scores(data1)\n",
    "data2 <- read.csv('../../bulkRNAseq/choline_degs.csv', row.names=1)\n",
    "data2_scores = get_scores(data2)\n",
    "data3 <- read.csv('../../bulkRNAseq/g2_degs.csv', row.names=1)\n",
    "data3_scores = get_scores(data3)\n",
    "data4 <- read.csv('../../bulkRNAseq/choline_batch2_degs.csv', row.names=1)\n",
    "data4_scores = get_scores(data4)\n",
    "\n",
    "# compute fgsea results\n",
    "all_paths = read.csv('../../processed_data/all_paths.csv', row.names = 'X')\n",
    "pathways = as.list(as.data.frame(t(all_paths)))\n",
    "temp = lapply(names(pathways), function(x) pathways[[x]][!(pathways[[x]]=='')])\n",
    "names(temp) = names(pathways)"
   ]
  },
  {
   "cell_type": "code",
   "execution_count": 39,
   "metadata": {
    "vscode": {
     "languageId": "r"
    }
   },
   "outputs": [
    {
     "name": "stdout",
     "output_type": "stream",
     "text": [
      "  |======================================================================| 100%\n",
      "\n",
      "  |======================================================================| 100%\n",
      "\n",
      "  |======================================================================| 100%\n",
      "\n",
      "  |======================================================================| 100%\n",
      "\n"
     ]
    }
   ],
   "source": [
    "# load degs\n",
    "data1_out = fgsea(pathways = temp, stats = data1_scores[!duplicated(names(data1_scores))], minSize = 5, maxSize = 1000, nproc=1, nPermSimple=10000)\n",
    "data2_out = fgsea(pathways = temp, stats = data2_scores[!duplicated(names(data2_scores))], minSize = 5, maxSize = 1000, nproc=1, nPermSimple=10000)\n",
    "data3_out = fgsea(pathways = temp, stats = data3_scores[!duplicated(names(data3_scores))], minSize = 5, maxSize = 1000, nproc=1, nPermSimple=10000)\n",
    "data4_out = fgsea(pathways = temp, stats = data4_scores[!duplicated(names(data4_scores))], minSize = 5, maxSize = 1000, nproc=1, nPermSimple=10000)\n",
    "\n"
   ]
  },
  {
   "cell_type": "code",
   "execution_count": 63,
   "metadata": {
    "vscode": {
     "languageId": "r"
    }
   },
   "outputs": [],
   "source": [
    "out_dict <- list(\n",
    "  wt_y622 = get_geneset(data1_out),\n",
    "  y622_choline = get_geneset(data2_out),\n",
    "  wt_g2 = get_geneset(data3_out)\n",
    ")\n",
    "\n",
    "write_json(out_dict, path = \"../../processed_data/bulkRNAseq_fgsea_leading_edge.json\", pretty = TRUE)\n"
   ]
  }
 ],
 "metadata": {
  "kernelspec": {
   "display_name": "R (fgsea_env)",
   "language": "R",
   "name": "fgsea_env"
  },
  "language_info": {
   "codemirror_mode": "r",
   "file_extension": ".r",
   "mimetype": "text/x-r-source",
   "name": "R",
   "pygments_lexer": "r",
   "version": "4.4.3"
  }
 },
 "nbformat": 4,
 "nbformat_minor": 2
}

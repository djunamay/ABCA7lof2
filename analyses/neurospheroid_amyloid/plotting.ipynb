{
 "cells": [
  {
   "cell_type": "markdown",
   "metadata": {},
   "source": [
    "<div style=\"border: 2px solid red; padding: 10px; border-radius: 5px;\">\n",
    "<strong>Notebook description:</strong>\n",
    "    \n",
    "Plotting ELISA data from organoids\n",
    "\n",
    "<strong>Input Data:</strong>\n",
    "\n",
    "`ABCA7_spheroid_Abeta ELISA_011125_4Week.csv` \n",
    "\n",
    "`ABCA7_spheroid_Abeta ELISA_122124.csv`\n",
    "\n",
    "\n",
    "<strong>Figures:</strong>\n",
    "\n",
    "`fig4`\n",
    "`ED13`\n",
    "\n",
    "<strong>Last Run All:</strong>\n",
    "June 18, 2025\n"
   ]
  },
  {
   "cell_type": "code",
   "execution_count": 2,
   "metadata": {},
   "outputs": [],
   "source": [
    "import sys\n",
    "sys.path.append('/Users/djuna/Documents/ABCA7lof2/')\n",
    "\n",
    "import pandas as pd\n",
    "import seaborn as sns\n",
    "import matplotlib.pyplot as plt\n",
    "from statannotations.Annotator import Annotator\n",
    "import numpy as np\n",
    "\n",
    "from ABCA7lof2.utils import apply_custom_plot_style\n",
    "from ABCA7lof2.boxplotting import plot_boxplot_by_treatment, detect_outliers_iqr\n",
    "apply_custom_plot_style()"
   ]
  },
  {
   "cell_type": "markdown",
   "metadata": {},
   "source": [
    "Load data"
   ]
  },
  {
   "cell_type": "code",
   "execution_count": 3,
   "metadata": {},
   "outputs": [],
   "source": [
    "# load data\n",
    "data = pd.read_csv('../../elisa_data/ABCA7_spheroid_Abeta ELISA_011125_4Week.csv', index_col=0)\n",
    "data_subset = data[(data['Line'] != 'G2') & (data['Line'] != 'Y+500uM')]\n",
    "data_subset.columns = ['line', 'x', 'y', 'Abeta42', 'Abeta40', 'Abeta42/40']\n",
    "data_subset.index = np.arange(len(data_subset))"
   ]
  },
  {
   "cell_type": "markdown",
   "metadata": {},
   "source": [
    "Remove outliers"
   ]
  },
  {
   "cell_type": "code",
   "execution_count": 4,
   "metadata": {},
   "outputs": [],
   "source": [
    "# Remove outliers (significant also when not doing so, but makes it very difficult to plot otherwise)\n",
    "outliers, lb, ub = detect_outliers_iqr(data_subset['Abeta40'].values)\n",
    "data_40 = data_subset[np.invert(outliers)]\n",
    "\n",
    "outliers, lb, ub = detect_outliers_iqr(data_subset['Abeta42'].values)\n",
    "data_42 = data_subset[np.invert(outliers)]\n"
   ]
  },
  {
   "cell_type": "code",
   "execution_count": 5,
   "metadata": {},
   "outputs": [
    {
     "data": {
      "text/plain": [
       "line\n",
       "E3       20\n",
       "y622     19\n",
       "Y+1mM    14\n",
       "Name: count, dtype: int64"
      ]
     },
     "execution_count": 5,
     "metadata": {},
     "output_type": "execute_result"
    }
   ],
   "source": [
    "data_40['line'].value_counts()"
   ]
  },
  {
   "cell_type": "code",
   "execution_count": 6,
   "metadata": {},
   "outputs": [
    {
     "data": {
      "text/plain": [
       "line\n",
       "E3       20\n",
       "y622     19\n",
       "Y+1mM    14\n",
       "Name: count, dtype: int64"
      ]
     },
     "execution_count": 6,
     "metadata": {},
     "output_type": "execute_result"
    }
   ],
   "source": [
    "data_42['line'].value_counts()"
   ]
  },
  {
   "cell_type": "markdown",
   "metadata": {},
   "source": [
    "Do stats for Ab40"
   ]
  },
  {
   "cell_type": "code",
   "execution_count": 7,
   "metadata": {},
   "outputs": [
    {
     "name": "stdout",
     "output_type": "stream",
     "text": [
      "comparison 1 E3, y622, Y+1mM\n",
      "0.8190778968694478 0.38262778610886194 0.9991934991054935\n",
      "p_levene E3 vs y622 0.03802120111132281\n",
      "p_levene y622 vs Y+1mM 0.4138898180733708\n"
     ]
    }
   ],
   "source": [
    "from scipy.stats import shapiro, levene, ttest_ind\n",
    "\n",
    "group1 = data_40[data_40['line'] == 'E3']['Abeta40']\n",
    "group2 = data_40[data_40['line'] == 'y622']['Abeta40']\n",
    "group3 = data_40[data_40['line'] == 'Y+1mM']['Abeta40']\n",
    "\n",
    "stat1, p_norm1 = shapiro(group1)\n",
    "stat2, p_norm2 = shapiro(group2)\n",
    "stat3, p_norm3 = shapiro(group3)\n",
    "print('comparison 1 E3, y622, Y+1mM')\n",
    "print(p_norm1, p_norm2, p_norm3)\n",
    "\n",
    "stat, p_levene = levene(group1, group2)\n",
    "# Decide whether to assume equal variances\n",
    "equal_var = p_levene > 0.05 \n",
    "print('p_levene E3 vs y622', p_levene)\n",
    "\n",
    "stat, p_levene = levene(group2, group3)\n",
    "# Decide whether to assume equal variances\n",
    "equal_var = p_levene > 0.05 \n",
    "print('p_levene y622 vs Y+1mM', p_levene)\n",
    "\n"
   ]
  },
  {
   "cell_type": "code",
   "execution_count": 8,
   "metadata": {},
   "outputs": [],
   "source": [
    "# Ab40 pvalues\n",
    "group1 = data_40[data_40['line'] == 'E3']['Abeta40']\n",
    "group2 = data_40[data_40['line'] == 'y622']['Abeta40']\n",
    "t_stat, p_value_A = ttest_ind(group1, group2, equal_var=False)\n",
    "\n",
    "group1 = data_40[data_40['line'] == 'y622']['Abeta40']\n",
    "group2 = data_40[data_40['line'] == 'Y+1mM']['Abeta40']\n",
    "t_stat, p_value_B= ttest_ind(group1, group2, equal_var=True)\n",
    "\n",
    "formatted_pvalues_40 = [f\"p={p:.3f}\" if p>0.001 else f\"p={p:.3e}\" for p in [p_value_A, p_value_B]]\n"
   ]
  },
  {
   "cell_type": "markdown",
   "metadata": {},
   "source": [
    "stats for Ab42"
   ]
  },
  {
   "cell_type": "code",
   "execution_count": 9,
   "metadata": {},
   "outputs": [
    {
     "name": "stdout",
     "output_type": "stream",
     "text": [
      "comparison 1 E3, y622, Y+1mM\n",
      "0.6575234494009531 0.32736185124127476 0.7670599472088769\n",
      "p_levene E3 vs y622 0.2025311121489404\n",
      "p_levene y622 vs Y+1mM 0.8239648454817042\n"
     ]
    }
   ],
   "source": [
    "\n",
    "group1 = data_42[data_42['line'] == 'E3']['Abeta42']\n",
    "group2 = data_42[data_42['line'] == 'y622']['Abeta42']\n",
    "group3 = data_42[data_42['line'] == 'Y+1mM']['Abeta42']\n",
    "\n",
    "stat1, p_norm1 = shapiro(group1)\n",
    "stat2, p_norm2 = shapiro(group2)\n",
    "stat3, p_norm3 = shapiro(group3)\n",
    "print('comparison 1 E3, y622, Y+1mM')\n",
    "print(p_norm1, p_norm2, p_norm3)\n",
    "\n",
    "stat, p_levene = levene(group1, group2)\n",
    "# Decide whether to assume equal variances\n",
    "equal_var = p_levene > 0.05 \n",
    "print('p_levene E3 vs y622', p_levene)\n",
    "\n",
    "stat, p_levene = levene(group2, group3)\n",
    "# Decide whether to assume equal variances\n",
    "equal_var = p_levene > 0.05 \n",
    "print('p_levene y622 vs Y+1mM', p_levene)"
   ]
  },
  {
   "cell_type": "code",
   "execution_count": 10,
   "metadata": {},
   "outputs": [],
   "source": [
    "# Ab42 pvalues\n",
    "group1 = data_42[data_42['line'] == 'E3']['Abeta42']\n",
    "group2 = data_42[data_42['line'] == 'y622']['Abeta42']\n",
    "t_stat, p_value_A = ttest_ind(group1, group2, equal_var=True)\n",
    "\n",
    "group1 = data_42[data_42['line'] == 'y622']['Abeta42']\n",
    "group2 = data_42[data_42['line'] == 'Y+1mM']['Abeta42']\n",
    "t_stat, p_value_B= ttest_ind(group1, group2, equal_var=True)\n",
    "\n",
    "formatted_pvalues_42 = [f\"p={p:.3f}\" if p>0.001 else f\"p={p:.3e}\" for p in [p_value_A, p_value_B]]\n"
   ]
  },
  {
   "cell_type": "markdown",
   "metadata": {},
   "source": [
    "plot the data"
   ]
  },
  {
   "cell_type": "code",
   "execution_count": 11,
   "metadata": {},
   "outputs": [
    {
     "name": "stderr",
     "output_type": "stream",
     "text": [
      "/var/folders/y7/zpj5hbtd2bl78b1t9h2723hw0000gn/T/ipykernel_97676/2279058483.py:23: FutureWarning: \n",
      "\n",
      "Passing `palette` without assigning `hue` is deprecated and will be removed in v0.14.0. Assign the `x` variable to `hue` and set `legend=False` for the same effect.\n",
      "\n",
      "  ax = sns.boxplot(\n"
     ]
    },
    {
     "name": "stdout",
     "output_type": "stream",
     "text": [
      "E3 vs. y622: p=7.537e-04\n",
      "y622 vs. Y+1mM: p=0.044\n",
      "E3 vs. y622: p=1.851e-04\n"
     ]
    },
    {
     "name": "stderr",
     "output_type": "stream",
     "text": [
      "/var/folders/y7/zpj5hbtd2bl78b1t9h2723hw0000gn/T/ipykernel_97676/2279058483.py:23: FutureWarning: \n",
      "\n",
      "Passing `palette` without assigning `hue` is deprecated and will be removed in v0.14.0. Assign the `x` variable to `hue` and set `legend=False` for the same effect.\n",
      "\n",
      "  ax = sns.boxplot(\n"
     ]
    },
    {
     "name": "stdout",
     "output_type": "stream",
     "text": [
      "y622 vs. Y+1mM: p=0.002\n"
     ]
    },
    {
     "name": "stderr",
     "output_type": "stream",
     "text": [
      "1 extra bytes in post.stringData array\n",
      "'created' timestamp seems very low; regarding as unix timestamp\n",
      "Zapf NOT subset; don't know how to subset; dropped\n",
      "feat NOT subset; don't know how to subset; dropped\n",
      "meta NOT subset; don't know how to subset; dropped\n",
      "morx NOT subset; don't know how to subset; dropped\n"
     ]
    },
    {
     "data": {
      "image/png": "[encoded data removed]",
      "text/plain": [
       "<Figure size 550x200 with 2 Axes>"
      ]
     },
     "metadata": {},
     "output_type": "display_data"
    }
   ],
   "source": [
    "fig, (ax1, ax2) = plt.subplots(1, 2, figsize=(5.5, 2))\n",
    "\n",
    "plt.sca(ax1)\n",
    "\n",
    "ax1 = plot_boxplot_by_treatment(data_40, 'line', 'Abeta40', order = ['E3', 'y622', 'Y+1mM'], pairs = [('E3', 'y622'), ('y622', 'Y+1mM')],palette={'E3': 'grey', 'y622': 'orange', 'Y+1mM': 'purple'}, \n",
    "                                ylim = np.max(data_40['Abeta40']+50), pvalues=formatted_pvalues_40)\n",
    "\n",
    "ax1.set_xticks([])\n",
    "ax1.spines['top'].set_visible(False)\n",
    "ax1.spines['right'].set_visible(False)\n",
    "ax1.set_ylabel('Aβ40 levels (pg/mL)')\n",
    "\n",
    "ax1.text(-0.15, -0.05, \"WT\\n+ H2O\", ha='center', va='top', transform=ax1.get_xaxis_transform(),\n",
    "         bbox=dict(boxstyle=\"round,pad=0.2\", fc=\"grey\", ec=\"grey\", alpha=0.5), fontsize=8)\n",
    "ax1.text(0.7, -0.05, \"p.Tyr622*\\n+ H2O\", ha='center', va='top', transform=ax1.get_xaxis_transform(),\n",
    "         bbox=dict(boxstyle=\"round,pad=0.2\", fc=\"orange\", ec=\"orange\", alpha=0.5), fontsize=8)\n",
    "ax1.text(1.9, -0.05, \"p.Tyr622*\\n+ CDP-choline\", ha='center', va='top', transform=ax1.get_xaxis_transform(),\n",
    "         bbox=dict(boxstyle=\"round,pad=0.2\", fc=\"purple\", ec=\"purple\", alpha=0.5), fontsize=8)\n",
    "\n",
    "plt.sca(ax2)\n",
    "\n",
    "ax2 = plot_boxplot_by_treatment(data_42, 'line', 'Abeta42', order = ['E3', 'y622', 'Y+1mM'], pairs = [('E3', 'y622'), ('y622', 'Y+1mM')],palette={'E3': 'grey', 'y622': 'orange', 'Y+1mM': 'purple'}, \n",
    "                                ylim = np.max(data_42['Abeta42']+50), pvalues=formatted_pvalues_42)\n",
    "ax2.set_xticks([])\n",
    "ax2.spines['top'].set_visible(False)\n",
    "ax2.spines['right'].set_visible(False)\n",
    "ax2.set_ylabel('Aβ42 levels (pg/mL)')\n",
    "\n",
    "ax2.text(-0.15, -0.05, \"WT\\n+ H2O\", ha='center', va='top', transform=ax2.get_xaxis_transform(),\n",
    "         bbox=dict(boxstyle=\"round,pad=0.2\", fc=\"grey\", ec=\"grey\", alpha=0.5), fontsize=8)\n",
    "ax2.text(0.7, -0.05, \"p.Tyr622*\\n+ H2O\", ha='center', va='top', transform=ax2.get_xaxis_transform(),\n",
    "         bbox=dict(boxstyle=\"round,pad=0.2\", fc=\"orange\", ec=\"orange\", alpha=0.5), fontsize=8)\n",
    "ax2.text(1.9, -0.05, \"p.Tyr622*\\n+ CDP-choline\", ha='center', va='top', transform=ax2.get_xaxis_transform(),\n",
    "         bbox=dict(boxstyle=\"round,pad=0.2\", fc=\"purple\", ec=\"purple\", alpha=0.5), fontsize=8)\n",
    "\n",
    "plt.subplots_adjust(left=0.07, right=0.9, top=0.8, bottom=0.08, wspace=0.4)\n",
    "\n",
    "plt.savefig('/Users/djuna/Documents/ABCA7lof2/editorial_paper/main_panels_svgs/fig4/abeta_elisa.pdf', dpi=300, bbox_inches='tight')"
   ]
  },
  {
   "cell_type": "markdown",
   "metadata": {},
   "source": [
    "### Plot earlier time points & lower drug concentrations"
   ]
  },
  {
   "cell_type": "code",
   "execution_count": 12,
   "metadata": {},
   "outputs": [],
   "source": [
    "# load data\n",
    "data = pd.read_csv('../../elisa_data/ABCA7_spheroid_Abeta ELISA_122124.csv', index_col=None)\n",
    "data_subset = data[(data['Unnamed: 0'] != 'G2')]\n",
    "data_subset.columns = ['line', 'x', 'y', 'z', 'Abeta42', 'Abeta40', 'Abeta42/40']\n",
    "data_subset.index = np.arange(len(data_subset))"
   ]
  },
  {
   "cell_type": "markdown",
   "metadata": {},
   "source": [
    "outlier removal"
   ]
  },
  {
   "cell_type": "code",
   "execution_count": 13,
   "metadata": {},
   "outputs": [],
   "source": [
    "# Remove outliers (significant also when not doing so, but makes it very difficult to plot otherwise)\n",
    "outliers, lb, ub = detect_outliers_iqr(data_subset['Abeta40'].values)\n",
    "data_40 = data_subset[np.invert(outliers)]\n",
    "\n",
    "outliers, lb, ub = detect_outliers_iqr(data_subset['Abeta42'].values)\n",
    "data_42 = data_subset[np.invert(outliers)]\n"
   ]
  },
  {
   "cell_type": "markdown",
   "metadata": {},
   "source": [
    "Stats ab40"
   ]
  },
  {
   "cell_type": "code",
   "execution_count": 14,
   "metadata": {},
   "outputs": [
    {
     "name": "stdout",
     "output_type": "stream",
     "text": [
      "comparison 1\n",
      "0.9761577500432812 0.7858873439005157 0.12188525274628983 0.209388808469558\n",
      "p_levene E3 vs y622 0.02771267797624425\n",
      "p_levene y622 vs Y+500uM 0.04265863644131657\n",
      "p_levene y622 vs Y+1mM 0.14388305189092862\n"
     ]
    }
   ],
   "source": [
    "\n",
    "group1 = data_40[data_40['line'] == 'E3']['Abeta40']\n",
    "group2 = data_40[data_40['line'] == 'y622']['Abeta40']\n",
    "group3 = data_40[data_40['line'] == 'Y+500uM']['Abeta40']\n",
    "group4 = data_40[data_40['line'] == 'Y+1mM']['Abeta40']\n",
    "\n",
    "stat1, p_norm1 = shapiro(group1)\n",
    "stat2, p_norm2 = shapiro(group2)\n",
    "stat3, p_norm3 = shapiro(group3)\n",
    "stat4, p_norm4 = shapiro(group4)\n",
    "\n",
    "print('comparison 1')\n",
    "print(p_norm1, p_norm2, p_norm3, p_norm4)\n",
    "\n",
    "stat, p_levene1 = levene(group1, group2)\n",
    "stat, p_levene2 = levene(group2, group3)\n",
    "stat, p_levene3 = levene(group2, group4)\n",
    "print('p_levene E3 vs y622', p_levene1)\n",
    "print('p_levene y622 vs Y+500uM', p_levene2)\n",
    "print('p_levene y622 vs Y+1mM', p_levene3)\n"
   ]
  },
  {
   "cell_type": "code",
   "execution_count": 15,
   "metadata": {},
   "outputs": [
    {
     "data": {
      "text/plain": [
       "['p=2.709e-04', 'p=0.715', 'p=0.049']"
      ]
     },
     "execution_count": 15,
     "metadata": {},
     "output_type": "execute_result"
    }
   ],
   "source": [
    "# Ab40\n",
    "t_stat, p_value_A = ttest_ind(group1, group2, equal_var=False)\n",
    "t_stat, p_value_B= ttest_ind(group2, group3, equal_var=False)\n",
    "t_stat, p_value_C= ttest_ind(group2, group4, equal_var=True)\n",
    "\n",
    "formatted_pvalues_40 = [f\"p={p:.3f}\" if p>0.001 else f\"p={p:.3e}\" for p in [p_value_A, p_value_B, p_value_C]]\n",
    "formatted_pvalues_40"
   ]
  },
  {
   "cell_type": "markdown",
   "metadata": {},
   "source": [
    "stats ab42"
   ]
  },
  {
   "cell_type": "code",
   "execution_count": 16,
   "metadata": {},
   "outputs": [
    {
     "name": "stdout",
     "output_type": "stream",
     "text": [
      "comparison 1\n",
      "0.09746710925499026 0.7435813493640189 0.934528943807727 0.5306010724109042\n",
      "p_levene E3 vs y622 0.5234011306249455\n",
      "p_levene y622 vs Y+500uM 0.058169012391182225\n",
      "p_levene y622 vs Y+1mM 0.6898530396945679\n"
     ]
    }
   ],
   "source": [
    "\n",
    "group1 = data_42[data_42['line'] == 'E3']['Abeta42']\n",
    "group2 = data_42[data_42['line'] == 'y622']['Abeta42']\n",
    "group3 = data_42[data_42['line'] == 'Y+500uM']['Abeta42']\n",
    "group4 = data_42[data_42['line'] == 'Y+1mM']['Abeta42']\n",
    "\n",
    "stat1, p_norm1 = shapiro(group1)\n",
    "stat2, p_norm2 = shapiro(group2)\n",
    "stat3, p_norm3 = shapiro(group3)\n",
    "stat4, p_norm4 = shapiro(group4)\n",
    "\n",
    "print('comparison 1')\n",
    "print(p_norm1, p_norm2, p_norm3, p_norm4)\n",
    "\n",
    "stat, p_levene1 = levene(group1, group2)\n",
    "stat, p_levene2 = levene(group2, group3)\n",
    "stat, p_levene3 = levene(group2, group4)\n",
    "print('p_levene E3 vs y622', p_levene1)\n",
    "print('p_levene y622 vs Y+500uM', p_levene2)\n",
    "print('p_levene y622 vs Y+1mM', p_levene3)\n"
   ]
  },
  {
   "cell_type": "code",
   "execution_count": 17,
   "metadata": {},
   "outputs": [
    {
     "data": {
      "text/plain": [
       "['p=0.041', 'p=0.480', 'p=0.413']"
      ]
     },
     "execution_count": 17,
     "metadata": {},
     "output_type": "execute_result"
    }
   ],
   "source": [
    "# Ab42\n",
    "t_stat, p_value_A = ttest_ind(group1, group2, equal_var=True)\n",
    "t_stat, p_value_B= ttest_ind(group2, group3, equal_var=True)\n",
    "t_stat, p_value_C= ttest_ind(group2, group4, equal_var=True)\n",
    "\n",
    "formatted_pvalues_42 = [f\"p={p:.3f}\" if p>0.001 else f\"p={p:.3e}\" for p in [p_value_A, p_value_B, p_value_C]]\n",
    "formatted_pvalues_42"
   ]
  },
  {
   "cell_type": "markdown",
   "metadata": {},
   "source": [
    "plot the data"
   ]
  },
  {
   "cell_type": "code",
   "execution_count": 18,
   "metadata": {},
   "outputs": [
    {
     "name": "stdout",
     "output_type": "stream",
     "text": [
      "E3 vs. y622: p=2.709e-04\n"
     ]
    },
    {
     "name": "stderr",
     "output_type": "stream",
     "text": [
      "/var/folders/y7/zpj5hbtd2bl78b1t9h2723hw0000gn/T/ipykernel_97676/2279058483.py:23: FutureWarning: \n",
      "\n",
      "Passing `palette` without assigning `hue` is deprecated and will be removed in v0.14.0. Assign the `x` variable to `hue` and set `legend=False` for the same effect.\n",
      "\n",
      "  ax = sns.boxplot(\n",
      "/var/folders/y7/zpj5hbtd2bl78b1t9h2723hw0000gn/T/ipykernel_97676/2279058483.py:23: FutureWarning: \n",
      "\n",
      "Passing `palette` without assigning `hue` is deprecated and will be removed in v0.14.0. Assign the `x` variable to `hue` and set `legend=False` for the same effect.\n",
      "\n",
      "  ax = sns.boxplot(\n"
     ]
    },
    {
     "name": "stdout",
     "output_type": "stream",
     "text": [
      "y622 vs. Y+500uM: p=0.715\n",
      "y622 vs. Y+1mM: p=0.049\n",
      "E3 vs. y622: p=0.041\n",
      "y622 vs. Y+500uM: p=0.480\n",
      "y622 vs. Y+1mM: p=0.413\n"
     ]
    },
    {
     "name": "stderr",
     "output_type": "stream",
     "text": [
      "1 extra bytes in post.stringData array\n",
      "'created' timestamp seems very low; regarding as unix timestamp\n",
      "Zapf NOT subset; don't know how to subset; dropped\n",
      "feat NOT subset; don't know how to subset; dropped\n",
      "meta NOT subset; don't know how to subset; dropped\n",
      "morx NOT subset; don't know how to subset; dropped\n"
     ]
    },
    {
     "data": {
      "image/png": "[encoded data removed]",
      "text/plain": [
       "<Figure size 650x200 with 2 Axes>"
      ]
     },
     "metadata": {},
     "output_type": "display_data"
    }
   ],
   "source": [
    "fig, (ax1, ax2) = plt.subplots(1, 2, figsize=(6.5, 2))\n",
    "\n",
    "plt.sca(ax1)\n",
    "\n",
    "ax1 = plot_boxplot_by_treatment(data_40, 'line', 'Abeta40', order = ['E3', 'y622', 'Y+500uM', 'Y+1mM'], pairs = [('E3', 'y622'), ('y622', 'Y+500uM'), ('y622', 'Y+1mM')],palette={'E3': 'grey', 'y622': 'orange', 'Y+500uM': 'pink', 'Y+1mM': 'purple'}, \n",
    "                                ylim = np.max(data_40['Abeta40']+50), pvalues=formatted_pvalues_40)\n",
    "\n",
    "ax1.set_xticks([])\n",
    "ax1.spines['top'].set_visible(False)\n",
    "ax1.spines['right'].set_visible(False)\n",
    "ax1.set_ylabel('Aβ40 levels (pg/mL)')\n",
    "\n",
    "ax1.text(-0.15, -0.05, \"WT\\n+ H2O\", ha='center', va='top', transform=ax1.get_xaxis_transform(),\n",
    "         bbox=dict(boxstyle=\"round,pad=0.2\", fc=\"grey\", ec=\"grey\", alpha=0.5), fontsize=8)\n",
    "ax1.text(1, -0.05, \"p.Tyr622*\\n+ H2O\", ha='center', va='top', transform=ax1.get_xaxis_transform(),\n",
    "         bbox=dict(boxstyle=\"round,pad=0.2\", fc=\"orange\", ec=\"orange\", alpha=0.5), fontsize=8)\n",
    "ax1.text(3.6, -0.05, \"p.Tyr622*\\n+ 1mM\", ha='center', va='top', transform=ax1.get_xaxis_transform(),\n",
    "         bbox=dict(boxstyle=\"round,pad=0.2\", fc=\"purple\", ec=\"purple\", alpha=0.5), fontsize=8)\n",
    "ax1.text(2.3, -0.05, \"p.Tyr622*\\n+ 500uM\", ha='center', va='top', transform=ax1.get_xaxis_transform(),\n",
    "         bbox=dict(boxstyle=\"round,pad=0.2\", fc=\"pink\", ec=\"pink\", alpha=0.5), fontsize=8)\n",
    "\n",
    "plt.sca(ax2)\n",
    "\n",
    "ax2 = plot_boxplot_by_treatment(data_42, 'line', 'Abeta42', order = ['E3', 'y622', 'Y+500uM', 'Y+1mM'], pairs = [('E3', 'y622'), ('y622', 'Y+500uM'), ('y622', 'Y+1mM')],palette={'E3': 'grey', 'y622': 'orange', 'Y+500uM': 'pink', 'Y+1mM': 'purple'}, \n",
    "                                ylim = np.max(data_42['Abeta42']+50), pvalues=formatted_pvalues_42)\n",
    "ax2.set_xticks([])\n",
    "ax2.spines['top'].set_visible(False)\n",
    "ax2.spines['right'].set_visible(False)\n",
    "ax2.set_ylabel('Aβ42 levels (pg/mL)')\n",
    "\n",
    "ax2.text(-0.15, -0.05, \"WT\\n+ H2O\", ha='center', va='top', transform=ax2.get_xaxis_transform(),\n",
    "         bbox=dict(boxstyle=\"round,pad=0.2\", fc=\"grey\", ec=\"grey\", alpha=0.5), fontsize=8)\n",
    "ax2.text(1, -0.05, \"p.Tyr622*\\n+ H2O\", ha='center', va='top', transform=ax2.get_xaxis_transform(),\n",
    "         bbox=dict(boxstyle=\"round,pad=0.2\", fc=\"orange\", ec=\"orange\", alpha=0.5), fontsize=8)\n",
    "ax2.text(3.6, -0.05, \"p.Tyr622*\\n+ 1mM\", ha='center', va='top', transform=ax2.get_xaxis_transform(),\n",
    "         bbox=dict(boxstyle=\"round,pad=0.2\", fc=\"purple\", ec=\"purple\", alpha=0.5), fontsize=8)\n",
    "ax2.text(2.3, -0.05, \"p.Tyr622*\\n+ 500uM\", ha='center', va='top', transform=ax2.get_xaxis_transform(),\n",
    "         bbox=dict(boxstyle=\"round,pad=0.2\", fc=\"pink\", ec=\"pink\", alpha=0.5), fontsize=8)\n",
    "\n",
    "\n",
    "ax1.hlines(y=490, xmin=1.7, xmax=8, linestyles='solid', color='black', linewidth=1)\n",
    "ax1.text(3.2, 550, '+ CDP-choline\\n(3 weeks)', ha='right', fontsize=7)\n",
    "\n",
    "# Add horizontal line and CDP-choline text for the second plot\n",
    "ax2.hlines(y=90, xmin=1.7, xmax=4, linestyles='solid', color='black', linewidth=1)\n",
    "ax2.text(3.2, 105, '+ CDP-choline\\n(3 weeks)', ha='right', fontsize=7)\n",
    "\n",
    "plt.subplots_adjust(left=0.07, right=0.9, top=0.8, bottom=0.08, wspace=0.8)\n",
    "\n",
    "plt.savefig('/Users/djuna/Documents/ABCA7lof2/editorial_paper/main_panels_svgs/ed13/abeta_elisa_3weeks.pdf', dpi=300, bbox_inches='tight')"
   ]
  }
 ],
 "metadata": {
  "kernelspec": {
   "display_name": "Python 3",
   "language": "python",
   "name": "python3"
  },
  "language_info": {
   "codemirror_mode": {
    "name": "ipython",
    "version": 3
   },
   "file_extension": ".py",
   "mimetype": "text/x-python",
   "name": "python",
   "nbconvert_exporter": "python",
   "pygments_lexer": "ipython3",
   "version": "3.9.6"
  }
 },
 "nbformat": 4,
 "nbformat_minor": 2
}

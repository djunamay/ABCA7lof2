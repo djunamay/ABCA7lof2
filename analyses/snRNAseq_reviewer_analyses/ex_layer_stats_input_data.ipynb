{
 "cells": [
  {
   "cell_type": "code",
   "execution_count": 1,
   "metadata": {
    "vscode": {
     "languageId": "r"
    }
   },
   "outputs": [],
   "source": [
    "source('../../ABCA7lof2/prep_data.r')\n",
    "library(tidyr)"
   ]
  },
  {
   "cell_type": "code",
   "execution_count": 5,
   "metadata": {
    "vscode": {
     "languageId": "r"
    }
   },
   "outputs": [
    {
     "data": {
      "text/plain": [
       "class: SingleCellExperiment \n",
       "dim: 19384 102710 \n",
       "metadata(0):\n",
       "assays(2): counts logcounts\n",
       "rownames(19384): OR4F5 OR4F29 ... AC007325.4 AC007325.2\n",
       "rowData names(2): X0 X1\n",
       "colnames(102710): AAACCCAAGTAAACGT-1_0 AAACCCACAGAATTCC-1_1 ...\n",
       "  TTTGGTTAGACACGAC-1_130528 TTTGGTTCAGGATCGA-1_130529\n",
       "colData names(36): barcodes index ... x y\n",
       "reducedDimNames(0):\n",
       "mainExpName: NULL\n",
       "altExpNames(0):"
      ]
     },
     "metadata": {},
     "output_type": "display_data"
    }
   ],
   "source": [
    "sce"
   ]
  },
  {
   "cell_type": "code",
   "execution_count": 6,
   "metadata": {
    "vscode": {
     "languageId": "r"
    }
   },
   "outputs": [],
   "source": [
    "# load data\n",
    "sce = readRDS('../../processed_data/sce.rds')\n",
    "ex_layer_annos = read.csv('../../processed_data/Ex_layer_annotations.csv')\n",
    "sce_subset = sce[,ex_layer_annos$barcodes]"
   ]
  },
  {
   "cell_type": "code",
   "execution_count": 7,
   "metadata": {
    "vscode": {
     "languageId": "r"
    }
   },
   "outputs": [
    {
     "name": "stdout",
     "output_type": "stream",
     "text": [
      "[1] \"summing...\"\n"
     ]
    }
   ],
   "source": [
    "print('summing...')\n",
    "meta = sce_subset@colData\n",
    "meta$layer = ex_layer_annos$layer\n",
    "labels = as.data.frame(as.character(interaction(meta$layer, meta$projid)))\n",
    "cell_labels = rownames(meta)\n",
    "summed_counts_cellxind = sum_counts(assays(sce_subset)$counts, labels, cell_labels)\n"
   ]
  },
  {
   "cell_type": "code",
   "execution_count": 8,
   "metadata": {
    "vscode": {
     "languageId": "r"
    }
   },
   "outputs": [],
   "source": [
    "# in how many cells per celltype is each gene detected?\n",
    "counts_nonzero = assays(sce_subset)$counts>0\n",
    "detected_genes_cell = sum_counts(counts_nonzero, label = as.data.frame(meta$layer), cell_labels)\n",
    "fraction_detected_genes_cell = t(apply(detected_genes_cell$summed_counts, 1, function(x){x/detected_genes_cell$ncells}))\n",
    "expressed10 = get_expressed_genes(fraction_detected_genes_cell, .10)"
   ]
  },
  {
   "cell_type": "code",
   "execution_count": 9,
   "metadata": {
    "vscode": {
     "languageId": "r"
    }
   },
   "outputs": [],
   "source": [
    "# get metadata summary\n",
    "summary = read.csv('../../processed_data/single_cell_individual_metadata.csv', row.names='projid')\n",
    "summary$APOE4 = ifelse(summary$apoe_genotype%in%c(24, 44, 34), 1, 0)\n",
    "summary$LOF = summary$ABCA7LoF"
   ]
  },
  {
   "cell_type": "code",
   "execution_count": 10,
   "metadata": {
    "vscode": {
     "languageId": "r"
    }
   },
   "outputs": [],
   "source": [
    "# save all the data\n",
    "all_data = list()\n",
    "\n",
    "all_data[['summed_counts_by_ind']] = summed_counts_cellxind\n",
    "all_data[['summary']] = summary\n",
    "all_data[['expressed10']] = expressed10\n",
    "\n",
    "saveRDS(all_data, '../../processed_data/ex_layer_stats_input.rds')"
   ]
  }
 ],
 "metadata": {
  "kernelspec": {
   "display_name": "R",
   "language": "R",
   "name": "ir"
  },
  "language_info": {
   "codemirror_mode": "r",
   "file_extension": ".r",
   "mimetype": "text/x-r-source",
   "name": "R",
   "pygments_lexer": "r",
   "version": "4.4.2"
  }
 },
 "nbformat": 4,
 "nbformat_minor": 2
}

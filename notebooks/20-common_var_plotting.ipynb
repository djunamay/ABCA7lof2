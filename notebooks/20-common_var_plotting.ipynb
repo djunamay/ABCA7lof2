{
 "cells": [
  {
   "cell_type": "code",
   "execution_count": 1,
   "id": "442f85ba-e20a-4cb4-8673-02a7ca636749",
   "metadata": {},
   "outputs": [],
   "source": [
    "import numpy as np\n",
    "import gseapy\n",
    "from scipy.sparse import csr_matrix\n",
    "from tqdm.contrib.concurrent import process_map\n",
    "from functools import partial\n",
    "from scipy.sparse.csgraph import shortest_path\n",
    "import matplotlib.pyplot as plt\n",
    "import seaborn as sns\n",
    "import pandas as pd\n",
    "import networkx\n",
    "\n",
    "path_to_abca7 = '/home/gridsan/djuna/homer/github/ABCA7lof2'\n",
    "import sys\n",
    "sys.path.append(path_to_abca7)\n",
    "\n",
    "from ABCA7lof2.geneclusters import get_scores, get_kernighan_lin_clusters, get_gene_pathway_matrix, get_full_matrix_from_bipartite, plot_component, plot_edges, plot_nodes, group, compute_groupped_matrix, get_scores, find_similar_clusters, get_representative_name_per_cluster, get_kernighan_lin_clusters, get_gene_pathway_matrix, compute_groupped_matrix, get_full_matrix_from_bipartite"
   ]
  },
  {
   "cell_type": "code",
   "execution_count": 2,
   "id": "00f5cc4a-90fc-4672-8d4c-4bdb7c59ad82",
   "metadata": {},
   "outputs": [
    {
     "name": "stderr",
     "output_type": "stream",
     "text": [
      "/state/partition1/slurm_tmp/24642792.0.0/ipykernel_1553075/3859499087.py:4: MatplotlibDeprecationWarning: The get_cmap function was deprecated in Matplotlib 3.7 and will be removed two minor releases later. Use ``matplotlib.colormaps[name]`` or ``matplotlib.colormaps.get_cmap(obj)`` instead.\n",
      "  cm = plt.cm.get_cmap('tab20')\n"
     ]
    }
   ],
   "source": [
    "frame = pd.read_csv('../supplementary_tables/data_s8.csv')\n",
    "\n",
    "unique_clusters = np.unique(frame['cluster'])\n",
    "cm = plt.cm.get_cmap('tab20')\n",
    "colors = [cm(int(x)) for x in range(len(unique_clusters))]"
   ]
  },
  {
   "cell_type": "code",
   "execution_count": 8,
   "id": "7e817a69-1153-4fca-b0ad-0c589925651a",
   "metadata": {},
   "outputs": [
    {
     "data": {
      "text/plain": [
       "[(0.12156862745098039, 0.4666666666666667, 0.7058823529411765, 1.0),\n",
       " (0.6823529411764706, 0.7803921568627451, 0.9098039215686274, 1.0),\n",
       " (1.0, 0.4980392156862745, 0.054901960784313725, 1.0),\n",
       " (1.0, 0.7333333333333333, 0.47058823529411764, 1.0),\n",
       " (0.17254901960784313, 0.6274509803921569, 0.17254901960784313, 1.0),\n",
       " (0.596078431372549, 0.8745098039215686, 0.5411764705882353, 1.0),\n",
       " (0.8392156862745098, 0.15294117647058825, 0.1568627450980392, 1.0),\n",
       " (1.0, 0.596078431372549, 0.5882352941176471, 1.0)]"
      ]
     },
     "execution_count": 8,
     "metadata": {},
     "output_type": "execute_result"
    }
   ],
   "source": [
    "colors"
   ]
  },
  {
   "cell_type": "code",
   "execution_count": 33,
   "id": "a6fd910c-d88b-4418-b856-74bc46196971",
   "metadata": {},
   "outputs": [
    {
     "data": {
      "image/png": "[encoded data removed]",
      "text/plain": [
       "<Figure size 648x288 with 8 Axes>"
      ]
     },
     "metadata": {
      "needs_background": "light"
     },
     "output_type": "display_data"
    },
    {
     "data": {
      "text/plain": [
       "<Figure size 180x360 with 0 Axes>"
      ]
     },
     "metadata": {},
     "output_type": "display_data"
    },
    {
     "data": {
      "text/plain": [
       "<Figure size 180x360 with 0 Axes>"
      ]
     },
     "metadata": {},
     "output_type": "display_data"
    },
    {
     "data": {
      "text/plain": [
       "<Figure size 180x360 with 0 Axes>"
      ]
     },
     "metadata": {},
     "output_type": "display_data"
    },
    {
     "data": {
      "text/plain": [
       "<Figure size 180x360 with 0 Axes>"
      ]
     },
     "metadata": {},
     "output_type": "display_data"
    },
    {
     "data": {
      "text/plain": [
       "<Figure size 180x360 with 0 Axes>"
      ]
     },
     "metadata": {},
     "output_type": "display_data"
    },
    {
     "data": {
      "text/plain": [
       "<Figure size 180x360 with 0 Axes>"
      ]
     },
     "metadata": {},
     "output_type": "display_data"
    },
    {
     "data": {
      "text/plain": [
       "<Figure size 180x360 with 0 Axes>"
      ]
     },
     "metadata": {},
     "output_type": "display_data"
    },
    {
     "data": {
      "text/plain": [
       "<Figure size 180x360 with 0 Axes>"
      ]
     },
     "metadata": {},
     "output_type": "display_data"
    }
   ],
   "source": [
    "######## show common vs rare variant cluster perturbation patterns\n",
    "\n",
    "scores = pd.read_csv('../processed_data/common_var/rs3752246_binary_scores.csv', index_col = 0)\n",
    "scores['description'] = scores.index\n",
    "temp = pd.merge(scores, frame, on = 'description')\n",
    "temp['grp'] = 'p.Ala1527Gly'\n",
    "\n",
    "# scores = pd.read_csv('../processed_data/common_var/ex_scoresE4.csv', index_col = 0)\n",
    "# scores['description'] = scores.index\n",
    "# temp1 = pd.merge(scores, frame, on = 'description')\n",
    "# temp1['grp'] = 'E4'\n",
    "\n",
    "scores = pd.read_csv('../processed_data/single_cell/all_scores_0825.csv', index_col=0)\n",
    "scores = pd.DataFrame(scores['Ex'])\n",
    "scores = scores.rename(columns={\"Ex\": \"scores\"})\n",
    "scores['description'] = scores.index\n",
    "temp2 = pd.merge(scores, frame, on = 'description')\n",
    "temp2['grp'] = 'LoF variants'\n",
    "TEMP = pd.concat((temp, temp2), axis=0)\n",
    "\n",
    "fig, axes = plt.subplots(1,8, sharey=True, figsize=(9,4))\n",
    "grp_colors = {\n",
    "    'LoF variants': (1.0, 0.0, 0.0, 1.0),\n",
    "    'p.Ala1527Gly': (1.0, 0.2824, 0.7608, 1.0)\n",
    "}\n",
    "\n",
    "for i in np.unique(TEMP['cluster']):\n",
    "    plt.figure(figsize = (2.5,5))\n",
    "    temp = TEMP[TEMP['cluster']==i]\n",
    "    #temp['scores'] = np.abs(temp['scores'])\n",
    "    boxplot = sns.boxplot(data = temp, x = 'grp', y='scores',hue='grp',palette=grp_colors, ax=axes[i], boxprops=dict(alpha=.7),flierprops=dict( marker='.', markersize=0 ), order=['LoF variants','p.Ala1527Gly'], orient='v')\n",
    "    \n",
    "    l1 = axes[i].lines[0]\n",
    "\n",
    "    x1 = l1.get_xydata()[:, 0]\n",
    "    y1 = l1.get_xydata()[:, 1]\n",
    "    \n",
    "    axes[i].spines[['right', 'top']].set_visible(False)\n",
    "    \n",
    "    if i>0:\n",
    "        axes[i].spines[['left']].set_visible(False)\n",
    "\n",
    "    #axes[i].set_title('cluster '+str(i), loc='left', y=.3, x=.05)\n",
    "    #axes[i].axvline(np.mean(temp[i]), color=colors[i])#, linestyle='dotted')\n",
    "    axes[i].axhline(0, color='black', linestyle='dotted')\n",
    "    axes[i].fill_between(x1, y1, color=colors[i], alpha=0.3)\n",
    "    axes[i].set_ylabel('')\n",
    "    axes[i].set_xlabel('')\n",
    "    #axes[i].set_yticklabels([])\n",
    "\n",
    "#     if i==7:\n",
    "#         continue\n",
    "#     axes[i].set_xticklabels(axes[i].get_xticklabels(), rotation=45, ha='right') \n",
    "\n",
    "\n",
    "     # Rotate x-axis labels\n",
    "\n",
    "# Add common title for the y-axis\n",
    "fig.text(0.1, 0.5, 'Scores', ha='center', va='center', rotation='vertical')\n",
    "\n",
    "fig.savefig('../pdf_figures/common_var_clusters.pdf')"
   ]
  },
  {
   "cell_type": "code",
   "execution_count": 146,
   "id": "da7afb95-0c6f-4912-bae5-9a3efb9e835f",
   "metadata": {},
   "outputs": [
    {
     "data": {
      "image/png": "[encoded data removed]",
      "text/plain": [
       "<Figure size 216x216 with 1 Axes>"
      ]
     },
     "metadata": {
      "needs_background": "light"
     },
     "output_type": "display_data"
    }
   ],
   "source": [
    "# barplot\n",
    "temp = pd.read_csv('../processed_data/common_var/rs3755246_cluster_effects.csv')\n",
    "\n",
    "temp['score'] = np.sign(temp['NES']) * -np.log10(temp['pval'])\n",
    "temp['cluster'] = ['cluster ' + str(x) for x in temp['pathway']]\n",
    "\n",
    "plt.figure(figsize=(3,3))\n",
    "index = np.argsort(-1*temp['pathway'])\n",
    "temp = temp.loc[index]\n",
    "#sns.barplot(data=temp, y='cluster', x='score', palette=colors, orient='h', order=temp['cluster'][np.argsort(temp['pathway'])], height=.2)\n",
    "plt.barh(y=temp['cluster'], width=temp['score'], color=colors[::-1], height=.9, alpha=.5, edgecolor=colors[::-1])\n",
    "plt.box(False)\n",
    "plt.axvline(x=0, color='black', linestyle='--', label='Vertical Line',  linewidth=0.8)\n",
    "plt.axhline(y=-0.5, color='black', linewidth=0.8)\n",
    "plt.xlabel('scores')\n",
    "plt.savefig('../pdf_figures/common_var_bar.pdf')"
   ]
  },
  {
   "cell_type": "code",
   "execution_count": 147,
   "id": "b6c92837-8a95-427b-b3c3-f44c133bda9b",
   "metadata": {},
   "outputs": [
    {
     "data": {
      "text/html": [
       "<div>\n",
       "<style scoped>\n",
       "    .dataframe tbody tr th:only-of-type {\n",
       "        vertical-align: middle;\n",
       "    }\n",
       "\n",
       "    .dataframe tbody tr th {\n",
       "        vertical-align: top;\n",
       "    }\n",
       "\n",
       "    .dataframe thead th {\n",
       "        text-align: right;\n",
       "    }\n",
       "</style>\n",
       "<table border=\"1\" class=\"dataframe\">\n",
       "  <thead>\n",
       "    <tr style=\"text-align: right;\">\n",
       "      <th></th>\n",
       "      <th>Unnamed: 0</th>\n",
       "      <th>pathway</th>\n",
       "      <th>pval</th>\n",
       "      <th>padj</th>\n",
       "      <th>log2err</th>\n",
       "      <th>ES</th>\n",
       "      <th>NES</th>\n",
       "      <th>size</th>\n",
       "      <th>score</th>\n",
       "      <th>cluster</th>\n",
       "    </tr>\n",
       "  </thead>\n",
       "  <tbody>\n",
       "    <tr>\n",
       "      <th>3</th>\n",
       "      <td>4</td>\n",
       "      <td>7</td>\n",
       "      <td>0.053047</td>\n",
       "      <td>0.106093</td>\n",
       "      <td>0.076608</td>\n",
       "      <td>0.455928</td>\n",
       "      <td>1.408364</td>\n",
       "      <td>40</td>\n",
       "      <td>1.275342</td>\n",
       "      <td>cluster 7</td>\n",
       "    </tr>\n",
       "    <tr>\n",
       "      <th>5</th>\n",
       "      <td>6</td>\n",
       "      <td>6</td>\n",
       "      <td>0.338596</td>\n",
       "      <td>0.451462</td>\n",
       "      <td>0.036511</td>\n",
       "      <td>-0.387688</td>\n",
       "      <td>-1.085840</td>\n",
       "      <td>18</td>\n",
       "      <td>-0.470318</td>\n",
       "      <td>cluster 6</td>\n",
       "    </tr>\n",
       "    <tr>\n",
       "      <th>4</th>\n",
       "      <td>5</td>\n",
       "      <td>5</td>\n",
       "      <td>0.312539</td>\n",
       "      <td>0.451462</td>\n",
       "      <td>0.028688</td>\n",
       "      <td>0.358629</td>\n",
       "      <td>1.099306</td>\n",
       "      <td>38</td>\n",
       "      <td>0.505096</td>\n",
       "      <td>cluster 5</td>\n",
       "    </tr>\n",
       "    <tr>\n",
       "      <th>6</th>\n",
       "      <td>7</td>\n",
       "      <td>4</td>\n",
       "      <td>0.668592</td>\n",
       "      <td>0.764105</td>\n",
       "      <td>0.017485</td>\n",
       "      <td>0.323588</td>\n",
       "      <td>0.862752</td>\n",
       "      <td>20</td>\n",
       "      <td>0.174839</td>\n",
       "      <td>cluster 4</td>\n",
       "    </tr>\n",
       "    <tr>\n",
       "      <th>2</th>\n",
       "      <td>3</td>\n",
       "      <td>3</td>\n",
       "      <td>0.040667</td>\n",
       "      <td>0.106093</td>\n",
       "      <td>0.087357</td>\n",
       "      <td>0.456386</td>\n",
       "      <td>1.430772</td>\n",
       "      <td>43</td>\n",
       "      <td>1.390763</td>\n",
       "      <td>cluster 3</td>\n",
       "    </tr>\n",
       "    <tr>\n",
       "      <th>0</th>\n",
       "      <td>1</td>\n",
       "      <td>2</td>\n",
       "      <td>0.007539</td>\n",
       "      <td>0.050774</td>\n",
       "      <td>0.274717</td>\n",
       "      <td>-0.521591</td>\n",
       "      <td>-1.666116</td>\n",
       "      <td>31</td>\n",
       "      <td>-2.122684</td>\n",
       "      <td>cluster 2</td>\n",
       "    </tr>\n",
       "    <tr>\n",
       "      <th>1</th>\n",
       "      <td>2</td>\n",
       "      <td>1</td>\n",
       "      <td>0.012693</td>\n",
       "      <td>0.050774</td>\n",
       "      <td>0.159153</td>\n",
       "      <td>0.517189</td>\n",
       "      <td>1.585338</td>\n",
       "      <td>38</td>\n",
       "      <td>1.896419</td>\n",
       "      <td>cluster 1</td>\n",
       "    </tr>\n",
       "    <tr>\n",
       "      <th>7</th>\n",
       "      <td>8</td>\n",
       "      <td>0</td>\n",
       "      <td>0.835604</td>\n",
       "      <td>0.835604</td>\n",
       "      <td>0.013323</td>\n",
       "      <td>0.250252</td>\n",
       "      <td>0.767096</td>\n",
       "      <td>38</td>\n",
       "      <td>0.078000</td>\n",
       "      <td>cluster 0</td>\n",
       "    </tr>\n",
       "  </tbody>\n",
       "</table>\n",
       "</div>"
      ],
      "text/plain": [
       "   Unnamed: 0  pathway      pval      padj   log2err        ES       NES  \\\n",
       "3           4        7  0.053047  0.106093  0.076608  0.455928  1.408364   \n",
       "5           6        6  0.338596  0.451462  0.036511 -0.387688 -1.085840   \n",
       "4           5        5  0.312539  0.451462  0.028688  0.358629  1.099306   \n",
       "6           7        4  0.668592  0.764105  0.017485  0.323588  0.862752   \n",
       "2           3        3  0.040667  0.106093  0.087357  0.456386  1.430772   \n",
       "0           1        2  0.007539  0.050774  0.274717 -0.521591 -1.666116   \n",
       "1           2        1  0.012693  0.050774  0.159153  0.517189  1.585338   \n",
       "7           8        0  0.835604  0.835604  0.013323  0.250252  0.767096   \n",
       "\n",
       "   size     score    cluster  \n",
       "3    40  1.275342  cluster 7  \n",
       "5    18 -0.470318  cluster 6  \n",
       "4    38  0.505096  cluster 5  \n",
       "6    20  0.174839  cluster 4  \n",
       "2    43  1.390763  cluster 3  \n",
       "0    31 -2.122684  cluster 2  \n",
       "1    38  1.896419  cluster 1  \n",
       "7    38  0.078000  cluster 0  "
      ]
     },
     "execution_count": 147,
     "metadata": {},
     "output_type": "execute_result"
    }
   ],
   "source": [
    "temp"
   ]
  },
  {
   "cell_type": "code",
   "execution_count": 122,
   "id": "fdff6fea-0beb-4615-a63e-fdda0511c334",
   "metadata": {},
   "outputs": [
    {
     "data": {
      "text/plain": [
       "<matplotlib.legend.Legend at 0x7ff1bdb76130>"
      ]
     },
     "execution_count": 122,
     "metadata": {},
     "output_type": "execute_result"
    },
    {
     "data": {
      "image/png": "[encoded data removed]",
      "text/plain": [
       "<Figure size 720x432 with 1 Axes>"
      ]
     },
     "metadata": {
      "needs_background": "light"
     },
     "output_type": "display_data"
    }
   ],
   "source": [
    "plt.figure(figsize=(10,6))\n",
    "#sns.regplot(out.loc[7], out.loc[5])\n",
    "for i in range(6):\n",
    "    sns.regplot(out.loc[7], out.loc[i], label=i)\n",
    "plt.legend()"
   ]
  },
  {
   "cell_type": "code",
   "execution_count": 98,
   "id": "6de3bc70-5a51-4ba5-9671-655748a65b31",
   "metadata": {},
   "outputs": [
    {
     "data": {
      "text/plain": [
       "<Axes: xlabel='7', ylabel='6'>"
      ]
     },
     "execution_count": 98,
     "metadata": {},
     "output_type": "execute_result"
    },
    {
     "data": {
      "image/png": "[encoded data removed]",
      "text/plain": [
       "<Figure size 432x288 with 1 Axes>"
      ]
     },
     "metadata": {
      "needs_background": "light"
     },
     "output_type": "display_data"
    }
   ],
   "source": [
    "sns.regplot(out.loc[7], out.loc[6])\n"
   ]
  },
  {
   "cell_type": "code",
   "execution_count": 71,
   "id": "e656feb3-2760-4712-b05b-9a85858da745",
   "metadata": {},
   "outputs": [],
   "source": [
    "temp = out.T\n",
    "temp['exp'] = np.array(meta['exp']<np.mean(meta['exp']))"
   ]
  },
  {
   "cell_type": "code",
   "execution_count": 102,
   "id": "df47d3b7-9dce-4e4e-8f17-b0d645e4b83c",
   "metadata": {},
   "outputs": [],
   "source": [
    "temp['exp'] = np.array(out.loc[7]>np.mean(out.loc[7]))"
   ]
  },
  {
   "cell_type": "code",
   "execution_count": 111,
   "id": "1f76b7aa-ee01-478f-be15-f756be8d4695",
   "metadata": {},
   "outputs": [
    {
     "data": {
      "text/plain": [
       "<Axes: xlabel='exp', ylabel='3'>"
      ]
     },
     "execution_count": 111,
     "metadata": {},
     "output_type": "execute_result"
    },
    {
     "data": {
      "image/png": "[encoded data removed]",
      "text/plain": [
       "<Figure size 432x288 with 1 Axes>"
      ]
     },
     "metadata": {
      "needs_background": "light"
     },
     "output_type": "display_data"
    }
   ],
   "source": [
    "sns.boxplot(data=temp, x='exp', y=3)"
   ]
  },
  {
   "cell_type": "code",
   "execution_count": 110,
   "id": "4563d891-9978-4180-b145-aaf5aae6c139",
   "metadata": {},
   "outputs": [
    {
     "data": {
      "text/plain": [
       "<Axes: xlabel='exp', ylabel='2'>"
      ]
     },
     "execution_count": 110,
     "metadata": {},
     "output_type": "execute_result"
    },
    {
     "data": {
      "image/png": "[encoded data removed]",
      "text/plain": [
       "<Figure size 432x288 with 1 Axes>"
      ]
     },
     "metadata": {
      "needs_background": "light"
     },
     "output_type": "display_data"
    }
   ],
   "source": [
    "sns.boxplot(data=temp, x='exp', y=2)"
   ]
  },
  {
   "cell_type": "code",
   "execution_count": 84,
   "id": "3def7d62-21df-493d-9b3e-bc271ace33a0",
   "metadata": {},
   "outputs": [
    {
     "data": {
      "text/plain": [
       "(227, 9)"
      ]
     },
     "execution_count": 84,
     "metadata": {},
     "output_type": "execute_result"
    }
   ],
   "source": [
    "temp.shape\n"
   ]
  },
  {
   "cell_type": "code",
   "execution_count": 85,
   "id": "9c6fa71a-e22b-4def-b5c1-6c8128ea94bf",
   "metadata": {},
   "outputs": [
    {
     "data": {
      "text/plain": [
       "<Axes: xlabel='exp', ylabel='2'>"
      ]
     },
     "execution_count": 85,
     "metadata": {},
     "output_type": "execute_result"
    },
    {
     "data": {
      "image/png": "[encoded data removed]",
      "text/plain": [
       "<Figure size 432x288 with 1 Axes>"
      ]
     },
     "metadata": {
      "needs_background": "light"
     },
     "output_type": "display_data"
    }
   ],
   "source": [
    "sns.boxplot(data=temp, x='exp', y=2)"
   ]
  },
  {
   "cell_type": "code",
   "execution_count": 75,
   "id": "ecabdfe9-c132-4f82-b243-e7775c59b6dd",
   "metadata": {},
   "outputs": [
    {
     "data": {
      "text/plain": [
       "<Axes: xlabel='exp', ylabel='1'>"
      ]
     },
     "execution_count": 75,
     "metadata": {},
     "output_type": "execute_result"
    },
    {
     "data": {
      "image/png": "[encoded data removed]",
      "text/plain": [
       "<Figure size 432x288 with 1 Axes>"
      ]
     },
     "metadata": {
      "needs_background": "light"
     },
     "output_type": "display_data"
    }
   ],
   "source": [
    "sns.boxplot(data=temp, x='exp', y=1)"
   ]
  },
  {
   "cell_type": "code",
   "execution_count": 68,
   "id": "6b6d6d0c-0fad-441f-826b-b0e881d86b32",
   "metadata": {},
   "outputs": [
    {
     "data": {
      "text/html": [
       "<div>\n",
       "<style scoped>\n",
       "    .dataframe tbody tr th:only-of-type {\n",
       "        vertical-align: middle;\n",
       "    }\n",
       "\n",
       "    .dataframe tbody tr th {\n",
       "        vertical-align: top;\n",
       "    }\n",
       "\n",
       "    .dataframe thead th {\n",
       "        text-align: right;\n",
       "    }\n",
       "</style>\n",
       "<table border=\"1\" class=\"dataframe\">\n",
       "  <thead>\n",
       "    <tr style=\"text-align: right;\">\n",
       "      <th></th>\n",
       "      <th>2</th>\n",
       "      <th>5</th>\n",
       "      <th>4</th>\n",
       "      <th>0</th>\n",
       "      <th>1</th>\n",
       "      <th>6</th>\n",
       "      <th>7</th>\n",
       "      <th>3</th>\n",
       "      <th>exp</th>\n",
       "    </tr>\n",
       "  </thead>\n",
       "  <tbody>\n",
       "    <tr>\n",
       "      <th>11409232</th>\n",
       "      <td>0.208189</td>\n",
       "      <td>0.261228</td>\n",
       "      <td>-0.298194</td>\n",
       "      <td>0.042707</td>\n",
       "      <td>-0.110589</td>\n",
       "      <td>-0.239991</td>\n",
       "      <td>0.673713</td>\n",
       "      <td>0.470271</td>\n",
       "      <td>NaN</td>\n",
       "    </tr>\n",
       "    <tr>\n",
       "      <th>11336574</th>\n",
       "      <td>-0.074255</td>\n",
       "      <td>0.034979</td>\n",
       "      <td>-0.507006</td>\n",
       "      <td>0.229311</td>\n",
       "      <td>-0.236314</td>\n",
       "      <td>0.019291</td>\n",
       "      <td>0.721329</td>\n",
       "      <td>0.565180</td>\n",
       "      <td>NaN</td>\n",
       "    </tr>\n",
       "    <tr>\n",
       "      <th>20207013</th>\n",
       "      <td>0.182697</td>\n",
       "      <td>0.477160</td>\n",
       "      <td>-0.244710</td>\n",
       "      <td>-0.171698</td>\n",
       "      <td>0.168007</td>\n",
       "      <td>-0.185407</td>\n",
       "      <td>0.636756</td>\n",
       "      <td>0.594063</td>\n",
       "      <td>NaN</td>\n",
       "    </tr>\n",
       "    <tr>\n",
       "      <th>10514454</th>\n",
       "      <td>0.186631</td>\n",
       "      <td>0.086883</td>\n",
       "      <td>0.025600</td>\n",
       "      <td>-0.134679</td>\n",
       "      <td>-0.283656</td>\n",
       "      <td>0.001741</td>\n",
       "      <td>0.745264</td>\n",
       "      <td>0.390692</td>\n",
       "      <td>NaN</td>\n",
       "    </tr>\n",
       "    <tr>\n",
       "      <th>10290265</th>\n",
       "      <td>0.340860</td>\n",
       "      <td>-0.284403</td>\n",
       "      <td>-0.022646</td>\n",
       "      <td>-0.210146</td>\n",
       "      <td>-0.251783</td>\n",
       "      <td>-0.221821</td>\n",
       "      <td>-0.240764</td>\n",
       "      <td>-0.021948</td>\n",
       "      <td>NaN</td>\n",
       "    </tr>\n",
       "    <tr>\n",
       "      <th>...</th>\n",
       "      <td>...</td>\n",
       "      <td>...</td>\n",
       "      <td>...</td>\n",
       "      <td>...</td>\n",
       "      <td>...</td>\n",
       "      <td>...</td>\n",
       "      <td>...</td>\n",
       "      <td>...</td>\n",
       "      <td>...</td>\n",
       "    </tr>\n",
       "    <tr>\n",
       "      <th>20500815</th>\n",
       "      <td>0.007761</td>\n",
       "      <td>0.060213</td>\n",
       "      <td>0.001482</td>\n",
       "      <td>0.256100</td>\n",
       "      <td>-0.300399</td>\n",
       "      <td>0.160358</td>\n",
       "      <td>0.402560</td>\n",
       "      <td>0.146774</td>\n",
       "      <td>NaN</td>\n",
       "    </tr>\n",
       "    <tr>\n",
       "      <th>51624179</th>\n",
       "      <td>-0.186096</td>\n",
       "      <td>0.444190</td>\n",
       "      <td>0.334371</td>\n",
       "      <td>0.199888</td>\n",
       "      <td>0.599889</td>\n",
       "      <td>-0.122310</td>\n",
       "      <td>0.199797</td>\n",
       "      <td>0.311020</td>\n",
       "      <td>NaN</td>\n",
       "    </tr>\n",
       "    <tr>\n",
       "      <th>22789958</th>\n",
       "      <td>0.072671</td>\n",
       "      <td>0.135583</td>\n",
       "      <td>0.301538</td>\n",
       "      <td>-0.024407</td>\n",
       "      <td>0.149753</td>\n",
       "      <td>0.242455</td>\n",
       "      <td>-0.637730</td>\n",
       "      <td>-0.321629</td>\n",
       "      <td>NaN</td>\n",
       "    </tr>\n",
       "    <tr>\n",
       "      <th>18659212</th>\n",
       "      <td>0.131044</td>\n",
       "      <td>0.041132</td>\n",
       "      <td>0.365643</td>\n",
       "      <td>0.033436</td>\n",
       "      <td>0.153462</td>\n",
       "      <td>0.211915</td>\n",
       "      <td>-0.582189</td>\n",
       "      <td>-0.332647</td>\n",
       "      <td>NaN</td>\n",
       "    </tr>\n",
       "    <tr>\n",
       "      <th>41285665</th>\n",
       "      <td>0.057603</td>\n",
       "      <td>-0.109157</td>\n",
       "      <td>0.218955</td>\n",
       "      <td>-0.258543</td>\n",
       "      <td>-0.139664</td>\n",
       "      <td>0.277266</td>\n",
       "      <td>-0.572412</td>\n",
       "      <td>-0.323980</td>\n",
       "      <td>NaN</td>\n",
       "    </tr>\n",
       "  </tbody>\n",
       "</table>\n",
       "<p>227 rows × 9 columns</p>\n",
       "</div>"
      ],
      "text/plain": [
       "                 2         5         4         0         1         6  \\\n",
       "11409232  0.208189  0.261228 -0.298194  0.042707 -0.110589 -0.239991   \n",
       "11336574 -0.074255  0.034979 -0.507006  0.229311 -0.236314  0.019291   \n",
       "20207013  0.182697  0.477160 -0.244710 -0.171698  0.168007 -0.185407   \n",
       "10514454  0.186631  0.086883  0.025600 -0.134679 -0.283656  0.001741   \n",
       "10290265  0.340860 -0.284403 -0.022646 -0.210146 -0.251783 -0.221821   \n",
       "...            ...       ...       ...       ...       ...       ...   \n",
       "20500815  0.007761  0.060213  0.001482  0.256100 -0.300399  0.160358   \n",
       "51624179 -0.186096  0.444190  0.334371  0.199888  0.599889 -0.122310   \n",
       "22789958  0.072671  0.135583  0.301538 -0.024407  0.149753  0.242455   \n",
       "18659212  0.131044  0.041132  0.365643  0.033436  0.153462  0.211915   \n",
       "41285665  0.057603 -0.109157  0.218955 -0.258543 -0.139664  0.277266   \n",
       "\n",
       "                 7         3  exp  \n",
       "11409232  0.673713  0.470271  NaN  \n",
       "11336574  0.721329  0.565180  NaN  \n",
       "20207013  0.636756  0.594063  NaN  \n",
       "10514454  0.745264  0.390692  NaN  \n",
       "10290265 -0.240764 -0.021948  NaN  \n",
       "...            ...       ...  ...  \n",
       "20500815  0.402560  0.146774  NaN  \n",
       "51624179  0.199797  0.311020  NaN  \n",
       "22789958 -0.637730 -0.321629  NaN  \n",
       "18659212 -0.582189 -0.332647  NaN  \n",
       "41285665 -0.572412 -0.323980  NaN  \n",
       "\n",
       "[227 rows x 9 columns]"
      ]
     },
     "execution_count": 68,
     "metadata": {},
     "output_type": "execute_result"
    }
   ],
   "source": [
    "temp"
   ]
  },
  {
   "cell_type": "code",
   "execution_count": 42,
   "id": "edf22148-31e6-4de0-b4f4-5fc094ecb600",
   "metadata": {},
   "outputs": [
    {
     "data": {
      "text/html": [
       "<div>\n",
       "<style scoped>\n",
       "    .dataframe tbody tr th:only-of-type {\n",
       "        vertical-align: middle;\n",
       "    }\n",
       "\n",
       "    .dataframe tbody tr th {\n",
       "        vertical-align: top;\n",
       "    }\n",
       "\n",
       "    .dataframe thead th {\n",
       "        text-align: right;\n",
       "    }\n",
       "</style>\n",
       "<table border=\"1\" class=\"dataframe\">\n",
       "  <thead>\n",
       "    <tr style=\"text-align: right;\">\n",
       "      <th></th>\n",
       "      <th>Row.names</th>\n",
       "      <th>X0</th>\n",
       "      <th>WGSid</th>\n",
       "      <th>projid</th>\n",
       "      <th>study</th>\n",
       "      <th>pmi</th>\n",
       "      <th>age_death</th>\n",
       "      <th>msex</th>\n",
       "      <th>amyloid</th>\n",
       "      <th>ceradsc</th>\n",
       "      <th>...</th>\n",
       "      <th>ABCA1</th>\n",
       "      <th>ABCA7</th>\n",
       "      <th>ATP8B4</th>\n",
       "      <th>TREM2</th>\n",
       "      <th>colSums(df[var_info$LOF.y == 1, ])</th>\n",
       "      <th>rs3752246</th>\n",
       "      <th>seq_batch</th>\n",
       "      <th>apoe</th>\n",
       "      <th>rs3752246_binary</th>\n",
       "      <th>exp</th>\n",
       "    </tr>\n",
       "  </thead>\n",
       "  <tbody>\n",
       "    <tr>\n",
       "      <th>11409232</th>\n",
       "      <td>11409232</td>\n",
       "      <td>SM-CJGIM</td>\n",
       "      <td>SM-CJGIM</td>\n",
       "      <td>11409232</td>\n",
       "      <td>ROS</td>\n",
       "      <td>1.333333</td>\n",
       "      <td>80.098563</td>\n",
       "      <td>1</td>\n",
       "      <td>0.000000</td>\n",
       "      <td>4</td>\n",
       "      <td>...</td>\n",
       "      <td>0</td>\n",
       "      <td>0</td>\n",
       "      <td>0</td>\n",
       "      <td>0</td>\n",
       "      <td>0</td>\n",
       "      <td>0</td>\n",
       "      <td>171013Tsa</td>\n",
       "      <td>0</td>\n",
       "      <td>0</td>\n",
       "      <td>NaN</td>\n",
       "    </tr>\n",
       "    <tr>\n",
       "      <th>11336574</th>\n",
       "      <td>11336574</td>\n",
       "      <td>SM-CTEGO</td>\n",
       "      <td>SM-CTEGO</td>\n",
       "      <td>11336574</td>\n",
       "      <td>ROS</td>\n",
       "      <td>3.500000</td>\n",
       "      <td>89.026694</td>\n",
       "      <td>1</td>\n",
       "      <td>7.365714</td>\n",
       "      <td>1</td>\n",
       "      <td>...</td>\n",
       "      <td>0</td>\n",
       "      <td>0</td>\n",
       "      <td>0</td>\n",
       "      <td>0</td>\n",
       "      <td>0</td>\n",
       "      <td>0</td>\n",
       "      <td>171013Tsa</td>\n",
       "      <td>1</td>\n",
       "      <td>0</td>\n",
       "      <td>NaN</td>\n",
       "    </tr>\n",
       "    <tr>\n",
       "      <th>20207013</th>\n",
       "      <td>20207013</td>\n",
       "      <td>SM-CJGLH</td>\n",
       "      <td>SM-CJGLH</td>\n",
       "      <td>20207013</td>\n",
       "      <td>ROS</td>\n",
       "      <td>4.166667</td>\n",
       "      <td>96.016427</td>\n",
       "      <td>0</td>\n",
       "      <td>0.000000</td>\n",
       "      <td>4</td>\n",
       "      <td>...</td>\n",
       "      <td>0</td>\n",
       "      <td>0</td>\n",
       "      <td>0</td>\n",
       "      <td>0</td>\n",
       "      <td>0</td>\n",
       "      <td>0</td>\n",
       "      <td>171013Tsa</td>\n",
       "      <td>0</td>\n",
       "      <td>0</td>\n",
       "      <td>NaN</td>\n",
       "    </tr>\n",
       "    <tr>\n",
       "      <th>10514454</th>\n",
       "      <td>10514454</td>\n",
       "      <td>SM-CJK5N</td>\n",
       "      <td>SM-CJK5N</td>\n",
       "      <td>10514454</td>\n",
       "      <td>ROS</td>\n",
       "      <td>16.750000</td>\n",
       "      <td>79.534565</td>\n",
       "      <td>1</td>\n",
       "      <td>0.000000</td>\n",
       "      <td>4</td>\n",
       "      <td>...</td>\n",
       "      <td>0</td>\n",
       "      <td>0</td>\n",
       "      <td>0</td>\n",
       "      <td>0</td>\n",
       "      <td>0</td>\n",
       "      <td>0</td>\n",
       "      <td>171013Tsa</td>\n",
       "      <td>0</td>\n",
       "      <td>0</td>\n",
       "      <td>NaN</td>\n",
       "    </tr>\n",
       "    <tr>\n",
       "      <th>10290265</th>\n",
       "      <td>10290265</td>\n",
       "      <td>SM-CTEM3</td>\n",
       "      <td>SM-CTEM3</td>\n",
       "      <td>10290265</td>\n",
       "      <td>ROS</td>\n",
       "      <td>20.483333</td>\n",
       "      <td>86.403833</td>\n",
       "      <td>1</td>\n",
       "      <td>2.878333</td>\n",
       "      <td>1</td>\n",
       "      <td>...</td>\n",
       "      <td>0</td>\n",
       "      <td>0</td>\n",
       "      <td>0</td>\n",
       "      <td>0</td>\n",
       "      <td>0</td>\n",
       "      <td>0</td>\n",
       "      <td>171013Tsa</td>\n",
       "      <td>0</td>\n",
       "      <td>0</td>\n",
       "      <td>NaN</td>\n",
       "    </tr>\n",
       "    <tr>\n",
       "      <th>...</th>\n",
       "      <td>...</td>\n",
       "      <td>...</td>\n",
       "      <td>...</td>\n",
       "      <td>...</td>\n",
       "      <td>...</td>\n",
       "      <td>...</td>\n",
       "      <td>...</td>\n",
       "      <td>...</td>\n",
       "      <td>...</td>\n",
       "      <td>...</td>\n",
       "      <td>...</td>\n",
       "      <td>...</td>\n",
       "      <td>...</td>\n",
       "      <td>...</td>\n",
       "      <td>...</td>\n",
       "      <td>...</td>\n",
       "      <td>...</td>\n",
       "      <td>...</td>\n",
       "      <td>...</td>\n",
       "      <td>...</td>\n",
       "      <td>...</td>\n",
       "    </tr>\n",
       "    <tr>\n",
       "      <th>20500815</th>\n",
       "      <td>20500815</td>\n",
       "      <td>SM-CTDSF</td>\n",
       "      <td>SM-CTDSF</td>\n",
       "      <td>20500815</td>\n",
       "      <td>ROS</td>\n",
       "      <td>5.000000</td>\n",
       "      <td>90.297057</td>\n",
       "      <td>0</td>\n",
       "      <td>0.928125</td>\n",
       "      <td>2</td>\n",
       "      <td>...</td>\n",
       "      <td>0</td>\n",
       "      <td>0</td>\n",
       "      <td>0</td>\n",
       "      <td>0</td>\n",
       "      <td>0</td>\n",
       "      <td>0</td>\n",
       "      <td>last_16</td>\n",
       "      <td>0</td>\n",
       "      <td>0</td>\n",
       "      <td>NaN</td>\n",
       "    </tr>\n",
       "    <tr>\n",
       "      <th>51624179</th>\n",
       "      <td>51624179</td>\n",
       "      <td>SM-CTEIP</td>\n",
       "      <td>SM-CTEIP</td>\n",
       "      <td>51624179</td>\n",
       "      <td>MAP</td>\n",
       "      <td>8.250000</td>\n",
       "      <td>91.800137</td>\n",
       "      <td>0</td>\n",
       "      <td>11.892500</td>\n",
       "      <td>1</td>\n",
       "      <td>...</td>\n",
       "      <td>0</td>\n",
       "      <td>0</td>\n",
       "      <td>0</td>\n",
       "      <td>0</td>\n",
       "      <td>0</td>\n",
       "      <td>0</td>\n",
       "      <td>last_16</td>\n",
       "      <td>1</td>\n",
       "      <td>0</td>\n",
       "      <td>NaN</td>\n",
       "    </tr>\n",
       "    <tr>\n",
       "      <th>22789958</th>\n",
       "      <td>22789958</td>\n",
       "      <td>SM-CJJ1N</td>\n",
       "      <td>SM-CJJ1N</td>\n",
       "      <td>22789958</td>\n",
       "      <td>MAP</td>\n",
       "      <td>5.783333</td>\n",
       "      <td>99.164956</td>\n",
       "      <td>1</td>\n",
       "      <td>5.673333</td>\n",
       "      <td>2</td>\n",
       "      <td>...</td>\n",
       "      <td>0</td>\n",
       "      <td>0</td>\n",
       "      <td>0</td>\n",
       "      <td>0</td>\n",
       "      <td>0</td>\n",
       "      <td>0</td>\n",
       "      <td>last_16</td>\n",
       "      <td>0</td>\n",
       "      <td>0</td>\n",
       "      <td>NaN</td>\n",
       "    </tr>\n",
       "    <tr>\n",
       "      <th>18659212</th>\n",
       "      <td>18659212</td>\n",
       "      <td>SM-CJGI1</td>\n",
       "      <td>SM-CJGI1</td>\n",
       "      <td>18659212</td>\n",
       "      <td>MAP</td>\n",
       "      <td>6.800000</td>\n",
       "      <td>91.731691</td>\n",
       "      <td>1</td>\n",
       "      <td>1.741562</td>\n",
       "      <td>3</td>\n",
       "      <td>...</td>\n",
       "      <td>0</td>\n",
       "      <td>0</td>\n",
       "      <td>0</td>\n",
       "      <td>0</td>\n",
       "      <td>0</td>\n",
       "      <td>0</td>\n",
       "      <td>last_16</td>\n",
       "      <td>0</td>\n",
       "      <td>0</td>\n",
       "      <td>NaN</td>\n",
       "    </tr>\n",
       "    <tr>\n",
       "      <th>41285665</th>\n",
       "      <td>41285665</td>\n",
       "      <td>SM-CJJ1F</td>\n",
       "      <td>SM-CJJ1F</td>\n",
       "      <td>41285665</td>\n",
       "      <td>MAP</td>\n",
       "      <td>5.916667</td>\n",
       "      <td>91.340178</td>\n",
       "      <td>0</td>\n",
       "      <td>0.121875</td>\n",
       "      <td>4</td>\n",
       "      <td>...</td>\n",
       "      <td>0</td>\n",
       "      <td>0</td>\n",
       "      <td>0</td>\n",
       "      <td>0</td>\n",
       "      <td>0</td>\n",
       "      <td>0</td>\n",
       "      <td>last_16</td>\n",
       "      <td>0</td>\n",
       "      <td>0</td>\n",
       "      <td>NaN</td>\n",
       "    </tr>\n",
       "  </tbody>\n",
       "</table>\n",
       "<p>227 rows × 110 columns</p>\n",
       "</div>"
      ],
      "text/plain": [
       "          Row.names        X0     WGSid    projid study        pmi  age_death  \\\n",
       "11409232   11409232  SM-CJGIM  SM-CJGIM  11409232   ROS   1.333333  80.098563   \n",
       "11336574   11336574  SM-CTEGO  SM-CTEGO  11336574   ROS   3.500000  89.026694   \n",
       "20207013   20207013  SM-CJGLH  SM-CJGLH  20207013   ROS   4.166667  96.016427   \n",
       "10514454   10514454  SM-CJK5N  SM-CJK5N  10514454   ROS  16.750000  79.534565   \n",
       "10290265   10290265  SM-CTEM3  SM-CTEM3  10290265   ROS  20.483333  86.403833   \n",
       "...             ...       ...       ...       ...   ...        ...        ...   \n",
       "20500815   20500815  SM-CTDSF  SM-CTDSF  20500815   ROS   5.000000  90.297057   \n",
       "51624179   51624179  SM-CTEIP  SM-CTEIP  51624179   MAP   8.250000  91.800137   \n",
       "22789958   22789958  SM-CJJ1N  SM-CJJ1N  22789958   MAP   5.783333  99.164956   \n",
       "18659212   18659212  SM-CJGI1  SM-CJGI1  18659212   MAP   6.800000  91.731691   \n",
       "41285665   41285665  SM-CJJ1F  SM-CJJ1F  41285665   MAP   5.916667  91.340178   \n",
       "\n",
       "          msex    amyloid  ceradsc  ...  ABCA1  ABCA7  ATP8B4  TREM2  \\\n",
       "11409232     1   0.000000        4  ...      0      0       0      0   \n",
       "11336574     1   7.365714        1  ...      0      0       0      0   \n",
       "20207013     0   0.000000        4  ...      0      0       0      0   \n",
       "10514454     1   0.000000        4  ...      0      0       0      0   \n",
       "10290265     1   2.878333        1  ...      0      0       0      0   \n",
       "...        ...        ...      ...  ...    ...    ...     ...    ...   \n",
       "20500815     0   0.928125        2  ...      0      0       0      0   \n",
       "51624179     0  11.892500        1  ...      0      0       0      0   \n",
       "22789958     1   5.673333        2  ...      0      0       0      0   \n",
       "18659212     1   1.741562        3  ...      0      0       0      0   \n",
       "41285665     0   0.121875        4  ...      0      0       0      0   \n",
       "\n",
       "          colSums(df[var_info$LOF.y == 1, ])  rs3752246  seq_batch apoe  \\\n",
       "11409232                                   0          0  171013Tsa    0   \n",
       "11336574                                   0          0  171013Tsa    1   \n",
       "20207013                                   0          0  171013Tsa    0   \n",
       "10514454                                   0          0  171013Tsa    0   \n",
       "10290265                                   0          0  171013Tsa    0   \n",
       "...                                      ...        ...        ...  ...   \n",
       "20500815                                   0          0    last_16    0   \n",
       "51624179                                   0          0    last_16    1   \n",
       "22789958                                   0          0    last_16    0   \n",
       "18659212                                   0          0    last_16    0   \n",
       "41285665                                   0          0    last_16    0   \n",
       "\n",
       "         rs3752246_binary exp  \n",
       "11409232                0 NaN  \n",
       "11336574                0 NaN  \n",
       "20207013                0 NaN  \n",
       "10514454                0 NaN  \n",
       "10290265                0 NaN  \n",
       "...                   ...  ..  \n",
       "20500815                0 NaN  \n",
       "51624179                0 NaN  \n",
       "22789958                0 NaN  \n",
       "18659212                0 NaN  \n",
       "41285665                0 NaN  \n",
       "\n",
       "[227 rows x 110 columns]"
      ]
     },
     "execution_count": 42,
     "metadata": {},
     "output_type": "execute_result"
    }
   ],
   "source": [
    "meta"
   ]
  },
  {
   "cell_type": "code",
   "execution_count": 6,
   "id": "08e84814-cf08-4741-9b74-f77f7a42b6a5",
   "metadata": {},
   "outputs": [
    {
     "data": {
      "text/plain": [
       "11409232    0.233722\n",
       "11336574   -0.060074\n",
       "20207013    0.181629\n",
       "10514454    0.190301\n",
       "10290265    0.349483\n",
       "              ...   \n",
       "22789958    0.066360\n",
       "51520126    0.236712\n",
       "94144536   -0.305342\n",
       "18659212    0.130562\n",
       "41285665    0.060204\n",
       "Name: 2, Length: 360, dtype: float64"
      ]
     },
     "execution_count": 6,
     "metadata": {},
     "output_type": "execute_result"
    }
   ],
   "source": [
    "out.loc[2]"
   ]
  },
  {
   "cell_type": "markdown",
   "id": "0a68fdb2-c3dc-46b3-a68e-92d439330582",
   "metadata": {},
   "source": [
    "## below is scrap"
   ]
  },
  {
   "cell_type": "code",
   "execution_count": 53,
   "id": "add6f288-a179-4716-a956-f4712fb4a76a",
   "metadata": {},
   "outputs": [],
   "source": []
  },
  {
   "cell_type": "code",
   "execution_count": 32,
   "id": "9d3ce535-48aa-4140-802c-fa23d01c8ff3",
   "metadata": {},
   "outputs": [
    {
     "data": {
      "text/plain": [
       "-1.3010299956639813"
      ]
     },
     "execution_count": 32,
     "metadata": {},
     "output_type": "execute_result"
    }
   ],
   "source": [
    "np.log10(0.05)"
   ]
  },
  {
   "cell_type": "code",
   "execution_count": 61,
   "id": "978fcef1-f0c4-46d9-b477-2c63c34d4db9",
   "metadata": {},
   "outputs": [
    {
     "data": {
      "text/plain": [
       "<Axes: xlabel='score', ylabel='cluster'>"
      ]
     },
     "execution_count": 61,
     "metadata": {},
     "output_type": "execute_result"
    },
    {
     "data": {
      "image/png": "[encoded data removed]",
      "text/plain": [
       "<Figure size 288x144 with 1 Axes>"
      ]
     },
     "metadata": {
      "needs_background": "light"
     },
     "output_type": "display_data"
    }
   ],
   "source": []
  },
  {
   "cell_type": "code",
   "execution_count": 60,
   "id": "c5bc6098-126b-4e4b-a55f-198b5c8bdceb",
   "metadata": {},
   "outputs": [
    {
     "data": {
      "text/plain": [
       "7    cluster 0\n",
       "1    cluster 1\n",
       "0    cluster 2\n",
       "2    cluster 3\n",
       "6    cluster 4\n",
       "4    cluster 5\n",
       "5    cluster 6\n",
       "3    cluster 7\n",
       "Name: cluster, dtype: object"
      ]
     },
     "execution_count": 60,
     "metadata": {},
     "output_type": "execute_result"
    }
   ],
   "source": []
  },
  {
   "cell_type": "code",
   "execution_count": 52,
   "id": "1c5576d2-4cb8-45d3-84c5-aa833e148a06",
   "metadata": {},
   "outputs": [
    {
     "data": {
      "text/plain": [
       "['cluster 2',\n",
       " 'cluster 1',\n",
       " 'cluster 3',\n",
       " 'cluster 7',\n",
       " 'cluster 5',\n",
       " 'cluster 6',\n",
       " 'cluster 4',\n",
       " 'cluster 0']"
      ]
     },
     "execution_count": 52,
     "metadata": {},
     "output_type": "execute_result"
    }
   ],
   "source": []
  },
  {
   "cell_type": "code",
   "execution_count": 19,
   "id": "7124e3be-7ea8-4933-9f1f-5a1458100165",
   "metadata": {},
   "outputs": [
    {
     "data": {
      "text/html": [
       "<div>\n",
       "<style scoped>\n",
       "    .dataframe tbody tr th:only-of-type {\n",
       "        vertical-align: middle;\n",
       "    }\n",
       "\n",
       "    .dataframe tbody tr th {\n",
       "        vertical-align: top;\n",
       "    }\n",
       "\n",
       "    .dataframe thead th {\n",
       "        text-align: right;\n",
       "    }\n",
       "</style>\n",
       "<table border=\"1\" class=\"dataframe\">\n",
       "  <thead>\n",
       "    <tr style=\"text-align: right;\">\n",
       "      <th></th>\n",
       "      <th>Unnamed: 0</th>\n",
       "      <th>pathway</th>\n",
       "      <th>pval</th>\n",
       "      <th>padj</th>\n",
       "      <th>log2err</th>\n",
       "      <th>ES</th>\n",
       "      <th>NES</th>\n",
       "      <th>size</th>\n",
       "      <th>score</th>\n",
       "    </tr>\n",
       "  </thead>\n",
       "  <tbody>\n",
       "    <tr>\n",
       "      <th>0</th>\n",
       "      <td>1</td>\n",
       "      <td>2</td>\n",
       "      <td>0.007539</td>\n",
       "      <td>0.050774</td>\n",
       "      <td>0.274717</td>\n",
       "      <td>-0.521591</td>\n",
       "      <td>-1.666116</td>\n",
       "      <td>31</td>\n",
       "      <td>-2.122684</td>\n",
       "    </tr>\n",
       "    <tr>\n",
       "      <th>1</th>\n",
       "      <td>2</td>\n",
       "      <td>1</td>\n",
       "      <td>0.012693</td>\n",
       "      <td>0.050774</td>\n",
       "      <td>0.159153</td>\n",
       "      <td>0.517189</td>\n",
       "      <td>1.585338</td>\n",
       "      <td>38</td>\n",
       "      <td>1.896419</td>\n",
       "    </tr>\n",
       "    <tr>\n",
       "      <th>2</th>\n",
       "      <td>3</td>\n",
       "      <td>3</td>\n",
       "      <td>0.040667</td>\n",
       "      <td>0.106093</td>\n",
       "      <td>0.087357</td>\n",
       "      <td>0.456386</td>\n",
       "      <td>1.430772</td>\n",
       "      <td>43</td>\n",
       "      <td>1.390763</td>\n",
       "    </tr>\n",
       "    <tr>\n",
       "      <th>3</th>\n",
       "      <td>4</td>\n",
       "      <td>7</td>\n",
       "      <td>0.053047</td>\n",
       "      <td>0.106093</td>\n",
       "      <td>0.076608</td>\n",
       "      <td>0.455928</td>\n",
       "      <td>1.408364</td>\n",
       "      <td>40</td>\n",
       "      <td>1.275342</td>\n",
       "    </tr>\n",
       "    <tr>\n",
       "      <th>4</th>\n",
       "      <td>5</td>\n",
       "      <td>5</td>\n",
       "      <td>0.312539</td>\n",
       "      <td>0.451462</td>\n",
       "      <td>0.028688</td>\n",
       "      <td>0.358629</td>\n",
       "      <td>1.099306</td>\n",
       "      <td>38</td>\n",
       "      <td>0.505096</td>\n",
       "    </tr>\n",
       "    <tr>\n",
       "      <th>5</th>\n",
       "      <td>6</td>\n",
       "      <td>6</td>\n",
       "      <td>0.338596</td>\n",
       "      <td>0.451462</td>\n",
       "      <td>0.036511</td>\n",
       "      <td>-0.387688</td>\n",
       "      <td>-1.085840</td>\n",
       "      <td>18</td>\n",
       "      <td>-0.470318</td>\n",
       "    </tr>\n",
       "    <tr>\n",
       "      <th>6</th>\n",
       "      <td>7</td>\n",
       "      <td>4</td>\n",
       "      <td>0.668592</td>\n",
       "      <td>0.764105</td>\n",
       "      <td>0.017485</td>\n",
       "      <td>0.323588</td>\n",
       "      <td>0.862752</td>\n",
       "      <td>20</td>\n",
       "      <td>0.174839</td>\n",
       "    </tr>\n",
       "    <tr>\n",
       "      <th>7</th>\n",
       "      <td>8</td>\n",
       "      <td>0</td>\n",
       "      <td>0.835604</td>\n",
       "      <td>0.835604</td>\n",
       "      <td>0.013323</td>\n",
       "      <td>0.250252</td>\n",
       "      <td>0.767096</td>\n",
       "      <td>38</td>\n",
       "      <td>0.078000</td>\n",
       "    </tr>\n",
       "  </tbody>\n",
       "</table>\n",
       "</div>"
      ],
      "text/plain": [
       "   Unnamed: 0  pathway      pval      padj   log2err        ES       NES  \\\n",
       "0           1        2  0.007539  0.050774  0.274717 -0.521591 -1.666116   \n",
       "1           2        1  0.012693  0.050774  0.159153  0.517189  1.585338   \n",
       "2           3        3  0.040667  0.106093  0.087357  0.456386  1.430772   \n",
       "3           4        7  0.053047  0.106093  0.076608  0.455928  1.408364   \n",
       "4           5        5  0.312539  0.451462  0.028688  0.358629  1.099306   \n",
       "5           6        6  0.338596  0.451462  0.036511 -0.387688 -1.085840   \n",
       "6           7        4  0.668592  0.764105  0.017485  0.323588  0.862752   \n",
       "7           8        0  0.835604  0.835604  0.013323  0.250252  0.767096   \n",
       "\n",
       "   size     score  \n",
       "0    31 -2.122684  \n",
       "1    38  1.896419  \n",
       "2    43  1.390763  \n",
       "3    40  1.275342  \n",
       "4    38  0.505096  \n",
       "5    18 -0.470318  \n",
       "6    20  0.174839  \n",
       "7    38  0.078000  "
      ]
     },
     "execution_count": 19,
     "metadata": {},
     "output_type": "execute_result"
    }
   ],
   "source": [
    "temp"
   ]
  },
  {
   "cell_type": "code",
   "execution_count": null,
   "id": "cbf4d5fd-109e-4662-9fe1-51e27b241171",
   "metadata": {},
   "outputs": [],
   "source": [
    "# show random control above & Holstege "
   ]
  },
  {
   "cell_type": "code",
   "execution_count": 40,
   "id": "e4ff2816-32fb-4f6b-b847-a01481730801",
   "metadata": {},
   "outputs": [],
   "source": [
    "scores = pd.read_csv('../processed_data/single_cell/all_scores_0825.csv', index_col=0)\n"
   ]
  },
  {
   "cell_type": "code",
   "execution_count": 41,
   "id": "e1e76075-6897-4513-865b-901abd69aba6",
   "metadata": {},
   "outputs": [
    {
     "name": "stderr",
     "output_type": "stream",
     "text": [
      "/state/partition1/slurm_tmp/24464380.0.0/ipykernel_2659263/599630411.py:2: MatplotlibDeprecationWarning: The get_cmap function was deprecated in Matplotlib 3.7 and will be removed two minor releases later. Use ``matplotlib.colormaps[name]`` or ``matplotlib.colormaps.get_cmap(obj)`` instead.\n",
      "  cm = plt.cm.get_cmap('tab20')\n"
     ]
    }
   ],
   "source": [
    "unique_clusters = np.unique(frame['cluster'])\n",
    "cm = plt.cm.get_cmap('tab20')\n",
    "colors = [cm(int(x)) for x in range(len(unique_clusters))]"
   ]
  },
  {
   "cell_type": "code",
   "execution_count": 14,
   "id": "cc40b16d-9cd0-40ce-a311-e620bbf286a9",
   "metadata": {},
   "outputs": [
    {
     "name": "stderr",
     "output_type": "stream",
     "text": [
      "/state/partition1/llgrid/pkg/anaconda/anaconda3-2022a/lib/python3.8/site-packages/seaborn/distributions.py:2619: FutureWarning: `distplot` is a deprecated function and will be removed in a future version. Please adapt your code to use either `displot` (a figure-level function with similar flexibility) or `kdeplot` (an axes-level function for kernel density plots).\n",
      "  warnings.warn(msg, FutureWarning)\n",
      "/state/partition1/llgrid/pkg/anaconda/anaconda3-2022a/lib/python3.8/site-packages/seaborn/distributions.py:2619: FutureWarning: `distplot` is a deprecated function and will be removed in a future version. Please adapt your code to use either `displot` (a figure-level function with similar flexibility) or `kdeplot` (an axes-level function for kernel density plots).\n",
      "  warnings.warn(msg, FutureWarning)\n",
      "/state/partition1/llgrid/pkg/anaconda/anaconda3-2022a/lib/python3.8/site-packages/seaborn/distributions.py:2619: FutureWarning: `distplot` is a deprecated function and will be removed in a future version. Please adapt your code to use either `displot` (a figure-level function with similar flexibility) or `kdeplot` (an axes-level function for kernel density plots).\n",
      "  warnings.warn(msg, FutureWarning)\n",
      "/state/partition1/llgrid/pkg/anaconda/anaconda3-2022a/lib/python3.8/site-packages/seaborn/distributions.py:2619: FutureWarning: `distplot` is a deprecated function and will be removed in a future version. Please adapt your code to use either `displot` (a figure-level function with similar flexibility) or `kdeplot` (an axes-level function for kernel density plots).\n",
      "  warnings.warn(msg, FutureWarning)\n",
      "/state/partition1/llgrid/pkg/anaconda/anaconda3-2022a/lib/python3.8/site-packages/seaborn/distributions.py:2619: FutureWarning: `distplot` is a deprecated function and will be removed in a future version. Please adapt your code to use either `displot` (a figure-level function with similar flexibility) or `kdeplot` (an axes-level function for kernel density plots).\n",
      "  warnings.warn(msg, FutureWarning)\n",
      "/state/partition1/llgrid/pkg/anaconda/anaconda3-2022a/lib/python3.8/site-packages/seaborn/distributions.py:2619: FutureWarning: `distplot` is a deprecated function and will be removed in a future version. Please adapt your code to use either `displot` (a figure-level function with similar flexibility) or `kdeplot` (an axes-level function for kernel density plots).\n",
      "  warnings.warn(msg, FutureWarning)\n",
      "/state/partition1/llgrid/pkg/anaconda/anaconda3-2022a/lib/python3.8/site-packages/seaborn/distributions.py:2619: FutureWarning: `distplot` is a deprecated function and will be removed in a future version. Please adapt your code to use either `displot` (a figure-level function with similar flexibility) or `kdeplot` (an axes-level function for kernel density plots).\n",
      "  warnings.warn(msg, FutureWarning)\n",
      "/state/partition1/llgrid/pkg/anaconda/anaconda3-2022a/lib/python3.8/site-packages/seaborn/distributions.py:2619: FutureWarning: `distplot` is a deprecated function and will be removed in a future version. Please adapt your code to use either `displot` (a figure-level function with similar flexibility) or `kdeplot` (an axes-level function for kernel density plots).\n",
      "  warnings.warn(msg, FutureWarning)\n"
     ]
    },
    {
     "data": {
      "image/png": "[encoded data removed]",
      "text/plain": [
       "<Figure size 288x504 with 8 Axes>"
      ]
     },
     "metadata": {
      "needs_background": "light"
     },
     "output_type": "display_data"
    },
    {
     "data": {
      "text/plain": [
       "<Figure size 360x72 with 0 Axes>"
      ]
     },
     "metadata": {},
     "output_type": "display_data"
    },
    {
     "data": {
      "text/plain": [
       "<Figure size 360x72 with 0 Axes>"
      ]
     },
     "metadata": {},
     "output_type": "display_data"
    },
    {
     "data": {
      "text/plain": [
       "<Figure size 360x72 with 0 Axes>"
      ]
     },
     "metadata": {},
     "output_type": "display_data"
    },
    {
     "data": {
      "text/plain": [
       "<Figure size 360x72 with 0 Axes>"
      ]
     },
     "metadata": {},
     "output_type": "display_data"
    },
    {
     "data": {
      "text/plain": [
       "<Figure size 360x72 with 0 Axes>"
      ]
     },
     "metadata": {},
     "output_type": "display_data"
    },
    {
     "data": {
      "text/plain": [
       "<Figure size 360x72 with 0 Axes>"
      ]
     },
     "metadata": {},
     "output_type": "display_data"
    },
    {
     "data": {
      "text/plain": [
       "<Figure size 360x72 with 0 Axes>"
      ]
     },
     "metadata": {},
     "output_type": "display_data"
    },
    {
     "data": {
      "text/plain": [
       "<Figure size 360x72 with 0 Axes>"
      ]
     },
     "metadata": {},
     "output_type": "display_data"
    }
   ],
   "source": [
    "# plot score distributions per cluster\n",
    "frame = pd.read_csv('../supplementary_tables/data_s8.csv')\n",
    "scores = pd.read_csv('../processed_data/common_var/rs3752246_binary_scores.csv', index_col = 0)\n",
    "frame = frame[[x in set(scores.index) for x in frame['description']]]\n",
    "\n",
    "g_names  = np.array(frame['description'][frame['is_gene']])\n",
    "\n",
    "SCORES = np.array(scores.loc[g_names]['scores'])\n",
    "\n",
    "temp = [SCORES[frame['cluster'][frame['is_gene']]==i] for i in unique_clusters]\n",
    "fig, axes = plt.subplots(8, 1, sharex=True, figsize=(4,7))\n",
    "\n",
    "for i in range(len(temp)):\n",
    "    plt.figure(figsize = (5,1))\n",
    "\n",
    "    sns.distplot(temp[i], color=colors[i], kde=True,\n",
    "        hist=None, label=str(i), ax=axes[i],  kde_kws={'linestyle':'--'});\n",
    "    l1 = axes[i].lines[0]\n",
    "\n",
    "    x1 = l1.get_xydata()[:, 0]\n",
    "    y1 = l1.get_xydata()[:, 1]\n",
    "    \n",
    "    axes[i].spines[['right', 'top']].set_visible(False)\n",
    "    axes[i].set_title('cluster '+str(i), loc='left', y=.3, x=.05)\n",
    "    axes[i].axvline(np.mean(temp[i]), color=colors[i],linestyle='dotted')\n",
    "    axes[i].axvline(0, color='grey', linestyle='dotted')\n",
    "    #axes[i].fill_between(x1, y1, color='grey', alpha=0.3)"
   ]
  },
  {
   "cell_type": "code",
   "execution_count": 43,
   "id": "79425ed1-681f-4551-bd49-a879dba1146f",
   "metadata": {},
   "outputs": [],
   "source": []
  },
  {
   "cell_type": "code",
   "execution_count": 69,
   "id": "fd894c6d-5dec-4ce9-93dc-477ca86ebecc",
   "metadata": {},
   "outputs": [
    {
     "name": "stderr",
     "output_type": "stream",
     "text": [
      "/state/partition1/llgrid/pkg/anaconda/anaconda3-2022a/lib/python3.8/site-packages/seaborn/distributions.py:2619: FutureWarning: `distplot` is a deprecated function and will be removed in a future version. Please adapt your code to use either `displot` (a figure-level function with similar flexibility) or `kdeplot` (an axes-level function for kernel density plots).\n",
      "  warnings.warn(msg, FutureWarning)\n",
      "/state/partition1/llgrid/pkg/anaconda/anaconda3-2022a/lib/python3.8/site-packages/seaborn/distributions.py:2619: FutureWarning: `distplot` is a deprecated function and will be removed in a future version. Please adapt your code to use either `displot` (a figure-level function with similar flexibility) or `kdeplot` (an axes-level function for kernel density plots).\n",
      "  warnings.warn(msg, FutureWarning)\n",
      "/state/partition1/llgrid/pkg/anaconda/anaconda3-2022a/lib/python3.8/site-packages/seaborn/distributions.py:2619: FutureWarning: `distplot` is a deprecated function and will be removed in a future version. Please adapt your code to use either `displot` (a figure-level function with similar flexibility) or `kdeplot` (an axes-level function for kernel density plots).\n",
      "  warnings.warn(msg, FutureWarning)\n",
      "/state/partition1/llgrid/pkg/anaconda/anaconda3-2022a/lib/python3.8/site-packages/seaborn/distributions.py:2619: FutureWarning: `distplot` is a deprecated function and will be removed in a future version. Please adapt your code to use either `displot` (a figure-level function with similar flexibility) or `kdeplot` (an axes-level function for kernel density plots).\n",
      "  warnings.warn(msg, FutureWarning)\n",
      "/state/partition1/llgrid/pkg/anaconda/anaconda3-2022a/lib/python3.8/site-packages/seaborn/distributions.py:2619: FutureWarning: `distplot` is a deprecated function and will be removed in a future version. Please adapt your code to use either `displot` (a figure-level function with similar flexibility) or `kdeplot` (an axes-level function for kernel density plots).\n",
      "  warnings.warn(msg, FutureWarning)\n",
      "/state/partition1/llgrid/pkg/anaconda/anaconda3-2022a/lib/python3.8/site-packages/seaborn/distributions.py:2619: FutureWarning: `distplot` is a deprecated function and will be removed in a future version. Please adapt your code to use either `displot` (a figure-level function with similar flexibility) or `kdeplot` (an axes-level function for kernel density plots).\n",
      "  warnings.warn(msg, FutureWarning)\n",
      "/state/partition1/llgrid/pkg/anaconda/anaconda3-2022a/lib/python3.8/site-packages/seaborn/distributions.py:2619: FutureWarning: `distplot` is a deprecated function and will be removed in a future version. Please adapt your code to use either `displot` (a figure-level function with similar flexibility) or `kdeplot` (an axes-level function for kernel density plots).\n",
      "  warnings.warn(msg, FutureWarning)\n",
      "/state/partition1/llgrid/pkg/anaconda/anaconda3-2022a/lib/python3.8/site-packages/seaborn/distributions.py:2619: FutureWarning: `distplot` is a deprecated function and will be removed in a future version. Please adapt your code to use either `displot` (a figure-level function with similar flexibility) or `kdeplot` (an axes-level function for kernel density plots).\n",
      "  warnings.warn(msg, FutureWarning)\n",
      "/state/partition1/llgrid/pkg/anaconda/anaconda3-2022a/lib/python3.8/site-packages/seaborn/distributions.py:2619: FutureWarning: `distplot` is a deprecated function and will be removed in a future version. Please adapt your code to use either `displot` (a figure-level function with similar flexibility) or `kdeplot` (an axes-level function for kernel density plots).\n",
      "  warnings.warn(msg, FutureWarning)\n",
      "/state/partition1/llgrid/pkg/anaconda/anaconda3-2022a/lib/python3.8/site-packages/seaborn/distributions.py:2619: FutureWarning: `distplot` is a deprecated function and will be removed in a future version. Please adapt your code to use either `displot` (a figure-level function with similar flexibility) or `kdeplot` (an axes-level function for kernel density plots).\n",
      "  warnings.warn(msg, FutureWarning)\n",
      "/state/partition1/llgrid/pkg/anaconda/anaconda3-2022a/lib/python3.8/site-packages/seaborn/distributions.py:2619: FutureWarning: `distplot` is a deprecated function and will be removed in a future version. Please adapt your code to use either `displot` (a figure-level function with similar flexibility) or `kdeplot` (an axes-level function for kernel density plots).\n",
      "  warnings.warn(msg, FutureWarning)\n",
      "/state/partition1/llgrid/pkg/anaconda/anaconda3-2022a/lib/python3.8/site-packages/seaborn/distributions.py:2619: FutureWarning: `distplot` is a deprecated function and will be removed in a future version. Please adapt your code to use either `displot` (a figure-level function with similar flexibility) or `kdeplot` (an axes-level function for kernel density plots).\n",
      "  warnings.warn(msg, FutureWarning)\n",
      "/state/partition1/llgrid/pkg/anaconda/anaconda3-2022a/lib/python3.8/site-packages/seaborn/distributions.py:2619: FutureWarning: `distplot` is a deprecated function and will be removed in a future version. Please adapt your code to use either `displot` (a figure-level function with similar flexibility) or `kdeplot` (an axes-level function for kernel density plots).\n",
      "  warnings.warn(msg, FutureWarning)\n",
      "/state/partition1/llgrid/pkg/anaconda/anaconda3-2022a/lib/python3.8/site-packages/seaborn/distributions.py:2619: FutureWarning: `distplot` is a deprecated function and will be removed in a future version. Please adapt your code to use either `displot` (a figure-level function with similar flexibility) or `kdeplot` (an axes-level function for kernel density plots).\n",
      "  warnings.warn(msg, FutureWarning)\n",
      "/state/partition1/llgrid/pkg/anaconda/anaconda3-2022a/lib/python3.8/site-packages/seaborn/distributions.py:2619: FutureWarning: `distplot` is a deprecated function and will be removed in a future version. Please adapt your code to use either `displot` (a figure-level function with similar flexibility) or `kdeplot` (an axes-level function for kernel density plots).\n",
      "  warnings.warn(msg, FutureWarning)\n",
      "/state/partition1/llgrid/pkg/anaconda/anaconda3-2022a/lib/python3.8/site-packages/seaborn/distributions.py:2619: FutureWarning: `distplot` is a deprecated function and will be removed in a future version. Please adapt your code to use either `displot` (a figure-level function with similar flexibility) or `kdeplot` (an axes-level function for kernel density plots).\n",
      "  warnings.warn(msg, FutureWarning)\n"
     ]
    },
    {
     "data": {
      "image/png": "[encoded data removed]",
      "text/plain": [
       "<Figure size 288x504 with 8 Axes>"
      ]
     },
     "metadata": {
      "needs_background": "light"
     },
     "output_type": "display_data"
    },
    {
     "data": {
      "text/plain": [
       "<Figure size 360x72 with 0 Axes>"
      ]
     },
     "metadata": {},
     "output_type": "display_data"
    },
    {
     "data": {
      "text/plain": [
       "<Figure size 360x72 with 0 Axes>"
      ]
     },
     "metadata": {},
     "output_type": "display_data"
    },
    {
     "data": {
      "text/plain": [
       "<Figure size 360x72 with 0 Axes>"
      ]
     },
     "metadata": {},
     "output_type": "display_data"
    },
    {
     "data": {
      "text/plain": [
       "<Figure size 360x72 with 0 Axes>"
      ]
     },
     "metadata": {},
     "output_type": "display_data"
    },
    {
     "data": {
      "text/plain": [
       "<Figure size 360x72 with 0 Axes>"
      ]
     },
     "metadata": {},
     "output_type": "display_data"
    },
    {
     "data": {
      "text/plain": [
       "<Figure size 360x72 with 0 Axes>"
      ]
     },
     "metadata": {},
     "output_type": "display_data"
    },
    {
     "data": {
      "text/plain": [
       "<Figure size 360x72 with 0 Axes>"
      ]
     },
     "metadata": {},
     "output_type": "display_data"
    },
    {
     "data": {
      "text/plain": [
       "<Figure size 360x72 with 0 Axes>"
      ]
     },
     "metadata": {},
     "output_type": "display_data"
    }
   ],
   "source": [
    "# plot score distributions per cluster\n",
    "frame = pd.read_csv('../supplementary_tables/data_s8.csv')\n",
    "scores = pd.read_csv('../processed_data/common_var/ex_scores.csv', index_col = 0)\n",
    "frame = frame[[x in set(scores.index) for x in frame['description']]]\n",
    "\n",
    "g_names  = np.array(frame['description'][frame['is_gene']])\n",
    "\n",
    "SCORES = np.array(scores.loc[g_names]['scores'])\n",
    "\n",
    "temp = [SCORES[frame['cluster'][frame['is_gene']]==i] for i in unique_clusters]\n",
    "fig, axes = plt.subplots(8, 1, sharex=True, figsize=(4,7))\n",
    "\n",
    "for i in range(len(temp)):\n",
    "    plt.figure(figsize = (5,1))\n",
    "\n",
    "    sns.distplot(temp[i], color=colors[i], kde=True,\n",
    "        hist=None, label=str(i), ax=axes[i],  kde_kws={'linestyle':'--'});\n",
    "    l1 = axes[i].lines[0]\n",
    "\n",
    "    x1 = l1.get_xydata()[:, 0]\n",
    "    y1 = l1.get_xydata()[:, 1]\n",
    "    \n",
    "    axes[i].spines[['right', 'top']].set_visible(False)\n",
    "    axes[i].set_title('cluster '+str(i), loc='left', y=.3, x=.05)\n",
    "    axes[i].axvline(np.mean(temp[i]), color=colors[i],linestyle='dotted')\n",
    "    axes[i].axvline(0, color='grey', linestyle='dotted')\n",
    "    #axes[i].fill_between(x1, y1, color='grey', alpha=0.3)\n",
    "\n",
    "# plot score distributions per cluster\n",
    "frame = pd.read_csv('../supplementary_tables/data_s8.csv')\n",
    "scores = pd.read_csv('../processed_data/single_cell/all_scores_0825.csv', index_col=0)\n",
    "\n",
    "g_names  = np.array(frame['description'][frame['is_gene']])\n",
    "\n",
    "SCORES = np.array(scores.loc[g_names]['Ex'])\n",
    "\n",
    "temp = [SCORES[frame['cluster'][frame['is_gene']]==i] for i in unique_clusters]\n",
    "\n",
    "for i in range(len(temp)):\n",
    "    #plt.figure(figsize = (5,1))\n",
    "\n",
    "    sns.distplot(temp[i], color=colors[i], kde=True,\n",
    "        hist=None, label=str(i), ax=axes[i]);\n",
    "    l1 = axes[i].lines[0]\n",
    "\n",
    "    x1 = l1.get_xydata()[:, 0]\n",
    "    y1 = l1.get_xydata()[:, 1]\n",
    "    \n",
    "    axes[i].spines[['right', 'top']].set_visible(False)\n",
    "    axes[i].set_title('cluster '+str(i), loc='left', y=.3, x=.05)\n",
    "    axes[i].axvline(np.mean(temp[i]), color=colors[i])#, linestyle='dotted')\n",
    "    axes[i].axvline(0, color='grey', linestyle='dotted')\n",
    "    axes[i].fill_between(x1, y1, color=colors[i], alpha=0.3)\n"
   ]
  },
  {
   "cell_type": "code",
   "execution_count": 82,
   "id": "92f20bd5-c792-49f1-8bb3-24d3c910d147",
   "metadata": {},
   "outputs": [],
   "source": [
    "# plot score distributions per cluster\n",
    "frame = pd.read_csv('../supplementary_tables/data_s8.csv')\n",
    "scores = pd.read_csv('../processed_data/common_var/ex_scores.csv', index_col = 0)\n",
    "frame = frame[[x in set(scores.index) for x in frame['description']]]\n",
    "\n",
    "g_names  = np.array(frame['description'][frame['is_gene']])\n",
    "\n",
    "SCORES = np.array(scores.loc[g_names]['scores'])\n",
    "\n",
    "temp = [SCORES[frame['cluster'][frame['is_gene']]==i] for i in unique_clusters]"
   ]
  },
  {
   "cell_type": "code",
   "execution_count": 140,
   "id": "af5103fd-5233-4c99-99f9-3bc222e3f7e9",
   "metadata": {},
   "outputs": [],
   "source": []
  },
  {
   "cell_type": "code",
   "execution_count": 143,
   "id": "5e18183d-7cab-4a10-ad3e-f916e26c7c25",
   "metadata": {},
   "outputs": [],
   "source": []
  },
  {
   "cell_type": "code",
   "execution_count": 144,
   "id": "118ab1f5-3014-41b8-8236-86c57743602f",
   "metadata": {},
   "outputs": [
    {
     "data": {
      "text/html": [
       "<div>\n",
       "<style scoped>\n",
       "    .dataframe tbody tr th:only-of-type {\n",
       "        vertical-align: middle;\n",
       "    }\n",
       "\n",
       "    .dataframe tbody tr th {\n",
       "        vertical-align: top;\n",
       "    }\n",
       "\n",
       "    .dataframe thead th {\n",
       "        text-align: right;\n",
       "    }\n",
       "</style>\n",
       "<table border=\"1\" class=\"dataframe\">\n",
       "  <thead>\n",
       "    <tr style=\"text-align: right;\">\n",
       "      <th></th>\n",
       "      <th>scores</th>\n",
       "      <th>description</th>\n",
       "      <th>Unnamed: 0</th>\n",
       "      <th>cluster</th>\n",
       "      <th>is_gene</th>\n",
       "      <th>grp</th>\n",
       "    </tr>\n",
       "  </thead>\n",
       "  <tbody>\n",
       "    <tr>\n",
       "      <th>0</th>\n",
       "      <td>2.947527</td>\n",
       "      <td>TOP3A</td>\n",
       "      <td>254</td>\n",
       "      <td>1</td>\n",
       "      <td>True</td>\n",
       "      <td>common</td>\n",
       "    </tr>\n",
       "    <tr>\n",
       "      <th>1</th>\n",
       "      <td>2.887574</td>\n",
       "      <td>SMC3</td>\n",
       "      <td>238</td>\n",
       "      <td>5</td>\n",
       "      <td>True</td>\n",
       "      <td>common</td>\n",
       "    </tr>\n",
       "    <tr>\n",
       "      <th>2</th>\n",
       "      <td>-2.415978</td>\n",
       "      <td>ESRRA</td>\n",
       "      <td>68</td>\n",
       "      <td>2</td>\n",
       "      <td>True</td>\n",
       "      <td>common</td>\n",
       "    </tr>\n",
       "    <tr>\n",
       "      <th>3</th>\n",
       "      <td>2.286346</td>\n",
       "      <td>OPRD1</td>\n",
       "      <td>155</td>\n",
       "      <td>0</td>\n",
       "      <td>True</td>\n",
       "      <td>common</td>\n",
       "    </tr>\n",
       "    <tr>\n",
       "      <th>4</th>\n",
       "      <td>-2.128037</td>\n",
       "      <td>NDUFA11</td>\n",
       "      <td>131</td>\n",
       "      <td>7</td>\n",
       "      <td>True</td>\n",
       "      <td>common</td>\n",
       "    </tr>\n",
       "  </tbody>\n",
       "</table>\n",
       "</div>"
      ],
      "text/plain": [
       "     scores description  Unnamed: 0  cluster  is_gene     grp\n",
       "0  2.947527       TOP3A         254        1     True  common\n",
       "1  2.887574        SMC3         238        5     True  common\n",
       "2 -2.415978       ESRRA          68        2     True  common\n",
       "3  2.286346       OPRD1         155        0     True  common\n",
       "4 -2.128037     NDUFA11         131        7     True  common"
      ]
     },
     "execution_count": 144,
     "metadata": {},
     "output_type": "execute_result"
    }
   ],
   "source": []
  },
  {
   "cell_type": "code",
   "execution_count": 218,
   "id": "38ba6eaf-17c5-47a8-9fe5-aaeabe77f7c4",
   "metadata": {},
   "outputs": [
    {
     "data": {
      "text/plain": [
       "Text(0.1, 0.5, 'Scores')"
      ]
     },
     "execution_count": 218,
     "metadata": {},
     "output_type": "execute_result"
    },
    {
     "data": {
      "image/png": "[encoded data removed]",
      "text/plain": [
       "<Figure size 720x144 with 8 Axes>"
      ]
     },
     "metadata": {
      "needs_background": "light"
     },
     "output_type": "display_data"
    },
    {
     "data": {
      "text/plain": [
       "<Figure size 72x360 with 0 Axes>"
      ]
     },
     "metadata": {},
     "output_type": "display_data"
    },
    {
     "data": {
      "text/plain": [
       "<Figure size 72x360 with 0 Axes>"
      ]
     },
     "metadata": {},
     "output_type": "display_data"
    },
    {
     "data": {
      "text/plain": [
       "<Figure size 72x360 with 0 Axes>"
      ]
     },
     "metadata": {},
     "output_type": "display_data"
    },
    {
     "data": {
      "text/plain": [
       "<Figure size 72x360 with 0 Axes>"
      ]
     },
     "metadata": {},
     "output_type": "display_data"
    },
    {
     "data": {
      "text/plain": [
       "<Figure size 72x360 with 0 Axes>"
      ]
     },
     "metadata": {},
     "output_type": "display_data"
    },
    {
     "data": {
      "text/plain": [
       "<Figure size 72x360 with 0 Axes>"
      ]
     },
     "metadata": {},
     "output_type": "display_data"
    },
    {
     "data": {
      "text/plain": [
       "<Figure size 72x360 with 0 Axes>"
      ]
     },
     "metadata": {},
     "output_type": "display_data"
    },
    {
     "data": {
      "text/plain": [
       "<Figure size 72x360 with 0 Axes>"
      ]
     },
     "metadata": {},
     "output_type": "display_data"
    }
   ],
   "source": [
    "fig, axes = plt.subplots(1, 8, sharey=True, figsize=(10,2))\n",
    "\n",
    "for i in np.unique(TEMP['cluster']):\n",
    "    plt.figure(figsize = (1,5))\n",
    "    temp = TEMP[TEMP['cluster']==i]\n",
    "    boxplot = sns.boxplot(data = temp, x = 'grp', y='scores',color=colors[i], ax=axes[i],             boxprops=dict(alpha=.7,facecolor=colors[i], edgecolor=colors[i]), whiskerprops=dict(color=colors[i]),             medianprops=dict(color=colors[i]),\n",
    "            capprops=dict(color=colors[i]),             flierprops=dict(markeredgecolor=colors[i], marker='.', markersize=0, markerfacecolor=colors[i], ))\n",
    "\n",
    "\n",
    "\n",
    "    \n",
    "    l1 = axes[i].lines[0]\n",
    "\n",
    "    x1 = l1.get_xydata()[:, 0]\n",
    "    y1 = l1.get_xydata()[:, 1]\n",
    "    \n",
    "    axes[i].spines[['right', 'top']].set_visible(False)\n",
    "    #axes[i].set_title('cluster '+str(i), loc='left', y=.3, x=.05)\n",
    "    #axes[i].axvline(np.mean(temp[i]), color=colors[i])#, linestyle='dotted')\n",
    "    axes[i].axhline(0, color='black', linestyle='dotted')\n",
    "    axes[i].fill_between(x1, y1, color=colors[i], alpha=0.3)\n",
    "    axes[i].set_ylabel('')\n",
    "# Add common title for the y-axis\n",
    "fig.text(0.1, 0.5, 'Scores', ha='center', va='center', rotation='vertical')\n"
   ]
  },
  {
   "cell_type": "code",
   "execution_count": 186,
   "id": "3569e9a9-c701-4f8c-be9d-34bd4aeaa63b",
   "metadata": {},
   "outputs": [
    {
     "data": {
      "image/png": "[encoded data removed]",
      "text/plain": [
       "<Figure size 288x504 with 8 Axes>"
      ]
     },
     "metadata": {
      "needs_background": "light"
     },
     "output_type": "display_data"
    },
    {
     "data": {
      "text/plain": [
       "<Figure size 360x72 with 0 Axes>"
      ]
     },
     "metadata": {},
     "output_type": "display_data"
    },
    {
     "data": {
      "text/plain": [
       "<Figure size 360x72 with 0 Axes>"
      ]
     },
     "metadata": {},
     "output_type": "display_data"
    },
    {
     "data": {
      "text/plain": [
       "<Figure size 360x72 with 0 Axes>"
      ]
     },
     "metadata": {},
     "output_type": "display_data"
    },
    {
     "data": {
      "text/plain": [
       "<Figure size 360x72 with 0 Axes>"
      ]
     },
     "metadata": {},
     "output_type": "display_data"
    },
    {
     "data": {
      "text/plain": [
       "<Figure size 360x72 with 0 Axes>"
      ]
     },
     "metadata": {},
     "output_type": "display_data"
    },
    {
     "data": {
      "text/plain": [
       "<Figure size 360x72 with 0 Axes>"
      ]
     },
     "metadata": {},
     "output_type": "display_data"
    },
    {
     "data": {
      "text/plain": [
       "<Figure size 360x72 with 0 Axes>"
      ]
     },
     "metadata": {},
     "output_type": "display_data"
    },
    {
     "data": {
      "text/plain": [
       "<Figure size 360x72 with 0 Axes>"
      ]
     },
     "metadata": {},
     "output_type": "display_data"
    }
   ],
   "source": [
    "fig, axes = plt.subplots(8, 1, sharex=True, figsize=(4,7))\n",
    "\n",
    "for i in np.unique(TEMP['cluster']):\n",
    "    plt.figure(figsize = (5,1))\n",
    "    temp = TEMP[TEMP['cluster']==i]\n",
    "    boxplot = sns.boxplot(data = temp, y = 'grp', x='scores',color=colors[i], ax=axes[i],             boxprops=dict(alpha=.7,facecolor=colors[i], edgecolor=colors[i]), whiskerprops=dict(color=colors[i]),             medianprops=dict(color=colors[i]),\n",
    "            capprops=dict(color=colors[i]))\n",
    "\n",
    "\n",
    "\n",
    "    \n",
    "    l1 = axes[i].lines[0]\n",
    "\n",
    "    x1 = l1.get_xydata()[:, 0]\n",
    "    y1 = l1.get_xydata()[:, 1]\n",
    "    \n",
    "    axes[i].spines[['right', 'top']].set_visible(False)\n",
    "    axes[i].set_title('cluster '+str(i), loc='left', y=.3, x=.05)\n",
    "    #axes[i].axvline(np.mean(temp[i]), color=colors[i])#, linestyle='dotted')\n",
    "    axes[i].axvline(0, color='grey', linestyle='dotted')\n",
    "    axes[i].fill_between(x1, y1, color=colors[i], alpha=0.3)\n"
   ]
  },
  {
   "cell_type": "code",
   "execution_count": 165,
   "id": "315e1e9b-e0b6-4a18-9867-51eca8f72ec4",
   "metadata": {},
   "outputs": [
    {
     "data": {
      "text/plain": [
       "[(0.12156862745098039, 0.4666666666666667, 0.7058823529411765, 1.0),\n",
       " (0.6823529411764706, 0.7803921568627451, 0.9098039215686274, 1.0),\n",
       " (1.0, 0.4980392156862745, 0.054901960784313725, 1.0),\n",
       " (1.0, 0.7333333333333333, 0.47058823529411764, 1.0),\n",
       " (0.17254901960784313, 0.6274509803921569, 0.17254901960784313, 1.0),\n",
       " (0.596078431372549, 0.8745098039215686, 0.5411764705882353, 1.0),\n",
       " (0.8392156862745098, 0.15294117647058825, 0.1568627450980392, 1.0),\n",
       " (1.0, 0.596078431372549, 0.5882352941176471, 1.0)]"
      ]
     },
     "execution_count": 165,
     "metadata": {},
     "output_type": "execute_result"
    }
   ],
   "source": [
    "colors"
   ]
  },
  {
   "cell_type": "code",
   "execution_count": 159,
   "id": "baa84613-3f7f-46ca-9a9d-781f8c4ca6a8",
   "metadata": {},
   "outputs": [
    {
     "data": {
      "text/plain": [
       "<matplotlib.lines.Line2D at 0x7fc2c90d1790>"
      ]
     },
     "execution_count": 159,
     "metadata": {},
     "output_type": "execute_result"
    },
    {
     "data": {
      "image/png": "[encoded data removed]",
      "text/plain": [
       "<Figure size 432x288 with 1 Axes>"
      ]
     },
     "metadata": {
      "needs_background": "light"
     },
     "output_type": "display_data"
    }
   ],
   "source": [
    "sns.boxplot(data=TEMP, x='cluster', y='scores', hue = 'grp')\n",
    "plt.axhline(y=0, color='red', linestyle='--', label='Zero Line')\n"
   ]
  },
  {
   "cell_type": "code",
   "execution_count": 129,
   "id": "0b2a575c-2942-4d0a-9a01-0070846bd941",
   "metadata": {},
   "outputs": [],
   "source": [
    "scores = pd.read_csv('../processed_data/single_cell/all_scores_0825.csv', index_col=0)\n",
    "scores = pd.DataFrame(scores['Ex'])"
   ]
  },
  {
   "cell_type": "code",
   "execution_count": 132,
   "id": "96f3129d-2416-4a66-bb00-07851b273950",
   "metadata": {},
   "outputs": [],
   "source": [
    "scores.colnames = 'test'"
   ]
  },
  {
   "cell_type": "code",
   "execution_count": 133,
   "id": "94105cee-815b-4be4-83dc-38f28cce9c65",
   "metadata": {},
   "outputs": [
    {
     "data": {
      "text/html": [
       "<div>\n",
       "<style scoped>\n",
       "    .dataframe tbody tr th:only-of-type {\n",
       "        vertical-align: middle;\n",
       "    }\n",
       "\n",
       "    .dataframe tbody tr th {\n",
       "        vertical-align: top;\n",
       "    }\n",
       "\n",
       "    .dataframe thead th {\n",
       "        text-align: right;\n",
       "    }\n",
       "</style>\n",
       "<table border=\"1\" class=\"dataframe\">\n",
       "  <thead>\n",
       "    <tr style=\"text-align: right;\">\n",
       "      <th></th>\n",
       "      <th>Ex</th>\n",
       "    </tr>\n",
       "  </thead>\n",
       "  <tbody>\n",
       "    <tr>\n",
       "      <th>DTNBP1</th>\n",
       "      <td>-0.126932</td>\n",
       "    </tr>\n",
       "    <tr>\n",
       "      <th>VRK2</th>\n",
       "      <td>0.000000</td>\n",
       "    </tr>\n",
       "    <tr>\n",
       "      <th>ZBED5</th>\n",
       "      <td>2.611961</td>\n",
       "    </tr>\n",
       "    <tr>\n",
       "      <th>TMED3</th>\n",
       "      <td>1.281436</td>\n",
       "    </tr>\n",
       "    <tr>\n",
       "      <th>SEMA6B</th>\n",
       "      <td>0.077767</td>\n",
       "    </tr>\n",
       "    <tr>\n",
       "      <th>...</th>\n",
       "      <td>...</td>\n",
       "    </tr>\n",
       "    <tr>\n",
       "      <th>RNF152</th>\n",
       "      <td>0.000000</td>\n",
       "    </tr>\n",
       "    <tr>\n",
       "      <th>CYGB</th>\n",
       "      <td>0.000000</td>\n",
       "    </tr>\n",
       "    <tr>\n",
       "      <th>PNOC</th>\n",
       "      <td>0.000000</td>\n",
       "    </tr>\n",
       "    <tr>\n",
       "      <th>TMEM182</th>\n",
       "      <td>0.000000</td>\n",
       "    </tr>\n",
       "    <tr>\n",
       "      <th>SHISA8</th>\n",
       "      <td>0.000000</td>\n",
       "    </tr>\n",
       "  </tbody>\n",
       "</table>\n",
       "<p>11716 rows × 1 columns</p>\n",
       "</div>"
      ],
      "text/plain": [
       "               Ex\n",
       "DTNBP1  -0.126932\n",
       "VRK2     0.000000\n",
       "ZBED5    2.611961\n",
       "TMED3    1.281436\n",
       "SEMA6B   0.077767\n",
       "...           ...\n",
       "RNF152   0.000000\n",
       "CYGB     0.000000\n",
       "PNOC     0.000000\n",
       "TMEM182  0.000000\n",
       "SHISA8   0.000000\n",
       "\n",
       "[11716 rows x 1 columns]"
      ]
     },
     "execution_count": 133,
     "metadata": {},
     "output_type": "execute_result"
    }
   ],
   "source": [
    "scores"
   ]
  },
  {
   "cell_type": "code",
   "execution_count": 116,
   "id": "2bdd8b7c-0809-4b45-b708-7331ba105576",
   "metadata": {},
   "outputs": [
    {
     "data": {
      "text/html": [
       "<div>\n",
       "<style scoped>\n",
       "    .dataframe tbody tr th:only-of-type {\n",
       "        vertical-align: middle;\n",
       "    }\n",
       "\n",
       "    .dataframe tbody tr th {\n",
       "        vertical-align: top;\n",
       "    }\n",
       "\n",
       "    .dataframe thead th {\n",
       "        text-align: right;\n",
       "    }\n",
       "</style>\n",
       "<table border=\"1\" class=\"dataframe\">\n",
       "  <thead>\n",
       "    <tr style=\"text-align: right;\">\n",
       "      <th></th>\n",
       "      <th>Ex</th>\n",
       "      <th>description</th>\n",
       "      <th>Unnamed: 0</th>\n",
       "      <th>cluster</th>\n",
       "      <th>is_gene</th>\n",
       "      <th>grp</th>\n",
       "    </tr>\n",
       "  </thead>\n",
       "  <tbody>\n",
       "    <tr>\n",
       "      <th>0</th>\n",
       "      <td>2.326606</td>\n",
       "      <td>CDC7</td>\n",
       "      <td>40</td>\n",
       "      <td>5</td>\n",
       "      <td>True</td>\n",
       "      <td>rare</td>\n",
       "    </tr>\n",
       "    <tr>\n",
       "      <th>1</th>\n",
       "      <td>1.390363</td>\n",
       "      <td>PSMD11</td>\n",
       "      <td>188</td>\n",
       "      <td>3</td>\n",
       "      <td>True</td>\n",
       "      <td>rare</td>\n",
       "    </tr>\n",
       "    <tr>\n",
       "      <th>2</th>\n",
       "      <td>1.551225</td>\n",
       "      <td>MSH6</td>\n",
       "      <td>121</td>\n",
       "      <td>4</td>\n",
       "      <td>True</td>\n",
       "      <td>rare</td>\n",
       "    </tr>\n",
       "    <tr>\n",
       "      <th>3</th>\n",
       "      <td>1.584546</td>\n",
       "      <td>BARD1</td>\n",
       "      <td>25</td>\n",
       "      <td>1</td>\n",
       "      <td>True</td>\n",
       "      <td>rare</td>\n",
       "    </tr>\n",
       "    <tr>\n",
       "      <th>4</th>\n",
       "      <td>0.639716</td>\n",
       "      <td>WRN</td>\n",
       "      <td>267</td>\n",
       "      <td>1</td>\n",
       "      <td>True</td>\n",
       "      <td>rare</td>\n",
       "    </tr>\n",
       "    <tr>\n",
       "      <th>...</th>\n",
       "      <td>...</td>\n",
       "      <td>...</td>\n",
       "      <td>...</td>\n",
       "      <td>...</td>\n",
       "      <td>...</td>\n",
       "      <td>...</td>\n",
       "    </tr>\n",
       "    <tr>\n",
       "      <th>263</th>\n",
       "      <td>-1.553847</td>\n",
       "      <td>NR1H3</td>\n",
       "      <td>153</td>\n",
       "      <td>2</td>\n",
       "      <td>True</td>\n",
       "      <td>rare</td>\n",
       "    </tr>\n",
       "    <tr>\n",
       "      <th>264</th>\n",
       "      <td>-1.720019</td>\n",
       "      <td>RARA</td>\n",
       "      <td>202</td>\n",
       "      <td>2</td>\n",
       "      <td>True</td>\n",
       "      <td>rare</td>\n",
       "    </tr>\n",
       "    <tr>\n",
       "      <th>265</th>\n",
       "      <td>-1.781328</td>\n",
       "      <td>MAT2B</td>\n",
       "      <td>114</td>\n",
       "      <td>5</td>\n",
       "      <td>True</td>\n",
       "      <td>rare</td>\n",
       "    </tr>\n",
       "    <tr>\n",
       "      <th>266</th>\n",
       "      <td>-2.407135</td>\n",
       "      <td>CCKBR</td>\n",
       "      <td>38</td>\n",
       "      <td>0</td>\n",
       "      <td>True</td>\n",
       "      <td>rare</td>\n",
       "    </tr>\n",
       "    <tr>\n",
       "      <th>267</th>\n",
       "      <td>-2.788989</td>\n",
       "      <td>LZTFL1</td>\n",
       "      <td>108</td>\n",
       "      <td>3</td>\n",
       "      <td>True</td>\n",
       "      <td>rare</td>\n",
       "    </tr>\n",
       "  </tbody>\n",
       "</table>\n",
       "<p>268 rows × 6 columns</p>\n",
       "</div>"
      ],
      "text/plain": [
       "           Ex description  Unnamed: 0  cluster  is_gene   grp\n",
       "0    2.326606        CDC7          40        5     True  rare\n",
       "1    1.390363      PSMD11         188        3     True  rare\n",
       "2    1.551225        MSH6         121        4     True  rare\n",
       "3    1.584546       BARD1          25        1     True  rare\n",
       "4    0.639716         WRN         267        1     True  rare\n",
       "..        ...         ...         ...      ...      ...   ...\n",
       "263 -1.553847       NR1H3         153        2     True  rare\n",
       "264 -1.720019        RARA         202        2     True  rare\n",
       "265 -1.781328       MAT2B         114        5     True  rare\n",
       "266 -2.407135       CCKBR          38        0     True  rare\n",
       "267 -2.788989      LZTFL1         108        3     True  rare\n",
       "\n",
       "[268 rows x 6 columns]"
      ]
     },
     "execution_count": 116,
     "metadata": {},
     "output_type": "execute_result"
    }
   ],
   "source": [
    "temp2"
   ]
  },
  {
   "cell_type": "code",
   "execution_count": 112,
   "id": "5b03ee93-681a-4d2d-ada2-0fb229faa6f3",
   "metadata": {},
   "outputs": [
    {
     "data": {
      "text/html": [
       "<div>\n",
       "<style scoped>\n",
       "    .dataframe tbody tr th:only-of-type {\n",
       "        vertical-align: middle;\n",
       "    }\n",
       "\n",
       "    .dataframe tbody tr th {\n",
       "        vertical-align: top;\n",
       "    }\n",
       "\n",
       "    .dataframe thead th {\n",
       "        text-align: right;\n",
       "    }\n",
       "</style>\n",
       "<table border=\"1\" class=\"dataframe\">\n",
       "  <thead>\n",
       "    <tr style=\"text-align: right;\">\n",
       "      <th></th>\n",
       "      <th>Ex</th>\n",
       "    </tr>\n",
       "  </thead>\n",
       "  <tbody>\n",
       "    <tr>\n",
       "      <th>DTNBP1</th>\n",
       "      <td>-0.126932</td>\n",
       "    </tr>\n",
       "    <tr>\n",
       "      <th>VRK2</th>\n",
       "      <td>0.000000</td>\n",
       "    </tr>\n",
       "    <tr>\n",
       "      <th>ZBED5</th>\n",
       "      <td>2.611961</td>\n",
       "    </tr>\n",
       "    <tr>\n",
       "      <th>TMED3</th>\n",
       "      <td>1.281436</td>\n",
       "    </tr>\n",
       "    <tr>\n",
       "      <th>SEMA6B</th>\n",
       "      <td>0.077767</td>\n",
       "    </tr>\n",
       "    <tr>\n",
       "      <th>...</th>\n",
       "      <td>...</td>\n",
       "    </tr>\n",
       "    <tr>\n",
       "      <th>RNF152</th>\n",
       "      <td>0.000000</td>\n",
       "    </tr>\n",
       "    <tr>\n",
       "      <th>CYGB</th>\n",
       "      <td>0.000000</td>\n",
       "    </tr>\n",
       "    <tr>\n",
       "      <th>PNOC</th>\n",
       "      <td>0.000000</td>\n",
       "    </tr>\n",
       "    <tr>\n",
       "      <th>TMEM182</th>\n",
       "      <td>0.000000</td>\n",
       "    </tr>\n",
       "    <tr>\n",
       "      <th>SHISA8</th>\n",
       "      <td>0.000000</td>\n",
       "    </tr>\n",
       "  </tbody>\n",
       "</table>\n",
       "<p>11716 rows × 1 columns</p>\n",
       "</div>"
      ],
      "text/plain": [
       "               Ex\n",
       "DTNBP1  -0.126932\n",
       "VRK2     0.000000\n",
       "ZBED5    2.611961\n",
       "TMED3    1.281436\n",
       "SEMA6B   0.077767\n",
       "...           ...\n",
       "RNF152   0.000000\n",
       "CYGB     0.000000\n",
       "PNOC     0.000000\n",
       "TMEM182  0.000000\n",
       "SHISA8   0.000000\n",
       "\n",
       "[11716 rows x 1 columns]"
      ]
     },
     "execution_count": 112,
     "metadata": {},
     "output_type": "execute_result"
    }
   ],
   "source": [
    "scores"
   ]
  },
  {
   "cell_type": "code",
   "execution_count": 106,
   "id": "19ed1f40-a8b9-4cbc-9ab3-97017381d9fa",
   "metadata": {},
   "outputs": [],
   "source": []
  },
  {
   "cell_type": "code",
   "execution_count": 107,
   "id": "a2c9bcf9-9383-4800-a012-3e4524b99af2",
   "metadata": {},
   "outputs": [
    {
     "data": {
      "text/html": [
       "<div>\n",
       "<style scoped>\n",
       "    .dataframe tbody tr th:only-of-type {\n",
       "        vertical-align: middle;\n",
       "    }\n",
       "\n",
       "    .dataframe tbody tr th {\n",
       "        vertical-align: top;\n",
       "    }\n",
       "\n",
       "    .dataframe thead th {\n",
       "        text-align: right;\n",
       "    }\n",
       "</style>\n",
       "<table border=\"1\" class=\"dataframe\">\n",
       "  <thead>\n",
       "    <tr style=\"text-align: right;\">\n",
       "      <th></th>\n",
       "      <th>scores</th>\n",
       "      <th>description</th>\n",
       "      <th>Unnamed: 0</th>\n",
       "      <th>cluster</th>\n",
       "      <th>is_gene</th>\n",
       "      <th>grp</th>\n",
       "    </tr>\n",
       "  </thead>\n",
       "  <tbody>\n",
       "    <tr>\n",
       "      <th>0</th>\n",
       "      <td>2.947527</td>\n",
       "      <td>TOP3A</td>\n",
       "      <td>254</td>\n",
       "      <td>1</td>\n",
       "      <td>True</td>\n",
       "      <td>common</td>\n",
       "    </tr>\n",
       "    <tr>\n",
       "      <th>1</th>\n",
       "      <td>2.887574</td>\n",
       "      <td>SMC3</td>\n",
       "      <td>238</td>\n",
       "      <td>5</td>\n",
       "      <td>True</td>\n",
       "      <td>common</td>\n",
       "    </tr>\n",
       "    <tr>\n",
       "      <th>2</th>\n",
       "      <td>-2.415978</td>\n",
       "      <td>ESRRA</td>\n",
       "      <td>68</td>\n",
       "      <td>2</td>\n",
       "      <td>True</td>\n",
       "      <td>common</td>\n",
       "    </tr>\n",
       "    <tr>\n",
       "      <th>3</th>\n",
       "      <td>2.286346</td>\n",
       "      <td>OPRD1</td>\n",
       "      <td>155</td>\n",
       "      <td>0</td>\n",
       "      <td>True</td>\n",
       "      <td>common</td>\n",
       "    </tr>\n",
       "    <tr>\n",
       "      <th>4</th>\n",
       "      <td>-2.128037</td>\n",
       "      <td>NDUFA11</td>\n",
       "      <td>131</td>\n",
       "      <td>7</td>\n",
       "      <td>True</td>\n",
       "      <td>common</td>\n",
       "    </tr>\n",
       "    <tr>\n",
       "      <th>...</th>\n",
       "      <td>...</td>\n",
       "      <td>...</td>\n",
       "      <td>...</td>\n",
       "      <td>...</td>\n",
       "      <td>...</td>\n",
       "      <td>...</td>\n",
       "    </tr>\n",
       "    <tr>\n",
       "      <th>261</th>\n",
       "      <td>0.007525</td>\n",
       "      <td>TOPBP1</td>\n",
       "      <td>255</td>\n",
       "      <td>1</td>\n",
       "      <td>True</td>\n",
       "      <td>common</td>\n",
       "    </tr>\n",
       "    <tr>\n",
       "      <th>262</th>\n",
       "      <td>-0.006909</td>\n",
       "      <td>ATRX</td>\n",
       "      <td>23</td>\n",
       "      <td>1</td>\n",
       "      <td>True</td>\n",
       "      <td>common</td>\n",
       "    </tr>\n",
       "    <tr>\n",
       "      <th>263</th>\n",
       "      <td>-0.005225</td>\n",
       "      <td>BID</td>\n",
       "      <td>28</td>\n",
       "      <td>6</td>\n",
       "      <td>True</td>\n",
       "      <td>common</td>\n",
       "    </tr>\n",
       "    <tr>\n",
       "      <th>264</th>\n",
       "      <td>0.003087</td>\n",
       "      <td>MSH6</td>\n",
       "      <td>121</td>\n",
       "      <td>4</td>\n",
       "      <td>True</td>\n",
       "      <td>common</td>\n",
       "    </tr>\n",
       "    <tr>\n",
       "      <th>265</th>\n",
       "      <td>0.001320</td>\n",
       "      <td>ATF2</td>\n",
       "      <td>13</td>\n",
       "      <td>6</td>\n",
       "      <td>True</td>\n",
       "      <td>common</td>\n",
       "    </tr>\n",
       "  </tbody>\n",
       "</table>\n",
       "<p>266 rows × 6 columns</p>\n",
       "</div>"
      ],
      "text/plain": [
       "       scores description  Unnamed: 0  cluster  is_gene     grp\n",
       "0    2.947527       TOP3A         254        1     True  common\n",
       "1    2.887574        SMC3         238        5     True  common\n",
       "2   -2.415978       ESRRA          68        2     True  common\n",
       "3    2.286346       OPRD1         155        0     True  common\n",
       "4   -2.128037     NDUFA11         131        7     True  common\n",
       "..        ...         ...         ...      ...      ...     ...\n",
       "261  0.007525      TOPBP1         255        1     True  common\n",
       "262 -0.006909        ATRX          23        1     True  common\n",
       "263 -0.005225         BID          28        6     True  common\n",
       "264  0.003087        MSH6         121        4     True  common\n",
       "265  0.001320        ATF2          13        6     True  common\n",
       "\n",
       "[266 rows x 6 columns]"
      ]
     },
     "execution_count": 107,
     "metadata": {},
     "output_type": "execute_result"
    }
   ],
   "source": []
  },
  {
   "cell_type": "code",
   "execution_count": 103,
   "id": "ffa5525f-57d5-43e8-8798-6c9045efe118",
   "metadata": {},
   "outputs": [],
   "source": []
  },
  {
   "cell_type": "code",
   "execution_count": 105,
   "id": "9f1ce9a9-8c27-465f-aaea-a0e0bbc6638c",
   "metadata": {},
   "outputs": [],
   "source": []
  },
  {
   "cell_type": "code",
   "execution_count": 99,
   "id": "24bdb4d7-62fe-4339-ab1c-5092e84f2fb5",
   "metadata": {},
   "outputs": [
    {
     "data": {
      "text/html": [
       "<div>\n",
       "<style scoped>\n",
       "    .dataframe tbody tr th:only-of-type {\n",
       "        vertical-align: middle;\n",
       "    }\n",
       "\n",
       "    .dataframe tbody tr th {\n",
       "        vertical-align: top;\n",
       "    }\n",
       "\n",
       "    .dataframe thead th {\n",
       "        text-align: right;\n",
       "    }\n",
       "</style>\n",
       "<table border=\"1\" class=\"dataframe\">\n",
       "  <thead>\n",
       "    <tr style=\"text-align: right;\">\n",
       "      <th></th>\n",
       "      <th>scores</th>\n",
       "      <th>description</th>\n",
       "      <th>Unnamed: 0</th>\n",
       "      <th>cluster</th>\n",
       "      <th>is_gene</th>\n",
       "      <th>grp</th>\n",
       "    </tr>\n",
       "  </thead>\n",
       "  <tbody>\n",
       "    <tr>\n",
       "      <th>0</th>\n",
       "      <td>2.947527</td>\n",
       "      <td>TOP3A</td>\n",
       "      <td>254</td>\n",
       "      <td>1</td>\n",
       "      <td>True</td>\n",
       "      <td>common</td>\n",
       "    </tr>\n",
       "    <tr>\n",
       "      <th>1</th>\n",
       "      <td>2.887574</td>\n",
       "      <td>SMC3</td>\n",
       "      <td>238</td>\n",
       "      <td>5</td>\n",
       "      <td>True</td>\n",
       "      <td>common</td>\n",
       "    </tr>\n",
       "    <tr>\n",
       "      <th>2</th>\n",
       "      <td>-2.415978</td>\n",
       "      <td>ESRRA</td>\n",
       "      <td>68</td>\n",
       "      <td>2</td>\n",
       "      <td>True</td>\n",
       "      <td>common</td>\n",
       "    </tr>\n",
       "    <tr>\n",
       "      <th>3</th>\n",
       "      <td>2.286346</td>\n",
       "      <td>OPRD1</td>\n",
       "      <td>155</td>\n",
       "      <td>0</td>\n",
       "      <td>True</td>\n",
       "      <td>common</td>\n",
       "    </tr>\n",
       "    <tr>\n",
       "      <th>4</th>\n",
       "      <td>-2.128037</td>\n",
       "      <td>NDUFA11</td>\n",
       "      <td>131</td>\n",
       "      <td>7</td>\n",
       "      <td>True</td>\n",
       "      <td>common</td>\n",
       "    </tr>\n",
       "    <tr>\n",
       "      <th>...</th>\n",
       "      <td>...</td>\n",
       "      <td>...</td>\n",
       "      <td>...</td>\n",
       "      <td>...</td>\n",
       "      <td>...</td>\n",
       "      <td>...</td>\n",
       "    </tr>\n",
       "    <tr>\n",
       "      <th>261</th>\n",
       "      <td>0.007525</td>\n",
       "      <td>TOPBP1</td>\n",
       "      <td>255</td>\n",
       "      <td>1</td>\n",
       "      <td>True</td>\n",
       "      <td>common</td>\n",
       "    </tr>\n",
       "    <tr>\n",
       "      <th>262</th>\n",
       "      <td>-0.006909</td>\n",
       "      <td>ATRX</td>\n",
       "      <td>23</td>\n",
       "      <td>1</td>\n",
       "      <td>True</td>\n",
       "      <td>common</td>\n",
       "    </tr>\n",
       "    <tr>\n",
       "      <th>263</th>\n",
       "      <td>-0.005225</td>\n",
       "      <td>BID</td>\n",
       "      <td>28</td>\n",
       "      <td>6</td>\n",
       "      <td>True</td>\n",
       "      <td>common</td>\n",
       "    </tr>\n",
       "    <tr>\n",
       "      <th>264</th>\n",
       "      <td>0.003087</td>\n",
       "      <td>MSH6</td>\n",
       "      <td>121</td>\n",
       "      <td>4</td>\n",
       "      <td>True</td>\n",
       "      <td>common</td>\n",
       "    </tr>\n",
       "    <tr>\n",
       "      <th>265</th>\n",
       "      <td>0.001320</td>\n",
       "      <td>ATF2</td>\n",
       "      <td>13</td>\n",
       "      <td>6</td>\n",
       "      <td>True</td>\n",
       "      <td>common</td>\n",
       "    </tr>\n",
       "  </tbody>\n",
       "</table>\n",
       "<p>266 rows × 6 columns</p>\n",
       "</div>"
      ],
      "text/plain": [
       "       scores description  Unnamed: 0  cluster  is_gene     grp\n",
       "0    2.947527       TOP3A         254        1     True  common\n",
       "1    2.887574        SMC3         238        5     True  common\n",
       "2   -2.415978       ESRRA          68        2     True  common\n",
       "3    2.286346       OPRD1         155        0     True  common\n",
       "4   -2.128037     NDUFA11         131        7     True  common\n",
       "..        ...         ...         ...      ...      ...     ...\n",
       "261  0.007525      TOPBP1         255        1     True  common\n",
       "262 -0.006909        ATRX          23        1     True  common\n",
       "263 -0.005225         BID          28        6     True  common\n",
       "264  0.003087        MSH6         121        4     True  common\n",
       "265  0.001320        ATF2          13        6     True  common\n",
       "\n",
       "[266 rows x 6 columns]"
      ]
     },
     "execution_count": 99,
     "metadata": {},
     "output_type": "execute_result"
    }
   ],
   "source": [
    "temp"
   ]
  },
  {
   "cell_type": "code",
   "execution_count": 91,
   "id": "b02136d8-3f59-4a62-851b-18c60bd2fec4",
   "metadata": {},
   "outputs": [
    {
     "data": {
      "text/plain": [
       "<function pandas.core.reshape.merge.merge(left: 'DataFrame | Series', right: 'DataFrame | Series', how: 'str' = 'inner', on: 'IndexLabel | None' = None, left_on: 'IndexLabel | None' = None, right_on: 'IndexLabel | None' = None, left_index: 'bool' = False, right_index: 'bool' = False, sort: 'bool' = False, suffixes: 'Suffixes' = ('_x', '_y'), copy: 'bool' = True, indicator: 'bool' = False, validate: 'str | None' = None) -> 'DataFrame'>"
      ]
     },
     "execution_count": 91,
     "metadata": {},
     "output_type": "execute_result"
    }
   ],
   "source": [
    "pd.merge"
   ]
  },
  {
   "cell_type": "code",
   "execution_count": 81,
   "id": "2188e1ef-a146-47e9-8588-cea5ceb76578",
   "metadata": {},
   "outputs": [
    {
     "name": "stderr",
     "output_type": "stream",
     "text": [
      "/state/partition1/llgrid/pkg/anaconda/anaconda3-2022a/lib/python3.8/site-packages/seaborn/_decorators.py:36: FutureWarning: Pass the following variable as a keyword arg: x. From version 0.12, the only valid positional argument will be `data`, and passing other arguments without an explicit keyword will result in an error or misinterpretation.\n",
      "  warnings.warn(\n",
      "/state/partition1/llgrid/pkg/anaconda/anaconda3-2022a/lib/python3.8/site-packages/seaborn/_decorators.py:36: FutureWarning: Pass the following variable as a keyword arg: x. From version 0.12, the only valid positional argument will be `data`, and passing other arguments without an explicit keyword will result in an error or misinterpretation.\n",
      "  warnings.warn(\n",
      "/state/partition1/llgrid/pkg/anaconda/anaconda3-2022a/lib/python3.8/site-packages/seaborn/_decorators.py:36: FutureWarning: Pass the following variable as a keyword arg: x. From version 0.12, the only valid positional argument will be `data`, and passing other arguments without an explicit keyword will result in an error or misinterpretation.\n",
      "  warnings.warn(\n",
      "/state/partition1/llgrid/pkg/anaconda/anaconda3-2022a/lib/python3.8/site-packages/seaborn/_decorators.py:36: FutureWarning: Pass the following variable as a keyword arg: x. From version 0.12, the only valid positional argument will be `data`, and passing other arguments without an explicit keyword will result in an error or misinterpretation.\n",
      "  warnings.warn(\n",
      "/state/partition1/llgrid/pkg/anaconda/anaconda3-2022a/lib/python3.8/site-packages/seaborn/_decorators.py:36: FutureWarning: Pass the following variable as a keyword arg: x. From version 0.12, the only valid positional argument will be `data`, and passing other arguments without an explicit keyword will result in an error or misinterpretation.\n",
      "  warnings.warn(\n",
      "/state/partition1/llgrid/pkg/anaconda/anaconda3-2022a/lib/python3.8/site-packages/seaborn/_decorators.py:36: FutureWarning: Pass the following variable as a keyword arg: x. From version 0.12, the only valid positional argument will be `data`, and passing other arguments without an explicit keyword will result in an error or misinterpretation.\n",
      "  warnings.warn(\n",
      "/state/partition1/llgrid/pkg/anaconda/anaconda3-2022a/lib/python3.8/site-packages/seaborn/_decorators.py:36: FutureWarning: Pass the following variable as a keyword arg: x. From version 0.12, the only valid positional argument will be `data`, and passing other arguments without an explicit keyword will result in an error or misinterpretation.\n",
      "  warnings.warn(\n",
      "/state/partition1/llgrid/pkg/anaconda/anaconda3-2022a/lib/python3.8/site-packages/seaborn/_decorators.py:36: FutureWarning: Pass the following variable as a keyword arg: x. From version 0.12, the only valid positional argument will be `data`, and passing other arguments without an explicit keyword will result in an error or misinterpretation.\n",
      "  warnings.warn(\n",
      "/state/partition1/llgrid/pkg/anaconda/anaconda3-2022a/lib/python3.8/site-packages/seaborn/_decorators.py:36: FutureWarning: Pass the following variable as a keyword arg: x. From version 0.12, the only valid positional argument will be `data`, and passing other arguments without an explicit keyword will result in an error or misinterpretation.\n",
      "  warnings.warn(\n",
      "/state/partition1/llgrid/pkg/anaconda/anaconda3-2022a/lib/python3.8/site-packages/seaborn/_decorators.py:36: FutureWarning: Pass the following variable as a keyword arg: x. From version 0.12, the only valid positional argument will be `data`, and passing other arguments without an explicit keyword will result in an error or misinterpretation.\n",
      "  warnings.warn(\n",
      "/state/partition1/llgrid/pkg/anaconda/anaconda3-2022a/lib/python3.8/site-packages/seaborn/_decorators.py:36: FutureWarning: Pass the following variable as a keyword arg: x. From version 0.12, the only valid positional argument will be `data`, and passing other arguments without an explicit keyword will result in an error or misinterpretation.\n",
      "  warnings.warn(\n",
      "/state/partition1/llgrid/pkg/anaconda/anaconda3-2022a/lib/python3.8/site-packages/seaborn/_decorators.py:36: FutureWarning: Pass the following variable as a keyword arg: x. From version 0.12, the only valid positional argument will be `data`, and passing other arguments without an explicit keyword will result in an error or misinterpretation.\n",
      "  warnings.warn(\n",
      "/state/partition1/llgrid/pkg/anaconda/anaconda3-2022a/lib/python3.8/site-packages/seaborn/_decorators.py:36: FutureWarning: Pass the following variable as a keyword arg: x. From version 0.12, the only valid positional argument will be `data`, and passing other arguments without an explicit keyword will result in an error or misinterpretation.\n",
      "  warnings.warn(\n",
      "/state/partition1/llgrid/pkg/anaconda/anaconda3-2022a/lib/python3.8/site-packages/seaborn/_decorators.py:36: FutureWarning: Pass the following variable as a keyword arg: x. From version 0.12, the only valid positional argument will be `data`, and passing other arguments without an explicit keyword will result in an error or misinterpretation.\n",
      "  warnings.warn(\n",
      "/state/partition1/llgrid/pkg/anaconda/anaconda3-2022a/lib/python3.8/site-packages/seaborn/_decorators.py:36: FutureWarning: Pass the following variable as a keyword arg: x. From version 0.12, the only valid positional argument will be `data`, and passing other arguments without an explicit keyword will result in an error or misinterpretation.\n",
      "  warnings.warn(\n",
      "/state/partition1/llgrid/pkg/anaconda/anaconda3-2022a/lib/python3.8/site-packages/seaborn/_decorators.py:36: FutureWarning: Pass the following variable as a keyword arg: x. From version 0.12, the only valid positional argument will be `data`, and passing other arguments without an explicit keyword will result in an error or misinterpretation.\n",
      "  warnings.warn(\n"
     ]
    },
    {
     "data": {
      "image/png": "[encoded data removed]",
      "text/plain": [
       "<Figure size 288x504 with 8 Axes>"
      ]
     },
     "metadata": {
      "needs_background": "light"
     },
     "output_type": "display_data"
    },
    {
     "data": {
      "text/plain": [
       "<Figure size 360x72 with 0 Axes>"
      ]
     },
     "metadata": {},
     "output_type": "display_data"
    },
    {
     "data": {
      "text/plain": [
       "<Figure size 360x72 with 0 Axes>"
      ]
     },
     "metadata": {},
     "output_type": "display_data"
    },
    {
     "data": {
      "text/plain": [
       "<Figure size 360x72 with 0 Axes>"
      ]
     },
     "metadata": {},
     "output_type": "display_data"
    },
    {
     "data": {
      "text/plain": [
       "<Figure size 360x72 with 0 Axes>"
      ]
     },
     "metadata": {},
     "output_type": "display_data"
    },
    {
     "data": {
      "text/plain": [
       "<Figure size 360x72 with 0 Axes>"
      ]
     },
     "metadata": {},
     "output_type": "display_data"
    },
    {
     "data": {
      "text/plain": [
       "<Figure size 360x72 with 0 Axes>"
      ]
     },
     "metadata": {},
     "output_type": "display_data"
    },
    {
     "data": {
      "text/plain": [
       "<Figure size 360x72 with 0 Axes>"
      ]
     },
     "metadata": {},
     "output_type": "display_data"
    },
    {
     "data": {
      "text/plain": [
       "<Figure size 360x72 with 0 Axes>"
      ]
     },
     "metadata": {},
     "output_type": "display_data"
    },
    {
     "data": {
      "image/png": "[encoded data removed]",
      "text/plain": [
       "<Figure size 288x504 with 8 Axes>"
      ]
     },
     "metadata": {
      "needs_background": "light"
     },
     "output_type": "display_data"
    },
    {
     "data": {
      "text/plain": [
       "<Figure size 360x72 with 0 Axes>"
      ]
     },
     "metadata": {},
     "output_type": "display_data"
    },
    {
     "data": {
      "text/plain": [
       "<Figure size 360x72 with 0 Axes>"
      ]
     },
     "metadata": {},
     "output_type": "display_data"
    },
    {
     "data": {
      "text/plain": [
       "<Figure size 360x72 with 0 Axes>"
      ]
     },
     "metadata": {},
     "output_type": "display_data"
    },
    {
     "data": {
      "text/plain": [
       "<Figure size 360x72 with 0 Axes>"
      ]
     },
     "metadata": {},
     "output_type": "display_data"
    },
    {
     "data": {
      "text/plain": [
       "<Figure size 360x72 with 0 Axes>"
      ]
     },
     "metadata": {},
     "output_type": "display_data"
    },
    {
     "data": {
      "text/plain": [
       "<Figure size 360x72 with 0 Axes>"
      ]
     },
     "metadata": {},
     "output_type": "display_data"
    },
    {
     "data": {
      "text/plain": [
       "<Figure size 360x72 with 0 Axes>"
      ]
     },
     "metadata": {},
     "output_type": "display_data"
    },
    {
     "data": {
      "text/plain": [
       "<Figure size 360x72 with 0 Axes>"
      ]
     },
     "metadata": {},
     "output_type": "display_data"
    }
   ],
   "source": [
    "# plot score distributions per cluster\n",
    "frame = pd.read_csv('../supplementary_tables/data_s8.csv')\n",
    "scores = pd.read_csv('../processed_data/common_var/ex_scores.csv', index_col = 0)\n",
    "frame = frame[[x in set(scores.index) for x in frame['description']]]\n",
    "\n",
    "g_names  = np.array(frame['description'][frame['is_gene']])\n",
    "\n",
    "SCORES = np.array(scores.loc[g_names]['scores'])\n",
    "\n",
    "temp = [SCORES[frame['cluster'][frame['is_gene']]==i] for i in unique_clusters]\n",
    "fig, axes = plt.subplots(8, 1, sharex=True, figsize=(4,7))\n",
    "\n",
    "for i in range(len(temp)):\n",
    "    plt.figure(figsize = (5,1))\n",
    "\n",
    "    sns.boxplot(temp[i], color=colors[i], ax=axes[i])\n",
    "    l1 = axes[i].lines[0]\n",
    "\n",
    "    x1 = l1.get_xydata()[:, 0]\n",
    "    y1 = l1.get_xydata()[:, 1]\n",
    "    \n",
    "    axes[i].spines[['right', 'top']].set_visible(False)\n",
    "    axes[i].set_title('cluster '+str(i), loc='left', y=.3, x=.05)\n",
    "    axes[i].axvline(np.mean(temp[i]), color=colors[i],linestyle='dotted')\n",
    "    axes[i].axvline(0, color='grey', linestyle='dotted')\n",
    "    #axes[i].fill_between(x1, y1, color='grey', alpha=0.3)\n",
    "\n",
    "# plot score distributions per cluster\n",
    "frame = pd.read_csv('../supplementary_tables/data_s8.csv')\n",
    "scores = pd.read_csv('../processed_data/single_cell/all_scores_0825.csv', index_col=0)\n",
    "\n",
    "g_names  = np.array(frame['description'][frame['is_gene']])\n",
    "\n",
    "SCORES = np.array(scores.loc[g_names]['Ex'])\n",
    "\n",
    "temp = [SCORES[frame['cluster'][frame['is_gene']]==i] for i in unique_clusters]\n",
    "fig, axes = plt.subplots(8, 1, sharex=True, figsize=(4,7))\n",
    "\n",
    "for i in range(len(temp)):\n",
    "    plt.figure(figsize = (5,1))\n",
    "\n",
    "    sns.boxplot(temp[i], color=colors[i], ax=axes[i])\n",
    "    l1 = axes[i].lines[0]\n",
    "\n",
    "    x1 = l1.get_xydata()[:, 0]\n",
    "    y1 = l1.get_xydata()[:, 1]\n",
    "    \n",
    "    axes[i].spines[['right', 'top']].set_visible(False)\n",
    "    axes[i].set_title('cluster '+str(i), loc='left', y=.3, x=.05)\n",
    "    axes[i].axvline(np.mean(temp[i]), color=colors[i])#, linestyle='dotted')\n",
    "    axes[i].axvline(0, color='grey', linestyle='dotted')\n",
    "    axes[i].fill_between(x1, y1, color=colors[i], alpha=0.3)\n"
   ]
  },
  {
   "cell_type": "code",
   "execution_count": null,
   "id": "96c831f2-a7dc-4934-8603-f85a6144ac42",
   "metadata": {},
   "outputs": [],
   "source": [
    "\n",
    "# plot score distributions per cluster\n",
    "frame = pd.read_csv('../supplementary_tables/data_s8.csv')\n",
    "scores = pd.read_csv('../processed_data/single_cell/all_scores_0825.csv', index_col=0)\n",
    "\n",
    "g_names  = np.array(frame['description'][frame['is_gene']])\n",
    "\n",
    "SCORES = np.array(scores.loc[g_names]['Ex'])\n",
    "\n",
    "temp = [SCORES[frame['cluster'][frame['is_gene']]==i] for i in unique_clusters]\n",
    "\n",
    "for i in range(len(temp)):\n",
    "    #plt.figure(figsize = (5,1))\n",
    "\n",
    "    sns.distplot(temp[i], color=colors[i], kde=True,\n",
    "        hist=None, label=str(i), ax=axes[i]);\n",
    "    l1 = axes[i].lines[0]\n",
    "\n",
    "    x1 = l1.get_xydata()[:, 0]\n",
    "    y1 = l1.get_xydata()[:, 1]\n",
    "    \n",
    "    axes[i].spines[['right', 'top']].set_visible(False)\n",
    "    axes[i].set_title('cluster '+str(i), loc='left', y=.3, x=.05)\n",
    "    axes[i].axvline(np.mean(temp[i]), color=colors[i])#, linestyle='dotted')\n",
    "    axes[i].axvline(0, color='grey', linestyle='dotted')\n",
    "    axes[i].fill_between(x1, y1, color=colors[i], alpha=0.3)\n"
   ]
  }
 ],
 "metadata": {
  "kernelspec": {
   "display_name": "Python 3 (ipykernel)",
   "language": "python",
   "name": "python3"
  },
  "language_info": {
   "codemirror_mode": {
    "name": "ipython",
    "version": 3
   },
   "file_extension": ".py",
   "mimetype": "text/x-python",
   "name": "python",
   "nbconvert_exporter": "python",
   "pygments_lexer": "ipython3",
   "version": "3.8.13"
  }
 },
 "nbformat": 4,
 "nbformat_minor": 5
}

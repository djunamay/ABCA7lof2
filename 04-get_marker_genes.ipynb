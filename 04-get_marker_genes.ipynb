{
 "cells": [
  {
   "cell_type": "code",
   "execution_count": 11,
   "id": "88098053-c0b4-45bb-885c-acfda934c3e2",
   "metadata": {},
   "outputs": [],
   "source": [
    "df = readRDS('../ABCA7lof/processed_data/single_cell_data/RefCellTypeMarkers.adultBrain.rds')"
   ]
  },
  {
   "cell_type": "code",
   "execution_count": 6,
   "id": "dd568478-cfd5-4595-befc-115dfe924a35",
   "metadata": {},
   "outputs": [],
   "source": [
    "df2 = readRDS('../ABCA7lof/processed_data/single_cell_data/PanglaoDB.by.organ.by.celltype.rds')\n",
    "df[['T cells']] = df2$`Immune system`[['T cells']]\n",
    "df[['B cells']] = df2$`Immune system`[['B cells']]"
   ]
  },
  {
   "cell_type": "code",
   "execution_count": 12,
   "id": "d9ce2184-a8b0-482f-8653-f77397676cd0",
   "metadata": {},
   "outputs": [],
   "source": [
    "out = list()\n",
    "for(i in names(df)){\n",
    "    d = as.data.frame(df[[i]])\n",
    "    colnames(d) = 'marker'\n",
    "    d$major_celltype = i\n",
    "    out[[i]] = d\n",
    "}"
   ]
  },
  {
   "cell_type": "code",
   "execution_count": 13,
   "id": "fdda90c6-3cc0-4152-9622-8006ad70cb8c",
   "metadata": {},
   "outputs": [],
   "source": [
    "all_data = do.call('rbind', out)"
   ]
  },
  {
   "cell_type": "code",
   "execution_count": 14,
   "id": "b1db1b59-0e9a-4baf-9f7c-6405a8f3bb0e",
   "metadata": {},
   "outputs": [],
   "source": [
    "write.csv(all_data, './processed_data/single_cell/brain_marker_genes.csv')"
   ]
  },
  {
   "cell_type": "code",
   "execution_count": 10,
   "id": "3f337379-e3cb-43a8-ac5d-b653d01f7371",
   "metadata": {},
   "outputs": [
    {
     "data": {
      "text/plain": [
       "\n",
       "    Ast B cells    Endo      Ex      In     Mic     Oli     Opc     Per T cells \n",
       "    159     110      83     113      83      97     179     143      64     107 "
      ]
     },
     "metadata": {},
     "output_type": "display_data"
    }
   ],
   "source": [
    "table(all_data$major_celltype)"
   ]
  }
 ],
 "metadata": {
  "kernelspec": {
   "display_name": "R",
   "language": "R",
   "name": "ir"
  },
  "language_info": {
   "codemirror_mode": "r",
   "file_extension": ".r",
   "mimetype": "text/x-r-source",
   "name": "R",
   "pygments_lexer": "r",
   "version": "4.1.2"
  }
 },
 "nbformat": 4,
 "nbformat_minor": 5
}

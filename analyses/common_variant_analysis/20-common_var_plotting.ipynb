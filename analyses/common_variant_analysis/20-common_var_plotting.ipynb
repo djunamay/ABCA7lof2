{
 "cells": [
  {
   "cell_type": "code",
   "execution_count": 1,
   "id": "442f85ba-e20a-4cb4-8673-02a7ca636749",
   "metadata": {},
   "outputs": [],
   "source": [
    "import numpy as np\n",
    "import gseapy\n",
    "from scipy.sparse import csr_matrix\n",
    "from tqdm.contrib.concurrent import process_map\n",
    "from functools import partial\n",
    "from scipy.sparse.csgraph import shortest_path\n",
    "import matplotlib.pyplot as plt\n",
    "import seaborn as sns\n",
    "import pandas as pd\n",
    "import networkx\n",
    "\n",
    "path_to_abca7 = '/home/gridsan/djuna/homer/github/ABCA7lof2'\n",
    "import sys\n",
    "sys.path.append(path_to_abca7)\n",
    "\n",
    "from ABCA7lof2.geneclusters import get_scores, get_kernighan_lin_clusters, get_gene_pathway_matrix, get_full_matrix_from_bipartite, plot_component, plot_edges, plot_nodes, group, compute_groupped_matrix, get_scores, find_similar_clusters, get_representative_name_per_cluster, get_kernighan_lin_clusters, get_gene_pathway_matrix, compute_groupped_matrix, get_full_matrix_from_bipartite"
   ]
  },
  {
   "cell_type": "code",
   "execution_count": 2,
   "id": "00f5cc4a-90fc-4672-8d4c-4bdb7c59ad82",
   "metadata": {},
   "outputs": [
    {
     "name": "stderr",
     "output_type": "stream",
     "text": [
      "/state/partition1/slurm_tmp/24642792.0.0/ipykernel_1553075/3859499087.py:4: MatplotlibDeprecationWarning: The get_cmap function was deprecated in Matplotlib 3.7 and will be removed two minor releases later. Use ``matplotlib.colormaps[name]`` or ``matplotlib.colormaps.get_cmap(obj)`` instead.\n",
      "  cm = plt.cm.get_cmap('tab20')\n"
     ]
    }
   ],
   "source": [
    "frame = pd.read_csv('../supplementary_tables/data_s8.csv')\n",
    "\n",
    "unique_clusters = np.unique(frame['cluster'])\n",
    "cm = plt.cm.get_cmap('tab20')\n",
    "colors = [cm(int(x)) for x in range(len(unique_clusters))]"
   ]
  },
  {
   "cell_type": "code",
   "execution_count": 8,
   "id": "7e817a69-1153-4fca-b0ad-0c589925651a",
   "metadata": {},
   "outputs": [
    {
     "data": {
      "text/plain": [
       "[(0.12156862745098039, 0.4666666666666667, 0.7058823529411765, 1.0),\n",
       " (0.6823529411764706, 0.7803921568627451, 0.9098039215686274, 1.0),\n",
       " (1.0, 0.4980392156862745, 0.054901960784313725, 1.0),\n",
       " (1.0, 0.7333333333333333, 0.47058823529411764, 1.0),\n",
       " (0.17254901960784313, 0.6274509803921569, 0.17254901960784313, 1.0),\n",
       " (0.596078431372549, 0.8745098039215686, 0.5411764705882353, 1.0),\n",
       " (0.8392156862745098, 0.15294117647058825, 0.1568627450980392, 1.0),\n",
       " (1.0, 0.596078431372549, 0.5882352941176471, 1.0)]"
      ]
     },
     "execution_count": 8,
     "metadata": {},
     "output_type": "execute_result"
    }
   ],
   "source": [
    "colors"
   ]
  },
  {
   "cell_type": "code",
   "execution_count": 33,
   "id": "a6fd910c-d88b-4418-b856-74bc46196971",
   "metadata": {},
   "outputs": [
    {
     "data": {
      "image/png": "[encoded data removed]",
      "text/plain": [
       "<Figure size 648x288 with 8 Axes>"
      ]
     },
     "metadata": {
      "needs_background": "light"
     },
     "output_type": "display_data"
    },
    {
     "data": {
      "text/plain": [
       "<Figure size 180x360 with 0 Axes>"
      ]
     },
     "metadata": {},
     "output_type": "display_data"
    },
    {
     "data": {
      "text/plain": [
       "<Figure size 180x360 with 0 Axes>"
      ]
     },
     "metadata": {},
     "output_type": "display_data"
    },
    {
     "data": {
      "text/plain": [
       "<Figure size 180x360 with 0 Axes>"
      ]
     },
     "metadata": {},
     "output_type": "display_data"
    },
    {
     "data": {
      "text/plain": [
       "<Figure size 180x360 with 0 Axes>"
      ]
     },
     "metadata": {},
     "output_type": "display_data"
    },
    {
     "data": {
      "text/plain": [
       "<Figure size 180x360 with 0 Axes>"
      ]
     },
     "metadata": {},
     "output_type": "display_data"
    },
    {
     "data": {
      "text/plain": [
       "<Figure size 180x360 with 0 Axes>"
      ]
     },
     "metadata": {},
     "output_type": "display_data"
    },
    {
     "data": {
      "text/plain": [
       "<Figure size 180x360 with 0 Axes>"
      ]
     },
     "metadata": {},
     "output_type": "display_data"
    },
    {
     "data": {
      "text/plain": [
       "<Figure size 180x360 with 0 Axes>"
      ]
     },
     "metadata": {},
     "output_type": "display_data"
    }
   ],
   "source": [
    "######## show common vs rare variant cluster perturbation patterns\n",
    "\n",
    "scores = pd.read_csv('../processed_data/common_var/rs3752246_binary_scores.csv', index_col = 0)\n",
    "scores['description'] = scores.index\n",
    "temp = pd.merge(scores, frame, on = 'description')\n",
    "temp['grp'] = 'p.Ala1527Gly'\n",
    "\n",
    "# scores = pd.read_csv('../processed_data/common_var/ex_scoresE4.csv', index_col = 0)\n",
    "# scores['description'] = scores.index\n",
    "# temp1 = pd.merge(scores, frame, on = 'description')\n",
    "# temp1['grp'] = 'E4'\n",
    "\n",
    "scores = pd.read_csv('../processed_data/single_cell/all_scores_0825.csv', index_col=0)\n",
    "scores = pd.DataFrame(scores['Ex'])\n",
    "scores = scores.rename(columns={\"Ex\": \"scores\"})\n",
    "scores['description'] = scores.index\n",
    "temp2 = pd.merge(scores, frame, on = 'description')\n",
    "temp2['grp'] = 'LoF variants'\n",
    "TEMP = pd.concat((temp, temp2), axis=0)\n",
    "\n",
    "fig, axes = plt.subplots(1,8, sharey=True, figsize=(9,4))\n",
    "grp_colors = {\n",
    "    'LoF variants': (1.0, 0.0, 0.0, 1.0),\n",
    "    'p.Ala1527Gly': (1.0, 0.2824, 0.7608, 1.0)\n",
    "}\n",
    "\n",
    "for i in np.unique(TEMP['cluster']):\n",
    "    plt.figure(figsize = (2.5,5))\n",
    "    temp = TEMP[TEMP['cluster']==i]\n",
    "    #temp['scores'] = np.abs(temp['scores'])\n",
    "    boxplot = sns.boxplot(data = temp, x = 'grp', y='scores',hue='grp',palette=grp_colors, ax=axes[i], boxprops=dict(alpha=.7),flierprops=dict( marker='.', markersize=0 ), order=['LoF variants','p.Ala1527Gly'], orient='v')\n",
    "    \n",
    "    l1 = axes[i].lines[0]\n",
    "\n",
    "    x1 = l1.get_xydata()[:, 0]\n",
    "    y1 = l1.get_xydata()[:, 1]\n",
    "    \n",
    "    axes[i].spines[['right', 'top']].set_visible(False)\n",
    "    \n",
    "    if i>0:\n",
    "        axes[i].spines[['left']].set_visible(False)\n",
    "\n",
    "    #axes[i].set_title('cluster '+str(i), loc='left', y=.3, x=.05)\n",
    "    #axes[i].axvline(np.mean(temp[i]), color=colors[i])#, linestyle='dotted')\n",
    "    axes[i].axhline(0, color='black', linestyle='dotted')\n",
    "    axes[i].fill_between(x1, y1, color=colors[i], alpha=0.3)\n",
    "    axes[i].set_ylabel('')\n",
    "    axes[i].set_xlabel('')\n",
    "    #axes[i].set_yticklabels([])\n",
    "\n",
    "#     if i==7:\n",
    "#         continue\n",
    "#     axes[i].set_xticklabels(axes[i].get_xticklabels(), rotation=45, ha='right') \n",
    "\n",
    "\n",
    "     # Rotate x-axis labels\n",
    "\n",
    "# Add common title for the y-axis\n",
    "fig.text(0.1, 0.5, 'Scores', ha='center', va='center', rotation='vertical')\n",
    "\n",
    "fig.savefig('../pdf_figures/common_var_clusters.pdf')"
   ]
  },
  {
   "cell_type": "code",
   "execution_count": 146,
   "id": "da7afb95-0c6f-4912-bae5-9a3efb9e835f",
   "metadata": {},
   "outputs": [
    {
     "data": {
      "image/png": "[encoded data removed]",
      "text/plain": [
       "<Figure size 216x216 with 1 Axes>"
      ]
     },
     "metadata": {
      "needs_background": "light"
     },
     "output_type": "display_data"
    }
   ],
   "source": [
    "# barplot\n",
    "temp = pd.read_csv('../processed_data/common_var/rs3755246_cluster_effects.csv')\n",
    "\n",
    "temp['score'] = np.sign(temp['NES']) * -np.log10(temp['pval'])\n",
    "temp['cluster'] = ['cluster ' + str(x) for x in temp['pathway']]\n",
    "\n",
    "plt.figure(figsize=(3,3))\n",
    "index = np.argsort(-1*temp['pathway'])\n",
    "temp = temp.loc[index]\n",
    "#sns.barplot(data=temp, y='cluster', x='score', palette=colors, orient='h', order=temp['cluster'][np.argsort(temp['pathway'])], height=.2)\n",
    "plt.barh(y=temp['cluster'], width=temp['score'], color=colors[::-1], height=.9, alpha=.5, edgecolor=colors[::-1])\n",
    "plt.box(False)\n",
    "plt.axvline(x=0, color='black', linestyle='--', label='Vertical Line',  linewidth=0.8)\n",
    "plt.axhline(y=-0.5, color='black', linewidth=0.8)\n",
    "plt.xlabel('scores')\n",
    "plt.savefig('../pdf_figures/common_var_bar.pdf')"
   ]
  },
  {
   "cell_type": "code",
   "execution_count": 147,
   "id": "b6c92837-8a95-427b-b3c3-f44c133bda9b",
   "metadata": {},
   "outputs": [
    {
     "data": {
      "text/html": [
       "<div>\n",
       "<style scoped>\n",
       "    .dataframe tbody tr th:only-of-type {\n",
       "        vertical-align: middle;\n",
       "    }\n",
       "\n",
       "    .dataframe tbody tr th {\n",
       "        vertical-align: top;\n",
       "    }\n",
       "\n",
       "    .dataframe thead th {\n",
       "        text-align: right;\n",
       "    }\n",
       "</style>\n",
       "<table border=\"1\" class=\"dataframe\">\n",
       "  <thead>\n",
       "    <tr style=\"text-align: right;\">\n",
       "      <th></th>\n",
       "      <th>Unnamed: 0</th>\n",
       "      <th>pathway</th>\n",
       "      <th>pval</th>\n",
       "      <th>padj</th>\n",
       "      <th>log2err</th>\n",
       "      <th>ES</th>\n",
       "      <th>NES</th>\n",
       "      <th>size</th>\n",
       "      <th>score</th>\n",
       "      <th>cluster</th>\n",
       "    </tr>\n",
       "  </thead>\n",
       "  <tbody>\n",
       "    <tr>\n",
       "      <th>3</th>\n",
       "      <td>4</td>\n",
       "      <td>7</td>\n",
       "      <td>0.053047</td>\n",
       "      <td>0.106093</td>\n",
       "      <td>0.076608</td>\n",
       "      <td>0.455928</td>\n",
       "      <td>1.408364</td>\n",
       "      <td>40</td>\n",
       "      <td>1.275342</td>\n",
       "      <td>cluster 7</td>\n",
       "    </tr>\n",
       "    <tr>\n",
       "      <th>5</th>\n",
       "      <td>6</td>\n",
       "      <td>6</td>\n",
       "      <td>0.338596</td>\n",
       "      <td>0.451462</td>\n",
       "      <td>0.036511</td>\n",
       "      <td>-0.387688</td>\n",
       "      <td>-1.085840</td>\n",
       "      <td>18</td>\n",
       "      <td>-0.470318</td>\n",
       "      <td>cluster 6</td>\n",
       "    </tr>\n",
       "    <tr>\n",
       "      <th>4</th>\n",
       "      <td>5</td>\n",
       "      <td>5</td>\n",
       "      <td>0.312539</td>\n",
       "      <td>0.451462</td>\n",
       "      <td>0.028688</td>\n",
       "      <td>0.358629</td>\n",
       "      <td>1.099306</td>\n",
       "      <td>38</td>\n",
       "      <td>0.505096</td>\n",
       "      <td>cluster 5</td>\n",
       "    </tr>\n",
       "    <tr>\n",
       "      <th>6</th>\n",
       "      <td>7</td>\n",
       "      <td>4</td>\n",
       "      <td>0.668592</td>\n",
       "      <td>0.764105</td>\n",
       "      <td>0.017485</td>\n",
       "      <td>0.323588</td>\n",
       "      <td>0.862752</td>\n",
       "      <td>20</td>\n",
       "      <td>0.174839</td>\n",
       "      <td>cluster 4</td>\n",
       "    </tr>\n",
       "    <tr>\n",
       "      <th>2</th>\n",
       "      <td>3</td>\n",
       "      <td>3</td>\n",
       "      <td>0.040667</td>\n",
       "      <td>0.106093</td>\n",
       "      <td>0.087357</td>\n",
       "      <td>0.456386</td>\n",
       "      <td>1.430772</td>\n",
       "      <td>43</td>\n",
       "      <td>1.390763</td>\n",
       "      <td>cluster 3</td>\n",
       "    </tr>\n",
       "    <tr>\n",
       "      <th>0</th>\n",
       "      <td>1</td>\n",
       "      <td>2</td>\n",
       "      <td>0.007539</td>\n",
       "      <td>0.050774</td>\n",
       "      <td>0.274717</td>\n",
       "      <td>-0.521591</td>\n",
       "      <td>-1.666116</td>\n",
       "      <td>31</td>\n",
       "      <td>-2.122684</td>\n",
       "      <td>cluster 2</td>\n",
       "    </tr>\n",
       "    <tr>\n",
       "      <th>1</th>\n",
       "      <td>2</td>\n",
       "      <td>1</td>\n",
       "      <td>0.012693</td>\n",
       "      <td>0.050774</td>\n",
       "      <td>0.159153</td>\n",
       "      <td>0.517189</td>\n",
       "      <td>1.585338</td>\n",
       "      <td>38</td>\n",
       "      <td>1.896419</td>\n",
       "      <td>cluster 1</td>\n",
       "    </tr>\n",
       "    <tr>\n",
       "      <th>7</th>\n",
       "      <td>8</td>\n",
       "      <td>0</td>\n",
       "      <td>0.835604</td>\n",
       "      <td>0.835604</td>\n",
       "      <td>0.013323</td>\n",
       "      <td>0.250252</td>\n",
       "      <td>0.767096</td>\n",
       "      <td>38</td>\n",
       "      <td>0.078000</td>\n",
       "      <td>cluster 0</td>\n",
       "    </tr>\n",
       "  </tbody>\n",
       "</table>\n",
       "</div>"
      ],
      "text/plain": [
       "   Unnamed: 0  pathway      pval      padj   log2err        ES       NES  \\\n",
       "3           4        7  0.053047  0.106093  0.076608  0.455928  1.408364   \n",
       "5           6        6  0.338596  0.451462  0.036511 -0.387688 -1.085840   \n",
       "4           5        5  0.312539  0.451462  0.028688  0.358629  1.099306   \n",
       "6           7        4  0.668592  0.764105  0.017485  0.323588  0.862752   \n",
       "2           3        3  0.040667  0.106093  0.087357  0.456386  1.430772   \n",
       "0           1        2  0.007539  0.050774  0.274717 -0.521591 -1.666116   \n",
       "1           2        1  0.012693  0.050774  0.159153  0.517189  1.585338   \n",
       "7           8        0  0.835604  0.835604  0.013323  0.250252  0.767096   \n",
       "\n",
       "   size     score    cluster  \n",
       "3    40  1.275342  cluster 7  \n",
       "5    18 -0.470318  cluster 6  \n",
       "4    38  0.505096  cluster 5  \n",
       "6    20  0.174839  cluster 4  \n",
       "2    43  1.390763  cluster 3  \n",
       "0    31 -2.122684  cluster 2  \n",
       "1    38  1.896419  cluster 1  \n",
       "7    38  0.078000  cluster 0  "
      ]
     },
     "execution_count": 147,
     "metadata": {},
     "output_type": "execute_result"
    }
   ],
   "source": [
    "temp"
   ]
  }
 ],
 "metadata": {
  "kernelspec": {
   "display_name": "Python 3 (ipykernel)",
   "language": "python",
   "name": "python3"
  },
  "language_info": {
   "codemirror_mode": {
    "name": "ipython",
    "version": 3
   },
   "file_extension": ".py",
   "mimetype": "text/x-python",
   "name": "python",
   "nbconvert_exporter": "python",
   "pygments_lexer": "ipython3",
   "version": "3.8.13"
  }
 },
 "nbformat": 4,
 "nbformat_minor": 5
}

{
 "cells": [
  {
   "cell_type": "code",
   "execution_count": 35,
   "id": "5a3893bd-e8ff-4798-8a75-b623c0f4fd9d",
   "metadata": {
    "tags": []
   },
   "outputs": [],
   "source": [
    "library(patchwork)\n",
    "library(ggplot2)\n",
    "library(magick)\n",
    "library(tidytext)\n",
    "library(SingleCellExperiment)\n",
    "library(tidyHeatmap)\n",
    "library(dplyr)\n",
    "library(tidyr)\n",
    "library(plotgardener)\n",
    "library(ggplot2)\n",
    "library(ggrepel)\n",
    "library(gridExtra)\n"
   ]
  },
  {
   "cell_type": "markdown",
   "id": "a86d7e23-03d6-489b-a2f6-0e6ea51cb087",
   "metadata": {},
   "source": [
    "<u>**Extended Figure X**</u>\n",
    "<a name=\"EF5\"></a>"
   ]
  },
  {
   "cell_type": "code",
   "execution_count": null,
   "id": "2be46ed1-f044-4bec-b723-0176ffbed51a",
   "metadata": {},
   "outputs": [],
   "source": [
    "files = list.files(path = \"./pdf_figures/.\")\n",
    "files = files[unlist(lapply(files, function(x) endsWith(x,'swap_res.pdf')))]\n",
    "                            \n",
    "plots = list()\n",
    "for(i in 1:length(files)){\n",
    "    plots[[i]] = image_ggplot(image_trim(image_read_pdf(paste0('./pdf_figures/', files[i]))))\n",
    "}\n",
    "     \n",
    "options(repr.plot.width=18, repr.plot.height=14)\n",
    "\n",
    "pdf('./pdf_figures/Extended_Figure_X.pdf', width=18, height=14)\n",
    "do.call(\"grid.arrange\", c(plots, ncol=7))\n",
    "dev.off()\n",
    "                            \n",
    "do.call(\"grid.arrange\", c(plots, ncol=7))\n"
   ]
  }
 ],
 "metadata": {
  "kernelspec": {
   "display_name": "R [conda env:.conda-r_env]",
   "language": "R",
   "name": "conda-env-.conda-r_env-r"
  },
  "language_info": {
   "codemirror_mode": "r",
   "file_extension": ".r",
   "mimetype": "text/x-r-source",
   "name": "R",
   "pygments_lexer": "r",
   "version": "4.2.3"
  }
 },
 "nbformat": 4,
 "nbformat_minor": 5
}

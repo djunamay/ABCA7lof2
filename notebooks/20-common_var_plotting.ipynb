{
 "cells": [
  {
   "cell_type": "code",
   "execution_count": 1,
   "id": "442f85ba-e20a-4cb4-8673-02a7ca636749",
   "metadata": {},
   "outputs": [],
   "source": [
    "import numpy as np\n",
    "import gseapy\n",
    "from scipy.sparse import csr_matrix\n",
    "from tqdm.contrib.concurrent import process_map\n",
    "from functools import partial\n",
    "from scipy.sparse.csgraph import shortest_path\n",
    "import matplotlib.pyplot as plt\n",
    "import seaborn as sns\n",
    "import pandas as pd\n",
    "import networkx\n",
    "\n",
    "path_to_abca7 = '/home/gridsan/djuna/homer/github/ABCA7lof2'\n",
    "import sys\n",
    "sys.path.append(path_to_abca7)\n",
    "\n",
    "from ABCA7lof2.geneclusters import get_scores, get_kernighan_lin_clusters, get_gene_pathway_matrix, get_full_matrix_from_bipartite, plot_component, plot_edges, plot_nodes, group, compute_groupped_matrix, get_scores, find_similar_clusters, get_representative_name_per_cluster, get_kernighan_lin_clusters, get_gene_pathway_matrix, compute_groupped_matrix, get_full_matrix_from_bipartite"
   ]
  },
  {
   "cell_type": "code",
   "execution_count": 2,
   "id": "00f5cc4a-90fc-4672-8d4c-4bdb7c59ad82",
   "metadata": {},
   "outputs": [
    {
     "name": "stderr",
     "output_type": "stream",
     "text": [
      "/state/partition1/slurm_tmp/24642792.0.0/ipykernel_1553075/3859499087.py:4: MatplotlibDeprecationWarning: The get_cmap function was deprecated in Matplotlib 3.7 and will be removed two minor releases later. Use ``matplotlib.colormaps[name]`` or ``matplotlib.colormaps.get_cmap(obj)`` instead.\n",
      "  cm = plt.cm.get_cmap('tab20')\n"
     ]
    }
   ],
   "source": [
    "frame = pd.read_csv('../supplementary_tables/data_s8.csv')\n",
    "\n",
    "unique_clusters = np.unique(frame['cluster'])\n",
    "cm = plt.cm.get_cmap('tab20')\n",
    "colors = [cm(int(x)) for x in range(len(unique_clusters))]"
   ]
  },
  {
   "cell_type": "code",
   "execution_count": 8,
   "id": "7e817a69-1153-4fca-b0ad-0c589925651a",
   "metadata": {},
   "outputs": [
    {
     "data": {
      "text/plain": [
       "[(0.12156862745098039, 0.4666666666666667, 0.7058823529411765, 1.0),\n",
       " (0.6823529411764706, 0.7803921568627451, 0.9098039215686274, 1.0),\n",
       " (1.0, 0.4980392156862745, 0.054901960784313725, 1.0),\n",
       " (1.0, 0.7333333333333333, 0.47058823529411764, 1.0),\n",
       " (0.17254901960784313, 0.6274509803921569, 0.17254901960784313, 1.0),\n",
       " (0.596078431372549, 0.8745098039215686, 0.5411764705882353, 1.0),\n",
       " (0.8392156862745098, 0.15294117647058825, 0.1568627450980392, 1.0),\n",
       " (1.0, 0.596078431372549, 0.5882352941176471, 1.0)]"
      ]
     },
     "execution_count": 8,
     "metadata": {},
     "output_type": "execute_result"
    }
   ],
   "source": [
    "colors"
   ]
  },
  {
   "cell_type": "code",
   "execution_count": 33,
   "id": "a6fd910c-d88b-4418-b856-74bc46196971",
   "metadata": {},
   "outputs": [
    {
     "data": {
      "image/png": "[encoded data removed]",
      "text/plain": [
       "<Figure size 648x288 with 8 Axes>"
      ]
     },
     "metadata": {
      "needs_background": "light"
     },
     "output_type": "display_data"
    },
    {
     "data": {
      "text/plain": [
       "<Figure size 180x360 with 0 Axes>"
      ]
     },
     "metadata": {},
     "output_type": "display_data"
    },
    {
     "data": {
      "text/plain": [
       "<Figure size 180x360 with 0 Axes>"
      ]
     },
     "metadata": {},
     "output_type": "display_data"
    },
    {
     "data": {
      "text/plain": [
       "<Figure size 180x360 with 0 Axes>"
      ]
     },
     "metadata": {},
     "output_type": "display_data"
    },
    {
     "data": {
      "text/plain": [
       "<Figure size 180x360 with 0 Axes>"
      ]
     },
     "metadata": {},
     "output_type": "display_data"
    },
    {
     "data": {
      "text/plain": [
       "<Figure size 180x360 with 0 Axes>"
      ]
     },
     "metadata": {},
     "output_type": "display_data"
    },
    {
     "data": {
      "text/plain": [
       "<Figure size 180x360 with 0 Axes>"
      ]
     },
     "metadata": {},
     "output_type": "display_data"
    },
    {
     "data": {
      "text/plain": [
       "<Figure size 180x360 with 0 Axes>"
      ]
     },
     "metadata": {},
     "output_type": "display_data"
    },
    {
     "data": {
      "text/plain": [
       "<Figure size 180x360 with 0 Axes>"
      ]
     },
     "metadata": {},
     "output_type": "display_data"
    }
   ],
   "source": [
    "######## show common vs rare variant cluster perturbation patterns\n",
    "\n",
    "scores = pd.read_csv('../processed_data/common_var/rs3752246_binary_scores.csv', index_col = 0)\n",
    "scores['description'] = scores.index\n",
    "temp = pd.merge(scores, frame, on = 'description')\n",
    "temp['grp'] = 'p.Ala1527Gly'\n",
    "\n",
    "# scores = pd.read_csv('../processed_data/common_var/ex_scoresE4.csv', index_col = 0)\n",
    "# scores['description'] = scores.index\n",
    "# temp1 = pd.merge(scores, frame, on = 'description')\n",
    "# temp1['grp'] = 'E4'\n",
    "\n",
    "scores = pd.read_csv('../processed_data/single_cell/all_scores_0825.csv', index_col=0)\n",
    "scores = pd.DataFrame(scores['Ex'])\n",
    "scores = scores.rename(columns={\"Ex\": \"scores\"})\n",
    "scores['description'] = scores.index\n",
    "temp2 = pd.merge(scores, frame, on = 'description')\n",
    "temp2['grp'] = 'LoF variants'\n",
    "TEMP = pd.concat((temp, temp2), axis=0)\n",
    "\n",
    "fig, axes = plt.subplots(1,8, sharey=True, figsize=(9,4))\n",
    "grp_colors = {\n",
    "    'LoF variants': (1.0, 0.0, 0.0, 1.0),\n",
    "    'p.Ala1527Gly': (1.0, 0.2824, 0.7608, 1.0)\n",
    "}\n",
    "\n",
    "for i in np.unique(TEMP['cluster']):\n",
    "    plt.figure(figsize = (2.5,5))\n",
    "    temp = TEMP[TEMP['cluster']==i]\n",
    "    #temp['scores'] = np.abs(temp['scores'])\n",
    "    boxplot = sns.boxplot(data = temp, x = 'grp', y='scores',hue='grp',palette=grp_colors, ax=axes[i], boxprops=dict(alpha=.7),flierprops=dict( marker='.', markersize=0 ), order=['LoF variants','p.Ala1527Gly'], orient='v')\n",
    "    \n",
    "    l1 = axes[i].lines[0]\n",
    "\n",
    "    x1 = l1.get_xydata()[:, 0]\n",
    "    y1 = l1.get_xydata()[:, 1]\n",
    "    \n",
    "    axes[i].spines[['right', 'top']].set_visible(False)\n",
    "    \n",
    "    if i>0:\n",
    "        axes[i].spines[['left']].set_visible(False)\n",
    "\n",
    "    #axes[i].set_title('cluster '+str(i), loc='left', y=.3, x=.05)\n",
    "    #axes[i].axvline(np.mean(temp[i]), color=colors[i])#, linestyle='dotted')\n",
    "    axes[i].axhline(0, color='black', linestyle='dotted')\n",
    "    axes[i].fill_between(x1, y1, color=colors[i], alpha=0.3)\n",
    "    axes[i].set_ylabel('')\n",
    "    axes[i].set_xlabel('')\n",
    "    #axes[i].set_yticklabels([])\n",
    "\n",
    "#     if i==7:\n",
    "#         continue\n",
    "#     axes[i].set_xticklabels(axes[i].get_xticklabels(), rotation=45, ha='right') \n",
    "\n",
    "\n",
    "     # Rotate x-axis labels\n",
    "\n",
    "# Add common title for the y-axis\n",
    "fig.text(0.1, 0.5, 'Scores', ha='center', va='center', rotation='vertical')\n",
    "\n",
    "fig.savefig('../pdf_figures/common_var_clusters.pdf')"
   ]
  },
  {
   "cell_type": "code",
   "execution_count": 24,
   "id": "8c12546d-7fb6-4619-a3e9-6951bde92f26",
   "metadata": {},
   "outputs": [
    {
     "name": "stderr",
     "output_type": "stream",
     "text": [
      "/state/partition1/slurm_tmp/24590389.0.0/ipykernel_1979419/3255035783.py:32: UserWarning: FixedFormatter should only be used together with FixedLocator\n",
      "  axes[i].set_xticklabels(axes[i].get_xticklabels(), rotation=45, ha='right')\n"
     ]
    },
    {
     "ename": "IndexError",
     "evalue": "index 8 is out of bounds for axis 0 with size 8",
     "output_type": "error",
     "traceback": [
      "\u001b[0;31m---------------------------------------------------------------------------\u001b[0m",
      "\u001b[0;31mIndexError\u001b[0m                                Traceback (most recent call last)",
      "Input \u001b[0;32mIn [24]\u001b[0m, in \u001b[0;36m<cell line: 16>\u001b[0;34m()\u001b[0m\n\u001b[1;32m     18\u001b[0m temp \u001b[38;5;241m=\u001b[39m TEMP[TEMP[\u001b[38;5;124m'\u001b[39m\u001b[38;5;124mVar1\u001b[39m\u001b[38;5;124m'\u001b[39m]\u001b[38;5;241m==\u001b[39mTEMP[\u001b[38;5;124m'\u001b[39m\u001b[38;5;124mVar1\u001b[39m\u001b[38;5;124m'\u001b[39m][i]]\n\u001b[1;32m     19\u001b[0m \u001b[38;5;66;03m#temp['scores'] = np.abs(temp['scores'])\u001b[39;00m\n\u001b[0;32m---> 20\u001b[0m boxplot \u001b[38;5;241m=\u001b[39m sns\u001b[38;5;241m.\u001b[39mboxplot(data \u001b[38;5;241m=\u001b[39m temp, y \u001b[38;5;241m=\u001b[39m \u001b[38;5;124m'\u001b[39m\u001b[38;5;124mgrp\u001b[39m\u001b[38;5;124m'\u001b[39m, x\u001b[38;5;241m=\u001b[39m\u001b[38;5;124m'\u001b[39m\u001b[38;5;124mscores\u001b[39m\u001b[38;5;124m'\u001b[39m, ax\u001b[38;5;241m=\u001b[39m\u001b[43maxes\u001b[49m\u001b[43m[\u001b[49m\u001b[43mi\u001b[49m\u001b[43m]\u001b[49m,             boxprops\u001b[38;5;241m=\u001b[39m\u001b[38;5;28mdict\u001b[39m(alpha\u001b[38;5;241m=\u001b[39m\u001b[38;5;241m.7\u001b[39m,facecolor\u001b[38;5;241m=\u001b[39mcolors[i], edgecolor\u001b[38;5;241m=\u001b[39mcolors[i]), whiskerprops\u001b[38;5;241m=\u001b[39m\u001b[38;5;28mdict\u001b[39m(color\u001b[38;5;241m=\u001b[39mcolors[i]),             medianprops\u001b[38;5;241m=\u001b[39m\u001b[38;5;28mdict\u001b[39m(color\u001b[38;5;241m=\u001b[39mcolors[i]),\n\u001b[1;32m     21\u001b[0m         capprops\u001b[38;5;241m=\u001b[39m\u001b[38;5;28mdict\u001b[39m(color\u001b[38;5;241m=\u001b[39mcolors[i]),             flierprops\u001b[38;5;241m=\u001b[39m\u001b[38;5;28mdict\u001b[39m(markeredgecolor\u001b[38;5;241m=\u001b[39mcolors[i], marker\u001b[38;5;241m=\u001b[39m\u001b[38;5;124m'\u001b[39m\u001b[38;5;124m.\u001b[39m\u001b[38;5;124m'\u001b[39m, markersize\u001b[38;5;241m=\u001b[39m\u001b[38;5;241m0\u001b[39m, markerfacecolor\u001b[38;5;241m=\u001b[39mcolors[i], ), order\u001b[38;5;241m=\u001b[39m[\u001b[38;5;124m'\u001b[39m\u001b[38;5;124mp.Ala1527Gly\u001b[39m\u001b[38;5;124m'\u001b[39m, \u001b[38;5;124m'\u001b[39m\u001b[38;5;124mLoF variants\u001b[39m\u001b[38;5;124m'\u001b[39m], orient\u001b[38;5;241m=\u001b[39m\u001b[38;5;124m'\u001b[39m\u001b[38;5;124mh\u001b[39m\u001b[38;5;124m'\u001b[39m)\n\u001b[1;32m     23\u001b[0m l1 \u001b[38;5;241m=\u001b[39m axes[i]\u001b[38;5;241m.\u001b[39mlines[\u001b[38;5;241m0\u001b[39m]\n\u001b[1;32m     25\u001b[0m x1 \u001b[38;5;241m=\u001b[39m l1\u001b[38;5;241m.\u001b[39mget_xydata()[:, \u001b[38;5;241m0\u001b[39m]\n",
      "\u001b[0;31mIndexError\u001b[0m: index 8 is out of bounds for axis 0 with size 8"
     ]
    },
    {
     "data": {
      "image/png": "[encoded data removed]",
      "text/plain": [
       "<Figure size 216x648 with 8 Axes>"
      ]
     },
     "metadata": {
      "needs_background": "light"
     },
     "output_type": "display_data"
    },
    {
     "data": {
      "text/plain": [
       "<Figure size 180x360 with 0 Axes>"
      ]
     },
     "metadata": {},
     "output_type": "display_data"
    },
    {
     "data": {
      "text/plain": [
       "<Figure size 180x360 with 0 Axes>"
      ]
     },
     "metadata": {},
     "output_type": "display_data"
    },
    {
     "data": {
      "text/plain": [
       "<Figure size 180x360 with 0 Axes>"
      ]
     },
     "metadata": {},
     "output_type": "display_data"
    },
    {
     "data": {
      "text/plain": [
       "<Figure size 180x360 with 0 Axes>"
      ]
     },
     "metadata": {},
     "output_type": "display_data"
    },
    {
     "data": {
      "text/plain": [
       "<Figure size 180x360 with 0 Axes>"
      ]
     },
     "metadata": {},
     "output_type": "display_data"
    },
    {
     "data": {
      "text/plain": [
       "<Figure size 180x360 with 0 Axes>"
      ]
     },
     "metadata": {},
     "output_type": "display_data"
    },
    {
     "data": {
      "text/plain": [
       "<Figure size 180x360 with 0 Axes>"
      ]
     },
     "metadata": {},
     "output_type": "display_data"
    },
    {
     "data": {
      "text/plain": [
       "<Figure size 180x360 with 0 Axes>"
      ]
     },
     "metadata": {},
     "output_type": "display_data"
    },
    {
     "data": {
      "text/plain": [
       "<Figure size 180x360 with 0 Axes>"
      ]
     },
     "metadata": {},
     "output_type": "display_data"
    }
   ],
   "source": [
    "###### show specific gset perturbation pattern for LOF\n",
    "\n",
    "######## show common vs rare variant cluster perturbation patterns\n",
    "frame = pd.read_csv('../processed_data/common_var/lipid_synthesis_gsets.csv')\n",
    "\n",
    "scores = pd.read_csv('../processed_data/single_cell/all_scores_0825.csv', index_col=0)\n",
    "scores = pd.DataFrame(scores['Ex'])\n",
    "scores = scores.rename(columns={\"Ex\": \"scores\"})\n",
    "scores['description'] = scores.index\n",
    "temp2 = pd.merge(scores, frame, left_on= 'description', right_on = 'value')\n",
    "temp2['grp'] = 'LoF variants'\n",
    "TEMP = temp2\n",
    "\n",
    "fig, axes = plt.subplots(8, 1, sharex=True, figsize=(3,9))\n",
    "\n",
    "for i in np.unique(range(len(TEMP['Var1']))):\n",
    "    plt.figure(figsize = (2.5,5))\n",
    "    temp = TEMP[TEMP['Var1']==TEMP['Var1'][i]]\n",
    "    #temp['scores'] = np.abs(temp['scores'])\n",
    "    boxplot = sns.boxplot(data = temp, y = 'grp', x='scores', ax=axes[i],             boxprops=dict(alpha=.7,facecolor=colors[i], edgecolor=colors[i]), whiskerprops=dict(color=colors[i]),             medianprops=dict(color=colors[i]),\n",
    "            capprops=dict(color=colors[i]),             flierprops=dict(markeredgecolor=colors[i], marker='.', markersize=0, markerfacecolor=colors[i], ), order=['p.Ala1527Gly', 'LoF variants'], orient='h')\n",
    "    \n",
    "    l1 = axes[i].lines[0]\n",
    "\n",
    "    x1 = l1.get_xydata()[:, 0]\n",
    "    y1 = l1.get_xydata()[:, 1]\n",
    "    \n",
    "    axes[i].spines[['right', 'top']].set_visible(False)\n",
    "    axes[i].axvline(0, color='black', linestyle='dotted')\n",
    "    axes[i].fill_between(x1, y1, color=colors[i], alpha=0.3)\n",
    "    axes[i].set_ylabel('')\n",
    "    axes[i].set_xticklabels(axes[i].get_xticklabels(), rotation=45, ha='right') \n",
    "\n",
    "\n",
    "     # Rotate x-axis labels\n",
    "\n",
    "# Add common title for the y-axis\n",
    "fig.text(0.1, 0.5, 'Scores', ha='center', va='center', rotation='vertical')\n",
    "\n",
    "#fig.savefig('../pdf_figures/common_var_clusters.pdf')"
   ]
  },
  {
   "cell_type": "code",
   "execution_count": 2,
   "id": "c0f834a4-4b5d-40e4-a40e-99db6e9ed941",
   "metadata": {},
   "outputs": [],
   "source": [
    "######## show common vs rare variant -specific pathway- perturbation patterns\n",
    "\n",
    "frame = pd.read_csv('../processed_data/common_var/lipid_synthesis_gsets.csv')\n",
    "\n",
    "scores = pd.read_csv('../processed_data/common_var/rs3752246_binary_scores.csv', index_col = 0)\n",
    "scores['description'] = scores.index\n",
    "temp = pd.merge(scores, frame, left_on = 'description', right_on='value')\n",
    "temp['grp'] = 'p.Ala1527Gly'\n",
    "\n",
    "scores = pd.read_csv('../processed_data/single_cell/all_scores_0825.csv', index_col=0)\n",
    "scores = pd.DataFrame(scores['Ex'])\n",
    "scores = scores.rename(columns={\"Ex\": \"scores\"})\n",
    "scores['description'] = scores.index\n",
    "temp2 = pd.merge(scores, frame, left_on = 'description', right_on='value')\n",
    "temp2['grp'] = 'LoF variants'\n",
    "TEMP = pd.concat((temp, temp2), axis=0)"
   ]
  },
  {
   "cell_type": "code",
   "execution_count": 3,
   "id": "b8018a49-fade-4979-845f-4bc8cfcae3cd",
   "metadata": {},
   "outputs": [
    {
     "data": {
      "text/html": [
       "<div>\n",
       "<style scoped>\n",
       "    .dataframe tbody tr th:only-of-type {\n",
       "        vertical-align: middle;\n",
       "    }\n",
       "\n",
       "    .dataframe tbody tr th {\n",
       "        vertical-align: top;\n",
       "    }\n",
       "\n",
       "    .dataframe thead th {\n",
       "        text-align: right;\n",
       "    }\n",
       "</style>\n",
       "<table border=\"1\" class=\"dataframe\">\n",
       "  <thead>\n",
       "    <tr style=\"text-align: right;\">\n",
       "      <th></th>\n",
       "      <th>scores</th>\n",
       "      <th>description</th>\n",
       "      <th>Unnamed: 0</th>\n",
       "      <th>Var1</th>\n",
       "      <th>Var2</th>\n",
       "      <th>value</th>\n",
       "      <th>grp</th>\n",
       "    </tr>\n",
       "  </thead>\n",
       "  <tbody>\n",
       "    <tr>\n",
       "      <th>0</th>\n",
       "      <td>-2.217158</td>\n",
       "      <td>ELOVL5</td>\n",
       "      <td>27</td>\n",
       "      <td>Fatty Acyl-CoA Biosynthesis Homo sapiens R-HSA...</td>\n",
       "      <td>7</td>\n",
       "      <td>ELOVL5</td>\n",
       "      <td>p.Ala1527Gly</td>\n",
       "    </tr>\n",
       "    <tr>\n",
       "      <th>1</th>\n",
       "      <td>-2.217158</td>\n",
       "      <td>ELOVL5</td>\n",
       "      <td>195</td>\n",
       "      <td>Fatty Acyl-CoA Biosynthesis Homo sapiens R-HSA...</td>\n",
       "      <td>49</td>\n",
       "      <td>ELOVL5</td>\n",
       "      <td>p.Ala1527Gly</td>\n",
       "    </tr>\n",
       "    <tr>\n",
       "      <th>2</th>\n",
       "      <td>-2.217158</td>\n",
       "      <td>ELOVL5</td>\n",
       "      <td>363</td>\n",
       "      <td>Fatty Acyl-CoA Biosynthesis Homo sapiens R-HSA...</td>\n",
       "      <td>91</td>\n",
       "      <td>ELOVL5</td>\n",
       "      <td>p.Ala1527Gly</td>\n",
       "    </tr>\n",
       "    <tr>\n",
       "      <th>3</th>\n",
       "      <td>-2.217158</td>\n",
       "      <td>ELOVL5</td>\n",
       "      <td>531</td>\n",
       "      <td>Fatty Acyl-CoA Biosynthesis Homo sapiens R-HSA...</td>\n",
       "      <td>133</td>\n",
       "      <td>ELOVL5</td>\n",
       "      <td>p.Ala1527Gly</td>\n",
       "    </tr>\n",
       "    <tr>\n",
       "      <th>4</th>\n",
       "      <td>-1.885609</td>\n",
       "      <td>PPARD</td>\n",
       "      <td>508</td>\n",
       "      <td>response to lipid (GO:0033993)</td>\n",
       "      <td>127</td>\n",
       "      <td>PPARD</td>\n",
       "      <td>p.Ala1527Gly</td>\n",
       "    </tr>\n",
       "    <tr>\n",
       "      <th>...</th>\n",
       "      <td>...</td>\n",
       "      <td>...</td>\n",
       "      <td>...</td>\n",
       "      <td>...</td>\n",
       "      <td>...</td>\n",
       "      <td>...</td>\n",
       "      <td>...</td>\n",
       "    </tr>\n",
       "    <tr>\n",
       "      <th>410</th>\n",
       "      <td>0.000000</td>\n",
       "      <td>SLC11A1</td>\n",
       "      <td>144</td>\n",
       "      <td>response to lipid (GO:0033993)</td>\n",
       "      <td>36</td>\n",
       "      <td>SLC11A1</td>\n",
       "      <td>LoF variants</td>\n",
       "    </tr>\n",
       "    <tr>\n",
       "      <th>411</th>\n",
       "      <td>0.000000</td>\n",
       "      <td>IRAK1</td>\n",
       "      <td>408</td>\n",
       "      <td>response to lipid (GO:0033993)</td>\n",
       "      <td>102</td>\n",
       "      <td>IRAK1</td>\n",
       "      <td>LoF variants</td>\n",
       "    </tr>\n",
       "    <tr>\n",
       "      <th>412</th>\n",
       "      <td>0.000000</td>\n",
       "      <td>IRAK3</td>\n",
       "      <td>404</td>\n",
       "      <td>response to lipid (GO:0033993)</td>\n",
       "      <td>101</td>\n",
       "      <td>IRAK3</td>\n",
       "      <td>LoF variants</td>\n",
       "    </tr>\n",
       "    <tr>\n",
       "      <th>413</th>\n",
       "      <td>0.000000</td>\n",
       "      <td>LTBR</td>\n",
       "      <td>500</td>\n",
       "      <td>response to lipid (GO:0033993)</td>\n",
       "      <td>125</td>\n",
       "      <td>LTBR</td>\n",
       "      <td>LoF variants</td>\n",
       "    </tr>\n",
       "    <tr>\n",
       "      <th>414</th>\n",
       "      <td>0.000000</td>\n",
       "      <td>LY96</td>\n",
       "      <td>356</td>\n",
       "      <td>response to lipid (GO:0033993)</td>\n",
       "      <td>89</td>\n",
       "      <td>LY96</td>\n",
       "      <td>LoF variants</td>\n",
       "    </tr>\n",
       "  </tbody>\n",
       "</table>\n",
       "<p>773 rows × 7 columns</p>\n",
       "</div>"
      ],
      "text/plain": [
       "       scores description  Unnamed: 0  \\\n",
       "0   -2.217158      ELOVL5          27   \n",
       "1   -2.217158      ELOVL5         195   \n",
       "2   -2.217158      ELOVL5         363   \n",
       "3   -2.217158      ELOVL5         531   \n",
       "4   -1.885609       PPARD         508   \n",
       "..        ...         ...         ...   \n",
       "410  0.000000     SLC11A1         144   \n",
       "411  0.000000       IRAK1         408   \n",
       "412  0.000000       IRAK3         404   \n",
       "413  0.000000        LTBR         500   \n",
       "414  0.000000        LY96         356   \n",
       "\n",
       "                                                  Var1  Var2    value  \\\n",
       "0    Fatty Acyl-CoA Biosynthesis Homo sapiens R-HSA...     7   ELOVL5   \n",
       "1    Fatty Acyl-CoA Biosynthesis Homo sapiens R-HSA...    49   ELOVL5   \n",
       "2    Fatty Acyl-CoA Biosynthesis Homo sapiens R-HSA...    91   ELOVL5   \n",
       "3    Fatty Acyl-CoA Biosynthesis Homo sapiens R-HSA...   133   ELOVL5   \n",
       "4                       response to lipid (GO:0033993)   127    PPARD   \n",
       "..                                                 ...   ...      ...   \n",
       "410                     response to lipid (GO:0033993)    36  SLC11A1   \n",
       "411                     response to lipid (GO:0033993)   102    IRAK1   \n",
       "412                     response to lipid (GO:0033993)   101    IRAK3   \n",
       "413                     response to lipid (GO:0033993)   125     LTBR   \n",
       "414                     response to lipid (GO:0033993)    89     LY96   \n",
       "\n",
       "              grp  \n",
       "0    p.Ala1527Gly  \n",
       "1    p.Ala1527Gly  \n",
       "2    p.Ala1527Gly  \n",
       "3    p.Ala1527Gly  \n",
       "4    p.Ala1527Gly  \n",
       "..            ...  \n",
       "410  LoF variants  \n",
       "411  LoF variants  \n",
       "412  LoF variants  \n",
       "413  LoF variants  \n",
       "414  LoF variants  \n",
       "\n",
       "[773 rows x 7 columns]"
      ]
     },
     "execution_count": 3,
     "metadata": {},
     "output_type": "execute_result"
    }
   ],
   "source": [
    "TEMP"
   ]
  },
  {
   "cell_type": "code",
   "execution_count": 6,
   "id": "78b15115-ed16-4823-8c87-3cf1da1eefdb",
   "metadata": {},
   "outputs": [],
   "source": [
    "frame = temp2"
   ]
  },
  {
   "cell_type": "code",
   "execution_count": 7,
   "id": "bdbc7cc9-229d-4b92-b3c6-56a0ca2e7ee9",
   "metadata": {
    "collapsed": true,
    "jupyter": {
     "outputs_hidden": true
    },
    "tags": []
   },
   "outputs": [
    {
     "name": "stderr",
     "output_type": "stream",
     "text": [
      "/state/partition1/slurm_tmp/24590389.0.0/ipykernel_1979419/3883561615.py:12: SettingWithCopyWarning: \n",
      "A value is trying to be set on a copy of a slice from a DataFrame\n",
      "\n",
      "See the caveats in the documentation: https://pandas.pydata.org/pandas-docs/stable/user_guide/indexing.html#returning-a-view-versus-a-copy\n",
      "  filtered_frame.fillna(0, inplace=True)\n"
     ]
    },
    {
     "ename": "ValueError",
     "evalue": "The number of observations cannot be determined on an empty distance matrix.",
     "output_type": "error",
     "traceback": [
      "\u001b[0;31m---------------------------------------------------------------------------\u001b[0m",
      "\u001b[0;31mValueError\u001b[0m                                Traceback (most recent call last)",
      "Input \u001b[0;32mIn [7]\u001b[0m, in \u001b[0;36m<cell line: 16>\u001b[0;34m()\u001b[0m\n\u001b[1;32m     14\u001b[0m \u001b[38;5;66;03m# Create a heatmap\u001b[39;00m\n\u001b[1;32m     15\u001b[0m plt\u001b[38;5;241m.\u001b[39mfigure(figsize\u001b[38;5;241m=\u001b[39m(\u001b[38;5;241m1\u001b[39m, \u001b[38;5;241m2\u001b[39m))  \u001b[38;5;66;03m# Adjust the figure size as needed\u001b[39;00m\n\u001b[0;32m---> 16\u001b[0m clustered_heatmap \u001b[38;5;241m=\u001b[39m \u001b[43msns\u001b[49m\u001b[38;5;241;43m.\u001b[39;49m\u001b[43mclustermap\u001b[49m\u001b[43m(\u001b[49m\u001b[43mfiltered_frame\u001b[49m\u001b[43m,\u001b[49m\u001b[43m \u001b[49m\u001b[43mcmap\u001b[49m\u001b[38;5;241;43m=\u001b[39;49m\u001b[38;5;124;43m'\u001b[39;49m\u001b[38;5;124;43mRdBu\u001b[39;49m\u001b[38;5;124;43m'\u001b[39;49m\u001b[43m,\u001b[49m\u001b[43m \u001b[49m\u001b[43mannot\u001b[49m\u001b[38;5;241;43m=\u001b[39;49m\u001b[38;5;28;43;01mTrue\u001b[39;49;00m\u001b[43m,\u001b[49m\u001b[43m \u001b[49m\u001b[43mfmt\u001b[49m\u001b[38;5;241;43m=\u001b[39;49m\u001b[38;5;124;43m'\u001b[39;49m\u001b[38;5;124;43m.2f\u001b[39;49m\u001b[38;5;124;43m'\u001b[39;49m\u001b[43m,\u001b[49m\u001b[43m \u001b[49m\u001b[43mlinewidths\u001b[49m\u001b[38;5;241;43m=\u001b[39;49m\u001b[38;5;241;43m.5\u001b[39;49m\u001b[43m,\u001b[49m\u001b[43m \u001b[49m\u001b[43mmethod\u001b[49m\u001b[38;5;241;43m=\u001b[39;49m\u001b[38;5;124;43m'\u001b[39;49m\u001b[38;5;124;43mcomplete\u001b[39;49m\u001b[38;5;124;43m'\u001b[39;49m\u001b[43m,\u001b[49m\u001b[43m \u001b[49m\u001b[43mcenter\u001b[49m\u001b[43m \u001b[49m\u001b[38;5;241;43m=\u001b[39;49m\u001b[43m \u001b[49m\u001b[38;5;241;43m0\u001b[39;49m\u001b[43m,\u001b[49m\u001b[43m \u001b[49m\u001b[43mfigsize\u001b[49m\u001b[38;5;241;43m=\u001b[39;49m\u001b[43m(\u001b[49m\u001b[38;5;241;43m2\u001b[39;49m\u001b[43m,\u001b[49m\u001b[43m \u001b[49m\u001b[38;5;241;43m10\u001b[39;49m\u001b[43m)\u001b[49m\u001b[43m)\u001b[49m\n\u001b[1;32m     18\u001b[0m \u001b[38;5;66;03m# Add a title to the heatmap\u001b[39;00m\n\u001b[1;32m     19\u001b[0m plt\u001b[38;5;241m.\u001b[39msuptitle(\u001b[38;5;124m'\u001b[39m\u001b[38;5;124mClustered Heatmap of Scores for Lipid Synthesis Gene Sets\u001b[39m\u001b[38;5;124m'\u001b[39m, y\u001b[38;5;241m=\u001b[39m\u001b[38;5;241m1.02\u001b[39m)\n",
      "File \u001b[0;32m/state/partition1/llgrid/pkg/anaconda/anaconda3-2022a/lib/python3.8/site-packages/seaborn/_decorators.py:46\u001b[0m, in \u001b[0;36m_deprecate_positional_args.<locals>.inner_f\u001b[0;34m(*args, **kwargs)\u001b[0m\n\u001b[1;32m     36\u001b[0m     warnings\u001b[38;5;241m.\u001b[39mwarn(\n\u001b[1;32m     37\u001b[0m         \u001b[38;5;124m\"\u001b[39m\u001b[38;5;124mPass the following variable\u001b[39m\u001b[38;5;132;01m{}\u001b[39;00m\u001b[38;5;124m as \u001b[39m\u001b[38;5;132;01m{}\u001b[39;00m\u001b[38;5;124mkeyword arg\u001b[39m\u001b[38;5;132;01m{}\u001b[39;00m\u001b[38;5;124m: \u001b[39m\u001b[38;5;132;01m{}\u001b[39;00m\u001b[38;5;124m. \u001b[39m\u001b[38;5;124m\"\u001b[39m\n\u001b[1;32m     38\u001b[0m         \u001b[38;5;124m\"\u001b[39m\u001b[38;5;124mFrom version 0.12, the only valid positional argument \u001b[39m\u001b[38;5;124m\"\u001b[39m\n\u001b[0;32m   (...)\u001b[0m\n\u001b[1;32m     43\u001b[0m         \u001b[38;5;167;01mFutureWarning\u001b[39;00m\n\u001b[1;32m     44\u001b[0m     )\n\u001b[1;32m     45\u001b[0m kwargs\u001b[38;5;241m.\u001b[39mupdate({k: arg \u001b[38;5;28;01mfor\u001b[39;00m k, arg \u001b[38;5;129;01min\u001b[39;00m \u001b[38;5;28mzip\u001b[39m(sig\u001b[38;5;241m.\u001b[39mparameters, args)})\n\u001b[0;32m---> 46\u001b[0m \u001b[38;5;28;01mreturn\u001b[39;00m \u001b[43mf\u001b[49m\u001b[43m(\u001b[49m\u001b[38;5;241;43m*\u001b[39;49m\u001b[38;5;241;43m*\u001b[39;49m\u001b[43mkwargs\u001b[49m\u001b[43m)\u001b[49m\n",
      "File \u001b[0;32m/state/partition1/llgrid/pkg/anaconda/anaconda3-2022a/lib/python3.8/site-packages/seaborn/matrix.py:1406\u001b[0m, in \u001b[0;36mclustermap\u001b[0;34m(data, pivot_kws, method, metric, z_score, standard_scale, figsize, cbar_kws, row_cluster, col_cluster, row_linkage, col_linkage, row_colors, col_colors, mask, dendrogram_ratio, colors_ratio, cbar_pos, tree_kws, **kwargs)\u001b[0m\n\u001b[1;32m   1248\u001b[0m \u001b[38;5;124;03m\"\"\"\u001b[39;00m\n\u001b[1;32m   1249\u001b[0m \u001b[38;5;124;03mPlot a matrix dataset as a hierarchically-clustered heatmap.\u001b[39;00m\n\u001b[1;32m   1250\u001b[0m \n\u001b[0;32m   (...)\u001b[0m\n\u001b[1;32m   1398\u001b[0m \u001b[38;5;124;03m    >>> g = sns.clustermap(iris, z_score=0, cmap=\"vlag\")\u001b[39;00m\n\u001b[1;32m   1399\u001b[0m \u001b[38;5;124;03m\"\"\"\u001b[39;00m\n\u001b[1;32m   1400\u001b[0m plotter \u001b[38;5;241m=\u001b[39m ClusterGrid(data, pivot_kws\u001b[38;5;241m=\u001b[39mpivot_kws, figsize\u001b[38;5;241m=\u001b[39mfigsize,\n\u001b[1;32m   1401\u001b[0m                       row_colors\u001b[38;5;241m=\u001b[39mrow_colors, col_colors\u001b[38;5;241m=\u001b[39mcol_colors,\n\u001b[1;32m   1402\u001b[0m                       z_score\u001b[38;5;241m=\u001b[39mz_score, standard_scale\u001b[38;5;241m=\u001b[39mstandard_scale,\n\u001b[1;32m   1403\u001b[0m                       mask\u001b[38;5;241m=\u001b[39mmask, dendrogram_ratio\u001b[38;5;241m=\u001b[39mdendrogram_ratio,\n\u001b[1;32m   1404\u001b[0m                       colors_ratio\u001b[38;5;241m=\u001b[39mcolors_ratio, cbar_pos\u001b[38;5;241m=\u001b[39mcbar_pos)\n\u001b[0;32m-> 1406\u001b[0m \u001b[38;5;28;01mreturn\u001b[39;00m \u001b[43mplotter\u001b[49m\u001b[38;5;241;43m.\u001b[39;49m\u001b[43mplot\u001b[49m\u001b[43m(\u001b[49m\u001b[43mmetric\u001b[49m\u001b[38;5;241;43m=\u001b[39;49m\u001b[43mmetric\u001b[49m\u001b[43m,\u001b[49m\u001b[43m \u001b[49m\u001b[43mmethod\u001b[49m\u001b[38;5;241;43m=\u001b[39;49m\u001b[43mmethod\u001b[49m\u001b[43m,\u001b[49m\n\u001b[1;32m   1407\u001b[0m \u001b[43m                    \u001b[49m\u001b[43mcolorbar_kws\u001b[49m\u001b[38;5;241;43m=\u001b[39;49m\u001b[43mcbar_kws\u001b[49m\u001b[43m,\u001b[49m\n\u001b[1;32m   1408\u001b[0m \u001b[43m                    \u001b[49m\u001b[43mrow_cluster\u001b[49m\u001b[38;5;241;43m=\u001b[39;49m\u001b[43mrow_cluster\u001b[49m\u001b[43m,\u001b[49m\u001b[43m \u001b[49m\u001b[43mcol_cluster\u001b[49m\u001b[38;5;241;43m=\u001b[39;49m\u001b[43mcol_cluster\u001b[49m\u001b[43m,\u001b[49m\n\u001b[1;32m   1409\u001b[0m \u001b[43m                    \u001b[49m\u001b[43mrow_linkage\u001b[49m\u001b[38;5;241;43m=\u001b[39;49m\u001b[43mrow_linkage\u001b[49m\u001b[43m,\u001b[49m\u001b[43m \u001b[49m\u001b[43mcol_linkage\u001b[49m\u001b[38;5;241;43m=\u001b[39;49m\u001b[43mcol_linkage\u001b[49m\u001b[43m,\u001b[49m\n\u001b[1;32m   1410\u001b[0m \u001b[43m                    \u001b[49m\u001b[43mtree_kws\u001b[49m\u001b[38;5;241;43m=\u001b[39;49m\u001b[43mtree_kws\u001b[49m\u001b[43m,\u001b[49m\u001b[43m \u001b[49m\u001b[38;5;241;43m*\u001b[39;49m\u001b[38;5;241;43m*\u001b[39;49m\u001b[43mkwargs\u001b[49m\u001b[43m)\u001b[49m\n",
      "File \u001b[0;32m/state/partition1/llgrid/pkg/anaconda/anaconda3-2022a/lib/python3.8/site-packages/seaborn/matrix.py:1219\u001b[0m, in \u001b[0;36mClusterGrid.plot\u001b[0;34m(self, metric, method, colorbar_kws, row_cluster, col_cluster, row_linkage, col_linkage, tree_kws, **kws)\u001b[0m\n\u001b[1;32m   1215\u001b[0m     kws\u001b[38;5;241m.\u001b[39mpop(\u001b[38;5;124m\"\u001b[39m\u001b[38;5;124msquare\u001b[39m\u001b[38;5;124m\"\u001b[39m)\n\u001b[1;32m   1217\u001b[0m colorbar_kws \u001b[38;5;241m=\u001b[39m {} \u001b[38;5;28;01mif\u001b[39;00m colorbar_kws \u001b[38;5;129;01mis\u001b[39;00m \u001b[38;5;28;01mNone\u001b[39;00m \u001b[38;5;28;01melse\u001b[39;00m colorbar_kws\n\u001b[0;32m-> 1219\u001b[0m \u001b[38;5;28;43mself\u001b[39;49m\u001b[38;5;241;43m.\u001b[39;49m\u001b[43mplot_dendrograms\u001b[49m\u001b[43m(\u001b[49m\u001b[43mrow_cluster\u001b[49m\u001b[43m,\u001b[49m\u001b[43m \u001b[49m\u001b[43mcol_cluster\u001b[49m\u001b[43m,\u001b[49m\u001b[43m \u001b[49m\u001b[43mmetric\u001b[49m\u001b[43m,\u001b[49m\u001b[43m \u001b[49m\u001b[43mmethod\u001b[49m\u001b[43m,\u001b[49m\n\u001b[1;32m   1220\u001b[0m \u001b[43m                      \u001b[49m\u001b[43mrow_linkage\u001b[49m\u001b[38;5;241;43m=\u001b[39;49m\u001b[43mrow_linkage\u001b[49m\u001b[43m,\u001b[49m\u001b[43m \u001b[49m\u001b[43mcol_linkage\u001b[49m\u001b[38;5;241;43m=\u001b[39;49m\u001b[43mcol_linkage\u001b[49m\u001b[43m,\u001b[49m\n\u001b[1;32m   1221\u001b[0m \u001b[43m                      \u001b[49m\u001b[43mtree_kws\u001b[49m\u001b[38;5;241;43m=\u001b[39;49m\u001b[43mtree_kws\u001b[49m\u001b[43m)\u001b[49m\n\u001b[1;32m   1222\u001b[0m \u001b[38;5;28;01mtry\u001b[39;00m:\n\u001b[1;32m   1223\u001b[0m     xind \u001b[38;5;241m=\u001b[39m \u001b[38;5;28mself\u001b[39m\u001b[38;5;241m.\u001b[39mdendrogram_col\u001b[38;5;241m.\u001b[39mreordered_ind\n",
      "File \u001b[0;32m/state/partition1/llgrid/pkg/anaconda/anaconda3-2022a/lib/python3.8/site-packages/seaborn/matrix.py:1074\u001b[0m, in \u001b[0;36mClusterGrid.plot_dendrograms\u001b[0;34m(self, row_cluster, col_cluster, metric, method, row_linkage, col_linkage, tree_kws)\u001b[0m\n\u001b[1;32m   1072\u001b[0m \u001b[38;5;66;03m# PLot the column dendrogram\u001b[39;00m\n\u001b[1;32m   1073\u001b[0m \u001b[38;5;28;01mif\u001b[39;00m col_cluster:\n\u001b[0;32m-> 1074\u001b[0m     \u001b[38;5;28mself\u001b[39m\u001b[38;5;241m.\u001b[39mdendrogram_col \u001b[38;5;241m=\u001b[39m \u001b[43mdendrogram\u001b[49m\u001b[43m(\u001b[49m\n\u001b[1;32m   1075\u001b[0m \u001b[43m        \u001b[49m\u001b[38;5;28;43mself\u001b[39;49m\u001b[38;5;241;43m.\u001b[39;49m\u001b[43mdata2d\u001b[49m\u001b[43m,\u001b[49m\u001b[43m \u001b[49m\u001b[43mmetric\u001b[49m\u001b[38;5;241;43m=\u001b[39;49m\u001b[43mmetric\u001b[49m\u001b[43m,\u001b[49m\u001b[43m \u001b[49m\u001b[43mmethod\u001b[49m\u001b[38;5;241;43m=\u001b[39;49m\u001b[43mmethod\u001b[49m\u001b[43m,\u001b[49m\u001b[43m \u001b[49m\u001b[43mlabel\u001b[49m\u001b[38;5;241;43m=\u001b[39;49m\u001b[38;5;28;43;01mFalse\u001b[39;49;00m\u001b[43m,\u001b[49m\n\u001b[1;32m   1076\u001b[0m \u001b[43m        \u001b[49m\u001b[43maxis\u001b[49m\u001b[38;5;241;43m=\u001b[39;49m\u001b[38;5;241;43m1\u001b[39;49m\u001b[43m,\u001b[49m\u001b[43m \u001b[49m\u001b[43max\u001b[49m\u001b[38;5;241;43m=\u001b[39;49m\u001b[38;5;28;43mself\u001b[39;49m\u001b[38;5;241;43m.\u001b[39;49m\u001b[43max_col_dendrogram\u001b[49m\u001b[43m,\u001b[49m\u001b[43m \u001b[49m\u001b[43mlinkage\u001b[49m\u001b[38;5;241;43m=\u001b[39;49m\u001b[43mcol_linkage\u001b[49m\u001b[43m,\u001b[49m\n\u001b[1;32m   1077\u001b[0m \u001b[43m        \u001b[49m\u001b[43mtree_kws\u001b[49m\u001b[38;5;241;43m=\u001b[39;49m\u001b[43mtree_kws\u001b[49m\n\u001b[1;32m   1078\u001b[0m \u001b[43m    \u001b[49m\u001b[43m)\u001b[49m\n\u001b[1;32m   1079\u001b[0m \u001b[38;5;28;01melse\u001b[39;00m:\n\u001b[1;32m   1080\u001b[0m     \u001b[38;5;28mself\u001b[39m\u001b[38;5;241m.\u001b[39max_col_dendrogram\u001b[38;5;241m.\u001b[39mset_xticks([])\n",
      "File \u001b[0;32m/state/partition1/llgrid/pkg/anaconda/anaconda3-2022a/lib/python3.8/site-packages/seaborn/_decorators.py:46\u001b[0m, in \u001b[0;36m_deprecate_positional_args.<locals>.inner_f\u001b[0;34m(*args, **kwargs)\u001b[0m\n\u001b[1;32m     36\u001b[0m     warnings\u001b[38;5;241m.\u001b[39mwarn(\n\u001b[1;32m     37\u001b[0m         \u001b[38;5;124m\"\u001b[39m\u001b[38;5;124mPass the following variable\u001b[39m\u001b[38;5;132;01m{}\u001b[39;00m\u001b[38;5;124m as \u001b[39m\u001b[38;5;132;01m{}\u001b[39;00m\u001b[38;5;124mkeyword arg\u001b[39m\u001b[38;5;132;01m{}\u001b[39;00m\u001b[38;5;124m: \u001b[39m\u001b[38;5;132;01m{}\u001b[39;00m\u001b[38;5;124m. \u001b[39m\u001b[38;5;124m\"\u001b[39m\n\u001b[1;32m     38\u001b[0m         \u001b[38;5;124m\"\u001b[39m\u001b[38;5;124mFrom version 0.12, the only valid positional argument \u001b[39m\u001b[38;5;124m\"\u001b[39m\n\u001b[0;32m   (...)\u001b[0m\n\u001b[1;32m     43\u001b[0m         \u001b[38;5;167;01mFutureWarning\u001b[39;00m\n\u001b[1;32m     44\u001b[0m     )\n\u001b[1;32m     45\u001b[0m kwargs\u001b[38;5;241m.\u001b[39mupdate({k: arg \u001b[38;5;28;01mfor\u001b[39;00m k, arg \u001b[38;5;129;01min\u001b[39;00m \u001b[38;5;28mzip\u001b[39m(sig\u001b[38;5;241m.\u001b[39mparameters, args)})\n\u001b[0;32m---> 46\u001b[0m \u001b[38;5;28;01mreturn\u001b[39;00m \u001b[43mf\u001b[49m\u001b[43m(\u001b[49m\u001b[38;5;241;43m*\u001b[39;49m\u001b[38;5;241;43m*\u001b[39;49m\u001b[43mkwargs\u001b[49m\u001b[43m)\u001b[49m\n",
      "File \u001b[0;32m/state/partition1/llgrid/pkg/anaconda/anaconda3-2022a/lib/python3.8/site-packages/seaborn/matrix.py:779\u001b[0m, in \u001b[0;36mdendrogram\u001b[0;34m(data, linkage, axis, label, metric, method, rotate, tree_kws, ax)\u001b[0m\n\u001b[1;32m    736\u001b[0m \u001b[38;5;129m@_deprecate_positional_args\u001b[39m\n\u001b[1;32m    737\u001b[0m \u001b[38;5;28;01mdef\u001b[39;00m \u001b[38;5;21mdendrogram\u001b[39m(\n\u001b[1;32m    738\u001b[0m     data, \u001b[38;5;241m*\u001b[39m,\n\u001b[1;32m    739\u001b[0m     linkage\u001b[38;5;241m=\u001b[39m\u001b[38;5;28;01mNone\u001b[39;00m, axis\u001b[38;5;241m=\u001b[39m\u001b[38;5;241m1\u001b[39m, label\u001b[38;5;241m=\u001b[39m\u001b[38;5;28;01mTrue\u001b[39;00m, metric\u001b[38;5;241m=\u001b[39m\u001b[38;5;124m'\u001b[39m\u001b[38;5;124meuclidean\u001b[39m\u001b[38;5;124m'\u001b[39m,\n\u001b[1;32m    740\u001b[0m     method\u001b[38;5;241m=\u001b[39m\u001b[38;5;124m'\u001b[39m\u001b[38;5;124maverage\u001b[39m\u001b[38;5;124m'\u001b[39m, rotate\u001b[38;5;241m=\u001b[39m\u001b[38;5;28;01mFalse\u001b[39;00m, tree_kws\u001b[38;5;241m=\u001b[39m\u001b[38;5;28;01mNone\u001b[39;00m, ax\u001b[38;5;241m=\u001b[39m\u001b[38;5;28;01mNone\u001b[39;00m\n\u001b[1;32m    741\u001b[0m ):\n\u001b[1;32m    742\u001b[0m     \u001b[38;5;124;03m\"\"\"Draw a tree diagram of relationships within a matrix\u001b[39;00m\n\u001b[1;32m    743\u001b[0m \n\u001b[1;32m    744\u001b[0m \u001b[38;5;124;03m    Parameters\u001b[39;00m\n\u001b[0;32m   (...)\u001b[0m\n\u001b[1;32m    777\u001b[0m \n\u001b[1;32m    778\u001b[0m \u001b[38;5;124;03m    \"\"\"\u001b[39;00m\n\u001b[0;32m--> 779\u001b[0m     plotter \u001b[38;5;241m=\u001b[39m \u001b[43m_DendrogramPlotter\u001b[49m\u001b[43m(\u001b[49m\u001b[43mdata\u001b[49m\u001b[43m,\u001b[49m\u001b[43m \u001b[49m\u001b[43mlinkage\u001b[49m\u001b[38;5;241;43m=\u001b[39;49m\u001b[43mlinkage\u001b[49m\u001b[43m,\u001b[49m\u001b[43m \u001b[49m\u001b[43maxis\u001b[49m\u001b[38;5;241;43m=\u001b[39;49m\u001b[43maxis\u001b[49m\u001b[43m,\u001b[49m\n\u001b[1;32m    780\u001b[0m \u001b[43m                                 \u001b[49m\u001b[43mmetric\u001b[49m\u001b[38;5;241;43m=\u001b[39;49m\u001b[43mmetric\u001b[49m\u001b[43m,\u001b[49m\u001b[43m \u001b[49m\u001b[43mmethod\u001b[49m\u001b[38;5;241;43m=\u001b[39;49m\u001b[43mmethod\u001b[49m\u001b[43m,\u001b[49m\n\u001b[1;32m    781\u001b[0m \u001b[43m                                 \u001b[49m\u001b[43mlabel\u001b[49m\u001b[38;5;241;43m=\u001b[39;49m\u001b[43mlabel\u001b[49m\u001b[43m,\u001b[49m\u001b[43m \u001b[49m\u001b[43mrotate\u001b[49m\u001b[38;5;241;43m=\u001b[39;49m\u001b[43mrotate\u001b[49m\u001b[43m)\u001b[49m\n\u001b[1;32m    782\u001b[0m     \u001b[38;5;28;01mif\u001b[39;00m ax \u001b[38;5;129;01mis\u001b[39;00m \u001b[38;5;28;01mNone\u001b[39;00m:\n\u001b[1;32m    783\u001b[0m         ax \u001b[38;5;241m=\u001b[39m plt\u001b[38;5;241m.\u001b[39mgca()\n",
      "File \u001b[0;32m/state/partition1/llgrid/pkg/anaconda/anaconda3-2022a/lib/python3.8/site-packages/seaborn/matrix.py:589\u001b[0m, in \u001b[0;36m_DendrogramPlotter.__init__\u001b[0;34m(self, data, linkage, metric, method, axis, label, rotate)\u001b[0m\n\u001b[1;32m    586\u001b[0m \u001b[38;5;28mself\u001b[39m\u001b[38;5;241m.\u001b[39mrotate \u001b[38;5;241m=\u001b[39m rotate\n\u001b[1;32m    588\u001b[0m \u001b[38;5;28;01mif\u001b[39;00m linkage \u001b[38;5;129;01mis\u001b[39;00m \u001b[38;5;28;01mNone\u001b[39;00m:\n\u001b[0;32m--> 589\u001b[0m     \u001b[38;5;28mself\u001b[39m\u001b[38;5;241m.\u001b[39mlinkage \u001b[38;5;241m=\u001b[39m \u001b[38;5;28;43mself\u001b[39;49m\u001b[38;5;241;43m.\u001b[39;49m\u001b[43mcalculated_linkage\u001b[49m\n\u001b[1;32m    590\u001b[0m \u001b[38;5;28;01melse\u001b[39;00m:\n\u001b[1;32m    591\u001b[0m     \u001b[38;5;28mself\u001b[39m\u001b[38;5;241m.\u001b[39mlinkage \u001b[38;5;241m=\u001b[39m linkage\n",
      "File \u001b[0;32m/state/partition1/llgrid/pkg/anaconda/anaconda3-2022a/lib/python3.8/site-packages/seaborn/matrix.py:656\u001b[0m, in \u001b[0;36m_DendrogramPlotter.calculated_linkage\u001b[0;34m(self)\u001b[0m\n\u001b[1;32m    652\u001b[0m         msg \u001b[38;5;241m=\u001b[39m (\u001b[38;5;124m\"\u001b[39m\u001b[38;5;124mClustering large matrix with scipy. Installing \u001b[39m\u001b[38;5;124m\"\u001b[39m\n\u001b[1;32m    653\u001b[0m                \u001b[38;5;124m\"\u001b[39m\u001b[38;5;124m`fastcluster` may give better performance.\u001b[39m\u001b[38;5;124m\"\u001b[39m)\n\u001b[1;32m    654\u001b[0m         warnings\u001b[38;5;241m.\u001b[39mwarn(msg)\n\u001b[0;32m--> 656\u001b[0m \u001b[38;5;28;01mreturn\u001b[39;00m \u001b[38;5;28;43mself\u001b[39;49m\u001b[38;5;241;43m.\u001b[39;49m\u001b[43m_calculate_linkage_scipy\u001b[49m\u001b[43m(\u001b[49m\u001b[43m)\u001b[49m\n",
      "File \u001b[0;32m/state/partition1/llgrid/pkg/anaconda/anaconda3-2022a/lib/python3.8/site-packages/seaborn/matrix.py:624\u001b[0m, in \u001b[0;36m_DendrogramPlotter._calculate_linkage_scipy\u001b[0;34m(self)\u001b[0m\n\u001b[1;32m    623\u001b[0m \u001b[38;5;28;01mdef\u001b[39;00m \u001b[38;5;21m_calculate_linkage_scipy\u001b[39m(\u001b[38;5;28mself\u001b[39m):\n\u001b[0;32m--> 624\u001b[0m     linkage \u001b[38;5;241m=\u001b[39m \u001b[43mhierarchy\u001b[49m\u001b[38;5;241;43m.\u001b[39;49m\u001b[43mlinkage\u001b[49m\u001b[43m(\u001b[49m\u001b[38;5;28;43mself\u001b[39;49m\u001b[38;5;241;43m.\u001b[39;49m\u001b[43marray\u001b[49m\u001b[43m,\u001b[49m\u001b[43m \u001b[49m\u001b[43mmethod\u001b[49m\u001b[38;5;241;43m=\u001b[39;49m\u001b[38;5;28;43mself\u001b[39;49m\u001b[38;5;241;43m.\u001b[39;49m\u001b[43mmethod\u001b[49m\u001b[43m,\u001b[49m\n\u001b[1;32m    625\u001b[0m \u001b[43m                                \u001b[49m\u001b[43mmetric\u001b[49m\u001b[38;5;241;43m=\u001b[39;49m\u001b[38;5;28;43mself\u001b[39;49m\u001b[38;5;241;43m.\u001b[39;49m\u001b[43mmetric\u001b[49m\u001b[43m)\u001b[49m\n\u001b[1;32m    626\u001b[0m     \u001b[38;5;28;01mreturn\u001b[39;00m linkage\n",
      "File \u001b[0;32m~/.local/lib/python3.8/site-packages/scipy/cluster/hierarchy.py:1068\u001b[0m, in \u001b[0;36mlinkage\u001b[0;34m(y, method, metric, optimal_ordering)\u001b[0m\n\u001b[1;32m   1064\u001b[0m \u001b[38;5;28;01mif\u001b[39;00m \u001b[38;5;129;01mnot\u001b[39;00m np\u001b[38;5;241m.\u001b[39mall(np\u001b[38;5;241m.\u001b[39misfinite(y)):\n\u001b[1;32m   1065\u001b[0m     \u001b[38;5;28;01mraise\u001b[39;00m \u001b[38;5;167;01mValueError\u001b[39;00m(\u001b[38;5;124m\"\u001b[39m\u001b[38;5;124mThe condensed distance matrix must contain only \u001b[39m\u001b[38;5;124m\"\u001b[39m\n\u001b[1;32m   1066\u001b[0m                      \u001b[38;5;124m\"\u001b[39m\u001b[38;5;124mfinite values.\u001b[39m\u001b[38;5;124m\"\u001b[39m)\n\u001b[0;32m-> 1068\u001b[0m n \u001b[38;5;241m=\u001b[39m \u001b[38;5;28mint\u001b[39m(\u001b[43mdistance\u001b[49m\u001b[38;5;241;43m.\u001b[39;49m\u001b[43mnum_obs_y\u001b[49m\u001b[43m(\u001b[49m\u001b[43my\u001b[49m\u001b[43m)\u001b[49m)\n\u001b[1;32m   1069\u001b[0m method_code \u001b[38;5;241m=\u001b[39m _LINKAGE_METHODS[method]\n\u001b[1;32m   1071\u001b[0m \u001b[38;5;28;01mif\u001b[39;00m method \u001b[38;5;241m==\u001b[39m \u001b[38;5;124m'\u001b[39m\u001b[38;5;124msingle\u001b[39m\u001b[38;5;124m'\u001b[39m:\n",
      "File \u001b[0;32m~/.local/lib/python3.8/site-packages/scipy/spatial/distance.py:2555\u001b[0m, in \u001b[0;36mnum_obs_y\u001b[0;34m(Y)\u001b[0m\n\u001b[1;32m   2553\u001b[0m k \u001b[38;5;241m=\u001b[39m Y\u001b[38;5;241m.\u001b[39mshape[\u001b[38;5;241m0\u001b[39m]\n\u001b[1;32m   2554\u001b[0m \u001b[38;5;28;01mif\u001b[39;00m k \u001b[38;5;241m==\u001b[39m \u001b[38;5;241m0\u001b[39m:\n\u001b[0;32m-> 2555\u001b[0m     \u001b[38;5;28;01mraise\u001b[39;00m \u001b[38;5;167;01mValueError\u001b[39;00m(\u001b[38;5;124m\"\u001b[39m\u001b[38;5;124mThe number of observations cannot be determined on \u001b[39m\u001b[38;5;124m\"\u001b[39m\n\u001b[1;32m   2556\u001b[0m                      \u001b[38;5;124m\"\u001b[39m\u001b[38;5;124man empty distance matrix.\u001b[39m\u001b[38;5;124m\"\u001b[39m)\n\u001b[1;32m   2557\u001b[0m d \u001b[38;5;241m=\u001b[39m \u001b[38;5;28mint\u001b[39m(np\u001b[38;5;241m.\u001b[39mceil(np\u001b[38;5;241m.\u001b[39msqrt(k \u001b[38;5;241m*\u001b[39m \u001b[38;5;241m2\u001b[39m)))\n\u001b[1;32m   2558\u001b[0m \u001b[38;5;28;01mif\u001b[39;00m (d \u001b[38;5;241m*\u001b[39m (d \u001b[38;5;241m-\u001b[39m \u001b[38;5;241m1\u001b[39m) \u001b[38;5;241m/\u001b[39m \u001b[38;5;241m2\u001b[39m) \u001b[38;5;241m!=\u001b[39m k:\n",
      "\u001b[0;31mValueError\u001b[0m: The number of observations cannot be determined on an empty distance matrix."
     ]
    },
    {
     "data": {
      "text/plain": [
       "<Figure size 72x144 with 0 Axes>"
      ]
     },
     "metadata": {},
     "output_type": "display_data"
    },
    {
     "data": {
      "image/png": "[encoded data removed]",
      "text/plain": [
       "<Figure size 144x720 with 4 Axes>"
      ]
     },
     "metadata": {
      "needs_background": "light"
     },
     "output_type": "display_data"
    }
   ],
   "source": [
    "import pandas as pd\n",
    "import seaborn as sns\n",
    "import matplotlib.pyplot as plt\n",
    "\n",
    "# Assuming frame is your DataFrame\n",
    "# frame = pd.read_csv('../processed_data/common_var/lipid_synthesis_gsets.csv')\n",
    "\n",
    "# Create a pivot table for better visualization in the heatmap\n",
    "pivot_frame = frame.pivot_table(index='description', columns='grp', values='scores')\n",
    "filtered_frame = pivot_frame[(pivot_frame.abs() > 1.3).any(axis=1)]\n",
    "\n",
    "filtered_frame.fillna(0, inplace=True)\n",
    "\n",
    "# Create a heatmap\n",
    "plt.figure(figsize=(1, 2))  # Adjust the figure size as needed\n",
    "clustered_heatmap = sns.clustermap(filtered_frame, cmap='RdBu', annot=True, fmt='.2f', linewidths=.5, method='complete', center = 0, figsize=(2, 10))\n",
    "\n",
    "# Add a title to the heatmap\n",
    "plt.suptitle('Clustered Heatmap of Scores for Lipid Synthesis Gene Sets', y=1.02)\n",
    "\n",
    "# Show the plot\n",
    "plt.show()"
   ]
  },
  {
   "cell_type": "code",
   "execution_count": 10,
   "id": "385a1381-e1c8-4252-8f83-9f10481c9c78",
   "metadata": {},
   "outputs": [
    {
     "data": {
      "text/plain": [
       "Text(0.1, 0.5, 'Scores')"
      ]
     },
     "execution_count": 10,
     "metadata": {},
     "output_type": "execute_result"
    },
    {
     "data": {
      "image/png": "[encoded data removed]",
      "text/plain": [
       "<Figure size 360x180 with 4 Axes>"
      ]
     },
     "metadata": {
      "needs_background": "light"
     },
     "output_type": "display_data"
    },
    {
     "data": {
      "text/plain": [
       "<Figure size 180x360 with 0 Axes>"
      ]
     },
     "metadata": {},
     "output_type": "display_data"
    },
    {
     "data": {
      "text/plain": [
       "<Figure size 180x360 with 0 Axes>"
      ]
     },
     "metadata": {},
     "output_type": "display_data"
    },
    {
     "data": {
      "text/plain": [
       "<Figure size 180x360 with 0 Axes>"
      ]
     },
     "metadata": {},
     "output_type": "display_data"
    },
    {
     "data": {
      "text/plain": [
       "<Figure size 180x360 with 0 Axes>"
      ]
     },
     "metadata": {},
     "output_type": "display_data"
    }
   ],
   "source": [
    "\n",
    "\n",
    "fig, axes = plt.subplots( 1,4, sharey=True, figsize=(5,2.5))\n",
    "\n",
    "for i in range(len(np.unique(TEMP['Var1']))):\n",
    "    plt.figure(figsize = (2.5,5))\n",
    "    temp = TEMP[TEMP['Var1']==np.unique(TEMP['Var1'])[i]]\n",
    "    #temp['scores'] = np.abs(temp['scores'])\n",
    "    boxplot = sns.boxplot(data = temp, x = 'grp', y='scores', ax=axes[i],             boxprops=dict(alpha=.7,facecolor=colors[i], edgecolor=colors[i]), whiskerprops=dict(color=colors[i]),             medianprops=dict(color=colors[i]),\n",
    "            capprops=dict(color=colors[i]), flierprops=dict(markeredgecolor=colors[i], marker='.', markersize=0, markerfacecolor=colors[i], ), order=['p.Ala1527Gly', 'LoF variants'], orient='v')\n",
    "    \n",
    "    l1 = axes[i].lines[0]\n",
    "\n",
    "    x1 = l1.get_xydata()[:, 0]\n",
    "    y1 = l1.get_xydata()[:, 1]\n",
    "    \n",
    "    axes[i].spines[['right', 'top']].set_visible(False)\n",
    "    axes[i].set_title(np.unique(TEMP['Var1'])[i],loc='left')#, y=.3, x=.05)\n",
    "    #axes[i].axvline(np.mean(temp[i]), color=colors[i])#, linestyle='dotted')\n",
    "    axes[i].axhline(0, color='black', linestyle='dotted')\n",
    "    axes[i].fill_between(x1, y1, color=colors[i], alpha=0.3)\n",
    "    axes[i].set_ylabel('')\n",
    "    axes[i].set_xticklabels(axes[i].get_xticklabels(), rotation=45, ha='right') \n",
    "\n",
    "\n",
    "     # Rotate x-axis labels\n",
    "\n",
    "# Add common title for the y-axis\n",
    "fig.text(0.1, 0.5, 'Scores', ha='center', va='center', rotation='vertical')\n",
    "\n",
    "#fig.savefig('../pdf_figures/common_var_clusters.pdf')"
   ]
  },
  {
   "cell_type": "code",
   "execution_count": 231,
   "id": "d4556c7f-adf1-4ed6-8ab6-c85a4b51f93f",
   "metadata": {},
   "outputs": [],
   "source": [
    "######## show common vs rare variant -specific pathway- perturbation patterns\n",
    "\n",
    "#frame = pd.read_csv('../processed_data/common_var/fat_ox_gsets.csv')\n",
    "frame = pd.read_csv('../processed_data/common_var/stress_ox_gsets.csv')\n",
    "\n",
    "scores = pd.read_csv('../processed_data/common_var/rs3752246_binary_scores.csv', index_col = 0)\n",
    "scores['description'] = scores.index\n",
    "temp = pd.merge(scores, frame, left_on = 'description', right_on='value')\n",
    "temp['grp'] = 'p.Ala1527Gly'\n",
    "\n",
    "scores = pd.read_csv('../processed_data/single_cell/all_scores_0825.csv', index_col=0)\n",
    "scores = pd.DataFrame(scores['Ex'])\n",
    "scores = scores.rename(columns={\"Ex\": \"scores\"})\n",
    "scores['description'] = scores.index\n",
    "temp2 = pd.merge(scores, frame, left_on = 'description', right_on='value')\n",
    "temp2['grp'] = 'LoF variants'\n",
    "TEMP = pd.concat((temp, temp2), axis=0)"
   ]
  },
  {
   "cell_type": "code",
   "execution_count": 232,
   "id": "1a3a242d-3190-48b8-ad46-82b925ce7200",
   "metadata": {},
   "outputs": [
    {
     "ename": "IndexError",
     "evalue": "index 4 is out of bounds for axis 0 with size 4",
     "output_type": "error",
     "traceback": [
      "\u001b[0;31m---------------------------------------------------------------------------\u001b[0m",
      "\u001b[0;31mIndexError\u001b[0m                                Traceback (most recent call last)",
      "Input \u001b[0;32mIn [232]\u001b[0m, in \u001b[0;36m<cell line: 3>\u001b[0;34m()\u001b[0m\n\u001b[1;32m      5\u001b[0m temp \u001b[38;5;241m=\u001b[39m TEMP[TEMP[\u001b[38;5;124m'\u001b[39m\u001b[38;5;124mVar1\u001b[39m\u001b[38;5;124m'\u001b[39m]\u001b[38;5;241m==\u001b[39mnp\u001b[38;5;241m.\u001b[39munique(TEMP[\u001b[38;5;124m'\u001b[39m\u001b[38;5;124mVar1\u001b[39m\u001b[38;5;124m'\u001b[39m])[i]]\n\u001b[1;32m      6\u001b[0m \u001b[38;5;66;03m#temp['scores'] = np.abs(temp['scores'])\u001b[39;00m\n\u001b[0;32m----> 7\u001b[0m boxplot \u001b[38;5;241m=\u001b[39m sns\u001b[38;5;241m.\u001b[39mboxplot(data \u001b[38;5;241m=\u001b[39m temp, x \u001b[38;5;241m=\u001b[39m \u001b[38;5;124m'\u001b[39m\u001b[38;5;124mgrp\u001b[39m\u001b[38;5;124m'\u001b[39m, y\u001b[38;5;241m=\u001b[39m\u001b[38;5;124m'\u001b[39m\u001b[38;5;124mscores\u001b[39m\u001b[38;5;124m'\u001b[39m, ax\u001b[38;5;241m=\u001b[39m\u001b[43maxes\u001b[49m\u001b[43m[\u001b[49m\u001b[43mi\u001b[49m\u001b[43m]\u001b[49m,             boxprops\u001b[38;5;241m=\u001b[39m\u001b[38;5;28mdict\u001b[39m(alpha\u001b[38;5;241m=\u001b[39m\u001b[38;5;241m.7\u001b[39m,facecolor\u001b[38;5;241m=\u001b[39mcolors[i], edgecolor\u001b[38;5;241m=\u001b[39mcolors[i]), whiskerprops\u001b[38;5;241m=\u001b[39m\u001b[38;5;28mdict\u001b[39m(color\u001b[38;5;241m=\u001b[39mcolors[i]),             medianprops\u001b[38;5;241m=\u001b[39m\u001b[38;5;28mdict\u001b[39m(color\u001b[38;5;241m=\u001b[39mcolors[i]),\n\u001b[1;32m      8\u001b[0m         capprops\u001b[38;5;241m=\u001b[39m\u001b[38;5;28mdict\u001b[39m(color\u001b[38;5;241m=\u001b[39mcolors[i]), flierprops\u001b[38;5;241m=\u001b[39m\u001b[38;5;28mdict\u001b[39m(markeredgecolor\u001b[38;5;241m=\u001b[39mcolors[i], marker\u001b[38;5;241m=\u001b[39m\u001b[38;5;124m'\u001b[39m\u001b[38;5;124m.\u001b[39m\u001b[38;5;124m'\u001b[39m, markersize\u001b[38;5;241m=\u001b[39m\u001b[38;5;241m0\u001b[39m, markerfacecolor\u001b[38;5;241m=\u001b[39mcolors[i], ), order\u001b[38;5;241m=\u001b[39m[\u001b[38;5;124m'\u001b[39m\u001b[38;5;124mp.Ala1527Gly\u001b[39m\u001b[38;5;124m'\u001b[39m, \u001b[38;5;124m'\u001b[39m\u001b[38;5;124mLoF variants\u001b[39m\u001b[38;5;124m'\u001b[39m], orient\u001b[38;5;241m=\u001b[39m\u001b[38;5;124m'\u001b[39m\u001b[38;5;124mv\u001b[39m\u001b[38;5;124m'\u001b[39m)\n\u001b[1;32m     10\u001b[0m l1 \u001b[38;5;241m=\u001b[39m axes[i]\u001b[38;5;241m.\u001b[39mlines[\u001b[38;5;241m0\u001b[39m]\n\u001b[1;32m     12\u001b[0m x1 \u001b[38;5;241m=\u001b[39m l1\u001b[38;5;241m.\u001b[39mget_xydata()[:, \u001b[38;5;241m0\u001b[39m]\n",
      "\u001b[0;31mIndexError\u001b[0m: index 4 is out of bounds for axis 0 with size 4"
     ]
    },
    {
     "data": {
      "image/png": "[encoded data removed]",
      "text/plain": [
       "<Figure size 360x180 with 4 Axes>"
      ]
     },
     "metadata": {
      "needs_background": "light"
     },
     "output_type": "display_data"
    },
    {
     "data": {
      "text/plain": [
       "<Figure size 180x360 with 0 Axes>"
      ]
     },
     "metadata": {},
     "output_type": "display_data"
    },
    {
     "data": {
      "text/plain": [
       "<Figure size 180x360 with 0 Axes>"
      ]
     },
     "metadata": {},
     "output_type": "display_data"
    },
    {
     "data": {
      "text/plain": [
       "<Figure size 180x360 with 0 Axes>"
      ]
     },
     "metadata": {},
     "output_type": "display_data"
    },
    {
     "data": {
      "text/plain": [
       "<Figure size 180x360 with 0 Axes>"
      ]
     },
     "metadata": {},
     "output_type": "display_data"
    },
    {
     "data": {
      "text/plain": [
       "<Figure size 180x360 with 0 Axes>"
      ]
     },
     "metadata": {},
     "output_type": "display_data"
    }
   ],
   "source": [
    "\n",
    "\n",
    "fig, axes = plt.subplots( 1,4, sharey=True, figsize=(5,2.5))\n",
    "\n",
    "for i in range(len(np.unique(TEMP['Var1']))):\n",
    "    plt.figure(figsize = (2.5,5))\n",
    "    temp = TEMP[TEMP['Var1']==np.unique(TEMP['Var1'])[i]]\n",
    "    #temp['scores'] = np.abs(temp['scores'])\n",
    "    boxplot = sns.boxplot(data = temp, x = 'grp', y='scores', ax=axes[i],             boxprops=dict(alpha=.7,facecolor=colors[i], edgecolor=colors[i]), whiskerprops=dict(color=colors[i]),             medianprops=dict(color=colors[i]),\n",
    "            capprops=dict(color=colors[i]), flierprops=dict(markeredgecolor=colors[i], marker='.', markersize=0, markerfacecolor=colors[i], ), order=['p.Ala1527Gly', 'LoF variants'], orient='v')\n",
    "    \n",
    "    l1 = axes[i].lines[0]\n",
    "\n",
    "    x1 = l1.get_xydata()[:, 0]\n",
    "    y1 = l1.get_xydata()[:, 1]\n",
    "    \n",
    "    axes[i].spines[['right', 'top']].set_visible(False)\n",
    "    axes[i].set_title(np.unique(TEMP['Var1'])[i],loc='left')#, y=.3, x=.05)\n",
    "    #axes[i].axvline(np.mean(temp[i]), color=colors[i])#, linestyle='dotted')\n",
    "    axes[i].axhline(0, color='black', linestyle='dotted')\n",
    "    axes[i].fill_between(x1, y1, color=colors[i], alpha=0.3)\n",
    "    axes[i].set_ylabel('')\n",
    "    axes[i].set_xticklabels(axes[i].get_xticklabels(), rotation=45, ha='right') \n",
    "\n",
    "\n",
    "     # Rotate x-axis labels\n",
    "\n",
    "# Add common title for the y-axis\n",
    "fig.text(0.1, 0.5, 'Scores', ha='center', va='center', rotation='vertical')\n",
    "\n",
    "#fig.savefig('../pdf_figures/common_var_clusters.pdf')"
   ]
  },
  {
   "cell_type": "code",
   "execution_count": 233,
   "id": "4ef84c9c-723e-4f8e-8beb-2aa81e581f89",
   "metadata": {},
   "outputs": [],
   "source": [
    "######## show common vs rare variant -specific pathway- perturbation patterns\n",
    "\n",
    "frame = pd.read_csv('../processed_data/common_var/stress_ox_gsets.csv')\n",
    "\n",
    "scores = pd.read_csv('../processed_data/common_var/rs3752246_binary_scores.csv', index_col = 0)\n",
    "scores['description'] = scores.index\n",
    "temp = pd.merge(scores, frame, left_on = 'description', right_on='value')\n",
    "temp['grp'] = 'p.Ala1527Gly'\n",
    "\n",
    "scores = pd.read_csv('../processed_data/single_cell/all_scores_0825.csv', index_col=0)\n",
    "scores = pd.DataFrame(scores['Ex'])\n",
    "scores = scores.rename(columns={\"Ex\": \"scores\"})\n",
    "scores['description'] = scores.index\n",
    "temp2 = pd.merge(scores, frame, left_on = 'description', right_on='value')\n",
    "temp2['grp'] = 'LoF variants'\n",
    "TEMP = pd.concat((temp, temp2), axis=0)"
   ]
  },
  {
   "cell_type": "code",
   "execution_count": 234,
   "id": "ffc7e2d2-6079-424a-9c7c-c0f8bc91a6b0",
   "metadata": {},
   "outputs": [],
   "source": [
    "frame = TEMP"
   ]
  },
  {
   "cell_type": "code",
   "execution_count": 235,
   "id": "e8ede859-273c-480d-833d-919bd7119080",
   "metadata": {},
   "outputs": [
    {
     "name": "stderr",
     "output_type": "stream",
     "text": [
      "/state/partition1/slurm_tmp/24587997.0.0/ipykernel_1948082/3883561615.py:12: SettingWithCopyWarning: \n",
      "A value is trying to be set on a copy of a slice from a DataFrame\n",
      "\n",
      "See the caveats in the documentation: https://pandas.pydata.org/pandas-docs/stable/user_guide/indexing.html#returning-a-view-versus-a-copy\n",
      "  filtered_frame.fillna(0, inplace=True)\n"
     ]
    },
    {
     "data": {
      "text/plain": [
       "<Figure size 72x144 with 0 Axes>"
      ]
     },
     "metadata": {},
     "output_type": "display_data"
    },
    {
     "data": {
      "image/png": "[encoded data removed]",
      "text/plain": [
       "<Figure size 144x720 with 4 Axes>"
      ]
     },
     "metadata": {
      "needs_background": "light"
     },
     "output_type": "display_data"
    }
   ],
   "source": [
    "import pandas as pd\n",
    "import seaborn as sns\n",
    "import matplotlib.pyplot as plt\n",
    "\n",
    "# Assuming frame is your DataFrame\n",
    "# frame = pd.read_csv('../processed_data/common_var/lipid_synthesis_gsets.csv')\n",
    "\n",
    "# Create a pivot table for better visualization in the heatmap\n",
    "pivot_frame = frame.pivot_table(index='description', columns='grp', values='scores')\n",
    "filtered_frame = pivot_frame[(pivot_frame.abs() > 1.3).any(axis=1)]\n",
    "\n",
    "filtered_frame.fillna(0, inplace=True)\n",
    "\n",
    "# Create a heatmap\n",
    "plt.figure(figsize=(1, 2))  # Adjust the figure size as needed\n",
    "clustered_heatmap = sns.clustermap(filtered_frame, cmap='RdBu', annot=True, fmt='.2f', linewidths=.5, method='complete', center = 0, figsize=(2, 10))\n",
    "\n",
    "# Add a title to the heatmap\n",
    "plt.suptitle('Clustered Heatmap of Scores for Lipid Synthesis Gene Sets', y=1.02)\n",
    "\n",
    "# Show the plot\n",
    "plt.show()"
   ]
  },
  {
   "cell_type": "code",
   "execution_count": 139,
   "id": "08770309-8708-455c-b631-709d1f06acfb",
   "metadata": {},
   "outputs": [
    {
     "name": "stderr",
     "output_type": "stream",
     "text": [
      "/state/partition1/slurm_tmp/24587997.0.0/ipykernel_1948082/2755113676.py:39: UserWarning: FixedFormatter should only be used together with FixedLocator\n",
      "  axes[i].set_xticklabels(axes[i].get_xticklabels(), rotation=45, ha='right')\n"
     ]
    },
    {
     "data": {
      "text/plain": [
       "Text(0.1, 0.5, 'Scores')"
      ]
     },
     "execution_count": 139,
     "metadata": {},
     "output_type": "execute_result"
    },
    {
     "data": {
      "image/png": "[encoded data removed]",
      "text/plain": [
       "<Figure size 162x648 with 8 Axes>"
      ]
     },
     "metadata": {
      "needs_background": "light"
     },
     "output_type": "display_data"
    },
    {
     "data": {
      "text/plain": [
       "<Figure size 72x360 with 0 Axes>"
      ]
     },
     "metadata": {},
     "output_type": "display_data"
    },
    {
     "data": {
      "text/plain": [
       "<Figure size 72x360 with 0 Axes>"
      ]
     },
     "metadata": {},
     "output_type": "display_data"
    },
    {
     "data": {
      "text/plain": [
       "<Figure size 72x360 with 0 Axes>"
      ]
     },
     "metadata": {},
     "output_type": "display_data"
    },
    {
     "data": {
      "text/plain": [
       "<Figure size 72x360 with 0 Axes>"
      ]
     },
     "metadata": {},
     "output_type": "display_data"
    },
    {
     "data": {
      "text/plain": [
       "<Figure size 72x360 with 0 Axes>"
      ]
     },
     "metadata": {},
     "output_type": "display_data"
    },
    {
     "data": {
      "text/plain": [
       "<Figure size 72x360 with 0 Axes>"
      ]
     },
     "metadata": {},
     "output_type": "display_data"
    },
    {
     "data": {
      "text/plain": [
       "<Figure size 72x360 with 0 Axes>"
      ]
     },
     "metadata": {},
     "output_type": "display_data"
    },
    {
     "data": {
      "text/plain": [
       "<Figure size 72x360 with 0 Axes>"
      ]
     },
     "metadata": {},
     "output_type": "display_data"
    }
   ],
   "source": [
    "scores = pd.read_csv('../processed_data/common_var/exp_binary_scores.csv', index_col = 0)\n",
    "scores['description'] = scores.index\n",
    "temp = pd.merge(scores, frame, on = 'description')\n",
    "temp['grp'] = 'Low'\n",
    "\n",
    "scores = pd.read_csv('../processed_data/common_var/rs3752246_binary_scores.csv', index_col = 0)\n",
    "scores['description'] = scores.index\n",
    "temp1 = pd.merge(scores, frame, on = 'description')\n",
    "temp1['grp'] = 'p.Ala1527Gly'\n",
    "\n",
    "scores = pd.read_csv('../processed_data/single_cell/all_scores_0825.csv', index_col=0)\n",
    "scores = pd.DataFrame(scores['Ex'])\n",
    "scores = scores.rename(columns={\"Ex\": \"scores\"})\n",
    "scores['description'] = scores.index\n",
    "temp2 = pd.merge(scores, frame, on = 'description')\n",
    "temp2['grp'] = 'LoF variants'\n",
    "TEMP = pd.concat((temp, temp1, temp2), axis=0)\n",
    "\n",
    "fig, axes = plt.subplots(8, 1, sharex=True, figsize=(2.25,9))\n",
    "\n",
    "for i in np.unique(TEMP['cluster']):\n",
    "    plt.figure(figsize = (1,5))\n",
    "    temp = TEMP[TEMP['cluster']==i]\n",
    "    #temp['scores'] = np.abs(temp['scores'])\n",
    "    boxplot = sns.boxplot(data = temp, y = 'grp', x='scores',color=colors[i], ax=axes[i],             boxprops=dict(alpha=.7,facecolor=colors[i], edgecolor=colors[i]), whiskerprops=dict(color=colors[i]),             medianprops=dict(color=colors[i]),\n",
    "            capprops=dict(color=colors[i]),             flierprops=dict(markeredgecolor=colors[i], marker='.', markersize=0, markerfacecolor=colors[i], ), order=['Low','p.Ala1527Gly', 'LoF variants'], orient='h')\n",
    "    \n",
    "    l1 = axes[i].lines[0]\n",
    "\n",
    "    x1 = l1.get_xydata()[:, 0]\n",
    "    y1 = l1.get_xydata()[:, 1]\n",
    "    \n",
    "    axes[i].spines[['right', 'top']].set_visible(False)\n",
    "    #axes[i].set_title('cluster '+str(i), loc='left', y=.3, x=.05)\n",
    "    #axes[i].axvline(np.mean(temp[i]), color=colors[i])#, linestyle='dotted')\n",
    "    axes[i].axvline(0, color='black', linestyle='dotted')\n",
    "    axes[i].fill_between(x1, y1, color=colors[i], alpha=0.3)\n",
    "    axes[i].set_ylabel('')\n",
    "    axes[i].set_xticklabels(axes[i].get_xticklabels(), rotation=45, ha='right') \n",
    "\n",
    "\n",
    "     # Rotate x-axis labels\n",
    "\n",
    "# Add common title for the y-axis\n",
    "fig.text(0.1, 0.5, 'Scores', ha='center', va='center', rotation='vertical')\n",
    "\n",
    "#fig.savefig('../pdf_figures/common_var_clusters.pdf')"
   ]
  },
  {
   "cell_type": "code",
   "execution_count": 145,
   "id": "f5bcb173-e7c0-4649-9e49-cde8c33a9330",
   "metadata": {},
   "outputs": [
    {
     "data": {
      "text/plain": [
       "Text(0.5, 0, 'scores')"
      ]
     },
     "execution_count": 145,
     "metadata": {},
     "output_type": "execute_result"
    },
    {
     "data": {
      "image/png": "[encoded data removed]",
      "text/plain": [
       "<Figure size 216x216 with 1 Axes>"
      ]
     },
     "metadata": {
      "needs_background": "light"
     },
     "output_type": "display_data"
    }
   ],
   "source": [
    "# barplot\n",
    "temp = pd.read_csv('../processed_data/common_var/exp_cluster_effects.csv')\n",
    "\n",
    "temp['score'] = np.sign(temp['NES']) * -np.log10(temp['pval'])\n",
    "temp['cluster'] = ['cluster ' + str(x) for x in temp['pathway']]\n",
    "\n",
    "plt.figure(figsize=(3,3))\n",
    "index = np.argsort(-1*temp['pathway'])\n",
    "temp = temp.loc[index]\n",
    "#sns.barplot(data=temp, y='cluster', x='score', palette=colors, orient='h', order=temp['cluster'][np.argsort(temp['pathway'])], height=.2)\n",
    "plt.barh(y=temp['cluster'], width=temp['score'], color=colors[::-1], height=.9, alpha=.5, edgecolor=colors[::-1])\n",
    "plt.box(False)\n",
    "plt.axvline(x=0, color='black', linestyle='--', label='Vertical Line',  linewidth=0.8)\n",
    "plt.axhline(y=-0.5, color='black', linewidth=0.8)\n",
    "plt.xlabel('scores')\n",
    "#plt.savefig('../pdf_figures/common_var_bar.pdf')"
   ]
  },
  {
   "cell_type": "code",
   "execution_count": 146,
   "id": "da7afb95-0c6f-4912-bae5-9a3efb9e835f",
   "metadata": {},
   "outputs": [
    {
     "data": {
      "image/png": "[encoded data removed]",
      "text/plain": [
       "<Figure size 216x216 with 1 Axes>"
      ]
     },
     "metadata": {
      "needs_background": "light"
     },
     "output_type": "display_data"
    }
   ],
   "source": [
    "# barplot\n",
    "temp = pd.read_csv('../processed_data/common_var/rs3755246_cluster_effects.csv')\n",
    "\n",
    "temp['score'] = np.sign(temp['NES']) * -np.log10(temp['pval'])\n",
    "temp['cluster'] = ['cluster ' + str(x) for x in temp['pathway']]\n",
    "\n",
    "plt.figure(figsize=(3,3))\n",
    "index = np.argsort(-1*temp['pathway'])\n",
    "temp = temp.loc[index]\n",
    "#sns.barplot(data=temp, y='cluster', x='score', palette=colors, orient='h', order=temp['cluster'][np.argsort(temp['pathway'])], height=.2)\n",
    "plt.barh(y=temp['cluster'], width=temp['score'], color=colors[::-1], height=.9, alpha=.5, edgecolor=colors[::-1])\n",
    "plt.box(False)\n",
    "plt.axvline(x=0, color='black', linestyle='--', label='Vertical Line',  linewidth=0.8)\n",
    "plt.axhline(y=-0.5, color='black', linewidth=0.8)\n",
    "plt.xlabel('scores')\n",
    "plt.savefig('../pdf_figures/common_var_bar.pdf')"
   ]
  },
  {
   "cell_type": "code",
   "execution_count": 147,
   "id": "b6c92837-8a95-427b-b3c3-f44c133bda9b",
   "metadata": {},
   "outputs": [
    {
     "data": {
      "text/html": [
       "<div>\n",
       "<style scoped>\n",
       "    .dataframe tbody tr th:only-of-type {\n",
       "        vertical-align: middle;\n",
       "    }\n",
       "\n",
       "    .dataframe tbody tr th {\n",
       "        vertical-align: top;\n",
       "    }\n",
       "\n",
       "    .dataframe thead th {\n",
       "        text-align: right;\n",
       "    }\n",
       "</style>\n",
       "<table border=\"1\" class=\"dataframe\">\n",
       "  <thead>\n",
       "    <tr style=\"text-align: right;\">\n",
       "      <th></th>\n",
       "      <th>Unnamed: 0</th>\n",
       "      <th>pathway</th>\n",
       "      <th>pval</th>\n",
       "      <th>padj</th>\n",
       "      <th>log2err</th>\n",
       "      <th>ES</th>\n",
       "      <th>NES</th>\n",
       "      <th>size</th>\n",
       "      <th>score</th>\n",
       "      <th>cluster</th>\n",
       "    </tr>\n",
       "  </thead>\n",
       "  <tbody>\n",
       "    <tr>\n",
       "      <th>3</th>\n",
       "      <td>4</td>\n",
       "      <td>7</td>\n",
       "      <td>0.053047</td>\n",
       "      <td>0.106093</td>\n",
       "      <td>0.076608</td>\n",
       "      <td>0.455928</td>\n",
       "      <td>1.408364</td>\n",
       "      <td>40</td>\n",
       "      <td>1.275342</td>\n",
       "      <td>cluster 7</td>\n",
       "    </tr>\n",
       "    <tr>\n",
       "      <th>5</th>\n",
       "      <td>6</td>\n",
       "      <td>6</td>\n",
       "      <td>0.338596</td>\n",
       "      <td>0.451462</td>\n",
       "      <td>0.036511</td>\n",
       "      <td>-0.387688</td>\n",
       "      <td>-1.085840</td>\n",
       "      <td>18</td>\n",
       "      <td>-0.470318</td>\n",
       "      <td>cluster 6</td>\n",
       "    </tr>\n",
       "    <tr>\n",
       "      <th>4</th>\n",
       "      <td>5</td>\n",
       "      <td>5</td>\n",
       "      <td>0.312539</td>\n",
       "      <td>0.451462</td>\n",
       "      <td>0.028688</td>\n",
       "      <td>0.358629</td>\n",
       "      <td>1.099306</td>\n",
       "      <td>38</td>\n",
       "      <td>0.505096</td>\n",
       "      <td>cluster 5</td>\n",
       "    </tr>\n",
       "    <tr>\n",
       "      <th>6</th>\n",
       "      <td>7</td>\n",
       "      <td>4</td>\n",
       "      <td>0.668592</td>\n",
       "      <td>0.764105</td>\n",
       "      <td>0.017485</td>\n",
       "      <td>0.323588</td>\n",
       "      <td>0.862752</td>\n",
       "      <td>20</td>\n",
       "      <td>0.174839</td>\n",
       "      <td>cluster 4</td>\n",
       "    </tr>\n",
       "    <tr>\n",
       "      <th>2</th>\n",
       "      <td>3</td>\n",
       "      <td>3</td>\n",
       "      <td>0.040667</td>\n",
       "      <td>0.106093</td>\n",
       "      <td>0.087357</td>\n",
       "      <td>0.456386</td>\n",
       "      <td>1.430772</td>\n",
       "      <td>43</td>\n",
       "      <td>1.390763</td>\n",
       "      <td>cluster 3</td>\n",
       "    </tr>\n",
       "    <tr>\n",
       "      <th>0</th>\n",
       "      <td>1</td>\n",
       "      <td>2</td>\n",
       "      <td>0.007539</td>\n",
       "      <td>0.050774</td>\n",
       "      <td>0.274717</td>\n",
       "      <td>-0.521591</td>\n",
       "      <td>-1.666116</td>\n",
       "      <td>31</td>\n",
       "      <td>-2.122684</td>\n",
       "      <td>cluster 2</td>\n",
       "    </tr>\n",
       "    <tr>\n",
       "      <th>1</th>\n",
       "      <td>2</td>\n",
       "      <td>1</td>\n",
       "      <td>0.012693</td>\n",
       "      <td>0.050774</td>\n",
       "      <td>0.159153</td>\n",
       "      <td>0.517189</td>\n",
       "      <td>1.585338</td>\n",
       "      <td>38</td>\n",
       "      <td>1.896419</td>\n",
       "      <td>cluster 1</td>\n",
       "    </tr>\n",
       "    <tr>\n",
       "      <th>7</th>\n",
       "      <td>8</td>\n",
       "      <td>0</td>\n",
       "      <td>0.835604</td>\n",
       "      <td>0.835604</td>\n",
       "      <td>0.013323</td>\n",
       "      <td>0.250252</td>\n",
       "      <td>0.767096</td>\n",
       "      <td>38</td>\n",
       "      <td>0.078000</td>\n",
       "      <td>cluster 0</td>\n",
       "    </tr>\n",
       "  </tbody>\n",
       "</table>\n",
       "</div>"
      ],
      "text/plain": [
       "   Unnamed: 0  pathway      pval      padj   log2err        ES       NES  \\\n",
       "3           4        7  0.053047  0.106093  0.076608  0.455928  1.408364   \n",
       "5           6        6  0.338596  0.451462  0.036511 -0.387688 -1.085840   \n",
       "4           5        5  0.312539  0.451462  0.028688  0.358629  1.099306   \n",
       "6           7        4  0.668592  0.764105  0.017485  0.323588  0.862752   \n",
       "2           3        3  0.040667  0.106093  0.087357  0.456386  1.430772   \n",
       "0           1        2  0.007539  0.050774  0.274717 -0.521591 -1.666116   \n",
       "1           2        1  0.012693  0.050774  0.159153  0.517189  1.585338   \n",
       "7           8        0  0.835604  0.835604  0.013323  0.250252  0.767096   \n",
       "\n",
       "   size     score    cluster  \n",
       "3    40  1.275342  cluster 7  \n",
       "5    18 -0.470318  cluster 6  \n",
       "4    38  0.505096  cluster 5  \n",
       "6    20  0.174839  cluster 4  \n",
       "2    43  1.390763  cluster 3  \n",
       "0    31 -2.122684  cluster 2  \n",
       "1    38  1.896419  cluster 1  \n",
       "7    38  0.078000  cluster 0  "
      ]
     },
     "execution_count": 147,
     "metadata": {},
     "output_type": "execute_result"
    }
   ],
   "source": [
    "temp"
   ]
  },
  {
   "cell_type": "markdown",
   "id": "1dcb876d-9619-4b6d-8537-e6a5f7809db5",
   "metadata": {},
   "source": [
    "### module correlations"
   ]
  },
  {
   "cell_type": "code",
   "execution_count": 123,
   "id": "7d072300-4e4e-4dca-bc91-75379bba4633",
   "metadata": {},
   "outputs": [],
   "source": [
    "out = pd.read_csv('../processed_data/common_var/gsva_out.csv', index_col=0)"
   ]
  },
  {
   "cell_type": "code",
   "execution_count": 62,
   "id": "37f8120d-525f-46c5-a911-3e434d5cb3f9",
   "metadata": {},
   "outputs": [],
   "source": [
    "meta = pd.read_csv('../processed_data/common_var/meta.csv', index_col=0)"
   ]
  },
  {
   "cell_type": "code",
   "execution_count": 88,
   "id": "a9da60b8-ab58-406f-b90d-a869ce622ae6",
   "metadata": {},
   "outputs": [
    {
     "data": {
      "text/plain": [
       "(8, 227)"
      ]
     },
     "execution_count": 88,
     "metadata": {},
     "output_type": "execute_result"
    }
   ],
   "source": [
    "out.shape"
   ]
  },
  {
   "cell_type": "code",
   "execution_count": 63,
   "id": "da73d016-cf6e-42fb-8a28-6926044ff17d",
   "metadata": {},
   "outputs": [
    {
     "data": {
      "text/html": [
       "<div>\n",
       "<style scoped>\n",
       "    .dataframe tbody tr th:only-of-type {\n",
       "        vertical-align: middle;\n",
       "    }\n",
       "\n",
       "    .dataframe tbody tr th {\n",
       "        vertical-align: top;\n",
       "    }\n",
       "\n",
       "    .dataframe thead th {\n",
       "        text-align: right;\n",
       "    }\n",
       "</style>\n",
       "<table border=\"1\" class=\"dataframe\">\n",
       "  <thead>\n",
       "    <tr style=\"text-align: right;\">\n",
       "      <th></th>\n",
       "      <th>Row.names</th>\n",
       "      <th>X0</th>\n",
       "      <th>WGSid</th>\n",
       "      <th>projid</th>\n",
       "      <th>study</th>\n",
       "      <th>pmi</th>\n",
       "      <th>age_death</th>\n",
       "      <th>msex</th>\n",
       "      <th>amyloid</th>\n",
       "      <th>ceradsc</th>\n",
       "      <th>...</th>\n",
       "      <th>ABCA1</th>\n",
       "      <th>ABCA7</th>\n",
       "      <th>ATP8B4</th>\n",
       "      <th>TREM2</th>\n",
       "      <th>colSums(df[var_info$LOF.y == 1, ])</th>\n",
       "      <th>rs3752246</th>\n",
       "      <th>seq_batch</th>\n",
       "      <th>apoe</th>\n",
       "      <th>rs3752246_binary</th>\n",
       "      <th>exp</th>\n",
       "    </tr>\n",
       "  </thead>\n",
       "  <tbody>\n",
       "    <tr>\n",
       "      <th>11409232</th>\n",
       "      <td>11409232</td>\n",
       "      <td>SM-CJGIM</td>\n",
       "      <td>SM-CJGIM</td>\n",
       "      <td>11409232</td>\n",
       "      <td>ROS</td>\n",
       "      <td>1.333333</td>\n",
       "      <td>80.098563</td>\n",
       "      <td>1</td>\n",
       "      <td>0.000000</td>\n",
       "      <td>4</td>\n",
       "      <td>...</td>\n",
       "      <td>0</td>\n",
       "      <td>0</td>\n",
       "      <td>0</td>\n",
       "      <td>0</td>\n",
       "      <td>0</td>\n",
       "      <td>0</td>\n",
       "      <td>171013Tsa</td>\n",
       "      <td>0</td>\n",
       "      <td>0</td>\n",
       "      <td>22.047390</td>\n",
       "    </tr>\n",
       "    <tr>\n",
       "      <th>11336574</th>\n",
       "      <td>11336574</td>\n",
       "      <td>SM-CTEGO</td>\n",
       "      <td>SM-CTEGO</td>\n",
       "      <td>11336574</td>\n",
       "      <td>ROS</td>\n",
       "      <td>3.500000</td>\n",
       "      <td>89.026694</td>\n",
       "      <td>1</td>\n",
       "      <td>7.365714</td>\n",
       "      <td>1</td>\n",
       "      <td>...</td>\n",
       "      <td>0</td>\n",
       "      <td>0</td>\n",
       "      <td>0</td>\n",
       "      <td>0</td>\n",
       "      <td>0</td>\n",
       "      <td>0</td>\n",
       "      <td>171013Tsa</td>\n",
       "      <td>1</td>\n",
       "      <td>0</td>\n",
       "      <td>17.717605</td>\n",
       "    </tr>\n",
       "    <tr>\n",
       "      <th>20207013</th>\n",
       "      <td>20207013</td>\n",
       "      <td>SM-CJGLH</td>\n",
       "      <td>SM-CJGLH</td>\n",
       "      <td>20207013</td>\n",
       "      <td>ROS</td>\n",
       "      <td>4.166667</td>\n",
       "      <td>96.016427</td>\n",
       "      <td>0</td>\n",
       "      <td>0.000000</td>\n",
       "      <td>4</td>\n",
       "      <td>...</td>\n",
       "      <td>0</td>\n",
       "      <td>0</td>\n",
       "      <td>0</td>\n",
       "      <td>0</td>\n",
       "      <td>0</td>\n",
       "      <td>0</td>\n",
       "      <td>171013Tsa</td>\n",
       "      <td>0</td>\n",
       "      <td>0</td>\n",
       "      <td>35.275567</td>\n",
       "    </tr>\n",
       "    <tr>\n",
       "      <th>10514454</th>\n",
       "      <td>10514454</td>\n",
       "      <td>SM-CJK5N</td>\n",
       "      <td>SM-CJK5N</td>\n",
       "      <td>10514454</td>\n",
       "      <td>ROS</td>\n",
       "      <td>16.750000</td>\n",
       "      <td>79.534565</td>\n",
       "      <td>1</td>\n",
       "      <td>0.000000</td>\n",
       "      <td>4</td>\n",
       "      <td>...</td>\n",
       "      <td>0</td>\n",
       "      <td>0</td>\n",
       "      <td>0</td>\n",
       "      <td>0</td>\n",
       "      <td>0</td>\n",
       "      <td>0</td>\n",
       "      <td>171013Tsa</td>\n",
       "      <td>0</td>\n",
       "      <td>0</td>\n",
       "      <td>33.205221</td>\n",
       "    </tr>\n",
       "    <tr>\n",
       "      <th>10290265</th>\n",
       "      <td>10290265</td>\n",
       "      <td>SM-CTEM3</td>\n",
       "      <td>SM-CTEM3</td>\n",
       "      <td>10290265</td>\n",
       "      <td>ROS</td>\n",
       "      <td>20.483333</td>\n",
       "      <td>86.403833</td>\n",
       "      <td>1</td>\n",
       "      <td>2.878333</td>\n",
       "      <td>1</td>\n",
       "      <td>...</td>\n",
       "      <td>0</td>\n",
       "      <td>0</td>\n",
       "      <td>0</td>\n",
       "      <td>0</td>\n",
       "      <td>0</td>\n",
       "      <td>0</td>\n",
       "      <td>171013Tsa</td>\n",
       "      <td>0</td>\n",
       "      <td>0</td>\n",
       "      <td>90.212755</td>\n",
       "    </tr>\n",
       "    <tr>\n",
       "      <th>...</th>\n",
       "      <td>...</td>\n",
       "      <td>...</td>\n",
       "      <td>...</td>\n",
       "      <td>...</td>\n",
       "      <td>...</td>\n",
       "      <td>...</td>\n",
       "      <td>...</td>\n",
       "      <td>...</td>\n",
       "      <td>...</td>\n",
       "      <td>...</td>\n",
       "      <td>...</td>\n",
       "      <td>...</td>\n",
       "      <td>...</td>\n",
       "      <td>...</td>\n",
       "      <td>...</td>\n",
       "      <td>...</td>\n",
       "      <td>...</td>\n",
       "      <td>...</td>\n",
       "      <td>...</td>\n",
       "      <td>...</td>\n",
       "      <td>...</td>\n",
       "    </tr>\n",
       "    <tr>\n",
       "      <th>20500815</th>\n",
       "      <td>20500815</td>\n",
       "      <td>SM-CTDSF</td>\n",
       "      <td>SM-CTDSF</td>\n",
       "      <td>20500815</td>\n",
       "      <td>ROS</td>\n",
       "      <td>5.000000</td>\n",
       "      <td>90.297057</td>\n",
       "      <td>0</td>\n",
       "      <td>0.928125</td>\n",
       "      <td>2</td>\n",
       "      <td>...</td>\n",
       "      <td>0</td>\n",
       "      <td>0</td>\n",
       "      <td>0</td>\n",
       "      <td>0</td>\n",
       "      <td>0</td>\n",
       "      <td>0</td>\n",
       "      <td>last_16</td>\n",
       "      <td>0</td>\n",
       "      <td>0</td>\n",
       "      <td>8.028455</td>\n",
       "    </tr>\n",
       "    <tr>\n",
       "      <th>51624179</th>\n",
       "      <td>51624179</td>\n",
       "      <td>SM-CTEIP</td>\n",
       "      <td>SM-CTEIP</td>\n",
       "      <td>51624179</td>\n",
       "      <td>MAP</td>\n",
       "      <td>8.250000</td>\n",
       "      <td>91.800137</td>\n",
       "      <td>0</td>\n",
       "      <td>11.892500</td>\n",
       "      <td>1</td>\n",
       "      <td>...</td>\n",
       "      <td>0</td>\n",
       "      <td>0</td>\n",
       "      <td>0</td>\n",
       "      <td>0</td>\n",
       "      <td>0</td>\n",
       "      <td>0</td>\n",
       "      <td>last_16</td>\n",
       "      <td>1</td>\n",
       "      <td>0</td>\n",
       "      <td>18.391897</td>\n",
       "    </tr>\n",
       "    <tr>\n",
       "      <th>22789958</th>\n",
       "      <td>22789958</td>\n",
       "      <td>SM-CJJ1N</td>\n",
       "      <td>SM-CJJ1N</td>\n",
       "      <td>22789958</td>\n",
       "      <td>MAP</td>\n",
       "      <td>5.783333</td>\n",
       "      <td>99.164956</td>\n",
       "      <td>1</td>\n",
       "      <td>5.673333</td>\n",
       "      <td>2</td>\n",
       "      <td>...</td>\n",
       "      <td>0</td>\n",
       "      <td>0</td>\n",
       "      <td>0</td>\n",
       "      <td>0</td>\n",
       "      <td>0</td>\n",
       "      <td>0</td>\n",
       "      <td>last_16</td>\n",
       "      <td>0</td>\n",
       "      <td>0</td>\n",
       "      <td>26.171242</td>\n",
       "    </tr>\n",
       "    <tr>\n",
       "      <th>18659212</th>\n",
       "      <td>18659212</td>\n",
       "      <td>SM-CJGI1</td>\n",
       "      <td>SM-CJGI1</td>\n",
       "      <td>18659212</td>\n",
       "      <td>MAP</td>\n",
       "      <td>6.800000</td>\n",
       "      <td>91.731691</td>\n",
       "      <td>1</td>\n",
       "      <td>1.741562</td>\n",
       "      <td>3</td>\n",
       "      <td>...</td>\n",
       "      <td>0</td>\n",
       "      <td>0</td>\n",
       "      <td>0</td>\n",
       "      <td>0</td>\n",
       "      <td>0</td>\n",
       "      <td>0</td>\n",
       "      <td>last_16</td>\n",
       "      <td>0</td>\n",
       "      <td>0</td>\n",
       "      <td>33.306738</td>\n",
       "    </tr>\n",
       "    <tr>\n",
       "      <th>41285665</th>\n",
       "      <td>41285665</td>\n",
       "      <td>SM-CJJ1F</td>\n",
       "      <td>SM-CJJ1F</td>\n",
       "      <td>41285665</td>\n",
       "      <td>MAP</td>\n",
       "      <td>5.916667</td>\n",
       "      <td>91.340178</td>\n",
       "      <td>0</td>\n",
       "      <td>0.121875</td>\n",
       "      <td>4</td>\n",
       "      <td>...</td>\n",
       "      <td>0</td>\n",
       "      <td>0</td>\n",
       "      <td>0</td>\n",
       "      <td>0</td>\n",
       "      <td>0</td>\n",
       "      <td>0</td>\n",
       "      <td>last_16</td>\n",
       "      <td>0</td>\n",
       "      <td>0</td>\n",
       "      <td>28.055966</td>\n",
       "    </tr>\n",
       "  </tbody>\n",
       "</table>\n",
       "<p>227 rows × 110 columns</p>\n",
       "</div>"
      ],
      "text/plain": [
       "          Row.names        X0     WGSid    projid study        pmi  age_death  \\\n",
       "11409232   11409232  SM-CJGIM  SM-CJGIM  11409232   ROS   1.333333  80.098563   \n",
       "11336574   11336574  SM-CTEGO  SM-CTEGO  11336574   ROS   3.500000  89.026694   \n",
       "20207013   20207013  SM-CJGLH  SM-CJGLH  20207013   ROS   4.166667  96.016427   \n",
       "10514454   10514454  SM-CJK5N  SM-CJK5N  10514454   ROS  16.750000  79.534565   \n",
       "10290265   10290265  SM-CTEM3  SM-CTEM3  10290265   ROS  20.483333  86.403833   \n",
       "...             ...       ...       ...       ...   ...        ...        ...   \n",
       "20500815   20500815  SM-CTDSF  SM-CTDSF  20500815   ROS   5.000000  90.297057   \n",
       "51624179   51624179  SM-CTEIP  SM-CTEIP  51624179   MAP   8.250000  91.800137   \n",
       "22789958   22789958  SM-CJJ1N  SM-CJJ1N  22789958   MAP   5.783333  99.164956   \n",
       "18659212   18659212  SM-CJGI1  SM-CJGI1  18659212   MAP   6.800000  91.731691   \n",
       "41285665   41285665  SM-CJJ1F  SM-CJJ1F  41285665   MAP   5.916667  91.340178   \n",
       "\n",
       "          msex    amyloid  ceradsc  ...  ABCA1  ABCA7  ATP8B4  TREM2  \\\n",
       "11409232     1   0.000000        4  ...      0      0       0      0   \n",
       "11336574     1   7.365714        1  ...      0      0       0      0   \n",
       "20207013     0   0.000000        4  ...      0      0       0      0   \n",
       "10514454     1   0.000000        4  ...      0      0       0      0   \n",
       "10290265     1   2.878333        1  ...      0      0       0      0   \n",
       "...        ...        ...      ...  ...    ...    ...     ...    ...   \n",
       "20500815     0   0.928125        2  ...      0      0       0      0   \n",
       "51624179     0  11.892500        1  ...      0      0       0      0   \n",
       "22789958     1   5.673333        2  ...      0      0       0      0   \n",
       "18659212     1   1.741562        3  ...      0      0       0      0   \n",
       "41285665     0   0.121875        4  ...      0      0       0      0   \n",
       "\n",
       "          colSums(df[var_info$LOF.y == 1, ])  rs3752246  seq_batch apoe  \\\n",
       "11409232                                   0          0  171013Tsa    0   \n",
       "11336574                                   0          0  171013Tsa    1   \n",
       "20207013                                   0          0  171013Tsa    0   \n",
       "10514454                                   0          0  171013Tsa    0   \n",
       "10290265                                   0          0  171013Tsa    0   \n",
       "...                                      ...        ...        ...  ...   \n",
       "20500815                                   0          0    last_16    0   \n",
       "51624179                                   0          0    last_16    1   \n",
       "22789958                                   0          0    last_16    0   \n",
       "18659212                                   0          0    last_16    0   \n",
       "41285665                                   0          0    last_16    0   \n",
       "\n",
       "         rs3752246_binary        exp  \n",
       "11409232                0  22.047390  \n",
       "11336574                0  17.717605  \n",
       "20207013                0  35.275567  \n",
       "10514454                0  33.205221  \n",
       "10290265                0  90.212755  \n",
       "...                   ...        ...  \n",
       "20500815                0   8.028455  \n",
       "51624179                0  18.391897  \n",
       "22789958                0  26.171242  \n",
       "18659212                0  33.306738  \n",
       "41285665                0  28.055966  \n",
       "\n",
       "[227 rows x 110 columns]"
      ]
     },
     "execution_count": 63,
     "metadata": {},
     "output_type": "execute_result"
    }
   ],
   "source": [
    "meta"
   ]
  },
  {
   "cell_type": "code",
   "execution_count": 125,
   "id": "57359993-fb6d-4d9b-a649-c95e0f754c28",
   "metadata": {},
   "outputs": [
    {
     "data": {
      "text/html": [
       "<div>\n",
       "<style scoped>\n",
       "    .dataframe tbody tr th:only-of-type {\n",
       "        vertical-align: middle;\n",
       "    }\n",
       "\n",
       "    .dataframe tbody tr th {\n",
       "        vertical-align: top;\n",
       "    }\n",
       "\n",
       "    .dataframe thead th {\n",
       "        text-align: right;\n",
       "    }\n",
       "</style>\n",
       "<table border=\"1\" class=\"dataframe\">\n",
       "  <thead>\n",
       "    <tr style=\"text-align: right;\">\n",
       "      <th></th>\n",
       "      <th>11409232</th>\n",
       "      <th>11336574</th>\n",
       "      <th>20207013</th>\n",
       "      <th>10514454</th>\n",
       "      <th>10290265</th>\n",
       "      <th>21412626</th>\n",
       "      <th>20170043</th>\n",
       "      <th>20956867</th>\n",
       "      <th>21172121</th>\n",
       "      <th>20104101</th>\n",
       "      <th>...</th>\n",
       "      <th>20730959</th>\n",
       "      <th>20500815</th>\n",
       "      <th>21402016</th>\n",
       "      <th>51624179</th>\n",
       "      <th>10100574</th>\n",
       "      <th>22789958</th>\n",
       "      <th>51520126</th>\n",
       "      <th>94144536</th>\n",
       "      <th>18659212</th>\n",
       "      <th>41285665</th>\n",
       "    </tr>\n",
       "  </thead>\n",
       "  <tbody>\n",
       "    <tr>\n",
       "      <th>response to lipid (GO:0033993)</th>\n",
       "      <td>-0.200047</td>\n",
       "      <td>-0.134290</td>\n",
       "      <td>-0.258264</td>\n",
       "      <td>-0.146376</td>\n",
       "      <td>0.192264</td>\n",
       "      <td>0.032011</td>\n",
       "      <td>-0.090794</td>\n",
       "      <td>-0.046766</td>\n",
       "      <td>-0.006627</td>\n",
       "      <td>-0.287197</td>\n",
       "      <td>...</td>\n",
       "      <td>-0.017337</td>\n",
       "      <td>0.177828</td>\n",
       "      <td>-0.198722</td>\n",
       "      <td>-0.176152</td>\n",
       "      <td>-0.207442</td>\n",
       "      <td>0.060466</td>\n",
       "      <td>-0.046090</td>\n",
       "      <td>-0.120342</td>\n",
       "      <td>0.185438</td>\n",
       "      <td>0.077265</td>\n",
       "    </tr>\n",
       "    <tr>\n",
       "      <th>fatty acid beta-oxidation using acyl-CoA oxidase (GO:0033540)</th>\n",
       "      <td>0.552967</td>\n",
       "      <td>0.461845</td>\n",
       "      <td>0.431090</td>\n",
       "      <td>0.037452</td>\n",
       "      <td>0.167709</td>\n",
       "      <td>0.221348</td>\n",
       "      <td>0.168683</td>\n",
       "      <td>0.209369</td>\n",
       "      <td>0.233162</td>\n",
       "      <td>0.491906</td>\n",
       "      <td>...</td>\n",
       "      <td>-0.002677</td>\n",
       "      <td>-0.457383</td>\n",
       "      <td>0.123300</td>\n",
       "      <td>0.039376</td>\n",
       "      <td>0.124372</td>\n",
       "      <td>-0.481108</td>\n",
       "      <td>-0.194605</td>\n",
       "      <td>0.434002</td>\n",
       "      <td>-0.030890</td>\n",
       "      <td>0.019798</td>\n",
       "    </tr>\n",
       "    <tr>\n",
       "      <th>cellular response to lipid (GO:0071396)</th>\n",
       "      <td>-0.138172</td>\n",
       "      <td>-0.042435</td>\n",
       "      <td>-0.229018</td>\n",
       "      <td>-0.086298</td>\n",
       "      <td>0.082052</td>\n",
       "      <td>-0.099111</td>\n",
       "      <td>-0.109418</td>\n",
       "      <td>-0.093585</td>\n",
       "      <td>-0.070707</td>\n",
       "      <td>-0.107078</td>\n",
       "      <td>...</td>\n",
       "      <td>-0.180505</td>\n",
       "      <td>0.247050</td>\n",
       "      <td>-0.099056</td>\n",
       "      <td>-0.107273</td>\n",
       "      <td>0.012368</td>\n",
       "      <td>-0.094293</td>\n",
       "      <td>0.050387</td>\n",
       "      <td>-0.186117</td>\n",
       "      <td>0.158055</td>\n",
       "      <td>0.058429</td>\n",
       "    </tr>\n",
       "    <tr>\n",
       "      <th>positive regulation of lipid storage (GO:0010884)</th>\n",
       "      <td>-0.506187</td>\n",
       "      <td>-0.506298</td>\n",
       "      <td>-0.611914</td>\n",
       "      <td>-0.045705</td>\n",
       "      <td>-0.252857</td>\n",
       "      <td>-0.701626</td>\n",
       "      <td>0.328322</td>\n",
       "      <td>-0.227392</td>\n",
       "      <td>-0.275250</td>\n",
       "      <td>-0.575622</td>\n",
       "      <td>...</td>\n",
       "      <td>0.155821</td>\n",
       "      <td>-0.079061</td>\n",
       "      <td>0.390064</td>\n",
       "      <td>0.152698</td>\n",
       "      <td>0.018590</td>\n",
       "      <td>0.215264</td>\n",
       "      <td>0.435829</td>\n",
       "      <td>0.449888</td>\n",
       "      <td>0.515491</td>\n",
       "      <td>0.388119</td>\n",
       "    </tr>\n",
       "    <tr>\n",
       "      <th>regulation of fatty acid beta-oxidation (GO:0031998)</th>\n",
       "      <td>-0.566798</td>\n",
       "      <td>-0.665163</td>\n",
       "      <td>-0.390720</td>\n",
       "      <td>-0.315510</td>\n",
       "      <td>0.402082</td>\n",
       "      <td>-0.062181</td>\n",
       "      <td>-0.054748</td>\n",
       "      <td>-0.510056</td>\n",
       "      <td>0.421736</td>\n",
       "      <td>-0.488319</td>\n",
       "      <td>...</td>\n",
       "      <td>0.384737</td>\n",
       "      <td>-0.429532</td>\n",
       "      <td>-0.310100</td>\n",
       "      <td>-0.243107</td>\n",
       "      <td>-0.298830</td>\n",
       "      <td>0.290020</td>\n",
       "      <td>0.101679</td>\n",
       "      <td>0.336237</td>\n",
       "      <td>0.230642</td>\n",
       "      <td>0.432950</td>\n",
       "    </tr>\n",
       "    <tr>\n",
       "      <th>fatty acid beta-oxidation using acyl-CoA dehydrogenase (GO:0033539)</th>\n",
       "      <td>0.355030</td>\n",
       "      <td>0.145974</td>\n",
       "      <td>0.487184</td>\n",
       "      <td>0.318851</td>\n",
       "      <td>0.476485</td>\n",
       "      <td>-0.097297</td>\n",
       "      <td>0.145301</td>\n",
       "      <td>0.232208</td>\n",
       "      <td>0.197846</td>\n",
       "      <td>0.365925</td>\n",
       "      <td>...</td>\n",
       "      <td>0.095818</td>\n",
       "      <td>-0.461379</td>\n",
       "      <td>-0.034869</td>\n",
       "      <td>-0.305397</td>\n",
       "      <td>0.194893</td>\n",
       "      <td>0.288399</td>\n",
       "      <td>0.057894</td>\n",
       "      <td>0.388913</td>\n",
       "      <td>0.159434</td>\n",
       "      <td>0.274606</td>\n",
       "    </tr>\n",
       "    <tr>\n",
       "      <th>fatty acid alpha-oxidation (GO:0001561)</th>\n",
       "      <td>0.641058</td>\n",
       "      <td>0.167576</td>\n",
       "      <td>-0.372679</td>\n",
       "      <td>-0.464030</td>\n",
       "      <td>-0.605870</td>\n",
       "      <td>-0.350405</td>\n",
       "      <td>-0.405554</td>\n",
       "      <td>-0.197239</td>\n",
       "      <td>-0.343746</td>\n",
       "      <td>-0.032516</td>\n",
       "      <td>...</td>\n",
       "      <td>0.445483</td>\n",
       "      <td>-0.459661</td>\n",
       "      <td>0.412162</td>\n",
       "      <td>0.119778</td>\n",
       "      <td>0.000999</td>\n",
       "      <td>0.041785</td>\n",
       "      <td>0.345948</td>\n",
       "      <td>0.429712</td>\n",
       "      <td>0.657949</td>\n",
       "      <td>0.073188</td>\n",
       "    </tr>\n",
       "    <tr>\n",
       "      <th>fatty acid beta-oxidation (GO:0006635)</th>\n",
       "      <td>0.298298</td>\n",
       "      <td>0.347620</td>\n",
       "      <td>0.405872</td>\n",
       "      <td>0.139789</td>\n",
       "      <td>0.075758</td>\n",
       "      <td>-0.125872</td>\n",
       "      <td>-0.184919</td>\n",
       "      <td>0.237026</td>\n",
       "      <td>0.161956</td>\n",
       "      <td>0.253278</td>\n",
       "      <td>...</td>\n",
       "      <td>0.367144</td>\n",
       "      <td>-0.500892</td>\n",
       "      <td>0.154434</td>\n",
       "      <td>-0.005162</td>\n",
       "      <td>0.272537</td>\n",
       "      <td>-0.178627</td>\n",
       "      <td>-0.036051</td>\n",
       "      <td>0.374976</td>\n",
       "      <td>0.108243</td>\n",
       "      <td>0.060911</td>\n",
       "    </tr>\n",
       "    <tr>\n",
       "      <th>positive regulation of fatty acid oxidation (GO:0046321)</th>\n",
       "      <td>-0.610218</td>\n",
       "      <td>-0.581492</td>\n",
       "      <td>-0.395481</td>\n",
       "      <td>-0.442454</td>\n",
       "      <td>0.175200</td>\n",
       "      <td>-0.301385</td>\n",
       "      <td>-0.452714</td>\n",
       "      <td>-0.444775</td>\n",
       "      <td>0.029268</td>\n",
       "      <td>-0.496914</td>\n",
       "      <td>...</td>\n",
       "      <td>0.162102</td>\n",
       "      <td>0.008371</td>\n",
       "      <td>-0.203226</td>\n",
       "      <td>-0.320250</td>\n",
       "      <td>0.229300</td>\n",
       "      <td>0.323878</td>\n",
       "      <td>0.192834</td>\n",
       "      <td>0.206425</td>\n",
       "      <td>0.645439</td>\n",
       "      <td>0.454824</td>\n",
       "    </tr>\n",
       "    <tr>\n",
       "      <th>regulation of fatty acid oxidation (GO:0046320)</th>\n",
       "      <td>-0.267831</td>\n",
       "      <td>-0.102356</td>\n",
       "      <td>0.078373</td>\n",
       "      <td>0.088086</td>\n",
       "      <td>0.039860</td>\n",
       "      <td>-0.325352</td>\n",
       "      <td>-0.408061</td>\n",
       "      <td>0.044657</td>\n",
       "      <td>-0.157895</td>\n",
       "      <td>-0.110626</td>\n",
       "      <td>...</td>\n",
       "      <td>-0.367500</td>\n",
       "      <td>-0.063654</td>\n",
       "      <td>-0.096551</td>\n",
       "      <td>-0.444647</td>\n",
       "      <td>0.449186</td>\n",
       "      <td>0.094930</td>\n",
       "      <td>0.534448</td>\n",
       "      <td>0.035093</td>\n",
       "      <td>0.235448</td>\n",
       "      <td>0.308990</td>\n",
       "    </tr>\n",
       "    <tr>\n",
       "      <th>negative regulation of lipid storage (GO:0010888)</th>\n",
       "      <td>-0.252146</td>\n",
       "      <td>-0.232399</td>\n",
       "      <td>0.164538</td>\n",
       "      <td>-0.382501</td>\n",
       "      <td>-0.176526</td>\n",
       "      <td>-0.242074</td>\n",
       "      <td>-0.552383</td>\n",
       "      <td>-0.188998</td>\n",
       "      <td>-0.243667</td>\n",
       "      <td>0.209697</td>\n",
       "      <td>...</td>\n",
       "      <td>0.359528</td>\n",
       "      <td>0.464366</td>\n",
       "      <td>-0.197135</td>\n",
       "      <td>0.169701</td>\n",
       "      <td>-0.339759</td>\n",
       "      <td>-0.372642</td>\n",
       "      <td>-0.518595</td>\n",
       "      <td>0.097104</td>\n",
       "      <td>0.349142</td>\n",
       "      <td>-0.413803</td>\n",
       "    </tr>\n",
       "    <tr>\n",
       "      <th>fatty acid oxidation (GO:0019395)</th>\n",
       "      <td>0.092940</td>\n",
       "      <td>0.263758</td>\n",
       "      <td>0.161715</td>\n",
       "      <td>-0.017353</td>\n",
       "      <td>-0.080942</td>\n",
       "      <td>-0.236583</td>\n",
       "      <td>-0.344701</td>\n",
       "      <td>0.146815</td>\n",
       "      <td>-0.024284</td>\n",
       "      <td>0.083196</td>\n",
       "      <td>...</td>\n",
       "      <td>0.313637</td>\n",
       "      <td>-0.453135</td>\n",
       "      <td>0.290806</td>\n",
       "      <td>0.046652</td>\n",
       "      <td>0.202294</td>\n",
       "      <td>-0.277563</td>\n",
       "      <td>-0.147269</td>\n",
       "      <td>0.306812</td>\n",
       "      <td>0.251436</td>\n",
       "      <td>-0.163837</td>\n",
       "    </tr>\n",
       "    <tr>\n",
       "      <th>TCA cycle Homo sapiens PWY66-398</th>\n",
       "      <td>0.519095</td>\n",
       "      <td>0.515576</td>\n",
       "      <td>0.611597</td>\n",
       "      <td>0.566181</td>\n",
       "      <td>-0.434535</td>\n",
       "      <td>0.529506</td>\n",
       "      <td>0.016937</td>\n",
       "      <td>-0.246402</td>\n",
       "      <td>0.193013</td>\n",
       "      <td>0.636750</td>\n",
       "      <td>...</td>\n",
       "      <td>0.170715</td>\n",
       "      <td>0.292794</td>\n",
       "      <td>-0.089697</td>\n",
       "      <td>0.131928</td>\n",
       "      <td>-0.245567</td>\n",
       "      <td>-0.424546</td>\n",
       "      <td>-0.257262</td>\n",
       "      <td>-0.164238</td>\n",
       "      <td>-0.486381</td>\n",
       "      <td>-0.332156</td>\n",
       "    </tr>\n",
       "    <tr>\n",
       "      <th>superpathway of conversion of glucose to acetyl CoA and entry into the TCA cycle Homo sapiens PWY66-407</th>\n",
       "      <td>0.508865</td>\n",
       "      <td>0.556252</td>\n",
       "      <td>0.591390</td>\n",
       "      <td>0.525227</td>\n",
       "      <td>-0.169893</td>\n",
       "      <td>0.544390</td>\n",
       "      <td>0.224808</td>\n",
       "      <td>0.001305</td>\n",
       "      <td>0.160847</td>\n",
       "      <td>0.648162</td>\n",
       "      <td>...</td>\n",
       "      <td>0.051893</td>\n",
       "      <td>0.498495</td>\n",
       "      <td>0.079024</td>\n",
       "      <td>0.039436</td>\n",
       "      <td>-0.379930</td>\n",
       "      <td>-0.497373</td>\n",
       "      <td>-0.367178</td>\n",
       "      <td>-0.366166</td>\n",
       "      <td>-0.530329</td>\n",
       "      <td>-0.333426</td>\n",
       "    </tr>\n",
       "    <tr>\n",
       "      <th>fatty acid &amp;beta;-oxidation Homo sapiens FAO-PWY</th>\n",
       "      <td>-0.052708</td>\n",
       "      <td>0.065185</td>\n",
       "      <td>-0.149667</td>\n",
       "      <td>-0.070035</td>\n",
       "      <td>-0.462397</td>\n",
       "      <td>-0.204660</td>\n",
       "      <td>-0.082368</td>\n",
       "      <td>-0.201456</td>\n",
       "      <td>-0.247522</td>\n",
       "      <td>0.152556</td>\n",
       "      <td>...</td>\n",
       "      <td>0.194173</td>\n",
       "      <td>-0.255073</td>\n",
       "      <td>0.536993</td>\n",
       "      <td>0.422721</td>\n",
       "      <td>0.223732</td>\n",
       "      <td>0.002081</td>\n",
       "      <td>0.113504</td>\n",
       "      <td>0.172693</td>\n",
       "      <td>0.167332</td>\n",
       "      <td>0.181109</td>\n",
       "    </tr>\n",
       "    <tr>\n",
       "      <th>fatty acid &amp;beta;-oxidation (peroxisome) Homo sapiens PWY66-391</th>\n",
       "      <td>0.117660</td>\n",
       "      <td>0.009593</td>\n",
       "      <td>-0.279910</td>\n",
       "      <td>-0.023128</td>\n",
       "      <td>-0.319563</td>\n",
       "      <td>0.085476</td>\n",
       "      <td>0.016737</td>\n",
       "      <td>-0.269812</td>\n",
       "      <td>0.014542</td>\n",
       "      <td>-0.009954</td>\n",
       "      <td>...</td>\n",
       "      <td>-0.050069</td>\n",
       "      <td>-0.244290</td>\n",
       "      <td>0.456467</td>\n",
       "      <td>0.412132</td>\n",
       "      <td>0.133236</td>\n",
       "      <td>-0.039740</td>\n",
       "      <td>0.020741</td>\n",
       "      <td>0.292520</td>\n",
       "      <td>-0.134433</td>\n",
       "      <td>0.030843</td>\n",
       "    </tr>\n",
       "    <tr>\n",
       "      <th>Citrate cycle (TCA cycle)</th>\n",
       "      <td>0.454101</td>\n",
       "      <td>0.449588</td>\n",
       "      <td>0.543889</td>\n",
       "      <td>0.522019</td>\n",
       "      <td>-0.348513</td>\n",
       "      <td>0.551505</td>\n",
       "      <td>0.002315</td>\n",
       "      <td>0.044540</td>\n",
       "      <td>0.190076</td>\n",
       "      <td>0.509209</td>\n",
       "      <td>...</td>\n",
       "      <td>0.250162</td>\n",
       "      <td>0.239032</td>\n",
       "      <td>0.102053</td>\n",
       "      <td>0.175395</td>\n",
       "      <td>-0.246919</td>\n",
       "      <td>-0.518901</td>\n",
       "      <td>-0.352527</td>\n",
       "      <td>-0.194162</td>\n",
       "      <td>-0.439736</td>\n",
       "      <td>-0.302504</td>\n",
       "    </tr>\n",
       "    <tr>\n",
       "      <th>Glycosphingolipid biosynthesis</th>\n",
       "      <td>-0.225280</td>\n",
       "      <td>0.023406</td>\n",
       "      <td>0.064044</td>\n",
       "      <td>0.002135</td>\n",
       "      <td>0.224309</td>\n",
       "      <td>0.011958</td>\n",
       "      <td>-0.346214</td>\n",
       "      <td>0.211640</td>\n",
       "      <td>-0.015969</td>\n",
       "      <td>-0.097832</td>\n",
       "      <td>...</td>\n",
       "      <td>-0.367108</td>\n",
       "      <td>0.119504</td>\n",
       "      <td>0.090310</td>\n",
       "      <td>-0.109102</td>\n",
       "      <td>-0.026836</td>\n",
       "      <td>0.236227</td>\n",
       "      <td>0.276946</td>\n",
       "      <td>-0.011491</td>\n",
       "      <td>0.159249</td>\n",
       "      <td>0.375102</td>\n",
       "    </tr>\n",
       "    <tr>\n",
       "      <th>Regulation of lipolysis in adipocytes</th>\n",
       "      <td>-0.335255</td>\n",
       "      <td>-0.456729</td>\n",
       "      <td>-0.447348</td>\n",
       "      <td>-0.174423</td>\n",
       "      <td>0.379215</td>\n",
       "      <td>0.037279</td>\n",
       "      <td>-0.091077</td>\n",
       "      <td>-0.293099</td>\n",
       "      <td>0.175446</td>\n",
       "      <td>-0.381287</td>\n",
       "      <td>...</td>\n",
       "      <td>-0.114352</td>\n",
       "      <td>-0.048845</td>\n",
       "      <td>-0.090498</td>\n",
       "      <td>-0.008484</td>\n",
       "      <td>-0.234832</td>\n",
       "      <td>0.081510</td>\n",
       "      <td>0.122721</td>\n",
       "      <td>-0.207052</td>\n",
       "      <td>0.138389</td>\n",
       "      <td>0.347326</td>\n",
       "    </tr>\n",
       "    <tr>\n",
       "      <th>Glycerophospholipid biosynthesis Homo sapiens R-HSA-1483206</th>\n",
       "      <td>0.085542</td>\n",
       "      <td>0.013958</td>\n",
       "      <td>-0.010965</td>\n",
       "      <td>0.197695</td>\n",
       "      <td>-0.037005</td>\n",
       "      <td>0.168596</td>\n",
       "      <td>0.038853</td>\n",
       "      <td>0.152750</td>\n",
       "      <td>0.259071</td>\n",
       "      <td>0.003859</td>\n",
       "      <td>...</td>\n",
       "      <td>-0.210247</td>\n",
       "      <td>-0.157299</td>\n",
       "      <td>-0.171797</td>\n",
       "      <td>-0.183735</td>\n",
       "      <td>-0.018955</td>\n",
       "      <td>-0.068705</td>\n",
       "      <td>-0.032135</td>\n",
       "      <td>-0.084466</td>\n",
       "      <td>-0.019818</td>\n",
       "      <td>0.133218</td>\n",
       "    </tr>\n",
       "    <tr>\n",
       "      <th>Beta oxidation of octanoyl-CoA to hexanoyl-CoA Homo sapiens R-HSA-77348</th>\n",
       "      <td>-0.452879</td>\n",
       "      <td>0.202650</td>\n",
       "      <td>0.330723</td>\n",
       "      <td>0.143127</td>\n",
       "      <td>-0.222320</td>\n",
       "      <td>-0.379542</td>\n",
       "      <td>-0.142021</td>\n",
       "      <td>0.078386</td>\n",
       "      <td>-0.435442</td>\n",
       "      <td>0.592623</td>\n",
       "      <td>...</td>\n",
       "      <td>0.593425</td>\n",
       "      <td>-0.641232</td>\n",
       "      <td>-0.272087</td>\n",
       "      <td>0.460047</td>\n",
       "      <td>0.507518</td>\n",
       "      <td>-0.273086</td>\n",
       "      <td>-0.311847</td>\n",
       "      <td>0.329402</td>\n",
       "      <td>-0.071014</td>\n",
       "      <td>-0.137360</td>\n",
       "    </tr>\n",
       "    <tr>\n",
       "      <th>Beta oxidation of decanoyl-CoA to octanoyl-CoA-CoA Homo sapiens R-HSA-77346</th>\n",
       "      <td>-0.452879</td>\n",
       "      <td>0.202650</td>\n",
       "      <td>0.330723</td>\n",
       "      <td>0.143127</td>\n",
       "      <td>-0.222320</td>\n",
       "      <td>-0.379542</td>\n",
       "      <td>-0.142021</td>\n",
       "      <td>0.078386</td>\n",
       "      <td>-0.435442</td>\n",
       "      <td>0.592623</td>\n",
       "      <td>...</td>\n",
       "      <td>0.593425</td>\n",
       "      <td>-0.641232</td>\n",
       "      <td>-0.272087</td>\n",
       "      <td>0.460047</td>\n",
       "      <td>0.507518</td>\n",
       "      <td>-0.273086</td>\n",
       "      <td>-0.311847</td>\n",
       "      <td>0.329402</td>\n",
       "      <td>-0.071014</td>\n",
       "      <td>-0.137360</td>\n",
       "    </tr>\n",
       "    <tr>\n",
       "      <th>mitochondrial fatty acid beta-oxidation of saturated fatty acids Homo sapiens R-HSA-77286</th>\n",
       "      <td>-0.305898</td>\n",
       "      <td>0.214691</td>\n",
       "      <td>0.363455</td>\n",
       "      <td>0.283003</td>\n",
       "      <td>0.053702</td>\n",
       "      <td>-0.330544</td>\n",
       "      <td>0.053144</td>\n",
       "      <td>0.194416</td>\n",
       "      <td>-0.162548</td>\n",
       "      <td>0.583902</td>\n",
       "      <td>...</td>\n",
       "      <td>0.426543</td>\n",
       "      <td>-0.571736</td>\n",
       "      <td>-0.512091</td>\n",
       "      <td>0.170118</td>\n",
       "      <td>0.462382</td>\n",
       "      <td>-0.196739</td>\n",
       "      <td>-0.367345</td>\n",
       "      <td>0.078899</td>\n",
       "      <td>-0.152761</td>\n",
       "      <td>-0.474351</td>\n",
       "    </tr>\n",
       "    <tr>\n",
       "      <th>Alpha-oxidation of phytanate Homo sapiens R-HSA-389599</th>\n",
       "      <td>0.806225</td>\n",
       "      <td>0.445986</td>\n",
       "      <td>0.061596</td>\n",
       "      <td>-0.104371</td>\n",
       "      <td>-0.659263</td>\n",
       "      <td>-0.250110</td>\n",
       "      <td>0.019589</td>\n",
       "      <td>0.007263</td>\n",
       "      <td>-0.413005</td>\n",
       "      <td>0.341146</td>\n",
       "      <td>...</td>\n",
       "      <td>0.088250</td>\n",
       "      <td>-0.444993</td>\n",
       "      <td>0.307545</td>\n",
       "      <td>-0.047969</td>\n",
       "      <td>-0.327710</td>\n",
       "      <td>-0.122884</td>\n",
       "      <td>0.080303</td>\n",
       "      <td>0.365450</td>\n",
       "      <td>0.518612</td>\n",
       "      <td>-0.009168</td>\n",
       "    </tr>\n",
       "    <tr>\n",
       "      <th>Beta-oxidation of pristanoyl-CoA Homo sapiens R-HSA-389887</th>\n",
       "      <td>0.542468</td>\n",
       "      <td>0.425907</td>\n",
       "      <td>0.305666</td>\n",
       "      <td>-0.062267</td>\n",
       "      <td>-0.249767</td>\n",
       "      <td>-0.005077</td>\n",
       "      <td>-0.064948</td>\n",
       "      <td>0.157560</td>\n",
       "      <td>0.214653</td>\n",
       "      <td>0.393896</td>\n",
       "      <td>...</td>\n",
       "      <td>-0.112546</td>\n",
       "      <td>-0.465946</td>\n",
       "      <td>0.411740</td>\n",
       "      <td>0.161295</td>\n",
       "      <td>0.157813</td>\n",
       "      <td>-0.361489</td>\n",
       "      <td>0.040448</td>\n",
       "      <td>0.408526</td>\n",
       "      <td>0.284302</td>\n",
       "      <td>0.240790</td>\n",
       "    </tr>\n",
       "    <tr>\n",
       "      <th>Beta-oxidation of very long chain fatty acids Homo sapiens R-HSA-390247</th>\n",
       "      <td>0.689304</td>\n",
       "      <td>0.646945</td>\n",
       "      <td>0.504270</td>\n",
       "      <td>0.360611</td>\n",
       "      <td>0.518689</td>\n",
       "      <td>0.552029</td>\n",
       "      <td>0.601315</td>\n",
       "      <td>0.186258</td>\n",
       "      <td>0.402258</td>\n",
       "      <td>0.607577</td>\n",
       "      <td>...</td>\n",
       "      <td>-0.308141</td>\n",
       "      <td>-0.545739</td>\n",
       "      <td>-0.109339</td>\n",
       "      <td>-0.234760</td>\n",
       "      <td>0.075611</td>\n",
       "      <td>-0.471357</td>\n",
       "      <td>-0.428040</td>\n",
       "      <td>0.188266</td>\n",
       "      <td>-0.661079</td>\n",
       "      <td>-0.056521</td>\n",
       "    </tr>\n",
       "    <tr>\n",
       "      <th>Fatty Acyl-CoA Biosynthesis Homo sapiens R-HSA-75105</th>\n",
       "      <td>-0.008838</td>\n",
       "      <td>0.305013</td>\n",
       "      <td>0.073809</td>\n",
       "      <td>0.226369</td>\n",
       "      <td>-0.434692</td>\n",
       "      <td>0.067285</td>\n",
       "      <td>0.007544</td>\n",
       "      <td>-0.160585</td>\n",
       "      <td>-0.120422</td>\n",
       "      <td>-0.011066</td>\n",
       "      <td>...</td>\n",
       "      <td>-0.032764</td>\n",
       "      <td>0.142401</td>\n",
       "      <td>0.260580</td>\n",
       "      <td>-0.081980</td>\n",
       "      <td>0.003906</td>\n",
       "      <td>0.094708</td>\n",
       "      <td>0.278912</td>\n",
       "      <td>-0.308541</td>\n",
       "      <td>0.127737</td>\n",
       "      <td>0.116681</td>\n",
       "    </tr>\n",
       "    <tr>\n",
       "      <th>Triglyceride Biosynthesis Homo sapiens R-HSA-75109</th>\n",
       "      <td>-0.038368</td>\n",
       "      <td>0.094357</td>\n",
       "      <td>0.013112</td>\n",
       "      <td>0.181835</td>\n",
       "      <td>-0.293739</td>\n",
       "      <td>0.115589</td>\n",
       "      <td>0.027379</td>\n",
       "      <td>-0.008486</td>\n",
       "      <td>0.004314</td>\n",
       "      <td>-0.047138</td>\n",
       "      <td>...</td>\n",
       "      <td>-0.139253</td>\n",
       "      <td>0.099201</td>\n",
       "      <td>0.028335</td>\n",
       "      <td>-0.000215</td>\n",
       "      <td>0.028836</td>\n",
       "      <td>0.088727</td>\n",
       "      <td>0.305176</td>\n",
       "      <td>-0.067259</td>\n",
       "      <td>0.097225</td>\n",
       "      <td>0.194360</td>\n",
       "    </tr>\n",
       "    <tr>\n",
       "      <th>Biological oxidations Homo sapiens R-HSA-211859</th>\n",
       "      <td>0.322181</td>\n",
       "      <td>0.373212</td>\n",
       "      <td>0.264005</td>\n",
       "      <td>0.153961</td>\n",
       "      <td>0.004584</td>\n",
       "      <td>0.192302</td>\n",
       "      <td>-0.016600</td>\n",
       "      <td>-0.076961</td>\n",
       "      <td>-0.025941</td>\n",
       "      <td>0.422675</td>\n",
       "      <td>...</td>\n",
       "      <td>-0.218811</td>\n",
       "      <td>-0.171094</td>\n",
       "      <td>0.052447</td>\n",
       "      <td>0.112376</td>\n",
       "      <td>-0.030786</td>\n",
       "      <td>-0.184589</td>\n",
       "      <td>-0.340066</td>\n",
       "      <td>-0.005656</td>\n",
       "      <td>0.024774</td>\n",
       "      <td>-0.152241</td>\n",
       "    </tr>\n",
       "    <tr>\n",
       "      <th>The citric acid (TCA) cycle and respiratory electron transport Homo sapiens R-HSA-1428517</th>\n",
       "      <td>0.556986</td>\n",
       "      <td>0.573338</td>\n",
       "      <td>0.595623</td>\n",
       "      <td>0.572593</td>\n",
       "      <td>-0.170796</td>\n",
       "      <td>0.457268</td>\n",
       "      <td>0.050913</td>\n",
       "      <td>0.178617</td>\n",
       "      <td>0.161470</td>\n",
       "      <td>0.671993</td>\n",
       "      <td>...</td>\n",
       "      <td>0.200093</td>\n",
       "      <td>0.329378</td>\n",
       "      <td>-0.023947</td>\n",
       "      <td>0.208874</td>\n",
       "      <td>-0.172976</td>\n",
       "      <td>-0.540405</td>\n",
       "      <td>-0.386833</td>\n",
       "      <td>-0.250822</td>\n",
       "      <td>-0.418688</td>\n",
       "      <td>-0.465861</td>\n",
       "    </tr>\n",
       "    <tr>\n",
       "      <th>Pyruvate metabolism and Citric Acid (TCA) cycle Homo sapiens R-HSA-71406</th>\n",
       "      <td>0.456816</td>\n",
       "      <td>0.445194</td>\n",
       "      <td>0.522386</td>\n",
       "      <td>0.454331</td>\n",
       "      <td>-0.110503</td>\n",
       "      <td>0.435777</td>\n",
       "      <td>-0.047142</td>\n",
       "      <td>0.011044</td>\n",
       "      <td>0.135302</td>\n",
       "      <td>0.548026</td>\n",
       "      <td>...</td>\n",
       "      <td>0.021849</td>\n",
       "      <td>0.217587</td>\n",
       "      <td>0.132055</td>\n",
       "      <td>0.141648</td>\n",
       "      <td>-0.181455</td>\n",
       "      <td>-0.466790</td>\n",
       "      <td>-0.285883</td>\n",
       "      <td>-0.139761</td>\n",
       "      <td>-0.325461</td>\n",
       "      <td>-0.249646</td>\n",
       "    </tr>\n",
       "    <tr>\n",
       "      <th>Citric acid cycle (TCA cycle) Homo sapiens R-HSA-71403</th>\n",
       "      <td>0.507543</td>\n",
       "      <td>0.452077</td>\n",
       "      <td>0.620244</td>\n",
       "      <td>0.445769</td>\n",
       "      <td>-0.421468</td>\n",
       "      <td>0.493001</td>\n",
       "      <td>-0.053105</td>\n",
       "      <td>-0.093002</td>\n",
       "      <td>0.173052</td>\n",
       "      <td>0.640925</td>\n",
       "      <td>...</td>\n",
       "      <td>0.166536</td>\n",
       "      <td>0.130931</td>\n",
       "      <td>0.106858</td>\n",
       "      <td>0.166847</td>\n",
       "      <td>-0.093796</td>\n",
       "      <td>-0.464586</td>\n",
       "      <td>-0.182466</td>\n",
       "      <td>-0.035106</td>\n",
       "      <td>-0.444874</td>\n",
       "      <td>-0.334316</td>\n",
       "    </tr>\n",
       "    <tr>\n",
       "      <th>SREBP control of lipid synthesis Homo sapiens h s1pPathway</th>\n",
       "      <td>0.007664</td>\n",
       "      <td>-0.369365</td>\n",
       "      <td>-0.301799</td>\n",
       "      <td>0.348469</td>\n",
       "      <td>-0.297096</td>\n",
       "      <td>-0.076426</td>\n",
       "      <td>-0.154182</td>\n",
       "      <td>0.291964</td>\n",
       "      <td>0.259693</td>\n",
       "      <td>-0.449278</td>\n",
       "      <td>...</td>\n",
       "      <td>-0.147194</td>\n",
       "      <td>0.024406</td>\n",
       "      <td>-0.395818</td>\n",
       "      <td>0.176982</td>\n",
       "      <td>-0.000783</td>\n",
       "      <td>0.249649</td>\n",
       "      <td>0.488578</td>\n",
       "      <td>0.054046</td>\n",
       "      <td>-0.374493</td>\n",
       "      <td>0.676075</td>\n",
       "    </tr>\n",
       "    <tr>\n",
       "      <th>Fatty acid beta-oxidation WP143</th>\n",
       "      <td>-0.024191</td>\n",
       "      <td>0.149104</td>\n",
       "      <td>0.190965</td>\n",
       "      <td>0.243311</td>\n",
       "      <td>0.114552</td>\n",
       "      <td>-0.205888</td>\n",
       "      <td>0.093764</td>\n",
       "      <td>-0.005323</td>\n",
       "      <td>0.107888</td>\n",
       "      <td>0.275310</td>\n",
       "      <td>...</td>\n",
       "      <td>0.314845</td>\n",
       "      <td>-0.321441</td>\n",
       "      <td>-0.249630</td>\n",
       "      <td>0.131762</td>\n",
       "      <td>0.037962</td>\n",
       "      <td>-0.253973</td>\n",
       "      <td>-0.237358</td>\n",
       "      <td>-0.086859</td>\n",
       "      <td>-0.063877</td>\n",
       "      <td>-0.112645</td>\n",
       "    </tr>\n",
       "    <tr>\n",
       "      <th>TCA Cycle (aka Krebs or citric acid cycle) WP78</th>\n",
       "      <td>0.513941</td>\n",
       "      <td>0.485218</td>\n",
       "      <td>0.617444</td>\n",
       "      <td>0.485058</td>\n",
       "      <td>-0.410614</td>\n",
       "      <td>0.503335</td>\n",
       "      <td>-0.053728</td>\n",
       "      <td>-0.103748</td>\n",
       "      <td>0.187785</td>\n",
       "      <td>0.644384</td>\n",
       "      <td>...</td>\n",
       "      <td>0.170732</td>\n",
       "      <td>0.181520</td>\n",
       "      <td>0.015151</td>\n",
       "      <td>0.094144</td>\n",
       "      <td>-0.149775</td>\n",
       "      <td>-0.443833</td>\n",
       "      <td>-0.190673</td>\n",
       "      <td>-0.115730</td>\n",
       "      <td>-0.453676</td>\n",
       "      <td>-0.321393</td>\n",
       "    </tr>\n",
       "    <tr>\n",
       "      <th>TCA Cycle and Deficiency of Pyruvate Dehydrogenase complex (PDHc) WP2453</th>\n",
       "      <td>0.268065</td>\n",
       "      <td>0.449143</td>\n",
       "      <td>0.465767</td>\n",
       "      <td>0.500613</td>\n",
       "      <td>-0.391262</td>\n",
       "      <td>0.578220</td>\n",
       "      <td>-0.233088</td>\n",
       "      <td>-0.055601</td>\n",
       "      <td>0.172192</td>\n",
       "      <td>0.359656</td>\n",
       "      <td>...</td>\n",
       "      <td>0.424391</td>\n",
       "      <td>0.260328</td>\n",
       "      <td>0.172577</td>\n",
       "      <td>0.280815</td>\n",
       "      <td>-0.383012</td>\n",
       "      <td>-0.499283</td>\n",
       "      <td>-0.366037</td>\n",
       "      <td>-0.094480</td>\n",
       "      <td>-0.402597</td>\n",
       "      <td>-0.324887</td>\n",
       "    </tr>\n",
       "    <tr>\n",
       "      <th>TCA cycle in senescence WP5050</th>\n",
       "      <td>0.369429</td>\n",
       "      <td>0.580886</td>\n",
       "      <td>0.252348</td>\n",
       "      <td>0.274589</td>\n",
       "      <td>-0.257749</td>\n",
       "      <td>0.222671</td>\n",
       "      <td>-0.560614</td>\n",
       "      <td>0.103798</td>\n",
       "      <td>-0.500397</td>\n",
       "      <td>0.453402</td>\n",
       "      <td>...</td>\n",
       "      <td>0.026276</td>\n",
       "      <td>0.448788</td>\n",
       "      <td>0.347070</td>\n",
       "      <td>0.386562</td>\n",
       "      <td>-0.307038</td>\n",
       "      <td>-0.268855</td>\n",
       "      <td>-0.100326</td>\n",
       "      <td>-0.247467</td>\n",
       "      <td>-0.143336</td>\n",
       "      <td>-0.192998</td>\n",
       "    </tr>\n",
       "    <tr>\n",
       "      <th>cluster_7</th>\n",
       "      <td>0.676261</td>\n",
       "      <td>0.720036</td>\n",
       "      <td>0.630046</td>\n",
       "      <td>0.727246</td>\n",
       "      <td>-0.254569</td>\n",
       "      <td>0.636265</td>\n",
       "      <td>0.148917</td>\n",
       "      <td>0.325445</td>\n",
       "      <td>0.087328</td>\n",
       "      <td>0.777787</td>\n",
       "      <td>...</td>\n",
       "      <td>0.288904</td>\n",
       "      <td>0.410125</td>\n",
       "      <td>-0.118226</td>\n",
       "      <td>0.177631</td>\n",
       "      <td>-0.239487</td>\n",
       "      <td>-0.644562</td>\n",
       "      <td>-0.496828</td>\n",
       "      <td>-0.391397</td>\n",
       "      <td>-0.585242</td>\n",
       "      <td>-0.584025</td>\n",
       "    </tr>\n",
       "  </tbody>\n",
       "</table>\n",
       "<p>38 rows × 360 columns</p>\n",
       "</div>"
      ],
      "text/plain": [
       "                                                    11409232  11336574  \\\n",
       "response to lipid (GO:0033993)                     -0.200047 -0.134290   \n",
       "fatty acid beta-oxidation using acyl-CoA oxidas...  0.552967  0.461845   \n",
       "cellular response to lipid (GO:0071396)            -0.138172 -0.042435   \n",
       "positive regulation of lipid storage (GO:0010884)  -0.506187 -0.506298   \n",
       "regulation of fatty acid beta-oxidation (GO:003... -0.566798 -0.665163   \n",
       "fatty acid beta-oxidation using acyl-CoA dehydr...  0.355030  0.145974   \n",
       "fatty acid alpha-oxidation (GO:0001561)             0.641058  0.167576   \n",
       "fatty acid beta-oxidation (GO:0006635)              0.298298  0.347620   \n",
       "positive regulation of fatty acid oxidation (GO... -0.610218 -0.581492   \n",
       "regulation of fatty acid oxidation (GO:0046320)    -0.267831 -0.102356   \n",
       "negative regulation of lipid storage (GO:0010888)  -0.252146 -0.232399   \n",
       "fatty acid oxidation (GO:0019395)                   0.092940  0.263758   \n",
       "TCA cycle Homo sapiens PWY66-398                    0.519095  0.515576   \n",
       "superpathway of conversion of glucose to acetyl...  0.508865  0.556252   \n",
       "fatty acid &beta;-oxidation Homo sapiens FAO-PWY   -0.052708  0.065185   \n",
       "fatty acid &beta;-oxidation (peroxisome) Homo s...  0.117660  0.009593   \n",
       "Citrate cycle (TCA cycle)                           0.454101  0.449588   \n",
       "Glycosphingolipid biosynthesis                     -0.225280  0.023406   \n",
       "Regulation of lipolysis in adipocytes              -0.335255 -0.456729   \n",
       "Glycerophospholipid biosynthesis Homo sapiens R...  0.085542  0.013958   \n",
       "Beta oxidation of octanoyl-CoA to hexanoyl-CoA ... -0.452879  0.202650   \n",
       "Beta oxidation of decanoyl-CoA to octanoyl-CoA-... -0.452879  0.202650   \n",
       "mitochondrial fatty acid beta-oxidation of satu... -0.305898  0.214691   \n",
       "Alpha-oxidation of phytanate Homo sapiens R-HSA...  0.806225  0.445986   \n",
       "Beta-oxidation of pristanoyl-CoA Homo sapiens R...  0.542468  0.425907   \n",
       "Beta-oxidation of very long chain fatty acids H...  0.689304  0.646945   \n",
       "Fatty Acyl-CoA Biosynthesis Homo sapiens R-HSA-... -0.008838  0.305013   \n",
       "Triglyceride Biosynthesis Homo sapiens R-HSA-75109 -0.038368  0.094357   \n",
       "Biological oxidations Homo sapiens R-HSA-211859     0.322181  0.373212   \n",
       "The citric acid (TCA) cycle and respiratory ele...  0.556986  0.573338   \n",
       "Pyruvate metabolism and Citric Acid (TCA) cycle...  0.456816  0.445194   \n",
       "Citric acid cycle (TCA cycle) Homo sapiens R-HS...  0.507543  0.452077   \n",
       "SREBP control of lipid synthesis Homo sapiens h...  0.007664 -0.369365   \n",
       "Fatty acid beta-oxidation WP143                    -0.024191  0.149104   \n",
       "TCA Cycle (aka Krebs or citric acid cycle) WP78     0.513941  0.485218   \n",
       "TCA Cycle and Deficiency of Pyruvate Dehydrogen...  0.268065  0.449143   \n",
       "TCA cycle in senescence WP5050                      0.369429  0.580886   \n",
       "cluster_7                                           0.676261  0.720036   \n",
       "\n",
       "                                                    20207013  10514454  \\\n",
       "response to lipid (GO:0033993)                     -0.258264 -0.146376   \n",
       "fatty acid beta-oxidation using acyl-CoA oxidas...  0.431090  0.037452   \n",
       "cellular response to lipid (GO:0071396)            -0.229018 -0.086298   \n",
       "positive regulation of lipid storage (GO:0010884)  -0.611914 -0.045705   \n",
       "regulation of fatty acid beta-oxidation (GO:003... -0.390720 -0.315510   \n",
       "fatty acid beta-oxidation using acyl-CoA dehydr...  0.487184  0.318851   \n",
       "fatty acid alpha-oxidation (GO:0001561)            -0.372679 -0.464030   \n",
       "fatty acid beta-oxidation (GO:0006635)              0.405872  0.139789   \n",
       "positive regulation of fatty acid oxidation (GO... -0.395481 -0.442454   \n",
       "regulation of fatty acid oxidation (GO:0046320)     0.078373  0.088086   \n",
       "negative regulation of lipid storage (GO:0010888)   0.164538 -0.382501   \n",
       "fatty acid oxidation (GO:0019395)                   0.161715 -0.017353   \n",
       "TCA cycle Homo sapiens PWY66-398                    0.611597  0.566181   \n",
       "superpathway of conversion of glucose to acetyl...  0.591390  0.525227   \n",
       "fatty acid &beta;-oxidation Homo sapiens FAO-PWY   -0.149667 -0.070035   \n",
       "fatty acid &beta;-oxidation (peroxisome) Homo s... -0.279910 -0.023128   \n",
       "Citrate cycle (TCA cycle)                           0.543889  0.522019   \n",
       "Glycosphingolipid biosynthesis                      0.064044  0.002135   \n",
       "Regulation of lipolysis in adipocytes              -0.447348 -0.174423   \n",
       "Glycerophospholipid biosynthesis Homo sapiens R... -0.010965  0.197695   \n",
       "Beta oxidation of octanoyl-CoA to hexanoyl-CoA ...  0.330723  0.143127   \n",
       "Beta oxidation of decanoyl-CoA to octanoyl-CoA-...  0.330723  0.143127   \n",
       "mitochondrial fatty acid beta-oxidation of satu...  0.363455  0.283003   \n",
       "Alpha-oxidation of phytanate Homo sapiens R-HSA...  0.061596 -0.104371   \n",
       "Beta-oxidation of pristanoyl-CoA Homo sapiens R...  0.305666 -0.062267   \n",
       "Beta-oxidation of very long chain fatty acids H...  0.504270  0.360611   \n",
       "Fatty Acyl-CoA Biosynthesis Homo sapiens R-HSA-...  0.073809  0.226369   \n",
       "Triglyceride Biosynthesis Homo sapiens R-HSA-75109  0.013112  0.181835   \n",
       "Biological oxidations Homo sapiens R-HSA-211859     0.264005  0.153961   \n",
       "The citric acid (TCA) cycle and respiratory ele...  0.595623  0.572593   \n",
       "Pyruvate metabolism and Citric Acid (TCA) cycle...  0.522386  0.454331   \n",
       "Citric acid cycle (TCA cycle) Homo sapiens R-HS...  0.620244  0.445769   \n",
       "SREBP control of lipid synthesis Homo sapiens h... -0.301799  0.348469   \n",
       "Fatty acid beta-oxidation WP143                     0.190965  0.243311   \n",
       "TCA Cycle (aka Krebs or citric acid cycle) WP78     0.617444  0.485058   \n",
       "TCA Cycle and Deficiency of Pyruvate Dehydrogen...  0.465767  0.500613   \n",
       "TCA cycle in senescence WP5050                      0.252348  0.274589   \n",
       "cluster_7                                           0.630046  0.727246   \n",
       "\n",
       "                                                    10290265  21412626  \\\n",
       "response to lipid (GO:0033993)                      0.192264  0.032011   \n",
       "fatty acid beta-oxidation using acyl-CoA oxidas...  0.167709  0.221348   \n",
       "cellular response to lipid (GO:0071396)             0.082052 -0.099111   \n",
       "positive regulation of lipid storage (GO:0010884)  -0.252857 -0.701626   \n",
       "regulation of fatty acid beta-oxidation (GO:003...  0.402082 -0.062181   \n",
       "fatty acid beta-oxidation using acyl-CoA dehydr...  0.476485 -0.097297   \n",
       "fatty acid alpha-oxidation (GO:0001561)            -0.605870 -0.350405   \n",
       "fatty acid beta-oxidation (GO:0006635)              0.075758 -0.125872   \n",
       "positive regulation of fatty acid oxidation (GO...  0.175200 -0.301385   \n",
       "regulation of fatty acid oxidation (GO:0046320)     0.039860 -0.325352   \n",
       "negative regulation of lipid storage (GO:0010888)  -0.176526 -0.242074   \n",
       "fatty acid oxidation (GO:0019395)                  -0.080942 -0.236583   \n",
       "TCA cycle Homo sapiens PWY66-398                   -0.434535  0.529506   \n",
       "superpathway of conversion of glucose to acetyl... -0.169893  0.544390   \n",
       "fatty acid &beta;-oxidation Homo sapiens FAO-PWY   -0.462397 -0.204660   \n",
       "fatty acid &beta;-oxidation (peroxisome) Homo s... -0.319563  0.085476   \n",
       "Citrate cycle (TCA cycle)                          -0.348513  0.551505   \n",
       "Glycosphingolipid biosynthesis                      0.224309  0.011958   \n",
       "Regulation of lipolysis in adipocytes               0.379215  0.037279   \n",
       "Glycerophospholipid biosynthesis Homo sapiens R... -0.037005  0.168596   \n",
       "Beta oxidation of octanoyl-CoA to hexanoyl-CoA ... -0.222320 -0.379542   \n",
       "Beta oxidation of decanoyl-CoA to octanoyl-CoA-... -0.222320 -0.379542   \n",
       "mitochondrial fatty acid beta-oxidation of satu...  0.053702 -0.330544   \n",
       "Alpha-oxidation of phytanate Homo sapiens R-HSA... -0.659263 -0.250110   \n",
       "Beta-oxidation of pristanoyl-CoA Homo sapiens R... -0.249767 -0.005077   \n",
       "Beta-oxidation of very long chain fatty acids H...  0.518689  0.552029   \n",
       "Fatty Acyl-CoA Biosynthesis Homo sapiens R-HSA-... -0.434692  0.067285   \n",
       "Triglyceride Biosynthesis Homo sapiens R-HSA-75109 -0.293739  0.115589   \n",
       "Biological oxidations Homo sapiens R-HSA-211859     0.004584  0.192302   \n",
       "The citric acid (TCA) cycle and respiratory ele... -0.170796  0.457268   \n",
       "Pyruvate metabolism and Citric Acid (TCA) cycle... -0.110503  0.435777   \n",
       "Citric acid cycle (TCA cycle) Homo sapiens R-HS... -0.421468  0.493001   \n",
       "SREBP control of lipid synthesis Homo sapiens h... -0.297096 -0.076426   \n",
       "Fatty acid beta-oxidation WP143                     0.114552 -0.205888   \n",
       "TCA Cycle (aka Krebs or citric acid cycle) WP78    -0.410614  0.503335   \n",
       "TCA Cycle and Deficiency of Pyruvate Dehydrogen... -0.391262  0.578220   \n",
       "TCA cycle in senescence WP5050                     -0.257749  0.222671   \n",
       "cluster_7                                          -0.254569  0.636265   \n",
       "\n",
       "                                                    20170043  20956867  \\\n",
       "response to lipid (GO:0033993)                     -0.090794 -0.046766   \n",
       "fatty acid beta-oxidation using acyl-CoA oxidas...  0.168683  0.209369   \n",
       "cellular response to lipid (GO:0071396)            -0.109418 -0.093585   \n",
       "positive regulation of lipid storage (GO:0010884)   0.328322 -0.227392   \n",
       "regulation of fatty acid beta-oxidation (GO:003... -0.054748 -0.510056   \n",
       "fatty acid beta-oxidation using acyl-CoA dehydr...  0.145301  0.232208   \n",
       "fatty acid alpha-oxidation (GO:0001561)            -0.405554 -0.197239   \n",
       "fatty acid beta-oxidation (GO:0006635)             -0.184919  0.237026   \n",
       "positive regulation of fatty acid oxidation (GO... -0.452714 -0.444775   \n",
       "regulation of fatty acid oxidation (GO:0046320)    -0.408061  0.044657   \n",
       "negative regulation of lipid storage (GO:0010888)  -0.552383 -0.188998   \n",
       "fatty acid oxidation (GO:0019395)                  -0.344701  0.146815   \n",
       "TCA cycle Homo sapiens PWY66-398                    0.016937 -0.246402   \n",
       "superpathway of conversion of glucose to acetyl...  0.224808  0.001305   \n",
       "fatty acid &beta;-oxidation Homo sapiens FAO-PWY   -0.082368 -0.201456   \n",
       "fatty acid &beta;-oxidation (peroxisome) Homo s...  0.016737 -0.269812   \n",
       "Citrate cycle (TCA cycle)                           0.002315  0.044540   \n",
       "Glycosphingolipid biosynthesis                     -0.346214  0.211640   \n",
       "Regulation of lipolysis in adipocytes              -0.091077 -0.293099   \n",
       "Glycerophospholipid biosynthesis Homo sapiens R...  0.038853  0.152750   \n",
       "Beta oxidation of octanoyl-CoA to hexanoyl-CoA ... -0.142021  0.078386   \n",
       "Beta oxidation of decanoyl-CoA to octanoyl-CoA-... -0.142021  0.078386   \n",
       "mitochondrial fatty acid beta-oxidation of satu...  0.053144  0.194416   \n",
       "Alpha-oxidation of phytanate Homo sapiens R-HSA...  0.019589  0.007263   \n",
       "Beta-oxidation of pristanoyl-CoA Homo sapiens R... -0.064948  0.157560   \n",
       "Beta-oxidation of very long chain fatty acids H...  0.601315  0.186258   \n",
       "Fatty Acyl-CoA Biosynthesis Homo sapiens R-HSA-...  0.007544 -0.160585   \n",
       "Triglyceride Biosynthesis Homo sapiens R-HSA-75109  0.027379 -0.008486   \n",
       "Biological oxidations Homo sapiens R-HSA-211859    -0.016600 -0.076961   \n",
       "The citric acid (TCA) cycle and respiratory ele...  0.050913  0.178617   \n",
       "Pyruvate metabolism and Citric Acid (TCA) cycle... -0.047142  0.011044   \n",
       "Citric acid cycle (TCA cycle) Homo sapiens R-HS... -0.053105 -0.093002   \n",
       "SREBP control of lipid synthesis Homo sapiens h... -0.154182  0.291964   \n",
       "Fatty acid beta-oxidation WP143                     0.093764 -0.005323   \n",
       "TCA Cycle (aka Krebs or citric acid cycle) WP78    -0.053728 -0.103748   \n",
       "TCA Cycle and Deficiency of Pyruvate Dehydrogen... -0.233088 -0.055601   \n",
       "TCA cycle in senescence WP5050                     -0.560614  0.103798   \n",
       "cluster_7                                           0.148917  0.325445   \n",
       "\n",
       "                                                    21172121  20104101  ...  \\\n",
       "response to lipid (GO:0033993)                     -0.006627 -0.287197  ...   \n",
       "fatty acid beta-oxidation using acyl-CoA oxidas...  0.233162  0.491906  ...   \n",
       "cellular response to lipid (GO:0071396)            -0.070707 -0.107078  ...   \n",
       "positive regulation of lipid storage (GO:0010884)  -0.275250 -0.575622  ...   \n",
       "regulation of fatty acid beta-oxidation (GO:003...  0.421736 -0.488319  ...   \n",
       "fatty acid beta-oxidation using acyl-CoA dehydr...  0.197846  0.365925  ...   \n",
       "fatty acid alpha-oxidation (GO:0001561)            -0.343746 -0.032516  ...   \n",
       "fatty acid beta-oxidation (GO:0006635)              0.161956  0.253278  ...   \n",
       "positive regulation of fatty acid oxidation (GO...  0.029268 -0.496914  ...   \n",
       "regulation of fatty acid oxidation (GO:0046320)    -0.157895 -0.110626  ...   \n",
       "negative regulation of lipid storage (GO:0010888)  -0.243667  0.209697  ...   \n",
       "fatty acid oxidation (GO:0019395)                  -0.024284  0.083196  ...   \n",
       "TCA cycle Homo sapiens PWY66-398                    0.193013  0.636750  ...   \n",
       "superpathway of conversion of glucose to acetyl...  0.160847  0.648162  ...   \n",
       "fatty acid &beta;-oxidation Homo sapiens FAO-PWY   -0.247522  0.152556  ...   \n",
       "fatty acid &beta;-oxidation (peroxisome) Homo s...  0.014542 -0.009954  ...   \n",
       "Citrate cycle (TCA cycle)                           0.190076  0.509209  ...   \n",
       "Glycosphingolipid biosynthesis                     -0.015969 -0.097832  ...   \n",
       "Regulation of lipolysis in adipocytes               0.175446 -0.381287  ...   \n",
       "Glycerophospholipid biosynthesis Homo sapiens R...  0.259071  0.003859  ...   \n",
       "Beta oxidation of octanoyl-CoA to hexanoyl-CoA ... -0.435442  0.592623  ...   \n",
       "Beta oxidation of decanoyl-CoA to octanoyl-CoA-... -0.435442  0.592623  ...   \n",
       "mitochondrial fatty acid beta-oxidation of satu... -0.162548  0.583902  ...   \n",
       "Alpha-oxidation of phytanate Homo sapiens R-HSA... -0.413005  0.341146  ...   \n",
       "Beta-oxidation of pristanoyl-CoA Homo sapiens R...  0.214653  0.393896  ...   \n",
       "Beta-oxidation of very long chain fatty acids H...  0.402258  0.607577  ...   \n",
       "Fatty Acyl-CoA Biosynthesis Homo sapiens R-HSA-... -0.120422 -0.011066  ...   \n",
       "Triglyceride Biosynthesis Homo sapiens R-HSA-75109  0.004314 -0.047138  ...   \n",
       "Biological oxidations Homo sapiens R-HSA-211859    -0.025941  0.422675  ...   \n",
       "The citric acid (TCA) cycle and respiratory ele...  0.161470  0.671993  ...   \n",
       "Pyruvate metabolism and Citric Acid (TCA) cycle...  0.135302  0.548026  ...   \n",
       "Citric acid cycle (TCA cycle) Homo sapiens R-HS...  0.173052  0.640925  ...   \n",
       "SREBP control of lipid synthesis Homo sapiens h...  0.259693 -0.449278  ...   \n",
       "Fatty acid beta-oxidation WP143                     0.107888  0.275310  ...   \n",
       "TCA Cycle (aka Krebs or citric acid cycle) WP78     0.187785  0.644384  ...   \n",
       "TCA Cycle and Deficiency of Pyruvate Dehydrogen...  0.172192  0.359656  ...   \n",
       "TCA cycle in senescence WP5050                     -0.500397  0.453402  ...   \n",
       "cluster_7                                           0.087328  0.777787  ...   \n",
       "\n",
       "                                                    20730959  20500815  \\\n",
       "response to lipid (GO:0033993)                     -0.017337  0.177828   \n",
       "fatty acid beta-oxidation using acyl-CoA oxidas... -0.002677 -0.457383   \n",
       "cellular response to lipid (GO:0071396)            -0.180505  0.247050   \n",
       "positive regulation of lipid storage (GO:0010884)   0.155821 -0.079061   \n",
       "regulation of fatty acid beta-oxidation (GO:003...  0.384737 -0.429532   \n",
       "fatty acid beta-oxidation using acyl-CoA dehydr...  0.095818 -0.461379   \n",
       "fatty acid alpha-oxidation (GO:0001561)             0.445483 -0.459661   \n",
       "fatty acid beta-oxidation (GO:0006635)              0.367144 -0.500892   \n",
       "positive regulation of fatty acid oxidation (GO...  0.162102  0.008371   \n",
       "regulation of fatty acid oxidation (GO:0046320)    -0.367500 -0.063654   \n",
       "negative regulation of lipid storage (GO:0010888)   0.359528  0.464366   \n",
       "fatty acid oxidation (GO:0019395)                   0.313637 -0.453135   \n",
       "TCA cycle Homo sapiens PWY66-398                    0.170715  0.292794   \n",
       "superpathway of conversion of glucose to acetyl...  0.051893  0.498495   \n",
       "fatty acid &beta;-oxidation Homo sapiens FAO-PWY    0.194173 -0.255073   \n",
       "fatty acid &beta;-oxidation (peroxisome) Homo s... -0.050069 -0.244290   \n",
       "Citrate cycle (TCA cycle)                           0.250162  0.239032   \n",
       "Glycosphingolipid biosynthesis                     -0.367108  0.119504   \n",
       "Regulation of lipolysis in adipocytes              -0.114352 -0.048845   \n",
       "Glycerophospholipid biosynthesis Homo sapiens R... -0.210247 -0.157299   \n",
       "Beta oxidation of octanoyl-CoA to hexanoyl-CoA ...  0.593425 -0.641232   \n",
       "Beta oxidation of decanoyl-CoA to octanoyl-CoA-...  0.593425 -0.641232   \n",
       "mitochondrial fatty acid beta-oxidation of satu...  0.426543 -0.571736   \n",
       "Alpha-oxidation of phytanate Homo sapiens R-HSA...  0.088250 -0.444993   \n",
       "Beta-oxidation of pristanoyl-CoA Homo sapiens R... -0.112546 -0.465946   \n",
       "Beta-oxidation of very long chain fatty acids H... -0.308141 -0.545739   \n",
       "Fatty Acyl-CoA Biosynthesis Homo sapiens R-HSA-... -0.032764  0.142401   \n",
       "Triglyceride Biosynthesis Homo sapiens R-HSA-75109 -0.139253  0.099201   \n",
       "Biological oxidations Homo sapiens R-HSA-211859    -0.218811 -0.171094   \n",
       "The citric acid (TCA) cycle and respiratory ele...  0.200093  0.329378   \n",
       "Pyruvate metabolism and Citric Acid (TCA) cycle...  0.021849  0.217587   \n",
       "Citric acid cycle (TCA cycle) Homo sapiens R-HS...  0.166536  0.130931   \n",
       "SREBP control of lipid synthesis Homo sapiens h... -0.147194  0.024406   \n",
       "Fatty acid beta-oxidation WP143                     0.314845 -0.321441   \n",
       "TCA Cycle (aka Krebs or citric acid cycle) WP78     0.170732  0.181520   \n",
       "TCA Cycle and Deficiency of Pyruvate Dehydrogen...  0.424391  0.260328   \n",
       "TCA cycle in senescence WP5050                      0.026276  0.448788   \n",
       "cluster_7                                           0.288904  0.410125   \n",
       "\n",
       "                                                    21402016  51624179  \\\n",
       "response to lipid (GO:0033993)                     -0.198722 -0.176152   \n",
       "fatty acid beta-oxidation using acyl-CoA oxidas...  0.123300  0.039376   \n",
       "cellular response to lipid (GO:0071396)            -0.099056 -0.107273   \n",
       "positive regulation of lipid storage (GO:0010884)   0.390064  0.152698   \n",
       "regulation of fatty acid beta-oxidation (GO:003... -0.310100 -0.243107   \n",
       "fatty acid beta-oxidation using acyl-CoA dehydr... -0.034869 -0.305397   \n",
       "fatty acid alpha-oxidation (GO:0001561)             0.412162  0.119778   \n",
       "fatty acid beta-oxidation (GO:0006635)              0.154434 -0.005162   \n",
       "positive regulation of fatty acid oxidation (GO... -0.203226 -0.320250   \n",
       "regulation of fatty acid oxidation (GO:0046320)    -0.096551 -0.444647   \n",
       "negative regulation of lipid storage (GO:0010888)  -0.197135  0.169701   \n",
       "fatty acid oxidation (GO:0019395)                   0.290806  0.046652   \n",
       "TCA cycle Homo sapiens PWY66-398                   -0.089697  0.131928   \n",
       "superpathway of conversion of glucose to acetyl...  0.079024  0.039436   \n",
       "fatty acid &beta;-oxidation Homo sapiens FAO-PWY    0.536993  0.422721   \n",
       "fatty acid &beta;-oxidation (peroxisome) Homo s...  0.456467  0.412132   \n",
       "Citrate cycle (TCA cycle)                           0.102053  0.175395   \n",
       "Glycosphingolipid biosynthesis                      0.090310 -0.109102   \n",
       "Regulation of lipolysis in adipocytes              -0.090498 -0.008484   \n",
       "Glycerophospholipid biosynthesis Homo sapiens R... -0.171797 -0.183735   \n",
       "Beta oxidation of octanoyl-CoA to hexanoyl-CoA ... -0.272087  0.460047   \n",
       "Beta oxidation of decanoyl-CoA to octanoyl-CoA-... -0.272087  0.460047   \n",
       "mitochondrial fatty acid beta-oxidation of satu... -0.512091  0.170118   \n",
       "Alpha-oxidation of phytanate Homo sapiens R-HSA...  0.307545 -0.047969   \n",
       "Beta-oxidation of pristanoyl-CoA Homo sapiens R...  0.411740  0.161295   \n",
       "Beta-oxidation of very long chain fatty acids H... -0.109339 -0.234760   \n",
       "Fatty Acyl-CoA Biosynthesis Homo sapiens R-HSA-...  0.260580 -0.081980   \n",
       "Triglyceride Biosynthesis Homo sapiens R-HSA-75109  0.028335 -0.000215   \n",
       "Biological oxidations Homo sapiens R-HSA-211859     0.052447  0.112376   \n",
       "The citric acid (TCA) cycle and respiratory ele... -0.023947  0.208874   \n",
       "Pyruvate metabolism and Citric Acid (TCA) cycle...  0.132055  0.141648   \n",
       "Citric acid cycle (TCA cycle) Homo sapiens R-HS...  0.106858  0.166847   \n",
       "SREBP control of lipid synthesis Homo sapiens h... -0.395818  0.176982   \n",
       "Fatty acid beta-oxidation WP143                    -0.249630  0.131762   \n",
       "TCA Cycle (aka Krebs or citric acid cycle) WP78     0.015151  0.094144   \n",
       "TCA Cycle and Deficiency of Pyruvate Dehydrogen...  0.172577  0.280815   \n",
       "TCA cycle in senescence WP5050                      0.347070  0.386562   \n",
       "cluster_7                                          -0.118226  0.177631   \n",
       "\n",
       "                                                    10100574  22789958  \\\n",
       "response to lipid (GO:0033993)                     -0.207442  0.060466   \n",
       "fatty acid beta-oxidation using acyl-CoA oxidas...  0.124372 -0.481108   \n",
       "cellular response to lipid (GO:0071396)             0.012368 -0.094293   \n",
       "positive regulation of lipid storage (GO:0010884)   0.018590  0.215264   \n",
       "regulation of fatty acid beta-oxidation (GO:003... -0.298830  0.290020   \n",
       "fatty acid beta-oxidation using acyl-CoA dehydr...  0.194893  0.288399   \n",
       "fatty acid alpha-oxidation (GO:0001561)             0.000999  0.041785   \n",
       "fatty acid beta-oxidation (GO:0006635)              0.272537 -0.178627   \n",
       "positive regulation of fatty acid oxidation (GO...  0.229300  0.323878   \n",
       "regulation of fatty acid oxidation (GO:0046320)     0.449186  0.094930   \n",
       "negative regulation of lipid storage (GO:0010888)  -0.339759 -0.372642   \n",
       "fatty acid oxidation (GO:0019395)                   0.202294 -0.277563   \n",
       "TCA cycle Homo sapiens PWY66-398                   -0.245567 -0.424546   \n",
       "superpathway of conversion of glucose to acetyl... -0.379930 -0.497373   \n",
       "fatty acid &beta;-oxidation Homo sapiens FAO-PWY    0.223732  0.002081   \n",
       "fatty acid &beta;-oxidation (peroxisome) Homo s...  0.133236 -0.039740   \n",
       "Citrate cycle (TCA cycle)                          -0.246919 -0.518901   \n",
       "Glycosphingolipid biosynthesis                     -0.026836  0.236227   \n",
       "Regulation of lipolysis in adipocytes              -0.234832  0.081510   \n",
       "Glycerophospholipid biosynthesis Homo sapiens R... -0.018955 -0.068705   \n",
       "Beta oxidation of octanoyl-CoA to hexanoyl-CoA ...  0.507518 -0.273086   \n",
       "Beta oxidation of decanoyl-CoA to octanoyl-CoA-...  0.507518 -0.273086   \n",
       "mitochondrial fatty acid beta-oxidation of satu...  0.462382 -0.196739   \n",
       "Alpha-oxidation of phytanate Homo sapiens R-HSA... -0.327710 -0.122884   \n",
       "Beta-oxidation of pristanoyl-CoA Homo sapiens R...  0.157813 -0.361489   \n",
       "Beta-oxidation of very long chain fatty acids H...  0.075611 -0.471357   \n",
       "Fatty Acyl-CoA Biosynthesis Homo sapiens R-HSA-...  0.003906  0.094708   \n",
       "Triglyceride Biosynthesis Homo sapiens R-HSA-75109  0.028836  0.088727   \n",
       "Biological oxidations Homo sapiens R-HSA-211859    -0.030786 -0.184589   \n",
       "The citric acid (TCA) cycle and respiratory ele... -0.172976 -0.540405   \n",
       "Pyruvate metabolism and Citric Acid (TCA) cycle... -0.181455 -0.466790   \n",
       "Citric acid cycle (TCA cycle) Homo sapiens R-HS... -0.093796 -0.464586   \n",
       "SREBP control of lipid synthesis Homo sapiens h... -0.000783  0.249649   \n",
       "Fatty acid beta-oxidation WP143                     0.037962 -0.253973   \n",
       "TCA Cycle (aka Krebs or citric acid cycle) WP78    -0.149775 -0.443833   \n",
       "TCA Cycle and Deficiency of Pyruvate Dehydrogen... -0.383012 -0.499283   \n",
       "TCA cycle in senescence WP5050                     -0.307038 -0.268855   \n",
       "cluster_7                                          -0.239487 -0.644562   \n",
       "\n",
       "                                                    51520126  94144536  \\\n",
       "response to lipid (GO:0033993)                     -0.046090 -0.120342   \n",
       "fatty acid beta-oxidation using acyl-CoA oxidas... -0.194605  0.434002   \n",
       "cellular response to lipid (GO:0071396)             0.050387 -0.186117   \n",
       "positive regulation of lipid storage (GO:0010884)   0.435829  0.449888   \n",
       "regulation of fatty acid beta-oxidation (GO:003...  0.101679  0.336237   \n",
       "fatty acid beta-oxidation using acyl-CoA dehydr...  0.057894  0.388913   \n",
       "fatty acid alpha-oxidation (GO:0001561)             0.345948  0.429712   \n",
       "fatty acid beta-oxidation (GO:0006635)             -0.036051  0.374976   \n",
       "positive regulation of fatty acid oxidation (GO...  0.192834  0.206425   \n",
       "regulation of fatty acid oxidation (GO:0046320)     0.534448  0.035093   \n",
       "negative regulation of lipid storage (GO:0010888)  -0.518595  0.097104   \n",
       "fatty acid oxidation (GO:0019395)                  -0.147269  0.306812   \n",
       "TCA cycle Homo sapiens PWY66-398                   -0.257262 -0.164238   \n",
       "superpathway of conversion of glucose to acetyl... -0.367178 -0.366166   \n",
       "fatty acid &beta;-oxidation Homo sapiens FAO-PWY    0.113504  0.172693   \n",
       "fatty acid &beta;-oxidation (peroxisome) Homo s...  0.020741  0.292520   \n",
       "Citrate cycle (TCA cycle)                          -0.352527 -0.194162   \n",
       "Glycosphingolipid biosynthesis                      0.276946 -0.011491   \n",
       "Regulation of lipolysis in adipocytes               0.122721 -0.207052   \n",
       "Glycerophospholipid biosynthesis Homo sapiens R... -0.032135 -0.084466   \n",
       "Beta oxidation of octanoyl-CoA to hexanoyl-CoA ... -0.311847  0.329402   \n",
       "Beta oxidation of decanoyl-CoA to octanoyl-CoA-... -0.311847  0.329402   \n",
       "mitochondrial fatty acid beta-oxidation of satu... -0.367345  0.078899   \n",
       "Alpha-oxidation of phytanate Homo sapiens R-HSA...  0.080303  0.365450   \n",
       "Beta-oxidation of pristanoyl-CoA Homo sapiens R...  0.040448  0.408526   \n",
       "Beta-oxidation of very long chain fatty acids H... -0.428040  0.188266   \n",
       "Fatty Acyl-CoA Biosynthesis Homo sapiens R-HSA-...  0.278912 -0.308541   \n",
       "Triglyceride Biosynthesis Homo sapiens R-HSA-75109  0.305176 -0.067259   \n",
       "Biological oxidations Homo sapiens R-HSA-211859    -0.340066 -0.005656   \n",
       "The citric acid (TCA) cycle and respiratory ele... -0.386833 -0.250822   \n",
       "Pyruvate metabolism and Citric Acid (TCA) cycle... -0.285883 -0.139761   \n",
       "Citric acid cycle (TCA cycle) Homo sapiens R-HS... -0.182466 -0.035106   \n",
       "SREBP control of lipid synthesis Homo sapiens h...  0.488578  0.054046   \n",
       "Fatty acid beta-oxidation WP143                    -0.237358 -0.086859   \n",
       "TCA Cycle (aka Krebs or citric acid cycle) WP78    -0.190673 -0.115730   \n",
       "TCA Cycle and Deficiency of Pyruvate Dehydrogen... -0.366037 -0.094480   \n",
       "TCA cycle in senescence WP5050                     -0.100326 -0.247467   \n",
       "cluster_7                                          -0.496828 -0.391397   \n",
       "\n",
       "                                                    18659212  41285665  \n",
       "response to lipid (GO:0033993)                      0.185438  0.077265  \n",
       "fatty acid beta-oxidation using acyl-CoA oxidas... -0.030890  0.019798  \n",
       "cellular response to lipid (GO:0071396)             0.158055  0.058429  \n",
       "positive regulation of lipid storage (GO:0010884)   0.515491  0.388119  \n",
       "regulation of fatty acid beta-oxidation (GO:003...  0.230642  0.432950  \n",
       "fatty acid beta-oxidation using acyl-CoA dehydr...  0.159434  0.274606  \n",
       "fatty acid alpha-oxidation (GO:0001561)             0.657949  0.073188  \n",
       "fatty acid beta-oxidation (GO:0006635)              0.108243  0.060911  \n",
       "positive regulation of fatty acid oxidation (GO...  0.645439  0.454824  \n",
       "regulation of fatty acid oxidation (GO:0046320)     0.235448  0.308990  \n",
       "negative regulation of lipid storage (GO:0010888)   0.349142 -0.413803  \n",
       "fatty acid oxidation (GO:0019395)                   0.251436 -0.163837  \n",
       "TCA cycle Homo sapiens PWY66-398                   -0.486381 -0.332156  \n",
       "superpathway of conversion of glucose to acetyl... -0.530329 -0.333426  \n",
       "fatty acid &beta;-oxidation Homo sapiens FAO-PWY    0.167332  0.181109  \n",
       "fatty acid &beta;-oxidation (peroxisome) Homo s... -0.134433  0.030843  \n",
       "Citrate cycle (TCA cycle)                          -0.439736 -0.302504  \n",
       "Glycosphingolipid biosynthesis                      0.159249  0.375102  \n",
       "Regulation of lipolysis in adipocytes               0.138389  0.347326  \n",
       "Glycerophospholipid biosynthesis Homo sapiens R... -0.019818  0.133218  \n",
       "Beta oxidation of octanoyl-CoA to hexanoyl-CoA ... -0.071014 -0.137360  \n",
       "Beta oxidation of decanoyl-CoA to octanoyl-CoA-... -0.071014 -0.137360  \n",
       "mitochondrial fatty acid beta-oxidation of satu... -0.152761 -0.474351  \n",
       "Alpha-oxidation of phytanate Homo sapiens R-HSA...  0.518612 -0.009168  \n",
       "Beta-oxidation of pristanoyl-CoA Homo sapiens R...  0.284302  0.240790  \n",
       "Beta-oxidation of very long chain fatty acids H... -0.661079 -0.056521  \n",
       "Fatty Acyl-CoA Biosynthesis Homo sapiens R-HSA-...  0.127737  0.116681  \n",
       "Triglyceride Biosynthesis Homo sapiens R-HSA-75109  0.097225  0.194360  \n",
       "Biological oxidations Homo sapiens R-HSA-211859     0.024774 -0.152241  \n",
       "The citric acid (TCA) cycle and respiratory ele... -0.418688 -0.465861  \n",
       "Pyruvate metabolism and Citric Acid (TCA) cycle... -0.325461 -0.249646  \n",
       "Citric acid cycle (TCA cycle) Homo sapiens R-HS... -0.444874 -0.334316  \n",
       "SREBP control of lipid synthesis Homo sapiens h... -0.374493  0.676075  \n",
       "Fatty acid beta-oxidation WP143                    -0.063877 -0.112645  \n",
       "TCA Cycle (aka Krebs or citric acid cycle) WP78    -0.453676 -0.321393  \n",
       "TCA Cycle and Deficiency of Pyruvate Dehydrogen... -0.402597 -0.324887  \n",
       "TCA cycle in senescence WP5050                     -0.143336 -0.192998  \n",
       "cluster_7                                          -0.585242 -0.584025  \n",
       "\n",
       "[38 rows x 360 columns]"
      ]
     },
     "execution_count": 125,
     "metadata": {},
     "output_type": "execute_result"
    }
   ],
   "source": [
    "out"
   ]
  },
  {
   "cell_type": "code",
   "execution_count": 127,
   "id": "60a3fca3-cc0e-4100-81d7-68a3debf9db5",
   "metadata": {},
   "outputs": [
    {
     "data": {
      "text/plain": [
       "<Axes: xlabel='cluster_7', ylabel='Regulation of lipolysis in adipocytes'>"
      ]
     },
     "execution_count": 127,
     "metadata": {},
     "output_type": "execute_result"
    },
    {
     "data": {
      "image/png": "[encoded data removed]",
      "text/plain": [
       "<Figure size 432x288 with 1 Axes>"
      ]
     },
     "metadata": {
      "needs_background": "light"
     },
     "output_type": "display_data"
    }
   ],
   "source": [
    "sns.regplot(out.loc['cluster_7'], out.loc['Regulation of lipolysis in adipocytes'])"
   ]
  },
  {
   "cell_type": "code",
   "execution_count": 122,
   "id": "fdff6fea-0beb-4615-a63e-fdda0511c334",
   "metadata": {},
   "outputs": [
    {
     "data": {
      "text/plain": [
       "<matplotlib.legend.Legend at 0x7ff1bdb76130>"
      ]
     },
     "execution_count": 122,
     "metadata": {},
     "output_type": "execute_result"
    },
    {
     "data": {
      "image/png": "[encoded data removed]",
      "text/plain": [
       "<Figure size 720x432 with 1 Axes>"
      ]
     },
     "metadata": {
      "needs_background": "light"
     },
     "output_type": "display_data"
    }
   ],
   "source": [
    "plt.figure(figsize=(10,6))\n",
    "#sns.regplot(out.loc[7], out.loc[5])\n",
    "for i in range(6):\n",
    "    sns.regplot(out.loc[7], out.loc[i], label=i)\n",
    "plt.legend()"
   ]
  },
  {
   "cell_type": "code",
   "execution_count": 98,
   "id": "6de3bc70-5a51-4ba5-9671-655748a65b31",
   "metadata": {},
   "outputs": [
    {
     "data": {
      "text/plain": [
       "<Axes: xlabel='7', ylabel='6'>"
      ]
     },
     "execution_count": 98,
     "metadata": {},
     "output_type": "execute_result"
    },
    {
     "data": {
      "image/png": "[encoded data removed]",
      "text/plain": [
       "<Figure size 432x288 with 1 Axes>"
      ]
     },
     "metadata": {
      "needs_background": "light"
     },
     "output_type": "display_data"
    }
   ],
   "source": [
    "sns.regplot(out.loc[7], out.loc[6])\n"
   ]
  },
  {
   "cell_type": "code",
   "execution_count": 71,
   "id": "e656feb3-2760-4712-b05b-9a85858da745",
   "metadata": {},
   "outputs": [],
   "source": [
    "temp = out.T\n",
    "temp['exp'] = np.array(meta['exp']<np.mean(meta['exp']))"
   ]
  },
  {
   "cell_type": "code",
   "execution_count": 102,
   "id": "df47d3b7-9dce-4e4e-8f17-b0d645e4b83c",
   "metadata": {},
   "outputs": [],
   "source": [
    "temp['exp'] = np.array(out.loc[7]>np.mean(out.loc[7]))"
   ]
  },
  {
   "cell_type": "code",
   "execution_count": 111,
   "id": "1f76b7aa-ee01-478f-be15-f756be8d4695",
   "metadata": {},
   "outputs": [
    {
     "data": {
      "text/plain": [
       "<Axes: xlabel='exp', ylabel='3'>"
      ]
     },
     "execution_count": 111,
     "metadata": {},
     "output_type": "execute_result"
    },
    {
     "data": {
      "image/png": "[encoded data removed]",
      "text/plain": [
       "<Figure size 432x288 with 1 Axes>"
      ]
     },
     "metadata": {
      "needs_background": "light"
     },
     "output_type": "display_data"
    }
   ],
   "source": [
    "sns.boxplot(data=temp, x='exp', y=3)"
   ]
  },
  {
   "cell_type": "code",
   "execution_count": 110,
   "id": "4563d891-9978-4180-b145-aaf5aae6c139",
   "metadata": {},
   "outputs": [
    {
     "data": {
      "text/plain": [
       "<Axes: xlabel='exp', ylabel='2'>"
      ]
     },
     "execution_count": 110,
     "metadata": {},
     "output_type": "execute_result"
    },
    {
     "data": {
      "image/png": "[encoded data removed]",
      "text/plain": [
       "<Figure size 432x288 with 1 Axes>"
      ]
     },
     "metadata": {
      "needs_background": "light"
     },
     "output_type": "display_data"
    }
   ],
   "source": [
    "sns.boxplot(data=temp, x='exp', y=2)"
   ]
  },
  {
   "cell_type": "code",
   "execution_count": 84,
   "id": "3def7d62-21df-493d-9b3e-bc271ace33a0",
   "metadata": {},
   "outputs": [
    {
     "data": {
      "text/plain": [
       "(227, 9)"
      ]
     },
     "execution_count": 84,
     "metadata": {},
     "output_type": "execute_result"
    }
   ],
   "source": [
    "temp.shape\n"
   ]
  },
  {
   "cell_type": "code",
   "execution_count": 85,
   "id": "9c6fa71a-e22b-4def-b5c1-6c8128ea94bf",
   "metadata": {},
   "outputs": [
    {
     "data": {
      "text/plain": [
       "<Axes: xlabel='exp', ylabel='2'>"
      ]
     },
     "execution_count": 85,
     "metadata": {},
     "output_type": "execute_result"
    },
    {
     "data": {
      "image/png": "[encoded data removed]",
      "text/plain": [
       "<Figure size 432x288 with 1 Axes>"
      ]
     },
     "metadata": {
      "needs_background": "light"
     },
     "output_type": "display_data"
    }
   ],
   "source": [
    "sns.boxplot(data=temp, x='exp', y=2)"
   ]
  },
  {
   "cell_type": "code",
   "execution_count": 75,
   "id": "ecabdfe9-c132-4f82-b243-e7775c59b6dd",
   "metadata": {},
   "outputs": [
    {
     "data": {
      "text/plain": [
       "<Axes: xlabel='exp', ylabel='1'>"
      ]
     },
     "execution_count": 75,
     "metadata": {},
     "output_type": "execute_result"
    },
    {
     "data": {
      "image/png": "[encoded data removed]",
      "text/plain": [
       "<Figure size 432x288 with 1 Axes>"
      ]
     },
     "metadata": {
      "needs_background": "light"
     },
     "output_type": "display_data"
    }
   ],
   "source": [
    "sns.boxplot(data=temp, x='exp', y=1)"
   ]
  },
  {
   "cell_type": "code",
   "execution_count": 68,
   "id": "6b6d6d0c-0fad-441f-826b-b0e881d86b32",
   "metadata": {},
   "outputs": [
    {
     "data": {
      "text/html": [
       "<div>\n",
       "<style scoped>\n",
       "    .dataframe tbody tr th:only-of-type {\n",
       "        vertical-align: middle;\n",
       "    }\n",
       "\n",
       "    .dataframe tbody tr th {\n",
       "        vertical-align: top;\n",
       "    }\n",
       "\n",
       "    .dataframe thead th {\n",
       "        text-align: right;\n",
       "    }\n",
       "</style>\n",
       "<table border=\"1\" class=\"dataframe\">\n",
       "  <thead>\n",
       "    <tr style=\"text-align: right;\">\n",
       "      <th></th>\n",
       "      <th>2</th>\n",
       "      <th>5</th>\n",
       "      <th>4</th>\n",
       "      <th>0</th>\n",
       "      <th>1</th>\n",
       "      <th>6</th>\n",
       "      <th>7</th>\n",
       "      <th>3</th>\n",
       "      <th>exp</th>\n",
       "    </tr>\n",
       "  </thead>\n",
       "  <tbody>\n",
       "    <tr>\n",
       "      <th>11409232</th>\n",
       "      <td>0.208189</td>\n",
       "      <td>0.261228</td>\n",
       "      <td>-0.298194</td>\n",
       "      <td>0.042707</td>\n",
       "      <td>-0.110589</td>\n",
       "      <td>-0.239991</td>\n",
       "      <td>0.673713</td>\n",
       "      <td>0.470271</td>\n",
       "      <td>NaN</td>\n",
       "    </tr>\n",
       "    <tr>\n",
       "      <th>11336574</th>\n",
       "      <td>-0.074255</td>\n",
       "      <td>0.034979</td>\n",
       "      <td>-0.507006</td>\n",
       "      <td>0.229311</td>\n",
       "      <td>-0.236314</td>\n",
       "      <td>0.019291</td>\n",
       "      <td>0.721329</td>\n",
       "      <td>0.565180</td>\n",
       "      <td>NaN</td>\n",
       "    </tr>\n",
       "    <tr>\n",
       "      <th>20207013</th>\n",
       "      <td>0.182697</td>\n",
       "      <td>0.477160</td>\n",
       "      <td>-0.244710</td>\n",
       "      <td>-0.171698</td>\n",
       "      <td>0.168007</td>\n",
       "      <td>-0.185407</td>\n",
       "      <td>0.636756</td>\n",
       "      <td>0.594063</td>\n",
       "      <td>NaN</td>\n",
       "    </tr>\n",
       "    <tr>\n",
       "      <th>10514454</th>\n",
       "      <td>0.186631</td>\n",
       "      <td>0.086883</td>\n",
       "      <td>0.025600</td>\n",
       "      <td>-0.134679</td>\n",
       "      <td>-0.283656</td>\n",
       "      <td>0.001741</td>\n",
       "      <td>0.745264</td>\n",
       "      <td>0.390692</td>\n",
       "      <td>NaN</td>\n",
       "    </tr>\n",
       "    <tr>\n",
       "      <th>10290265</th>\n",
       "      <td>0.340860</td>\n",
       "      <td>-0.284403</td>\n",
       "      <td>-0.022646</td>\n",
       "      <td>-0.210146</td>\n",
       "      <td>-0.251783</td>\n",
       "      <td>-0.221821</td>\n",
       "      <td>-0.240764</td>\n",
       "      <td>-0.021948</td>\n",
       "      <td>NaN</td>\n",
       "    </tr>\n",
       "    <tr>\n",
       "      <th>...</th>\n",
       "      <td>...</td>\n",
       "      <td>...</td>\n",
       "      <td>...</td>\n",
       "      <td>...</td>\n",
       "      <td>...</td>\n",
       "      <td>...</td>\n",
       "      <td>...</td>\n",
       "      <td>...</td>\n",
       "      <td>...</td>\n",
       "    </tr>\n",
       "    <tr>\n",
       "      <th>20500815</th>\n",
       "      <td>0.007761</td>\n",
       "      <td>0.060213</td>\n",
       "      <td>0.001482</td>\n",
       "      <td>0.256100</td>\n",
       "      <td>-0.300399</td>\n",
       "      <td>0.160358</td>\n",
       "      <td>0.402560</td>\n",
       "      <td>0.146774</td>\n",
       "      <td>NaN</td>\n",
       "    </tr>\n",
       "    <tr>\n",
       "      <th>51624179</th>\n",
       "      <td>-0.186096</td>\n",
       "      <td>0.444190</td>\n",
       "      <td>0.334371</td>\n",
       "      <td>0.199888</td>\n",
       "      <td>0.599889</td>\n",
       "      <td>-0.122310</td>\n",
       "      <td>0.199797</td>\n",
       "      <td>0.311020</td>\n",
       "      <td>NaN</td>\n",
       "    </tr>\n",
       "    <tr>\n",
       "      <th>22789958</th>\n",
       "      <td>0.072671</td>\n",
       "      <td>0.135583</td>\n",
       "      <td>0.301538</td>\n",
       "      <td>-0.024407</td>\n",
       "      <td>0.149753</td>\n",
       "      <td>0.242455</td>\n",
       "      <td>-0.637730</td>\n",
       "      <td>-0.321629</td>\n",
       "      <td>NaN</td>\n",
       "    </tr>\n",
       "    <tr>\n",
       "      <th>18659212</th>\n",
       "      <td>0.131044</td>\n",
       "      <td>0.041132</td>\n",
       "      <td>0.365643</td>\n",
       "      <td>0.033436</td>\n",
       "      <td>0.153462</td>\n",
       "      <td>0.211915</td>\n",
       "      <td>-0.582189</td>\n",
       "      <td>-0.332647</td>\n",
       "      <td>NaN</td>\n",
       "    </tr>\n",
       "    <tr>\n",
       "      <th>41285665</th>\n",
       "      <td>0.057603</td>\n",
       "      <td>-0.109157</td>\n",
       "      <td>0.218955</td>\n",
       "      <td>-0.258543</td>\n",
       "      <td>-0.139664</td>\n",
       "      <td>0.277266</td>\n",
       "      <td>-0.572412</td>\n",
       "      <td>-0.323980</td>\n",
       "      <td>NaN</td>\n",
       "    </tr>\n",
       "  </tbody>\n",
       "</table>\n",
       "<p>227 rows × 9 columns</p>\n",
       "</div>"
      ],
      "text/plain": [
       "                 2         5         4         0         1         6  \\\n",
       "11409232  0.208189  0.261228 -0.298194  0.042707 -0.110589 -0.239991   \n",
       "11336574 -0.074255  0.034979 -0.507006  0.229311 -0.236314  0.019291   \n",
       "20207013  0.182697  0.477160 -0.244710 -0.171698  0.168007 -0.185407   \n",
       "10514454  0.186631  0.086883  0.025600 -0.134679 -0.283656  0.001741   \n",
       "10290265  0.340860 -0.284403 -0.022646 -0.210146 -0.251783 -0.221821   \n",
       "...            ...       ...       ...       ...       ...       ...   \n",
       "20500815  0.007761  0.060213  0.001482  0.256100 -0.300399  0.160358   \n",
       "51624179 -0.186096  0.444190  0.334371  0.199888  0.599889 -0.122310   \n",
       "22789958  0.072671  0.135583  0.301538 -0.024407  0.149753  0.242455   \n",
       "18659212  0.131044  0.041132  0.365643  0.033436  0.153462  0.211915   \n",
       "41285665  0.057603 -0.109157  0.218955 -0.258543 -0.139664  0.277266   \n",
       "\n",
       "                 7         3  exp  \n",
       "11409232  0.673713  0.470271  NaN  \n",
       "11336574  0.721329  0.565180  NaN  \n",
       "20207013  0.636756  0.594063  NaN  \n",
       "10514454  0.745264  0.390692  NaN  \n",
       "10290265 -0.240764 -0.021948  NaN  \n",
       "...            ...       ...  ...  \n",
       "20500815  0.402560  0.146774  NaN  \n",
       "51624179  0.199797  0.311020  NaN  \n",
       "22789958 -0.637730 -0.321629  NaN  \n",
       "18659212 -0.582189 -0.332647  NaN  \n",
       "41285665 -0.572412 -0.323980  NaN  \n",
       "\n",
       "[227 rows x 9 columns]"
      ]
     },
     "execution_count": 68,
     "metadata": {},
     "output_type": "execute_result"
    }
   ],
   "source": [
    "temp"
   ]
  },
  {
   "cell_type": "code",
   "execution_count": 42,
   "id": "edf22148-31e6-4de0-b4f4-5fc094ecb600",
   "metadata": {},
   "outputs": [
    {
     "data": {
      "text/html": [
       "<div>\n",
       "<style scoped>\n",
       "    .dataframe tbody tr th:only-of-type {\n",
       "        vertical-align: middle;\n",
       "    }\n",
       "\n",
       "    .dataframe tbody tr th {\n",
       "        vertical-align: top;\n",
       "    }\n",
       "\n",
       "    .dataframe thead th {\n",
       "        text-align: right;\n",
       "    }\n",
       "</style>\n",
       "<table border=\"1\" class=\"dataframe\">\n",
       "  <thead>\n",
       "    <tr style=\"text-align: right;\">\n",
       "      <th></th>\n",
       "      <th>Row.names</th>\n",
       "      <th>X0</th>\n",
       "      <th>WGSid</th>\n",
       "      <th>projid</th>\n",
       "      <th>study</th>\n",
       "      <th>pmi</th>\n",
       "      <th>age_death</th>\n",
       "      <th>msex</th>\n",
       "      <th>amyloid</th>\n",
       "      <th>ceradsc</th>\n",
       "      <th>...</th>\n",
       "      <th>ABCA1</th>\n",
       "      <th>ABCA7</th>\n",
       "      <th>ATP8B4</th>\n",
       "      <th>TREM2</th>\n",
       "      <th>colSums(df[var_info$LOF.y == 1, ])</th>\n",
       "      <th>rs3752246</th>\n",
       "      <th>seq_batch</th>\n",
       "      <th>apoe</th>\n",
       "      <th>rs3752246_binary</th>\n",
       "      <th>exp</th>\n",
       "    </tr>\n",
       "  </thead>\n",
       "  <tbody>\n",
       "    <tr>\n",
       "      <th>11409232</th>\n",
       "      <td>11409232</td>\n",
       "      <td>SM-CJGIM</td>\n",
       "      <td>SM-CJGIM</td>\n",
       "      <td>11409232</td>\n",
       "      <td>ROS</td>\n",
       "      <td>1.333333</td>\n",
       "      <td>80.098563</td>\n",
       "      <td>1</td>\n",
       "      <td>0.000000</td>\n",
       "      <td>4</td>\n",
       "      <td>...</td>\n",
       "      <td>0</td>\n",
       "      <td>0</td>\n",
       "      <td>0</td>\n",
       "      <td>0</td>\n",
       "      <td>0</td>\n",
       "      <td>0</td>\n",
       "      <td>171013Tsa</td>\n",
       "      <td>0</td>\n",
       "      <td>0</td>\n",
       "      <td>NaN</td>\n",
       "    </tr>\n",
       "    <tr>\n",
       "      <th>11336574</th>\n",
       "      <td>11336574</td>\n",
       "      <td>SM-CTEGO</td>\n",
       "      <td>SM-CTEGO</td>\n",
       "      <td>11336574</td>\n",
       "      <td>ROS</td>\n",
       "      <td>3.500000</td>\n",
       "      <td>89.026694</td>\n",
       "      <td>1</td>\n",
       "      <td>7.365714</td>\n",
       "      <td>1</td>\n",
       "      <td>...</td>\n",
       "      <td>0</td>\n",
       "      <td>0</td>\n",
       "      <td>0</td>\n",
       "      <td>0</td>\n",
       "      <td>0</td>\n",
       "      <td>0</td>\n",
       "      <td>171013Tsa</td>\n",
       "      <td>1</td>\n",
       "      <td>0</td>\n",
       "      <td>NaN</td>\n",
       "    </tr>\n",
       "    <tr>\n",
       "      <th>20207013</th>\n",
       "      <td>20207013</td>\n",
       "      <td>SM-CJGLH</td>\n",
       "      <td>SM-CJGLH</td>\n",
       "      <td>20207013</td>\n",
       "      <td>ROS</td>\n",
       "      <td>4.166667</td>\n",
       "      <td>96.016427</td>\n",
       "      <td>0</td>\n",
       "      <td>0.000000</td>\n",
       "      <td>4</td>\n",
       "      <td>...</td>\n",
       "      <td>0</td>\n",
       "      <td>0</td>\n",
       "      <td>0</td>\n",
       "      <td>0</td>\n",
       "      <td>0</td>\n",
       "      <td>0</td>\n",
       "      <td>171013Tsa</td>\n",
       "      <td>0</td>\n",
       "      <td>0</td>\n",
       "      <td>NaN</td>\n",
       "    </tr>\n",
       "    <tr>\n",
       "      <th>10514454</th>\n",
       "      <td>10514454</td>\n",
       "      <td>SM-CJK5N</td>\n",
       "      <td>SM-CJK5N</td>\n",
       "      <td>10514454</td>\n",
       "      <td>ROS</td>\n",
       "      <td>16.750000</td>\n",
       "      <td>79.534565</td>\n",
       "      <td>1</td>\n",
       "      <td>0.000000</td>\n",
       "      <td>4</td>\n",
       "      <td>...</td>\n",
       "      <td>0</td>\n",
       "      <td>0</td>\n",
       "      <td>0</td>\n",
       "      <td>0</td>\n",
       "      <td>0</td>\n",
       "      <td>0</td>\n",
       "      <td>171013Tsa</td>\n",
       "      <td>0</td>\n",
       "      <td>0</td>\n",
       "      <td>NaN</td>\n",
       "    </tr>\n",
       "    <tr>\n",
       "      <th>10290265</th>\n",
       "      <td>10290265</td>\n",
       "      <td>SM-CTEM3</td>\n",
       "      <td>SM-CTEM3</td>\n",
       "      <td>10290265</td>\n",
       "      <td>ROS</td>\n",
       "      <td>20.483333</td>\n",
       "      <td>86.403833</td>\n",
       "      <td>1</td>\n",
       "      <td>2.878333</td>\n",
       "      <td>1</td>\n",
       "      <td>...</td>\n",
       "      <td>0</td>\n",
       "      <td>0</td>\n",
       "      <td>0</td>\n",
       "      <td>0</td>\n",
       "      <td>0</td>\n",
       "      <td>0</td>\n",
       "      <td>171013Tsa</td>\n",
       "      <td>0</td>\n",
       "      <td>0</td>\n",
       "      <td>NaN</td>\n",
       "    </tr>\n",
       "    <tr>\n",
       "      <th>...</th>\n",
       "      <td>...</td>\n",
       "      <td>...</td>\n",
       "      <td>...</td>\n",
       "      <td>...</td>\n",
       "      <td>...</td>\n",
       "      <td>...</td>\n",
       "      <td>...</td>\n",
       "      <td>...</td>\n",
       "      <td>...</td>\n",
       "      <td>...</td>\n",
       "      <td>...</td>\n",
       "      <td>...</td>\n",
       "      <td>...</td>\n",
       "      <td>...</td>\n",
       "      <td>...</td>\n",
       "      <td>...</td>\n",
       "      <td>...</td>\n",
       "      <td>...</td>\n",
       "      <td>...</td>\n",
       "      <td>...</td>\n",
       "      <td>...</td>\n",
       "    </tr>\n",
       "    <tr>\n",
       "      <th>20500815</th>\n",
       "      <td>20500815</td>\n",
       "      <td>SM-CTDSF</td>\n",
       "      <td>SM-CTDSF</td>\n",
       "      <td>20500815</td>\n",
       "      <td>ROS</td>\n",
       "      <td>5.000000</td>\n",
       "      <td>90.297057</td>\n",
       "      <td>0</td>\n",
       "      <td>0.928125</td>\n",
       "      <td>2</td>\n",
       "      <td>...</td>\n",
       "      <td>0</td>\n",
       "      <td>0</td>\n",
       "      <td>0</td>\n",
       "      <td>0</td>\n",
       "      <td>0</td>\n",
       "      <td>0</td>\n",
       "      <td>last_16</td>\n",
       "      <td>0</td>\n",
       "      <td>0</td>\n",
       "      <td>NaN</td>\n",
       "    </tr>\n",
       "    <tr>\n",
       "      <th>51624179</th>\n",
       "      <td>51624179</td>\n",
       "      <td>SM-CTEIP</td>\n",
       "      <td>SM-CTEIP</td>\n",
       "      <td>51624179</td>\n",
       "      <td>MAP</td>\n",
       "      <td>8.250000</td>\n",
       "      <td>91.800137</td>\n",
       "      <td>0</td>\n",
       "      <td>11.892500</td>\n",
       "      <td>1</td>\n",
       "      <td>...</td>\n",
       "      <td>0</td>\n",
       "      <td>0</td>\n",
       "      <td>0</td>\n",
       "      <td>0</td>\n",
       "      <td>0</td>\n",
       "      <td>0</td>\n",
       "      <td>last_16</td>\n",
       "      <td>1</td>\n",
       "      <td>0</td>\n",
       "      <td>NaN</td>\n",
       "    </tr>\n",
       "    <tr>\n",
       "      <th>22789958</th>\n",
       "      <td>22789958</td>\n",
       "      <td>SM-CJJ1N</td>\n",
       "      <td>SM-CJJ1N</td>\n",
       "      <td>22789958</td>\n",
       "      <td>MAP</td>\n",
       "      <td>5.783333</td>\n",
       "      <td>99.164956</td>\n",
       "      <td>1</td>\n",
       "      <td>5.673333</td>\n",
       "      <td>2</td>\n",
       "      <td>...</td>\n",
       "      <td>0</td>\n",
       "      <td>0</td>\n",
       "      <td>0</td>\n",
       "      <td>0</td>\n",
       "      <td>0</td>\n",
       "      <td>0</td>\n",
       "      <td>last_16</td>\n",
       "      <td>0</td>\n",
       "      <td>0</td>\n",
       "      <td>NaN</td>\n",
       "    </tr>\n",
       "    <tr>\n",
       "      <th>18659212</th>\n",
       "      <td>18659212</td>\n",
       "      <td>SM-CJGI1</td>\n",
       "      <td>SM-CJGI1</td>\n",
       "      <td>18659212</td>\n",
       "      <td>MAP</td>\n",
       "      <td>6.800000</td>\n",
       "      <td>91.731691</td>\n",
       "      <td>1</td>\n",
       "      <td>1.741562</td>\n",
       "      <td>3</td>\n",
       "      <td>...</td>\n",
       "      <td>0</td>\n",
       "      <td>0</td>\n",
       "      <td>0</td>\n",
       "      <td>0</td>\n",
       "      <td>0</td>\n",
       "      <td>0</td>\n",
       "      <td>last_16</td>\n",
       "      <td>0</td>\n",
       "      <td>0</td>\n",
       "      <td>NaN</td>\n",
       "    </tr>\n",
       "    <tr>\n",
       "      <th>41285665</th>\n",
       "      <td>41285665</td>\n",
       "      <td>SM-CJJ1F</td>\n",
       "      <td>SM-CJJ1F</td>\n",
       "      <td>41285665</td>\n",
       "      <td>MAP</td>\n",
       "      <td>5.916667</td>\n",
       "      <td>91.340178</td>\n",
       "      <td>0</td>\n",
       "      <td>0.121875</td>\n",
       "      <td>4</td>\n",
       "      <td>...</td>\n",
       "      <td>0</td>\n",
       "      <td>0</td>\n",
       "      <td>0</td>\n",
       "      <td>0</td>\n",
       "      <td>0</td>\n",
       "      <td>0</td>\n",
       "      <td>last_16</td>\n",
       "      <td>0</td>\n",
       "      <td>0</td>\n",
       "      <td>NaN</td>\n",
       "    </tr>\n",
       "  </tbody>\n",
       "</table>\n",
       "<p>227 rows × 110 columns</p>\n",
       "</div>"
      ],
      "text/plain": [
       "          Row.names        X0     WGSid    projid study        pmi  age_death  \\\n",
       "11409232   11409232  SM-CJGIM  SM-CJGIM  11409232   ROS   1.333333  80.098563   \n",
       "11336574   11336574  SM-CTEGO  SM-CTEGO  11336574   ROS   3.500000  89.026694   \n",
       "20207013   20207013  SM-CJGLH  SM-CJGLH  20207013   ROS   4.166667  96.016427   \n",
       "10514454   10514454  SM-CJK5N  SM-CJK5N  10514454   ROS  16.750000  79.534565   \n",
       "10290265   10290265  SM-CTEM3  SM-CTEM3  10290265   ROS  20.483333  86.403833   \n",
       "...             ...       ...       ...       ...   ...        ...        ...   \n",
       "20500815   20500815  SM-CTDSF  SM-CTDSF  20500815   ROS   5.000000  90.297057   \n",
       "51624179   51624179  SM-CTEIP  SM-CTEIP  51624179   MAP   8.250000  91.800137   \n",
       "22789958   22789958  SM-CJJ1N  SM-CJJ1N  22789958   MAP   5.783333  99.164956   \n",
       "18659212   18659212  SM-CJGI1  SM-CJGI1  18659212   MAP   6.800000  91.731691   \n",
       "41285665   41285665  SM-CJJ1F  SM-CJJ1F  41285665   MAP   5.916667  91.340178   \n",
       "\n",
       "          msex    amyloid  ceradsc  ...  ABCA1  ABCA7  ATP8B4  TREM2  \\\n",
       "11409232     1   0.000000        4  ...      0      0       0      0   \n",
       "11336574     1   7.365714        1  ...      0      0       0      0   \n",
       "20207013     0   0.000000        4  ...      0      0       0      0   \n",
       "10514454     1   0.000000        4  ...      0      0       0      0   \n",
       "10290265     1   2.878333        1  ...      0      0       0      0   \n",
       "...        ...        ...      ...  ...    ...    ...     ...    ...   \n",
       "20500815     0   0.928125        2  ...      0      0       0      0   \n",
       "51624179     0  11.892500        1  ...      0      0       0      0   \n",
       "22789958     1   5.673333        2  ...      0      0       0      0   \n",
       "18659212     1   1.741562        3  ...      0      0       0      0   \n",
       "41285665     0   0.121875        4  ...      0      0       0      0   \n",
       "\n",
       "          colSums(df[var_info$LOF.y == 1, ])  rs3752246  seq_batch apoe  \\\n",
       "11409232                                   0          0  171013Tsa    0   \n",
       "11336574                                   0          0  171013Tsa    1   \n",
       "20207013                                   0          0  171013Tsa    0   \n",
       "10514454                                   0          0  171013Tsa    0   \n",
       "10290265                                   0          0  171013Tsa    0   \n",
       "...                                      ...        ...        ...  ...   \n",
       "20500815                                   0          0    last_16    0   \n",
       "51624179                                   0          0    last_16    1   \n",
       "22789958                                   0          0    last_16    0   \n",
       "18659212                                   0          0    last_16    0   \n",
       "41285665                                   0          0    last_16    0   \n",
       "\n",
       "         rs3752246_binary exp  \n",
       "11409232                0 NaN  \n",
       "11336574                0 NaN  \n",
       "20207013                0 NaN  \n",
       "10514454                0 NaN  \n",
       "10290265                0 NaN  \n",
       "...                   ...  ..  \n",
       "20500815                0 NaN  \n",
       "51624179                0 NaN  \n",
       "22789958                0 NaN  \n",
       "18659212                0 NaN  \n",
       "41285665                0 NaN  \n",
       "\n",
       "[227 rows x 110 columns]"
      ]
     },
     "execution_count": 42,
     "metadata": {},
     "output_type": "execute_result"
    }
   ],
   "source": [
    "meta"
   ]
  },
  {
   "cell_type": "code",
   "execution_count": 6,
   "id": "08e84814-cf08-4741-9b74-f77f7a42b6a5",
   "metadata": {},
   "outputs": [
    {
     "data": {
      "text/plain": [
       "11409232    0.233722\n",
       "11336574   -0.060074\n",
       "20207013    0.181629\n",
       "10514454    0.190301\n",
       "10290265    0.349483\n",
       "              ...   \n",
       "22789958    0.066360\n",
       "51520126    0.236712\n",
       "94144536   -0.305342\n",
       "18659212    0.130562\n",
       "41285665    0.060204\n",
       "Name: 2, Length: 360, dtype: float64"
      ]
     },
     "execution_count": 6,
     "metadata": {},
     "output_type": "execute_result"
    }
   ],
   "source": [
    "out.loc[2]"
   ]
  },
  {
   "cell_type": "markdown",
   "id": "0a68fdb2-c3dc-46b3-a68e-92d439330582",
   "metadata": {},
   "source": [
    "## below is scrap"
   ]
  },
  {
   "cell_type": "code",
   "execution_count": 53,
   "id": "add6f288-a179-4716-a956-f4712fb4a76a",
   "metadata": {},
   "outputs": [],
   "source": []
  },
  {
   "cell_type": "code",
   "execution_count": 32,
   "id": "9d3ce535-48aa-4140-802c-fa23d01c8ff3",
   "metadata": {},
   "outputs": [
    {
     "data": {
      "text/plain": [
       "-1.3010299956639813"
      ]
     },
     "execution_count": 32,
     "metadata": {},
     "output_type": "execute_result"
    }
   ],
   "source": [
    "np.log10(0.05)"
   ]
  },
  {
   "cell_type": "code",
   "execution_count": 61,
   "id": "978fcef1-f0c4-46d9-b477-2c63c34d4db9",
   "metadata": {},
   "outputs": [
    {
     "data": {
      "text/plain": [
       "<Axes: xlabel='score', ylabel='cluster'>"
      ]
     },
     "execution_count": 61,
     "metadata": {},
     "output_type": "execute_result"
    },
    {
     "data": {
      "image/png": "[encoded data removed]",
      "text/plain": [
       "<Figure size 288x144 with 1 Axes>"
      ]
     },
     "metadata": {
      "needs_background": "light"
     },
     "output_type": "display_data"
    }
   ],
   "source": []
  },
  {
   "cell_type": "code",
   "execution_count": 60,
   "id": "c5bc6098-126b-4e4b-a55f-198b5c8bdceb",
   "metadata": {},
   "outputs": [
    {
     "data": {
      "text/plain": [
       "7    cluster 0\n",
       "1    cluster 1\n",
       "0    cluster 2\n",
       "2    cluster 3\n",
       "6    cluster 4\n",
       "4    cluster 5\n",
       "5    cluster 6\n",
       "3    cluster 7\n",
       "Name: cluster, dtype: object"
      ]
     },
     "execution_count": 60,
     "metadata": {},
     "output_type": "execute_result"
    }
   ],
   "source": []
  },
  {
   "cell_type": "code",
   "execution_count": 52,
   "id": "1c5576d2-4cb8-45d3-84c5-aa833e148a06",
   "metadata": {},
   "outputs": [
    {
     "data": {
      "text/plain": [
       "['cluster 2',\n",
       " 'cluster 1',\n",
       " 'cluster 3',\n",
       " 'cluster 7',\n",
       " 'cluster 5',\n",
       " 'cluster 6',\n",
       " 'cluster 4',\n",
       " 'cluster 0']"
      ]
     },
     "execution_count": 52,
     "metadata": {},
     "output_type": "execute_result"
    }
   ],
   "source": []
  },
  {
   "cell_type": "code",
   "execution_count": 19,
   "id": "7124e3be-7ea8-4933-9f1f-5a1458100165",
   "metadata": {},
   "outputs": [
    {
     "data": {
      "text/html": [
       "<div>\n",
       "<style scoped>\n",
       "    .dataframe tbody tr th:only-of-type {\n",
       "        vertical-align: middle;\n",
       "    }\n",
       "\n",
       "    .dataframe tbody tr th {\n",
       "        vertical-align: top;\n",
       "    }\n",
       "\n",
       "    .dataframe thead th {\n",
       "        text-align: right;\n",
       "    }\n",
       "</style>\n",
       "<table border=\"1\" class=\"dataframe\">\n",
       "  <thead>\n",
       "    <tr style=\"text-align: right;\">\n",
       "      <th></th>\n",
       "      <th>Unnamed: 0</th>\n",
       "      <th>pathway</th>\n",
       "      <th>pval</th>\n",
       "      <th>padj</th>\n",
       "      <th>log2err</th>\n",
       "      <th>ES</th>\n",
       "      <th>NES</th>\n",
       "      <th>size</th>\n",
       "      <th>score</th>\n",
       "    </tr>\n",
       "  </thead>\n",
       "  <tbody>\n",
       "    <tr>\n",
       "      <th>0</th>\n",
       "      <td>1</td>\n",
       "      <td>2</td>\n",
       "      <td>0.007539</td>\n",
       "      <td>0.050774</td>\n",
       "      <td>0.274717</td>\n",
       "      <td>-0.521591</td>\n",
       "      <td>-1.666116</td>\n",
       "      <td>31</td>\n",
       "      <td>-2.122684</td>\n",
       "    </tr>\n",
       "    <tr>\n",
       "      <th>1</th>\n",
       "      <td>2</td>\n",
       "      <td>1</td>\n",
       "      <td>0.012693</td>\n",
       "      <td>0.050774</td>\n",
       "      <td>0.159153</td>\n",
       "      <td>0.517189</td>\n",
       "      <td>1.585338</td>\n",
       "      <td>38</td>\n",
       "      <td>1.896419</td>\n",
       "    </tr>\n",
       "    <tr>\n",
       "      <th>2</th>\n",
       "      <td>3</td>\n",
       "      <td>3</td>\n",
       "      <td>0.040667</td>\n",
       "      <td>0.106093</td>\n",
       "      <td>0.087357</td>\n",
       "      <td>0.456386</td>\n",
       "      <td>1.430772</td>\n",
       "      <td>43</td>\n",
       "      <td>1.390763</td>\n",
       "    </tr>\n",
       "    <tr>\n",
       "      <th>3</th>\n",
       "      <td>4</td>\n",
       "      <td>7</td>\n",
       "      <td>0.053047</td>\n",
       "      <td>0.106093</td>\n",
       "      <td>0.076608</td>\n",
       "      <td>0.455928</td>\n",
       "      <td>1.408364</td>\n",
       "      <td>40</td>\n",
       "      <td>1.275342</td>\n",
       "    </tr>\n",
       "    <tr>\n",
       "      <th>4</th>\n",
       "      <td>5</td>\n",
       "      <td>5</td>\n",
       "      <td>0.312539</td>\n",
       "      <td>0.451462</td>\n",
       "      <td>0.028688</td>\n",
       "      <td>0.358629</td>\n",
       "      <td>1.099306</td>\n",
       "      <td>38</td>\n",
       "      <td>0.505096</td>\n",
       "    </tr>\n",
       "    <tr>\n",
       "      <th>5</th>\n",
       "      <td>6</td>\n",
       "      <td>6</td>\n",
       "      <td>0.338596</td>\n",
       "      <td>0.451462</td>\n",
       "      <td>0.036511</td>\n",
       "      <td>-0.387688</td>\n",
       "      <td>-1.085840</td>\n",
       "      <td>18</td>\n",
       "      <td>-0.470318</td>\n",
       "    </tr>\n",
       "    <tr>\n",
       "      <th>6</th>\n",
       "      <td>7</td>\n",
       "      <td>4</td>\n",
       "      <td>0.668592</td>\n",
       "      <td>0.764105</td>\n",
       "      <td>0.017485</td>\n",
       "      <td>0.323588</td>\n",
       "      <td>0.862752</td>\n",
       "      <td>20</td>\n",
       "      <td>0.174839</td>\n",
       "    </tr>\n",
       "    <tr>\n",
       "      <th>7</th>\n",
       "      <td>8</td>\n",
       "      <td>0</td>\n",
       "      <td>0.835604</td>\n",
       "      <td>0.835604</td>\n",
       "      <td>0.013323</td>\n",
       "      <td>0.250252</td>\n",
       "      <td>0.767096</td>\n",
       "      <td>38</td>\n",
       "      <td>0.078000</td>\n",
       "    </tr>\n",
       "  </tbody>\n",
       "</table>\n",
       "</div>"
      ],
      "text/plain": [
       "   Unnamed: 0  pathway      pval      padj   log2err        ES       NES  \\\n",
       "0           1        2  0.007539  0.050774  0.274717 -0.521591 -1.666116   \n",
       "1           2        1  0.012693  0.050774  0.159153  0.517189  1.585338   \n",
       "2           3        3  0.040667  0.106093  0.087357  0.456386  1.430772   \n",
       "3           4        7  0.053047  0.106093  0.076608  0.455928  1.408364   \n",
       "4           5        5  0.312539  0.451462  0.028688  0.358629  1.099306   \n",
       "5           6        6  0.338596  0.451462  0.036511 -0.387688 -1.085840   \n",
       "6           7        4  0.668592  0.764105  0.017485  0.323588  0.862752   \n",
       "7           8        0  0.835604  0.835604  0.013323  0.250252  0.767096   \n",
       "\n",
       "   size     score  \n",
       "0    31 -2.122684  \n",
       "1    38  1.896419  \n",
       "2    43  1.390763  \n",
       "3    40  1.275342  \n",
       "4    38  0.505096  \n",
       "5    18 -0.470318  \n",
       "6    20  0.174839  \n",
       "7    38  0.078000  "
      ]
     },
     "execution_count": 19,
     "metadata": {},
     "output_type": "execute_result"
    }
   ],
   "source": [
    "temp"
   ]
  },
  {
   "cell_type": "code",
   "execution_count": null,
   "id": "cbf4d5fd-109e-4662-9fe1-51e27b241171",
   "metadata": {},
   "outputs": [],
   "source": [
    "# show random control above & Holstege "
   ]
  },
  {
   "cell_type": "code",
   "execution_count": 40,
   "id": "e4ff2816-32fb-4f6b-b847-a01481730801",
   "metadata": {},
   "outputs": [],
   "source": [
    "scores = pd.read_csv('../processed_data/single_cell/all_scores_0825.csv', index_col=0)\n"
   ]
  },
  {
   "cell_type": "code",
   "execution_count": 41,
   "id": "e1e76075-6897-4513-865b-901abd69aba6",
   "metadata": {},
   "outputs": [
    {
     "name": "stderr",
     "output_type": "stream",
     "text": [
      "/state/partition1/slurm_tmp/24464380.0.0/ipykernel_2659263/599630411.py:2: MatplotlibDeprecationWarning: The get_cmap function was deprecated in Matplotlib 3.7 and will be removed two minor releases later. Use ``matplotlib.colormaps[name]`` or ``matplotlib.colormaps.get_cmap(obj)`` instead.\n",
      "  cm = plt.cm.get_cmap('tab20')\n"
     ]
    }
   ],
   "source": [
    "unique_clusters = np.unique(frame['cluster'])\n",
    "cm = plt.cm.get_cmap('tab20')\n",
    "colors = [cm(int(x)) for x in range(len(unique_clusters))]"
   ]
  },
  {
   "cell_type": "code",
   "execution_count": 14,
   "id": "cc40b16d-9cd0-40ce-a311-e620bbf286a9",
   "metadata": {},
   "outputs": [
    {
     "name": "stderr",
     "output_type": "stream",
     "text": [
      "/state/partition1/llgrid/pkg/anaconda/anaconda3-2022a/lib/python3.8/site-packages/seaborn/distributions.py:2619: FutureWarning: `distplot` is a deprecated function and will be removed in a future version. Please adapt your code to use either `displot` (a figure-level function with similar flexibility) or `kdeplot` (an axes-level function for kernel density plots).\n",
      "  warnings.warn(msg, FutureWarning)\n",
      "/state/partition1/llgrid/pkg/anaconda/anaconda3-2022a/lib/python3.8/site-packages/seaborn/distributions.py:2619: FutureWarning: `distplot` is a deprecated function and will be removed in a future version. Please adapt your code to use either `displot` (a figure-level function with similar flexibility) or `kdeplot` (an axes-level function for kernel density plots).\n",
      "  warnings.warn(msg, FutureWarning)\n",
      "/state/partition1/llgrid/pkg/anaconda/anaconda3-2022a/lib/python3.8/site-packages/seaborn/distributions.py:2619: FutureWarning: `distplot` is a deprecated function and will be removed in a future version. Please adapt your code to use either `displot` (a figure-level function with similar flexibility) or `kdeplot` (an axes-level function for kernel density plots).\n",
      "  warnings.warn(msg, FutureWarning)\n",
      "/state/partition1/llgrid/pkg/anaconda/anaconda3-2022a/lib/python3.8/site-packages/seaborn/distributions.py:2619: FutureWarning: `distplot` is a deprecated function and will be removed in a future version. Please adapt your code to use either `displot` (a figure-level function with similar flexibility) or `kdeplot` (an axes-level function for kernel density plots).\n",
      "  warnings.warn(msg, FutureWarning)\n",
      "/state/partition1/llgrid/pkg/anaconda/anaconda3-2022a/lib/python3.8/site-packages/seaborn/distributions.py:2619: FutureWarning: `distplot` is a deprecated function and will be removed in a future version. Please adapt your code to use either `displot` (a figure-level function with similar flexibility) or `kdeplot` (an axes-level function for kernel density plots).\n",
      "  warnings.warn(msg, FutureWarning)\n",
      "/state/partition1/llgrid/pkg/anaconda/anaconda3-2022a/lib/python3.8/site-packages/seaborn/distributions.py:2619: FutureWarning: `distplot` is a deprecated function and will be removed in a future version. Please adapt your code to use either `displot` (a figure-level function with similar flexibility) or `kdeplot` (an axes-level function for kernel density plots).\n",
      "  warnings.warn(msg, FutureWarning)\n",
      "/state/partition1/llgrid/pkg/anaconda/anaconda3-2022a/lib/python3.8/site-packages/seaborn/distributions.py:2619: FutureWarning: `distplot` is a deprecated function and will be removed in a future version. Please adapt your code to use either `displot` (a figure-level function with similar flexibility) or `kdeplot` (an axes-level function for kernel density plots).\n",
      "  warnings.warn(msg, FutureWarning)\n",
      "/state/partition1/llgrid/pkg/anaconda/anaconda3-2022a/lib/python3.8/site-packages/seaborn/distributions.py:2619: FutureWarning: `distplot` is a deprecated function and will be removed in a future version. Please adapt your code to use either `displot` (a figure-level function with similar flexibility) or `kdeplot` (an axes-level function for kernel density plots).\n",
      "  warnings.warn(msg, FutureWarning)\n"
     ]
    },
    {
     "data": {
      "image/png": "[encoded data removed]",
      "text/plain": [
       "<Figure size 288x504 with 8 Axes>"
      ]
     },
     "metadata": {
      "needs_background": "light"
     },
     "output_type": "display_data"
    },
    {
     "data": {
      "text/plain": [
       "<Figure size 360x72 with 0 Axes>"
      ]
     },
     "metadata": {},
     "output_type": "display_data"
    },
    {
     "data": {
      "text/plain": [
       "<Figure size 360x72 with 0 Axes>"
      ]
     },
     "metadata": {},
     "output_type": "display_data"
    },
    {
     "data": {
      "text/plain": [
       "<Figure size 360x72 with 0 Axes>"
      ]
     },
     "metadata": {},
     "output_type": "display_data"
    },
    {
     "data": {
      "text/plain": [
       "<Figure size 360x72 with 0 Axes>"
      ]
     },
     "metadata": {},
     "output_type": "display_data"
    },
    {
     "data": {
      "text/plain": [
       "<Figure size 360x72 with 0 Axes>"
      ]
     },
     "metadata": {},
     "output_type": "display_data"
    },
    {
     "data": {
      "text/plain": [
       "<Figure size 360x72 with 0 Axes>"
      ]
     },
     "metadata": {},
     "output_type": "display_data"
    },
    {
     "data": {
      "text/plain": [
       "<Figure size 360x72 with 0 Axes>"
      ]
     },
     "metadata": {},
     "output_type": "display_data"
    },
    {
     "data": {
      "text/plain": [
       "<Figure size 360x72 with 0 Axes>"
      ]
     },
     "metadata": {},
     "output_type": "display_data"
    }
   ],
   "source": [
    "# plot score distributions per cluster\n",
    "frame = pd.read_csv('../supplementary_tables/data_s8.csv')\n",
    "scores = pd.read_csv('../processed_data/common_var/rs3752246_binary_scores.csv', index_col = 0)\n",
    "frame = frame[[x in set(scores.index) for x in frame['description']]]\n",
    "\n",
    "g_names  = np.array(frame['description'][frame['is_gene']])\n",
    "\n",
    "SCORES = np.array(scores.loc[g_names]['scores'])\n",
    "\n",
    "temp = [SCORES[frame['cluster'][frame['is_gene']]==i] for i in unique_clusters]\n",
    "fig, axes = plt.subplots(8, 1, sharex=True, figsize=(4,7))\n",
    "\n",
    "for i in range(len(temp)):\n",
    "    plt.figure(figsize = (5,1))\n",
    "\n",
    "    sns.distplot(temp[i], color=colors[i], kde=True,\n",
    "        hist=None, label=str(i), ax=axes[i],  kde_kws={'linestyle':'--'});\n",
    "    l1 = axes[i].lines[0]\n",
    "\n",
    "    x1 = l1.get_xydata()[:, 0]\n",
    "    y1 = l1.get_xydata()[:, 1]\n",
    "    \n",
    "    axes[i].spines[['right', 'top']].set_visible(False)\n",
    "    axes[i].set_title('cluster '+str(i), loc='left', y=.3, x=.05)\n",
    "    axes[i].axvline(np.mean(temp[i]), color=colors[i],linestyle='dotted')\n",
    "    axes[i].axvline(0, color='grey', linestyle='dotted')\n",
    "    #axes[i].fill_between(x1, y1, color='grey', alpha=0.3)"
   ]
  },
  {
   "cell_type": "code",
   "execution_count": 43,
   "id": "79425ed1-681f-4551-bd49-a879dba1146f",
   "metadata": {},
   "outputs": [],
   "source": []
  },
  {
   "cell_type": "code",
   "execution_count": 69,
   "id": "fd894c6d-5dec-4ce9-93dc-477ca86ebecc",
   "metadata": {},
   "outputs": [
    {
     "name": "stderr",
     "output_type": "stream",
     "text": [
      "/state/partition1/llgrid/pkg/anaconda/anaconda3-2022a/lib/python3.8/site-packages/seaborn/distributions.py:2619: FutureWarning: `distplot` is a deprecated function and will be removed in a future version. Please adapt your code to use either `displot` (a figure-level function with similar flexibility) or `kdeplot` (an axes-level function for kernel density plots).\n",
      "  warnings.warn(msg, FutureWarning)\n",
      "/state/partition1/llgrid/pkg/anaconda/anaconda3-2022a/lib/python3.8/site-packages/seaborn/distributions.py:2619: FutureWarning: `distplot` is a deprecated function and will be removed in a future version. Please adapt your code to use either `displot` (a figure-level function with similar flexibility) or `kdeplot` (an axes-level function for kernel density plots).\n",
      "  warnings.warn(msg, FutureWarning)\n",
      "/state/partition1/llgrid/pkg/anaconda/anaconda3-2022a/lib/python3.8/site-packages/seaborn/distributions.py:2619: FutureWarning: `distplot` is a deprecated function and will be removed in a future version. Please adapt your code to use either `displot` (a figure-level function with similar flexibility) or `kdeplot` (an axes-level function for kernel density plots).\n",
      "  warnings.warn(msg, FutureWarning)\n",
      "/state/partition1/llgrid/pkg/anaconda/anaconda3-2022a/lib/python3.8/site-packages/seaborn/distributions.py:2619: FutureWarning: `distplot` is a deprecated function and will be removed in a future version. Please adapt your code to use either `displot` (a figure-level function with similar flexibility) or `kdeplot` (an axes-level function for kernel density plots).\n",
      "  warnings.warn(msg, FutureWarning)\n",
      "/state/partition1/llgrid/pkg/anaconda/anaconda3-2022a/lib/python3.8/site-packages/seaborn/distributions.py:2619: FutureWarning: `distplot` is a deprecated function and will be removed in a future version. Please adapt your code to use either `displot` (a figure-level function with similar flexibility) or `kdeplot` (an axes-level function for kernel density plots).\n",
      "  warnings.warn(msg, FutureWarning)\n",
      "/state/partition1/llgrid/pkg/anaconda/anaconda3-2022a/lib/python3.8/site-packages/seaborn/distributions.py:2619: FutureWarning: `distplot` is a deprecated function and will be removed in a future version. Please adapt your code to use either `displot` (a figure-level function with similar flexibility) or `kdeplot` (an axes-level function for kernel density plots).\n",
      "  warnings.warn(msg, FutureWarning)\n",
      "/state/partition1/llgrid/pkg/anaconda/anaconda3-2022a/lib/python3.8/site-packages/seaborn/distributions.py:2619: FutureWarning: `distplot` is a deprecated function and will be removed in a future version. Please adapt your code to use either `displot` (a figure-level function with similar flexibility) or `kdeplot` (an axes-level function for kernel density plots).\n",
      "  warnings.warn(msg, FutureWarning)\n",
      "/state/partition1/llgrid/pkg/anaconda/anaconda3-2022a/lib/python3.8/site-packages/seaborn/distributions.py:2619: FutureWarning: `distplot` is a deprecated function and will be removed in a future version. Please adapt your code to use either `displot` (a figure-level function with similar flexibility) or `kdeplot` (an axes-level function for kernel density plots).\n",
      "  warnings.warn(msg, FutureWarning)\n",
      "/state/partition1/llgrid/pkg/anaconda/anaconda3-2022a/lib/python3.8/site-packages/seaborn/distributions.py:2619: FutureWarning: `distplot` is a deprecated function and will be removed in a future version. Please adapt your code to use either `displot` (a figure-level function with similar flexibility) or `kdeplot` (an axes-level function for kernel density plots).\n",
      "  warnings.warn(msg, FutureWarning)\n",
      "/state/partition1/llgrid/pkg/anaconda/anaconda3-2022a/lib/python3.8/site-packages/seaborn/distributions.py:2619: FutureWarning: `distplot` is a deprecated function and will be removed in a future version. Please adapt your code to use either `displot` (a figure-level function with similar flexibility) or `kdeplot` (an axes-level function for kernel density plots).\n",
      "  warnings.warn(msg, FutureWarning)\n",
      "/state/partition1/llgrid/pkg/anaconda/anaconda3-2022a/lib/python3.8/site-packages/seaborn/distributions.py:2619: FutureWarning: `distplot` is a deprecated function and will be removed in a future version. Please adapt your code to use either `displot` (a figure-level function with similar flexibility) or `kdeplot` (an axes-level function for kernel density plots).\n",
      "  warnings.warn(msg, FutureWarning)\n",
      "/state/partition1/llgrid/pkg/anaconda/anaconda3-2022a/lib/python3.8/site-packages/seaborn/distributions.py:2619: FutureWarning: `distplot` is a deprecated function and will be removed in a future version. Please adapt your code to use either `displot` (a figure-level function with similar flexibility) or `kdeplot` (an axes-level function for kernel density plots).\n",
      "  warnings.warn(msg, FutureWarning)\n",
      "/state/partition1/llgrid/pkg/anaconda/anaconda3-2022a/lib/python3.8/site-packages/seaborn/distributions.py:2619: FutureWarning: `distplot` is a deprecated function and will be removed in a future version. Please adapt your code to use either `displot` (a figure-level function with similar flexibility) or `kdeplot` (an axes-level function for kernel density plots).\n",
      "  warnings.warn(msg, FutureWarning)\n",
      "/state/partition1/llgrid/pkg/anaconda/anaconda3-2022a/lib/python3.8/site-packages/seaborn/distributions.py:2619: FutureWarning: `distplot` is a deprecated function and will be removed in a future version. Please adapt your code to use either `displot` (a figure-level function with similar flexibility) or `kdeplot` (an axes-level function for kernel density plots).\n",
      "  warnings.warn(msg, FutureWarning)\n",
      "/state/partition1/llgrid/pkg/anaconda/anaconda3-2022a/lib/python3.8/site-packages/seaborn/distributions.py:2619: FutureWarning: `distplot` is a deprecated function and will be removed in a future version. Please adapt your code to use either `displot` (a figure-level function with similar flexibility) or `kdeplot` (an axes-level function for kernel density plots).\n",
      "  warnings.warn(msg, FutureWarning)\n",
      "/state/partition1/llgrid/pkg/anaconda/anaconda3-2022a/lib/python3.8/site-packages/seaborn/distributions.py:2619: FutureWarning: `distplot` is a deprecated function and will be removed in a future version. Please adapt your code to use either `displot` (a figure-level function with similar flexibility) or `kdeplot` (an axes-level function for kernel density plots).\n",
      "  warnings.warn(msg, FutureWarning)\n"
     ]
    },
    {
     "data": {
      "image/png": "[encoded data removed]",
      "text/plain": [
       "<Figure size 288x504 with 8 Axes>"
      ]
     },
     "metadata": {
      "needs_background": "light"
     },
     "output_type": "display_data"
    },
    {
     "data": {
      "text/plain": [
       "<Figure size 360x72 with 0 Axes>"
      ]
     },
     "metadata": {},
     "output_type": "display_data"
    },
    {
     "data": {
      "text/plain": [
       "<Figure size 360x72 with 0 Axes>"
      ]
     },
     "metadata": {},
     "output_type": "display_data"
    },
    {
     "data": {
      "text/plain": [
       "<Figure size 360x72 with 0 Axes>"
      ]
     },
     "metadata": {},
     "output_type": "display_data"
    },
    {
     "data": {
      "text/plain": [
       "<Figure size 360x72 with 0 Axes>"
      ]
     },
     "metadata": {},
     "output_type": "display_data"
    },
    {
     "data": {
      "text/plain": [
       "<Figure size 360x72 with 0 Axes>"
      ]
     },
     "metadata": {},
     "output_type": "display_data"
    },
    {
     "data": {
      "text/plain": [
       "<Figure size 360x72 with 0 Axes>"
      ]
     },
     "metadata": {},
     "output_type": "display_data"
    },
    {
     "data": {
      "text/plain": [
       "<Figure size 360x72 with 0 Axes>"
      ]
     },
     "metadata": {},
     "output_type": "display_data"
    },
    {
     "data": {
      "text/plain": [
       "<Figure size 360x72 with 0 Axes>"
      ]
     },
     "metadata": {},
     "output_type": "display_data"
    }
   ],
   "source": [
    "# plot score distributions per cluster\n",
    "frame = pd.read_csv('../supplementary_tables/data_s8.csv')\n",
    "scores = pd.read_csv('../processed_data/common_var/ex_scores.csv', index_col = 0)\n",
    "frame = frame[[x in set(scores.index) for x in frame['description']]]\n",
    "\n",
    "g_names  = np.array(frame['description'][frame['is_gene']])\n",
    "\n",
    "SCORES = np.array(scores.loc[g_names]['scores'])\n",
    "\n",
    "temp = [SCORES[frame['cluster'][frame['is_gene']]==i] for i in unique_clusters]\n",
    "fig, axes = plt.subplots(8, 1, sharex=True, figsize=(4,7))\n",
    "\n",
    "for i in range(len(temp)):\n",
    "    plt.figure(figsize = (5,1))\n",
    "\n",
    "    sns.distplot(temp[i], color=colors[i], kde=True,\n",
    "        hist=None, label=str(i), ax=axes[i],  kde_kws={'linestyle':'--'});\n",
    "    l1 = axes[i].lines[0]\n",
    "\n",
    "    x1 = l1.get_xydata()[:, 0]\n",
    "    y1 = l1.get_xydata()[:, 1]\n",
    "    \n",
    "    axes[i].spines[['right', 'top']].set_visible(False)\n",
    "    axes[i].set_title('cluster '+str(i), loc='left', y=.3, x=.05)\n",
    "    axes[i].axvline(np.mean(temp[i]), color=colors[i],linestyle='dotted')\n",
    "    axes[i].axvline(0, color='grey', linestyle='dotted')\n",
    "    #axes[i].fill_between(x1, y1, color='grey', alpha=0.3)\n",
    "\n",
    "# plot score distributions per cluster\n",
    "frame = pd.read_csv('../supplementary_tables/data_s8.csv')\n",
    "scores = pd.read_csv('../processed_data/single_cell/all_scores_0825.csv', index_col=0)\n",
    "\n",
    "g_names  = np.array(frame['description'][frame['is_gene']])\n",
    "\n",
    "SCORES = np.array(scores.loc[g_names]['Ex'])\n",
    "\n",
    "temp = [SCORES[frame['cluster'][frame['is_gene']]==i] for i in unique_clusters]\n",
    "\n",
    "for i in range(len(temp)):\n",
    "    #plt.figure(figsize = (5,1))\n",
    "\n",
    "    sns.distplot(temp[i], color=colors[i], kde=True,\n",
    "        hist=None, label=str(i), ax=axes[i]);\n",
    "    l1 = axes[i].lines[0]\n",
    "\n",
    "    x1 = l1.get_xydata()[:, 0]\n",
    "    y1 = l1.get_xydata()[:, 1]\n",
    "    \n",
    "    axes[i].spines[['right', 'top']].set_visible(False)\n",
    "    axes[i].set_title('cluster '+str(i), loc='left', y=.3, x=.05)\n",
    "    axes[i].axvline(np.mean(temp[i]), color=colors[i])#, linestyle='dotted')\n",
    "    axes[i].axvline(0, color='grey', linestyle='dotted')\n",
    "    axes[i].fill_between(x1, y1, color=colors[i], alpha=0.3)\n"
   ]
  },
  {
   "cell_type": "code",
   "execution_count": 82,
   "id": "92f20bd5-c792-49f1-8bb3-24d3c910d147",
   "metadata": {},
   "outputs": [],
   "source": [
    "# plot score distributions per cluster\n",
    "frame = pd.read_csv('../supplementary_tables/data_s8.csv')\n",
    "scores = pd.read_csv('../processed_data/common_var/ex_scores.csv', index_col = 0)\n",
    "frame = frame[[x in set(scores.index) for x in frame['description']]]\n",
    "\n",
    "g_names  = np.array(frame['description'][frame['is_gene']])\n",
    "\n",
    "SCORES = np.array(scores.loc[g_names]['scores'])\n",
    "\n",
    "temp = [SCORES[frame['cluster'][frame['is_gene']]==i] for i in unique_clusters]"
   ]
  },
  {
   "cell_type": "code",
   "execution_count": 140,
   "id": "af5103fd-5233-4c99-99f9-3bc222e3f7e9",
   "metadata": {},
   "outputs": [],
   "source": []
  },
  {
   "cell_type": "code",
   "execution_count": 143,
   "id": "5e18183d-7cab-4a10-ad3e-f916e26c7c25",
   "metadata": {},
   "outputs": [],
   "source": []
  },
  {
   "cell_type": "code",
   "execution_count": 144,
   "id": "118ab1f5-3014-41b8-8236-86c57743602f",
   "metadata": {},
   "outputs": [
    {
     "data": {
      "text/html": [
       "<div>\n",
       "<style scoped>\n",
       "    .dataframe tbody tr th:only-of-type {\n",
       "        vertical-align: middle;\n",
       "    }\n",
       "\n",
       "    .dataframe tbody tr th {\n",
       "        vertical-align: top;\n",
       "    }\n",
       "\n",
       "    .dataframe thead th {\n",
       "        text-align: right;\n",
       "    }\n",
       "</style>\n",
       "<table border=\"1\" class=\"dataframe\">\n",
       "  <thead>\n",
       "    <tr style=\"text-align: right;\">\n",
       "      <th></th>\n",
       "      <th>scores</th>\n",
       "      <th>description</th>\n",
       "      <th>Unnamed: 0</th>\n",
       "      <th>cluster</th>\n",
       "      <th>is_gene</th>\n",
       "      <th>grp</th>\n",
       "    </tr>\n",
       "  </thead>\n",
       "  <tbody>\n",
       "    <tr>\n",
       "      <th>0</th>\n",
       "      <td>2.947527</td>\n",
       "      <td>TOP3A</td>\n",
       "      <td>254</td>\n",
       "      <td>1</td>\n",
       "      <td>True</td>\n",
       "      <td>common</td>\n",
       "    </tr>\n",
       "    <tr>\n",
       "      <th>1</th>\n",
       "      <td>2.887574</td>\n",
       "      <td>SMC3</td>\n",
       "      <td>238</td>\n",
       "      <td>5</td>\n",
       "      <td>True</td>\n",
       "      <td>common</td>\n",
       "    </tr>\n",
       "    <tr>\n",
       "      <th>2</th>\n",
       "      <td>-2.415978</td>\n",
       "      <td>ESRRA</td>\n",
       "      <td>68</td>\n",
       "      <td>2</td>\n",
       "      <td>True</td>\n",
       "      <td>common</td>\n",
       "    </tr>\n",
       "    <tr>\n",
       "      <th>3</th>\n",
       "      <td>2.286346</td>\n",
       "      <td>OPRD1</td>\n",
       "      <td>155</td>\n",
       "      <td>0</td>\n",
       "      <td>True</td>\n",
       "      <td>common</td>\n",
       "    </tr>\n",
       "    <tr>\n",
       "      <th>4</th>\n",
       "      <td>-2.128037</td>\n",
       "      <td>NDUFA11</td>\n",
       "      <td>131</td>\n",
       "      <td>7</td>\n",
       "      <td>True</td>\n",
       "      <td>common</td>\n",
       "    </tr>\n",
       "  </tbody>\n",
       "</table>\n",
       "</div>"
      ],
      "text/plain": [
       "     scores description  Unnamed: 0  cluster  is_gene     grp\n",
       "0  2.947527       TOP3A         254        1     True  common\n",
       "1  2.887574        SMC3         238        5     True  common\n",
       "2 -2.415978       ESRRA          68        2     True  common\n",
       "3  2.286346       OPRD1         155        0     True  common\n",
       "4 -2.128037     NDUFA11         131        7     True  common"
      ]
     },
     "execution_count": 144,
     "metadata": {},
     "output_type": "execute_result"
    }
   ],
   "source": []
  },
  {
   "cell_type": "code",
   "execution_count": 218,
   "id": "38ba6eaf-17c5-47a8-9fe5-aaeabe77f7c4",
   "metadata": {},
   "outputs": [
    {
     "data": {
      "text/plain": [
       "Text(0.1, 0.5, 'Scores')"
      ]
     },
     "execution_count": 218,
     "metadata": {},
     "output_type": "execute_result"
    },
    {
     "data": {
      "image/png": "[encoded data removed]",
      "text/plain": [
       "<Figure size 720x144 with 8 Axes>"
      ]
     },
     "metadata": {
      "needs_background": "light"
     },
     "output_type": "display_data"
    },
    {
     "data": {
      "text/plain": [
       "<Figure size 72x360 with 0 Axes>"
      ]
     },
     "metadata": {},
     "output_type": "display_data"
    },
    {
     "data": {
      "text/plain": [
       "<Figure size 72x360 with 0 Axes>"
      ]
     },
     "metadata": {},
     "output_type": "display_data"
    },
    {
     "data": {
      "text/plain": [
       "<Figure size 72x360 with 0 Axes>"
      ]
     },
     "metadata": {},
     "output_type": "display_data"
    },
    {
     "data": {
      "text/plain": [
       "<Figure size 72x360 with 0 Axes>"
      ]
     },
     "metadata": {},
     "output_type": "display_data"
    },
    {
     "data": {
      "text/plain": [
       "<Figure size 72x360 with 0 Axes>"
      ]
     },
     "metadata": {},
     "output_type": "display_data"
    },
    {
     "data": {
      "text/plain": [
       "<Figure size 72x360 with 0 Axes>"
      ]
     },
     "metadata": {},
     "output_type": "display_data"
    },
    {
     "data": {
      "text/plain": [
       "<Figure size 72x360 with 0 Axes>"
      ]
     },
     "metadata": {},
     "output_type": "display_data"
    },
    {
     "data": {
      "text/plain": [
       "<Figure size 72x360 with 0 Axes>"
      ]
     },
     "metadata": {},
     "output_type": "display_data"
    }
   ],
   "source": [
    "fig, axes = plt.subplots(1, 8, sharey=True, figsize=(10,2))\n",
    "\n",
    "for i in np.unique(TEMP['cluster']):\n",
    "    plt.figure(figsize = (1,5))\n",
    "    temp = TEMP[TEMP['cluster']==i]\n",
    "    boxplot = sns.boxplot(data = temp, x = 'grp', y='scores',color=colors[i], ax=axes[i],             boxprops=dict(alpha=.7,facecolor=colors[i], edgecolor=colors[i]), whiskerprops=dict(color=colors[i]),             medianprops=dict(color=colors[i]),\n",
    "            capprops=dict(color=colors[i]),             flierprops=dict(markeredgecolor=colors[i], marker='.', markersize=0, markerfacecolor=colors[i], ))\n",
    "\n",
    "\n",
    "\n",
    "    \n",
    "    l1 = axes[i].lines[0]\n",
    "\n",
    "    x1 = l1.get_xydata()[:, 0]\n",
    "    y1 = l1.get_xydata()[:, 1]\n",
    "    \n",
    "    axes[i].spines[['right', 'top']].set_visible(False)\n",
    "    #axes[i].set_title('cluster '+str(i), loc='left', y=.3, x=.05)\n",
    "    #axes[i].axvline(np.mean(temp[i]), color=colors[i])#, linestyle='dotted')\n",
    "    axes[i].axhline(0, color='black', linestyle='dotted')\n",
    "    axes[i].fill_between(x1, y1, color=colors[i], alpha=0.3)\n",
    "    axes[i].set_ylabel('')\n",
    "# Add common title for the y-axis\n",
    "fig.text(0.1, 0.5, 'Scores', ha='center', va='center', rotation='vertical')\n"
   ]
  },
  {
   "cell_type": "code",
   "execution_count": 186,
   "id": "3569e9a9-c701-4f8c-be9d-34bd4aeaa63b",
   "metadata": {},
   "outputs": [
    {
     "data": {
      "image/png": "[encoded data removed]",
      "text/plain": [
       "<Figure size 288x504 with 8 Axes>"
      ]
     },
     "metadata": {
      "needs_background": "light"
     },
     "output_type": "display_data"
    },
    {
     "data": {
      "text/plain": [
       "<Figure size 360x72 with 0 Axes>"
      ]
     },
     "metadata": {},
     "output_type": "display_data"
    },
    {
     "data": {
      "text/plain": [
       "<Figure size 360x72 with 0 Axes>"
      ]
     },
     "metadata": {},
     "output_type": "display_data"
    },
    {
     "data": {
      "text/plain": [
       "<Figure size 360x72 with 0 Axes>"
      ]
     },
     "metadata": {},
     "output_type": "display_data"
    },
    {
     "data": {
      "text/plain": [
       "<Figure size 360x72 with 0 Axes>"
      ]
     },
     "metadata": {},
     "output_type": "display_data"
    },
    {
     "data": {
      "text/plain": [
       "<Figure size 360x72 with 0 Axes>"
      ]
     },
     "metadata": {},
     "output_type": "display_data"
    },
    {
     "data": {
      "text/plain": [
       "<Figure size 360x72 with 0 Axes>"
      ]
     },
     "metadata": {},
     "output_type": "display_data"
    },
    {
     "data": {
      "text/plain": [
       "<Figure size 360x72 with 0 Axes>"
      ]
     },
     "metadata": {},
     "output_type": "display_data"
    },
    {
     "data": {
      "text/plain": [
       "<Figure size 360x72 with 0 Axes>"
      ]
     },
     "metadata": {},
     "output_type": "display_data"
    }
   ],
   "source": [
    "fig, axes = plt.subplots(8, 1, sharex=True, figsize=(4,7))\n",
    "\n",
    "for i in np.unique(TEMP['cluster']):\n",
    "    plt.figure(figsize = (5,1))\n",
    "    temp = TEMP[TEMP['cluster']==i]\n",
    "    boxplot = sns.boxplot(data = temp, y = 'grp', x='scores',color=colors[i], ax=axes[i],             boxprops=dict(alpha=.7,facecolor=colors[i], edgecolor=colors[i]), whiskerprops=dict(color=colors[i]),             medianprops=dict(color=colors[i]),\n",
    "            capprops=dict(color=colors[i]))\n",
    "\n",
    "\n",
    "\n",
    "    \n",
    "    l1 = axes[i].lines[0]\n",
    "\n",
    "    x1 = l1.get_xydata()[:, 0]\n",
    "    y1 = l1.get_xydata()[:, 1]\n",
    "    \n",
    "    axes[i].spines[['right', 'top']].set_visible(False)\n",
    "    axes[i].set_title('cluster '+str(i), loc='left', y=.3, x=.05)\n",
    "    #axes[i].axvline(np.mean(temp[i]), color=colors[i])#, linestyle='dotted')\n",
    "    axes[i].axvline(0, color='grey', linestyle='dotted')\n",
    "    axes[i].fill_between(x1, y1, color=colors[i], alpha=0.3)\n"
   ]
  },
  {
   "cell_type": "code",
   "execution_count": 165,
   "id": "315e1e9b-e0b6-4a18-9867-51eca8f72ec4",
   "metadata": {},
   "outputs": [
    {
     "data": {
      "text/plain": [
       "[(0.12156862745098039, 0.4666666666666667, 0.7058823529411765, 1.0),\n",
       " (0.6823529411764706, 0.7803921568627451, 0.9098039215686274, 1.0),\n",
       " (1.0, 0.4980392156862745, 0.054901960784313725, 1.0),\n",
       " (1.0, 0.7333333333333333, 0.47058823529411764, 1.0),\n",
       " (0.17254901960784313, 0.6274509803921569, 0.17254901960784313, 1.0),\n",
       " (0.596078431372549, 0.8745098039215686, 0.5411764705882353, 1.0),\n",
       " (0.8392156862745098, 0.15294117647058825, 0.1568627450980392, 1.0),\n",
       " (1.0, 0.596078431372549, 0.5882352941176471, 1.0)]"
      ]
     },
     "execution_count": 165,
     "metadata": {},
     "output_type": "execute_result"
    }
   ],
   "source": [
    "colors"
   ]
  },
  {
   "cell_type": "code",
   "execution_count": 159,
   "id": "baa84613-3f7f-46ca-9a9d-781f8c4ca6a8",
   "metadata": {},
   "outputs": [
    {
     "data": {
      "text/plain": [
       "<matplotlib.lines.Line2D at 0x7fc2c90d1790>"
      ]
     },
     "execution_count": 159,
     "metadata": {},
     "output_type": "execute_result"
    },
    {
     "data": {
      "image/png": "[encoded data removed]",
      "text/plain": [
       "<Figure size 432x288 with 1 Axes>"
      ]
     },
     "metadata": {
      "needs_background": "light"
     },
     "output_type": "display_data"
    }
   ],
   "source": [
    "sns.boxplot(data=TEMP, x='cluster', y='scores', hue = 'grp')\n",
    "plt.axhline(y=0, color='red', linestyle='--', label='Zero Line')\n"
   ]
  },
  {
   "cell_type": "code",
   "execution_count": 129,
   "id": "0b2a575c-2942-4d0a-9a01-0070846bd941",
   "metadata": {},
   "outputs": [],
   "source": [
    "scores = pd.read_csv('../processed_data/single_cell/all_scores_0825.csv', index_col=0)\n",
    "scores = pd.DataFrame(scores['Ex'])"
   ]
  },
  {
   "cell_type": "code",
   "execution_count": 132,
   "id": "96f3129d-2416-4a66-bb00-07851b273950",
   "metadata": {},
   "outputs": [],
   "source": [
    "scores.colnames = 'test'"
   ]
  },
  {
   "cell_type": "code",
   "execution_count": 133,
   "id": "94105cee-815b-4be4-83dc-38f28cce9c65",
   "metadata": {},
   "outputs": [
    {
     "data": {
      "text/html": [
       "<div>\n",
       "<style scoped>\n",
       "    .dataframe tbody tr th:only-of-type {\n",
       "        vertical-align: middle;\n",
       "    }\n",
       "\n",
       "    .dataframe tbody tr th {\n",
       "        vertical-align: top;\n",
       "    }\n",
       "\n",
       "    .dataframe thead th {\n",
       "        text-align: right;\n",
       "    }\n",
       "</style>\n",
       "<table border=\"1\" class=\"dataframe\">\n",
       "  <thead>\n",
       "    <tr style=\"text-align: right;\">\n",
       "      <th></th>\n",
       "      <th>Ex</th>\n",
       "    </tr>\n",
       "  </thead>\n",
       "  <tbody>\n",
       "    <tr>\n",
       "      <th>DTNBP1</th>\n",
       "      <td>-0.126932</td>\n",
       "    </tr>\n",
       "    <tr>\n",
       "      <th>VRK2</th>\n",
       "      <td>0.000000</td>\n",
       "    </tr>\n",
       "    <tr>\n",
       "      <th>ZBED5</th>\n",
       "      <td>2.611961</td>\n",
       "    </tr>\n",
       "    <tr>\n",
       "      <th>TMED3</th>\n",
       "      <td>1.281436</td>\n",
       "    </tr>\n",
       "    <tr>\n",
       "      <th>SEMA6B</th>\n",
       "      <td>0.077767</td>\n",
       "    </tr>\n",
       "    <tr>\n",
       "      <th>...</th>\n",
       "      <td>...</td>\n",
       "    </tr>\n",
       "    <tr>\n",
       "      <th>RNF152</th>\n",
       "      <td>0.000000</td>\n",
       "    </tr>\n",
       "    <tr>\n",
       "      <th>CYGB</th>\n",
       "      <td>0.000000</td>\n",
       "    </tr>\n",
       "    <tr>\n",
       "      <th>PNOC</th>\n",
       "      <td>0.000000</td>\n",
       "    </tr>\n",
       "    <tr>\n",
       "      <th>TMEM182</th>\n",
       "      <td>0.000000</td>\n",
       "    </tr>\n",
       "    <tr>\n",
       "      <th>SHISA8</th>\n",
       "      <td>0.000000</td>\n",
       "    </tr>\n",
       "  </tbody>\n",
       "</table>\n",
       "<p>11716 rows × 1 columns</p>\n",
       "</div>"
      ],
      "text/plain": [
       "               Ex\n",
       "DTNBP1  -0.126932\n",
       "VRK2     0.000000\n",
       "ZBED5    2.611961\n",
       "TMED3    1.281436\n",
       "SEMA6B   0.077767\n",
       "...           ...\n",
       "RNF152   0.000000\n",
       "CYGB     0.000000\n",
       "PNOC     0.000000\n",
       "TMEM182  0.000000\n",
       "SHISA8   0.000000\n",
       "\n",
       "[11716 rows x 1 columns]"
      ]
     },
     "execution_count": 133,
     "metadata": {},
     "output_type": "execute_result"
    }
   ],
   "source": [
    "scores"
   ]
  },
  {
   "cell_type": "code",
   "execution_count": 116,
   "id": "2bdd8b7c-0809-4b45-b708-7331ba105576",
   "metadata": {},
   "outputs": [
    {
     "data": {
      "text/html": [
       "<div>\n",
       "<style scoped>\n",
       "    .dataframe tbody tr th:only-of-type {\n",
       "        vertical-align: middle;\n",
       "    }\n",
       "\n",
       "    .dataframe tbody tr th {\n",
       "        vertical-align: top;\n",
       "    }\n",
       "\n",
       "    .dataframe thead th {\n",
       "        text-align: right;\n",
       "    }\n",
       "</style>\n",
       "<table border=\"1\" class=\"dataframe\">\n",
       "  <thead>\n",
       "    <tr style=\"text-align: right;\">\n",
       "      <th></th>\n",
       "      <th>Ex</th>\n",
       "      <th>description</th>\n",
       "      <th>Unnamed: 0</th>\n",
       "      <th>cluster</th>\n",
       "      <th>is_gene</th>\n",
       "      <th>grp</th>\n",
       "    </tr>\n",
       "  </thead>\n",
       "  <tbody>\n",
       "    <tr>\n",
       "      <th>0</th>\n",
       "      <td>2.326606</td>\n",
       "      <td>CDC7</td>\n",
       "      <td>40</td>\n",
       "      <td>5</td>\n",
       "      <td>True</td>\n",
       "      <td>rare</td>\n",
       "    </tr>\n",
       "    <tr>\n",
       "      <th>1</th>\n",
       "      <td>1.390363</td>\n",
       "      <td>PSMD11</td>\n",
       "      <td>188</td>\n",
       "      <td>3</td>\n",
       "      <td>True</td>\n",
       "      <td>rare</td>\n",
       "    </tr>\n",
       "    <tr>\n",
       "      <th>2</th>\n",
       "      <td>1.551225</td>\n",
       "      <td>MSH6</td>\n",
       "      <td>121</td>\n",
       "      <td>4</td>\n",
       "      <td>True</td>\n",
       "      <td>rare</td>\n",
       "    </tr>\n",
       "    <tr>\n",
       "      <th>3</th>\n",
       "      <td>1.584546</td>\n",
       "      <td>BARD1</td>\n",
       "      <td>25</td>\n",
       "      <td>1</td>\n",
       "      <td>True</td>\n",
       "      <td>rare</td>\n",
       "    </tr>\n",
       "    <tr>\n",
       "      <th>4</th>\n",
       "      <td>0.639716</td>\n",
       "      <td>WRN</td>\n",
       "      <td>267</td>\n",
       "      <td>1</td>\n",
       "      <td>True</td>\n",
       "      <td>rare</td>\n",
       "    </tr>\n",
       "    <tr>\n",
       "      <th>...</th>\n",
       "      <td>...</td>\n",
       "      <td>...</td>\n",
       "      <td>...</td>\n",
       "      <td>...</td>\n",
       "      <td>...</td>\n",
       "      <td>...</td>\n",
       "    </tr>\n",
       "    <tr>\n",
       "      <th>263</th>\n",
       "      <td>-1.553847</td>\n",
       "      <td>NR1H3</td>\n",
       "      <td>153</td>\n",
       "      <td>2</td>\n",
       "      <td>True</td>\n",
       "      <td>rare</td>\n",
       "    </tr>\n",
       "    <tr>\n",
       "      <th>264</th>\n",
       "      <td>-1.720019</td>\n",
       "      <td>RARA</td>\n",
       "      <td>202</td>\n",
       "      <td>2</td>\n",
       "      <td>True</td>\n",
       "      <td>rare</td>\n",
       "    </tr>\n",
       "    <tr>\n",
       "      <th>265</th>\n",
       "      <td>-1.781328</td>\n",
       "      <td>MAT2B</td>\n",
       "      <td>114</td>\n",
       "      <td>5</td>\n",
       "      <td>True</td>\n",
       "      <td>rare</td>\n",
       "    </tr>\n",
       "    <tr>\n",
       "      <th>266</th>\n",
       "      <td>-2.407135</td>\n",
       "      <td>CCKBR</td>\n",
       "      <td>38</td>\n",
       "      <td>0</td>\n",
       "      <td>True</td>\n",
       "      <td>rare</td>\n",
       "    </tr>\n",
       "    <tr>\n",
       "      <th>267</th>\n",
       "      <td>-2.788989</td>\n",
       "      <td>LZTFL1</td>\n",
       "      <td>108</td>\n",
       "      <td>3</td>\n",
       "      <td>True</td>\n",
       "      <td>rare</td>\n",
       "    </tr>\n",
       "  </tbody>\n",
       "</table>\n",
       "<p>268 rows × 6 columns</p>\n",
       "</div>"
      ],
      "text/plain": [
       "           Ex description  Unnamed: 0  cluster  is_gene   grp\n",
       "0    2.326606        CDC7          40        5     True  rare\n",
       "1    1.390363      PSMD11         188        3     True  rare\n",
       "2    1.551225        MSH6         121        4     True  rare\n",
       "3    1.584546       BARD1          25        1     True  rare\n",
       "4    0.639716         WRN         267        1     True  rare\n",
       "..        ...         ...         ...      ...      ...   ...\n",
       "263 -1.553847       NR1H3         153        2     True  rare\n",
       "264 -1.720019        RARA         202        2     True  rare\n",
       "265 -1.781328       MAT2B         114        5     True  rare\n",
       "266 -2.407135       CCKBR          38        0     True  rare\n",
       "267 -2.788989      LZTFL1         108        3     True  rare\n",
       "\n",
       "[268 rows x 6 columns]"
      ]
     },
     "execution_count": 116,
     "metadata": {},
     "output_type": "execute_result"
    }
   ],
   "source": [
    "temp2"
   ]
  },
  {
   "cell_type": "code",
   "execution_count": 112,
   "id": "5b03ee93-681a-4d2d-ada2-0fb229faa6f3",
   "metadata": {},
   "outputs": [
    {
     "data": {
      "text/html": [
       "<div>\n",
       "<style scoped>\n",
       "    .dataframe tbody tr th:only-of-type {\n",
       "        vertical-align: middle;\n",
       "    }\n",
       "\n",
       "    .dataframe tbody tr th {\n",
       "        vertical-align: top;\n",
       "    }\n",
       "\n",
       "    .dataframe thead th {\n",
       "        text-align: right;\n",
       "    }\n",
       "</style>\n",
       "<table border=\"1\" class=\"dataframe\">\n",
       "  <thead>\n",
       "    <tr style=\"text-align: right;\">\n",
       "      <th></th>\n",
       "      <th>Ex</th>\n",
       "    </tr>\n",
       "  </thead>\n",
       "  <tbody>\n",
       "    <tr>\n",
       "      <th>DTNBP1</th>\n",
       "      <td>-0.126932</td>\n",
       "    </tr>\n",
       "    <tr>\n",
       "      <th>VRK2</th>\n",
       "      <td>0.000000</td>\n",
       "    </tr>\n",
       "    <tr>\n",
       "      <th>ZBED5</th>\n",
       "      <td>2.611961</td>\n",
       "    </tr>\n",
       "    <tr>\n",
       "      <th>TMED3</th>\n",
       "      <td>1.281436</td>\n",
       "    </tr>\n",
       "    <tr>\n",
       "      <th>SEMA6B</th>\n",
       "      <td>0.077767</td>\n",
       "    </tr>\n",
       "    <tr>\n",
       "      <th>...</th>\n",
       "      <td>...</td>\n",
       "    </tr>\n",
       "    <tr>\n",
       "      <th>RNF152</th>\n",
       "      <td>0.000000</td>\n",
       "    </tr>\n",
       "    <tr>\n",
       "      <th>CYGB</th>\n",
       "      <td>0.000000</td>\n",
       "    </tr>\n",
       "    <tr>\n",
       "      <th>PNOC</th>\n",
       "      <td>0.000000</td>\n",
       "    </tr>\n",
       "    <tr>\n",
       "      <th>TMEM182</th>\n",
       "      <td>0.000000</td>\n",
       "    </tr>\n",
       "    <tr>\n",
       "      <th>SHISA8</th>\n",
       "      <td>0.000000</td>\n",
       "    </tr>\n",
       "  </tbody>\n",
       "</table>\n",
       "<p>11716 rows × 1 columns</p>\n",
       "</div>"
      ],
      "text/plain": [
       "               Ex\n",
       "DTNBP1  -0.126932\n",
       "VRK2     0.000000\n",
       "ZBED5    2.611961\n",
       "TMED3    1.281436\n",
       "SEMA6B   0.077767\n",
       "...           ...\n",
       "RNF152   0.000000\n",
       "CYGB     0.000000\n",
       "PNOC     0.000000\n",
       "TMEM182  0.000000\n",
       "SHISA8   0.000000\n",
       "\n",
       "[11716 rows x 1 columns]"
      ]
     },
     "execution_count": 112,
     "metadata": {},
     "output_type": "execute_result"
    }
   ],
   "source": [
    "scores"
   ]
  },
  {
   "cell_type": "code",
   "execution_count": 106,
   "id": "19ed1f40-a8b9-4cbc-9ab3-97017381d9fa",
   "metadata": {},
   "outputs": [],
   "source": []
  },
  {
   "cell_type": "code",
   "execution_count": 107,
   "id": "a2c9bcf9-9383-4800-a012-3e4524b99af2",
   "metadata": {},
   "outputs": [
    {
     "data": {
      "text/html": [
       "<div>\n",
       "<style scoped>\n",
       "    .dataframe tbody tr th:only-of-type {\n",
       "        vertical-align: middle;\n",
       "    }\n",
       "\n",
       "    .dataframe tbody tr th {\n",
       "        vertical-align: top;\n",
       "    }\n",
       "\n",
       "    .dataframe thead th {\n",
       "        text-align: right;\n",
       "    }\n",
       "</style>\n",
       "<table border=\"1\" class=\"dataframe\">\n",
       "  <thead>\n",
       "    <tr style=\"text-align: right;\">\n",
       "      <th></th>\n",
       "      <th>scores</th>\n",
       "      <th>description</th>\n",
       "      <th>Unnamed: 0</th>\n",
       "      <th>cluster</th>\n",
       "      <th>is_gene</th>\n",
       "      <th>grp</th>\n",
       "    </tr>\n",
       "  </thead>\n",
       "  <tbody>\n",
       "    <tr>\n",
       "      <th>0</th>\n",
       "      <td>2.947527</td>\n",
       "      <td>TOP3A</td>\n",
       "      <td>254</td>\n",
       "      <td>1</td>\n",
       "      <td>True</td>\n",
       "      <td>common</td>\n",
       "    </tr>\n",
       "    <tr>\n",
       "      <th>1</th>\n",
       "      <td>2.887574</td>\n",
       "      <td>SMC3</td>\n",
       "      <td>238</td>\n",
       "      <td>5</td>\n",
       "      <td>True</td>\n",
       "      <td>common</td>\n",
       "    </tr>\n",
       "    <tr>\n",
       "      <th>2</th>\n",
       "      <td>-2.415978</td>\n",
       "      <td>ESRRA</td>\n",
       "      <td>68</td>\n",
       "      <td>2</td>\n",
       "      <td>True</td>\n",
       "      <td>common</td>\n",
       "    </tr>\n",
       "    <tr>\n",
       "      <th>3</th>\n",
       "      <td>2.286346</td>\n",
       "      <td>OPRD1</td>\n",
       "      <td>155</td>\n",
       "      <td>0</td>\n",
       "      <td>True</td>\n",
       "      <td>common</td>\n",
       "    </tr>\n",
       "    <tr>\n",
       "      <th>4</th>\n",
       "      <td>-2.128037</td>\n",
       "      <td>NDUFA11</td>\n",
       "      <td>131</td>\n",
       "      <td>7</td>\n",
       "      <td>True</td>\n",
       "      <td>common</td>\n",
       "    </tr>\n",
       "    <tr>\n",
       "      <th>...</th>\n",
       "      <td>...</td>\n",
       "      <td>...</td>\n",
       "      <td>...</td>\n",
       "      <td>...</td>\n",
       "      <td>...</td>\n",
       "      <td>...</td>\n",
       "    </tr>\n",
       "    <tr>\n",
       "      <th>261</th>\n",
       "      <td>0.007525</td>\n",
       "      <td>TOPBP1</td>\n",
       "      <td>255</td>\n",
       "      <td>1</td>\n",
       "      <td>True</td>\n",
       "      <td>common</td>\n",
       "    </tr>\n",
       "    <tr>\n",
       "      <th>262</th>\n",
       "      <td>-0.006909</td>\n",
       "      <td>ATRX</td>\n",
       "      <td>23</td>\n",
       "      <td>1</td>\n",
       "      <td>True</td>\n",
       "      <td>common</td>\n",
       "    </tr>\n",
       "    <tr>\n",
       "      <th>263</th>\n",
       "      <td>-0.005225</td>\n",
       "      <td>BID</td>\n",
       "      <td>28</td>\n",
       "      <td>6</td>\n",
       "      <td>True</td>\n",
       "      <td>common</td>\n",
       "    </tr>\n",
       "    <tr>\n",
       "      <th>264</th>\n",
       "      <td>0.003087</td>\n",
       "      <td>MSH6</td>\n",
       "      <td>121</td>\n",
       "      <td>4</td>\n",
       "      <td>True</td>\n",
       "      <td>common</td>\n",
       "    </tr>\n",
       "    <tr>\n",
       "      <th>265</th>\n",
       "      <td>0.001320</td>\n",
       "      <td>ATF2</td>\n",
       "      <td>13</td>\n",
       "      <td>6</td>\n",
       "      <td>True</td>\n",
       "      <td>common</td>\n",
       "    </tr>\n",
       "  </tbody>\n",
       "</table>\n",
       "<p>266 rows × 6 columns</p>\n",
       "</div>"
      ],
      "text/plain": [
       "       scores description  Unnamed: 0  cluster  is_gene     grp\n",
       "0    2.947527       TOP3A         254        1     True  common\n",
       "1    2.887574        SMC3         238        5     True  common\n",
       "2   -2.415978       ESRRA          68        2     True  common\n",
       "3    2.286346       OPRD1         155        0     True  common\n",
       "4   -2.128037     NDUFA11         131        7     True  common\n",
       "..        ...         ...         ...      ...      ...     ...\n",
       "261  0.007525      TOPBP1         255        1     True  common\n",
       "262 -0.006909        ATRX          23        1     True  common\n",
       "263 -0.005225         BID          28        6     True  common\n",
       "264  0.003087        MSH6         121        4     True  common\n",
       "265  0.001320        ATF2          13        6     True  common\n",
       "\n",
       "[266 rows x 6 columns]"
      ]
     },
     "execution_count": 107,
     "metadata": {},
     "output_type": "execute_result"
    }
   ],
   "source": []
  },
  {
   "cell_type": "code",
   "execution_count": 103,
   "id": "ffa5525f-57d5-43e8-8798-6c9045efe118",
   "metadata": {},
   "outputs": [],
   "source": []
  },
  {
   "cell_type": "code",
   "execution_count": 105,
   "id": "9f1ce9a9-8c27-465f-aaea-a0e0bbc6638c",
   "metadata": {},
   "outputs": [],
   "source": []
  },
  {
   "cell_type": "code",
   "execution_count": 99,
   "id": "24bdb4d7-62fe-4339-ab1c-5092e84f2fb5",
   "metadata": {},
   "outputs": [
    {
     "data": {
      "text/html": [
       "<div>\n",
       "<style scoped>\n",
       "    .dataframe tbody tr th:only-of-type {\n",
       "        vertical-align: middle;\n",
       "    }\n",
       "\n",
       "    .dataframe tbody tr th {\n",
       "        vertical-align: top;\n",
       "    }\n",
       "\n",
       "    .dataframe thead th {\n",
       "        text-align: right;\n",
       "    }\n",
       "</style>\n",
       "<table border=\"1\" class=\"dataframe\">\n",
       "  <thead>\n",
       "    <tr style=\"text-align: right;\">\n",
       "      <th></th>\n",
       "      <th>scores</th>\n",
       "      <th>description</th>\n",
       "      <th>Unnamed: 0</th>\n",
       "      <th>cluster</th>\n",
       "      <th>is_gene</th>\n",
       "      <th>grp</th>\n",
       "    </tr>\n",
       "  </thead>\n",
       "  <tbody>\n",
       "    <tr>\n",
       "      <th>0</th>\n",
       "      <td>2.947527</td>\n",
       "      <td>TOP3A</td>\n",
       "      <td>254</td>\n",
       "      <td>1</td>\n",
       "      <td>True</td>\n",
       "      <td>common</td>\n",
       "    </tr>\n",
       "    <tr>\n",
       "      <th>1</th>\n",
       "      <td>2.887574</td>\n",
       "      <td>SMC3</td>\n",
       "      <td>238</td>\n",
       "      <td>5</td>\n",
       "      <td>True</td>\n",
       "      <td>common</td>\n",
       "    </tr>\n",
       "    <tr>\n",
       "      <th>2</th>\n",
       "      <td>-2.415978</td>\n",
       "      <td>ESRRA</td>\n",
       "      <td>68</td>\n",
       "      <td>2</td>\n",
       "      <td>True</td>\n",
       "      <td>common</td>\n",
       "    </tr>\n",
       "    <tr>\n",
       "      <th>3</th>\n",
       "      <td>2.286346</td>\n",
       "      <td>OPRD1</td>\n",
       "      <td>155</td>\n",
       "      <td>0</td>\n",
       "      <td>True</td>\n",
       "      <td>common</td>\n",
       "    </tr>\n",
       "    <tr>\n",
       "      <th>4</th>\n",
       "      <td>-2.128037</td>\n",
       "      <td>NDUFA11</td>\n",
       "      <td>131</td>\n",
       "      <td>7</td>\n",
       "      <td>True</td>\n",
       "      <td>common</td>\n",
       "    </tr>\n",
       "    <tr>\n",
       "      <th>...</th>\n",
       "      <td>...</td>\n",
       "      <td>...</td>\n",
       "      <td>...</td>\n",
       "      <td>...</td>\n",
       "      <td>...</td>\n",
       "      <td>...</td>\n",
       "    </tr>\n",
       "    <tr>\n",
       "      <th>261</th>\n",
       "      <td>0.007525</td>\n",
       "      <td>TOPBP1</td>\n",
       "      <td>255</td>\n",
       "      <td>1</td>\n",
       "      <td>True</td>\n",
       "      <td>common</td>\n",
       "    </tr>\n",
       "    <tr>\n",
       "      <th>262</th>\n",
       "      <td>-0.006909</td>\n",
       "      <td>ATRX</td>\n",
       "      <td>23</td>\n",
       "      <td>1</td>\n",
       "      <td>True</td>\n",
       "      <td>common</td>\n",
       "    </tr>\n",
       "    <tr>\n",
       "      <th>263</th>\n",
       "      <td>-0.005225</td>\n",
       "      <td>BID</td>\n",
       "      <td>28</td>\n",
       "      <td>6</td>\n",
       "      <td>True</td>\n",
       "      <td>common</td>\n",
       "    </tr>\n",
       "    <tr>\n",
       "      <th>264</th>\n",
       "      <td>0.003087</td>\n",
       "      <td>MSH6</td>\n",
       "      <td>121</td>\n",
       "      <td>4</td>\n",
       "      <td>True</td>\n",
       "      <td>common</td>\n",
       "    </tr>\n",
       "    <tr>\n",
       "      <th>265</th>\n",
       "      <td>0.001320</td>\n",
       "      <td>ATF2</td>\n",
       "      <td>13</td>\n",
       "      <td>6</td>\n",
       "      <td>True</td>\n",
       "      <td>common</td>\n",
       "    </tr>\n",
       "  </tbody>\n",
       "</table>\n",
       "<p>266 rows × 6 columns</p>\n",
       "</div>"
      ],
      "text/plain": [
       "       scores description  Unnamed: 0  cluster  is_gene     grp\n",
       "0    2.947527       TOP3A         254        1     True  common\n",
       "1    2.887574        SMC3         238        5     True  common\n",
       "2   -2.415978       ESRRA          68        2     True  common\n",
       "3    2.286346       OPRD1         155        0     True  common\n",
       "4   -2.128037     NDUFA11         131        7     True  common\n",
       "..        ...         ...         ...      ...      ...     ...\n",
       "261  0.007525      TOPBP1         255        1     True  common\n",
       "262 -0.006909        ATRX          23        1     True  common\n",
       "263 -0.005225         BID          28        6     True  common\n",
       "264  0.003087        MSH6         121        4     True  common\n",
       "265  0.001320        ATF2          13        6     True  common\n",
       "\n",
       "[266 rows x 6 columns]"
      ]
     },
     "execution_count": 99,
     "metadata": {},
     "output_type": "execute_result"
    }
   ],
   "source": [
    "temp"
   ]
  },
  {
   "cell_type": "code",
   "execution_count": 91,
   "id": "b02136d8-3f59-4a62-851b-18c60bd2fec4",
   "metadata": {},
   "outputs": [
    {
     "data": {
      "text/plain": [
       "<function pandas.core.reshape.merge.merge(left: 'DataFrame | Series', right: 'DataFrame | Series', how: 'str' = 'inner', on: 'IndexLabel | None' = None, left_on: 'IndexLabel | None' = None, right_on: 'IndexLabel | None' = None, left_index: 'bool' = False, right_index: 'bool' = False, sort: 'bool' = False, suffixes: 'Suffixes' = ('_x', '_y'), copy: 'bool' = True, indicator: 'bool' = False, validate: 'str | None' = None) -> 'DataFrame'>"
      ]
     },
     "execution_count": 91,
     "metadata": {},
     "output_type": "execute_result"
    }
   ],
   "source": [
    "pd.merge"
   ]
  },
  {
   "cell_type": "code",
   "execution_count": 81,
   "id": "2188e1ef-a146-47e9-8588-cea5ceb76578",
   "metadata": {},
   "outputs": [
    {
     "name": "stderr",
     "output_type": "stream",
     "text": [
      "/state/partition1/llgrid/pkg/anaconda/anaconda3-2022a/lib/python3.8/site-packages/seaborn/_decorators.py:36: FutureWarning: Pass the following variable as a keyword arg: x. From version 0.12, the only valid positional argument will be `data`, and passing other arguments without an explicit keyword will result in an error or misinterpretation.\n",
      "  warnings.warn(\n",
      "/state/partition1/llgrid/pkg/anaconda/anaconda3-2022a/lib/python3.8/site-packages/seaborn/_decorators.py:36: FutureWarning: Pass the following variable as a keyword arg: x. From version 0.12, the only valid positional argument will be `data`, and passing other arguments without an explicit keyword will result in an error or misinterpretation.\n",
      "  warnings.warn(\n",
      "/state/partition1/llgrid/pkg/anaconda/anaconda3-2022a/lib/python3.8/site-packages/seaborn/_decorators.py:36: FutureWarning: Pass the following variable as a keyword arg: x. From version 0.12, the only valid positional argument will be `data`, and passing other arguments without an explicit keyword will result in an error or misinterpretation.\n",
      "  warnings.warn(\n",
      "/state/partition1/llgrid/pkg/anaconda/anaconda3-2022a/lib/python3.8/site-packages/seaborn/_decorators.py:36: FutureWarning: Pass the following variable as a keyword arg: x. From version 0.12, the only valid positional argument will be `data`, and passing other arguments without an explicit keyword will result in an error or misinterpretation.\n",
      "  warnings.warn(\n",
      "/state/partition1/llgrid/pkg/anaconda/anaconda3-2022a/lib/python3.8/site-packages/seaborn/_decorators.py:36: FutureWarning: Pass the following variable as a keyword arg: x. From version 0.12, the only valid positional argument will be `data`, and passing other arguments without an explicit keyword will result in an error or misinterpretation.\n",
      "  warnings.warn(\n",
      "/state/partition1/llgrid/pkg/anaconda/anaconda3-2022a/lib/python3.8/site-packages/seaborn/_decorators.py:36: FutureWarning: Pass the following variable as a keyword arg: x. From version 0.12, the only valid positional argument will be `data`, and passing other arguments without an explicit keyword will result in an error or misinterpretation.\n",
      "  warnings.warn(\n",
      "/state/partition1/llgrid/pkg/anaconda/anaconda3-2022a/lib/python3.8/site-packages/seaborn/_decorators.py:36: FutureWarning: Pass the following variable as a keyword arg: x. From version 0.12, the only valid positional argument will be `data`, and passing other arguments without an explicit keyword will result in an error or misinterpretation.\n",
      "  warnings.warn(\n",
      "/state/partition1/llgrid/pkg/anaconda/anaconda3-2022a/lib/python3.8/site-packages/seaborn/_decorators.py:36: FutureWarning: Pass the following variable as a keyword arg: x. From version 0.12, the only valid positional argument will be `data`, and passing other arguments without an explicit keyword will result in an error or misinterpretation.\n",
      "  warnings.warn(\n",
      "/state/partition1/llgrid/pkg/anaconda/anaconda3-2022a/lib/python3.8/site-packages/seaborn/_decorators.py:36: FutureWarning: Pass the following variable as a keyword arg: x. From version 0.12, the only valid positional argument will be `data`, and passing other arguments without an explicit keyword will result in an error or misinterpretation.\n",
      "  warnings.warn(\n",
      "/state/partition1/llgrid/pkg/anaconda/anaconda3-2022a/lib/python3.8/site-packages/seaborn/_decorators.py:36: FutureWarning: Pass the following variable as a keyword arg: x. From version 0.12, the only valid positional argument will be `data`, and passing other arguments without an explicit keyword will result in an error or misinterpretation.\n",
      "  warnings.warn(\n",
      "/state/partition1/llgrid/pkg/anaconda/anaconda3-2022a/lib/python3.8/site-packages/seaborn/_decorators.py:36: FutureWarning: Pass the following variable as a keyword arg: x. From version 0.12, the only valid positional argument will be `data`, and passing other arguments without an explicit keyword will result in an error or misinterpretation.\n",
      "  warnings.warn(\n",
      "/state/partition1/llgrid/pkg/anaconda/anaconda3-2022a/lib/python3.8/site-packages/seaborn/_decorators.py:36: FutureWarning: Pass the following variable as a keyword arg: x. From version 0.12, the only valid positional argument will be `data`, and passing other arguments without an explicit keyword will result in an error or misinterpretation.\n",
      "  warnings.warn(\n",
      "/state/partition1/llgrid/pkg/anaconda/anaconda3-2022a/lib/python3.8/site-packages/seaborn/_decorators.py:36: FutureWarning: Pass the following variable as a keyword arg: x. From version 0.12, the only valid positional argument will be `data`, and passing other arguments without an explicit keyword will result in an error or misinterpretation.\n",
      "  warnings.warn(\n",
      "/state/partition1/llgrid/pkg/anaconda/anaconda3-2022a/lib/python3.8/site-packages/seaborn/_decorators.py:36: FutureWarning: Pass the following variable as a keyword arg: x. From version 0.12, the only valid positional argument will be `data`, and passing other arguments without an explicit keyword will result in an error or misinterpretation.\n",
      "  warnings.warn(\n",
      "/state/partition1/llgrid/pkg/anaconda/anaconda3-2022a/lib/python3.8/site-packages/seaborn/_decorators.py:36: FutureWarning: Pass the following variable as a keyword arg: x. From version 0.12, the only valid positional argument will be `data`, and passing other arguments without an explicit keyword will result in an error or misinterpretation.\n",
      "  warnings.warn(\n",
      "/state/partition1/llgrid/pkg/anaconda/anaconda3-2022a/lib/python3.8/site-packages/seaborn/_decorators.py:36: FutureWarning: Pass the following variable as a keyword arg: x. From version 0.12, the only valid positional argument will be `data`, and passing other arguments without an explicit keyword will result in an error or misinterpretation.\n",
      "  warnings.warn(\n"
     ]
    },
    {
     "data": {
      "image/png": "[encoded data removed]",
      "text/plain": [
       "<Figure size 288x504 with 8 Axes>"
      ]
     },
     "metadata": {
      "needs_background": "light"
     },
     "output_type": "display_data"
    },
    {
     "data": {
      "text/plain": [
       "<Figure size 360x72 with 0 Axes>"
      ]
     },
     "metadata": {},
     "output_type": "display_data"
    },
    {
     "data": {
      "text/plain": [
       "<Figure size 360x72 with 0 Axes>"
      ]
     },
     "metadata": {},
     "output_type": "display_data"
    },
    {
     "data": {
      "text/plain": [
       "<Figure size 360x72 with 0 Axes>"
      ]
     },
     "metadata": {},
     "output_type": "display_data"
    },
    {
     "data": {
      "text/plain": [
       "<Figure size 360x72 with 0 Axes>"
      ]
     },
     "metadata": {},
     "output_type": "display_data"
    },
    {
     "data": {
      "text/plain": [
       "<Figure size 360x72 with 0 Axes>"
      ]
     },
     "metadata": {},
     "output_type": "display_data"
    },
    {
     "data": {
      "text/plain": [
       "<Figure size 360x72 with 0 Axes>"
      ]
     },
     "metadata": {},
     "output_type": "display_data"
    },
    {
     "data": {
      "text/plain": [
       "<Figure size 360x72 with 0 Axes>"
      ]
     },
     "metadata": {},
     "output_type": "display_data"
    },
    {
     "data": {
      "text/plain": [
       "<Figure size 360x72 with 0 Axes>"
      ]
     },
     "metadata": {},
     "output_type": "display_data"
    },
    {
     "data": {
      "image/png": "[encoded data removed]",
      "text/plain": [
       "<Figure size 288x504 with 8 Axes>"
      ]
     },
     "metadata": {
      "needs_background": "light"
     },
     "output_type": "display_data"
    },
    {
     "data": {
      "text/plain": [
       "<Figure size 360x72 with 0 Axes>"
      ]
     },
     "metadata": {},
     "output_type": "display_data"
    },
    {
     "data": {
      "text/plain": [
       "<Figure size 360x72 with 0 Axes>"
      ]
     },
     "metadata": {},
     "output_type": "display_data"
    },
    {
     "data": {
      "text/plain": [
       "<Figure size 360x72 with 0 Axes>"
      ]
     },
     "metadata": {},
     "output_type": "display_data"
    },
    {
     "data": {
      "text/plain": [
       "<Figure size 360x72 with 0 Axes>"
      ]
     },
     "metadata": {},
     "output_type": "display_data"
    },
    {
     "data": {
      "text/plain": [
       "<Figure size 360x72 with 0 Axes>"
      ]
     },
     "metadata": {},
     "output_type": "display_data"
    },
    {
     "data": {
      "text/plain": [
       "<Figure size 360x72 with 0 Axes>"
      ]
     },
     "metadata": {},
     "output_type": "display_data"
    },
    {
     "data": {
      "text/plain": [
       "<Figure size 360x72 with 0 Axes>"
      ]
     },
     "metadata": {},
     "output_type": "display_data"
    },
    {
     "data": {
      "text/plain": [
       "<Figure size 360x72 with 0 Axes>"
      ]
     },
     "metadata": {},
     "output_type": "display_data"
    }
   ],
   "source": [
    "# plot score distributions per cluster\n",
    "frame = pd.read_csv('../supplementary_tables/data_s8.csv')\n",
    "scores = pd.read_csv('../processed_data/common_var/ex_scores.csv', index_col = 0)\n",
    "frame = frame[[x in set(scores.index) for x in frame['description']]]\n",
    "\n",
    "g_names  = np.array(frame['description'][frame['is_gene']])\n",
    "\n",
    "SCORES = np.array(scores.loc[g_names]['scores'])\n",
    "\n",
    "temp = [SCORES[frame['cluster'][frame['is_gene']]==i] for i in unique_clusters]\n",
    "fig, axes = plt.subplots(8, 1, sharex=True, figsize=(4,7))\n",
    "\n",
    "for i in range(len(temp)):\n",
    "    plt.figure(figsize = (5,1))\n",
    "\n",
    "    sns.boxplot(temp[i], color=colors[i], ax=axes[i])\n",
    "    l1 = axes[i].lines[0]\n",
    "\n",
    "    x1 = l1.get_xydata()[:, 0]\n",
    "    y1 = l1.get_xydata()[:, 1]\n",
    "    \n",
    "    axes[i].spines[['right', 'top']].set_visible(False)\n",
    "    axes[i].set_title('cluster '+str(i), loc='left', y=.3, x=.05)\n",
    "    axes[i].axvline(np.mean(temp[i]), color=colors[i],linestyle='dotted')\n",
    "    axes[i].axvline(0, color='grey', linestyle='dotted')\n",
    "    #axes[i].fill_between(x1, y1, color='grey', alpha=0.3)\n",
    "\n",
    "# plot score distributions per cluster\n",
    "frame = pd.read_csv('../supplementary_tables/data_s8.csv')\n",
    "scores = pd.read_csv('../processed_data/single_cell/all_scores_0825.csv', index_col=0)\n",
    "\n",
    "g_names  = np.array(frame['description'][frame['is_gene']])\n",
    "\n",
    "SCORES = np.array(scores.loc[g_names]['Ex'])\n",
    "\n",
    "temp = [SCORES[frame['cluster'][frame['is_gene']]==i] for i in unique_clusters]\n",
    "fig, axes = plt.subplots(8, 1, sharex=True, figsize=(4,7))\n",
    "\n",
    "for i in range(len(temp)):\n",
    "    plt.figure(figsize = (5,1))\n",
    "\n",
    "    sns.boxplot(temp[i], color=colors[i], ax=axes[i])\n",
    "    l1 = axes[i].lines[0]\n",
    "\n",
    "    x1 = l1.get_xydata()[:, 0]\n",
    "    y1 = l1.get_xydata()[:, 1]\n",
    "    \n",
    "    axes[i].spines[['right', 'top']].set_visible(False)\n",
    "    axes[i].set_title('cluster '+str(i), loc='left', y=.3, x=.05)\n",
    "    axes[i].axvline(np.mean(temp[i]), color=colors[i])#, linestyle='dotted')\n",
    "    axes[i].axvline(0, color='grey', linestyle='dotted')\n",
    "    axes[i].fill_between(x1, y1, color=colors[i], alpha=0.3)\n"
   ]
  },
  {
   "cell_type": "code",
   "execution_count": null,
   "id": "96c831f2-a7dc-4934-8603-f85a6144ac42",
   "metadata": {},
   "outputs": [],
   "source": [
    "\n",
    "# plot score distributions per cluster\n",
    "frame = pd.read_csv('../supplementary_tables/data_s8.csv')\n",
    "scores = pd.read_csv('../processed_data/single_cell/all_scores_0825.csv', index_col=0)\n",
    "\n",
    "g_names  = np.array(frame['description'][frame['is_gene']])\n",
    "\n",
    "SCORES = np.array(scores.loc[g_names]['Ex'])\n",
    "\n",
    "temp = [SCORES[frame['cluster'][frame['is_gene']]==i] for i in unique_clusters]\n",
    "\n",
    "for i in range(len(temp)):\n",
    "    #plt.figure(figsize = (5,1))\n",
    "\n",
    "    sns.distplot(temp[i], color=colors[i], kde=True,\n",
    "        hist=None, label=str(i), ax=axes[i]);\n",
    "    l1 = axes[i].lines[0]\n",
    "\n",
    "    x1 = l1.get_xydata()[:, 0]\n",
    "    y1 = l1.get_xydata()[:, 1]\n",
    "    \n",
    "    axes[i].spines[['right', 'top']].set_visible(False)\n",
    "    axes[i].set_title('cluster '+str(i), loc='left', y=.3, x=.05)\n",
    "    axes[i].axvline(np.mean(temp[i]), color=colors[i])#, linestyle='dotted')\n",
    "    axes[i].axvline(0, color='grey', linestyle='dotted')\n",
    "    axes[i].fill_between(x1, y1, color=colors[i], alpha=0.3)\n"
   ]
  }
 ],
 "metadata": {
  "kernelspec": {
   "display_name": "Python 3 (ipykernel)",
   "language": "python",
   "name": "python3"
  },
  "language_info": {
   "codemirror_mode": {
    "name": "ipython",
    "version": 3
   },
   "file_extension": ".py",
   "mimetype": "text/x-python",
   "name": "python",
   "nbconvert_exporter": "python",
   "pygments_lexer": "ipython3",
   "version": "3.8.13"
  }
 },
 "nbformat": 4,
 "nbformat_minor": 5
}

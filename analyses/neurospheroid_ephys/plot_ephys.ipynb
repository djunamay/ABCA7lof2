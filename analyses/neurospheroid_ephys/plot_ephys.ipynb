{
 "cells": [
  {
   "cell_type": "code",
   "execution_count": 1,
   "metadata": {},
   "outputs": [],
   "source": [
    "import pandas as pd\n",
    "import seaborn as sns\n",
    "import matplotlib.pyplot as plt\n",
    "from statannotations.Annotator import Annotator\n",
    "import numpy as np"
   ]
  },
  {
   "cell_type": "code",
   "execution_count": 2,
   "metadata": {},
   "outputs": [],
   "source": [
    "\n",
    "def detect_outliers_iqr(data):\n",
    "    # Compute the first and third quartiles\n",
    "    Q1, Q3 = np.percentile(data, [25, 75])\n",
    "    IQR = Q3 - Q1\n",
    "    \n",
    "    # Define lower and upper bounds\n",
    "    lower_bound = Q1 - 2 * IQR\n",
    "    upper_bound = Q3 + 2 * IQR\n",
    "    \n",
    "    # Identify outliers\n",
    "    outliers = (data < lower_bound) | (data > upper_bound)\n",
    "    return outliers, lower_bound, upper_bound\n",
    "\n",
    "\n",
    "def plot_boxplot_by_treatment(d, x_val, y_val, order, pairs, palette, ylim, pvalues):\n",
    "    # Draw the boxplot with a semi-transparent fill (alpha=0.5) applied via boxprops.\n",
    "    ax = sns.boxplot(\n",
    "        data=d, \n",
    "        x=x_val, \n",
    "        y=y_val, \n",
    "        palette=palette, \n",
    "        order=order, \n",
    "        width=0.4, \n",
    "       # capsize=0.1, \n",
    "        linewidth=1,\n",
    "\n",
    "        showfliers=False\n",
    "    )\n",
    "\n",
    "    ax.set_ylim(0,ylim)\n",
    "    ax.set_xlim(-0.5, len(order)+5)\n",
    "    # Overlay the stripplot\n",
    "    sp = sns.stripplot(\n",
    "        data=d, \n",
    "        x=x_val, \n",
    "        y=y_val, \n",
    "        dodge=False, \n",
    "        jitter=0.1, \n",
    "        alpha=1,  \n",
    "        order=order, \n",
    "        color='black',\n",
    "        #palette=palette,\n",
    "        size=3\n",
    "    )\n",
    "\n",
    "    #plt.ylim(0, plt.ylim()[1])\n",
    "    # Shift the stripplot points slightly to the left.\n",
    "    shift = 0.4  # Adjust this value as needed\n",
    "    for i, coll in enumerate(sp.collections):\n",
    "        # if i == 0:\n",
    "        #     shift = 0.4\n",
    "        # elif i == 1:\n",
    "        #     shift = 0.4\n",
    "        # elif i == 2:\n",
    "        #     shift = 0.4\n",
    "            \n",
    "        offsets = coll.get_offsets()\n",
    "        # Subtract from the x-coordinate to move left\n",
    "        offsets[:, 0] = offsets[:, 0] + shift\n",
    "        coll.set_offsets(offsets)\n",
    "    # Add statistical annotations\n",
    "    annotator = Annotator(ax, pairs, data=d, x=x_val, y=y_val, order=order)\n",
    "    annotator.configure(text_format='full', loc='outside',line_offset_to_group=10,  # Increases space between the brackets and the plot\n",
    "    text_offset=5)\n",
    "    annotator.set_custom_annotations(pvalues)\n",
    "    annotator.annotate()\n",
    "\n",
    "    plt.xticks(rotation=0)\n",
    "    plt.xlabel('')\n",
    "\n",
    "    # Adjust the boxes so that the face remains semi-transparent while the edge is opaque.\n",
    "    # Try iterating over both ax.artists and ax.patches.\n",
    "    for patch in ax.patches:\n",
    "        # Get the current facecolor (an RGBA tuple)\n",
    "        fc = patch.get_facecolor()\n",
    "        # Set the facecolor to have your desired alpha (e.g., 0.5)\n",
    "        patch.set_facecolor((fc[0], fc[1], fc[2], 0.5))\n",
    "        # Set the edgecolor to the same RGB but fully opaque (alpha=1)\n",
    "        #patch.set_edgecolor((fc[0], fc[1], fc[2], 1.0))\n",
    "        patch.set_linewidth(1)\n",
    "\n",
    "    return ax\n",
    "\n",
    "\n",
    "#plt.savefig('../../paper/main_plots/tmrm_choline_boxplot.png', dpi=300, bbox_inches='tight')\n"
   ]
  },
  {
   "cell_type": "code",
   "execution_count": 3,
   "metadata": {},
   "outputs": [
    {
     "name": "stderr",
     "output_type": "stream",
     "text": [
      "/var/folders/y7/zpj5hbtd2bl78b1t9h2723hw0000gn/T/ipykernel_60809/699690011.py:24: FutureWarning: A value is trying to be set on a copy of a DataFrame or Series through chained assignment using an inplace method.\n",
      "The behavior will change in pandas 3.0. This inplace method will never work because the intermediate object on which we are setting values always behaves as a copy.\n",
      "\n",
      "For example, when doing 'df[col].method(value, inplace=True)', try using 'df.method({col: value}, inplace=True)' or df[col] = df[col].method(value) instead, to perform the operation inplace on the original object.\n",
      "\n",
      "\n",
      "  df_melted['line'].fillna('E3', inplace=True)\n"
     ]
    },
    {
     "data": {
      "text/plain": [
       "array(['E3', 'E3', 'E3', 'E3', 'E3', 'E3', 'Y', 'Y', 'Y', 'Y', 'Y', 'Y',\n",
       "       'Y', 'Y', 'Y', 'Y', 'Y', 'Y', 'Y', 'Y+C', 'Y+C', 'Y+C', 'Y+C',\n",
       "       'Y+C', 'Y+C', 'Y+C', 'Y+C', 'Y+C'], dtype=object)"
      ]
     },
     "execution_count": 3,
     "metadata": {},
     "output_type": "execute_result"
    }
   ],
   "source": [
    "#### Plot without outliers and zero cells removed\n",
    "\n",
    "import pandas as pd\n",
    "\n",
    "# Load data from the Excel file\n",
    "file_path = '../../activity_data/liwang_organoid_recordings_data.xlsx'\n",
    "data = pd.read_excel(file_path, header=None)\n",
    "\n",
    "# Display the first few rows of the dataframe to ensure it loaded correctly\n",
    "all_activity_no_outliers_data = data.iloc[60:]\n",
    "\n",
    "all_activity_no_outliers_data.columns = all_activity_no_outliers_data.iloc[0]\n",
    "all_activity_no_outliers_data = all_activity_no_outliers_data[1:]\n",
    "df = all_activity_no_outliers_data.iloc[:,:3]\n",
    "df.reset_index(drop=True, inplace=True)\n",
    "\n",
    "df_melted = df.melt(id_vars=None, var_name='Condition', value_name='Value')\n",
    "df_melted = df_melted.dropna()\n",
    "\n",
    "df_melted['Value'] = df_melted['Value'].astype(float)\n",
    "\n",
    "dictionary = {'Y622': 'Y', 'Control (ApoE3)': 'E3', 'Y622+Choline': 'Y+C'}\n",
    "df_melted['line'] = df_melted['Condition'].map(dictionary)\n",
    "df_melted['line'].fillna('E3', inplace=True)\n",
    "df_melted['line'].values\n",
    "\n"
   ]
  },
  {
   "cell_type": "code",
   "execution_count": 107,
   "metadata": {},
   "outputs": [],
   "source": [
    "# fig, (ax1) = plt.subplots(1, 1, figsize=(2.5, 2))\n",
    "\n",
    "# plt.sca(ax1)\n",
    "\n",
    "# ax1 = plot_boxplot_by_treatment(df_melted, 'line', 'Value', order = ['E3', 'Y', 'Y+C'], pairs = [('E3', 'Y'), ('Y', 'Y+C')],palette={'E3': 'grey', 'Y': 'orange', 'Y+C': 'purple'}, \n",
    "#                                 ylim = np.max(df_melted['Value']+0.1) )\n",
    "\n",
    "# ax1.set_xticks([])\n",
    "# ax1.spines['top'].set_visible(False)\n",
    "# ax1.spines['right'].set_visible(False)\n",
    "# ax1.set_ylabel('Spontaneous Action\\nPotentials (Hz)')\n",
    "\n",
    "# ax1.text(-0.15, -0.05, \"WT\\n+ H2O\", ha='center', va='top', transform=ax1.get_xaxis_transform(),\n",
    "#          bbox=dict(boxstyle=\"round,pad=0.2\", fc=\"grey\", ec=\"grey\", alpha=0.5), fontsize=8)\n",
    "# ax1.text(0.7, -0.05, \"p.Tyr622*\\n+ H2O\", ha='center', va='top', transform=ax1.get_xaxis_transform(),\n",
    "#          bbox=dict(boxstyle=\"round,pad=0.2\", fc=\"orange\", ec=\"orange\", alpha=0.5), fontsize=8)\n",
    "# ax1.text(1.9, -0.05, \"p.Tyr622*\\n+ CDP-choline\", ha='center', va='top', transform=ax1.get_xaxis_transform(),\n",
    "#          bbox=dict(boxstyle=\"round,pad=0.2\", fc=\"purple\", ec=\"purple\", alpha=0.5), fontsize=8)\n",
    "\n",
    "\n",
    "# #plt.subplots_adjust(left=0.07, right=0.9, top=0.8, bottom=0.08, wspace=0.4)\n",
    "# ax1.set_xlim(-0.5,2.6)\n",
    "# plt.savefig('../../paper/main_plots/cortical_organoids_ephys.png', dpi=300, bbox_inches='tight')"
   ]
  },
  {
   "cell_type": "code",
   "execution_count": 11,
   "metadata": {},
   "outputs": [
    {
     "name": "stderr",
     "output_type": "stream",
     "text": [
      "/var/folders/y7/zpj5hbtd2bl78b1t9h2723hw0000gn/T/ipykernel_60809/4217277503.py:28: FutureWarning: A value is trying to be set on a copy of a DataFrame or Series through chained assignment using an inplace method.\n",
      "The behavior will change in pandas 3.0. This inplace method will never work because the intermediate object on which we are setting values always behaves as a copy.\n",
      "\n",
      "For example, when doing 'df[col].method(value, inplace=True)', try using 'df.method({col: value}, inplace=True)' or df[col] = df[col].method(value) instead, to perform the operation inplace on the original object.\n",
      "\n",
      "\n",
      "  df_melted['line'].fillna('E3', inplace=True)\n"
     ]
    }
   ],
   "source": [
    "#### Plot without outliers and zero cells removed\n",
    "\n",
    "import pandas as pd\n",
    "\n",
    "# Load data from the Excel file\n",
    "file_path = '../../activity_data/liwang_organoid_recordings_data.xlsx'\n",
    "data = pd.read_excel(file_path, header=None)\n",
    "\n",
    "# Display the first few rows of the dataframe to ensure it loaded correctly\n",
    "all_activity_no_outliers_data = data.iloc[2:]\n",
    "\n",
    "all_activity_no_outliers_data.columns = all_activity_no_outliers_data.iloc[0] \n",
    "all_activity_no_outliers_data = all_activity_no_outliers_data[1:]\n",
    "df = all_activity_no_outliers_data.iloc[:,:3] # this is \"All Y622+Choline data\"\n",
    "df.reset_index(drop=True, inplace=True)\n",
    "df = df[:33]\n",
    "df_melted = df.melt(id_vars=None, var_name='Condition', value_name='Value')\n",
    "df_melted = df_melted.dropna()\n",
    "\n",
    "df_melted = df_melted[df_melted['Value'] != 0]\n",
    "\n",
    "\n",
    "\n",
    "df_melted['Value'] = df_melted['Value'].astype(float)\n",
    "\n",
    "dictionary = {'Y622': 'Y', 'Control (ApoE3)': 'E3', 'Y622+Choline': 'Y+C'}\n",
    "df_melted['line'] = df_melted['Condition'].map(dictionary)\n",
    "df_melted['line'].fillna('E3', inplace=True)\n",
    "df_melted['line'].values\n",
    "\n",
    "\n",
    "outliers, lb, ub = detect_outliers_iqr(df_melted['Value'].values)\n",
    "df_melted = df_melted[np.invert(outliers)]\n"
   ]
  },
  {
   "cell_type": "code",
   "execution_count": 10,
   "metadata": {},
   "outputs": [
    {
     "data": {
      "text/html": [
       "<div>\n",
       "<style scoped>\n",
       "    .dataframe tbody tr th:only-of-type {\n",
       "        vertical-align: middle;\n",
       "    }\n",
       "\n",
       "    .dataframe tbody tr th {\n",
       "        vertical-align: top;\n",
       "    }\n",
       "\n",
       "    .dataframe thead th {\n",
       "        text-align: right;\n",
       "    }\n",
       "</style>\n",
       "<table border=\"1\" class=\"dataframe\">\n",
       "  <thead>\n",
       "    <tr style=\"text-align: right;\">\n",
       "      <th></th>\n",
       "      <th>Condition</th>\n",
       "      <th>Value</th>\n",
       "      <th>line</th>\n",
       "    </tr>\n",
       "  </thead>\n",
       "  <tbody>\n",
       "    <tr>\n",
       "      <th>34</th>\n",
       "      <td>Y622</td>\n",
       "      <td>9.383333</td>\n",
       "      <td>Y</td>\n",
       "    </tr>\n",
       "    <tr>\n",
       "      <th>86</th>\n",
       "      <td>Y622+Choline</td>\n",
       "      <td>6.150000</td>\n",
       "      <td>Y+C</td>\n",
       "    </tr>\n",
       "  </tbody>\n",
       "</table>\n",
       "</div>"
      ],
      "text/plain": [
       "       Condition     Value line\n",
       "34          Y622  9.383333    Y\n",
       "86  Y622+Choline  6.150000  Y+C"
      ]
     },
     "execution_count": 10,
     "metadata": {},
     "output_type": "execute_result"
    }
   ],
   "source": [
    "df_melted[outliers]"
   ]
  },
  {
   "cell_type": "code",
   "execution_count": 12,
   "metadata": {},
   "outputs": [
    {
     "name": "stdout",
     "output_type": "stream",
     "text": [
      "comparison 1\n",
      "0.012393030082758539 0.11512726781662548 0.07387723087606098\n",
      "0.7556145746567645\n",
      "0.888334866461264\n"
     ]
    }
   ],
   "source": [
    "from scipy.stats import shapiro, levene, ttest_ind\n",
    "\n",
    "group1 = df_melted[df_melted['line'] == 'E3']['Value']\n",
    "group2 = df_melted[df_melted['line'] == 'Y']['Value']\n",
    "group3 = df_melted[df_melted['line'] == 'Y+C']['Value']\n",
    "\n",
    "stat1, p_norm1 = shapiro(group1)\n",
    "stat2, p_norm2 = shapiro(group2)\n",
    "stat3, p_norm3 = shapiro(group3)\n",
    "print('comparison 1')\n",
    "print(p_norm1, p_norm2, p_norm3)\n",
    "\n",
    "stat, p_levene = levene(group1, group2)\n",
    "# Decide whether to assume equal variances\n",
    "equal_var = p_levene > 0.05 \n",
    "print(p_levene)\n",
    "\n",
    "stat, p_levene = levene(group2, group3)\n",
    "# Decide whether to assume equal variances\n",
    "equal_var = p_levene > 0.05 \n",
    "print(p_levene)\n",
    "\n"
   ]
  },
  {
   "cell_type": "code",
   "execution_count": 13,
   "metadata": {},
   "outputs": [
    {
     "data": {
      "text/plain": [
       "['p=0.004', 'p=0.016']"
      ]
     },
     "execution_count": 13,
     "metadata": {},
     "output_type": "execute_result"
    }
   ],
   "source": [
    "from scipy.stats import mannwhitneyu\n",
    "\n",
    "# Assume group1 and group2 are your data arrays\n",
    "u_stat, p_valu_A = mannwhitneyu(group1, group2, alternative='two-sided')\n",
    "u_stat, p_valu_B = mannwhitneyu(group2, group3, alternative='two-sided')\n",
    "\n",
    "formatted_pvalues = [f\"p={p:.3f}\" if p>0.001 else f\"p={p:.3e}\" for p in [p_valu_A, p_valu_B]]\n",
    "formatted_pvalues\n"
   ]
  },
  {
   "cell_type": "code",
   "execution_count": 14,
   "metadata": {},
   "outputs": [
    {
     "name": "stdout",
     "output_type": "stream",
     "text": [
      "E3 vs. Y: p=0.004\n",
      "Y vs. Y+C: p=0.016\n"
     ]
    },
    {
     "name": "stderr",
     "output_type": "stream",
     "text": [
      "/var/folders/y7/zpj5hbtd2bl78b1t9h2723hw0000gn/T/ipykernel_60809/2286750428.py:17: FutureWarning: \n",
      "\n",
      "Passing `palette` without assigning `hue` is deprecated and will be removed in v0.14.0. Assign the `x` variable to `hue` and set `legend=False` for the same effect.\n",
      "\n",
      "  ax = sns.boxplot(\n"
     ]
    },
    {
     "data": {
      "image/png": "[encoded data removed]",
      "text/plain": [
       "<Figure size 250x200 with 1 Axes>"
      ]
     },
     "metadata": {},
     "output_type": "display_data"
    }
   ],
   "source": [
    "fig, (ax1) = plt.subplots(1, 1, figsize=(2.5, 2))\n",
    "\n",
    "plt.sca(ax1)\n",
    "\n",
    "ax1 = plot_boxplot_by_treatment(df_melted, 'line', 'Value', order = ['E3', 'Y', 'Y+C'], pairs = [('E3', 'Y'), ('Y', 'Y+C')],palette={'E3': 'grey', 'Y': 'orange', 'Y+C': 'purple'}, \n",
    "                                ylim = np.max(df_melted['Value']+0.1), pvalues=formatted_pvalues)\n",
    "\n",
    "ax1.set_xticks([])\n",
    "ax1.spines['top'].set_visible(False)\n",
    "ax1.spines['right'].set_visible(False)\n",
    "ax1.set_ylabel('Spontaneous Action\\nPotentials (Hz)')\n",
    "\n",
    "ax1.text(-0.15, -0.05, \"WT\\n+ H2O\", ha='center', va='top', transform=ax1.get_xaxis_transform(),\n",
    "         bbox=dict(boxstyle=\"round,pad=0.2\", fc=\"grey\", ec=\"grey\", alpha=0.5), fontsize=8)\n",
    "ax1.text(0.7, -0.05, \"p.Tyr622*\\n+ H2O\", ha='center', va='top', transform=ax1.get_xaxis_transform(),\n",
    "         bbox=dict(boxstyle=\"round,pad=0.2\", fc=\"orange\", ec=\"orange\", alpha=0.5), fontsize=8)\n",
    "ax1.text(1.9, -0.05, \"p.Tyr622*\\n+ CDP-choline\", ha='center', va='top', transform=ax1.get_xaxis_transform(),\n",
    "         bbox=dict(boxstyle=\"round,pad=0.2\", fc=\"purple\", ec=\"purple\", alpha=0.5), fontsize=8)\n",
    "\n",
    "\n",
    "#plt.subplots_adjust(left=0.07, right=0.9, top=0.8, bottom=0.08, wspace=0.4)\n",
    "\n",
    "plt.savefig('../../paper/main_plots/cortical_organoids_ephys.png', dpi=300, bbox_inches='tight')"
   ]
  }
 ],
 "metadata": {
  "kernelspec": {
   "display_name": "Python 3",
   "language": "python",
   "name": "python3"
  },
  "language_info": {
   "codemirror_mode": {
    "name": "ipython",
    "version": 3
   },
   "file_extension": ".py",
   "mimetype": "text/x-python",
   "name": "python",
   "nbconvert_exporter": "python",
   "pygments_lexer": "ipython3",
   "version": "3.9.6"
  }
 },
 "nbformat": 4,
 "nbformat_minor": 2
}

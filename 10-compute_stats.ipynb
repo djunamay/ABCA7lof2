{
 "cells": [
  {
   "cell_type": "markdown",
   "id": "1db49321-114d-4d5f-8ef6-52c1a2f21a92",
   "metadata": {},
   "source": [
    "**Compute DEGs and pathway enrichments**\n"
   ]
  },
  {
   "cell_type": "code",
   "execution_count": 1,
   "id": "9278ec8a-aa99-4547-b7f4-33f8e9f6042b",
   "metadata": {
    "collapsed": true,
    "jupyter": {
     "outputs_hidden": true
    },
    "tags": []
   },
   "outputs": [
    {
     "name": "stderr",
     "output_type": "stream",
     "text": [
      "Loading required package: limma\n",
      "\n",
      "Loading required package: mgcv\n",
      "\n",
      "Loading required package: nlme\n",
      "\n",
      "This is mgcv 1.8-40. For overview type 'help(\"mgcv-package\")'.\n",
      "\n",
      "Loading required package: genefilter\n",
      "\n",
      "Loading required package: BiocParallel\n",
      "\n"
     ]
    }
   ],
   "source": [
    "library(edgeR)\n",
    "library(sva)\n",
    "library(fgsea)\n",
    "library(tidyr)\n",
    "source('./ABCA7lof2//degs.r')\n",
    "set.seed(5)"
   ]
  },
  {
   "cell_type": "markdown",
   "id": "d87ddf1a-004b-4765-b586-6cb960fb2290",
   "metadata": {},
   "source": [
    "#### DEGs"
   ]
  },
  {
   "cell_type": "code",
   "execution_count": 2,
   "id": "20b7f287-4a15-4660-aff9-9378eff2523f",
   "metadata": {},
   "outputs": [],
   "source": [
    "all_data = readRDS('./processed_data/single_cell/stats_input_data_0825.rds')"
   ]
  },
  {
   "cell_type": "code",
   "execution_count": 3,
   "id": "16f02950-bee9-46f9-ba6f-a5353b4f6998",
   "metadata": {},
   "outputs": [],
   "source": [
    "summed_counts = all_data$summed_counts_by_ind # does it make sense to be summing on the counts vs taking the mean of the counts? --> compare to nebula? --> ok because we are normalizing?\n",
    "meta = all_data$summary\n",
    "meta$seq_batch = ifelse(meta$seq_batch=='JBM',1,0)\n",
    "expressed = all_data$expressed10"
   ]
  },
  {
   "cell_type": "code",
   "execution_count": 4,
   "id": "85c0bbcf-5eac-4ee3-820d-82c267fe1247",
   "metadata": {},
   "outputs": [],
   "source": [
    "# filter out individuals with too few cells per celltype\n",
    "keep = summed_counts$ncells>=10\n",
    "summed_counts_indexed = summed_counts$summed_counts[,keep]"
   ]
  },
  {
   "cell_type": "code",
   "execution_count": 5,
   "id": "48f38d7b-3b10-4976-902f-c9e2b9533164",
   "metadata": {},
   "outputs": [
    {
     "name": "stdout",
     "output_type": "stream",
     "text": [
      "Number of significant surrogate variables is:  10 \n",
      "Iteration (out of 5 ):1  2  3  4  5  Number of significant surrogate variables is:  9 \n",
      "Iteration (out of 5 ):1  2  3  4  5  Number of significant surrogate variables is:  5 \n",
      "Iteration (out of 5 ):1  2  3  4  5  Number of significant surrogate variables is:  7 \n",
      "Iteration (out of 5 ):1  2  3  4  5  Number of significant surrogate variables is:  9 \n",
      "Iteration (out of 5 ):1  2  3  4  5  Number of significant surrogate variables is:  7 \n",
      "Iteration (out of 5 ):1  2  3  4  5  "
     ]
    }
   ],
   "source": [
    "# compute degs (all samples)\n",
    "vars = c('LOF', 'amyloid', 'nft',  'msex', 'age_death', 'pmi', 'seq_batch', 'APOE4')\n",
    "limma_inputs = get_limma_inputs(summed_counts_indexed, expressed, meta, vars)\n",
    "aggs = limma_inputs$aggs\n",
    "metadata = limma_inputs$metadata\n",
    "\n",
    "\n",
    "degs_all = lapply(names(aggs)[!names(aggs)%in%c('Vascular')], function(x) RunDiffExprAnalysisLimma(aggs[[x]], metadata[[x]], n.sv=NULL))\n",
    "names(degs_all) = names(aggs)[!names(aggs)%in%c('Vascular')]"
   ]
  },
  {
   "cell_type": "code",
   "execution_count": 6,
   "id": "3dfb9905-66b4-4922-a81a-700aa421fa81",
   "metadata": {},
   "outputs": [],
   "source": [
    "# get the ids\n",
    "ids = strsplit(colnames(summed_counts_indexed), '[.]')\n",
    "ids = unlist(lapply(1:length(ids), function(x) ids[[x]][2]))"
   ]
  },
  {
   "cell_type": "code",
   "execution_count": 7,
   "id": "262fbf0a-02c3-417d-85b9-b6e0f5ef554a",
   "metadata": {},
   "outputs": [
    {
     "name": "stdout",
     "output_type": "stream",
     "text": [
      "Number of significant surrogate variables is:  6 \n",
      "Iteration (out of 5 ):1  2  3  4  5  Number of significant surrogate variables is:  6 \n",
      "Iteration (out of 5 ):1  2  3  4  5  Number of significant surrogate variables is:  4 \n",
      "Iteration (out of 5 ):1  2  3  4  5  Number of significant surrogate variables is:  5 \n",
      "Iteration (out of 5 ):1  2  3  4  5  Number of significant surrogate variables is:  5 \n",
      "Iteration (out of 5 ):1  2  3  4  5  Number of significant surrogate variables is:  5 \n",
      "Iteration (out of 5 ):1  2  3  4  5  "
     ]
    }
   ],
   "source": [
    "# compute degs (no APOE4 samples)\n",
    "vars = c('LOF', 'amyloid', 'nft',  'msex', 'age_death', 'pmi', 'seq_batch')\n",
    "sele = rownames(meta)[meta$APOE4==0]\n",
    "sc_noAPOE4 = summed_counts_indexed[,ids%in%sele]\n",
    "limma_inputs = get_limma_inputs(sc_noAPOE4, expressed, meta[sele,], vars)\n",
    "aggs = limma_inputs$aggs\n",
    "metadata = limma_inputs$metadata\n",
    "degs_noAPOE4 = lapply(names(aggs)[!names(aggs)%in%c('Vascular')], function(x) RunDiffExprAnalysisLimma(aggs[[x]], metadata[[x]], n.sv=NULL, exclude_apoe=TRUE))\n",
    "names(degs_noAPOE4) = names(aggs)[!names(aggs)%in%c('Vascular')]\n"
   ]
  },
  {
   "cell_type": "code",
   "execution_count": 8,
   "id": "9fb2f2a5-2706-4811-b79d-2f3927497fd2",
   "metadata": {},
   "outputs": [
    {
     "name": "stdout",
     "output_type": "stream",
     "text": [
      "Number of significant surrogate variables is:  5 \n",
      "Iteration (out of 5 ):1  2  3  4  5  Number of significant surrogate variables is:  4 \n",
      "Iteration (out of 5 ):1  2  3  4  5  Number of significant surrogate variables is:  3 \n",
      "Iteration (out of 5 ):1  2  3  4  5  Number of significant surrogate variables is:  5 \n",
      "Iteration (out of 5 ):1  2  3  4  5  Number of significant surrogate variables is:  3 \n",
      "Iteration (out of 5 ):1  2  3  4  5  Number of significant surrogate variables is:  3 \n",
      "Iteration (out of 5 ):1  2  3  4  5  "
     ]
    }
   ],
   "source": [
    "# compute degs (no APOE4 samples)\n",
    "vars = c('LOF', 'amyloid', 'nft',  'msex', 'age_death', 'pmi', 'APOE4')\n",
    "sele = rownames(meta)[meta$seq_batch==1]\n",
    "sc_JBM = summed_counts_indexed[,ids%in%sele]\n",
    "limma_inputs = get_limma_inputs(sc_JBM, expressed, meta[sele,], vars)\n",
    "aggs = limma_inputs$aggs\n",
    "metadata = limma_inputs$metadata\n",
    "degs_JBM = lapply(names(aggs)[!names(aggs)%in%c('Vascular')], function(x) RunDiffExprAnalysisLimma(aggs[[x]], metadata[[x]], n.sv=NULL, exclude_batch=TRUE))\n",
    "names(degs_JBM) = names(aggs)[!names(aggs)%in%c('Vascular')]"
   ]
  },
  {
   "cell_type": "code",
   "execution_count": 9,
   "id": "5a562439-f63a-425a-b830-d3ccab407148",
   "metadata": {},
   "outputs": [
    {
     "name": "stdout",
     "output_type": "stream",
     "text": [
      "Number of significant surrogate variables is:  4 \n",
      "Iteration (out of 5 ):1  2  3  4  5  Number of significant surrogate variables is:  4 \n",
      "Iteration (out of 5 ):1  2  3  4  5  Number of significant surrogate variables is:  2 \n",
      "Iteration (out of 5 ):1  2  3  4  5  Number of significant surrogate variables is:  4 \n",
      "Iteration (out of 5 ):1  2  3  4  5  Number of significant surrogate variables is:  3 \n",
      "Iteration (out of 5 ):1  2  3  4  5  Number of significant surrogate variables is:  2 \n",
      "Iteration (out of 5 ):1  2  3  4  5  "
     ]
    }
   ],
   "source": [
    "# exclude both\n",
    "vars = c('LOF', 'amyloid', 'nft',  'msex', 'age_death', 'pmi')\n",
    "sele = rownames(meta)[(meta$seq_batch==1) & (meta$APOE4==0)]\n",
    "sc_exclude_both = summed_counts_indexed[,ids%in%sele]\n",
    "limma_inputs = get_limma_inputs(sc_exclude_both, expressed, meta[sele,], vars)\n",
    "aggs = limma_inputs$aggs\n",
    "metadata = limma_inputs$metadata\n",
    "degs_exclude_both = lapply(names(aggs)[!names(aggs)%in%c('Vascular')], function(x) RunDiffExprAnalysisLimma(aggs[[x]], metadata[[x]], n.sv=NULL, exclude_both=TRUE))\n",
    "names(degs_exclude_both) = names(aggs)[!names(aggs)%in%c('Vascular')]"
   ]
  },
  {
   "cell_type": "code",
   "execution_count": 11,
   "id": "239c315f-3f48-4b88-98eb-8626c798b002",
   "metadata": {},
   "outputs": [],
   "source": [
    "# save the results\n",
    "degs = list()\n",
    "degs[['degs_all']] = degs_all\n",
    "degs[['degs_exclude_both']] = degs_exclude_both\n",
    "degs[['degs_JBM']] = degs_JBM\n",
    "degs[['degs_noAPOE4']] = degs_noAPOE4\n",
    "\n",
    "saveRDS(degs, './processed_data/single_cell/pseudobulk_degs_0825.rds')"
   ]
  },
  {
   "cell_type": "code",
   "execution_count": 12,
   "id": "a9a5f6d4-41e8-43d4-a5c1-106c8e8e9a13",
   "metadata": {},
   "outputs": [],
   "source": [
    "# save deg scores as matrix\n",
    "out = list()\n",
    "scores = get_deg_scores(degs$degs_all)\n",
    "for(i in names(scores)){\n",
    "    df = as.data.frame(scores[[i]]$scores)\n",
    "    colnames(df) = c('score')\n",
    "    df$gene = rownames(df)\n",
    "    df$celltype = i\n",
    "    out[[i]] = df\n",
    "}\n",
    "all_scores = as.data.frame(do.call('rbind', out)%>%pivot_wider(., values_from='score', names_from='celltype'))\n",
    "rownames(all_scores) = all_scores$gene\n",
    "all_scores$gene = NULL\n",
    "all_scores[is.na(all_scores)] = 0\n",
    "write.csv(all_scores, './processed_data/single_cell/all_scores_0825.csv')"
   ]
  },
  {
   "cell_type": "code",
   "execution_count": 13,
   "id": "e0a6528a-e8c2-4be9-b3a8-036d285002df",
   "metadata": {},
   "outputs": [
    {
     "data": {
      "text/html": [
       "<table class=\"dataframe\">\n",
       "<caption>A data.frame: 6 × 6</caption>\n",
       "<thead>\n",
       "\t<tr><th></th><th scope=col>Opc</th><th scope=col>Ast</th><th scope=col>Ex</th><th scope=col>Oli</th><th scope=col>Mic</th><th scope=col>In</th></tr>\n",
       "\t<tr><th></th><th scope=col>&lt;dbl&gt;</th><th scope=col>&lt;dbl&gt;</th><th scope=col>&lt;dbl&gt;</th><th scope=col>&lt;dbl&gt;</th><th scope=col>&lt;dbl&gt;</th><th scope=col>&lt;dbl&gt;</th></tr>\n",
       "</thead>\n",
       "<tbody>\n",
       "\t<tr><th scope=row>DTNBP1</th><td>3.986428</td><td>-0.27949126</td><td>-0.12693224</td><td>0.00000000</td><td>0.01183948</td><td>-0.4148457</td></tr>\n",
       "\t<tr><th scope=row>VRK2</th><td>3.507619</td><td> 0.00000000</td><td> 0.00000000</td><td>0.09467679</td><td>0.10415110</td><td> 0.0000000</td></tr>\n",
       "\t<tr><th scope=row>ZBED5</th><td>3.285349</td><td>-0.01085106</td><td> 2.61196104</td><td>0.12375953</td><td>1.52099952</td><td> 2.4372781</td></tr>\n",
       "\t<tr><th scope=row>TMED3</th><td>3.256609</td><td> 0.00000000</td><td> 1.28143551</td><td>0.00000000</td><td>0.00000000</td><td> 0.5575109</td></tr>\n",
       "\t<tr><th scope=row>SEMA6B</th><td>3.151941</td><td> 0.00000000</td><td> 0.07776685</td><td>0.00000000</td><td>0.00000000</td><td>-0.0831840</td></tr>\n",
       "\t<tr><th scope=row>SYCP2L</th><td>3.098583</td><td> 0.97256275</td><td> 0.77546380</td><td>0.00000000</td><td>0.00000000</td><td> 1.5736471</td></tr>\n",
       "</tbody>\n",
       "</table>\n"
      ],
      "text/latex": [
       "A data.frame: 6 × 6\n",
       "\\begin{tabular}{r|llllll}\n",
       "  & Opc & Ast & Ex & Oli & Mic & In\\\\\n",
       "  & <dbl> & <dbl> & <dbl> & <dbl> & <dbl> & <dbl>\\\\\n",
       "\\hline\n",
       "\tDTNBP1 & 3.986428 & -0.27949126 & -0.12693224 & 0.00000000 & 0.01183948 & -0.4148457\\\\\n",
       "\tVRK2 & 3.507619 &  0.00000000 &  0.00000000 & 0.09467679 & 0.10415110 &  0.0000000\\\\\n",
       "\tZBED5 & 3.285349 & -0.01085106 &  2.61196104 & 0.12375953 & 1.52099952 &  2.4372781\\\\\n",
       "\tTMED3 & 3.256609 &  0.00000000 &  1.28143551 & 0.00000000 & 0.00000000 &  0.5575109\\\\\n",
       "\tSEMA6B & 3.151941 &  0.00000000 &  0.07776685 & 0.00000000 & 0.00000000 & -0.0831840\\\\\n",
       "\tSYCP2L & 3.098583 &  0.97256275 &  0.77546380 & 0.00000000 & 0.00000000 &  1.5736471\\\\\n",
       "\\end{tabular}\n"
      ],
      "text/markdown": [
       "\n",
       "A data.frame: 6 × 6\n",
       "\n",
       "| <!--/--> | Opc &lt;dbl&gt; | Ast &lt;dbl&gt; | Ex &lt;dbl&gt; | Oli &lt;dbl&gt; | Mic &lt;dbl&gt; | In &lt;dbl&gt; |\n",
       "|---|---|---|---|---|---|---|\n",
       "| DTNBP1 | 3.986428 | -0.27949126 | -0.12693224 | 0.00000000 | 0.01183948 | -0.4148457 |\n",
       "| VRK2 | 3.507619 |  0.00000000 |  0.00000000 | 0.09467679 | 0.10415110 |  0.0000000 |\n",
       "| ZBED5 | 3.285349 | -0.01085106 |  2.61196104 | 0.12375953 | 1.52099952 |  2.4372781 |\n",
       "| TMED3 | 3.256609 |  0.00000000 |  1.28143551 | 0.00000000 | 0.00000000 |  0.5575109 |\n",
       "| SEMA6B | 3.151941 |  0.00000000 |  0.07776685 | 0.00000000 | 0.00000000 | -0.0831840 |\n",
       "| SYCP2L | 3.098583 |  0.97256275 |  0.77546380 | 0.00000000 | 0.00000000 |  1.5736471 |\n",
       "\n"
      ],
      "text/plain": [
       "       Opc      Ast         Ex          Oli        Mic        In        \n",
       "DTNBP1 3.986428 -0.27949126 -0.12693224 0.00000000 0.01183948 -0.4148457\n",
       "VRK2   3.507619  0.00000000  0.00000000 0.09467679 0.10415110  0.0000000\n",
       "ZBED5  3.285349 -0.01085106  2.61196104 0.12375953 1.52099952  2.4372781\n",
       "TMED3  3.256609  0.00000000  1.28143551 0.00000000 0.00000000  0.5575109\n",
       "SEMA6B 3.151941  0.00000000  0.07776685 0.00000000 0.00000000 -0.0831840\n",
       "SYCP2L 3.098583  0.97256275  0.77546380 0.00000000 0.00000000  1.5736471"
      ]
     },
     "metadata": {},
     "output_type": "display_data"
    }
   ],
   "source": [
    "head(all_scores)"
   ]
  },
  {
   "cell_type": "markdown",
   "id": "d5fa0532-7f12-4d3a-868b-5b73c5dfa8b5",
   "metadata": {},
   "source": [
    "##### FGSEA"
   ]
  },
  {
   "cell_type": "code",
   "execution_count": 40,
   "id": "9b4d7dbc-23bd-47ae-88cb-13845559fed1",
   "metadata": {},
   "outputs": [
    {
     "name": "stdout",
     "output_type": "stream",
     "text": [
      "  |======================================================================| 100%\n",
      "\n",
      "  |======================================================================| 100%\n",
      "\n",
      "  |======================================================================| 100%\n",
      "\n",
      "  |======================================================================| 100%\n",
      "\n",
      "  |======================================================================| 100%\n",
      "\n",
      "  |======================================================================| 100%\n",
      "\n"
     ]
    }
   ],
   "source": [
    "# load degs\n",
    "degs = readRDS('./processed_data/single_cell/pseudobulk_degs_0825.rds')$degs_all\n",
    "scores = get_deg_scores(degs)\n",
    "\n",
    "# compute fgsea results\n",
    "all_paths = read.csv('./processed_data/genesets/all_paths.csv', row.names = 'X')\n",
    "pathways = as.list(as.data.frame(t(all_paths)))\n",
    "temp = lapply(names(pathways), function(x) pathways[[x]][!(pathways[[x]]=='')])\n",
    "names(temp) = names(pathways)\n",
    "              \n",
    "out = lapply(names(scores), function(x) cbind(x, fgsea(pathways = temp, stats = scores[[x]]$scores, minSize = 5, maxSize = 1000, nproc=1, nPermSimple=10000)))\n",
    "names(out) = names(scores)"
   ]
  },
  {
   "cell_type": "code",
   "execution_count": 41,
   "id": "946c9c96-7747-4a79-939c-5492e5e81a36",
   "metadata": {},
   "outputs": [],
   "source": [
    "# save the fgsea results\n",
    "saveRDS(out, './processed_data/for_plotting/fgsea_out_0825.rds')\n",
    "\n",
    "# save all fgsea results\n",
    "df = as.data.frame(do.call('rbind', out))\n",
    "df = df[,!colnames(df)=='leadingEdge']\n",
    "write.csv(df, './processed_data/for_plotting/fgsea_out_0825.csv')\n",
    "\n",
    "# save LE genes per celltype\n",
    "for(i in names(out)){\n",
    "    res = out[[i]]\n",
    "    res = res[res$pval<0.05,]\n",
    "\n",
    "    df = as.data.frame(unique(unname(unlist(res$leadingEdge))))\n",
    "    colnames(df) = 'gene'\n",
    "    write.csv(df, paste0(paste0('./processed_data/for_plotting/leading_edge_0825', i), '.csv'))\n",
    "}"
   ]
  },
  {
   "cell_type": "code",
   "execution_count": 42,
   "id": "7b5fa2c4-1520-46b1-b35c-f7c799e6231f",
   "metadata": {},
   "outputs": [],
   "source": [
    "# save all LEs\n",
    "out = readRDS('./processed_data/for_plotting/fgsea_out_0825.rds')\n",
    "res = do.call('rbind', out)\n",
    "res$score = sign(res$NES) * -log10(res$pval)\n",
    "res = res[order(res$pval,decreasing=FALSE),]\n",
    "res = res[res$pval<0.05,]\n",
    "# save all leading edge genes\n",
    "df = as.data.frame(unique(unname(unlist(res$leadingEdge))))\n",
    "colnames(df) = 'gene'\n",
    "write.csv(df, './processed_data/for_plotting/leading_edge_0825.csv')"
   ]
  },
  {
   "cell_type": "code",
   "execution_count": 43,
   "id": "9e25d640-6338-46e2-9a50-3509d7e9d714",
   "metadata": {
    "tags": []
   },
   "outputs": [],
   "source": [
    "# save supp table\n",
    "temp = do.call('rbind', out)\n",
    "x = unlist(lapply(temp$leadingEdge, function(x) paste(x, collapse=', ')))\n",
    "temp$leadingEdge = x\n",
    "write.csv(temp, './supplementary_tables/data_s3.csv')"
   ]
  },
  {
   "cell_type": "markdown",
   "id": "82903dde-a95c-47e4-9588-4542d104c59d",
   "metadata": {},
   "source": [
    "#### Specific gene enrichments"
   ]
  },
  {
   "cell_type": "code",
   "execution_count": 46,
   "id": "2a99a40a-c28b-40c7-9fd8-954f02f25e33",
   "metadata": {},
   "outputs": [],
   "source": [
    "get_gset_names_by_category = function(cat, gsets){\n",
    "  gset = unlist(lapply(gsets, function(x) unlist(sum(sapply(cat, grepl, x))>0)))\n",
    "  gset = (gsets[gset])\n",
    "  return(gset)\n",
    "}"
   ]
  },
  {
   "cell_type": "code",
   "execution_count": 47,
   "id": "dac68217-52d0-491a-80f2-b7ed87992b12",
   "metadata": {},
   "outputs": [
    {
     "name": "stdout",
     "output_type": "stream",
     "text": [
      "  |======================================================================| 100%\n",
      "\n"
     ]
    }
   ],
   "source": [
    "# enrichment for nfkb genesets\n",
    "pathways = readRDS('../ABCA7lof/processed_data/pathway_databases/pathways.rds')$all_paths\n",
    "                       \n",
    "o = get_gset_names_by_category(c('kappa'), names(pathways))\n",
    "temp2 = pathways[o]\n",
    "out = lapply(names(scores), function(x) cbind(x, fgsea(pathways = temp2, stats = scores[[x]]$scores, minSize = 5, maxSize = 1000, nproc=1, nPermSimple=10000)))\n",
    "names(out) = names(scores)\n",
    "          \n",
    "# save kappa paths\n",
    "\n",
    "saveRDS(out, './processed_data/for_plotting/fgsea_out_all_kappa.rds')"
   ]
  },
  {
   "cell_type": "code",
   "execution_count": 48,
   "id": "47313394-a89e-4b32-8b46-371c7739426e",
   "metadata": {},
   "outputs": [],
   "source": [
    "# save supp table\n",
    "temp = do.call('rbind', out)\n",
    "x = unlist(lapply(temp$leadingEdge, function(x) paste(x, collapse=', ')))\n",
    "temp$leadingEdge = x\n",
    "write.csv(temp, './supplementary_tables/data_s5.csv')"
   ]
  },
  {
   "cell_type": "code",
   "execution_count": 49,
   "id": "4336db22-b44d-4876-8e02-5b0b05382502",
   "metadata": {},
   "outputs": [
    {
     "name": "stdout",
     "output_type": "stream",
     "text": [
      "  |======================================================================| 100%\n",
      "\n",
      "  |======================================================================| 100%\n",
      "\n",
      "  |======================================================================| 100%\n",
      "\n",
      "  |======================================================================| 100%\n",
      "\n"
     ]
    }
   ],
   "source": [
    "# enrichment for lipid genesets\n",
    "pathways = readRDS('../ABCA7lof/processed_data/pathway_databases/pathways.rds')$all_paths\n",
    "\n",
    "o = get_gset_names_by_category(c('sterol', 'lipid', 'glycer', 'fatt', 'ceramide', 'phosphatidyl'), names(pathways))\n",
    "temp2 = pathways[o]\n",
    "out = lapply(names(scores), function(x) cbind(x, fgsea(pathways = temp2, stats = scores[[x]]$scores, minSize = 5, maxSize = 1000, nproc=1, nPermSimple=10000)))\n",
    "names(out) = names(scores)\n",
    "   \n",
    "# save lipid paths\n",
    "res = out$Ex\n",
    "res = res[order(res$pval,decreasing=FALSE),]\n",
    "res = res[res$pval<0.05,]\n",
    "saveRDS(res, './processed_data/for_plotting/fgsea_out_ex_lipid.rds')\n",
    "             \n",
    "# save lipid paths\n",
    "saveRDS(out, './processed_data/for_plotting/fgsea_out_all_lipid.rds')"
   ]
  },
  {
   "cell_type": "code",
   "execution_count": 50,
   "id": "a40bd4d9-a21c-4cb0-88f5-bacdab723348",
   "metadata": {},
   "outputs": [],
   "source": [
    "# save supp table\n",
    "temp = do.call('rbind', out)\n",
    "x = unlist(lapply(temp$leadingEdge, function(x) paste(x, collapse=', ')))\n",
    "temp$leadingEdge = x\n",
    "write.csv(temp, './supplementary_tables/data_s4.csv')"
   ]
  }
 ],
 "metadata": {
  "kernelspec": {
   "display_name": "R [conda env:.conda-r_env]",
   "language": "R",
   "name": "conda-env-.conda-r_env-r"
  },
  "language_info": {
   "codemirror_mode": "r",
   "file_extension": ".r",
   "mimetype": "text/x-r-source",
   "name": "R",
   "pygments_lexer": "r",
   "version": "4.2.3"
  }
 },
 "nbformat": 4,
 "nbformat_minor": 5
}

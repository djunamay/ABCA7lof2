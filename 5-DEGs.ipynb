{
 "cells": [
  {
   "cell_type": "code",
   "execution_count": 1,
   "id": "344d9391-7fcf-42bf-9163-f4c7401bd654",
   "metadata": {
    "tags": []
   },
   "outputs": [],
   "source": [
    "# get pseudobulk\n",
    "# compute DEGs\n",
    "# get expressed genes\n",
    "# then save --> go to analysis script, plot\n",
    "# then compare to original QC\n",
    "# possibly redo annotations\n",
    "\n",
    "import numpy as np\n",
    "import pandas as pd\n",
    "from numba import config\n",
    "\n",
    "config.THREADING_LAYER = 'workqueue'"
   ]
  },
  {
   "cell_type": "code",
   "execution_count": 20,
   "id": "d35f4549-2ada-4c23-9605-1eff8bc74a94",
   "metadata": {},
   "outputs": [],
   "source": [
    "# load data\n",
    "meta = np.load('./processed_data/single_cell/filtered_meta.npy', allow_pickle=True)\n",
    "meta_names = np.load('./processed_data/single_cell/meta_names.npy', allow_pickle=True)\n",
    "features = np.load('./processed_data/single_cell/features.npy')\n",
    "logcounts = np.memmap('./processed_data/single_cell/filtered_logcounts.npy', mode='r+', shape=(meta.shape[0], features.shape[0]), dtype='float')\n",
    "marker_indices = np.load('./processed_data/single_cell/marker_indices.npy')"
   ]
  },
  {
   "cell_type": "code",
   "execution_count": 21,
   "id": "6e485aab-8d72-42d5-9fd2-dde8b1bce701",
   "metadata": {},
   "outputs": [],
   "source": [
    "# get keep cells indices\n",
    "index = meta[:,np.where(meta_names=='keep_cells_all_per_celltype')[0][0]].astype(bool)\n",
    "index2 = meta[:,np.where(meta_names=='keep_cells_gaussian')[0][0]].astype(bool)\n",
    "index_all = index&index2\n",
    "\n",
    "projids = meta[:,2]\n",
    "celltype = meta[:,-5]\n",
    "projids = projids.astype(int)\n",
    "celltype = celltype.astype(int)"
   ]
  },
  {
   "cell_type": "code",
   "execution_count": 22,
   "id": "9cb5f6d7-4cd8-44f5-8138-e6e5f8b94b03",
   "metadata": {},
   "outputs": [
    {
     "data": {
      "text/plain": [
       "(array([0, 1, 2, 3, 4, 5, 6, 7]),\n",
       " array([34745,  2939,  9604, 11633,  6794,  5116,  7670, 45778]))"
      ]
     },
     "execution_count": 22,
     "metadata": {},
     "output_type": "execute_result"
    }
   ],
   "source": [
    "np.unique(celltype, return_counts=True)"
   ]
  },
  {
   "cell_type": "code",
   "execution_count": 23,
   "id": "2316889c-28ef-45d4-be90-b820839356fc",
   "metadata": {},
   "outputs": [],
   "source": [
    "bulked = np.empty(shape=(len(np.unique(projids))*len(np.unique(celltype)), features.shape[0]))\n",
    "sums = np.zeros(len(np.unique(projids))*len(np.unique(celltype)))"
   ]
  },
  {
   "cell_type": "code",
   "execution_count": 24,
   "id": "de25585d-8f32-4003-ad7d-2fc5d07b573b",
   "metadata": {},
   "outputs": [],
   "source": [
    "dictionary1 = Dict(zip(np.unique(projids), np.arange(len(np.unique(projids)))))\n",
    "dictionary2 = Dict(zip(np.unique(celltype), np.arange(len(np.unique(celltype))*len(np.unique(projids)), step=len(np.unique(projids)))))"
   ]
  },
  {
   "cell_type": "code",
   "execution_count": 25,
   "id": "ac5fe3c3-0f16-4c92-b266-09fb31ade787",
   "metadata": {},
   "outputs": [],
   "source": [
    "exclude = set(np.where(np.invert(index_all))[0])\n",
    "import numba as nb\n",
    "\n",
    "@nb.njit(parallel=True)\n",
    "def bulk_data(logcounts, exclude, dictionary1, dictionary2, bulked, sums, projids, celltype):\n",
    "    for i in nb.prange(logcounts.shape[0]):\n",
    "        if i in exclude:\n",
    "            continue\n",
    "        else:\n",
    "            index = dictionary1[projids[i]]+dictionary2[celltype[i]]\n",
    "            bulked[index]+=logcounts[i]\n",
    "            sums[index]+=1\n",
    "    return bulked, sums"
   ]
  },
  {
   "cell_type": "code",
   "execution_count": 26,
   "id": "629f03ec-db36-44fd-ae93-4819563251df",
   "metadata": {},
   "outputs": [],
   "source": [
    "from numba.typed import Dict\n"
   ]
  },
  {
   "cell_type": "code",
   "execution_count": 27,
   "id": "a2b593c9-7279-4648-ad67-43e2d34ceb48",
   "metadata": {},
   "outputs": [
    {
     "name": "stderr",
     "output_type": "stream",
     "text": [
      "/home/gridsan/djuna/.local/lib/python3.8/site-packages/numba/core/ir_utils.py:2149: NumbaPendingDeprecationWarning: \u001b[1m\n",
      "Encountered the use of a type that is scheduled for deprecation: type 'reflected set' found for argument 'exclude' of function 'bulk_data'.\n",
      "\n",
      "For more information visit https://numba.readthedocs.io/en/stable/reference/deprecation.html#deprecation-of-reflection-for-list-and-set-types\n",
      "\u001b[1m\n",
      "File \"../../../../../../state/partition1/slurm_tmp/23498815.0.0/ipykernel_93258/625077689.py\", line 4:\u001b[0m\n",
      "\u001b[1m<source missing, REPL/exec in use?>\u001b[0m\n",
      "\u001b[0m\n",
      "  warnings.warn(NumbaPendingDeprecationWarning(msg, loc=loc))\n",
      "/home/gridsan/djuna/.local/lib/python3.8/site-packages/numba/core/ir_utils.py:2149: NumbaPendingDeprecationWarning: \u001b[1m\n",
      "Encountered the use of a type that is scheduled for deprecation: type 'reflected set' found for argument 'exclude' of function '__numba_parfor_gufunc_0x7f1cf35d8460'.\n",
      "\n",
      "For more information visit https://numba.readthedocs.io/en/stable/reference/deprecation.html#deprecation-of-reflection-for-list-and-set-types\n",
      "\u001b[1m\n",
      "File \"<string>\", line 1:\u001b[0m\n",
      "\u001b[1m<source missing, REPL/exec in use?>\u001b[0m\n",
      "\u001b[0m\n",
      "  warnings.warn(NumbaPendingDeprecationWarning(msg, loc=loc))\n"
     ]
    }
   ],
   "source": [
    "Summed, Ncells = bulk_data(logcounts, exclude, dictionary1, dictionary2, bulked, sums, projids, celltype)"
   ]
  },
  {
   "cell_type": "code",
   "execution_count": 105,
   "id": "7d918b69-75ef-4489-b8a4-021e24ee0d12",
   "metadata": {},
   "outputs": [],
   "source": [
    "Ncells_sub = Ncells[Ncells!=0]\n",
    "Summed_sub = Summed[Ncells!=0]"
   ]
  },
  {
   "cell_type": "code",
   "execution_count": 106,
   "id": "aa39f7de-53f1-4bd3-928c-3ea52c22d662",
   "metadata": {},
   "outputs": [],
   "source": [
    "bulked_data = Summed_sub/Ncells_sub.reshape(-1,1)"
   ]
  },
  {
   "cell_type": "code",
   "execution_count": 107,
   "id": "924f694c-bc18-4c63-adf6-b6e8ca098f29",
   "metadata": {},
   "outputs": [],
   "source": [
    "all_projids = np.tile(np.unique(projids), len(np.unique(celltype)))[Ncells!=0]\n",
    "all_celltype = np.repeat(np.unique(celltype), len(np.unique(projids)))[Ncells!=0]"
   ]
  },
  {
   "cell_type": "code",
   "execution_count": 108,
   "id": "2e453adb-d881-482d-b051-5c94d65443d6",
   "metadata": {},
   "outputs": [],
   "source": [
    "np.save('./processed_data/single_cell/bulk_profiles.npy', bulked_data)\n",
    "np.save('./processed_data/single_cell/bulk_profiles_rowIDs_1.npy', all_projids)\n",
    "np.save('./processed_data/single_cell/bulk_profiles_rowIDs_2.npy', all_celltype)\n"
   ]
  },
  {
   "cell_type": "code",
   "execution_count": 109,
   "id": "7b19bf8a-a6a6-4ce7-bc6e-4a4f5f679956",
   "metadata": {},
   "outputs": [],
   "source": [
    "temp = pd.DataFrame(bulked_data).T"
   ]
  },
  {
   "cell_type": "code",
   "execution_count": 126,
   "id": "8a860a46-9474-43cc-9b61-7df28d21a287",
   "metadata": {},
   "outputs": [],
   "source": [
    "pd.DataFrame(features).to_csv('./processed_data/single_cell/bulk_feat.csv')"
   ]
  },
  {
   "cell_type": "code",
   "execution_count": 121,
   "id": "a61a2ca1-2697-47f5-b05f-c528d42c01ad",
   "metadata": {},
   "outputs": [
    {
     "data": {
      "text/plain": [
       "294"
      ]
     },
     "execution_count": 121,
     "metadata": {},
     "output_type": "execute_result"
    }
   ],
   "source": [
    "len((np.array([x + '_' + y for x in np.unique(all_celltype.astype(str)) for y in np.unique(all_projids.astype(str))])))"
   ]
  },
  {
   "cell_type": "code",
   "execution_count": 123,
   "id": "0eb9d68d-44d5-4738-84ce-7163c6b57107",
   "metadata": {},
   "outputs": [],
   "source": [
    "temp.to_csv('./processed_data/single_cell/bulk.csv')"
   ]
  },
  {
   "cell_type": "code",
   "execution_count": 76,
   "id": "55841e63-478e-42ab-bde4-e0304975c0f6",
   "metadata": {},
   "outputs": [
    {
     "ename": "ValueError",
     "evalue": "Length mismatch: Expected axis has 36601 elements, new values have 336 elements",
     "output_type": "error",
     "traceback": [
      "\u001b[0;31m---------------------------------------------------------------------------\u001b[0m",
      "\u001b[0;31mValueError\u001b[0m                                Traceback (most recent call last)",
      "Input \u001b[0;32mIn [76]\u001b[0m, in \u001b[0;36m<cell line: 1>\u001b[0;34m()\u001b[0m\n\u001b[0;32m----> 1\u001b[0m temp\u001b[38;5;241m.\u001b[39mindex \u001b[38;5;241m=\u001b[39m np\u001b[38;5;241m.\u001b[39marray([x \u001b[38;5;241m+\u001b[39m \u001b[38;5;124m'\u001b[39m\u001b[38;5;124m_\u001b[39m\u001b[38;5;124m'\u001b[39m \u001b[38;5;241m+\u001b[39m y \u001b[38;5;28;01mfor\u001b[39;00m x \u001b[38;5;129;01min\u001b[39;00m np\u001b[38;5;241m.\u001b[39munique(all_projids\u001b[38;5;241m.\u001b[39mastype(\u001b[38;5;28mstr\u001b[39m)) \u001b[38;5;28;01mfor\u001b[39;00m y \u001b[38;5;129;01min\u001b[39;00m np\u001b[38;5;241m.\u001b[39munique(all_celltype\u001b[38;5;241m.\u001b[39mastype(\u001b[38;5;28mstr\u001b[39m))])\n",
      "File \u001b[0;32m~/.local/lib/python3.8/site-packages/pandas/core/generic.py:5915\u001b[0m, in \u001b[0;36mNDFrame.__setattr__\u001b[0;34m(self, name, value)\u001b[0m\n\u001b[1;32m   5913\u001b[0m \u001b[38;5;28;01mtry\u001b[39;00m:\n\u001b[1;32m   5914\u001b[0m     \u001b[38;5;28mobject\u001b[39m\u001b[38;5;241m.\u001b[39m\u001b[38;5;21m__getattribute__\u001b[39m(\u001b[38;5;28mself\u001b[39m, name)\n\u001b[0;32m-> 5915\u001b[0m     \u001b[38;5;28;01mreturn\u001b[39;00m \u001b[38;5;28;43mobject\u001b[39;49m\u001b[38;5;241;43m.\u001b[39;49m\u001b[38;5;21;43m__setattr__\u001b[39;49m\u001b[43m(\u001b[49m\u001b[38;5;28;43mself\u001b[39;49m\u001b[43m,\u001b[49m\u001b[43m \u001b[49m\u001b[43mname\u001b[49m\u001b[43m,\u001b[49m\u001b[43m \u001b[49m\u001b[43mvalue\u001b[49m\u001b[43m)\u001b[49m\n\u001b[1;32m   5916\u001b[0m \u001b[38;5;28;01mexcept\u001b[39;00m \u001b[38;5;167;01mAttributeError\u001b[39;00m:\n\u001b[1;32m   5917\u001b[0m     \u001b[38;5;28;01mpass\u001b[39;00m\n",
      "File \u001b[0;32m~/.local/lib/python3.8/site-packages/pandas/_libs/properties.pyx:69\u001b[0m, in \u001b[0;36mpandas._libs.properties.AxisProperty.__set__\u001b[0;34m()\u001b[0m\n",
      "File \u001b[0;32m~/.local/lib/python3.8/site-packages/pandas/core/generic.py:823\u001b[0m, in \u001b[0;36mNDFrame._set_axis\u001b[0;34m(self, axis, labels)\u001b[0m\n\u001b[1;32m    821\u001b[0m \u001b[38;5;28;01mdef\u001b[39;00m \u001b[38;5;21m_set_axis\u001b[39m(\u001b[38;5;28mself\u001b[39m, axis: \u001b[38;5;28mint\u001b[39m, labels: AnyArrayLike \u001b[38;5;241m|\u001b[39m \u001b[38;5;28mlist\u001b[39m) \u001b[38;5;241m-\u001b[39m\u001b[38;5;241m>\u001b[39m \u001b[38;5;28;01mNone\u001b[39;00m:\n\u001b[1;32m    822\u001b[0m     labels \u001b[38;5;241m=\u001b[39m ensure_index(labels)\n\u001b[0;32m--> 823\u001b[0m     \u001b[38;5;28;43mself\u001b[39;49m\u001b[38;5;241;43m.\u001b[39;49m\u001b[43m_mgr\u001b[49m\u001b[38;5;241;43m.\u001b[39;49m\u001b[43mset_axis\u001b[49m\u001b[43m(\u001b[49m\u001b[43maxis\u001b[49m\u001b[43m,\u001b[49m\u001b[43m \u001b[49m\u001b[43mlabels\u001b[49m\u001b[43m)\u001b[49m\n\u001b[1;32m    824\u001b[0m     \u001b[38;5;28mself\u001b[39m\u001b[38;5;241m.\u001b[39m_clear_item_cache()\n",
      "File \u001b[0;32m~/.local/lib/python3.8/site-packages/pandas/core/internals/managers.py:230\u001b[0m, in \u001b[0;36mBaseBlockManager.set_axis\u001b[0;34m(self, axis, new_labels)\u001b[0m\n\u001b[1;32m    228\u001b[0m \u001b[38;5;28;01mdef\u001b[39;00m \u001b[38;5;21mset_axis\u001b[39m(\u001b[38;5;28mself\u001b[39m, axis: \u001b[38;5;28mint\u001b[39m, new_labels: Index) \u001b[38;5;241m-\u001b[39m\u001b[38;5;241m>\u001b[39m \u001b[38;5;28;01mNone\u001b[39;00m:\n\u001b[1;32m    229\u001b[0m     \u001b[38;5;66;03m# Caller is responsible for ensuring we have an Index object.\u001b[39;00m\n\u001b[0;32m--> 230\u001b[0m     \u001b[38;5;28;43mself\u001b[39;49m\u001b[38;5;241;43m.\u001b[39;49m\u001b[43m_validate_set_axis\u001b[49m\u001b[43m(\u001b[49m\u001b[43maxis\u001b[49m\u001b[43m,\u001b[49m\u001b[43m \u001b[49m\u001b[43mnew_labels\u001b[49m\u001b[43m)\u001b[49m\n\u001b[1;32m    231\u001b[0m     \u001b[38;5;28mself\u001b[39m\u001b[38;5;241m.\u001b[39maxes[axis] \u001b[38;5;241m=\u001b[39m new_labels\n",
      "File \u001b[0;32m~/.local/lib/python3.8/site-packages/pandas/core/internals/base.py:70\u001b[0m, in \u001b[0;36mDataManager._validate_set_axis\u001b[0;34m(self, axis, new_labels)\u001b[0m\n\u001b[1;32m     67\u001b[0m     \u001b[38;5;28;01mpass\u001b[39;00m\n\u001b[1;32m     69\u001b[0m \u001b[38;5;28;01melif\u001b[39;00m new_len \u001b[38;5;241m!=\u001b[39m old_len:\n\u001b[0;32m---> 70\u001b[0m     \u001b[38;5;28;01mraise\u001b[39;00m \u001b[38;5;167;01mValueError\u001b[39;00m(\n\u001b[1;32m     71\u001b[0m         \u001b[38;5;124mf\u001b[39m\u001b[38;5;124m\"\u001b[39m\u001b[38;5;124mLength mismatch: Expected axis has \u001b[39m\u001b[38;5;132;01m{\u001b[39;00mold_len\u001b[38;5;132;01m}\u001b[39;00m\u001b[38;5;124m elements, new \u001b[39m\u001b[38;5;124m\"\u001b[39m\n\u001b[1;32m     72\u001b[0m         \u001b[38;5;124mf\u001b[39m\u001b[38;5;124m\"\u001b[39m\u001b[38;5;124mvalues have \u001b[39m\u001b[38;5;132;01m{\u001b[39;00mnew_len\u001b[38;5;132;01m}\u001b[39;00m\u001b[38;5;124m elements\u001b[39m\u001b[38;5;124m\"\u001b[39m\n\u001b[1;32m     73\u001b[0m     )\n",
      "\u001b[0;31mValueError\u001b[0m: Length mismatch: Expected axis has 36601 elements, new values have 336 elements"
     ]
    }
   ],
   "source": [
    "temp.index = np.array([x + '_' + y for x in np.unique(all_projids.astype(str)) for y in np.unique(all_celltype.astype(str))])"
   ]
  },
  {
   "cell_type": "code",
   "execution_count": 98,
   "id": "533ef4cd-d084-4f9e-81f7-2ff1d2d7bd1c",
   "metadata": {},
   "outputs": [
    {
     "data": {
      "text/plain": [
       "(array([0, 1, 2, 3, 4, 5, 6, 7]),\n",
       " array([34745,  2939,  9604, 11633,  6794,  5116,  7670, 45778]))"
      ]
     },
     "execution_count": 98,
     "metadata": {},
     "output_type": "execute_result"
    }
   ],
   "source": [
    "np.unique(celltype, return_counts=True)"
   ]
  },
  {
   "cell_type": "code",
   "execution_count": 54,
   "id": "546025a3-b03b-4b90-b785-bd396f993495",
   "metadata": {},
   "outputs": [
    {
     "data": {
      "text/html": [
       "<div>\n",
       "<style scoped>\n",
       "    .dataframe tbody tr th:only-of-type {\n",
       "        vertical-align: middle;\n",
       "    }\n",
       "\n",
       "    .dataframe tbody tr th {\n",
       "        vertical-align: top;\n",
       "    }\n",
       "\n",
       "    .dataframe thead th {\n",
       "        text-align: right;\n",
       "    }\n",
       "</style>\n",
       "<table border=\"1\" class=\"dataframe\">\n",
       "  <thead>\n",
       "    <tr style=\"text-align: right;\">\n",
       "      <th></th>\n",
       "      <th>0</th>\n",
       "      <th>1</th>\n",
       "      <th>2</th>\n",
       "      <th>3</th>\n",
       "      <th>4</th>\n",
       "      <th>5</th>\n",
       "      <th>6</th>\n",
       "      <th>7</th>\n",
       "      <th>8</th>\n",
       "      <th>9</th>\n",
       "      <th>...</th>\n",
       "      <th>36591</th>\n",
       "      <th>36592</th>\n",
       "      <th>36593</th>\n",
       "      <th>36594</th>\n",
       "      <th>36595</th>\n",
       "      <th>36596</th>\n",
       "      <th>36597</th>\n",
       "      <th>36598</th>\n",
       "      <th>36599</th>\n",
       "      <th>36600</th>\n",
       "    </tr>\n",
       "  </thead>\n",
       "  <tbody>\n",
       "    <tr>\n",
       "      <th>0</th>\n",
       "      <td>0.000000</td>\n",
       "      <td>0.0</td>\n",
       "      <td>0.0</td>\n",
       "      <td>0.001296</td>\n",
       "      <td>0.000000</td>\n",
       "      <td>0.000000</td>\n",
       "      <td>0.016413</td>\n",
       "      <td>0.0</td>\n",
       "      <td>0.000000</td>\n",
       "      <td>0.0</td>\n",
       "      <td>...</td>\n",
       "      <td>0.0</td>\n",
       "      <td>0.0</td>\n",
       "      <td>0.000000</td>\n",
       "      <td>0.0</td>\n",
       "      <td>0.0</td>\n",
       "      <td>0.0</td>\n",
       "      <td>0.000000</td>\n",
       "      <td>0.0</td>\n",
       "      <td>0.012867</td>\n",
       "      <td>0.006377</td>\n",
       "    </tr>\n",
       "    <tr>\n",
       "      <th>1</th>\n",
       "      <td>0.000000</td>\n",
       "      <td>0.0</td>\n",
       "      <td>0.0</td>\n",
       "      <td>0.003255</td>\n",
       "      <td>0.000000</td>\n",
       "      <td>0.000000</td>\n",
       "      <td>0.003577</td>\n",
       "      <td>0.0</td>\n",
       "      <td>0.000000</td>\n",
       "      <td>0.0</td>\n",
       "      <td>...</td>\n",
       "      <td>0.0</td>\n",
       "      <td>0.0</td>\n",
       "      <td>0.000000</td>\n",
       "      <td>0.0</td>\n",
       "      <td>0.0</td>\n",
       "      <td>0.0</td>\n",
       "      <td>0.000000</td>\n",
       "      <td>0.0</td>\n",
       "      <td>0.029564</td>\n",
       "      <td>0.000000</td>\n",
       "    </tr>\n",
       "    <tr>\n",
       "      <th>2</th>\n",
       "      <td>0.000000</td>\n",
       "      <td>0.0</td>\n",
       "      <td>0.0</td>\n",
       "      <td>0.000000</td>\n",
       "      <td>0.000000</td>\n",
       "      <td>0.000000</td>\n",
       "      <td>0.004801</td>\n",
       "      <td>0.0</td>\n",
       "      <td>0.000000</td>\n",
       "      <td>0.0</td>\n",
       "      <td>...</td>\n",
       "      <td>0.0</td>\n",
       "      <td>0.0</td>\n",
       "      <td>0.000000</td>\n",
       "      <td>0.0</td>\n",
       "      <td>0.0</td>\n",
       "      <td>0.0</td>\n",
       "      <td>0.000000</td>\n",
       "      <td>0.0</td>\n",
       "      <td>0.017543</td>\n",
       "      <td>0.000000</td>\n",
       "    </tr>\n",
       "    <tr>\n",
       "      <th>3</th>\n",
       "      <td>0.000000</td>\n",
       "      <td>0.0</td>\n",
       "      <td>0.0</td>\n",
       "      <td>0.004251</td>\n",
       "      <td>0.000000</td>\n",
       "      <td>0.000000</td>\n",
       "      <td>0.010405</td>\n",
       "      <td>0.0</td>\n",
       "      <td>0.000000</td>\n",
       "      <td>0.0</td>\n",
       "      <td>...</td>\n",
       "      <td>0.0</td>\n",
       "      <td>0.0</td>\n",
       "      <td>0.003737</td>\n",
       "      <td>0.0</td>\n",
       "      <td>0.0</td>\n",
       "      <td>0.0</td>\n",
       "      <td>0.000000</td>\n",
       "      <td>0.0</td>\n",
       "      <td>0.006733</td>\n",
       "      <td>0.003458</td>\n",
       "    </tr>\n",
       "    <tr>\n",
       "      <th>4</th>\n",
       "      <td>0.000000</td>\n",
       "      <td>0.0</td>\n",
       "      <td>0.0</td>\n",
       "      <td>0.004242</td>\n",
       "      <td>0.000000</td>\n",
       "      <td>0.000000</td>\n",
       "      <td>0.003912</td>\n",
       "      <td>0.0</td>\n",
       "      <td>0.000000</td>\n",
       "      <td>0.0</td>\n",
       "      <td>...</td>\n",
       "      <td>0.0</td>\n",
       "      <td>0.0</td>\n",
       "      <td>0.000000</td>\n",
       "      <td>0.0</td>\n",
       "      <td>0.0</td>\n",
       "      <td>0.0</td>\n",
       "      <td>0.000000</td>\n",
       "      <td>0.0</td>\n",
       "      <td>0.004092</td>\n",
       "      <td>0.007045</td>\n",
       "    </tr>\n",
       "    <tr>\n",
       "      <th>...</th>\n",
       "      <td>...</td>\n",
       "      <td>...</td>\n",
       "      <td>...</td>\n",
       "      <td>...</td>\n",
       "      <td>...</td>\n",
       "      <td>...</td>\n",
       "      <td>...</td>\n",
       "      <td>...</td>\n",
       "      <td>...</td>\n",
       "      <td>...</td>\n",
       "      <td>...</td>\n",
       "      <td>...</td>\n",
       "      <td>...</td>\n",
       "      <td>...</td>\n",
       "      <td>...</td>\n",
       "      <td>...</td>\n",
       "      <td>...</td>\n",
       "      <td>...</td>\n",
       "      <td>...</td>\n",
       "      <td>...</td>\n",
       "      <td>...</td>\n",
       "    </tr>\n",
       "    <tr>\n",
       "      <th>331</th>\n",
       "      <td>0.000000</td>\n",
       "      <td>0.0</td>\n",
       "      <td>0.0</td>\n",
       "      <td>0.007350</td>\n",
       "      <td>0.000434</td>\n",
       "      <td>0.000298</td>\n",
       "      <td>0.023557</td>\n",
       "      <td>0.0</td>\n",
       "      <td>0.000000</td>\n",
       "      <td>0.0</td>\n",
       "      <td>...</td>\n",
       "      <td>0.0</td>\n",
       "      <td>0.0</td>\n",
       "      <td>0.000000</td>\n",
       "      <td>0.0</td>\n",
       "      <td>0.0</td>\n",
       "      <td>0.0</td>\n",
       "      <td>0.000000</td>\n",
       "      <td>0.0</td>\n",
       "      <td>0.023891</td>\n",
       "      <td>0.000000</td>\n",
       "    </tr>\n",
       "    <tr>\n",
       "      <th>332</th>\n",
       "      <td>0.000000</td>\n",
       "      <td>0.0</td>\n",
       "      <td>0.0</td>\n",
       "      <td>0.006961</td>\n",
       "      <td>0.000524</td>\n",
       "      <td>0.000079</td>\n",
       "      <td>0.013630</td>\n",
       "      <td>0.0</td>\n",
       "      <td>0.000000</td>\n",
       "      <td>0.0</td>\n",
       "      <td>...</td>\n",
       "      <td>0.0</td>\n",
       "      <td>0.0</td>\n",
       "      <td>0.000000</td>\n",
       "      <td>0.0</td>\n",
       "      <td>0.0</td>\n",
       "      <td>0.0</td>\n",
       "      <td>0.000076</td>\n",
       "      <td>0.0</td>\n",
       "      <td>0.023946</td>\n",
       "      <td>0.001156</td>\n",
       "    </tr>\n",
       "    <tr>\n",
       "      <th>333</th>\n",
       "      <td>0.000000</td>\n",
       "      <td>0.0</td>\n",
       "      <td>0.0</td>\n",
       "      <td>0.000000</td>\n",
       "      <td>0.000000</td>\n",
       "      <td>0.000000</td>\n",
       "      <td>0.008276</td>\n",
       "      <td>0.0</td>\n",
       "      <td>0.000000</td>\n",
       "      <td>0.0</td>\n",
       "      <td>...</td>\n",
       "      <td>0.0</td>\n",
       "      <td>0.0</td>\n",
       "      <td>0.000000</td>\n",
       "      <td>0.0</td>\n",
       "      <td>0.0</td>\n",
       "      <td>0.0</td>\n",
       "      <td>0.000000</td>\n",
       "      <td>0.0</td>\n",
       "      <td>0.070335</td>\n",
       "      <td>0.000000</td>\n",
       "    </tr>\n",
       "    <tr>\n",
       "      <th>334</th>\n",
       "      <td>0.000064</td>\n",
       "      <td>0.0</td>\n",
       "      <td>0.0</td>\n",
       "      <td>0.007198</td>\n",
       "      <td>0.000538</td>\n",
       "      <td>0.000000</td>\n",
       "      <td>0.029367</td>\n",
       "      <td>0.0</td>\n",
       "      <td>0.000119</td>\n",
       "      <td>0.0</td>\n",
       "      <td>...</td>\n",
       "      <td>0.0</td>\n",
       "      <td>0.0</td>\n",
       "      <td>0.000000</td>\n",
       "      <td>0.0</td>\n",
       "      <td>0.0</td>\n",
       "      <td>0.0</td>\n",
       "      <td>0.000000</td>\n",
       "      <td>0.0</td>\n",
       "      <td>0.014896</td>\n",
       "      <td>0.000710</td>\n",
       "    </tr>\n",
       "    <tr>\n",
       "      <th>335</th>\n",
       "      <td>0.000000</td>\n",
       "      <td>0.0</td>\n",
       "      <td>0.0</td>\n",
       "      <td>0.009992</td>\n",
       "      <td>0.000000</td>\n",
       "      <td>0.000000</td>\n",
       "      <td>0.036831</td>\n",
       "      <td>0.0</td>\n",
       "      <td>0.000000</td>\n",
       "      <td>0.0</td>\n",
       "      <td>...</td>\n",
       "      <td>0.0</td>\n",
       "      <td>0.0</td>\n",
       "      <td>0.000231</td>\n",
       "      <td>0.0</td>\n",
       "      <td>0.0</td>\n",
       "      <td>0.0</td>\n",
       "      <td>0.000000</td>\n",
       "      <td>0.0</td>\n",
       "      <td>0.023262</td>\n",
       "      <td>0.000000</td>\n",
       "    </tr>\n",
       "  </tbody>\n",
       "</table>\n",
       "<p>336 rows × 36601 columns</p>\n",
       "</div>"
      ],
      "text/plain": [
       "        0      1      2         3         4         5         6      7      \\\n",
       "0    0.000000    0.0    0.0  0.001296  0.000000  0.000000  0.016413    0.0   \n",
       "1    0.000000    0.0    0.0  0.003255  0.000000  0.000000  0.003577    0.0   \n",
       "2    0.000000    0.0    0.0  0.000000  0.000000  0.000000  0.004801    0.0   \n",
       "3    0.000000    0.0    0.0  0.004251  0.000000  0.000000  0.010405    0.0   \n",
       "4    0.000000    0.0    0.0  0.004242  0.000000  0.000000  0.003912    0.0   \n",
       "..        ...    ...    ...       ...       ...       ...       ...    ...   \n",
       "331  0.000000    0.0    0.0  0.007350  0.000434  0.000298  0.023557    0.0   \n",
       "332  0.000000    0.0    0.0  0.006961  0.000524  0.000079  0.013630    0.0   \n",
       "333  0.000000    0.0    0.0  0.000000  0.000000  0.000000  0.008276    0.0   \n",
       "334  0.000064    0.0    0.0  0.007198  0.000538  0.000000  0.029367    0.0   \n",
       "335  0.000000    0.0    0.0  0.009992  0.000000  0.000000  0.036831    0.0   \n",
       "\n",
       "        8      9      ...  36591  36592     36593  36594  36595  36596  \\\n",
       "0    0.000000    0.0  ...    0.0    0.0  0.000000    0.0    0.0    0.0   \n",
       "1    0.000000    0.0  ...    0.0    0.0  0.000000    0.0    0.0    0.0   \n",
       "2    0.000000    0.0  ...    0.0    0.0  0.000000    0.0    0.0    0.0   \n",
       "3    0.000000    0.0  ...    0.0    0.0  0.003737    0.0    0.0    0.0   \n",
       "4    0.000000    0.0  ...    0.0    0.0  0.000000    0.0    0.0    0.0   \n",
       "..        ...    ...  ...    ...    ...       ...    ...    ...    ...   \n",
       "331  0.000000    0.0  ...    0.0    0.0  0.000000    0.0    0.0    0.0   \n",
       "332  0.000000    0.0  ...    0.0    0.0  0.000000    0.0    0.0    0.0   \n",
       "333  0.000000    0.0  ...    0.0    0.0  0.000000    0.0    0.0    0.0   \n",
       "334  0.000119    0.0  ...    0.0    0.0  0.000000    0.0    0.0    0.0   \n",
       "335  0.000000    0.0  ...    0.0    0.0  0.000231    0.0    0.0    0.0   \n",
       "\n",
       "        36597  36598     36599     36600  \n",
       "0    0.000000    0.0  0.012867  0.006377  \n",
       "1    0.000000    0.0  0.029564  0.000000  \n",
       "2    0.000000    0.0  0.017543  0.000000  \n",
       "3    0.000000    0.0  0.006733  0.003458  \n",
       "4    0.000000    0.0  0.004092  0.007045  \n",
       "..        ...    ...       ...       ...  \n",
       "331  0.000000    0.0  0.023891  0.000000  \n",
       "332  0.000076    0.0  0.023946  0.001156  \n",
       "333  0.000000    0.0  0.070335  0.000000  \n",
       "334  0.000000    0.0  0.014896  0.000710  \n",
       "335  0.000000    0.0  0.023262  0.000000  \n",
       "\n",
       "[336 rows x 36601 columns]"
      ]
     },
     "execution_count": 54,
     "metadata": {},
     "output_type": "execute_result"
    }
   ],
   "source": [
    "# have to better resolve neurons and vascular cells"
   ]
  }
 ],
 "metadata": {
  "kernelspec": {
   "display_name": "py_env",
   "language": "python",
   "name": "py_env"
  },
  "language_info": {
   "codemirror_mode": {
    "name": "ipython",
    "version": 3
   },
   "file_extension": ".py",
   "mimetype": "text/x-python",
   "name": "python",
   "nbconvert_exporter": "python",
   "pygments_lexer": "ipython3",
   "version": "3.8.13"
  }
 },
 "nbformat": 4,
 "nbformat_minor": 5
}

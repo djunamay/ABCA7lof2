{
 "cells": [
  {
   "cell_type": "markdown",
   "id": "2cc8c1ab-e526-4989-948d-6f3de3b398a7",
   "metadata": {},
   "source": [
    "**Basic metadata pie charts**"
   ]
  },
  {
   "cell_type": "code",
   "execution_count": 1,
   "id": "b1ded9c0-2a69-4f86-9ef8-51ce2dc0633d",
   "metadata": {},
   "outputs": [],
   "source": [
    "# load data\n",
    "all_data = readRDS('../processed_data/single_cell/stats_input_data_0825.rds')\n",
    "f = readRDS('../processed_data/single_cell/pseudobulk_degs_0825.rds')\n",
    "df = all_data$summary\n",
    "df$AD = ifelse(df$niareagansc<3, 'AD', 'non-AD')"
   ]
  },
  {
   "cell_type": "code",
   "execution_count": 114,
   "id": "f3dcfdcc-4690-4e72-9cad-6e72601f13ab",
   "metadata": {},
   "outputs": [
    {
     "data": {
      "text/html": [
       "<strong>png:</strong> 2"
      ],
      "text/latex": [
       "\\textbf{png:} 2"
      ],
      "text/markdown": [
       "**png:** 2"
      ],
      "text/plain": [
       "png \n",
       "  2 "
      ]
     },
     "metadata": {},
     "output_type": "display_data"
    }
   ],
   "source": [
    "# Install and load necessary libraries\n",
    "# install.packages(\"ggplot2\")\n",
    "# install.packages(\"patchwork\")\n",
    "# install.packages(\"dplyr\")\n",
    "# install.packages(\"ggsci\")\n",
    "library(ggplot2)\n",
    "library(patchwork)\n",
    "library(dplyr)\n",
    "library(ggsci)\n",
    "library(cowplot)\n",
    "\n",
    "# Create a function to generate a pie chart for a specific column\n",
    "create_pie_chart <- function(df, column_name) {\n",
    "  df[[column_name]] <- as.character(df[[column_name]])\n",
    "  \n",
    "  percentages <- df %>%\n",
    "    group_by(!!sym(column_name)) %>%\n",
    "    summarise(count = n()) %>%\n",
    "    mutate(percentage = count / sum(count) * 100)\n",
    "  \n",
    "  ggplot(percentages, aes(x = \"\", y = percentage, fill = !!sym(column_name))) +\n",
    "    geom_bar(width = 1, stat = \"identity\") +\n",
    "    coord_polar(\"y\", start = 0) +\n",
    "    theme_void() +\n",
    "    scale_fill_npg(guide = guide_legend(title.position = \"top\")) +  # Use the NPG color palette\n",
    "    ggtitle(column_name) +\n",
    "    geom_text(aes(label = paste0(round(percentage, 1), \"%\")), \n",
    "              position = position_stack(vjust = 0.5), \n",
    "              color = \"white\", size = 5)     # Center the legend title\n",
    "}\n",
    "\n",
    "# Create individual pie charts\n",
    "column_names = c('AD', 'ceradsc', 'braaksc', 'msex')\n",
    "\n",
    "pie_charts1 <- lapply(column_names, function(col) create_pie_chart(df, col))\n",
    "\n",
    "#pie_charts1 <- lapply(column_names, function(col) create_pie_chart(df[df$LOF==0,], col))\n",
    "#pie_charts2 <- lapply(column_names, function(col) create_pie_chart(df[df$LOF==1,], col))\n",
    "\n",
    "# Arrange the pie charts in a 2x4 grid\n",
    "pie_grid <- wrap_plots(c(pie_charts1), ncol = 4)\n",
    "\n",
    "pdf('../pdf_figures/pie_chart.pdf')\n",
    "pie_grid      \n",
    "dev.off()                      \n",
    "# # Wrap each pie chart with a grey box\n",
    "# pie_charts_with_boxes <- lapply(pie_charts, function(p) {\n",
    "#   ggdraw(p) + \n",
    "#     theme(plot.background = element_rect(color = \"grey\", fill = NA, size = 0.5))\n",
    "# })\n",
    "\n",
    "# # Arrange the pie charts in a 2x4 grid\n",
    "# pie_grid <- wrap_plots(pie_charts_with_boxes, ncol = 4) + plot_layout(guides = \"collect\")\n",
    "                      \n",
    "# pie_grid"
   ]
  }
 ],
 "metadata": {
  "kernelspec": {
   "display_name": "R",
   "language": "R",
   "name": "ir"
  },
  "language_info": {
   "codemirror_mode": "r",
   "file_extension": ".r",
   "mimetype": "text/x-r-source",
   "name": "R",
   "pygments_lexer": "r",
   "version": "4.1.2"
  }
 },
 "nbformat": 4,
 "nbformat_minor": 5
}

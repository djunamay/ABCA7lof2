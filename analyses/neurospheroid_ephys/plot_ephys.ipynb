{
 "cells": [
  {
   "cell_type": "markdown",
   "metadata": {},
   "source": [
    "<div style=\"border: 2px solid red; padding: 10px; border-radius: 5px;\">\n",
    "<strong>Notebook description:</strong>\n",
    "    \n",
    "Plotting ephys recording from organoids\n",
    "\n",
    "<strong>Input Data:</strong>\n",
    "\n",
    "`liwang_organoid_recordings_data.xlsx` \n",
    "\n",
    "\n",
    "<strong>Figures:</strong>\n",
    "\n",
    "`fig4`\n",
    "\n",
    "<strong>Last Run All:</strong>\n",
    "June 18, 2025\n"
   ]
  },
  {
   "cell_type": "code",
   "execution_count": 1,
   "metadata": {},
   "outputs": [],
   "source": [
    "import sys\n",
    "sys.path.append('/Users/djuna/Documents/ABCA7lof2/')\n",
    "\n",
    "import pandas as pd\n",
    "import seaborn as sns\n",
    "import matplotlib.pyplot as plt\n",
    "from statannotations.Annotator import Annotator\n",
    "import numpy as np\n",
    "\n",
    "from ABCA7lof2.utils import apply_custom_plot_style\n",
    "from ABCA7lof2.boxplotting import plot_boxplot_by_treatment, detect_outliers_iqr\n",
    "apply_custom_plot_style()"
   ]
  },
  {
   "cell_type": "markdown",
   "metadata": {},
   "source": [
    "outlier removal"
   ]
  },
  {
   "cell_type": "code",
   "execution_count": 2,
   "metadata": {},
   "outputs": [
    {
     "name": "stderr",
     "output_type": "stream",
     "text": [
      "/var/folders/y7/zpj5hbtd2bl78b1t9h2723hw0000gn/T/ipykernel_98182/4039120952.py:28: FutureWarning: A value is trying to be set on a copy of a DataFrame or Series through chained assignment using an inplace method.\n",
      "The behavior will change in pandas 3.0. This inplace method will never work because the intermediate object on which we are setting values always behaves as a copy.\n",
      "\n",
      "For example, when doing 'df[col].method(value, inplace=True)', try using 'df.method({col: value}, inplace=True)' or df[col] = df[col].method(value) instead, to perform the operation inplace on the original object.\n",
      "\n",
      "\n",
      "  df_melted['line'].fillna('E3', inplace=True)\n"
     ]
    }
   ],
   "source": [
    "#### Plot without outliers and zero cells removed\n",
    "\n",
    "import pandas as pd\n",
    "\n",
    "# Load data from the Excel file\n",
    "file_path = '../../activity_data/liwang_organoid_recordings_data.xlsx'\n",
    "data = pd.read_excel(file_path, header=None)\n",
    "\n",
    "# Display the first few rows of the dataframe to ensure it loaded correctly\n",
    "all_activity_no_outliers_data = data.iloc[2:]\n",
    "\n",
    "all_activity_no_outliers_data.columns = all_activity_no_outliers_data.iloc[0] \n",
    "all_activity_no_outliers_data = all_activity_no_outliers_data[1:]\n",
    "df = all_activity_no_outliers_data.iloc[:,:3] # this is \"All Y622+Choline data\"\n",
    "df.reset_index(drop=True, inplace=True)\n",
    "df = df[:33]\n",
    "df_melted = df.melt(id_vars=None, var_name='Condition', value_name='Value')\n",
    "df_melted = df_melted.dropna()\n",
    "\n",
    "df_melted = df_melted[df_melted['Value'] != 0]\n",
    "\n",
    "\n",
    "\n",
    "df_melted['Value'] = df_melted['Value'].astype(float)\n",
    "\n",
    "dictionary = {'Y622': 'Y', 'Control (ApoE3)': 'E3', 'Y622+Choline': 'Y+C'}\n",
    "df_melted['line'] = df_melted['Condition'].map(dictionary)\n",
    "df_melted['line'].fillna('E3', inplace=True)\n",
    "df_melted['line'].values\n",
    "\n",
    "\n",
    "outliers, lb, ub = detect_outliers_iqr(df_melted['Value'].values)\n",
    "df_melted_outliers_removed = df_melted[np.invert(outliers)]\n"
   ]
  },
  {
   "cell_type": "code",
   "execution_count": 3,
   "metadata": {},
   "outputs": [
    {
     "data": {
      "text/plain": [
       "Condition\n",
       "Y622               13\n",
       "Y622+Choline        9\n",
       "Control (ApoE3)     7\n",
       "Name: count, dtype: int64"
      ]
     },
     "execution_count": 3,
     "metadata": {},
     "output_type": "execute_result"
    }
   ],
   "source": [
    "df_melted_outliers_removed['Condition'].value_counts()"
   ]
  },
  {
   "cell_type": "code",
   "execution_count": 4,
   "metadata": {},
   "outputs": [
    {
     "data": {
      "text/html": [
       "<div>\n",
       "<style scoped>\n",
       "    .dataframe tbody tr th:only-of-type {\n",
       "        vertical-align: middle;\n",
       "    }\n",
       "\n",
       "    .dataframe tbody tr th {\n",
       "        vertical-align: top;\n",
       "    }\n",
       "\n",
       "    .dataframe thead th {\n",
       "        text-align: right;\n",
       "    }\n",
       "</style>\n",
       "<table border=\"1\" class=\"dataframe\">\n",
       "  <thead>\n",
       "    <tr style=\"text-align: right;\">\n",
       "      <th></th>\n",
       "      <th>Condition</th>\n",
       "      <th>Value</th>\n",
       "      <th>line</th>\n",
       "    </tr>\n",
       "  </thead>\n",
       "  <tbody>\n",
       "    <tr>\n",
       "      <th>34</th>\n",
       "      <td>Y622</td>\n",
       "      <td>9.383333</td>\n",
       "      <td>Y</td>\n",
       "    </tr>\n",
       "    <tr>\n",
       "      <th>86</th>\n",
       "      <td>Y622+Choline</td>\n",
       "      <td>6.150000</td>\n",
       "      <td>Y+C</td>\n",
       "    </tr>\n",
       "  </tbody>\n",
       "</table>\n",
       "</div>"
      ],
      "text/plain": [
       "       Condition     Value line\n",
       "34          Y622  9.383333    Y\n",
       "86  Y622+Choline  6.150000  Y+C"
      ]
     },
     "execution_count": 4,
     "metadata": {},
     "output_type": "execute_result"
    }
   ],
   "source": [
    "df_melted[(outliers)]"
   ]
  },
  {
   "cell_type": "markdown",
   "metadata": {},
   "source": [
    "Do stats"
   ]
  },
  {
   "cell_type": "code",
   "execution_count": 5,
   "metadata": {},
   "outputs": [
    {
     "name": "stdout",
     "output_type": "stream",
     "text": [
      "comparison: E3, Y, Y+C\n",
      "p-values normal distribution:  0.012393030082758539 0.11512726781662548 0.07387723087606098\n",
      "p-value levene test E3 vs Y:  0.7556145746567645\n",
      "p-value levene test Y vs Y+C:  0.888334866461264\n"
     ]
    }
   ],
   "source": [
    "from scipy.stats import shapiro, levene, ttest_ind\n",
    "\n",
    "group1 = df_melted_outliers_removed[df_melted_outliers_removed['line'] == 'E3']['Value']\n",
    "group2 = df_melted_outliers_removed[df_melted_outliers_removed['line'] == 'Y']['Value']\n",
    "group3 = df_melted_outliers_removed[df_melted_outliers_removed['line'] == 'Y+C']['Value']\n",
    "\n",
    "stat1, p_norm1 = shapiro(group1)\n",
    "stat2, p_norm2 = shapiro(group2)\n",
    "stat3, p_norm3 = shapiro(group3)\n",
    "print('comparison: E3, Y, Y+C')\n",
    "print('p-values normal distribution: ', p_norm1, p_norm2, p_norm3)\n",
    "\n",
    "stat, p_levene = levene(group1, group2)\n",
    "# Decide whether to assume equal variances\n",
    "equal_var = p_levene > 0.05 \n",
    "print('p-value levene test E3 vs Y: ', p_levene)\n",
    "\n",
    "stat, p_levene = levene(group2, group3)\n",
    "# Decide whether to assume equal variances\n",
    "equal_var = p_levene > 0.05 \n",
    "print('p-value levene test Y vs Y+C: ', p_levene)\n",
    "\n"
   ]
  },
  {
   "cell_type": "code",
   "execution_count": 6,
   "metadata": {},
   "outputs": [
    {
     "data": {
      "text/plain": [
       "['p=0.004', 'p=0.016']"
      ]
     },
     "execution_count": 6,
     "metadata": {},
     "output_type": "execute_result"
    }
   ],
   "source": [
    "from scipy.stats import mannwhitneyu\n",
    "\n",
    "# Assume group1 and group2 are your data arrays\n",
    "u_stat, p_valu_A = mannwhitneyu(group1, group2, alternative='two-sided')\n",
    "u_stat, p_valu_B = mannwhitneyu(group2, group3, alternative='two-sided')\n",
    "\n",
    "formatted_pvalues = [f\"p={p:.3f}\" if p>0.001 else f\"p={p:.3e}\" for p in [p_valu_A, p_valu_B]]\n",
    "formatted_pvalues"
   ]
  },
  {
   "cell_type": "markdown",
   "metadata": {},
   "source": [
    "plot the data"
   ]
  },
  {
   "cell_type": "code",
   "execution_count": 7,
   "metadata": {},
   "outputs": [
    {
     "name": "stderr",
     "output_type": "stream",
     "text": [
      "/Users/djuna/Documents/ABCA7lof2/ABCA7lof2/boxplotting.py:23: FutureWarning: \n",
      "\n",
      "Passing `palette` without assigning `hue` is deprecated and will be removed in v0.14.0. Assign the `x` variable to `hue` and set `legend=False` for the same effect.\n",
      "\n",
      "  ax = sns.boxplot(\n"
     ]
    },
    {
     "name": "stdout",
     "output_type": "stream",
     "text": [
      "E3 vs. Y: p=0.004\n",
      "Y vs. Y+C: p=0.016\n"
     ]
    },
    {
     "name": "stderr",
     "output_type": "stream",
     "text": [
      "1 extra bytes in post.stringData array\n",
      "'created' timestamp seems very low; regarding as unix timestamp\n",
      "Zapf NOT subset; don't know how to subset; dropped\n",
      "feat NOT subset; don't know how to subset; dropped\n",
      "meta NOT subset; don't know how to subset; dropped\n",
      "morx NOT subset; don't know how to subset; dropped\n"
     ]
    },
    {
     "data": {
      "image/png": "[encoded data removed]",
      "text/plain": [
       "<Figure size 250x200 with 1 Axes>"
      ]
     },
     "metadata": {},
     "output_type": "display_data"
    }
   ],
   "source": [
    "fig, (ax1) = plt.subplots(1, 1, figsize=(2.5, 2))\n",
    "\n",
    "plt.sca(ax1)\n",
    "\n",
    "ax1 = plot_boxplot_by_treatment(df_melted_outliers_removed, 'line', 'Value', order = ['E3', 'Y', 'Y+C'], pairs = [('E3', 'Y'), ('Y', 'Y+C')],palette={'E3': 'grey', 'Y': 'orange', 'Y+C': 'purple'}, \n",
    "                                ylim = np.max(df_melted_outliers_removed['Value']+0.1), pvalues=formatted_pvalues, jitter=0.1)\n",
    "\n",
    "ax1.set_xticks([])\n",
    "ax1.spines['top'].set_visible(False)\n",
    "ax1.spines['right'].set_visible(False)\n",
    "ax1.set_ylabel('Spontaneous Action\\nPotentials (Hz)')\n",
    "\n",
    "ax1.text(-0.15, -0.05, \"WT\\n+ H2O\", ha='center', va='top', transform=ax1.get_xaxis_transform(),\n",
    "         bbox=dict(boxstyle=\"round,pad=0.2\", fc=\"grey\", ec=\"grey\", alpha=0.5), fontsize=8)\n",
    "ax1.text(0.7, -0.05, \"p.Tyr622*\\n+ H2O\", ha='center', va='top', transform=ax1.get_xaxis_transform(),\n",
    "         bbox=dict(boxstyle=\"round,pad=0.2\", fc=\"orange\", ec=\"orange\", alpha=0.5), fontsize=8)\n",
    "ax1.text(1.9, -0.05, \"p.Tyr622*\\n+ CDP-choline\", ha='center', va='top', transform=ax1.get_xaxis_transform(),\n",
    "         bbox=dict(boxstyle=\"round,pad=0.2\", fc=\"purple\", ec=\"purple\", alpha=0.5), fontsize=8)\n",
    "\n",
    "\n",
    "#plt.subplots_adjust(left=0.07, right=0.9, top=0.8, bottom=0.08, wspace=0.4)\n",
    "\n",
    "plt.savefig('/Users/djuna/Documents/ABCA7lof2/editorial_paper/main_panels_svgs/fig4/cortical_organoids_ephys.pdf', dpi=300, bbox_inches='tight')"
   ]
  },
  {
   "cell_type": "markdown",
   "metadata": {},
   "source": [
    "Also significant without outliers removed"
   ]
  },
  {
   "cell_type": "code",
   "execution_count": 8,
   "metadata": {},
   "outputs": [
    {
     "data": {
      "text/plain": [
       "['p=0.003', 'p=0.043']"
      ]
     },
     "execution_count": 8,
     "metadata": {},
     "output_type": "execute_result"
    }
   ],
   "source": [
    "group1 = df_melted[df_melted['line'] == 'E3']['Value']\n",
    "group2 = df_melted[df_melted['line'] == 'Y']['Value']\n",
    "group3 = df_melted[df_melted['line'] == 'Y+C']['Value']\n",
    "\n",
    "# Assume group1 and group2 are your data arrays\n",
    "u_stat, p_valu_A = mannwhitneyu(group1, group2, alternative='two-sided')\n",
    "u_stat, p_valu_B = mannwhitneyu(group2, group3, alternative='two-sided')\n",
    "\n",
    "formatted_pvalues = [f\"p={p:.3f}\" if p>0.001 else f\"p={p:.3e}\" for p in [p_valu_A, p_valu_B]]\n",
    "formatted_pvalues"
   ]
  }
 ],
 "metadata": {
  "kernelspec": {
   "display_name": "Python 3",
   "language": "python",
   "name": "python3"
  },
  "language_info": {
   "codemirror_mode": {
    "name": "ipython",
    "version": 3
   },
   "file_extension": ".py",
   "mimetype": "text/x-python",
   "name": "python",
   "nbconvert_exporter": "python",
   "pygments_lexer": "ipython3",
   "version": "3.9.6"
  }
 },
 "nbformat": 4,
 "nbformat_minor": 2
}

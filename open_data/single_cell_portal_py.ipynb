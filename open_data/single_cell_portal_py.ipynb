{
 "cells": [
  {
   "cell_type": "code",
   "execution_count": 1,
   "metadata": {},
   "outputs": [],
   "source": [
    "import numpy as np\n",
    "import pandas as pd\n",
    "import numpy as np\n",
    "import pandas as pd"
   ]
  },
  {
   "cell_type": "markdown",
   "metadata": {},
   "source": [
    "## Important Note on Barcodes\n",
    "- barcode sequences are drawn randomly from the pool of valid barcodes\n",
    "- During aggregation, cellranger appends an integer to each barcode to keep them unique.\n",
    "- However, since we used a custom aggregation script, which didn't append this integer until the cells were filtered, the original raw_counts.mtx rowdata does not have unique barcodes in this sense.\n",
    "- for upload to single cell portal, we will therefore make the barcodes unique for both the raw and QC data\n",
    "\n",
    "## First, some quick checks:\n",
    "quick check that all the barcodes are unique within an individual:\n"
   ]
  },
  {
   "cell_type": "markdown",
   "metadata": {},
   "source": [
    "QCed data"
   ]
  },
  {
   "cell_type": "code",
   "execution_count": 2,
   "metadata": {},
   "outputs": [
    {
     "name": "stdout",
     "output_type": "stream",
     "text": [
      "D17-8756 True\n",
      "D17-8758 True\n",
      "D17-8766 True\n",
      "D17-8768 True\n",
      "D17-8772 True\n",
      "D17-8778 True\n",
      "D17-8786 True\n",
      "D17-8790 True\n",
      "D17-8792 True\n",
      "D17-8796 True\n",
      "D20-7432 True\n",
      "D20-7433 True\n",
      "D20-7434 True\n",
      "D20-7435 True\n",
      "D20-7436 True\n",
      "D20-7437 True\n",
      "D20-7438 True\n",
      "D20-7439 True\n",
      "D20-7440 True\n",
      "D20-7441 True\n",
      "D20-7442 True\n",
      "D20-7443 True\n",
      "D20-7444 True\n",
      "D20-7445 True\n",
      "D20-7446 True\n",
      "D20-7447 True\n",
      "D20-7448 True\n",
      "D20-7450 True\n",
      "D20-7451 True\n",
      "D20-7452 True\n",
      "D20-7453 True\n",
      "D20-7454 True\n",
      "D20-7455 True\n",
      "D20-7456 True\n",
      "D20-7457 True\n",
      "D20-7458 True\n",
      "all samples have unique barcodes: True\n"
     ]
    }
   ],
   "source": [
    "import pandas as pd\n",
    "qc_row_data = pd.read_csv('./sc_portal_data/qc_rowData.csv')\n",
    "out = []\n",
    "for sample in np.unique(qc_row_data['sample_id']):\n",
    "    i = qc_row_data[qc_row_data['sample_id']==sample]['barcodes']\n",
    "    temp = [x.split('_')[0] for x in i]\n",
    "    print(sample, len(np.unique(temp))==len(temp))\n",
    "    out.append(len(np.unique(temp))==len(temp))\n",
    "\n",
    "print('all samples have unique barcodes:', all(out))"
   ]
  },
  {
   "cell_type": "markdown",
   "metadata": {},
   "source": [
    "raw data"
   ]
  },
  {
   "cell_type": "code",
   "execution_count": 3,
   "metadata": {},
   "outputs": [
    {
     "name": "stdout",
     "output_type": "stream",
     "text": [
      "D17-8754 True\n",
      "D17-8756 True\n",
      "D17-8758 True\n",
      "D17-8760 True\n",
      "D17-8764 True\n",
      "D17-8766 True\n",
      "D17-8768 True\n",
      "D17-8772 True\n",
      "D17-8776 True\n",
      "D17-8778 True\n",
      "D17-8782 True\n",
      "D17-8786 True\n",
      "D17-8790 True\n",
      "D17-8792 True\n",
      "D17-8796 True\n",
      "D17-8800 True\n",
      "D20-7432 True\n",
      "D20-7433 True\n",
      "D20-7434 True\n",
      "D20-7435 True\n",
      "D20-7436 True\n",
      "D20-7437 True\n",
      "D20-7438 True\n",
      "D20-7439 True\n",
      "D20-7440 True\n",
      "D20-7441 True\n",
      "D20-7442 True\n",
      "D20-7443 True\n",
      "D20-7444 True\n",
      "D20-7445 True\n",
      "D20-7446 True\n",
      "D20-7447 True\n",
      "D20-7448 True\n",
      "D20-7450 True\n",
      "D20-7451 True\n",
      "D20-7452 True\n",
      "D20-7453 True\n",
      "D20-7454 True\n",
      "D20-7455 True\n",
      "D20-7456 True\n",
      "D20-7457 True\n",
      "D20-7458 True\n",
      "all samples have unique barcodes: True\n"
     ]
    }
   ],
   "source": [
    "import pandas as pd\n",
    "raw_row_data = pd.read_csv('./sc_portal_data/raw_rowData.csv')\n",
    "barcodes = np.load('./sc_portal_data/barcodes.npy')\n",
    "out = []\n",
    "for sample in np.unique(raw_row_data['libraryID']):\n",
    "    i = barcodes[raw_row_data['libraryID']==sample]\n",
    "    print(sample, len(np.unique(i))==len(i))\n",
    "    out.append(len(np.unique(i))==len(i))\n",
    "\n",
    "print('all samples have unique barcodes:', all(out))"
   ]
  },
  {
   "cell_type": "markdown",
   "metadata": {},
   "source": [
    "All the raw data as the same suffix, as we did not aggregate with cellranger"
   ]
  },
  {
   "cell_type": "code",
   "execution_count": 4,
   "metadata": {},
   "outputs": [
    {
     "name": "stdout",
     "output_type": "stream",
     "text": [
      "D17-8756 ['1']\n",
      "D17-8758 ['1']\n",
      "D17-8766 ['1']\n",
      "D17-8768 ['1']\n",
      "D17-8772 ['1']\n",
      "D17-8778 ['1']\n",
      "D17-8786 ['1']\n",
      "D17-8790 ['1']\n",
      "D17-8792 ['1']\n",
      "D17-8796 ['1']\n",
      "D20-7432 ['1']\n",
      "D20-7433 ['1']\n",
      "D20-7434 ['1']\n",
      "D20-7435 ['1']\n",
      "D20-7436 ['1']\n",
      "D20-7437 ['1']\n",
      "D20-7438 ['1']\n",
      "D20-7439 ['1']\n",
      "D20-7440 ['1']\n",
      "D20-7441 ['1']\n",
      "D20-7442 ['1']\n",
      "D20-7443 ['1']\n",
      "D20-7444 ['1']\n",
      "D20-7445 ['1']\n",
      "D20-7446 ['1']\n",
      "D20-7447 ['1']\n",
      "D20-7448 ['1']\n",
      "D20-7450 ['1']\n",
      "D20-7451 ['1']\n",
      "D20-7452 ['1']\n",
      "D20-7453 ['1']\n",
      "D20-7454 ['1']\n",
      "D20-7455 ['1']\n",
      "D20-7456 ['1']\n",
      "D20-7457 ['1']\n",
      "D20-7458 ['1']\n"
     ]
    }
   ],
   "source": [
    "\n",
    "x = qc_row_data['barcodes']\n",
    "temp = np.array([i.split('_')[0].split('-')[1] for i in x])\n",
    "for sample in np.unique(qc_row_data['sample_id']):\n",
    "    d = np.unique(temp[qc_row_data['sample_id']==sample])\n",
    "    print(sample, d)"
   ]
  },
  {
   "cell_type": "markdown",
   "metadata": {},
   "source": [
    "Make raw data barcodes unique by combining barcode & seq library"
   ]
  },
  {
   "cell_type": "code",
   "execution_count": 194,
   "metadata": {},
   "outputs": [
    {
     "name": "stdout",
     "output_type": "stream",
     "text": [
      "check correspondence\n",
      "[ True]\n",
      "True\n"
     ]
    }
   ],
   "source": [
    "# transferred raw_counts.mtx from  djuna@txe1-login.mit.edu:/home/gridsan/djuna/homer/github/ABCA7lof2/open_data/synapse/expression_matrices/raw_counts.mtx (uploaded to single cell portal)  \n",
    "barcodes = np.load('./sc_portal_data/barcodes.npy') # copied from  djuna@txe1-login.mit.edu:/home/gridsan/djuna/homer/github/ABCA7lof2/raw_data/cellranger_counts_out/aggr_out/\n",
    "metadata = np.load('./sc_portal_data/metadata.npy', allow_pickle=True)  # copied from  djuna@txe1-login.mit.edu:/home/gridsan/djuna/homer/github/ABCA7lof2/raw_data/cellranger_counts_out/aggr_out/\n",
    "rowData = pd.read_csv(\"./sc_portal_data/raw_rowData.csv\") # from  djuna@txe1-login.mit.edu:/home/gridsan/djuna/homer/github/ABCA7lof2/open_data/synapse/expression_matrices/\n",
    "rowData['barcodes'] = barcodes\n",
    "unique_barcodes_raw = rowData['libraryID'] + '-' + rowData['barcodes'] # make barcodes unique\n",
    "print('check correspondence')\n",
    "print(np.unique(metadata[:,2]==rowData['libraryID']))\n",
    "\n",
    "# check uniqueness of barcodes\n",
    "print(len(np.unique(unique_barcodes_raw))==len(unique_barcodes_raw))\n",
    "# save them \n",
    "pd.DataFrame({'barcodes': unique_barcodes_raw}).to_csv('./sc_portal_data/barcodes_raw.csv', index=False)"
   ]
  },
  {
   "cell_type": "markdown",
   "metadata": {},
   "source": [
    "Make QC data barcodes unique by combining barcode & seq library"
   ]
  },
  {
   "cell_type": "code",
   "execution_count": 203,
   "metadata": {},
   "outputs": [
    {
     "name": "stdout",
     "output_type": "stream",
     "text": [
      "True\n"
     ]
    }
   ],
   "source": [
    "qc_rowData = pd.read_csv(\"./sc_portal_data/qc_rowData.csv\") # from  djuna@txe1-login.mit.edu:/home/gridsan/djuna/homer/github/ABCA7lof2/open_data/synapse/expression_matrices/\n",
    "qc_rowData_barcodes = qc_rowData['sample_id'] + '-' +[x.split('_')[0] for x in qc_rowData['barcodes']]\n",
    "print(len(np.unique(qc_rowData_barcodes))==len(qc_rowData_barcodes))\n",
    "pd.DataFrame({'barcodes': qc_rowData_barcodes}).to_csv('./sc_portal_data/barcodes_qc.csv', index=False)"
   ]
  },
  {
   "cell_type": "markdown",
   "metadata": {},
   "source": [
    "Check that all qc barcodes have a counterpart in raw data"
   ]
  },
  {
   "cell_type": "code",
   "execution_count": 196,
   "metadata": {},
   "outputs": [
    {
     "name": "stdout",
     "output_type": "stream",
     "text": [
      "all qc barcodes in raw data: True\n"
     ]
    }
   ],
   "source": [
    "i = set(unique_barcodes_raw)\n",
    "qc_in_raw = [x in i for x in qc_rowData_barcodes]\n",
    "print('all qc barcodes in raw data:', all(qc_in_raw))\n"
   ]
  },
  {
   "cell_type": "markdown",
   "metadata": {},
   "source": [
    "### make required standard scp metadata file - only for processed / filtered data / logcounts"
   ]
  },
  {
   "cell_type": "markdown",
   "metadata": {},
   "source": [
    "tudies uploaded using the SCP Metadata convention must include the following required metadata:\n",
    "\n",
    "Metadata name\tContent\tDescription\n",
    "NAME*\tstring\tunique identifier for each cell in the study. Must be the first column in a \"Classic\" format TSV metadata file.\n",
    "*unneeded for AnnData files, adata.obs_names supplies the required NAME data \n",
    "biosample_id\tstring\tunique identifier for each sample in the study\n",
    "donor_id\tstring\tunique identifier for each biosample donor in the study\n",
    "species\tontology\tontology identifier from NCBItaxon\n",
    "species__ontology_label\tontology_label\tontology label from NCBItaxon\n",
    "disease\tontology\tontology identifier from MONDO or PATO (if no disease, use ontology ID \"PATO_0000461\")\n",
    "disease__ontology_label\tontology_label\tontology label from MONDO or PATO (if no disease, use ontology label \"normal\")\n",
    "organ\tontology\tontology identifier from Uberon\n",
    "organ__ontology_label\tontology_label\tontology label from Uberon\n",
    "library_preparation_protocol\tontology\tontology identifier from Experimental Factor ontology:library preparation\n",
    "library_preparation_protocol__ontology_label\tontology_label\tontology label from Experimental Factor ontology:library preparation\n",
    "sex\tcontrolled list (enum)\tone of [\"male\", \"female\", \"mixed\", \"unknown\"]\n",
    "Required ontology metadata must include corresponding ontology labels with column header <ontology>__ontology_label to enable validation."
   ]
  },
  {
   "cell_type": "code",
   "execution_count": 220,
   "metadata": {},
   "outputs": [],
   "source": [
    "barcodes_raw = pd.read_csv('./sc_portal_data/barcodes_raw.csv')\n",
    "barcodes_raw.columns = ['NAME']\n",
    "barcodes_raw['biosample_id'] = ['-'.join(x.split('-')[:2]) for x in barcodes_raw['NAME']]\n",
    "barcodes_raw['donor_id'] = ['-'.join(x.split('-')[:2]) for x in barcodes_raw['NAME']]\n",
    "barcodes_raw['species__ontology_label'] = 'Homo sapiens'\n",
    "barcodes_raw['species'] = 'NCBITaxon:9606'\n",
    "barcodes_raw['organ__ontology_label'] = 'Brodmann (1909) area 10'\n",
    "barcodes_raw['organ'] = 'UBERON:0013541'\n",
    "\n",
    "summary = pd.read_csv('/Users/djuna/Documents/ABCA7lof2/processed_data/single_cell_individual_metadata.csv')\n",
    "summary.index = summary['sample_id']\n",
    "library_dictionary = {'JBM':'EFO:0009922', '171013Tsa':'EFO:0009899'}\n",
    "library_dictionary2 = {'JBM':\"10x 3' v3\", '171013Tsa':\"10x 3' v2\"}\n",
    "summary['library_preparation_protocol'] = summary['seq_batch'].map(library_dictionary)\n",
    "summary['library_preparation_protocol__ontology_label'] = summary['seq_batch'].map(library_dictionary2)\n",
    "summary['sex'] = summary['msex'].map({1:'male', 0:'female'})\n",
    "summary['disease'] = summary['niareagansc'].map({0: 'MONDO:0004975', 1: 'MONDO:0004975', 2: 'PATO:0000461', 3: 'PATO:0000461'})\n",
    "summary['disease__ontology_label'] = summary['niareagansc'].map({0: 'Alzheimer disease', 1: 'Alzheimer disease', 2: 'normal', 3: 'normal'})\n",
    "summary['important_note_disease__ontology_label'] = 'disease__ontology_label based on niareagansc; if niareagansc is 0, 1, disease__ontology_label is Alzheimer disease; if niareagansc is 3, 4 disease__ontology_label is normal.'\n",
    "summary_barcodes_raw = summary.loc[barcodes_raw['donor_id']]\n",
    "\n",
    "barcodes_raw.index = barcodes_raw['donor_id']\n",
    "scp_metadata = pd.concat([barcodes_raw, summary_barcodes_raw], axis=1)\n",
    "scp_metadata = scp_metadata[['NAME', 'biosample_id', 'donor_id', 'species', 'species__ontology_label', 'disease', 'disease__ontology_label', 'organ', 'organ__ontology_label', 'library_preparation_protocol', 'library_preparation_protocol__ontology_label', 'sex']]\n"
   ]
  },
  {
   "cell_type": "code",
   "execution_count": 221,
   "metadata": {},
   "outputs": [
    {
     "data": {
      "text/html": [
       "<div>\n",
       "<style scoped>\n",
       "    .dataframe tbody tr th:only-of-type {\n",
       "        vertical-align: middle;\n",
       "    }\n",
       "\n",
       "    .dataframe tbody tr th {\n",
       "        vertical-align: top;\n",
       "    }\n",
       "\n",
       "    .dataframe thead th {\n",
       "        text-align: right;\n",
       "    }\n",
       "</style>\n",
       "<table border=\"1\" class=\"dataframe\">\n",
       "  <thead>\n",
       "    <tr style=\"text-align: right;\">\n",
       "      <th></th>\n",
       "      <th>NAME</th>\n",
       "      <th>biosample_id</th>\n",
       "      <th>donor_id</th>\n",
       "      <th>species</th>\n",
       "      <th>species__ontology_label</th>\n",
       "      <th>disease</th>\n",
       "      <th>disease__ontology_label</th>\n",
       "      <th>organ</th>\n",
       "      <th>organ__ontology_label</th>\n",
       "      <th>library_preparation_protocol</th>\n",
       "      <th>library_preparation_protocol__ontology_label</th>\n",
       "      <th>sex</th>\n",
       "    </tr>\n",
       "  </thead>\n",
       "  <tbody>\n",
       "    <tr>\n",
       "      <th>D20-7432</th>\n",
       "      <td>D20-7432-AAACCCAAGCATGATA-1</td>\n",
       "      <td>D20-7432</td>\n",
       "      <td>D20-7432</td>\n",
       "      <td>NCBITaxon:9606</td>\n",
       "      <td>Homo sapiens</td>\n",
       "      <td>PATO:0000461</td>\n",
       "      <td>normal</td>\n",
       "      <td>UBERON:0013541</td>\n",
       "      <td>Brodmann (1909) area 10</td>\n",
       "      <td>EFO:0009922</td>\n",
       "      <td>10x 3' v3</td>\n",
       "      <td>male</td>\n",
       "    </tr>\n",
       "    <tr>\n",
       "      <th>D20-7432</th>\n",
       "      <td>D20-7432-AAACCCAAGTAAACGT-1</td>\n",
       "      <td>D20-7432</td>\n",
       "      <td>D20-7432</td>\n",
       "      <td>NCBITaxon:9606</td>\n",
       "      <td>Homo sapiens</td>\n",
       "      <td>PATO:0000461</td>\n",
       "      <td>normal</td>\n",
       "      <td>UBERON:0013541</td>\n",
       "      <td>Brodmann (1909) area 10</td>\n",
       "      <td>EFO:0009922</td>\n",
       "      <td>10x 3' v3</td>\n",
       "      <td>male</td>\n",
       "    </tr>\n",
       "    <tr>\n",
       "      <th>D20-7432</th>\n",
       "      <td>D20-7432-AAACCCACAGAATTCC-1</td>\n",
       "      <td>D20-7432</td>\n",
       "      <td>D20-7432</td>\n",
       "      <td>NCBITaxon:9606</td>\n",
       "      <td>Homo sapiens</td>\n",
       "      <td>PATO:0000461</td>\n",
       "      <td>normal</td>\n",
       "      <td>UBERON:0013541</td>\n",
       "      <td>Brodmann (1909) area 10</td>\n",
       "      <td>EFO:0009922</td>\n",
       "      <td>10x 3' v3</td>\n",
       "      <td>male</td>\n",
       "    </tr>\n",
       "    <tr>\n",
       "      <th>D20-7432</th>\n",
       "      <td>D20-7432-AAACGAAAGCACGGAT-1</td>\n",
       "      <td>D20-7432</td>\n",
       "      <td>D20-7432</td>\n",
       "      <td>NCBITaxon:9606</td>\n",
       "      <td>Homo sapiens</td>\n",
       "      <td>PATO:0000461</td>\n",
       "      <td>normal</td>\n",
       "      <td>UBERON:0013541</td>\n",
       "      <td>Brodmann (1909) area 10</td>\n",
       "      <td>EFO:0009922</td>\n",
       "      <td>10x 3' v3</td>\n",
       "      <td>male</td>\n",
       "    </tr>\n",
       "    <tr>\n",
       "      <th>D20-7432</th>\n",
       "      <td>D20-7432-AAACGAACATTCACAG-1</td>\n",
       "      <td>D20-7432</td>\n",
       "      <td>D20-7432</td>\n",
       "      <td>NCBITaxon:9606</td>\n",
       "      <td>Homo sapiens</td>\n",
       "      <td>PATO:0000461</td>\n",
       "      <td>normal</td>\n",
       "      <td>UBERON:0013541</td>\n",
       "      <td>Brodmann (1909) area 10</td>\n",
       "      <td>EFO:0009922</td>\n",
       "      <td>10x 3' v3</td>\n",
       "      <td>male</td>\n",
       "    </tr>\n",
       "    <tr>\n",
       "      <th>...</th>\n",
       "      <td>...</td>\n",
       "      <td>...</td>\n",
       "      <td>...</td>\n",
       "      <td>...</td>\n",
       "      <td>...</td>\n",
       "      <td>...</td>\n",
       "      <td>...</td>\n",
       "      <td>...</td>\n",
       "      <td>...</td>\n",
       "      <td>...</td>\n",
       "      <td>...</td>\n",
       "      <td>...</td>\n",
       "    </tr>\n",
       "    <tr>\n",
       "      <th>D17-8786</th>\n",
       "      <td>D17-8786-TTTGCGCCAGCGTTCG-1</td>\n",
       "      <td>D17-8786</td>\n",
       "      <td>D17-8786</td>\n",
       "      <td>NCBITaxon:9606</td>\n",
       "      <td>Homo sapiens</td>\n",
       "      <td>PATO:0000461</td>\n",
       "      <td>normal</td>\n",
       "      <td>UBERON:0013541</td>\n",
       "      <td>Brodmann (1909) area 10</td>\n",
       "      <td>EFO:0009899</td>\n",
       "      <td>10x 3' v2</td>\n",
       "      <td>female</td>\n",
       "    </tr>\n",
       "    <tr>\n",
       "      <th>D17-8786</th>\n",
       "      <td>D17-8786-TTTGCGCGTACCATCA-1</td>\n",
       "      <td>D17-8786</td>\n",
       "      <td>D17-8786</td>\n",
       "      <td>NCBITaxon:9606</td>\n",
       "      <td>Homo sapiens</td>\n",
       "      <td>PATO:0000461</td>\n",
       "      <td>normal</td>\n",
       "      <td>UBERON:0013541</td>\n",
       "      <td>Brodmann (1909) area 10</td>\n",
       "      <td>EFO:0009899</td>\n",
       "      <td>10x 3' v2</td>\n",
       "      <td>female</td>\n",
       "    </tr>\n",
       "    <tr>\n",
       "      <th>D17-8786</th>\n",
       "      <td>D17-8786-TTTGCGCTCTTACCTA-1</td>\n",
       "      <td>D17-8786</td>\n",
       "      <td>D17-8786</td>\n",
       "      <td>NCBITaxon:9606</td>\n",
       "      <td>Homo sapiens</td>\n",
       "      <td>PATO:0000461</td>\n",
       "      <td>normal</td>\n",
       "      <td>UBERON:0013541</td>\n",
       "      <td>Brodmann (1909) area 10</td>\n",
       "      <td>EFO:0009899</td>\n",
       "      <td>10x 3' v2</td>\n",
       "      <td>female</td>\n",
       "    </tr>\n",
       "    <tr>\n",
       "      <th>D17-8786</th>\n",
       "      <td>D17-8786-TTTGGTTAGACACGAC-1</td>\n",
       "      <td>D17-8786</td>\n",
       "      <td>D17-8786</td>\n",
       "      <td>NCBITaxon:9606</td>\n",
       "      <td>Homo sapiens</td>\n",
       "      <td>PATO:0000461</td>\n",
       "      <td>normal</td>\n",
       "      <td>UBERON:0013541</td>\n",
       "      <td>Brodmann (1909) area 10</td>\n",
       "      <td>EFO:0009899</td>\n",
       "      <td>10x 3' v2</td>\n",
       "      <td>female</td>\n",
       "    </tr>\n",
       "    <tr>\n",
       "      <th>D17-8786</th>\n",
       "      <td>D17-8786-TTTGGTTCAGGATCGA-1</td>\n",
       "      <td>D17-8786</td>\n",
       "      <td>D17-8786</td>\n",
       "      <td>NCBITaxon:9606</td>\n",
       "      <td>Homo sapiens</td>\n",
       "      <td>PATO:0000461</td>\n",
       "      <td>normal</td>\n",
       "      <td>UBERON:0013541</td>\n",
       "      <td>Brodmann (1909) area 10</td>\n",
       "      <td>EFO:0009899</td>\n",
       "      <td>10x 3' v2</td>\n",
       "      <td>female</td>\n",
       "    </tr>\n",
       "  </tbody>\n",
       "</table>\n",
       "<p>150456 rows × 12 columns</p>\n",
       "</div>"
      ],
      "text/plain": [
       "                                 NAME biosample_id  donor_id         species  \\\n",
       "D20-7432  D20-7432-AAACCCAAGCATGATA-1     D20-7432  D20-7432  NCBITaxon:9606   \n",
       "D20-7432  D20-7432-AAACCCAAGTAAACGT-1     D20-7432  D20-7432  NCBITaxon:9606   \n",
       "D20-7432  D20-7432-AAACCCACAGAATTCC-1     D20-7432  D20-7432  NCBITaxon:9606   \n",
       "D20-7432  D20-7432-AAACGAAAGCACGGAT-1     D20-7432  D20-7432  NCBITaxon:9606   \n",
       "D20-7432  D20-7432-AAACGAACATTCACAG-1     D20-7432  D20-7432  NCBITaxon:9606   \n",
       "...                               ...          ...       ...             ...   \n",
       "D17-8786  D17-8786-TTTGCGCCAGCGTTCG-1     D17-8786  D17-8786  NCBITaxon:9606   \n",
       "D17-8786  D17-8786-TTTGCGCGTACCATCA-1     D17-8786  D17-8786  NCBITaxon:9606   \n",
       "D17-8786  D17-8786-TTTGCGCTCTTACCTA-1     D17-8786  D17-8786  NCBITaxon:9606   \n",
       "D17-8786  D17-8786-TTTGGTTAGACACGAC-1     D17-8786  D17-8786  NCBITaxon:9606   \n",
       "D17-8786  D17-8786-TTTGGTTCAGGATCGA-1     D17-8786  D17-8786  NCBITaxon:9606   \n",
       "\n",
       "         species__ontology_label       disease disease__ontology_label  \\\n",
       "D20-7432            Homo sapiens  PATO:0000461                  normal   \n",
       "D20-7432            Homo sapiens  PATO:0000461                  normal   \n",
       "D20-7432            Homo sapiens  PATO:0000461                  normal   \n",
       "D20-7432            Homo sapiens  PATO:0000461                  normal   \n",
       "D20-7432            Homo sapiens  PATO:0000461                  normal   \n",
       "...                          ...           ...                     ...   \n",
       "D17-8786            Homo sapiens  PATO:0000461                  normal   \n",
       "D17-8786            Homo sapiens  PATO:0000461                  normal   \n",
       "D17-8786            Homo sapiens  PATO:0000461                  normal   \n",
       "D17-8786            Homo sapiens  PATO:0000461                  normal   \n",
       "D17-8786            Homo sapiens  PATO:0000461                  normal   \n",
       "\n",
       "                   organ    organ__ontology_label  \\\n",
       "D20-7432  UBERON:0013541  Brodmann (1909) area 10   \n",
       "D20-7432  UBERON:0013541  Brodmann (1909) area 10   \n",
       "D20-7432  UBERON:0013541  Brodmann (1909) area 10   \n",
       "D20-7432  UBERON:0013541  Brodmann (1909) area 10   \n",
       "D20-7432  UBERON:0013541  Brodmann (1909) area 10   \n",
       "...                  ...                      ...   \n",
       "D17-8786  UBERON:0013541  Brodmann (1909) area 10   \n",
       "D17-8786  UBERON:0013541  Brodmann (1909) area 10   \n",
       "D17-8786  UBERON:0013541  Brodmann (1909) area 10   \n",
       "D17-8786  UBERON:0013541  Brodmann (1909) area 10   \n",
       "D17-8786  UBERON:0013541  Brodmann (1909) area 10   \n",
       "\n",
       "         library_preparation_protocol  \\\n",
       "D20-7432                  EFO:0009922   \n",
       "D20-7432                  EFO:0009922   \n",
       "D20-7432                  EFO:0009922   \n",
       "D20-7432                  EFO:0009922   \n",
       "D20-7432                  EFO:0009922   \n",
       "...                               ...   \n",
       "D17-8786                  EFO:0009899   \n",
       "D17-8786                  EFO:0009899   \n",
       "D17-8786                  EFO:0009899   \n",
       "D17-8786                  EFO:0009899   \n",
       "D17-8786                  EFO:0009899   \n",
       "\n",
       "         library_preparation_protocol__ontology_label     sex  \n",
       "D20-7432                                    10x 3' v3    male  \n",
       "D20-7432                                    10x 3' v3    male  \n",
       "D20-7432                                    10x 3' v3    male  \n",
       "D20-7432                                    10x 3' v3    male  \n",
       "D20-7432                                    10x 3' v3    male  \n",
       "...                                               ...     ...  \n",
       "D17-8786                                    10x 3' v2  female  \n",
       "D17-8786                                    10x 3' v2  female  \n",
       "D17-8786                                    10x 3' v2  female  \n",
       "D17-8786                                    10x 3' v2  female  \n",
       "D17-8786                                    10x 3' v2  female  \n",
       "\n",
       "[150456 rows x 12 columns]"
      ]
     },
     "execution_count": 221,
     "metadata": {},
     "output_type": "execute_result"
    }
   ],
   "source": [
    "scp_metadata"
   ]
  },
  {
   "cell_type": "code",
   "execution_count": 222,
   "metadata": {},
   "outputs": [],
   "source": [
    "# filter out non-annotated cells\n",
    "scp_metadata.index = scp_metadata['NAME']\n",
    "qc_barcodes = pd.read_csv(\"./sc_portal_data/barcodes_qc.csv\")\n",
    "temp = scp_metadata.loc[qc_barcodes['barcodes']]\n",
    "\n",
    "values = np.concatenate((np.repeat('TYPE', 1), np.repeat('group', 11)))\n",
    "first_row = pd.DataFrame([values])\n",
    "first_row.columns = scp_metadata.columns\n",
    "scp_metadata = pd.concat([first_row, temp], ignore_index=True, axis=0)\n",
    "\n",
    "\n",
    "scp_metadata.to_csv('./sc_portal_data/filtered_scp_metadata.csv',  index=False)"
   ]
  },
  {
   "cell_type": "markdown",
   "metadata": {},
   "source": [
    "Additional cluster metadata (for filtered cells only)"
   ]
  },
  {
   "cell_type": "code",
   "execution_count": 180,
   "metadata": {},
   "outputs": [],
   "source": [
    "qc_rowData = pd.read_csv(\"./sc_portal_data/qc_rowData.csv\") # from  djuna@txe1-login.mit.edu:/home/gridsan/djuna/homer/github/ABCA7lof2/open_data/synapse/expression_matrices/\n",
    "qc_barcodes = pd.read_csv(\"./sc_portal_data/barcodes_qc.csv\")\n",
    "qc_rowData['X'] = qc_rowData['x']\n",
    "qc_rowData['Y'] = qc_rowData['y']\n",
    "\n",
    "\n",
    "\n",
    "names = ['X', 'Y', 'total_counts', 'mito_fractions', \n",
    "         'nft', 'amyloid',  \n",
    "          'seq_batch', 'sample_id',  'msex', \n",
    "         'ceradsc', 'braaksc', 'cogdx', \n",
    "         'niareagansc', 'ad_reagan',\n",
    "         'apoe_genotype', 'ABCA7LoF', \n",
    "          'age_death_redacted', \n",
    "          'pmi_redacted', 'annotations']\n",
    "\n",
    "values = np.concatenate((np.repeat('TYPE', 1), np.repeat('numeric', 6), np.repeat('group', 13))).astype(str)\n"
   ]
  },
  {
   "cell_type": "code",
   "execution_count": 181,
   "metadata": {},
   "outputs": [
    {
     "name": "stderr",
     "output_type": "stream",
     "text": [
      "/var/folders/y7/zpj5hbtd2bl78b1t9h2723hw0000gn/T/ipykernel_60270/809213100.py:2: SettingWithCopyWarning: \n",
      "A value is trying to be set on a copy of a slice from a DataFrame.\n",
      "Try using .loc[row_indexer,col_indexer] = value instead\n",
      "\n",
      "See the caveats in the documentation: https://pandas.pydata.org/pandas-docs/stable/user_guide/indexing.html#returning-a-view-versus-a-copy\n",
      "  qc_rowData_subset['NAME'] = qc_barcodes['barcodes'].copy()\n"
     ]
    }
   ],
   "source": [
    "qc_rowData_subset = qc_rowData[names]\n",
    "qc_rowData_subset['NAME'] = qc_barcodes['barcodes'].copy()\n",
    "cols = ['NAME'] + [col for col in qc_rowData_subset.columns if col != 'NAME']\n",
    "qc_rowData_subset = qc_rowData_subset[cols]\n",
    "\n",
    "first_row = pd.DataFrame([values])\n",
    "first_row.columns = qc_rowData_subset.columns\n",
    "qc_rowData_subset = pd.concat([first_row, qc_rowData_subset], ignore_index=True, axis=0)"
   ]
  },
  {
   "cell_type": "code",
   "execution_count": 182,
   "metadata": {},
   "outputs": [],
   "source": [
    "qc_rowData_subset.to_csv(\"./sc_portal_data/filtered_cells_metadata.csv\", index=False)"
   ]
  },
  {
   "cell_type": "markdown",
   "metadata": {},
   "source": [
    "DEGs"
   ]
  },
  {
   "cell_type": "code",
   "execution_count": 175,
   "metadata": {},
   "outputs": [],
   "source": [
    "degs = pd.read_csv('../extended_tables/supplementary_table_6.csv')"
   ]
  }
 ],
 "metadata": {
  "kernelspec": {
   "display_name": "Python 3",
   "language": "python",
   "name": "python3"
  },
  "language_info": {
   "codemirror_mode": {
    "name": "ipython",
    "version": 3
   },
   "file_extension": ".py",
   "mimetype": "text/x-python",
   "name": "python",
   "nbconvert_exporter": "python",
   "pygments_lexer": "ipython3",
   "version": "3.9.6"
  }
 },
 "nbformat": 4,
 "nbformat_minor": 2
}

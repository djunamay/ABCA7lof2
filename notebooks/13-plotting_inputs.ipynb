{
 "cells": [
  {
   "cell_type": "markdown",
   "id": "64f6a833-4c78-4f81-a95b-9df6b8538f7d",
   "metadata": {},
   "source": [
    "**Process some of the external/non-single cell datasets for plotting**"
   ]
  },
  {
   "cell_type": "markdown",
   "id": "03f31fb0-3835-49bf-8b2e-19fc9939e7d6",
   "metadata": {},
   "source": [
    "#### ABCA7 protein levels by genotype"
   ]
  },
  {
   "cell_type": "code",
   "execution_count": 32,
   "id": "790eae60-b69c-4f1d-a4f7-de0c81b5ecc0",
   "metadata": {},
   "outputs": [
    {
     "data": {
      "text/html": [
       "'tissue used for TMT proteomics = dorsolateral prefrontal cortex'"
      ],
      "text/latex": [
       "'tissue used for TMT proteomics = dorsolateral prefrontal cortex'"
      ],
      "text/markdown": [
       "'tissue used for TMT proteomics = dorsolateral prefrontal cortex'"
      ],
      "text/plain": [
       "[1] \"tissue used for TMT proteomics = dorsolateral prefrontal cortex\""
      ]
     },
     "metadata": {},
     "output_type": "display_data"
    }
   ],
   "source": [
    "# intitial check\n",
    "meta = read.csv('./processed_data/rosmap_proteomics//0.Traits-AGE_CENSORED.csv')\n",
    "biospecimen = read.csv('./raw_data/metadata/ROSMAP_biospecimen_metadata.csv')\n",
    "biospecimen_subset = biospecimen[biospecimen$assay=='TMT quantitation',]\n",
    "rownames(biospecimen_subset) = biospecimen_subset$specimenID\n",
    "biospecimen_subset = biospecimen_subset[meta$SpecimenID,]\n",
    "biospecimen_subset = biospecimen_subset[biospecimen_subset$individualID!='GISpool',]\n",
    "paste0('tissue used for TMT proteomics = ', unique(biospecimen_subset$tissue))"
   ]
  },
  {
   "cell_type": "code",
   "execution_count": 33,
   "id": "3200e914-5cdb-406a-972e-1f1ca90caa0a",
   "metadata": {},
   "outputs": [],
   "source": [
    "# load data\n",
    "data = read.csv('./processed_data/rosmap_proteomics//3.cleanDat.csv', row.names = 'X')\n",
    "meta = read.csv('./processed_data/rosmap_proteomics//0.Traits-AGE_CENSORED.csv')\n",
    "all_samples_lof_genotypes = read.csv('./processed_data/rosmap_proteomics/all_samples_lof_genotypes.csv', check.names=F)\n",
    "all_samples_lof_summary = read.csv('./processed_data/rosmap_proteomics/all_samples_lof_summary.csv', row.names = 'X')"
   ]
  },
  {
   "cell_type": "code",
   "execution_count": 34,
   "id": "a20cbdb7-e03c-4367-8c13-bbb44f4a4695",
   "metadata": {},
   "outputs": [],
   "source": [
    "all_meta = merge(meta, all_samples_lof_summary, by = 'projid')"
   ]
  },
  {
   "cell_type": "code",
   "execution_count": 35,
   "id": "91fd5866-8dda-4cca-8da0-8eb2675ab49b",
   "metadata": {},
   "outputs": [],
   "source": [
    "temp = all_samples_lof_genotypes[all_samples_lof_genotypes$GENE=='ABCA7',]\n",
    "temp2 = temp[,colnames(temp)%in%all_meta[all_meta$ABCA7LoF==1,'projid']]\n",
    "index = rowSums(temp2=='0/1')>0\n",
    "var_info = cbind(temp[index,1:18], temp2[index,])"
   ]
  },
  {
   "cell_type": "code",
   "execution_count": 36,
   "id": "39c39ae0-0546-4bee-8c43-65eae1bc4fff",
   "metadata": {},
   "outputs": [],
   "source": [
    "all_data = readRDS('./processed_data/single_cell/stats_input_data.rds')\n",
    "summary = all_data$summary\n",
    "\n",
    "# plot genes of interest\n",
    "rownames(all_meta) = all_meta$SampleID\n",
    "all_meta = all_meta[rownames(all_meta)%in%colnames(data),]\n",
    "all_meta$grp = all_meta$projid%in%rownames(summary)\n",
    "df = as.data.frame(t(data[startsWith(rownames(data), c('ABCA7')),all_meta$SampleID]))\n",
    "df$RBFOX3 = (t(data[startsWith(rownames(data), c('RBFOX3')),all_meta$SampleID]))\n",
    "df$LOF = all_meta[rownames(df), 'ABCA7LoF']\n",
    "df$grp = all_meta[rownames(df), 'grp']\n",
    "\n",
    "colnames(df) = c('ABCA7', 'RBFOX3','LOF', 'grp')\n",
    "df$projid = all_meta[rownames(df), 'projid']\n",
    "df = na.omit(df)"
   ]
  },
  {
   "cell_type": "code",
   "execution_count": 37,
   "id": "51106c42-873d-493f-95fd-7e977ef71ace",
   "metadata": {},
   "outputs": [],
   "source": [
    "library(reshape2)\n",
    "temp = melt(var_info[, c('HGVS_C', 84653463,20201891,20201927,50403446,71648351,50105301)], id='HGVS_C')\n",
    "temp = temp[temp$value=='0/1',]\n",
    "rownames(temp) = temp$variable\n",
    "df$var = temp[as.character(df$projid),'HGVS_C']"
   ]
  },
  {
   "cell_type": "code",
   "execution_count": 38,
   "id": "89da2045-9ef1-45b0-a6dc-8b693ee96d73",
   "metadata": {},
   "outputs": [],
   "source": [
    "write.csv(df, './processed_data//for_plotting/ABCA7_proteomics.csv')"
   ]
  },
  {
   "cell_type": "code",
   "execution_count": 46,
   "id": "9a4b4b85-9143-4d7c-8f82-06ba820d4eb8",
   "metadata": {},
   "outputs": [
    {
     "data": {
      "text/plain": [
       "       \n",
       "        c.2126_2132delAGCAGGG c.3255G>A c.5570+5G>C\n",
       "  FALSE                     0         0           1\n",
       "  TRUE                      1         1           2"
      ]
     },
     "metadata": {},
     "output_type": "display_data"
    }
   ],
   "source": [
    "table(df$grp, df$var)"
   ]
  },
  {
   "cell_type": "markdown",
   "id": "1d15a9f3-6340-4115-aa4d-bc4d9cf2c655",
   "metadata": {},
   "source": [
    "#### Marker genes"
   ]
  },
  {
   "cell_type": "code",
   "execution_count": 1,
   "id": "2ca6bfb2-99e4-47d0-90e1-28a54fdbe993",
   "metadata": {
    "collapsed": true,
    "jupyter": {
     "outputs_hidden": true
    },
    "tags": []
   },
   "outputs": [
    {
     "name": "stderr",
     "output_type": "stream",
     "text": [
      "Loading required package: SummarizedExperiment\n",
      "\n",
      "Loading required package: MatrixGenerics\n",
      "\n",
      "Loading required package: matrixStats\n",
      "\n",
      "\n",
      "Attaching package: ‘MatrixGenerics’\n",
      "\n",
      "\n",
      "The following objects are masked from ‘package:matrixStats’:\n",
      "\n",
      "    colAlls, colAnyNAs, colAnys, colAvgsPerRowSet, colCollapse,\n",
      "    colCounts, colCummaxs, colCummins, colCumprods, colCumsums,\n",
      "    colDiffs, colIQRDiffs, colIQRs, colLogSumExps, colMadDiffs,\n",
      "    colMads, colMaxs, colMeans2, colMedians, colMins, colOrderStats,\n",
      "    colProds, colQuantiles, colRanges, colRanks, colSdDiffs, colSds,\n",
      "    colSums2, colTabulates, colVarDiffs, colVars, colWeightedMads,\n",
      "    colWeightedMeans, colWeightedMedians, colWeightedSds,\n",
      "    colWeightedVars, rowAlls, rowAnyNAs, rowAnys, rowAvgsPerColSet,\n",
      "    rowCollapse, rowCounts, rowCummaxs, rowCummins, rowCumprods,\n",
      "    rowCumsums, rowDiffs, rowIQRDiffs, rowIQRs, rowLogSumExps,\n",
      "    rowMadDiffs, rowMads, rowMaxs, rowMeans2, rowMedians, rowMins,\n",
      "    rowOrderStats, rowProds, rowQuantiles, rowRanges, rowRanks,\n",
      "    rowSdDiffs, rowSds, rowSums2, rowTabulates, rowVarDiffs, rowVars,\n",
      "    rowWeightedMads, rowWeightedMeans, rowWeightedMedians,\n",
      "    rowWeightedSds, rowWeightedVars\n",
      "\n",
      "\n",
      "Loading required package: GenomicRanges\n",
      "\n",
      "Loading required package: stats4\n",
      "\n",
      "Loading required package: BiocGenerics\n",
      "\n",
      "\n",
      "Attaching package: ‘BiocGenerics’\n",
      "\n",
      "\n",
      "The following objects are masked from ‘package:stats’:\n",
      "\n",
      "    IQR, mad, sd, var, xtabs\n",
      "\n",
      "\n",
      "The following objects are masked from ‘package:base’:\n",
      "\n",
      "    Filter, Find, Map, Position, Reduce, anyDuplicated, aperm, append,\n",
      "    as.data.frame, basename, cbind, colnames, dirname, do.call,\n",
      "    duplicated, eval, evalq, get, grep, grepl, intersect, is.unsorted,\n",
      "    lapply, mapply, match, mget, order, paste, pmax, pmax.int, pmin,\n",
      "    pmin.int, rank, rbind, rownames, sapply, setdiff, sort, table,\n",
      "    tapply, union, unique, unsplit, which.max, which.min\n",
      "\n",
      "\n",
      "Loading required package: S4Vectors\n",
      "\n",
      "\n",
      "Attaching package: ‘S4Vectors’\n",
      "\n",
      "\n",
      "The following objects are masked from ‘package:base’:\n",
      "\n",
      "    I, expand.grid, unname\n",
      "\n",
      "\n",
      "Loading required package: IRanges\n",
      "\n",
      "Loading required package: GenomeInfoDb\n",
      "\n",
      "Loading required package: Biobase\n",
      "\n",
      "Welcome to Bioconductor\n",
      "\n",
      "    Vignettes contain introductory material; view with\n",
      "    'browseVignettes()'. To cite Bioconductor, see\n",
      "    'citation(\"Biobase\")', and for packages 'citation(\"pkgname\")'.\n",
      "\n",
      "\n",
      "\n",
      "Attaching package: ‘Biobase’\n",
      "\n",
      "\n",
      "The following object is masked from ‘package:MatrixGenerics’:\n",
      "\n",
      "    rowMedians\n",
      "\n",
      "\n",
      "The following objects are masked from ‘package:matrixStats’:\n",
      "\n",
      "    anyMissing, rowMedians\n",
      "\n",
      "\n",
      "\n",
      "Attaching package: ‘tidyr’\n",
      "\n",
      "\n",
      "The following object is masked from ‘package:S4Vectors’:\n",
      "\n",
      "    expand\n",
      "\n",
      "\n",
      "The following object is masked from ‘package:reshape2’:\n",
      "\n",
      "    smiths\n",
      "\n",
      "\n"
     ]
    }
   ],
   "source": [
    "library(reshape2)\n",
    "library(SingleCellExperiment)\n",
    "library(tidyr)"
   ]
  },
  {
   "cell_type": "code",
   "execution_count": 2,
   "id": "a10af695-b6f1-4927-98f9-628216f4dec9",
   "metadata": {},
   "outputs": [],
   "source": [
    "ace_dir = './processed_data/single_cell/sce.rds'\n",
    "ace = readRDS(ace_dir)"
   ]
  },
  {
   "cell_type": "code",
   "execution_count": 3,
   "id": "ad8843c9-8c39-4f14-b310-cef35043a7e4",
   "metadata": {},
   "outputs": [
    {
     "name": "stdout",
     "output_type": "stream",
     "text": [
      "[1] \"getting marker genes\"\n",
      "[1] \"melting\"\n"
     ]
    }
   ],
   "source": [
    "marker_genes = c('SYT1', 'NRGN', 'GAD1', 'AQP4', 'CSF1R', 'MBP', 'PLP1', 'VCAN',  'PDGFRB', 'FLT1')\n",
    "print('getting marker genes')\n",
    "marker_logcounts = logcounts(ace)[marker_genes,] \n",
    "print('melting')\n",
    "marker_logcounts_melted = melt(as.matrix(marker_logcounts))\n",
    "\n",
    "marker_logcounts_melted$celltype = colData(ace)[marker_logcounts_melted$Var2,'annotations2']\n",
    "\n",
    "df = as.data.frame(cbind(ace@colData$projid, ace@colData$annotations2, ace@colData$ABCA7LoF))\n",
    "colnames(df) = c('projid', 'celltype', 'LOF')\n",
    "cells = unique(df$celltype)\n",
    "df$celltype = factor(df$celltype, levels = cells[order(cells)])"
   ]
  },
  {
   "cell_type": "code",
   "execution_count": 4,
   "id": "6d66bedd-80c3-4f90-a96a-cbda0af2fe6b",
   "metadata": {},
   "outputs": [],
   "source": [
    "write.csv(df, './processed_data/for_plotting/celltype_annos_qc.csv')\n",
    "write.csv(marker_logcounts_melted, './processed_data/for_plotting/marker_logcounts_melted.csv')"
   ]
  },
  {
   "cell_type": "code",
   "execution_count": 8,
   "id": "cc143f47-fdd2-471f-9b73-5057c550351e",
   "metadata": {},
   "outputs": [],
   "source": [
    "# show individual-level correlation plot\n",
    "all_data = readRDS('./processed_data/single_cell/stats_input_data_0825.rds')\n",
    "\n",
    "logcounts_ind = all_data$av_logcounts_by_ind_full_matrix\n",
    "logcounts_ind = logcounts_ind[ , colSums(is.na(logcounts_ind))==0]\n",
    "anno_names = unlist(lapply(1:length(colnames(logcounts_ind)), function(x) strsplit(colnames(logcounts_ind)[x], '[.]')[[1]][[1]]))\n",
    "ind_cor = cor(logcounts_ind)\n",
    "\n",
    "logcounts_clust = all_data$av_logcounts_by_cluster_full_matrix\n",
    "logcounts_ind = logcounts_clust[ , colSums(is.na(logcounts_clust))==0]\n",
    "anno_names = unlist(lapply(1:length(colnames(logcounts_clust)), function(x) strsplit(colnames(logcounts_clust)[x], '[.]')[[1]][[1]]))\n",
    "clust_cor = cor(logcounts_clust)\n",
    "                           \n",
    "# show cross correlations\n",
    "df = melt(ind_cor)[melt(lower.tri(ind_cor, diag = F))$value,]\n",
    "df = df %>% separate(\n",
    "  .,\n",
    "  'Var1',\n",
    "  c('celltype1', 'projid1'),\n",
    "  sep ='[.]') %>% separate(\n",
    "  .,\n",
    "  'Var2',\n",
    "  c('celltype2', 'projid2'),\n",
    "  sep ='[.]') \n",
    "df_subset = df[(df$projid1!=df$projid2) & (df$celltype1 == df$celltype2),]\n",
    "df_subset$value = as.numeric(df_subset$value)\n",
    "\n",
    "means = aggregate(df_subset$value, list(df_subset$celltype1), 'mean')\n",
    "order = means[order(means$x, decreasing = T),'Group.1']\n",
    "df_subset$celltype1 = factor(df_subset$celltype1, levels = order)\n",
    "                                               \n",
    "# show median number of cells per subject detected\n",
    "x = as.matrix(table(ace$projid, ace$annotations2))\n",
    "df = as.data.frame(apply(x, 2, function(i) median(i)))\n",
    "colnames(df) = 'median'\n",
    "df$celltype = rownames(df)\n",
    "df$celltype = factor(df$celltype, levels = df$celltype[order(df$median, decreasing = T)])\n",
    "\n",
    "# show number of individuals with >10 cells per cell type\n",
    "x = as.matrix(table(ace$projid, ace$annotations2))\n",
    "df1 = as.data.frame(colSums(x>=10))\n",
    "colnames(df1) = 'N'\n",
    "df1$celltype = rownames(df1)\n",
    "df1$celltype = factor(df1$celltype, levels = df1$celltype[order(df1$N, decreasing = T)])\n",
    "\n",
    "# show N subjects with no cells detected\n",
    "x = as.matrix(table(ace$projid, ace$annotations2))\n",
    "df2 = as.data.frame(colSums(x==0))\n",
    "colnames(df2) = 'N'\n",
    "df2$celltype = rownames(df)\n",
    "df2$celltype = factor(df2$celltype, levels = df2$celltype[order(df2$N, decreasing = T)])\n"
   ]
  },
  {
   "cell_type": "code",
   "execution_count": 11,
   "id": "a729e0fe-86e4-4708-b41c-6cd936837301",
   "metadata": {},
   "outputs": [],
   "source": [
    "data = list('ind_cor'=ind_cor, 'clust_cor' = clust_cor, 'cross_cors'=df_subset, 'median_cells'=df, 'N_cells'=df1, 'no_cells'=df2)"
   ]
  },
  {
   "cell_type": "code",
   "execution_count": 12,
   "id": "e389cbaf-02e4-415e-b434-b6c0544006de",
   "metadata": {},
   "outputs": [],
   "source": [
    "saveRDS(data, './processed_data/for_plotting/celltype_anno_counts.rds')"
   ]
  },
  {
   "cell_type": "markdown",
   "id": "742b26d1-b07c-4844-8941-9c523e346e35",
   "metadata": {},
   "source": [
    "#### Lipidomics"
   ]
  },
  {
   "cell_type": "code",
   "execution_count": null,
   "id": "eab6fe27-e7a1-4b96-8973-a7ac5919697f",
   "metadata": {},
   "outputs": [],
   "source": [
    "source('./ABCA7lof2//prep_data.r')"
   ]
  },
  {
   "cell_type": "code",
   "execution_count": null,
   "id": "d33674d2-fbe7-4619-bac5-6c4f9c2dd28c",
   "metadata": {},
   "outputs": [],
   "source": [
    "# load and pre-process the data\n",
    "data = read.csv('./raw_data/ngn2_data/1096.SUB12877_lipidXData (1).csv')\n",
    "meta = as.data.frame(read_excel('./raw_data/ngn2_data/9033.NGN2 lipidomics_05102023.xlsx'))\n",
    "\n",
    "lipid_metadata = data[,1:12]\n",
    "areas = data[,43:57]\n",
    "stats = data[,222:233]\n",
    "\n",
    "x = strsplit(colnames(areas), '[.]')\n",
    "sample_names = lapply(x, function(i) paste0(i[2],'.',i[3]))\n",
    "meta$sample_names = sample_names\n",
    "colnames(areas) = sample_names\n",
    "                      \n",
    "rownames(meta) = meta$sample_names\n",
    "rownames(lipid_metadata) = lipid_metadata$name\n",
    "rownames(stats) = lipid_metadata$name\n",
    "rownames(areas) = lipid_metadata$name\n",
    "                      \n",
    "sce_ngn2 <- SingleCellExperiment(list(counts=areas), \n",
    "                           colData=meta,\n",
    "                           rowData=list(lipid=lipid_metadata, stats=stats)) %>% get_fatty_acid_info(., 'lipid.fattyacid', 'lipid.class')\n",
    "\n",
    "sce = sce_ngn2[,colData(sce_ngn2)$treatment!='Choline']\n",
    "df = compute_stats(sce, 'Control', 'ABCA7 LoF')\n",
    "rownames(df) = df$name\n",
    "colnames(df) = c('name', 'pvals_both_batch', 'logfc_both_batch', 'score_both_batch')\n",
    "rowData(sce_ngn2) = cbind(rowData(sce_ngn2), df[rownames(rowData(sce_ngn2)),c('pvals_both_batch', 'logfc_both_batch', 'score_both_batch')])"
   ]
  },
  {
   "cell_type": "code",
   "execution_count": null,
   "id": "33a6fcf5-85dd-4de4-9583-068d631c2072",
   "metadata": {},
   "outputs": [],
   "source": [
    "# same for PM data\n",
    "data = read.csv('./processed_data//postmortem_lipdiomics/3223.SUB12418_LipidomicsData_sheet1_modified.csv', sep = '\\t', check.names = FALSE)\n",
    "lipid_metadata = data[,1:11]\n",
    "areas = data[,12:27]\n",
    "stats = data[,28:34]\n",
    "\n",
    "meta = read.csv('./raw_data/metadata/lipidomic_sample_code.csv')\n",
    "x = strsplit(meta$Label, '[.]')\n",
    "rownames(meta) = lapply(x, function(i) paste0(i[1], i[2]))\n",
    "meta = meta[colnames(areas),]\n",
    "                        \n",
    "rownames(lipid_metadata) = lipid_metadata$name\n",
    "rownames(stats) = lipid_metadata$name\n",
    "rownames(areas) = lipid_metadata$name\n",
    "\n",
    "sce_pm <- SingleCellExperiment(list(counts=areas), \n",
    "                           colData=meta,\n",
    "                           rowData=list(lipid=lipid_metadata, stats=stats)) %>% get_fatty_acid_info(., 'lipid.fattyacid', 'lipid.key')\n",
    "                      "
   ]
  },
  {
   "cell_type": "code",
   "execution_count": null,
   "id": "c5b46213-728b-4439-9fb3-3c8e3da9bc51",
   "metadata": {},
   "outputs": [],
   "source": [
    "saveRDS(list('ngn2_all'=sce_ngn2, 'pm_all'=sce_pm), './processed_data/for_plotting/lipidomics.rds')"
   ]
  },
  {
   "cell_type": "markdown",
   "id": "0fb5e149-aba6-443c-947a-fc6777df962c",
   "metadata": {},
   "source": [
    "#### NGN2 CRISPRi"
   ]
  },
  {
   "cell_type": "code",
   "execution_count": 1,
   "id": "697cb51e-a96f-411e-a11d-878ea8eab89d",
   "metadata": {},
   "outputs": [],
   "source": [
    "source('./ABCA7lof2//degs.r')\n",
    "\n",
    "library(tidyr)\n",
    "library(fgsea)\n",
    "library(ComplexHeatmap)\n"
   ]
  },
  {
   "cell_type": "code",
   "execution_count": 2,
   "id": "32313a79-b930-4153-91f6-98575f6c8337",
   "metadata": {},
   "outputs": [],
   "source": [
    "degs = readRDS('./processed_data/single_cell/pseudobulk_degs_0825.rds')$degs_all\n",
    "scores = get_deg_scores(degs)\n",
    "all_data = readRDS('./processed_data/single_cell/stats_input_data_0825.rds')"
   ]
  },
  {
   "cell_type": "code",
   "execution_count": 3,
   "id": "9a7b1e95-3bbc-423a-a7f5-d5bdcb3d3a81",
   "metadata": {},
   "outputs": [],
   "source": [
    "df0 = read.csv('../ABCA7lof//processed_data/crisprbrain//Glutamatergic Neuron-RNA-Seq-CRISPRi-2020.csv')\n"
   ]
  },
  {
   "cell_type": "code",
   "execution_count": 5,
   "id": "eb299b2c-ad54-446d-8de7-2f01575fceaf",
   "metadata": {},
   "outputs": [],
   "source": [
    "all_genes = split(df0, df0$name)\n",
    "gene_names = names(all_genes)\n",
    "gene_names = gene_names[gene_names%in%all_data$expressed25$Ex]\n"
   ]
  },
  {
   "cell_type": "code",
   "execution_count": 6,
   "id": "efb59cef-1c85-4973-a398-7c3653a58416",
   "metadata": {},
   "outputs": [],
   "source": [
    "paths = read.csv('./supplementary_tables/data_s8.csv')\n",
    "paths = paths[paths$is_gene=='True',]\n",
    "P = list()\n",
    "for(i in unique(paths$cluster)){\n",
    "    P[[as.character(i)]] = paths[paths$cluster==i,'description']\n",
    "}"
   ]
  },
  {
   "cell_type": "code",
   "execution_count": 20,
   "id": "6510352d-273a-41ab-8d2f-1b35b8b0627d",
   "metadata": {
    "collapsed": true,
    "jupyter": {
     "outputs_hidden": true
    },
    "tags": []
   },
   "outputs": [
    {
     "name": "stdout",
     "output_type": "stream",
     "text": [
      "  |======================================================================| 100%\n",
      "\n",
      "  |======================================================================| 100%\n",
      "\n",
      "  |======================================================================| 100%\n",
      "\n",
      "  |======================================================================| 100%\n",
      "\n",
      "  |======================================================================| 100%\n",
      "\n",
      "  |======================================================================| 100%\n",
      "\n",
      "  |======================================================================| 100%\n",
      "\n",
      "  |======================================================================| 100%\n",
      "\n",
      "  |======================================================================| 100%\n",
      "\n",
      "  |======================================================================| 100%\n",
      "\n",
      "  |======================================================================| 100%\n",
      "\n",
      "  |======================================================================| 100%\n",
      "\n",
      "  |======================================================================| 100%\n",
      "\n",
      "  |======================================================================| 100%\n",
      "\n",
      "  |======================================================================| 100%\n",
      "\n",
      "  |======================================================================| 100%\n",
      "\n",
      "  |======================================================================| 100%\n",
      "\n",
      "  |======================================================================| 100%\n",
      "\n",
      "  |======================================================================| 100%\n",
      "\n",
      "  |======================================================================| 100%\n",
      "\n",
      "  |======================================================================| 100%\n",
      "\n",
      "  |======================================================================| 100%\n",
      "\n",
      "  |======================================================================| 100%\n",
      "\n",
      "  |======================================================================| 100%\n",
      "\n",
      "  |======================================================================| 100%\n",
      "\n",
      "  |======================================================================| 100%\n",
      "\n",
      "  |======================================================================| 100%\n",
      "\n",
      "  |======================================================================| 100%\n",
      "\n",
      "  |======================================================================| 100%\n",
      "\n",
      "  |======================================================================| 100%\n",
      "\n",
      "  |======================================================================| 100%\n",
      "\n",
      "  |======================================================================| 100%\n",
      "\n",
      "  |======================================================================| 100%\n",
      "\n",
      "  |======================================================================| 100%\n",
      "\n",
      "  |======================================================================| 100%\n",
      "\n",
      "  |======================================================================| 100%\n",
      "\n",
      "  |======================================================================| 100%\n",
      "\n"
     ]
    },
    {
     "name": "stderr",
     "output_type": "stream",
     "text": [
      "Warning message:\n",
      "“The input is a data frame-like object, convert it to a matrix.”\n"
     ]
    },
    {
     "data": {
      "text/html": [
       "<strong>png:</strong> 2"
      ],
      "text/latex": [
       "\\textbf{png:} 2"
      ],
      "text/markdown": [
       "**png:** 2"
      ],
      "text/plain": [
       "png \n",
       "  2 "
      ]
     },
     "metadata": {},
     "output_type": "display_data"
    }
   ],
   "source": [
    "x = abs(scores$Ex$scores[gene_names])\n",
    "x = x[order(x,decreasing=TRUE)]\n",
    "gene_names = names(x[x>.5])\n",
    "\n",
    "out = list()\n",
    "for (g in gene_names){\n",
    "    x = sign(all_genes[[g]]$Log2FC) * -log10(all_genes[[g]]$P.Value)\n",
    "    names(x) = all_genes[[g]]$Gene\n",
    "    x = x[all_genes[[g]]$Log2CPM>0]\n",
    "    x = x[!duplicated(x)]\n",
    "    x = x[order(x,decreasing = TRUE)]\n",
    "    x = x[!names(x)==g]\n",
    "    out[[g]] = x\n",
    "}\n",
    "\n",
    "O = lapply(names(out), function(x) cbind(x, fgsea(pathways = P, stats = out[[x]], minSize = 5, maxSize = 1000, nproc=1, nPermSimple=10000)))\n",
    "names(O) = names(out)\n",
    "           \n",
    "df = do.call('rbind', O)\n",
    "df$score = sign(df$NES) * -log10(df$pval)\n",
    "df = df%>%pivot_wider(values_from = score, names_from = pathway, id_cols  = x)\n",
    "df = as.data.frame(df)\n",
    "rownames(df) = df$x\n",
    "df$x = NULL\n",
    "           \n",
    "x = rowSums(abs(df)>3)\n",
    "N = names(x[x>0])\n",
    "           \n",
    "options(repr.plot.width=3.5, repr.plot.height=10)\n",
    "\n",
    "pdf('./pdf_figures/Extended_Figure_11_hmap.pdf', width=3.5, height=5)\n",
    "Heatmap(((df[N,])), cluster_columns=TRUE)\n",
    "dev.off()"
   ]
  },
  {
   "cell_type": "code",
   "execution_count": 26,
   "id": "3c0b6fc0-3441-4ac2-bc08-633f31cf71fc",
   "metadata": {},
   "outputs": [],
   "source": [
    "write.csv(df, './supplementary_tables/data_s11.csv')"
   ]
  }
 ],
 "metadata": {
  "kernelspec": {
   "display_name": "R [conda env:.conda-r_env]",
   "language": "R",
   "name": "conda-env-.conda-r_env-r"
  },
  "language_info": {
   "codemirror_mode": "r",
   "file_extension": ".r",
   "mimetype": "text/x-r-source",
   "name": "R",
   "pygments_lexer": "r",
   "version": "4.2.3"
  }
 },
 "nbformat": 4,
 "nbformat_minor": 5
}

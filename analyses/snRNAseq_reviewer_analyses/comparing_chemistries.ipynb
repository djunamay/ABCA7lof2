{
 "cells": [
  {
   "cell_type": "code",
   "execution_count": null,
   "metadata": {
    "vscode": {
     "languageId": "plaintext"
    }
   },
   "outputs": [],
   "source": [
    "the difference between v2 and v3.1 10x Genomics chemistry should be extensively compared – number of1255\n",
    "cells per sample, number of genes per cell, number of UMIs. In addition, was it only v3.1 or also v3? v3.1 is1256\n",
    "different from v3 and these should be grouped separately for batch effect analysis. Finally, please compare v21257\n",
    "vs v3 data for its impact on cell composition"
   ]
  }
 ],
 "metadata": {
  "language_info": {
   "name": "python"
  }
 },
 "nbformat": 4,
 "nbformat_minor": 2
}

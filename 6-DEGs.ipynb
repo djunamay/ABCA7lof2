{
 "cells": [
  {
   "cell_type": "code",
   "execution_count": 2,
   "id": "20fc987d-082d-45d1-a3db-712c0cd751e5",
   "metadata": {},
   "outputs": [],
   "source": [
    "import scanpy as sc\n",
    "#import anndata as AN\n",
    "import pandas as pd\n",
    "import numpy as np\n",
    "import matplotlib.pyplot as plt\n",
    "from numba.typed import Dict\n",
    "import numba as nb\n",
    "\n",
    "from ABCA7lof2.singlecell import bulk_data, expressed_fraction\n"
   ]
  },
  {
   "cell_type": "code",
   "execution_count": 3,
   "id": "ac93869c-561d-4fb8-8c96-cce43b709a2c",
   "metadata": {},
   "outputs": [],
   "source": [
    "# load data\n",
    "filtered_meta_final = np.load('./processed_data/single_cell/filtered_meta.npy', allow_pickle=True)\n",
    "meta_names = np.load('./processed_data/single_cell/meta_names.npy', allow_pickle=True)\n",
    "features = np.load('./processed_data/single_cell/features.npy')\n",
    "logcounts = np.memmap('./processed_data/single_cell/filtered_logcounts.npy', mode='r+', shape=(filtered_meta_final.shape[0], features.shape[0]), dtype='float')\n",
    "filtered_counts = np.memmap('./processed_data/single_cell/filtered_counts.npy', mode='r+', shape=(filtered_meta_final.shape[0], features.shape[0]), dtype='int16')\n",
    "\n",
    "marker_indices = np.load('./processed_data/single_cell/marker_indices.npy')"
   ]
  },
  {
   "cell_type": "code",
   "execution_count": 4,
   "id": "6bdd605c-14db-4793-9455-143ea779f899",
   "metadata": {},
   "outputs": [],
   "source": [
    "annotations = np.load('./processed_data/single_cell/annotations.npy', allow_pickle=True)"
   ]
  },
  {
   "cell_type": "code",
   "execution_count": 5,
   "id": "081b163c-5aea-48a7-b78d-fa8adef6a948",
   "metadata": {},
   "outputs": [],
   "source": [
    "# get pseudo-bulked data\n",
    "index = filtered_meta_final[:,np.where(meta_names=='keep_cells_all_per_celltype')[0][0]].astype(bool)\n",
    "index2 = filtered_meta_final[:,np.where(meta_names=='keep_cells_gaussian')[0][0]].astype(bool)\n",
    "index_all = index&index2"
   ]
  },
  {
   "cell_type": "code",
   "execution_count": 6,
   "id": "3591b46b-fec2-4213-8dae-46c33b41b799",
   "metadata": {},
   "outputs": [
    {
     "data": {
      "text/plain": [
       "True"
      ]
     },
     "execution_count": 6,
     "metadata": {},
     "output_type": "execute_result"
    }
   ],
   "source": [
    "len(annotations)==np.sum(index_all)"
   ]
  },
  {
   "cell_type": "code",
   "execution_count": 7,
   "id": "ddebe9e7-5e7b-4f6f-9bc4-fc1ad21b0b55",
   "metadata": {},
   "outputs": [],
   "source": [
    "projids = filtered_meta_final[:,2]\n",
    "celltype = annotations #filtered_meta_final[:,-3]\n",
    "dictionary3 = dict(zip(np.unique(celltype), np.arange(len(np.unique(celltype)))))\n",
    "celltype = [dictionary3[x] for x in celltype]\n",
    "\n",
    "projids = projids.astype(int)\n",
    "celltype = np.array(celltype).astype(int)"
   ]
  },
  {
   "cell_type": "code",
   "execution_count": 8,
   "id": "2a7618dd-2123-40f6-8404-36127414232f",
   "metadata": {},
   "outputs": [
    {
     "name": "stderr",
     "output_type": "stream",
     "text": [
      "/home/gridsan/djuna/.local/lib/python3.8/site-packages/numba/core/ir_utils.py:2149: NumbaPendingDeprecationWarning: \u001b[1m\n",
      "Encountered the use of a type that is scheduled for deprecation: type 'reflected set' found for argument 'exclude' of function 'bulk_data'.\n",
      "\n",
      "For more information visit https://numba.readthedocs.io/en/stable/reference/deprecation.html#deprecation-of-reflection-for-list-and-set-types\n",
      "\u001b[1m\n",
      "File \"ABCA7lof2/singlecell.py\", line 5:\u001b[0m\n",
      "\u001b[1m@nb.njit(parallel=True)\n",
      "\u001b[1mdef bulk_data(logcounts, exclude, dictionary1, dictionary2, bulked, sums, projids, celltype):\n",
      "\u001b[0m\u001b[1m^\u001b[0m\u001b[0m\n",
      "\u001b[0m\n",
      "  warnings.warn(NumbaPendingDeprecationWarning(msg, loc=loc))\n",
      "/home/gridsan/djuna/.local/lib/python3.8/site-packages/numba/core/ir_utils.py:2149: NumbaPendingDeprecationWarning: \u001b[1m\n",
      "Encountered the use of a type that is scheduled for deprecation: type 'reflected set' found for argument 'exclude' of function '__numba_parfor_gufunc_0x7f56a7affee0'.\n",
      "\n",
      "For more information visit https://numba.readthedocs.io/en/stable/reference/deprecation.html#deprecation-of-reflection-for-list-and-set-types\n",
      "\u001b[1m\n",
      "File \"<string>\", line 1:\u001b[0m\n",
      "\u001b[1m<source missing, REPL/exec in use?>\u001b[0m\n",
      "\u001b[0m\n",
      "  warnings.warn(NumbaPendingDeprecationWarning(msg, loc=loc))\n",
      "/home/gridsan/djuna/.local/lib/python3.8/site-packages/numba/np/ufunc/parallel.py:371: NumbaWarning: \u001b[1mThe TBB threading layer requires TBB version 2021 update 6 or later i.e., TBB_INTERFACE_VERSION >= 12060. Found TBB_INTERFACE_VERSION = 12050. The TBB threading layer is disabled.\u001b[0m\n",
      "  warnings.warn(problem)\n"
     ]
    }
   ],
   "source": [
    "bulked = np.zeros(shape=(len(np.unique(projids))*len(np.unique(celltype)), features.shape[0]))\n",
    "sums = np.zeros(len(np.unique(projids))*len(np.unique(celltype)))\n",
    "\n",
    "\n",
    "dictionary1 = Dict(zip(np.unique(projids), np.arange(len(np.unique(projids)))))\n",
    "dictionary2 = Dict(zip(np.unique(celltype), np.arange(len(np.unique(celltype))*len(np.unique(projids)), step=len(np.unique(projids)))))\n",
    "\n",
    "exclude = set(np.where(np.invert(index_all))[0])\n",
    "\n",
    "Summed, Ncells = bulk_data(logcounts, exclude, dictionary1, dictionary2, bulked, sums, projids, celltype)"
   ]
  },
  {
   "cell_type": "code",
   "execution_count": 9,
   "id": "05ce2a0c-5a18-4c91-9377-5a356d509e9b",
   "metadata": {},
   "outputs": [],
   "source": [
    "all_projids = np.tile(np.unique(projids), len(np.unique(celltype)))\n",
    "all_celltype = np.repeat(np.unique(celltype), len(np.unique(projids)))"
   ]
  },
  {
   "cell_type": "code",
   "execution_count": 10,
   "id": "d953f5df-2cc6-4cf4-bcee-ac479d6f5ee4",
   "metadata": {},
   "outputs": [
    {
     "name": "stderr",
     "output_type": "stream",
     "text": [
      "/state/partition1/slurm_tmp/23505678.0.0/ipykernel_53372/3200076833.py:1: RuntimeWarning: invalid value encountered in divide\n",
      "  bulked_data = Summed/Ncells.reshape(-1,1)\n"
     ]
    }
   ],
   "source": [
    "\n",
    "\n",
    "\n",
    "\n",
    "\n",
    "bulked_data = Summed/Ncells.reshape(-1,1)\n",
    "\n",
    "np.save('./processed_data/single_cell/bulk_profiles.npy', bulked_data)\n",
    "np.save('./processed_data/single_cell/bulk_profiles_rowIDs_1.npy', all_projids)\n",
    "np.save('./processed_data/single_cell/bulk_profiles_rowIDs_2.npy', np.array(list(dictionary3.keys()))[all_celltype])\n"
   ]
  },
  {
   "cell_type": "code",
   "execution_count": 11,
   "id": "e2764363-e2be-4d8d-b74c-68b2b5477caf",
   "metadata": {},
   "outputs": [
    {
     "name": "stderr",
     "output_type": "stream",
     "text": [
      "/home/gridsan/djuna/.local/lib/python3.8/site-packages/numba/core/ir_utils.py:2149: NumbaPendingDeprecationWarning: \u001b[1m\n",
      "Encountered the use of a type that is scheduled for deprecation: type 'reflected set' found for argument 'exclude' of function 'bulk_data'.\n",
      "\n",
      "For more information visit https://numba.readthedocs.io/en/stable/reference/deprecation.html#deprecation-of-reflection-for-list-and-set-types\n",
      "\u001b[1m\n",
      "File \"ABCA7lof2/singlecell.py\", line 5:\u001b[0m\n",
      "\u001b[1m@nb.njit(parallel=True)\n",
      "\u001b[1mdef bulk_data(logcounts, exclude, dictionary1, dictionary2, bulked, sums, projids, celltype):\n",
      "\u001b[0m\u001b[1m^\u001b[0m\u001b[0m\n",
      "\u001b[0m\n",
      "  warnings.warn(NumbaPendingDeprecationWarning(msg, loc=loc))\n",
      "/home/gridsan/djuna/.local/lib/python3.8/site-packages/numba/core/ir_utils.py:2149: NumbaPendingDeprecationWarning: \u001b[1m\n",
      "Encountered the use of a type that is scheduled for deprecation: type 'reflected set' found for argument 'exclude' of function '__numba_parfor_gufunc_0x7f56a7473e20'.\n",
      "\n",
      "For more information visit https://numba.readthedocs.io/en/stable/reference/deprecation.html#deprecation-of-reflection-for-list-and-set-types\n",
      "\u001b[1m\n",
      "File \"<string>\", line 1:\u001b[0m\n",
      "\u001b[1m<source missing, REPL/exec in use?>\u001b[0m\n",
      "\u001b[0m\n",
      "  warnings.warn(NumbaPendingDeprecationWarning(msg, loc=loc))\n"
     ]
    }
   ],
   "source": [
    "# get pseudo-bulked data on counts\n",
    "index = filtered_meta_final[:,np.where(meta_names=='keep_cells_all_per_celltype')[0][0]].astype(bool)\n",
    "index2 = filtered_meta_final[:,np.where(meta_names=='keep_cells_gaussian')[0][0]].astype(bool)\n",
    "index_all = index&index2\n",
    "\n",
    "projids = filtered_meta_final[:,2]\n",
    "\n",
    "celltype = annotations #filtered_meta_final[:,-3]\n",
    "dictionary3 = dict(zip(np.unique(celltype), np.arange(len(np.unique(celltype)))))\n",
    "celltype = [dictionary3[x] for x in celltype]\n",
    "\n",
    "projids = projids.astype(int)\n",
    "celltype = np.array(celltype).astype(int)\n",
    "\n",
    "bulked = np.zeros(shape=(len(np.unique(projids))*len(np.unique(celltype)), features.shape[0]))\n",
    "sums = np.zeros(len(np.unique(projids))*len(np.unique(celltype)))\n",
    "\n",
    "dictionary1 = Dict(zip(np.unique(projids), np.arange(len(np.unique(projids)))))\n",
    "dictionary2 = Dict(zip(np.unique(celltype), np.arange(len(np.unique(celltype))*len(np.unique(projids)), step=len(np.unique(projids)))))\n",
    "\n",
    "exclude = set(np.where(np.invert(index_all))[0])\n",
    "\n",
    "Summed, Ncells = bulk_data(filtered_counts, exclude, dictionary1, dictionary2, bulked, sums, projids, celltype)\n",
    "\n",
    "all_projids = np.tile(np.unique(projids), len(np.unique(celltype)))\n",
    "all_celltype = np.repeat(np.unique(celltype), len(np.unique(projids)))\n",
    "\n",
    "\n",
    "np.save('./processed_data/single_cell/bulk_profiles_summed.npy', Summed)"
   ]
  },
  {
   "cell_type": "code",
   "execution_count": 12,
   "id": "b4e50baa-24cb-4b6e-ad85-a619c7537044",
   "metadata": {},
   "outputs": [
    {
     "name": "stderr",
     "output_type": "stream",
     "text": [
      "/home/gridsan/djuna/.local/lib/python3.8/site-packages/numba/core/ir_utils.py:2149: NumbaPendingDeprecationWarning: \u001b[1m\n",
      "Encountered the use of a type that is scheduled for deprecation: type 'reflected list' found for argument 'celltype' of function 'expressed_fraction'.\n",
      "\n",
      "For more information visit https://numba.readthedocs.io/en/stable/reference/deprecation.html#deprecation-of-reflection-for-list-and-set-types\n",
      "\u001b[1m\n",
      "File \"ABCA7lof2/singlecell.py\", line 16:\u001b[0m\n",
      "\u001b[1m@nb.njit(parallel=True)\n",
      "\u001b[1mdef expressed_fraction(counts, exclude, celltype, expressed, summed):\n",
      "\u001b[0m\u001b[1m^\u001b[0m\u001b[0m\n",
      "\u001b[0m\n",
      "  warnings.warn(NumbaPendingDeprecationWarning(msg, loc=loc))\n",
      "/home/gridsan/djuna/.local/lib/python3.8/site-packages/numba/core/ir_utils.py:2149: NumbaPendingDeprecationWarning: \u001b[1m\n",
      "Encountered the use of a type that is scheduled for deprecation: type 'reflected set' found for argument 'exclude' of function 'expressed_fraction'.\n",
      "\n",
      "For more information visit https://numba.readthedocs.io/en/stable/reference/deprecation.html#deprecation-of-reflection-for-list-and-set-types\n",
      "\u001b[1m\n",
      "File \"ABCA7lof2/singlecell.py\", line 16:\u001b[0m\n",
      "\u001b[1m@nb.njit(parallel=True)\n",
      "\u001b[1mdef expressed_fraction(counts, exclude, celltype, expressed, summed):\n",
      "\u001b[0m\u001b[1m^\u001b[0m\u001b[0m\n",
      "\u001b[0m\n",
      "  warnings.warn(NumbaPendingDeprecationWarning(msg, loc=loc))\n",
      "/home/gridsan/djuna/.local/lib/python3.8/site-packages/numba/core/ir_utils.py:2149: NumbaPendingDeprecationWarning: \u001b[1m\n",
      "Encountered the use of a type that is scheduled for deprecation: type 'reflected list' found for argument 'celltype' of function '__numba_parfor_gufunc_0x7f56a6ad7e20'.\n",
      "\n",
      "For more information visit https://numba.readthedocs.io/en/stable/reference/deprecation.html#deprecation-of-reflection-for-list-and-set-types\n",
      "\u001b[1m\n",
      "File \"<string>\", line 1:\u001b[0m\n",
      "\u001b[1m<source missing, REPL/exec in use?>\u001b[0m\n",
      "\u001b[0m\n",
      "  warnings.warn(NumbaPendingDeprecationWarning(msg, loc=loc))\n",
      "/home/gridsan/djuna/.local/lib/python3.8/site-packages/numba/core/ir_utils.py:2149: NumbaPendingDeprecationWarning: \u001b[1m\n",
      "Encountered the use of a type that is scheduled for deprecation: type 'reflected set' found for argument 'exclude' of function '__numba_parfor_gufunc_0x7f56a6ad7e20'.\n",
      "\n",
      "For more information visit https://numba.readthedocs.io/en/stable/reference/deprecation.html#deprecation-of-reflection-for-list-and-set-types\n",
      "\u001b[1m\n",
      "File \"<string>\", line 1:\u001b[0m\n",
      "\u001b[1m<source missing, REPL/exec in use?>\u001b[0m\n",
      "\u001b[0m\n",
      "  warnings.warn(NumbaPendingDeprecationWarning(msg, loc=loc))\n"
     ]
    }
   ],
   "source": [
    "# get expressed genes per celltype\n",
    "index = filtered_meta_final[:,np.where(meta_names=='keep_cells_all_per_celltype')[0][0]].astype(bool)\n",
    "index2 = filtered_meta_final[:,np.where(meta_names=='keep_cells_gaussian')[0][0]].astype(bool)\n",
    "index_all = index&index2\n",
    "\n",
    "celltype = annotations\n",
    "dictionary3 = dict(zip(np.unique(celltype), np.arange(len(np.unique(celltype)))))\n",
    "celltype = [dictionary3[x] for x in celltype]\n",
    "\n",
    "exclude = set(np.where(np.invert(index_all))[0])\n",
    "\n",
    "expressed = np.zeros(shape=(len(np.unique(celltype)), len(features)))\n",
    "summed = np.zeros(shape=len(np.unique(celltype)))\n",
    "Ncells, expr = expressed_fraction(filtered_counts, exclude, celltype, expressed, summed)\n",
    "\n",
    "np.save('./processed_data/single_cell/fraction_expressed.npy', expr/Ncells.reshape(-1,1))"
   ]
  },
  {
   "cell_type": "code",
   "execution_count": 15,
   "id": "d41d686f-7d77-4826-8273-1a8ddf1d559d",
   "metadata": {},
   "outputs": [],
   "source": [
    "exp = np.load('./processed_data/single_cell/fraction_expressed.npy')\n",
    "meta = pd.read_csv('./raw_data/metadata/single_cell_individual_metadata.csv', index_col='projid')"
   ]
  },
  {
   "cell_type": "code",
   "execution_count": 18,
   "id": "4edac543-aa71-4ddd-82d9-cd3e015ae9e6",
   "metadata": {},
   "outputs": [],
   "source": [
    "gene_index = exp[dictionary3['Ast']]>0.1\n",
    "cell_anno = np.load('./processed_data/single_cell/bulk_profiles_rowIDs_2.npy')"
   ]
  },
  {
   "cell_type": "code",
   "execution_count": 19,
   "id": "f3efaeea-adfc-481e-aaf2-efa3bd561e63",
   "metadata": {},
   "outputs": [],
   "source": [
    "index = cell_anno=='Ast'\n",
    "meta_sub = meta.loc[all_projids[index]]\n",
    "counts_temp = pd.DataFrame(Summed[index][:,gene_index])\n",
    "counts_temp.index = meta_sub.index\n",
    "counts_temp.columns = features[gene_index][:,0]"
   ]
  },
  {
   "cell_type": "code",
   "execution_count": 21,
   "id": "46b116a7-5369-4466-b70b-fee9af062803",
   "metadata": {},
   "outputs": [
    {
     "name": "stderr",
     "output_type": "stream",
     "text": [
      "/home/gridsan/djuna/.local/lib/python3.8/site-packages/anndata/_core/anndata.py:121: ImplicitModificationWarning: Transforming to str index.\n",
      "  warnings.warn(\"Transforming to str index.\", ImplicitModificationWarning)\n"
     ]
    }
   ],
   "source": [
    "from pydeseq2.dds import DeseqDataSet\n",
    "from pydeseq2.ds import DeseqStats\n",
    "\n",
    "meta_sub['ABCA7LoF'] = meta_sub['ABCA7LoF'].astype(object)\n",
    "meta_sub['APOE4'] = meta_sub['apoe_genotype']>33\n",
    "\n",
    "dds = DeseqDataSet(\n",
    "    counts=counts_temp,\n",
    "    clinical=meta_sub,\n",
    "    design_factors=['seq_batch', 'ABCA7LoF', 'APOE4', 'msex', 'pmi'],  # compare samples based on the \"condition\"\n",
    "    # column (\"B\" vs \"A\")\n",
    "    refit_cooks=True,\n",
    "    ref_level=['ABCA7LoF', '0'],\n",
    "    n_cpus=8\n",
    ")\n",
    "\n"
   ]
  },
  {
   "cell_type": "code",
   "execution_count": null,
   "id": "f5a05e46-28b4-4590-9a00-c7d35b1536f5",
   "metadata": {},
   "outputs": [
    {
     "name": "stdout",
     "output_type": "stream",
     "text": [
      "Fitting size factors...\n"
     ]
    },
    {
     "name": "stderr",
     "output_type": "stream",
     "text": [
      "/home/gridsan/djuna/.local/lib/python3.8/site-packages/pydeseq2/dds.py:310: RuntimeWarning: Every gene contains at least one zero, cannot compute log geometric means. Switching to iterative mode.\n",
      "  self.fit_size_factors()\n"
     ]
    },
    {
     "name": "stdout",
     "output_type": "stream",
     "text": [
      "Fitting dispersions...\n",
      "... done in 1.61 seconds.\n",
      "\n",
      "Fitting MAP dispersions...\n",
      "... done in 1.28 seconds.\n",
      "\n",
      "Fitting dispersions...\n",
      "... done in 2.33 seconds.\n",
      "\n",
      "Fitting MAP dispersions...\n",
      "... done in 1.37 seconds.\n",
      "\n",
      "Fitting dispersions...\n",
      "... done in 2.41 seconds.\n",
      "\n",
      "Fitting MAP dispersions...\n",
      "... done in 1.40 seconds.\n",
      "\n",
      "Fitting dispersions...\n",
      "... done in 2.37 seconds.\n",
      "\n",
      "Fitting MAP dispersions...\n",
      "... done in 1.33 seconds.\n",
      "\n"
     ]
    }
   ],
   "source": [
    "dds.deseq2()\n"
   ]
  },
  {
   "cell_type": "code",
   "execution_count": null,
   "id": "09caf417-ce55-4e8d-9f40-4da21a210194",
   "metadata": {},
   "outputs": [],
   "source": [
    "stat_res = DeseqStats(dds, contrast=[\"disease\", 'COVID-19', 'normal'], n_cpus=8)\n"
   ]
  }
 ],
 "metadata": {
  "kernelspec": {
   "display_name": "py_env",
   "language": "python",
   "name": "py_env"
  },
  "language_info": {
   "codemirror_mode": {
    "name": "ipython",
    "version": 3
   },
   "file_extension": ".py",
   "mimetype": "text/x-python",
   "name": "python",
   "nbconvert_exporter": "python",
   "pygments_lexer": "ipython3",
   "version": "3.8.13"
  }
 },
 "nbformat": 4,
 "nbformat_minor": 5
}

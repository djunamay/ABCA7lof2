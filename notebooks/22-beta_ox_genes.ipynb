{
 "cells": [
  {
   "cell_type": "markdown",
   "id": "b2a2793a-82e3-4269-9490-114905ce93fd",
   "metadata": {},
   "source": [
    "**Beta-ox genes in Excitatory neurons**"
   ]
  },
  {
   "cell_type": "code",
   "execution_count": 1,
   "id": "a31ae823-9611-4eab-80dc-4fd49d00a82d",
   "metadata": {},
   "outputs": [],
   "source": [
    "# load data\n",
    "all_data = readRDS('../processed_data/single_cell//stats_input_data_0825.rds')\n",
    "colors = readRDS('..//processed_data//Cell_group_colors.rds')"
   ]
  },
  {
   "cell_type": "code",
   "execution_count": 7,
   "id": "9343898b-5ead-468d-8c43-da1bf66f3211",
   "metadata": {},
   "outputs": [
    {
     "data": {
      "text/html": [
       "<strong>png:</strong> 2"
      ],
      "text/latex": [
       "\\textbf{png:} 2"
      ],
      "text/markdown": [
       "**png:** 2"
      ],
      "text/plain": [
       "png \n",
       "  2 "
      ]
     },
     "metadata": {},
     "output_type": "display_data"
    }
   ],
   "source": [
    "# plot logcounts per celltype\n",
    "library(reshape2)\n",
    "library(ggplot2)\n",
    "\n",
    "g = c('CPT1B', 'CPT1C', 'ACACA', 'ACACB', 'HADHA')\n",
    "options(repr.plot.width=5, repr.plot.height=8)\n",
    "x = melt(all_data$av_logcounts_by_celltype[rownames(all_data$av_logcounts_by_celltype)%in%g,])\n",
    "\n",
    "x$Var1 <- factor(x$Var1, levels = sort(as.character(unique(x$Var1))))\n",
    "x$Var2 = factor(x$Var2, levels = c('Ex', 'In', 'Ast', 'Mic', 'Oli', 'Opc'))\n",
    "\n",
    "pdf('../pdf_figures/beta_ox_exp_counts.pdf', width=5, height=8)\n",
    "ggplot(x, aes(x = Var1, y = value, fill = Var2)) +\n",
    "  geom_bar(stat = \"identity\",  position = \"dodge\", width=.8) +\n",
    "  coord_flip()+\n",
    "  labs(title = \"Gene Expression Levels (Ascending Order)\",\n",
    "       x = \"\",\n",
    "       y = \"average log-expression per cell type\") +\n",
    "  theme_minimal() + scale_fill_manual(values = colors[unique(as.character(x$Var2))]) \n",
    "\n",
    "dev.off()"
   ]
  },
  {
   "cell_type": "code",
   "execution_count": 9,
   "id": "f9b9ec35-8c7c-4229-bd5b-39158dd57145",
   "metadata": {},
   "outputs": [
    {
     "data": {
      "text/html": [
       "<strong>png:</strong> 2"
      ],
      "text/latex": [
       "\\textbf{png:} 2"
      ],
      "text/markdown": [
       "**png:** 2"
      ],
      "text/plain": [
       "png \n",
       "  2 "
      ]
     },
     "metadata": {},
     "output_type": "display_data"
    }
   ],
   "source": [
    "# plot detection rate per cell type\n",
    "g = c('CPT1B', 'CPT1C', 'ACACA', 'ACACB', 'HADHA')\n",
    "options(repr.plot.width=5, repr.plot.height=8)\n",
    "x = melt(all_data$det.rate.celltype[rownames(all_data$det.rate.celltype)%in%g,])\n",
    "\n",
    "x$Var1 <- factor(x$Var1, levels = sort(as.character(unique(x$Var1))))\n",
    "x$Var2 = factor(x$Var2, levels = c('Ex', 'In', 'Ast', 'Mic', 'Oli', 'Opc'))\n",
    "\n",
    "pdf('../pdf_figures/beta_ox_exp_det.pdf', width=5, height=8)\n",
    "\n",
    "ggplot(x, aes(x = Var1, y = value, fill = Var2)) +\n",
    "  geom_bar(stat = \"identity\",  position = \"dodge\", width=.8) +\n",
    "  geom_hline(yintercept = 0.1, color = \"red\", linetype = \"dashed\", size = 1) + coord_flip()+\n",
    "  labs(title = \"Gene Expression Levels (Ascending Order)\",\n",
    "       x = \"\",\n",
    "       y = \"nonzero detection rate\") +\n",
    "  theme_minimal() + scale_fill_manual(values = colors[unique(as.character(x$Var2))]) \n",
    "\n",
    "dev.off()"
   ]
  },
  {
   "cell_type": "code",
   "execution_count": 103,
   "id": "ebaed2e0-82c5-4673-8176-dedd893a024b",
   "metadata": {},
   "outputs": [
    {
     "data": {
      "text/html": [
       "<strong>png:</strong> 2"
      ],
      "text/latex": [
       "\\textbf{png:} 2"
      ],
      "text/markdown": [
       "**png:** 2"
      ],
      "text/plain": [
       "png \n",
       "  2 "
      ]
     },
     "metadata": {},
     "output_type": "display_data"
    }
   ],
   "source": [
    "# plot only for neurons\n",
    "\n",
    "all_data = readRDS('../processed_data/single_cell//stats_input_data_0825.rds')\n",
    "\n",
    "paths = read.csv('../../archived_repos/APOE_myelin_2022/re-submission_code_31012022/data/HumanCyc_2016.txt', sep = '\\t', check.names=FALSE, row.names=NULL, header=FALSE)\n",
    "\n",
    "row.names(paths) = paths$V1\n",
    "genes = unique(unname(unlist(paths[paths$V1[(grepl('oxidation', paths$V1))][1],])))\n",
    "\n",
    "genes = c(genes, row.names(all_data$det.rate.celltype)[grepl('CPT', row.names(all_data$det.rate.celltype))])\n",
    "\n",
    "x = all_data$det.rate.celltype[intersect(genes, row.names(all_data$det.rate.celltype)),]\n",
    "\n",
    "df = as.data.frame(x[,'Ex'])\n",
    "df$genes = row.names(df)\n",
    "\n",
    "df$values = df[,1]\n",
    "\n",
    "options(repr.plot.width=5, repr.plot.height=5)\n",
    "\n",
    "library(ggplot2)\n",
    "# Sort data frame by values in ascending order\n",
    "df$genes <- factor(df$genes, levels=df$genes[order(df$values)])\n",
    "data = df\n",
    "# Create the plot\n",
    "plot = ggplot(data, aes(x = genes, y = values)) +\n",
    "  geom_bar(stat = \"identity\", fill = \"skyblue\") +\n",
    "    # Flip coordinates to make it horizontal\n",
    "  geom_hline(yintercept = 0.1, color = \"red\", linetype = \"dashed\", size = 1) + coord_flip() +\n",
    "  labs(title = \"Gene Expression Levels (Ascending Order)\",\n",
    "       x = \"Gene\",\n",
    "       y = \"Expression Level\") +\n",
    "  theme_minimal()\n",
    "\n",
    "pdf('../pdf_figures/beta_ox_genes_Ex.pdf', width=5, height=5)\n",
    "plot\n",
    "dev.off()"
   ]
  }
 ],
 "metadata": {
  "kernelspec": {
   "display_name": "R",
   "language": "R",
   "name": "ir"
  },
  "language_info": {
   "codemirror_mode": "r",
   "file_extension": ".r",
   "mimetype": "text/x-r-source",
   "name": "R",
   "pygments_lexer": "r",
   "version": "4.1.2"
  }
 },
 "nbformat": 4,
 "nbformat_minor": 5
}

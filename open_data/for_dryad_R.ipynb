{
 "cells": [
  {
   "cell_type": "markdown",
   "metadata": {},
   "source": [
    "Wang et al "
   ]
  },
  {
   "cell_type": "code",
   "execution_count": 13,
   "metadata": {
    "vscode": {
     "languageId": "r"
    }
   },
   "outputs": [],
   "source": [
    "genes_list = readRDS('../processed_data/RefCellTypeMarkers.adultBrain.rds')\n",
    "max_len    <- max(sapply(genes_list, length))\n",
    "\n",
    "# pad each to max_len\n",
    "genes_padded <- lapply(genes_list, function(v) {\n",
    "  length(v) <- max_len\n",
    "  v\n",
    "})\n",
    "\n",
    "# 3) Build the data frame\n",
    "df <- as.data.frame(genes_padded, stringsAsFactors = FALSE)\n",
    "\n",
    "write.csv(df, '/Users/djuna/Documents/ABCA7lof2/open_data/data_dryad/RefCellTypeMarkers.adultBrain_Wang2018.csv', row.names = FALSE)"
   ]
  },
  {
   "cell_type": "markdown",
   "metadata": {},
   "source": [
    "Franzen 2019"
   ]
  },
  {
   "cell_type": "code",
   "execution_count": 18,
   "metadata": {
    "vscode": {
     "languageId": "r"
    }
   },
   "outputs": [
    {
     "name": "stderr",
     "output_type": "stream",
     "text": [
      "Warning message in readRDS(\"../processed_data/PanglaoDB.by.organ.by.celltype.rds\"):\n",
      "\"strings not representable in native encoding will be translated to UTF-8\"\n"
     ]
    }
   ],
   "source": [
    "genes_list = readRDS('../processed_data/PanglaoDB.by.organ.by.celltype.rds')$Brain\n",
    "max_len    <- max(sapply(genes_list, length))\n",
    "\n",
    "# pad each to max_len\n",
    "genes_padded <- lapply(genes_list, function(v) {\n",
    "  length(v) <- max_len\n",
    "  v\n",
    "})\n",
    "\n",
    "# 3) Build the data frame\n",
    "df <- as.data.frame(genes_padded, stringsAsFactors = FALSE)\n",
    "\n",
    "write.csv(df, '/Users/djuna/Documents/ABCA7lof2/open_data/data_dryad/PanglaoDB_Franzen2019.csv', row.names = FALSE)"
   ]
  }
 ],
 "metadata": {
  "kernelspec": {
   "display_name": "R (r_bioc_env)",
   "language": "R",
   "name": "r"
  },
  "language_info": {
   "codemirror_mode": "r",
   "file_extension": ".r",
   "mimetype": "text/x-r-source",
   "name": "R",
   "pygments_lexer": "r",
   "version": "4.4.2"
  }
 },
 "nbformat": 4,
 "nbformat_minor": 2
}

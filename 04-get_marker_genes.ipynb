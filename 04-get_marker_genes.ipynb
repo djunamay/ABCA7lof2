{
 "cells": [
  {
   "cell_type": "code",
   "execution_count": 41,
   "id": "88098053-c0b4-45bb-885c-acfda934c3e2",
   "metadata": {},
   "outputs": [
    {
     "data": {
      "text/plain": [
       "\n",
       "     Ast       Ex       In      Mic      Oli      Opc Vascular \n",
       "     105       95       63       71      124       77       92 "
      ]
     },
     "metadata": {},
     "output_type": "display_data"
    }
   ],
   "source": [
    "df = readRDS('../ABCA7lof/processed_data/single_cell_data/RefCellTypeMarkers.adultBrain.rds')\n",
    "#df2 = read.csv('./raw_data/genesets/PanglaoDB_markers_27_Mar_2020.tsv', sep = '\\t')\n",
    "#df[['T_Cells']] = df2[df2$cell.type=='T cells' & df2$species%in%c('Hs'),'official.gene.symbol'] \n",
    "\n",
    "df[['Vascular']] = union(df$Per, df$Endo)\n",
    "df$Per = NULL\n",
    "df$Endo = NULL\n",
    "\n",
    "out = list()\n",
    "for(i in names(df)){\n",
    "    d = as.data.frame(df[[i]])\n",
    "    colnames(d) = 'marker'\n",
    "    d$major_celltype = i\n",
    "    out[[i]] = d\n",
    "}\n",
    "\n",
    "all_data = do.call('rbind', out)\n",
    "\n",
    "# delete duplicate genes\n",
    "temp = table(all_data['marker'])\n",
    "temp = names(temp)[temp==1]\n",
    "temp = temp[2:length(temp)]\n",
    "all_data = all_data[all_data$marker%in%temp,]\n",
    "\n",
    "write.csv(all_data, './processed_data/single_cell/brain_marker_genes.csv')\n",
    "\n",
    "table(all_data$major_celltype)"
   ]
  },
  {
   "cell_type": "code",
   "execution_count": 4,
   "id": "b90c5b6e-04d7-424c-b497-416803763af8",
   "metadata": {},
   "outputs": [
    {
     "data": {
      "text/plain": [
       "\n",
       "     Ast       Ex       In Lymphoid      Mic      Oli      Opc Vascular \n",
       "     159      113       83       95       97      179      143      124 "
      ]
     },
     "metadata": {},
     "output_type": "display_data"
    }
   ],
   "source": [
    "# df = readRDS('../ABCA7lof/processed_data/single_cell_data/RefCellTypeMarkers.adultBrain.rds')\n",
    "# df2 = read.csv('./raw_data/genesets/PanglaoDB_markers_27_Mar_2020.tsv', sep = '\\t')\n",
    "\n",
    "# df[['Lymphoid']] = df2[df2$cell.type=='T cells' & df2$species%in%c('Hs', 'Mm Hs'),'official.gene.symbol'] #(df2[df2$cell.type=='T cells' & df2$sensitivity_human>0.15 & df2$species%in%c('Hs', 'Mm Hs'),'official.gene.symbol'])#, df2[df2$cell.type=='B cells' & df2$sensitivity_human>0.15 & df2$species%in%c('Hs', 'Mm Hs'),'official.gene.symbol'])\n",
    "# df[['Vascular']] = union(df$Per, df$Endo)\n",
    "\n",
    "# df$Per = NULL\n",
    "# df$Endo = NULL\n",
    "\n",
    "# out = list()\n",
    "# for(i in names(df)){\n",
    "#     d = as.data.frame(df[[i]])\n",
    "#     colnames(d) = 'marker'\n",
    "#     d$major_celltype = i\n",
    "#     out[[i]] = d\n",
    "# }\n",
    "\n",
    "# all_data = do.call('rbind', out)\n",
    "\n",
    "# write.csv(all_data, './processed_data/single_cell/brain_marker_genes2.csv')\n",
    "\n",
    "# table(all_data$major_celltype)"
   ]
  }
 ],
 "metadata": {
  "kernelspec": {
   "display_name": "R",
   "language": "R",
   "name": "ir"
  },
  "language_info": {
   "codemirror_mode": "r",
   "file_extension": ".r",
   "mimetype": "text/x-r-source",
   "name": "R",
   "pygments_lexer": "r",
   "version": "4.1.2"
  }
 },
 "nbformat": 4,
 "nbformat_minor": 5
}

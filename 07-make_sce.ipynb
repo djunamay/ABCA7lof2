{
 "cells": [
  {
   "cell_type": "code",
   "execution_count": 2,
   "id": "fc578a56-19e8-4e46-bdcd-8b4942610dfe",
   "metadata": {
    "tags": []
   },
   "outputs": [],
   "source": [
    "library(SingleCellExperiment)"
   ]
  },
  {
   "cell_type": "code",
   "execution_count": 3,
   "id": "1bdad145-153e-4cdb-b8f5-976e486c3e2d",
   "metadata": {},
   "outputs": [],
   "source": [
    "# load counts data\n",
    "counts = Matrix::readMM(\"./processed_data/single_cell/counts.mtx\")\n",
    "logcounts = Matrix::readMM(\"./processed_data/single_cell/logcounts.mtx\")"
   ]
  },
  {
   "cell_type": "code",
   "execution_count": 5,
   "id": "36bcb267-8f9d-44a0-9ad0-71117032789a",
   "metadata": {},
   "outputs": [],
   "source": [
    "# load metadata\n",
    "rowData = read.csv(\"./processed_data/single_cell/rowData.csv\", row.names='X')\n",
    "colData = read.csv(\"./processed_data/single_cell/colData.csv\", row.names='X')\n",
    "rownames(rowData) = make.unique(rowData$X0)\n",
    "rownames(colData) = make.unique(colData$barcodes)"
   ]
  },
  {
   "cell_type": "code",
   "execution_count": 58,
   "id": "8d0c3c57-b2f0-4baa-b2f8-a245c97a92aa",
   "metadata": {},
   "outputs": [],
   "source": [
    "# make sce\n",
    "sce = SingleCellExperiment(assays = list(counts = t(counts), logcounts=t(logcounts)), colData = colData, rowData = rowData)\n",
    "rownames(sce) = rownames(rowData)\n",
    "colnames(sce) = rownames(colData)"
   ]
  },
  {
   "cell_type": "code",
   "execution_count": 60,
   "id": "f701bc28-8ff0-4198-b711-9f48c6ba97dd",
   "metadata": {},
   "outputs": [],
   "source": [
    "# save\n",
    "saveRDS(sce, './processed_data/single_cell/sce.rds')"
   ]
  }
 ],
 "metadata": {
  "kernelspec": {
   "display_name": "R [conda env:.conda-r_env]",
   "language": "R",
   "name": "conda-env-.conda-r_env-r"
  },
  "language_info": {
   "codemirror_mode": "r",
   "file_extension": ".r",
   "mimetype": "text/x-r-source",
   "name": "R",
   "pygments_lexer": "r",
   "version": "4.2.3"
  }
 },
 "nbformat": 4,
 "nbformat_minor": 5
}

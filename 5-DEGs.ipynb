{
 "cells": [
  {
   "cell_type": "code",
   "execution_count": 1,
   "id": "344d9391-7fcf-42bf-9163-f4c7401bd654",
   "metadata": {
    "tags": []
   },
   "outputs": [],
   "source": [
    "import os\n",
    "from os import path\n",
    "import pandas as pd\n",
    "import numpy as np\n",
    "from tqdm import tqdm\n",
    "from scipy import io\n",
    "import scipy as scipy\n",
    "import collections\n",
    "import scipy.sparse as sp_sparse\n",
    "import tables\n",
    "import time\n",
    "import numba as nb\n",
    "from numba import config\n",
    "from numba_progress import ProgressBar\n",
    "import ipdb\n",
    "\n",
    "from ABCA7lof2.aggregation import aggregate_fastqs\n",
    "\n",
    "config.THREADING_LAYER = 'workqueue'\n",
    "\n"
   ]
  },
  {
   "cell_type": "code",
   "execution_count": 2,
   "id": "051ae93b-20ae-48b2-b156-07846ca0cf16",
   "metadata": {
    "tags": []
   },
   "outputs": [
    {
     "name": "stdout",
     "output_type": "stream",
     "text": [
      "preparing...\n",
      "aggregating D20-7432\n",
      "aggregating D20-7433\n",
      "aggregating D20-7434\n",
      "aggregating D20-7435\n",
      "aggregating D20-7436\n",
      "aggregating D20-7437\n",
      "aggregating D20-7438\n",
      "aggregating D20-7439\n",
      "aggregating D20-7440\n",
      "aggregating D20-7441\n",
      "aggregating D20-7442\n",
      "aggregating D20-7443\n",
      "aggregating D20-7444\n",
      "aggregating D20-7445\n",
      "aggregating D20-7446\n",
      "aggregating D20-7447\n",
      "aggregating D20-7448\n",
      "aggregating D20-7450\n",
      "aggregating D20-7451\n",
      "aggregating D20-7452\n",
      "aggregating D20-7453\n",
      "aggregating D20-7454\n",
      "aggregating D20-7455\n",
      "aggregating D20-7456\n",
      "aggregating D20-7457\n",
      "aggregating D20-7458\n",
      "aggregating D17-8792\n",
      "aggregating D17-8782\n",
      "aggregating D17-8796\n",
      "aggregating D17-8764\n",
      "aggregating D17-8776\n",
      "aggregating D17-8772\n",
      "aggregating D17-8768\n",
      "aggregating D17-8766\n",
      "aggregating D17-8758\n",
      "aggregating D17-8778\n",
      "aggregating D17-8756\n",
      "aggregating D17-8800\n",
      "aggregating D17-8790\n",
      "aggregating D17-8754\n",
      "aggregating D17-8760\n",
      "aggregating D17-8786\n",
      "saving metadata\n",
      "truncating arrays\n",
      "done.\n"
     ]
    }
   ],
   "source": [
    "# define in and output paths\n",
    "path_to_outputs = '/home/gridsan/djuna/homer/github/ABCA7lof2/raw_data/cellranger_counts_out/aggr_out/'\n",
    "\n",
    "if not path.exists(path_to_outputs):\n",
    "    os.mkdir(path_to_outputs)\n",
    "    \n",
    "meta_path_individual = '/home/gridsan/djuna/homer/github/ABCA7lof2/raw_data/metadata/single_cell_individual_metadata.csv'\n",
    "counts_path_individual = '/home/gridsan/djuna/homer/github/ABCA7lof2/raw_data/cellranger_counts_out/'\n",
    "\n",
    "aggregate_fastqs(path_to_outputs, meta_path_individual, counts_path_individual, Ncells=300000, Ngenes=36601)\n"
   ]
  }
 ],
 "metadata": {
  "kernelspec": {
   "display_name": "py_env",
   "language": "python",
   "name": "py_env"
  },
  "language_info": {
   "codemirror_mode": {
    "name": "ipython",
    "version": 3
   },
   "file_extension": ".py",
   "mimetype": "text/x-python",
   "name": "python",
   "nbconvert_exporter": "python",
   "pygments_lexer": "ipython3",
   "version": "3.8.13"
  }
 },
 "nbformat": 4,
 "nbformat_minor": 5
}

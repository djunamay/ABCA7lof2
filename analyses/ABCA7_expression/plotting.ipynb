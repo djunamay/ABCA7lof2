{
 "cells": [
  {
   "cell_type": "markdown",
   "metadata": {
    "vscode": {
     "languageId": "r"
    }
   },
   "source": [
    "<div style=\"border: 2px solid red; padding: 10px; border-radius: 5px;\">\n",
    "<strong>Notebook description:</strong>\n",
    "    \n",
    "This notebook plots ABCA7 expression results.\n",
    "\n",
    "<strong>Input Data:</strong>\n",
    "\n",
    "`stats_input_data_0825.rds`\n",
    "\n",
    "`human_bulk_RNAseq.sce.rds`\n",
    "\n",
    "<strong>Figures:</strong>\n",
    "\n",
    "`ED4`\n",
    "\n",
    "<strong>Last Run All:</strong>\n",
    "June 18, 2025\n",
    "\n",
    "\n"
   ]
  },
  {
   "cell_type": "code",
   "execution_count": 1,
   "metadata": {
    "vscode": {
     "languageId": "r"
    }
   },
   "outputs": [
    {
     "name": "stderr",
     "output_type": "stream",
     "text": [
      "Loading required package: SummarizedExperiment\n",
      "\n",
      "Loading required package: MatrixGenerics\n",
      "\n",
      "Loading required package: matrixStats\n",
      "\n",
      "\n",
      "Attaching package: 'MatrixGenerics'\n",
      "\n",
      "\n",
      "The following objects are masked from 'package:matrixStats':\n",
      "\n",
      "    colAlls, colAnyNAs, colAnys, colAvgsPerRowSet, colCollapse,\n",
      "    colCounts, colCummaxs, colCummins, colCumprods, colCumsums,\n",
      "    colDiffs, colIQRDiffs, colIQRs, colLogSumExps, colMadDiffs,\n",
      "    colMads, colMaxs, colMeans2, colMedians, colMins, colOrderStats,\n",
      "    colProds, colQuantiles, colRanges, colRanks, colSdDiffs, colSds,\n",
      "    colSums2, colTabulates, colVarDiffs, colVars, colWeightedMads,\n",
      "    colWeightedMeans, colWeightedMedians, colWeightedSds,\n",
      "    colWeightedVars, rowAlls, rowAnyNAs, rowAnys, rowAvgsPerColSet,\n",
      "    rowCollapse, rowCounts, rowCummaxs, rowCummins, rowCumprods,\n",
      "    rowCumsums, rowDiffs, rowIQRDiffs, rowIQRs, rowLogSumExps,\n",
      "    rowMadDiffs, rowMads, rowMaxs, rowMeans2, rowMedians, rowMins,\n",
      "    rowOrderStats, rowProds, rowQuantiles, rowRanges, rowRanks,\n",
      "    rowSdDiffs, rowSds, rowSums2, rowTabulates, rowVarDiffs, rowVars,\n",
      "    rowWeightedMads, rowWeightedMeans, rowWeightedMedians,\n",
      "    rowWeightedSds, rowWeightedVars\n",
      "\n",
      "\n",
      "Loading required package: GenomicRanges\n",
      "\n",
      "Loading required package: stats4\n",
      "\n",
      "Loading required package: BiocGenerics\n",
      "\n",
      "\n",
      "Attaching package: 'BiocGenerics'\n",
      "\n",
      "\n",
      "The following objects are masked from 'package:stats':\n",
      "\n",
      "    IQR, mad, sd, var, xtabs\n",
      "\n",
      "\n",
      "The following objects are masked from 'package:base':\n",
      "\n",
      "    Filter, Find, Map, Position, Reduce, anyDuplicated, aperm, append,\n",
      "    as.data.frame, basename, cbind, colnames, dirname, do.call,\n",
      "    duplicated, eval, evalq, get, grep, grepl, intersect, is.unsorted,\n",
      "    lapply, mapply, match, mget, order, paste, pmax, pmax.int, pmin,\n",
      "    pmin.int, rank, rbind, rownames, sapply, saveRDS, setdiff, table,\n",
      "    tapply, union, unique, unsplit, which.max, which.min\n",
      "\n",
      "\n",
      "Loading required package: S4Vectors\n",
      "\n",
      "\n",
      "Attaching package: 'S4Vectors'\n",
      "\n",
      "\n",
      "The following object is masked from 'package:utils':\n",
      "\n",
      "    findMatches\n",
      "\n",
      "\n",
      "The following objects are masked from 'package:base':\n",
      "\n",
      "    I, expand.grid, unname\n",
      "\n",
      "\n",
      "Loading required package: IRanges\n",
      "\n",
      "Loading required package: GenomeInfoDb\n",
      "\n",
      "Loading required package: Biobase\n",
      "\n",
      "Welcome to Bioconductor\n",
      "\n",
      "    Vignettes contain introductory material; view with\n",
      "    'browseVignettes()'. To cite Bioconductor, see\n",
      "    'citation(\"Biobase\")', and for packages 'citation(\"pkgname\")'.\n",
      "\n",
      "\n",
      "\n",
      "Attaching package: 'Biobase'\n",
      "\n",
      "\n",
      "The following object is masked from 'package:MatrixGenerics':\n",
      "\n",
      "    rowMedians\n",
      "\n",
      "\n",
      "The following objects are masked from 'package:matrixStats':\n",
      "\n",
      "    anyMissing, rowMedians\n",
      "\n",
      "\n",
      "\n",
      "Attaching package: 'tidyr'\n",
      "\n",
      "\n",
      "The following object is masked from 'package:S4Vectors':\n",
      "\n",
      "    expand\n",
      "\n",
      "\n",
      "\n",
      "Attaching package: 'reshape2'\n",
      "\n",
      "\n",
      "The following object is masked from 'package:tidyr':\n",
      "\n",
      "    smiths\n",
      "\n",
      "\n"
     ]
    }
   ],
   "source": [
    "\n",
    "source('../../ABCA7lof2/plotting.r')\n",
    "library(SingleCellExperiment)\n",
    "library(ggplot2)\n",
    "library(ggpubr)\n",
    "library(tidyr)\n",
    "library(patchwork)\n",
    "\n",
    "library(reshape2)"
   ]
  },
  {
   "cell_type": "code",
   "execution_count": 2,
   "metadata": {
    "vscode": {
     "languageId": "r"
    }
   },
   "outputs": [],
   "source": [
    "all_data = readRDS('../../processed_data/stats_input_data_0825.rds')\n",
    "\n",
    "# get the welch et al data\n",
    "data = readRDS('../../processed_data/human_bulk_RNAseq.sce.rds')\n",
    "norm_counts = assays(data)$log2rpkm\n",
    "genes = c('ABCA7', 'ABCA1', 'APOE','NEUROD1')\n",
    "all_p = list()\n",
    "\n",
    "for(n in genes){\n",
    "    df = as.data.frame(norm_counts[n,])\n",
    "    df$pop = (colData(data)$population)\n",
    "    df$grp = colData(data)$id\n",
    "    df$cond = colData(data)$condition\n",
    "    df$AD = colData(data)$AD\n",
    "    df = df[df$cond=='ctr',]\n",
    "    #df = df[df$AD=='noAD',]\n",
    "    #df = df[df$pop=='NeuN+',]\n",
    "    \n",
    "    colnames(df) = c('gene','label', 'grp', 'condition')\n",
    "\n",
    "    p1 = shapiro.test(df[df$label=='NeuN+','gene'])$p.value\n",
    "    p2 = shapiro.test(df[df$label=='NeuN-','gene'])$p.value\n",
    "    \n",
    "    if((p1>0.05) & (p2>0.05)){\n",
    "      test = 't.test'\n",
    "    }else{\n",
    "      test = 'wilcox.test'\n",
    "    }\n",
    "\n",
    "    df$label = factor(df$label, , levels=c('NeuN-', 'NeuN+'))\n",
    "    all_p[[n]] = ggplot(df, aes(y=gene, x=as.factor(label), fill = as.factor(label)))  + xlab('') + ylab('normalized_expression') + ggtitle(n) + geom_boxplot()  + geom_point()+ geom_line(aes(group = grp), alpha=.2)+ stat_compare_means(method = test, paired = TRUE) + theme_classic() +  scale_fill_manual(values = c( \"grey\", \"seagreen3\"))+ theme(legend.position = \"none\")+scale_y_continuous(expand = expansion(mult = c(0.05, 0.15)))\n",
    "}\n",
    "\n",
    "all_p2 = list()\n",
    "ind = Reduce(intersect, lapply(all_data$av_logcounts_by_ind, function(x) colnames(x)))\n",
    "                               \n",
    "for(n in genes){\n",
    "    exp = do.call('rbind', lapply(all_data$av_logcounts_by_ind, function(x) x[n,ind]))\n",
    "    df = melt(exp)\n",
    "    df$grp = ifelse(df$Var1%in%c('Ex', 'In'), 'neurons', 'glia')\n",
    "    temp = aggregate(df$value, list(interaction(df$grp, df$Var2)), 'mean')\n",
    "    temp = separate(\n",
    "      temp,\n",
    "      c('Group.1'),\n",
    "      c('grp', 'projid'),\n",
    "      sep = \"[.]\")\n",
    "\n",
    "    p1 = shapiro.test(temp[temp$grp=='neurons','x'])$p.value\n",
    "    p2 = shapiro.test(temp[temp$grp=='glia','x'])$p.value\n",
    "    \n",
    "    if((p1>0.05) & (p2>0.05)){\n",
    "      test = 't.test'\n",
    "    }else{\n",
    "      test = 'wilcox.test'\n",
    "    }\n",
    "\n",
    "    all_p2[[n]] = ggplot(temp, aes(y=((as.numeric(x))), x=grp, fill = factor(grp)), col = 'black') + scale_y_continuous(expand = expansion(mult = c(0.05, 0.15))) + \n",
    "       geom_boxplot(width = .8, alpha = 1) + theme_classic() +theme(legend.position = \"none\") + ggtitle(n) + ylab('normalized expression') + xlab('') + scale_fill_manual(values = c( \"grey\", \"seagreen3\")) + geom_line(aes(group = projid), alpha = .2)+ stat_compare_means(method = test, paired = TRUE)+ theme(legend.position = \"none\")\n",
    "}\n",
    "                                  \n",
    "options(repr.plot.width=5, repr.plot.height=10)\n",
    "\n",
    "plots1 = (all_p$ABCA7 / all_p2$ABCA7) | (all_p$ABCA1 / all_p2$ABCA1) | (all_p$APOE / all_p2$APOE) | (all_p$NEUROD1 / all_p2$NEUROD1) "
   ]
  },
  {
   "cell_type": "code",
   "execution_count": 3,
   "metadata": {
    "vscode": {
     "languageId": "r"
    }
   },
   "outputs": [],
   "source": [
    "welch = all_p$ABCA7 | all_p$ABCA1 | all_p$APOE | all_p$NEUROD1\n",
    "sn = all_p2$ABCA7 | all_p2$ABCA1 | all_p2$APOE | all_p2$NEUROD1\n"
   ]
  },
  {
   "cell_type": "code",
   "execution_count": 4,
   "metadata": {
    "vscode": {
     "languageId": "r"
    }
   },
   "outputs": [],
   "source": [
    "\n",
    "ggsave(\"/Users/djuna/Documents/ABCA7lof2/editorial_paper/main_panels_svgs/ed4/scRNAseq_bulk_rna.pdf\", plot = sn, width = 10, height = 3, units = \"in\")\n",
    "\n",
    "ggsave(\"/Users/djuna/Documents/ABCA7lof2/editorial_paper/main_panels_svgs/ed4/welch_et_al_bulk_rna.pdf\", plot = welch, width = 10, height = 3, units = \"in\")\n",
    "\n"
   ]
  },
  {
   "cell_type": "code",
   "execution_count": 7,
   "metadata": {
    "vscode": {
     "languageId": "r"
    }
   },
   "outputs": [
    {
     "data": {
      "text/html": [
       "<style>\n",
       ".dl-inline {width: auto; margin:0; padding: 0}\n",
       ".dl-inline>dt, .dl-inline>dd {float: none; width: auto; display: inline-block}\n",
       ".dl-inline>dt::after {content: \":\\0020\"; padding-right: .5ex}\n",
       ".dl-inline>dt:not(:first-of-type) {padding-left: .5ex}\n",
       "</style><dl class=dl-inline><dt>Opc</dt><dd>0.0124688279301746</dd><dt>Ast</dt><dd>0.0811679240011176</dd><dt>Ex</dt><dd>0.296686818679488</dd><dt>Oli</dt><dd>0.0199444404872142</dd><dt>Mic</dt><dd>0.0691049439441279</dd><dt>In</dt><dd>0.15291098203431</dd></dl>\n"
      ],
      "text/latex": [
       "\\begin{description*}\n",
       "\\item[Opc] 0.0124688279301746\n",
       "\\item[Ast] 0.0811679240011176\n",
       "\\item[Ex] 0.296686818679488\n",
       "\\item[Oli] 0.0199444404872142\n",
       "\\item[Mic] 0.0691049439441279\n",
       "\\item[In] 0.15291098203431\n",
       "\\end{description*}\n"
      ],
      "text/markdown": [
       "Opc\n",
       ":   0.0124688279301746Ast\n",
       ":   0.0811679240011176Ex\n",
       ":   0.296686818679488Oli\n",
       ":   0.0199444404872142Mic\n",
       ":   0.0691049439441279In\n",
       ":   0.15291098203431\n",
       "\n"
      ],
      "text/plain": [
       "       Opc        Ast         Ex        Oli        Mic         In \n",
       "0.01246883 0.08116792 0.29668682 0.01994444 0.06910494 0.15291098 "
      ]
     },
     "metadata": {},
     "output_type": "display_data"
    }
   ],
   "source": [
    "all_data$det.rate.celltype['ABCA7',]"
   ]
  },
  {
   "cell_type": "code",
   "execution_count": 12,
   "metadata": {
    "vscode": {
     "languageId": "r"
    }
   },
   "outputs": [],
   "source": [
    "library(ggplot2)\n",
    "library(forcats)  # for fct_reorder()\n",
    "\n",
    "# your data\n",
    "df <- data.frame(\n",
    "  cell_type = c(\"Opc\",\"Ast\",\"Ex\",\"Oli\",\"Mic\",\"In\"),\n",
    "  value     = c(0.0124688279301746, 0.0811679240011176,\n",
    "                0.296686818679488,  0.0199444404872142,\n",
    "                0.0691049439441279,  0.15291098203431)\n",
    ")\n",
    "\n",
    "# reorder factor levels by value descending\n",
    "df$cell_type <- fct_reorder(df$cell_type, df$value, .desc = TRUE)\n",
    "\n",
    "# plot\n",
    "pl = ggplot(df, aes(x = cell_type, y = value)) +\n",
    "  geom_col() +\n",
    "  labs(x = \"Cell type\", y = \"fraction of cells where ABCA7 counts > 0\") +\n",
    "  theme_classic()\n",
    "\n",
    "ggsave(\"/Users/djuna/Documents/ABCA7lof2/editorial_paper/main_panels_svgs/ed4/abca7_detection_rate.pdf\", plot = pl, width = 3, height = 3, units = \"in\")\n"
   ]
  }
 ],
 "metadata": {
  "kernelspec": {
   "display_name": "R (r_bioc_env)",
   "language": "R",
   "name": "r"
  },
  "language_info": {
   "codemirror_mode": "r",
   "file_extension": ".r",
   "mimetype": "text/x-r-source",
   "name": "R",
   "pygments_lexer": "r",
   "version": "4.4.2"
  }
 },
 "nbformat": 4,
 "nbformat_minor": 2
}

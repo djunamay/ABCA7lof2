{
 "cells": [
  {
   "cell_type": "markdown",
   "id": "1db49321-114d-4d5f-8ef6-52c1a2f21a92",
   "metadata": {},
   "source": [
    "**Compute DEGs and pathway enrichments**\n"
   ]
  },
  {
   "cell_type": "code",
   "execution_count": 1,
   "id": "9278ec8a-aa99-4547-b7f4-33f8e9f6042b",
   "metadata": {
    "tags": []
   },
   "outputs": [
    {
     "name": "stderr",
     "output_type": "stream",
     "text": [
      "Loading required package: limma\n",
      "\n",
      "Loading required package: mgcv\n",
      "\n",
      "Loading required package: nlme\n",
      "\n",
      "This is mgcv 1.8-40. For overview type 'help(\"mgcv-package\")'.\n",
      "\n",
      "Loading required package: genefilter\n",
      "\n",
      "Loading required package: BiocParallel\n",
      "\n"
     ]
    }
   ],
   "source": [
    "library(edgeR)\n",
    "library(sva)\n",
    "library(fgsea)\n",
    "library(tidyr)\n",
    "source('./ABCA7lof2//degs.r')\n",
    "set.seed(5)"
   ]
  },
  {
   "cell_type": "markdown",
   "id": "d87ddf1a-004b-4765-b586-6cb960fb2290",
   "metadata": {},
   "source": [
    "#### DEGs"
   ]
  },
  {
   "cell_type": "code",
   "execution_count": 1,
   "id": "20b7f287-4a15-4660-aff9-9378eff2523f",
   "metadata": {},
   "outputs": [],
   "source": [
    "all_data = readRDS('./processed_data/single_cell/stats_input_data_0825.rds')"
   ]
  },
  {
   "cell_type": "code",
   "execution_count": 3,
   "id": "16f02950-bee9-46f9-ba6f-a5353b4f6998",
   "metadata": {},
   "outputs": [],
   "source": [
    "summed_counts = all_data$summed_counts_by_ind # does it make sense to be summing on the counts vs taking the mean of the counts? --> compare to nebula? --> ok because we are normalizing?\n",
    "meta = all_data$summary\n",
    "meta$seq_batch = ifelse(meta$seq_batch=='JBM',1,0)\n",
    "expressed = all_data$expressed10"
   ]
  },
  {
   "cell_type": "code",
   "execution_count": 4,
   "id": "85c0bbcf-5eac-4ee3-820d-82c267fe1247",
   "metadata": {},
   "outputs": [],
   "source": [
    "# filter out individuals with too few cells per celltype\n",
    "keep = summed_counts$ncells>=10\n",
    "summed_counts_indexed = summed_counts$summed_counts[,keep]"
   ]
  },
  {
   "cell_type": "code",
   "execution_count": 5,
   "id": "48f38d7b-3b10-4976-902f-c9e2b9533164",
   "metadata": {},
   "outputs": [
    {
     "name": "stdout",
     "output_type": "stream",
     "text": [
      "Number of significant surrogate variables is:  10 \n",
      "Iteration (out of 5 ):1  2  3  4  5  Number of significant surrogate variables is:  9 \n",
      "Iteration (out of 5 ):1  2  3  4  5  Number of significant surrogate variables is:  5 \n",
      "Iteration (out of 5 ):1  2  3  4  5  Number of significant surrogate variables is:  7 \n",
      "Iteration (out of 5 ):1  2  3  4  5  Number of significant surrogate variables is:  9 \n",
      "Iteration (out of 5 ):1  2  3  4  5  Number of significant surrogate variables is:  7 \n",
      "Iteration (out of 5 ):1  2  3  4  5  "
     ]
    }
   ],
   "source": [
    "# compute degs (all samples)\n",
    "vars = c('LOF', 'amyloid', 'nft',  'msex', 'age_death', 'pmi', 'seq_batch', 'APOE4')\n",
    "limma_inputs = get_limma_inputs(summed_counts_indexed, expressed, meta, vars)\n",
    "aggs = limma_inputs$aggs\n",
    "metadata = limma_inputs$metadata\n",
    "\n",
    "\n",
    "degs_all = lapply(names(aggs)[!names(aggs)%in%c('Vascular')], function(x) RunDiffExprAnalysisLimma(aggs[[x]], metadata[[x]], n.sv=NULL))\n",
    "names(degs_all) = names(aggs)[!names(aggs)%in%c('Vascular')]"
   ]
  },
  {
   "cell_type": "code",
   "execution_count": 6,
   "id": "3dfb9905-66b4-4922-a81a-700aa421fa81",
   "metadata": {},
   "outputs": [],
   "source": [
    "# get the ids\n",
    "ids = strsplit(colnames(summed_counts_indexed), '[.]')\n",
    "ids = unlist(lapply(1:length(ids), function(x) ids[[x]][2]))"
   ]
  },
  {
   "cell_type": "code",
   "execution_count": 7,
   "id": "262fbf0a-02c3-417d-85b9-b6e0f5ef554a",
   "metadata": {},
   "outputs": [
    {
     "name": "stdout",
     "output_type": "stream",
     "text": [
      "Number of significant surrogate variables is:  6 \n",
      "Iteration (out of 5 ):1  2  3  4  5  Number of significant surrogate variables is:  6 \n",
      "Iteration (out of 5 ):1  2  3  4  5  Number of significant surrogate variables is:  4 \n",
      "Iteration (out of 5 ):1  2  3  4  5  Number of significant surrogate variables is:  5 \n",
      "Iteration (out of 5 ):1  2  3  4  5  Number of significant surrogate variables is:  5 \n",
      "Iteration (out of 5 ):1  2  3  4  5  Number of significant surrogate variables is:  5 \n",
      "Iteration (out of 5 ):1  2  3  4  5  "
     ]
    }
   ],
   "source": [
    "# compute degs (no APOE4 samples)\n",
    "vars = c('LOF', 'amyloid', 'nft',  'msex', 'age_death', 'pmi', 'seq_batch')\n",
    "sele = rownames(meta)[meta$APOE4==0]\n",
    "sc_noAPOE4 = summed_counts_indexed[,ids%in%sele]\n",
    "limma_inputs = get_limma_inputs(sc_noAPOE4, expressed, meta[sele,], vars)\n",
    "aggs = limma_inputs$aggs\n",
    "metadata = limma_inputs$metadata\n",
    "degs_noAPOE4 = lapply(names(aggs)[!names(aggs)%in%c('Vascular')], function(x) RunDiffExprAnalysisLimma(aggs[[x]], metadata[[x]], n.sv=NULL, exclude_apoe=TRUE))\n",
    "names(degs_noAPOE4) = names(aggs)[!names(aggs)%in%c('Vascular')]\n"
   ]
  },
  {
   "cell_type": "code",
   "execution_count": 8,
   "id": "9fb2f2a5-2706-4811-b79d-2f3927497fd2",
   "metadata": {},
   "outputs": [
    {
     "name": "stdout",
     "output_type": "stream",
     "text": [
      "Number of significant surrogate variables is:  5 \n",
      "Iteration (out of 5 ):1  2  3  4  5  Number of significant surrogate variables is:  4 \n",
      "Iteration (out of 5 ):1  2  3  4  5  Number of significant surrogate variables is:  3 \n",
      "Iteration (out of 5 ):1  2  3  4  5  Number of significant surrogate variables is:  5 \n",
      "Iteration (out of 5 ):1  2  3  4  5  Number of significant surrogate variables is:  3 \n",
      "Iteration (out of 5 ):1  2  3  4  5  Number of significant surrogate variables is:  3 \n",
      "Iteration (out of 5 ):1  2  3  4  5  "
     ]
    }
   ],
   "source": [
    "# compute degs (no APOE4 samples)\n",
    "vars = c('LOF', 'amyloid', 'nft',  'msex', 'age_death', 'pmi', 'APOE4')\n",
    "sele = rownames(meta)[meta$seq_batch==1]\n",
    "sc_JBM = summed_counts_indexed[,ids%in%sele]\n",
    "limma_inputs = get_limma_inputs(sc_JBM, expressed, meta[sele,], vars)\n",
    "aggs = limma_inputs$aggs\n",
    "metadata = limma_inputs$metadata\n",
    "degs_JBM = lapply(names(aggs)[!names(aggs)%in%c('Vascular')], function(x) RunDiffExprAnalysisLimma(aggs[[x]], metadata[[x]], n.sv=NULL, exclude_batch=TRUE))\n",
    "names(degs_JBM) = names(aggs)[!names(aggs)%in%c('Vascular')]"
   ]
  },
  {
   "cell_type": "code",
   "execution_count": 9,
   "id": "5a562439-f63a-425a-b830-d3ccab407148",
   "metadata": {},
   "outputs": [
    {
     "name": "stdout",
     "output_type": "stream",
     "text": [
      "Number of significant surrogate variables is:  4 \n",
      "Iteration (out of 5 ):1  2  3  4  5  Number of significant surrogate variables is:  4 \n",
      "Iteration (out of 5 ):1  2  3  4  5  Number of significant surrogate variables is:  2 \n",
      "Iteration (out of 5 ):1  2  3  4  5  Number of significant surrogate variables is:  4 \n",
      "Iteration (out of 5 ):1  2  3  4  5  Number of significant surrogate variables is:  3 \n",
      "Iteration (out of 5 ):1  2  3  4  5  Number of significant surrogate variables is:  2 \n",
      "Iteration (out of 5 ):1  2  3  4  5  "
     ]
    }
   ],
   "source": [
    "# exclude both\n",
    "vars = c('LOF', 'amyloid', 'nft',  'msex', 'age_death', 'pmi')\n",
    "sele = rownames(meta)[(meta$seq_batch==1) & (meta$APOE4==0)]\n",
    "sc_exclude_both = summed_counts_indexed[,ids%in%sele]\n",
    "limma_inputs = get_limma_inputs(sc_exclude_both, expressed, meta[sele,], vars)\n",
    "aggs = limma_inputs$aggs\n",
    "metadata = limma_inputs$metadata\n",
    "degs_exclude_both = lapply(names(aggs)[!names(aggs)%in%c('Vascular')], function(x) RunDiffExprAnalysisLimma(aggs[[x]], metadata[[x]], n.sv=NULL, exclude_both=TRUE))\n",
    "names(degs_exclude_both) = names(aggs)[!names(aggs)%in%c('Vascular')]"
   ]
  },
  {
   "cell_type": "code",
   "execution_count": 11,
   "id": "239c315f-3f48-4b88-98eb-8626c798b002",
   "metadata": {},
   "outputs": [],
   "source": [
    "# save the results\n",
    "degs = list()\n",
    "degs[['degs_all']] = degs_all\n",
    "degs[['degs_exclude_both']] = degs_exclude_both\n",
    "degs[['degs_JBM']] = degs_JBM\n",
    "degs[['degs_noAPOE4']] = degs_noAPOE4\n",
    "\n",
    "saveRDS(degs, './processed_data/single_cell/pseudobulk_degs_0825.rds')"
   ]
  },
  {
   "cell_type": "code",
   "execution_count": 12,
   "id": "a9a5f6d4-41e8-43d4-a5c1-106c8e8e9a13",
   "metadata": {},
   "outputs": [],
   "source": [
    "# save deg scores as matrix\n",
    "out = list()\n",
    "scores = get_deg_scores(degs$degs_all)\n",
    "for(i in names(scores)){\n",
    "    df = as.data.frame(scores[[i]]$scores)\n",
    "    colnames(df) = c('score')\n",
    "    df$gene = rownames(df)\n",
    "    df$celltype = i\n",
    "    out[[i]] = df\n",
    "}\n",
    "all_scores = as.data.frame(do.call('rbind', out)%>%pivot_wider(., values_from='score', names_from='celltype'))\n",
    "rownames(all_scores) = all_scores$gene\n",
    "all_scores$gene = NULL\n",
    "all_scores[is.na(all_scores)] = 0\n",
    "write.csv(all_scores, './processed_data/single_cell/all_scores_0825.csv')"
   ]
  },
  {
   "cell_type": "code",
   "execution_count": 13,
   "id": "e0a6528a-e8c2-4be9-b3a8-036d285002df",
   "metadata": {},
   "outputs": [
    {
     "data": {
      "text/html": [
       "<table class=\"dataframe\">\n",
       "<caption>A data.frame: 6 × 6</caption>\n",
       "<thead>\n",
       "\t<tr><th></th><th scope=col>Opc</th><th scope=col>Ast</th><th scope=col>Ex</th><th scope=col>Oli</th><th scope=col>Mic</th><th scope=col>In</th></tr>\n",
       "\t<tr><th></th><th scope=col>&lt;dbl&gt;</th><th scope=col>&lt;dbl&gt;</th><th scope=col>&lt;dbl&gt;</th><th scope=col>&lt;dbl&gt;</th><th scope=col>&lt;dbl&gt;</th><th scope=col>&lt;dbl&gt;</th></tr>\n",
       "</thead>\n",
       "<tbody>\n",
       "\t<tr><th scope=row>DTNBP1</th><td>3.986428</td><td>-0.27949126</td><td>-0.12693224</td><td>0.00000000</td><td>0.01183948</td><td>-0.4148457</td></tr>\n",
       "\t<tr><th scope=row>VRK2</th><td>3.507619</td><td> 0.00000000</td><td> 0.00000000</td><td>0.09467679</td><td>0.10415110</td><td> 0.0000000</td></tr>\n",
       "\t<tr><th scope=row>ZBED5</th><td>3.285349</td><td>-0.01085106</td><td> 2.61196104</td><td>0.12375953</td><td>1.52099952</td><td> 2.4372781</td></tr>\n",
       "\t<tr><th scope=row>TMED3</th><td>3.256609</td><td> 0.00000000</td><td> 1.28143551</td><td>0.00000000</td><td>0.00000000</td><td> 0.5575109</td></tr>\n",
       "\t<tr><th scope=row>SEMA6B</th><td>3.151941</td><td> 0.00000000</td><td> 0.07776685</td><td>0.00000000</td><td>0.00000000</td><td>-0.0831840</td></tr>\n",
       "\t<tr><th scope=row>SYCP2L</th><td>3.098583</td><td> 0.97256275</td><td> 0.77546380</td><td>0.00000000</td><td>0.00000000</td><td> 1.5736471</td></tr>\n",
       "</tbody>\n",
       "</table>\n"
      ],
      "text/latex": [
       "A data.frame: 6 × 6\n",
       "\\begin{tabular}{r|llllll}\n",
       "  & Opc & Ast & Ex & Oli & Mic & In\\\\\n",
       "  & <dbl> & <dbl> & <dbl> & <dbl> & <dbl> & <dbl>\\\\\n",
       "\\hline\n",
       "\tDTNBP1 & 3.986428 & -0.27949126 & -0.12693224 & 0.00000000 & 0.01183948 & -0.4148457\\\\\n",
       "\tVRK2 & 3.507619 &  0.00000000 &  0.00000000 & 0.09467679 & 0.10415110 &  0.0000000\\\\\n",
       "\tZBED5 & 3.285349 & -0.01085106 &  2.61196104 & 0.12375953 & 1.52099952 &  2.4372781\\\\\n",
       "\tTMED3 & 3.256609 &  0.00000000 &  1.28143551 & 0.00000000 & 0.00000000 &  0.5575109\\\\\n",
       "\tSEMA6B & 3.151941 &  0.00000000 &  0.07776685 & 0.00000000 & 0.00000000 & -0.0831840\\\\\n",
       "\tSYCP2L & 3.098583 &  0.97256275 &  0.77546380 & 0.00000000 & 0.00000000 &  1.5736471\\\\\n",
       "\\end{tabular}\n"
      ],
      "text/markdown": [
       "\n",
       "A data.frame: 6 × 6\n",
       "\n",
       "| <!--/--> | Opc &lt;dbl&gt; | Ast &lt;dbl&gt; | Ex &lt;dbl&gt; | Oli &lt;dbl&gt; | Mic &lt;dbl&gt; | In &lt;dbl&gt; |\n",
       "|---|---|---|---|---|---|---|\n",
       "| DTNBP1 | 3.986428 | -0.27949126 | -0.12693224 | 0.00000000 | 0.01183948 | -0.4148457 |\n",
       "| VRK2 | 3.507619 |  0.00000000 |  0.00000000 | 0.09467679 | 0.10415110 |  0.0000000 |\n",
       "| ZBED5 | 3.285349 | -0.01085106 |  2.61196104 | 0.12375953 | 1.52099952 |  2.4372781 |\n",
       "| TMED3 | 3.256609 |  0.00000000 |  1.28143551 | 0.00000000 | 0.00000000 |  0.5575109 |\n",
       "| SEMA6B | 3.151941 |  0.00000000 |  0.07776685 | 0.00000000 | 0.00000000 | -0.0831840 |\n",
       "| SYCP2L | 3.098583 |  0.97256275 |  0.77546380 | 0.00000000 | 0.00000000 |  1.5736471 |\n",
       "\n"
      ],
      "text/plain": [
       "       Opc      Ast         Ex          Oli        Mic        In        \n",
       "DTNBP1 3.986428 -0.27949126 -0.12693224 0.00000000 0.01183948 -0.4148457\n",
       "VRK2   3.507619  0.00000000  0.00000000 0.09467679 0.10415110  0.0000000\n",
       "ZBED5  3.285349 -0.01085106  2.61196104 0.12375953 1.52099952  2.4372781\n",
       "TMED3  3.256609  0.00000000  1.28143551 0.00000000 0.00000000  0.5575109\n",
       "SEMA6B 3.151941  0.00000000  0.07776685 0.00000000 0.00000000 -0.0831840\n",
       "SYCP2L 3.098583  0.97256275  0.77546380 0.00000000 0.00000000  1.5736471"
      ]
     },
     "metadata": {},
     "output_type": "display_data"
    }
   ],
   "source": [
    "head(all_scores)"
   ]
  },
  {
   "cell_type": "markdown",
   "id": "d5fa0532-7f12-4d3a-868b-5b73c5dfa8b5",
   "metadata": {},
   "source": [
    "##### FGSEA"
   ]
  },
  {
   "cell_type": "code",
   "execution_count": 2,
   "id": "9b4d7dbc-23bd-47ae-88cb-13845559fed1",
   "metadata": {},
   "outputs": [
    {
     "name": "stdout",
     "output_type": "stream",
     "text": [
      "  |======================================================================| 100%\n",
      "\n",
      "  |======================================================================| 100%\n",
      "\n",
      "  |======================================================================| 100%\n",
      "\n",
      "  |======================================================================| 100%\n",
      "\n",
      "  |======================================================================| 100%\n",
      "\n",
      "  |======================================================================| 100%\n",
      "\n"
     ]
    }
   ],
   "source": [
    "# load degs\n",
    "degs = readRDS('./processed_data/single_cell/pseudobulk_degs_0825.rds')$degs_all\n",
    "scores = get_deg_scores(degs)\n",
    "\n",
    "# compute fgsea results\n",
    "all_paths = read.csv('./processed_data/genesets/all_paths.csv', row.names = 'X')\n",
    "pathways = as.list(as.data.frame(t(all_paths)))\n",
    "temp = lapply(names(pathways), function(x) pathways[[x]][!(pathways[[x]]=='')])\n",
    "names(temp) = names(pathways)\n",
    "              \n",
    "out = lapply(names(scores), function(x) cbind(x, fgsea(pathways = temp, stats = scores[[x]]$scores, minSize = 5, maxSize = 1000, nproc=1, nPermSimple=10000)))\n",
    "names(out) = names(scores)"
   ]
  },
  {
   "cell_type": "code",
   "execution_count": 41,
   "id": "946c9c96-7747-4a79-939c-5492e5e81a36",
   "metadata": {},
   "outputs": [],
   "source": [
    "# save the fgsea results\n",
    "saveRDS(out, './processed_data/for_plotting/fgsea_out_0825.rds')\n",
    "\n",
    "# save all fgsea results\n",
    "df = as.data.frame(do.call('rbind', out))\n",
    "df = df[,!colnames(df)=='leadingEdge']\n",
    "write.csv(df, './processed_data/for_plotting/fgsea_out_0825.csv')\n",
    "\n",
    "# save LE genes per celltype\n",
    "for(i in names(out)){\n",
    "    res = out[[i]]\n",
    "    res = res[res$pval<0.05,]\n",
    "\n",
    "    df = as.data.frame(unique(unname(unlist(res$leadingEdge))))\n",
    "    colnames(df) = 'gene'\n",
    "    write.csv(df, paste0(paste0('./processed_data/for_plotting/leading_edge_0825', i), '.csv'))\n",
    "}"
   ]
  },
  {
   "cell_type": "code",
   "execution_count": 42,
   "id": "7b5fa2c4-1520-46b1-b35c-f7c799e6231f",
   "metadata": {},
   "outputs": [],
   "source": [
    "# save all LEs\n",
    "out = readRDS('./processed_data/for_plotting/fgsea_out_0825.rds')\n",
    "res = do.call('rbind', out)\n",
    "res$score = sign(res$NES) * -log10(res$pval)\n",
    "res = res[order(res$pval,decreasing=FALSE),]\n",
    "res = res[res$pval<0.05,]\n",
    "# save all leading edge genes\n",
    "df = as.data.frame(unique(unname(unlist(res$leadingEdge))))\n",
    "colnames(df) = 'gene'\n",
    "write.csv(df, './processed_data/for_plotting/leading_edge_0825.csv')"
   ]
  },
  {
   "cell_type": "code",
   "execution_count": 16,
   "id": "9e25d640-6338-46e2-9a50-3509d7e9d714",
   "metadata": {
    "tags": []
   },
   "outputs": [],
   "source": [
    "# save supp table\n",
    "res = list()\n",
    "for(i in names(out)){\n",
    "    T = out[[i]]\n",
    "    T = T[T$pval<0.05,]\n",
    "    T = T[order(T$pval,decreasing=FALSE),]\n",
    "    res[[i]] = T\n",
    "}\n",
    "temp = do.call('rbind', res)\n",
    "temp2 = temp\n",
    "x = unlist(lapply(temp$leadingEdge, function(x) paste(x, collapse=', ')))\n",
    "temp$leadingEdge = x\n",
    "write.csv(temp, './supplementary_tables/data_s3.csv')"
   ]
  },
  {
   "cell_type": "markdown",
   "id": "82903dde-a95c-47e4-9588-4542d104c59d",
   "metadata": {},
   "source": [
    "#### Specific gene enrichments"
   ]
  },
  {
   "cell_type": "code",
   "execution_count": 2,
   "id": "2a99a40a-c28b-40c7-9fd8-954f02f25e33",
   "metadata": {},
   "outputs": [],
   "source": [
    "get_gset_names_by_category = function(cat, gsets){\n",
    "  gset = unlist(lapply(gsets, function(x) unlist(sum(sapply(cat, grepl, x))>0)))\n",
    "  gset = (gsets[gset])\n",
    "  return(gset)\n",
    "}"
   ]
  },
  {
   "cell_type": "code",
   "execution_count": 9,
   "id": "2c7b7f17-5ff5-4998-96ec-1eebc786843f",
   "metadata": {},
   "outputs": [],
   "source": [
    "pathways = readRDS('../ABCA7lof/processed_data/pathway_databases/pathways.rds')"
   ]
  },
  {
   "cell_type": "code",
   "execution_count": 4,
   "id": "bbd32c78-163b-4f22-bbb6-28e4831ca0b4",
   "metadata": {},
   "outputs": [
    {
     "data": {
      "text/html": [
       "<style>\n",
       ".list-inline {list-style: none; margin:0; padding: 0}\n",
       ".list-inline>li {display: inline-block}\n",
       ".list-inline>li:not(:last-child)::after {content: \"\\00b7\"; padding: 0 .5ex}\n",
       "</style>\n",
       "<ol class=list-inline><li>'cyc'</li><li>'kegg'</li><li>'reactome'</li><li>'biocarta'</li><li>'wiki'</li><li>'bp'</li><li>'all_paths'</li><li>'ABC_APO_paths'</li></ol>\n"
      ],
      "text/latex": [
       "\\begin{enumerate*}\n",
       "\\item 'cyc'\n",
       "\\item 'kegg'\n",
       "\\item 'reactome'\n",
       "\\item 'biocarta'\n",
       "\\item 'wiki'\n",
       "\\item 'bp'\n",
       "\\item 'all\\_paths'\n",
       "\\item 'ABC\\_APO\\_paths'\n",
       "\\end{enumerate*}\n"
      ],
      "text/markdown": [
       "1. 'cyc'\n",
       "2. 'kegg'\n",
       "3. 'reactome'\n",
       "4. 'biocarta'\n",
       "5. 'wiki'\n",
       "6. 'bp'\n",
       "7. 'all_paths'\n",
       "8. 'ABC_APO_paths'\n",
       "\n",
       "\n"
      ],
      "text/plain": [
       "[1] \"cyc\"           \"kegg\"          \"reactome\"      \"biocarta\"     \n",
       "[5] \"wiki\"          \"bp\"            \"all_paths\"     \"ABC_APO_paths\""
      ]
     },
     "metadata": {},
     "output_type": "display_data"
    }
   ],
   "source": [
    "names(pathways)"
   ]
  },
  {
   "cell_type": "code",
   "execution_count": 47,
   "id": "dac68217-52d0-491a-80f2-b7ed87992b12",
   "metadata": {},
   "outputs": [
    {
     "name": "stdout",
     "output_type": "stream",
     "text": [
      "  |======================================================================| 100%\n",
      "\n"
     ]
    }
   ],
   "source": [
    "# enrichment for nfkb genesets\n",
    "pathways = readRDS('../ABCA7lof/processed_data/pathway_databases/pathways.rds')$all_paths\n",
    "                       \n",
    "o = get_gset_names_by_category(c('kappa'), names(pathways))\n",
    "temp2 = pathways[o]\n",
    "out = lapply(names(scores), function(x) cbind(x, fgsea(pathways = temp2, stats = scores[[x]]$scores, minSize = 5, maxSize = 1000, nproc=1, nPermSimple=10000)))\n",
    "names(out) = names(scores)\n",
    "          \n",
    "# save kappa paths\n",
    "\n",
    "saveRDS(out, './processed_data/for_plotting/fgsea_out_all_kappa.rds')"
   ]
  },
  {
   "cell_type": "code",
   "execution_count": 48,
   "id": "47313394-a89e-4b32-8b46-371c7739426e",
   "metadata": {},
   "outputs": [],
   "source": [
    "# save supp table\n",
    "temp = do.call('rbind', out)\n",
    "x = unlist(lapply(temp$leadingEdge, function(x) paste(x, collapse=', ')))\n",
    "temp$leadingEdge = x\n",
    "write.csv(temp, './supplementary_tables/data_s5.csv')"
   ]
  },
  {
   "cell_type": "code",
   "execution_count": 49,
   "id": "4336db22-b44d-4876-8e02-5b0b05382502",
   "metadata": {},
   "outputs": [
    {
     "name": "stdout",
     "output_type": "stream",
     "text": [
      "  |======================================================================| 100%\n",
      "\n",
      "  |======================================================================| 100%\n",
      "\n",
      "  |======================================================================| 100%\n",
      "\n",
      "  |======================================================================| 100%\n",
      "\n"
     ]
    }
   ],
   "source": [
    "# enrichment for lipid genesets\n",
    "pathways = readRDS('../ABCA7lof/processed_data/pathway_databases/pathways.rds')$all_paths\n",
    "\n",
    "o = get_gset_names_by_category(c('sterol', 'lipid', 'glycer', 'fatt', 'ceramide', 'phosphatidyl'), names(pathways))\n",
    "temp2 = pathways[o]\n",
    "out = lapply(names(scores), function(x) cbind(x, fgsea(pathways = temp2, stats = scores[[x]]$scores, minSize = 5, maxSize = 1000, nproc=1, nPermSimple=10000)))\n",
    "names(out) = names(scores)\n",
    "   \n",
    "# save lipid paths\n",
    "res = out$Ex\n",
    "res = res[order(res$pval,decreasing=FALSE),]\n",
    "res = res[res$pval<0.05,]\n",
    "saveRDS(res, './processed_data/for_plotting/fgsea_out_ex_lipid.rds')\n",
    "             \n",
    "# save lipid paths\n",
    "saveRDS(out, './processed_data/for_plotting/fgsea_out_all_lipid.rds')"
   ]
  },
  {
   "cell_type": "code",
   "execution_count": 50,
   "id": "a40bd4d9-a21c-4cb0-88f5-bacdab723348",
   "metadata": {},
   "outputs": [],
   "source": [
    "# save supp table\n",
    "temp = do.call('rbind', out)\n",
    "x = unlist(lapply(temp$leadingEdge, function(x) paste(x, collapse=', ')))\n",
    "temp$leadingEdge = x\n",
    "write.csv(temp, './supplementary_tables/data_s4.csv')"
   ]
  },
  {
   "cell_type": "code",
   "execution_count": 15,
   "id": "edc3345d-a941-47f4-abf3-5c27a7f98f52",
   "metadata": {},
   "outputs": [],
   "source": [
    "# save deg supp table\n",
    "degs = readRDS('./processed_data/single_cell/pseudobulk_degs_0825.rds')$degs_all\n",
    "temp = lapply(names(degs), function(x) cbind(rownames(degs[[x]]$res), x, degs[[x]]$res))\n",
    "temp = do.call('rbind', temp)\n",
    "colnames(temp) = c('gene', 'cell_type', 'logFC', 'AveExpr', 't', 'P.Value', 'adj.P.Val', 'B')\n",
    "rownames(temp) = NULL\n",
    "write.csv(temp, './supplementary_tables/data_s9.csv')"
   ]
  },
  {
   "cell_type": "code",
   "execution_count": 1,
   "id": "8988a876-82e4-4abd-95e4-459ce67b503a",
   "metadata": {},
   "outputs": [],
   "source": [
    "#\n",
    "out = readRDS('./processed_data/for_plotting/fgsea_out_0825.rds')\n",
    "res = do.call('rbind', out)\n",
    "res$score = sign(res$NES) * -log10(res$pval)\n",
    "res = res[order(res$pval,decreasing=FALSE),]\n",
    "res = res[res$pval<0.05,]"
   ]
  },
  {
   "cell_type": "code",
   "execution_count": 4,
   "id": "b64e650d-5c58-43ff-8d2a-20af8b938412",
   "metadata": {},
   "outputs": [],
   "source": [
    "temp = read.csv('./processed_data/for_plotting/leading_edge_0825Ex.csv')"
   ]
  },
  {
   "cell_type": "code",
   "execution_count": 5,
   "id": "cda88265-954d-49ac-9cdc-2522ff8540b4",
   "metadata": {},
   "outputs": [
    {
     "data": {
      "text/html": [
       "<table class=\"dataframe\">\n",
       "<caption>A data.frame: 268 × 2</caption>\n",
       "<thead>\n",
       "\t<tr><th scope=col>X</th><th scope=col>gene</th></tr>\n",
       "\t<tr><th scope=col>&lt;int&gt;</th><th scope=col>&lt;chr&gt;</th></tr>\n",
       "</thead>\n",
       "<tbody>\n",
       "\t<tr><td> 1</td><td>MRE11  </td></tr>\n",
       "\t<tr><td> 2</td><td>CDK5   </td></tr>\n",
       "\t<tr><td> 3</td><td>RNF168 </td></tr>\n",
       "\t<tr><td> 4</td><td>CEP63  </td></tr>\n",
       "\t<tr><td> 5</td><td>SMC1A  </td></tr>\n",
       "\t<tr><td> 6</td><td>ATM    </td></tr>\n",
       "\t<tr><td> 7</td><td>RIF1   </td></tr>\n",
       "\t<tr><td> 8</td><td>NBN    </td></tr>\n",
       "\t<tr><td> 9</td><td>PRKDC  </td></tr>\n",
       "\t<tr><td>10</td><td>RAD50  </td></tr>\n",
       "\t<tr><td>11</td><td>ATF2   </td></tr>\n",
       "\t<tr><td>12</td><td>ATR    </td></tr>\n",
       "\t<tr><td>13</td><td>RNF20  </td></tr>\n",
       "\t<tr><td>14</td><td>TRIM28 </td></tr>\n",
       "\t<tr><td>15</td><td>CASP9  </td></tr>\n",
       "\t<tr><td>16</td><td>PTRH2  </td></tr>\n",
       "\t<tr><td>17</td><td>BID    </td></tr>\n",
       "\t<tr><td>18</td><td>BCL2   </td></tr>\n",
       "\t<tr><td>19</td><td>JPT1   </td></tr>\n",
       "\t<tr><td>20</td><td>NAIP   </td></tr>\n",
       "\t<tr><td>21</td><td>TRAF3  </td></tr>\n",
       "\t<tr><td>22</td><td>MAP3K14</td></tr>\n",
       "\t<tr><td>23</td><td>HRK    </td></tr>\n",
       "\t<tr><td>24</td><td>BIRC2  </td></tr>\n",
       "\t<tr><td>25</td><td>TOLLIP </td></tr>\n",
       "\t<tr><td>26</td><td>CASP3  </td></tr>\n",
       "\t<tr><td>27</td><td>IKBKB  </td></tr>\n",
       "\t<tr><td>28</td><td>ESR2   </td></tr>\n",
       "\t<tr><td>29</td><td>WNT2B  </td></tr>\n",
       "\t<tr><td>30</td><td>FGF5   </td></tr>\n",
       "\t<tr><td>⋮</td><td>⋮</td></tr>\n",
       "\t<tr><td>239</td><td>CCKBR </td></tr>\n",
       "\t<tr><td>240</td><td>OPRL1 </td></tr>\n",
       "\t<tr><td>241</td><td>NPY1R </td></tr>\n",
       "\t<tr><td>242</td><td>C5AR1 </td></tr>\n",
       "\t<tr><td>243</td><td>OPRD1 </td></tr>\n",
       "\t<tr><td>244</td><td>MXD1  </td></tr>\n",
       "\t<tr><td>245</td><td>E2F5  </td></tr>\n",
       "\t<tr><td>246</td><td>EGR1  </td></tr>\n",
       "\t<tr><td>247</td><td>ESRRA </td></tr>\n",
       "\t<tr><td>248</td><td>PBX1  </td></tr>\n",
       "\t<tr><td>249</td><td>H2AFY2</td></tr>\n",
       "\t<tr><td>250</td><td>H2AFZ </td></tr>\n",
       "\t<tr><td>251</td><td>PSMB7 </td></tr>\n",
       "\t<tr><td>252</td><td>PSMB5 </td></tr>\n",
       "\t<tr><td>253</td><td>PSMA7 </td></tr>\n",
       "\t<tr><td>254</td><td>PSMB1 </td></tr>\n",
       "\t<tr><td>255</td><td>PSMA5 </td></tr>\n",
       "\t<tr><td>256</td><td>PSMB3 </td></tr>\n",
       "\t<tr><td>257</td><td>PSMB2 </td></tr>\n",
       "\t<tr><td>258</td><td>PSMA6 </td></tr>\n",
       "\t<tr><td>259</td><td>UBB   </td></tr>\n",
       "\t<tr><td>260</td><td>PSMA2 </td></tr>\n",
       "\t<tr><td>261</td><td>STAG1 </td></tr>\n",
       "\t<tr><td>262</td><td>MSH6  </td></tr>\n",
       "\t<tr><td>263</td><td>NPAT  </td></tr>\n",
       "\t<tr><td>264</td><td>SMC2  </td></tr>\n",
       "\t<tr><td>265</td><td>LDLR  </td></tr>\n",
       "\t<tr><td>266</td><td>SREBF2</td></tr>\n",
       "\t<tr><td>267</td><td>HMGCS1</td></tr>\n",
       "\t<tr><td>268</td><td>CTNNB1</td></tr>\n",
       "</tbody>\n",
       "</table>\n"
      ],
      "text/latex": [
       "A data.frame: 268 × 2\n",
       "\\begin{tabular}{ll}\n",
       " X & gene\\\\\n",
       " <int> & <chr>\\\\\n",
       "\\hline\n",
       "\t  1 & MRE11  \\\\\n",
       "\t  2 & CDK5   \\\\\n",
       "\t  3 & RNF168 \\\\\n",
       "\t  4 & CEP63  \\\\\n",
       "\t  5 & SMC1A  \\\\\n",
       "\t  6 & ATM    \\\\\n",
       "\t  7 & RIF1   \\\\\n",
       "\t  8 & NBN    \\\\\n",
       "\t  9 & PRKDC  \\\\\n",
       "\t 10 & RAD50  \\\\\n",
       "\t 11 & ATF2   \\\\\n",
       "\t 12 & ATR    \\\\\n",
       "\t 13 & RNF20  \\\\\n",
       "\t 14 & TRIM28 \\\\\n",
       "\t 15 & CASP9  \\\\\n",
       "\t 16 & PTRH2  \\\\\n",
       "\t 17 & BID    \\\\\n",
       "\t 18 & BCL2   \\\\\n",
       "\t 19 & JPT1   \\\\\n",
       "\t 20 & NAIP   \\\\\n",
       "\t 21 & TRAF3  \\\\\n",
       "\t 22 & MAP3K14\\\\\n",
       "\t 23 & HRK    \\\\\n",
       "\t 24 & BIRC2  \\\\\n",
       "\t 25 & TOLLIP \\\\\n",
       "\t 26 & CASP3  \\\\\n",
       "\t 27 & IKBKB  \\\\\n",
       "\t 28 & ESR2   \\\\\n",
       "\t 29 & WNT2B  \\\\\n",
       "\t 30 & FGF5   \\\\\n",
       "\t ⋮ & ⋮\\\\\n",
       "\t 239 & CCKBR \\\\\n",
       "\t 240 & OPRL1 \\\\\n",
       "\t 241 & NPY1R \\\\\n",
       "\t 242 & C5AR1 \\\\\n",
       "\t 243 & OPRD1 \\\\\n",
       "\t 244 & MXD1  \\\\\n",
       "\t 245 & E2F5  \\\\\n",
       "\t 246 & EGR1  \\\\\n",
       "\t 247 & ESRRA \\\\\n",
       "\t 248 & PBX1  \\\\\n",
       "\t 249 & H2AFY2\\\\\n",
       "\t 250 & H2AFZ \\\\\n",
       "\t 251 & PSMB7 \\\\\n",
       "\t 252 & PSMB5 \\\\\n",
       "\t 253 & PSMA7 \\\\\n",
       "\t 254 & PSMB1 \\\\\n",
       "\t 255 & PSMA5 \\\\\n",
       "\t 256 & PSMB3 \\\\\n",
       "\t 257 & PSMB2 \\\\\n",
       "\t 258 & PSMA6 \\\\\n",
       "\t 259 & UBB   \\\\\n",
       "\t 260 & PSMA2 \\\\\n",
       "\t 261 & STAG1 \\\\\n",
       "\t 262 & MSH6  \\\\\n",
       "\t 263 & NPAT  \\\\\n",
       "\t 264 & SMC2  \\\\\n",
       "\t 265 & LDLR  \\\\\n",
       "\t 266 & SREBF2\\\\\n",
       "\t 267 & HMGCS1\\\\\n",
       "\t 268 & CTNNB1\\\\\n",
       "\\end{tabular}\n"
      ],
      "text/markdown": [
       "\n",
       "A data.frame: 268 × 2\n",
       "\n",
       "| X &lt;int&gt; | gene &lt;chr&gt; |\n",
       "|---|---|\n",
       "|  1 | MRE11   |\n",
       "|  2 | CDK5    |\n",
       "|  3 | RNF168  |\n",
       "|  4 | CEP63   |\n",
       "|  5 | SMC1A   |\n",
       "|  6 | ATM     |\n",
       "|  7 | RIF1    |\n",
       "|  8 | NBN     |\n",
       "|  9 | PRKDC   |\n",
       "| 10 | RAD50   |\n",
       "| 11 | ATF2    |\n",
       "| 12 | ATR     |\n",
       "| 13 | RNF20   |\n",
       "| 14 | TRIM28  |\n",
       "| 15 | CASP9   |\n",
       "| 16 | PTRH2   |\n",
       "| 17 | BID     |\n",
       "| 18 | BCL2    |\n",
       "| 19 | JPT1    |\n",
       "| 20 | NAIP    |\n",
       "| 21 | TRAF3   |\n",
       "| 22 | MAP3K14 |\n",
       "| 23 | HRK     |\n",
       "| 24 | BIRC2   |\n",
       "| 25 | TOLLIP  |\n",
       "| 26 | CASP3   |\n",
       "| 27 | IKBKB   |\n",
       "| 28 | ESR2    |\n",
       "| 29 | WNT2B   |\n",
       "| 30 | FGF5    |\n",
       "| ⋮ | ⋮ |\n",
       "| 239 | CCKBR  |\n",
       "| 240 | OPRL1  |\n",
       "| 241 | NPY1R  |\n",
       "| 242 | C5AR1  |\n",
       "| 243 | OPRD1  |\n",
       "| 244 | MXD1   |\n",
       "| 245 | E2F5   |\n",
       "| 246 | EGR1   |\n",
       "| 247 | ESRRA  |\n",
       "| 248 | PBX1   |\n",
       "| 249 | H2AFY2 |\n",
       "| 250 | H2AFZ  |\n",
       "| 251 | PSMB7  |\n",
       "| 252 | PSMB5  |\n",
       "| 253 | PSMA7  |\n",
       "| 254 | PSMB1  |\n",
       "| 255 | PSMA5  |\n",
       "| 256 | PSMB3  |\n",
       "| 257 | PSMB2  |\n",
       "| 258 | PSMA6  |\n",
       "| 259 | UBB    |\n",
       "| 260 | PSMA2  |\n",
       "| 261 | STAG1  |\n",
       "| 262 | MSH6   |\n",
       "| 263 | NPAT   |\n",
       "| 264 | SMC2   |\n",
       "| 265 | LDLR   |\n",
       "| 266 | SREBF2 |\n",
       "| 267 | HMGCS1 |\n",
       "| 268 | CTNNB1 |\n",
       "\n"
      ],
      "text/plain": [
       "    X   gene   \n",
       "1    1  MRE11  \n",
       "2    2  CDK5   \n",
       "3    3  RNF168 \n",
       "4    4  CEP63  \n",
       "5    5  SMC1A  \n",
       "6    6  ATM    \n",
       "7    7  RIF1   \n",
       "8    8  NBN    \n",
       "9    9  PRKDC  \n",
       "10  10  RAD50  \n",
       "11  11  ATF2   \n",
       "12  12  ATR    \n",
       "13  13  RNF20  \n",
       "14  14  TRIM28 \n",
       "15  15  CASP9  \n",
       "16  16  PTRH2  \n",
       "17  17  BID    \n",
       "18  18  BCL2   \n",
       "19  19  JPT1   \n",
       "20  20  NAIP   \n",
       "21  21  TRAF3  \n",
       "22  22  MAP3K14\n",
       "23  23  HRK    \n",
       "24  24  BIRC2  \n",
       "25  25  TOLLIP \n",
       "26  26  CASP3  \n",
       "27  27  IKBKB  \n",
       "28  28  ESR2   \n",
       "29  29  WNT2B  \n",
       "30  30  FGF5   \n",
       "⋮   ⋮   ⋮      \n",
       "239 239 CCKBR  \n",
       "240 240 OPRL1  \n",
       "241 241 NPY1R  \n",
       "242 242 C5AR1  \n",
       "243 243 OPRD1  \n",
       "244 244 MXD1   \n",
       "245 245 E2F5   \n",
       "246 246 EGR1   \n",
       "247 247 ESRRA  \n",
       "248 248 PBX1   \n",
       "249 249 H2AFY2 \n",
       "250 250 H2AFZ  \n",
       "251 251 PSMB7  \n",
       "252 252 PSMB5  \n",
       "253 253 PSMA7  \n",
       "254 254 PSMB1  \n",
       "255 255 PSMA5  \n",
       "256 256 PSMB3  \n",
       "257 257 PSMB2  \n",
       "258 258 PSMA6  \n",
       "259 259 UBB    \n",
       "260 260 PSMA2  \n",
       "261 261 STAG1  \n",
       "262 262 MSH6   \n",
       "263 263 NPAT   \n",
       "264 264 SMC2   \n",
       "265 265 LDLR   \n",
       "266 266 SREBF2 \n",
       "267 267 HMGCS1 \n",
       "268 268 CTNNB1 "
      ]
     },
     "metadata": {},
     "output_type": "display_data"
    }
   ],
   "source": [
    "temp"
   ]
  }
 ],
 "metadata": {
  "kernelspec": {
   "display_name": "R [conda env:.conda-r_env]",
   "language": "R",
   "name": "conda-env-.conda-r_env-r"
  },
  "language_info": {
   "codemirror_mode": "r",
   "file_extension": ".r",
   "mimetype": "text/x-r-source",
   "name": "R",
   "pygments_lexer": "r",
   "version": "4.2.3"
  }
 },
 "nbformat": 4,
 "nbformat_minor": 5
}

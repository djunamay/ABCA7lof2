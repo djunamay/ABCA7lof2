{
 "cells": [
  {
   "cell_type": "code",
   "execution_count": 2,
   "id": "1580ee48-d241-4f21-8579-30e7eb785a9f",
   "metadata": {},
   "outputs": [],
   "source": [
    "import pandas as pd\n",
    "import numpy as np"
   ]
  },
  {
   "cell_type": "markdown",
   "id": "9abfae96-e7f8-46be-84c6-d9d49223cab3",
   "metadata": {},
   "source": [
    "Process marker genes downloaded from: https://panglaodb.se/markers.html?cell_type=%27choose%27"
   ]
  },
  {
   "cell_type": "code",
   "execution_count": 7,
   "id": "aa8f3b36-6a97-4238-9759-bb0efb9ebf9f",
   "metadata": {},
   "outputs": [
    {
     "name": "stderr",
     "output_type": "stream",
     "text": [
      "/state/partition1/slurm_tmp/23496547.0.0/ipykernel_40692/3382450847.py:13: SettingWithCopyWarning: \n",
      "A value is trying to be set on a copy of a slice from a DataFrame.\n",
      "Try using .loc[row_indexer,col_indexer] = value instead\n",
      "\n",
      "See the caveats in the documentation: https://pandas.pydata.org/pandas-docs/stable/user_guide/indexing.html#returning-a-view-versus-a-copy\n",
      "  brain_markers['system'] = 'brain'\n",
      "/state/partition1/slurm_tmp/23496547.0.0/ipykernel_40692/3382450847.py:27: SettingWithCopyWarning: \n",
      "A value is trying to be set on a copy of a slice from a DataFrame.\n",
      "Try using .loc[row_indexer,col_indexer] = value instead\n",
      "\n",
      "See the caveats in the documentation: https://pandas.pydata.org/pandas-docs/stable/user_guide/indexing.html#returning-a-view-versus-a-copy\n",
      "  immune_markers['system'] = 'Immune'\n",
      "/state/partition1/slurm_tmp/23496547.0.0/ipykernel_40692/3382450847.py:40: SettingWithCopyWarning: \n",
      "A value is trying to be set on a copy of a slice from a DataFrame.\n",
      "Try using .loc[row_indexer,col_indexer] = value instead\n",
      "\n",
      "See the caveats in the documentation: https://pandas.pydata.org/pandas-docs/stable/user_guide/indexing.html#returning-a-view-versus-a-copy\n",
      "  vascular_markers['system'] = 'Vasculature'\n"
     ]
    }
   ],
   "source": [
    "# process the celltype markers brain\n",
    "data = pd.read_csv('./raw_data/genesets/PanglaoDB_markers_27_Mar_2020.tsv', sep = '\\t')\n",
    "data = data[(data['organ']=='Brain')]\n",
    "data = data[(data['species']=='Mm Hs') | (data['species']=='Hs')]\n",
    "\n",
    "keys = np.unique(data['cell type'])\n",
    "values = np.array(['other', 'other', 'Astrocytes', 'other', 'other', 'Excitatory neurons', 'other', 'other', 'other', 'Inhibitory neurons', 'Excitatory neurons', 'other', 'other', 'Inhibitory neurons', 'other', 'Microglia', 'other', 'other', 'other', 'other', 'other', 'Excitatory neurons', 'OPCs', 'Oligodendrocytes', 'other', 'other', 'Excitatory neurons', 'other', 'other', 'other', 'other', 'Excitatory neurons', 'other', 'other'])\n",
    "dictionary = dict(zip(keys, values))\n",
    "\n",
    "data['major_celltype']=[dictionary[x] for x in data['cell type']]\n",
    "data['marker'] = data['official gene symbol']\n",
    "brain_markers = data[['marker', 'major_celltype']]\n",
    "brain_markers['system'] = 'brain'\n",
    "\n",
    "# immune markers\n",
    "data = pd.read_csv('./raw_data/genesets/PanglaoDB_markers_27_Mar_2020.tsv', sep = '\\t')\n",
    "data = data[(data['organ']=='Immune system')]\n",
    "data = data[(data['species']=='Mm Hs') | (data['species']=='Hs')]\n",
    "\n",
    "keys = np.unique(data['cell type'])\n",
    "values = np.array(['B cells', 'B cells', 'B cells', 'Myeloid', 'Myeloid', 'Myeloid', 'T cells', 'Myeloid', 'Myeloid', 'Myeloid', 'Myeloid', 'Myeloid', 'NK cells', 'T cells', 'Myeloid', 'other', 'other', 'other', 'other', 'T cells', 'T cells', 'T cells', 'T cells', 'T cells', 'T cells'])\n",
    "dictionary = dict(zip(keys, values))\n",
    "\n",
    "data['major_celltype']=[dictionary[x] for x in data['cell type']]\n",
    "data['marker'] = data['official gene symbol']\n",
    "immune_markers = data[['marker', 'major_celltype']]\n",
    "immune_markers['system'] = 'Immune'\n",
    "\n",
    "data = pd.read_csv('./raw_data/genesets/PanglaoDB_markers_27_Mar_2020.tsv', sep = '\\t')\n",
    "data = data[(data['organ']=='Vasculature')]\n",
    "data = data[(data['species']=='Mm Hs') | (data['species']=='Hs')]\n",
    "keys = np.unique(data['cell type'])\n",
    "\n",
    "values = np.array(['Endothelial cells', 'Endothelial cells', 'Endothelial cells', 'Pericytes'])\n",
    "dictionary = dict(zip(keys, values))\n",
    "\n",
    "data['major_celltype']=[dictionary[x] for x in data['cell type']]\n",
    "data['marker'] = data['official gene symbol']\n",
    "vascular_markers = data[['marker', 'major_celltype']]\n",
    "vascular_markers['system'] = 'Vasculature'\n",
    "all_markers = pd.concat((brain_markers, immune_markers, vascular_markers), axis=0)\n",
    "all_markers = all_markers[all_markers['major_celltype']!='other']\n",
    "all_markers.to_csv('./processed_data/single_cell/all_markers.csv')"
   ]
  }
 ],
 "metadata": {
  "kernelspec": {
   "display_name": "Python 3 (ipykernel)",
   "language": "python",
   "name": "python3"
  },
  "language_info": {
   "codemirror_mode": {
    "name": "ipython",
    "version": 3
   },
   "file_extension": ".py",
   "mimetype": "text/x-python",
   "name": "python",
   "nbconvert_exporter": "python",
   "pygments_lexer": "ipython3",
   "version": "3.8.13"
  }
 },
 "nbformat": 4,
 "nbformat_minor": 5
}

{
 "cells": [
  {
   "cell_type": "markdown",
   "id": "03f31fb0-3835-49bf-8b2e-19fc9939e7d6",
   "metadata": {},
   "source": [
    "<u>**ABCA7 protein levels by genotype**</u>\n",
    "<a name=\"protein_levels\"></a>"
   ]
  },
  {
   "cell_type": "code",
   "execution_count": 1,
   "id": "790eae60-b69c-4f1d-a4f7-de0c81b5ecc0",
   "metadata": {},
   "outputs": [
    {
     "data": {
      "text/html": [
       "'tissue used for TMT proteomics = dorsolateral prefrontal cortex'"
      ],
      "text/latex": [
       "'tissue used for TMT proteomics = dorsolateral prefrontal cortex'"
      ],
      "text/markdown": [
       "'tissue used for TMT proteomics = dorsolateral prefrontal cortex'"
      ],
      "text/plain": [
       "[1] \"tissue used for TMT proteomics = dorsolateral prefrontal cortex\""
      ]
     },
     "metadata": {},
     "output_type": "display_data"
    }
   ],
   "source": [
    "# intitial check\n",
    "meta = read.csv('./processed_data/rosmap_proteomics//0.Traits-AGE_CENSORED.csv')\n",
    "biospecimen = read.csv('./raw_data/metadata/ROSMAP_biospecimen_metadata.csv')\n",
    "biospecimen_subset = biospecimen[biospecimen$assay=='TMT quantitation',]\n",
    "rownames(biospecimen_subset) = biospecimen_subset$specimenID\n",
    "biospecimen_subset = biospecimen_subset[meta$SpecimenID,]\n",
    "biospecimen_subset = biospecimen_subset[biospecimen_subset$individualID!='GISpool',]\n",
    "paste0('tissue used for TMT proteomics = ', unique(biospecimen_subset$tissue))"
   ]
  },
  {
   "cell_type": "code",
   "execution_count": 34,
   "id": "3200e914-5cdb-406a-972e-1f1ca90caa0a",
   "metadata": {},
   "outputs": [],
   "source": [
    "# load data\n",
    "data = read.csv('./processed_data/rosmap_proteomics//3.cleanDat.csv', row.names = 'X')\n",
    "meta = read.csv('./processed_data/rosmap_proteomics//0.Traits-AGE_CENSORED.csv')\n",
    "all_samples_lof_genotypes = read.csv('./processed_data/rosmap_proteomics/all_samples_lof_genotypes.csv', check.names=F)\n",
    "all_samples_lof_summary = read.csv('./processed_data/rosmap_proteomics/all_samples_lof_summary.csv', row.names = 'X')"
   ]
  },
  {
   "cell_type": "code",
   "execution_count": 26,
   "id": "a20cbdb7-e03c-4367-8c13-bbb44f4a4695",
   "metadata": {},
   "outputs": [],
   "source": [
    "all_meta = merge(meta, all_samples_lof_summary, by = 'projid')"
   ]
  },
  {
   "cell_type": "code",
   "execution_count": 51,
   "id": "91fd5866-8dda-4cca-8da0-8eb2675ab49b",
   "metadata": {},
   "outputs": [],
   "source": [
    "temp = all_samples_lof_genotypes[all_samples_lof_genotypes$GENE=='ABCA7',]\n",
    "temp2 = temp[,colnames(temp)%in%all_meta[all_meta$ABCA7LoF==1,'projid']]\n",
    "index = rowSums(temp2=='0/1')>0\n",
    "var_info = cbind(temp[index,1:18], temp2[index,])"
   ]
  },
  {
   "cell_type": "code",
   "execution_count": 89,
   "id": "39c39ae0-0546-4bee-8c43-65eae1bc4fff",
   "metadata": {},
   "outputs": [],
   "source": [
    "all_data = readRDS('./processed_data/single_cell/stats_input_data.rds')\n",
    "summary = all_data$summary\n",
    "\n",
    "# plot genes of interest\n",
    "rownames(all_meta) = all_meta$SampleID\n",
    "all_meta = all_meta[rownames(all_meta)%in%colnames(data),]\n",
    "all_meta$grp = all_meta$projid%in%rownames(summary)\n",
    "df = as.data.frame(t(data[startsWith(rownames(data), c('ABCA7')),all_meta$SampleID]))\n",
    "df$RBFOX3 = (t(data[startsWith(rownames(data), c('RBFOX3')),all_meta$SampleID]))\n",
    "df$LOF = all_meta[rownames(df), 'ABCA7LoF']\n",
    "df$grp = all_meta[rownames(df), 'grp']\n",
    "\n",
    "colnames(df) = c('ABCA7', 'RBFOX3','LOF', 'grp')\n",
    "df$projid = all_meta[rownames(df), 'projid']\n",
    "df = na.omit(df)"
   ]
  },
  {
   "cell_type": "code",
   "execution_count": 100,
   "id": "51106c42-873d-493f-95fd-7e977ef71ace",
   "metadata": {},
   "outputs": [],
   "source": [
    "library(reshape2)\n",
    "temp = melt(var_info[, c('HGVS_C', 84653463,20201891,20201927,50403446,71648351,50105301)], id='HGVS_C')\n",
    "temp = temp[temp$value=='0/1',]\n",
    "rownames(temp) = temp$variable\n",
    "df$var = ifelse(df$projid%in%rownames(temp), temp$HGVS_C, '')"
   ]
  },
  {
   "cell_type": "code",
   "execution_count": 101,
   "id": "89da2045-9ef1-45b0-a6dc-8b693ee96d73",
   "metadata": {},
   "outputs": [],
   "source": [
    "write.csv(df, './processed_data//for_plotting/ABCA7_proteomics.csv')"
   ]
  },
  {
   "cell_type": "markdown",
   "id": "1d15a9f3-6340-4115-aa4d-bc4d9cf2c655",
   "metadata": {},
   "source": [
    "<u>**Marker genes**</u>\n",
    "<a name=\"marker genes\"></a>"
   ]
  },
  {
   "cell_type": "code",
   "execution_count": 119,
   "id": "2ca6bfb2-99e4-47d0-90e1-28a54fdbe993",
   "metadata": {
    "tags": []
   },
   "outputs": [
    {
     "name": "stderr",
     "output_type": "stream",
     "text": [
      "\n",
      "Attaching package: 'tidyr'\n",
      "\n",
      "\n",
      "The following object is masked from 'package:S4Vectors':\n",
      "\n",
      "    expand\n",
      "\n",
      "\n",
      "The following objects are masked from 'package:Matrix':\n",
      "\n",
      "    expand, pack, unpack\n",
      "\n",
      "\n",
      "The following object is masked from 'package:reshape2':\n",
      "\n",
      "    smiths\n",
      "\n",
      "\n"
     ]
    }
   ],
   "source": [
    "library(reshape2)\n",
    "library(SingleCellExperiment)\n",
    "library(tidyr)"
   ]
  },
  {
   "cell_type": "code",
   "execution_count": 103,
   "id": "a10af695-b6f1-4927-98f9-628216f4dec9",
   "metadata": {},
   "outputs": [],
   "source": [
    "ace_dir = './processed_data/single_cell/sce.rds'\n",
    "ace = readRDS(ace_dir)"
   ]
  },
  {
   "cell_type": "code",
   "execution_count": 116,
   "id": "ad8843c9-8c39-4f14-b310-cef35043a7e4",
   "metadata": {},
   "outputs": [
    {
     "name": "stdout",
     "output_type": "stream",
     "text": [
      "[1] \"getting marker genes\"\n",
      "[1] \"melting\"\n"
     ]
    }
   ],
   "source": [
    "marker_genes = c('SYT1', 'NRGN', 'GAD1', 'AQP4', 'CSF1R', 'MBP', 'PLP1', 'VCAN',  'PDGFRB', 'FLT1')\n",
    "print('getting marker genes')\n",
    "marker_logcounts = logcounts(ace)[marker_genes,] \n",
    "print('melting')\n",
    "marker_logcounts_melted = melt(as.matrix(marker_logcounts))\n",
    "\n",
    "marker_logcounts_melted$celltype = colData(ace)[marker_logcounts_melted$Var2,'annotations']\n",
    "\n",
    "df = as.data.frame(cbind(ace@colData$projid, ace@colData$annotations, ace@colData$ABCA7LoF))\n",
    "colnames(df) = c('projid', 'celltype', 'LOF')\n",
    "cells = unique(df$celltype)\n",
    "df$celltype = factor(df$celltype, levels = cells[order(cells)])"
   ]
  },
  {
   "cell_type": "code",
   "execution_count": 117,
   "id": "6d66bedd-80c3-4f90-a96a-cbda0af2fe6b",
   "metadata": {},
   "outputs": [],
   "source": [
    "write.csv(df, './processed_data/for_plotting/celltype_annos_qc.csv')\n",
    "write.csv(marker_logcounts_melted, './processed_data/for_plotting/marker_logcounts_melted.csv')"
   ]
  },
  {
   "cell_type": "code",
   "execution_count": 121,
   "id": "cc143f47-fdd2-471f-9b73-5057c550351e",
   "metadata": {},
   "outputs": [],
   "source": [
    "# show individual-level correlation plot\n",
    "all_data = readRDS('./processed_data/single_cell/stats_input_data.rds')\n",
    "\n",
    "logcounts_ind = all_data$av_logcounts_by_ind_full_matrix\n",
    "anno_names = unlist(lapply(1:length(colnames(logcounts_ind)), function(x) strsplit(colnames(logcounts_ind)[x], '[.]')[[1]][[1]]))\n",
    "ind_cor = cor(logcounts_ind)\n",
    "\n",
    "# show cross correlations\n",
    "df = melt(ind_cor)[melt(lower.tri(ind_cor, diag = F))$value,]\n",
    "df = df %>% separate(\n",
    "  .,\n",
    "  'Var1',\n",
    "  c('celltype1', 'projid1'),\n",
    "  sep ='[.]') %>% separate(\n",
    "  .,\n",
    "  'Var2',\n",
    "  c('celltype2', 'projid2'),\n",
    "  sep ='[.]') \n",
    "df_subset = df[(df$projid1!=df$projid2) & (df$celltype1 == df$celltype2),]\n",
    "df_subset$value = as.numeric(df_subset$value)\n",
    "\n",
    "means = aggregate(df_subset$value, list(df_subset$celltype1), 'mean')\n",
    "order = means[order(means$x, decreasing = T),'Group.1']\n",
    "df_subset$celltype1 = factor(df_subset$celltype1, levels = order)\n",
    "                                               \n",
    "# show median number of cells per subject detected\n",
    "x = as.matrix(table(ace$projid, ace$annotations))\n",
    "df = as.data.frame(apply(x, 2, function(i) median(i)))\n",
    "colnames(df) = 'median'\n",
    "df$celltype = rownames(df)\n",
    "df$celltype = factor(df$celltype, levels = df$celltype[order(df$median, decreasing = T)])\n",
    "\n",
    "# show number of individuals with >20 cells per cell type\n",
    "x = as.matrix(table(ace$projid, ace$annotations))\n",
    "df1 = as.data.frame(colSums(x>20))\n",
    "colnames(df1) = 'N'\n",
    "df1$celltype = rownames(df1)\n",
    "df1$celltype = factor(df1$celltype, levels = df1$celltype[order(df1$N, decreasing = T)])\n",
    "\n",
    "# show N subjects with no cells detected\n",
    "x = as.matrix(table(ace$projid, ace$annotations))\n",
    "df2 = as.data.frame(colSums(x==0))\n",
    "colnames(df2) = 'N'\n",
    "df2$celltype = rownames(df)\n",
    "df2$celltype = factor(df2$celltype, levels = df2$celltype[order(df2$N, decreasing = T)])\n"
   ]
  },
  {
   "cell_type": "code",
   "execution_count": 122,
   "id": "a729e0fe-86e4-4708-b41c-6cd936837301",
   "metadata": {},
   "outputs": [],
   "source": [
    "data = list('ind_cor'=ind_cor, 'cross_cors'=df_subset, 'median_cells'=df, 'N_cells'=df1, 'no_cells'=df2)"
   ]
  },
  {
   "cell_type": "code",
   "execution_count": 123,
   "id": "e389cbaf-02e4-415e-b434-b6c0544006de",
   "metadata": {},
   "outputs": [],
   "source": [
    "saveRDS(data, './processed_data/for_plotting/celltype_anno_counts.rds')"
   ]
  }
 ],
 "metadata": {
  "kernelspec": {
   "display_name": "R [conda env:.conda-r_env]",
   "language": "R",
   "name": "conda-env-.conda-r_env-r"
  },
  "language_info": {
   "codemirror_mode": "r",
   "file_extension": ".r",
   "mimetype": "text/x-r-source",
   "name": "R",
   "pygments_lexer": "r",
   "version": "4.2.3"
  }
 },
 "nbformat": 4,
 "nbformat_minor": 5
}

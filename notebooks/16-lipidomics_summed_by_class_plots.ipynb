{
 "cells": [
  {
   "cell_type": "markdown",
   "id": "3ada123e-96a9-4a18-b64e-54e9619c9265",
   "metadata": {},
   "source": [
    "#### additional lipidomic plots"
   ]
  },
  {
   "cell_type": "code",
   "execution_count": null,
   "id": "9e8f7359-23ad-4fec-a04a-129b5fc4b6a1",
   "metadata": {},
   "outputs": [],
   "source": [
    "library(ggplot2)\n",
    "library(ggsignif)"
   ]
  },
  {
   "cell_type": "code",
   "execution_count": 300,
   "id": "f66b67da-fa49-4c72-a7c3-da3e45270c50",
   "metadata": {},
   "outputs": [],
   "source": [
    "# load PM lipidomic data\n",
    "data = readRDS('../../ABCA7lof//processed_data/for_plotting/lipidomics.rds')\n",
    "d = data$pm_all\n",
    "cts = assays(d)$counts\n",
    "class = rowData(d)$lipid.class\n",
    "cts$class = class\n",
    "\n",
    "# sum lipidomic data by class\n",
    "result <- aggregate(. ~ class, data = cts[cts$class %in% unique(class), ], sum)\n",
    "rownames(result) = result$class\n",
    "result$class = NULL\n",
    "df =  as.data.frame(t(result))\n",
    "total = rowSums(df)\n",
    "genotype = colData(d)$LOF_status\n",
    "df = as.data.frame(cbind(df, genotype, total))"
   ]
  },
  {
   "cell_type": "code",
   "execution_count": 303,
   "id": "d0f5a489-0b50-4d51-9f09-a99cc9943ac5",
   "metadata": {},
   "outputs": [
    {
     "data": {
      "text/html": [
       "<table class=\"dataframe\">\n",
       "<caption>A data.frame: 6 × 51</caption>\n",
       "<thead>\n",
       "\t<tr><th></th><th scope=col>AcCa</th><th scope=col>AcHexChE</th><th scope=col>AEA</th><th scope=col>CarE</th><th scope=col>Cer</th><th scope=col>CerG3GNAc1</th><th scope=col>ChE</th><th scope=col>CL</th><th scope=col>Co</th><th scope=col>cPA</th><th scope=col>⋯</th><th scope=col>SPH</th><th scope=col>SPHP</th><th scope=col>SQDG</th><th scope=col>ST</th><th scope=col>StE</th><th scope=col>TG</th><th scope=col>WE</th><th scope=col>ZyE</th><th scope=col>genotype</th><th scope=col>total</th></tr>\n",
       "\t<tr><th></th><th scope=col>&lt;dbl&gt;</th><th scope=col>&lt;dbl&gt;</th><th scope=col>&lt;dbl&gt;</th><th scope=col>&lt;dbl&gt;</th><th scope=col>&lt;dbl&gt;</th><th scope=col>&lt;dbl&gt;</th><th scope=col>&lt;dbl&gt;</th><th scope=col>&lt;dbl&gt;</th><th scope=col>&lt;dbl&gt;</th><th scope=col>&lt;dbl&gt;</th><th scope=col>⋯</th><th scope=col>&lt;dbl&gt;</th><th scope=col>&lt;dbl&gt;</th><th scope=col>&lt;dbl&gt;</th><th scope=col>&lt;dbl&gt;</th><th scope=col>&lt;dbl&gt;</th><th scope=col>&lt;dbl&gt;</th><th scope=col>&lt;dbl&gt;</th><th scope=col>&lt;dbl&gt;</th><th scope=col>&lt;fct&gt;</th><th scope=col>&lt;dbl&gt;</th></tr>\n",
       "</thead>\n",
       "<tbody>\n",
       "\t<tr><th scope=row>1A</th><td>6.2300e+10</td><td>3e+08</td><td>9.10e+09</td><td>7.0e+07</td><td>386842200000</td><td>8.56e+09</td><td>4.0020e+11</td><td>3.52151e+11</td><td>1.2e+10</td><td>2e+08</td><td>⋯</td><td>8.100e+09</td><td>0e+00</td><td>4.401e+09</td><td>1.0e+08</td><td>5e+08</td><td> 87894000000</td><td>5.650e+10</td><td>4.4900e+10</td><td>CON</td><td>1.250676e+13</td></tr>\n",
       "\t<tr><th scope=row>5C</th><td>3.1270e+10</td><td>4e+07</td><td>6.07e+09</td><td>1.0e+08</td><td>228500000000</td><td>7.30e+09</td><td>4.1020e+11</td><td>5.36492e+11</td><td>5.7e+10</td><td>2e+08</td><td>⋯</td><td>5.080e+09</td><td>7e+06</td><td>8.740e+08</td><td>2.4e+08</td><td>2e+08</td><td>682171000000</td><td>1.200e+08</td><td>1.3900e+10</td><td>CON</td><td>1.211328e+13</td></tr>\n",
       "\t<tr><th scope=row>7D</th><td>3.6670e+10</td><td>5e+07</td><td>9.90e+09</td><td>1.0e+08</td><td>302010000000</td><td>6.30e+09</td><td>4.2890e+11</td><td>5.38716e+11</td><td>6.9e+10</td><td>2e+08</td><td>⋯</td><td>8.300e+09</td><td>0e+00</td><td>1.730e+09</td><td>6.0e+08</td><td>1e+08</td><td>411700600000</td><td>1.615e+10</td><td>1.2820e+10</td><td>CON</td><td>1.222214e+13</td></tr>\n",
       "\t<tr><th scope=row>9E</th><td>5.5391e+10</td><td>1e+08</td><td>7.70e+09</td><td>3.6e+08</td><td>468780000000</td><td>6.69e+09</td><td>5.0900e+11</td><td>5.44110e+11</td><td>6.8e+10</td><td>5e+08</td><td>⋯</td><td>6.720e+09</td><td>9e+07</td><td>2.170e+09</td><td>4.0e+08</td><td>2e+08</td><td>314180000000</td><td>1.540e+10</td><td>1.2110e+10</td><td>CON</td><td>1.285725e+13</td></tr>\n",
       "\t<tr><th scope=row>13G</th><td>4.6470e+10</td><td>8e+07</td><td>6.41e+09</td><td>2.5e+08</td><td>372950000000</td><td>4.40e+09</td><td>5.0240e+11</td><td>5.61390e+11</td><td>7.6e+10</td><td>1e+08</td><td>⋯</td><td>5.150e+09</td><td>0e+00</td><td>1.267e+09</td><td>2.0e+08</td><td>5e+08</td><td>519490000000</td><td>8.000e+08</td><td>1.1200e+10</td><td>CON</td><td>1.309803e+13</td></tr>\n",
       "\t<tr><th scope=row>19J</th><td>7.4652e+10</td><td>1e+08</td><td>8.53e+09</td><td>6.0e+08</td><td>381990000000</td><td>4.30e+09</td><td>5.0834e+11</td><td>4.73250e+11</td><td>5.2e+10</td><td>8e+08</td><td>⋯</td><td>6.476e+09</td><td>2e+06</td><td>2.070e+09</td><td>2.0e+08</td><td>2e+08</td><td>328610000000</td><td>1.608e+10</td><td>1.6104e+10</td><td>CON</td><td>1.212852e+13</td></tr>\n",
       "</tbody>\n",
       "</table>\n"
      ],
      "text/latex": [
       "A data.frame: 6 × 51\n",
       "\\begin{tabular}{r|lllllllllllllllllllll}\n",
       "  & AcCa & AcHexChE & AEA & CarE & Cer & CerG3GNAc1 & ChE & CL & Co & cPA & ⋯ & SPH & SPHP & SQDG & ST & StE & TG & WE & ZyE & genotype & total\\\\\n",
       "  & <dbl> & <dbl> & <dbl> & <dbl> & <dbl> & <dbl> & <dbl> & <dbl> & <dbl> & <dbl> & ⋯ & <dbl> & <dbl> & <dbl> & <dbl> & <dbl> & <dbl> & <dbl> & <dbl> & <fct> & <dbl>\\\\\n",
       "\\hline\n",
       "\t1A & 6.2300e+10 & 3e+08 & 9.10e+09 & 7.0e+07 & 386842200000 & 8.56e+09 & 4.0020e+11 & 3.52151e+11 & 1.2e+10 & 2e+08 & ⋯ & 8.100e+09 & 0e+00 & 4.401e+09 & 1.0e+08 & 5e+08 &  87894000000 & 5.650e+10 & 4.4900e+10 & CON & 1.250676e+13\\\\\n",
       "\t5C & 3.1270e+10 & 4e+07 & 6.07e+09 & 1.0e+08 & 228500000000 & 7.30e+09 & 4.1020e+11 & 5.36492e+11 & 5.7e+10 & 2e+08 & ⋯ & 5.080e+09 & 7e+06 & 8.740e+08 & 2.4e+08 & 2e+08 & 682171000000 & 1.200e+08 & 1.3900e+10 & CON & 1.211328e+13\\\\\n",
       "\t7D & 3.6670e+10 & 5e+07 & 9.90e+09 & 1.0e+08 & 302010000000 & 6.30e+09 & 4.2890e+11 & 5.38716e+11 & 6.9e+10 & 2e+08 & ⋯ & 8.300e+09 & 0e+00 & 1.730e+09 & 6.0e+08 & 1e+08 & 411700600000 & 1.615e+10 & 1.2820e+10 & CON & 1.222214e+13\\\\\n",
       "\t9E & 5.5391e+10 & 1e+08 & 7.70e+09 & 3.6e+08 & 468780000000 & 6.69e+09 & 5.0900e+11 & 5.44110e+11 & 6.8e+10 & 5e+08 & ⋯ & 6.720e+09 & 9e+07 & 2.170e+09 & 4.0e+08 & 2e+08 & 314180000000 & 1.540e+10 & 1.2110e+10 & CON & 1.285725e+13\\\\\n",
       "\t13G & 4.6470e+10 & 8e+07 & 6.41e+09 & 2.5e+08 & 372950000000 & 4.40e+09 & 5.0240e+11 & 5.61390e+11 & 7.6e+10 & 1e+08 & ⋯ & 5.150e+09 & 0e+00 & 1.267e+09 & 2.0e+08 & 5e+08 & 519490000000 & 8.000e+08 & 1.1200e+10 & CON & 1.309803e+13\\\\\n",
       "\t19J & 7.4652e+10 & 1e+08 & 8.53e+09 & 6.0e+08 & 381990000000 & 4.30e+09 & 5.0834e+11 & 4.73250e+11 & 5.2e+10 & 8e+08 & ⋯ & 6.476e+09 & 2e+06 & 2.070e+09 & 2.0e+08 & 2e+08 & 328610000000 & 1.608e+10 & 1.6104e+10 & CON & 1.212852e+13\\\\\n",
       "\\end{tabular}\n"
      ],
      "text/markdown": [
       "\n",
       "A data.frame: 6 × 51\n",
       "\n",
       "| <!--/--> | AcCa &lt;dbl&gt; | AcHexChE &lt;dbl&gt; | AEA &lt;dbl&gt; | CarE &lt;dbl&gt; | Cer &lt;dbl&gt; | CerG3GNAc1 &lt;dbl&gt; | ChE &lt;dbl&gt; | CL &lt;dbl&gt; | Co &lt;dbl&gt; | cPA &lt;dbl&gt; | ⋯ ⋯ | SPH &lt;dbl&gt; | SPHP &lt;dbl&gt; | SQDG &lt;dbl&gt; | ST &lt;dbl&gt; | StE &lt;dbl&gt; | TG &lt;dbl&gt; | WE &lt;dbl&gt; | ZyE &lt;dbl&gt; | genotype &lt;fct&gt; | total &lt;dbl&gt; |\n",
       "|---|---|---|---|---|---|---|---|---|---|---|---|---|---|---|---|---|---|---|---|---|---|\n",
       "| 1A | 6.2300e+10 | 3e+08 | 9.10e+09 | 7.0e+07 | 386842200000 | 8.56e+09 | 4.0020e+11 | 3.52151e+11 | 1.2e+10 | 2e+08 | ⋯ | 8.100e+09 | 0e+00 | 4.401e+09 | 1.0e+08 | 5e+08 |  87894000000 | 5.650e+10 | 4.4900e+10 | CON | 1.250676e+13 |\n",
       "| 5C | 3.1270e+10 | 4e+07 | 6.07e+09 | 1.0e+08 | 228500000000 | 7.30e+09 | 4.1020e+11 | 5.36492e+11 | 5.7e+10 | 2e+08 | ⋯ | 5.080e+09 | 7e+06 | 8.740e+08 | 2.4e+08 | 2e+08 | 682171000000 | 1.200e+08 | 1.3900e+10 | CON | 1.211328e+13 |\n",
       "| 7D | 3.6670e+10 | 5e+07 | 9.90e+09 | 1.0e+08 | 302010000000 | 6.30e+09 | 4.2890e+11 | 5.38716e+11 | 6.9e+10 | 2e+08 | ⋯ | 8.300e+09 | 0e+00 | 1.730e+09 | 6.0e+08 | 1e+08 | 411700600000 | 1.615e+10 | 1.2820e+10 | CON | 1.222214e+13 |\n",
       "| 9E | 5.5391e+10 | 1e+08 | 7.70e+09 | 3.6e+08 | 468780000000 | 6.69e+09 | 5.0900e+11 | 5.44110e+11 | 6.8e+10 | 5e+08 | ⋯ | 6.720e+09 | 9e+07 | 2.170e+09 | 4.0e+08 | 2e+08 | 314180000000 | 1.540e+10 | 1.2110e+10 | CON | 1.285725e+13 |\n",
       "| 13G | 4.6470e+10 | 8e+07 | 6.41e+09 | 2.5e+08 | 372950000000 | 4.40e+09 | 5.0240e+11 | 5.61390e+11 | 7.6e+10 | 1e+08 | ⋯ | 5.150e+09 | 0e+00 | 1.267e+09 | 2.0e+08 | 5e+08 | 519490000000 | 8.000e+08 | 1.1200e+10 | CON | 1.309803e+13 |\n",
       "| 19J | 7.4652e+10 | 1e+08 | 8.53e+09 | 6.0e+08 | 381990000000 | 4.30e+09 | 5.0834e+11 | 4.73250e+11 | 5.2e+10 | 8e+08 | ⋯ | 6.476e+09 | 2e+06 | 2.070e+09 | 2.0e+08 | 2e+08 | 328610000000 | 1.608e+10 | 1.6104e+10 | CON | 1.212852e+13 |\n",
       "\n"
      ],
      "text/plain": [
       "    AcCa       AcHexChE AEA      CarE    Cer          CerG3GNAc1 ChE       \n",
       "1A  6.2300e+10 3e+08    9.10e+09 7.0e+07 386842200000 8.56e+09   4.0020e+11\n",
       "5C  3.1270e+10 4e+07    6.07e+09 1.0e+08 228500000000 7.30e+09   4.1020e+11\n",
       "7D  3.6670e+10 5e+07    9.90e+09 1.0e+08 302010000000 6.30e+09   4.2890e+11\n",
       "9E  5.5391e+10 1e+08    7.70e+09 3.6e+08 468780000000 6.69e+09   5.0900e+11\n",
       "13G 4.6470e+10 8e+07    6.41e+09 2.5e+08 372950000000 4.40e+09   5.0240e+11\n",
       "19J 7.4652e+10 1e+08    8.53e+09 6.0e+08 381990000000 4.30e+09   5.0834e+11\n",
       "    CL          Co      cPA   ⋯ SPH       SPHP  SQDG      ST      StE  \n",
       "1A  3.52151e+11 1.2e+10 2e+08 ⋯ 8.100e+09 0e+00 4.401e+09 1.0e+08 5e+08\n",
       "5C  5.36492e+11 5.7e+10 2e+08 ⋯ 5.080e+09 7e+06 8.740e+08 2.4e+08 2e+08\n",
       "7D  5.38716e+11 6.9e+10 2e+08 ⋯ 8.300e+09 0e+00 1.730e+09 6.0e+08 1e+08\n",
       "9E  5.44110e+11 6.8e+10 5e+08 ⋯ 6.720e+09 9e+07 2.170e+09 4.0e+08 2e+08\n",
       "13G 5.61390e+11 7.6e+10 1e+08 ⋯ 5.150e+09 0e+00 1.267e+09 2.0e+08 5e+08\n",
       "19J 4.73250e+11 5.2e+10 8e+08 ⋯ 6.476e+09 2e+06 2.070e+09 2.0e+08 2e+08\n",
       "    TG           WE        ZyE        genotype total       \n",
       "1A   87894000000 5.650e+10 4.4900e+10 CON      1.250676e+13\n",
       "5C  682171000000 1.200e+08 1.3900e+10 CON      1.211328e+13\n",
       "7D  411700600000 1.615e+10 1.2820e+10 CON      1.222214e+13\n",
       "9E  314180000000 1.540e+10 1.2110e+10 CON      1.285725e+13\n",
       "13G 519490000000 8.000e+08 1.1200e+10 CON      1.309803e+13\n",
       "19J 328610000000 1.608e+10 1.6104e+10 CON      1.212852e+13"
      ]
     },
     "metadata": {},
     "output_type": "display_data"
    }
   ],
   "source": [
    "head(df)"
   ]
  },
  {
   "cell_type": "code",
   "execution_count": 313,
   "id": "197494f3-050b-4a71-a392-960b9b0e955a",
   "metadata": {},
   "outputs": [
    {
     "data": {
      "text/html": [
       "<strong>png:</strong> 2"
      ],
      "text/latex": [
       "\\textbf{png:} 2"
      ],
      "text/markdown": [
       "**png:** 2"
      ],
      "text/plain": [
       "png \n",
       "  2 "
      ]
     },
     "metadata": {},
     "output_type": "display_data"
    }
   ],
   "source": [
    "# plot total TAG abundance by genotype\n",
    "\n",
    "options(repr.plot.width = 3, repr.plot.height = 3)\n",
    "\n",
    "pdf('../pdf_figures/tg_abundance_PM.pdf', width = 3, height = 3)\n",
    "\n",
    "ggplot(df, aes(x = genotype, y = TG)) +\n",
    "  geom_boxplot() +\n",
    "  labs(x = \"Genotype\", y = \"total TG abundance\", title = \"TAGs\") +\n",
    "  theme_minimal() +   geom_signif(comparisons = list(c(\"CON\", \"LOF\")), textsize = 5, test = \"t.test\", map_signif_level = F) \n",
    "\n",
    "dev.off()"
   ]
  },
  {
   "cell_type": "code",
   "execution_count": 314,
   "id": "b71cd8e8-68cb-4703-ac4f-10ae4a32c099",
   "metadata": {},
   "outputs": [
    {
     "data": {
      "text/html": [
       "<strong>png:</strong> 2"
      ],
      "text/latex": [
       "\\textbf{png:} 2"
      ],
      "text/markdown": [
       "**png:** 2"
      ],
      "text/plain": [
       "png \n",
       "  2 "
      ]
     },
     "metadata": {},
     "output_type": "display_data"
    }
   ],
   "source": [
    "# plot the TAG to PC ratio by genotype\n",
    "\n",
    "options(repr.plot.width = 3, repr.plot.height = 3)\n",
    "\n",
    "pdf('../pdf_figures/tg_pc_ratio_pm.pdf', width = 3, height = 3)\n",
    "\n",
    "ggplot(df, aes(x = genotype, y = PC/TG)) +\n",
    "  geom_boxplot() +\n",
    "  labs(x = \"Genotype\", y = \"PC:TAG ratio\", title = \"PC:TAG\") +\n",
    "  theme_minimal() +   geom_signif(comparisons = list(c(\"CON\", \"LOF\")), textsize = 5, test = \"t.test\", map_signif_level = F) \n",
    "\n",
    "dev.off()"
   ]
  },
  {
   "cell_type": "code",
   "execution_count": 189,
   "id": "039bf49d-0504-4354-a4cd-1fdaacfe06ff",
   "metadata": {},
   "outputs": [],
   "source": [
    "# load the iN lipidomics data\n",
    "data = readRDS('../../ABCA7lof//processed_data/for_plotting/lipidomics.rds')\n",
    "d = data$ngn2_all\n",
    "cts = assays(d)$counts\n",
    "class = rowData(d)$lipid.class\n",
    "cts$class = class\n",
    "\n",
    "# sum by lipid class\n",
    "result <- aggregate(. ~ class, data = cts[cts$class %in% unique(class), ], sum)\n",
    "rownames(result) = result$class\n",
    "result$class = NULL\n",
    "df =  as.data.frame(t(result))\n",
    "total = rowSums(df)\n",
    "df = as.data.frame(cbind(df, colData(d)[,c('Genotype', 'treatment', 'Cell counts')], total))\n",
    "\n",
    "df2 = df[df$treatment!='Choline',]\n",
    "df2$Genotype = factor(df2$Genotype, levels = c('Control', 'ABCA7 LoF'))"
   ]
  },
  {
   "cell_type": "code",
   "execution_count": 178,
   "id": "2c63503b-be75-4908-8d87-b52f7ca9ee9d",
   "metadata": {},
   "outputs": [
    {
     "data": {
      "text/html": [
       "<table class=\"dataframe\">\n",
       "<caption>A data.frame: 6 × 31</caption>\n",
       "<thead>\n",
       "\t<tr><th></th><th scope=col>Cer</th><th scope=col>ChE</th><th scope=col>CL</th><th scope=col>Co</th><th scope=col>DG</th><th scope=col>DGDG</th><th scope=col>DLCL</th><th scope=col>FA</th><th scope=col>Hex1Cer</th><th scope=col>Hex2Cer</th><th scope=col>⋯</th><th scope=col>PMe</th><th scope=col>PS</th><th scope=col>SM</th><th scope=col>SPH</th><th scope=col>SQDG</th><th scope=col>ST</th><th scope=col>StE</th><th scope=col>TG</th><th scope=col>WE</th><th scope=col>ZyE</th></tr>\n",
       "\t<tr><th></th><th scope=col>&lt;dbl&gt;</th><th scope=col>&lt;dbl&gt;</th><th scope=col>&lt;dbl&gt;</th><th scope=col>&lt;dbl&gt;</th><th scope=col>&lt;dbl&gt;</th><th scope=col>&lt;dbl&gt;</th><th scope=col>&lt;dbl&gt;</th><th scope=col>&lt;dbl&gt;</th><th scope=col>&lt;dbl&gt;</th><th scope=col>&lt;dbl&gt;</th><th scope=col>⋯</th><th scope=col>&lt;dbl&gt;</th><th scope=col>&lt;dbl&gt;</th><th scope=col>&lt;dbl&gt;</th><th scope=col>&lt;dbl&gt;</th><th scope=col>&lt;dbl&gt;</th><th scope=col>&lt;dbl&gt;</th><th scope=col>&lt;dbl&gt;</th><th scope=col>&lt;dbl&gt;</th><th scope=col>&lt;dbl&gt;</th><th scope=col>&lt;dbl&gt;</th></tr>\n",
       "</thead>\n",
       "<tbody>\n",
       "\t<tr><th scope=row>s1.1</th><td>3702638933</td><td> 591029131</td><td>1768772991</td><td>        0</td><td> 943418112</td><td>16752314</td><td>     0.0</td><td>      0</td><td> 465514498</td><td>       0</td><td>⋯</td><td> 68521847</td><td>2257890047</td><td>105442502</td><td> 37252496</td><td>30122884</td><td>0</td><td> 46419304</td><td> 16655283239</td><td> 23085734</td><td> 70486177</td></tr>\n",
       "\t<tr><th scope=row>s1.2</th><td>5407041856</td><td>1146440499</td><td>3618691385</td><td>        0</td><td>1816871876</td><td>20411920</td><td>     0.0</td><td>      0</td><td> 907496987</td><td> 3641978</td><td>⋯</td><td>111839334</td><td>4179755007</td><td>331133586</td><td> 54559431</td><td>35363193</td><td>0</td><td>112450485</td><td> 34530945724</td><td>  5159899</td><td>263034345</td></tr>\n",
       "\t<tr><th scope=row>s1.3</th><td>5533459217</td><td>1076172373</td><td> 979251047</td><td>        0</td><td>1539347547</td><td>14489368</td><td>956677.3</td><td>      0</td><td> 481353783</td><td> 2756334</td><td>⋯</td><td>112198406</td><td>4108844756</td><td>393493211</td><td>397284933</td><td>22465223</td><td>0</td><td> 78252001</td><td> 28848806557</td><td> 88454166</td><td>159853362</td></tr>\n",
       "\t<tr><th scope=row>s2.1</th><td>6121670048</td><td>1697736106</td><td>6891035239</td><td>        0</td><td>3131755006</td><td>19088219</td><td>     0.0</td><td>      0</td><td>1369048889</td><td>12670596</td><td>⋯</td><td>125946553</td><td>2798922053</td><td>362526642</td><td>119982125</td><td>30670514</td><td>0</td><td>340725199</td><td> 99772307353</td><td> 41171296</td><td>530828893</td></tr>\n",
       "\t<tr><th scope=row>s2.2</th><td>5973510801</td><td>1598589490</td><td>7280455831</td><td>        0</td><td>3898772470</td><td>22605288</td><td>     0.0</td><td>2494466</td><td>1665561236</td><td>13809475</td><td>⋯</td><td>113659604</td><td>2758784040</td><td>450941100</td><td>152351972</td><td>36620029</td><td>0</td><td>454292265</td><td>104964544732</td><td> 82532401</td><td>850765398</td></tr>\n",
       "\t<tr><th scope=row>s2.3</th><td>7921621319</td><td>2047895987</td><td>4278658267</td><td>107376815</td><td>4348523042</td><td>17314463</td><td>     0.0</td><td>      0</td><td>1738699455</td><td>19088814</td><td>⋯</td><td>153484887</td><td>4873474286</td><td>771882467</td><td>243846349</td><td>27567211</td><td>0</td><td>558088995</td><td>118920411253</td><td>127907335</td><td>873008505</td></tr>\n",
       "</tbody>\n",
       "</table>\n"
      ],
      "text/latex": [
       "A data.frame: 6 × 31\n",
       "\\begin{tabular}{r|lllllllllllllllllllll}\n",
       "  & Cer & ChE & CL & Co & DG & DGDG & DLCL & FA & Hex1Cer & Hex2Cer & ⋯ & PMe & PS & SM & SPH & SQDG & ST & StE & TG & WE & ZyE\\\\\n",
       "  & <dbl> & <dbl> & <dbl> & <dbl> & <dbl> & <dbl> & <dbl> & <dbl> & <dbl> & <dbl> & ⋯ & <dbl> & <dbl> & <dbl> & <dbl> & <dbl> & <dbl> & <dbl> & <dbl> & <dbl> & <dbl>\\\\\n",
       "\\hline\n",
       "\ts1.1 & 3702638933 &  591029131 & 1768772991 &         0 &  943418112 & 16752314 &      0.0 &       0 &  465514498 &        0 & ⋯ &  68521847 & 2257890047 & 105442502 &  37252496 & 30122884 & 0 &  46419304 &  16655283239 &  23085734 &  70486177\\\\\n",
       "\ts1.2 & 5407041856 & 1146440499 & 3618691385 &         0 & 1816871876 & 20411920 &      0.0 &       0 &  907496987 &  3641978 & ⋯ & 111839334 & 4179755007 & 331133586 &  54559431 & 35363193 & 0 & 112450485 &  34530945724 &   5159899 & 263034345\\\\\n",
       "\ts1.3 & 5533459217 & 1076172373 &  979251047 &         0 & 1539347547 & 14489368 & 956677.3 &       0 &  481353783 &  2756334 & ⋯ & 112198406 & 4108844756 & 393493211 & 397284933 & 22465223 & 0 &  78252001 &  28848806557 &  88454166 & 159853362\\\\\n",
       "\ts2.1 & 6121670048 & 1697736106 & 6891035239 &         0 & 3131755006 & 19088219 &      0.0 &       0 & 1369048889 & 12670596 & ⋯ & 125946553 & 2798922053 & 362526642 & 119982125 & 30670514 & 0 & 340725199 &  99772307353 &  41171296 & 530828893\\\\\n",
       "\ts2.2 & 5973510801 & 1598589490 & 7280455831 &         0 & 3898772470 & 22605288 &      0.0 & 2494466 & 1665561236 & 13809475 & ⋯ & 113659604 & 2758784040 & 450941100 & 152351972 & 36620029 & 0 & 454292265 & 104964544732 &  82532401 & 850765398\\\\\n",
       "\ts2.3 & 7921621319 & 2047895987 & 4278658267 & 107376815 & 4348523042 & 17314463 &      0.0 &       0 & 1738699455 & 19088814 & ⋯ & 153484887 & 4873474286 & 771882467 & 243846349 & 27567211 & 0 & 558088995 & 118920411253 & 127907335 & 873008505\\\\\n",
       "\\end{tabular}\n"
      ],
      "text/markdown": [
       "\n",
       "A data.frame: 6 × 31\n",
       "\n",
       "| <!--/--> | Cer &lt;dbl&gt; | ChE &lt;dbl&gt; | CL &lt;dbl&gt; | Co &lt;dbl&gt; | DG &lt;dbl&gt; | DGDG &lt;dbl&gt; | DLCL &lt;dbl&gt; | FA &lt;dbl&gt; | Hex1Cer &lt;dbl&gt; | Hex2Cer &lt;dbl&gt; | ⋯ ⋯ | PMe &lt;dbl&gt; | PS &lt;dbl&gt; | SM &lt;dbl&gt; | SPH &lt;dbl&gt; | SQDG &lt;dbl&gt; | ST &lt;dbl&gt; | StE &lt;dbl&gt; | TG &lt;dbl&gt; | WE &lt;dbl&gt; | ZyE &lt;dbl&gt; |\n",
       "|---|---|---|---|---|---|---|---|---|---|---|---|---|---|---|---|---|---|---|---|---|---|\n",
       "| s1.1 | 3702638933 |  591029131 | 1768772991 |         0 |  943418112 | 16752314 |      0.0 |       0 |  465514498 |        0 | ⋯ |  68521847 | 2257890047 | 105442502 |  37252496 | 30122884 | 0 |  46419304 |  16655283239 |  23085734 |  70486177 |\n",
       "| s1.2 | 5407041856 | 1146440499 | 3618691385 |         0 | 1816871876 | 20411920 |      0.0 |       0 |  907496987 |  3641978 | ⋯ | 111839334 | 4179755007 | 331133586 |  54559431 | 35363193 | 0 | 112450485 |  34530945724 |   5159899 | 263034345 |\n",
       "| s1.3 | 5533459217 | 1076172373 |  979251047 |         0 | 1539347547 | 14489368 | 956677.3 |       0 |  481353783 |  2756334 | ⋯ | 112198406 | 4108844756 | 393493211 | 397284933 | 22465223 | 0 |  78252001 |  28848806557 |  88454166 | 159853362 |\n",
       "| s2.1 | 6121670048 | 1697736106 | 6891035239 |         0 | 3131755006 | 19088219 |      0.0 |       0 | 1369048889 | 12670596 | ⋯ | 125946553 | 2798922053 | 362526642 | 119982125 | 30670514 | 0 | 340725199 |  99772307353 |  41171296 | 530828893 |\n",
       "| s2.2 | 5973510801 | 1598589490 | 7280455831 |         0 | 3898772470 | 22605288 |      0.0 | 2494466 | 1665561236 | 13809475 | ⋯ | 113659604 | 2758784040 | 450941100 | 152351972 | 36620029 | 0 | 454292265 | 104964544732 |  82532401 | 850765398 |\n",
       "| s2.3 | 7921621319 | 2047895987 | 4278658267 | 107376815 | 4348523042 | 17314463 |      0.0 |       0 | 1738699455 | 19088814 | ⋯ | 153484887 | 4873474286 | 771882467 | 243846349 | 27567211 | 0 | 558088995 | 118920411253 | 127907335 | 873008505 |\n",
       "\n"
      ],
      "text/plain": [
       "     Cer        ChE        CL         Co        DG         DGDG     DLCL    \n",
       "s1.1 3702638933  591029131 1768772991         0  943418112 16752314      0.0\n",
       "s1.2 5407041856 1146440499 3618691385         0 1816871876 20411920      0.0\n",
       "s1.3 5533459217 1076172373  979251047         0 1539347547 14489368 956677.3\n",
       "s2.1 6121670048 1697736106 6891035239         0 3131755006 19088219      0.0\n",
       "s2.2 5973510801 1598589490 7280455831         0 3898772470 22605288      0.0\n",
       "s2.3 7921621319 2047895987 4278658267 107376815 4348523042 17314463      0.0\n",
       "     FA      Hex1Cer    Hex2Cer  ⋯ PMe       PS         SM        SPH      \n",
       "s1.1       0  465514498        0 ⋯  68521847 2257890047 105442502  37252496\n",
       "s1.2       0  907496987  3641978 ⋯ 111839334 4179755007 331133586  54559431\n",
       "s1.3       0  481353783  2756334 ⋯ 112198406 4108844756 393493211 397284933\n",
       "s2.1       0 1369048889 12670596 ⋯ 125946553 2798922053 362526642 119982125\n",
       "s2.2 2494466 1665561236 13809475 ⋯ 113659604 2758784040 450941100 152351972\n",
       "s2.3       0 1738699455 19088814 ⋯ 153484887 4873474286 771882467 243846349\n",
       "     SQDG     ST StE       TG           WE        ZyE      \n",
       "s1.1 30122884 0   46419304  16655283239  23085734  70486177\n",
       "s1.2 35363193 0  112450485  34530945724   5159899 263034345\n",
       "s1.3 22465223 0   78252001  28848806557  88454166 159853362\n",
       "s2.1 30670514 0  340725199  99772307353  41171296 530828893\n",
       "s2.2 36620029 0  454292265 104964544732  82532401 850765398\n",
       "s2.3 27567211 0  558088995 118920411253 127907335 873008505"
      ]
     },
     "metadata": {},
     "output_type": "display_data"
    }
   ],
   "source": [
    "head(df)"
   ]
  },
  {
   "cell_type": "code",
   "execution_count": 287,
   "id": "f1ac1a0c-7dda-43cc-b392-b873e1b51400",
   "metadata": {},
   "outputs": [
    {
     "data": {
      "text/html": [
       "<strong>png:</strong> 2"
      ],
      "text/latex": [
       "\\textbf{png:} 2"
      ],
      "text/markdown": [
       "**png:** 2"
      ],
      "text/plain": [
       "png \n",
       "  2 "
      ]
     },
     "metadata": {},
     "output_type": "display_data"
    }
   ],
   "source": [
    "# plot TAG abundance normalized to N cells\n",
    "options(repr.plot.width = 3, repr.plot.height = 3)\n",
    "\n",
    "pdf('../pdf_figures/tg_abundance.pdf', width = 3, height = 3)\n",
    "\n",
    "ggplot(df2, aes(x = Genotype, y = TG/Cell.counts)) +\n",
    "  geom_boxplot() +\n",
    "  labs(x = \"Genotype\", y = \"total TG abundance / N cells\", title = \"TAGs\") +\n",
    "  theme_minimal() +   geom_signif(comparisons = list(c(\"ABCA7 LoF\", \"Control\")), textsize = 5, test = \"t.test\", map_signif_level = F) \n",
    "\n",
    "dev.off()"
   ]
  },
  {
   "cell_type": "code",
   "execution_count": 288,
   "id": "f212ae7f-33f3-4079-bbb9-67c5456f63f0",
   "metadata": {},
   "outputs": [
    {
     "data": {
      "text/html": [
       "<strong>png:</strong> 2"
      ],
      "text/latex": [
       "\\textbf{png:} 2"
      ],
      "text/markdown": [
       "**png:** 2"
      ],
      "text/plain": [
       "png \n",
       "  2 "
      ]
     },
     "metadata": {},
     "output_type": "display_data"
    }
   ],
   "source": [
    "# plot the PC to TAG ratio\n",
    "options(repr.plot.width = 3, repr.plot.height = 3)\n",
    "\n",
    "pdf('../pdf_figures/pc_tg_ratio.pdf', width = 3, height = 3)\n",
    "\n",
    "ggplot(df2, aes(x = Genotype, y = (PC)/(TG))) +\n",
    "  geom_boxplot() +\n",
    "  labs(x = \"Genotype\", y = \"PC:TAG ratio\", title = \"PC:TAGs\") +\n",
    "  theme_minimal() +   geom_signif(comparisons = list(c(\"ABCA7 LoF\", \"Control\")), textsize = 5, test = \"t.test\", map_signif_level = F) \n",
    "dev.off()"
   ]
  },
  {
   "cell_type": "code",
   "execution_count": 279,
   "id": "d41c871d-c505-4dfd-9aa5-c517e93f3800",
   "metadata": {},
   "outputs": [
    {
     "data": {
      "image/png": "[encoded data removed]",
      "text/plain": [
       "plot without title"
      ]
     },
     "metadata": {},
     "output_type": "display_data"
    }
   ],
   "source": [
    "# Plot TAG abundance by cell count for choline vs vehicle treatment\n",
    "\n",
    "df2 = df[df$treatment!='N/A',]\n",
    "df2 = df2[df2$Genotype!='Control',]\n",
    "df2$Genotype = factor(df2$Genotype, levels = c('Control', 'ABCA7 LoF'))\n",
    "\n",
    "options(repr.plot.width = 1.5, repr.plot.height = 3)\n",
    "\n",
    "ggplot(df2, aes(x = treatment, y = TG/Cell.counts)) +\n",
    "  geom_boxplot() +\n",
    "  labs(x = \"Genotype\", y = \"total TG abundance / N cells\", title = \"TAGs\") +\n",
    "  theme_minimal() +   geom_signif(comparisons = list(c(\"Choline\", \"H2O\")), textsize = 5, test = \"t.test\", map_signif_level = F) \n"
   ]
  },
  {
   "cell_type": "code",
   "execution_count": 281,
   "id": "135eb9c2-e05c-43f5-978e-fd2fa1d4f7af",
   "metadata": {},
   "outputs": [
    {
     "data": {
      "image/png": "[encoded data removed]",
      "text/plain": [
       "plot without title"
      ]
     },
     "metadata": {},
     "output_type": "display_data"
    }
   ],
   "source": [
    "# Plot PC abundance by cell count for choline vs vehicle treatment\n",
    "\n",
    "options(repr.plot.width = 1.5, repr.plot.height = 3)\n",
    "\n",
    "ggplot(df2, aes(x = treatment, y = PC/Cell.counts)) +\n",
    "  geom_boxplot() +\n",
    "  labs(x = \"Genotype\", y = \"total PC abundance / N cells\", title = \"TAGs\") +\n",
    "  theme_minimal() +   geom_signif(comparisons = list(c(\"Choline\", \"H2O\")), textsize = 5, test = \"t.test\", map_signif_level = F) \n"
   ]
  },
  {
   "cell_type": "code",
   "execution_count": 257,
   "id": "4bb4f083-1ac6-4fb4-842e-1c4ec8a06fc3",
   "metadata": {},
   "outputs": [
    {
     "data": {
      "image/png": "[encoded data removed]",
      "text/plain": [
       "plot without title"
      ]
     },
     "metadata": {},
     "output_type": "display_data"
    }
   ],
   "source": [
    "# Create a boxplot\n",
    "options(repr.plot.width = 3, repr.plot.height = 3)\n",
    "\n",
    "ggplot(df2, aes(x = treatment, y = TG/Cell.counts)) +\n",
    "  geom_boxplot() +\n",
    "  labs(x = \"Genotype\", y = \"total TG abundance / N cells\", title = \"TAGs\") +\n",
    "  theme_minimal() +   geom_signif(comparisons = list(c(\"Choline\", \"H2O\")), textsize = 5, test = \"t.test\", map_signif_level = F) \n"
   ]
  }
 ],
 "metadata": {
  "kernelspec": {
   "display_name": "R [conda env:.conda-r-env]",
   "language": "R",
   "name": "conda-env-.conda-r-env-r"
  },
  "language_info": {
   "codemirror_mode": "r",
   "file_extension": ".r",
   "mimetype": "text/x-r-source",
   "name": "R",
   "pygments_lexer": "r",
   "version": "3.6.1"
  }
 },
 "nbformat": 4,
 "nbformat_minor": 5
}

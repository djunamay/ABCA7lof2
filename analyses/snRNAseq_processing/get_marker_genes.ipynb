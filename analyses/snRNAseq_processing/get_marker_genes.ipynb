{
 "cells": [
  {
   "cell_type": "markdown",
   "id": "29420167-187f-4ba1-a32c-8c08c74a3cb6",
   "metadata": {},
   "source": [
    "<div style=\"border: 2px solid red; padding: 10px; border-radius: 5px;\">\n",
    "<strong>Notebook description:</strong>\n",
    "    \n",
    "This notebook extracts marker genes for celltype annotation.\n",
    "\n",
    "<strong>Input Data:</strong>\n",
    "\n",
    "`RefCellTypeMarkers.adultBrain.rds`\n",
    "Reference cell type marker genes were obtained from PsychENCODE, reported in Wang, D. et al. Comprehensive functional genomic resource and integrative model for the human brain. Science 362, (2018)\n",
    "\n",
    "[OSF: RefCellTypeMarkers.adultBrain.rds](https://osf.io/9hdrq)\n",
    "\n",
    "<strong>Last run by:</strong>\n",
    "\n",
    "DVM; 2025-02-13\n",
    "\n",
    "</div>\n",
    "\n"
   ]
  },
  {
   "cell_type": "code",
   "execution_count": 5,
   "id": "19c98e49",
   "metadata": {
    "vscode": {
     "languageId": "r"
    }
   },
   "outputs": [
    {
     "name": "stdout",
     "output_type": "stream",
     "text": [
      "R version 4.4.2 (2024-10-31)\n",
      "Platform: aarch64-apple-darwin20.0.0\n",
      "Running under: macOS Sequoia 15.1\n",
      "\n",
      "Matrix products: default\n",
      "BLAS/LAPACK: /opt/homebrew/Caskroom/miniconda/base/envs/r_env/lib/libopenblas.0.dylib;  LAPACK version 3.12.0\n",
      "\n",
      "locale:\n",
      "[1] C\n",
      "\n",
      "time zone: America/New_York\n",
      "tzcode source: system (macOS)\n",
      "\n",
      "attached base packages:\n",
      "[1] stats     graphics  grDevices utils     datasets  methods   base     \n",
      "\n",
      "loaded via a namespace (and not attached):\n",
      " [1] digest_0.6.37     IRdisplay_1.1     base64enc_0.1-3   fastmap_1.2.0    \n",
      " [5] glue_1.8.0        htmltools_0.5.8.1 repr_1.1.7        lifecycle_1.0.4  \n",
      " [9] cli_3.6.4         vctrs_0.6.5       pbdZMQ_0.3-13     compiler_4.4.2   \n",
      "[13] tools_4.4.2       evaluate_1.0.3    pillar_1.10.1     rlang_1.1.5      \n",
      "[17] jsonlite_1.8.9    crayon_1.5.3      IRkernel_1.3.2    uuid_1.2-1       \n"
     ]
    }
   ],
   "source": [
    "# Print detailed session information, which includes all loaded package versions.\n",
    "print(sessionInfo())\n"
   ]
  },
  {
   "cell_type": "code",
   "execution_count": 1,
   "id": "da532106",
   "metadata": {
    "vscode": {
     "languageId": "r"
    }
   },
   "outputs": [
    {
     "name": "stdout",
     "output_type": "stream",
     "text": [
      "Download completed!\n"
     ]
    }
   ],
   "source": [
    "# check if output directory exists, if not create it, and download the necessary file in R\n",
    "\n",
    "path <- \"../../processed_data/\"\n",
    "\n",
    "if (!dir.exists(path)) {\n",
    "  dir.create(path, recursive = TRUE)\n",
    "}\n",
    "\n",
    "url <- 'https://storage.googleapis.com/abca7lof/scRNAseq/processed_data/RefCellTypeMarkers.adultBrain.rds'\n",
    "local_filename <- file.path(path, basename(url))\n",
    "\n",
    "download.file(url, destfile = local_filename, mode = \"wb\")\n",
    "cat(\"Download completed!\\n\")"
   ]
  },
  {
   "cell_type": "code",
   "execution_count": 4,
   "id": "88098053-c0b4-45bb-885c-acfda934c3e2",
   "metadata": {
    "vscode": {
     "languageId": "r"
    }
   },
   "outputs": [
    {
     "data": {
      "text/plain": [
       "\n",
       "     Ast       Ex       In      Mic      Oli      Opc Vascular \n",
       "     105       95       63       71      124       77       92 "
      ]
     },
     "metadata": {},
     "output_type": "display_data"
    }
   ],
   "source": [
    "df = readRDS(local_filename)\n",
    "df[['Vascular']] = union(df$Per, df$Endo)\n",
    "df$Per = NULL\n",
    "df$Endo = NULL\n",
    "\n",
    "out = list()\n",
    "for(i in names(df)){\n",
    "    d = as.data.frame(df[[i]])\n",
    "    colnames(d) = 'marker'\n",
    "    d$major_celltype = i\n",
    "    out[[i]] = d\n",
    "}\n",
    "\n",
    "all_data = do.call('rbind', out)\n",
    "\n",
    "# delete duplicate genes\n",
    "temp = table(all_data['marker'])\n",
    "temp = names(temp)[temp==1]\n",
    "temp = temp[2:length(temp)]\n",
    "all_data = all_data[all_data$marker%in%temp,]\n",
    "\n",
    "write.csv(all_data, file = file.path(path, 'brain_marker_genes.csv'))\n",
    "\n",
    "table(all_data$major_celltype)"
   ]
  }
 ],
 "metadata": {
  "kernelspec": {
   "display_name": "R",
   "language": "R",
   "name": "ir"
  },
  "language_info": {
   "codemirror_mode": "r",
   "file_extension": ".r",
   "mimetype": "text/x-r-source",
   "name": "R",
   "pygments_lexer": "r",
   "version": "4.4.2"
  }
 },
 "nbformat": 4,
 "nbformat_minor": 5
}

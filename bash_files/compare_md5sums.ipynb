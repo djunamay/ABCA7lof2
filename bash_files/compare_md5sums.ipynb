{
 "cells": [
  {
   "cell_type": "markdown",
   "metadata": {},
   "source": [
    "### MD5SUMS for 10x-4819F L1 and l2"
   ]
  },
  {
   "cell_type": "code",
   "execution_count": 4,
   "metadata": {},
   "outputs": [],
   "source": [
    "df1 = read.table('./md5sum_ABCA7_lof_fastqs_10x-4819F.txt') # MD5SUMS computed on the picower001 server\n",
    "df2 = read.table('./md5sum_ABCA7-lof_BMC_10x-4819F.txt') # MD5SUMS computed on BMC server"
   ]
  },
  {
   "cell_type": "code",
   "execution_count": 37,
   "metadata": {},
   "outputs": [],
   "source": [
    "rownames(df1) = unlist(lapply(df1$V2, function(x) unlist(strsplit(as.character(x),'/'))[9]))\n",
    "rownames(df2) = unlist(lapply(df2$V2, function(x) unlist(strsplit(as.character(x),'/'))[11]))"
   ]
  },
  {
   "cell_type": "code",
   "execution_count": 56,
   "metadata": {},
   "outputs": [],
   "source": [
    "# don't have an md5sum for this file on the BMC server --> not sure why that is the case, maybe I skipped that one because I was entering the passcode manually on the BMC\n",
    "d = df1[!rownames(df1)%in%rownames(df2),]"
   ]
  },
  {
   "cell_type": "code",
   "execution_count": 59,
   "metadata": {},
   "outputs": [
    {
     "data": {
      "text/html": [
       "TRUE"
      ],
      "text/latex": [
       "TRUE"
      ],
      "text/markdown": [
       "TRUE"
      ],
      "text/plain": [
       "[1] TRUE"
      ]
     },
     "metadata": {},
     "output_type": "display_data"
    }
   ],
   "source": [
    "# ran this on the BMC server to get the missing md5sum\n",
    "#dir1=\"/net/bmc-pub9/data/bmc/public/Tsai/201223Tsa/10x-4819F/10x-fastqs-L2\"\n",
    "#md5sum $dir1/D20-7447_S16_L002_I1_001.fastq.gz\n",
    "\n",
    "#>> 1f2c2b5c644c5ab080582e1782ae894d  /net/bmc-pub9/data/bmc/public/Tsai/201223Tsa/10x-4819F/10x-fastqs-L2/D20-7447_S16_L002_I1_001.fastq.gz\n",
    "missing = '1f2c2b5c644c5ab080582e1782ae894d'\n",
    "as.character(d$V1) == missing "
   ]
  },
  {
   "cell_type": "code",
   "execution_count": 55,
   "metadata": {},
   "outputs": [
    {
     "data": {
      "text/plain": [
       "\n",
       "TRUE \n",
       "  77 "
      ]
     },
     "metadata": {},
     "output_type": "display_data"
    }
   ],
   "source": [
    "# all the md5sums for 10x-4819 match!\n",
    "dd = merge(df1, df2, by = 0)\n",
    "table(as.character(dd$V1.x) == as.character(dd$V1.y))"
   ]
  },
  {
   "cell_type": "markdown",
   "metadata": {},
   "source": [
    "### MD5SUMS for 10x-4826F L1 and l2"
   ]
  },
  {
   "cell_type": "code",
   "execution_count": 2,
   "metadata": {},
   "outputs": [],
   "source": [
    "df1 = read.table('./md5sum_ABCA7_lof_fastqs_10x-4826F.txt') # MD5SUMS computed on the picower001 server\n",
    "df2 = read.table('./md5sum_ABCA7-lof_BMC_10x-4826F.txt') # MD5SUMS computed on BMC server"
   ]
  },
  {
   "cell_type": "code",
   "execution_count": 6,
   "metadata": {},
   "outputs": [],
   "source": [
    "rownames(df1) = unlist(lapply(df1$V2, function(x) unlist(strsplit(as.character(x),'/'))[9]))\n",
    "rownames(df2) = unlist(lapply(df2$V2, function(x) unlist(strsplit(as.character(x),'/'))[11]))"
   ]
  },
  {
   "cell_type": "code",
   "execution_count": 8,
   "metadata": {},
   "outputs": [
    {
     "data": {
      "text/html": [
       "<table class=\"dataframe\">\n",
       "<caption>A data.frame: 2 × 2</caption>\n",
       "<thead>\n",
       "\t<tr><th></th><th scope=col>V1</th><th scope=col>V2</th></tr>\n",
       "\t<tr><th></th><th scope=col>&lt;fct&gt;</th><th scope=col>&lt;fct&gt;</th></tr>\n",
       "</thead>\n",
       "<tbody>\n",
       "\t<tr><th scope=row>D20-7455_S23_L002_I1_001.fastq.gz</th><td>f26c5a17624254d58cc0c619c134e736</td><td>/nfs/picower001/lhtsailab/djuna/ABCA7_LOF_BMC_data/10x-4826F/10x-fastqs-L2/D20-7455_S23_L002_I1_001.fastq.gz</td></tr>\n",
       "\t<tr><th scope=row>D20-7455_S23_L002_R2_001.fastq.gz</th><td>06e80d450d24ad9c514cc37ad1571160</td><td>/nfs/picower001/lhtsailab/djuna/ABCA7_LOF_BMC_data/10x-4826F/10x-fastqs-L2/D20-7455_S23_L002_R2_001.fastq.gz</td></tr>\n",
       "</tbody>\n",
       "</table>\n"
      ],
      "text/latex": [
       "A data.frame: 2 × 2\n",
       "\\begin{tabular}{r|ll}\n",
       "  & V1 & V2\\\\\n",
       "  & <fct> & <fct>\\\\\n",
       "\\hline\n",
       "\tD20-7455\\_S23\\_L002\\_I1\\_001.fastq.gz & f26c5a17624254d58cc0c619c134e736 & /nfs/picower001/lhtsailab/djuna/ABCA7\\_LOF\\_BMC\\_data/10x-4826F/10x-fastqs-L2/D20-7455\\_S23\\_L002\\_I1\\_001.fastq.gz\\\\\n",
       "\tD20-7455\\_S23\\_L002\\_R2\\_001.fastq.gz & 06e80d450d24ad9c514cc37ad1571160 & /nfs/picower001/lhtsailab/djuna/ABCA7\\_LOF\\_BMC\\_data/10x-4826F/10x-fastqs-L2/D20-7455\\_S23\\_L002\\_R2\\_001.fastq.gz\\\\\n",
       "\\end{tabular}\n"
      ],
      "text/markdown": [
       "\n",
       "A data.frame: 2 × 2\n",
       "\n",
       "| <!--/--> | V1 &lt;fct&gt; | V2 &lt;fct&gt; |\n",
       "|---|---|---|\n",
       "| D20-7455_S23_L002_I1_001.fastq.gz | f26c5a17624254d58cc0c619c134e736 | /nfs/picower001/lhtsailab/djuna/ABCA7_LOF_BMC_data/10x-4826F/10x-fastqs-L2/D20-7455_S23_L002_I1_001.fastq.gz |\n",
       "| D20-7455_S23_L002_R2_001.fastq.gz | 06e80d450d24ad9c514cc37ad1571160 | /nfs/picower001/lhtsailab/djuna/ABCA7_LOF_BMC_data/10x-4826F/10x-fastqs-L2/D20-7455_S23_L002_R2_001.fastq.gz |\n",
       "\n"
      ],
      "text/plain": [
       "                                  V1                              \n",
       "D20-7455_S23_L002_I1_001.fastq.gz f26c5a17624254d58cc0c619c134e736\n",
       "D20-7455_S23_L002_R2_001.fastq.gz 06e80d450d24ad9c514cc37ad1571160\n",
       "                                  V2                                                                                                          \n",
       "D20-7455_S23_L002_I1_001.fastq.gz /nfs/picower001/lhtsailab/djuna/ABCA7_LOF_BMC_data/10x-4826F/10x-fastqs-L2/D20-7455_S23_L002_I1_001.fastq.gz\n",
       "D20-7455_S23_L002_R2_001.fastq.gz /nfs/picower001/lhtsailab/djuna/ABCA7_LOF_BMC_data/10x-4826F/10x-fastqs-L2/D20-7455_S23_L002_R2_001.fastq.gz"
      ]
     },
     "metadata": {},
     "output_type": "display_data"
    }
   ],
   "source": [
    "# there are two files for which do not have a BMC md5sum (probably clicked past that one, as was entering password manually)\n",
    "d = df1[!rownames(df1)%in%rownames(df2),]\n",
    "# re-check these files"
   ]
  },
  {
   "cell_type": "code",
   "execution_count": 9,
   "metadata": {},
   "outputs": [
    {
     "data": {
      "text/plain": [
       "\n",
       "TRUE \n",
       "  76 "
      ]
     },
     "metadata": {},
     "output_type": "display_data"
    }
   ],
   "source": [
    "# all the md5sums for 10x-4819 match!\n",
    "dd = merge(df1, df2, by = 0)\n",
    "table(as.character(dd$V1.x) == as.character(dd$V1.y))"
   ]
  }
 ],
 "metadata": {
  "kernelspec": {
   "display_name": "R [conda env:.conda-scmod_r]",
   "language": "R",
   "name": "conda-env-.conda-scmod_r-r"
  },
  "language_info": {
   "codemirror_mode": "r",
   "file_extension": ".r",
   "mimetype": "text/x-r-source",
   "name": "R",
   "pygments_lexer": "r",
   "version": "3.6.1"
  }
 },
 "nbformat": 4,
 "nbformat_minor": 4
}

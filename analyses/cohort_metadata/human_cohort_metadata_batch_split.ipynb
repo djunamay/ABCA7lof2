{
 "cells": [
  {
   "cell_type": "markdown",
   "id": "c4a0c683-5207-4af5-9bc7-dc94bdec4b86",
   "metadata": {},
   "source": [
    "<div style=\"border: 2px solid red; padding: 10px; border-radius: 5px;\">\n",
    "<strong>Notebook description:</strong>\n",
    "    \n",
    "This notebook plots metadata by LoF group.\n",
    "\n",
    "<strong>Input Data:</strong>\n",
    "\n",
    "`stats_input_data_0825.rds`\n",
    "\n",
    "<strong>Figures:</strong>\n",
    "\n",
    "`FS2`\n",
    "\n",
    "<strong>Last Run All:</strong>\n",
    "June 18, 2025\n",
    "\n",
    "\n"
   ]
  },
  {
   "cell_type": "code",
   "execution_count": 1,
   "id": "5a3893bd-e8ff-4798-8a75-b623c0f4fd9d",
   "metadata": {
    "collapsed": true,
    "jupyter": {
     "outputs_hidden": true
    },
    "tags": [],
    "vscode": {
     "languageId": "r"
    }
   },
   "outputs": [
    {
     "name": "stderr",
     "output_type": "stream",
     "text": [
      "Loading required package: SummarizedExperiment\n",
      "\n",
      "Loading required package: MatrixGenerics\n",
      "\n",
      "Loading required package: matrixStats\n",
      "\n",
      "\n",
      "Attaching package: ‘MatrixGenerics’\n",
      "\n",
      "\n",
      "The following objects are masked from ‘package:matrixStats’:\n",
      "\n",
      "    colAlls, colAnyNAs, colAnys, colAvgsPerRowSet, colCollapse,\n",
      "    colCounts, colCummaxs, colCummins, colCumprods, colCumsums,\n",
      "    colDiffs, colIQRDiffs, colIQRs, colLogSumExps, colMadDiffs,\n",
      "    colMads, colMaxs, colMeans2, colMedians, colMins, colOrderStats,\n",
      "    colProds, colQuantiles, colRanges, colRanks, colSdDiffs, colSds,\n",
      "    colSums2, colTabulates, colVarDiffs, colVars, colWeightedMads,\n",
      "    colWeightedMeans, colWeightedMedians, colWeightedSds,\n",
      "    colWeightedVars, rowAlls, rowAnyNAs, rowAnys, rowAvgsPerColSet,\n",
      "    rowCollapse, rowCounts, rowCummaxs, rowCummins, rowCumprods,\n",
      "    rowCumsums, rowDiffs, rowIQRDiffs, rowIQRs, rowLogSumExps,\n",
      "    rowMadDiffs, rowMads, rowMaxs, rowMeans2, rowMedians, rowMins,\n",
      "    rowOrderStats, rowProds, rowQuantiles, rowRanges, rowRanks,\n",
      "    rowSdDiffs, rowSds, rowSums2, rowTabulates, rowVarDiffs, rowVars,\n",
      "    rowWeightedMads, rowWeightedMeans, rowWeightedMedians,\n",
      "    rowWeightedSds, rowWeightedVars\n",
      "\n",
      "\n",
      "Loading required package: GenomicRanges\n",
      "\n",
      "Loading required package: stats4\n",
      "\n",
      "Loading required package: BiocGenerics\n",
      "\n",
      "\n",
      "Attaching package: ‘BiocGenerics’\n",
      "\n",
      "\n",
      "The following objects are masked from ‘package:stats’:\n",
      "\n",
      "    IQR, mad, sd, var, xtabs\n",
      "\n",
      "\n",
      "The following objects are masked from ‘package:base’:\n",
      "\n",
      "    Filter, Find, Map, Position, Reduce, anyDuplicated, aperm, append,\n",
      "    as.data.frame, basename, cbind, colnames, dirname, do.call,\n",
      "    duplicated, eval, evalq, get, grep, grepl, intersect, is.unsorted,\n",
      "    lapply, mapply, match, mget, order, paste, pmax, pmax.int, pmin,\n",
      "    pmin.int, rank, rbind, rownames, sapply, saveRDS, setdiff, table,\n",
      "    tapply, union, unique, unsplit, which.max, which.min\n",
      "\n",
      "\n",
      "Loading required package: S4Vectors\n",
      "\n",
      "\n",
      "Attaching package: ‘S4Vectors’\n",
      "\n",
      "\n",
      "The following object is masked from ‘package:utils’:\n",
      "\n",
      "    findMatches\n",
      "\n",
      "\n",
      "The following objects are masked from ‘package:base’:\n",
      "\n",
      "    I, expand.grid, unname\n",
      "\n",
      "\n",
      "Loading required package: IRanges\n",
      "\n",
      "Loading required package: GenomeInfoDb\n",
      "\n",
      "Loading required package: Biobase\n",
      "\n",
      "Welcome to Bioconductor\n",
      "\n",
      "    Vignettes contain introductory material; view with\n",
      "    'browseVignettes()'. To cite Bioconductor, see\n",
      "    'citation(\"Biobase\")', and for packages 'citation(\"pkgname\")'.\n",
      "\n",
      "\n",
      "\n",
      "Attaching package: ‘Biobase’\n",
      "\n",
      "\n",
      "The following object is masked from ‘package:MatrixGenerics’:\n",
      "\n",
      "    rowMedians\n",
      "\n",
      "\n",
      "The following objects are masked from ‘package:matrixStats’:\n",
      "\n",
      "    anyMissing, rowMedians\n",
      "\n",
      "\n",
      "\n",
      "Attaching package: ‘tidyr’\n",
      "\n",
      "\n",
      "The following object is masked from ‘package:S4Vectors’:\n",
      "\n",
      "    expand\n",
      "\n",
      "\n",
      "\n",
      "Attaching package: ‘reshape2’\n",
      "\n",
      "\n",
      "The following object is masked from ‘package:tidyr’:\n",
      "\n",
      "    smiths\n",
      "\n",
      "\n"
     ]
    }
   ],
   "source": [
    "\n",
    "source('../../ABCA7lof2/plotting.r')\n",
    "library(SingleCellExperiment)\n",
    "library(ggplot2)\n",
    "library(ggpubr)\n",
    "library(tidyr)\n",
    "library(patchwork)\n",
    "\n",
    "library(reshape2)"
   ]
  },
  {
   "cell_type": "code",
   "execution_count": 2,
   "id": "fae2059a",
   "metadata": {
    "vscode": {
     "languageId": "r"
    }
   },
   "outputs": [],
   "source": [
    "colors = readRDS('../../processed_data/Cell_group_colors.rds')\n",
    "cols = c('grey', 'red')\n",
    "names(cols) = c('Con', 'LoF')"
   ]
  },
  {
   "cell_type": "code",
   "execution_count": 3,
   "id": "d8122b2c",
   "metadata": {
    "vscode": {
     "languageId": "r"
    }
   },
   "outputs": [],
   "source": [
    "# metadata\n",
    "all_data = readRDS('../../processed_data/stats_input_data_0825.rds')\n",
    "\n",
    "# load the data\n",
    "features = c('amyloid', 'nft','age_death', 'pmi')\n",
    "\n",
    "# continuous variables by variant\n",
    "metadata = all_data$summary\n",
    "metadata$seq_batch = ifelse(metadata$seq_batch=='JBM', 'batch_1', 'batch_2')\n",
    "metadata$seq_batch = factor(metadata$seq_batch, levels = c('batch_1', 'batch_2'))\n",
    "metadata$LOF = ifelse(metadata$LOF==1, 'LoF', 'Con')\n",
    "cols_batch = c('blue', 'pink')\n",
    "names(cols_batch) = c('batch_1', 'batch_2')\n",
    "\n",
    "cols = c('grey', 'red')\n",
    "names(cols) = c('Con', 'LoF')\n",
    "\n",
    "plt00 = boxplot_w_stats(df = as.data.frame(metadata), x = 'seq_batch', y = features[1], palette = cols_batch, comparisons = list(c('batch_1', 'batch_2')), xlab = '', ylab = features[1], width = .5, alpha = .5)+ theme(legend.position=\"none\")\n",
    "plt01 = boxplot_w_stats(df = as.data.frame(metadata), x = 'seq_batch', y = features[2], palette = cols_batch, comparisons = list(c('batch_1', 'batch_2')), xlab = '', ylab = features[2], width = .5, alpha = .5)+ theme(legend.position=\"none\")\n",
    "plt02 = boxplot_w_stats(df = as.data.frame(metadata), x = 'seq_batch', y = features[3], palette = cols_batch, comparisons = list(c('batch_1', 'batch_2')), xlab = '', ylab = features[3], width = .5, alpha = .5)+ theme(legend.position=\"none\")\n",
    "plt03 = boxplot_w_stats(df = as.data.frame(metadata), x = 'seq_batch', y = features[4], palette = cols_batch, comparisons = list(c('batch_1', 'batch_2')), xlab = '', ylab = features[4], width = .5, alpha = .5)+ theme(legend.position=\"none\")\n",
    "#plt04 = boxplot_w_stats(df = as.data.frame(metadata), x = 'seq_batch', y = features[5], palette = cols_batch, comparisons = list(c('batch_1', 'batch_2')), xlab = '', ylab = features[5], width = .5, alpha = .5)+ theme(legend.position=\"none\")\n",
    "\n",
    "# categorical variables by genotype\n",
    "features = c('braaksc', 'ceradsc','msex','apoe_genotype', 'cogdx')\n",
    "plt10 = get_barplot(as.data.frame(metadata), 'seq_batch', features[1])\n",
    "plt11 = get_barplot(as.data.frame(metadata), 'seq_batch', features[2])\n",
    "plt12 = get_barplot(as.data.frame(metadata), 'seq_batch', features[3])\n",
    "plt13 = get_barplot(as.data.frame(metadata), 'seq_batch', features[4])\n",
    "plt14 = get_barplot(as.data.frame(metadata), 'seq_batch', features[5])\n"
   ]
  },
  {
   "cell_type": "code",
   "execution_count": 4,
   "id": "4b82e200",
   "metadata": {
    "vscode": {
     "languageId": "r"
    }
   },
   "outputs": [],
   "source": [
    "cont_plots = (plt00|plt01|plt02|plt03)#|plt04)\n",
    "disc_plots = (plt11|plt10|plt12|plt13|plt14)"
   ]
  },
  {
   "cell_type": "code",
   "execution_count": 5,
   "id": "0cb3d382",
   "metadata": {
    "vscode": {
     "languageId": "r"
    }
   },
   "outputs": [
    {
     "name": "stderr",
     "output_type": "stream",
     "text": [
      "Warning message in wilcox.test.default(c(0, 1.15125, 11.79375, 0.531, 0, 6.93833333333333, :\n",
      "“cannot compute exact p-value with ties”\n",
      "Warning message in wilcox.test.default(c(6, 5.25, 5.83333333333333, 7, 4.08333333333333, :\n",
      "“cannot compute exact p-value with ties”\n"
     ]
    }
   ],
   "source": [
    "ggsave(\"/Users/djuna/Documents/ABCA7lof2/editorial_paper/main_panels_svgs/fs2/batch_cont_var.pdf\", plot = cont_plots, width = 10, height = 3, units = \"in\")\n",
    "ggsave(\"/Users/djuna/Documents/ABCA7lof2/editorial_paper/main_panels_svgs/fs2/batch_disc_var.pdf\", plot = disc_plots, width = 10, height = 3, units = \"in\")\n",
    "\n"
   ]
  }
 ],
 "metadata": {
  "kernelspec": {
   "display_name": "R",
   "language": "R",
   "name": "ir"
  },
  "language_info": {
   "codemirror_mode": "r",
   "file_extension": ".r",
   "mimetype": "text/x-r-source",
   "name": "R",
   "pygments_lexer": "r",
   "version": "4.4.2"
  }
 },
 "nbformat": 4,
 "nbformat_minor": 5
}
